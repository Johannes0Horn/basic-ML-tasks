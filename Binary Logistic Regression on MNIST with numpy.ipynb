{
 "cells": [
  {
   "cell_type": "markdown",
   "id": "bc0fc5d5",
   "metadata": {},
   "source": [
    "# Binary Logistic Regression on MNIST with numpy"
   ]
  },
  {
   "cell_type": "code",
   "execution_count": 1,
   "id": "cdc2a4ff",
   "metadata": {},
   "outputs": [],
   "source": [
    "import matplotlib.pyplot as plt\n",
    "%matplotlib inline \n",
    "\n",
    "import numpy as np\n",
    "import tensorflow as tf\n",
    "np.set_printoptions(threshold=np.inf)"
   ]
  },
  {
   "cell_type": "markdown",
   "id": "c55b5cd5",
   "metadata": {},
   "source": [
    "# Data Preparation"
   ]
  },
  {
   "cell_type": "code",
   "execution_count": 2,
   "id": "77d4389b",
   "metadata": {},
   "outputs": [],
   "source": [
    "# import mnist dataset\n",
    "(x_train, y_train), (x_test, y_test) = tf.keras.datasets.mnist.load_data()"
   ]
  },
  {
   "cell_type": "code",
   "execution_count": 3,
   "id": "41a63945",
   "metadata": {},
   "outputs": [],
   "source": [
    "def filter_zeros_and_ones(images, labels):\n",
    "    logical_mask_0 = labels == 0\n",
    "    logical_mask_1 = labels == 1\n",
    "\n",
    "    images_zeros = images[logical_mask_0]\n",
    "    labels_zeros = labels[logical_mask_0]\n",
    "    images_ones = images[logical_mask_1]\n",
    "    labels_ones = labels[logical_mask_1]\n",
    "\n",
    "    X = np.concatenate((images_zeros, images_ones), axis=0)\n",
    "    y = np.concatenate((labels_zeros, labels_ones), axis=0)\n",
    "\n",
    "    # shuffle the data and corresponding labels in unison\n",
    "    def _shuffle_in_unison(a, b):\n",
    "        assert len(a) == len(b)\n",
    "        p = np.random.permutation(len(a))\n",
    "        return a[p], b[p]\n",
    "\n",
    "    return _shuffle_in_unison(X, y)"
   ]
  },
  {
   "cell_type": "code",
   "execution_count": 4,
   "id": "2a674c22",
   "metadata": {},
   "outputs": [
    {
     "name": "stdout",
     "output_type": "stream",
     "text": [
      "whole train Dataset shape:\n",
      "x_train: (60000, 28, 28)  y_train: (60000,)\n",
      "x_test: (10000, 28, 28)  y_test: (10000,)\n",
      "---\n",
      "Keeping only ones and zeros, reshaping:\n",
      "xshape:  (12665, 784)  yshape:  (12665, 1)\n",
      "X_test: (2115, 784)  y_test: (2115, 1)\n"
     ]
    }
   ],
   "source": [
    "print (\"whole train Dataset shape:\")\n",
    "print(\"x_train:\",x_train.shape, \" y_train:\", y_train.shape)\n",
    "print(\"x_test:\",x_test.shape, \" y_test:\", y_test.shape)\n",
    "print(\"---\")\n",
    "X_test, y_test = X, y = filter_zeros_and_ones(x_test, y_test)\n",
    "X, y = filter_zeros_and_ones(x_train, y_train)\n",
    "y = y[:,np.newaxis]\n",
    "y_test = y_test[:,np.newaxis]\n",
    "X = X.reshape(X.shape[0], X.shape[1] *X.shape[2])\n",
    "X_test = X_test.reshape(X_test.shape[0], X_test.shape[1] *X_test.shape[2])\n",
    "print (\"Keeping only ones and zeros, reshaping:\")\n",
    "print(\"xshape: \", X.shape, \" yshape: \", y.shape)\n",
    "print(\"X_test:\",X_test.shape, \" y_test:\", y_test.shape)\n",
    "\n"
   ]
  },
  {
   "cell_type": "code",
   "execution_count": 5,
   "id": "64f44d2b",
   "metadata": {},
   "outputs": [
    {
     "name": "stderr",
     "output_type": "stream",
     "text": [
      "C:\\Users\\johan\\anaconda3\\lib\\site-packages\\matplotlib\\text.py:1165: FutureWarning: elementwise comparison failed; returning scalar instead, but in the future will perform elementwise comparison\n",
      "  if s != self._text:\n"
     ]
    },
    {
     "data": {
      "image/png": "[encoded data removed]",
      "text/plain": [
       "<Figure size 432x288 with 1 Axes>"
      ]
     },
     "metadata": {
      "needs_background": "light"
     },
     "output_type": "display_data"
    }
   ],
   "source": [
    "#show an exmaple image and label\n",
    "plt.imshow(X[0].reshape(28,28)) \n",
    "plt.title(y[0])\n",
    "plt.show()"
   ]
  },
  {
   "cell_type": "code",
   "execution_count": 6,
   "id": "207a1d27",
   "metadata": {},
   "outputs": [
    {
     "name": "stdout",
     "output_type": "stream",
     "text": [
      "n_features:  784\n",
      "n_samples:  12665\n"
     ]
    }
   ],
   "source": [
    "# number of features n\n",
    "n_samples, n_features = X.shape\n",
    "print(\"n_features: \", n_features)\n",
    "print(\"n_samples: \", n_samples)"
   ]
  },
  {
   "cell_type": "markdown",
   "id": "a0c427cb",
   "metadata": {},
   "source": [
    "# Model definition"
   ]
  },
  {
   "cell_type": "code",
   "execution_count": 7,
   "id": "dbf6582d",
   "metadata": {},
   "outputs": [],
   "source": [
    "# define sigmoid nonlinearity\n",
    "def sigmoid(z):\n",
    "    return 1 / (1 + np.exp(-z))"
   ]
  },
  {
   "cell_type": "code",
   "execution_count": 8,
   "id": "a166ad98",
   "metadata": {},
   "outputs": [],
   "source": [
    "def predict(X, weights):\n",
    "    return sigmoid(np.dot(X, weights))"
   ]
  },
  {
   "cell_type": "code",
   "execution_count": 9,
   "id": "fb4b977d",
   "metadata": {},
   "outputs": [],
   "source": [
    "def get_loss(predictions, labels):\n",
    "    \n",
    "    epsilon = 1e-5 #add epsilon to prevent having -inf costs\n",
    "    observations = len(labels)\n",
    "\n",
    "    #Take the error when label=1\n",
    "    class1_cost = -labels*np.log(predictions + epsilon)\n",
    "\n",
    "    #Take the error when label=0\n",
    "    class2_cost = (1-labels)*np.log(1-predictions + epsilon)\n",
    "\n",
    "    #Take the sum of both costs\n",
    "    cost = class1_cost - class2_cost\n",
    "\n",
    "    #Take the average cost\n",
    "    cost = -cost.sum() / observations\n",
    "\n",
    "    return cost"
   ]
  },
  {
   "cell_type": "code",
   "execution_count": 10,
   "id": "5de30ec5",
   "metadata": {},
   "outputs": [],
   "source": [
    "def get_gradient(X, labels, predictions):\n",
    "    N = len(X)\n",
    "    gradient = np.dot(X.T,  predictions - labels)\n",
    "    gradient /= N\n",
    "    return gradient\n"
   ]
  },
  {
   "cell_type": "code",
   "execution_count": 11,
   "id": "457c6ff7",
   "metadata": {},
   "outputs": [
    {
     "name": "stdout",
     "output_type": "stream",
     "text": [
      "weights shape  (784, 1)\n"
     ]
    }
   ],
   "source": [
    "# we need to define our model parameters to be learned.\n",
    "mu, sigma = 0, 0.01  # mean and standard deviation\n",
    "weights = np.random.normal(mu, sigma, X.shape[1])\n",
    "weights = weights[:,np.newaxis]\n",
    "print(\"weights shape \", weights.shape)"
   ]
  },
  {
   "cell_type": "code",
   "execution_count": 12,
   "id": "d9cf5e61",
   "metadata": {},
   "outputs": [],
   "source": [
    "#Hyperparams\n",
    "\n",
    "learning_rate = 0.00001\n",
    "# number iterations for gradient descent (gdc)\n",
    "gdc_steps = 40"
   ]
  },
  {
   "cell_type": "markdown",
   "id": "8d28343f",
   "metadata": {},
   "source": [
    "# Training"
   ]
  },
  {
   "cell_type": "code",
   "execution_count": 13,
   "id": "ad10f471",
   "metadata": {},
   "outputs": [
    {
     "name": "stdout",
     "output_type": "stream",
     "text": [
      "Performing step 0 of gradient descent.\n",
      "Loss at step 0: 221.25696678011647\n",
      "Accuracy at step 0: 0.48914330833004344\n",
      "----\n",
      "Performing step 1 of gradient descent.\n",
      "Loss at step 1: 279.6557135722831\n",
      "Accuracy at step 1: 0.5604421634425583\n",
      "----\n",
      "Performing step 2 of gradient descent.\n",
      "Loss at step 2: 269.1740290621622\n",
      "Accuracy at step 2: 0.6355309909198579\n",
      "----\n",
      "Performing step 3 of gradient descent.\n",
      "Loss at step 3: 227.34579501053935\n",
      "Accuracy at step 3: 0.7070667193051717\n",
      "----\n",
      "Performing step 4 of gradient descent.\n",
      "Loss at step 4: 183.85013236597857\n",
      "Accuracy at step 4: 0.7627319384129491\n",
      "----\n",
      "Performing step 5 of gradient descent.\n",
      "Loss at step 5: 149.48488425605893\n",
      "Accuracy at step 5: 0.8070272404263719\n",
      "----\n",
      "Performing step 6 of gradient descent.\n",
      "Loss at step 6: 124.25663223005259\n",
      "Accuracy at step 6: 0.8388472167390446\n",
      "----\n",
      "Performing step 7 of gradient descent.\n",
      "Loss at step 7: 105.98593897013797\n",
      "Accuracy at step 7: 0.8619028819581523\n",
      "----\n",
      "Performing step 8 of gradient descent.\n",
      "Loss at step 8: 92.45120003488263\n",
      "Accuracy at step 8: 0.8798262929332807\n",
      "----\n",
      "Performing step 9 of gradient descent.\n",
      "Loss at step 9: 82.31301965381175\n",
      "Accuracy at step 9: 0.8938807737860245\n",
      "----\n",
      "Performing step 10 of gradient descent.\n",
      "Loss at step 10: 74.62080168533834\n",
      "Accuracy at step 10: 0.9049348598499802\n",
      "----\n",
      "Performing step 11 of gradient descent.\n",
      "Loss at step 11: 68.62312597522138\n",
      "Accuracy at step 11: 0.9137781287011449\n",
      "----\n",
      "Performing step 12 of gradient descent.\n",
      "Loss at step 12: 63.785440040839134\n",
      "Accuracy at step 12: 0.9208053691275168\n",
      "----\n",
      "Performing step 13 of gradient descent.\n",
      "Loss at step 13: 59.76578631730451\n",
      "Accuracy at step 13: 0.9274378207658902\n",
      "----\n",
      "Performing step 14 of gradient descent.\n",
      "Loss at step 14: 56.35326217421984\n",
      "Accuracy at step 14: 0.9330438215554678\n",
      "----\n",
      "Performing step 15 of gradient descent.\n",
      "Loss at step 15: 53.415620133072814\n",
      "Accuracy at step 15: 0.9377812870114489\n",
      "----\n",
      "Performing step 16 of gradient descent.\n",
      "Loss at step 16: 50.86241401176061\n",
      "Accuracy at step 16: 0.941729174891433\n",
      "----\n",
      "Performing step 17 of gradient descent.\n",
      "Loss at step 17: 48.624911576234425\n",
      "Accuracy at step 17: 0.9444926964074221\n",
      "----\n",
      "Performing step 18 of gradient descent.\n",
      "Loss at step 18: 46.64802259768345\n",
      "Accuracy at step 18: 0.9474930911962101\n",
      "----\n",
      "Performing step 19 of gradient descent.\n",
      "Loss at step 19: 44.887014636228564\n",
      "Accuracy at step 19: 0.9504145282273984\n",
      "----\n",
      "Performing step 20 of gradient descent.\n",
      "Loss at step 20: 43.30565382794461\n",
      "Accuracy at step 20: 0.9520726411369917\n",
      "----\n",
      "Performing step 21 of gradient descent.\n",
      "Loss at step 21: 41.87488856251059\n",
      "Accuracy at step 21: 0.9540465850769838\n",
      "----\n",
      "Performing step 22 of gradient descent.\n",
      "Loss at step 22: 40.57171064013913\n",
      "Accuracy at step 22: 0.9557046979865772\n",
      "----\n",
      "Performing step 23 of gradient descent.\n",
      "Loss at step 23: 39.37804777386851\n",
      "Accuracy at step 23: 0.9571259376233715\n",
      "----\n",
      "Performing step 24 of gradient descent.\n",
      "Loss at step 24: 38.279705247610785\n",
      "Accuracy at step 24: 0.9587050927753652\n",
      "----\n",
      "Performing step 25 of gradient descent.\n",
      "Loss at step 25: 37.26540975476923\n",
      "Accuracy at step 25: 0.9601263324121595\n",
      "----\n",
      "Performing step 26 of gradient descent.\n",
      "Loss at step 26: 36.32599981776882\n",
      "Accuracy at step 26: 0.9615475720489538\n",
      "----\n",
      "Performing step 27 of gradient descent.\n",
      "Loss at step 27: 35.453796000954284\n",
      "Accuracy at step 27: 0.9626529806553494\n",
      "----\n",
      "Performing step 28 of gradient descent.\n",
      "Loss at step 28: 34.64215961084591\n",
      "Accuracy at step 28: 0.9635215159889459\n",
      "----\n",
      "Performing step 29 of gradient descent.\n",
      "Loss at step 29: 33.8852149598901\n",
      "Accuracy at step 29: 0.9647848401105409\n",
      "----\n",
      "Performing step 30 of gradient descent.\n",
      "Loss at step 30: 33.17768823544894\n",
      "Accuracy at step 30: 0.9654165021713383\n",
      "----\n",
      "Performing step 31 of gradient descent.\n",
      "Loss at step 31: 32.51481546315436\n",
      "Accuracy at step 31: 0.9663639952625346\n",
      "----\n",
      "Performing step 32 of gradient descent.\n",
      "Loss at step 32: 31.89228540611405\n",
      "Accuracy at step 32: 0.9673904461113304\n",
      "----\n",
      "Performing step 33 of gradient descent.\n",
      "Loss at step 33: 31.306198439412185\n",
      "Accuracy at step 33: 0.9679431504145283\n",
      "----\n",
      "Performing step 34 of gradient descent.\n",
      "Loss at step 34: 30.753032958374963\n",
      "Accuracy at step 34: 0.968495854717726\n",
      "----\n",
      "Performing step 35 of gradient descent.\n",
      "Loss at step 35: 30.229616019257126\n",
      "Accuracy at step 35: 0.9695223055665219\n",
      "----\n",
      "Performing step 36 of gradient descent.\n",
      "Loss at step 36: 29.733096590520034\n",
      "Accuracy at step 36: 0.9701539676273194\n",
      "----\n",
      "Performing step 37 of gradient descent.\n",
      "Loss at step 37: 29.260920143115317\n",
      "Accuracy at step 37: 0.9711014607185156\n",
      "----\n",
      "Performing step 38 of gradient descent.\n",
      "Loss at step 38: 28.810803599701238\n",
      "Accuracy at step 38: 0.9717331227793131\n",
      "----\n",
      "Performing step 39 of gradient descent.\n",
      "Loss at step 39: 28.380710217786273\n",
      "Accuracy at step 39: 0.9724437425977103\n",
      "----\n"
     ]
    }
   ],
   "source": [
    "loss_history = []\n",
    "\n",
    "for step in range(0, gdc_steps):\n",
    "    print(\"Performing step \" + str(step) + \" of gradient descent.\")\n",
    "    predictions = predict(X, weights)\n",
    "    loss = get_loss (predictions, y)\n",
    "    loss_history.append(loss)\n",
    "    print(\"Loss at step \" + str(step) + \": \" + str(loss))\n",
    "    gradient = get_gradient(X, y, predictions)\n",
    "    \n",
    "    # update weights using the gdc update rule\n",
    "    weights = weights - learning_rate * gradient\n",
    "    \n",
    "    # compute the predictions, i.e. whenever predictions is greater or equal to 0.5 we get class 1\n",
    "    # and cast them to int values\n",
    "    predictions = predictions.round(0).astype(int)\n",
    "    \n",
    "    # compute mean accuracy by looking if the predictions match the labels y and applying the np.mean function to the result\n",
    "    accuracy = (predictions == y).mean()\n",
    "    print(\"Accuracy at step \" + str(step) + \": \" + str(accuracy))\n",
    "    print(\"----\")"
   ]
  },
  {
   "cell_type": "code",
   "execution_count": 14,
   "id": "07b0ded7",
   "metadata": {},
   "outputs": [
    {
     "data": {
      "image/png": "[encoded data removed]",
      "text/plain": [
       "<Figure size 432x288 with 1 Axes>"
      ]
     },
     "metadata": {
      "needs_background": "light"
     },
     "output_type": "display_data"
    }
   ],
   "source": [
    "plt.plot(loss_history)\n",
    "plt.xlabel('Step')\n",
    "plt.ylabel('loss')\n",
    "plt.show()"
   ]
  },
  {
   "cell_type": "markdown",
   "id": "06860209",
   "metadata": {},
   "source": [
    "# Evaluation on Test Set"
   ]
  },
  {
   "cell_type": "code",
   "execution_count": 15,
   "id": "ddce3e18",
   "metadata": {},
   "outputs": [
    {
     "name": "stdout",
     "output_type": "stream",
     "text": [
      "Loss on Test data: 24.183082876278263\n",
      "Accuracy  on Test data:0.9716312056737588\n"
     ]
    }
   ],
   "source": [
    "predictions = predict(X_test, weights)\n",
    "loss = get_loss (predictions, y_test)\n",
    "print(\"Loss on Test data: \" + str(loss))\n",
    "\n",
    "# compute the predictions, i.e. whenever predictions is greater or equal to 0.5 we get class 1\n",
    "# and cast them to int values\n",
    "predictions = predictions.round(0).astype(int)\n",
    "\n",
    "# compute mean accuracy by looking if the predictions match the labels y and applying the np.mean function to the result\n",
    "accuracy = (predictions == y_test).mean()\n",
    "print(\"Accuracy  on Test data:\" + str(accuracy))"
   ]
  },
  {
   "cell_type": "markdown",
   "id": "78292f3a",
   "metadata": {},
   "source": [
    "## Sample test of 10 examples"
   ]
  },
  {
   "cell_type": "code",
   "execution_count": 16,
   "id": "99c813bc",
   "metadata": {},
   "outputs": [],
   "source": [
    "predictions = predict(X_test[:10], weights)\n",
    "predictions = predictions.round(0).astype(int)"
   ]
  },
  {
   "cell_type": "code",
   "execution_count": 17,
   "id": "d98a4ef4",
   "metadata": {},
   "outputs": [
    {
     "data": {
      "image/png": "[encoded data removed]",
      "text/plain": [
       "<Figure size 720x720 with 10 Axes>"
      ]
     },
     "metadata": {
      "needs_background": "light"
     },
     "output_type": "display_data"
    }
   ],
   "source": [
    "nrows, ncols = 2, 5  # array of sub-plots\n",
    "figsize = [10, 10]     # figure size, inches\n",
    "\n",
    "# create figure (fig), and array of axes (ax)\n",
    "fig, ax = plt.subplots(nrows=nrows, ncols=ncols, figsize=figsize)\n",
    "\n",
    "# plot simple raster image on each sub-plot\n",
    "for i, axi in enumerate(ax.flat):\n",
    "    # i runs from 0 to (nrows*ncols-1)\n",
    "    # axi is equivalent with ax[rowid][colid]\n",
    "    img = X_test[i].reshape(28,28)\n",
    "    axi.imshow(img)\n",
    "    axi.set_title(\"Predicted: \"+ str(predictions[i]))\n",
    "plt.show()"
   ]
  },
  {
   "cell_type": "code",
   "execution_count": null,
   "id": "502d5d9f",
   "metadata": {},
   "outputs": [],
   "source": []
  }
 ],
 "metadata": {
  "kernelspec": {
   "display_name": "Python 3",
   "language": "python",
   "name": "python3"
  },
  "language_info": {
   "codemirror_mode": {
    "name": "ipython",
    "version": 3
   },
   "file_extension": ".py",
   "mimetype": "text/x-python",
   "name": "python",
   "nbconvert_exporter": "python",
   "pygments_lexer": "ipython3",
   "version": "3.8.8"
  }
 },
 "nbformat": 4,
 "nbformat_minor": 5
}
