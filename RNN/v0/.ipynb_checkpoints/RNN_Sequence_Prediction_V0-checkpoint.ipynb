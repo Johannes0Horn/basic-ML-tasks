{
 "cells": [
  {
   "cell_type": "markdown",
   "metadata": {},
   "source": [
    "# SEQUENCE PREDICTION"
   ]
  },
  {
   "cell_type": "code",
   "execution_count": 1,
   "metadata": {},
   "outputs": [],
   "source": [
    "################## Imports ##################\n",
    "from music21 import converter, instrument, note, chord, stream, tempo\n",
    "from tensorflow.python.keras.utils import to_categorical\n",
    "from tensorflow.python.keras.callbacks import ModelCheckpoint\n",
    "from tensorflow.python.keras.models import Sequential\n",
    "from tensorflow.python.keras.layers import Dense, Dropout, CuDNNLSTM, Reshape\n",
    "from tqdm import tnrange\n",
    "import numpy as np\n",
    "import os\n",
    "import glob"
   ]
  },
  {
   "cell_type": "code",
   "execution_count": 2,
   "metadata": {},
   "outputs": [],
   "source": [
    "################## Pre Processing ##################\n",
    "\n",
    "######### PARAMETERS #########\n",
    "# preprocessing\n",
    "music_directories = ('../../mendel', )\n",
    "sequence_length = 50\n",
    "\n",
    "# training\n",
    "training_epochs = 100\n",
    "training_batch_size = 512 #1024\n",
    "\n",
    "# inference\n",
    "generated_notes_length = 300\n",
    "file_name = 'test_gen_mendel'"
   ]
  },
  {
   "cell_type": "code",
   "execution_count": 3,
   "metadata": {},
   "outputs": [],
   "source": [
    "################## Pre Processing ##################\n",
    "######### FUNCTIONS #########\n",
    "\n",
    "# Load music file in given directories. Merge multiple hands and return music dictionary. This dictionary contains all notes for both hands at each global timestep\n",
    "def load_music(data_dirs):\n",
    "    music = {}\n",
    "    total_offset = 0\n",
    "    # load all files in all dirs\n",
    "    for path in data_dirs:\n",
    "        for file in glob.glob(path + '/*.mid'):\n",
    "            print('parsing file ' + file)\n",
    "            midi = converter.parse(file)\n",
    "            notes_to_parse = midi.recurse()\n",
    "            # falls mindestens 1 element in music, get totaloffset as biggest element of music\n",
    "            if len(music.keys()) > 0:\n",
    "                total_offset= sorted(music.keys())[-1]\n",
    "            #go through all nodes\n",
    "            for el in notes_to_parse:\n",
    "                #check if offset is defined as float already \n",
    "                offset = float(el.offset)\n",
    "                offset += total_offset\n",
    "                #check if offset already occured before, no merge both the part of left and right hand\n",
    "                if offset not in music:\n",
    "                    music[offset] = []\n",
    "                if isinstance(el, note.Note):\n",
    "                    music[offset].append(el)\n",
    "                elif isinstance(el, chord.Chord):\n",
    "                    for element in el.notes:\n",
    "                        music[offset].append(element)\n",
    "                else:\n",
    "                    if offset in music: del music[offset]\n",
    "    return music\n",
    "\n",
    "# If a given note (pitch) is flat, transform into sharp (requires flat_to_sharp mapping)\n",
    "def to_sharp(pitch):\n",
    "    # Mapping from flat to sharp notes in order to decrease dimensionality\n",
    "    flat_to_sharp={\n",
    "        'D-':'C#',\n",
    "        'E-':'D#',\n",
    "        'G-':'F#',\n",
    "        'A-':'G#',\n",
    "        'B-':'A#'\n",
    "    }\n",
    "    #pitch=e.g. 'E-4'\n",
    "    if pitch not in ['-1']:\n",
    "        if '-' in pitch:\n",
    "            #flat!\n",
    "            #get octave:\n",
    "            octave = pitch[-1]\n",
    "            return flat_to_sharp[pitch[:2]] + octave#0 to 1\n",
    "        else:\n",
    "            return pitch\n",
    "    else:\n",
    "        return pitch\n",
    "    \n",
    "#sort notes: 1. octave 2. pitch =>actual hight, not character\n",
    "def sort_notes(unique_note_freqs):\n",
    "#define all possible pitches\n",
    "    possible_pitches = ['C','C#','D','D#','E','F','F#','G', 'G#','A','A#','B']\n",
    "    all_pitches=[]\n",
    "    for i in range(0,8):#1 to 7\n",
    "        for pitch in possible_pitches:\n",
    "            all_pitches.append(pitch+str(i))\n",
    "    valid_pitches=[]\n",
    "    for all_pitch in all_pitches:\n",
    "        if all_pitch in unique_note_freqs:\n",
    "            valid_pitches.append(all_pitch)\n",
    "    return valid_pitches\n",
    "\n",
    "# Convert music dictionary to music list\n",
    "def music_dict_to_list(music_dict):\n",
    "    music_list=[]\n",
    "    for key in sorted(music_dict):\n",
    "        music_list.append([key, music_dict[key]])\n",
    "    return music_list\n",
    "\n",
    "# get unqiue list of notes from given music list\n",
    "def get_unique_notes(music_list):\n",
    "    unique_notes = []\n",
    "    for _, notes in music_list:\n",
    "        #for each note      \n",
    "        for _, current_note in enumerate(notes):\n",
    "            current_pitch = to_sharp(str(current_note.pitch))\n",
    "            #get all unique notes:\n",
    "            if current_pitch not in unique_notes:\n",
    "                unique_notes.append(current_pitch)\n",
    "    return unique_notes\n",
    "\n",
    "# get unique list of durations form given music list\n",
    "def get_unique_durations(music_list):\n",
    "    unique_durations = []\n",
    "    for _, notes in music_list:\n",
    "        #for each note      \n",
    "        for _, current_note in enumerate(notes):\n",
    "            current_duration = float(current_note.quarterLength)\n",
    "            #get all unique durations:\n",
    "            if current_duration not in unique_durations:\n",
    "                unique_durations.append(current_duration)\n",
    "    return unique_durations\n",
    "\n",
    "# get unique list of durations form given music list\n",
    "def get_unique_temporal_differences(music_list):\n",
    "    unique_temporal_differences = [0.0]\n",
    "    i = 0\n",
    "    for _, notes in music_list:\n",
    "        #define temporal difference\n",
    "        #temporal difference: time until next note in list\n",
    "        #e.g. if it's 0 it play simultaneously with next note\n",
    "        #check if next note at i+1 exists to calculate time until next note\n",
    "        if len(music_list) > i+1:\n",
    "            #temporal differnce = duration from current timestamp to next timestamp\n",
    "            temporal_difference = music_list[i+1][0] - music_list[i][0]\n",
    "        else:\n",
    "            #for last note\n",
    "            #temporal differnce = duration of note\n",
    "            temporal_difference = notes[0].quarterLength\n",
    "        if temporal_difference not in unique_temporal_differences:\n",
    "            unique_temporal_differences.append(temporal_difference)\n",
    "        i+=1\n",
    "    return unique_temporal_differences\n",
    "\n",
    "# transform a music list into training data. We select 3 features for each note.\n",
    "def create_training_data(music_list):\n",
    "    training_data = []\n",
    "    i=0\n",
    "    for timestamp, notes in music_list:\n",
    "        if len(music_list) > i+1:\n",
    "            #temporal differnce = duration from current timestamp to next timestamp\n",
    "            temporal_difference = music_list[i+1][0] - music_list[i][0]\n",
    "        else:\n",
    "            #for last note\n",
    "            #temporal differnce = duration of note\n",
    "            temporal_difference = notes[0].quarterLength\n",
    "        #for each note      \n",
    "        for idx, current_note in enumerate(notes):\n",
    "            current_pitch = to_sharp(str(current_note.pitch))#to_sharp translates notes with 2 names => reduce input space\n",
    "            current_duration = float(current_note.quarterLength)\n",
    "            #append to training_data \n",
    "            if (idx+1) == len(notes):\n",
    "                #last note in timestamp\n",
    "                training_data.append([temporal_difference, current_pitch, current_duration])\n",
    "            else:\n",
    "                #temporal difference of 0 for simultaneous notes\n",
    "                training_data.append([0, current_pitch, current_duration])\n",
    "        i += 1\n",
    "    return training_data\n",
    "\n",
    "# create training sequences and the correpsonding outputs for given training data\n",
    "def create_sequences(training_data, sequence_length):\n",
    "    X = []\n",
    "    y = []\n",
    "    for i in range(0, len(training_data) - sequence_length):\n",
    "        sequence_in = training_data[i:i + sequence_length]\n",
    "        sequence_out = training_data[i + sequence_length]\n",
    "        X.append(sequence_in)\n",
    "        y.append(sequence_out)\n",
    "    return X, y\n",
    "\n",
    "# normalize input sequences\n",
    "def normalize_input(X, unique_note_to_int, unique_duration_to_int, unique_temporal_difference_to_int):\n",
    "    normalized_X=[]\n",
    "    for sequence in X:\n",
    "        normalized_sequence_X = []\n",
    "        for data in sequence:\n",
    "            normalized_single_X=[]\n",
    "            # normalize temporal_diff:\n",
    "            normalized_single_X.append(unique_temporal_difference_to_int[data[0]]/len(unique_temporal_difference_to_int.keys()))\n",
    "            # normalize pitch\n",
    "            normalized_single_X.append(unique_note_to_int[data[1]]/len(unique_note_to_int.keys()))\n",
    "            # normalize duration\n",
    "            normalized_single_X.append(unique_duration_to_int[data[2]]/len(unique_duration_to_int.keys()))\n",
    "            # append normalized feature set to sequence\n",
    "            normalized_sequence_X.append(normalized_single_X)\n",
    "        normalized_X.append(normalized_sequence_X)\n",
    "    return normalized_X\n",
    "\n",
    "# normalize output feature set\n",
    "def normalize_output(y, unique_note_to_int, unique_duration_to_int, unique_temporal_difference_to_int):\n",
    "    normalized_y = []\n",
    "    for data in y:\n",
    "        normalized_single_y=[]\n",
    "        # normalize temporal_diff:\n",
    "        normalized_single_y.append(unique_temporal_difference_to_int[data[0]])\n",
    "        # normalize pitch\n",
    "        normalized_single_y.append(unique_note_to_int[data[1]])\n",
    "        # normalize duration\n",
    "        normalized_single_y.append(unique_duration_to_int[data[2]])\n",
    "        # append normalized feature set to y\n",
    "        normalized_y.append(normalized_single_y)\n",
    "    normalized_y = to_categorical(normalized_y)\n",
    "    return normalized_y\n",
    "\n",
    "# predict output feature sets with trained model\n",
    "def predict_notes(model, pattern, generated_notes_length, unique_temporal_differences_length, unique_notes_length, unique_durations_length):\n",
    "    prediction_output = []\n",
    "    for note_index in tnrange(generated_notes_length, desc='generating notes'):\n",
    "        # predict next feature set with given pattern\n",
    "        prediction_input = np.reshape(pattern, (1, pattern.shape[0], pattern.shape[1]))\n",
    "        \n",
    "        #print(\"prediction input:\\n\",prediction_input)\n",
    "        \n",
    "        prediction = model.predict(prediction_input, verbose=0)\n",
    "        \n",
    "        # get max predictions\n",
    "        index_temporal_difference = np.argmax(prediction[0][0])\n",
    "        index_note = np.argmax(prediction[0][1])\n",
    "        index_duration = np.argmax(prediction[0][2])\n",
    "        \n",
    "        #print(\"prediction 0\", prediction[0][0])\n",
    "        #print(\"prediction 1\", prediction[0][1])\n",
    "        #print(\"prediction 2\", prediction[0][2])\n",
    "        \n",
    "        #print(\"prediction index 0\", index_temporal_difference)\n",
    "        #print(\"prediction index 1\", index_note)\n",
    "        #print(\"prediction index 2\", index_duration)\n",
    "\n",
    "        # transform prediction at max index\n",
    "        result_temporal_difference = int_to_unique_temporal_difference[index_temporal_difference]\n",
    "        result_note = int_to_unique_note[index_note]\n",
    "        result_duration = int_to_unique_duration[index_duration]\n",
    "        \n",
    "        # Normalize predictions to append it to the sequence\n",
    "        result_temporal_difference_normalized = index_temporal_difference/unique_temporal_differences_length\n",
    "        result_note_normalized = index_note/unique_notes_length\n",
    "        result_duration_normalized = index_duration/unique_durations_length\n",
    "        \n",
    "        #print(\"result 0\", result_temporal_difference)\n",
    "        #print(\"result 1\", result_note)\n",
    "        #print(\"result 2\", result_duration)\n",
    "\n",
    "        # append result to output\n",
    "        prediction_output.append([result_temporal_difference, result_note, result_duration])\n",
    "        \n",
    "        # add new pattern in order to generate next feature set\n",
    "        #pattern = np.vstack((pattern, (result_temporal_difference,result_note_normalized,result_duration)))\n",
    "        pattern = np.vstack((pattern, (result_temporal_difference_normalized,result_note_normalized,result_duration_normalized)))\n",
    "        pattern = np.delete(pattern, 0, 0)\n",
    "    return prediction_output\n",
    "\n",
    "# convert \n",
    "def convert_musiclist_to_music(prediction_output):\n",
    "    offset = 0\n",
    "    output_notes = []\n",
    "    # create note and chord objects based on the values generated by the model\n",
    "    for feature_set in prediction_output:  \n",
    "        # get single values from generated feature set\n",
    "        gen_offset = feature_set[0]\n",
    "        gen_note = feature_set[1]\n",
    "        gen_duration = feature_set[2]\n",
    "\n",
    "        # create note\n",
    "        new_note = note.Note(gen_note, quarterLength=gen_duration)\n",
    "        new_note.offset = offset\n",
    "        new_note.storedInstrument = instrument.Piano()\n",
    "        output_notes.append(new_note)\n",
    "\n",
    "        # increase offset each iteration\n",
    "        offset += gen_offset\n",
    "    return output_notes\n",
    "\n",
    "# play generated music\n",
    "def play_music(output_notes, file_name):\n",
    "    midi_stream = stream.Stream(output_notes) #output_notes\n",
    "    #mm1 = tempo.MetronomeMark('slow')\n",
    "    #midi_stream.append(mm1)\n",
    "    #midi_stream.append(output_notes)\n",
    "    midi_stream.write('midi', fp=file_name)\n",
    "    midi_stream.show('midi')\n",
    "    #midi_stream.show('text')"
   ]
  },
  {
   "cell_type": "code",
   "execution_count": 4,
   "metadata": {
    "scrolled": true
   },
   "outputs": [
    {
     "name": "stdout",
     "output_type": "stream",
     "text": [
      "parsing file ../../mendel/mendel_op19_1.mid\n",
      "# Parsed music length: 959\n",
      "# Unique notes:\n",
      " ['F#1', 'G#1', 'A1', 'B1', 'C#2', 'D#2', 'E2', 'F#2', 'G2', 'G#2', 'A2', 'A#2', 'B2', 'C3', 'C#3', 'D3', 'D#3', 'E3', 'F3', 'F#3', 'G3', 'G#3', 'A3', 'A#3', 'B3', 'C4', 'C#4', 'D4', 'D#4', 'E4', 'F#4', 'G4', 'G#4', 'A4', 'A#4', 'B4', 'C5', 'C#5', 'D5', 'D#5', 'E5', 'F#5', 'G5', 'G#5', 'A5', 'C6']\n",
      "# Unique durations: [2.0, 0.25, 1.0, 0.5, 3.0, 0.75, 0.3333333333333333, 4.5, 4.0, 1.5]\n",
      "# Max duration: 4.5\n",
      "# Unique temporal differences [0.0, 0.25, 0.5, 0.75, 1.0]\n",
      "# Max temporal difference: 1.0\n",
      "# First element of training data (temporal_difference, note, duration):\n",
      " [0.25, 'E2', 2.0]\n",
      "# Unique note to int:\n",
      " {'F#1': 0, 'G#1': 1, 'A1': 2, 'B1': 3, 'C#2': 4, 'D#2': 5, 'E2': 6, 'F#2': 7, 'G2': 8, 'G#2': 9, 'A2': 10, 'A#2': 11, 'B2': 12, 'C3': 13, 'C#3': 14, 'D3': 15, 'D#3': 16, 'E3': 17, 'F3': 18, 'F#3': 19, 'G3': 20, 'G#3': 21, 'A3': 22, 'A#3': 23, 'B3': 24, 'C4': 25, 'C#4': 26, 'D4': 27, 'D#4': 28, 'E4': 29, 'F#4': 30, 'G4': 31, 'G#4': 32, 'A4': 33, 'A#4': 34, 'B4': 35, 'C5': 36, 'C#5': 37, 'D5': 38, 'D#5': 39, 'E5': 40, 'F#5': 41, 'G5': 42, 'G#5': 43, 'A5': 44, 'C6': 45}\n",
      "# Int to unique note:\n",
      " {0: 'F#1', 1: 'G#1', 2: 'A1', 3: 'B1', 4: 'C#2', 5: 'D#2', 6: 'E2', 7: 'F#2', 8: 'G2', 9: 'G#2', 10: 'A2', 11: 'A#2', 12: 'B2', 13: 'C3', 14: 'C#3', 15: 'D3', 16: 'D#3', 17: 'E3', 18: 'F3', 19: 'F#3', 20: 'G3', 21: 'G#3', 22: 'A3', 23: 'A#3', 24: 'B3', 25: 'C4', 26: 'C#4', 27: 'D4', 28: 'D#4', 29: 'E4', 30: 'F#4', 31: 'G4', 32: 'G#4', 33: 'A4', 34: 'A#4', 35: 'B4', 36: 'C5', 37: 'C#5', 38: 'D5', 39: 'D#5', 40: 'E5', 41: 'F#5', 42: 'G5', 43: 'G#5', 44: 'A5', 45: 'C6'}\n",
      "# Unique duration to int:\n",
      " {2.0: 0, 0.25: 1, 1.0: 2, 0.5: 3, 3.0: 4, 0.75: 5, 0.3333333333333333: 6, 4.5: 7, 4.0: 8, 1.5: 9}\n",
      "# Int to unique duration:\n",
      " {0: 2.0, 1: 0.25, 2: 1.0, 3: 0.5, 4: 3.0, 5: 0.75, 6: 0.3333333333333333, 7: 4.5, 8: 4.0, 9: 1.5}\n",
      "# Unique temporal difference to int:\n",
      " {0.0: 0, 0.25: 1, 0.5: 2, 0.75: 3, 1.0: 4}\n",
      "# Int to unique temporal difference:\n",
      " {0: 0.0, 1: 0.25, 2: 0.5, 3: 0.75, 4: 1.0}\n",
      "# First X\n",
      " [[0.25, 'E2', 2.0], [0.25, 'E3', 0.25], [0.25, 'G#3', 0.25], [0.25, 'B3', 0.25], [0.25, 'B2', 0.25], [0.25, 'E3', 0.25], [0.25, 'G#3', 0.25], [0.25, 'B3', 0.25], [0, 'B2', 0.25], [0.25, 'G#2', 2.0], [0.25, 'E3', 0.25], [0.25, 'G#3', 0.25], [0.25, 'B3', 0.25], [0.25, 'B2', 0.25], [0.25, 'E3', 0.25], [0.25, 'G#3', 0.25], [0.25, 'B3', 0.25], [0, 'B2', 0.25], [0.25, 'F#2', 2.0], [0.25, 'D#3', 0.25], [0.25, 'A3', 0.25], [0.25, 'B3', 0.25], [0.25, 'B2', 0.25], [0.25, 'D#3', 0.25], [0.25, 'A3', 0.25], [0.25, 'B3', 0.25], [0, 'B2', 0.25], [0.25, 'B1', 1.0], [0.25, 'D#3', 0.25], [0.25, 'F#3', 0.25], [0.5, 'B3', 0.25], [0.25, 'D#3', 0.25], [0.25, 'F#3', 0.25], [0.25, 'B3', 0.25], [0, 'G#4', 1.0], [0, 'B2', 0.25], [0.25, 'E2', 1.0], [0.25, 'E3', 0.25], [0.25, 'G#3', 0.25], [0.25, 'B3', 0.25], [0, 'F#4', 1.0], [0, 'B2', 0.25], [0.25, 'F#2', 1.0], [0.25, 'D#3', 0.25], [0.25, 'A3', 0.25], [0.25, 'B3', 0.25], [0, 'E4', 1.0], [0, 'B2', 0.25], [0.25, 'G#2', 1.0], [0.25, 'E3', 0.25]]\n",
      "# First y\n",
      ": [0.25, 'G#3', 0.25]\n",
      "# First normalized X\n",
      " [[0.2, 0.13043478260869565, 0.0], [0.2, 0.3695652173913043, 0.1], [0.2, 0.45652173913043476, 0.1], [0.2, 0.5217391304347826, 0.1], [0.2, 0.2608695652173913, 0.1], [0.2, 0.3695652173913043, 0.1], [0.2, 0.45652173913043476, 0.1], [0.2, 0.5217391304347826, 0.1], [0.0, 0.2608695652173913, 0.1], [0.2, 0.1956521739130435, 0.0], [0.2, 0.3695652173913043, 0.1], [0.2, 0.45652173913043476, 0.1], [0.2, 0.5217391304347826, 0.1], [0.2, 0.2608695652173913, 0.1], [0.2, 0.3695652173913043, 0.1], [0.2, 0.45652173913043476, 0.1], [0.2, 0.5217391304347826, 0.1], [0.0, 0.2608695652173913, 0.1], [0.2, 0.15217391304347827, 0.0], [0.2, 0.34782608695652173, 0.1], [0.2, 0.4782608695652174, 0.1], [0.2, 0.5217391304347826, 0.1], [0.2, 0.2608695652173913, 0.1], [0.2, 0.34782608695652173, 0.1], [0.2, 0.4782608695652174, 0.1], [0.2, 0.5217391304347826, 0.1], [0.0, 0.2608695652173913, 0.1], [0.2, 0.06521739130434782, 0.2], [0.2, 0.34782608695652173, 0.1], [0.2, 0.41304347826086957, 0.1], [0.4, 0.5217391304347826, 0.1], [0.2, 0.34782608695652173, 0.1], [0.2, 0.41304347826086957, 0.1], [0.2, 0.5217391304347826, 0.1], [0.0, 0.6956521739130435, 0.2], [0.0, 0.2608695652173913, 0.1], [0.2, 0.13043478260869565, 0.2], [0.2, 0.3695652173913043, 0.1], [0.2, 0.45652173913043476, 0.1], [0.2, 0.5217391304347826, 0.1], [0.0, 0.6521739130434783, 0.2], [0.0, 0.2608695652173913, 0.1], [0.2, 0.15217391304347827, 0.2], [0.2, 0.34782608695652173, 0.1], [0.2, 0.4782608695652174, 0.1], [0.2, 0.5217391304347826, 0.1], [0.0, 0.6304347826086957, 0.2], [0.0, 0.2608695652173913, 0.1], [0.2, 0.1956521739130435, 0.2], [0.2, 0.3695652173913043, 0.1]]\n",
      "# First normalized y\n",
      ": [[0. 1. 0. 0. 0. 0. 0. 0. 0. 0. 0. 0. 0. 0. 0. 0. 0. 0. 0. 0. 0. 0. 0. 0.\n",
      "  0. 0. 0. 0. 0. 0. 0. 0. 0. 0. 0. 0. 0. 0. 0. 0. 0. 0. 0. 0. 0. 0.]\n",
      " [0. 0. 0. 0. 0. 0. 0. 0. 0. 0. 0. 0. 0. 0. 0. 0. 0. 0. 0. 0. 0. 1. 0. 0.\n",
      "  0. 0. 0. 0. 0. 0. 0. 0. 0. 0. 0. 0. 0. 0. 0. 0. 0. 0. 0. 0. 0. 0.]\n",
      " [0. 1. 0. 0. 0. 0. 0. 0. 0. 0. 0. 0. 0. 0. 0. 0. 0. 0. 0. 0. 0. 0. 0. 0.\n",
      "  0. 0. 0. 0. 0. 0. 0. 0. 0. 0. 0. 0. 0. 0. 0. 0. 0. 0. 0. 0. 0. 0.]]\n",
      "# Shape of X (after reshape): (1265, 50, 3)\n",
      "# Shape of y (after reshape): (1265, 3, 46)\n"
     ]
    }
   ],
   "source": [
    "################## Pre Processing ##################\n",
    "######### LOGIC #########\n",
    "\n",
    "# load music files\n",
    "music = load_music(data_dirs=music_directories)\n",
    "print(\"# Parsed music length:\",len(music))\n",
    "\n",
    "# convert music dictionary to list\n",
    "music_list = music_dict_to_list(music)\n",
    "\n",
    "# get unique notes from music list\n",
    "unique_notes = get_unique_notes(music_list)\n",
    "#sort unique notes by actual pitch\n",
    "unique_notes = sort_notes(unique_notes)\n",
    "print(\"# Unique notes:\\n\", unique_notes)\n",
    "\n",
    "# get unique durations from music list \n",
    "unique_durations = get_unique_durations(music_list)\n",
    "print(\"# Unique durations:\", unique_durations)\n",
    "# get max duration from music list\n",
    "max_duration = max(unique_durations)\n",
    "print(\"# Max duration:\", max_duration)\n",
    "\n",
    "# get unqiue temporal difference\n",
    "unique_temporal_differences = get_unique_temporal_differences(music_list)\n",
    "print(\"# Unique temporal differences\", unique_temporal_differences)\n",
    "# get max temporal difference\n",
    "max_temporal_difference = max(unique_temporal_differences)\n",
    "print(\"# Max temporal difference:\", max_temporal_difference)\n",
    "\n",
    "# create training data by extracting 3 required features for each note\n",
    "training_data = create_training_data(music_list)\n",
    "print(\"# First element of training data (temporal_difference, note, duration):\\n\",training_data[0])\n",
    "\n",
    "## create Mappings for all features\n",
    "# create a dictionary to map notes to integers\n",
    "unique_note_to_int = {note: number for number, note in enumerate(unique_notes)}\n",
    "print(\"# Unique note to int:\\n\", unique_note_to_int)\n",
    "int_to_unique_note = {number: note for number, note in enumerate(unique_notes)}\n",
    "print(\"# Int to unique note:\\n\", int_to_unique_note)\n",
    "\n",
    "# create a dictionary to map durations to integers\n",
    "unique_duration_to_int = {duration: number for number, duration in enumerate(unique_durations)}\n",
    "print(\"# Unique duration to int:\\n\", unique_duration_to_int)\n",
    "int_to_unique_duration = {number: duration for number, duration in enumerate(unique_durations)}\n",
    "print(\"# Int to unique duration:\\n\", int_to_unique_duration)\n",
    "\n",
    "# create a dictionary to map temporal differences to integers\n",
    "unique_temporal_difference_to_int = {temporal_difference: number for number, temporal_difference in enumerate(unique_temporal_differences)}\n",
    "print(\"# Unique temporal difference to int:\\n\", unique_temporal_difference_to_int)\n",
    "int_to_unique_temporal_difference = {number: temporal_difference for number, temporal_difference in enumerate(unique_temporal_differences)}\n",
    "print(\"# Int to unique temporal difference:\\n\", int_to_unique_temporal_difference)\n",
    "\n",
    "# create input sequences and the corresponding outputs\n",
    "X, y = create_sequences(training_data, sequence_length)\n",
    "print(\"# First X\\n\", X[0])\n",
    "print(\"# First y\\n:\", y[0])\n",
    "\n",
    "# normalize input and output\n",
    "X = normalize_input(X, unique_note_to_int, unique_duration_to_int, unique_temporal_difference_to_int)\n",
    "y = normalize_output(y, unique_note_to_int, unique_duration_to_int, unique_temporal_difference_to_int)\n",
    "print(\"# First normalized X\\n\", X[0])\n",
    "print(\"# First normalized y\\n:\", y[0])\n",
    "\n",
    "# reshape the input into a format compatible with LSTM layers\n",
    "X = np.reshape(X, (-1, sequence_length, 3))\n",
    "print(\"# Shape of X (after reshape):\", X.shape)\n",
    "print(\"# Shape of y (after reshape):\", y.shape)"
   ]
  },
  {
   "cell_type": "code",
   "execution_count": 5,
   "metadata": {},
   "outputs": [
    {
     "name": "stdout",
     "output_type": "stream",
     "text": [
      "WARNING:tensorflow:From /home/pia3/.direnv/python-3.7.3/lib/python3.7/site-packages/tensorflow/python/ops/resource_variable_ops.py:435: colocate_with (from tensorflow.python.framework.ops) is deprecated and will be removed in a future version.\n",
      "Instructions for updating:\n",
      "Colocations handled automatically by placer.\n",
      "WARNING:tensorflow:From /home/pia3/.direnv/python-3.7.3/lib/python3.7/site-packages/tensorflow/python/keras/layers/core.py:143: calling dropout (from tensorflow.python.ops.nn_ops) with keep_prob is deprecated and will be removed in a future version.\n",
      "Instructions for updating:\n",
      "Please use `rate` instead of `keep_prob`. Rate should be set to `rate = 1 - keep_prob`.\n",
      "_________________________________________________________________\n",
      "Layer (type)                 Output Shape              Param #   \n",
      "=================================================================\n",
      "cu_dnnlstm (CuDNNLSTM)       (None, 50, 1024)          4214784   \n",
      "_________________________________________________________________\n",
      "dropout (Dropout)            (None, 50, 1024)          0         \n",
      "_________________________________________________________________\n",
      "cu_dnnlstm_1 (CuDNNLSTM)     (None, 50, 1024)          8396800   \n",
      "_________________________________________________________________\n",
      "dropout_1 (Dropout)          (None, 50, 1024)          0         \n",
      "_________________________________________________________________\n",
      "cu_dnnlstm_2 (CuDNNLSTM)     (None, 512)               3149824   \n",
      "_________________________________________________________________\n",
      "dropout_2 (Dropout)          (None, 512)               0         \n",
      "_________________________________________________________________\n",
      "dense (Dense)                (None, 138)               70794     \n",
      "_________________________________________________________________\n",
      "reshape (Reshape)            (None, 3, 46)             0         \n",
      "=================================================================\n",
      "Total params: 15,832,202\n",
      "Trainable params: 15,832,202\n",
      "Non-trainable params: 0\n",
      "_________________________________________________________________\n"
     ]
    }
   ],
   "source": [
    "################## Model ##################\n",
    "model = Sequential()\n",
    "model.add(CuDNNLSTM(\n",
    "    1024,\n",
    "    return_sequences=True, \n",
    "    input_shape=(X.shape[1], X.shape[2])))\n",
    "model.add(Dropout(rate=0.1))\n",
    "model.add(CuDNNLSTM(1024, return_sequences=True))\n",
    "model.add(Dropout(rate=0.1))\n",
    "model.add(CuDNNLSTM(512))\n",
    "model.add(Dropout(rate=0.1))\n",
    "model.add(Dense(units=y.shape[1] * y.shape[2], activation='softmax'))\n",
    "model.add(Reshape((y.shape[1] ,y.shape[2])))\n",
    "# model.load_weights('newchpts_beeth_500e')\n",
    "model.compile(loss='categorical_crossentropy', optimizer='adam')\n",
    "\n",
    "model.summary()"
   ]
  },
  {
   "cell_type": "code",
   "execution_count": 9,
   "metadata": {},
   "outputs": [
    {
     "name": "stdout",
     "output_type": "stream",
     "text": [
      "Epoch 1/100\n",
      "1265/1265 [==============================] - 1s 703us/sample - loss: 1.0841\n",
      "Epoch 2/100\n",
      "1265/1265 [==============================] - 2s 2ms/sample - loss: 1.0754\n",
      "Epoch 3/100\n",
      "1265/1265 [==============================] - 2s 1ms/sample - loss: 1.0684\n",
      "Epoch 4/100\n",
      "1265/1265 [==============================] - 2s 1ms/sample - loss: 1.0594\n",
      "Epoch 5/100\n",
      "1265/1265 [==============================] - 2s 1ms/sample - loss: 1.0331\n",
      "Epoch 6/100\n",
      "1265/1265 [==============================] - 2s 2ms/sample - loss: 1.0198\n",
      "Epoch 7/100\n",
      "1265/1265 [==============================] - 2s 1ms/sample - loss: 1.0127\n",
      "Epoch 8/100\n",
      "1265/1265 [==============================] - 2s 1ms/sample - loss: 1.0032\n",
      "Epoch 9/100\n",
      "1265/1265 [==============================] - 2s 1ms/sample - loss: 0.9895\n",
      "Epoch 10/100\n",
      "1265/1265 [==============================] - 2s 2ms/sample - loss: 0.9743\n",
      "Epoch 11/100\n",
      "1265/1265 [==============================] - 1s 572us/sample - loss: 0.9790\n",
      "Epoch 12/100\n",
      "1265/1265 [==============================] - 2s 2ms/sample - loss: 0.9706\n",
      "Epoch 13/100\n",
      "1265/1265 [==============================] - 2s 2ms/sample - loss: 0.9577\n",
      "Epoch 14/100\n",
      "1265/1265 [==============================] - 1s 567us/sample - loss: 0.9634\n",
      "Epoch 15/100\n",
      "1265/1265 [==============================] - 1s 571us/sample - loss: 0.9669\n",
      "Epoch 16/100\n",
      "1265/1265 [==============================] - 2s 1ms/sample - loss: 0.9361\n",
      "Epoch 17/100\n",
      "1265/1265 [==============================] - 1s 574us/sample - loss: 0.9497\n",
      "Epoch 18/100\n",
      "1265/1265 [==============================] - 2s 1ms/sample - loss: 0.9147\n",
      "Epoch 19/100\n",
      "1265/1265 [==============================] - 2s 1ms/sample - loss: 0.9123\n",
      "Epoch 20/100\n",
      "1265/1265 [==============================] - 2s 1ms/sample - loss: 0.9042\n",
      "Epoch 21/100\n",
      "1265/1265 [==============================] - 2s 1ms/sample - loss: 0.8815\n",
      "Epoch 22/100\n",
      "1265/1265 [==============================] - 2s 1ms/sample - loss: 0.8606\n",
      "Epoch 23/100\n",
      "1265/1265 [==============================] - 2s 1ms/sample - loss: 0.8477\n",
      "Epoch 24/100\n",
      "1265/1265 [==============================] - 2s 1ms/sample - loss: 0.8293\n",
      "Epoch 25/100\n",
      "1265/1265 [==============================] - 2s 2ms/sample - loss: 0.8278\n",
      "Epoch 26/100\n",
      "1265/1265 [==============================] - 2s 2ms/sample - loss: 0.8107\n",
      "Epoch 27/100\n",
      "1265/1265 [==============================] - 1s 576us/sample - loss: 0.8340\n",
      "Epoch 28/100\n",
      "1265/1265 [==============================] - 2s 2ms/sample - loss: 0.7961\n",
      "Epoch 29/100\n",
      "1265/1265 [==============================] - 2s 1ms/sample - loss: 0.7719\n",
      "Epoch 30/100\n",
      "1265/1265 [==============================] - 2s 1ms/sample - loss: 0.7576\n",
      "Epoch 31/100\n",
      "1265/1265 [==============================] - 1s 578us/sample - loss: 0.7873\n",
      "Epoch 32/100\n",
      "1265/1265 [==============================] - 1s 577us/sample - loss: 0.7739\n",
      "Epoch 33/100\n",
      "1265/1265 [==============================] - 2s 1ms/sample - loss: 0.7542\n",
      "Epoch 34/100\n",
      "1265/1265 [==============================] - 2s 1ms/sample - loss: 0.7292\n",
      "Epoch 35/100\n",
      "1265/1265 [==============================] - 2s 1ms/sample - loss: 0.7010\n",
      "Epoch 36/100\n",
      "1265/1265 [==============================] - 1s 580us/sample - loss: 0.7160\n",
      "Epoch 37/100\n",
      "1265/1265 [==============================] - 2s 1ms/sample - loss: 0.6967\n",
      "Epoch 38/100\n",
      "1265/1265 [==============================] - 2s 1ms/sample - loss: 0.6815\n",
      "Epoch 39/100\n",
      "1265/1265 [==============================] - 2s 2ms/sample - loss: 0.6769\n",
      "Epoch 40/100\n",
      "1265/1265 [==============================] - 2s 2ms/sample - loss: 0.6589\n",
      "Epoch 41/100\n",
      "1265/1265 [==============================] - 2s 1ms/sample - loss: 0.6462\n",
      "Epoch 42/100\n",
      "1265/1265 [==============================] - 2s 2ms/sample - loss: 0.6391\n",
      "Epoch 43/100\n",
      "1265/1265 [==============================] - 1s 582us/sample - loss: 0.6406\n",
      "Epoch 44/100\n",
      "1265/1265 [==============================] - 2s 2ms/sample - loss: 0.6116\n",
      "Epoch 45/100\n",
      "1265/1265 [==============================] - 2s 1ms/sample - loss: 0.5875\n",
      "Epoch 46/100\n",
      "1265/1265 [==============================] - 1s 585us/sample - loss: 0.5940\n",
      "Epoch 47/100\n",
      "1265/1265 [==============================] - 2s 1ms/sample - loss: 0.5724\n",
      "Epoch 48/100\n",
      "1265/1265 [==============================] - 2s 1ms/sample - loss: 0.5721\n",
      "Epoch 49/100\n",
      "1265/1265 [==============================] - 2s 1ms/sample - loss: 0.5409\n",
      "Epoch 50/100\n",
      "1265/1265 [==============================] - 2s 1ms/sample - loss: 0.5322\n",
      "Epoch 51/100\n",
      "1265/1265 [==============================] - 1s 582us/sample - loss: 0.5468\n",
      "Epoch 52/100\n",
      "1265/1265 [==============================] - 1s 585us/sample - loss: 0.5405\n",
      "Epoch 53/100\n",
      "1265/1265 [==============================] - 2s 2ms/sample - loss: 0.5131\n",
      "Epoch 54/100\n",
      "1265/1265 [==============================] - 2s 2ms/sample - loss: 0.5054\n",
      "Epoch 55/100\n",
      "1265/1265 [==============================] - 2s 2ms/sample - loss: 0.4953\n",
      "Epoch 56/100\n",
      "1265/1265 [==============================] - 2s 1ms/sample - loss: 0.4830\n",
      "Epoch 57/100\n",
      "1265/1265 [==============================] - 2s 2ms/sample - loss: 0.4636\n",
      "Epoch 58/100\n",
      "1265/1265 [==============================] - 1s 585us/sample - loss: 0.4792\n",
      "Epoch 59/100\n",
      "1265/1265 [==============================] - 1s 582us/sample - loss: 0.4702\n",
      "Epoch 60/100\n",
      "1265/1265 [==============================] - 2s 1ms/sample - loss: 0.4524\n",
      "Epoch 61/100\n",
      "1265/1265 [==============================] - 2s 1ms/sample - loss: 0.4324\n",
      "Epoch 62/100\n",
      "1265/1265 [==============================] - 2s 2ms/sample - loss: 0.4155\n",
      "Epoch 63/100\n",
      "1265/1265 [==============================] - 2s 2ms/sample - loss: 0.4127\n",
      "Epoch 64/100\n",
      "1265/1265 [==============================] - 2s 1ms/sample - loss: 0.4034\n",
      "Epoch 65/100\n",
      "1265/1265 [==============================] - 2s 1ms/sample - loss: 0.3920\n",
      "Epoch 66/100\n",
      "1265/1265 [==============================] - 2s 2ms/sample - loss: 0.3701\n",
      "Epoch 67/100\n",
      "1265/1265 [==============================] - 2s 2ms/sample - loss: 0.3595\n",
      "Epoch 68/100\n",
      "1265/1265 [==============================] - 2s 2ms/sample - loss: 0.3580\n",
      "Epoch 69/100\n",
      "1265/1265 [==============================] - 2s 2ms/sample - loss: 0.3393\n",
      "Epoch 70/100\n",
      "1265/1265 [==============================] - 1s 589us/sample - loss: 0.3440\n",
      "Epoch 71/100\n",
      "1265/1265 [==============================] - 2s 2ms/sample - loss: 0.3262\n",
      "Epoch 72/100\n",
      "1265/1265 [==============================] - 1s 584us/sample - loss: 0.3336\n",
      "Epoch 73/100\n",
      "1265/1265 [==============================] - 2s 1ms/sample - loss: 0.3189\n",
      "Epoch 74/100\n",
      "1265/1265 [==============================] - 2s 1ms/sample - loss: 0.3043\n",
      "Epoch 75/100\n",
      "1265/1265 [==============================] - 1s 584us/sample - loss: 0.3061\n",
      "Epoch 76/100\n",
      "1265/1265 [==============================] - 1s 583us/sample - loss: 0.3098\n",
      "Epoch 77/100\n",
      "1265/1265 [==============================] - 2s 2ms/sample - loss: 0.2899\n",
      "Epoch 78/100\n",
      "1265/1265 [==============================] - 2s 1ms/sample - loss: 0.2897\n",
      "Epoch 79/100\n",
      "1265/1265 [==============================] - 2s 1ms/sample - loss: 0.2874\n",
      "Epoch 80/100\n",
      "1265/1265 [==============================] - 2s 1ms/sample - loss: 0.2625\n",
      "Epoch 81/100\n",
      "1265/1265 [==============================] - 2s 1ms/sample - loss: 0.2611\n",
      "Epoch 82/100\n",
      "1265/1265 [==============================] - 1s 586us/sample - loss: 0.2662\n",
      "Epoch 83/100\n",
      "1265/1265 [==============================] - 2s 2ms/sample - loss: 0.2608\n",
      "Epoch 84/100\n",
      "1265/1265 [==============================] - 2s 1ms/sample - loss: 0.2596\n",
      "Epoch 85/100\n",
      "1265/1265 [==============================] - 1s 585us/sample - loss: 0.3165\n",
      "Epoch 86/100\n",
      "1265/1265 [==============================] - 2s 1ms/sample - loss: 0.2512\n",
      "Epoch 87/100\n",
      "1265/1265 [==============================] - 2s 1ms/sample - loss: 0.2380\n",
      "Epoch 88/100\n",
      "1265/1265 [==============================] - 2s 1ms/sample - loss: 0.2271\n",
      "Epoch 89/100\n",
      "1265/1265 [==============================] - 2s 2ms/sample - loss: 0.2166\n",
      "Epoch 90/100\n",
      "1265/1265 [==============================] - 2s 1ms/sample - loss: 0.2047\n",
      "Epoch 91/100\n",
      "1265/1265 [==============================] - 2s 1ms/sample - loss: 0.1957\n",
      "Epoch 92/100\n",
      "1265/1265 [==============================] - 2s 1ms/sample - loss: 0.1904\n",
      "Epoch 93/100\n",
      "1265/1265 [==============================] - 2s 2ms/sample - loss: 0.1814\n",
      "Epoch 94/100\n",
      "1265/1265 [==============================] - 2s 2ms/sample - loss: 0.1685\n",
      "Epoch 95/100\n",
      "1265/1265 [==============================] - 2s 2ms/sample - loss: 0.1667\n",
      "Epoch 96/100\n",
      "1265/1265 [==============================] - 1s 580us/sample - loss: 0.1743\n",
      "Epoch 97/100\n",
      "1265/1265 [==============================] - 2s 1ms/sample - loss: 0.1621\n",
      "Epoch 98/100\n",
      "1265/1265 [==============================] - 2s 1ms/sample - loss: 0.1541\n",
      "Epoch 99/100\n",
      "1265/1265 [==============================] - 2s 1ms/sample - loss: 0.1504\n",
      "Epoch 100/100\n",
      "1265/1265 [==============================] - 2s 2ms/sample - loss: 0.1431\n"
     ]
    },
    {
     "data": {
      "text/plain": [
       "<tensorflow.python.keras.callbacks.History at 0x7f69c4226dd8>"
      ]
     },
     "execution_count": 9,
     "metadata": {},
     "output_type": "execute_result"
    }
   ],
   "source": [
    "################## Training ##################\n",
    "#\"\"\"\n",
    "checkpoint = ModelCheckpoint(\n",
    "    'newchpts',\n",
    "    monitor='loss',\n",
    "    verbose=0,\n",
    "    save_best_only=True,\n",
    "    mode='min'\n",
    ")\n",
    "\n",
    "callbacks_list = [checkpoint]\n",
    "model.fit(X, y, epochs=training_epochs, batch_size=training_batch_size, callbacks=callbacks_list)\n",
    "#\"\"\""
   ]
  },
  {
   "cell_type": "code",
   "execution_count": 10,
   "metadata": {},
   "outputs": [
    {
     "data": {
      "application/vnd.jupyter.widget-view+json": {
       "model_id": "cd46e01b520b4e6689bf37d0e911f5b1",
       "version_major": 2,
       "version_minor": 0
      },
      "text/plain": [
       "HBox(children=(IntProgress(value=0, description='generating notes', max=300, style=ProgressStyle(description_w…"
      ]
     },
     "metadata": {},
     "output_type": "display_data"
    },
    {
     "name": "stdout",
     "output_type": "stream",
     "text": [
      "\n"
     ]
    },
    {
     "data": {
      "text/html": [
       "\n",
       "                <div id='midiPlayerDiv44893'></div>\n",
       "                <link rel=\"stylesheet\" href=\"//cuthbertLab.github.io/music21j/css/m21.css\"\n",
       "                    type=\"text/css\" />\n",
       "                <script>\n",
       "                require.config({\n",
       "                    paths: {'music21': '//cuthbertLab.github.io/music21j/src/music21'}\n",
       "                });\n",
       "                require(['music21'], function() {\n",
       "                               mp = new music21.miditools.MidiPlayer();\n",
       "                               mp.addPlayer('#midiPlayerDiv44893');\n",
       "                               mp.base64Load('data:audio/midi;base64,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');\n",
       "                        });\n",
       "                </script>"
      ],
      "text/plain": [
       "<IPython.core.display.HTML object>"
      ]
     },
     "metadata": {},
     "output_type": "display_data"
    },
    {
     "data": {
      "application/vnd.jupyter.widget-view+json": {
       "model_id": "a445115843664cc7b30a1237c6567b67",
       "version_major": 2,
       "version_minor": 0
      },
      "text/plain": [
       "HBox(children=(IntProgress(value=0, description='generating notes', max=300, style=ProgressStyle(description_w…"
      ]
     },
     "metadata": {},
     "output_type": "display_data"
    },
    {
     "name": "stdout",
     "output_type": "stream",
     "text": [
      "\n"
     ]
    },
    {
     "data": {
      "text/html": [
       "\n",
       "                <div id='midiPlayerDiv48794'></div>\n",
       "                <link rel=\"stylesheet\" href=\"//cuthbertLab.github.io/music21j/css/m21.css\"\n",
       "                    type=\"text/css\" />\n",
       "                <script>\n",
       "                require.config({\n",
       "                    paths: {'music21': '//cuthbertLab.github.io/music21j/src/music21'}\n",
       "                });\n",
       "                require(['music21'], function() {\n",
       "                               mp = new music21.miditools.MidiPlayer();\n",
       "                               mp.addPlayer('#midiPlayerDiv48794');\n",
       "                               mp.base64Load('data:audio/midi;base64,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');\n",
       "                        });\n",
       "                </script>"
      ],
      "text/plain": [
       "<IPython.core.display.HTML object>"
      ]
     },
     "metadata": {},
     "output_type": "display_data"
    },
    {
     "data": {
      "application/vnd.jupyter.widget-view+json": {
       "model_id": "b7bc5f0426d346c98975a9ddec0a9af0",
       "version_major": 2,
       "version_minor": 0
      },
      "text/plain": [
       "HBox(children=(IntProgress(value=0, description='generating notes', max=300, style=ProgressStyle(description_w…"
      ]
     },
     "metadata": {},
     "output_type": "display_data"
    },
    {
     "name": "stdout",
     "output_type": "stream",
     "text": [
      "\n"
     ]
    },
    {
     "data": {
      "text/html": [
       "\n",
       "                <div id='midiPlayerDiv52695'></div>\n",
       "                <link rel=\"stylesheet\" href=\"//cuthbertLab.github.io/music21j/css/m21.css\"\n",
       "                    type=\"text/css\" />\n",
       "                <script>\n",
       "                require.config({\n",
       "                    paths: {'music21': '//cuthbertLab.github.io/music21j/src/music21'}\n",
       "                });\n",
       "                require(['music21'], function() {\n",
       "                               mp = new music21.miditools.MidiPlayer();\n",
       "                               mp.addPlayer('#midiPlayerDiv52695');\n",
       "                               mp.base64Load('data:audio/midi;base64,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');\n",
       "                        });\n",
       "                </script>"
      ],
      "text/plain": [
       "<IPython.core.display.HTML object>"
      ]
     },
     "metadata": {},
     "output_type": "display_data"
    },
    {
     "data": {
      "application/vnd.jupyter.widget-view+json": {
       "model_id": "6ee4266d02cc4e4fbbc73c8993a8bbd8",
       "version_major": 2,
       "version_minor": 0
      },
      "text/plain": [
       "HBox(children=(IntProgress(value=0, description='generating notes', max=300, style=ProgressStyle(description_w…"
      ]
     },
     "metadata": {},
     "output_type": "display_data"
    },
    {
     "name": "stdout",
     "output_type": "stream",
     "text": [
      "\n"
     ]
    },
    {
     "data": {
      "text/html": [
       "\n",
       "                <div id='midiPlayerDiv56596'></div>\n",
       "                <link rel=\"stylesheet\" href=\"//cuthbertLab.github.io/music21j/css/m21.css\"\n",
       "                    type=\"text/css\" />\n",
       "                <script>\n",
       "                require.config({\n",
       "                    paths: {'music21': '//cuthbertLab.github.io/music21j/src/music21'}\n",
       "                });\n",
       "                require(['music21'], function() {\n",
       "                               mp = new music21.miditools.MidiPlayer();\n",
       "                               mp.addPlayer('#midiPlayerDiv56596');\n",
       "                               mp.base64Load('data:audio/midi;base64,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');\n",
       "                        });\n",
       "                </script>"
      ],
      "text/plain": [
       "<IPython.core.display.HTML object>"
      ]
     },
     "metadata": {},
     "output_type": "display_data"
    },
    {
     "data": {
      "application/vnd.jupyter.widget-view+json": {
       "model_id": "0a34bbca239742dda0bb990de217af16",
       "version_major": 2,
       "version_minor": 0
      },
      "text/plain": [
       "HBox(children=(IntProgress(value=0, description='generating notes', max=300, style=ProgressStyle(description_w…"
      ]
     },
     "metadata": {},
     "output_type": "display_data"
    },
    {
     "name": "stdout",
     "output_type": "stream",
     "text": [
      "\n"
     ]
    },
    {
     "data": {
      "text/html": [
       "\n",
       "                <div id='midiPlayerDiv60497'></div>\n",
       "                <link rel=\"stylesheet\" href=\"//cuthbertLab.github.io/music21j/css/m21.css\"\n",
       "                    type=\"text/css\" />\n",
       "                <script>\n",
       "                require.config({\n",
       "                    paths: {'music21': '//cuthbertLab.github.io/music21j/src/music21'}\n",
       "                });\n",
       "                require(['music21'], function() {\n",
       "                               mp = new music21.miditools.MidiPlayer();\n",
       "                               mp.addPlayer('#midiPlayerDiv60497');\n",
       "                               mp.base64Load('data:audio/midi;base64,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');\n",
       "                        });\n",
       "                </script>"
      ],
      "text/plain": [
       "<IPython.core.display.HTML object>"
      ]
     },
     "metadata": {},
     "output_type": "display_data"
    },
    {
     "data": {
      "application/vnd.jupyter.widget-view+json": {
       "model_id": "f545e4c2f273413ab817c67f477e5dd8",
       "version_major": 2,
       "version_minor": 0
      },
      "text/plain": [
       "HBox(children=(IntProgress(value=0, description='generating notes', max=300, style=ProgressStyle(description_w…"
      ]
     },
     "metadata": {},
     "output_type": "display_data"
    },
    {
     "name": "stdout",
     "output_type": "stream",
     "text": [
      "\n"
     ]
    },
    {
     "data": {
      "text/html": [
       "\n",
       "                <div id='midiPlayerDiv64398'></div>\n",
       "                <link rel=\"stylesheet\" href=\"//cuthbertLab.github.io/music21j/css/m21.css\"\n",
       "                    type=\"text/css\" />\n",
       "                <script>\n",
       "                require.config({\n",
       "                    paths: {'music21': '//cuthbertLab.github.io/music21j/src/music21'}\n",
       "                });\n",
       "                require(['music21'], function() {\n",
       "                               mp = new music21.miditools.MidiPlayer();\n",
       "                               mp.addPlayer('#midiPlayerDiv64398');\n",
       "                               mp.base64Load('data:audio/midi;base64,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');\n",
       "                        });\n",
       "                </script>"
      ],
      "text/plain": [
       "<IPython.core.display.HTML object>"
      ]
     },
     "metadata": {},
     "output_type": "display_data"
    },
    {
     "data": {
      "application/vnd.jupyter.widget-view+json": {
       "model_id": "229dcc1bfc4e45bca4a5c9db6dace8bd",
       "version_major": 2,
       "version_minor": 0
      },
      "text/plain": [
       "HBox(children=(IntProgress(value=0, description='generating notes', max=300, style=ProgressStyle(description_w…"
      ]
     },
     "metadata": {},
     "output_type": "display_data"
    },
    {
     "name": "stdout",
     "output_type": "stream",
     "text": [
      "\n"
     ]
    },
    {
     "data": {
      "text/html": [
       "\n",
       "                <div id='midiPlayerDiv68299'></div>\n",
       "                <link rel=\"stylesheet\" href=\"//cuthbertLab.github.io/music21j/css/m21.css\"\n",
       "                    type=\"text/css\" />\n",
       "                <script>\n",
       "                require.config({\n",
       "                    paths: {'music21': '//cuthbertLab.github.io/music21j/src/music21'}\n",
       "                });\n",
       "                require(['music21'], function() {\n",
       "                               mp = new music21.miditools.MidiPlayer();\n",
       "                               mp.addPlayer('#midiPlayerDiv68299');\n",
       "                               mp.base64Load('data:audio/midi;base64,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');\n",
       "                        });\n",
       "                </script>"
      ],
      "text/plain": [
       "<IPython.core.display.HTML object>"
      ]
     },
     "metadata": {},
     "output_type": "display_data"
    },
    {
     "data": {
      "application/vnd.jupyter.widget-view+json": {
       "model_id": "138a825f2cff418aa0b96c4eee51d436",
       "version_major": 2,
       "version_minor": 0
      },
      "text/plain": [
       "HBox(children=(IntProgress(value=0, description='generating notes', max=300, style=ProgressStyle(description_w…"
      ]
     },
     "metadata": {},
     "output_type": "display_data"
    },
    {
     "name": "stdout",
     "output_type": "stream",
     "text": [
      "\n"
     ]
    },
    {
     "data": {
      "text/html": [
       "\n",
       "                <div id='midiPlayerDiv72200'></div>\n",
       "                <link rel=\"stylesheet\" href=\"//cuthbertLab.github.io/music21j/css/m21.css\"\n",
       "                    type=\"text/css\" />\n",
       "                <script>\n",
       "                require.config({\n",
       "                    paths: {'music21': '//cuthbertLab.github.io/music21j/src/music21'}\n",
       "                });\n",
       "                require(['music21'], function() {\n",
       "                               mp = new music21.miditools.MidiPlayer();\n",
       "                               mp.addPlayer('#midiPlayerDiv72200');\n",
       "                               mp.base64Load('data:audio/midi;base64,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');\n",
       "                        });\n",
       "                </script>"
      ],
      "text/plain": [
       "<IPython.core.display.HTML object>"
      ]
     },
     "metadata": {},
     "output_type": "display_data"
    },
    {
     "data": {
      "application/vnd.jupyter.widget-view+json": {
       "model_id": "344b08274321485eaaed8aa7a2f1e86e",
       "version_major": 2,
       "version_minor": 0
      },
      "text/plain": [
       "HBox(children=(IntProgress(value=0, description='generating notes', max=300, style=ProgressStyle(description_w…"
      ]
     },
     "metadata": {},
     "output_type": "display_data"
    },
    {
     "name": "stdout",
     "output_type": "stream",
     "text": [
      "\n"
     ]
    },
    {
     "data": {
      "text/html": [
       "\n",
       "                <div id='midiPlayerDiv76101'></div>\n",
       "                <link rel=\"stylesheet\" href=\"//cuthbertLab.github.io/music21j/css/m21.css\"\n",
       "                    type=\"text/css\" />\n",
       "                <script>\n",
       "                require.config({\n",
       "                    paths: {'music21': '//cuthbertLab.github.io/music21j/src/music21'}\n",
       "                });\n",
       "                require(['music21'], function() {\n",
       "                               mp = new music21.miditools.MidiPlayer();\n",
       "                               mp.addPlayer('#midiPlayerDiv76101');\n",
       "                               mp.base64Load('data:audio/midi;base64,TVRoZAAAAAYAAQABBABNVHJrAAAKQgD/AwAA4ABAAJBAWoIAgEAAAJBEWgCQNFoAkC9aggCANAAAkDhaggCAOAAAkDtaggCAOwAAkEBaggCAQAAAkDRaggCANAAAkDhaggCAOAAAkDtaggCAOwAAkEBaggCARAAAgEAAAJBCWgCQM1qCAIAzAACQNlqCAIBCAACANgAAkDtaggCAOwAAkD9aggCALwAAgD8AAJBEWgCQM1oAkC1aggCAMwAAkDZaggCARAAAgDYAAJBFWgCQO1qCAIA7AACQP1qCAIAtAACARQAAgD8AAJBHWgCQNFoAkCxaggCANAAAkDhaggCAOAAAkDtaggCAOwAAkEBaggCARwAAgEAAAJBEWgCQNFqCAIA0AACQOFqCAIA4AACQO1qCAIA7AACQQFqCAIAsAACARAAAgEAAAJBCWgCQNFoAkC1aggCANAAAkDZaggCANgAAkD1aggCAPQAAkEBaggCAQgAAgEAAAJBEWgCQNFqCAIA0AACQNlqCAIA2AACQPVqCAIA9AACQQFqCAIAtAACARAAAgEAAAJBCWgCQNFoAkC9aggCANAAAkDZaggCANgAAkD1aggCAPQAAkEBaggCAQgAAgEAAAJBJWgCQNFqCAIA0AACQNlqCAIA2AACQPVqCAIA9AACQQFqCAIAvAACASQAAgEAAAJBCWgCQNFoAkC9aggCANAAAkDhaggCAOAAAkD1aggCAPQAAkEBaggCAQgAAgEAAAJBMWgCQNlqCAIA2AACQOlqCAIA6AACQQFqCAIBAAACQQlqCAIAvAACATAAAgEIAAJBMWgCQOFoAkC9aggCAOAAAkDtaggCAOwAAkEBaggCAQAAAkERaggCATAAAgEQAAJBHWgCQOFqCAIA4AACQO1qCAIA7AACQQFqCAIBAAACQRFqCAIAvAACARAAAkDtaAJAvWoIAgDsAAJA7WoIAgEcAAIA7AACQR1oAkEBaggCAQAAAkEJaggCARwAAgEIAAJBJWgCQOVqCAIA5AACQO1qCAIBJAACAOwAAkEdaAJA/WoIAgD8AAJBCWoIAgC8AAIBHAACAQgAAkEVaAJA2WgCQNFqCAIA2AACQOVqCAIA5AACQO1qCAIA7AACQP1qCAIA0AACAPwAAkDZaAJAvWoIAgDYAAJA5WoIAgDkAAJA7WoIAgDsAAJA/WoIAgEUAAIAvAACAPwAAkDRaggCQOFqCAIA4AACQQloAkDtaggCAOwAAkEBaggCANAAAgEIAAIBAAIIAkDhaggCAOAAAkEVaAJA7WoIAgDsAAJBAWoIAgEUAAIBAAACQR1oAkDRaggCANAAAkDhaggCAOAAAkDtaggCAOwAAkEBaggCARwAAgEAAAJBEWgCQNFoAkC9aggCANAAAkDhaggCAOAAAkDtaggCAOwAAkEBaggCARAAAgC8AAIBAAACQQloAkDRaAJAuWoIAgDQAAJA2WoIAgDYAAJA9WoIAgD0AAJBAWoIAgEIAAIAuAACAQAAAkERaAJA0WgCQLFqCAIA0AACQNlqCAIA2AACQPVqCAIA9AACQQFqCAIBEAACALAAAgEAAAJBHWgCQNFoAkCxaggCANAAAkDhaggCAOAAAkDtaggCAOwAAkEJaggCARwAAgCwAAIBCAACQR1oAkDRaAJAvWoIAgDQAAJA4WoIAgDgAAJA7WoIAgDsAAJBAWoIAgEcAAIAvAACAQAAAkEdaAJA0WgCQL1qCAIA0AACQO1qCAIA7AACQQFqCAIBAAACQQlqCAIBHAACALwAAgEIAAJBLWgCQNloAkC9aggCANgAAkDtaggCAOwAAkEBaggCAQAAAkEJaggCASwAAgC8AAIBCAACQSVoAkDZaAJAxWoIAgDYAAJA6WoIAgDoAAJA/WoIAgD8AAJBCWoIAgEkAAIAxAACAQgAAkEdaAJA2WgCQM1qCAIA2AACQO1qCAIA7AACQP1qCAIA/AACQQlqCAIBHAACAMwAAgEIAAJBJWgCQO1oAkDVaggCAOwAAkD1aggCAPQAAkD1aggCAPQAAkERaggCASQAAgDUAAIBEAACQNloAkDlaggCAOQAAkD1aggCAPQAAkEBaggCAQAAAkEdaAJA2WgCQL1qCAIA2AACANgAAkDlaggCARwAAgDkAAJBCWgCQO1qCAIA7AACQP1qCAIAvAACAQgAAgD8AAJA0WoIAkDhaggCAOAAAkDtaggCAOwAAkEBaggCANAAAgEAAAJBHWgCQNFoAkC1aggCANAAAkDZaggCARwAAgDYAAJBFWgCQPVqCAIA9AACQQFqCAIAtAACARQAAgEAAAJBEWgCQNFoAkC9aggCANAAAkDhaggCAOAAAkDtaggCAOwAAkEBaggCAQAAAkDRaggCANAAAkDhaggCAOAAAkDtaggCAOwAAkEBaggCARAAAgC8AAIBAAACQQloAkDNaAJAvWoIAgDMAAJA2WoIAgEIAAIAvAACANgCCAJA/WoIAgD8AAJBFWgCQL1oAkCdaggCALwAAkDZaggCANgAAkDlaggCAOQAAkDtaggCARQAAgCcAAIA7AACQRFoAkC9aAJAoWoIAgC8AAJA0WoIAgDQAAJA4WoIAgDgAAJA7WoIAgEQAAIAoAACAOwAAkEJaAJAvWgCQLFqCAIAvAACQM1qCAIAzAACQOVqCAIA5AACQO1qCAIBCAACALAAAgDsAAJBMWgCQNloAkC5aggCANgAAkD1aggCAPQAAkEBaggCAQAAAkEJaggCATAAAgC4AAIBCAACQS1oAkDZaAJAvWoIAgDYAAJA7WoIAgDsAAJA/WoIAgD8AAJBCWoIAgEsAAIAvAACAQgAAkElaAJA2WgCQMVqCAIA2AACQOlqCAIA6AACQQFqCAIBAAACQQlqCAIBJAACAMQAAgEIAAJBHWgCQNloAkDNaggCANgAAkDtaggCAOwAAkD9aggCAPwAAkEJaggCARwAAgDMAAIBCAACQSVoAkDtaAJA1WoIAgDsAAJA9WoIAgD0AAJA9WoIAgD0AAJBEWoIAgEkAAIA1AACARAAAkDZaAJA5WoIAgDkAAJA9WoIAgD0AAJBAWoIAgEAAAJBHWgCQNloAkC9aggCANgAAgDYAAJA5WoIAgEcAAIA5AACQQloAkDtaggCAOwAAkD9aggCALwAAgEIAAIA/AACQNFqCAJA4WoIAgDgAAJA7WoIAgDsAAJBAWoIAgDQAAIBAAACQR1oAkDRaAJAtWoIAgDQAAJA2WoIAgEcAAIA2AACQRVoAkD1aggCAPQAAkEBaggCALQAAgEUAAIBAAACQRFoAkDRaAJAvWoIAgDQAAJA4WoIAgDgAAJA7WoIAgDsAAJBAWoIAgEAAAJA0WoIAgDQAAJA4WoIAgDgAAJA7WoIAgDsAAJBAWoIAgEQAAIAvAACAQAAAkEJaAJAzWgCQL1qCAIAzAACQNlqCAIBCAACALwAAgDYAggCQP1qCAIA/AACQRVoAkC9aAJAnWoIAgC8AhgCARQAAgCcAiAD/LwA=');\n",
       "                        });\n",
       "                </script>"
      ],
      "text/plain": [
       "<IPython.core.display.HTML object>"
      ]
     },
     "metadata": {},
     "output_type": "display_data"
    },
    {
     "data": {
      "application/vnd.jupyter.widget-view+json": {
       "model_id": "5db2682965bb4b9982bf62dceb4d959a",
       "version_major": 2,
       "version_minor": 0
      },
      "text/plain": [
       "HBox(children=(IntProgress(value=0, description='generating notes', max=300, style=ProgressStyle(description_w…"
      ]
     },
     "metadata": {},
     "output_type": "display_data"
    },
    {
     "name": "stdout",
     "output_type": "stream",
     "text": [
      "\n"
     ]
    },
    {
     "data": {
      "text/html": [
       "\n",
       "                <div id='midiPlayerDiv80002'></div>\n",
       "                <link rel=\"stylesheet\" href=\"//cuthbertLab.github.io/music21j/css/m21.css\"\n",
       "                    type=\"text/css\" />\n",
       "                <script>\n",
       "                require.config({\n",
       "                    paths: {'music21': '//cuthbertLab.github.io/music21j/src/music21'}\n",
       "                });\n",
       "                require(['music21'], function() {\n",
       "                               mp = new music21.miditools.MidiPlayer();\n",
       "                               mp.addPlayer('#midiPlayerDiv80002');\n",
       "                               mp.base64Load('data:audio/midi;base64,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');\n",
       "                        });\n",
       "                </script>"
      ],
      "text/plain": [
       "<IPython.core.display.HTML object>"
      ]
     },
     "metadata": {},
     "output_type": "display_data"
    }
   ],
   "source": [
    "################## Inference ##################\n",
    "for i in range(0, 10):\n",
    "    # get random notes from training data\n",
    "    start = np.random.randint(0, len(X)-1)\n",
    "    seed = X[start]\n",
    "    # predict model output of specified length, starting with the previously created seed\n",
    "    prediction_output = predict_notes(model, seed, generated_notes_length, len(unique_temporal_differences), len(unique_notes), len(unique_durations)) \n",
    "\n",
    "    # Convert feature set back to music\n",
    "    output_notes = convert_musiclist_to_music(prediction_output)\n",
    "\n",
    "    # Finally: Play music!\n",
    "    play_music(output_notes, file_name+str(i)+'.mid')"
   ]
  },
  {
   "cell_type": "code",
   "execution_count": null,
   "metadata": {},
   "outputs": [],
   "source": []
  }
 ],
 "metadata": {
  "kernelspec": {
   "display_name": "Python 3",
   "language": "python",
   "name": "python3"
  },
  "language_info": {
   "codemirror_mode": {
    "name": "ipython",
    "version": 3
   },
   "file_extension": ".py",
   "mimetype": "text/x-python",
   "name": "python",
   "nbconvert_exporter": "python",
   "pygments_lexer": "ipython3",
   "version": "3.8.8"
  }
 },
 "nbformat": 4,
 "nbformat_minor": 2
}
