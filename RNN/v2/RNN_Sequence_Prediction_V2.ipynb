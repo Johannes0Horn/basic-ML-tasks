{
 "cells": [
  {
   "cell_type": "markdown",
   "metadata": {},
   "source": [
    "# SEQUENCE PREDICTION"
   ]
  },
  {
   "cell_type": "code",
   "execution_count": 1,
   "metadata": {},
   "outputs": [],
   "source": [
    "################## Imports ##################\n",
    "from music21 import converter, instrument, note, chord, stream, tempo\n",
    "from tensorflow.python.keras.utils import to_categorical\n",
    "from tensorflow.python.keras.callbacks import ModelCheckpoint\n",
    "from tensorflow.python.keras.models import Sequential\n",
    "from tensorflow.python.keras.layers import Dense, Dropout, CuDNNLSTM, Reshape\n",
    "from tqdm import tnrange\n",
    "import numpy as np\n",
    "import os\n",
    "import glob"
   ]
  },
  {
   "cell_type": "code",
   "execution_count": 2,
   "metadata": {},
   "outputs": [],
   "source": [
    "################## Pre Processing ##################\n",
    "\n",
    "######### PARAMETERS #########\n",
    "# preprocessing\n",
    "music_directories = ('../../beeth', )\n",
    "sequence_length = 50#aber mi 24 trainiert\n",
    "\n",
    "# training\n",
    "training_epochs = 100\n",
    "training_batch_size = 32 #1024\n",
    "\n",
    "# inference\n",
    "generated_notes_length = 300\n",
    "file_name = 'test_gen_beeth_'"
   ]
  },
  {
   "cell_type": "code",
   "execution_count": 3,
   "metadata": {},
   "outputs": [],
   "source": [
    "################## Pre Processing ##################\n",
    "######### FUNCTIONS #########\n",
    "\n",
    "# Load music file in given directories. Merge multiple hands and return music dictionary. This dictionary contains all notes for both hands at each global timestep\n",
    "def load_music(data_dirs):\n",
    "    music = {}\n",
    "    total_offset = 0\n",
    "    # load all files in all dirs\n",
    "    for path in data_dirs:\n",
    "        for file in glob.glob(path + '/*.mid'):\n",
    "            print('parsing file ' + file)\n",
    "            midi = converter.parse(file)\n",
    "            notes_to_parse = midi.recurse()\n",
    "            # falls mindestens 1 element in music, get totaloffset as biggest element of music\n",
    "            if len(music.keys()) > 0:\n",
    "                total_offset= sorted(music.keys())[-1]\n",
    "            #go through all nodes\n",
    "            for el in notes_to_parse:\n",
    "                #check if offset is defined as float already \n",
    "                offset = float(el.offset)\n",
    "                offset += total_offset\n",
    "                #check if offset already occured before, no merge both the part of left and right hand\n",
    "                if offset not in music:\n",
    "                    music[offset] = []\n",
    "                if isinstance(el, note.Note):\n",
    "                    music[offset].append(el)\n",
    "                elif isinstance(el, chord.Chord):\n",
    "                    for element in el.notes:\n",
    "                        music[offset].append(element)\n",
    "                else:\n",
    "                    if offset in music: del music[offset]\n",
    "    return music\n",
    "\n",
    "# If a given note (pitch) is flat, transform into sharp (requires flat_to_sharp mapping)\n",
    "def to_sharp(pitch):\n",
    "    # Mapping from flat to sharp notes in order to decrease dimensionality\n",
    "    flat_to_sharp={\n",
    "        'D-':'C#',\n",
    "        'E-':'D#',\n",
    "        'G-':'F#',\n",
    "        'A-':'G#',\n",
    "        'B-':'A#'\n",
    "    }\n",
    "    #pitch=e.g. 'E-4'\n",
    "    if pitch not in ['-1']:\n",
    "        if '-' in pitch:\n",
    "            #flat!\n",
    "            #get octave:\n",
    "            octave = pitch[-1]\n",
    "            return flat_to_sharp[pitch[:2]] + octave#0 to 1\n",
    "        else:\n",
    "            return pitch\n",
    "    else:\n",
    "        return pitch\n",
    "    \n",
    "#sort notes: 1. octave 2. pitch =>actual hight, not character\n",
    "def sort_notes(unique_note_freqs):\n",
    "#define all possible pitches\n",
    "    possible_pitches = ['C','C#','D','D#','E','F','F#','G', 'G#','A','A#','B']\n",
    "    all_pitches=[]\n",
    "    for i in range(0,8):#1 to 7\n",
    "        for pitch in possible_pitches:\n",
    "            all_pitches.append(pitch+str(i))\n",
    "    valid_pitches=[]\n",
    "    for all_pitch in all_pitches:\n",
    "        if all_pitch in unique_note_freqs:\n",
    "            valid_pitches.append(all_pitch)\n",
    "    return valid_pitches\n",
    "\n",
    "# Convert music dictionary to music list\n",
    "def music_dict_to_list(music_dict):\n",
    "    music_list=[]\n",
    "    for key in sorted(music_dict):\n",
    "        music_list.append([key, music_dict[key]])\n",
    "    return music_list\n",
    "\n",
    "# get unqiue list of notes from given music list\n",
    "def get_unique_notes(music_list):\n",
    "    unique_notes = []\n",
    "    for _, notes in music_list:\n",
    "        #for each note      \n",
    "        for _, current_note in enumerate(notes):\n",
    "            current_pitch = to_sharp(str(current_note.pitch))\n",
    "            #get all unique notes:\n",
    "            if current_pitch not in unique_notes:\n",
    "                unique_notes.append(current_pitch)\n",
    "    return unique_notes\n",
    "\n",
    "# get unique list of durations form given music list\n",
    "def get_unique_durations(music_list):\n",
    "    unique_durations = []\n",
    "    for _, notes in music_list:\n",
    "        #for each note      \n",
    "        for _, current_note in enumerate(notes):\n",
    "            current_duration = float(current_note.quarterLength)\n",
    "            #get all unique durations:\n",
    "            if current_duration not in unique_durations:\n",
    "                unique_durations.append(current_duration)\n",
    "    return unique_durations\n",
    "\n",
    "# get unique list of durations form given music list\n",
    "def get_unique_temporal_differences(music_list):\n",
    "    unique_temporal_differences = [0.0]\n",
    "    i = 0\n",
    "    for _, notes in music_list:\n",
    "        #define temporal difference\n",
    "        #temporal difference: time until next note in list\n",
    "        #e.g. if it's 0 it play simultaneously with next note\n",
    "        #check if next note at i+1 exists to calculate time until next note\n",
    "        if len(music_list) > i+1:\n",
    "            #temporal differnce = duration from current timestamp to next timestamp\n",
    "            temporal_difference = music_list[i+1][0] - music_list[i][0]\n",
    "        else:\n",
    "            #for last note\n",
    "            #temporal differnce = duration of note\n",
    "            temporal_difference = notes[0].quarterLength\n",
    "        if temporal_difference not in unique_temporal_differences:\n",
    "            unique_temporal_differences.append(temporal_difference)\n",
    "        i+=1\n",
    "    return unique_temporal_differences\n",
    "\n",
    "# transform a music list into training data. We select 3 features for each note.\n",
    "def create_training_data(music_list):\n",
    "    training_data = []\n",
    "    i=0\n",
    "    for timestamp, notes in music_list:\n",
    "        if len(music_list) > i+1:\n",
    "            #temporal differnce = duration from current timestamp to next timestamp\n",
    "            temporal_difference = music_list[i+1][0] - music_list[i][0]\n",
    "        else:\n",
    "            #for last note\n",
    "            #temporal differnce = duration of note\n",
    "            temporal_difference = notes[0].quarterLength\n",
    "        #for each note      \n",
    "        for idx, current_note in enumerate(notes):\n",
    "            current_pitch = to_sharp(str(current_note.pitch))#to_sharp translates notes with 2 names => reduce input space\n",
    "            current_duration = float(current_note.quarterLength)\n",
    "            #append to training_data \n",
    "            if (idx+1) == len(notes):\n",
    "                #last note in timestamp\n",
    "                training_data.append([temporal_difference, current_pitch, current_duration])\n",
    "            else:\n",
    "                #temporal difference of 0 for simultaneous notes\n",
    "                training_data.append([0, current_pitch, current_duration])\n",
    "        i += 1\n",
    "    return training_data\n",
    "\n",
    "# create training sequences and the correpsonding outputs for given training data\n",
    "def create_sequences(training_data, sequence_length):\n",
    "    X = []\n",
    "    y = []\n",
    "    for i in range(0, len(training_data) - sequence_length):\n",
    "        sequence_in = training_data[i:i + sequence_length]\n",
    "        sequence_out = training_data[i + sequence_length]\n",
    "        X.append(sequence_in)\n",
    "        y.append(sequence_out)\n",
    "    return X, y\n",
    "\n",
    "# normalize input sequences\n",
    "def normalize_input(X, unique_note_to_int, unique_duration_to_int, unique_temporal_difference_to_int):\n",
    "    normalized_X=[]\n",
    "    for sequence in X:\n",
    "        normalized_sequence_X = []\n",
    "        for data in sequence:\n",
    "            normalized_single_X=[]\n",
    "            # normalize temporal_diff:\n",
    "            normalized_single_X.append(unique_temporal_difference_to_int[data[0]]/len(unique_temporal_difference_to_int.keys()))\n",
    "            # normalize pitch\n",
    "            normalized_single_X.append(unique_note_to_int[data[1]]/len(unique_note_to_int.keys()))\n",
    "            # normalize duration\n",
    "            normalized_single_X.append(unique_duration_to_int[data[2]]/len(unique_duration_to_int.keys()))\n",
    "            # append normalized feature set to sequence\n",
    "            normalized_sequence_X.append(normalized_single_X)\n",
    "        normalized_X.append(normalized_sequence_X)\n",
    "    return normalized_X\n",
    "\n",
    "# normalize output feature set\n",
    "def normalize_output(y, unique_note_to_int, unique_duration_to_int, unique_temporal_difference_to_int):\n",
    "    normalized_y = []\n",
    "    for data in y:\n",
    "        normalized_single_y=[]\n",
    "        # normalize temporal_diff:\n",
    "        normalized_single_y.append(unique_temporal_difference_to_int[data[0]])\n",
    "        # normalize pitch\n",
    "        normalized_single_y.append(unique_note_to_int[data[1]])\n",
    "        # normalize duration\n",
    "        normalized_single_y.append(unique_duration_to_int[data[2]])\n",
    "        # append normalized feature set to y\n",
    "        normalized_y.append(normalized_single_y)\n",
    "    normalized_y = to_categorical(normalized_y)\n",
    "    return normalized_y\n",
    "\n",
    "# predict output feature sets with trained model\n",
    "def predict_notes(model, pattern, generated_notes_length, unique_temporal_differences_length, unique_notes_length, unique_durations_length):\n",
    "    prediction_output = []\n",
    "    for note_index in tnrange(generated_notes_length, desc='generating notes'):\n",
    "        # predict next feature set with given pattern\n",
    "        prediction_input = np.reshape(pattern, (1, pattern.shape[0], pattern.shape[1]))\n",
    "        \n",
    "        #print(\"prediction input:\\n\",prediction_input)\n",
    "        \n",
    "        prediction = model.predict(prediction_input, verbose=0)\n",
    "        \n",
    "        # get max predictions\n",
    "        index_temporal_difference = np.argmax(prediction[0][0])\n",
    "        index_note = np.argmax(prediction[0][1])\n",
    "        index_duration = np.argmax(prediction[0][2])\n",
    "        \n",
    "        #print(\"prediction 0\", prediction[0][0])\n",
    "        #print(\"prediction 1\", prediction[0][1])\n",
    "        #print(\"prediction 2\", prediction[0][2])\n",
    "        \n",
    "        #print(\"prediction index 0\", index_temporal_difference)\n",
    "        #print(\"prediction index 1\", index_note)\n",
    "        #print(\"prediction index 2\", index_duration)\n",
    "\n",
    "        # transform prediction at max index\n",
    "        result_temporal_difference = int_to_unique_temporal_difference[index_temporal_difference]\n",
    "        result_note = int_to_unique_note[index_note]\n",
    "        result_duration = int_to_unique_duration[index_duration]\n",
    "        \n",
    "        # Normalize predictions to append it to the sequence\n",
    "        result_temporal_difference_normalized = index_temporal_difference/unique_temporal_differences_length\n",
    "        result_note_normalized = index_note/unique_notes_length\n",
    "        result_duration_normalized = index_duration/unique_durations_length\n",
    "        \n",
    "        #print(\"result 0\", result_temporal_difference)\n",
    "        #print(\"result 1\", result_note)\n",
    "        #print(\"result 2\", result_duration)\n",
    "\n",
    "        # append result to output\n",
    "        prediction_output.append([result_temporal_difference, result_note, result_duration])\n",
    "        \n",
    "        # add new pattern in order to generate next feature set\n",
    "        #pattern = np.vstack((pattern, (result_temporal_difference,result_note_normalized,result_duration)))\n",
    "        pattern = np.vstack((pattern, (result_temporal_difference_normalized,result_note_normalized,result_duration_normalized)))\n",
    "        pattern = np.delete(pattern, 0, 0)\n",
    "    return prediction_output\n",
    "\n",
    "# convert \n",
    "def convert_musiclist_to_music(prediction_output):\n",
    "    offset = 0\n",
    "    output_notes = []\n",
    "    # create note and chord objects based on the values generated by the model\n",
    "    for feature_set in prediction_output:  \n",
    "        # get single values from generated feature set\n",
    "        gen_offset = feature_set[0]\n",
    "        gen_note = feature_set[1]\n",
    "        gen_duration = feature_set[2]\n",
    "\n",
    "        # create note\n",
    "        new_note = note.Note(gen_note, quarterLength=gen_duration)\n",
    "        new_note.offset = offset\n",
    "        new_note.storedInstrument = instrument.Piano()\n",
    "        output_notes.append(new_note)\n",
    "\n",
    "        # increase offset each iteration\n",
    "        offset += gen_offset\n",
    "    return output_notes\n",
    "\n",
    "# play generated music\n",
    "def play_music(output_notes, file_name):\n",
    "    midi_stream = stream.Stream(output_notes) #output_notes\n",
    "    #mm1 = tempo.MetronomeMark('slow')\n",
    "    #midi_stream.append(mm1)\n",
    "    #midi_stream.append(output_notes)\n",
    "    midi_stream.write('midi', fp=file_name)\n",
    "    midi_stream.show('midi')\n",
    "    #midi_stream.show('text')"
   ]
  },
  {
   "cell_type": "code",
   "execution_count": 4,
   "metadata": {
    "scrolled": true
   },
   "outputs": [
    {
     "name": "stdout",
     "output_type": "stream",
     "text": [
      "parsing file ../../beeth/mond_3.mid\n",
      "parsing file ../../beeth/beethoven_opus10_3.mid\n",
      "parsing file ../../beeth/beethoven_opus22_3.mid\n",
      "parsing file ../../beeth/pathetique_2.mid\n",
      "parsing file ../../beeth/waldstein_2.mid\n",
      "parsing file ../../beeth/beethoven_opus90_2.mid\n",
      "parsing file ../../beeth/beethoven_hammerklavier_4.mid\n",
      "parsing file ../../beeth/appass_2.mid\n",
      "parsing file ../../beeth/beethoven_hammerklavier_3.mid\n",
      "parsing file ../../beeth/waldstein_1.mid\n",
      "parsing file ../../beeth/beethoven_les_adieux_1.mid\n",
      "parsing file ../../beeth/appass_1.mid\n",
      "parsing file ../../beeth/beethoven_opus10_1.mid\n",
      "parsing file ../../beeth/beethoven_opus22_2.mid\n",
      "parsing file ../../beeth/beethoven_hammerklavier_1.mid\n",
      "parsing file ../../beeth/appass_3.mid\n",
      "parsing file ../../beeth/beethoven_opus90_1.mid\n",
      "parsing file ../../beeth/elise.mid\n",
      "parsing file ../../beeth/pathetique_1.mid\n",
      "parsing file ../../beeth/beethoven_hammerklavier_2.mid\n",
      "parsing file ../../beeth/beethoven_opus22_4.mid\n",
      "parsing file ../../beeth/pathetique_3.mid\n",
      "parsing file ../../beeth/mond_1.mid\n",
      "parsing file ../../beeth/beethoven_les_adieux_3.mid\n",
      "parsing file ../../beeth/beethoven_les_adieux_2.mid\n",
      "parsing file ../../beeth/mond_2.mid\n",
      "parsing file ../../beeth/waldstein_3.mid\n",
      "parsing file ../../beeth/beethoven_opus22_1.mid\n",
      "parsing file ../../beeth/beethoven_opus10_2.mid\n",
      "# Parsed music length: 52303\n",
      "# Unique notes:\n",
      " ['C1', 'C#1', 'D1', 'D#1', 'E1', 'F1', 'F#1', 'G1', 'G#1', 'A1', 'A#1', 'B1', 'C2', 'C#2', 'D2', 'D#2', 'E2', 'F2', 'F#2', 'G2', 'G#2', 'A2', 'A#2', 'B2', 'C3', 'C#3', 'D3', 'D#3', 'E3', 'F3', 'F#3', 'G3', 'G#3', 'A3', 'A#3', 'B3', 'C4', 'C#4', 'D4', 'D#4', 'E4', 'F4', 'F#4', 'G4', 'G#4', 'A4', 'A#4', 'B4', 'C5', 'C#5', 'D5', 'D#5', 'E5', 'F5', 'F#5', 'G5', 'G#5', 'A5', 'A#5', 'B5', 'C6', 'C#6', 'D6', 'D#6', 'E6', 'F6', 'F#6', 'G6', 'G#6', 'A6', 'A#6', 'B6', 'C7', 'C#7', 'D7', 'D#7', 'E7', 'F7']\n",
      "# Unique durations: [0.25, 1.0, 0.0, 0.5, 8.0, 0.75, 2.0, 7.5, 1.5, 2.25, 3.0, 1.75, 1.6666666666666667, 1.3333333333333333, 1.25, 3.5, 3.3333333333333335, 3.25, 3.75, 0.3333333333333333, 5.333333333333333, 5.0, 4.0, 0.6666666666666666, 2.5, 7.333333333333333, 7.0, 6.666666666666667, 6.333333333333333, 2.6666666666666665, 2.3333333333333335, 4.25, 4.5, 2.75, 9.0, 6.0, 11.75, 12.0, 3.6666666666666665]\n",
      "# Max duration: 12.0\n",
      "# Unique temporal differences [0.0, 0.25, 0.5, 0.75, 1.0, 3.0, 0.0833333333333286, 0.1666666666666714, 2.25, 0.08333333333334281, 0.1666666666666572, 1.25, 0.08333333333331439, 0.16666666666668561, 4.0, 0.08333333333337123, 0.16666666666662877, 0.33333333333337123, 3.5, 0.33333333333325754, 0.5833333333333712, 0.41666666666662877, 2.5, 1.5833333333333712, 3.3333333333333712, 2.6666666666666288, 7.333333333333371, 2.0, 1.5, 0.16666666666674246, 0.08333333333325754, 0.3333333333334849, 0.6666666666665151, 5.5, 2.75, 0.33333333333303017, 0.6666666666669698, 0.16666666666651508, 0.08333333333348492, 5.0, 3.25, 4.25, 2.083333333333485, 1.083333333333485, 0.5833333333334849, 0.4166666666665151, 1.75, 1.666666666666515, 2.33333333333303, 1.333333333333485, 0.8333333333334849, 1.166666666666515, 8.0, 0.08333333333303017, 0.16666666666696983, 0.33333333333393966, 1.5833333333330302, 1.1666666666669698, 1.3333333333330302, 0.5833333333330302, 1.6666666666660603, 1.6666666666669698, 0.41666666666696983, 0.6666666666660603, 7.0, 7.5, 6.5, 4.5, 6.0, 0.8333333333330302, 5.75, 18.5, 4.75, 3.75, 0.3333333333321207, 4.33333333333394, 0.16666666666606034, 0.08333333333393966, 3.8333333333339397, 0.41666666666606034, 0.5833333333339397, 1.3333333333339397, 0.9166666666660603, 3.3333333333339397, 3.6666666666660603, 1.5833333333339397, 5.25, 0.8333333333339397, 0.6666666666678793, 2.3333333333339397, 1.6666666666678793, 6.33333333333394, 6.25, 0.08333333333212067, 0.16666666666787933, 0.5833333333321207, 0.4166666666678793, 0.33333333333575865, 7.25, 3.6666666666678793, 2.6666666666678793, 1.3333333333321207, 0.6666666666642413, 2.3333333333321207, 1.0833333333321207]\n",
      "# Max temporal difference: 18.5\n",
      "# First element of training data (temporal_difference, note, duration):\n",
      " [0.25, 'G#2', 0.25]\n",
      "# Unique note to int:\n",
      " {'C1': 0, 'C#1': 1, 'D1': 2, 'D#1': 3, 'E1': 4, 'F1': 5, 'F#1': 6, 'G1': 7, 'G#1': 8, 'A1': 9, 'A#1': 10, 'B1': 11, 'C2': 12, 'C#2': 13, 'D2': 14, 'D#2': 15, 'E2': 16, 'F2': 17, 'F#2': 18, 'G2': 19, 'G#2': 20, 'A2': 21, 'A#2': 22, 'B2': 23, 'C3': 24, 'C#3': 25, 'D3': 26, 'D#3': 27, 'E3': 28, 'F3': 29, 'F#3': 30, 'G3': 31, 'G#3': 32, 'A3': 33, 'A#3': 34, 'B3': 35, 'C4': 36, 'C#4': 37, 'D4': 38, 'D#4': 39, 'E4': 40, 'F4': 41, 'F#4': 42, 'G4': 43, 'G#4': 44, 'A4': 45, 'A#4': 46, 'B4': 47, 'C5': 48, 'C#5': 49, 'D5': 50, 'D#5': 51, 'E5': 52, 'F5': 53, 'F#5': 54, 'G5': 55, 'G#5': 56, 'A5': 57, 'A#5': 58, 'B5': 59, 'C6': 60, 'C#6': 61, 'D6': 62, 'D#6': 63, 'E6': 64, 'F6': 65, 'F#6': 66, 'G6': 67, 'G#6': 68, 'A6': 69, 'A#6': 70, 'B6': 71, 'C7': 72, 'C#7': 73, 'D7': 74, 'D#7': 75, 'E7': 76, 'F7': 77}\n",
      "# Int to unique note:\n",
      " {0: 'C1', 1: 'C#1', 2: 'D1', 3: 'D#1', 4: 'E1', 5: 'F1', 6: 'F#1', 7: 'G1', 8: 'G#1', 9: 'A1', 10: 'A#1', 11: 'B1', 12: 'C2', 13: 'C#2', 14: 'D2', 15: 'D#2', 16: 'E2', 17: 'F2', 18: 'F#2', 19: 'G2', 20: 'G#2', 21: 'A2', 22: 'A#2', 23: 'B2', 24: 'C3', 25: 'C#3', 26: 'D3', 27: 'D#3', 28: 'E3', 29: 'F3', 30: 'F#3', 31: 'G3', 32: 'G#3', 33: 'A3', 34: 'A#3', 35: 'B3', 36: 'C4', 37: 'C#4', 38: 'D4', 39: 'D#4', 40: 'E4', 41: 'F4', 42: 'F#4', 43: 'G4', 44: 'G#4', 45: 'A4', 46: 'A#4', 47: 'B4', 48: 'C5', 49: 'C#5', 50: 'D5', 51: 'D#5', 52: 'E5', 53: 'F5', 54: 'F#5', 55: 'G5', 56: 'G#5', 57: 'A5', 58: 'A#5', 59: 'B5', 60: 'C6', 61: 'C#6', 62: 'D6', 63: 'D#6', 64: 'E6', 65: 'F6', 66: 'F#6', 67: 'G6', 68: 'G#6', 69: 'A6', 70: 'A#6', 71: 'B6', 72: 'C7', 73: 'C#7', 74: 'D7', 75: 'D#7', 76: 'E7', 77: 'F7'}\n",
      "# Unique duration to int:\n",
      " {0.25: 0, 1.0: 1, 0.0: 2, 0.5: 3, 8.0: 4, 0.75: 5, 2.0: 6, 7.5: 7, 1.5: 8, 2.25: 9, 3.0: 10, 1.75: 11, 1.6666666666666667: 12, 1.3333333333333333: 13, 1.25: 14, 3.5: 15, 3.3333333333333335: 16, 3.25: 17, 3.75: 18, 0.3333333333333333: 19, 5.333333333333333: 20, 5.0: 21, 4.0: 22, 0.6666666666666666: 23, 2.5: 24, 7.333333333333333: 25, 7.0: 26, 6.666666666666667: 27, 6.333333333333333: 28, 2.6666666666666665: 29, 2.3333333333333335: 30, 4.25: 31, 4.5: 32, 2.75: 33, 9.0: 34, 6.0: 35, 11.75: 36, 12.0: 37, 3.6666666666666665: 38}\n",
      "# Int to unique duration:\n",
      " {0: 0.25, 1: 1.0, 2: 0.0, 3: 0.5, 4: 8.0, 5: 0.75, 6: 2.0, 7: 7.5, 8: 1.5, 9: 2.25, 10: 3.0, 11: 1.75, 12: 1.6666666666666667, 13: 1.3333333333333333, 14: 1.25, 15: 3.5, 16: 3.3333333333333335, 17: 3.25, 18: 3.75, 19: 0.3333333333333333, 20: 5.333333333333333, 21: 5.0, 22: 4.0, 23: 0.6666666666666666, 24: 2.5, 25: 7.333333333333333, 26: 7.0, 27: 6.666666666666667, 28: 6.333333333333333, 29: 2.6666666666666665, 30: 2.3333333333333335, 31: 4.25, 32: 4.5, 33: 2.75, 34: 9.0, 35: 6.0, 36: 11.75, 37: 12.0, 38: 3.6666666666666665}\n",
      "# Unique temporal difference to int:\n",
      " {0.0: 0, 0.25: 1, 0.5: 2, 0.75: 3, 1.0: 4, 3.0: 5, 0.0833333333333286: 6, 0.1666666666666714: 7, 2.25: 8, 0.08333333333334281: 9, 0.1666666666666572: 10, 1.25: 11, 0.08333333333331439: 12, 0.16666666666668561: 13, 4.0: 14, 0.08333333333337123: 15, 0.16666666666662877: 16, 0.33333333333337123: 17, 3.5: 18, 0.33333333333325754: 19, 0.5833333333333712: 20, 0.41666666666662877: 21, 2.5: 22, 1.5833333333333712: 23, 3.3333333333333712: 24, 2.6666666666666288: 25, 7.333333333333371: 26, 2.0: 27, 1.5: 28, 0.16666666666674246: 29, 0.08333333333325754: 30, 0.3333333333334849: 31, 0.6666666666665151: 32, 5.5: 33, 2.75: 34, 0.33333333333303017: 35, 0.6666666666669698: 36, 0.16666666666651508: 37, 0.08333333333348492: 38, 5.0: 39, 3.25: 40, 4.25: 41, 2.083333333333485: 42, 1.083333333333485: 43, 0.5833333333334849: 44, 0.4166666666665151: 45, 1.75: 46, 1.666666666666515: 47, 2.33333333333303: 48, 1.333333333333485: 49, 0.8333333333334849: 50, 1.166666666666515: 51, 8.0: 52, 0.08333333333303017: 53, 0.16666666666696983: 54, 0.33333333333393966: 55, 1.5833333333330302: 56, 1.1666666666669698: 57, 1.3333333333330302: 58, 0.5833333333330302: 59, 1.6666666666660603: 60, 1.6666666666669698: 61, 0.41666666666696983: 62, 0.6666666666660603: 63, 7.0: 64, 7.5: 65, 6.5: 66, 4.5: 67, 6.0: 68, 0.8333333333330302: 69, 5.75: 70, 18.5: 71, 4.75: 72, 3.75: 73, 0.3333333333321207: 74, 4.33333333333394: 75, 0.16666666666606034: 76, 0.08333333333393966: 77, 3.8333333333339397: 78, 0.41666666666606034: 79, 0.5833333333339397: 80, 1.3333333333339397: 81, 0.9166666666660603: 82, 3.3333333333339397: 83, 3.6666666666660603: 84, 1.5833333333339397: 85, 5.25: 86, 0.8333333333339397: 87, 0.6666666666678793: 88, 2.3333333333339397: 89, 1.6666666666678793: 90, 6.33333333333394: 91, 6.25: 92, 0.08333333333212067: 93, 0.16666666666787933: 94, 0.5833333333321207: 95, 0.4166666666678793: 96, 0.33333333333575865: 97, 7.25: 98, 3.6666666666678793: 99, 2.6666666666678793: 100, 1.3333333333321207: 101, 0.6666666666642413: 102, 2.3333333333321207: 103, 1.0833333333321207: 104}\n",
      "# Int to unique temporal difference:\n",
      " {0: 0.0, 1: 0.25, 2: 0.5, 3: 0.75, 4: 1.0, 5: 3.0, 6: 0.0833333333333286, 7: 0.1666666666666714, 8: 2.25, 9: 0.08333333333334281, 10: 0.1666666666666572, 11: 1.25, 12: 0.08333333333331439, 13: 0.16666666666668561, 14: 4.0, 15: 0.08333333333337123, 16: 0.16666666666662877, 17: 0.33333333333337123, 18: 3.5, 19: 0.33333333333325754, 20: 0.5833333333333712, 21: 0.41666666666662877, 22: 2.5, 23: 1.5833333333333712, 24: 3.3333333333333712, 25: 2.6666666666666288, 26: 7.333333333333371, 27: 2.0, 28: 1.5, 29: 0.16666666666674246, 30: 0.08333333333325754, 31: 0.3333333333334849, 32: 0.6666666666665151, 33: 5.5, 34: 2.75, 35: 0.33333333333303017, 36: 0.6666666666669698, 37: 0.16666666666651508, 38: 0.08333333333348492, 39: 5.0, 40: 3.25, 41: 4.25, 42: 2.083333333333485, 43: 1.083333333333485, 44: 0.5833333333334849, 45: 0.4166666666665151, 46: 1.75, 47: 1.666666666666515, 48: 2.33333333333303, 49: 1.333333333333485, 50: 0.8333333333334849, 51: 1.166666666666515, 52: 8.0, 53: 0.08333333333303017, 54: 0.16666666666696983, 55: 0.33333333333393966, 56: 1.5833333333330302, 57: 1.1666666666669698, 58: 1.3333333333330302, 59: 0.5833333333330302, 60: 1.6666666666660603, 61: 1.6666666666669698, 62: 0.41666666666696983, 63: 0.6666666666660603, 64: 7.0, 65: 7.5, 66: 6.5, 67: 4.5, 68: 6.0, 69: 0.8333333333330302, 70: 5.75, 71: 18.5, 72: 4.75, 73: 3.75, 74: 0.3333333333321207, 75: 4.33333333333394, 76: 0.16666666666606034, 77: 0.08333333333393966, 78: 3.8333333333339397, 79: 0.41666666666606034, 80: 0.5833333333339397, 81: 1.3333333333339397, 82: 0.9166666666660603, 83: 3.3333333333339397, 84: 3.6666666666660603, 85: 1.5833333333339397, 86: 5.25, 87: 0.8333333333339397, 88: 0.6666666666678793, 89: 2.3333333333339397, 90: 1.6666666666678793, 91: 6.33333333333394, 92: 6.25, 93: 0.08333333333212067, 94: 0.16666666666787933, 95: 0.5833333333321207, 96: 0.4166666666678793, 97: 0.33333333333575865, 98: 7.25, 99: 3.6666666666678793, 100: 2.6666666666678793, 101: 1.3333333333321207, 102: 0.6666666666642413, 103: 2.3333333333321207, 104: 1.0833333333321207}\n",
      "# First X\n",
      " [[0.25, 'G#2', 0.25], [0, 'C#3', 0.25], [0.25, 'G#2', 0.25], [0.25, 'E3', 0.25], [0, 'G#3', 0.25], [0.25, 'C#2', 0.25], [0.25, 'C#3', 0.25], [0, 'E3', 0.25], [0.25, 'G#2', 0.25], [0.25, 'G#3', 0.25], [0, 'C#4', 0.25], [0.25, 'C#2', 0.25], [0.25, 'E3', 0.25], [0, 'G#3', 0.25], [0.25, 'G#2', 0.25], [0.25, 'C#4', 0.25], [0, 'E4', 0.25], [0.25, 'C#2', 0.25], [0.25, 'G#3', 0.25], [0, 'C#4', 0.25], [0.25, 'G#2', 0.25], [0.25, 'E4', 0.25], [0, 'G#4', 0.25], [0.25, 'C#2', 0.25], [0.25, 'C#4', 0.25], [0, 'E4', 0.25], [0.25, 'G#2', 0.25], [0.25, 'G#4', 0.25], [0, 'C#5', 0.25], [0.25, 'C#2', 0.25], [0.25, 'E4', 0.25], [0, 'G#4', 0.25], [0.25, 'G#2', 0.25], [0.25, 'C#5', 0.25], [0, 'E5', 0.25], [0.25, 'C#2', 0.25], [0.25, 'G#4', 0.25], [0, 'C#5', 0.25], [0.25, 'G#2', 0.25], [0.25, 'E5', 0.25], [0, 'C#3', 1.0], [0.5, 'C#2', 1.0], [0, 'G#4', 1.0], [0, 'C#5', 1.0], [0, 'G#5', 1.0], [0, 'E5', 1.0], [0.5, 'G#2', 0.25], [0.25, 'C2', 0.25], [0.25, 'G#2', 0.25], [0, 'C3', 0.25]]\n",
      "# First y\n",
      ": [0.25, 'G#2', 0.25]\n"
     ]
    },
    {
     "name": "stdout",
     "output_type": "stream",
     "text": [
      "# First normalized X\n",
      " [[0.009523809523809525, 0.2564102564102564, 0.0], [0.0, 0.32051282051282054, 0.0], [0.009523809523809525, 0.2564102564102564, 0.0], [0.009523809523809525, 0.358974358974359, 0.0], [0.0, 0.41025641025641024, 0.0], [0.009523809523809525, 0.16666666666666666, 0.0], [0.009523809523809525, 0.32051282051282054, 0.0], [0.0, 0.358974358974359, 0.0], [0.009523809523809525, 0.2564102564102564, 0.0], [0.009523809523809525, 0.41025641025641024, 0.0], [0.0, 0.47435897435897434, 0.0], [0.009523809523809525, 0.16666666666666666, 0.0], [0.009523809523809525, 0.358974358974359, 0.0], [0.0, 0.41025641025641024, 0.0], [0.009523809523809525, 0.2564102564102564, 0.0], [0.009523809523809525, 0.47435897435897434, 0.0], [0.0, 0.5128205128205128, 0.0], [0.009523809523809525, 0.16666666666666666, 0.0], [0.009523809523809525, 0.41025641025641024, 0.0], [0.0, 0.47435897435897434, 0.0], [0.009523809523809525, 0.2564102564102564, 0.0], [0.009523809523809525, 0.5128205128205128, 0.0], [0.0, 0.5641025641025641, 0.0], [0.009523809523809525, 0.16666666666666666, 0.0], [0.009523809523809525, 0.47435897435897434, 0.0], [0.0, 0.5128205128205128, 0.0], [0.009523809523809525, 0.2564102564102564, 0.0], [0.009523809523809525, 0.5641025641025641, 0.0], [0.0, 0.6282051282051282, 0.0], [0.009523809523809525, 0.16666666666666666, 0.0], [0.009523809523809525, 0.5128205128205128, 0.0], [0.0, 0.5641025641025641, 0.0], [0.009523809523809525, 0.2564102564102564, 0.0], [0.009523809523809525, 0.6282051282051282, 0.0], [0.0, 0.6666666666666666, 0.0], [0.009523809523809525, 0.16666666666666666, 0.0], [0.009523809523809525, 0.5641025641025641, 0.0], [0.0, 0.6282051282051282, 0.0], [0.009523809523809525, 0.2564102564102564, 0.0], [0.009523809523809525, 0.6666666666666666, 0.0], [0.0, 0.32051282051282054, 0.02564102564102564], [0.01904761904761905, 0.16666666666666666, 0.02564102564102564], [0.0, 0.5641025641025641, 0.02564102564102564], [0.0, 0.6282051282051282, 0.02564102564102564], [0.0, 0.717948717948718, 0.02564102564102564], [0.0, 0.6666666666666666, 0.02564102564102564], [0.01904761904761905, 0.2564102564102564, 0.0], [0.009523809523809525, 0.15384615384615385, 0.0], [0.009523809523809525, 0.2564102564102564, 0.0], [0.0, 0.3076923076923077, 0.0]]\n",
      "# First normalized y\n",
      ": [[0. 1. 0. 0. 0. 0. 0. 0. 0. 0. 0. 0. 0. 0. 0. 0. 0. 0. 0. 0. 0. 0. 0. 0.\n",
      "  0. 0. 0. 0. 0. 0. 0. 0. 0. 0. 0. 0. 0. 0. 0. 0. 0. 0. 0. 0. 0. 0. 0. 0.\n",
      "  0. 0. 0. 0. 0. 0. 0. 0. 0. 0. 0. 0. 0. 0. 0. 0. 0. 0. 0. 0. 0. 0. 0. 0.\n",
      "  0. 0. 0. 0. 0. 0. 0. 0. 0. 0. 0. 0. 0. 0. 0. 0. 0. 0. 0. 0. 0. 0. 0. 0.\n",
      "  0. 0. 0. 0. 0. 0. 0. 0. 0.]\n",
      " [0. 0. 0. 0. 0. 0. 0. 0. 0. 0. 0. 0. 0. 0. 0. 0. 0. 0. 0. 0. 1. 0. 0. 0.\n",
      "  0. 0. 0. 0. 0. 0. 0. 0. 0. 0. 0. 0. 0. 0. 0. 0. 0. 0. 0. 0. 0. 0. 0. 0.\n",
      "  0. 0. 0. 0. 0. 0. 0. 0. 0. 0. 0. 0. 0. 0. 0. 0. 0. 0. 0. 0. 0. 0. 0. 0.\n",
      "  0. 0. 0. 0. 0. 0. 0. 0. 0. 0. 0. 0. 0. 0. 0. 0. 0. 0. 0. 0. 0. 0. 0. 0.\n",
      "  0. 0. 0. 0. 0. 0. 0. 0. 0.]\n",
      " [1. 0. 0. 0. 0. 0. 0. 0. 0. 0. 0. 0. 0. 0. 0. 0. 0. 0. 0. 0. 0. 0. 0. 0.\n",
      "  0. 0. 0. 0. 0. 0. 0. 0. 0. 0. 0. 0. 0. 0. 0. 0. 0. 0. 0. 0. 0. 0. 0. 0.\n",
      "  0. 0. 0. 0. 0. 0. 0. 0. 0. 0. 0. 0. 0. 0. 0. 0. 0. 0. 0. 0. 0. 0. 0. 0.\n",
      "  0. 0. 0. 0. 0. 0. 0. 0. 0. 0. 0. 0. 0. 0. 0. 0. 0. 0. 0. 0. 0. 0. 0. 0.\n",
      "  0. 0. 0. 0. 0. 0. 0. 0. 0.]]\n",
      "# Shape of X (after reshape): (82550, 50, 3)\n",
      "# Shape of y (after reshape): (82550, 3, 105)\n"
     ]
    }
   ],
   "source": [
    "################## Pre Processing ##################\n",
    "######### LOGIC #########\n",
    "\n",
    "# load music files\n",
    "music = load_music(data_dirs=music_directories)\n",
    "print(\"# Parsed music length:\",len(music))\n",
    "\n",
    "# convert music dictionary to list\n",
    "music_list = music_dict_to_list(music)\n",
    "\n",
    "# get unique notes from music list\n",
    "unique_notes = get_unique_notes(music_list)\n",
    "#sort unique notes by actual pitch\n",
    "unique_notes = sort_notes(unique_notes)\n",
    "print(\"# Unique notes:\\n\", unique_notes)\n",
    "\n",
    "# get unique durations from music list \n",
    "unique_durations = get_unique_durations(music_list)\n",
    "print(\"# Unique durations:\", unique_durations)\n",
    "# get max duration from music list\n",
    "max_duration = max(unique_durations)\n",
    "print(\"# Max duration:\", max_duration)\n",
    "\n",
    "# get unqiue temporal difference\n",
    "unique_temporal_differences = get_unique_temporal_differences(music_list)\n",
    "print(\"# Unique temporal differences\", unique_temporal_differences)\n",
    "# get max temporal difference\n",
    "max_temporal_difference = max(unique_temporal_differences)\n",
    "print(\"# Max temporal difference:\", max_temporal_difference)\n",
    "\n",
    "# create training data by extracting 3 required features for each note\n",
    "training_data = create_training_data(music_list)\n",
    "print(\"# First element of training data (temporal_difference, note, duration):\\n\",training_data[0])\n",
    "\n",
    "## create Mappings for all features\n",
    "# create a dictionary to map notes to integers\n",
    "unique_note_to_int = {note: number for number, note in enumerate(unique_notes)}\n",
    "print(\"# Unique note to int:\\n\", unique_note_to_int)\n",
    "int_to_unique_note = {number: note for number, note in enumerate(unique_notes)}\n",
    "print(\"# Int to unique note:\\n\", int_to_unique_note)\n",
    "\n",
    "# create a dictionary to map durations to integers\n",
    "unique_duration_to_int = {duration: number for number, duration in enumerate(unique_durations)}\n",
    "print(\"# Unique duration to int:\\n\", unique_duration_to_int)\n",
    "int_to_unique_duration = {number: duration for number, duration in enumerate(unique_durations)}\n",
    "print(\"# Int to unique duration:\\n\", int_to_unique_duration)\n",
    "\n",
    "# create a dictionary to map temporal differences to integers\n",
    "unique_temporal_difference_to_int = {temporal_difference: number for number, temporal_difference in enumerate(unique_temporal_differences)}\n",
    "print(\"# Unique temporal difference to int:\\n\", unique_temporal_difference_to_int)\n",
    "int_to_unique_temporal_difference = {number: temporal_difference for number, temporal_difference in enumerate(unique_temporal_differences)}\n",
    "print(\"# Int to unique temporal difference:\\n\", int_to_unique_temporal_difference)\n",
    "\n",
    "# create input sequences and the corresponding outputs\n",
    "X, y = create_sequences(training_data, sequence_length)\n",
    "print(\"# First X\\n\", X[0])\n",
    "print(\"# First y\\n:\", y[0])\n",
    "\n",
    "# normalize input and output\n",
    "X = normalize_input(X, unique_note_to_int, unique_duration_to_int, unique_temporal_difference_to_int)\n",
    "y = normalize_output(y, unique_note_to_int, unique_duration_to_int, unique_temporal_difference_to_int)\n",
    "print(\"# First normalized X\\n\", X[0])\n",
    "print(\"# First normalized y\\n:\", y[0])\n",
    "\n",
    "# reshape the input into a format compatible with LSTM layers\n",
    "X = np.reshape(X, (-1, sequence_length, 3))\n",
    "print(\"# Shape of X (after reshape):\", X.shape)\n",
    "print(\"# Shape of y (after reshape):\", y.shape)"
   ]
  },
  {
   "cell_type": "code",
   "execution_count": 5,
   "metadata": {},
   "outputs": [
    {
     "name": "stdout",
     "output_type": "stream",
     "text": [
      "WARNING:tensorflow:From /home/pia3/.direnv/python-3.7.3/lib/python3.7/site-packages/tensorflow/python/ops/resource_variable_ops.py:435: colocate_with (from tensorflow.python.framework.ops) is deprecated and will be removed in a future version.\n",
      "Instructions for updating:\n",
      "Colocations handled automatically by placer.\n",
      "WARNING:tensorflow:From /home/pia3/.direnv/python-3.7.3/lib/python3.7/site-packages/tensorflow/python/keras/layers/core.py:143: calling dropout (from tensorflow.python.ops.nn_ops) with keep_prob is deprecated and will be removed in a future version.\n",
      "Instructions for updating:\n",
      "Please use `rate` instead of `keep_prob`. Rate should be set to `rate = 1 - keep_prob`.\n",
      "_________________________________________________________________\n",
      "Layer (type)                 Output Shape              Param #   \n",
      "=================================================================\n",
      "cu_dnnlstm (CuDNNLSTM)       (None, 50, 1024)          4214784   \n",
      "_________________________________________________________________\n",
      "dropout (Dropout)            (None, 50, 1024)          0         \n",
      "_________________________________________________________________\n",
      "cu_dnnlstm_1 (CuDNNLSTM)     (None, 50, 1024)          8396800   \n",
      "_________________________________________________________________\n",
      "dropout_1 (Dropout)          (None, 50, 1024)          0         \n",
      "_________________________________________________________________\n",
      "cu_dnnlstm_2 (CuDNNLSTM)     (None, 512)               3149824   \n",
      "_________________________________________________________________\n",
      "dropout_2 (Dropout)          (None, 512)               0         \n",
      "_________________________________________________________________\n",
      "dense (Dense)                (None, 315)               161595    \n",
      "_________________________________________________________________\n",
      "reshape (Reshape)            (None, 3, 105)            0         \n",
      "=================================================================\n",
      "Total params: 15,923,003\n",
      "Trainable params: 15,923,003\n",
      "Non-trainable params: 0\n",
      "_________________________________________________________________\n"
     ]
    }
   ],
   "source": [
    "################## Model ##################\n",
    "model = Sequential()\n",
    "model.add(CuDNNLSTM(\n",
    "    1024,\n",
    "    return_sequences=True, \n",
    "    input_shape=(X.shape[1], X.shape[2])))\n",
    "model.add(Dropout(rate=0.3))\n",
    "model.add(CuDNNLSTM(1024, return_sequences=True))\n",
    "model.add(Dropout(rate=0.3))\n",
    "model.add(CuDNNLSTM(512))\n",
    "model.add(Dropout(rate=0.3))\n",
    "model.add(Dense(units=y.shape[1] * y.shape[2], activation='softmax'))\n",
    "model.add(Reshape((y.shape[1] ,y.shape[2])))\n",
    "model.load_weights('newchpts_beeth_500e')\n",
    "model.compile(loss='categorical_crossentropy', optimizer='adam')\n",
    "\n",
    "model.summary()"
   ]
  },
  {
   "cell_type": "code",
   "execution_count": 6,
   "metadata": {},
   "outputs": [
    {
     "data": {
      "text/plain": [
       "\"\\ncheckpoint = ModelCheckpoint(\\n    'newchpts',\\n    monitor='loss',\\n    verbose=0,\\n    save_best_only=True,\\n    mode='min'\\n)\\n\\ncallbacks_list = [checkpoint]\\nmodel.fit(X, y, epochs=training_epochs, batch_size=training_batch_size, callbacks=callbacks_list)\\n\""
      ]
     },
     "execution_count": 6,
     "metadata": {},
     "output_type": "execute_result"
    }
   ],
   "source": [
    "################## Training ##################\n",
    "\"\"\"\n",
    "checkpoint = ModelCheckpoint(\n",
    "    'newchpts',\n",
    "    monitor='loss',\n",
    "    verbose=0,\n",
    "    save_best_only=True,\n",
    "    mode='min'\n",
    ")\n",
    "\n",
    "callbacks_list = [checkpoint]\n",
    "model.fit(X, y, epochs=training_epochs, batch_size=training_batch_size, callbacks=callbacks_list)\n",
    "\"\"\""
   ]
  },
  {
   "cell_type": "code",
   "execution_count": 7,
   "metadata": {},
   "outputs": [
    {
     "data": {
      "application/vnd.jupyter.widget-view+json": {
       "model_id": "92a39656bc33490e8b52e5351cfc3d01",
       "version_major": 2,
       "version_minor": 0
      },
      "text/plain": [
       "HBox(children=(IntProgress(value=0, description='generating notes', max=300, style=ProgressStyle(description_w…"
      ]
     },
     "metadata": {},
     "output_type": "display_data"
    },
    {
     "name": "stdout",
     "output_type": "stream",
     "text": [
      "\n"
     ]
    },
    {
     "data": {
      "text/html": [
       "\n",
       "                <div id='midiPlayerDiv131615'></div>\n",
       "                <link rel=\"stylesheet\" href=\"//cuthbertLab.github.io/music21j/css/m21.css\"\n",
       "                    type=\"text/css\" />\n",
       "                <script>\n",
       "                require.config({\n",
       "                    paths: {'music21': '//cuthbertLab.github.io/music21j/src/music21'}\n",
       "                });\n",
       "                require(['music21'], function() {\n",
       "                               mp = new music21.miditools.MidiPlayer();\n",
       "                               mp.addPlayer('#midiPlayerDiv131615');\n",
       "                               mp.base64Load('data:audio/midi;base64,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');\n",
       "                        });\n",
       "                </script>"
      ],
      "text/plain": [
       "<IPython.core.display.HTML object>"
      ]
     },
     "metadata": {},
     "output_type": "display_data"
    },
    {
     "data": {
      "application/vnd.jupyter.widget-view+json": {
       "model_id": "5e472651650f4dd78b290681b45c1d5e",
       "version_major": 2,
       "version_minor": 0
      },
      "text/plain": [
       "HBox(children=(IntProgress(value=0, description='generating notes', max=300, style=ProgressStyle(description_w…"
      ]
     },
     "metadata": {},
     "output_type": "display_data"
    },
    {
     "name": "stdout",
     "output_type": "stream",
     "text": [
      "\n"
     ]
    },
    {
     "data": {
      "text/html": [
       "\n",
       "                <div id='midiPlayerDiv135516'></div>\n",
       "                <link rel=\"stylesheet\" href=\"//cuthbertLab.github.io/music21j/css/m21.css\"\n",
       "                    type=\"text/css\" />\n",
       "                <script>\n",
       "                require.config({\n",
       "                    paths: {'music21': '//cuthbertLab.github.io/music21j/src/music21'}\n",
       "                });\n",
       "                require(['music21'], function() {\n",
       "                               mp = new music21.miditools.MidiPlayer();\n",
       "                               mp.addPlayer('#midiPlayerDiv135516');\n",
       "                               mp.base64Load('data:audio/midi;base64,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');\n",
       "                        });\n",
       "                </script>"
      ],
      "text/plain": [
       "<IPython.core.display.HTML object>"
      ]
     },
     "metadata": {},
     "output_type": "display_data"
    },
    {
     "data": {
      "application/vnd.jupyter.widget-view+json": {
       "model_id": "a5a32962020c43d0a7665b3544d44af9",
       "version_major": 2,
       "version_minor": 0
      },
      "text/plain": [
       "HBox(children=(IntProgress(value=0, description='generating notes', max=300, style=ProgressStyle(description_w…"
      ]
     },
     "metadata": {},
     "output_type": "display_data"
    },
    {
     "name": "stdout",
     "output_type": "stream",
     "text": [
      "\n"
     ]
    },
    {
     "data": {
      "text/html": [
       "\n",
       "                <div id='midiPlayerDiv139417'></div>\n",
       "                <link rel=\"stylesheet\" href=\"//cuthbertLab.github.io/music21j/css/m21.css\"\n",
       "                    type=\"text/css\" />\n",
       "                <script>\n",
       "                require.config({\n",
       "                    paths: {'music21': '//cuthbertLab.github.io/music21j/src/music21'}\n",
       "                });\n",
       "                require(['music21'], function() {\n",
       "                               mp = new music21.miditools.MidiPlayer();\n",
       "                               mp.addPlayer('#midiPlayerDiv139417');\n",
       "                               mp.base64Load('data:audio/midi;base64,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');\n",
       "                        });\n",
       "                </script>"
      ],
      "text/plain": [
       "<IPython.core.display.HTML object>"
      ]
     },
     "metadata": {},
     "output_type": "display_data"
    },
    {
     "data": {
      "application/vnd.jupyter.widget-view+json": {
       "model_id": "14f2fb8e60194f3db64bb43c09ae7e7c",
       "version_major": 2,
       "version_minor": 0
      },
      "text/plain": [
       "HBox(children=(IntProgress(value=0, description='generating notes', max=300, style=ProgressStyle(description_w…"
      ]
     },
     "metadata": {},
     "output_type": "display_data"
    },
    {
     "name": "stdout",
     "output_type": "stream",
     "text": [
      "\n"
     ]
    },
    {
     "data": {
      "text/html": [
       "\n",
       "                <div id='midiPlayerDiv143318'></div>\n",
       "                <link rel=\"stylesheet\" href=\"//cuthbertLab.github.io/music21j/css/m21.css\"\n",
       "                    type=\"text/css\" />\n",
       "                <script>\n",
       "                require.config({\n",
       "                    paths: {'music21': '//cuthbertLab.github.io/music21j/src/music21'}\n",
       "                });\n",
       "                require(['music21'], function() {\n",
       "                               mp = new music21.miditools.MidiPlayer();\n",
       "                               mp.addPlayer('#midiPlayerDiv143318');\n",
       "                               mp.base64Load('data:audio/midi;base64,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');\n",
       "                        });\n",
       "                </script>"
      ],
      "text/plain": [
       "<IPython.core.display.HTML object>"
      ]
     },
     "metadata": {},
     "output_type": "display_data"
    },
    {
     "data": {
      "application/vnd.jupyter.widget-view+json": {
       "model_id": "879c6f80e59c4661b0921b6a1105c226",
       "version_major": 2,
       "version_minor": 0
      },
      "text/plain": [
       "HBox(children=(IntProgress(value=0, description='generating notes', max=300, style=ProgressStyle(description_w…"
      ]
     },
     "metadata": {},
     "output_type": "display_data"
    },
    {
     "name": "stdout",
     "output_type": "stream",
     "text": [
      "\n"
     ]
    },
    {
     "data": {
      "text/html": [
       "\n",
       "                <div id='midiPlayerDiv147219'></div>\n",
       "                <link rel=\"stylesheet\" href=\"//cuthbertLab.github.io/music21j/css/m21.css\"\n",
       "                    type=\"text/css\" />\n",
       "                <script>\n",
       "                require.config({\n",
       "                    paths: {'music21': '//cuthbertLab.github.io/music21j/src/music21'}\n",
       "                });\n",
       "                require(['music21'], function() {\n",
       "                               mp = new music21.miditools.MidiPlayer();\n",
       "                               mp.addPlayer('#midiPlayerDiv147219');\n",
       "                               mp.base64Load('data:audio/midi;base64,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');\n",
       "                        });\n",
       "                </script>"
      ],
      "text/plain": [
       "<IPython.core.display.HTML object>"
      ]
     },
     "metadata": {},
     "output_type": "display_data"
    },
    {
     "data": {
      "application/vnd.jupyter.widget-view+json": {
       "model_id": "c9f4e845f432401bae04a81cb959a6c3",
       "version_major": 2,
       "version_minor": 0
      },
      "text/plain": [
       "HBox(children=(IntProgress(value=0, description='generating notes', max=300, style=ProgressStyle(description_w…"
      ]
     },
     "metadata": {},
     "output_type": "display_data"
    },
    {
     "name": "stdout",
     "output_type": "stream",
     "text": [
      "\n"
     ]
    },
    {
     "data": {
      "text/html": [
       "\n",
       "                <div id='midiPlayerDiv151120'></div>\n",
       "                <link rel=\"stylesheet\" href=\"//cuthbertLab.github.io/music21j/css/m21.css\"\n",
       "                    type=\"text/css\" />\n",
       "                <script>\n",
       "                require.config({\n",
       "                    paths: {'music21': '//cuthbertLab.github.io/music21j/src/music21'}\n",
       "                });\n",
       "                require(['music21'], function() {\n",
       "                               mp = new music21.miditools.MidiPlayer();\n",
       "                               mp.addPlayer('#midiPlayerDiv151120');\n",
       "                               mp.base64Load('data:audio/midi;base64,TVRoZAAAAAYAAQABBABNVHJrAAAKZAD/AwAA4ABAAJA6WoIAgDoAAJA1WoIAkDFaggCANQAAkEhaVYAxAIErkDdaAJA6WlWASACBK4A6AACQOFqCAIA4AACQOlqCAIA6AACQN1qCAIA3AACANwAAkDpaggCAOgAAkDZaggCANgAAkDZaggCANgAAkDZaggCANgAAkDhaggCAOAAAkD1aggCAPQAAkEBaggCAQAAAkDZaggCANgAAkD5aggCAPgAAkDZaggCANgAAkDtaggCAOwAAkDZaggCANgAAkDpaggCAOgAAkDpaggCAOgAAkDpaggCAOgAAkDZaggCANgAAkDZaggCANgAAkDpaggCAOgAAkDdaggCANwAAkEBaAJA3WoIAgEAAAIA3AACQOlqCAIA6AACQN1qCAIA3AACQOlqCAIA6AACQOVoAkDpaggCAOQAAgDoAAJA2WoIAgDYAAJBBWoIAgEEAAJA2WoIAgDYAAJA1WoIAgDUAAJA1WoIAgDUAAJA+WoIAgD4AAJA1WoIAgDUAAJA1WoIAkDVaggCANQAAkDpaggCQOlqCAIA6AACQNVqCAIA1AACQOlqCAIA6AACAOgAAkDVaggCANQAAkDxaggCANQAAgDwAAJA8WoIAgDwAAJAzWoIAgDMAAJA1WoIAgDUAAJA4WoIAgDgAAJBEWgCQNVqCAIBEAACANQAAkD9aAJA0WgCQM1oAkD1aAJAwWoIAgD8AAIA0AACAMwAAgD0AAIAwAACQPVoAkDBaggCAPQAAgDAAAJA9WoIAgD0AAJA1WoIAgDUAAJA9WgCQRFqCAIBEAACQLFqCAIAsAACQPVoAkDhaggCAPQAAgDgAAJA9WoIAgD0AAIA9AACQNVqCAIA1AACQQFoAkDlaggCAQAAAgDkAAJAsWoIAgCwAAJA/WgCQN1qCAIA/AACANwAAkD1aggCAPQAAkCxaggCALAAAkD5aAJA3WoIAgD4AAIA3AACQQFqCAIBAAACQO1qCAIA7AACQQloAkDdaggCAQgAAgDcAAJA/WgCQNFqCAIA/AACANAAAkERaAJAzWoIAgEQAAIAzAACQP1oAkCxaggCAPwAAgCwAAJA6WoIAgDoAAJAzWoIAgDMAAJBCWgCQOFqCAIBCAACAOAAAkDxaAJAsWoIAgDwAAIAsAACQQloAkDNaggCAQgAAgDMAAJA/WgCQLFqCAIA/AACALAAAkEJaggCAQgAAkDZaggCANgAAkDNaggCAMwAAkEJaAJA2WoIAgEIAAIA2AACQP1oAkDBaggCAPwAAgDAAAJBBWgCQNlqCAIBBAACANgAAkDNaggCAMwAAkDNaggCAMwAAkEJaggCAQgAAkDNaggCAMwAAkEJaggCAQgAAkDNaggCAMwAAkD9aAJA4WoIAgD8AAIA4AACQM1qCAIAzAACQQlqCAIBCAACQOFqCAIA4AACQP1oAkDJaggCAPwAAgDIAAJBCWgCQOFqCAIBCAACAOAAAkD9aAJA4WoIAgD8AAIA4AACQQloAkDZaggCAQgAAgDYAAJBCWgCQM1qCAIBCAACAMwAAkDtaAJA1WoIAgDsAAIA1AACQRFoAkDFaggCARAAAgDEAAJA/WgCQM1qCAIA/AACAMwAAkD9aggCAPwAAkDhaggCAOAAAkDxaAJA1WoIAgDwAAIA1AACQOFqCAIA4AACQM1qCAIAzAACQQlqCAIBCAACQOloAkDtaggCAOgAAgDsAAJBCWoIAgEIAAJA/WoIAgD8AAJA/WgCQPlqCAIA/AACAPgAAkD9aggCAPwAAkDZaggCANgAAkD5aggCAPgAAkDlaggCAOQAAkEFaggCAQQAAkDVaggCANQAAkENaAJA5WoIAgEMAAIA5AACQQVqCAIBBAACQMlqCAIAyAACQQFoAkDZaggCAQAAAgDYAAJA+WoIAgD4AAJAyWoIAgDIAAJBAWgCQNlqCAIBAAACANgAAkEBaggCAQAAAkDJaggCAMgAAkD5aAJA3WoIAgD4AAIA3AACQP1oAkDFaggCAPwAAgDEAAJBDWgCQNFqCAIBDAACANAAAkEFaggCAQQAAkDJaggCAMgAAkD5aggCAPgAAkDVaggCANQAAkEFaAJA1WoIAgEEAAIA1AACQQ1oAkDZaggCAQwAAgDYAAJA/WgCQNVqCAIA/AACANQAAkEhaAJAyWoIAgEgAAIAyAACQQVoAkDVaggCAQQAAgDUAAJA+WgCQNlqCAIA+AACANgAAkD5aAJArWoIAgD4AAIArAACQO1oAkC9aggCAOwAAgC8AAJAyWgCQMlqCAIAyAACAMgAAkDVaggCANQAAkDdaggCANwAAkDJaggCAMgAAkChaggCAKAAAkD5aggCAPgAAkCpaggCAKgAAkDhaAJAwWoIAgDgAAIAwAACQM1qCAIAzAACQL1qCAIAvAACQN1qCAIA3AACQNVqCAIA1AACQO1qCAIA7AACQL1qCAIAvAACQOFqCAIA4AACQL1qCAIAvAACQNVqCAIA1AACQMFqCAIAwAACQM1qCAIAzAACQL1qCAIAvAACQMVqCAIAxAACQMlqCAIAyAACQOFqCAIA4AACQL1qCAIAvAACQM1qCAIAzAACQMlqCAIAyAACQM1qCAIAzAACQMVqCAIAxAACQMVqCAIAxAACQL1qCAIAvAACQM1qCAIAzAACQMVqCAIAxAACQM1qCAIAzAACQL1qCAIAvAACQM1qCAIAzAACQLVqCAIAtAACQM1qCAIAzAACQMVqCAIAxAACQM1qCAIAzAACQM1qCAIAzAACQM1qCAIAzAACQL1qCAIAvAACQM1qCAIAzAACQNlqCAIA2AACQM1qCAIAzAACQM1qCAIAzAACQOFqCAIA4AACQM1qCAIAzAACQNlqCAIA2AACQM1qCAIAzAACQOlqCAIA6AACQOFqCAIA4AACQOlqCAIA6AACQM1qCAIAzAACQOFqCAIA4AACQOlqCAIA6AACQOFqCAIA4AACQNVqCAIA1AACQOVqCAIA5AACQOFqCAIA4AACQOFqCAIA4AACQM1qCAIAzAACQNlqCAIA2AACQOFqCAIA4AACQOFqCAIA4AACQNVqCAIA1AACQOFqCAIA4AACQOFqCAIA4AACQOFqCAIA4AACQNVqCAIA1AACQOVqCAIA5AACQOFqCAIA4AACQOFqCAIA4AACQOFqCAJA4WoIAgDgAAJA4WoIAgDgAAJA4WoIAgDgAAIA4AACQOFqCAIA4AACQOFqCAIA4AACQOFqCAIA4AACQNFqCAIA0AACQOFqCAIA4AACQMFqCAIAwAACQOFqCAIA4AACQNFqCAIA0AACQOFqCAIA4AACQOFqCAIA4AACQOFqCAIA4AACQNFqCAIA0AACQOFqCAIA4AACQOFqCAIA4AACQOFqCAIA4AACQOFqCAIA4AACQOFqCAIA4AACQOFqCAIA4AACQNFqCAIA0AACQOFqCAIA4AACQNFqCAIA0AACQOFqCAIA4AACQNFqCAIA0AACQOFqCAIA4AACQNlqCAIA2AACQOFqCAIA4AACQOFqCAIA4AIgA/y8A');\n",
       "                        });\n",
       "                </script>"
      ],
      "text/plain": [
       "<IPython.core.display.HTML object>"
      ]
     },
     "metadata": {},
     "output_type": "display_data"
    },
    {
     "data": {
      "application/vnd.jupyter.widget-view+json": {
       "model_id": "e17c3ee0f7574df3b6f60de36c513fc0",
       "version_major": 2,
       "version_minor": 0
      },
      "text/plain": [
       "HBox(children=(IntProgress(value=0, description='generating notes', max=300, style=ProgressStyle(description_w…"
      ]
     },
     "metadata": {},
     "output_type": "display_data"
    },
    {
     "name": "stdout",
     "output_type": "stream",
     "text": [
      "\n"
     ]
    },
    {
     "data": {
      "text/html": [
       "\n",
       "                <div id='midiPlayerDiv155021'></div>\n",
       "                <link rel=\"stylesheet\" href=\"//cuthbertLab.github.io/music21j/css/m21.css\"\n",
       "                    type=\"text/css\" />\n",
       "                <script>\n",
       "                require.config({\n",
       "                    paths: {'music21': '//cuthbertLab.github.io/music21j/src/music21'}\n",
       "                });\n",
       "                require(['music21'], function() {\n",
       "                               mp = new music21.miditools.MidiPlayer();\n",
       "                               mp.addPlayer('#midiPlayerDiv155021');\n",
       "                               mp.base64Load('data:audio/midi;base64,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');\n",
       "                        });\n",
       "                </script>"
      ],
      "text/plain": [
       "<IPython.core.display.HTML object>"
      ]
     },
     "metadata": {},
     "output_type": "display_data"
    },
    {
     "data": {
      "application/vnd.jupyter.widget-view+json": {
       "model_id": "2634f7cda951454c914eb42df80f8727",
       "version_major": 2,
       "version_minor": 0
      },
      "text/plain": [
       "HBox(children=(IntProgress(value=0, description='generating notes', max=300, style=ProgressStyle(description_w…"
      ]
     },
     "metadata": {},
     "output_type": "display_data"
    },
    {
     "name": "stdout",
     "output_type": "stream",
     "text": [
      "\n"
     ]
    },
    {
     "data": {
      "text/html": [
       "\n",
       "                <div id='midiPlayerDiv158922'></div>\n",
       "                <link rel=\"stylesheet\" href=\"//cuthbertLab.github.io/music21j/css/m21.css\"\n",
       "                    type=\"text/css\" />\n",
       "                <script>\n",
       "                require.config({\n",
       "                    paths: {'music21': '//cuthbertLab.github.io/music21j/src/music21'}\n",
       "                });\n",
       "                require(['music21'], function() {\n",
       "                               mp = new music21.miditools.MidiPlayer();\n",
       "                               mp.addPlayer('#midiPlayerDiv158922');\n",
       "                               mp.base64Load('data:audio/midi;base64,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');\n",
       "                        });\n",
       "                </script>"
      ],
      "text/plain": [
       "<IPython.core.display.HTML object>"
      ]
     },
     "metadata": {},
     "output_type": "display_data"
    },
    {
     "data": {
      "application/vnd.jupyter.widget-view+json": {
       "model_id": "d82c1f334fd9406f88418be39114f22f",
       "version_major": 2,
       "version_minor": 0
      },
      "text/plain": [
       "HBox(children=(IntProgress(value=0, description='generating notes', max=300, style=ProgressStyle(description_w…"
      ]
     },
     "metadata": {},
     "output_type": "display_data"
    },
    {
     "name": "stdout",
     "output_type": "stream",
     "text": [
      "\n"
     ]
    },
    {
     "data": {
      "text/html": [
       "\n",
       "                <div id='midiPlayerDiv162823'></div>\n",
       "                <link rel=\"stylesheet\" href=\"//cuthbertLab.github.io/music21j/css/m21.css\"\n",
       "                    type=\"text/css\" />\n",
       "                <script>\n",
       "                require.config({\n",
       "                    paths: {'music21': '//cuthbertLab.github.io/music21j/src/music21'}\n",
       "                });\n",
       "                require(['music21'], function() {\n",
       "                               mp = new music21.miditools.MidiPlayer();\n",
       "                               mp.addPlayer('#midiPlayerDiv162823');\n",
       "                               mp.base64Load('data:audio/midi;base64,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');\n",
       "                        });\n",
       "                </script>"
      ],
      "text/plain": [
       "<IPython.core.display.HTML object>"
      ]
     },
     "metadata": {},
     "output_type": "display_data"
    },
    {
     "data": {
      "application/vnd.jupyter.widget-view+json": {
       "model_id": "be87f6c6d334459895adcea7aa945b53",
       "version_major": 2,
       "version_minor": 0
      },
      "text/plain": [
       "HBox(children=(IntProgress(value=0, description='generating notes', max=300, style=ProgressStyle(description_w…"
      ]
     },
     "metadata": {},
     "output_type": "display_data"
    },
    {
     "name": "stdout",
     "output_type": "stream",
     "text": [
      "\n"
     ]
    },
    {
     "data": {
      "text/html": [
       "\n",
       "                <div id='midiPlayerDiv166724'></div>\n",
       "                <link rel=\"stylesheet\" href=\"//cuthbertLab.github.io/music21j/css/m21.css\"\n",
       "                    type=\"text/css\" />\n",
       "                <script>\n",
       "                require.config({\n",
       "                    paths: {'music21': '//cuthbertLab.github.io/music21j/src/music21'}\n",
       "                });\n",
       "                require(['music21'], function() {\n",
       "                               mp = new music21.miditools.MidiPlayer();\n",
       "                               mp.addPlayer('#midiPlayerDiv166724');\n",
       "                               mp.base64Load('data:audio/midi;base64,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');\n",
       "                        });\n",
       "                </script>"
      ],
      "text/plain": [
       "<IPython.core.display.HTML object>"
      ]
     },
     "metadata": {},
     "output_type": "display_data"
    }
   ],
   "source": [
    "################## Inference ##################\n",
    "for i in range(0, 10):\n",
    "    # get random notes from training data\n",
    "    start = np.random.randint(0, len(X)-1)\n",
    "    seed = X[start]\n",
    "    # predict model output of specified length, starting with the previously created seed\n",
    "    prediction_output = predict_notes(model, seed, generated_notes_length, len(unique_temporal_differences), len(unique_notes), len(unique_durations)) \n",
    "\n",
    "    # Convert feature set back to music\n",
    "    output_notes = convert_musiclist_to_music(prediction_output)\n",
    "\n",
    "    # Finally: Play music!\n",
    "    play_music(output_notes, file_name+str(i)+'.mid')"
   ]
  },
  {
   "cell_type": "markdown",
   "metadata": {},
   "source": [
    "# Ideen\n",
    "\n",
    "Ideen, die wir aus zeitlichen Gründen nicht mehr umsetzen konnten.\n",
    "\n",
    "## Separate Modelle für note, duration und temporal difference\n",
    "\n",
    "Es werden drei Modelle gelernt. Alle Modelle erhalten den selben Input (Sequenzen bestehend aus note, duration und temporal difference)\n",
    "Jedes Modell liefert den Output für jeweils eines der 3 Features. Die einzelnen features werden dann zur Generierung gemerged und können wieder als midi abgespielt werden. Jedes Modell fokussiert sich daher auf die Generierung eines bestimmten Features.\n",
    "\n",
    "## Musik separat feeden\n",
    "\n",
    "Die einzelnen Musikstücke passen vermutlich nicht zusammen. Es ist sehr wahrscheinlich, dass sich die einzelnen Sequenzen beim Training überlappen. So lernt das Netz mit nicht zueinander passenden Noten.\n",
    "Eine Idee zu Lösung dieses Problems ist, das Netz nacheinander mit den verschiedenen Musikstücken zu trainieren. Denkbar wäre ein Schleife, die das Netzwerk für jedes File in einem Ordner jeweils einige Epochen trainiert.\n",
    "\n",
    "## Musik trennen\n",
    "Eine andere Möglichkeit zur Lösung des zuvor beschriebenen Problems wäre die Musik zu erweitern um sie Trennen. Dazu könnten nach jedem Titel lange Pausen eingefügt werden."
   ]
  },
  {
   "cell_type": "code",
   "execution_count": null,
   "metadata": {},
   "outputs": [],
   "source": []
  }
 ],
 "metadata": {
  "kernelspec": {
   "display_name": "Python 3",
   "language": "python",
   "name": "python3"
  },
  "language_info": {
   "codemirror_mode": {
    "name": "ipython",
    "version": 3
   },
   "file_extension": ".py",
   "mimetype": "text/x-python",
   "name": "python",
   "nbconvert_exporter": "python",
   "pygments_lexer": "ipython3",
   "version": "3.7.3"
  }
 },
 "nbformat": 4,
 "nbformat_minor": 2
}
