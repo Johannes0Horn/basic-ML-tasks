{
 "cells": [
  {
   "cell_type": "markdown",
   "id": "589c1354",
   "metadata": {},
   "source": [
    "# Linear Regression on the boston DataSet\n",
    "\n",
    "Trying to predict the prize from 13 features."
   ]
  },
  {
   "cell_type": "code",
   "execution_count": 1,
   "id": "81f38252",
   "metadata": {},
   "outputs": [],
   "source": [
    "import numpy as np\n",
    "import pandas as pd\n",
    "import scipy.stats as stats\n",
    "import matplotlib.pyplot as plt\n",
    "import sklearn\n",
    "import statsmodels.api as sm\n",
    "import seaborn as sns\n",
    "import tensorflow.compat.v1 as tf\n",
    "tf.disable_v2_behavior()\n",
    "\n",
    "sns.set_style(\"whitegrid\")\n",
    "sns.set_context(\"poster\")\n",
    "\n",
    "# special matplotlib argument for improved plots\n",
    "from matplotlib import rcParams\n",
    "\n",
    "from sklearn.datasets import load_boston"
   ]
  },
  {
   "cell_type": "code",
   "execution_count": 2,
   "id": "37b1df68",
   "metadata": {},
   "outputs": [
    {
     "name": "stdout",
     "output_type": "stream",
     "text": [
      "boston_keys:\n",
      "dict_keys(['data', 'target', 'feature_names', 'DESCR', 'filename'])\n",
      "boston_data_shape: \n",
      "(506, 13)\n",
      "['CRIM' 'ZN' 'INDUS' 'CHAS' 'NOX' 'RM' 'AGE' 'DIS' 'RAD' 'TAX' 'PTRATIO'\n",
      " 'B' 'LSTAT']\n",
      ".. _boston_dataset:\n",
      "\n",
      "Boston house prices dataset\n",
      "---------------------------\n",
      "\n",
      "**Data Set Characteristics:**  \n",
      "\n",
      "    :Number of Instances: 506 \n",
      "\n",
      "    :Number of Attributes: 13 numeric/categorical predictive. Median Value (attribute 14) is usually the target.\n",
      "\n",
      "    :Attribute Information (in order):\n",
      "        - CRIM     per capita crime rate by town\n",
      "        - ZN       proportion of residential land zoned for lots over 25,000 sq.ft.\n",
      "        - INDUS    proportion of non-retail business acres per town\n",
      "        - CHAS     Charles River dummy variable (= 1 if tract bounds river; 0 otherwise)\n",
      "        - NOX      nitric oxides concentration (parts per 10 million)\n",
      "        - RM       average number of rooms per dwelling\n",
      "        - AGE      proportion of owner-occupied units built prior to 1940\n",
      "        - DIS      weighted distances to five Boston employment centres\n",
      "        - RAD      index of accessibility to radial highways\n",
      "        - TAX      full-value property-tax rate per $10,000\n",
      "        - PTRATIO  pupil-teacher ratio by town\n",
      "        - B        1000(Bk - 0.63)^2 where Bk is the proportion of blacks by town\n",
      "        - LSTAT    % lower status of the population\n",
      "        - MEDV     Median value of owner-occupied homes in $1000's\n",
      "\n",
      "    :Missing Attribute Values: None\n",
      "\n",
      "    :Creator: Harrison, D. and Rubinfeld, D.L.\n",
      "\n",
      "This is a copy of UCI ML housing dataset.\n",
      "https://archive.ics.uci.edu/ml/machine-learning-databases/housing/\n",
      "\n",
      "\n",
      "This dataset was taken from the StatLib library which is maintained at Carnegie Mellon University.\n",
      "\n",
      "The Boston house-price data of Harrison, D. and Rubinfeld, D.L. 'Hedonic\n",
      "prices and the demand for clean air', J. Environ. Economics & Management,\n",
      "vol.5, 81-102, 1978.   Used in Belsley, Kuh & Welsch, 'Regression diagnostics\n",
      "...', Wiley, 1980.   N.B. Various transformations are used in the table on\n",
      "pages 244-261 of the latter.\n",
      "\n",
      "The Boston house-price data has been used in many machine learning papers that address regression\n",
      "problems.   \n",
      "     \n",
      ".. topic:: References\n",
      "\n",
      "   - Belsley, Kuh & Welsch, 'Regression diagnostics: Identifying Influential Data and Sources of Collinearity', Wiley, 1980. 244-261.\n",
      "   - Quinlan,R. (1993). Combining Instance-Based and Model-Based Learning. In Proceedings on the Tenth International Conference of Machine Learning, 236-243, University of Massachusetts, Amherst. Morgan Kaufmann.\n",
      "\n"
     ]
    }
   ],
   "source": [
    "###LOAD DATASET\n",
    "bostonDataSet = load_boston()\n",
    "print(\"boston_keys:\" )\n",
    "print(bostonDataSet.keys())\n",
    "print(\"boston_data_shape: \")\n",
    "print(bostonDataSet.data.shape)\n",
    "\n",
    "print(bostonDataSet.feature_names)\n",
    "print(bostonDataSet.DESCR)\n",
    "features = bostonDataSet.data\n",
    "labels = bostonDataSet.target"
   ]
  },
  {
   "cell_type": "code",
   "execution_count": 3,
   "id": "e2abf87a",
   "metadata": {},
   "outputs": [],
   "source": [
    "# NORMALIZE FEATURES\n",
    "mu = np.mean(features, axis=0)\n",
    "sigma = np.std(features, axis=0)\n",
    "features = (features - mu) / sigma"
   ]
  },
  {
   "cell_type": "code",
   "execution_count": 4,
   "id": "bf699128",
   "metadata": {},
   "outputs": [
    {
     "name": "stdout",
     "output_type": "stream",
     "text": [
      "data training shape:  (400, 13)\n",
      "target training shape:  (400,)\n",
      "data test shape:  (106, 13)\n",
      "target test shape:  (106,)\n"
     ]
    }
   ],
   "source": [
    "###SPLIT features and labels into training and test\n",
    "\n",
    "featuers_train = features[0:400]\n",
    "lables_train = labels[0:400]\n",
    "\n",
    "features_test = features[400:]\n",
    "lables_test = labels[400:]\n",
    "\n",
    "print('data training shape: ', featuers_train.shape)\n",
    "print('target training shape: ', lables_train.shape)\n",
    "print('data test shape: ', features_test.shape)\n",
    "print('target test shape: ', lables_test.shape)"
   ]
  },
  {
   "cell_type": "code",
   "execution_count": 5,
   "id": "4d66627a",
   "metadata": {},
   "outputs": [
    {
     "name": "stdout",
     "output_type": "stream",
     "text": [
      "data training shape:  (400, 14)\n"
     ]
    }
   ],
   "source": [
    "# add column of ones in the first column of training set\n",
    "n_training_samples = featuers_train.shape[0]\n",
    "n_dim_training = featuers_train.shape[1]\n",
    "featuers_train = np.reshape(np.c_[np.ones(n_training_samples), featuers_train],\n",
    "                            [n_training_samples, n_dim_training + 1])\n",
    "print('data training shape: ', featuers_train.shape)"
   ]
  },
  {
   "cell_type": "code",
   "execution_count": 6,
   "id": "6508932d",
   "metadata": {},
   "outputs": [
    {
     "name": "stdout",
     "output_type": "stream",
     "text": [
      "data training shape:  (106, 14)\n"
     ]
    }
   ],
   "source": [
    "# here again we add column of ones in the first column of test set\n",
    "n_test_samples = features_test.shape[0]\n",
    "n_dim_test = features_test.shape[1]\n",
    "features_test = np.reshape(np.c_[np.ones(n_test_samples), features_test], [n_test_samples, n_dim_test + 1])\n",
    "print('data training shape: ', features_test.shape)\n"
   ]
  },
  {
   "cell_type": "code",
   "execution_count": 7,
   "id": "ab1927ad",
   "metadata": {},
   "outputs": [
    {
     "name": "stdout",
     "output_type": "stream",
     "text": [
      "[23.28337581 -1.643388    1.0305089   0.37845963  0.43550243 -1.73595149\n",
      "  3.43080791  0.07337369 -2.7237948   4.21699484 -2.59301797 -1.74926608\n",
      " -0.1178641  -3.69508319]\n"
     ]
    }
   ],
   "source": [
    "# optimum solution for this model\n",
    "opt = np.matmul(\n",
    "    np.matmul(np.linalg.inv(np.matmul(featuers_train.transpose(), featuers_train)), featuers_train.transpose()),\n",
    "    lables_train)\n",
    "print(opt)"
   ]
  },
  {
   "cell_type": "code",
   "execution_count": 8,
   "id": "e99e6819",
   "metadata": {},
   "outputs": [
    {
     "name": "stdout",
     "output_type": "stream",
     "text": [
      "WARNING:tensorflow:From C:\\Users\\johan\\anaconda3\\lib\\site-packages\\tensorflow\\python\\compat\\v2_compat.py:96: disable_resource_variables (from tensorflow.python.ops.variable_scope) is deprecated and will be removed in a future version.\n",
      "Instructions for updating:\n",
      "non-resource variables are not supported in the long term\n",
      "Tensor(\"Placeholder:0\", shape=(400, 14), dtype=float64)\n",
      "Tensor(\"Placeholder_1:0\", shape=(400,), dtype=float64)\n"
     ]
    }
   ],
   "source": [
    "tf.reset_default_graph()\n",
    "# define placeholder for computational graph\n",
    "X = tf.placeholder(tf.float64, shape=(400, 14))\n",
    "print(X)\n",
    "y = tf.placeholder(tf.float64, shape=(400))\n",
    "print(y)\n",
    "# define theta hat variable\n",
    "theta_hat = tf.Variable(tf.zeros(14, tf.float64))\n",
    "# calculate y_hat\n",
    "y_hat = tf.tensordot(X, theta_hat, 1)\n",
    "# calculate error vector e (y - y_hat)\n",
    "error_vec = tf.subtract(y, y_hat)\n",
    "# calculate gradient vector\n",
    "gradient_vec = 2 * tf.tensordot(error_vec, -X, 1)"
   ]
  },
  {
   "cell_type": "code",
   "execution_count": 9,
   "id": "be0bbc81",
   "metadata": {},
   "outputs": [
    {
     "name": "stdout",
     "output_type": "stream",
     "text": [
      "theta_hat iterative:  [23.28103859 -1.63806844  1.02740806  0.36839557  0.43775806 -1.73392697\n",
      "  3.43203821  0.0715952  -2.72587913  4.17194297 -2.54995215 -1.74754289\n",
      " -0.11110932 -3.69473992]\n",
      "theta_hat normal equations:  [23.28337581 -1.643388    1.0305089   0.37845963  0.43550243 -1.73595149\n",
      "  3.43080791  0.07337369 -2.7237948   4.21699484 -2.59301797 -1.74926608\n",
      " -0.1178641  -3.69508319]\n"
     ]
    }
   ],
   "source": [
    "# update theta_hat\n",
    "alpha = 0.0001\n",
    "theta_hat = theta_hat.assign(theta_hat - alpha * gradient_vec)\n",
    "with tf.Session() as sess:\n",
    "    sess.run(tf.global_variables_initializer())\n",
    "    for epoch in range(1000):\n",
    "        e_vec, grad_vec, t_hat = sess.run([error_vec, gradient_vec, theta_hat],\n",
    "                                          feed_dict={X: featuers_train, y: lables_train})\n",
    "\n",
    "        #print('iteration, error vec, grad vec, theta vec: ', epoch, e_vec, grad_vec, t_hat)\n",
    "print('theta_hat iterative: ', t_hat)\n",
    "print('theta_hat normal equations: ', opt)\n"
   ]
  },
  {
   "cell_type": "code",
   "execution_count": 10,
   "id": "4f028b4b",
   "metadata": {},
   "outputs": [
    {
     "name": "stdout",
     "output_type": "stream",
     "text": [
      "features_test shape:  (106, 14)\n",
      "t_hat shape:  (14,)\n"
     ]
    },
    {
     "data": {
      "image/png": "[encoded data removed]",
      "text/plain": [
       "<Figure size 432x288 with 1 Axes>"
      ]
     },
     "metadata": {},
     "output_type": "display_data"
    }
   ],
   "source": [
    "# fill test target and predicted target\n",
    "\n",
    "print(\"features_test shape: \",features_test.shape)\n",
    "print(\"t_hat shape: \",t_hat.shape)\n",
    "\n",
    "plt.scatter(lables_test,np.dot(features_test, t_hat),s=10)\n",
    "plt.xlabel(\"Prices: $y_i$\")\n",
    "plt.ylabel(\"Predicted prices: $\\hat{y}_i$\")\n",
    "plt.title(\"Prices vs Predicted prices: $y_i$ vs $\\hat{y}_i$\")\n",
    "plt.show()"
   ]
  },
  {
   "cell_type": "code",
   "execution_count": 11,
   "id": "80f7df48",
   "metadata": {},
   "outputs": [
    {
     "data": {
      "text/plain": [
       "37.68966247038781"
      ]
     },
     "execution_count": 11,
     "metadata": {},
     "output_type": "execute_result"
    }
   ],
   "source": [
    "cost = np.mean(np.square(np.subtract(lables_test,np.dot(features_test, t_hat))))\n",
    "cost"
   ]
  }
 ],
 "metadata": {
  "kernelspec": {
   "display_name": "Python 3",
   "language": "python",
   "name": "python3"
  },
  "language_info": {
   "codemirror_mode": {
    "name": "ipython",
    "version": 3
   },
   "file_extension": ".py",
   "mimetype": "text/x-python",
   "name": "python",
   "nbconvert_exporter": "python",
   "pygments_lexer": "ipython3",
   "version": "3.8.8"
  }
 },
 "nbformat": 4,
 "nbformat_minor": 5
}
