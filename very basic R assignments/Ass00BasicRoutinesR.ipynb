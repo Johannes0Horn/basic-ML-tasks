{
 "cells": [
  {
   "cell_type": "markdown",
   "metadata": {},
   "source": [
    "# Exercises on Basic Routines in R\n",
    "* Author: Johannes Maucher\n",
    "* Last Update: 08.09.2017, a few modifications by OK in 2019\n",
    "* Corresponding lecture notebooks: [00GettingStartedR](../01Basics/00GettingStartedR.ipynb) and section *Vectors* from [02DataTypes](../01Basics/02DataTypes.ipynb)"
   ]
  },
  {
   "cell_type": "markdown",
   "metadata": {},
   "source": [
    "## Solve the tasks ...\n",
    "\n",
    "Your solution should contain \n",
    "* the implemented code in code-cells, \n",
    "* the output of this code \n",
    "* and optionally your remarks, discussion, comments on the solution in markdown-cells.\n",
    "\n",
    "Send me the resulting Jupyter notebook."
   ]
  },
  {
   "cell_type": "markdown",
   "metadata": {},
   "source": [
    "## Tasks\n",
    "1. Create a vector `r` with integers from 1 to 10\n",
    "2. Access and display the\n",
    "    1. first element\n",
    "    2. the fifth element \n",
    "    3. elements at positions 6-9\n",
    "3. Assume that the elements of vector `r` are radiuses of circles. \n",
    "    1. Create a vector `c`, whose elements are the circumferences (in german: Umfänge) of circles with radiuses from `r`.\n",
    "    2. Create a vector `a`, whose elements are the surface areas of circles with radiuses from `r`.\n",
    "    \n",
    "   Apply `help()` and `apropos()` in order to find out how to use $\\pi$ in R.\n"
   ]
  },
  {
   "cell_type": "markdown",
   "metadata": {},
   "source": [
    "Task 1: Create a vector r with integers from 1 to 10"
   ]
  },
  {
   "cell_type": "code",
   "execution_count": 25,
   "metadata": {},
   "outputs": [
    {
     "data": {
      "text/html": [
       "<ol class=list-inline>\n",
       "\t<li>1</li>\n",
       "\t<li>2</li>\n",
       "\t<li>3</li>\n",
       "\t<li>4</li>\n",
       "\t<li>5</li>\n",
       "\t<li>6</li>\n",
       "\t<li>7</li>\n",
       "\t<li>8</li>\n",
       "\t<li>9</li>\n",
       "\t<li>10</li>\n",
       "</ol>\n"
      ],
      "text/latex": [
       "\\begin{enumerate*}\n",
       "\\item 1\n",
       "\\item 2\n",
       "\\item 3\n",
       "\\item 4\n",
       "\\item 5\n",
       "\\item 6\n",
       "\\item 7\n",
       "\\item 8\n",
       "\\item 9\n",
       "\\item 10\n",
       "\\end{enumerate*}\n"
      ],
      "text/markdown": [
       "1. 1\n",
       "2. 2\n",
       "3. 3\n",
       "4. 4\n",
       "5. 5\n",
       "6. 6\n",
       "7. 7\n",
       "8. 8\n",
       "9. 9\n",
       "10. 10\n",
       "\n",
       "\n"
      ],
      "text/plain": [
       " [1]  1  2  3  4  5  6  7  8  9 10"
      ]
     },
     "metadata": {},
     "output_type": "display_data"
    }
   ],
   "source": [
    "r <- 1:10; r"
   ]
  },
  {
   "cell_type": "markdown",
   "metadata": {},
   "source": [
    "Task 2A: Access and display the first element"
   ]
  },
  {
   "cell_type": "code",
   "execution_count": 26,
   "metadata": {},
   "outputs": [
    {
     "name": "stdout",
     "output_type": "stream",
     "text": [
      "[1] \"First element of vector: 1\"\n"
     ]
    }
   ],
   "source": [
    "print(paste0(\"First element of vector: \", r[1]))"
   ]
  },
  {
   "cell_type": "markdown",
   "metadata": {},
   "source": [
    "Task 2B: Access and display the fifth element"
   ]
  },
  {
   "cell_type": "code",
   "execution_count": 27,
   "metadata": {},
   "outputs": [
    {
     "name": "stdout",
     "output_type": "stream",
     "text": [
      "[1] \"Fifth element of vector: 5\"\n"
     ]
    }
   ],
   "source": [
    "print(paste0(\"Fifth element of vector: \", r[5]))"
   ]
  },
  {
   "cell_type": "markdown",
   "metadata": {},
   "source": [
    "Task 2C: Access and display the elements at positions 6-9"
   ]
  },
  {
   "cell_type": "code",
   "execution_count": 28,
   "metadata": {},
   "outputs": [
    {
     "data": {
      "text/html": [
       "<span style=white-space:pre-wrap>'Fifth to ninth element of vector:  6 7 8 9'</span>"
      ],
      "text/latex": [
       "'Fifth to ninth element of vector:  6 7 8 9'"
      ],
      "text/markdown": [
       "<span style=white-space:pre-wrap>'Fifth to ninth element of vector:  6 7 8 9'</span>"
      ],
      "text/plain": [
       "[1] \"Fifth to ninth element of vector:  6 7 8 9\""
      ]
     },
     "metadata": {},
     "output_type": "display_data"
    }
   ],
   "source": [
    "paste(c(\"Fifth to ninth element of vector: \", r[6:9]), collapse=\" \")\n"
   ]
  },
  {
   "cell_type": "markdown",
   "metadata": {},
   "source": [
    "Task 3A: Assume that the elements of vector r are radiuses of circles. Create a vector c, whose elements are the circumferences (in german: Umfänge) of circles with radiuses from r."
   ]
  },
  {
   "cell_type": "code",
   "execution_count": 43,
   "metadata": {},
   "outputs": [
    {
     "data": {
      "text/html": [
       "<ol class=list-inline>\n",
       "\t<li>6.28318530717959</li>\n",
       "\t<li>12.5663706143592</li>\n",
       "\t<li>18.8495559215388</li>\n",
       "\t<li>25.1327412287183</li>\n",
       "\t<li>31.4159265358979</li>\n",
       "\t<li>37.6991118430775</li>\n",
       "\t<li>43.9822971502571</li>\n",
       "\t<li>50.2654824574367</li>\n",
       "\t<li>56.5486677646163</li>\n",
       "\t<li>62.8318530717959</li>\n",
       "</ol>\n"
      ],
      "text/latex": [
       "\\begin{enumerate*}\n",
       "\\item 6.28318530717959\n",
       "\\item 12.5663706143592\n",
       "\\item 18.8495559215388\n",
       "\\item 25.1327412287183\n",
       "\\item 31.4159265358979\n",
       "\\item 37.6991118430775\n",
       "\\item 43.9822971502571\n",
       "\\item 50.2654824574367\n",
       "\\item 56.5486677646163\n",
       "\\item 62.8318530717959\n",
       "\\end{enumerate*}\n"
      ],
      "text/markdown": [
       "1. 6.28318530717959\n",
       "2. 12.5663706143592\n",
       "3. 18.8495559215388\n",
       "4. 25.1327412287183\n",
       "5. 31.4159265358979\n",
       "6. 37.6991118430775\n",
       "7. 43.9822971502571\n",
       "8. 50.2654824574367\n",
       "9. 56.5486677646163\n",
       "10. 62.8318530717959\n",
       "\n",
       "\n"
      ],
      "text/plain": [
       " [1]  6.283185 12.566371 18.849556 25.132741 31.415927 37.699112 43.982297\n",
       " [8] 50.265482 56.548668 62.831853"
      ]
     },
     "metadata": {},
     "output_type": "display_data"
    }
   ],
   "source": [
    "c = vec <- vector()\n",
    "\n",
    "for (radius in r)\n",
    "{\n",
    "    c <- append(c, radius* 2 * pi)\n",
    "}\n",
    "\n",
    "c\n",
    "\n"
   ]
  },
  {
   "cell_type": "markdown",
   "metadata": {},
   "source": [
    "Task 3B: Assume that the elements of vector r are radiuses of circles. Ceate a vector a, whose elements are the surface areas of circles with radiuses from r."
   ]
  },
  {
   "cell_type": "code",
   "execution_count": 44,
   "metadata": {},
   "outputs": [
    {
     "data": {
      "text/html": [
       "<ol class=list-inline>\n",
       "\t<li>3.14159265358979</li>\n",
       "\t<li>12.5663706143592</li>\n",
       "\t<li>28.2743338823081</li>\n",
       "\t<li>50.2654824574367</li>\n",
       "\t<li>78.5398163397448</li>\n",
       "\t<li>113.097335529233</li>\n",
       "\t<li>153.9380400259</li>\n",
       "\t<li>201.061929829747</li>\n",
       "\t<li>254.469004940773</li>\n",
       "\t<li>314.159265358979</li>\n",
       "</ol>\n"
      ],
      "text/latex": [
       "\\begin{enumerate*}\n",
       "\\item 3.14159265358979\n",
       "\\item 12.5663706143592\n",
       "\\item 28.2743338823081\n",
       "\\item 50.2654824574367\n",
       "\\item 78.5398163397448\n",
       "\\item 113.097335529233\n",
       "\\item 153.9380400259\n",
       "\\item 201.061929829747\n",
       "\\item 254.469004940773\n",
       "\\item 314.159265358979\n",
       "\\end{enumerate*}\n"
      ],
      "text/markdown": [
       "1. 3.14159265358979\n",
       "2. 12.5663706143592\n",
       "3. 28.2743338823081\n",
       "4. 50.2654824574367\n",
       "5. 78.5398163397448\n",
       "6. 113.097335529233\n",
       "7. 153.9380400259\n",
       "8. 201.061929829747\n",
       "9. 254.469004940773\n",
       "10. 314.159265358979\n",
       "\n",
       "\n"
      ],
      "text/plain": [
       " [1]   3.141593  12.566371  28.274334  50.265482  78.539816 113.097336\n",
       " [7] 153.938040 201.061930 254.469005 314.159265"
      ]
     },
     "metadata": {},
     "output_type": "display_data"
    }
   ],
   "source": [
    "a = vec <- vector()\n",
    "\n",
    "for (radius in r)\n",
    "{\n",
    "    a <- append(a, radius**2 * pi)\n",
    "}\n",
    "\n",
    "a"
   ]
  },
  {
   "cell_type": "code",
   "execution_count": null,
   "metadata": {},
   "outputs": [],
   "source": []
  }
 ],
 "metadata": {
  "kernelspec": {
   "display_name": "R",
   "language": "R",
   "name": "ir"
  },
  "language_info": {
   "codemirror_mode": "r",
   "file_extension": ".r",
   "mimetype": "text/x-r-source",
   "name": "R",
   "pygments_lexer": "r",
   "version": "3.6.1"
  },
  "nav_menu": {},
  "toc": {
   "navigate_menu": true,
   "number_sections": true,
   "sideBar": true,
   "threshold": 6,
   "toc_cell": false,
   "toc_section_display": "block",
   "toc_window_display": false
  }
 },
 "nbformat": 4,
 "nbformat_minor": 2
}
