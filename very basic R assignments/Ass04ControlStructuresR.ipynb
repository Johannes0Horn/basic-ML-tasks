{
 "cells": [
  {
   "cell_type": "markdown",
   "metadata": {},
   "source": [
    "# Exercises on Control Structures in R\n",
    "* Author: Johannes Maucher\n",
    "* Last Update: 18.09.2017, a few modifications by OK in 2019\n",
    "* Corresponding lecture notebook: [05ControlStructures](../01Basics/05ControlStructures.ipynb)"
   ]
  },
  {
   "cell_type": "code",
   "execution_count": null,
   "metadata": {},
   "outputs": [],
   "source": []
  },
  {
   "cell_type": "markdown",
   "metadata": {},
   "source": [
    "## Solve the tasks ...\n",
    "\n",
    "Your solution should contain \n",
    "* the implemented code in code-cells, \n",
    "* the output of this code\n",
    "* answers on questions in mark-down cells\n",
    "* and optionally your remarks, discussion, comments on the solution in markdown-cells.\n",
    "\n",
    "Send me the resulting Jupyter notebook."
   ]
  },
  {
   "cell_type": "markdown",
   "metadata": {},
   "source": [
    "## Tasks\n",
    "\n"
   ]
  },
  {
   "cell_type": "markdown",
   "metadata": {
    "collapsed": true
   },
   "source": [
    "1. In the following tasks the concepts of representing dates and times in R are required. Study [Documentation on Dates and Time in R](https://www.stat.berkeley.edu/~s133/dates.html) before processing the tasks below.\n",
    "1. Read data from [exampleDateTime.csv](../data/exampleDateTime.csv) into a dataframe. \n",
    "2. Iterate over the first column (Date) and check for each date, if it is a weekend-day. Output (print()) for each date the result of this check. \n",
    "3. Iterate over the first column (Date) and count how often each weekday appears in the data. Use a `switch`-construct to implement this functionality.\n",
    "4. Iterate over the first column (Date), determine for each pair of successive dates the number of days inbetween and output the maximum number of days between successive dates.\n",
    "5. Similar as in the previous task iterate over the rows and determine the maximum time inbetween a pair of successive rows. However, now not only the date shall be considered, but also the time. For this concatenate the entry in the date-column with the entry of the time-column and convert this concatenated string into a `POSIXct`-object. Output the maximum number of minutes inbetween 2 successive rows in the dataframe."
   ]
  },
  {
   "cell_type": "code",
   "execution_count": 120,
   "metadata": {},
   "outputs": [],
   "source": [
    "library(tidyverse)"
   ]
  },
  {
   "cell_type": "markdown",
   "metadata": {},
   "source": [
    "Task 2: Read data from exampleDateTime.csv into a dataframe."
   ]
  },
  {
   "cell_type": "code",
   "execution_count": 34,
   "metadata": {},
   "outputs": [
    {
     "name": "stdout",
     "output_type": "stream",
     "text": [
      "Observations: 10\n",
      "Variables: 3\n",
      "$ Date     <fct> 20.07.2017, 24.07.2017, 02.08.2017, 04.08.2017, 12.08.2017...\n",
      "$ Time     <fct>  14:15:00,  09:30:00,  17:10:00,  16:30:00,  11:37:00,  10...\n",
      "$ Duration <fct>  0:58:30,  1:40:00,  1:24:00,  1:48:25,  1:14:40,  0:57:20...\n"
     ]
    }
   ],
   "source": [
    "exampleDateTime <- read.csv(file=\"../data/exampleDateTime.csv\", header=TRUE, \n",
    "                       sep=\",\")\n",
    "glimpse(exampleDateTime)"
   ]
  },
  {
   "cell_type": "markdown",
   "metadata": {},
   "source": [
    "Task 3: Iterate over the first column (Date) and check for each date, if it is a weekend-day. Output (print()) for each date the result of this check."
   ]
  },
  {
   "cell_type": "code",
   "execution_count": 76,
   "metadata": {
    "scrolled": true
   },
   "outputs": [
    {
     "name": "stdout",
     "output_type": "stream",
     "text": [
      "[1] \"Date 1 is a week-day\"\n",
      "[1] \"Date 2 is a week-day\"\n",
      "[1] \"Date 3 is a week-day\"\n",
      "[1] \"Date 4 is a weekend-day\"\n",
      "[1] \"Date 5 is a week-day\"\n",
      "[1] \"Date 6 is a week-day\"\n",
      "[1] \"Date 7 is a weekend-day\"\n",
      "[1] \"Date 8 is a week-day\"\n",
      "[1] \"Date 9 is a week-day\"\n",
      "[1] \"Date 10 is a week-day\"\n"
     ]
    }
   ],
   "source": [
    "counter <-0\n",
    "\n",
    "for (date in exampleDateTime$Date) {\n",
    "    counter <- counter + 1;\n",
    "    day <-wday(as.Date(date, \"%d.%M.%y\"), label = TRUE)\n",
    "    wday = \"week-day\"\n",
    "    if (day == \"Sat\" || wday == \"Sun\"){\n",
    "        wday = \"weekend-day\"\n",
    "    }\n",
    "    print(paste0(\"Date \", counter, \" is a \", wday))\n",
    "}"
   ]
  },
  {
   "cell_type": "markdown",
   "metadata": {},
   "source": [
    "Task 4: Iterate over the first column (Date) and count how often each weekday appears in the data. Use a switch-construct to implement this functionality."
   ]
  },
  {
   "cell_type": "code",
   "execution_count": 119,
   "metadata": {},
   "outputs": [
    {
     "name": "stdout",
     "output_type": "stream",
     "text": [
      "$Mon\n",
      "[1] 2\n",
      "\n",
      "$Tue\n",
      "[1] 1\n",
      "\n",
      "$Wed\n",
      "[1] 1\n",
      "\n",
      "$Thu\n",
      "[1] 2\n",
      "\n",
      "$Fri\n",
      "[1] 1\n",
      "\n",
      "$Sat\n",
      "[1] 2\n",
      "\n",
      "$Sun\n",
      "[1] 1\n",
      "\n"
     ]
    }
   ],
   "source": [
    "wdayCounter <-  list(Mon=0, Tue=0, Wed=0, Thu=0, Fri=0,Sat=0 ,Sun=0)\n",
    "for (date in exampleDateTime$Date) {\n",
    "    day <-wday(as.Date(date, \"%d.%M.%y\"), label = TRUE)\n",
    "     dayID <- switch(as.character(day),\n",
    "    \"Mon\" = 1,\n",
    "    \"Tue\" = 2,\n",
    "    \"Wed\" = 3,\n",
    "    \"Thu\" = 4,\n",
    "    \"Fri\" = 5,\n",
    "    \"Sat\" = 6,\n",
    "    \"Sun\" = 7\n",
    "     )\n",
    "    wdayCounter[[dayID]]<- (wdayCounter[[dayID]] +1)\n",
    "}\n",
    "print(wdayCounter)\n",
    "\n",
    "\n"
   ]
  },
  {
   "cell_type": "markdown",
   "metadata": {},
   "source": [
    "Task 5: Iterate over the first column (Date), determine for each pair of successive dates the number of days inbetween and output the maximum number of days between successive dates."
   ]
  },
  {
   "cell_type": "code",
   "execution_count": 165,
   "metadata": {},
   "outputs": [
    {
     "name": "stdout",
     "output_type": "stream",
     "text": [
      "[1] \"Between date 2 and 3 is a 4 day difference\"\n",
      "[1] \"Between date 3 and 4 is a 18 day difference\"\n",
      "[1] \"Between date 4 and 5 is a 16 day difference\"\n",
      "[1] \"Between date 5 and 6 is a 8 day difference\"\n",
      "[1] \"Between date 6 and 7 is a 0 day difference\"\n",
      "[1] \"Between date 7 and 8 is a 5 day difference\"\n",
      "[1] \"Between date 8 and 9 is a 8 day difference\"\n",
      "[1] \"Between date 9 and 10 is a 10 day difference\"\n",
      "[1] \"Between date 10 and 11 is a 19 day difference\"\n",
      "[1] \"the maximum number of days between successive dates is 19\"\n"
     ]
    }
   ],
   "source": [
    "lastdate = NULL\n",
    "diff = NULL\n",
    "counter = 0\n",
    "biggestdiff = 0\n",
    "for (date in exampleDateTime$Date) {\n",
    "    counter = counter +1\n",
    "    if(is.null(lastdate)){\n",
    "        lastdate <- as.Date(date, \"%d.%M.%y\")\n",
    "    }\n",
    "    else{\n",
    "        diff <- abs(lastdate - as.Date(date, \"%d.%M.%y\"))\n",
    "        if (diff > biggestdiff){\n",
    "            biggestdiff = diff\n",
    "        }\n",
    "        print(paste0(\"Between date \", counter, \" and \", counter+1, \" is a \", diff, \" day difference\"))\n",
    "\n",
    "    }\n",
    "}\n",
    "print(paste0(\"the maximum number of days between successive dates is \", biggestdiff))\n"
   ]
  },
  {
   "cell_type": "markdown",
   "metadata": {},
   "source": [
    "Task 6: Similar as in the previous task iterate over the rows and determine the maximum time inbetween a pair of successive rows. However, now not only the date shall be considered, but also the time. For this concatenate the entry in the date-column with the entry of the time-column and convert this concatenated string into a POSIXct-object. Output the maximum number of minutes inbetween 2 successive rows in the dataframe."
   ]
  },
  {
   "cell_type": "code",
   "execution_count": 166,
   "metadata": {},
   "outputs": [
    {
     "name": "stdout",
     "output_type": "stream",
     "text": [
      "[1] \"Between date2 and 3 is a 91 hour difference.\"\n",
      "[1] \"Between date3 and 4 is a 315 hour difference.\"\n",
      "[1] \"Between date4 and 5 is a 362 hour difference.\"\n",
      "[1] \"Between date5 and 6 is a 549 hour difference.\"\n",
      "[1] \"Between date6 and 7 is a 740 hour difference.\"\n",
      "[1] \"Between date7 and 8 is a 858 hour difference.\"\n",
      "[1] \"Between date8 and 9 is a 932 hour difference.\"\n",
      "[1] \"Between date9 and 10 is a 984 hour difference.\"\n",
      "[1] \"Between date10 and 11 is a 1030 hour difference.\"\n",
      "[1] \"the maximum number of hours between successive dates is 1030\"\n"
     ]
    }
   ],
   "source": [
    "concat <- as.POSIXct(paste(exampleDateTime$Date, exampleDateTime$Time), format=\"%d.%m.%Y %H:%M:%S\")\n",
    "\n",
    "\n",
    "lastdate = NULL\n",
    "diff = NULL\n",
    "counter = 0\n",
    "biggestdiff = 0\n",
    "for (date in concat) {\n",
    "    counter = counter +1\n",
    "    if(is.null(lastdate)){\n",
    "        lastdate <- date\n",
    "    }\n",
    "    else{\n",
    "        diff <- round(abs(lastdate - date)/3600)\n",
    "        if (diff > biggestdiff){\n",
    "            biggestdiff = diff\n",
    "        }\n",
    "        print(paste0(\"Between date\", counter, \" and \", counter+1, \" is a \", diff, \" hour difference.\"))\n",
    "\n",
    "    }\n",
    "}\n",
    "print(paste0(\"the maximum number of hours between successive dates is \", biggestdiff))\n",
    "\n",
    "\n"
   ]
  }
 ],
 "metadata": {
  "anaconda-cloud": {},
  "kernelspec": {
   "display_name": "R",
   "language": "R",
   "name": "ir"
  },
  "language_info": {
   "codemirror_mode": "r",
   "file_extension": ".r",
   "mimetype": "text/x-r-source",
   "name": "R",
   "pygments_lexer": "r",
   "version": "3.6.1"
  },
  "nav_menu": {},
  "toc": {
   "nav_menu": {},
   "number_sections": true,
   "sideBar": true,
   "skip_h1_title": false,
   "toc_cell": false,
   "toc_position": {},
   "toc_section_display": "block",
   "toc_window_display": false
  }
 },
 "nbformat": 4,
 "nbformat_minor": 2
}
