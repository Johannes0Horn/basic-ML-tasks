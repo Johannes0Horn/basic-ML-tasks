{
 "cells": [
  {
   "cell_type": "markdown",
   "metadata": {},
   "source": [
    "# Exercises on Basic Routines in R\n",
    "* Author: Johannes Maucher\n",
    "* Last Update: 12.09.2017, a few modifications by OK in 2019\n",
    "* Corresponding lecture notebook: [02DataTypes](../01Basics/02DataTypes.ipynb)"
   ]
  },
  {
   "cell_type": "markdown",
   "metadata": {},
   "source": [
    "## Solve the tasks ...\n",
    "\n",
    "Your solution should contain \n",
    "* the implemented code in code-cells, \n",
    "* the output of this code\n",
    "* answers on questions in mark-down cells\n",
    "* and optionally your remarks, discussion, comments on the solution in markdown-cells.\n",
    "\n",
    "Send me the resulting Jupyter notebook."
   ]
  },
  {
   "cell_type": "markdown",
   "metadata": {},
   "source": [
    "## Tasks\n",
    "1. At time $t=0$ a vehicle has speed $v_0$ (in $m/s$). The vehicle's accelaration is $a$ (in $m/s^2$). Then the traveled distance $s$ (in meters) after an arbitrary time $t$ (in seconds) can be calculated as \n",
    "$$s=\\frac{1}{2}a t^2 +v_0 t.$$ \n",
    "In a lab experiment after time $t_1=2s$ the traveled distance is measured to be $s_1=16m$ and after time $t_2=4s$ the traveled distance is measured to be $s_2=44m$. Calculate the vehicle's accelaration $a$ and initial speed $v_0$ by solving the corresponding system of linear equations in R.\n"
   ]
  },
  {
   "cell_type": "markdown",
   "metadata": {},
   "source": [
    "2. Assign the constant `letters` to the variable `x` and `letters` in reverse order to the variable `y`. What is the result of `x > y`? Repeat this experiment but now `letters` and the reverse ordering of `letters` shall be represented as *factors*. What is now the result of `x > y`?\n"
   ]
  },
  {
   "cell_type": "markdown",
   "metadata": {},
   "source": [
    "3. A company likes to store the following data of it's employees:\n",
    "    1. ID\n",
    "    2. Name\n",
    "    3. Age\n",
    "    4. Salary\n",
    "    \n",
    "   For each employee this data shall be stored in a R - list. Create such lists for 4 arbitrary sample persons and assign all of these lists to another list `employeelist`. \n",
    "   1. Access and display all data of a single employee.  \n",
    "   2. Access and display the salary of a single employee.\n",
    "   3. Define a list for a new person and insert this new list at the third position of the `employeelist`.\n",
    "   4. Remove the list of an arbitrary person from `employeelist`.\n"
   ]
  },
  {
   "cell_type": "markdown",
   "metadata": {},
   "source": [
    "4. Read the [energy data file](../Lecture/data/EnergyMixGeoClust.csv) into a dataframe `energyData` like in the lecture notebook. \n",
    "    1. Determine the number of observations (rows) and features (columns) of this dataframe.\n",
    "    2. Create a dataframe `energyDataRed`, which contains all data of `energyData`, except the 4 countries with the highest coal-consumption.\n",
    "    3. Calculate the mean and the median of the coal-consumption for both dataframes `energyData` and `energyDataRed`.\n",
    "    4. What do you conclude from this experiment regarding the quality of the statistics *mean* and *median*?\n",
    "    \n",
    "To order rows you can use the function `arrange()` - see [arrange()](https://dplyr.tidyverse.org/reference/arrange.html) and [examples](https://r4ds.had.co.nz/transform.html#arrange-rows-with-arrange) from **tidyverse** (more exactly from the dplyr package)"
   ]
  },
  {
   "cell_type": "code",
   "execution_count": 100,
   "metadata": {},
   "outputs": [],
   "source": [
    "library(tidyverse)"
   ]
  },
  {
   "cell_type": "markdown",
   "metadata": {},
   "source": [
    "Task 1: Calculate the vehicle's accelaration  𝑎  and initial speed  𝑣0  by solving the corresponding system of linear equations in R."
   ]
  },
  {
   "cell_type": "code",
   "execution_count": 101,
   "metadata": {},
   "outputs": [
    {
     "data": {
      "text/html": [
       "<table>\n",
       "<tbody>\n",
       "\t<tr><td>1</td><td>1</td></tr>\n",
       "\t<tr><td>2</td><td>1</td></tr>\n",
       "</tbody>\n",
       "</table>\n"
      ],
      "text/latex": [
       "\\begin{tabular}{ll}\n",
       "\t 1 & 1\\\\\n",
       "\t 2 & 1\\\\\n",
       "\\end{tabular}\n"
      ],
      "text/markdown": [
       "\n",
       "| 1 | 1 |\n",
       "| 2 | 1 |\n",
       "\n"
      ],
      "text/plain": [
       "     [,1] [,2]\n",
       "[1,] 1    1   \n",
       "[2,] 2    1   "
      ]
     },
     "metadata": {},
     "output_type": "display_data"
    },
    {
     "data": {
      "text/html": [
       "<table>\n",
       "<thead><tr><th scope=col>a</th></tr></thead>\n",
       "<tbody>\n",
       "\t<tr><td>16</td></tr>\n",
       "\t<tr><td>44</td></tr>\n",
       "</tbody>\n",
       "</table>\n"
      ],
      "text/latex": [
       "\\begin{tabular}{r|l}\n",
       " a\\\\\n",
       "\\hline\n",
       "\t 16\\\\\n",
       "\t 44\\\\\n",
       "\\end{tabular}\n"
      ],
      "text/markdown": [
       "\n",
       "| a |\n",
       "|---|\n",
       "| 16 |\n",
       "| 44 |\n",
       "\n"
      ],
      "text/plain": [
       "  a \n",
       "1 16\n",
       "2 44"
      ]
     },
     "metadata": {},
     "output_type": "display_data"
    },
    {
     "data": {
      "text/html": [
       "<table>\n",
       "<thead><tr><th scope=col>x</th></tr></thead>\n",
       "<tbody>\n",
       "\t<tr><td> 28</td></tr>\n",
       "\t<tr><td>-12</td></tr>\n",
       "</tbody>\n",
       "</table>\n"
      ],
      "text/latex": [
       "\\begin{tabular}{r|l}\n",
       " x\\\\\n",
       "\\hline\n",
       "\t  28\\\\\n",
       "\t -12\\\\\n",
       "\\end{tabular}\n"
      ],
      "text/markdown": [
       "\n",
       "| x |\n",
       "|---|\n",
       "|  28 |\n",
       "| -12 |\n",
       "\n"
      ],
      "text/plain": [
       "  x  \n",
       "1  28\n",
       "2 -12"
      ]
     },
     "metadata": {},
     "output_type": "display_data"
    }
   ],
   "source": [
    "(C <- matrix(c(1, 1,\n",
    "               2, 1), \n",
    "                  nrow=2, ncol=2, byrow = TRUE))\n",
    "\n",
    "a <- c(16, 44)\n",
    "as.data.frame(a)  #different display\n",
    "\n",
    "x <- solve(C, a)\n",
    "as.data.frame(x)  #different display\n",
    "\n"
   ]
  },
  {
   "cell_type": "markdown",
   "metadata": {},
   "source": [
    "The vehicle's accelaration 𝑎 is 28 m/s^2 and initial speed 𝑣0 is -12 m/s"
   ]
  },
  {
   "cell_type": "markdown",
   "metadata": {},
   "source": [
    "Task 2: Assign the constant letters to the variable x and letters in reverse order to the variable y. What is the result of x > y? Repeat this experiment but now letters and the reverse ordering of letters shall be represented as factors. What is now the result of x > y?"
   ]
  },
  {
   "cell_type": "code",
   "execution_count": 102,
   "metadata": {},
   "outputs": [
    {
     "data": {
      "text/html": [
       "FALSE"
      ],
      "text/latex": [
       "FALSE"
      ],
      "text/markdown": [
       "FALSE"
      ],
      "text/plain": [
       "[1] FALSE"
      ]
     },
     "metadata": {},
     "output_type": "display_data"
    },
    {
     "name": "stderr",
     "output_type": "stream",
     "text": [
      "Warning message in Ops.factor(xFact, yFact):\n",
      "\"'>' not meaningful for factors\""
     ]
    },
    {
     "data": {
      "text/html": [
       "&lt;NA&gt;"
      ],
      "text/latex": [
       "<NA>"
      ],
      "text/markdown": [
       "&lt;NA&gt;"
      ],
      "text/plain": [
       "[1] NA"
      ]
     },
     "metadata": {},
     "output_type": "display_data"
    }
   ],
   "source": [
    "x <- 'letters'\n",
    "y <- 'srettel'\n",
    "\n",
    "x>y\n",
    "\n",
    "xFact <- factor(x) #convert vector into factor\n",
    "yFact <- factor(y) #convert vector into factor\n",
    "\n",
    "xFact>yFact"
   ]
  },
  {
   "cell_type": "markdown",
   "metadata": {},
   "source": [
    "x>y solange sie Konstanten repräsentieren. '>' macht für Faktoren keinen Sinn, da sie kategorische Werte repäsentieren."
   ]
  },
  {
   "cell_type": "markdown",
   "metadata": {},
   "source": [
    "Task 3:Create such lists for 4 arbitrary sample persons and assign all of these lists to another list employeelist."
   ]
  },
  {
   "cell_type": "code",
   "execution_count": 104,
   "metadata": {},
   "outputs": [
    {
     "data": {
      "text/html": [
       "<ol>\n",
       "\t<li><dl>\n",
       "\t<dt>$ID</dt>\n",
       "\t\t<dd>0</dd>\n",
       "\t<dt>$name</dt>\n",
       "\t\t<dd>'Aaron'</dd>\n",
       "\t<dt>$age</dt>\n",
       "\t\t<dd>22</dd>\n",
       "\t<dt>$salary</dt>\n",
       "\t\t<dd>2100</dd>\n",
       "</dl>\n",
       "</li>\n",
       "\t<li><dl>\n",
       "\t<dt>$ID</dt>\n",
       "\t\t<dd>1</dd>\n",
       "\t<dt>$name</dt>\n",
       "\t\t<dd>'Barek'</dd>\n",
       "\t<dt>$age</dt>\n",
       "\t\t<dd>23</dd>\n",
       "\t<dt>$salary</dt>\n",
       "\t\t<dd>2200</dd>\n",
       "</dl>\n",
       "</li>\n",
       "\t<li><dl>\n",
       "\t<dt>$ID</dt>\n",
       "\t\t<dd>2</dd>\n",
       "\t<dt>$name</dt>\n",
       "\t\t<dd>'Carmen'</dd>\n",
       "\t<dt>$age</dt>\n",
       "\t\t<dd>24</dd>\n",
       "\t<dt>$salary</dt>\n",
       "\t\t<dd>2300</dd>\n",
       "</dl>\n",
       "</li>\n",
       "\t<li><dl>\n",
       "\t<dt>$ID</dt>\n",
       "\t\t<dd>3</dd>\n",
       "\t<dt>$name</dt>\n",
       "\t\t<dd>'Derek'</dd>\n",
       "\t<dt>$age</dt>\n",
       "\t\t<dd>25</dd>\n",
       "\t<dt>$salary</dt>\n",
       "\t\t<dd>2400</dd>\n",
       "</dl>\n",
       "</li>\n",
       "</ol>\n"
      ],
      "text/latex": [
       "\\begin{enumerate}\n",
       "\\item \\begin{description}\n",
       "\\item[\\$ID] 0\n",
       "\\item[\\$name] 'Aaron'\n",
       "\\item[\\$age] 22\n",
       "\\item[\\$salary] 2100\n",
       "\\end{description}\n",
       "\n",
       "\\item \\begin{description}\n",
       "\\item[\\$ID] 1\n",
       "\\item[\\$name] 'Barek'\n",
       "\\item[\\$age] 23\n",
       "\\item[\\$salary] 2200\n",
       "\\end{description}\n",
       "\n",
       "\\item \\begin{description}\n",
       "\\item[\\$ID] 2\n",
       "\\item[\\$name] 'Carmen'\n",
       "\\item[\\$age] 24\n",
       "\\item[\\$salary] 2300\n",
       "\\end{description}\n",
       "\n",
       "\\item \\begin{description}\n",
       "\\item[\\$ID] 3\n",
       "\\item[\\$name] 'Derek'\n",
       "\\item[\\$age] 25\n",
       "\\item[\\$salary] 2400\n",
       "\\end{description}\n",
       "\n",
       "\\end{enumerate}\n"
      ],
      "text/markdown": [
       "1. $ID\n",
       ":   0\n",
       "$name\n",
       ":   'Aaron'\n",
       "$age\n",
       ":   22\n",
       "$salary\n",
       ":   2100\n",
       "\n",
       "\n",
       "\n",
       "2. $ID\n",
       ":   1\n",
       "$name\n",
       ":   'Barek'\n",
       "$age\n",
       ":   23\n",
       "$salary\n",
       ":   2200\n",
       "\n",
       "\n",
       "\n",
       "3. $ID\n",
       ":   2\n",
       "$name\n",
       ":   'Carmen'\n",
       "$age\n",
       ":   24\n",
       "$salary\n",
       ":   2300\n",
       "\n",
       "\n",
       "\n",
       "4. $ID\n",
       ":   3\n",
       "$name\n",
       ":   'Derek'\n",
       "$age\n",
       ":   25\n",
       "$salary\n",
       ":   2400\n",
       "\n",
       "\n",
       "\n",
       "\n",
       "\n"
      ],
      "text/plain": [
       "[[1]]\n",
       "[[1]]$ID\n",
       "[1] 0\n",
       "\n",
       "[[1]]$name\n",
       "[1] \"Aaron\"\n",
       "\n",
       "[[1]]$age\n",
       "[1] 22\n",
       "\n",
       "[[1]]$salary\n",
       "[1] 2100\n",
       "\n",
       "\n",
       "[[2]]\n",
       "[[2]]$ID\n",
       "[1] 1\n",
       "\n",
       "[[2]]$name\n",
       "[1] \"Barek\"\n",
       "\n",
       "[[2]]$age\n",
       "[1] 23\n",
       "\n",
       "[[2]]$salary\n",
       "[1] 2200\n",
       "\n",
       "\n",
       "[[3]]\n",
       "[[3]]$ID\n",
       "[1] 2\n",
       "\n",
       "[[3]]$name\n",
       "[1] \"Carmen\"\n",
       "\n",
       "[[3]]$age\n",
       "[1] 24\n",
       "\n",
       "[[3]]$salary\n",
       "[1] 2300\n",
       "\n",
       "\n",
       "[[4]]\n",
       "[[4]]$ID\n",
       "[1] 3\n",
       "\n",
       "[[4]]$name\n",
       "[1] \"Derek\"\n",
       "\n",
       "[[4]]$age\n",
       "[1] 25\n",
       "\n",
       "[[4]]$salary\n",
       "[1] 2400\n",
       "\n"
      ]
     },
     "metadata": {},
     "output_type": "display_data"
    }
   ],
   "source": [
    "person1 <- list(ID=0, name='Aaron', age=22, salary=2100)\n",
    "person2 <- list(ID=1, name='Barek', age=23, salary=2200)\n",
    "person3 <- list(ID=2, name='Carmen', age=24, salary=2300)\n",
    "person4 <- list(ID=3, name='Derek', age=25, salary=2400)\n",
    "\n",
    "employeelist <- list (person1, person2, person3, person4)\n",
    "employeelist"
   ]
  },
  {
   "cell_type": "markdown",
   "metadata": {},
   "source": [
    "Task 3A: Access and display all data of a single employee."
   ]
  },
  {
   "cell_type": "code",
   "execution_count": 105,
   "metadata": {},
   "outputs": [
    {
     "data": {
      "text/html": [
       "<ol>\n",
       "\t<li><dl>\n",
       "\t<dt>$ID</dt>\n",
       "\t\t<dd>0</dd>\n",
       "\t<dt>$name</dt>\n",
       "\t\t<dd>'Aaron'</dd>\n",
       "\t<dt>$age</dt>\n",
       "\t\t<dd>22</dd>\n",
       "\t<dt>$salary</dt>\n",
       "\t\t<dd>2100</dd>\n",
       "</dl>\n",
       "</li>\n",
       "</ol>\n"
      ],
      "text/latex": [
       "\\begin{enumerate}\n",
       "\\item \\begin{description}\n",
       "\\item[\\$ID] 0\n",
       "\\item[\\$name] 'Aaron'\n",
       "\\item[\\$age] 22\n",
       "\\item[\\$salary] 2100\n",
       "\\end{description}\n",
       "\n",
       "\\end{enumerate}\n"
      ],
      "text/markdown": [
       "1. $ID\n",
       ":   0\n",
       "$name\n",
       ":   'Aaron'\n",
       "$age\n",
       ":   22\n",
       "$salary\n",
       ":   2100\n",
       "\n",
       "\n",
       "\n",
       "\n",
       "\n"
      ],
      "text/plain": [
       "[[1]]\n",
       "[[1]]$ID\n",
       "[1] 0\n",
       "\n",
       "[[1]]$name\n",
       "[1] \"Aaron\"\n",
       "\n",
       "[[1]]$age\n",
       "[1] 22\n",
       "\n",
       "[[1]]$salary\n",
       "[1] 2100\n",
       "\n"
      ]
     },
     "metadata": {},
     "output_type": "display_data"
    }
   ],
   "source": [
    "employeelist[1]"
   ]
  },
  {
   "cell_type": "markdown",
   "metadata": {},
   "source": [
    "Task 3B: Access and display the salary of a single employee."
   ]
  },
  {
   "cell_type": "code",
   "execution_count": 106,
   "metadata": {},
   "outputs": [
    {
     "data": {
      "text/html": [
       "2100"
      ],
      "text/latex": [
       "2100"
      ],
      "text/markdown": [
       "2100"
      ],
      "text/plain": [
       "[1] 2100"
      ]
     },
     "metadata": {},
     "output_type": "display_data"
    }
   ],
   "source": [
    "employeelist[[1]]$salary"
   ]
  },
  {
   "cell_type": "markdown",
   "metadata": {},
   "source": [
    "Task 3C: Define a list for a new person and insert this new list at the third position of the employeelist"
   ]
  },
  {
   "cell_type": "code",
   "execution_count": 107,
   "metadata": {},
   "outputs": [
    {
     "data": {
      "text/html": [
       "<ol>\n",
       "\t<li><dl>\n",
       "\t<dt>$ID</dt>\n",
       "\t\t<dd>0</dd>\n",
       "\t<dt>$name</dt>\n",
       "\t\t<dd>'Aaron'</dd>\n",
       "\t<dt>$age</dt>\n",
       "\t\t<dd>22</dd>\n",
       "\t<dt>$salary</dt>\n",
       "\t\t<dd>2100</dd>\n",
       "</dl>\n",
       "</li>\n",
       "\t<li><dl>\n",
       "\t<dt>$ID</dt>\n",
       "\t\t<dd>1</dd>\n",
       "\t<dt>$name</dt>\n",
       "\t\t<dd>'Barek'</dd>\n",
       "\t<dt>$age</dt>\n",
       "\t\t<dd>23</dd>\n",
       "\t<dt>$salary</dt>\n",
       "\t\t<dd>2200</dd>\n",
       "</dl>\n",
       "</li>\n",
       "\t<li><dl>\n",
       "\t<dt>$ID</dt>\n",
       "\t\t<dd>4</dd>\n",
       "\t<dt>$name</dt>\n",
       "\t\t<dd>'Enar'</dd>\n",
       "\t<dt>$age</dt>\n",
       "\t\t<dd>26</dd>\n",
       "\t<dt>$salary</dt>\n",
       "\t\t<dd>2500</dd>\n",
       "</dl>\n",
       "</li>\n",
       "\t<li><dl>\n",
       "\t<dt>$ID</dt>\n",
       "\t\t<dd>2</dd>\n",
       "\t<dt>$name</dt>\n",
       "\t\t<dd>'Carmen'</dd>\n",
       "\t<dt>$age</dt>\n",
       "\t\t<dd>24</dd>\n",
       "\t<dt>$salary</dt>\n",
       "\t\t<dd>2300</dd>\n",
       "</dl>\n",
       "</li>\n",
       "\t<li><dl>\n",
       "\t<dt>$ID</dt>\n",
       "\t\t<dd>3</dd>\n",
       "\t<dt>$name</dt>\n",
       "\t\t<dd>'Derek'</dd>\n",
       "\t<dt>$age</dt>\n",
       "\t\t<dd>25</dd>\n",
       "\t<dt>$salary</dt>\n",
       "\t\t<dd>2400</dd>\n",
       "</dl>\n",
       "</li>\n",
       "</ol>\n"
      ],
      "text/latex": [
       "\\begin{enumerate}\n",
       "\\item \\begin{description}\n",
       "\\item[\\$ID] 0\n",
       "\\item[\\$name] 'Aaron'\n",
       "\\item[\\$age] 22\n",
       "\\item[\\$salary] 2100\n",
       "\\end{description}\n",
       "\n",
       "\\item \\begin{description}\n",
       "\\item[\\$ID] 1\n",
       "\\item[\\$name] 'Barek'\n",
       "\\item[\\$age] 23\n",
       "\\item[\\$salary] 2200\n",
       "\\end{description}\n",
       "\n",
       "\\item \\begin{description}\n",
       "\\item[\\$ID] 4\n",
       "\\item[\\$name] 'Enar'\n",
       "\\item[\\$age] 26\n",
       "\\item[\\$salary] 2500\n",
       "\\end{description}\n",
       "\n",
       "\\item \\begin{description}\n",
       "\\item[\\$ID] 2\n",
       "\\item[\\$name] 'Carmen'\n",
       "\\item[\\$age] 24\n",
       "\\item[\\$salary] 2300\n",
       "\\end{description}\n",
       "\n",
       "\\item \\begin{description}\n",
       "\\item[\\$ID] 3\n",
       "\\item[\\$name] 'Derek'\n",
       "\\item[\\$age] 25\n",
       "\\item[\\$salary] 2400\n",
       "\\end{description}\n",
       "\n",
       "\\end{enumerate}\n"
      ],
      "text/markdown": [
       "1. $ID\n",
       ":   0\n",
       "$name\n",
       ":   'Aaron'\n",
       "$age\n",
       ":   22\n",
       "$salary\n",
       ":   2100\n",
       "\n",
       "\n",
       "\n",
       "2. $ID\n",
       ":   1\n",
       "$name\n",
       ":   'Barek'\n",
       "$age\n",
       ":   23\n",
       "$salary\n",
       ":   2200\n",
       "\n",
       "\n",
       "\n",
       "3. $ID\n",
       ":   4\n",
       "$name\n",
       ":   'Enar'\n",
       "$age\n",
       ":   26\n",
       "$salary\n",
       ":   2500\n",
       "\n",
       "\n",
       "\n",
       "4. $ID\n",
       ":   2\n",
       "$name\n",
       ":   'Carmen'\n",
       "$age\n",
       ":   24\n",
       "$salary\n",
       ":   2300\n",
       "\n",
       "\n",
       "\n",
       "5. $ID\n",
       ":   3\n",
       "$name\n",
       ":   'Derek'\n",
       "$age\n",
       ":   25\n",
       "$salary\n",
       ":   2400\n",
       "\n",
       "\n",
       "\n",
       "\n",
       "\n"
      ],
      "text/plain": [
       "[[1]]\n",
       "[[1]]$ID\n",
       "[1] 0\n",
       "\n",
       "[[1]]$name\n",
       "[1] \"Aaron\"\n",
       "\n",
       "[[1]]$age\n",
       "[1] 22\n",
       "\n",
       "[[1]]$salary\n",
       "[1] 2100\n",
       "\n",
       "\n",
       "[[2]]\n",
       "[[2]]$ID\n",
       "[1] 1\n",
       "\n",
       "[[2]]$name\n",
       "[1] \"Barek\"\n",
       "\n",
       "[[2]]$age\n",
       "[1] 23\n",
       "\n",
       "[[2]]$salary\n",
       "[1] 2200\n",
       "\n",
       "\n",
       "[[3]]\n",
       "[[3]]$ID\n",
       "[1] 4\n",
       "\n",
       "[[3]]$name\n",
       "[1] \"Enar\"\n",
       "\n",
       "[[3]]$age\n",
       "[1] 26\n",
       "\n",
       "[[3]]$salary\n",
       "[1] 2500\n",
       "\n",
       "\n",
       "[[4]]\n",
       "[[4]]$ID\n",
       "[1] 2\n",
       "\n",
       "[[4]]$name\n",
       "[1] \"Carmen\"\n",
       "\n",
       "[[4]]$age\n",
       "[1] 24\n",
       "\n",
       "[[4]]$salary\n",
       "[1] 2300\n",
       "\n",
       "\n",
       "[[5]]\n",
       "[[5]]$ID\n",
       "[1] 3\n",
       "\n",
       "[[5]]$name\n",
       "[1] \"Derek\"\n",
       "\n",
       "[[5]]$age\n",
       "[1] 25\n",
       "\n",
       "[[5]]$salary\n",
       "[1] 2400\n",
       "\n"
      ]
     },
     "metadata": {},
     "output_type": "display_data"
    }
   ],
   "source": [
    "person5 <- list(ID=4, name='Enar', age=26, salary=2500)\n",
    "employeelist <- append(employeelist, list(person5), after=2)\n",
    "employeelist\n"
   ]
  },
  {
   "cell_type": "markdown",
   "metadata": {},
   "source": [
    "Task 3D: Remove the list of an arbitrary person from employeelist.\n"
   ]
  },
  {
   "cell_type": "code",
   "execution_count": 108,
   "metadata": {},
   "outputs": [
    {
     "data": {
      "text/html": [
       "<ol>\n",
       "\t<li><dl>\n",
       "\t<dt>$ID</dt>\n",
       "\t\t<dd>0</dd>\n",
       "\t<dt>$name</dt>\n",
       "\t\t<dd>'Aaron'</dd>\n",
       "\t<dt>$age</dt>\n",
       "\t\t<dd>22</dd>\n",
       "\t<dt>$salary</dt>\n",
       "\t\t<dd>2100</dd>\n",
       "</dl>\n",
       "</li>\n",
       "\t<li><dl>\n",
       "\t<dt>$ID</dt>\n",
       "\t\t<dd>1</dd>\n",
       "\t<dt>$name</dt>\n",
       "\t\t<dd>'Barek'</dd>\n",
       "\t<dt>$age</dt>\n",
       "\t\t<dd>23</dd>\n",
       "\t<dt>$salary</dt>\n",
       "\t\t<dd>2200</dd>\n",
       "</dl>\n",
       "</li>\n",
       "\t<li><dl>\n",
       "\t<dt>$ID</dt>\n",
       "\t\t<dd>2</dd>\n",
       "\t<dt>$name</dt>\n",
       "\t\t<dd>'Carmen'</dd>\n",
       "\t<dt>$age</dt>\n",
       "\t\t<dd>24</dd>\n",
       "\t<dt>$salary</dt>\n",
       "\t\t<dd>2300</dd>\n",
       "</dl>\n",
       "</li>\n",
       "\t<li><dl>\n",
       "\t<dt>$ID</dt>\n",
       "\t\t<dd>3</dd>\n",
       "\t<dt>$name</dt>\n",
       "\t\t<dd>'Derek'</dd>\n",
       "\t<dt>$age</dt>\n",
       "\t\t<dd>25</dd>\n",
       "\t<dt>$salary</dt>\n",
       "\t\t<dd>2400</dd>\n",
       "</dl>\n",
       "</li>\n",
       "</ol>\n"
      ],
      "text/latex": [
       "\\begin{enumerate}\n",
       "\\item \\begin{description}\n",
       "\\item[\\$ID] 0\n",
       "\\item[\\$name] 'Aaron'\n",
       "\\item[\\$age] 22\n",
       "\\item[\\$salary] 2100\n",
       "\\end{description}\n",
       "\n",
       "\\item \\begin{description}\n",
       "\\item[\\$ID] 1\n",
       "\\item[\\$name] 'Barek'\n",
       "\\item[\\$age] 23\n",
       "\\item[\\$salary] 2200\n",
       "\\end{description}\n",
       "\n",
       "\\item \\begin{description}\n",
       "\\item[\\$ID] 2\n",
       "\\item[\\$name] 'Carmen'\n",
       "\\item[\\$age] 24\n",
       "\\item[\\$salary] 2300\n",
       "\\end{description}\n",
       "\n",
       "\\item \\begin{description}\n",
       "\\item[\\$ID] 3\n",
       "\\item[\\$name] 'Derek'\n",
       "\\item[\\$age] 25\n",
       "\\item[\\$salary] 2400\n",
       "\\end{description}\n",
       "\n",
       "\\end{enumerate}\n"
      ],
      "text/markdown": [
       "1. $ID\n",
       ":   0\n",
       "$name\n",
       ":   'Aaron'\n",
       "$age\n",
       ":   22\n",
       "$salary\n",
       ":   2100\n",
       "\n",
       "\n",
       "\n",
       "2. $ID\n",
       ":   1\n",
       "$name\n",
       ":   'Barek'\n",
       "$age\n",
       ":   23\n",
       "$salary\n",
       ":   2200\n",
       "\n",
       "\n",
       "\n",
       "3. $ID\n",
       ":   2\n",
       "$name\n",
       ":   'Carmen'\n",
       "$age\n",
       ":   24\n",
       "$salary\n",
       ":   2300\n",
       "\n",
       "\n",
       "\n",
       "4. $ID\n",
       ":   3\n",
       "$name\n",
       ":   'Derek'\n",
       "$age\n",
       ":   25\n",
       "$salary\n",
       ":   2400\n",
       "\n",
       "\n",
       "\n",
       "\n",
       "\n"
      ],
      "text/plain": [
       "[[1]]\n",
       "[[1]]$ID\n",
       "[1] 0\n",
       "\n",
       "[[1]]$name\n",
       "[1] \"Aaron\"\n",
       "\n",
       "[[1]]$age\n",
       "[1] 22\n",
       "\n",
       "[[1]]$salary\n",
       "[1] 2100\n",
       "\n",
       "\n",
       "[[2]]\n",
       "[[2]]$ID\n",
       "[1] 1\n",
       "\n",
       "[[2]]$name\n",
       "[1] \"Barek\"\n",
       "\n",
       "[[2]]$age\n",
       "[1] 23\n",
       "\n",
       "[[2]]$salary\n",
       "[1] 2200\n",
       "\n",
       "\n",
       "[[3]]\n",
       "[[3]]$ID\n",
       "[1] 2\n",
       "\n",
       "[[3]]$name\n",
       "[1] \"Carmen\"\n",
       "\n",
       "[[3]]$age\n",
       "[1] 24\n",
       "\n",
       "[[3]]$salary\n",
       "[1] 2300\n",
       "\n",
       "\n",
       "[[4]]\n",
       "[[4]]$ID\n",
       "[1] 3\n",
       "\n",
       "[[4]]$name\n",
       "[1] \"Derek\"\n",
       "\n",
       "[[4]]$age\n",
       "[1] 25\n",
       "\n",
       "[[4]]$salary\n",
       "[1] 2400\n",
       "\n"
      ]
     },
     "metadata": {},
     "output_type": "display_data"
    }
   ],
   "source": [
    "employeelist[3] <- NULL\n",
    "employeelist"
   ]
  },
  {
   "cell_type": "markdown",
   "metadata": {},
   "source": [
    "Task4: Read the energy data file into a dataframe energyData like in the lecture notebook."
   ]
  },
  {
   "cell_type": "code",
   "execution_count": 135,
   "metadata": {},
   "outputs": [
    {
     "name": "stdout",
     "output_type": "stream",
     "text": [
      "Observations: 65\n",
      "Variables: 11\n",
      "$ Country   <fct> US, Canada, Mexico, Argentina, Brazil, Chile, Colombia, E...\n",
      "$ Oil       <dbl> 842.9, 97.0, 85.6, 22.3, 104.3, 15.4, 8.8, 9.9, 8.5, 27.4...\n",
      "$ Gas       <dbl> 588.7, 85.2, 62.7, 38.8, 18.3, 3.0, 7.8, 0.4, 3.1, 26.8, ...\n",
      "$ Coal      <dbl> 498.0, 26.5, 6.8, 1.1, 11.7, 4.1, 3.1, 0.0, 0.5, 0.0, 2.3...\n",
      "$ Nuclear   <dbl> 190.2, 20.3, 2.2, 1.8, 2.9, 0.0, 0.0, 0.0, 0.0, 0.0, 0.0,...\n",
      "$ Hydro     <dbl> 62.2, 90.2, 6.0, 9.2, 88.5, 5.6, 9.3, 2.1, 4.5, 19.5, 8.3...\n",
      "$ Total2009 <dbl> 2182.0, 319.2, 163.2, 73.3, 225.7, 28.1, 29.0, 12.4, 16.6...\n",
      "$ CO2Emm    <dbl> 5941.9, 602.7, 436.8, 164.2, 409.4, 70.3, 57.9, 31.3, 35....\n",
      "$ Lat       <dbl> 37.090240, 56.130366, 23.634501, -38.416097, -14.235004, ...\n",
      "$ Long      <dbl> -95.712891, -106.346771, -102.552784, -63.616672, -51.925...\n",
      "$ Cluster   <int> 6, 5, 6, 4, 5, 5, 5, 5, 5, 5, 5, 4, 4, 6, 2, 2, 6, 6, 3, ...\n"
     ]
    }
   ],
   "source": [
    "energyData <- read.csv(file=\"../data/EnergyMixGeoClust.csv\", header=TRUE, \n",
    "                       sep=\",\",row.names=1)\n",
    "glimpse(energyData)"
   ]
  },
  {
   "cell_type": "markdown",
   "metadata": {},
   "source": [
    "Task 4A: Determine the number of observations (rows) and features (columns) of this dataframe."
   ]
  },
  {
   "cell_type": "code",
   "execution_count": 136,
   "metadata": {},
   "outputs": [
    {
     "name": "stdout",
     "output_type": "stream",
     "text": [
      "[1] \"number of observations (rows) : 65\"\n",
      "[1] \"number of features (columns) : 11\"\n"
     ]
    }
   ],
   "source": [
    "print(paste0(\"number of observations (rows) : \", nrow(energyData)))\n",
    "print(paste0(\"number of features (columns) : \", ncol(energyData)))"
   ]
  },
  {
   "cell_type": "markdown",
   "metadata": {},
   "source": [
    "Task 4B: Create a dataframe energyDataRed, which contains all data of energyData, except the 4 countries with the highest coal-consumption.\n"
   ]
  },
  {
   "cell_type": "code",
   "execution_count": 137,
   "metadata": {},
   "outputs": [
    {
     "name": "stdout",
     "output_type": "stream",
     "text": [
      "[1] \"number of observations energyDataRed(rows) : 61\"\n",
      "[1] \"number of features energyDataRed(columns) : 11\"\n",
      "Observations: 61\n",
      "Variables: 11\n",
      "$ Country   <fct> South_Africa, Russian_Federation, Germany, South_Korea, P...\n",
      "$ Oil       <dbl> 24.3, 124.9, 113.9, 104.3, 25.5, 42.7, 46.6, 14.1, 12.0, ...\n",
      "$ Gas       <dbl> 0.0, 350.7, 70.2, 30.4, 12.3, 23.1, 10.2, 42.3, 17.7, 33....\n",
      "$ Coal      <dbl> 99.4, 82.9, 71.0, 68.6, 53.9, 50.8, 38.7, 35.0, 33.0, 30....\n",
      "$ Nuclear   <dbl> 2.7, 37.0, 30.5, 33.4, 0.0, 0.0, 9.4, 18.6, 0.0, 0.0, 15....\n",
      "$ Hydro     <dbl> 0.2, 39.8, 4.2, 0.7, 0.7, 2.6, 0.8, 2.7, 1.7, 2.7, 1.2, 8...\n",
      "$ Total2009 <dbl> 126.8, 635.3, 289.8, 237.5, 92.3, 119.2, 105.7, 112.5, 64...\n",
      "$ CO2Emm    <dbl> 468.6, 1535.3, 795.6, 663.3, 320.4, 386.6, 320.3, 280.8, ...\n",
      "$ Lat       <dbl> -30.559482, 61.524010, 51.165691, 35.907757, 51.919438, -...\n",
      "$ Long      <dbl> 22.937506, 105.318756, 10.451526, 127.766922, 19.145136, ...\n",
      "$ Cluster   <int> 2, 4, 6, 6, 2, 2, 6, 4, 2, 6, 4, 2, 5, 2, 6, 6, 5, 6, 3, ...\n"
     ]
    }
   ],
   "source": [
    "#sort by Coal\n",
    "energyDataRed <- energyData[order(energyData$Coal),]\n",
    "#reverse Order\n",
    "energyDataRed <-energyDataRed %>% map_df(rev)\n",
    "#drop first 4 elements\n",
    "energyDataRed <- energyDataRed[-c(1, 2, 3, 4), ] \n",
    "print(paste0(\"number of observations energyDataRed(rows) : \", nrow(energyDataRed)))\n",
    "print(paste0(\"number of features energyDataRed(columns) : \", ncol(energyDataRed)))\n",
    "glimpse(energyDataRed)"
   ]
  },
  {
   "cell_type": "markdown",
   "metadata": {},
   "source": [
    "Task 4C: Calculate the mean and the median of the coal-consumption for both dataframes energyData and energyDataRed."
   ]
  },
  {
   "cell_type": "code",
   "execution_count": 138,
   "metadata": {},
   "outputs": [
    {
     "name": "stdout",
     "output_type": "stream",
     "text": [
      "[1] \"Median of energyDataRed : 4\"\n",
      "[1] \"Median of energyData : 4.1\"\n",
      "[1] \"Mean of energyDataRed : 13.5098360655738\"\n",
      "[1] \"Mean of energyData : 49.4476923076923\"\n"
     ]
    }
   ],
   "source": [
    "# Get Median of the column by column name\n",
    "print(paste0(\"Median of energyDataRed : \", median(energyDataRed$Coal)))\n",
    "print(paste0(\"Median of energyData : \", median(energyData$Coal)))\n",
    "\n",
    "# Get Mean of the column by column name\n",
    "print(paste0(\"Mean of energyDataRed : \", mean(energyDataRed$Coal)))\n",
    "print(paste0(\"Mean of energyData : \", mean(energyData$Coal)))"
   ]
  },
  {
   "cell_type": "markdown",
   "metadata": {},
   "source": [
    "Task 4D: What do you conclude from this experiment regarding the quality of the statistics mean and median?\n",
    "To order rows you can use the function arrange() - see arrange() and examples from tidyverse (more exactly from the dplyr package)"
   ]
  },
  {
   "cell_type": "code",
   "execution_count": 140,
   "metadata": {},
   "outputs": [
    {
     "data": {
      "text/html": [
       "<table>\n",
       "<thead><tr><th scope=col>Country</th><th scope=col>Oil</th><th scope=col>Gas</th><th scope=col>Coal</th><th scope=col>Nuclear</th><th scope=col>Hydro</th><th scope=col>Total2009</th><th scope=col>CO2Emm</th><th scope=col>Lat</th><th scope=col>Long</th><th scope=col>Cluster</th></tr></thead>\n",
       "<tbody>\n",
       "\t<tr><td>China              </td><td>404.6              </td><td> 79.8              </td><td>1537.4             </td><td> 15.9              </td><td>139.3              </td><td>2177.0             </td><td>7518.5             </td><td> 35.861660         </td><td> 104.195397        </td><td>2                  </td></tr>\n",
       "\t<tr><td>US                 </td><td>842.9              </td><td>588.7              </td><td> 498.0             </td><td>190.2              </td><td> 62.2              </td><td>2182.0             </td><td>5941.9             </td><td> 37.090240         </td><td> -95.712891        </td><td>6                  </td></tr>\n",
       "\t<tr><td>India              </td><td>148.5              </td><td> 46.7              </td><td> 245.8             </td><td>  3.8              </td><td> 24.0              </td><td> 468.9             </td><td>1539.1             </td><td> 20.593684         </td><td>  78.962880        </td><td>2                  </td></tr>\n",
       "\t<tr><td>Japan              </td><td>197.6              </td><td> 78.7              </td><td> 108.8             </td><td> 62.1              </td><td> 16.7              </td><td> 463.9             </td><td>1222.1             </td><td> 36.204824         </td><td> 138.252924        </td><td>6                  </td></tr>\n",
       "\t<tr><td>South_Africa       </td><td> 24.3              </td><td>  0.0              </td><td>  99.4             </td><td>  2.7              </td><td>  0.2              </td><td> 126.8             </td><td> 468.6             </td><td>-30.559482         </td><td>  22.937506        </td><td>2                  </td></tr>\n",
       "\t<tr><td>Russian_Federation </td><td>124.9              </td><td>350.7              </td><td>  82.9             </td><td> 37.0              </td><td> 39.8              </td><td> 635.3             </td><td>1535.3             </td><td> 61.524010         </td><td> 105.318756        </td><td>4                  </td></tr>\n",
       "\t<tr><td>Germany            </td><td>113.9              </td><td> 70.2              </td><td>  71.0             </td><td> 30.5              </td><td>  4.2              </td><td> 289.8             </td><td> 795.6             </td><td> 51.165691         </td><td>  10.451526        </td><td>6                  </td></tr>\n",
       "\t<tr><td>South_Korea        </td><td>104.3              </td><td> 30.4              </td><td>  68.6             </td><td> 33.4              </td><td>  0.7              </td><td> 237.5             </td><td> 663.3             </td><td> 35.907757         </td><td> 127.766922        </td><td>6                  </td></tr>\n",
       "\t<tr><td>Poland             </td><td> 25.5              </td><td> 12.3              </td><td>  53.9             </td><td>  0.0              </td><td>  0.7              </td><td>  92.3             </td><td> 320.4             </td><td> 51.919438         </td><td>  19.145136        </td><td>2                  </td></tr>\n",
       "\t<tr><td>Australia          </td><td> 42.7              </td><td> 23.1              </td><td>  50.8             </td><td>  0.0              </td><td>  2.6              </td><td> 119.2             </td><td> 386.6             </td><td>-25.274398         </td><td> 133.775136        </td><td>2                  </td></tr>\n",
       "\t<tr><td>Taiwan             </td><td> 46.6              </td><td> 10.2              </td><td>  38.7             </td><td>  9.4              </td><td>  0.8              </td><td> 105.7             </td><td> 320.3             </td><td> 23.697810         </td><td> 120.960515        </td><td>6                  </td></tr>\n",
       "\t<tr><td>Ukraine            </td><td> 14.1              </td><td> 42.3              </td><td>  35.0             </td><td> 18.6              </td><td>  2.7              </td><td> 112.5             </td><td> 280.8             </td><td> 48.379433         </td><td>  31.165580        </td><td>4                  </td></tr>\n",
       "\t<tr><td>Kazakhstan         </td><td> 12.0              </td><td> 17.7              </td><td>  33.0             </td><td>  0.0              </td><td>  1.7              </td><td>  64.4             </td><td> 209.2             </td><td> 48.019573         </td><td>  66.923684        </td><td>2                  </td></tr>\n",
       "\t<tr><td>Indonesia          </td><td> 62.0              </td><td> 33.0              </td><td>  30.5             </td><td>  0.0              </td><td>  2.7              </td><td> 128.2             </td><td> 388.5             </td><td> -0.789275         </td><td> 113.921327        </td><td>6                  </td></tr>\n",
       "\t<tr><td>United_Kingdom     </td><td> 74.4              </td><td> 77.9              </td><td>  29.7             </td><td> 15.7              </td><td>  1.2              </td><td> 198.9             </td><td> 529.1             </td><td> 55.378051         </td><td>  -3.435973        </td><td>4                  </td></tr>\n",
       "\t<tr><td>Turkey             </td><td> 28.8              </td><td> 28.9              </td><td>  27.2             </td><td>  0.0              </td><td>  8.1              </td><td>  93.0             </td><td> 264.1             </td><td> 38.963745         </td><td>  35.243322        </td><td>2                  </td></tr>\n",
       "\t<tr><td>Canada             </td><td> 97.0              </td><td> 85.2              </td><td>  26.5             </td><td> 20.3              </td><td> 90.2              </td><td> 319.2             </td><td> 602.7             </td><td> 56.130366         </td><td>-106.346771        </td><td>5                  </td></tr>\n",
       "\t<tr><td>Czech_Republic     </td><td>  9.7              </td><td>  7.4              </td><td>  15.8             </td><td>  6.1              </td><td>  0.7              </td><td>  39.6             </td><td> 109.5             </td><td> 49.817492         </td><td>  15.472962        </td><td>2                  </td></tr>\n",
       "\t<tr><td>Thailand           </td><td> 44.2              </td><td> 35.3              </td><td>  14.1             </td><td>  0.0              </td><td>  1.5              </td><td>  95.1             </td><td> 274.4             </td><td> 15.870032         </td><td> 100.992541        </td><td>6                  </td></tr>\n",
       "\t<tr><td>Italy              </td><td> 75.1              </td><td> 64.5              </td><td>  13.4             </td><td>  0.0              </td><td> 10.5              </td><td> 163.4             </td><td> 434.8             </td><td> 41.871940         </td><td>  12.567380        </td><td>6                  </td></tr>\n",
       "\t<tr><td>Brazil             </td><td>104.3              </td><td> 18.3              </td><td>  11.7             </td><td>  2.9              </td><td> 88.5              </td><td> 225.7             </td><td> 409.4             </td><td>-14.235004         </td><td> -51.925280        </td><td>5                  </td></tr>\n",
       "\t<tr><td>Spain              </td><td> 72.9              </td><td> 31.1              </td><td>  10.6             </td><td> 12.0              </td><td>  6.1              </td><td> 132.6             </td><td> 338.7             </td><td> 40.463667         </td><td>  -3.749220        </td><td>6                  </td></tr>\n",
       "\t<tr><td>France             </td><td> 87.5              </td><td> 38.4              </td><td>  10.1             </td><td> 92.9              </td><td> 13.1              </td><td> 241.9             </td><td> 398.7             </td><td> 46.227638         </td><td>   2.213749        </td><td>3                  </td></tr>\n",
       "\t<tr><td>Greece             </td><td> 20.2              </td><td>  3.0              </td><td>   7.9             </td><td>  0.0              </td><td>  1.6              </td><td>  32.7             </td><td> 100.4             </td><td> 39.074208         </td><td>  21.824312        </td><td>6                  </td></tr>\n",
       "\t<tr><td>Netherlands        </td><td> 49.4              </td><td> 35.0              </td><td>   7.9             </td><td>  1.0              </td><td>  0.0              </td><td>  93.3             </td><td> 265.1             </td><td> 52.132633         </td><td>   5.291266        </td><td>6                  </td></tr>\n",
       "\t<tr><td>China_Hong_Kong_SAR</td><td> 14.0              </td><td>  2.3              </td><td>   7.6             </td><td>  0.0              </td><td>  0.0              </td><td>  23.9             </td><td>  78.5             </td><td> 22.287170         </td><td> 114.150969        </td><td>6                  </td></tr>\n",
       "\t<tr><td>Mexico             </td><td> 85.6              </td><td> 62.7              </td><td>   6.8             </td><td>  2.2              </td><td>  6.0              </td><td> 163.2             </td><td> 436.8             </td><td> 23.634501         </td><td>-102.552784        </td><td>6                  </td></tr>\n",
       "\t<tr><td>Philippines        </td><td> 12.1              </td><td>  3.0              </td><td>   6.8             </td><td>  0.0              </td><td>  2.2              </td><td>  24.2             </td><td>  71.3             </td><td> 12.879721         </td><td> 121.774017        </td><td>6                  </td></tr>\n",
       "\t<tr><td>Bulgaria           </td><td>  4.4              </td><td>  2.2              </td><td>   6.3             </td><td>  3.5              </td><td>  0.9              </td><td>  17.4             </td><td>  43.7             </td><td> 42.733883         </td><td>  25.485830        </td><td>2                  </td></tr>\n",
       "\t<tr><td>Romania            </td><td>  9.9              </td><td> 12.2              </td><td>   6.2             </td><td>  2.7              </td><td>  3.6              </td><td>  34.6             </td><td>  83.7             </td><td> 45.943161         </td><td>  24.966760        </td><td>4                  </td></tr>\n",
       "\t<tr><td>...</td><td>...</td><td>...</td><td>...</td><td>...</td><td>...</td><td>...</td><td>...</td><td>...</td><td>...</td><td>...</td></tr>\n",
       "\t<tr><td>Finland             </td><td>  9.9               </td><td>  3.2               </td><td>3.7                 </td><td> 5.4                </td><td> 2.9                </td><td> 25.0               </td><td> 52.5               </td><td> 61.924110          </td><td> 25.748151          </td><td>6                   </td></tr>\n",
       "\t<tr><td>Portugal            </td><td> 12.9               </td><td>  3.9               </td><td>3.6                 </td><td> 0.0                </td><td> 2.0                </td><td> 22.3               </td><td> 62.7               </td><td> 39.399872          </td><td> -8.224454          </td><td>6                   </td></tr>\n",
       "\t<tr><td>Slovakia            </td><td>  3.9               </td><td>  5.1               </td><td>3.6                 </td><td> 3.2                </td><td> 1.1                </td><td> 16.8               </td><td> 38.1               </td><td> 48.669026          </td><td> 19.699024          </td><td>4                   </td></tr>\n",
       "\t<tr><td>Colombia            </td><td>  8.8               </td><td>  7.8               </td><td>3.1                 </td><td> 0.0                </td><td> 9.3                </td><td> 29.0               </td><td> 57.9               </td><td>  4.570868          </td><td>-74.297333          </td><td>5                   </td></tr>\n",
       "\t<tr><td>Hungary             </td><td>  7.3               </td><td>  9.1               </td><td>2.5                 </td><td> 3.5                </td><td> 0.1                </td><td> 22.4               </td><td> 53.6               </td><td> 47.162494          </td><td> 19.503304          </td><td>4                   </td></tr>\n",
       "\t<tr><td>Austria             </td><td> 13.0               </td><td>  8.4               </td><td>2.3                 </td><td> 0.0                </td><td> 8.3                </td><td> 32.0               </td><td> 68.8               </td><td> 47.516231          </td><td> 14.550072          </td><td>5                   </td></tr>\n",
       "\t<tr><td>New_Zealand         </td><td>  6.8               </td><td>  3.6               </td><td>1.7                 </td><td> 0.0                </td><td> 5.5                </td><td> 17.6               </td><td> 36.2               </td><td>-40.900557          </td><td>174.885971          </td><td>5                   </td></tr>\n",
       "\t<tr><td>Sweden              </td><td> 13.7               </td><td>  1.0               </td><td>1.6                 </td><td>11.9                </td><td>14.9                </td><td> 43.2               </td><td> 50.9               </td><td> 60.128161          </td><td> 18.643501          </td><td>1                   </td></tr>\n",
       "\t<tr><td>Uzbekistan          </td><td>  4.9               </td><td> 43.9               </td><td>1.4                 </td><td> 0.0                </td><td> 1.4                </td><td> 51.5               </td><td>123.5               </td><td> 41.377491          </td><td> 64.585262          </td><td>4                   </td></tr>\n",
       "\t<tr><td>Iran                </td><td> 83.6               </td><td>118.5               </td><td>1.4                 </td><td> 0.0                </td><td> 1.3                </td><td>204.8               </td><td>540.3               </td><td> 32.427908          </td><td> 53.688046          </td><td>4                   </td></tr>\n",
       "\t<tr><td>Republic_of_Ireland </td><td>  8.0               </td><td>  4.3               </td><td>1.3                 </td><td> 0.0                </td><td> 0.2                </td><td> 13.9               </td><td> 40.1               </td><td> 53.412910          </td><td> -8.243890          </td><td>6                   </td></tr>\n",
       "\t<tr><td>Argentina           </td><td> 22.3               </td><td> 38.8               </td><td>1.1                 </td><td> 1.8                </td><td> 9.2                </td><td> 73.3               </td><td>164.2               </td><td>-38.416097          </td><td>-63.616672          </td><td>4                   </td></tr>\n",
       "\t<tr><td>Egypt               </td><td> 33.7               </td><td> 38.3               </td><td>1.1                 </td><td> 0.0                </td><td> 3.1                </td><td> 76.3               </td><td>197.8               </td><td> 26.820553          </td><td> 30.802498          </td><td>4                   </td></tr>\n",
       "\t<tr><td>Algeria             </td><td> 14.9               </td><td> 24.0               </td><td>0.7                 </td><td> 0.0                </td><td> 0.1                </td><td> 39.7               </td><td>104.8               </td><td> 28.033886          </td><td>  1.659626          </td><td>4                   </td></tr>\n",
       "\t<tr><td>Peru                </td><td>  8.5               </td><td>  3.1               </td><td>0.5                 </td><td> 0.0                </td><td> 4.5                </td><td> 16.6               </td><td> 35.5               </td><td> -9.189967          </td><td>-75.015152          </td><td>5                   </td></tr>\n",
       "\t<tr><td>Bangladesh          </td><td>  4.5               </td><td> 17.8               </td><td>0.4                 </td><td> 0.0                </td><td> 0.3                </td><td> 22.9               </td><td> 57.0               </td><td> 23.684994          </td><td> 90.356331          </td><td>4                   </td></tr>\n",
       "\t<tr><td>Norway              </td><td>  9.7               </td><td>  3.7               </td><td>0.3                 </td><td> 0.0                </td><td>28.8                </td><td> 42.5               </td><td> 39.9               </td><td> 60.472024          </td><td>  8.468946          </td><td>1                   </td></tr>\n",
       "\t<tr><td>Lithuania           </td><td>  2.9               </td><td>  2.5               </td><td>0.2                 </td><td> 2.5                </td><td> 0.3                </td><td>  8.2               </td><td> 15.3               </td><td> 55.169438          </td><td> 23.881275          </td><td>3                   </td></tr>\n",
       "\t<tr><td>Iceland             </td><td>  1.0               </td><td>  0.0               </td><td>0.1                 </td><td> 0.0                </td><td> 2.8                </td><td>  3.9               </td><td>  3.5               </td><td> 64.963051          </td><td>-19.020835          </td><td>1                   </td></tr>\n",
       "\t<tr><td>Switzerland         </td><td> 12.3               </td><td>  2.7               </td><td>0.1                 </td><td> 6.2                </td><td> 8.1                </td><td> 29.4               </td><td> 44.5               </td><td> 46.818188          </td><td>  8.227512          </td><td>1                   </td></tr>\n",
       "\t<tr><td>Ecuador             </td><td>  9.9               </td><td>  0.4               </td><td>0.0                 </td><td> 0.0                </td><td> 2.1                </td><td> 12.4               </td><td> 31.3               </td><td> -1.831239          </td><td>-78.183406          </td><td>5                   </td></tr>\n",
       "\t<tr><td>Venezuela           </td><td> 27.4               </td><td> 26.8               </td><td>0.0                 </td><td> 0.0                </td><td>19.5                </td><td> 73.6               </td><td>147.0               </td><td>  6.423750          </td><td>-66.589730          </td><td>5                   </td></tr>\n",
       "\t<tr><td>Azerbaijan          </td><td>  2.8               </td><td>  6.9               </td><td>0.0                 </td><td> 0.0                </td><td> 0.5                </td><td> 10.2               </td><td> 24.8               </td><td> 40.143105          </td><td> 47.576927          </td><td>4                   </td></tr>\n",
       "\t<tr><td>Belarus             </td><td>  9.3               </td><td> 14.5               </td><td>0.0                 </td><td> 0.0                </td><td> 0.0                </td><td> 23.9               </td><td> 62.9               </td><td> 53.709807          </td><td> 27.953389          </td><td>4                   </td></tr>\n",
       "\t<tr><td>Turkmenistan        </td><td>  5.2               </td><td> 17.8               </td><td>0.0                 </td><td> 0.0                </td><td> 0.0                </td><td> 23.0               </td><td> 57.9               </td><td> 38.969719          </td><td> 59.556278          </td><td>4                   </td></tr>\n",
       "\t<tr><td>Kuwait              </td><td> 19.2               </td><td> 12.1               </td><td>0.0                 </td><td> 0.0                </td><td> 0.0                </td><td> 31.3               </td><td> 87.2               </td><td> 29.311660          </td><td> 47.481766          </td><td>6                   </td></tr>\n",
       "\t<tr><td>Qatar               </td><td>  8.2               </td><td> 19.0               </td><td>0.0                 </td><td> 0.0                </td><td> 0.0                </td><td> 27.2               </td><td> 69.8               </td><td> 25.354826          </td><td> 51.183884          </td><td>4                   </td></tr>\n",
       "\t<tr><td>Saudi_Arabia        </td><td>121.8               </td><td> 69.7               </td><td>0.0                 </td><td> 0.0                </td><td> 0.0                </td><td>191.5               </td><td>537.6               </td><td> 23.885942          </td><td> 45.079162          </td><td>6                   </td></tr>\n",
       "\t<tr><td>United_Arab_Emirates</td><td> 21.8               </td><td> 53.2               </td><td>0.0                 </td><td> 0.0                </td><td> 0.0                </td><td> 75.0               </td><td>191.9               </td><td> 23.424076          </td><td> 53.847818          </td><td>4                   </td></tr>\n",
       "\t<tr><td>Singapore           </td><td> 52.1               </td><td>  8.7               </td><td>0.0                 </td><td> 0.0                </td><td> 0.0                </td><td> 60.8               </td><td>180.2               </td><td>  1.352083          </td><td>103.819836          </td><td>6                   </td></tr>\n",
       "</tbody>\n",
       "</table>\n"
      ],
      "text/latex": [
       "\\begin{tabular}{r|lllllllllll}\n",
       " Country & Oil & Gas & Coal & Nuclear & Hydro & Total2009 & CO2Emm & Lat & Long & Cluster\\\\\n",
       "\\hline\n",
       "\t China               & 404.6               &  79.8               & 1537.4              &  15.9               & 139.3               & 2177.0              & 7518.5              &  35.861660          &  104.195397         & 2                  \\\\\n",
       "\t US                  & 842.9               & 588.7               &  498.0              & 190.2               &  62.2               & 2182.0              & 5941.9              &  37.090240          &  -95.712891         & 6                  \\\\\n",
       "\t India               & 148.5               &  46.7               &  245.8              &   3.8               &  24.0               &  468.9              & 1539.1              &  20.593684          &   78.962880         & 2                  \\\\\n",
       "\t Japan               & 197.6               &  78.7               &  108.8              &  62.1               &  16.7               &  463.9              & 1222.1              &  36.204824          &  138.252924         & 6                  \\\\\n",
       "\t South\\_Africa        &  24.3                 &   0.0                 &   99.4                &   2.7                 &   0.2                 &  126.8                &  468.6                & -30.559482            &   22.937506           & 2                    \\\\\n",
       "\t Russian\\_Federation  & 124.9                 & 350.7                 &   82.9                &  37.0                 &  39.8                 &  635.3                & 1535.3                &  61.524010            &  105.318756           & 4                    \\\\\n",
       "\t Germany             & 113.9               &  70.2               &   71.0              &  30.5               &   4.2               &  289.8              &  795.6              &  51.165691          &   10.451526         & 6                  \\\\\n",
       "\t South\\_Korea         & 104.3                 &  30.4                 &   68.6                &  33.4                 &   0.7                 &  237.5                &  663.3                &  35.907757            &  127.766922           & 6                    \\\\\n",
       "\t Poland              &  25.5               &  12.3               &   53.9              &   0.0               &   0.7               &   92.3              &  320.4              &  51.919438          &   19.145136         & 2                  \\\\\n",
       "\t Australia           &  42.7               &  23.1               &   50.8              &   0.0               &   2.6               &  119.2              &  386.6              & -25.274398          &  133.775136         & 2                  \\\\\n",
       "\t Taiwan              &  46.6               &  10.2               &   38.7              &   9.4               &   0.8               &  105.7              &  320.3              &  23.697810          &  120.960515         & 6                  \\\\\n",
       "\t Ukraine             &  14.1               &  42.3               &   35.0              &  18.6               &   2.7               &  112.5              &  280.8              &  48.379433          &   31.165580         & 4                  \\\\\n",
       "\t Kazakhstan          &  12.0               &  17.7               &   33.0              &   0.0               &   1.7               &   64.4              &  209.2              &  48.019573          &   66.923684         & 2                  \\\\\n",
       "\t Indonesia           &  62.0               &  33.0               &   30.5              &   0.0               &   2.7               &  128.2              &  388.5              &  -0.789275          &  113.921327         & 6                  \\\\\n",
       "\t United\\_Kingdom      &  74.4                 &  77.9                 &   29.7                &  15.7                 &   1.2                 &  198.9                &  529.1                &  55.378051            &   -3.435973           & 4                    \\\\\n",
       "\t Turkey              &  28.8               &  28.9               &   27.2              &   0.0               &   8.1               &   93.0              &  264.1              &  38.963745          &   35.243322         & 2                  \\\\\n",
       "\t Canada              &  97.0               &  85.2               &   26.5              &  20.3               &  90.2               &  319.2              &  602.7              &  56.130366          & -106.346771         & 5                  \\\\\n",
       "\t Czech\\_Republic      &   9.7                 &   7.4                 &   15.8                &   6.1                 &   0.7                 &   39.6                &  109.5                &  49.817492            &   15.472962           & 2                    \\\\\n",
       "\t Thailand            &  44.2               &  35.3               &   14.1              &   0.0               &   1.5               &   95.1              &  274.4              &  15.870032          &  100.992541         & 6                  \\\\\n",
       "\t Italy               &  75.1               &  64.5               &   13.4              &   0.0               &  10.5               &  163.4              &  434.8              &  41.871940          &   12.567380         & 6                  \\\\\n",
       "\t Brazil              & 104.3               &  18.3               &   11.7              &   2.9               &  88.5               &  225.7              &  409.4              & -14.235004          &  -51.925280         & 5                  \\\\\n",
       "\t Spain               &  72.9               &  31.1               &   10.6              &  12.0               &   6.1               &  132.6              &  338.7              &  40.463667          &   -3.749220         & 6                  \\\\\n",
       "\t France              &  87.5               &  38.4               &   10.1              &  92.9               &  13.1               &  241.9              &  398.7              &  46.227638          &    2.213749         & 3                  \\\\\n",
       "\t Greece              &  20.2               &   3.0               &    7.9              &   0.0               &   1.6               &   32.7              &  100.4              &  39.074208          &   21.824312         & 6                  \\\\\n",
       "\t Netherlands         &  49.4               &  35.0               &    7.9              &   1.0               &   0.0               &   93.3              &  265.1              &  52.132633          &    5.291266         & 6                  \\\\\n",
       "\t China\\_Hong\\_Kong\\_SAR &  14.0                     &   2.3                     &    7.6                    &   0.0                     &   0.0                     &   23.9                    &   78.5                    &  22.287170                &  114.150969               & 6                        \\\\\n",
       "\t Mexico              &  85.6               &  62.7               &    6.8              &   2.2               &   6.0               &  163.2              &  436.8              &  23.634501          & -102.552784         & 6                  \\\\\n",
       "\t Philippines         &  12.1               &   3.0               &    6.8              &   0.0               &   2.2               &   24.2              &   71.3              &  12.879721          &  121.774017         & 6                  \\\\\n",
       "\t Bulgaria            &   4.4               &   2.2               &    6.3              &   3.5               &   0.9               &   17.4              &   43.7              &  42.733883          &   25.485830         & 2                  \\\\\n",
       "\t Romania             &   9.9               &  12.2               &    6.2              &   2.7               &   3.6               &   34.6              &   83.7              &  45.943161          &   24.966760         & 4                  \\\\\n",
       "\t ... & ... & ... & ... & ... & ... & ... & ... & ... & ... & ...\\\\\n",
       "\t Finland              &   9.9                &   3.2                & 3.7                  &  5.4                 &  2.9                 &  25.0                &  52.5                &  61.924110           &  25.748151           & 6                   \\\\\n",
       "\t Portugal             &  12.9                &   3.9                & 3.6                  &  0.0                 &  2.0                 &  22.3                &  62.7                &  39.399872           &  -8.224454           & 6                   \\\\\n",
       "\t Slovakia             &   3.9                &   5.1                & 3.6                  &  3.2                 &  1.1                 &  16.8                &  38.1                &  48.669026           &  19.699024           & 4                   \\\\\n",
       "\t Colombia             &   8.8                &   7.8                & 3.1                  &  0.0                 &  9.3                 &  29.0                &  57.9                &   4.570868           & -74.297333           & 5                   \\\\\n",
       "\t Hungary              &   7.3                &   9.1                & 2.5                  &  3.5                 &  0.1                 &  22.4                &  53.6                &  47.162494           &  19.503304           & 4                   \\\\\n",
       "\t Austria              &  13.0                &   8.4                & 2.3                  &  0.0                 &  8.3                 &  32.0                &  68.8                &  47.516231           &  14.550072           & 5                   \\\\\n",
       "\t New\\_Zealand          &   6.8                  &   3.6                  & 1.7                    &  0.0                   &  5.5                   &  17.6                  &  36.2                  & -40.900557             & 174.885971             & 5                     \\\\\n",
       "\t Sweden               &  13.7                &   1.0                & 1.6                  & 11.9                 & 14.9                 &  43.2                &  50.9                &  60.128161           &  18.643501           & 1                   \\\\\n",
       "\t Uzbekistan           &   4.9                &  43.9                & 1.4                  &  0.0                 &  1.4                 &  51.5                & 123.5                &  41.377491           &  64.585262           & 4                   \\\\\n",
       "\t Iran                 &  83.6                & 118.5                & 1.4                  &  0.0                 &  1.3                 & 204.8                & 540.3                &  32.427908           &  53.688046           & 4                   \\\\\n",
       "\t Republic\\_of\\_Ireland  &   8.0                    &   4.3                    & 1.3                      &  0.0                     &  0.2                     &  13.9                    &  40.1                    &  53.412910               &  -8.243890               & 6                       \\\\\n",
       "\t Argentina            &  22.3                &  38.8                & 1.1                  &  1.8                 &  9.2                 &  73.3                & 164.2                & -38.416097           & -63.616672           & 4                   \\\\\n",
       "\t Egypt                &  33.7                &  38.3                & 1.1                  &  0.0                 &  3.1                 &  76.3                & 197.8                &  26.820553           &  30.802498           & 4                   \\\\\n",
       "\t Algeria              &  14.9                &  24.0                & 0.7                  &  0.0                 &  0.1                 &  39.7                & 104.8                &  28.033886           &   1.659626           & 4                   \\\\\n",
       "\t Peru                 &   8.5                &   3.1                & 0.5                  &  0.0                 &  4.5                 &  16.6                &  35.5                &  -9.189967           & -75.015152           & 5                   \\\\\n",
       "\t Bangladesh           &   4.5                &  17.8                & 0.4                  &  0.0                 &  0.3                 &  22.9                &  57.0                &  23.684994           &  90.356331           & 4                   \\\\\n",
       "\t Norway               &   9.7                &   3.7                & 0.3                  &  0.0                 & 28.8                 &  42.5                &  39.9                &  60.472024           &   8.468946           & 1                   \\\\\n",
       "\t Lithuania            &   2.9                &   2.5                & 0.2                  &  2.5                 &  0.3                 &   8.2                &  15.3                &  55.169438           &  23.881275           & 3                   \\\\\n",
       "\t Iceland              &   1.0                &   0.0                & 0.1                  &  0.0                 &  2.8                 &   3.9                &   3.5                &  64.963051           & -19.020835           & 1                   \\\\\n",
       "\t Switzerland          &  12.3                &   2.7                & 0.1                  &  6.2                 &  8.1                 &  29.4                &  44.5                &  46.818188           &   8.227512           & 1                   \\\\\n",
       "\t Ecuador              &   9.9                &   0.4                & 0.0                  &  0.0                 &  2.1                 &  12.4                &  31.3                &  -1.831239           & -78.183406           & 5                   \\\\\n",
       "\t Venezuela            &  27.4                &  26.8                & 0.0                  &  0.0                 & 19.5                 &  73.6                & 147.0                &   6.423750           & -66.589730           & 5                   \\\\\n",
       "\t Azerbaijan           &   2.8                &   6.9                & 0.0                  &  0.0                 &  0.5                 &  10.2                &  24.8                &  40.143105           &  47.576927           & 4                   \\\\\n",
       "\t Belarus              &   9.3                &  14.5                & 0.0                  &  0.0                 &  0.0                 &  23.9                &  62.9                &  53.709807           &  27.953389           & 4                   \\\\\n",
       "\t Turkmenistan         &   5.2                &  17.8                & 0.0                  &  0.0                 &  0.0                 &  23.0                &  57.9                &  38.969719           &  59.556278           & 4                   \\\\\n",
       "\t Kuwait               &  19.2                &  12.1                & 0.0                  &  0.0                 &  0.0                 &  31.3                &  87.2                &  29.311660           &  47.481766           & 6                   \\\\\n",
       "\t Qatar                &   8.2                &  19.0                & 0.0                  &  0.0                 &  0.0                 &  27.2                &  69.8                &  25.354826           &  51.183884           & 4                   \\\\\n",
       "\t Saudi\\_Arabia         & 121.8                  &  69.7                  & 0.0                    &  0.0                   &  0.0                   & 191.5                  & 537.6                  &  23.885942             &  45.079162             & 6                     \\\\\n",
       "\t United\\_Arab\\_Emirates &  21.8                    &  53.2                    & 0.0                      &  0.0                     &  0.0                     &  75.0                    & 191.9                    &  23.424076               &  53.847818               & 4                       \\\\\n",
       "\t Singapore            &  52.1                &   8.7                & 0.0                  &  0.0                 &  0.0                 &  60.8                & 180.2                &   1.352083           & 103.819836           & 6                   \\\\\n",
       "\\end{tabular}\n"
      ],
      "text/markdown": [
       "\n",
       "| Country | Oil | Gas | Coal | Nuclear | Hydro | Total2009 | CO2Emm | Lat | Long | Cluster |\n",
       "|---|---|---|---|---|---|---|---|---|---|---|\n",
       "| China               | 404.6               |  79.8               | 1537.4              |  15.9               | 139.3               | 2177.0              | 7518.5              |  35.861660          |  104.195397         | 2                   |\n",
       "| US                  | 842.9               | 588.7               |  498.0              | 190.2               |  62.2               | 2182.0              | 5941.9              |  37.090240          |  -95.712891         | 6                   |\n",
       "| India               | 148.5               |  46.7               |  245.8              |   3.8               |  24.0               |  468.9              | 1539.1              |  20.593684          |   78.962880         | 2                   |\n",
       "| Japan               | 197.6               |  78.7               |  108.8              |  62.1               |  16.7               |  463.9              | 1222.1              |  36.204824          |  138.252924         | 6                   |\n",
       "| South_Africa        |  24.3               |   0.0               |   99.4              |   2.7               |   0.2               |  126.8              |  468.6              | -30.559482          |   22.937506         | 2                   |\n",
       "| Russian_Federation  | 124.9               | 350.7               |   82.9              |  37.0               |  39.8               |  635.3              | 1535.3              |  61.524010          |  105.318756         | 4                   |\n",
       "| Germany             | 113.9               |  70.2               |   71.0              |  30.5               |   4.2               |  289.8              |  795.6              |  51.165691          |   10.451526         | 6                   |\n",
       "| South_Korea         | 104.3               |  30.4               |   68.6              |  33.4               |   0.7               |  237.5              |  663.3              |  35.907757          |  127.766922         | 6                   |\n",
       "| Poland              |  25.5               |  12.3               |   53.9              |   0.0               |   0.7               |   92.3              |  320.4              |  51.919438          |   19.145136         | 2                   |\n",
       "| Australia           |  42.7               |  23.1               |   50.8              |   0.0               |   2.6               |  119.2              |  386.6              | -25.274398          |  133.775136         | 2                   |\n",
       "| Taiwan              |  46.6               |  10.2               |   38.7              |   9.4               |   0.8               |  105.7              |  320.3              |  23.697810          |  120.960515         | 6                   |\n",
       "| Ukraine             |  14.1               |  42.3               |   35.0              |  18.6               |   2.7               |  112.5              |  280.8              |  48.379433          |   31.165580         | 4                   |\n",
       "| Kazakhstan          |  12.0               |  17.7               |   33.0              |   0.0               |   1.7               |   64.4              |  209.2              |  48.019573          |   66.923684         | 2                   |\n",
       "| Indonesia           |  62.0               |  33.0               |   30.5              |   0.0               |   2.7               |  128.2              |  388.5              |  -0.789275          |  113.921327         | 6                   |\n",
       "| United_Kingdom      |  74.4               |  77.9               |   29.7              |  15.7               |   1.2               |  198.9              |  529.1              |  55.378051          |   -3.435973         | 4                   |\n",
       "| Turkey              |  28.8               |  28.9               |   27.2              |   0.0               |   8.1               |   93.0              |  264.1              |  38.963745          |   35.243322         | 2                   |\n",
       "| Canada              |  97.0               |  85.2               |   26.5              |  20.3               |  90.2               |  319.2              |  602.7              |  56.130366          | -106.346771         | 5                   |\n",
       "| Czech_Republic      |   9.7               |   7.4               |   15.8              |   6.1               |   0.7               |   39.6              |  109.5              |  49.817492          |   15.472962         | 2                   |\n",
       "| Thailand            |  44.2               |  35.3               |   14.1              |   0.0               |   1.5               |   95.1              |  274.4              |  15.870032          |  100.992541         | 6                   |\n",
       "| Italy               |  75.1               |  64.5               |   13.4              |   0.0               |  10.5               |  163.4              |  434.8              |  41.871940          |   12.567380         | 6                   |\n",
       "| Brazil              | 104.3               |  18.3               |   11.7              |   2.9               |  88.5               |  225.7              |  409.4              | -14.235004          |  -51.925280         | 5                   |\n",
       "| Spain               |  72.9               |  31.1               |   10.6              |  12.0               |   6.1               |  132.6              |  338.7              |  40.463667          |   -3.749220         | 6                   |\n",
       "| France              |  87.5               |  38.4               |   10.1              |  92.9               |  13.1               |  241.9              |  398.7              |  46.227638          |    2.213749         | 3                   |\n",
       "| Greece              |  20.2               |   3.0               |    7.9              |   0.0               |   1.6               |   32.7              |  100.4              |  39.074208          |   21.824312         | 6                   |\n",
       "| Netherlands         |  49.4               |  35.0               |    7.9              |   1.0               |   0.0               |   93.3              |  265.1              |  52.132633          |    5.291266         | 6                   |\n",
       "| China_Hong_Kong_SAR |  14.0               |   2.3               |    7.6              |   0.0               |   0.0               |   23.9              |   78.5              |  22.287170          |  114.150969         | 6                   |\n",
       "| Mexico              |  85.6               |  62.7               |    6.8              |   2.2               |   6.0               |  163.2              |  436.8              |  23.634501          | -102.552784         | 6                   |\n",
       "| Philippines         |  12.1               |   3.0               |    6.8              |   0.0               |   2.2               |   24.2              |   71.3              |  12.879721          |  121.774017         | 6                   |\n",
       "| Bulgaria            |   4.4               |   2.2               |    6.3              |   3.5               |   0.9               |   17.4              |   43.7              |  42.733883          |   25.485830         | 2                   |\n",
       "| Romania             |   9.9               |  12.2               |    6.2              |   2.7               |   3.6               |   34.6              |   83.7              |  45.943161          |   24.966760         | 4                   |\n",
       "| ... | ... | ... | ... | ... | ... | ... | ... | ... | ... | ... |\n",
       "| Finland              |   9.9                |   3.2                | 3.7                  |  5.4                 |  2.9                 |  25.0                |  52.5                |  61.924110           |  25.748151           | 6                    |\n",
       "| Portugal             |  12.9                |   3.9                | 3.6                  |  0.0                 |  2.0                 |  22.3                |  62.7                |  39.399872           |  -8.224454           | 6                    |\n",
       "| Slovakia             |   3.9                |   5.1                | 3.6                  |  3.2                 |  1.1                 |  16.8                |  38.1                |  48.669026           |  19.699024           | 4                    |\n",
       "| Colombia             |   8.8                |   7.8                | 3.1                  |  0.0                 |  9.3                 |  29.0                |  57.9                |   4.570868           | -74.297333           | 5                    |\n",
       "| Hungary              |   7.3                |   9.1                | 2.5                  |  3.5                 |  0.1                 |  22.4                |  53.6                |  47.162494           |  19.503304           | 4                    |\n",
       "| Austria              |  13.0                |   8.4                | 2.3                  |  0.0                 |  8.3                 |  32.0                |  68.8                |  47.516231           |  14.550072           | 5                    |\n",
       "| New_Zealand          |   6.8                |   3.6                | 1.7                  |  0.0                 |  5.5                 |  17.6                |  36.2                | -40.900557           | 174.885971           | 5                    |\n",
       "| Sweden               |  13.7                |   1.0                | 1.6                  | 11.9                 | 14.9                 |  43.2                |  50.9                |  60.128161           |  18.643501           | 1                    |\n",
       "| Uzbekistan           |   4.9                |  43.9                | 1.4                  |  0.0                 |  1.4                 |  51.5                | 123.5                |  41.377491           |  64.585262           | 4                    |\n",
       "| Iran                 |  83.6                | 118.5                | 1.4                  |  0.0                 |  1.3                 | 204.8                | 540.3                |  32.427908           |  53.688046           | 4                    |\n",
       "| Republic_of_Ireland  |   8.0                |   4.3                | 1.3                  |  0.0                 |  0.2                 |  13.9                |  40.1                |  53.412910           |  -8.243890           | 6                    |\n",
       "| Argentina            |  22.3                |  38.8                | 1.1                  |  1.8                 |  9.2                 |  73.3                | 164.2                | -38.416097           | -63.616672           | 4                    |\n",
       "| Egypt                |  33.7                |  38.3                | 1.1                  |  0.0                 |  3.1                 |  76.3                | 197.8                |  26.820553           |  30.802498           | 4                    |\n",
       "| Algeria              |  14.9                |  24.0                | 0.7                  |  0.0                 |  0.1                 |  39.7                | 104.8                |  28.033886           |   1.659626           | 4                    |\n",
       "| Peru                 |   8.5                |   3.1                | 0.5                  |  0.0                 |  4.5                 |  16.6                |  35.5                |  -9.189967           | -75.015152           | 5                    |\n",
       "| Bangladesh           |   4.5                |  17.8                | 0.4                  |  0.0                 |  0.3                 |  22.9                |  57.0                |  23.684994           |  90.356331           | 4                    |\n",
       "| Norway               |   9.7                |   3.7                | 0.3                  |  0.0                 | 28.8                 |  42.5                |  39.9                |  60.472024           |   8.468946           | 1                    |\n",
       "| Lithuania            |   2.9                |   2.5                | 0.2                  |  2.5                 |  0.3                 |   8.2                |  15.3                |  55.169438           |  23.881275           | 3                    |\n",
       "| Iceland              |   1.0                |   0.0                | 0.1                  |  0.0                 |  2.8                 |   3.9                |   3.5                |  64.963051           | -19.020835           | 1                    |\n",
       "| Switzerland          |  12.3                |   2.7                | 0.1                  |  6.2                 |  8.1                 |  29.4                |  44.5                |  46.818188           |   8.227512           | 1                    |\n",
       "| Ecuador              |   9.9                |   0.4                | 0.0                  |  0.0                 |  2.1                 |  12.4                |  31.3                |  -1.831239           | -78.183406           | 5                    |\n",
       "| Venezuela            |  27.4                |  26.8                | 0.0                  |  0.0                 | 19.5                 |  73.6                | 147.0                |   6.423750           | -66.589730           | 5                    |\n",
       "| Azerbaijan           |   2.8                |   6.9                | 0.0                  |  0.0                 |  0.5                 |  10.2                |  24.8                |  40.143105           |  47.576927           | 4                    |\n",
       "| Belarus              |   9.3                |  14.5                | 0.0                  |  0.0                 |  0.0                 |  23.9                |  62.9                |  53.709807           |  27.953389           | 4                    |\n",
       "| Turkmenistan         |   5.2                |  17.8                | 0.0                  |  0.0                 |  0.0                 |  23.0                |  57.9                |  38.969719           |  59.556278           | 4                    |\n",
       "| Kuwait               |  19.2                |  12.1                | 0.0                  |  0.0                 |  0.0                 |  31.3                |  87.2                |  29.311660           |  47.481766           | 6                    |\n",
       "| Qatar                |   8.2                |  19.0                | 0.0                  |  0.0                 |  0.0                 |  27.2                |  69.8                |  25.354826           |  51.183884           | 4                    |\n",
       "| Saudi_Arabia         | 121.8                |  69.7                | 0.0                  |  0.0                 |  0.0                 | 191.5                | 537.6                |  23.885942           |  45.079162           | 6                    |\n",
       "| United_Arab_Emirates |  21.8                |  53.2                | 0.0                  |  0.0                 |  0.0                 |  75.0                | 191.9                |  23.424076           |  53.847818           | 4                    |\n",
       "| Singapore            |  52.1                |   8.7                | 0.0                  |  0.0                 |  0.0                 |  60.8                | 180.2                |   1.352083           | 103.819836           | 6                    |\n",
       "\n"
      ],
      "text/plain": [
       "    Country              Oil   Gas   Coal   Nuclear Hydro Total2009 CO2Emm\n",
       "1   China                404.6  79.8 1537.4  15.9   139.3 2177.0    7518.5\n",
       "2   US                   842.9 588.7  498.0 190.2    62.2 2182.0    5941.9\n",
       "3   India                148.5  46.7  245.8   3.8    24.0  468.9    1539.1\n",
       "4   Japan                197.6  78.7  108.8  62.1    16.7  463.9    1222.1\n",
       "5   South_Africa          24.3   0.0   99.4   2.7     0.2  126.8     468.6\n",
       "6   Russian_Federation   124.9 350.7   82.9  37.0    39.8  635.3    1535.3\n",
       "7   Germany              113.9  70.2   71.0  30.5     4.2  289.8     795.6\n",
       "8   South_Korea          104.3  30.4   68.6  33.4     0.7  237.5     663.3\n",
       "9   Poland                25.5  12.3   53.9   0.0     0.7   92.3     320.4\n",
       "10  Australia             42.7  23.1   50.8   0.0     2.6  119.2     386.6\n",
       "11  Taiwan                46.6  10.2   38.7   9.4     0.8  105.7     320.3\n",
       "12  Ukraine               14.1  42.3   35.0  18.6     2.7  112.5     280.8\n",
       "13  Kazakhstan            12.0  17.7   33.0   0.0     1.7   64.4     209.2\n",
       "14  Indonesia             62.0  33.0   30.5   0.0     2.7  128.2     388.5\n",
       "15  United_Kingdom        74.4  77.9   29.7  15.7     1.2  198.9     529.1\n",
       "16  Turkey                28.8  28.9   27.2   0.0     8.1   93.0     264.1\n",
       "17  Canada                97.0  85.2   26.5  20.3    90.2  319.2     602.7\n",
       "18  Czech_Republic         9.7   7.4   15.8   6.1     0.7   39.6     109.5\n",
       "19  Thailand              44.2  35.3   14.1   0.0     1.5   95.1     274.4\n",
       "20  Italy                 75.1  64.5   13.4   0.0    10.5  163.4     434.8\n",
       "21  Brazil               104.3  18.3   11.7   2.9    88.5  225.7     409.4\n",
       "22  Spain                 72.9  31.1   10.6  12.0     6.1  132.6     338.7\n",
       "23  France                87.5  38.4   10.1  92.9    13.1  241.9     398.7\n",
       "24  Greece                20.2   3.0    7.9   0.0     1.6   32.7     100.4\n",
       "25  Netherlands           49.4  35.0    7.9   1.0     0.0   93.3     265.1\n",
       "26  China_Hong_Kong_SAR   14.0   2.3    7.6   0.0     0.0   23.9      78.5\n",
       "27  Mexico                85.6  62.7    6.8   2.2     6.0  163.2     436.8\n",
       "28  Philippines           12.1   3.0    6.8   0.0     2.2   24.2      71.3\n",
       "29  Bulgaria               4.4   2.2    6.3   3.5     0.9   17.4      43.7\n",
       "30  Romania                9.9  12.2    6.2   2.7     3.6   34.6      83.7\n",
       "... ...                  ...   ...   ...    ...     ...   ...       ...   \n",
       "36  Finland                9.9   3.2 3.7     5.4     2.9   25.0      52.5 \n",
       "37  Portugal              12.9   3.9 3.6     0.0     2.0   22.3      62.7 \n",
       "38  Slovakia               3.9   5.1 3.6     3.2     1.1   16.8      38.1 \n",
       "39  Colombia               8.8   7.8 3.1     0.0     9.3   29.0      57.9 \n",
       "40  Hungary                7.3   9.1 2.5     3.5     0.1   22.4      53.6 \n",
       "41  Austria               13.0   8.4 2.3     0.0     8.3   32.0      68.8 \n",
       "42  New_Zealand            6.8   3.6 1.7     0.0     5.5   17.6      36.2 \n",
       "43  Sweden                13.7   1.0 1.6    11.9    14.9   43.2      50.9 \n",
       "44  Uzbekistan             4.9  43.9 1.4     0.0     1.4   51.5     123.5 \n",
       "45  Iran                  83.6 118.5 1.4     0.0     1.3  204.8     540.3 \n",
       "46  Republic_of_Ireland    8.0   4.3 1.3     0.0     0.2   13.9      40.1 \n",
       "47  Argentina             22.3  38.8 1.1     1.8     9.2   73.3     164.2 \n",
       "48  Egypt                 33.7  38.3 1.1     0.0     3.1   76.3     197.8 \n",
       "49  Algeria               14.9  24.0 0.7     0.0     0.1   39.7     104.8 \n",
       "50  Peru                   8.5   3.1 0.5     0.0     4.5   16.6      35.5 \n",
       "51  Bangladesh             4.5  17.8 0.4     0.0     0.3   22.9      57.0 \n",
       "52  Norway                 9.7   3.7 0.3     0.0    28.8   42.5      39.9 \n",
       "53  Lithuania              2.9   2.5 0.2     2.5     0.3    8.2      15.3 \n",
       "54  Iceland                1.0   0.0 0.1     0.0     2.8    3.9       3.5 \n",
       "55  Switzerland           12.3   2.7 0.1     6.2     8.1   29.4      44.5 \n",
       "56  Ecuador                9.9   0.4 0.0     0.0     2.1   12.4      31.3 \n",
       "57  Venezuela             27.4  26.8 0.0     0.0    19.5   73.6     147.0 \n",
       "58  Azerbaijan             2.8   6.9 0.0     0.0     0.5   10.2      24.8 \n",
       "59  Belarus                9.3  14.5 0.0     0.0     0.0   23.9      62.9 \n",
       "60  Turkmenistan           5.2  17.8 0.0     0.0     0.0   23.0      57.9 \n",
       "61  Kuwait                19.2  12.1 0.0     0.0     0.0   31.3      87.2 \n",
       "62  Qatar                  8.2  19.0 0.0     0.0     0.0   27.2      69.8 \n",
       "63  Saudi_Arabia         121.8  69.7 0.0     0.0     0.0  191.5     537.6 \n",
       "64  United_Arab_Emirates  21.8  53.2 0.0     0.0     0.0   75.0     191.9 \n",
       "65  Singapore             52.1   8.7 0.0     0.0     0.0   60.8     180.2 \n",
       "    Lat        Long        Cluster\n",
       "1    35.861660  104.195397 2      \n",
       "2    37.090240  -95.712891 6      \n",
       "3    20.593684   78.962880 2      \n",
       "4    36.204824  138.252924 6      \n",
       "5   -30.559482   22.937506 2      \n",
       "6    61.524010  105.318756 4      \n",
       "7    51.165691   10.451526 6      \n",
       "8    35.907757  127.766922 6      \n",
       "9    51.919438   19.145136 2      \n",
       "10  -25.274398  133.775136 2      \n",
       "11   23.697810  120.960515 6      \n",
       "12   48.379433   31.165580 4      \n",
       "13   48.019573   66.923684 2      \n",
       "14   -0.789275  113.921327 6      \n",
       "15   55.378051   -3.435973 4      \n",
       "16   38.963745   35.243322 2      \n",
       "17   56.130366 -106.346771 5      \n",
       "18   49.817492   15.472962 2      \n",
       "19   15.870032  100.992541 6      \n",
       "20   41.871940   12.567380 6      \n",
       "21  -14.235004  -51.925280 5      \n",
       "22   40.463667   -3.749220 6      \n",
       "23   46.227638    2.213749 3      \n",
       "24   39.074208   21.824312 6      \n",
       "25   52.132633    5.291266 6      \n",
       "26   22.287170  114.150969 6      \n",
       "27   23.634501 -102.552784 6      \n",
       "28   12.879721  121.774017 6      \n",
       "29   42.733883   25.485830 2      \n",
       "30   45.943161   24.966760 4      \n",
       "... ...        ...         ...    \n",
       "36   61.924110  25.748151  6      \n",
       "37   39.399872  -8.224454  6      \n",
       "38   48.669026  19.699024  4      \n",
       "39    4.570868 -74.297333  5      \n",
       "40   47.162494  19.503304  4      \n",
       "41   47.516231  14.550072  5      \n",
       "42  -40.900557 174.885971  5      \n",
       "43   60.128161  18.643501  1      \n",
       "44   41.377491  64.585262  4      \n",
       "45   32.427908  53.688046  4      \n",
       "46   53.412910  -8.243890  6      \n",
       "47  -38.416097 -63.616672  4      \n",
       "48   26.820553  30.802498  4      \n",
       "49   28.033886   1.659626  4      \n",
       "50   -9.189967 -75.015152  5      \n",
       "51   23.684994  90.356331  4      \n",
       "52   60.472024   8.468946  1      \n",
       "53   55.169438  23.881275  3      \n",
       "54   64.963051 -19.020835  1      \n",
       "55   46.818188   8.227512  1      \n",
       "56   -1.831239 -78.183406  5      \n",
       "57    6.423750 -66.589730  5      \n",
       "58   40.143105  47.576927  4      \n",
       "59   53.709807  27.953389  4      \n",
       "60   38.969719  59.556278  4      \n",
       "61   29.311660  47.481766  6      \n",
       "62   25.354826  51.183884  4      \n",
       "63   23.885942  45.079162  6      \n",
       "64   23.424076  53.847818  4      \n",
       "65    1.352083 103.819836  6      "
      ]
     },
     "metadata": {},
     "output_type": "display_data"
    }
   ],
   "source": [
    "energyData %>% arrange(desc(Coal))"
   ]
  },
  {
   "cell_type": "markdown",
   "metadata": {},
   "source": [
    "Das Entfernen der vier größten Kohlekonsumenten führt zu einer Veränderung des Mean um kleiner -70%, während der Median fast unverändert bleibt. Entsprechend ist davon auszugehen, dass die vier größten Kohlekonsumenten einen großen Teil des gesamten Kohleknsums ausmachen. Das Dataframe sortiert nach dem Kohlekonsum bestätigt das."
   ]
  }
 ],
 "metadata": {
  "kernelspec": {
   "display_name": "R",
   "language": "R",
   "name": "ir"
  },
  "language_info": {
   "codemirror_mode": "r",
   "file_extension": ".r",
   "mimetype": "text/x-r-source",
   "name": "R",
   "pygments_lexer": "r",
   "version": "3.6.1"
  },
  "nav_menu": {},
  "toc": {
   "navigate_menu": true,
   "number_sections": true,
   "sideBar": true,
   "threshold": 6,
   "toc_cell": false,
   "toc_section_display": "block",
   "toc_window_display": false
  }
 },
 "nbformat": 4,
 "nbformat_minor": 2
}
