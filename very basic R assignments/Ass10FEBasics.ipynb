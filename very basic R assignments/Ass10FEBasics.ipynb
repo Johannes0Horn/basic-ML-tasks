{
 "cells": [
  {
   "cell_type": "markdown",
   "metadata": {},
   "source": [
    "# Exercises on Feature Engineering Basics in R\n",
    "* Author: Oliver Kretzschmar\n",
    "* Last Update: 2019-11-17"
   ]
  },
  {
   "cell_type": "markdown",
   "metadata": {},
   "source": [
    "## Solve the tasks ...\n",
    "\n",
    "Your solution should contain \n",
    "* the implemented code in code-cells, \n",
    "* the output of this code \n",
    "* and optionally your remarks, discussion, comments on the solution in markdown-cells.\n",
    "\n",
    "Send me the resulting Jupyter notebook."
   ]
  },
  {
   "cell_type": "markdown",
   "metadata": {},
   "source": [
    "## Tasks\n"
   ]
  },
  {
   "cell_type": "code",
   "execution_count": 288,
   "metadata": {},
   "outputs": [],
   "source": [
    "library(tidyverse)\n",
    "library(data.table)\n",
    "library(car)\n",
    "\n",
    "\n",
    "library(modelr)\n",
    "\n",
    "library(reshape)  #Calculate Pivot table\n",
    "library(rsample)  #For splitting - see https://tidymodels.github.io/recipes/articles/Simple_Example.html\n",
    "library(recipes)  #For data recipes - see https://tidymodels.github.io/recipes/\n",
    "\n",
    "#install.packages(\"stringr\")\n",
    "library(stringr) #We use stringr package for better string operations - see https://r4ds.had.co.nz/strings.html#introduction-8 \n",
    "\n",
    "library(moments) #Skewness function ...\n",
    "library(dbscan) #DBSCAN\n",
    "\n",
    "#install.packages(\"gridExtra\")\n",
    "library(gridExtra) #Arrange more ggplots on canvas\n",
    "\n",
    "\n",
    "library(corrplot) #Scatterplots\n",
    "\n",
    "library(caret) #Model functions\n",
    "# install.packages('Boruta')\n",
    "library(Boruta) #For Feature functions\n"
   ]
  },
  {
   "cell_type": "markdown",
   "metadata": {},
   "source": [
    "1. Implement a convenient function 'handleOutlier(data, ...)' to handle outliers by the Interquartile Range (IQR) method for dropping or imputation in a FE process for a complete data frame 'data'. Implement it by hand.\n"
   ]
  },
  {
   "cell_type": "code",
   "execution_count": 289,
   "metadata": {},
   "outputs": [
    {
     "data": {
      "text/html": [
       "<table>\n",
       "<thead><tr><th scope=col>salary1</th><th scope=col>salary2</th><th scope=col>salary3</th><th scope=col>salary4</th><th scope=col>salary5</th><th scope=col>salary6</th></tr></thead>\n",
       "<tbody>\n",
       "\t<tr><td>123    </td><td>123    </td><td>234155 </td><td> 456   </td><td>    456</td><td>abc    </td></tr>\n",
       "\t<tr><td>123    </td><td>123    </td><td> 23412 </td><td> 676   </td><td>    123</td><td>abc    </td></tr>\n",
       "\t<tr><td>123    </td><td>124    </td><td>  5678 </td><td> 456   </td><td>  22300</td><td>abc    </td></tr>\n",
       "\t<tr><td>123    </td><td>124    </td><td>  5678 </td><td> 786   </td><td>     90</td><td>abc    </td></tr>\n",
       "\t<tr><td>123    </td><td>124    </td><td>   456 </td><td> 786   </td><td>  23400</td><td>abc    </td></tr>\n",
       "\t<tr><td>123    </td><td>124    </td><td> 23400 </td><td> 459   </td><td>  23400</td><td>abc    </td></tr>\n",
       "\t<tr><td>123    </td><td>215    </td><td>   345 </td><td>7899   </td><td>   5678</td><td>abc    </td></tr>\n",
       "\t<tr><td>123    </td><td>125    </td><td> 23400 </td><td> 166   </td><td>9999999</td><td>abcd   </td></tr>\n",
       "</tbody>\n",
       "</table>\n"
      ],
      "text/latex": [
       "\\begin{tabular}{r|llllll}\n",
       " salary1 & salary2 & salary3 & salary4 & salary5 & salary6\\\\\n",
       "\\hline\n",
       "\t 123     & 123     & 234155  &  456    &     456 & abc    \\\\\n",
       "\t 123     & 123     &  23412  &  676    &     123 & abc    \\\\\n",
       "\t 123     & 124     &   5678  &  456    &   22300 & abc    \\\\\n",
       "\t 123     & 124     &   5678  &  786    &      90 & abc    \\\\\n",
       "\t 123     & 124     &    456  &  786    &   23400 & abc    \\\\\n",
       "\t 123     & 124     &  23400  &  459    &   23400 & abc    \\\\\n",
       "\t 123     & 215     &    345  & 7899    &    5678 & abc    \\\\\n",
       "\t 123     & 125     &  23400  &  166    & 9999999 & abcd   \\\\\n",
       "\\end{tabular}\n"
      ],
      "text/markdown": [
       "\n",
       "| salary1 | salary2 | salary3 | salary4 | salary5 | salary6 |\n",
       "|---|---|---|---|---|---|\n",
       "| 123     | 123     | 234155  |  456    |     456 | abc     |\n",
       "| 123     | 123     |  23412  |  676    |     123 | abc     |\n",
       "| 123     | 124     |   5678  |  456    |   22300 | abc     |\n",
       "| 123     | 124     |   5678  |  786    |      90 | abc     |\n",
       "| 123     | 124     |    456  |  786    |   23400 | abc     |\n",
       "| 123     | 124     |  23400  |  459    |   23400 | abc     |\n",
       "| 123     | 215     |    345  | 7899    |    5678 | abc     |\n",
       "| 123     | 125     |  23400  |  166    | 9999999 | abcd    |\n",
       "\n"
      ],
      "text/plain": [
       "  salary1 salary2 salary3 salary4 salary5 salary6\n",
       "1 123     123     234155   456        456 abc    \n",
       "2 123     123      23412   676        123 abc    \n",
       "3 123     124       5678   456      22300 abc    \n",
       "4 123     124       5678   786         90 abc    \n",
       "5 123     124        456   786      23400 abc    \n",
       "6 123     124      23400   459      23400 abc    \n",
       "7 123     215        345  7899       5678 abc    \n",
       "8 123     125      23400   166    9999999 abcd   "
      ]
     },
     "metadata": {},
     "output_type": "display_data"
    }
   ],
   "source": [
    "#create sample mini dataset\n",
    "salary1 <- c(123, 123, 123, 123, 123, 123, 123, 123)\n",
    "salary2 <- c(123, 123, 124, 124, 124, 124, 215, 125)\n",
    "salary3 <- c(234155, 23412, 5678, 5678, 456, 23400, 345, 23400)\n",
    "salary4 <- c(456, 676, 456, 786, 786, 459, 7899, 166)\n",
    "salary5 <- c(456, 123, 22300, 90, 23400, 23400, 5678, 9999999)\n",
    "salary6 <- c(\"abc\", \"abc\", \"abc\", \"abc\", \"abc\", \"abc\", \"abc\", \"abcd\")\n",
    "\n",
    "\n",
    "\n",
    "employ.data <- data.frame(salary1, salary2, salary3, salary4, salary5, salary6)\n",
    "employ.data"
   ]
  },
  {
   "cell_type": "code",
   "execution_count": 290,
   "metadata": {},
   "outputs": [],
   "source": [
    "findOutlier <-function (column){\n",
    "    outliner <- NULL\n",
    "    if (is.numeric(column)){\n",
    "        BoxLow <- quantile(column, probs = c(0.25))\n",
    "        BoxUp <- quantile(column, probs = c(0.75))\n",
    "        #cat(\"BoxLow: \", BoxLow,\"\\n\")\n",
    "        #cat(\"BoxUp: \", BoxUp,\"\\n\")\n",
    "        #get indexes\n",
    "        outliner <- which(column > BoxUp | column < BoxLow)\n",
    "        }\n",
    "    #fill with zeros so every column has same length and can be converted to df\n",
    "    while (length(column) > length(outliner)){\n",
    "        outliner <- c(outliner, 0)\n",
    "    }\n",
    "    #print(outliner)\n",
    "    return (outliner)\n",
    "        \n",
    "}\n",
    "\n",
    "handleOutlier <- function(data, mode){\n",
    "    data <- na.omit(data)\n",
    "    #get outliner per Column\n",
    "    pos <- lapply(data, findOutlier)\n",
    "    #convert resulting list to DF\n",
    "    pos <-data.frame(do.call(rbind.data.frame, pos))\n",
    "    if(mode==\"dropping\"){\n",
    "        #get unique values of pos dataframe\n",
    "        columnids=c()\n",
    "        \n",
    "        for(i in 1:ncol(pos)){\n",
    "          columnids=c(unique(pos[,i]), columnids)\n",
    "          columnidsunique=unique(columnids)\n",
    "        }\n",
    "        \n",
    "        #drop data\n",
    "        cleanData <- data[,-columnidsunique]\n",
    "        return (cleanData)\n",
    "    }\n",
    "    \n",
    "    else if (mode==\"imputation\"){\n",
    "        #impute with median\n",
    "        #get colmeans        \n",
    "        #seems lapply doesnt work here because we have to access child of childs\n",
    "        colmeans <- NULL\n",
    "        for(i in 1:ncol(data)){\n",
    "            if (is.numeric(data[[i]])){\n",
    "                colmeans <- c(colmeans, median(data[[i]]))\n",
    "            }\n",
    "            else{\n",
    "                 colmeans <- c(colmeans, NA)\n",
    "            }\n",
    "        }\n",
    "        for(i in 1:ncol(pos)){\n",
    "            for (j in 1:nrow(pos)){\n",
    "                if (pos[j,i]==0 || j ==0){\n",
    "                    next\n",
    "                }\n",
    "                data[pos[j,i], j] = colmeans[j]\n",
    "            }\n",
    "        }\n",
    "        return (data)\n",
    "    }\n",
    "}\n",
    "\n",
    "\n",
    "\n",
    "\n"
   ]
  },
  {
   "cell_type": "code",
   "execution_count": 291,
   "metadata": {},
   "outputs": [
    {
     "data": {
      "text/html": [
       "<table>\n",
       "<thead><tr><th scope=col>salary1</th><th scope=col>salary2</th><th scope=col>salary3</th><th scope=col>salary4</th><th scope=col>salary5</th><th scope=col>salary6</th></tr></thead>\n",
       "<tbody>\n",
       "\t<tr><td>123  </td><td>124  </td><td>14539</td><td>456.0</td><td>  456</td><td>abc  </td></tr>\n",
       "\t<tr><td>123  </td><td>124  </td><td>14539</td><td>676.0</td><td>13989</td><td>abc  </td></tr>\n",
       "\t<tr><td>123  </td><td>124  </td><td> 5678</td><td>456.0</td><td>22300</td><td>abc  </td></tr>\n",
       "\t<tr><td>123  </td><td>124  </td><td> 5678</td><td>786.0</td><td>13989</td><td>abc  </td></tr>\n",
       "\t<tr><td>123  </td><td>124  </td><td>14539</td><td>786.0</td><td>23400</td><td>abc  </td></tr>\n",
       "\t<tr><td>123  </td><td>124  </td><td>23400</td><td>459.0</td><td>23400</td><td>abc  </td></tr>\n",
       "\t<tr><td>123  </td><td>124  </td><td>14539</td><td>567.5</td><td> 5678</td><td>abc  </td></tr>\n",
       "\t<tr><td>123  </td><td>124  </td><td>23400</td><td>567.5</td><td>13989</td><td>abcd </td></tr>\n",
       "</tbody>\n",
       "</table>\n"
      ],
      "text/latex": [
       "\\begin{tabular}{r|llllll}\n",
       " salary1 & salary2 & salary3 & salary4 & salary5 & salary6\\\\\n",
       "\\hline\n",
       "\t 123   & 124   & 14539 & 456.0 &   456 & abc  \\\\\n",
       "\t 123   & 124   & 14539 & 676.0 & 13989 & abc  \\\\\n",
       "\t 123   & 124   &  5678 & 456.0 & 22300 & abc  \\\\\n",
       "\t 123   & 124   &  5678 & 786.0 & 13989 & abc  \\\\\n",
       "\t 123   & 124   & 14539 & 786.0 & 23400 & abc  \\\\\n",
       "\t 123   & 124   & 23400 & 459.0 & 23400 & abc  \\\\\n",
       "\t 123   & 124   & 14539 & 567.5 &  5678 & abc  \\\\\n",
       "\t 123   & 124   & 23400 & 567.5 & 13989 & abcd \\\\\n",
       "\\end{tabular}\n"
      ],
      "text/markdown": [
       "\n",
       "| salary1 | salary2 | salary3 | salary4 | salary5 | salary6 |\n",
       "|---|---|---|---|---|---|\n",
       "| 123   | 124   | 14539 | 456.0 |   456 | abc   |\n",
       "| 123   | 124   | 14539 | 676.0 | 13989 | abc   |\n",
       "| 123   | 124   |  5678 | 456.0 | 22300 | abc   |\n",
       "| 123   | 124   |  5678 | 786.0 | 13989 | abc   |\n",
       "| 123   | 124   | 14539 | 786.0 | 23400 | abc   |\n",
       "| 123   | 124   | 23400 | 459.0 | 23400 | abc   |\n",
       "| 123   | 124   | 14539 | 567.5 |  5678 | abc   |\n",
       "| 123   | 124   | 23400 | 567.5 | 13989 | abcd  |\n",
       "\n"
      ],
      "text/plain": [
       "  salary1 salary2 salary3 salary4 salary5 salary6\n",
       "1 123     124     14539   456.0     456   abc    \n",
       "2 123     124     14539   676.0   13989   abc    \n",
       "3 123     124      5678   456.0   22300   abc    \n",
       "4 123     124      5678   786.0   13989   abc    \n",
       "5 123     124     14539   786.0   23400   abc    \n",
       "6 123     124     23400   459.0   23400   abc    \n",
       "7 123     124     14539   567.5    5678   abc    \n",
       "8 123     124     23400   567.5   13989   abcd   "
      ]
     },
     "metadata": {},
     "output_type": "display_data"
    }
   ],
   "source": [
    "#test funtion\n",
    "handleOutlier(employ.data,\"imputation\")"
   ]
  },
  {
   "cell_type": "markdown",
   "metadata": {},
   "source": [
    "2. Implement a convenient function 'handleCollinearity(data, ...)' to check and correct multicollinearity in a FE process for a complete data frame 'data'. Implement it by hand, but use the functions 'vif()' and 'alias()' as described in the main Feature Engineering lecture.\n"
   ]
  },
  {
   "cell_type": "code",
   "execution_count": 292,
   "metadata": {},
   "outputs": [],
   "source": [
    "removelastchar <- function(text){\n",
    "         val <- substr(text, 1, nchar(text)-1)  \n",
    "}"
   ]
  },
  {
   "cell_type": "code",
   "execution_count": 293,
   "metadata": {},
   "outputs": [],
   "source": [
    "handleCollinearity <- function(mydata, label){\n",
    "    \n",
    "    datacolnames <-colnames(mydata)\n",
    "    datacolnames = datacolnames[datacolnames != label]\n",
    "\n",
    "    f <- as.formula(paste(label, \n",
    "        paste(datacolnames, collapse = \" + \"), \n",
    "        sep = \" ~ \"))\n",
    "    lm.fitMult<-lm(f, mydata)\n",
    "    #get linearly dependent variables\n",
    "    ld.vars <- attributes(alias(lm.fitMult)$Complete)$dimnames[[1]]\n",
    "\n",
    "    #remove weird ones to get original names\n",
    "    ld.vars <- lapply(ld.vars, removelastchar)\n",
    "    #remove linearly dependent  variables from datacolnames and make new formular\n",
    "    datacolnames = datacolnames[!datacolnames %in% ld.vars]\n",
    "    f <- as.formula(paste(label, \n",
    "        paste(datacolnames, collapse = \" + \"), \n",
    "        sep = \" ~ \"))\n",
    "    #run model again with out aliases\n",
    "    lm.fitMult<-lm(f, mydata)\n",
    "    \n",
    "    #Calculate the VIFs\n",
    "    vifs <- vif(lm.fitMult)\n",
    "    if (max(vifs) > 5 && ncol(mydata)>1){\n",
    "        #get max vif col name and drop col\n",
    "        maxColumnName <-names(which.max(vifs))\n",
    "        var.out.bool <- !names(mydata) %in% maxColumnName\n",
    "        #simply reassign data:\n",
    "        mydata <- mydata[,var.out.bool, drop = FALSE]\n",
    "        #rekursive call\n",
    "        handleCollinearity(mydata, label)\n",
    "    }\n",
    "    else{ \n",
    "        return(mydata)\n",
    "    }\n",
    "}"
   ]
  },
  {
   "cell_type": "code",
   "execution_count": 294,
   "metadata": {},
   "outputs": [
    {
     "name": "stderr",
     "output_type": "stream",
     "text": [
      "Warning message in summary.lm(object, ...):\n",
      "\"essentially perfect fit: summary may be unreliable\"Warning message in summary.lm(object, ...):\n",
      "\"essentially perfect fit: summary may be unreliable\"Warning message in summary.lm(object, ...):\n",
      "\"essentially perfect fit: summary may be unreliable\""
     ]
    },
    {
     "data": {
      "text/html": [
       "<table>\n",
       "<thead><tr><th scope=col>salary1</th><th scope=col>salary2</th><th scope=col>salary3</th><th scope=col>salary6</th></tr></thead>\n",
       "<tbody>\n",
       "\t<tr><td>123   </td><td>123   </td><td>234155</td><td>abc   </td></tr>\n",
       "\t<tr><td>123   </td><td>123   </td><td> 23412</td><td>abc   </td></tr>\n",
       "\t<tr><td>123   </td><td>124   </td><td>  5678</td><td>abc   </td></tr>\n",
       "\t<tr><td>123   </td><td>124   </td><td>  5678</td><td>abc   </td></tr>\n",
       "\t<tr><td>123   </td><td>124   </td><td>   456</td><td>abc   </td></tr>\n",
       "\t<tr><td>123   </td><td>124   </td><td> 23400</td><td>abc   </td></tr>\n",
       "\t<tr><td>123   </td><td>215   </td><td>   345</td><td>abc   </td></tr>\n",
       "\t<tr><td>123   </td><td>125   </td><td> 23400</td><td>abcd  </td></tr>\n",
       "</tbody>\n",
       "</table>\n"
      ],
      "text/latex": [
       "\\begin{tabular}{r|llll}\n",
       " salary1 & salary2 & salary3 & salary6\\\\\n",
       "\\hline\n",
       "\t 123    & 123    & 234155 & abc   \\\\\n",
       "\t 123    & 123    &  23412 & abc   \\\\\n",
       "\t 123    & 124    &   5678 & abc   \\\\\n",
       "\t 123    & 124    &   5678 & abc   \\\\\n",
       "\t 123    & 124    &    456 & abc   \\\\\n",
       "\t 123    & 124    &  23400 & abc   \\\\\n",
       "\t 123    & 215    &    345 & abc   \\\\\n",
       "\t 123    & 125    &  23400 & abcd  \\\\\n",
       "\\end{tabular}\n"
      ],
      "text/markdown": [
       "\n",
       "| salary1 | salary2 | salary3 | salary6 |\n",
       "|---|---|---|---|\n",
       "| 123    | 123    | 234155 | abc    |\n",
       "| 123    | 123    |  23412 | abc    |\n",
       "| 123    | 124    |   5678 | abc    |\n",
       "| 123    | 124    |   5678 | abc    |\n",
       "| 123    | 124    |    456 | abc    |\n",
       "| 123    | 124    |  23400 | abc    |\n",
       "| 123    | 215    |    345 | abc    |\n",
       "| 123    | 125    |  23400 | abcd   |\n",
       "\n"
      ],
      "text/plain": [
       "  salary1 salary2 salary3 salary6\n",
       "1 123     123     234155  abc    \n",
       "2 123     123      23412  abc    \n",
       "3 123     124       5678  abc    \n",
       "4 123     124       5678  abc    \n",
       "5 123     124        456  abc    \n",
       "6 123     124      23400  abc    \n",
       "7 123     215        345  abc    \n",
       "8 123     125      23400  abcd   "
      ]
     },
     "metadata": {},
     "output_type": "display_data"
    }
   ],
   "source": [
    "#test funtion\n",
    "handleCollinearity(employ.data, \"salary1\")"
   ]
  },
  {
   "cell_type": "markdown",
   "metadata": {},
   "source": [
    "3. Read data from [LeadUserData1_untidy.csv](../data/LeadUserData1_untidy.csv) and do a complete Feature Engineering process with imputation of missing values, handling outliers, data transformations, correct multicollinearity, correct imbalancing classes etc. Use mostly the \"recipe\" package as discussed in the lecture and your above implemented functions.\n"
   ]
  },
  {
   "cell_type": "code",
   "execution_count": 295,
   "metadata": {},
   "outputs": [
    {
     "name": "stdout",
     "output_type": "stream",
     "text": [
      "Observations: 2,103\n",
      "Variables: 18\n",
      "$ customerID          <fct> 3668-QPYBK, 9237-HQITU, 9305-CDSKC, 7892-POOKP,...\n",
      "$ gender              <fct> Male, Female, Female, Female, Male, Female, Fem...\n",
      "$ tenure              <int> 2, 2, 8, 28, 49, 69, 10, 1, 1, 47, 1, 17, 5, 46...\n",
      "$ PhoneService        <fct> Yes, Yes, Yes, Yes, Yes, Yes, Yes, No, Yes, Yes...\n",
      "$ MultipleProducts    <fct> No, No, Yes, Yes, Yes, Yes, No, No phone servic...\n",
      "$ InternetService     <fct> DSL, Fiber optic, Fiber optic, Fiber optic, Fib...\n",
      "$ OnlineSecurity      <fct> Yes, No, No, No, No, Yes, No, No, No internet s...\n",
      "$ OnlineBackup        <fct> Yes, No, No, No, Yes, Yes, No, No, No internet ...\n",
      "$ DeviceProtection    <fct> No, No, Yes, Yes, Yes, Yes, Yes, Yes, No intern...\n",
      "$ TechSupport         <fct> No, No, No, Yes, No, Yes, Yes, No, No internet ...\n",
      "$ UsingSocial         <fct> No, No, Yes, Yes, Yes, Yes, No, No, No internet...\n",
      "$ SupportMovies       <fct> No, No, Yes, Yes, Yes, Yes, No, Yes, No interne...\n",
      "$ TimeUsingProduct    <fct> Month-to-month, Month-to-month, Month-to-month,...\n",
      "$ PaperlessBilling    <fct> Yes, Yes, Yes, Yes, Yes, No, No, Yes, No, Yes, ...\n",
      "$ PaymentMethod       <fct> Mailed check, Electronic check, Electronic chec...\n",
      "$ MonthlyCharges      <dbl> 53.85, 70.70, 99.65, 104.80, 103.70, 113.25, 55...\n",
      "$ WorkaroundIntensity <dbl> 108.15, 151.65, 820.50, 3046.05, 5036.30, 7895....\n",
      "$ IsLeadUser          <fct> No, No, No, No, No, Yes, No, No, No, No, No, No...\n"
     ]
    }
   ],
   "source": [
    "#dont drop missing values\n",
    "options(na.action = na.warn)\n",
    "\n",
    "data <- read.csv(file=\"../data/LeadUserData1_untidy.csv\", header=TRUE,sep=\",\")\n",
    "glimpse(data)\n",
    "#hist(data$WorkaroundIntensity)\n",
    "#data<-handleOutlier(data,\"WorkaroundIntensity\",\"NA\")\n",
    "#hist(data$WorkaroundIntensity)\n",
    "#data<-handleCollinearity(data)"
   ]
  },
  {
   "cell_type": "code",
   "execution_count": 296,
   "metadata": {},
   "outputs": [
    {
     "data": {
      "text/plain": [
       "      customerID      gender         tenure      PhoneService\n",
       " 0004-TLHLJ:   1   Female:1045   Min.   : 1.00   No  : 188   \n",
       " 0011-IGKFF:   1   Male  :1047   1st Qu.: 3.00   Yes :1904   \n",
       " 0013-EXCHZ:   1   NA's  :  11   Median :13.00   NA's:  11   \n",
       " 0013-SMEOE:   1                 Mean   :22.37               \n",
       " 0022-TCJCI:   1                 3rd Qu.:40.00               \n",
       " (Other)   :2087                 Max.   :72.00               \n",
       " NA's      :  11                 NA's   :11                  \n",
       "         MultipleProducts    InternetService             OnlineSecurity\n",
       " No              :912     DSL        : 552   No                 :1552  \n",
       " No phone service:188     Fiber optic:1427   No internet service: 113  \n",
       " Yes             :992     No         : 113   Yes                : 427  \n",
       " NA's            : 11     NA's       :  11   NA's               :  11  \n",
       "                                                                       \n",
       "                                                                       \n",
       "                                                                       \n",
       "              OnlineBackup             DeviceProtection\n",
       " No                 :1309   No                 :1279   \n",
       " No internet service: 113   No internet service: 113   \n",
       " Yes                : 670   Yes                : 700   \n",
       " NA's               :  11   NA's               :  11   \n",
       "                                                       \n",
       "                                                       \n",
       "                                                       \n",
       "              TechSupport                UsingSocial  \n",
       " No                 :1529   No                 :1014  \n",
       " No internet service: 113   No internet service: 113  \n",
       " Yes                : 450   Yes                : 965  \n",
       " NA's               :  11   NA's               :  11  \n",
       "                                                      \n",
       "                                                      \n",
       "                                                      \n",
       "             SupportMovies       TimeUsingProduct PaperlessBilling\n",
       " No                 :997   Month-to-month:1705    No  : 549       \n",
       " No internet service:113   One year      : 237    Yes :1543       \n",
       " Yes                :982   Two year      : 150    NA's:  11       \n",
       " NA's               : 11   NA's          :  11                    \n",
       "                                                                  \n",
       "                                                                  \n",
       "                                                                  \n",
       "                   PaymentMethod  MonthlyCharges   WorkaroundIntensity\n",
       " Bank transfer (automatic): 323   Min.   : 18.85   Min.   :  18.85    \n",
       " Credit card (automatic)  : 306   1st Qu.: 61.42   1st Qu.: 165.44    \n",
       " Electronic check         :1135   Median : 80.20   Median : 930.42    \n",
       " Mailed check             : 328   Mean   : 75.90   Mean   :1922.51    \n",
       " NA's                     :  11   3rd Qu.: 94.76   3rd Qu.:3229.46    \n",
       "                                  Max.   :118.60   Max.   :8684.80    \n",
       "                                  NA's   :11       NA's   :11         \n",
       " IsLeadUser \n",
       " No  :1869  \n",
       " Yes : 223  \n",
       " NA's:  11  \n",
       "            \n",
       "            \n",
       "            \n",
       "            "
      ]
     },
     "metadata": {},
     "output_type": "display_data"
    }
   ],
   "source": [
    "summary(data)"
   ]
  },
  {
   "cell_type": "code",
   "execution_count": 297,
   "metadata": {},
   "outputs": [
    {
     "name": "stdout",
     "output_type": "stream",
     "text": [
      "Exists missing values?\n"
     ]
    },
    {
     "data": {
      "text/html": [
       "TRUE"
      ],
      "text/latex": [
       "TRUE"
      ],
      "text/markdown": [
       "TRUE"
      ],
      "text/plain": [
       "[1] TRUE"
      ]
     },
     "metadata": {},
     "output_type": "display_data"
    },
    {
     "name": "stdout",
     "output_type": "stream",
     "text": [
      "Show the frequencies of the missing values\n"
     ]
    },
    {
     "data": {
      "text/plain": [
       "\n",
       "FALSE  TRUE \n",
       "37656   198 "
      ]
     },
     "metadata": {},
     "output_type": "display_data"
    },
    {
     "name": "stdout",
     "output_type": "stream",
     "text": [
      "Show the columns in which missing values are contained\n"
     ]
    },
    {
     "data": {
      "text/html": [
       "<ol class=list-inline>\n",
       "\t<li>'customerID'</li>\n",
       "\t<li>'gender'</li>\n",
       "\t<li>'tenure'</li>\n",
       "\t<li>'PhoneService'</li>\n",
       "\t<li>'MultipleProducts'</li>\n",
       "\t<li>'InternetService'</li>\n",
       "\t<li>'OnlineSecurity'</li>\n",
       "\t<li>'OnlineBackup'</li>\n",
       "\t<li>'DeviceProtection'</li>\n",
       "\t<li>'TechSupport'</li>\n",
       "\t<li>'UsingSocial'</li>\n",
       "\t<li>'SupportMovies'</li>\n",
       "\t<li>'TimeUsingProduct'</li>\n",
       "\t<li>'PaperlessBilling'</li>\n",
       "\t<li>'PaymentMethod'</li>\n",
       "\t<li>'MonthlyCharges'</li>\n",
       "\t<li>'WorkaroundIntensity'</li>\n",
       "\t<li>'IsLeadUser'</li>\n",
       "</ol>\n"
      ],
      "text/latex": [
       "\\begin{enumerate*}\n",
       "\\item 'customerID'\n",
       "\\item 'gender'\n",
       "\\item 'tenure'\n",
       "\\item 'PhoneService'\n",
       "\\item 'MultipleProducts'\n",
       "\\item 'InternetService'\n",
       "\\item 'OnlineSecurity'\n",
       "\\item 'OnlineBackup'\n",
       "\\item 'DeviceProtection'\n",
       "\\item 'TechSupport'\n",
       "\\item 'UsingSocial'\n",
       "\\item 'SupportMovies'\n",
       "\\item 'TimeUsingProduct'\n",
       "\\item 'PaperlessBilling'\n",
       "\\item 'PaymentMethod'\n",
       "\\item 'MonthlyCharges'\n",
       "\\item 'WorkaroundIntensity'\n",
       "\\item 'IsLeadUser'\n",
       "\\end{enumerate*}\n"
      ],
      "text/markdown": [
       "1. 'customerID'\n",
       "2. 'gender'\n",
       "3. 'tenure'\n",
       "4. 'PhoneService'\n",
       "5. 'MultipleProducts'\n",
       "6. 'InternetService'\n",
       "7. 'OnlineSecurity'\n",
       "8. 'OnlineBackup'\n",
       "9. 'DeviceProtection'\n",
       "10. 'TechSupport'\n",
       "11. 'UsingSocial'\n",
       "12. 'SupportMovies'\n",
       "13. 'TimeUsingProduct'\n",
       "14. 'PaperlessBilling'\n",
       "15. 'PaymentMethod'\n",
       "16. 'MonthlyCharges'\n",
       "17. 'WorkaroundIntensity'\n",
       "18. 'IsLeadUser'\n",
       "\n",
       "\n"
      ],
      "text/plain": [
       " [1] \"customerID\"          \"gender\"              \"tenure\"             \n",
       " [4] \"PhoneService\"        \"MultipleProducts\"    \"InternetService\"    \n",
       " [7] \"OnlineSecurity\"      \"OnlineBackup\"        \"DeviceProtection\"   \n",
       "[10] \"TechSupport\"         \"UsingSocial\"         \"SupportMovies\"      \n",
       "[13] \"TimeUsingProduct\"    \"PaperlessBilling\"    \"PaymentMethod\"      \n",
       "[16] \"MonthlyCharges\"      \"WorkaroundIntensity\" \"IsLeadUser\"         "
      ]
     },
     "metadata": {},
     "output_type": "display_data"
    },
    {
     "name": "stdout",
     "output_type": "stream",
     "text": [
      "Show all columns with the number of missing values\n"
     ]
    },
    {
     "data": {
      "text/html": [
       "<dl class=dl-horizontal>\n",
       "\t<dt>customerID</dt>\n",
       "\t\t<dd>11</dd>\n",
       "\t<dt>gender</dt>\n",
       "\t\t<dd>11</dd>\n",
       "\t<dt>tenure</dt>\n",
       "\t\t<dd>11</dd>\n",
       "\t<dt>PhoneService</dt>\n",
       "\t\t<dd>11</dd>\n",
       "\t<dt>MultipleProducts</dt>\n",
       "\t\t<dd>11</dd>\n",
       "\t<dt>InternetService</dt>\n",
       "\t\t<dd>11</dd>\n",
       "\t<dt>OnlineSecurity</dt>\n",
       "\t\t<dd>11</dd>\n",
       "\t<dt>OnlineBackup</dt>\n",
       "\t\t<dd>11</dd>\n",
       "\t<dt>DeviceProtection</dt>\n",
       "\t\t<dd>11</dd>\n",
       "\t<dt>TechSupport</dt>\n",
       "\t\t<dd>11</dd>\n",
       "\t<dt>UsingSocial</dt>\n",
       "\t\t<dd>11</dd>\n",
       "\t<dt>SupportMovies</dt>\n",
       "\t\t<dd>11</dd>\n",
       "\t<dt>TimeUsingProduct</dt>\n",
       "\t\t<dd>11</dd>\n",
       "\t<dt>PaperlessBilling</dt>\n",
       "\t\t<dd>11</dd>\n",
       "\t<dt>PaymentMethod</dt>\n",
       "\t\t<dd>11</dd>\n",
       "\t<dt>MonthlyCharges</dt>\n",
       "\t\t<dd>11</dd>\n",
       "\t<dt>WorkaroundIntensity</dt>\n",
       "\t\t<dd>11</dd>\n",
       "\t<dt>IsLeadUser</dt>\n",
       "\t\t<dd>11</dd>\n",
       "</dl>\n"
      ],
      "text/latex": [
       "\\begin{description*}\n",
       "\\item[customerID] 11\n",
       "\\item[gender] 11\n",
       "\\item[tenure] 11\n",
       "\\item[PhoneService] 11\n",
       "\\item[MultipleProducts] 11\n",
       "\\item[InternetService] 11\n",
       "\\item[OnlineSecurity] 11\n",
       "\\item[OnlineBackup] 11\n",
       "\\item[DeviceProtection] 11\n",
       "\\item[TechSupport] 11\n",
       "\\item[UsingSocial] 11\n",
       "\\item[SupportMovies] 11\n",
       "\\item[TimeUsingProduct] 11\n",
       "\\item[PaperlessBilling] 11\n",
       "\\item[PaymentMethod] 11\n",
       "\\item[MonthlyCharges] 11\n",
       "\\item[WorkaroundIntensity] 11\n",
       "\\item[IsLeadUser] 11\n",
       "\\end{description*}\n"
      ],
      "text/markdown": [
       "customerID\n",
       ":   11gender\n",
       ":   11tenure\n",
       ":   11PhoneService\n",
       ":   11MultipleProducts\n",
       ":   11InternetService\n",
       ":   11OnlineSecurity\n",
       ":   11OnlineBackup\n",
       ":   11DeviceProtection\n",
       ":   11TechSupport\n",
       ":   11UsingSocial\n",
       ":   11SupportMovies\n",
       ":   11TimeUsingProduct\n",
       ":   11PaperlessBilling\n",
       ":   11PaymentMethod\n",
       ":   11MonthlyCharges\n",
       ":   11WorkaroundIntensity\n",
       ":   11IsLeadUser\n",
       ":   11\n",
       "\n"
      ],
      "text/plain": [
       "         customerID              gender              tenure        PhoneService \n",
       "                 11                  11                  11                  11 \n",
       "   MultipleProducts     InternetService      OnlineSecurity        OnlineBackup \n",
       "                 11                  11                  11                  11 \n",
       "   DeviceProtection         TechSupport         UsingSocial       SupportMovies \n",
       "                 11                  11                  11                  11 \n",
       "   TimeUsingProduct    PaperlessBilling       PaymentMethod      MonthlyCharges \n",
       "                 11                  11                  11                  11 \n",
       "WorkaroundIntensity          IsLeadUser \n",
       "                 11                  11 "
      ]
     },
     "metadata": {},
     "output_type": "display_data"
    },
    {
     "name": "stdout",
     "output_type": "stream",
     "text": [
      "In which rows are the missing values in column customerID\n",
      " [1]  143  213  274  323  397  972 1128 1283 1536 1990 2009\n"
     ]
    },
    {
     "data": {
      "text/html": [
       "<table>\n",
       "<thead><tr><th></th><th scope=col>customerID</th><th scope=col>gender</th><th scope=col>tenure</th><th scope=col>PhoneService</th><th scope=col>MultipleProducts</th><th scope=col>InternetService</th><th scope=col>OnlineSecurity</th><th scope=col>OnlineBackup</th><th scope=col>DeviceProtection</th><th scope=col>TechSupport</th><th scope=col>UsingSocial</th><th scope=col>SupportMovies</th><th scope=col>TimeUsingProduct</th><th scope=col>PaperlessBilling</th><th scope=col>PaymentMethod</th><th scope=col>MonthlyCharges</th><th scope=col>WorkaroundIntensity</th><th scope=col>IsLeadUser</th></tr></thead>\n",
       "<tbody>\n",
       "\t<tr><th scope=row>143</th><td>NA</td><td>NA</td><td>NA</td><td>NA</td><td>NA</td><td>NA</td><td>NA</td><td>NA</td><td>NA</td><td>NA</td><td>NA</td><td>NA</td><td>NA</td><td>NA</td><td>NA</td><td>NA</td><td>NA</td><td>NA</td></tr>\n",
       "\t<tr><th scope=row>213</th><td>NA</td><td>NA</td><td>NA</td><td>NA</td><td>NA</td><td>NA</td><td>NA</td><td>NA</td><td>NA</td><td>NA</td><td>NA</td><td>NA</td><td>NA</td><td>NA</td><td>NA</td><td>NA</td><td>NA</td><td>NA</td></tr>\n",
       "\t<tr><th scope=row>274</th><td>NA</td><td>NA</td><td>NA</td><td>NA</td><td>NA</td><td>NA</td><td>NA</td><td>NA</td><td>NA</td><td>NA</td><td>NA</td><td>NA</td><td>NA</td><td>NA</td><td>NA</td><td>NA</td><td>NA</td><td>NA</td></tr>\n",
       "\t<tr><th scope=row>323</th><td>NA</td><td>NA</td><td>NA</td><td>NA</td><td>NA</td><td>NA</td><td>NA</td><td>NA</td><td>NA</td><td>NA</td><td>NA</td><td>NA</td><td>NA</td><td>NA</td><td>NA</td><td>NA</td><td>NA</td><td>NA</td></tr>\n",
       "\t<tr><th scope=row>397</th><td>NA</td><td>NA</td><td>NA</td><td>NA</td><td>NA</td><td>NA</td><td>NA</td><td>NA</td><td>NA</td><td>NA</td><td>NA</td><td>NA</td><td>NA</td><td>NA</td><td>NA</td><td>NA</td><td>NA</td><td>NA</td></tr>\n",
       "\t<tr><th scope=row>972</th><td>NA</td><td>NA</td><td>NA</td><td>NA</td><td>NA</td><td>NA</td><td>NA</td><td>NA</td><td>NA</td><td>NA</td><td>NA</td><td>NA</td><td>NA</td><td>NA</td><td>NA</td><td>NA</td><td>NA</td><td>NA</td></tr>\n",
       "\t<tr><th scope=row>1128</th><td>NA</td><td>NA</td><td>NA</td><td>NA</td><td>NA</td><td>NA</td><td>NA</td><td>NA</td><td>NA</td><td>NA</td><td>NA</td><td>NA</td><td>NA</td><td>NA</td><td>NA</td><td>NA</td><td>NA</td><td>NA</td></tr>\n",
       "\t<tr><th scope=row>1283</th><td>NA</td><td>NA</td><td>NA</td><td>NA</td><td>NA</td><td>NA</td><td>NA</td><td>NA</td><td>NA</td><td>NA</td><td>NA</td><td>NA</td><td>NA</td><td>NA</td><td>NA</td><td>NA</td><td>NA</td><td>NA</td></tr>\n",
       "\t<tr><th scope=row>1536</th><td>NA</td><td>NA</td><td>NA</td><td>NA</td><td>NA</td><td>NA</td><td>NA</td><td>NA</td><td>NA</td><td>NA</td><td>NA</td><td>NA</td><td>NA</td><td>NA</td><td>NA</td><td>NA</td><td>NA</td><td>NA</td></tr>\n",
       "\t<tr><th scope=row>1990</th><td>NA</td><td>NA</td><td>NA</td><td>NA</td><td>NA</td><td>NA</td><td>NA</td><td>NA</td><td>NA</td><td>NA</td><td>NA</td><td>NA</td><td>NA</td><td>NA</td><td>NA</td><td>NA</td><td>NA</td><td>NA</td></tr>\n",
       "\t<tr><th scope=row>2009</th><td>NA</td><td>NA</td><td>NA</td><td>NA</td><td>NA</td><td>NA</td><td>NA</td><td>NA</td><td>NA</td><td>NA</td><td>NA</td><td>NA</td><td>NA</td><td>NA</td><td>NA</td><td>NA</td><td>NA</td><td>NA</td></tr>\n",
       "</tbody>\n",
       "</table>\n"
      ],
      "text/latex": [
       "\\begin{tabular}{r|llllllllllllllllll}\n",
       "  & customerID & gender & tenure & PhoneService & MultipleProducts & InternetService & OnlineSecurity & OnlineBackup & DeviceProtection & TechSupport & UsingSocial & SupportMovies & TimeUsingProduct & PaperlessBilling & PaymentMethod & MonthlyCharges & WorkaroundIntensity & IsLeadUser\\\\\n",
       "\\hline\n",
       "\t143 & NA & NA & NA & NA & NA & NA & NA & NA & NA & NA & NA & NA & NA & NA & NA & NA & NA & NA\\\\\n",
       "\t213 & NA & NA & NA & NA & NA & NA & NA & NA & NA & NA & NA & NA & NA & NA & NA & NA & NA & NA\\\\\n",
       "\t274 & NA & NA & NA & NA & NA & NA & NA & NA & NA & NA & NA & NA & NA & NA & NA & NA & NA & NA\\\\\n",
       "\t323 & NA & NA & NA & NA & NA & NA & NA & NA & NA & NA & NA & NA & NA & NA & NA & NA & NA & NA\\\\\n",
       "\t397 & NA & NA & NA & NA & NA & NA & NA & NA & NA & NA & NA & NA & NA & NA & NA & NA & NA & NA\\\\\n",
       "\t972 & NA & NA & NA & NA & NA & NA & NA & NA & NA & NA & NA & NA & NA & NA & NA & NA & NA & NA\\\\\n",
       "\t1128 & NA & NA & NA & NA & NA & NA & NA & NA & NA & NA & NA & NA & NA & NA & NA & NA & NA & NA\\\\\n",
       "\t1283 & NA & NA & NA & NA & NA & NA & NA & NA & NA & NA & NA & NA & NA & NA & NA & NA & NA & NA\\\\\n",
       "\t1536 & NA & NA & NA & NA & NA & NA & NA & NA & NA & NA & NA & NA & NA & NA & NA & NA & NA & NA\\\\\n",
       "\t1990 & NA & NA & NA & NA & NA & NA & NA & NA & NA & NA & NA & NA & NA & NA & NA & NA & NA & NA\\\\\n",
       "\t2009 & NA & NA & NA & NA & NA & NA & NA & NA & NA & NA & NA & NA & NA & NA & NA & NA & NA & NA\\\\\n",
       "\\end{tabular}\n"
      ],
      "text/markdown": [
       "\n",
       "| <!--/--> | customerID | gender | tenure | PhoneService | MultipleProducts | InternetService | OnlineSecurity | OnlineBackup | DeviceProtection | TechSupport | UsingSocial | SupportMovies | TimeUsingProduct | PaperlessBilling | PaymentMethod | MonthlyCharges | WorkaroundIntensity | IsLeadUser |\n",
       "|---|---|---|---|---|---|---|---|---|---|---|---|---|---|---|---|---|---|---|\n",
       "| 143 | NA | NA | NA | NA | NA | NA | NA | NA | NA | NA | NA | NA | NA | NA | NA | NA | NA | NA |\n",
       "| 213 | NA | NA | NA | NA | NA | NA | NA | NA | NA | NA | NA | NA | NA | NA | NA | NA | NA | NA |\n",
       "| 274 | NA | NA | NA | NA | NA | NA | NA | NA | NA | NA | NA | NA | NA | NA | NA | NA | NA | NA |\n",
       "| 323 | NA | NA | NA | NA | NA | NA | NA | NA | NA | NA | NA | NA | NA | NA | NA | NA | NA | NA |\n",
       "| 397 | NA | NA | NA | NA | NA | NA | NA | NA | NA | NA | NA | NA | NA | NA | NA | NA | NA | NA |\n",
       "| 972 | NA | NA | NA | NA | NA | NA | NA | NA | NA | NA | NA | NA | NA | NA | NA | NA | NA | NA |\n",
       "| 1128 | NA | NA | NA | NA | NA | NA | NA | NA | NA | NA | NA | NA | NA | NA | NA | NA | NA | NA |\n",
       "| 1283 | NA | NA | NA | NA | NA | NA | NA | NA | NA | NA | NA | NA | NA | NA | NA | NA | NA | NA |\n",
       "| 1536 | NA | NA | NA | NA | NA | NA | NA | NA | NA | NA | NA | NA | NA | NA | NA | NA | NA | NA |\n",
       "| 1990 | NA | NA | NA | NA | NA | NA | NA | NA | NA | NA | NA | NA | NA | NA | NA | NA | NA | NA |\n",
       "| 2009 | NA | NA | NA | NA | NA | NA | NA | NA | NA | NA | NA | NA | NA | NA | NA | NA | NA | NA |\n",
       "\n"
      ],
      "text/plain": [
       "     customerID gender tenure PhoneService MultipleProducts InternetService\n",
       "143  NA         NA     NA     NA           NA               NA             \n",
       "213  NA         NA     NA     NA           NA               NA             \n",
       "274  NA         NA     NA     NA           NA               NA             \n",
       "323  NA         NA     NA     NA           NA               NA             \n",
       "397  NA         NA     NA     NA           NA               NA             \n",
       "972  NA         NA     NA     NA           NA               NA             \n",
       "1128 NA         NA     NA     NA           NA               NA             \n",
       "1283 NA         NA     NA     NA           NA               NA             \n",
       "1536 NA         NA     NA     NA           NA               NA             \n",
       "1990 NA         NA     NA     NA           NA               NA             \n",
       "2009 NA         NA     NA     NA           NA               NA             \n",
       "     OnlineSecurity OnlineBackup DeviceProtection TechSupport UsingSocial\n",
       "143  NA             NA           NA               NA          NA         \n",
       "213  NA             NA           NA               NA          NA         \n",
       "274  NA             NA           NA               NA          NA         \n",
       "323  NA             NA           NA               NA          NA         \n",
       "397  NA             NA           NA               NA          NA         \n",
       "972  NA             NA           NA               NA          NA         \n",
       "1128 NA             NA           NA               NA          NA         \n",
       "1283 NA             NA           NA               NA          NA         \n",
       "1536 NA             NA           NA               NA          NA         \n",
       "1990 NA             NA           NA               NA          NA         \n",
       "2009 NA             NA           NA               NA          NA         \n",
       "     SupportMovies TimeUsingProduct PaperlessBilling PaymentMethod\n",
       "143  NA            NA               NA               NA           \n",
       "213  NA            NA               NA               NA           \n",
       "274  NA            NA               NA               NA           \n",
       "323  NA            NA               NA               NA           \n",
       "397  NA            NA               NA               NA           \n",
       "972  NA            NA               NA               NA           \n",
       "1128 NA            NA               NA               NA           \n",
       "1283 NA            NA               NA               NA           \n",
       "1536 NA            NA               NA               NA           \n",
       "1990 NA            NA               NA               NA           \n",
       "2009 NA            NA               NA               NA           \n",
       "     MonthlyCharges WorkaroundIntensity IsLeadUser\n",
       "143  NA             NA                  NA        \n",
       "213  NA             NA                  NA        \n",
       "274  NA             NA                  NA        \n",
       "323  NA             NA                  NA        \n",
       "397  NA             NA                  NA        \n",
       "972  NA             NA                  NA        \n",
       "1128 NA             NA                  NA        \n",
       "1283 NA             NA                  NA        \n",
       "1536 NA             NA                  NA        \n",
       "1990 NA             NA                  NA        \n",
       "2009 NA             NA                  NA        "
      ]
     },
     "metadata": {},
     "output_type": "display_data"
    }
   ],
   "source": [
    "#check missing values\n",
    "\n",
    "cat(\"Exists missing values?\\n\")\n",
    "any(is.na(data))\n",
    "\n",
    "cat(\"Show the frequencies of the missing values\\n\")\n",
    "table(is.na(data))\n",
    "\n",
    "cat(\"Show the columns in which missing values are contained\\n\")\n",
    "colnames(data)[colSums(is.na(data)) > 0]\n",
    "\n",
    "cat(\"Show all columns with the number of missing values\\n\")\n",
    "colSums(is.na(data))\n",
    "\n",
    "cat(\"In which rows are the missing values in column customerID\\n\")\n",
    "mno <- which(is.na(data[,'customerID']))\n",
    "print(mno)\n",
    "data[mno,]"
   ]
  },
  {
   "cell_type": "markdown",
   "metadata": {},
   "source": [
    "Since always all values are NA, these missing values should simply be dropped. We still impute them because its demanded."
   ]
  },
  {
   "cell_type": "code",
   "execution_count": 298,
   "metadata": {},
   "outputs": [
    {
     "name": "stdout",
     "output_type": "stream",
     "text": [
      "Handle missing values\n"
     ]
    },
    {
     "name": "stderr",
     "output_type": "stream",
     "text": [
      "Warning message:\n",
      "\"Dropping 11 rows with missing values\"Warning message:\n",
      "\"Dropping 11 rows with missing values\""
     ]
    },
    {
     "name": "stdout",
     "output_type": "stream",
     "text": [
      "#------Print the recipe object\n"
     ]
    },
    {
     "data": {
      "text/plain": [
       "Data Recipe\n",
       "\n",
       "Inputs:\n",
       "\n",
       "      role #variables\n",
       "   outcome          1\n",
       " predictor         17\n",
       "\n",
       "Training data contained 2103 data points and 11 incomplete rows. \n",
       "\n",
       "Operations:\n",
       "\n",
       "Mode Imputation for customerID, gender, ... [trained]\n",
       "K-nearest neighbor imputation for gender, tenure, PhoneService, ... [trained]"
      ]
     },
     "metadata": {},
     "output_type": "display_data"
    },
    {
     "name": "stdout",
     "output_type": "stream",
     "text": [
      "#------Print the according role of every variable\n"
     ]
    },
    {
     "data": {
      "text/html": [
       "<table>\n",
       "<thead><tr><th scope=col>variable</th><th scope=col>type</th><th scope=col>role</th><th scope=col>source</th></tr></thead>\n",
       "<tbody>\n",
       "\t<tr><td>customerID         </td><td>nominal            </td><td>predictor          </td><td>original           </td></tr>\n",
       "\t<tr><td>gender             </td><td>nominal            </td><td>predictor          </td><td>original           </td></tr>\n",
       "\t<tr><td>tenure             </td><td>numeric            </td><td>predictor          </td><td>original           </td></tr>\n",
       "\t<tr><td>PhoneService       </td><td>nominal            </td><td>predictor          </td><td>original           </td></tr>\n",
       "\t<tr><td>MultipleProducts   </td><td>nominal            </td><td>predictor          </td><td>original           </td></tr>\n",
       "\t<tr><td>InternetService    </td><td>nominal            </td><td>predictor          </td><td>original           </td></tr>\n",
       "\t<tr><td>OnlineSecurity     </td><td>nominal            </td><td>predictor          </td><td>original           </td></tr>\n",
       "\t<tr><td>OnlineBackup       </td><td>nominal            </td><td>predictor          </td><td>original           </td></tr>\n",
       "\t<tr><td>DeviceProtection   </td><td>nominal            </td><td>predictor          </td><td>original           </td></tr>\n",
       "\t<tr><td>TechSupport        </td><td>nominal            </td><td>predictor          </td><td>original           </td></tr>\n",
       "\t<tr><td>UsingSocial        </td><td>nominal            </td><td>predictor          </td><td>original           </td></tr>\n",
       "\t<tr><td>SupportMovies      </td><td>nominal            </td><td>predictor          </td><td>original           </td></tr>\n",
       "\t<tr><td>TimeUsingProduct   </td><td>nominal            </td><td>predictor          </td><td>original           </td></tr>\n",
       "\t<tr><td>PaperlessBilling   </td><td>nominal            </td><td>predictor          </td><td>original           </td></tr>\n",
       "\t<tr><td>PaymentMethod      </td><td>nominal            </td><td>predictor          </td><td>original           </td></tr>\n",
       "\t<tr><td>MonthlyCharges     </td><td>numeric            </td><td>predictor          </td><td>original           </td></tr>\n",
       "\t<tr><td>WorkaroundIntensity</td><td>numeric            </td><td>predictor          </td><td>original           </td></tr>\n",
       "\t<tr><td>IsLeadUser         </td><td>nominal            </td><td>outcome            </td><td>original           </td></tr>\n",
       "</tbody>\n",
       "</table>\n"
      ],
      "text/latex": [
       "\\begin{tabular}{r|llll}\n",
       " variable & type & role & source\\\\\n",
       "\\hline\n",
       "\t customerID          & nominal             & predictor           & original           \\\\\n",
       "\t gender              & nominal             & predictor           & original           \\\\\n",
       "\t tenure              & numeric             & predictor           & original           \\\\\n",
       "\t PhoneService        & nominal             & predictor           & original           \\\\\n",
       "\t MultipleProducts    & nominal             & predictor           & original           \\\\\n",
       "\t InternetService     & nominal             & predictor           & original           \\\\\n",
       "\t OnlineSecurity      & nominal             & predictor           & original           \\\\\n",
       "\t OnlineBackup        & nominal             & predictor           & original           \\\\\n",
       "\t DeviceProtection    & nominal             & predictor           & original           \\\\\n",
       "\t TechSupport         & nominal             & predictor           & original           \\\\\n",
       "\t UsingSocial         & nominal             & predictor           & original           \\\\\n",
       "\t SupportMovies       & nominal             & predictor           & original           \\\\\n",
       "\t TimeUsingProduct    & nominal             & predictor           & original           \\\\\n",
       "\t PaperlessBilling    & nominal             & predictor           & original           \\\\\n",
       "\t PaymentMethod       & nominal             & predictor           & original           \\\\\n",
       "\t MonthlyCharges      & numeric             & predictor           & original           \\\\\n",
       "\t WorkaroundIntensity & numeric             & predictor           & original           \\\\\n",
       "\t IsLeadUser          & nominal             & outcome             & original           \\\\\n",
       "\\end{tabular}\n"
      ],
      "text/markdown": [
       "\n",
       "| variable | type | role | source |\n",
       "|---|---|---|---|\n",
       "| customerID          | nominal             | predictor           | original            |\n",
       "| gender              | nominal             | predictor           | original            |\n",
       "| tenure              | numeric             | predictor           | original            |\n",
       "| PhoneService        | nominal             | predictor           | original            |\n",
       "| MultipleProducts    | nominal             | predictor           | original            |\n",
       "| InternetService     | nominal             | predictor           | original            |\n",
       "| OnlineSecurity      | nominal             | predictor           | original            |\n",
       "| OnlineBackup        | nominal             | predictor           | original            |\n",
       "| DeviceProtection    | nominal             | predictor           | original            |\n",
       "| TechSupport         | nominal             | predictor           | original            |\n",
       "| UsingSocial         | nominal             | predictor           | original            |\n",
       "| SupportMovies       | nominal             | predictor           | original            |\n",
       "| TimeUsingProduct    | nominal             | predictor           | original            |\n",
       "| PaperlessBilling    | nominal             | predictor           | original            |\n",
       "| PaymentMethod       | nominal             | predictor           | original            |\n",
       "| MonthlyCharges      | numeric             | predictor           | original            |\n",
       "| WorkaroundIntensity | numeric             | predictor           | original            |\n",
       "| IsLeadUser          | nominal             | outcome             | original            |\n",
       "\n"
      ],
      "text/plain": [
       "   variable            type    role      source  \n",
       "1  customerID          nominal predictor original\n",
       "2  gender              nominal predictor original\n",
       "3  tenure              numeric predictor original\n",
       "4  PhoneService        nominal predictor original\n",
       "5  MultipleProducts    nominal predictor original\n",
       "6  InternetService     nominal predictor original\n",
       "7  OnlineSecurity      nominal predictor original\n",
       "8  OnlineBackup        nominal predictor original\n",
       "9  DeviceProtection    nominal predictor original\n",
       "10 TechSupport         nominal predictor original\n",
       "11 UsingSocial         nominal predictor original\n",
       "12 SupportMovies       nominal predictor original\n",
       "13 TimeUsingProduct    nominal predictor original\n",
       "14 PaperlessBilling    nominal predictor original\n",
       "15 PaymentMethod       nominal predictor original\n",
       "16 MonthlyCharges      numeric predictor original\n",
       "17 WorkaroundIntensity numeric predictor original\n",
       "18 IsLeadUser          nominal outcome   original"
      ]
     },
     "metadata": {},
     "output_type": "display_data"
    },
    {
     "name": "stdout",
     "output_type": "stream",
     "text": [
      "Observations: 2,103\n",
      "Variables: 18\n",
      "$ customerID          <fct> 3668-QPYBK, 9237-HQITU, 9305-CDSKC, 7892-POOKP,...\n",
      "$ gender              <fct> Male, Female, Female, Female, Male, Female, Fem...\n",
      "$ tenure              <int> 2, 2, 8, 28, 49, 69, 10, 1, 1, 47, 1, 17, 5, 46...\n",
      "$ PhoneService        <fct> Yes, Yes, Yes, Yes, Yes, Yes, Yes, No, Yes, Yes...\n",
      "$ MultipleProducts    <fct> No, No, Yes, Yes, Yes, Yes, No, No phone servic...\n",
      "$ InternetService     <fct> DSL, Fiber optic, Fiber optic, Fiber optic, Fib...\n",
      "$ OnlineSecurity      <fct> Yes, No, No, No, No, Yes, No, No, No internet s...\n",
      "$ OnlineBackup        <fct> Yes, No, No, No, Yes, Yes, No, No, No internet ...\n",
      "$ DeviceProtection    <fct> No, No, Yes, Yes, Yes, Yes, Yes, Yes, No intern...\n",
      "$ TechSupport         <fct> No, No, No, Yes, No, Yes, Yes, No, No internet ...\n",
      "$ UsingSocial         <fct> No, No, Yes, Yes, Yes, Yes, No, No, No internet...\n",
      "$ SupportMovies       <fct> No, No, Yes, Yes, Yes, Yes, No, Yes, No interne...\n",
      "$ TimeUsingProduct    <fct> Month-to-month, Month-to-month, Month-to-month,...\n",
      "$ PaperlessBilling    <fct> Yes, Yes, Yes, Yes, Yes, No, No, Yes, No, Yes, ...\n",
      "$ PaymentMethod       <fct> Mailed check, Electronic check, Electronic chec...\n",
      "$ MonthlyCharges      <dbl> 53.85, 70.70, 99.65, 104.80, 103.70, 113.25, 55...\n",
      "$ WorkaroundIntensity <dbl> 108.15, 151.65, 820.50, 3046.05, 5036.30, 7895....\n",
      "$ IsLeadUser          <fct> No, No, No, No, No, Yes, No, No, No, No, No, No...\n"
     ]
    }
   ],
   "source": [
    "cat(\"Handle missing values\\n\")\n",
    "#Create the formula\n",
    "usedFormula <- as.formula(\"IsLeadUser ~ .\")\n",
    "\n",
    "# Create recipe\n",
    "recipe_obj <- recipe(usedFormula, data = data) %>%\n",
    "  step_modeimpute(all_nominal()) %>%                      #Impute nominal missing values\n",
    "  step_knnimpute(all_predictors(), neighbors = 3) %>%     #Impute numerical missing values\n",
    "  prep(data = data)\n",
    "\n",
    "cat(\"#------Print the recipe object\\n\")\n",
    "recipe_obj\n",
    "\n",
    "cat(\"#------Print the according role of every variable\\n\")\n",
    "summary(recipe_obj)\n",
    "\n",
    "#Apply recipe\n",
    "data <- bake(recipe_obj, new_data = data)\n",
    "\n",
    "glimpse(data)"
   ]
  },
  {
   "cell_type": "code",
   "execution_count": 299,
   "metadata": {},
   "outputs": [
    {
     "name": "stdout",
     "output_type": "stream",
     "text": [
      "Exists missing values?\n"
     ]
    },
    {
     "data": {
      "text/html": [
       "FALSE"
      ],
      "text/latex": [
       "FALSE"
      ],
      "text/markdown": [
       "FALSE"
      ],
      "text/plain": [
       "[1] FALSE"
      ]
     },
     "metadata": {},
     "output_type": "display_data"
    }
   ],
   "source": [
    "cat(\"Exists missing values?\\n\")\n",
    "any(is.na(data))"
   ]
  },
  {
   "cell_type": "code",
   "execution_count": 300,
   "metadata": {},
   "outputs": [],
   "source": [
    "#next handle outliers\n",
    "\n",
    "data <- handleOutlier(data,\"imputation\")"
   ]
  },
  {
   "cell_type": "code",
   "execution_count": 301,
   "metadata": {},
   "outputs": [
    {
     "data": {
      "text/plain": [
       "Data Recipe\n",
       "\n",
       "Inputs:\n",
       "\n",
       "      role #variables\n",
       "   outcome          1\n",
       " predictor         16\n",
       "\n",
       "Training data contained 2103 data points and no missing data.\n",
       "\n",
       "Operations:\n",
       "\n",
       "Dummy variables from gender, PhoneService, MultipleProducts, ... [trained]"
      ]
     },
     "metadata": {},
     "output_type": "display_data"
    },
    {
     "name": "stdout",
     "output_type": "stream",
     "text": [
      "Observations: 2,103\n",
      "Variables: 41\n",
      "$ tenure                                  <dbl> 13, 13, 8, 28, 13, 13, 10, ...\n",
      "$ MonthlyCharges                          <dbl> 80.10, 70.70, 80.10, 80.10,...\n",
      "$ WorkaroundIntensity                     <dbl> 918.60, 918.60, 820.50, 304...\n",
      "$ IsLeadUser                              <fct> No, No, No, No, No, Yes, No...\n",
      "$ gender_Female                           <dbl> 0, 1, 1, 1, 0, 1, 1, 0, 0, ...\n",
      "$ gender_Male                             <dbl> 1, 0, 0, 0, 1, 0, 0, 1, 1, ...\n",
      "$ PhoneService_No                         <dbl> 0, 0, 0, 0, 0, 0, 0, 1, 0, ...\n",
      "$ PhoneService_Yes                        <dbl> 1, 1, 1, 1, 1, 1, 1, 0, 1, ...\n",
      "$ MultipleProducts_No                     <dbl> 1, 1, 0, 0, 0, 0, 1, 0, 1, ...\n",
      "$ MultipleProducts_No.phone.service       <dbl> 0, 0, 0, 0, 0, 0, 0, 1, 0, ...\n",
      "$ MultipleProducts_Yes                    <dbl> 0, 0, 1, 1, 1, 1, 0, 0, 0, ...\n",
      "$ InternetService_DSL                     <dbl> 1, 0, 0, 0, 0, 0, 1, 1, 0, ...\n",
      "$ InternetService_Fiber.optic             <dbl> 0, 1, 1, 1, 1, 1, 0, 0, 0, ...\n",
      "$ InternetService_No                      <dbl> 0, 0, 0, 0, 0, 0, 0, 0, 1, ...\n",
      "$ OnlineSecurity_No                       <dbl> 0, 1, 1, 1, 1, 0, 1, 1, 0, ...\n",
      "$ OnlineSecurity_No.internet.service      <dbl> 0, 0, 0, 0, 0, 0, 0, 0, 1, ...\n",
      "$ OnlineSecurity_Yes                      <dbl> 1, 0, 0, 0, 0, 1, 0, 0, 0, ...\n",
      "$ OnlineBackup_No                         <dbl> 0, 1, 1, 1, 0, 0, 1, 1, 0, ...\n",
      "$ OnlineBackup_No.internet.service        <dbl> 0, 0, 0, 0, 0, 0, 0, 0, 1, ...\n",
      "$ OnlineBackup_Yes                        <dbl> 1, 0, 0, 0, 1, 1, 0, 0, 0, ...\n",
      "$ DeviceProtection_No                     <dbl> 1, 1, 0, 0, 0, 0, 0, 0, 0, ...\n",
      "$ DeviceProtection_No.internet.service    <dbl> 0, 0, 0, 0, 0, 0, 0, 0, 1, ...\n",
      "$ DeviceProtection_Yes                    <dbl> 0, 0, 1, 1, 1, 1, 1, 1, 0, ...\n",
      "$ TechSupport_No                          <dbl> 1, 1, 1, 0, 1, 0, 0, 1, 0, ...\n",
      "$ TechSupport_No.internet.service         <dbl> 0, 0, 0, 0, 0, 0, 0, 0, 1, ...\n",
      "$ TechSupport_Yes                         <dbl> 0, 0, 0, 1, 0, 1, 1, 0, 0, ...\n",
      "$ UsingSocial_No                          <dbl> 1, 1, 0, 0, 0, 0, 1, 1, 0, ...\n",
      "$ UsingSocial_No.internet.service         <dbl> 0, 0, 0, 0, 0, 0, 0, 0, 1, ...\n",
      "$ UsingSocial_Yes                         <dbl> 0, 0, 1, 1, 1, 1, 0, 0, 0, ...\n",
      "$ SupportMovies_No                        <dbl> 1, 1, 0, 0, 0, 0, 1, 0, 0, ...\n",
      "$ SupportMovies_No.internet.service       <dbl> 0, 0, 0, 0, 0, 0, 0, 0, 1, ...\n",
      "$ SupportMovies_Yes                       <dbl> 0, 0, 1, 1, 1, 1, 0, 1, 0, ...\n",
      "$ TimeUsingProduct_Month.to.month         <dbl> 1, 1, 1, 1, 1, 0, 1, 1, 1, ...\n",
      "$ TimeUsingProduct_One.year               <dbl> 0, 0, 0, 0, 0, 0, 0, 0, 0, ...\n",
      "$ TimeUsingProduct_Two.year               <dbl> 0, 0, 0, 0, 0, 1, 0, 0, 0, ...\n",
      "$ PaperlessBilling_No                     <dbl> 0, 0, 0, 0, 0, 1, 1, 0, 1, ...\n",
      "$ PaperlessBilling_Yes                    <dbl> 1, 1, 1, 1, 1, 0, 0, 1, 0, ...\n",
      "$ PaymentMethod_Bank.transfer..automatic. <dbl> 0, 0, 0, 0, 1, 0, 0, 0, 0, ...\n",
      "$ PaymentMethod_Credit.card..automatic.   <dbl> 0, 0, 0, 0, 0, 1, 1, 0, 0, ...\n",
      "$ PaymentMethod_Electronic.check          <dbl> 0, 1, 1, 1, 0, 0, 0, 1, 0, ...\n",
      "$ PaymentMethod_Mailed.check              <dbl> 1, 0, 0, 0, 0, 0, 0, 0, 1, ...\n"
     ]
    }
   ],
   "source": [
    "#next handle qualitative data\n",
    "#drop customerID column\n",
    "var.out.bool <- !names(data) %in% \"customerID\"\n",
    "#simply reassign data:\n",
    "data <- data[,var.out.bool, drop = FALSE]\n",
    "#Create recipe\n",
    "rec_obj <- recipe(IsLeadUser ~ ., data = data) %>%\n",
    "  step_dummy(all_nominal(), -all_outcomes(), one_hot=T) %>%             # categorical in numeric\n",
    "  prep(data = data)                                   # prepare the recipe\n",
    "\n",
    "rec_obj\n",
    "\n",
    "#Bake the recipe and apply to our data\n",
    "data <- bake(rec_obj, new_data = data) \n",
    "\n",
    "#Show\n",
    "glimpse(data)\n"
   ]
  },
  {
   "cell_type": "code",
   "execution_count": 302,
   "metadata": {},
   "outputs": [
    {
     "name": "stdout",
     "output_type": "stream",
     "text": [
      "Observations: 2,103\n",
      "Variables: 41\n",
      "$ tenure                                  <dbl> 13, 13, 8, 28, 13, 13, 10, ...\n",
      "$ MonthlyCharges                          <dbl> 80.10, 70.70, 80.10, 80.10,...\n",
      "$ WorkaroundIntensity                     <dbl> 918.60, 918.60, 820.50, 304...\n",
      "$ IsLeadUser                              <fct> No, No, No, No, No, Yes, No...\n",
      "$ gender_Female                           <fct> 0, 1, 1, 1, 0, 1, 1, 0, 0, ...\n",
      "$ gender_Male                             <fct> 1, 0, 0, 0, 1, 0, 0, 1, 1, ...\n",
      "$ PhoneService_No                         <fct> 0, 0, 0, 0, 0, 0, 0, 1, 0, ...\n",
      "$ PhoneService_Yes                        <fct> 1, 1, 1, 1, 1, 1, 1, 0, 1, ...\n",
      "$ MultipleProducts_No                     <fct> 1, 1, 0, 0, 0, 0, 1, 0, 1, ...\n",
      "$ MultipleProducts_No.phone.service       <fct> 0, 0, 0, 0, 0, 0, 0, 1, 0, ...\n",
      "$ MultipleProducts_Yes                    <fct> 0, 0, 1, 1, 1, 1, 0, 0, 0, ...\n",
      "$ InternetService_DSL                     <fct> 1, 0, 0, 0, 0, 0, 1, 1, 0, ...\n",
      "$ InternetService_Fiber.optic             <fct> 0, 1, 1, 1, 1, 1, 0, 0, 0, ...\n",
      "$ InternetService_No                      <fct> 0, 0, 0, 0, 0, 0, 0, 0, 1, ...\n",
      "$ OnlineSecurity_No                       <fct> 0, 1, 1, 1, 1, 0, 1, 1, 0, ...\n",
      "$ OnlineSecurity_No.internet.service      <fct> 0, 0, 0, 0, 0, 0, 0, 0, 1, ...\n",
      "$ OnlineSecurity_Yes                      <fct> 1, 0, 0, 0, 0, 1, 0, 0, 0, ...\n",
      "$ OnlineBackup_No                         <fct> 0, 1, 1, 1, 0, 0, 1, 1, 0, ...\n",
      "$ OnlineBackup_No.internet.service        <fct> 0, 0, 0, 0, 0, 0, 0, 0, 1, ...\n",
      "$ OnlineBackup_Yes                        <fct> 1, 0, 0, 0, 1, 1, 0, 0, 0, ...\n",
      "$ DeviceProtection_No                     <fct> 1, 1, 0, 0, 0, 0, 0, 0, 0, ...\n",
      "$ DeviceProtection_No.internet.service    <fct> 0, 0, 0, 0, 0, 0, 0, 0, 1, ...\n",
      "$ DeviceProtection_Yes                    <fct> 0, 0, 1, 1, 1, 1, 1, 1, 0, ...\n",
      "$ TechSupport_No                          <fct> 1, 1, 1, 0, 1, 0, 0, 1, 0, ...\n",
      "$ TechSupport_No.internet.service         <fct> 0, 0, 0, 0, 0, 0, 0, 0, 1, ...\n",
      "$ TechSupport_Yes                         <fct> 0, 0, 0, 1, 0, 1, 1, 0, 0, ...\n",
      "$ UsingSocial_No                          <fct> 1, 1, 0, 0, 0, 0, 1, 1, 0, ...\n",
      "$ UsingSocial_No.internet.service         <fct> 0, 0, 0, 0, 0, 0, 0, 0, 1, ...\n",
      "$ UsingSocial_Yes                         <fct> 0, 0, 1, 1, 1, 1, 0, 0, 0, ...\n",
      "$ SupportMovies_No                        <fct> 1, 1, 0, 0, 0, 0, 1, 0, 0, ...\n",
      "$ SupportMovies_No.internet.service       <fct> 0, 0, 0, 0, 0, 0, 0, 0, 1, ...\n",
      "$ SupportMovies_Yes                       <fct> 0, 0, 1, 1, 1, 1, 0, 1, 0, ...\n",
      "$ TimeUsingProduct_Month.to.month         <fct> 1, 1, 1, 1, 1, 0, 1, 1, 1, ...\n",
      "$ TimeUsingProduct_One.year               <fct> 0, 0, 0, 0, 0, 0, 0, 0, 0, ...\n",
      "$ TimeUsingProduct_Two.year               <fct> 0, 0, 0, 0, 0, 1, 0, 0, 0, ...\n",
      "$ PaperlessBilling_No                     <fct> 0, 0, 0, 0, 0, 1, 1, 0, 1, ...\n",
      "$ PaperlessBilling_Yes                    <fct> 1, 1, 1, 1, 1, 0, 0, 1, 0, ...\n",
      "$ PaymentMethod_Bank.transfer..automatic. <fct> 0, 0, 0, 0, 1, 0, 0, 0, 0, ...\n",
      "$ PaymentMethod_Credit.card..automatic.   <fct> 0, 0, 0, 0, 0, 1, 1, 0, 0, ...\n",
      "$ PaymentMethod_Electronic.check          <fct> 0, 1, 1, 1, 0, 0, 0, 1, 0, ...\n",
      "$ PaymentMethod_Mailed.check              <dbl> 1, 0, 0, 0, 0, 0, 0, 0, 1, ...\n"
     ]
    }
   ],
   "source": [
    "#convert new dbl to fct since one hot should b categorical\n",
    "data[4:40] <- lapply(data[4:40], factor)\n",
    "#Show\n",
    "glimpse(data)"
   ]
  },
  {
   "cell_type": "code",
   "execution_count": 303,
   "metadata": {},
   "outputs": [
    {
     "name": "stdout",
     "output_type": "stream",
     "text": [
      "Class frequencies before upsampling:\n"
     ]
    },
    {
     "data": {
      "text/plain": [
       "\n",
       "  No  Yes \n",
       "1880  223 "
      ]
     },
     "metadata": {},
     "output_type": "display_data"
    },
    {
     "data": {
      "text/plain": [
       "Data Recipe\n",
       "\n",
       "Inputs:\n",
       "\n",
       "      role #variables\n",
       "   outcome          1\n",
       " predictor         40\n",
       "\n",
       "Training data contained 2103 data points and no missing data.\n",
       "\n",
       "Operations:\n",
       "\n",
       "Up-sampling based on IsLeadUser [trained]"
      ]
     },
     "metadata": {},
     "output_type": "display_data"
    },
    {
     "name": "stdout",
     "output_type": "stream",
     "text": [
      "Class frequencies after upsampling:\n"
     ]
    },
    {
     "data": {
      "text/plain": [
       "\n",
       "  No  Yes \n",
       "1880 1880 "
      ]
     },
     "metadata": {},
     "output_type": "display_data"
    }
   ],
   "source": [
    "#handle imbalanced data\n",
    "\n",
    "cat(\"Class frequencies before upsampling:\\n\")\n",
    "table(data$IsLeadUser)\n",
    "\n",
    "\n",
    "# Create recipe\n",
    "recipe_obj <- recipe(IsLeadUser ~ ., data = data) %>%\n",
    "  step_upsample(all_outcomes(), skip = FALSE) %>%         # handling imbalanced classes by Upsampling\n",
    "  # An important argument is \"skip\". By default it is TRUE, so it causes no effect on data, \n",
    "  # because you have to be very carefully of upsampling and the impacts. \n",
    "  # Check the frequencies before and after.\n",
    "  prep(data = data)\n",
    "\n",
    "recipe_obj\n",
    "\n",
    "data <- bake(recipe_obj, new_data = data)\n",
    "\n",
    "cat(\"Class frequencies after upsampling:\\n\")\n",
    "table(data$IsLeadUser)"
   ]
  },
  {
   "cell_type": "code",
   "execution_count": 304,
   "metadata": {},
   "outputs": [
    {
     "name": "stdout",
     "output_type": "stream",
     "text": [
      "#------Print the recipe object\n"
     ]
    },
    {
     "data": {
      "text/plain": [
       "Data Recipe\n",
       "\n",
       "Inputs:\n",
       "\n",
       "      role #variables\n",
       "   outcome          1\n",
       " predictor         40\n",
       "\n",
       "Training data contained 3760 data points and no missing data.\n",
       "\n",
       "Operations:\n",
       "\n",
       "Centering and scaling for tenure, MonthlyCharges, ... [trained]\n",
       "Yeo-Johnson transformation on tenure, ... [trained]"
      ]
     },
     "metadata": {},
     "output_type": "display_data"
    },
    {
     "name": "stdout",
     "output_type": "stream",
     "text": [
      "#------Print the according role of every variable\n"
     ]
    },
    {
     "data": {
      "text/html": [
       "<table>\n",
       "<thead><tr><th scope=col>variable</th><th scope=col>type</th><th scope=col>role</th><th scope=col>source</th></tr></thead>\n",
       "<tbody>\n",
       "\t<tr><td>tenure                                 </td><td>numeric                                </td><td>predictor                              </td><td>original                               </td></tr>\n",
       "\t<tr><td>MonthlyCharges                         </td><td>numeric                                </td><td>predictor                              </td><td>original                               </td></tr>\n",
       "\t<tr><td>WorkaroundIntensity                    </td><td>numeric                                </td><td>predictor                              </td><td>original                               </td></tr>\n",
       "\t<tr><td>gender_Female                          </td><td>nominal                                </td><td>predictor                              </td><td>original                               </td></tr>\n",
       "\t<tr><td>gender_Male                            </td><td>nominal                                </td><td>predictor                              </td><td>original                               </td></tr>\n",
       "\t<tr><td>PhoneService_No                        </td><td>nominal                                </td><td>predictor                              </td><td>original                               </td></tr>\n",
       "\t<tr><td>PhoneService_Yes                       </td><td>nominal                                </td><td>predictor                              </td><td>original                               </td></tr>\n",
       "\t<tr><td>MultipleProducts_No                    </td><td>nominal                                </td><td>predictor                              </td><td>original                               </td></tr>\n",
       "\t<tr><td>MultipleProducts_No.phone.service      </td><td>nominal                                </td><td>predictor                              </td><td>original                               </td></tr>\n",
       "\t<tr><td>MultipleProducts_Yes                   </td><td>nominal                                </td><td>predictor                              </td><td>original                               </td></tr>\n",
       "\t<tr><td>InternetService_DSL                    </td><td>nominal                                </td><td>predictor                              </td><td>original                               </td></tr>\n",
       "\t<tr><td>InternetService_Fiber.optic            </td><td>nominal                                </td><td>predictor                              </td><td>original                               </td></tr>\n",
       "\t<tr><td>InternetService_No                     </td><td>nominal                                </td><td>predictor                              </td><td>original                               </td></tr>\n",
       "\t<tr><td>OnlineSecurity_No                      </td><td>nominal                                </td><td>predictor                              </td><td>original                               </td></tr>\n",
       "\t<tr><td>OnlineSecurity_No.internet.service     </td><td>nominal                                </td><td>predictor                              </td><td>original                               </td></tr>\n",
       "\t<tr><td>OnlineSecurity_Yes                     </td><td>nominal                                </td><td>predictor                              </td><td>original                               </td></tr>\n",
       "\t<tr><td>OnlineBackup_No                        </td><td>nominal                                </td><td>predictor                              </td><td>original                               </td></tr>\n",
       "\t<tr><td>OnlineBackup_No.internet.service       </td><td>nominal                                </td><td>predictor                              </td><td>original                               </td></tr>\n",
       "\t<tr><td>OnlineBackup_Yes                       </td><td>nominal                                </td><td>predictor                              </td><td>original                               </td></tr>\n",
       "\t<tr><td>DeviceProtection_No                    </td><td>nominal                                </td><td>predictor                              </td><td>original                               </td></tr>\n",
       "\t<tr><td>DeviceProtection_No.internet.service   </td><td>nominal                                </td><td>predictor                              </td><td>original                               </td></tr>\n",
       "\t<tr><td>DeviceProtection_Yes                   </td><td>nominal                                </td><td>predictor                              </td><td>original                               </td></tr>\n",
       "\t<tr><td>TechSupport_No                         </td><td>nominal                                </td><td>predictor                              </td><td>original                               </td></tr>\n",
       "\t<tr><td>TechSupport_No.internet.service        </td><td>nominal                                </td><td>predictor                              </td><td>original                               </td></tr>\n",
       "\t<tr><td>TechSupport_Yes                        </td><td>nominal                                </td><td>predictor                              </td><td>original                               </td></tr>\n",
       "\t<tr><td>UsingSocial_No                         </td><td>nominal                                </td><td>predictor                              </td><td>original                               </td></tr>\n",
       "\t<tr><td>UsingSocial_No.internet.service        </td><td>nominal                                </td><td>predictor                              </td><td>original                               </td></tr>\n",
       "\t<tr><td>UsingSocial_Yes                        </td><td>nominal                                </td><td>predictor                              </td><td>original                               </td></tr>\n",
       "\t<tr><td>SupportMovies_No                       </td><td>nominal                                </td><td>predictor                              </td><td>original                               </td></tr>\n",
       "\t<tr><td>SupportMovies_No.internet.service      </td><td>nominal                                </td><td>predictor                              </td><td>original                               </td></tr>\n",
       "\t<tr><td>SupportMovies_Yes                      </td><td>nominal                                </td><td>predictor                              </td><td>original                               </td></tr>\n",
       "\t<tr><td>TimeUsingProduct_Month.to.month        </td><td>nominal                                </td><td>predictor                              </td><td>original                               </td></tr>\n",
       "\t<tr><td>TimeUsingProduct_One.year              </td><td>nominal                                </td><td>predictor                              </td><td>original                               </td></tr>\n",
       "\t<tr><td>TimeUsingProduct_Two.year              </td><td>nominal                                </td><td>predictor                              </td><td>original                               </td></tr>\n",
       "\t<tr><td>PaperlessBilling_No                    </td><td>nominal                                </td><td>predictor                              </td><td>original                               </td></tr>\n",
       "\t<tr><td>PaperlessBilling_Yes                   </td><td>nominal                                </td><td>predictor                              </td><td>original                               </td></tr>\n",
       "\t<tr><td>PaymentMethod_Bank.transfer..automatic.</td><td>nominal                                </td><td>predictor                              </td><td>original                               </td></tr>\n",
       "\t<tr><td>PaymentMethod_Credit.card..automatic.  </td><td>nominal                                </td><td>predictor                              </td><td>original                               </td></tr>\n",
       "\t<tr><td>PaymentMethod_Electronic.check         </td><td>nominal                                </td><td>predictor                              </td><td>original                               </td></tr>\n",
       "\t<tr><td>PaymentMethod_Mailed.check             </td><td>numeric                                </td><td>predictor                              </td><td>original                               </td></tr>\n",
       "\t<tr><td>IsLeadUser                             </td><td>nominal                                </td><td>outcome                                </td><td>original                               </td></tr>\n",
       "</tbody>\n",
       "</table>\n"
      ],
      "text/latex": [
       "\\begin{tabular}{r|llll}\n",
       " variable & type & role & source\\\\\n",
       "\\hline\n",
       "\t tenure                                  & numeric                                 & predictor                               & original                               \\\\\n",
       "\t MonthlyCharges                          & numeric                                 & predictor                               & original                               \\\\\n",
       "\t WorkaroundIntensity                     & numeric                                 & predictor                               & original                               \\\\\n",
       "\t gender\\_Female                           & nominal                                   & predictor                                 & original                                 \\\\\n",
       "\t gender\\_Male                             & nominal                                   & predictor                                 & original                                 \\\\\n",
       "\t PhoneService\\_No                         & nominal                                   & predictor                                 & original                                 \\\\\n",
       "\t PhoneService\\_Yes                        & nominal                                   & predictor                                 & original                                 \\\\\n",
       "\t MultipleProducts\\_No                     & nominal                                   & predictor                                 & original                                 \\\\\n",
       "\t MultipleProducts\\_No.phone.service       & nominal                                   & predictor                                 & original                                 \\\\\n",
       "\t MultipleProducts\\_Yes                    & nominal                                   & predictor                                 & original                                 \\\\\n",
       "\t InternetService\\_DSL                     & nominal                                   & predictor                                 & original                                 \\\\\n",
       "\t InternetService\\_Fiber.optic             & nominal                                   & predictor                                 & original                                 \\\\\n",
       "\t InternetService\\_No                      & nominal                                   & predictor                                 & original                                 \\\\\n",
       "\t OnlineSecurity\\_No                       & nominal                                   & predictor                                 & original                                 \\\\\n",
       "\t OnlineSecurity\\_No.internet.service      & nominal                                   & predictor                                 & original                                 \\\\\n",
       "\t OnlineSecurity\\_Yes                      & nominal                                   & predictor                                 & original                                 \\\\\n",
       "\t OnlineBackup\\_No                         & nominal                                   & predictor                                 & original                                 \\\\\n",
       "\t OnlineBackup\\_No.internet.service        & nominal                                   & predictor                                 & original                                 \\\\\n",
       "\t OnlineBackup\\_Yes                        & nominal                                   & predictor                                 & original                                 \\\\\n",
       "\t DeviceProtection\\_No                     & nominal                                   & predictor                                 & original                                 \\\\\n",
       "\t DeviceProtection\\_No.internet.service    & nominal                                   & predictor                                 & original                                 \\\\\n",
       "\t DeviceProtection\\_Yes                    & nominal                                   & predictor                                 & original                                 \\\\\n",
       "\t TechSupport\\_No                          & nominal                                   & predictor                                 & original                                 \\\\\n",
       "\t TechSupport\\_No.internet.service         & nominal                                   & predictor                                 & original                                 \\\\\n",
       "\t TechSupport\\_Yes                         & nominal                                   & predictor                                 & original                                 \\\\\n",
       "\t UsingSocial\\_No                          & nominal                                   & predictor                                 & original                                 \\\\\n",
       "\t UsingSocial\\_No.internet.service         & nominal                                   & predictor                                 & original                                 \\\\\n",
       "\t UsingSocial\\_Yes                         & nominal                                   & predictor                                 & original                                 \\\\\n",
       "\t SupportMovies\\_No                        & nominal                                   & predictor                                 & original                                 \\\\\n",
       "\t SupportMovies\\_No.internet.service       & nominal                                   & predictor                                 & original                                 \\\\\n",
       "\t SupportMovies\\_Yes                       & nominal                                   & predictor                                 & original                                 \\\\\n",
       "\t TimeUsingProduct\\_Month.to.month         & nominal                                   & predictor                                 & original                                 \\\\\n",
       "\t TimeUsingProduct\\_One.year               & nominal                                   & predictor                                 & original                                 \\\\\n",
       "\t TimeUsingProduct\\_Two.year               & nominal                                   & predictor                                 & original                                 \\\\\n",
       "\t PaperlessBilling\\_No                     & nominal                                   & predictor                                 & original                                 \\\\\n",
       "\t PaperlessBilling\\_Yes                    & nominal                                   & predictor                                 & original                                 \\\\\n",
       "\t PaymentMethod\\_Bank.transfer..automatic. & nominal                                   & predictor                                 & original                                 \\\\\n",
       "\t PaymentMethod\\_Credit.card..automatic.   & nominal                                   & predictor                                 & original                                 \\\\\n",
       "\t PaymentMethod\\_Electronic.check          & nominal                                   & predictor                                 & original                                 \\\\\n",
       "\t PaymentMethod\\_Mailed.check              & numeric                                   & predictor                                 & original                                 \\\\\n",
       "\t IsLeadUser                              & nominal                                 & outcome                                 & original                               \\\\\n",
       "\\end{tabular}\n"
      ],
      "text/markdown": [
       "\n",
       "| variable | type | role | source |\n",
       "|---|---|---|---|\n",
       "| tenure                                  | numeric                                 | predictor                               | original                                |\n",
       "| MonthlyCharges                          | numeric                                 | predictor                               | original                                |\n",
       "| WorkaroundIntensity                     | numeric                                 | predictor                               | original                                |\n",
       "| gender_Female                           | nominal                                 | predictor                               | original                                |\n",
       "| gender_Male                             | nominal                                 | predictor                               | original                                |\n",
       "| PhoneService_No                         | nominal                                 | predictor                               | original                                |\n",
       "| PhoneService_Yes                        | nominal                                 | predictor                               | original                                |\n",
       "| MultipleProducts_No                     | nominal                                 | predictor                               | original                                |\n",
       "| MultipleProducts_No.phone.service       | nominal                                 | predictor                               | original                                |\n",
       "| MultipleProducts_Yes                    | nominal                                 | predictor                               | original                                |\n",
       "| InternetService_DSL                     | nominal                                 | predictor                               | original                                |\n",
       "| InternetService_Fiber.optic             | nominal                                 | predictor                               | original                                |\n",
       "| InternetService_No                      | nominal                                 | predictor                               | original                                |\n",
       "| OnlineSecurity_No                       | nominal                                 | predictor                               | original                                |\n",
       "| OnlineSecurity_No.internet.service      | nominal                                 | predictor                               | original                                |\n",
       "| OnlineSecurity_Yes                      | nominal                                 | predictor                               | original                                |\n",
       "| OnlineBackup_No                         | nominal                                 | predictor                               | original                                |\n",
       "| OnlineBackup_No.internet.service        | nominal                                 | predictor                               | original                                |\n",
       "| OnlineBackup_Yes                        | nominal                                 | predictor                               | original                                |\n",
       "| DeviceProtection_No                     | nominal                                 | predictor                               | original                                |\n",
       "| DeviceProtection_No.internet.service    | nominal                                 | predictor                               | original                                |\n",
       "| DeviceProtection_Yes                    | nominal                                 | predictor                               | original                                |\n",
       "| TechSupport_No                          | nominal                                 | predictor                               | original                                |\n",
       "| TechSupport_No.internet.service         | nominal                                 | predictor                               | original                                |\n",
       "| TechSupport_Yes                         | nominal                                 | predictor                               | original                                |\n",
       "| UsingSocial_No                          | nominal                                 | predictor                               | original                                |\n",
       "| UsingSocial_No.internet.service         | nominal                                 | predictor                               | original                                |\n",
       "| UsingSocial_Yes                         | nominal                                 | predictor                               | original                                |\n",
       "| SupportMovies_No                        | nominal                                 | predictor                               | original                                |\n",
       "| SupportMovies_No.internet.service       | nominal                                 | predictor                               | original                                |\n",
       "| SupportMovies_Yes                       | nominal                                 | predictor                               | original                                |\n",
       "| TimeUsingProduct_Month.to.month         | nominal                                 | predictor                               | original                                |\n",
       "| TimeUsingProduct_One.year               | nominal                                 | predictor                               | original                                |\n",
       "| TimeUsingProduct_Two.year               | nominal                                 | predictor                               | original                                |\n",
       "| PaperlessBilling_No                     | nominal                                 | predictor                               | original                                |\n",
       "| PaperlessBilling_Yes                    | nominal                                 | predictor                               | original                                |\n",
       "| PaymentMethod_Bank.transfer..automatic. | nominal                                 | predictor                               | original                                |\n",
       "| PaymentMethod_Credit.card..automatic.   | nominal                                 | predictor                               | original                                |\n",
       "| PaymentMethod_Electronic.check          | nominal                                 | predictor                               | original                                |\n",
       "| PaymentMethod_Mailed.check              | numeric                                 | predictor                               | original                                |\n",
       "| IsLeadUser                              | nominal                                 | outcome                                 | original                                |\n",
       "\n"
      ],
      "text/plain": [
       "   variable                                type    role      source  \n",
       "1  tenure                                  numeric predictor original\n",
       "2  MonthlyCharges                          numeric predictor original\n",
       "3  WorkaroundIntensity                     numeric predictor original\n",
       "4  gender_Female                           nominal predictor original\n",
       "5  gender_Male                             nominal predictor original\n",
       "6  PhoneService_No                         nominal predictor original\n",
       "7  PhoneService_Yes                        nominal predictor original\n",
       "8  MultipleProducts_No                     nominal predictor original\n",
       "9  MultipleProducts_No.phone.service       nominal predictor original\n",
       "10 MultipleProducts_Yes                    nominal predictor original\n",
       "11 InternetService_DSL                     nominal predictor original\n",
       "12 InternetService_Fiber.optic             nominal predictor original\n",
       "13 InternetService_No                      nominal predictor original\n",
       "14 OnlineSecurity_No                       nominal predictor original\n",
       "15 OnlineSecurity_No.internet.service      nominal predictor original\n",
       "16 OnlineSecurity_Yes                      nominal predictor original\n",
       "17 OnlineBackup_No                         nominal predictor original\n",
       "18 OnlineBackup_No.internet.service        nominal predictor original\n",
       "19 OnlineBackup_Yes                        nominal predictor original\n",
       "20 DeviceProtection_No                     nominal predictor original\n",
       "21 DeviceProtection_No.internet.service    nominal predictor original\n",
       "22 DeviceProtection_Yes                    nominal predictor original\n",
       "23 TechSupport_No                          nominal predictor original\n",
       "24 TechSupport_No.internet.service         nominal predictor original\n",
       "25 TechSupport_Yes                         nominal predictor original\n",
       "26 UsingSocial_No                          nominal predictor original\n",
       "27 UsingSocial_No.internet.service         nominal predictor original\n",
       "28 UsingSocial_Yes                         nominal predictor original\n",
       "29 SupportMovies_No                        nominal predictor original\n",
       "30 SupportMovies_No.internet.service       nominal predictor original\n",
       "31 SupportMovies_Yes                       nominal predictor original\n",
       "32 TimeUsingProduct_Month.to.month         nominal predictor original\n",
       "33 TimeUsingProduct_One.year               nominal predictor original\n",
       "34 TimeUsingProduct_Two.year               nominal predictor original\n",
       "35 PaperlessBilling_No                     nominal predictor original\n",
       "36 PaperlessBilling_Yes                    nominal predictor original\n",
       "37 PaymentMethod_Bank.transfer..automatic. nominal predictor original\n",
       "38 PaymentMethod_Credit.card..automatic.   nominal predictor original\n",
       "39 PaymentMethod_Electronic.check          nominal predictor original\n",
       "40 PaymentMethod_Mailed.check              numeric predictor original\n",
       "41 IsLeadUser                              nominal outcome   original"
      ]
     },
     "metadata": {},
     "output_type": "display_data"
    },
    {
     "name": "stdout",
     "output_type": "stream",
     "text": [
      "Observations: 3,760\n",
      "Variables: 41\n",
      "$ tenure                                  <dbl> -0.2024013, -0.2024013, -1....\n",
      "$ MonthlyCharges                          <dbl> 0.009170046, -1.569565315, ...\n",
      "$ WorkaroundIntensity                     <dbl> -0.23631550, -0.23631550, -...\n",
      "$ gender_Female                           <fct> 0, 1, 1, 1, 0, 1, 0, 0, 0, ...\n",
      "$ gender_Male                             <fct> 1, 0, 0, 0, 1, 0, 1, 1, 1, ...\n",
      "$ PhoneService_No                         <fct> 0, 0, 0, 0, 0, 0, 1, 0, 0, ...\n",
      "$ PhoneService_Yes                        <fct> 1, 1, 1, 1, 1, 1, 0, 1, 1, ...\n",
      "$ MultipleProducts_No                     <fct> 1, 1, 0, 0, 0, 1, 0, 1, 0, ...\n",
      "$ MultipleProducts_No.phone.service       <fct> 0, 0, 0, 0, 0, 0, 1, 0, 0, ...\n",
      "$ MultipleProducts_Yes                    <fct> 0, 0, 1, 1, 1, 0, 0, 0, 1, ...\n",
      "$ InternetService_DSL                     <fct> 1, 0, 0, 0, 0, 1, 1, 0, 0, ...\n",
      "$ InternetService_Fiber.optic             <fct> 0, 1, 1, 1, 1, 0, 0, 0, 1, ...\n",
      "$ InternetService_No                      <fct> 0, 0, 0, 0, 0, 0, 0, 1, 0, ...\n",
      "$ OnlineSecurity_No                       <fct> 0, 1, 1, 1, 1, 1, 1, 0, 1, ...\n",
      "$ OnlineSecurity_No.internet.service      <fct> 0, 0, 0, 0, 0, 0, 0, 1, 0, ...\n",
      "$ OnlineSecurity_Yes                      <fct> 1, 0, 0, 0, 0, 0, 0, 0, 0, ...\n",
      "$ OnlineBackup_No                         <fct> 0, 1, 1, 1, 0, 1, 1, 0, 0, ...\n",
      "$ OnlineBackup_No.internet.service        <fct> 0, 0, 0, 0, 0, 0, 0, 1, 0, ...\n",
      "$ OnlineBackup_Yes                        <fct> 1, 0, 0, 0, 1, 0, 0, 0, 1, ...\n",
      "$ DeviceProtection_No                     <fct> 1, 1, 0, 0, 0, 0, 0, 0, 1, ...\n",
      "$ DeviceProtection_No.internet.service    <fct> 0, 0, 0, 0, 0, 0, 0, 1, 0, ...\n",
      "$ DeviceProtection_Yes                    <fct> 0, 0, 1, 1, 1, 1, 1, 0, 0, ...\n",
      "$ TechSupport_No                          <fct> 1, 1, 1, 0, 1, 0, 1, 0, 1, ...\n",
      "$ TechSupport_No.internet.service         <fct> 0, 0, 0, 0, 0, 0, 0, 1, 0, ...\n",
      "$ TechSupport_Yes                         <fct> 0, 0, 0, 1, 0, 1, 0, 0, 0, ...\n",
      "$ UsingSocial_No                          <fct> 1, 1, 0, 0, 0, 1, 1, 0, 0, ...\n",
      "$ UsingSocial_No.internet.service         <fct> 0, 0, 0, 0, 0, 0, 0, 1, 0, ...\n",
      "$ UsingSocial_Yes                         <fct> 0, 0, 1, 1, 1, 0, 0, 0, 1, ...\n",
      "$ SupportMovies_No                        <fct> 1, 1, 0, 0, 0, 1, 0, 0, 0, ...\n",
      "$ SupportMovies_No.internet.service       <fct> 0, 0, 0, 0, 0, 0, 0, 1, 0, ...\n",
      "$ SupportMovies_Yes                       <fct> 0, 0, 1, 1, 1, 0, 1, 0, 1, ...\n",
      "$ TimeUsingProduct_Month.to.month         <fct> 1, 1, 1, 1, 1, 1, 1, 1, 1, ...\n",
      "$ TimeUsingProduct_One.year               <fct> 0, 0, 0, 0, 0, 0, 0, 0, 0, ...\n",
      "$ TimeUsingProduct_Two.year               <fct> 0, 0, 0, 0, 0, 0, 0, 0, 0, ...\n",
      "$ PaperlessBilling_No                     <fct> 0, 0, 0, 0, 0, 1, 0, 1, 0, ...\n",
      "$ PaperlessBilling_Yes                    <fct> 1, 1, 1, 1, 1, 0, 1, 0, 1, ...\n",
      "$ PaymentMethod_Bank.transfer..automatic. <fct> 0, 0, 0, 0, 1, 0, 0, 0, 0, ...\n",
      "$ PaymentMethod_Credit.card..automatic.   <fct> 0, 0, 0, 0, 0, 1, 0, 0, 0, ...\n",
      "$ PaymentMethod_Electronic.check          <fct> 0, 1, 1, 1, 0, 0, 1, 0, 1, ...\n",
      "$ PaymentMethod_Mailed.check              <dbl> 2.6326120, -0.3797499, -0.3...\n",
      "$ IsLeadUser                              <fct> No, No, No, No, No, No, No,...\n"
     ]
    }
   ],
   "source": [
    "#Transformation\n",
    "#Create the formula\n",
    "usedFormula <- as.formula(\"IsLeadUser ~ .\")\n",
    "\n",
    "# Create recipe\n",
    "recipe_obj <- recipe(usedFormula, data = data) %>%\n",
    "  step_normalize(all_numeric(), -all_outcomes()) %>%      #Transform the data\n",
    "  step_YeoJohnson(all_numeric()) %>%                      #YeoJohnson or Boxplot\n",
    "  #Here, no handling of strings and dates necessary\n",
    "  prep(data = data)\n",
    "\n",
    "cat(\"#------Print the recipe object\\n\")\n",
    "recipe_obj\n",
    "\n",
    "cat(\"#------Print the according role of every variable\\n\")\n",
    "summary(recipe_obj)\n",
    "\n",
    "#Apply recipe\n",
    "data <- bake(recipe_obj, new_data = data)\n",
    "\n",
    "glimpse(data)"
   ]
  },
  {
   "cell_type": "code",
   "execution_count": 305,
   "metadata": {},
   "outputs": [
    {
     "data": {
      "image/png": "[encoded data removed]",
      "text/plain": [
       "plot without title"
      ]
     },
     "metadata": {},
     "output_type": "display_data"
    }
   ],
   "source": [
    "###---------Scatter plot\n",
    "#library(corrplot)\n",
    "\n",
    "#Resize plot\n",
    "options(repr.plot.res = 120, repr.plot.height=6, repr.plot.width=6)  #Defaults:resolution=120,width/height=7\n",
    "\n",
    "#Plot features we are interested in\n",
    "pairs(data[,c(\"tenure\",\"MonthlyCharges\",\"WorkaroundIntensity\")], \n",
    "      lower.panel = panel.smooth)"
   ]
  },
  {
   "cell_type": "markdown",
   "metadata": {},
   "source": [
    "tenure and WorkAroundintesity might be correlated"
   ]
  },
  {
   "cell_type": "code",
   "execution_count": 306,
   "metadata": {},
   "outputs": [],
   "source": [
    "#delete one column per attr to check multicoliniarity of onehot encoded data\n",
    "#drop customerID column\n",
    "drop=c(\"gender_Female\", \"PhoneService_No\",\"MultipleProducts_No\",\"InternetService_DSL\",\"OnlineSecurity_No\",\n",
    "       \"OnlineBackup_No\",\"DeviceProtection_No\",\"TechSupport_No\",\"UsingSocial_No\", \"SupportMovies_No\",\n",
    "       \"TimeUsingProduct_Month.to.month\",\"PaperlessBilling_No\", \"PaymentMethod_Bank.transfer..automatic.\")\n",
    "var.out.bool <- !names(data) %in% drop\n",
    "#simply reassign data:\n",
    "data <- data[,var.out.bool, drop = FALSE]\n",
    "#convert label (customerID) to numeric so it can be used by lm\n",
    "data$IsLeadUser  <- as.numeric(data$IsLeadUser)"
   ]
  },
  {
   "cell_type": "code",
   "execution_count": 307,
   "metadata": {},
   "outputs": [
    {
     "name": "stdout",
     "output_type": "stream",
     "text": [
      "Observations: 3,760\n",
      "Variables: 28\n",
      "$ tenure                                <dbl> -0.2024013, -0.2024013, -1.24...\n",
      "$ MonthlyCharges                        <dbl> 0.009170046, -1.569565315, 0....\n",
      "$ WorkaroundIntensity                   <dbl> -0.23631550, -0.23631550, -0....\n",
      "$ gender_Male                           <fct> 1, 0, 0, 0, 1, 0, 1, 1, 1, 1,...\n",
      "$ PhoneService_Yes                      <fct> 1, 1, 1, 1, 1, 1, 0, 1, 1, 0,...\n",
      "$ MultipleProducts_No.phone.service     <fct> 0, 0, 0, 0, 0, 0, 1, 0, 0, 1,...\n",
      "$ MultipleProducts_Yes                  <fct> 0, 0, 1, 1, 1, 0, 0, 0, 1, 0,...\n",
      "$ InternetService_Fiber.optic           <fct> 0, 1, 1, 1, 1, 0, 0, 0, 1, 0,...\n",
      "$ InternetService_No                    <fct> 0, 0, 0, 0, 0, 0, 0, 1, 0, 0,...\n",
      "$ OnlineSecurity_No.internet.service    <fct> 0, 0, 0, 0, 0, 0, 0, 1, 0, 0,...\n",
      "$ OnlineSecurity_Yes                    <fct> 1, 0, 0, 0, 0, 0, 0, 0, 0, 0,...\n",
      "$ OnlineBackup_No.internet.service      <fct> 0, 0, 0, 0, 0, 0, 0, 1, 0, 0,...\n",
      "$ OnlineBackup_Yes                      <fct> 1, 0, 0, 0, 1, 0, 0, 0, 1, 1,...\n",
      "$ DeviceProtection_No.internet.service  <fct> 0, 0, 0, 0, 0, 0, 0, 1, 0, 0,...\n",
      "$ DeviceProtection_Yes                  <fct> 0, 0, 1, 1, 1, 1, 1, 0, 0, 0,...\n",
      "$ TechSupport_No.internet.service       <fct> 0, 0, 0, 0, 0, 0, 0, 1, 0, 0,...\n",
      "$ TechSupport_Yes                       <fct> 0, 0, 0, 1, 0, 1, 0, 0, 0, 0,...\n",
      "$ UsingSocial_No.internet.service       <fct> 0, 0, 0, 0, 0, 0, 0, 1, 0, 0,...\n",
      "$ UsingSocial_Yes                       <fct> 0, 0, 1, 1, 1, 0, 0, 0, 1, 0,...\n",
      "$ SupportMovies_No.internet.service     <fct> 0, 0, 0, 0, 0, 0, 0, 1, 0, 0,...\n",
      "$ SupportMovies_Yes                     <fct> 0, 0, 1, 1, 1, 0, 1, 0, 1, 0,...\n",
      "$ TimeUsingProduct_One.year             <fct> 0, 0, 0, 0, 0, 0, 0, 0, 0, 0,...\n",
      "$ TimeUsingProduct_Two.year             <fct> 0, 0, 0, 0, 0, 0, 0, 0, 0, 0,...\n",
      "$ PaperlessBilling_Yes                  <fct> 1, 1, 1, 1, 1, 0, 1, 0, 1, 0,...\n",
      "$ PaymentMethod_Credit.card..automatic. <fct> 0, 0, 0, 0, 0, 1, 0, 0, 0, 0,...\n",
      "$ PaymentMethod_Electronic.check        <fct> 0, 1, 1, 1, 0, 0, 1, 0, 1, 1,...\n",
      "$ PaymentMethod_Mailed.check            <dbl> 2.6326120, -0.3797499, -0.379...\n",
      "$ IsLeadUser                            <dbl> 1, 1, 1, 1, 1, 1, 1, 1, 1, 1,...\n"
     ]
    }
   ],
   "source": [
    "glimpse(data)"
   ]
  },
  {
   "cell_type": "code",
   "execution_count": 309,
   "metadata": {},
   "outputs": [],
   "source": [
    "data <- handleCollinearity(data,\"IsLeadUser\")\n"
   ]
  },
  {
   "cell_type": "code",
   "execution_count": 310,
   "metadata": {},
   "outputs": [
    {
     "name": "stdout",
     "output_type": "stream",
     "text": [
      "Observations: 3,760\n",
      "Variables: 28\n",
      "$ tenure                                <dbl> -0.2024013, -0.2024013, -1.24...\n",
      "$ MonthlyCharges                        <dbl> 0.009170046, -1.569565315, 0....\n",
      "$ WorkaroundIntensity                   <dbl> -0.23631550, -0.23631550, -0....\n",
      "$ gender_Male                           <fct> 1, 0, 0, 0, 1, 0, 1, 1, 1, 1,...\n",
      "$ PhoneService_Yes                      <fct> 1, 1, 1, 1, 1, 1, 0, 1, 1, 0,...\n",
      "$ MultipleProducts_No.phone.service     <fct> 0, 0, 0, 0, 0, 0, 1, 0, 0, 1,...\n",
      "$ MultipleProducts_Yes                  <fct> 0, 0, 1, 1, 1, 0, 0, 0, 1, 0,...\n",
      "$ InternetService_Fiber.optic           <fct> 0, 1, 1, 1, 1, 0, 0, 0, 1, 0,...\n",
      "$ InternetService_No                    <fct> 0, 0, 0, 0, 0, 0, 0, 1, 0, 0,...\n",
      "$ OnlineSecurity_No.internet.service    <fct> 0, 0, 0, 0, 0, 0, 0, 1, 0, 0,...\n",
      "$ OnlineSecurity_Yes                    <fct> 1, 0, 0, 0, 0, 0, 0, 0, 0, 0,...\n",
      "$ OnlineBackup_No.internet.service      <fct> 0, 0, 0, 0, 0, 0, 0, 1, 0, 0,...\n",
      "$ OnlineBackup_Yes                      <fct> 1, 0, 0, 0, 1, 0, 0, 0, 1, 1,...\n",
      "$ DeviceProtection_No.internet.service  <fct> 0, 0, 0, 0, 0, 0, 0, 1, 0, 0,...\n",
      "$ DeviceProtection_Yes                  <fct> 0, 0, 1, 1, 1, 1, 1, 0, 0, 0,...\n",
      "$ TechSupport_No.internet.service       <fct> 0, 0, 0, 0, 0, 0, 0, 1, 0, 0,...\n",
      "$ TechSupport_Yes                       <fct> 0, 0, 0, 1, 0, 1, 0, 0, 0, 0,...\n",
      "$ UsingSocial_No.internet.service       <fct> 0, 0, 0, 0, 0, 0, 0, 1, 0, 0,...\n",
      "$ UsingSocial_Yes                       <fct> 0, 0, 1, 1, 1, 0, 0, 0, 1, 0,...\n",
      "$ SupportMovies_No.internet.service     <fct> 0, 0, 0, 0, 0, 0, 0, 1, 0, 0,...\n",
      "$ SupportMovies_Yes                     <fct> 0, 0, 1, 1, 1, 0, 1, 0, 1, 0,...\n",
      "$ TimeUsingProduct_One.year             <fct> 0, 0, 0, 0, 0, 0, 0, 0, 0, 0,...\n",
      "$ TimeUsingProduct_Two.year             <fct> 0, 0, 0, 0, 0, 0, 0, 0, 0, 0,...\n",
      "$ PaperlessBilling_Yes                  <fct> 1, 1, 1, 1, 1, 0, 1, 0, 1, 0,...\n",
      "$ PaymentMethod_Credit.card..automatic. <fct> 0, 0, 0, 0, 0, 1, 0, 0, 0, 0,...\n",
      "$ PaymentMethod_Electronic.check        <fct> 0, 1, 1, 1, 0, 0, 1, 0, 1, 1,...\n",
      "$ PaymentMethod_Mailed.check            <dbl> 2.6326120, -0.3797499, -0.379...\n",
      "$ IsLeadUser                            <dbl> 1, 1, 1, 1, 1, 1, 1, 1, 1, 1,...\n"
     ]
    }
   ],
   "source": [
    "glimpse(data)"
   ]
  }
 ],
 "metadata": {
  "kernelspec": {
   "display_name": "R",
   "language": "R",
   "name": "ir"
  },
  "language_info": {
   "codemirror_mode": "r",
   "file_extension": ".r",
   "mimetype": "text/x-r-source",
   "name": "R",
   "pygments_lexer": "r",
   "version": "3.6.2"
  },
  "nav_menu": {},
  "toc": {
   "navigate_menu": true,
   "number_sections": true,
   "sideBar": true,
   "threshold": 6,
   "toc_cell": false,
   "toc_section_display": "block",
   "toc_window_display": false
  }
 },
 "nbformat": 4,
 "nbformat_minor": 4
}
