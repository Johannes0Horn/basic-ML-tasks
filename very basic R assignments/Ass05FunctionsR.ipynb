{
 "cells": [
  {
   "cell_type": "markdown",
   "metadata": {},
   "source": [
    "# Exercises on Functions in R\n",
    "* Author: Johannes Maucher\n",
    "* Last Update: 19.09.2017, a few modifications by OK in 2019\n",
    "* Corresponding lecture notebook: [06Functions](../01Basics/06Functions.ipynb) and [02DataTypes](../01Basics/02DataTypes.ipynb)"
   ]
  },
  {
   "cell_type": "markdown",
   "metadata": {},
   "source": [
    "## Solve the tasks ...\n",
    "\n",
    "Your solution should contain \n",
    "* the implemented code in code-cells, \n",
    "* the output of this code\n",
    "* answers on questions in mark-down cells\n",
    "* and optionally your remarks, discussion, comments on the solution in markdown-cells.\n",
    "\n",
    "Send me the resulting Jupyter notebook."
   ]
  },
  {
   "cell_type": "markdown",
   "metadata": {},
   "source": [
    "## Tasks\n",
    "\n"
   ]
  },
  {
   "cell_type": "markdown",
   "metadata": {
    "collapsed": true
   },
   "source": [
    "1. Read data from [invitationTemplate.txt](../Lecture/data/invitationTemplate.txt) into a character-variable. This file is a form letter (template), which shall be applied by a company for inviting persons to events. \n",
    "In this assignment a function and corresponding function-calls for the automatic generation of concrete invitations, based on the given template, must be implemented.\n"
   ]
  },
  {
   "cell_type": "code",
   "execution_count": 6,
   "metadata": {},
   "outputs": [
    {
     "name": "stdout",
     "output_type": "stream",
     "text": [
      "[1] \"Dear <SALUTATION> <FIRSTNAME> <LASTNAME>,\\r\\n\\r\\nwe are happy to invite you to our annual showroom <YEAR>. The event starts on <DATE> at <TIME> in <LOCATION>, <ADDRESS>.\\r\\nWe look forward to your visist.\\r\\n\\r\\nThe Xcompany\\r\\n\"\n"
     ]
    }
   ],
   "source": [
    "invitationTemplate <- readChar(\"../data/invitationTemplate.txt\", file.info(\"../data/invitationTemplate.txt\")$size)\n",
    "print(invitationTemplate)"
   ]
  },
  {
   "cell_type": "markdown",
   "metadata": {
    "collapsed": true
   },
   "source": [
    "2. Write a R-function `createLetter(fieldsdata, templateText)`, which takes concrete person- and event-data and substitutes the placeholders in the template text with this concrete data. The function returns the concrete invitation letter. The function-arguments shall be:\n",
    "    * `fieldsdata` is a named vector (see [02DataTypes](../Lecture/01Basics/02DataTypes.ipynb)). The names of the vector-components are the 8 placeholders (`<SALUTATION>`,...,`<ADDRESS>`) used in the template. The values of the vector-components are the concrete dataelements for a specific person and a specific event. For example the first component of the vector may have the name `<SALUTATION>` and the value `Mr.`.\n",
    "    * `templateText` is a character-variable, which contains the template text as imported from the file in the previous subtask.\n"
   ]
  },
  {
   "cell_type": "code",
   "execution_count": 41,
   "metadata": {},
   "outputs": [],
   "source": [
    "createLetter <- function(fieldsdata, templateText){\n",
    "    #remove newline chars\n",
    "    templateText <- gsub(\"[\\r\\n]\", \"\", templateText)\n",
    "    \n",
    "    for (key in names(fieldsdata)) {\n",
    "        templateText <- sub(key, fieldsdata[[key]], templateText)\n",
    "    }\n",
    "    return (templateText)\n",
    "}"
   ]
  },
  {
   "cell_type": "markdown",
   "metadata": {},
   "source": [
    "3. For a single event and 3 different persons create 3 concrete data vectors, which can be passed to \n",
    "the function's `fieldsdata`-argument. Call the function 3 times for generating the invitation letter for the 3 persons. Display these invitation letters in the jupyter-notebook. Hint: Since for one concrete event usually many persons must be invited it makes sense to construct the concrete vector from two parts: one person- and one event-specific part. A possible return text of the function could be e.g.\n",
    "```\n",
    "'Dear Mrs. Julia Roberts, we are happy to invite you to our annual showroom 2017. The event starts on 01.04 at 10.00h in Headquarter Office, Mainroad 26, 4711 Ytown. We look forward to your visist. The Xcompany'\n",
    "```"
   ]
  },
  {
   "cell_type": "code",
   "execution_count": 43,
   "metadata": {},
   "outputs": [
    {
     "name": "stdout",
     "output_type": "stream",
     "text": [
      "[1] \"Dear Mr. paul major,we are happy to invite you to our annual showroom 2020. The event starts on 20.01.20 at 20:00 in Stuttgart, Fingerweg 5.We look forward to your visist.The Xcompany\"\n",
      "[1] \"Dear Ms. jessica graham,we are happy to invite you to our annual showroom 2020. The event starts on 20.01.20 at 20:00 in Stuttgart, Fingerweg 5.We look forward to your visist.The Xcompany\"\n",
      "[1] \"Dear Mr. jason walker,we are happy to invite you to our annual showroom 2020. The event starts on 20.01.20 at 20:00 in Stuttgart, Fingerweg 5.We look forward to your visist.The Xcompany\"\n"
     ]
    }
   ],
   "source": [
    "persondata1  <- list('<SALUTATION>'=\"Mr.\", \"<FIRSTNAME>\"=\"paul\", \"<LASTNAME>\"=\"major\")\n",
    "persondata2  <- list('<SALUTATION>'=\"Ms.\", \"<FIRSTNAME>\"=\"jessica\", \"<LASTNAME>\"=\"graham\")\n",
    "persondata3  <- list('<SALUTATION>'=\"Mr.\", \"<FIRSTNAME>\"=\"jason\", \"<LASTNAME>\"=\"walker\")\n",
    "\n",
    "eventdata <- list(\"<YEAR>\"=\"2020\",\"<DATE>\"=\"20.01.20\",\"<TIME>\"=\"20:00\", \"<LOCATION>\"=\"Stuttgart\",\"<ADDRESS>\"=\"Fingerweg 5\")\n",
    "\n",
    "letter1 <- createLetter(c(persondata1,eventdata), invitationTemplate)\n",
    "letter2 <- createLetter(c(persondata2,eventdata), invitationTemplate)\n",
    "letter3 <- createLetter(c(persondata3,eventdata), invitationTemplate)\n",
    "\n",
    "print(letter1)\n",
    "print(letter2)\n",
    "print(letter3)"
   ]
  },
  {
   "cell_type": "markdown",
   "metadata": {},
   "source": [
    "4. Create a vector, whose elements are 10 different normal-distributed random sequences (`rnorm`), each of length 150. For each of these sequences the *minimum-, maximum-, mean- and median-value* shall be calculated. These 4 statistics shall be stored in a vector. All 4-element-statistics-vectors shall be stored in a data frame.\n"
   ]
  },
  {
   "cell_type": "code",
   "execution_count": 72,
   "metadata": {},
   "outputs": [
    {
     "data": {
      "text/html": [
       "<table>\n",
       "<thead><tr><th scope=col>index</th><th scope=col>minimum</th><th scope=col>maximum</th><th scope=col>mean</th><th scope=col>median</th></tr></thead>\n",
       "<tbody>\n",
       "\t<tr><td> 1          </td><td>-2.557776   </td><td>3.092525    </td><td>0.04208827  </td><td>-0.008708701</td></tr>\n",
       "\t<tr><td> 2          </td><td>-3.259881   </td><td>3.031293    </td><td>0.1391167   </td><td> 0.098036467</td></tr>\n",
       "\t<tr><td> 3          </td><td>-2.547708   </td><td>2.123600    </td><td>-0.01335631 </td><td>-0.139157032</td></tr>\n",
       "\t<tr><td> 4          </td><td>-2.349500   </td><td>2.765966    </td><td>-0.02795889 </td><td> 0.005101638</td></tr>\n",
       "\t<tr><td> 5          </td><td>-2.811177   </td><td>2.405458    </td><td>-0.03979879 </td><td>-0.120961383</td></tr>\n",
       "\t<tr><td> 6          </td><td>-2.699616   </td><td>3.364879    </td><td>-0.01183208 </td><td>-0.130316966</td></tr>\n",
       "\t<tr><td> 7          </td><td>-3.409614   </td><td>2.622812    </td><td>-0.08582482 </td><td>-0.135688710</td></tr>\n",
       "\t<tr><td> 8          </td><td>-2.952724   </td><td>2.383272    </td><td>-0.006689422</td><td>-0.073636728</td></tr>\n",
       "\t<tr><td> 9          </td><td>-2.998144   </td><td>2.717379    </td><td>-0.02372847 </td><td>-0.036470501</td></tr>\n",
       "\t<tr><td>10          </td><td>-2.568147   </td><td>2.564289    </td><td>0.08911946  </td><td> 0.127779886</td></tr>\n",
       "</tbody>\n",
       "</table>\n"
      ],
      "text/latex": [
       "\\begin{tabular}{r|lllll}\n",
       " index & minimum & maximum & mean & median\\\\\n",
       "\\hline\n",
       "\t  1           & -2.557776    & 3.092525     & 0.04208827   & -0.008708701\\\\\n",
       "\t  2           & -3.259881    & 3.031293     & 0.1391167    &  0.098036467\\\\\n",
       "\t  3           & -2.547708    & 2.123600     & -0.01335631  & -0.139157032\\\\\n",
       "\t  4           & -2.349500    & 2.765966     & -0.02795889  &  0.005101638\\\\\n",
       "\t  5           & -2.811177    & 2.405458     & -0.03979879  & -0.120961383\\\\\n",
       "\t  6           & -2.699616    & 3.364879     & -0.01183208  & -0.130316966\\\\\n",
       "\t  7           & -3.409614    & 2.622812     & -0.08582482  & -0.135688710\\\\\n",
       "\t  8           & -2.952724    & 2.383272     & -0.006689422 & -0.073636728\\\\\n",
       "\t  9           & -2.998144    & 2.717379     & -0.02372847  & -0.036470501\\\\\n",
       "\t 10           & -2.568147    & 2.564289     & 0.08911946   &  0.127779886\\\\\n",
       "\\end{tabular}\n"
      ],
      "text/markdown": [
       "\n",
       "| index | minimum | maximum | mean | median |\n",
       "|---|---|---|---|---|\n",
       "|  1           | -2.557776    | 3.092525     | 0.04208827   | -0.008708701 |\n",
       "|  2           | -3.259881    | 3.031293     | 0.1391167    |  0.098036467 |\n",
       "|  3           | -2.547708    | 2.123600     | -0.01335631  | -0.139157032 |\n",
       "|  4           | -2.349500    | 2.765966     | -0.02795889  |  0.005101638 |\n",
       "|  5           | -2.811177    | 2.405458     | -0.03979879  | -0.120961383 |\n",
       "|  6           | -2.699616    | 3.364879     | -0.01183208  | -0.130316966 |\n",
       "|  7           | -3.409614    | 2.622812     | -0.08582482  | -0.135688710 |\n",
       "|  8           | -2.952724    | 2.383272     | -0.006689422 | -0.073636728 |\n",
       "|  9           | -2.998144    | 2.717379     | -0.02372847  | -0.036470501 |\n",
       "| 10           | -2.568147    | 2.564289     | 0.08911946   |  0.127779886 |\n",
       "\n"
      ],
      "text/plain": [
       "   index minimum   maximum  mean         median      \n",
       "1   1    -2.557776 3.092525 0.04208827   -0.008708701\n",
       "2   2    -3.259881 3.031293 0.1391167     0.098036467\n",
       "3   3    -2.547708 2.123600 -0.01335631  -0.139157032\n",
       "4   4    -2.349500 2.765966 -0.02795889   0.005101638\n",
       "5   5    -2.811177 2.405458 -0.03979879  -0.120961383\n",
       "6   6    -2.699616 3.364879 -0.01183208  -0.130316966\n",
       "7   7    -3.409614 2.622812 -0.08582482  -0.135688710\n",
       "8   8    -2.952724 2.383272 -0.006689422 -0.073636728\n",
       "9   9    -2.998144 2.717379 -0.02372847  -0.036470501\n",
       "10 10    -2.568147 2.564289 0.08911946    0.127779886"
      ]
     },
     "metadata": {},
     "output_type": "display_data"
    }
   ],
   "source": [
    "df <- data.frame(matrix(ncol = 4, nrow = 0))\n",
    "\n",
    "\n",
    "sequences = list()\n",
    "for (i in 1:10){\n",
    "    current = list(rnorm(150))\n",
    "    sequences <- c(sequences, current)\n",
    "    statstics <- list(i,min(unlist(current)), max(unlist(current)), lapply(current,mean), median(unlist(current), na.rm = TRUE))\n",
    "    df <- rbind(df, statstics)\n",
    "}\n",
    "\n",
    "x <- c(\"index\", \"minimum\", \"maximum\", \"mean\", \"median\")\n",
    "colnames(df) <- x\n",
    "df\n",
    "\n",
    "\n"
   ]
  }
 ],
 "metadata": {
  "anaconda-cloud": {},
  "kernelspec": {
   "display_name": "R",
   "language": "R",
   "name": "ir"
  },
  "language_info": {
   "codemirror_mode": "r",
   "file_extension": ".r",
   "mimetype": "text/x-r-source",
   "name": "R",
   "pygments_lexer": "r",
   "version": "3.6.1"
  },
  "nav_menu": {},
  "toc": {
   "nav_menu": {},
   "number_sections": true,
   "sideBar": true,
   "skip_h1_title": false,
   "toc_cell": false,
   "toc_position": {},
   "toc_section_display": "block",
   "toc_window_display": false
  }
 },
 "nbformat": 4,
 "nbformat_minor": 2
}
