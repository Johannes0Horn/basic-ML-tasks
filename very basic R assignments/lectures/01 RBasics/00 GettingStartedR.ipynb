{
 "cells": [
  {
   "cell_type": "markdown",
   "metadata": {
    "slideshow": {
     "slide_type": "slide"
    }
   },
   "source": [
    "# Getting started with R\n",
    "* Author: Johannes Maucher, few modifications by OK in 2019\n",
    "* Last Update: 2017-06-22\n",
    "\n",
    "* Links and references:\n",
    "    * [R reference card by Tom Short](https://cran.r-project.org/doc/contrib/Short-refcard.pdf) lists the most important R commands\n",
    "\n"
   ]
  },
  {
   "cell_type": "markdown",
   "metadata": {
    "slideshow": {
     "slide_type": "slide"
    }
   },
   "source": [
    "# References and preferred Literature we use in the Lectures of R\n",
    "\n",
    "* [BM17] Bärtl M.: Statistik Schritt für Schritt, Independently published, 2017, Youtube: https://www.youtube.com/channel/UCtBEklAtHHji2V1TsaTzZXw :-)\n",
    "\n",
    "* [KR15] Kabacoff R., R in Action: Data Analysis and Graphics with R, Manning, 2nd edition, Online: www.statmethods.net (\\*)\n",
    "\n",
    "* [WH17] Wickham H., Grolemund G.: R for Data Science, O'Reilly, 2017, Online: https://r4ds.had.co.nz (\\*)\n",
    "\n",
    "* [WH19] Wickham H.: Advanced R, CRC Press Inc, 2019, Online: http://adv-r.had.co.nz\n",
    "\n",
    "\n",
    "\n",
    "The books indicated with (\\*) are the main references of this lecture and will not therefore always referenced. "
   ]
  },
  {
   "cell_type": "markdown",
   "metadata": {
    "slideshow": {
     "slide_type": "slide"
    }
   },
   "source": [
    "# Why R?\n",
    "Statistical software, such as SPSS or SAS, make routine data analysis relatively easy. However, realizing functions and applications that are innovative, non-standard or shall supplement the built-in capabilities, is usually quite difficult with these proprietary tools. In contrast, a good **statistical computing environment**, such as R, also makes routine data analysis easy, but it additionally supports convenient programming. This means that users can extend the already impressive facilities of **core R**. Statisticians and others have taken advantage of this flexibility and extensibility. They contributed more than 10000 freely available **packages** of documented R programs and data to [CRAN (Comprehensive R Archive Network)](http://cran.r-project.org/web/packages/index.html) and other package archives. The relatively slim core-R installation can easily be supplemented on demand by functions for all types of tasks. \n"
   ]
  },
  {
   "cell_type": "markdown",
   "metadata": {
    "slideshow": {
     "slide_type": "subslide"
    }
   },
   "source": [
    "In fact, R is not only a programming language, but a computing environment. [R](https://www.gnu.org/software/r/R.html) is a free, open-source implementation of the S language, and is available for Windows, Mac OS X, and Unix/Linux systems. It is part of the [GNU Project](https://www.gnu.org/). That is, users are free to use, modify, and distribute the program, within the limits of the [GNU non-license](http://www.gnu.org/licenses/licenses.html#WhatIsCopyleft).\n",
    "\n",
    "[The program itself and detailed installation instructions](http://stat.ethz.ch/R-manual/R-patched/doc/manual/R-admin.html) for Linux, Unix, Windows, and Macs are available through [CRAN (Comprehensive R Archive Network)](http://cran.r-project.org/) or via the ANACONDA distribution.\n",
    "Similar to e.g. Java and Python, R is an interpreted language. This implies that R-code runs on distinct platforms without requiring platform specific adaptations, such as e.g. C.\n"
   ]
  },
  {
   "cell_type": "markdown",
   "metadata": {
    "slideshow": {
     "slide_type": "subslide"
    }
   },
   "source": [
    "[R is a functional programming (FP) language](http://adv-r.had.co.nz/Functional-programming.html). This means that the language supports passing functions as arguments to other functions, returning them as the values from other functions, and assigning them to variables or storing them in data structures.\n",
    "\n",
    "Today, R is the number-one computing environment for statistical computing. R has been developed and is particularly well suited for data manipulation, explorations and statistics. It includes many functions for comfortable data access and filtering, descriptive statistics, inferential statistics, visualizations, data mining and machine learning. For example the [R graph gallery](http://www.r-graph-gallery.com/) provides a glimpse of just some visualisation capabilities.\n",
    "\n",
    "For a discussion R or Python - look at [R or Python Discussion](https://www.statworx.com/de/blog/r-oder-python/). There is an interface in R to Python.\n"
   ]
  },
  {
   "cell_type": "markdown",
   "metadata": {
    "slideshow": {
     "slide_type": "subslide"
    }
   },
   "source": [
    "\n",
    "### R Interface to Python\n",
    "\n",
    "We can call Python and its functionality in R by the \"reticulate\"-package. Look at [`reticulate`](https://rstudio.github.io/reticulate/).\n"
   ]
  },
  {
   "cell_type": "markdown",
   "metadata": {
    "slideshow": {
     "slide_type": "slide"
    }
   },
   "source": [
    "## Development Environment\n",
    "\n",
    "### R Studio\n",
    "\n",
    "For developing R-projects [RStudio](https://www.rstudio.com/) is the most popular and comprehensive Integrated Development Environment (IDE). It provides for example syntax highlighting, tools for plotting, debugging, version management etc. RStudio is open source and available for Windows, Mac and Linux.\n",
    "\n",
    "The screenshot below depicts the RStudio standard view of a workspace. In the **console** (left side) R commands can be entered and executed interactively. In the scrennshot-example a vector of integers is assigned to the variable *x* and the logarithm for each of the vector-elements is calculated. While typing a command code-completion suggests valid command names given the already entered letters. The `plot(x,y)` visualizes the calculated logarithm in the lower right part of the window.\n",
    "\n",
    "<html><img src=\"../img/rstudio.PNG\"></html>\n",
    "<font size=\"1\">(Imagesource: own)</font>\n"
   ]
  },
  {
   "cell_type": "markdown",
   "metadata": {
    "slideshow": {
     "slide_type": "subslide"
    }
   },
   "source": [
    "\n",
    "All variables, which have been allocated in the current session, are shown in the **environment-view** (upper right part of the window).  For each of them type, size and values are listed.\n",
    "\n",
    "The window at the lower right provides \n",
    "\n",
    "* a file manager, \n",
    "* an area for plotting graphs\n",
    "* a package manager\n",
    "* and a help section\n",
    "\n",
    "For writing an R program a new file of type *R script* can be opened from the *File*-menu.\n",
    "\n",
    "There also exists alternatives: [RKWard](https://rkward.kde.org/) and others."
   ]
  },
  {
   "cell_type": "markdown",
   "metadata": {
    "slideshow": {
     "slide_type": "slide"
    }
   },
   "source": [
    "Despite RStudio’s excellent tools for developing R projects we do not apply it in this course. Instead, here we write and execute R code in Jupyter notebooks.\n",
    "\n",
    "### Jupyter Notebooks\n",
    "[Jupyter Notebooks](http://jupyter.org/) are less applicable for developing complex R-projects. However, they provide excellent capabilities for teaching purposes. Moreover, they are well suited for experiments and data analysis tasks. For me Jupyter Notebooks are the best platform for comfortable and efficient data analysis and integrated visualisation and documentation.\n",
    "\n",
    "Jupyter Notebook is an open-source web application that allows to create and share documents that contain\n",
    "* live code, \n",
    "* equations, \n",
    "* explanatory texts, \n",
    "* images, \n",
    "* videos \n",
    "* … and much more\n",
    "\n"
   ]
  },
  {
   "cell_type": "markdown",
   "metadata": {
    "slideshow": {
     "slide_type": "subslide"
    }
   },
   "source": [
    "Jupyter Notebook consists of cells: \n",
    "\n",
    "* **Code-cells:** Code is placed in this type of cells. Each cell can be executed individually by pressing the `run cell`- button. The programming language of the code is defined by the current notebooks kernel. Kernels for currently more than 40 programming languages are supported. In this course Jupyter notebooks will be applied for *Python* and *R*. \n",
    "\n",
    "* **Markdown-cells:** Text, formulas, images, ... is placed in this type of cells. Formating is done in the very simple [markdown language](https://daringfireball.net/projects/markdown/).\n"
   ]
  },
  {
   "cell_type": "markdown",
   "metadata": {
    "slideshow": {
     "slide_type": "slide"
    }
   },
   "source": [
    "## Core R and Extensions\n",
    "\n",
    "There exists a lot of so called [R Cheat Sheets](https://www.rstudio.com/resources/cheatsheets/).\n",
    "\n",
    "### Core R Build-In Functions\n",
    "The Core-R installation provides an immense bunch of built-in-functions. They can be applied whenever needed and need not be explicitely loaded. Here are some examples of build-in functions for calculating convenient descriptive statistics."
   ]
  },
  {
   "cell_type": "code",
   "execution_count": 6,
   "metadata": {
    "ExecuteTime": {
     "end_time": "2017-09-08T09:34:51.448000Z",
     "start_time": "2017-09-08T09:34:51.355Z"
    },
    "slideshow": {
     "slide_type": "subslide"
    }
   },
   "outputs": [
    {
     "data": {
      "text/html": [
       "<ol class=list-inline>\n",
       "\t<li>1</li>\n",
       "\t<li>2</li>\n",
       "\t<li>3</li>\n",
       "\t<li>4</li>\n",
       "\t<li>5</li>\n",
       "\t<li>6</li>\n",
       "\t<li>7</li>\n",
       "\t<li>8</li>\n",
       "\t<li>9</li>\n",
       "\t<li>10</li>\n",
       "\t<li>11</li>\n",
       "\t<li>12</li>\n",
       "\t<li>13</li>\n",
       "\t<li>14</li>\n",
       "\t<li>15</li>\n",
       "\t<li>16</li>\n",
       "\t<li>17</li>\n",
       "\t<li>18</li>\n",
       "\t<li>19</li>\n",
       "\t<li>20</li>\n",
       "\t<li>21</li>\n",
       "\t<li>22</li>\n",
       "\t<li>23</li>\n",
       "\t<li>24</li>\n",
       "\t<li>25</li>\n",
       "\t<li>26</li>\n",
       "\t<li>27</li>\n",
       "\t<li>28</li>\n",
       "\t<li>29</li>\n",
       "\t<li>30</li>\n",
       "</ol>\n"
      ],
      "text/latex": [
       "\\begin{enumerate*}\n",
       "\\item 1\n",
       "\\item 2\n",
       "\\item 3\n",
       "\\item 4\n",
       "\\item 5\n",
       "\\item 6\n",
       "\\item 7\n",
       "\\item 8\n",
       "\\item 9\n",
       "\\item 10\n",
       "\\item 11\n",
       "\\item 12\n",
       "\\item 13\n",
       "\\item 14\n",
       "\\item 15\n",
       "\\item 16\n",
       "\\item 17\n",
       "\\item 18\n",
       "\\item 19\n",
       "\\item 20\n",
       "\\item 21\n",
       "\\item 22\n",
       "\\item 23\n",
       "\\item 24\n",
       "\\item 25\n",
       "\\item 26\n",
       "\\item 27\n",
       "\\item 28\n",
       "\\item 29\n",
       "\\item 30\n",
       "\\end{enumerate*}\n"
      ],
      "text/markdown": [
       "1. 1\n",
       "2. 2\n",
       "3. 3\n",
       "4. 4\n",
       "5. 5\n",
       "6. 6\n",
       "7. 7\n",
       "8. 8\n",
       "9. 9\n",
       "10. 10\n",
       "11. 11\n",
       "12. 12\n",
       "13. 13\n",
       "14. 14\n",
       "15. 15\n",
       "16. 16\n",
       "17. 17\n",
       "18. 18\n",
       "19. 19\n",
       "20. 20\n",
       "21. 21\n",
       "22. 22\n",
       "23. 23\n",
       "24. 24\n",
       "25. 25\n",
       "26. 26\n",
       "27. 27\n",
       "28. 28\n",
       "29. 29\n",
       "30. 30\n",
       "\n",
       "\n"
      ],
      "text/plain": [
       " [1]  1  2  3  4  5  6  7  8  9 10 11 12 13 14 15 16 17 18 19 20 21 22 23 24 25\n",
       "[26] 26 27 28 29 30"
      ]
     },
     "metadata": {},
     "output_type": "display_data"
    },
    {
     "data": {
      "text/html": [
       "30"
      ],
      "text/latex": [
       "30"
      ],
      "text/markdown": [
       "30"
      ],
      "text/plain": [
       "[1] 30"
      ]
     },
     "metadata": {},
     "output_type": "display_data"
    },
    {
     "data": {
      "text/html": [
       "1"
      ],
      "text/latex": [
       "1"
      ],
      "text/markdown": [
       "1"
      ],
      "text/plain": [
       "[1] 1"
      ]
     },
     "metadata": {},
     "output_type": "display_data"
    },
    {
     "data": {
      "text/html": [
       "15.5"
      ],
      "text/latex": [
       "15.5"
      ],
      "text/markdown": [
       "15.5"
      ],
      "text/plain": [
       "[1] 15.5"
      ]
     },
     "metadata": {},
     "output_type": "display_data"
    },
    {
     "data": {
      "text/html": [
       "8.8034084308295"
      ],
      "text/latex": [
       "8.8034084308295"
      ],
      "text/markdown": [
       "8.8034084308295"
      ],
      "text/plain": [
       "[1] 8.803408"
      ]
     },
     "metadata": {},
     "output_type": "display_data"
    },
    {
     "data": {
      "text/html": [
       "77.5"
      ],
      "text/latex": [
       "77.5"
      ],
      "text/markdown": [
       "77.5"
      ],
      "text/plain": [
       "[1] 77.5"
      ]
     },
     "metadata": {},
     "output_type": "display_data"
    }
   ],
   "source": [
    "a <- 1:30 #allocate a vector of 20 integers - Pay attention to <- !!!\n",
    "a\n",
    "max(a) # get maximum value in vector a\n",
    "min(a) # get minimum value in vector a\n",
    "mean(a) # get arithmetic mean of values in a\n",
    "sd(a) # get standard deviation of values in a\n",
    "var(a) # get variance of values in a"
   ]
  },
  {
   "cell_type": "markdown",
   "metadata": {
    "slideshow": {
     "slide_type": "subslide"
    }
   },
   "source": [
    "Some other mathematical built-in functions are: "
   ]
  },
  {
   "cell_type": "code",
   "execution_count": 2,
   "metadata": {
    "ExecuteTime": {
     "end_time": "2017-09-08T09:34:58.811000Z",
     "start_time": "2017-09-08T09:34:58.758Z"
    },
    "scrolled": true,
    "slideshow": {
     "slide_type": "fragment"
    }
   },
   "outputs": [
    {
     "data": {
      "text/html": [
       "5"
      ],
      "text/latex": [
       "5"
      ],
      "text/markdown": [
       "5"
      ],
      "text/plain": [
       "[1] 5"
      ]
     },
     "metadata": {},
     "output_type": "display_data"
    },
    {
     "data": {
      "text/html": [
       "-1"
      ],
      "text/latex": [
       "-1"
      ],
      "text/markdown": [
       "-1"
      ],
      "text/plain": [
       "[1] -1"
      ]
     },
     "metadata": {},
     "output_type": "display_data"
    },
    {
     "data": {
      "text/html": [
       "7"
      ],
      "text/latex": [
       "7"
      ],
      "text/markdown": [
       "7"
      ],
      "text/plain": [
       "[1] 7"
      ]
     },
     "metadata": {},
     "output_type": "display_data"
    }
   ],
   "source": [
    "sqrt(25)\n",
    "cos(pi)\n",
    "log2(128)"
   ]
  },
  {
   "cell_type": "markdown",
   "metadata": {
    "slideshow": {
     "slide_type": "subslide"
    }
   },
   "source": [
    "There are also many built-in graphical functions such as `plot()` or `hist()`. In the following code-cell the built-in function `rnorm()` generates a set of normally distributed random numbers. Their distribution is then plotted by the `hist()`-function."
   ]
  },
  {
   "cell_type": "code",
   "execution_count": 9,
   "metadata": {
    "ExecuteTime": {
     "end_time": "2017-09-28T10:43:27.803000Z",
     "start_time": "2017-09-28T10:43:27.724Z"
    },
    "slideshow": {
     "slide_type": "subslide"
    }
   },
   "outputs": [
    {
     "data": {
      "image/png": "[encoded data removed]",
      "text/plain": [
       "Plot with title \"Histogram of randnumbers\""
      ]
     },
     "metadata": {},
     "output_type": "display_data"
    }
   ],
   "source": [
    "#Resize plot\n",
    "options(repr.plot.res = 80, repr.plot.height=6, repr.plot.width=7)  #Defaults:resolution=120,width/height=7\n",
    "\n",
    "randnumbers <- rnorm(1000, mean=0, sd=1)\n",
    "hist(randnumbers)"
   ]
  },
  {
   "cell_type": "markdown",
   "metadata": {
    "slideshow": {
     "slide_type": "slide"
    }
   },
   "source": [
    "### Functions from external R packages\n",
    "There exists more than 10000 R-packages, which provide solutions for all kinds of problems. External R packages can be downloaded e.g. from [CRAN (Comprehensive R Archive Network)](http://cran.r-project.org/web/packages/index.html). The list of all installed package, available in your current environment, can be obtained by the following statement:"
   ]
  },
  {
   "cell_type": "code",
   "execution_count": 4,
   "metadata": {
    "ExecuteTime": {
     "end_time": "2017-09-08T07:44:33.051000Z",
     "start_time": "2017-09-08T07:44:32.742Z"
    },
    "slideshow": {
     "slide_type": "fragment"
    }
   },
   "outputs": [],
   "source": [
    "library()"
   ]
  },
  {
   "cell_type": "markdown",
   "metadata": {
    "slideshow": {
     "slide_type": "subslide"
    }
   },
   "source": [
    "Functions of external packages, which are installed in your environment must be loaded before they can be applied. Functions from package *X* can be loaded by\n",
    "*library(X)*. For example the following statement loads the package *ggplot2*"
   ]
  },
  {
   "cell_type": "code",
   "execution_count": 5,
   "metadata": {
    "ExecuteTime": {
     "end_time": "2017-09-28T10:44:30.464000Z",
     "start_time": "2017-09-28T10:44:29.828Z"
    },
    "slideshow": {
     "slide_type": "fragment"
    }
   },
   "outputs": [],
   "source": [
    "library(ggplot2)"
   ]
  },
  {
   "cell_type": "markdown",
   "metadata": {
    "slideshow": {
     "slide_type": "subslide"
    }
   },
   "source": [
    "External packages, which are not already installed in your environment, can be downloaded and installed by\n",
    "\n",
    "```R\n",
    "install.packages(\"NameOfPackage\")\n",
    "```\n",
    "With \n",
    "\n",
    "```R\n",
    "remove.packages(\"NameOfPackage\")\n",
    "```\n",
    "you can uninstall the package. "
   ]
  },
  {
   "cell_type": "markdown",
   "metadata": {
    "slideshow": {
     "slide_type": "slide"
    }
   },
   "source": [
    "For example the following statement downloads and installs the package *ttseries*"
   ]
  },
  {
   "cell_type": "code",
   "execution_count": 11,
   "metadata": {
    "ExecuteTime": {
     "end_time": "2017-09-28T10:44:42.987000Z",
     "start_time": "2017-09-28T10:44:37.796Z"
    },
    "slideshow": {
     "slide_type": "fragment"
    }
   },
   "outputs": [
    {
     "name": "stderr",
     "output_type": "stream",
     "text": [
      "Installing package into 'C:/Users/OK/Documents/R/win-library/3.6'\n",
      "(as 'lib' is unspecified)\n",
      "Warning message:\n",
      "\"package 'tagcloud' is in use and will not be installed\""
     ]
    }
   ],
   "source": [
    "install.packages(\"tagcloud\")"
   ]
  },
  {
   "cell_type": "markdown",
   "metadata": {
    "slideshow": {
     "slide_type": "subslide"
    }
   },
   "source": [
    "This command is only successful if the package exists on the configured CRAN-mirror. A list of all available CRAN-mirrors can be obtained by the *getCRANmirrors()*-function."
   ]
  },
  {
   "cell_type": "code",
   "execution_count": 7,
   "metadata": {
    "ExecuteTime": {
     "end_time": "2017-08-10T04:51:05.803000Z",
     "start_time": "2017-08-10T04:51:04.928Z"
    },
    "slideshow": {
     "slide_type": "fragment"
    }
   },
   "outputs": [
    {
     "data": {
      "text/html": [
       "<table>\n",
       "<caption>A data.frame: 94 × 9</caption>\n",
       "<thead>\n",
       "\t<tr><th></th><th scope=col>Name</th><th scope=col>Country</th><th scope=col>City</th><th scope=col>URL</th><th scope=col>Host</th><th scope=col>Maintainer</th><th scope=col>OK</th><th scope=col>CountryCode</th><th scope=col>Comment</th></tr>\n",
       "\t<tr><th></th><th scope=col>&lt;chr&gt;</th><th scope=col>&lt;chr&gt;</th><th scope=col>&lt;chr&gt;</th><th scope=col>&lt;chr&gt;</th><th scope=col>&lt;chr&gt;</th><th scope=col>&lt;chr&gt;</th><th scope=col>&lt;int&gt;</th><th scope=col>&lt;chr&gt;</th><th scope=col>&lt;chr&gt;</th></tr>\n",
       "</thead>\n",
       "<tbody>\n",
       "\t<tr><th scope=row>1</th><td>0-Cloud [https]                </td><td>0-Cloud       </td><td>0-Cloud       </td><td>https://cloud.r-project.org/              </td><td>Automatic redirection to servers worldwide, currently sponsored by Rstudio</td><td>winston # stdout.org                                                    </td><td>1</td><td>us</td><td>secure_mirror_from_master                           </td></tr>\n",
       "\t<tr><th scope=row>2</th><td><span style=white-space:pre-wrap>Algeria [https]                </span></td><td><span style=white-space:pre-wrap>Algeria       </span></td><td><span style=white-space:pre-wrap>Algiers       </span></td><td><span style=white-space:pre-wrap>https://cran.usthb.dz/                    </span></td><td><span style=white-space:pre-wrap>University of Science and Technology Houari Boumediene                    </span></td><td><span style=white-space:pre-wrap>Boukala m c &lt;mboukala # usthb.dz&gt;                                       </span></td><td>1</td><td>dz</td><td><span style=white-space:pre-wrap>secure_mirror_from_master                           </span></td></tr>\n",
       "\t<tr><th scope=row>3</th><td>Argentina (La Plata)           </td><td>Argentina     </td><td>La Plata      </td><td>http://mirror.fcaglp.unlp.edu.ar/CRAN/    </td><td>Universidad Nacional de La Plata                                          </td><td>esuarez # Fcaglp.unlp.edu.ar                                            </td><td>1</td><td>ar</td><td>                                                    </td></tr>\n",
       "\t<tr><th scope=row>4</th><td>Australia (Canberra) [https]   </td><td>Australia     </td><td>Canberra      </td><td>https://cran.csiro.au/                    </td><td>CSIRO                                                                     </td><td>ben.tan # csiro.au, Jayesh.joshi # csiro.au, CSIROServiceDesk # csiro.au</td><td>1</td><td>au</td><td>secure_mirror_from_master                           </td></tr>\n",
       "\t<tr><th scope=row>5</th><td>Australia (Melbourne 1) [https]</td><td><span style=white-space:pre-wrap>Australia     </span></td><td><span style=white-space:pre-wrap>Melbourne     </span></td><td><span style=white-space:pre-wrap>https://mirror.aarnet.edu.au/pub/CRAN/    </span></td><td><span style=white-space:pre-wrap>AARNET                                                                    </span></td><td><span style=white-space:pre-wrap>&lt;sysadmin # aarnet.edu.au&gt;                                              </span></td><td>1</td><td>au</td><td><span style=white-space:pre-wrap>secure_mirror_from_master                           </span></td></tr>\n",
       "\t<tr><th scope=row>6</th><td>Australia (Melbourne 2) [https]</td><td>Australia     </td><td>Melbourne     </td><td>https://cran.ms.unimelb.edu.au/           </td><td>School of Mathematics and Statistics, University of Melbourne             </td><td>unix-ops # lists.unimelb.edu.au                                         </td><td>1</td><td>au</td><td>secure_mirror_from_master,maintainer_address_bounces</td></tr>\n",
       "\t<tr><th scope=row>7</th><td>Australia (Perth) [https]      </td><td>Australia     </td><td>Perth         </td><td>https://cran.curtin.edu.au/               </td><td>Curtin University of Technology                                           </td><td>unix # curtin.edu.au                                                    </td><td>1</td><td>au</td><td>secure_mirror_from_master                           </td></tr>\n",
       "\t<tr><th scope=row>8</th><td>Austria [https]                </td><td>Austria       </td><td>Wien          </td><td>https://cran.wu.ac.at/                    </td><td>Wirtschaftsuniversität Wien                                               </td><td>CRAN # R-project.org                                                    </td><td>1</td><td>at</td><td>secure_mirror_from_master                           </td></tr>\n",
       "\t<tr><th scope=row>9</th><td>Belgium (Antwerp) [https]      </td><td>Belgium       </td><td>Antwerp       </td><td>https://www.freestatistics.org/cran/      </td><td>Patrick Wessa                                                             </td><td>patrick # wessa.net                                                     </td><td>1</td><td>be</td><td>                                                    </td></tr>\n",
       "\t<tr><th scope=row>10</th><td><span style=white-space:pre-wrap>Belgium (Ghent) [https]        </span></td><td><span style=white-space:pre-wrap>Belgium       </span></td><td><span style=white-space:pre-wrap>Ghent         </span></td><td><span style=white-space:pre-wrap>https://lib.ugent.be/CRAN/                </span></td><td><span style=white-space:pre-wrap>Ghent University Library                                                  </span></td><td><span style=white-space:pre-wrap>Patrick Hochstenbach &lt;Patrick.Hochstenbach # UGent.be&gt;                  </span></td><td>1</td><td>be</td><td><span style=white-space:pre-wrap>secure_mirror_from_master                           </span></td></tr>\n",
       "\t<tr><th scope=row>12</th><td>Brazil (PR) [https]            </td><td>Brazil        </td><td>Curitiba      </td><td>https://cran-r.c3sl.ufpr.br/              </td><td>Universidade Federal do Parana                                            </td><td>root # c3sl.ufpr.br                                                     </td><td>1</td><td>br</td><td>secure_mirror_from_master                           </td></tr>\n",
       "\t<tr><th scope=row>13</th><td>Brazil (RJ) [https]            </td><td>Brazil        </td><td>Rio de Janeiro</td><td>https://cran.fiocruz.br/                  </td><td>Oswaldo Cruz Foundation, Rio de Janeiro                                   </td><td>oswaldo.cruz # fiocruz.br                                               </td><td>1</td><td>br</td><td>secure_mirror_from_master                           </td></tr>\n",
       "\t<tr><th scope=row>14</th><td><span style=white-space:pre-wrap>Brazil (SP 1) [https]          </span></td><td><span style=white-space:pre-wrap>Brazil        </span></td><td><span style=white-space:pre-wrap>Sao Paulo     </span></td><td><span style=white-space:pre-wrap>https://vps.fmvz.usp.br/CRAN/             </span></td><td><span style=white-space:pre-wrap>University of Sao Paulo, Sao Paulo                                        </span></td><td><span style=white-space:pre-wrap>Fernando Ferreira &lt;fernando # vps.fmvz.usp.br&gt;                          </span></td><td>1</td><td>br</td><td><span style=white-space:pre-wrap>secure_mirror_from_master                           </span></td></tr>\n",
       "\t<tr><th scope=row>15</th><td><span style=white-space:pre-wrap>Brazil (SP 2) [https]          </span></td><td><span style=white-space:pre-wrap>Brazil        </span></td><td><span style=white-space:pre-wrap>Piracicaba    </span></td><td><span style=white-space:pre-wrap>https://brieger.esalq.usp.br/CRAN/        </span></td><td><span style=white-space:pre-wrap>University of Sao Paulo, Piracicaba                                       </span></td><td><span style=white-space:pre-wrap>A Augusto F Garcia &lt;aafgarci # gmail.com&gt;, augusto.garcia # usp.br      </span></td><td>1</td><td>br</td><td><span style=white-space:pre-wrap>secure_mirror_from_master                           </span></td></tr>\n",
       "\t<tr><th scope=row>16</th><td><span style=white-space:pre-wrap>Bulgaria [https]               </span></td><td><span style=white-space:pre-wrap>Bulgaria      </span></td><td><span style=white-space:pre-wrap>Sofia         </span></td><td><span style=white-space:pre-wrap>https://ftp.uni-sofia.bg/CRAN/            </span></td><td><span style=white-space:pre-wrap>Sofia University                                                          </span></td><td><span style=white-space:pre-wrap>Alexander Velin &lt;velin # fccf.net&gt;                                      </span></td><td>1</td><td>bg</td><td><span style=white-space:pre-wrap>secure_mirror_from_master                           </span></td></tr>\n",
       "\t<tr><th scope=row>17</th><td>Canada (BC) [https]            </td><td>Canada        </td><td>Burnaby       </td><td>https://mirror.its.sfu.ca/mirror/CRAN/    </td><td>Simon Fraser University, Burnaby                                          </td><td>research-support # sfu.ca                                               </td><td>1</td><td>ca</td><td>                                                    </td></tr>\n",
       "\t<tr><th scope=row>18</th><td>Canada (MB) [https]            </td><td>Canada        </td><td>Winnipeg      </td><td>https://muug.ca/mirror/cran/              </td><td>Manitoba Unix User Group                                                  </td><td>mirror # muug.ca                                                        </td><td>1</td><td>ca</td><td>                                                    </td></tr>\n",
       "\t<tr><th scope=row>19</th><td>Canada (NS) [https]            </td><td>Canada        </td><td>Halifax       </td><td>https://mirror.its.dal.ca/cran/           </td><td>Dalhousie University, Halifax                                             </td><td>mirror # lists.dal.ca                                                   </td><td>1</td><td>ca</td><td>                                                    </td></tr>\n",
       "\t<tr><th scope=row>20</th><td><span style=white-space:pre-wrap>Canada (ON)                    </span></td><td><span style=white-space:pre-wrap>Canada        </span></td><td><span style=white-space:pre-wrap>Toronto       </span></td><td><span style=white-space:pre-wrap>http://cran.utstat.utoronto.ca/           </span></td><td><span style=white-space:pre-wrap>University of Toronto                                                     </span></td><td><span style=white-space:pre-wrap>Dermot Whelan &lt;wheland # utstat.utoronto.ca&gt;                            </span></td><td>1</td><td>ca</td><td><span style=white-space:pre-wrap>                                                    </span></td></tr>\n",
       "\t<tr><th scope=row>21</th><td><span style=white-space:pre-wrap>Chile [https]                  </span></td><td><span style=white-space:pre-wrap>Chile         </span></td><td><span style=white-space:pre-wrap>Santiago      </span></td><td><span style=white-space:pre-wrap>https://cran.dcc.uchile.cl/               </span></td><td><span style=white-space:pre-wrap>Departamento de Ciencias de la Computación, Universidad de Chile          </span></td><td><span style=white-space:pre-wrap>Mauricio Vargas &lt;mvargas # dcc.uchile.cl&gt;                               </span></td><td>1</td><td>cl</td><td><span style=white-space:pre-wrap>secure_mirror_from_master                           </span></td></tr>\n",
       "\t<tr><th scope=row>22</th><td><span style=white-space:pre-wrap>China (Beijing) [https]        </span></td><td><span style=white-space:pre-wrap>China         </span></td><td><span style=white-space:pre-wrap>Beijing       </span></td><td>https://mirrors.tuna.tsinghua.edu.cn/CRAN/</td><td><span style=white-space:pre-wrap>TUNA Team, Tsinghua University                                            </span></td><td><span style=white-space:pre-wrap>Justin Wong &lt;justin.w.xd # gmail.com&gt;                                   </span></td><td>1</td><td>cn</td><td><span style=white-space:pre-wrap>                                                    </span></td></tr>\n",
       "\t<tr><th scope=row>23</th><td>China (Hefei) [https]          </td><td>China         </td><td>Hefei         </td><td>https://mirrors.ustc.edu.cn/CRAN/         </td><td>University of Science and Technology of China                             </td><td>mirrors # Ustc.edu.cn                                                   </td><td>1</td><td>cn</td><td>                                                    </td></tr>\n",
       "\t<tr><th scope=row>24</th><td>China (Hong Kong) [https]      </td><td>China         </td><td>Hong Kong     </td><td>https://mirror-hk.koddos.net/CRAN/        </td><td>KoDDoS in Hong Kong                                                       </td><td>mirror # koddos.net                                                     </td><td>1</td><td>cn</td><td>secure_mirror_from_master                           </td></tr>\n",
       "\t<tr><th scope=row>25</th><td>China (Guangzhou) [https]      </td><td>China         </td><td>Guangzhou     </td><td>https://mirrors.eliteu.cn/CRAN/           </td><td>Elite Education                                                           </td><td>x.liu # eliteu.cn                                                       </td><td>1</td><td>cn</td><td>secure_mirror_from_master                           </td></tr>\n",
       "\t<tr><th scope=row>26</th><td>China (Lanzhou) [https]        </td><td>China         </td><td>Lanzhou       </td><td>https://mirror.lzu.edu.cn/CRAN/           </td><td>Lanzhou University Open Source Society                                    </td><td>oss.lzu.edu.cn # gmail.com                                              </td><td>1</td><td>cn</td><td>secure_mirror_from_master                           </td></tr>\n",
       "\t<tr><th scope=row>27</th><td>China (Shanghai) [https]       </td><td>China         </td><td>Shanghai      </td><td>https://mirrors.tongji.edu.cn/CRAN/       </td><td>Tongji University                                                         </td><td>mirrors # opentj.org                                                    </td><td>1</td><td>cn</td><td>secure_mirror_from_master                           </td></tr>\n",
       "\t<tr><th scope=row>28</th><td>Colombia (Cali) [https]        </td><td>Colombia      </td><td>Cali          </td><td>https://www.icesi.edu.co/CRAN/            </td><td>Icesi University                                                          </td><td>adminred # Icesi.edu.co                                                 </td><td>1</td><td>co</td><td>secure_mirror_from_master                           </td></tr>\n",
       "\t<tr><th scope=row>29</th><td>Czech Republic [https]         </td><td>Czech Republic</td><td>Prague        </td><td>https://mirrors.nic.cz/R/                 </td><td>CZ.NIC, Prague                                                            </td><td>mirrors # nic.cz                                                        </td><td>1</td><td>cz</td><td>secure_mirror_from_master,maintainer_address_bounces</td></tr>\n",
       "\t<tr><th scope=row>30</th><td>Denmark [https]                </td><td>Denmark       </td><td>Aalborg       </td><td>https://mirrors.dotsrc.org/cran/          </td><td>Aalborg University                                                        </td><td>staff # dotsrc.org                                                      </td><td>1</td><td>dk</td><td>secure_mirror_from_master                           </td></tr>\n",
       "\t<tr><th scope=row>32</th><td>Ecuador (Cuenca) [https]       </td><td>Ecuador       </td><td>Cuenca        </td><td>https://mirror.cedia.org.ec/CRAN/         </td><td>CEDIA                                                                     </td><td>paul.bernal # cedia.org.ec                                              </td><td>1</td><td>ec</td><td>secure_mirror_from_master                           </td></tr>\n",
       "\t<tr><th scope=row>...</th><td>...</td><td>...</td><td>...</td><td>...</td><td>...</td><td>...</td><td>...</td><td>...</td><td>...</td></tr>\n",
       "\t<tr><th scope=row>69</th><td>Portugal (Porto)             </td><td>Portugal    </td><td>Porto       </td><td>http://cran.dcc.fc.up.pt/               </td><td>University of Porto                                               </td><td>labcc # labcc.dcc.fc.up.pt                                      </td><td>1</td><td>pt</td><td>                          </td></tr>\n",
       "\t<tr><th scope=row>70</th><td><span style=white-space:pre-wrap>Serbia [https]               </span></td><td><span style=white-space:pre-wrap>Serbia      </span></td><td><span style=white-space:pre-wrap>Belgrade    </span></td><td><span style=white-space:pre-wrap>https://fourdots.com/mirror/CRAN/       </span></td><td><span style=white-space:pre-wrap>Four Dots                                                         </span></td><td><span style=white-space:pre-wrap>Goran Tepsic &lt;goran.tepsic # fourdots.com&gt;                      </span></td><td>1</td><td>rs</td><td>secure_mirror_from_master </td></tr>\n",
       "\t<tr><th scope=row>71</th><td>Singapore (Singapore) [https]</td><td>Singapore   </td><td>Singapore   </td><td>https://cran.stat.nus.edu.sg/           </td><td>National University of Singapore, Singapore                       </td><td>ccezr # nus.edu.sg                                              </td><td>1</td><td>sg</td><td>                          </td></tr>\n",
       "\t<tr><th scope=row>72</th><td>South Africa (Cape Town)     </td><td>South Africa</td><td>Cape Town   </td><td>http://r.adu.org.za/                    </td><td>University of Cape Town                                           </td><td>michael.brooks # uct.ac.za                                      </td><td>1</td><td>za</td><td>                          </td></tr>\n",
       "\t<tr><th scope=row>73</th><td><span style=white-space:pre-wrap>South Africa (Johannesburg)  </span></td><td>South Africa</td><td>Johannesburg</td><td><span style=white-space:pre-wrap>http://cran.mirror.ac.za/               </span></td><td><span style=white-space:pre-wrap>TENET, Johannesburg                                               </span></td><td><span style=white-space:pre-wrap>Patrick Holahan &lt;patrickh # tenet.ac.za&gt;                        </span></td><td>1</td><td>za</td><td><span style=white-space:pre-wrap>                          </span></td></tr>\n",
       "\t<tr><th scope=row>75</th><td><span style=white-space:pre-wrap>Spain (Madrid) [https]       </span></td><td><span style=white-space:pre-wrap>Spain       </span></td><td><span style=white-space:pre-wrap>Madrid      </span></td><td><span style=white-space:pre-wrap>https://cran.rediris.es/                </span></td><td><span style=white-space:pre-wrap>Spanish National Research Network, Madrid                         </span></td><td><span style=white-space:pre-wrap>Jose Manuel Macias &lt;jmanuel.macias # rediris.es&gt;                </span></td><td>1</td><td>es</td><td>secure_mirror_from_master </td></tr>\n",
       "\t<tr><th scope=row>76</th><td><span style=white-space:pre-wrap>Sweden [https]               </span></td><td><span style=white-space:pre-wrap>Sweden      </span></td><td><span style=white-space:pre-wrap>Umeå        </span></td><td><span style=white-space:pre-wrap>https://ftp.acc.umu.se/mirror/CRAN/     </span></td><td><span style=white-space:pre-wrap>Academic Computer Club, Umeå University                           </span></td><td><span style=white-space:pre-wrap>&lt;ftp-adm # acc.umu.se&gt;                                          </span></td><td>1</td><td>se</td><td>secure_mirror_from_master </td></tr>\n",
       "\t<tr><th scope=row>77</th><td>Switzerland [https]          </td><td>Switzerland </td><td>Zürich      </td><td>https://stat.ethz.ch/CRAN/              </td><td>ETH Zürich                                                        </td><td>Martin.Maechler # R-project.org                                 </td><td>1</td><td>ch</td><td>secure_mirror_from_master </td></tr>\n",
       "\t<tr><th scope=row>78</th><td><span style=white-space:pre-wrap>Taiwan (Chungli) [https]     </span></td><td><span style=white-space:pre-wrap>Taiwan      </span></td><td><span style=white-space:pre-wrap>Chungli     </span></td><td><span style=white-space:pre-wrap>https://ftp.yzu.edu.tw/CRAN/            </span></td><td>Department of Computer Science and Engineering, Yuan Ze University</td><td><span style=white-space:pre-wrap>Peter Dave Hello &lt;hsu # peterdavehello.org&gt;                     </span></td><td>1</td><td>tw</td><td><span style=white-space:pre-wrap>                          </span></td></tr>\n",
       "\t<tr><th scope=row>79</th><td><span style=white-space:pre-wrap>Taiwan (Taipei)              </span></td><td><span style=white-space:pre-wrap>Taiwan      </span></td><td><span style=white-space:pre-wrap>Taipei      </span></td><td><span style=white-space:pre-wrap>http://cran.csie.ntu.edu.tw/            </span></td><td><span style=white-space:pre-wrap>National Taiwan University, Taipei                                </span></td><td><span style=white-space:pre-wrap>Rong-En Fan  &lt;rafan # infor.org&gt;                                </span></td><td>1</td><td>tw</td><td>maintainer_address_bounces</td></tr>\n",
       "\t<tr><th scope=row>80</th><td>Thailand                     </td><td>Thailand    </td><td>Hatyai      </td><td>http://mirrors.psu.ac.th/pub/cran/      </td><td>Prince of Songkla University, Hatyai                              </td><td>wipat.s # psu.ac.th                                             </td><td>1</td><td>th</td><td>                          </td></tr>\n",
       "\t<tr><th scope=row>81</th><td><span style=white-space:pre-wrap>Turkey (Denizli) [https]     </span></td><td><span style=white-space:pre-wrap>Turkey      </span></td><td><span style=white-space:pre-wrap>Denizli     </span></td><td><span style=white-space:pre-wrap>https://cran.pau.edu.tr/                </span></td><td><span style=white-space:pre-wrap>Pamukkale University, Denizli                                     </span></td><td><span style=white-space:pre-wrap>Ugur Zeybek &lt;uzeybek # pau.edu.tr&gt;                              </span></td><td>1</td><td>tr</td><td>secure_mirror_from_master </td></tr>\n",
       "\t<tr><th scope=row>82</th><td>Turkey (Mersin) [https]      </td><td>Turkey      </td><td>Mersin      </td><td>https://cran.ncc.metu.edu.tr/           </td><td>Middle East Technical University Northern Cyprus Campus, Mersin   </td><td>atasiran # metu.edu.tr, ncc-cc # metu.edu.tr                    </td><td>1</td><td>tr</td><td>secure_mirror_from_master </td></tr>\n",
       "\t<tr><th scope=row>83</th><td><span style=white-space:pre-wrap>UK (Bristol) [https]         </span></td><td><span style=white-space:pre-wrap>UK          </span></td><td><span style=white-space:pre-wrap>Bristol     </span></td><td><span style=white-space:pre-wrap>https://www.stats.bris.ac.uk/R/         </span></td><td><span style=white-space:pre-wrap>University of Bristol                                             </span></td><td>Guy Nason &lt;G.P.Nason # bristol.ac.uk&gt;, it-zone-d # bristol.ac.uk</td><td>1</td><td>uk</td><td>secure_mirror_from_master </td></tr>\n",
       "\t<tr><th scope=row>84</th><td>UK (London 1) [https]        </td><td>UK          </td><td>London      </td><td>https://cran.ma.imperial.ac.uk/         </td><td>Imperial College London                                           </td><td>andy.thomas # imperial.ac.uk                                    </td><td>1</td><td>uk</td><td>secure_mirror_from_master </td></tr>\n",
       "\t<tr><th scope=row>85</th><td>USA (CA 1) [https]           </td><td>USA         </td><td>Berkeley    </td><td>https://cran.cnr.berkeley.edu/          </td><td>University of California, Berkeley, CA                            </td><td>casterln # nature.berkeley.edu                                  </td><td>1</td><td>us</td><td>secure_mirror_from_master </td></tr>\n",
       "\t<tr><th scope=row>87</th><td>USA (IA) [https]             </td><td>USA         </td><td>Ames        </td><td>https://mirror.las.iastate.edu/CRAN/    </td><td>Iowa State University, Ames, IA                                   </td><td>statit # iastate.edu                                            </td><td>1</td><td>us</td><td>secure_mirror_from_master </td></tr>\n",
       "\t<tr><th scope=row>88</th><td>USA (IN) [https]             </td><td>USA         </td><td>Bloomington </td><td>https://ftp.ussg.iu.edu/CRAN/           </td><td>Indiana University                                                </td><td>rtadmin # indiana.edu                                           </td><td>1</td><td>us</td><td>                          </td></tr>\n",
       "\t<tr><th scope=row>89</th><td><span style=white-space:pre-wrap>USA (KS) [https]             </span></td><td><span style=white-space:pre-wrap>USA         </span></td><td><span style=white-space:pre-wrap>Lawrence    </span></td><td><span style=white-space:pre-wrap>https://rweb.crmda.ku.edu/cran/         </span></td><td><span style=white-space:pre-wrap>University of Kansas, Lawrence, KS                                </span></td><td><span style=white-space:pre-wrap>Paul Johnson &lt;pauljohn # ku.edu&gt;                                </span></td><td>1</td><td>us</td><td>secure_mirror_from_master </td></tr>\n",
       "\t<tr><th scope=row>90</th><td><span style=white-space:pre-wrap>USA (MI 1) [https]           </span></td><td><span style=white-space:pre-wrap>USA         </span></td><td><span style=white-space:pre-wrap>Houghton    </span></td><td><span style=white-space:pre-wrap>https://cran.mtu.edu/                   </span></td><td><span style=white-space:pre-wrap>Michigan Technological University, Houghton, MI                   </span></td><td><span style=white-space:pre-wrap>Robert Froese &lt;froese # mtu.edu&gt;                                </span></td><td>1</td><td>us</td><td>secure_mirror_from_master </td></tr>\n",
       "\t<tr><th scope=row>91</th><td>USA (MI 2) [https]           </td><td>USA         </td><td>Ann Arbor   </td><td>https://repo.miserver.it.umich.edu/cran/</td><td>MBNI, University of Michigan, Ann Arbor, MI                       </td><td>linux-mirrors # umich.edu                                       </td><td>1</td><td>us</td><td>secure_mirror_from_master </td></tr>\n",
       "\t<tr><th scope=row>92</th><td>USA (MO)                     </td><td>USA         </td><td>St. Louis   </td><td>http://cran.wustl.edu/                  </td><td>Washington University, St. Louis, MO                              </td><td>admartin # wustl.edu                                            </td><td>1</td><td>us</td><td>maintainer_address_bounces</td></tr>\n",
       "\t<tr><th scope=row>93</th><td>USA (NC)                     </td><td>USA         </td><td>Durham      </td><td>http://archive.linux.duke.edu/cran/     </td><td>Duke University, Durham, NC                                       </td><td>csi-linux-admins # duke.edu                                     </td><td>1</td><td>us</td><td>                          </td></tr>\n",
       "\t<tr><th scope=row>94</th><td><span style=white-space:pre-wrap>USA (OH) [https]             </span></td><td><span style=white-space:pre-wrap>USA         </span></td><td><span style=white-space:pre-wrap>Cleveland   </span></td><td><span style=white-space:pre-wrap>https://cran.case.edu/                  </span></td><td><span style=white-space:pre-wrap>Case Western Reserve University, Cleveland, OH                    </span></td><td><span style=white-space:pre-wrap>\"Alberto H. Santana\" &lt;ahs4 # case.edu&gt;                          </span></td><td>1</td><td>us</td><td><span style=white-space:pre-wrap>                          </span></td></tr>\n",
       "\t<tr><th scope=row>95</th><td>USA (OR) [https]             </td><td>USA         </td><td>Corvallis   </td><td>https://ftp.osuosl.org/pub/cran/        </td><td>Oregon State University                                           </td><td>support # Osuosl.org                                            </td><td>1</td><td>us</td><td>secure_mirror_from_master </td></tr>\n",
       "\t<tr><th scope=row>96</th><td><span style=white-space:pre-wrap>USA (PA 1)                   </span></td><td><span style=white-space:pre-wrap>USA         </span></td><td><span style=white-space:pre-wrap>Pittsburgh  </span></td><td><span style=white-space:pre-wrap>http://lib.stat.cmu.edu/R/CRAN/         </span></td><td><span style=white-space:pre-wrap>Statlib, Carnegie Mellon University, Pittsburgh, PA               </span></td><td><span style=white-space:pre-wrap>Carl Skipper &lt;remarks # stat.cmu.edu&gt;                           </span></td><td>1</td><td>us</td><td><span style=white-space:pre-wrap>                          </span></td></tr>\n",
       "\t<tr><th scope=row>97</th><td><span style=white-space:pre-wrap>USA (PA 2)                   </span></td><td><span style=white-space:pre-wrap>USA         </span></td><td><span style=white-space:pre-wrap>Pittsburgh  </span></td><td><span style=white-space:pre-wrap>http://cran.mirrors.hoobly.com/         </span></td><td><span style=white-space:pre-wrap>Hoobly Classifieds, Pittsburgh, PA                                </span></td><td><span style=white-space:pre-wrap>Peter Grigor &lt;pgrigor # hoobly.com&gt;                             </span></td><td>1</td><td>us</td><td><span style=white-space:pre-wrap>                          </span></td></tr>\n",
       "\t<tr><th scope=row>98</th><td>USA (TN) [https]             </td><td>USA         </td><td>Oak Ridge   </td><td>https://mirrors.nics.utk.edu/cran/      </td><td>National Institute for Computational Sciences, Oak Ridge, TN      </td><td>help # nics.utk.edu                                             </td><td>1</td><td>us</td><td>secure_mirror_from_master </td></tr>\n",
       "\t<tr><th scope=row>99</th><td><span style=white-space:pre-wrap>USA (TX 1) [https]           </span></td><td><span style=white-space:pre-wrap>USA         </span></td><td><span style=white-space:pre-wrap>Dallas      </span></td><td><span style=white-space:pre-wrap>https://cran.revolutionanalytics.com/   </span></td><td><span style=white-space:pre-wrap>Revolution Analytics, Dallas, TX                                  </span></td><td><span style=white-space:pre-wrap>David Smith &lt;david # revolutionanalytics.com&gt;                   </span></td><td>1</td><td>us</td><td>secure_mirror_from_master </td></tr>\n",
       "\t<tr><th scope=row>100</th><td>Uruguay [https]              </td><td>Uruguay     </td><td>Montevideo  </td><td>https://espejito.fder.edu.uy/cran/      </td><td>Facultad de Derecho, Universidad de la República                  </td><td>root # fder.edu.uy                                              </td><td>1</td><td>uy</td><td>secure_mirror_from_master </td></tr>\n",
       "</tbody>\n",
       "</table>\n"
      ],
      "text/latex": [
       "A data.frame: 94 × 9\n",
       "\\begin{tabular}{r|lllllllll}\n",
       "  & Name & Country & City & URL & Host & Maintainer & OK & CountryCode & Comment\\\\\n",
       "  & <chr> & <chr> & <chr> & <chr> & <chr> & <chr> & <int> & <chr> & <chr>\\\\\n",
       "\\hline\n",
       "\t1 & 0-Cloud {[}https{]}                 & 0-Cloud        & 0-Cloud        & https://cloud.r-project.org/               & Automatic redirection to servers worldwide, currently sponsored by Rstudio & winston \\# stdout.org                                                     & 1 & us & secure\\_mirror\\_from\\_master                           \\\\\n",
       "\t2 & Algeria {[}https{]}                 & Algeria        & Algiers        & https://cran.usthb.dz/                     & University of Science and Technology Houari Boumediene                     & Boukala m c <mboukala \\# usthb.dz>                                        & 1 & dz & secure\\_mirror\\_from\\_master                           \\\\\n",
       "\t3 & Argentina (La Plata)            & Argentina      & La Plata       & http://mirror.fcaglp.unlp.edu.ar/CRAN/     & Universidad Nacional de La Plata                                           & esuarez \\# Fcaglp.unlp.edu.ar                                             & 1 & ar &                                                     \\\\\n",
       "\t4 & Australia (Canberra) {[}https{]}    & Australia      & Canberra       & https://cran.csiro.au/                     & CSIRO                                                                      & ben.tan \\# csiro.au, Jayesh.joshi \\# csiro.au, CSIROServiceDesk \\# csiro.au & 1 & au & secure\\_mirror\\_from\\_master                           \\\\\n",
       "\t5 & Australia (Melbourne 1) {[}https{]} & Australia      & Melbourne      & https://mirror.aarnet.edu.au/pub/CRAN/     & AARNET                                                                     & <sysadmin \\# aarnet.edu.au>                                               & 1 & au & secure\\_mirror\\_from\\_master                           \\\\\n",
       "\t6 & Australia (Melbourne 2) {[}https{]} & Australia      & Melbourne      & https://cran.ms.unimelb.edu.au/            & School of Mathematics and Statistics, University of Melbourne              & unix-ops \\# lists.unimelb.edu.au                                          & 1 & au & secure\\_mirror\\_from\\_master,maintainer\\_address\\_bounces\\\\\n",
       "\t7 & Australia (Perth) {[}https{]}       & Australia      & Perth          & https://cran.curtin.edu.au/                & Curtin University of Technology                                            & unix \\# curtin.edu.au                                                     & 1 & au & secure\\_mirror\\_from\\_master                           \\\\\n",
       "\t8 & Austria {[}https{]}                 & Austria        & Wien           & https://cran.wu.ac.at/                     & Wirtschaftsuniversität Wien                                                & CRAN \\# R-project.org                                                     & 1 & at & secure\\_mirror\\_from\\_master                           \\\\\n",
       "\t9 & Belgium (Antwerp) {[}https{]}       & Belgium        & Antwerp        & https://www.freestatistics.org/cran/       & Patrick Wessa                                                              & patrick \\# wessa.net                                                      & 1 & be &                                                     \\\\\n",
       "\t10 & Belgium (Ghent) {[}https{]}         & Belgium        & Ghent          & https://lib.ugent.be/CRAN/                 & Ghent University Library                                                   & Patrick Hochstenbach <Patrick.Hochstenbach \\# UGent.be>                   & 1 & be & secure\\_mirror\\_from\\_master                           \\\\\n",
       "\t12 & Brazil (PR) {[}https{]}             & Brazil         & Curitiba       & https://cran-r.c3sl.ufpr.br/               & Universidade Federal do Parana                                             & root \\# c3sl.ufpr.br                                                      & 1 & br & secure\\_mirror\\_from\\_master                           \\\\\n",
       "\t13 & Brazil (RJ) {[}https{]}             & Brazil         & Rio de Janeiro & https://cran.fiocruz.br/                   & Oswaldo Cruz Foundation, Rio de Janeiro                                    & oswaldo.cruz \\# fiocruz.br                                                & 1 & br & secure\\_mirror\\_from\\_master                           \\\\\n",
       "\t14 & Brazil (SP 1) {[}https{]}           & Brazil         & Sao Paulo      & https://vps.fmvz.usp.br/CRAN/              & University of Sao Paulo, Sao Paulo                                         & Fernando Ferreira <fernando \\# vps.fmvz.usp.br>                           & 1 & br & secure\\_mirror\\_from\\_master                           \\\\\n",
       "\t15 & Brazil (SP 2) {[}https{]}           & Brazil         & Piracicaba     & https://brieger.esalq.usp.br/CRAN/         & University of Sao Paulo, Piracicaba                                        & A Augusto F Garcia <aafgarci \\# gmail.com>, augusto.garcia \\# usp.br       & 1 & br & secure\\_mirror\\_from\\_master                           \\\\\n",
       "\t16 & Bulgaria {[}https{]}                & Bulgaria       & Sofia          & https://ftp.uni-sofia.bg/CRAN/             & Sofia University                                                           & Alexander Velin <velin \\# fccf.net>                                       & 1 & bg & secure\\_mirror\\_from\\_master                           \\\\\n",
       "\t17 & Canada (BC) {[}https{]}             & Canada         & Burnaby        & https://mirror.its.sfu.ca/mirror/CRAN/     & Simon Fraser University, Burnaby                                           & research-support \\# sfu.ca                                                & 1 & ca &                                                     \\\\\n",
       "\t18 & Canada (MB) {[}https{]}             & Canada         & Winnipeg       & https://muug.ca/mirror/cran/               & Manitoba Unix User Group                                                   & mirror \\# muug.ca                                                         & 1 & ca &                                                     \\\\\n",
       "\t19 & Canada (NS) {[}https{]}             & Canada         & Halifax        & https://mirror.its.dal.ca/cran/            & Dalhousie University, Halifax                                              & mirror \\# lists.dal.ca                                                    & 1 & ca &                                                     \\\\\n",
       "\t20 & Canada (ON)                     & Canada         & Toronto        & http://cran.utstat.utoronto.ca/            & University of Toronto                                                      & Dermot Whelan <wheland \\# utstat.utoronto.ca>                             & 1 & ca &                                                     \\\\\n",
       "\t21 & Chile {[}https{]}                   & Chile          & Santiago       & https://cran.dcc.uchile.cl/                & Departamento de Ciencias de la Computación, Universidad de Chile           & Mauricio Vargas <mvargas \\# dcc.uchile.cl>                                & 1 & cl & secure\\_mirror\\_from\\_master                           \\\\\n",
       "\t22 & China (Beijing) {[}https{]}         & China          & Beijing        & https://mirrors.tuna.tsinghua.edu.cn/CRAN/ & TUNA Team, Tsinghua University                                             & Justin Wong <justin.w.xd \\# gmail.com>                                    & 1 & cn &                                                     \\\\\n",
       "\t23 & China (Hefei) {[}https{]}           & China          & Hefei          & https://mirrors.ustc.edu.cn/CRAN/          & University of Science and Technology of China                              & mirrors \\# Ustc.edu.cn                                                    & 1 & cn &                                                     \\\\\n",
       "\t24 & China (Hong Kong) {[}https{]}       & China          & Hong Kong      & https://mirror-hk.koddos.net/CRAN/         & KoDDoS in Hong Kong                                                        & mirror \\# koddos.net                                                      & 1 & cn & secure\\_mirror\\_from\\_master                           \\\\\n",
       "\t25 & China (Guangzhou) {[}https{]}       & China          & Guangzhou      & https://mirrors.eliteu.cn/CRAN/            & Elite Education                                                            & x.liu \\# eliteu.cn                                                        & 1 & cn & secure\\_mirror\\_from\\_master                           \\\\\n",
       "\t26 & China (Lanzhou) {[}https{]}         & China          & Lanzhou        & https://mirror.lzu.edu.cn/CRAN/            & Lanzhou University Open Source Society                                     & oss.lzu.edu.cn \\# gmail.com                                               & 1 & cn & secure\\_mirror\\_from\\_master                           \\\\\n",
       "\t27 & China (Shanghai) {[}https{]}        & China          & Shanghai       & https://mirrors.tongji.edu.cn/CRAN/        & Tongji University                                                          & mirrors \\# opentj.org                                                     & 1 & cn & secure\\_mirror\\_from\\_master                           \\\\\n",
       "\t28 & Colombia (Cali) {[}https{]}         & Colombia       & Cali           & https://www.icesi.edu.co/CRAN/             & Icesi University                                                           & adminred \\# Icesi.edu.co                                                  & 1 & co & secure\\_mirror\\_from\\_master                           \\\\\n",
       "\t29 & Czech Republic {[}https{]}          & Czech Republic & Prague         & https://mirrors.nic.cz/R/                  & CZ.NIC, Prague                                                             & mirrors \\# nic.cz                                                         & 1 & cz & secure\\_mirror\\_from\\_master,maintainer\\_address\\_bounces\\\\\n",
       "\t30 & Denmark {[}https{]}                 & Denmark        & Aalborg        & https://mirrors.dotsrc.org/cran/           & Aalborg University                                                         & staff \\# dotsrc.org                                                       & 1 & dk & secure\\_mirror\\_from\\_master                           \\\\\n",
       "\t32 & Ecuador (Cuenca) {[}https{]}        & Ecuador        & Cuenca         & https://mirror.cedia.org.ec/CRAN/          & CEDIA                                                                      & paul.bernal \\# cedia.org.ec                                               & 1 & ec & secure\\_mirror\\_from\\_master                           \\\\\n",
       "\t... & ... & ... & ... & ... & ... & ... & ... & ... & ...\\\\\n",
       "\t69 & Portugal (Porto)              & Portugal     & Porto        & http://cran.dcc.fc.up.pt/                & University of Porto                                                & labcc \\# labcc.dcc.fc.up.pt                                       & 1 & pt &                           \\\\\n",
       "\t70 & Serbia {[}https{]}                & Serbia       & Belgrade     & https://fourdots.com/mirror/CRAN/        & Four Dots                                                          & Goran Tepsic <goran.tepsic \\# fourdots.com>                       & 1 & rs & secure\\_mirror\\_from\\_master \\\\\n",
       "\t71 & Singapore (Singapore) {[}https{]} & Singapore    & Singapore    & https://cran.stat.nus.edu.sg/            & National University of Singapore, Singapore                        & ccezr \\# nus.edu.sg                                               & 1 & sg &                           \\\\\n",
       "\t72 & South Africa (Cape Town)      & South Africa & Cape Town    & http://r.adu.org.za/                     & University of Cape Town                                            & michael.brooks \\# uct.ac.za                                       & 1 & za &                           \\\\\n",
       "\t73 & South Africa (Johannesburg)   & South Africa & Johannesburg & http://cran.mirror.ac.za/                & TENET, Johannesburg                                                & Patrick Holahan <patrickh \\# tenet.ac.za>                         & 1 & za &                           \\\\\n",
       "\t75 & Spain (Madrid) {[}https{]}        & Spain        & Madrid       & https://cran.rediris.es/                 & Spanish National Research Network, Madrid                          & Jose Manuel Macias <jmanuel.macias \\# rediris.es>                 & 1 & es & secure\\_mirror\\_from\\_master \\\\\n",
       "\t76 & Sweden {[}https{]}                & Sweden       & Umeå         & https://ftp.acc.umu.se/mirror/CRAN/      & Academic Computer Club, Umeå University                            & <ftp-adm \\# acc.umu.se>                                           & 1 & se & secure\\_mirror\\_from\\_master \\\\\n",
       "\t77 & Switzerland {[}https{]}           & Switzerland  & Zürich       & https://stat.ethz.ch/CRAN/               & ETH Zürich                                                         & Martin.Maechler \\# R-project.org                                  & 1 & ch & secure\\_mirror\\_from\\_master \\\\\n",
       "\t78 & Taiwan (Chungli) {[}https{]}      & Taiwan       & Chungli      & https://ftp.yzu.edu.tw/CRAN/             & Department of Computer Science and Engineering, Yuan Ze University & Peter Dave Hello <hsu \\# peterdavehello.org>                      & 1 & tw &                           \\\\\n",
       "\t79 & Taiwan (Taipei)               & Taiwan       & Taipei       & http://cran.csie.ntu.edu.tw/             & National Taiwan University, Taipei                                 & Rong-En Fan  <rafan \\# infor.org>                                 & 1 & tw & maintainer\\_address\\_bounces\\\\\n",
       "\t80 & Thailand                      & Thailand     & Hatyai       & http://mirrors.psu.ac.th/pub/cran/       & Prince of Songkla University, Hatyai                               & wipat.s \\# psu.ac.th                                              & 1 & th &                           \\\\\n",
       "\t81 & Turkey (Denizli) {[}https{]}      & Turkey       & Denizli      & https://cran.pau.edu.tr/                 & Pamukkale University, Denizli                                      & Ugur Zeybek <uzeybek \\# pau.edu.tr>                               & 1 & tr & secure\\_mirror\\_from\\_master \\\\\n",
       "\t82 & Turkey (Mersin) {[}https{]}       & Turkey       & Mersin       & https://cran.ncc.metu.edu.tr/            & Middle East Technical University Northern Cyprus Campus, Mersin    & atasiran \\# metu.edu.tr, ncc-cc \\# metu.edu.tr                     & 1 & tr & secure\\_mirror\\_from\\_master \\\\\n",
       "\t83 & UK (Bristol) {[}https{]}          & UK           & Bristol      & https://www.stats.bris.ac.uk/R/          & University of Bristol                                              & Guy Nason <G.P.Nason \\# bristol.ac.uk>, it-zone-d \\# bristol.ac.uk & 1 & uk & secure\\_mirror\\_from\\_master \\\\\n",
       "\t84 & UK (London 1) {[}https{]}         & UK           & London       & https://cran.ma.imperial.ac.uk/          & Imperial College London                                            & andy.thomas \\# imperial.ac.uk                                     & 1 & uk & secure\\_mirror\\_from\\_master \\\\\n",
       "\t85 & USA (CA 1) {[}https{]}            & USA          & Berkeley     & https://cran.cnr.berkeley.edu/           & University of California, Berkeley, CA                             & casterln \\# nature.berkeley.edu                                   & 1 & us & secure\\_mirror\\_from\\_master \\\\\n",
       "\t87 & USA (IA) {[}https{]}              & USA          & Ames         & https://mirror.las.iastate.edu/CRAN/     & Iowa State University, Ames, IA                                    & statit \\# iastate.edu                                             & 1 & us & secure\\_mirror\\_from\\_master \\\\\n",
       "\t88 & USA (IN) {[}https{]}              & USA          & Bloomington  & https://ftp.ussg.iu.edu/CRAN/            & Indiana University                                                 & rtadmin \\# indiana.edu                                            & 1 & us &                           \\\\\n",
       "\t89 & USA (KS) {[}https{]}              & USA          & Lawrence     & https://rweb.crmda.ku.edu/cran/          & University of Kansas, Lawrence, KS                                 & Paul Johnson <pauljohn \\# ku.edu>                                 & 1 & us & secure\\_mirror\\_from\\_master \\\\\n",
       "\t90 & USA (MI 1) {[}https{]}            & USA          & Houghton     & https://cran.mtu.edu/                    & Michigan Technological University, Houghton, MI                    & Robert Froese <froese \\# mtu.edu>                                 & 1 & us & secure\\_mirror\\_from\\_master \\\\\n",
       "\t91 & USA (MI 2) {[}https{]}            & USA          & Ann Arbor    & https://repo.miserver.it.umich.edu/cran/ & MBNI, University of Michigan, Ann Arbor, MI                        & linux-mirrors \\# umich.edu                                        & 1 & us & secure\\_mirror\\_from\\_master \\\\\n",
       "\t92 & USA (MO)                      & USA          & St. Louis    & http://cran.wustl.edu/                   & Washington University, St. Louis, MO                               & admartin \\# wustl.edu                                             & 1 & us & maintainer\\_address\\_bounces\\\\\n",
       "\t93 & USA (NC)                      & USA          & Durham       & http://archive.linux.duke.edu/cran/      & Duke University, Durham, NC                                        & csi-linux-admins \\# duke.edu                                      & 1 & us &                           \\\\\n",
       "\t94 & USA (OH) {[}https{]}              & USA          & Cleveland    & https://cran.case.edu/                   & Case Western Reserve University, Cleveland, OH                     & \"Alberto H. Santana\" <ahs4 \\# case.edu>                           & 1 & us &                           \\\\\n",
       "\t95 & USA (OR) {[}https{]}              & USA          & Corvallis    & https://ftp.osuosl.org/pub/cran/         & Oregon State University                                            & support \\# Osuosl.org                                             & 1 & us & secure\\_mirror\\_from\\_master \\\\\n",
       "\t96 & USA (PA 1)                    & USA          & Pittsburgh   & http://lib.stat.cmu.edu/R/CRAN/          & Statlib, Carnegie Mellon University, Pittsburgh, PA                & Carl Skipper <remarks \\# stat.cmu.edu>                            & 1 & us &                           \\\\\n",
       "\t97 & USA (PA 2)                    & USA          & Pittsburgh   & http://cran.mirrors.hoobly.com/          & Hoobly Classifieds, Pittsburgh, PA                                 & Peter Grigor <pgrigor \\# hoobly.com>                              & 1 & us &                           \\\\\n",
       "\t98 & USA (TN) {[}https{]}              & USA          & Oak Ridge    & https://mirrors.nics.utk.edu/cran/       & National Institute for Computational Sciences, Oak Ridge, TN       & help \\# nics.utk.edu                                              & 1 & us & secure\\_mirror\\_from\\_master \\\\\n",
       "\t99 & USA (TX 1) {[}https{]}            & USA          & Dallas       & https://cran.revolutionanalytics.com/    & Revolution Analytics, Dallas, TX                                   & David Smith <david \\# revolutionanalytics.com>                    & 1 & us & secure\\_mirror\\_from\\_master \\\\\n",
       "\t100 & Uruguay {[}https{]}               & Uruguay      & Montevideo   & https://espejito.fder.edu.uy/cran/       & Facultad de Derecho, Universidad de la República                   & root \\# fder.edu.uy                                               & 1 & uy & secure\\_mirror\\_from\\_master \\\\\n",
       "\\end{tabular}\n"
      ],
      "text/markdown": [
       "\n",
       "A data.frame: 94 × 9\n",
       "\n",
       "| <!--/--> | Name &lt;chr&gt; | Country &lt;chr&gt; | City &lt;chr&gt; | URL &lt;chr&gt; | Host &lt;chr&gt; | Maintainer &lt;chr&gt; | OK &lt;int&gt; | CountryCode &lt;chr&gt; | Comment &lt;chr&gt; |\n",
       "|---|---|---|---|---|---|---|---|---|---|\n",
       "| 1 | 0-Cloud [https]                 | 0-Cloud        | 0-Cloud        | https://cloud.r-project.org/               | Automatic redirection to servers worldwide, currently sponsored by Rstudio | winston # stdout.org                                                     | 1 | us | secure_mirror_from_master                            |\n",
       "| 2 | Algeria [https]                 | Algeria        | Algiers        | https://cran.usthb.dz/                     | University of Science and Technology Houari Boumediene                     | Boukala m c &lt;mboukala # usthb.dz&gt;                                        | 1 | dz | secure_mirror_from_master                            |\n",
       "| 3 | Argentina (La Plata)            | Argentina      | La Plata       | http://mirror.fcaglp.unlp.edu.ar/CRAN/     | Universidad Nacional de La Plata                                           | esuarez # Fcaglp.unlp.edu.ar                                             | 1 | ar | <!----> |\n",
       "| 4 | Australia (Canberra) [https]    | Australia      | Canberra       | https://cran.csiro.au/                     | CSIRO                                                                      | ben.tan # csiro.au, Jayesh.joshi # csiro.au, CSIROServiceDesk # csiro.au | 1 | au | secure_mirror_from_master                            |\n",
       "| 5 | Australia (Melbourne 1) [https] | Australia      | Melbourne      | https://mirror.aarnet.edu.au/pub/CRAN/     | AARNET                                                                     | &lt;sysadmin # aarnet.edu.au&gt;                                               | 1 | au | secure_mirror_from_master                            |\n",
       "| 6 | Australia (Melbourne 2) [https] | Australia      | Melbourne      | https://cran.ms.unimelb.edu.au/            | School of Mathematics and Statistics, University of Melbourne              | unix-ops # lists.unimelb.edu.au                                          | 1 | au | secure_mirror_from_master,maintainer_address_bounces |\n",
       "| 7 | Australia (Perth) [https]       | Australia      | Perth          | https://cran.curtin.edu.au/                | Curtin University of Technology                                            | unix # curtin.edu.au                                                     | 1 | au | secure_mirror_from_master                            |\n",
       "| 8 | Austria [https]                 | Austria        | Wien           | https://cran.wu.ac.at/                     | Wirtschaftsuniversität Wien                                                | CRAN # R-project.org                                                     | 1 | at | secure_mirror_from_master                            |\n",
       "| 9 | Belgium (Antwerp) [https]       | Belgium        | Antwerp        | https://www.freestatistics.org/cran/       | Patrick Wessa                                                              | patrick # wessa.net                                                      | 1 | be | <!----> |\n",
       "| 10 | Belgium (Ghent) [https]         | Belgium        | Ghent          | https://lib.ugent.be/CRAN/                 | Ghent University Library                                                   | Patrick Hochstenbach &lt;Patrick.Hochstenbach # UGent.be&gt;                   | 1 | be | secure_mirror_from_master                            |\n",
       "| 12 | Brazil (PR) [https]             | Brazil         | Curitiba       | https://cran-r.c3sl.ufpr.br/               | Universidade Federal do Parana                                             | root # c3sl.ufpr.br                                                      | 1 | br | secure_mirror_from_master                            |\n",
       "| 13 | Brazil (RJ) [https]             | Brazil         | Rio de Janeiro | https://cran.fiocruz.br/                   | Oswaldo Cruz Foundation, Rio de Janeiro                                    | oswaldo.cruz # fiocruz.br                                                | 1 | br | secure_mirror_from_master                            |\n",
       "| 14 | Brazil (SP 1) [https]           | Brazil         | Sao Paulo      | https://vps.fmvz.usp.br/CRAN/              | University of Sao Paulo, Sao Paulo                                         | Fernando Ferreira &lt;fernando # vps.fmvz.usp.br&gt;                           | 1 | br | secure_mirror_from_master                            |\n",
       "| 15 | Brazil (SP 2) [https]           | Brazil         | Piracicaba     | https://brieger.esalq.usp.br/CRAN/         | University of Sao Paulo, Piracicaba                                        | A Augusto F Garcia &lt;aafgarci # gmail.com&gt;, augusto.garcia # usp.br       | 1 | br | secure_mirror_from_master                            |\n",
       "| 16 | Bulgaria [https]                | Bulgaria       | Sofia          | https://ftp.uni-sofia.bg/CRAN/             | Sofia University                                                           | Alexander Velin &lt;velin # fccf.net&gt;                                       | 1 | bg | secure_mirror_from_master                            |\n",
       "| 17 | Canada (BC) [https]             | Canada         | Burnaby        | https://mirror.its.sfu.ca/mirror/CRAN/     | Simon Fraser University, Burnaby                                           | research-support # sfu.ca                                                | 1 | ca | <!----> |\n",
       "| 18 | Canada (MB) [https]             | Canada         | Winnipeg       | https://muug.ca/mirror/cran/               | Manitoba Unix User Group                                                   | mirror # muug.ca                                                         | 1 | ca | <!----> |\n",
       "| 19 | Canada (NS) [https]             | Canada         | Halifax        | https://mirror.its.dal.ca/cran/            | Dalhousie University, Halifax                                              | mirror # lists.dal.ca                                                    | 1 | ca | <!----> |\n",
       "| 20 | Canada (ON)                     | Canada         | Toronto        | http://cran.utstat.utoronto.ca/            | University of Toronto                                                      | Dermot Whelan &lt;wheland # utstat.utoronto.ca&gt;                             | 1 | ca | <!----> |\n",
       "| 21 | Chile [https]                   | Chile          | Santiago       | https://cran.dcc.uchile.cl/                | Departamento de Ciencias de la Computación, Universidad de Chile           | Mauricio Vargas &lt;mvargas # dcc.uchile.cl&gt;                                | 1 | cl | secure_mirror_from_master                            |\n",
       "| 22 | China (Beijing) [https]         | China          | Beijing        | https://mirrors.tuna.tsinghua.edu.cn/CRAN/ | TUNA Team, Tsinghua University                                             | Justin Wong &lt;justin.w.xd # gmail.com&gt;                                    | 1 | cn | <!----> |\n",
       "| 23 | China (Hefei) [https]           | China          | Hefei          | https://mirrors.ustc.edu.cn/CRAN/          | University of Science and Technology of China                              | mirrors # Ustc.edu.cn                                                    | 1 | cn | <!----> |\n",
       "| 24 | China (Hong Kong) [https]       | China          | Hong Kong      | https://mirror-hk.koddos.net/CRAN/         | KoDDoS in Hong Kong                                                        | mirror # koddos.net                                                      | 1 | cn | secure_mirror_from_master                            |\n",
       "| 25 | China (Guangzhou) [https]       | China          | Guangzhou      | https://mirrors.eliteu.cn/CRAN/            | Elite Education                                                            | x.liu # eliteu.cn                                                        | 1 | cn | secure_mirror_from_master                            |\n",
       "| 26 | China (Lanzhou) [https]         | China          | Lanzhou        | https://mirror.lzu.edu.cn/CRAN/            | Lanzhou University Open Source Society                                     | oss.lzu.edu.cn # gmail.com                                               | 1 | cn | secure_mirror_from_master                            |\n",
       "| 27 | China (Shanghai) [https]        | China          | Shanghai       | https://mirrors.tongji.edu.cn/CRAN/        | Tongji University                                                          | mirrors # opentj.org                                                     | 1 | cn | secure_mirror_from_master                            |\n",
       "| 28 | Colombia (Cali) [https]         | Colombia       | Cali           | https://www.icesi.edu.co/CRAN/             | Icesi University                                                           | adminred # Icesi.edu.co                                                  | 1 | co | secure_mirror_from_master                            |\n",
       "| 29 | Czech Republic [https]          | Czech Republic | Prague         | https://mirrors.nic.cz/R/                  | CZ.NIC, Prague                                                             | mirrors # nic.cz                                                         | 1 | cz | secure_mirror_from_master,maintainer_address_bounces |\n",
       "| 30 | Denmark [https]                 | Denmark        | Aalborg        | https://mirrors.dotsrc.org/cran/           | Aalborg University                                                         | staff # dotsrc.org                                                       | 1 | dk | secure_mirror_from_master                            |\n",
       "| 32 | Ecuador (Cuenca) [https]        | Ecuador        | Cuenca         | https://mirror.cedia.org.ec/CRAN/          | CEDIA                                                                      | paul.bernal # cedia.org.ec                                               | 1 | ec | secure_mirror_from_master                            |\n",
       "| ... | ... | ... | ... | ... | ... | ... | ... | ... | ... |\n",
       "| 69 | Portugal (Porto)              | Portugal     | Porto        | http://cran.dcc.fc.up.pt/                | University of Porto                                                | labcc # labcc.dcc.fc.up.pt                                       | 1 | pt | <!----> |\n",
       "| 70 | Serbia [https]                | Serbia       | Belgrade     | https://fourdots.com/mirror/CRAN/        | Four Dots                                                          | Goran Tepsic &lt;goran.tepsic # fourdots.com&gt;                       | 1 | rs | secure_mirror_from_master  |\n",
       "| 71 | Singapore (Singapore) [https] | Singapore    | Singapore    | https://cran.stat.nus.edu.sg/            | National University of Singapore, Singapore                        | ccezr # nus.edu.sg                                               | 1 | sg | <!----> |\n",
       "| 72 | South Africa (Cape Town)      | South Africa | Cape Town    | http://r.adu.org.za/                     | University of Cape Town                                            | michael.brooks # uct.ac.za                                       | 1 | za | <!----> |\n",
       "| 73 | South Africa (Johannesburg)   | South Africa | Johannesburg | http://cran.mirror.ac.za/                | TENET, Johannesburg                                                | Patrick Holahan &lt;patrickh # tenet.ac.za&gt;                         | 1 | za | <!----> |\n",
       "| 75 | Spain (Madrid) [https]        | Spain        | Madrid       | https://cran.rediris.es/                 | Spanish National Research Network, Madrid                          | Jose Manuel Macias &lt;jmanuel.macias # rediris.es&gt;                 | 1 | es | secure_mirror_from_master  |\n",
       "| 76 | Sweden [https]                | Sweden       | Umeå         | https://ftp.acc.umu.se/mirror/CRAN/      | Academic Computer Club, Umeå University                            | &lt;ftp-adm # acc.umu.se&gt;                                           | 1 | se | secure_mirror_from_master  |\n",
       "| 77 | Switzerland [https]           | Switzerland  | Zürich       | https://stat.ethz.ch/CRAN/               | ETH Zürich                                                         | Martin.Maechler # R-project.org                                  | 1 | ch | secure_mirror_from_master  |\n",
       "| 78 | Taiwan (Chungli) [https]      | Taiwan       | Chungli      | https://ftp.yzu.edu.tw/CRAN/             | Department of Computer Science and Engineering, Yuan Ze University | Peter Dave Hello &lt;hsu # peterdavehello.org&gt;                      | 1 | tw | <!----> |\n",
       "| 79 | Taiwan (Taipei)               | Taiwan       | Taipei       | http://cran.csie.ntu.edu.tw/             | National Taiwan University, Taipei                                 | Rong-En Fan  &lt;rafan # infor.org&gt;                                 | 1 | tw | maintainer_address_bounces |\n",
       "| 80 | Thailand                      | Thailand     | Hatyai       | http://mirrors.psu.ac.th/pub/cran/       | Prince of Songkla University, Hatyai                               | wipat.s # psu.ac.th                                              | 1 | th | <!----> |\n",
       "| 81 | Turkey (Denizli) [https]      | Turkey       | Denizli      | https://cran.pau.edu.tr/                 | Pamukkale University, Denizli                                      | Ugur Zeybek &lt;uzeybek # pau.edu.tr&gt;                               | 1 | tr | secure_mirror_from_master  |\n",
       "| 82 | Turkey (Mersin) [https]       | Turkey       | Mersin       | https://cran.ncc.metu.edu.tr/            | Middle East Technical University Northern Cyprus Campus, Mersin    | atasiran # metu.edu.tr, ncc-cc # metu.edu.tr                     | 1 | tr | secure_mirror_from_master  |\n",
       "| 83 | UK (Bristol) [https]          | UK           | Bristol      | https://www.stats.bris.ac.uk/R/          | University of Bristol                                              | Guy Nason &lt;G.P.Nason # bristol.ac.uk&gt;, it-zone-d # bristol.ac.uk | 1 | uk | secure_mirror_from_master  |\n",
       "| 84 | UK (London 1) [https]         | UK           | London       | https://cran.ma.imperial.ac.uk/          | Imperial College London                                            | andy.thomas # imperial.ac.uk                                     | 1 | uk | secure_mirror_from_master  |\n",
       "| 85 | USA (CA 1) [https]            | USA          | Berkeley     | https://cran.cnr.berkeley.edu/           | University of California, Berkeley, CA                             | casterln # nature.berkeley.edu                                   | 1 | us | secure_mirror_from_master  |\n",
       "| 87 | USA (IA) [https]              | USA          | Ames         | https://mirror.las.iastate.edu/CRAN/     | Iowa State University, Ames, IA                                    | statit # iastate.edu                                             | 1 | us | secure_mirror_from_master  |\n",
       "| 88 | USA (IN) [https]              | USA          | Bloomington  | https://ftp.ussg.iu.edu/CRAN/            | Indiana University                                                 | rtadmin # indiana.edu                                            | 1 | us | <!----> |\n",
       "| 89 | USA (KS) [https]              | USA          | Lawrence     | https://rweb.crmda.ku.edu/cran/          | University of Kansas, Lawrence, KS                                 | Paul Johnson &lt;pauljohn # ku.edu&gt;                                 | 1 | us | secure_mirror_from_master  |\n",
       "| 90 | USA (MI 1) [https]            | USA          | Houghton     | https://cran.mtu.edu/                    | Michigan Technological University, Houghton, MI                    | Robert Froese &lt;froese # mtu.edu&gt;                                 | 1 | us | secure_mirror_from_master  |\n",
       "| 91 | USA (MI 2) [https]            | USA          | Ann Arbor    | https://repo.miserver.it.umich.edu/cran/ | MBNI, University of Michigan, Ann Arbor, MI                        | linux-mirrors # umich.edu                                        | 1 | us | secure_mirror_from_master  |\n",
       "| 92 | USA (MO)                      | USA          | St. Louis    | http://cran.wustl.edu/                   | Washington University, St. Louis, MO                               | admartin # wustl.edu                                             | 1 | us | maintainer_address_bounces |\n",
       "| 93 | USA (NC)                      | USA          | Durham       | http://archive.linux.duke.edu/cran/      | Duke University, Durham, NC                                        | csi-linux-admins # duke.edu                                      | 1 | us | <!----> |\n",
       "| 94 | USA (OH) [https]              | USA          | Cleveland    | https://cran.case.edu/                   | Case Western Reserve University, Cleveland, OH                     | \"Alberto H. Santana\" &lt;ahs4 # case.edu&gt;                           | 1 | us | <!----> |\n",
       "| 95 | USA (OR) [https]              | USA          | Corvallis    | https://ftp.osuosl.org/pub/cran/         | Oregon State University                                            | support # Osuosl.org                                             | 1 | us | secure_mirror_from_master  |\n",
       "| 96 | USA (PA 1)                    | USA          | Pittsburgh   | http://lib.stat.cmu.edu/R/CRAN/          | Statlib, Carnegie Mellon University, Pittsburgh, PA                | Carl Skipper &lt;remarks # stat.cmu.edu&gt;                            | 1 | us | <!----> |\n",
       "| 97 | USA (PA 2)                    | USA          | Pittsburgh   | http://cran.mirrors.hoobly.com/          | Hoobly Classifieds, Pittsburgh, PA                                 | Peter Grigor &lt;pgrigor # hoobly.com&gt;                              | 1 | us | <!----> |\n",
       "| 98 | USA (TN) [https]              | USA          | Oak Ridge    | https://mirrors.nics.utk.edu/cran/       | National Institute for Computational Sciences, Oak Ridge, TN       | help # nics.utk.edu                                              | 1 | us | secure_mirror_from_master  |\n",
       "| 99 | USA (TX 1) [https]            | USA          | Dallas       | https://cran.revolutionanalytics.com/    | Revolution Analytics, Dallas, TX                                   | David Smith &lt;david # revolutionanalytics.com&gt;                    | 1 | us | secure_mirror_from_master  |\n",
       "| 100 | Uruguay [https]               | Uruguay      | Montevideo   | https://espejito.fder.edu.uy/cran/       | Facultad de Derecho, Universidad de la República                   | root # fder.edu.uy                                               | 1 | uy | secure_mirror_from_master  |\n",
       "\n"
      ],
      "text/plain": [
       "    Name                            Country        City          \n",
       "1   0-Cloud [https]                 0-Cloud        0-Cloud       \n",
       "2   Algeria [https]                 Algeria        Algiers       \n",
       "3   Argentina (La Plata)            Argentina      La Plata      \n",
       "4   Australia (Canberra) [https]    Australia      Canberra      \n",
       "5   Australia (Melbourne 1) [https] Australia      Melbourne     \n",
       "6   Australia (Melbourne 2) [https] Australia      Melbourne     \n",
       "7   Australia (Perth) [https]       Australia      Perth         \n",
       "8   Austria [https]                 Austria        Wien          \n",
       "9   Belgium (Antwerp) [https]       Belgium        Antwerp       \n",
       "10  Belgium (Ghent) [https]         Belgium        Ghent         \n",
       "12  Brazil (PR) [https]             Brazil         Curitiba      \n",
       "13  Brazil (RJ) [https]             Brazil         Rio de Janeiro\n",
       "14  Brazil (SP 1) [https]           Brazil         Sao Paulo     \n",
       "15  Brazil (SP 2) [https]           Brazil         Piracicaba    \n",
       "16  Bulgaria [https]                Bulgaria       Sofia         \n",
       "17  Canada (BC) [https]             Canada         Burnaby       \n",
       "18  Canada (MB) [https]             Canada         Winnipeg      \n",
       "19  Canada (NS) [https]             Canada         Halifax       \n",
       "20  Canada (ON)                     Canada         Toronto       \n",
       "21  Chile [https]                   Chile          Santiago      \n",
       "22  China (Beijing) [https]         China          Beijing       \n",
       "23  China (Hefei) [https]           China          Hefei         \n",
       "24  China (Hong Kong) [https]       China          Hong Kong     \n",
       "25  China (Guangzhou) [https]       China          Guangzhou     \n",
       "26  China (Lanzhou) [https]         China          Lanzhou       \n",
       "27  China (Shanghai) [https]        China          Shanghai      \n",
       "28  Colombia (Cali) [https]         Colombia       Cali          \n",
       "29  Czech Republic [https]          Czech Republic Prague        \n",
       "30  Denmark [https]                 Denmark        Aalborg       \n",
       "32  Ecuador (Cuenca) [https]        Ecuador        Cuenca        \n",
       "... ...                             ...            ...           \n",
       "69  Portugal (Porto)                Portugal       Porto         \n",
       "70  Serbia [https]                  Serbia         Belgrade      \n",
       "71  Singapore (Singapore) [https]   Singapore      Singapore     \n",
       "72  South Africa (Cape Town)        South Africa   Cape Town     \n",
       "73  South Africa (Johannesburg)     South Africa   Johannesburg  \n",
       "75  Spain (Madrid) [https]          Spain          Madrid        \n",
       "76  Sweden [https]                  Sweden         Umeå          \n",
       "77  Switzerland [https]             Switzerland    Zürich        \n",
       "78  Taiwan (Chungli) [https]        Taiwan         Chungli       \n",
       "79  Taiwan (Taipei)                 Taiwan         Taipei        \n",
       "80  Thailand                        Thailand       Hatyai        \n",
       "81  Turkey (Denizli) [https]        Turkey         Denizli       \n",
       "82  Turkey (Mersin) [https]         Turkey         Mersin        \n",
       "83  UK (Bristol) [https]            UK             Bristol       \n",
       "84  UK (London 1) [https]           UK             London        \n",
       "85  USA (CA 1) [https]              USA            Berkeley      \n",
       "87  USA (IA) [https]                USA            Ames          \n",
       "88  USA (IN) [https]                USA            Bloomington   \n",
       "89  USA (KS) [https]                USA            Lawrence      \n",
       "90  USA (MI 1) [https]              USA            Houghton      \n",
       "91  USA (MI 2) [https]              USA            Ann Arbor     \n",
       "92  USA (MO)                        USA            St. Louis     \n",
       "93  USA (NC)                        USA            Durham        \n",
       "94  USA (OH) [https]                USA            Cleveland     \n",
       "95  USA (OR) [https]                USA            Corvallis     \n",
       "96  USA (PA 1)                      USA            Pittsburgh    \n",
       "97  USA (PA 2)                      USA            Pittsburgh    \n",
       "98  USA (TN) [https]                USA            Oak Ridge     \n",
       "99  USA (TX 1) [https]              USA            Dallas        \n",
       "100 Uruguay [https]                 Uruguay        Montevideo    \n",
       "    URL                                       \n",
       "1   https://cloud.r-project.org/              \n",
       "2   https://cran.usthb.dz/                    \n",
       "3   http://mirror.fcaglp.unlp.edu.ar/CRAN/    \n",
       "4   https://cran.csiro.au/                    \n",
       "5   https://mirror.aarnet.edu.au/pub/CRAN/    \n",
       "6   https://cran.ms.unimelb.edu.au/           \n",
       "7   https://cran.curtin.edu.au/               \n",
       "8   https://cran.wu.ac.at/                    \n",
       "9   https://www.freestatistics.org/cran/      \n",
       "10  https://lib.ugent.be/CRAN/                \n",
       "12  https://cran-r.c3sl.ufpr.br/              \n",
       "13  https://cran.fiocruz.br/                  \n",
       "14  https://vps.fmvz.usp.br/CRAN/             \n",
       "15  https://brieger.esalq.usp.br/CRAN/        \n",
       "16  https://ftp.uni-sofia.bg/CRAN/            \n",
       "17  https://mirror.its.sfu.ca/mirror/CRAN/    \n",
       "18  https://muug.ca/mirror/cran/              \n",
       "19  https://mirror.its.dal.ca/cran/           \n",
       "20  http://cran.utstat.utoronto.ca/           \n",
       "21  https://cran.dcc.uchile.cl/               \n",
       "22  https://mirrors.tuna.tsinghua.edu.cn/CRAN/\n",
       "23  https://mirrors.ustc.edu.cn/CRAN/         \n",
       "24  https://mirror-hk.koddos.net/CRAN/        \n",
       "25  https://mirrors.eliteu.cn/CRAN/           \n",
       "26  https://mirror.lzu.edu.cn/CRAN/           \n",
       "27  https://mirrors.tongji.edu.cn/CRAN/       \n",
       "28  https://www.icesi.edu.co/CRAN/            \n",
       "29  https://mirrors.nic.cz/R/                 \n",
       "30  https://mirrors.dotsrc.org/cran/          \n",
       "32  https://mirror.cedia.org.ec/CRAN/         \n",
       "... ...                                       \n",
       "69  http://cran.dcc.fc.up.pt/                 \n",
       "70  https://fourdots.com/mirror/CRAN/         \n",
       "71  https://cran.stat.nus.edu.sg/             \n",
       "72  http://r.adu.org.za/                      \n",
       "73  http://cran.mirror.ac.za/                 \n",
       "75  https://cran.rediris.es/                  \n",
       "76  https://ftp.acc.umu.se/mirror/CRAN/       \n",
       "77  https://stat.ethz.ch/CRAN/                \n",
       "78  https://ftp.yzu.edu.tw/CRAN/              \n",
       "79  http://cran.csie.ntu.edu.tw/              \n",
       "80  http://mirrors.psu.ac.th/pub/cran/        \n",
       "81  https://cran.pau.edu.tr/                  \n",
       "82  https://cran.ncc.metu.edu.tr/             \n",
       "83  https://www.stats.bris.ac.uk/R/           \n",
       "84  https://cran.ma.imperial.ac.uk/           \n",
       "85  https://cran.cnr.berkeley.edu/            \n",
       "87  https://mirror.las.iastate.edu/CRAN/      \n",
       "88  https://ftp.ussg.iu.edu/CRAN/             \n",
       "89  https://rweb.crmda.ku.edu/cran/           \n",
       "90  https://cran.mtu.edu/                     \n",
       "91  https://repo.miserver.it.umich.edu/cran/  \n",
       "92  http://cran.wustl.edu/                    \n",
       "93  http://archive.linux.duke.edu/cran/       \n",
       "94  https://cran.case.edu/                    \n",
       "95  https://ftp.osuosl.org/pub/cran/          \n",
       "96  http://lib.stat.cmu.edu/R/CRAN/           \n",
       "97  http://cran.mirrors.hoobly.com/           \n",
       "98  https://mirrors.nics.utk.edu/cran/        \n",
       "99  https://cran.revolutionanalytics.com/     \n",
       "100 https://espejito.fder.edu.uy/cran/        \n",
       "    Host                                                                      \n",
       "1   Automatic redirection to servers worldwide, currently sponsored by Rstudio\n",
       "2   University of Science and Technology Houari Boumediene                    \n",
       "3   Universidad Nacional de La Plata                                          \n",
       "4   CSIRO                                                                     \n",
       "5   AARNET                                                                    \n",
       "6   School of Mathematics and Statistics, University of Melbourne             \n",
       "7   Curtin University of Technology                                           \n",
       "8   Wirtschaftsuniversität Wien                                               \n",
       "9   Patrick Wessa                                                             \n",
       "10  Ghent University Library                                                  \n",
       "12  Universidade Federal do Parana                                            \n",
       "13  Oswaldo Cruz Foundation, Rio de Janeiro                                   \n",
       "14  University of Sao Paulo, Sao Paulo                                        \n",
       "15  University of Sao Paulo, Piracicaba                                       \n",
       "16  Sofia University                                                          \n",
       "17  Simon Fraser University, Burnaby                                          \n",
       "18  Manitoba Unix User Group                                                  \n",
       "19  Dalhousie University, Halifax                                             \n",
       "20  University of Toronto                                                     \n",
       "21  Departamento de Ciencias de la Computación, Universidad de Chile          \n",
       "22  TUNA Team, Tsinghua University                                            \n",
       "23  University of Science and Technology of China                             \n",
       "24  KoDDoS in Hong Kong                                                       \n",
       "25  Elite Education                                                           \n",
       "26  Lanzhou University Open Source Society                                    \n",
       "27  Tongji University                                                         \n",
       "28  Icesi University                                                          \n",
       "29  CZ.NIC, Prague                                                            \n",
       "30  Aalborg University                                                        \n",
       "32  CEDIA                                                                     \n",
       "... ...                                                                       \n",
       "69  University of Porto                                                       \n",
       "70  Four Dots                                                                 \n",
       "71  National University of Singapore, Singapore                               \n",
       "72  University of Cape Town                                                   \n",
       "73  TENET, Johannesburg                                                       \n",
       "75  Spanish National Research Network, Madrid                                 \n",
       "76  Academic Computer Club, Umeå University                                   \n",
       "77  ETH Zürich                                                                \n",
       "78  Department of Computer Science and Engineering, Yuan Ze University        \n",
       "79  National Taiwan University, Taipei                                        \n",
       "80  Prince of Songkla University, Hatyai                                      \n",
       "81  Pamukkale University, Denizli                                             \n",
       "82  Middle East Technical University Northern Cyprus Campus, Mersin           \n",
       "83  University of Bristol                                                     \n",
       "84  Imperial College London                                                   \n",
       "85  University of California, Berkeley, CA                                    \n",
       "87  Iowa State University, Ames, IA                                           \n",
       "88  Indiana University                                                        \n",
       "89  University of Kansas, Lawrence, KS                                        \n",
       "90  Michigan Technological University, Houghton, MI                           \n",
       "91  MBNI, University of Michigan, Ann Arbor, MI                               \n",
       "92  Washington University, St. Louis, MO                                      \n",
       "93  Duke University, Durham, NC                                               \n",
       "94  Case Western Reserve University, Cleveland, OH                            \n",
       "95  Oregon State University                                                   \n",
       "96  Statlib, Carnegie Mellon University, Pittsburgh, PA                       \n",
       "97  Hoobly Classifieds, Pittsburgh, PA                                        \n",
       "98  National Institute for Computational Sciences, Oak Ridge, TN              \n",
       "99  Revolution Analytics, Dallas, TX                                          \n",
       "100 Facultad de Derecho, Universidad de la República                          \n",
       "    Maintainer                                                              \n",
       "1   winston # stdout.org                                                    \n",
       "2   Boukala m c <mboukala # usthb.dz>                                       \n",
       "3   esuarez # Fcaglp.unlp.edu.ar                                            \n",
       "4   ben.tan # csiro.au, Jayesh.joshi # csiro.au, CSIROServiceDesk # csiro.au\n",
       "5   <sysadmin # aarnet.edu.au>                                              \n",
       "6   unix-ops # lists.unimelb.edu.au                                         \n",
       "7   unix # curtin.edu.au                                                    \n",
       "8   CRAN # R-project.org                                                    \n",
       "9   patrick # wessa.net                                                     \n",
       "10  Patrick Hochstenbach <Patrick.Hochstenbach # UGent.be>                  \n",
       "12  root # c3sl.ufpr.br                                                     \n",
       "13  oswaldo.cruz # fiocruz.br                                               \n",
       "14  Fernando Ferreira <fernando # vps.fmvz.usp.br>                          \n",
       "15  A Augusto F Garcia <aafgarci # gmail.com>, augusto.garcia # usp.br      \n",
       "16  Alexander Velin <velin # fccf.net>                                      \n",
       "17  research-support # sfu.ca                                               \n",
       "18  mirror # muug.ca                                                        \n",
       "19  mirror # lists.dal.ca                                                   \n",
       "20  Dermot Whelan <wheland # utstat.utoronto.ca>                            \n",
       "21  Mauricio Vargas <mvargas # dcc.uchile.cl>                               \n",
       "22  Justin Wong <justin.w.xd # gmail.com>                                   \n",
       "23  mirrors # Ustc.edu.cn                                                   \n",
       "24  mirror # koddos.net                                                     \n",
       "25  x.liu # eliteu.cn                                                       \n",
       "26  oss.lzu.edu.cn # gmail.com                                              \n",
       "27  mirrors # opentj.org                                                    \n",
       "28  adminred # Icesi.edu.co                                                 \n",
       "29  mirrors # nic.cz                                                        \n",
       "30  staff # dotsrc.org                                                      \n",
       "32  paul.bernal # cedia.org.ec                                              \n",
       "... ...                                                                     \n",
       "69  labcc # labcc.dcc.fc.up.pt                                              \n",
       "70  Goran Tepsic <goran.tepsic # fourdots.com>                              \n",
       "71  ccezr # nus.edu.sg                                                      \n",
       "72  michael.brooks # uct.ac.za                                              \n",
       "73  Patrick Holahan <patrickh # tenet.ac.za>                                \n",
       "75  Jose Manuel Macias <jmanuel.macias # rediris.es>                        \n",
       "76  <ftp-adm # acc.umu.se>                                                  \n",
       "77  Martin.Maechler # R-project.org                                         \n",
       "78  Peter Dave Hello <hsu # peterdavehello.org>                             \n",
       "79  Rong-En Fan  <rafan # infor.org>                                        \n",
       "80  wipat.s # psu.ac.th                                                     \n",
       "81  Ugur Zeybek <uzeybek # pau.edu.tr>                                      \n",
       "82  atasiran # metu.edu.tr, ncc-cc # metu.edu.tr                            \n",
       "83  Guy Nason <G.P.Nason # bristol.ac.uk>, it-zone-d # bristol.ac.uk        \n",
       "84  andy.thomas # imperial.ac.uk                                            \n",
       "85  casterln # nature.berkeley.edu                                          \n",
       "87  statit # iastate.edu                                                    \n",
       "88  rtadmin # indiana.edu                                                   \n",
       "89  Paul Johnson <pauljohn # ku.edu>                                        \n",
       "90  Robert Froese <froese # mtu.edu>                                        \n",
       "91  linux-mirrors # umich.edu                                               \n",
       "92  admartin # wustl.edu                                                    \n",
       "93  csi-linux-admins # duke.edu                                             \n",
       "94  \"Alberto H. Santana\" <ahs4 # case.edu>                                  \n",
       "95  support # Osuosl.org                                                    \n",
       "96  Carl Skipper <remarks # stat.cmu.edu>                                   \n",
       "97  Peter Grigor <pgrigor # hoobly.com>                                     \n",
       "98  help # nics.utk.edu                                                     \n",
       "99  David Smith <david # revolutionanalytics.com>                           \n",
       "100 root # fder.edu.uy                                                      \n",
       "    OK  CountryCode Comment                                             \n",
       "1   1   us          secure_mirror_from_master                           \n",
       "2   1   dz          secure_mirror_from_master                           \n",
       "3   1   ar                                                              \n",
       "4   1   au          secure_mirror_from_master                           \n",
       "5   1   au          secure_mirror_from_master                           \n",
       "6   1   au          secure_mirror_from_master,maintainer_address_bounces\n",
       "7   1   au          secure_mirror_from_master                           \n",
       "8   1   at          secure_mirror_from_master                           \n",
       "9   1   be                                                              \n",
       "10  1   be          secure_mirror_from_master                           \n",
       "12  1   br          secure_mirror_from_master                           \n",
       "13  1   br          secure_mirror_from_master                           \n",
       "14  1   br          secure_mirror_from_master                           \n",
       "15  1   br          secure_mirror_from_master                           \n",
       "16  1   bg          secure_mirror_from_master                           \n",
       "17  1   ca                                                              \n",
       "18  1   ca                                                              \n",
       "19  1   ca                                                              \n",
       "20  1   ca                                                              \n",
       "21  1   cl          secure_mirror_from_master                           \n",
       "22  1   cn                                                              \n",
       "23  1   cn                                                              \n",
       "24  1   cn          secure_mirror_from_master                           \n",
       "25  1   cn          secure_mirror_from_master                           \n",
       "26  1   cn          secure_mirror_from_master                           \n",
       "27  1   cn          secure_mirror_from_master                           \n",
       "28  1   co          secure_mirror_from_master                           \n",
       "29  1   cz          secure_mirror_from_master,maintainer_address_bounces\n",
       "30  1   dk          secure_mirror_from_master                           \n",
       "32  1   ec          secure_mirror_from_master                           \n",
       "... ... ...         ...                                                 \n",
       "69  1   pt                                                              \n",
       "70  1   rs          secure_mirror_from_master                           \n",
       "71  1   sg                                                              \n",
       "72  1   za                                                              \n",
       "73  1   za                                                              \n",
       "75  1   es          secure_mirror_from_master                           \n",
       "76  1   se          secure_mirror_from_master                           \n",
       "77  1   ch          secure_mirror_from_master                           \n",
       "78  1   tw                                                              \n",
       "79  1   tw          maintainer_address_bounces                          \n",
       "80  1   th                                                              \n",
       "81  1   tr          secure_mirror_from_master                           \n",
       "82  1   tr          secure_mirror_from_master                           \n",
       "83  1   uk          secure_mirror_from_master                           \n",
       "84  1   uk          secure_mirror_from_master                           \n",
       "85  1   us          secure_mirror_from_master                           \n",
       "87  1   us          secure_mirror_from_master                           \n",
       "88  1   us                                                              \n",
       "89  1   us          secure_mirror_from_master                           \n",
       "90  1   us          secure_mirror_from_master                           \n",
       "91  1   us          secure_mirror_from_master                           \n",
       "92  1   us          maintainer_address_bounces                          \n",
       "93  1   us                                                              \n",
       "94  1   us                                                              \n",
       "95  1   us          secure_mirror_from_master                           \n",
       "96  1   us                                                              \n",
       "97  1   us                                                              \n",
       "98  1   us          secure_mirror_from_master                           \n",
       "99  1   us          secure_mirror_from_master                           \n",
       "100 1   uy          secure_mirror_from_master                           "
      ]
     },
     "metadata": {},
     "output_type": "display_data"
    }
   ],
   "source": [
    "getCRANmirrors(all = FALSE, local.only = FALSE)"
   ]
  },
  {
   "cell_type": "markdown",
   "metadata": {
    "slideshow": {
     "slide_type": "subslide"
    }
   },
   "source": [
    "From the list of available mirros we select one by:"
   ]
  },
  {
   "cell_type": "code",
   "execution_count": 8,
   "metadata": {
    "ExecuteTime": {
     "end_time": "2017-08-10T04:51:14.962000Z",
     "start_time": "2017-08-10T04:51:14.926Z"
    },
    "slideshow": {
     "slide_type": "fragment"
    }
   },
   "outputs": [],
   "source": [
    "options(repos=structure(c(CRAN=\"http://cloud.r-project.org/\")))"
   ]
  },
  {
   "cell_type": "markdown",
   "metadata": {
    "slideshow": {
     "slide_type": "subslide"
    }
   },
   "source": [
    "Now the *install.packages()*-command should be successful: "
   ]
  },
  {
   "cell_type": "code",
   "execution_count": 9,
   "metadata": {
    "ExecuteTime": {
     "end_time": "2017-09-08T09:44:30.572000Z",
     "start_time": "2017-09-08T09:44:28.257Z"
    },
    "slideshow": {
     "slide_type": "fragment"
    }
   },
   "outputs": [
    {
     "name": "stderr",
     "output_type": "stream",
     "text": [
      "Installing package into 'C:/Users/OK/Documents/R/win-library/3.6'\n",
      "(as 'lib' is unspecified)\n"
     ]
    },
    {
     "name": "stdout",
     "output_type": "stream",
     "text": [
      "package 'tagcloud' successfully unpacked and MD5 sums checked\n",
      "\n",
      "The downloaded binary packages are in\n",
      "\tC:\\Users\\OK\\AppData\\Local\\Temp\\RtmpaQb90d\\downloaded_packages\n"
     ]
    }
   ],
   "source": [
    "install.packages(\"tagcloud\")"
   ]
  },
  {
   "cell_type": "markdown",
   "metadata": {
    "slideshow": {
     "slide_type": "subslide"
    }
   },
   "source": [
    "> **Note:** The CRAN mirror for downloading R packages can be set in the current R script as shown above. However, a CRAN mirror can also be set permanently by inserting the line \n",
    "```options(repos=structure(c(CRAN=\"YOUR FAVORITE MIRROR\")))```\n",
    "into the *Rprofile* configuration file. This file can be found in the *library* of the directory, where R is installed. In my case it is located in `C:\\Program Files\\R\\R-3.6.1`. "
   ]
  },
  {
   "cell_type": "markdown",
   "metadata": {
    "slideshow": {
     "slide_type": "subslide"
    }
   },
   "source": [
    "To unload a libary use\n",
    "\n",
    "```R\n",
    "detach(\"package:NameOfPackage\", unload=TRUE)\n",
    "```"
   ]
  },
  {
   "cell_type": "markdown",
   "metadata": {
    "slideshow": {
     "slide_type": "slide"
    }
   },
   "source": [
    "### Important: Masking of Functions\n",
    "\n",
    "`Pay attention:` It could happen that a certain function is substituted by a function from a loaded package with the same function name. That's sometimes confusing.\n",
    "\n",
    "For example: Sometimes *select()*-function suddenly does not work properly any longer or sometimes an error- or non-sense outputs occurs, when you jump back in the Jupyter Notebook after you loaded another library with *library()*. This is because a loaded package overwrite the function. You can see it at the output of *library(...)*. So it is better to load the libaries at the top and check the outputs.\n"
   ]
  },
  {
   "cell_type": "markdown",
   "metadata": {
    "slideshow": {
     "slide_type": "subslide"
    }
   },
   "source": [
    "Anyway we can explicit define a function from a certain package, e.g. \n",
    "\n",
    "```R\n",
    "dplyr::select\n",
    "```\n",
    "\n",
    "or we can substitute the function directly, e.g.\n",
    "```R\n",
    "select <- dplyr::select\n",
    "```\n",
    "\n",
    "After loading the libraries, to check for a function and the according package call \n",
    "```R\n",
    "?<function>\n",
    "```\n",
    "\n",
    "in RStudio console. There are a lot more possibilities, e.g. [Finding R function](https://www.r-bloggers.com/finding-an-r-function/), to check from where a function comes, but no smart one."
   ]
  },
  {
   "cell_type": "markdown",
   "metadata": {
    "slideshow": {
     "slide_type": "slide"
    }
   },
   "source": [
    "## Getting Help\n",
    "### Help on packages\n",
    "In the prevoius section the external package *tagcloud* has been loaded from CRAN. In order to obtain a description of the functions available in this package it first must be activated, e.g. by the *library()*-command. Once it is activated, either *help(tagcloud)* or just ?tagcloud opens a description page: "
   ]
  },
  {
   "cell_type": "code",
   "execution_count": 15,
   "metadata": {
    "ExecuteTime": {
     "end_time": "2017-09-08T09:57:25.389000Z",
     "start_time": "2017-09-08T09:57:24.956Z"
    },
    "slideshow": {
     "slide_type": "subslide"
    }
   },
   "outputs": [],
   "source": [
    "library(tagcloud)\n",
    "#?tagcloud\n",
    "\n",
    "#objects(tagcloud)"
   ]
  },
  {
   "cell_type": "markdown",
   "metadata": {
    "slideshow": {
     "slide_type": "subslide"
    }
   },
   "source": [
    "In the same way descriptions for all packages can be obtained. The description pages usually also contain examples. Copy and pasting these examples provide a glimpse of the functionality. Moreover, all examples of a package (code and output) can be obtained by the command *example(tagcloud)*. Sometimes a demo is included. You can check this by *demo(package=\"...\")*, e.g. in *demo(package=\"rvest\")* and to start a certain demo with *demo(package=\"rvest\", topic=tripadvisor)*.\n"
   ]
  },
  {
   "cell_type": "code",
   "execution_count": 11,
   "metadata": {
    "scrolled": true,
    "slideshow": {
     "slide_type": "subslide"
    }
   },
   "outputs": [
    {
     "name": "stdout",
     "output_type": "stream",
     "text": [
      "\n",
      "tagcld> # a rather boring tag cloud\n",
      "tagcld> data( gambia )\n",
      "\n",
      "tagcld> terms <- gambia$Term\n",
      "\n",
      "tagcld> tagcloud( terms )\n",
      "\n",
      "tagcld> # tag cloud with weights relative to P value\n",
      "tagcld> # colors relative to odds ratio, from light\n",
      "tagcld> # grey to black\n",
      "tagcld> weights <- -log( gambia$Pvalue )\n",
      "\n",
      "tagcld> colors  <- smoothPalette( gambia$OddsRatio, max=4 )\n",
      "\n",
      "tagcld> tagcloud( terms, weights, col= colors, algorithm= \"oval\" )\n"
     ]
    },
    {
     "data": {
      "image/png": "[encoded data removed]",
      "text/plain": [
       "plot without title"
      ]
     },
     "metadata": {},
     "output_type": "display_data"
    },
    {
     "name": "stdout",
     "output_type": "stream",
     "text": [
      "\n",
      "tagcld> # tag cloud filling the whole plot\n",
      "tagcld> tagcloud( terms, weights, col= colors, algorithm= \"fill\" )\n"
     ]
    },
    {
     "data": {
      "image/png": "[encoded data removed]",
      "text/plain": [
       "plot without title"
      ]
     },
     "metadata": {},
     "output_type": "display_data"
    },
    {
     "name": "stdout",
     "output_type": "stream",
     "text": [
      "\n",
      "tagcld> # just a list of only the first ten terms\n",
      "tagcld> tagcloud( terms, weights, sel= 1:10,\n",
      "tagcld+           col= colors, algorithm= \"list\", order= \"width\" )\n"
     ]
    },
    {
     "data": {
      "image/png": "[encoded data removed]",
      "text/plain": [
       "plot without title"
      ]
     },
     "metadata": {},
     "output_type": "display_data"
    },
    {
     "name": "stdout",
     "output_type": "stream",
     "text": [
      "\n",
      "tagcld> # oval, with line breaks in terms\n",
      "tagcld> terms <- strmultline( gambia$Term )\n",
      "\n",
      "tagcld> tagcloud( terms, weights, col= colors, algorithm= \"oval\" )\n"
     ]
    },
    {
     "data": {
      "image/png": "[encoded data removed]",
      "text/plain": [
       "plot without title"
      ]
     },
     "metadata": {},
     "output_type": "display_data"
    },
    {
     "name": "stdout",
     "output_type": "stream",
     "text": [
      "\n",
      "tagcld> ## Not run: \n",
      "tagcld> ##D # shows available font families, scaled according to\n",
      "tagcld> ##D # the total disk space occupied by the fonts\n",
      "tagcld> ##D require( extrafont )\n",
      "tagcld> ##D ft <- fonttable()\n",
      "tagcld> ##D fi <- file.info( fonttable()$fontfile )\n",
      "tagcld> ##D families <- unique( ft$FamilyName )\n",
      "tagcld> ##D sizes    <- sapply( families,function( x ) sum( fi[ ft$FamilyName == x, \"size\" ] ) )\n",
      "tagcld> ##D tagcloud( families, sizes, family= families )\n",
      "tagcld> ## End(Not run)\n",
      "tagcld> \n",
      "tagcld> \n",
      "tagcld> \n"
     ]
    },
    {
     "data": {
      "image/png": "[encoded data removed]",
      "text/plain": [
       "plot without title"
      ]
     },
     "metadata": {},
     "output_type": "display_data"
    }
   ],
   "source": [
    "example(tagcloud)"
   ]
  },
  {
   "cell_type": "markdown",
   "metadata": {
    "slideshow": {
     "slide_type": "subslide"
    }
   },
   "source": [
    "A list of all functions available in a package can be derived from the *objects('package:packagename')*-command:"
   ]
  },
  {
   "cell_type": "code",
   "execution_count": 12,
   "metadata": {
    "ExecuteTime": {
     "end_time": "2017-09-08T09:58:11.524000Z",
     "start_time": "2017-09-08T09:58:11.491Z"
    },
    "slideshow": {
     "slide_type": "fragment"
    }
   },
   "outputs": [
    {
     "data": {
      "text/html": [
       "<ol class=list-inline>\n",
       "\t<li>'editor.tagcloud'</li>\n",
       "\t<li>'smoothPalette'</li>\n",
       "\t<li>'strmultline'</li>\n",
       "\t<li>'tagcloud'</li>\n",
       "</ol>\n"
      ],
      "text/latex": [
       "\\begin{enumerate*}\n",
       "\\item 'editor.tagcloud'\n",
       "\\item 'smoothPalette'\n",
       "\\item 'strmultline'\n",
       "\\item 'tagcloud'\n",
       "\\end{enumerate*}\n"
      ],
      "text/markdown": [
       "1. 'editor.tagcloud'\n",
       "2. 'smoothPalette'\n",
       "3. 'strmultline'\n",
       "4. 'tagcloud'\n",
       "\n",
       "\n"
      ],
      "text/plain": [
       "[1] \"editor.tagcloud\" \"smoothPalette\"   \"strmultline\"     \"tagcloud\"       "
      ]
     },
     "metadata": {},
     "output_type": "display_data"
    }
   ],
   "source": [
    "objects('package:tagcloud')"
   ]
  },
  {
   "cell_type": "markdown",
   "metadata": {
    "slideshow": {
     "slide_type": "slide"
    }
   },
   "source": [
    "### Help on functions"
   ]
  },
  {
   "cell_type": "markdown",
   "metadata": {
    "slideshow": {
     "slide_type": "fragment"
    }
   },
   "source": [
    "Information on functions can be obtained by the same command as for packages, i.e. either by *help(functionname)* or by *?functionname*: "
   ]
  },
  {
   "cell_type": "code",
   "execution_count": 16,
   "metadata": {
    "ExecuteTime": {
     "end_time": "2017-09-08T10:20:14.042000Z",
     "start_time": "2017-09-08T10:20:13.853Z"
    },
    "slideshow": {
     "slide_type": "fragment"
    }
   },
   "outputs": [],
   "source": [
    "?mean"
   ]
  },
  {
   "cell_type": "markdown",
   "metadata": {
    "slideshow": {
     "slide_type": "subslide"
    }
   },
   "source": [
    "All available functions, which contain a specified name or charactersequence can be derived from the *apropos('charactersequence')*-command:"
   ]
  },
  {
   "cell_type": "code",
   "execution_count": 14,
   "metadata": {
    "ExecuteTime": {
     "end_time": "2017-09-08T10:20:22.904000Z",
     "start_time": "2017-09-08T10:20:22.823Z"
    },
    "slideshow": {
     "slide_type": "fragment"
    }
   },
   "outputs": [
    {
     "data": {
      "text/html": [
       "<ol class=list-inline>\n",
       "\t<li>'assocplot'</li>\n",
       "\t<li>'autoplot'</li>\n",
       "\t<li>'barplot'</li>\n",
       "\t<li>'barplot.default'</li>\n",
       "\t<li>'benchplot'</li>\n",
       "\t<li>'biplot'</li>\n",
       "\t<li>'boxplot'</li>\n",
       "\t<li>'boxplot.default'</li>\n",
       "\t<li>'boxplot.matrix'</li>\n",
       "\t<li>'boxplot.stats'</li>\n",
       "\t<li>'cdplot'</li>\n",
       "\t<li>'coplot'</li>\n",
       "\t<li>'draw_key_boxplot'</li>\n",
       "\t<li>'draw_key_dotplot'</li>\n",
       "\t<li>'fourfoldplot'</li>\n",
       "\t<li>'geom_boxplot'</li>\n",
       "\t<li>'geom_dotplot'</li>\n",
       "\t<li>'GeomBoxplot'</li>\n",
       "\t<li>'GeomDotplot'</li>\n",
       "\t<li>'ggplot'</li>\n",
       "\t<li>'ggplot_add'</li>\n",
       "\t<li>'ggplot_build'</li>\n",
       "\t<li>'ggplot_gtable'</li>\n",
       "\t<li>'ggplotGrob'</li>\n",
       "\t<li>'interaction.plot'</li>\n",
       "\t<li>'is.ggplot'</li>\n",
       "\t<li>'lag.plot'</li>\n",
       "\t<li>'last_plot'</li>\n",
       "\t<li>'matplot'</li>\n",
       "\t<li>'monthplot'</li>\n",
       "\t<li>'mosaicplot'</li>\n",
       "\t<li>'plot'</li>\n",
       "\t<li>'plot.default'</li>\n",
       "\t<li>'plot.design'</li>\n",
       "\t<li>'plot.ecdf'</li>\n",
       "\t<li>'plot.function'</li>\n",
       "\t<li>'plot.new'</li>\n",
       "\t<li>'plot.spec.coherency'</li>\n",
       "\t<li>'plot.spec.phase'</li>\n",
       "\t<li>'plot.stepfun'</li>\n",
       "\t<li>'plot.ts'</li>\n",
       "\t<li>'plot.window'</li>\n",
       "\t<li>'plot.xy'</li>\n",
       "\t<li>'preplot'</li>\n",
       "\t<li>'qplot'</li>\n",
       "\t<li>'qqplot'</li>\n",
       "\t<li>'quickplot'</li>\n",
       "\t<li>'recordPlot'</li>\n",
       "\t<li>'replayPlot'</li>\n",
       "\t<li>'savePlot'</li>\n",
       "\t<li>'screeplot'</li>\n",
       "\t<li>'set_last_plot'</li>\n",
       "\t<li>'spineplot'</li>\n",
       "\t<li>'stat_boxplot'</li>\n",
       "\t<li>'StatBoxplot'</li>\n",
       "\t<li>'sunflowerplot'</li>\n",
       "\t<li>'termplot'</li>\n",
       "\t<li>'ts.plot'</li>\n",
       "</ol>\n"
      ],
      "text/latex": [
       "\\begin{enumerate*}\n",
       "\\item 'assocplot'\n",
       "\\item 'autoplot'\n",
       "\\item 'barplot'\n",
       "\\item 'barplot.default'\n",
       "\\item 'benchplot'\n",
       "\\item 'biplot'\n",
       "\\item 'boxplot'\n",
       "\\item 'boxplot.default'\n",
       "\\item 'boxplot.matrix'\n",
       "\\item 'boxplot.stats'\n",
       "\\item 'cdplot'\n",
       "\\item 'coplot'\n",
       "\\item 'draw\\_key\\_boxplot'\n",
       "\\item 'draw\\_key\\_dotplot'\n",
       "\\item 'fourfoldplot'\n",
       "\\item 'geom\\_boxplot'\n",
       "\\item 'geom\\_dotplot'\n",
       "\\item 'GeomBoxplot'\n",
       "\\item 'GeomDotplot'\n",
       "\\item 'ggplot'\n",
       "\\item 'ggplot\\_add'\n",
       "\\item 'ggplot\\_build'\n",
       "\\item 'ggplot\\_gtable'\n",
       "\\item 'ggplotGrob'\n",
       "\\item 'interaction.plot'\n",
       "\\item 'is.ggplot'\n",
       "\\item 'lag.plot'\n",
       "\\item 'last\\_plot'\n",
       "\\item 'matplot'\n",
       "\\item 'monthplot'\n",
       "\\item 'mosaicplot'\n",
       "\\item 'plot'\n",
       "\\item 'plot.default'\n",
       "\\item 'plot.design'\n",
       "\\item 'plot.ecdf'\n",
       "\\item 'plot.function'\n",
       "\\item 'plot.new'\n",
       "\\item 'plot.spec.coherency'\n",
       "\\item 'plot.spec.phase'\n",
       "\\item 'plot.stepfun'\n",
       "\\item 'plot.ts'\n",
       "\\item 'plot.window'\n",
       "\\item 'plot.xy'\n",
       "\\item 'preplot'\n",
       "\\item 'qplot'\n",
       "\\item 'qqplot'\n",
       "\\item 'quickplot'\n",
       "\\item 'recordPlot'\n",
       "\\item 'replayPlot'\n",
       "\\item 'savePlot'\n",
       "\\item 'screeplot'\n",
       "\\item 'set\\_last\\_plot'\n",
       "\\item 'spineplot'\n",
       "\\item 'stat\\_boxplot'\n",
       "\\item 'StatBoxplot'\n",
       "\\item 'sunflowerplot'\n",
       "\\item 'termplot'\n",
       "\\item 'ts.plot'\n",
       "\\end{enumerate*}\n"
      ],
      "text/markdown": [
       "1. 'assocplot'\n",
       "2. 'autoplot'\n",
       "3. 'barplot'\n",
       "4. 'barplot.default'\n",
       "5. 'benchplot'\n",
       "6. 'biplot'\n",
       "7. 'boxplot'\n",
       "8. 'boxplot.default'\n",
       "9. 'boxplot.matrix'\n",
       "10. 'boxplot.stats'\n",
       "11. 'cdplot'\n",
       "12. 'coplot'\n",
       "13. 'draw_key_boxplot'\n",
       "14. 'draw_key_dotplot'\n",
       "15. 'fourfoldplot'\n",
       "16. 'geom_boxplot'\n",
       "17. 'geom_dotplot'\n",
       "18. 'GeomBoxplot'\n",
       "19. 'GeomDotplot'\n",
       "20. 'ggplot'\n",
       "21. 'ggplot_add'\n",
       "22. 'ggplot_build'\n",
       "23. 'ggplot_gtable'\n",
       "24. 'ggplotGrob'\n",
       "25. 'interaction.plot'\n",
       "26. 'is.ggplot'\n",
       "27. 'lag.plot'\n",
       "28. 'last_plot'\n",
       "29. 'matplot'\n",
       "30. 'monthplot'\n",
       "31. 'mosaicplot'\n",
       "32. 'plot'\n",
       "33. 'plot.default'\n",
       "34. 'plot.design'\n",
       "35. 'plot.ecdf'\n",
       "36. 'plot.function'\n",
       "37. 'plot.new'\n",
       "38. 'plot.spec.coherency'\n",
       "39. 'plot.spec.phase'\n",
       "40. 'plot.stepfun'\n",
       "41. 'plot.ts'\n",
       "42. 'plot.window'\n",
       "43. 'plot.xy'\n",
       "44. 'preplot'\n",
       "45. 'qplot'\n",
       "46. 'qqplot'\n",
       "47. 'quickplot'\n",
       "48. 'recordPlot'\n",
       "49. 'replayPlot'\n",
       "50. 'savePlot'\n",
       "51. 'screeplot'\n",
       "52. 'set_last_plot'\n",
       "53. 'spineplot'\n",
       "54. 'stat_boxplot'\n",
       "55. 'StatBoxplot'\n",
       "56. 'sunflowerplot'\n",
       "57. 'termplot'\n",
       "58. 'ts.plot'\n",
       "\n",
       "\n"
      ],
      "text/plain": [
       " [1] \"assocplot\"           \"autoplot\"            \"barplot\"            \n",
       " [4] \"barplot.default\"     \"benchplot\"           \"biplot\"             \n",
       " [7] \"boxplot\"             \"boxplot.default\"     \"boxplot.matrix\"     \n",
       "[10] \"boxplot.stats\"       \"cdplot\"              \"coplot\"             \n",
       "[13] \"draw_key_boxplot\"    \"draw_key_dotplot\"    \"fourfoldplot\"       \n",
       "[16] \"geom_boxplot\"        \"geom_dotplot\"        \"GeomBoxplot\"        \n",
       "[19] \"GeomDotplot\"         \"ggplot\"              \"ggplot_add\"         \n",
       "[22] \"ggplot_build\"        \"ggplot_gtable\"       \"ggplotGrob\"         \n",
       "[25] \"interaction.plot\"    \"is.ggplot\"           \"lag.plot\"           \n",
       "[28] \"last_plot\"           \"matplot\"             \"monthplot\"          \n",
       "[31] \"mosaicplot\"          \"plot\"                \"plot.default\"       \n",
       "[34] \"plot.design\"         \"plot.ecdf\"           \"plot.function\"      \n",
       "[37] \"plot.new\"            \"plot.spec.coherency\" \"plot.spec.phase\"    \n",
       "[40] \"plot.stepfun\"        \"plot.ts\"             \"plot.window\"        \n",
       "[43] \"plot.xy\"             \"preplot\"             \"qplot\"              \n",
       "[46] \"qqplot\"              \"quickplot\"           \"recordPlot\"         \n",
       "[49] \"replayPlot\"          \"savePlot\"            \"screeplot\"          \n",
       "[52] \"set_last_plot\"       \"spineplot\"           \"stat_boxplot\"       \n",
       "[55] \"StatBoxplot\"         \"sunflowerplot\"       \"termplot\"           \n",
       "[58] \"ts.plot\"            "
      ]
     },
     "metadata": {},
     "output_type": "display_data"
    }
   ],
   "source": [
    "apropos(\"plot\")"
   ]
  },
  {
   "cell_type": "markdown",
   "metadata": {
    "slideshow": {
     "slide_type": "slide"
    }
   },
   "source": [
    "## R Programming Style Guide\n",
    "\n",
    "According to [Google's R Style Guide](https://google.github.io/styleguide/Rguide.xml), let us list the most important topics:\n",
    "\n",
    "`Keep in mind:` The . (dot sign) is part of a name, e.g. lm.fit\n",
    "\n",
    "* **Identifiers**\n",
    "    * Don't use underscores ( _ ) or hyphens ( - ) or $ in identifiers. Identifiers should be named according to the following conventions: The preferred form for variable names is all lower case letters and words separated with dots (variable.name), but variableName is also accepted.\n",
    "    * **function names** have initial capital letters and no dots (FunctionName)\n",
    "    * **constants** are named like functions but with an initial k.\n",
    "          "
   ]
  },
  {
   "cell_type": "markdown",
   "metadata": {
    "slideshow": {
     "slide_type": "subslide"
    }
   },
   "source": [
    "* **Spacing**\n",
    "    * Place spaces around all binary operators (=, +, -, <-, etc.). Exception:  Spaces around ='s are optional when passing parameters in a function call.\n",
    "    * Do not place a space before a comma, but always place one after a comma.\n",
    "\n",
    "            \n",
    "* **Curly Braces**\n",
    "    * An opening curly brace should never go on its own line; a closing curly brace should always go on its own line.  You may omit curly braces when a block consists of a single statement; however, you must consistently either use or not use curly braces for single statement blocks. "
   ]
  },
  {
   "cell_type": "markdown",
   "metadata": {
    "slideshow": {
     "slide_type": "subslide"
    }
   },
   "source": [
    "* **Assignment**\n",
    "    * Use <-, not =, for assignment.\n",
    "    \n",
    "* **Semicolons**          \n",
    "    * Do not terminate your lines with semicolons or use semicolons to put more than one command on the same line.\n",
    "    \n",
    "* **Line length**          \n",
    "    * The maximum line length is 80 characters.\n",
    "\n",
    "        \n",
    "`Recommendation:` Use explicit a *return()* statement in a function and do not only use last command in a function as return value without the R command."
   ]
  },
  {
   "cell_type": "markdown",
   "metadata": {
    "slideshow": {
     "slide_type": "slide"
    }
   },
   "source": [
    "## Assign and Print Variables"
   ]
  },
  {
   "cell_type": "markdown",
   "metadata": {
    "slideshow": {
     "slide_type": "fragment"
    }
   },
   "source": [
    "In R there exists several possibilities to assign data to variables. Each of the following options yields the same result, but it is convenient to use the option `<-`\n",
    "\n",
    "`Keep in mind`: All names are case-sensitive."
   ]
  },
  {
   "cell_type": "code",
   "execution_count": 15,
   "metadata": {
    "ExecuteTime": {
     "end_time": "2017-09-28T10:46:30.288000Z",
     "start_time": "2017-09-28T10:46:30.253Z"
    },
    "slideshow": {
     "slide_type": "fragment"
    }
   },
   "outputs": [],
   "source": [
    "a <- 3\n",
    "a = 3\n",
    "3 -> a"
   ]
  },
  {
   "cell_type": "markdown",
   "metadata": {
    "collapsed": true,
    "slideshow": {
     "slide_type": "subslide"
    }
   },
   "source": [
    "Executing the code-cell above, does not show any output. However, we can obtain the current value assigned to a variable by just typing the name of the variable:"
   ]
  },
  {
   "cell_type": "code",
   "execution_count": 20,
   "metadata": {
    "ExecuteTime": {
     "end_time": "2017-09-28T10:46:32.638000Z",
     "start_time": "2017-09-28T10:46:32.571Z"
    },
    "slideshow": {
     "slide_type": "fragment"
    }
   },
   "outputs": [
    {
     "data": {
      "text/html": [
       "5"
      ],
      "text/latex": [
       "5"
      ],
      "text/markdown": [
       "5"
      ],
      "text/plain": [
       "[1] 5"
      ]
     },
     "metadata": {},
     "output_type": "display_data"
    }
   ],
   "source": [
    "a\n",
    "\n",
    "#print(a)"
   ]
  },
  {
   "cell_type": "markdown",
   "metadata": {
    "slideshow": {
     "slide_type": "subslide"
    }
   },
   "source": [
    "If the value of the variable shall be printed immediately after the assignment the assignment must be circumvented by brackets:"
   ]
  },
  {
   "cell_type": "code",
   "execution_count": 23,
   "metadata": {
    "ExecuteTime": {
     "end_time": "2017-09-28T10:46:35.304000Z",
     "start_time": "2017-09-28T10:46:35.257Z"
    },
    "slideshow": {
     "slide_type": "fragment"
    }
   },
   "outputs": [
    {
     "data": {
      "text/html": [
       "5"
      ],
      "text/latex": [
       "5"
      ],
      "text/markdown": [
       "5"
      ],
      "text/plain": [
       "[1] 5"
      ]
     },
     "metadata": {},
     "output_type": "display_data"
    }
   ],
   "source": [
    "(a <- 5)\n",
    "\n"
   ]
  },
  {
   "cell_type": "markdown",
   "metadata": {
    "slideshow": {
     "slide_type": "subslide"
    }
   },
   "source": [
    "It is also possible to use the *print()*-command:"
   ]
  },
  {
   "cell_type": "code",
   "execution_count": 18,
   "metadata": {
    "ExecuteTime": {
     "end_time": "2017-09-28T10:46:38.559000Z",
     "start_time": "2017-09-28T10:46:38.541Z"
    },
    "slideshow": {
     "slide_type": "fragment"
    }
   },
   "outputs": [
    {
     "name": "stdout",
     "output_type": "stream",
     "text": [
      "[1] 5\n"
     ]
    }
   ],
   "source": [
    "print(a)"
   ]
  },
  {
   "cell_type": "code",
   "execution_count": 19,
   "metadata": {
    "ExecuteTime": {
     "end_time": "2017-09-28T10:46:41.609000Z",
     "start_time": "2017-09-28T10:46:41.585Z"
    },
    "slideshow": {
     "slide_type": "fragment"
    }
   },
   "outputs": [
    {
     "name": "stdout",
     "output_type": "stream",
     "text": [
      "  [1]   1   2   3   4   5   6   7   8   9  10  11  12  13  14  15  16  17  18\n",
      " [19]  19  20  21  22  23  24  25  26  27  28  29  30  31  32  33  34  35  36\n",
      " [37]  37  38  39  40  41  42  43  44  45  46  47  48  49  50  51  52  53  54\n",
      " [55]  55  56  57  58  59  60  61  62  63  64  65  66  67  68  69  70  71  72\n",
      " [73]  73  74  75  76  77  78  79  80  81  82  83  84  85  86  87  88  89  90\n",
      " [91]  91  92  93  94  95  96  97  98  99 100\n"
     ]
    }
   ],
   "source": [
    "b <- seq(1,100)\n",
    "print(b)"
   ]
  },
  {
   "cell_type": "markdown",
   "metadata": {
    "slideshow": {
     "slide_type": "subslide"
    }
   },
   "source": [
    "As can be seen in the example above, the first element in each line of the output is a number in brackets, which defines the position, of the first number in the row."
   ]
  },
  {
   "cell_type": "markdown",
   "metadata": {
    "slideshow": {
     "slide_type": "subslide"
    }
   },
   "source": [
    "The advantage of *print()* is that it knows how to format the output of each variable-type. A drawback of *print()* in R, however, is that it cannot print more than one item:"
   ]
  },
  {
   "cell_type": "code",
   "execution_count": 20,
   "metadata": {
    "ExecuteTime": {
     "end_time": "2017-09-28T10:46:44.994000Z",
     "start_time": "2017-09-28T10:46:44.965Z"
    },
    "slideshow": {
     "slide_type": "fragment"
    }
   },
   "outputs": [
    {
     "name": "stdout",
     "output_type": "stream",
     "text": [
      "[1] \"The value of a is: \"\n"
     ]
    }
   ],
   "source": [
    "print(\"The value of a is: \",a)"
   ]
  },
  {
   "cell_type": "markdown",
   "metadata": {
    "slideshow": {
     "slide_type": "subslide"
    }
   },
   "source": [
    "If more items shall be printed one can apply the *cat()*-command as follows:"
   ]
  },
  {
   "cell_type": "code",
   "execution_count": 21,
   "metadata": {
    "ExecuteTime": {
     "end_time": "2017-09-28T10:46:48.067000Z",
     "start_time": "2017-09-28T10:46:48.032Z"
    },
    "slideshow": {
     "slide_type": "fragment"
    }
   },
   "outputs": [
    {
     "name": "stdout",
     "output_type": "stream",
     "text": [
      "The value of a is:  5"
     ]
    }
   ],
   "source": [
    "cat(\"The value of a is: \",a)"
   ]
  },
  {
   "cell_type": "markdown",
   "metadata": {
    "slideshow": {
     "slide_type": "subslide"
    }
   },
   "source": [
    "The type of a variable can be obtained by the *class()*-function:"
   ]
  },
  {
   "cell_type": "code",
   "execution_count": 22,
   "metadata": {
    "ExecuteTime": {
     "end_time": "2017-09-28T10:46:53.143000Z",
     "start_time": "2017-09-28T10:46:53.098Z"
    },
    "slideshow": {
     "slide_type": "fragment"
    }
   },
   "outputs": [
    {
     "data": {
      "text/html": [
       "'numeric'"
      ],
      "text/latex": [
       "'numeric'"
      ],
      "text/markdown": [
       "'numeric'"
      ],
      "text/plain": [
       "[1] \"numeric\""
      ]
     },
     "metadata": {},
     "output_type": "display_data"
    },
    {
     "data": {
      "text/html": [
       "'integer'"
      ],
      "text/latex": [
       "'integer'"
      ],
      "text/markdown": [
       "'integer'"
      ],
      "text/plain": [
       "[1] \"integer\""
      ]
     },
     "metadata": {},
     "output_type": "display_data"
    }
   ],
   "source": [
    "class(a)\n",
    "class(b)"
   ]
  },
  {
   "cell_type": "markdown",
   "metadata": {
    "slideshow": {
     "slide_type": "slide"
    }
   },
   "source": [
    "**R is a dynamically typed language**, which means that the type of a variable can change depending on the value, which is assigned to it. For example, the first value, which has been assigned to *b* is of type *numeric*. However, the following assignment yields a new type (character) for variable *b*."
   ]
  },
  {
   "cell_type": "code",
   "execution_count": 23,
   "metadata": {
    "ExecuteTime": {
     "end_time": "2017-09-28T10:46:59.489000Z",
     "start_time": "2017-09-28T10:46:59.457Z"
    },
    "slideshow": {
     "slide_type": "fragment"
    }
   },
   "outputs": [
    {
     "data": {
      "text/html": [
       "'Das ist ein Text'"
      ],
      "text/latex": [
       "'Das ist ein Text'"
      ],
      "text/markdown": [
       "'Das ist ein Text'"
      ],
      "text/plain": [
       "[1] \"Das ist ein Text\""
      ]
     },
     "metadata": {},
     "output_type": "display_data"
    },
    {
     "data": {
      "text/html": [
       "'character'"
      ],
      "text/latex": [
       "'character'"
      ],
      "text/markdown": [
       "'character'"
      ],
      "text/plain": [
       "[1] \"character\""
      ]
     },
     "metadata": {},
     "output_type": "display_data"
    }
   ],
   "source": [
    "(b <- \"Das ist ein Text\")\n",
    "class(b)"
   ]
  },
  {
   "cell_type": "markdown",
   "metadata": {
    "slideshow": {
     "slide_type": "subslide"
    }
   },
   "source": [
    "A list of all currently assigned variables can be obtained from the *ls.str()*-function:"
   ]
  },
  {
   "cell_type": "code",
   "execution_count": 24,
   "metadata": {
    "ExecuteTime": {
     "end_time": "2017-09-28T10:47:06.402000Z",
     "start_time": "2017-09-28T10:47:06.380Z"
    },
    "scrolled": false,
    "slideshow": {
     "slide_type": "fragment"
    }
   },
   "outputs": [
    {
     "data": {
      "text/plain": [
       "a :  num 5\n",
       "b :  chr \"Das ist ein Text\"\n",
       "c :  num 15\n",
       "colors :  chr [1:112] \"#191919\" \"#4C4C4C\" \"#323232\" \"#191919\" \"#B2B2B2\" \"#323232\" ...\n",
       "gambia : 'data.frame':\t112 obs. of  7 variables:\n",
       " $ GOBPID   : Factor w/ 114 levels \"GO:0001775\",\"GO:0001816\",..: 94 45 84 35 33 6 87 91 15 98 ...\n",
       " $ Pvalue   : num  6.50e-19 5.36e-13 4.42e-12 6.55e-11 2.04e-10 ...\n",
       " $ OddsRatio: num  3.51 2.95 3.26 3.7 1.71 ...\n",
       " $ ExpCount : num  29.3 27.8 19.9 13.2 153.1 ...\n",
       " $ Count    : int  84 70 55 41 224 43 41 40 36 47 ...\n",
       " $ Size     : int  496 476 342 249 2628 259 247 256 217 330 ...\n",
       " $ Term     : Factor w/ 114 levels \"activation of immune response\",..: 85 100 46 40 105 39 51 75 66 80 ...\n",
       "randnumbers :  num [1:300] 0.598 0.674 1.332 -0.531 0.91 ...\n",
       "terms :  chr [1:112] \"regulation of\\nimmune response\" ...\n",
       "weights :  num [1:112] 41.9 28.3 26.1 23.4 22.3 ..."
      ]
     },
     "metadata": {},
     "output_type": "display_data"
    }
   ],
   "source": [
    "ls.str()"
   ]
  },
  {
   "cell_type": "markdown",
   "metadata": {
    "slideshow": {
     "slide_type": "subslide"
    }
   },
   "source": [
    "Represent a numeric value as character:"
   ]
  },
  {
   "cell_type": "code",
   "execution_count": 25,
   "metadata": {
    "ExecuteTime": {
     "end_time": "2017-09-28T10:47:15.706000Z",
     "start_time": "2017-09-28T10:47:15.667Z"
    },
    "slideshow": {
     "slide_type": "fragment"
    }
   },
   "outputs": [
    {
     "data": {
      "text/html": [
       "'5'"
      ],
      "text/latex": [
       "'5'"
      ],
      "text/markdown": [
       "'5'"
      ],
      "text/plain": [
       "[1] \"5\""
      ]
     },
     "metadata": {},
     "output_type": "display_data"
    },
    {
     "data": {
      "text/html": [
       "'character'"
      ],
      "text/latex": [
       "'character'"
      ],
      "text/markdown": [
       "'character'"
      ],
      "text/plain": [
       "[1] \"character\""
      ]
     },
     "metadata": {},
     "output_type": "display_data"
    }
   ],
   "source": [
    "(ac <- as.character(a))\n",
    "class(ac)"
   ]
  },
  {
   "cell_type": "markdown",
   "metadata": {
    "slideshow": {
     "slide_type": "subslide"
    }
   },
   "source": [
    "Variables can be deleted by the *rm()*-function:"
   ]
  },
  {
   "cell_type": "code",
   "execution_count": 26,
   "metadata": {
    "ExecuteTime": {
     "end_time": "2017-09-28T10:47:39.089000Z",
     "start_time": "2017-09-28T10:47:39.051Z"
    },
    "slideshow": {
     "slide_type": "fragment"
    }
   },
   "outputs": [
    {
     "data": {
      "text/plain": [
       "a :  num 5\n",
       "ac :  chr \"5\"\n",
       "b :  chr \"Das ist ein Text\"\n",
       "colors :  chr [1:112] \"#191919\" \"#4C4C4C\" \"#323232\" \"#191919\" \"#B2B2B2\" \"#323232\" ...\n",
       "gambia : 'data.frame':\t112 obs. of  7 variables:\n",
       " $ GOBPID   : Factor w/ 114 levels \"GO:0001775\",\"GO:0001816\",..: 94 45 84 35 33 6 87 91 15 98 ...\n",
       " $ Pvalue   : num  6.50e-19 5.36e-13 4.42e-12 6.55e-11 2.04e-10 ...\n",
       " $ OddsRatio: num  3.51 2.95 3.26 3.7 1.71 ...\n",
       " $ ExpCount : num  29.3 27.8 19.9 13.2 153.1 ...\n",
       " $ Count    : int  84 70 55 41 224 43 41 40 36 47 ...\n",
       " $ Size     : int  496 476 342 249 2628 259 247 256 217 330 ...\n",
       " $ Term     : Factor w/ 114 levels \"activation of immune response\",..: 85 100 46 40 105 39 51 75 66 80 ...\n",
       "randnumbers :  num [1:300] 0.598 0.674 1.332 -0.531 0.91 ...\n",
       "terms :  chr [1:112] \"regulation of\\nimmune response\" ...\n",
       "weights :  num [1:112] 41.9 28.3 26.1 23.4 22.3 ..."
      ]
     },
     "metadata": {},
     "output_type": "display_data"
    }
   ],
   "source": [
    "rm(c)\n",
    "ls.str()"
   ]
  },
  {
   "cell_type": "markdown",
   "metadata": {
    "slideshow": {
     "slide_type": "slide"
    }
   },
   "source": [
    "## Simple Operations and Functions\n",
    "### Arithmetic Operations\n"
   ]
  },
  {
   "cell_type": "code",
   "execution_count": 27,
   "metadata": {
    "ExecuteTime": {
     "end_time": "2017-09-28T10:47:48.180000Z",
     "start_time": "2017-09-28T10:47:48.140Z"
    },
    "slideshow": {
     "slide_type": "fragment"
    }
   },
   "outputs": [
    {
     "data": {
      "text/html": [
       "66"
      ],
      "text/latex": [
       "66"
      ],
      "text/markdown": [
       "66"
      ],
      "text/plain": [
       "[1] 66"
      ]
     },
     "metadata": {},
     "output_type": "display_data"
    },
    {
     "data": {
      "text/html": [
       "-12"
      ],
      "text/latex": [
       "-12"
      ],
      "text/markdown": [
       "-12"
      ],
      "text/plain": [
       "[1] -12"
      ]
     },
     "metadata": {},
     "output_type": "display_data"
    },
    {
     "data": {
      "text/html": [
       "27"
      ],
      "text/latex": [
       "27"
      ],
      "text/markdown": [
       "27"
      ],
      "text/plain": [
       "[1] 27"
      ]
     },
     "metadata": {},
     "output_type": "display_data"
    },
    {
     "data": {
      "text/html": [
       "0.571428571428571"
      ],
      "text/latex": [
       "0.571428571428571"
      ],
      "text/markdown": [
       "0.571428571428571"
      ],
      "text/plain": [
       "[1] 0.5714286"
      ]
     },
     "metadata": {},
     "output_type": "display_data"
    }
   ],
   "source": [
    "10 + 56 #Addition\n",
    "7 - 19  #Subtraction\n",
    "3 * 9   #Multiplication \n",
    "4 / 7   #Division"
   ]
  },
  {
   "cell_type": "markdown",
   "metadata": {
    "slideshow": {
     "slide_type": "subslide"
    }
   },
   "source": [
    "Exponentiation"
   ]
  },
  {
   "cell_type": "code",
   "execution_count": 5,
   "metadata": {
    "ExecuteTime": {
     "end_time": "2017-09-28T10:47:52.272000Z",
     "start_time": "2017-09-28T10:47:52.241Z"
    },
    "slideshow": {
     "slide_type": "fragment"
    }
   },
   "outputs": [
    {
     "data": {
      "text/html": [
       "32"
      ],
      "text/latex": [
       "32"
      ],
      "text/markdown": [
       "32"
      ],
      "text/plain": [
       "[1] 32"
      ]
     },
     "metadata": {},
     "output_type": "display_data"
    },
    {
     "data": {
      "text/html": [
       "9"
      ],
      "text/latex": [
       "9"
      ],
      "text/markdown": [
       "9"
      ],
      "text/plain": [
       "[1] 9"
      ]
     },
     "metadata": {},
     "output_type": "display_data"
    },
    {
     "data": {
      "text/html": [
       "2.71828182845905"
      ],
      "text/latex": [
       "2.71828182845905"
      ],
      "text/markdown": [
       "2.71828182845905"
      ],
      "text/plain": [
       "[1] 2.718282"
      ]
     },
     "metadata": {},
     "output_type": "display_data"
    }
   ],
   "source": [
    "2 ** 5\n",
    "3 ^ 2\n",
    "exp(1)"
   ]
  },
  {
   "cell_type": "markdown",
   "metadata": {
    "slideshow": {
     "slide_type": "subslide"
    }
   },
   "source": [
    "Modulo and Integer Division"
   ]
  },
  {
   "cell_type": "code",
   "execution_count": 6,
   "metadata": {
    "ExecuteTime": {
     "end_time": "2017-09-28T10:47:58.068000Z",
     "start_time": "2017-09-28T10:47:58.034Z"
    },
    "slideshow": {
     "slide_type": "fragment"
    }
   },
   "outputs": [
    {
     "data": {
      "text/html": [
       "3"
      ],
      "text/latex": [
       "3"
      ],
      "text/markdown": [
       "3"
      ],
      "text/plain": [
       "[1] 3"
      ]
     },
     "metadata": {},
     "output_type": "display_data"
    },
    {
     "data": {
      "text/html": [
       "1"
      ],
      "text/latex": [
       "1"
      ],
      "text/markdown": [
       "1"
      ],
      "text/plain": [
       "[1] 1"
      ]
     },
     "metadata": {},
     "output_type": "display_data"
    }
   ],
   "source": [
    "7 %% 4\n",
    "\n",
    "7 %/% 4"
   ]
  },
  {
   "cell_type": "markdown",
   "metadata": {
    "slideshow": {
     "slide_type": "slide"
    }
   },
   "source": [
    "### Common functions\n",
    "Squareroot"
   ]
  },
  {
   "cell_type": "code",
   "execution_count": 30,
   "metadata": {
    "ExecuteTime": {
     "end_time": "2017-09-08T10:23:47.476000Z",
     "start_time": "2017-09-08T10:23:47.424Z"
    },
    "slideshow": {
     "slide_type": "fragment"
    }
   },
   "outputs": [
    {
     "data": {
      "text/html": [
       "5"
      ],
      "text/latex": [
       "5"
      ],
      "text/markdown": [
       "5"
      ],
      "text/plain": [
       "[1] 5"
      ]
     },
     "metadata": {},
     "output_type": "display_data"
    }
   ],
   "source": [
    "sqrt(25)"
   ]
  },
  {
   "cell_type": "markdown",
   "metadata": {
    "slideshow": {
     "slide_type": "fragment"
    }
   },
   "source": [
    "Natural Logarithm"
   ]
  },
  {
   "cell_type": "code",
   "execution_count": 31,
   "metadata": {
    "ExecuteTime": {
     "end_time": "2017-09-08T10:23:50.089000Z",
     "start_time": "2017-09-08T10:23:50.045Z"
    },
    "slideshow": {
     "slide_type": "fragment"
    }
   },
   "outputs": [
    {
     "data": {
      "text/html": [
       "2.30258509299405"
      ],
      "text/latex": [
       "2.30258509299405"
      ],
      "text/markdown": [
       "2.30258509299405"
      ],
      "text/plain": [
       "[1] 2.302585"
      ]
     },
     "metadata": {},
     "output_type": "display_data"
    }
   ],
   "source": [
    "log(10)"
   ]
  },
  {
   "cell_type": "markdown",
   "metadata": {
    "slideshow": {
     "slide_type": "subslide"
    }
   },
   "source": [
    "Logarithm to basis 2"
   ]
  },
  {
   "cell_type": "code",
   "execution_count": 32,
   "metadata": {
    "ExecuteTime": {
     "end_time": "2017-09-08T10:23:53.299000Z",
     "start_time": "2017-09-08T10:23:53.251Z"
    },
    "slideshow": {
     "slide_type": "fragment"
    }
   },
   "outputs": [
    {
     "data": {
      "text/html": [
       "5"
      ],
      "text/latex": [
       "5"
      ],
      "text/markdown": [
       "5"
      ],
      "text/plain": [
       "[1] 5"
      ]
     },
     "metadata": {},
     "output_type": "display_data"
    }
   ],
   "source": [
    "log2(32)"
   ]
  },
  {
   "cell_type": "markdown",
   "metadata": {
    "slideshow": {
     "slide_type": "fragment"
    }
   },
   "source": [
    "Logarithm to basis 10"
   ]
  },
  {
   "cell_type": "code",
   "execution_count": 33,
   "metadata": {
    "ExecuteTime": {
     "end_time": "2017-09-08T10:23:58.070000Z",
     "start_time": "2017-09-08T10:23:58.033Z"
    },
    "slideshow": {
     "slide_type": "fragment"
    }
   },
   "outputs": [
    {
     "data": {
      "text/html": [
       "4"
      ],
      "text/latex": [
       "4"
      ],
      "text/markdown": [
       "4"
      ],
      "text/plain": [
       "[1] 4"
      ]
     },
     "metadata": {},
     "output_type": "display_data"
    }
   ],
   "source": [
    "log10(10000)"
   ]
  },
  {
   "cell_type": "markdown",
   "metadata": {
    "slideshow": {
     "slide_type": "subslide"
    }
   },
   "source": [
    "Trigonometric functions"
   ]
  },
  {
   "cell_type": "code",
   "execution_count": 7,
   "metadata": {
    "ExecuteTime": {
     "end_time": "2017-09-08T10:24:02.102000Z",
     "start_time": "2017-09-08T10:24:02.021Z"
    },
    "slideshow": {
     "slide_type": "fragment"
    }
   },
   "outputs": [
    {
     "data": {
      "text/html": [
       "1"
      ],
      "text/latex": [
       "1"
      ],
      "text/markdown": [
       "1"
      ],
      "text/plain": [
       "[1] 1"
      ]
     },
     "metadata": {},
     "output_type": "display_data"
    },
    {
     "data": {
      "text/html": [
       "0.707106781186548"
      ],
      "text/latex": [
       "0.707106781186548"
      ],
      "text/markdown": [
       "0.707106781186548"
      ],
      "text/plain": [
       "[1] 0.7071068"
      ]
     },
     "metadata": {},
     "output_type": "display_data"
    },
    {
     "data": {
      "text/html": [
       "1"
      ],
      "text/latex": [
       "1"
      ],
      "text/markdown": [
       "1"
      ],
      "text/plain": [
       "[1] 1"
      ]
     },
     "metadata": {},
     "output_type": "display_data"
    },
    {
     "data": {
      "text/html": [
       "1.5707963267949"
      ],
      "text/latex": [
       "1.5707963267949"
      ],
      "text/markdown": [
       "1.5707963267949"
      ],
      "text/plain": [
       "[1] 1.570796"
      ]
     },
     "metadata": {},
     "output_type": "display_data"
    },
    {
     "data": {
      "text/html": [
       "0.785398163397448"
      ],
      "text/latex": [
       "0.785398163397448"
      ],
      "text/markdown": [
       "0.785398163397448"
      ],
      "text/plain": [
       "[1] 0.7853982"
      ]
     },
     "metadata": {},
     "output_type": "display_data"
    },
    {
     "data": {
      "text/html": [
       "0.785398163397448"
      ],
      "text/latex": [
       "0.785398163397448"
      ],
      "text/markdown": [
       "0.785398163397448"
      ],
      "text/plain": [
       "[1] 0.7853982"
      ]
     },
     "metadata": {},
     "output_type": "display_data"
    }
   ],
   "source": [
    "sin(pi / 2)\n",
    "cos(pi / 4)\n",
    "tan(pi / 4)\n",
    "\n",
    "asin(1)\n",
    "acos(sqrt(2) / 2)\n",
    "atan(1)"
   ]
  },
  {
   "cell_type": "markdown",
   "metadata": {
    "slideshow": {
     "slide_type": "slide"
    }
   },
   "source": [
    "### Logic Operators"
   ]
  },
  {
   "cell_type": "code",
   "execution_count": 9,
   "metadata": {
    "ExecuteTime": {
     "end_time": "2017-09-08T10:24:10.452000Z",
     "start_time": "2017-09-08T10:24:10.333Z"
    },
    "scrolled": false,
    "slideshow": {
     "slide_type": "fragment"
    }
   },
   "outputs": [
    {
     "data": {
      "text/html": [
       "FALSE"
      ],
      "text/latex": [
       "FALSE"
      ],
      "text/markdown": [
       "FALSE"
      ],
      "text/plain": [
       "[1] FALSE"
      ]
     },
     "metadata": {},
     "output_type": "display_data"
    },
    {
     "data": {
      "text/html": [
       "TRUE"
      ],
      "text/latex": [
       "TRUE"
      ],
      "text/markdown": [
       "TRUE"
      ],
      "text/plain": [
       "[1] TRUE"
      ]
     },
     "metadata": {},
     "output_type": "display_data"
    },
    {
     "data": {
      "text/html": [
       "TRUE"
      ],
      "text/latex": [
       "TRUE"
      ],
      "text/markdown": [
       "TRUE"
      ],
      "text/plain": [
       "[1] TRUE"
      ]
     },
     "metadata": {},
     "output_type": "display_data"
    },
    {
     "data": {
      "text/html": [
       "FALSE"
      ],
      "text/latex": [
       "FALSE"
      ],
      "text/markdown": [
       "FALSE"
      ],
      "text/plain": [
       "[1] FALSE"
      ]
     },
     "metadata": {},
     "output_type": "display_data"
    },
    {
     "data": {
      "text/html": [
       "FALSE"
      ],
      "text/latex": [
       "FALSE"
      ],
      "text/markdown": [
       "FALSE"
      ],
      "text/plain": [
       "[1] FALSE"
      ]
     },
     "metadata": {},
     "output_type": "display_data"
    },
    {
     "data": {
      "text/html": [
       "TRUE"
      ],
      "text/latex": [
       "TRUE"
      ],
      "text/markdown": [
       "TRUE"
      ],
      "text/plain": [
       "[1] TRUE"
      ]
     },
     "metadata": {},
     "output_type": "display_data"
    },
    {
     "data": {
      "text/html": [
       "TRUE"
      ],
      "text/latex": [
       "TRUE"
      ],
      "text/markdown": [
       "TRUE"
      ],
      "text/plain": [
       "[1] TRUE"
      ]
     },
     "metadata": {},
     "output_type": "display_data"
    },
    {
     "data": {
      "text/html": [
       "FALSE"
      ],
      "text/latex": [
       "FALSE"
      ],
      "text/markdown": [
       "FALSE"
      ],
      "text/plain": [
       "[1] FALSE"
      ]
     },
     "metadata": {},
     "output_type": "display_data"
    }
   ],
   "source": [
    "4 < 3\n",
    "4 <= 4\n",
    "4 > 3\n",
    "4 >= 5\n",
    "4 == 5\n",
    "\n",
    "!(4 >= 5) #negation\n",
    "4 > 3 | 3 > 4 # or\n",
    "4 > 3 & 3 > 4 # and"
   ]
  },
  {
   "cell_type": "markdown",
   "metadata": {
    "slideshow": {
     "slide_type": "slide"
    }
   },
   "source": [
    "### Save and Load Objects/Variables/Models\n",
    "\n",
    "The standard functions [`save()`](https://www.rdocumentation.org/packages/base/versions/3.6.1/topics/save) and [`load()`](https://www.rdocumentation.org/packages/base/versions/3.6.1/topics/load) save and load objects/variables/models to the same name as stored. To assign new object/variable/model names, we can use [`saveRDS()`](https://www.rdocumentation.org/packages/base/versions/3.6.1/topics/readRDS) and [`readRDS()`](https://www.rdocumentation.org/packages/base/versions/3.6.1/topics/saveRDS). \n"
   ]
  },
  {
   "cell_type": "code",
   "execution_count": 36,
   "metadata": {
    "slideshow": {
     "slide_type": "fragment"
    }
   },
   "outputs": [
    {
     "data": {
      "text/html": [
       "TRUE"
      ],
      "text/latex": [
       "TRUE"
      ],
      "text/markdown": [
       "TRUE"
      ],
      "text/plain": [
       "[1] TRUE"
      ]
     },
     "metadata": {},
     "output_type": "display_data"
    }
   ],
   "source": [
    "x1 <- c(1, 2, 3, 4, 5, 6, 7)\n",
    "\n",
    "#Save\n",
    "saveRDS(x1, file = \"c:/temp/lm_fit1.rdata\")\n",
    "\n",
    "#Load into a new variable\n",
    "x2 <- readRDS(file = \"c:/temp/lm_fit1.rdata\")\n",
    "\n",
    "#Check if same\n",
    "identical(x1, x2)\n"
   ]
  },
  {
   "cell_type": "markdown",
   "metadata": {
    "slideshow": {
     "slide_type": "slide"
    }
   },
   "source": [
    "## Exercises\n",
    "\n",
    "[Exercise on basic routines in R](../exercises/Ass00BasicRoutinesR.ipynb)"
   ]
  }
 ],
 "metadata": {
  "anaconda-cloud": {},
  "celltoolbar": "Slideshow",
  "kernelspec": {
   "display_name": "R",
   "language": "R",
   "name": "ir"
  },
  "language_info": {
   "codemirror_mode": "r",
   "file_extension": ".r",
   "mimetype": "text/x-r-source",
   "name": "R",
   "pygments_lexer": "r",
   "version": "3.6.1"
  },
  "nav_menu": {},
  "toc": {
   "navigate_menu": true,
   "number_sections": true,
   "sideBar": true,
   "threshold": 6,
   "toc_cell": false,
   "toc_section_display": "block",
   "toc_window_display": true
  },
  "toc_position": {
   "height": "709px",
   "left": "0px",
   "right": "1326.83px",
   "top": "125.167px",
   "width": "237px"
  }
 },
 "nbformat": 4,
 "nbformat_minor": 1
}
