{
 "cells": [
  {
   "cell_type": "markdown",
   "metadata": {
    "slideshow": {
     "slide_type": "slide"
    }
   },
   "source": [
    "# Control Structures in R\n",
    "\n",
    "* Author: Johannes Maucher, few modifications by OK in 2019\n",
    "* Last Update: 2017-03-13\n"
   ]
  },
  {
   "cell_type": "markdown",
   "metadata": {
    "slideshow": {
     "slide_type": "fragment"
    }
   },
   "source": [
    "In an R-program statements are executed sequentially from top to bottom. As in all other languages R provides *control structures*, which allow e.g. that statements are executed repetitively or only if certain conditions are met.\n",
    "Compound statements in control structures contain more than one atomic R-statement. Such blocks of statements must be surrounded by curly brackets *{}*.\n"
   ]
  },
  {
   "cell_type": "markdown",
   "metadata": {
    "slideshow": {
     "slide_type": "slide"
    }
   },
   "source": [
    "\n",
    "## Conditional Execution\n",
    "\n",
    "### If-Else\n",
    "In an *If-Else* control structure the (compound) statement in the *if-block* is executed only if the *condition* at the *if*-keyword is true, otherwise the (compound) statement of the *else-block* is executed:\n",
    "\n",
    "`if (cond) statement1 else statement`\n",
    "\n",
    "It is also possible that only an *if-block* is defined, then nothing is executed, if the condition at the if-block is not met:\n",
    "\n",
    "`if (cond) statement`\n",
    "\n",
    "`cond` is an expression, which resolves to either TRUE or FALSE."
   ]
  },
  {
   "cell_type": "markdown",
   "metadata": {
    "slideshow": {
     "slide_type": "slide"
    }
   },
   "source": [
    "Examples:"
   ]
  },
  {
   "cell_type": "code",
   "execution_count": 17,
   "metadata": {
    "ExecuteTime": {
     "end_time": "2017-11-21T18:07:24.311000Z",
     "start_time": "2017-11-21T18:07:23.492Z"
    },
    "slideshow": {
     "slide_type": "fragment"
    }
   },
   "outputs": [
    {
     "name": "stdout",
     "output_type": "stream",
     "text": [
      "[1] \"blue\"\n"
     ]
    }
   ],
   "source": [
    "gender <- \"Male\"\n",
    "if (gender == \"Male\") print(\"blue\")\n"
   ]
  },
  {
   "cell_type": "code",
   "execution_count": 2,
   "metadata": {
    "ExecuteTime": {
     "end_time": "2017-11-21T18:07:24.391000Z",
     "start_time": "2017-11-21T18:07:23.503Z"
    },
    "cell_style": "center",
    "slideshow": {
     "slide_type": "subslide"
    }
   },
   "outputs": [
    {
     "name": "stdout",
     "output_type": "stream",
     "text": [
      "[1] \"pink\"\n"
     ]
    }
   ],
   "source": [
    "#Good style\n",
    "\n",
    "gender <- \"Female\"\n",
    "if (gender == \"Male\"){\n",
    "    mycolor <- \"blue\"\n",
    "} else {\n",
    "    mycolor <- \"pink\"\n",
    "}\n",
    "print(mycolor)"
   ]
  },
  {
   "cell_type": "markdown",
   "metadata": {
    "slideshow": {
     "slide_type": "subslide"
    }
   },
   "source": [
    "Same as above, but as one-liner:"
   ]
  },
  {
   "cell_type": "code",
   "execution_count": 3,
   "metadata": {
    "ExecuteTime": {
     "end_time": "2017-11-21T18:07:24.456000Z",
     "start_time": "2017-11-21T18:07:23.699Z"
    },
    "slideshow": {
     "slide_type": "fragment"
    }
   },
   "outputs": [
    {
     "name": "stdout",
     "output_type": "stream",
     "text": [
      "[1] \"pink\"\n"
     ]
    }
   ],
   "source": [
    "#Bad style - I don't like that\n",
    "if (gender==\"Male\") mycolor <- \"blue\" else mycolor<-\"pink\"\n",
    "print(mycolor)"
   ]
  },
  {
   "cell_type": "markdown",
   "metadata": {
    "slideshow": {
     "slide_type": "subslide"
    }
   },
   "source": [
    "In the case of simple statements, the if-else control structure can be formulated in the following compact form:\n",
    "\n",
    "`ifelse(cond, statement1,statement2)`\n",
    "\n",
    "which is very fast!\n",
    "\n",
    "Example:"
   ]
  },
  {
   "cell_type": "code",
   "execution_count": 18,
   "metadata": {
    "ExecuteTime": {
     "end_time": "2017-11-21T18:07:24.613000Z",
     "start_time": "2017-11-21T18:07:23.822Z"
    },
    "slideshow": {
     "slide_type": "fragment"
    }
   },
   "outputs": [
    {
     "data": {
      "text/html": [
       "<ol class=list-inline>\n",
       "\t<li>'blue'</li>\n",
       "\t<li>'pink'</li>\n",
       "\t<li>'pink'</li>\n",
       "\t<li>'blue'</li>\n",
       "</ol>\n"
      ],
      "text/latex": [
       "\\begin{enumerate*}\n",
       "\\item 'blue'\n",
       "\\item 'pink'\n",
       "\\item 'pink'\n",
       "\\item 'blue'\n",
       "\\end{enumerate*}\n"
      ],
      "text/markdown": [
       "1. 'blue'\n",
       "2. 'pink'\n",
       "3. 'pink'\n",
       "4. 'blue'\n",
       "\n",
       "\n"
      ],
      "text/plain": [
       "[1] \"blue\" \"pink\" \"pink\" \"blue\""
      ]
     },
     "metadata": {},
     "output_type": "display_data"
    }
   ],
   "source": [
    "gender <- c(\"Male\", \"Otto\", \"Otto\", \"Male\")\n",
    "ifelse(gender == \"Male\", mycolor <- \"blue\", mycolor <- \"pink\")"
   ]
  },
  {
   "cell_type": "markdown",
   "metadata": {
    "cell_style": "center",
    "slideshow": {
     "slide_type": "slide"
    }
   },
   "source": [
    "### Switch\n",
    "An *If-Else* control structure realizes a binary decision. If more than two alternatives must be checked, the *Switch* control structure can be applied. The general syntax is:\n",
    "\n",
    "`switch(expression, value-assignment-pairs)`\n",
    "\n",
    "I.e. if expression evaluates to value, then the assignment, which belongs to this value is returned by the switch-function.\n"
   ]
  },
  {
   "cell_type": "code",
   "execution_count": 5,
   "metadata": {
    "ExecuteTime": {
     "end_time": "2017-11-21T18:07:24.692000Z",
     "start_time": "2017-11-21T18:07:23.982Z"
    },
    "slideshow": {
     "slide_type": "subslide"
    }
   },
   "outputs": [
    {
     "name": "stdout",
     "output_type": "stream",
     "text": [
      "[1] \"Dollar\"\n"
     ]
    }
   ],
   "source": [
    "country <- \"US\"\n",
    "currency <- switch(country,\n",
    "      \"Germany\" = \"Euro\",\n",
    "      \"UK\" = \"Pound\",\n",
    "      \"US\" = \"Dollar\",\n",
    "      \"Russia\" = \"Rubel\"           \n",
    "      )\n",
    "\n",
    "print(currency)"
   ]
  },
  {
   "cell_type": "markdown",
   "metadata": {
    "slideshow": {
     "slide_type": "slide"
    }
   },
   "source": [
    "## Repeated Execution and Loop "
   ]
  },
  {
   "cell_type": "markdown",
   "metadata": {
    "slideshow": {
     "slide_type": "fragment"
    }
   },
   "source": [
    "### For-Loop\n",
    "In a *For-Loop*, a (compound) statement is executed repetitively until the value of a counter-variable is no longer contained in a sequence. Usually, in each iteration of the loop the value of the counter-variable is incremented.\n",
    "\n",
    "`for (variable in sequence) statement`\n"
   ]
  },
  {
   "cell_type": "markdown",
   "metadata": {
    "slideshow": {
     "slide_type": "slide"
    }
   },
   "source": [
    "Example:"
   ]
  },
  {
   "cell_type": "code",
   "execution_count": 6,
   "metadata": {
    "ExecuteTime": {
     "end_time": "2017-11-21T18:07:24.776000Z",
     "start_time": "2017-11-21T18:07:24.297Z"
    },
    "slideshow": {
     "slide_type": "fragment"
    }
   },
   "outputs": [
    {
     "name": "stdout",
     "output_type": "stream",
     "text": [
      "[1] \"Iteration \" \"1\"         \n",
      "[1] \"Iteration \" \"2\"         \n",
      "[1] \"Iteration \" \"3\"         \n",
      "[1] \"Iteration \" \"4\"         \n",
      "[1] \"Iteration \" \"5\"         \n",
      "[1] \"Iteration \" \"1\"         \n",
      "[1] \"Iteration \" \"2\"         \n",
      "[1] \"Iteration \" \"3\"         \n",
      "[1] \"Iteration \" \"4\"         \n",
      "[1] \"Iteration \" \"5\"         \n"
     ]
    }
   ],
   "source": [
    "#Bad style\n",
    "for (c in 1:5) print(c(\"Iteration \", c))\n",
    "\n",
    "#Good style\n",
    "for (c in 1:5) {\n",
    "    print(c(\"Iteration \", c))\n",
    "}"
   ]
  },
  {
   "cell_type": "markdown",
   "metadata": {
    "slideshow": {
     "slide_type": "slide"
    }
   },
   "source": [
    "### Nested Loop"
   ]
  },
  {
   "cell_type": "markdown",
   "metadata": {
    "slideshow": {
     "slide_type": "fragment"
    }
   },
   "source": [
    "Nested loops are loops, which contain other loops in their statement. "
   ]
  },
  {
   "cell_type": "code",
   "execution_count": 7,
   "metadata": {
    "ExecuteTime": {
     "end_time": "2017-11-21T18:07:24.852000Z",
     "start_time": "2017-11-21T18:07:24.544Z"
    },
    "slideshow": {
     "slide_type": "fragment"
    }
   },
   "outputs": [
    {
     "name": "stdout",
     "output_type": "stream",
     "text": [
      "[1] 1 1\n",
      "[1] 1 2\n",
      "[1] 2 1\n",
      "[1] 2 2\n",
      "[1] 3 1\n",
      "[1] 3 2\n"
     ]
    }
   ],
   "source": [
    "for (row in 1:3){\n",
    "    for (col in 1:2){\n",
    "        print(c(row, col))\n",
    "    }\n",
    "}"
   ]
  },
  {
   "cell_type": "markdown",
   "metadata": {
    "slideshow": {
     "slide_type": "slide"
    }
   },
   "source": [
    "### While Loop\n",
    "In a *While-Loop* a (compound) statement is executed repetitively until a condition is no longer true:\n",
    "\n",
    "`while (cond) statement`\n"
   ]
  },
  {
   "cell_type": "markdown",
   "metadata": {
    "slideshow": {
     "slide_type": "slide"
    }
   },
   "source": [
    "Example:"
   ]
  },
  {
   "cell_type": "code",
   "execution_count": 8,
   "metadata": {
    "ExecuteTime": {
     "end_time": "2017-11-21T18:07:24.949000Z",
     "start_time": "2017-11-21T18:07:24.744Z"
    },
    "slideshow": {
     "slide_type": "fragment"
    }
   },
   "outputs": [
    {
     "name": "stdout",
     "output_type": "stream",
     "text": [
      "[1] 0\n",
      "[1] 1\n",
      "[1] 4\n",
      "[1] 9\n",
      "[1] 16\n",
      "[1] 25\n",
      "[1] 36\n",
      "[1] 49\n",
      "[1] 64\n",
      "[1] 81\n",
      "[1] 100\n",
      "After termination: i =  11"
     ]
    }
   ],
   "source": [
    "i <- 0\n",
    "result <- 0\n",
    "while (result < 100) {\n",
    "    result <- i**2\n",
    "    print(result)\n",
    "    i <-i+1\n",
    "}\n",
    "\n",
    "cat('After termination: i = ',i)"
   ]
  },
  {
   "cell_type": "markdown",
   "metadata": {
    "slideshow": {
     "slide_type": "subslide"
    }
   },
   "source": [
    "> **Note:** In the case of processing the rows or columns of large datasets looping can be very inefficient and time-consuming. In contrast to other programming languages, such as *Java*, in R functions can be called to single elements in the same way as for vectors. This feature implies, that many tasks, which require loops in other programming languages can be implemented without loops in R. \n",
    "\n",
    "> As shown in this example of calculating squares:  "
   ]
  },
  {
   "cell_type": "code",
   "execution_count": 9,
   "metadata": {
    "ExecuteTime": {
     "end_time": "2017-11-21T18:07:25.038000Z",
     "start_time": "2017-11-21T18:07:24.897Z"
    },
    "slideshow": {
     "slide_type": "fragment"
    }
   },
   "outputs": [
    {
     "data": {
      "text/html": [
       "<ol class=list-inline>\n",
       "\t<li>1</li>\n",
       "\t<li>2</li>\n",
       "\t<li>3</li>\n",
       "\t<li>4</li>\n",
       "\t<li>5</li>\n",
       "\t<li>6</li>\n",
       "\t<li>7</li>\n",
       "\t<li>8</li>\n",
       "\t<li>9</li>\n",
       "\t<li>10</li>\n",
       "</ol>\n"
      ],
      "text/latex": [
       "\\begin{enumerate*}\n",
       "\\item 1\n",
       "\\item 2\n",
       "\\item 3\n",
       "\\item 4\n",
       "\\item 5\n",
       "\\item 6\n",
       "\\item 7\n",
       "\\item 8\n",
       "\\item 9\n",
       "\\item 10\n",
       "\\end{enumerate*}\n"
      ],
      "text/markdown": [
       "1. 1\n",
       "2. 2\n",
       "3. 3\n",
       "4. 4\n",
       "5. 5\n",
       "6. 6\n",
       "7. 7\n",
       "8. 8\n",
       "9. 9\n",
       "10. 10\n",
       "\n",
       "\n"
      ],
      "text/plain": [
       " [1]  1  2  3  4  5  6  7  8  9 10"
      ]
     },
     "metadata": {},
     "output_type": "display_data"
    },
    {
     "data": {
      "text/html": [
       "<ol class=list-inline>\n",
       "\t<li>1</li>\n",
       "\t<li>4</li>\n",
       "\t<li>9</li>\n",
       "\t<li>16</li>\n",
       "\t<li>25</li>\n",
       "\t<li>36</li>\n",
       "\t<li>49</li>\n",
       "\t<li>64</li>\n",
       "\t<li>81</li>\n",
       "\t<li>100</li>\n",
       "</ol>\n"
      ],
      "text/latex": [
       "\\begin{enumerate*}\n",
       "\\item 1\n",
       "\\item 4\n",
       "\\item 9\n",
       "\\item 16\n",
       "\\item 25\n",
       "\\item 36\n",
       "\\item 49\n",
       "\\item 64\n",
       "\\item 81\n",
       "\\item 100\n",
       "\\end{enumerate*}\n"
      ],
      "text/markdown": [
       "1. 1\n",
       "2. 4\n",
       "3. 9\n",
       "4. 16\n",
       "5. 25\n",
       "6. 36\n",
       "7. 49\n",
       "8. 64\n",
       "9. 81\n",
       "10. 100\n",
       "\n",
       "\n"
      ],
      "text/plain": [
       " [1]   1   4   9  16  25  36  49  64  81 100"
      ]
     },
     "metadata": {},
     "output_type": "display_data"
    }
   ],
   "source": [
    "(bases <- 1:10)\n",
    "(squares <- bases**2)"
   ]
  },
  {
   "cell_type": "markdown",
   "metadata": {
    "slideshow": {
     "slide_type": "slide"
    }
   },
   "source": [
    "### Terminate loops and iterations by *break* and *next*\n",
    "The `break`-statement within a loop causes the entire loop to terminate. The `next`-statement terminates just the current iteration of the loop and then continues with the next iteration."
   ]
  },
  {
   "cell_type": "code",
   "execution_count": 10,
   "metadata": {
    "ExecuteTime": {
     "end_time": "2017-11-21T18:07:25.229000Z",
     "start_time": "2017-11-21T18:07:25.158Z"
    },
    "slideshow": {
     "slide_type": "fragment"
    }
   },
   "outputs": [
    {
     "name": "stdout",
     "output_type": "stream",
     "text": [
      "[1] 1\n",
      "[1] 2\n",
      "[1] 3\n"
     ]
    }
   ],
   "source": [
    "for (i in 1:5){\n",
    "    if (i==4) {\n",
    "        break\n",
    "    } else {\n",
    "        print(i)\n",
    "    }\n",
    "}"
   ]
  },
  {
   "cell_type": "code",
   "execution_count": 11,
   "metadata": {
    "ExecuteTime": {
     "end_time": "2017-10-01T14:18:03.278000Z",
     "start_time": "2017-10-01T14:18:03.197Z"
    },
    "slideshow": {
     "slide_type": "subslide"
    }
   },
   "outputs": [
    {
     "name": "stdout",
     "output_type": "stream",
     "text": [
      "[1] 1\n",
      "[1] 2\n",
      "[1] 3\n"
     ]
    }
   ],
   "source": [
    "for (i in 1:5){\n",
    "    if (i==4) {\n",
    "        break\n",
    "    } else {\n",
    "        print(i)\n",
    "    }\n",
    "}"
   ]
  },
  {
   "cell_type": "markdown",
   "metadata": {
    "slideshow": {
     "slide_type": "slide"
    }
   },
   "source": [
    "### What should not be done in loops\n",
    "In the following loop in each iteration a new element is attached to a vector. This is inefficient because in each loop new memory must be allocated for storing the increasing vector.\n",
    "\n",
    "With [`system.time()`](https://www.rdocumentation.org/packages/base/versions/3.6.1/topics/system.time) we measure \"user CPU time\" which outputs the CPU time spent by the current process (e.g. the current R session) and \"system CPU time\" which outputs the CPU time spent by the kernel (the operating system). \"elapsed CPU time\" is the elapsed time by the statements - that is our point of interest here."
   ]
  },
  {
   "cell_type": "code",
   "execution_count": 20,
   "metadata": {
    "ExecuteTime": {
     "end_time": "2017-11-21T18:08:26.699000Z",
     "start_time": "2017-11-21T18:07:38.463Z"
    },
    "slideshow": {
     "slide_type": "fragment"
    }
   },
   "outputs": [
    {
     "data": {
      "text/plain": [
       "   user  system elapsed \n",
       "  24.13   10.78   35.14 "
      ]
     },
     "metadata": {},
     "output_type": "display_data"
    }
   ],
   "source": [
    "system.time({\n",
    "    a <- numeric()\n",
    "    for (j in 1:100000){\n",
    "        a <- c(a, j%%3)\n",
    "    }\n",
    "})\n",
    "\n",
    "#length(a)"
   ]
  },
  {
   "cell_type": "markdown",
   "metadata": {
    "slideshow": {
     "slide_type": "subslide"
    }
   },
   "source": [
    "The same functionality as in the loop above can be implemented in a much faster way by first allocating the required memory for the vector and assigning in each iteration the corresponding value to the already assigned memory element."
   ]
  },
  {
   "cell_type": "code",
   "execution_count": 21,
   "metadata": {
    "ExecuteTime": {
     "end_time": "2017-11-21T18:08:34.956000Z",
     "start_time": "2017-11-21T18:08:34.733Z"
    },
    "cell_style": "center",
    "slideshow": {
     "slide_type": "fragment"
    }
   },
   "outputs": [
    {
     "data": {
      "text/plain": [
       "   user  system elapsed \n",
       "   0.03    0.00    0.03 "
      ]
     },
     "metadata": {},
     "output_type": "display_data"
    }
   ],
   "source": [
    "system.time({\n",
    "    a <- numeric(100000)\n",
    "    for (j in 1:100000){\n",
    "        a[j] <- j%%3\n",
    "    }\n",
    "}) "
   ]
  },
  {
   "cell_type": "markdown",
   "metadata": {
    "slideshow": {
     "slide_type": "subslide"
    }
   },
   "source": [
    "See [Strategies to Speedup R Code](https://www.r-bloggers.com/strategies-to-speedup-r-code/) to pimp your R code.\n"
   ]
  },
  {
   "cell_type": "markdown",
   "metadata": {
    "cell_style": "center",
    "collapsed": true,
    "slideshow": {
     "slide_type": "slide"
    }
   },
   "source": [
    "### Alternatives for repeated Execution\n",
    "Compared to other programming languages in R for- and while- loops are rarely used. This is because R provides much more efficient ways to carry out repeated execution: The functions *apply()*, *lapply()*, *sapply()* and *vapply()*. These functions are described in an upcoming lecture."
   ]
  },
  {
   "cell_type": "markdown",
   "metadata": {
    "collapsed": true,
    "slideshow": {
     "slide_type": "slide"
    }
   },
   "source": [
    "## Exercises\n",
    "\n",
    "[Exercise on control structures in R](../exercises/Ass04ControlStructuresR.ipynb)"
   ]
  }
 ],
 "metadata": {
  "anaconda-cloud": {},
  "celltoolbar": "Slideshow",
  "kernelspec": {
   "display_name": "R",
   "language": "R",
   "name": "ir"
  },
  "language_info": {
   "codemirror_mode": "r",
   "file_extension": ".r",
   "mimetype": "text/x-r-source",
   "name": "R",
   "pygments_lexer": "r",
   "version": "3.6.1"
  },
  "nav_menu": {},
  "toc": {
   "nav_menu": {
    "height": "226px",
    "width": "253px"
   },
   "number_sections": true,
   "sideBar": true,
   "skip_h1_title": false,
   "toc_cell": false,
   "toc_position": {},
   "toc_section_display": "block",
   "toc_window_display": true
  },
  "toc_position": {
   "height": "743px",
   "left": "0px",
   "right": "1351.83px",
   "top": "125.167px",
   "width": "212px"
  }
 },
 "nbformat": 4,
 "nbformat_minor": 1
}
