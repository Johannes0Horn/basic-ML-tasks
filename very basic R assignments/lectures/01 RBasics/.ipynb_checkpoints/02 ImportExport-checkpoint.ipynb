{
 "cells": [
  {
   "cell_type": "markdown",
   "metadata": {
    "slideshow": {
     "slide_type": "slide"
    }
   },
   "source": [
    "\n",
    "# Import and Export\n",
    "* Author: Johannes Maucher\n",
    "* Last Update: 2017-08-09, some modifications by OK in 2019\n",
    "\n",
    "There are also functions for import and export of data in **tidyverse**, but we prefer here the functions of Base R. \n"
   ]
  },
  {
   "cell_type": "code",
   "execution_count": 1,
   "metadata": {
    "slideshow": {
     "slide_type": "slide"
    }
   },
   "outputs": [
    {
     "name": "stderr",
     "output_type": "stream",
     "text": [
      "-- \u001b[1mAttaching packages\u001b[22m --------------------------------------- tidyverse 1.2.1 --\n",
      "\u001b[32mv\u001b[39m \u001b[34mggplot2\u001b[39m 3.2.0     \u001b[32mv\u001b[39m \u001b[34mpurrr  \u001b[39m 0.3.2\n",
      "\u001b[32mv\u001b[39m \u001b[34mtibble \u001b[39m 2.1.3     \u001b[32mv\u001b[39m \u001b[34mdplyr  \u001b[39m 0.8.3\n",
      "\u001b[32mv\u001b[39m \u001b[34mtidyr  \u001b[39m 0.8.3     \u001b[32mv\u001b[39m \u001b[34mstringr\u001b[39m 1.4.0\n",
      "\u001b[32mv\u001b[39m \u001b[34mreadr  \u001b[39m 1.3.1     \u001b[32mv\u001b[39m \u001b[34mforcats\u001b[39m 0.4.0\n",
      "-- \u001b[1mConflicts\u001b[22m ------------------------------------------ tidyverse_conflicts() --\n",
      "\u001b[31mx\u001b[39m \u001b[34mdplyr\u001b[39m::\u001b[32mfilter()\u001b[39m masks \u001b[34mstats\u001b[39m::filter()\n",
      "\u001b[31mx\u001b[39m \u001b[34mdplyr\u001b[39m::\u001b[32mlag()\u001b[39m    masks \u001b[34mstats\u001b[39m::lag()\n"
     ]
    }
   ],
   "source": [
    "library(tidyverse)"
   ]
  },
  {
   "cell_type": "markdown",
   "metadata": {
    "slideshow": {
     "slide_type": "slide"
    }
   },
   "source": [
    "## Import data from textfile\n",
    "\n",
    "A textfile can be read into a list of character-variables by applying the `readLines()`-function. Each element of the returned list contains a single line of the textfile.\n"
   ]
  },
  {
   "cell_type": "code",
   "execution_count": 2,
   "metadata": {
    "ExecuteTime": {
     "end_time": "2017-11-21T14:08:27.986000Z",
     "start_time": "2017-11-21T14:08:27.925Z"
    },
    "slideshow": {
     "slide_type": "fragment"
    }
   },
   "outputs": [
    {
     "data": {
      "text/html": [
       "<ol class=list-inline>\n",
       "\t<li>'This is a sample text file. It is used in the R lecture for demonstration of text input.'</li>\n",
       "\t<li>'Textfiles can be imported by the readLines()-function. The function returns a list of character-strings.'</li>\n",
       "\t<li>'Each character string contains one row of the file.'</li>\n",
       "</ol>\n"
      ],
      "text/latex": [
       "\\begin{enumerate*}\n",
       "\\item 'This is a sample text file. It is used in the R lecture for demonstration of text input.'\n",
       "\\item 'Textfiles can be imported by the readLines()-function. The function returns a list of character-strings.'\n",
       "\\item 'Each character string contains one row of the file.'\n",
       "\\end{enumerate*}\n"
      ],
      "text/markdown": [
       "1. 'This is a sample text file. It is used in the R lecture for demonstration of text input.'\n",
       "2. 'Textfiles can be imported by the readLines()-function. The function returns a list of character-strings.'\n",
       "3. 'Each character string contains one row of the file.'\n",
       "\n",
       "\n"
      ],
      "text/plain": [
       "[1] \"This is a sample text file. It is used in the R lecture for demonstration of text input.\"                \n",
       "[2] \"Textfiles can be imported by the readLines()-function. The function returns a list of character-strings.\"\n",
       "[3] \"Each character string contains one row of the file.\"                                                     "
      ]
     },
     "metadata": {},
     "output_type": "display_data"
    },
    {
     "name": "stdout",
     "output_type": "stream",
     "text": [
      "Number of rows in the file:  3"
     ]
    }
   ],
   "source": [
    "textList <- readLines(\"../data/sampleTextfile.txt\")\n",
    "textList\n",
    "cat(\"Number of rows in the file: \",length(textList))"
   ]
  },
  {
   "cell_type": "markdown",
   "metadata": {
    "slideshow": {
     "slide_type": "subslide"
    }
   },
   "source": [
    "The list of character-strings can be transformed into a single character-string variable by applying the `paste()`-function as follows:"
   ]
  },
  {
   "cell_type": "code",
   "execution_count": 3,
   "metadata": {
    "ExecuteTime": {
     "end_time": "2017-11-21T14:08:59.997000Z",
     "start_time": "2017-11-21T14:08:59.941Z"
    },
    "slideshow": {
     "slide_type": "fragment"
    }
   },
   "outputs": [
    {
     "data": {
      "text/html": [
       "'This is a sample text file. It is used in the R lecture for demonstration of text input. Textfiles can be imported by the readLines()-function. The function returns a list of character-strings. Each character string contains one row of the file.'"
      ],
      "text/latex": [
       "'This is a sample text file. It is used in the R lecture for demonstration of text input. Textfiles can be imported by the readLines()-function. The function returns a list of character-strings. Each character string contains one row of the file.'"
      ],
      "text/markdown": [
       "'This is a sample text file. It is used in the R lecture for demonstration of text input. Textfiles can be imported by the readLines()-function. The function returns a list of character-strings. Each character string contains one row of the file.'"
      ],
      "text/plain": [
       "[1] \"This is a sample text file. It is used in the R lecture for demonstration of text input. Textfiles can be imported by the readLines()-function. The function returns a list of character-strings. Each character string contains one row of the file.\""
      ]
     },
     "metadata": {},
     "output_type": "display_data"
    },
    {
     "name": "stdout",
     "output_type": "stream",
     "text": [
      "Number of characters in the text:  245"
     ]
    }
   ],
   "source": [
    "text <- paste(textList, collapse=\" \")\n",
    "text\n",
    "cat(\"Number of characters in the text: \", nchar(text))"
   ]
  },
  {
   "cell_type": "markdown",
   "metadata": {
    "slideshow": {
     "slide_type": "slide"
    }
   },
   "source": [
    "## Import data from .csv\n",
    "\n",
    "Read contents of .csv file into an R data frame with [`read.csv()`](https://stat.ethz.ch/R-manual/R-devel/library/utils/html/read.table.html). Some of the arguments are:\n",
    "\n",
    "* 'file' define the path and CSV filename to read\n",
    "* 'header' define a logical value to also import the header row as column names\n",
    "* 'stringsAsFactors' define a logical value to convert string values in factors\n",
    "* 'sep' define the field separator character of the columns\n",
    "* 'dec' define the character used for decimal points\n",
    "* 'col.names' define a vector of optional column names\n",
    "* 'row.names' define a vector of optional row names"
   ]
  },
  {
   "cell_type": "code",
   "execution_count": 4,
   "metadata": {
    "ExecuteTime": {
     "end_time": "2017-11-21T14:09:28.949000Z",
     "start_time": "2017-11-21T14:09:28.896Z"
    },
    "slideshow": {
     "slide_type": "fragment"
    }
   },
   "outputs": [
    {
     "data": {
      "text/html": [
       "<ol class=list-inline>\n",
       "\t<li>'Country'</li>\n",
       "\t<li>'Oil'</li>\n",
       "\t<li>'Gas'</li>\n",
       "\t<li>'Coal'</li>\n",
       "\t<li>'Nuclear'</li>\n",
       "\t<li>'Hydro'</li>\n",
       "\t<li>'Total2009'</li>\n",
       "\t<li>'CO2Emm'</li>\n",
       "\t<li>'Lat'</li>\n",
       "\t<li>'Long'</li>\n",
       "\t<li>'Cluster'</li>\n",
       "</ol>\n"
      ],
      "text/latex": [
       "\\begin{enumerate*}\n",
       "\\item 'Country'\n",
       "\\item 'Oil'\n",
       "\\item 'Gas'\n",
       "\\item 'Coal'\n",
       "\\item 'Nuclear'\n",
       "\\item 'Hydro'\n",
       "\\item 'Total2009'\n",
       "\\item 'CO2Emm'\n",
       "\\item 'Lat'\n",
       "\\item 'Long'\n",
       "\\item 'Cluster'\n",
       "\\end{enumerate*}\n"
      ],
      "text/markdown": [
       "1. 'Country'\n",
       "2. 'Oil'\n",
       "3. 'Gas'\n",
       "4. 'Coal'\n",
       "5. 'Nuclear'\n",
       "6. 'Hydro'\n",
       "7. 'Total2009'\n",
       "8. 'CO2Emm'\n",
       "9. 'Lat'\n",
       "10. 'Long'\n",
       "11. 'Cluster'\n",
       "\n",
       "\n"
      ],
      "text/plain": [
       " [1] \"Country\"   \"Oil\"       \"Gas\"       \"Coal\"      \"Nuclear\"   \"Hydro\"    \n",
       " [7] \"Total2009\" \"CO2Emm\"    \"Lat\"       \"Long\"      \"Cluster\"  "
      ]
     },
     "metadata": {},
     "output_type": "display_data"
    },
    {
     "data": {
      "text/html": [
       "<ol class=list-inline>\n",
       "\t<li>'0'</li>\n",
       "\t<li>'1'</li>\n",
       "\t<li>'2'</li>\n",
       "\t<li>'3'</li>\n",
       "\t<li>'4'</li>\n",
       "\t<li>'5'</li>\n",
       "\t<li>'6'</li>\n",
       "\t<li>'7'</li>\n",
       "\t<li>'8'</li>\n",
       "\t<li>'9'</li>\n",
       "\t<li>'10'</li>\n",
       "\t<li>'11'</li>\n",
       "\t<li>'12'</li>\n",
       "\t<li>'13'</li>\n",
       "\t<li>'14'</li>\n",
       "\t<li>'15'</li>\n",
       "\t<li>'16'</li>\n",
       "\t<li>'17'</li>\n",
       "\t<li>'18'</li>\n",
       "\t<li>'19'</li>\n",
       "\t<li>'20'</li>\n",
       "\t<li>'21'</li>\n",
       "\t<li>'22'</li>\n",
       "\t<li>'23'</li>\n",
       "\t<li>'24'</li>\n",
       "\t<li>'25'</li>\n",
       "\t<li>'26'</li>\n",
       "\t<li>'27'</li>\n",
       "\t<li>'28'</li>\n",
       "\t<li>'29'</li>\n",
       "\t<li>'30'</li>\n",
       "\t<li>'31'</li>\n",
       "\t<li>'32'</li>\n",
       "\t<li>'33'</li>\n",
       "\t<li>'34'</li>\n",
       "\t<li>'35'</li>\n",
       "\t<li>'36'</li>\n",
       "\t<li>'37'</li>\n",
       "\t<li>'38'</li>\n",
       "\t<li>'39'</li>\n",
       "\t<li>'40'</li>\n",
       "\t<li>'41'</li>\n",
       "\t<li>'42'</li>\n",
       "\t<li>'43'</li>\n",
       "\t<li>'44'</li>\n",
       "\t<li>'45'</li>\n",
       "\t<li>'46'</li>\n",
       "\t<li>'47'</li>\n",
       "\t<li>'48'</li>\n",
       "\t<li>'49'</li>\n",
       "\t<li>'50'</li>\n",
       "\t<li>'51'</li>\n",
       "\t<li>'52'</li>\n",
       "\t<li>'53'</li>\n",
       "\t<li>'54'</li>\n",
       "\t<li>'55'</li>\n",
       "\t<li>'56'</li>\n",
       "\t<li>'57'</li>\n",
       "\t<li>'58'</li>\n",
       "\t<li>'59'</li>\n",
       "\t<li>'60'</li>\n",
       "\t<li>'61'</li>\n",
       "\t<li>'62'</li>\n",
       "\t<li>'63'</li>\n",
       "\t<li>'64'</li>\n",
       "</ol>\n"
      ],
      "text/latex": [
       "\\begin{enumerate*}\n",
       "\\item '0'\n",
       "\\item '1'\n",
       "\\item '2'\n",
       "\\item '3'\n",
       "\\item '4'\n",
       "\\item '5'\n",
       "\\item '6'\n",
       "\\item '7'\n",
       "\\item '8'\n",
       "\\item '9'\n",
       "\\item '10'\n",
       "\\item '11'\n",
       "\\item '12'\n",
       "\\item '13'\n",
       "\\item '14'\n",
       "\\item '15'\n",
       "\\item '16'\n",
       "\\item '17'\n",
       "\\item '18'\n",
       "\\item '19'\n",
       "\\item '20'\n",
       "\\item '21'\n",
       "\\item '22'\n",
       "\\item '23'\n",
       "\\item '24'\n",
       "\\item '25'\n",
       "\\item '26'\n",
       "\\item '27'\n",
       "\\item '28'\n",
       "\\item '29'\n",
       "\\item '30'\n",
       "\\item '31'\n",
       "\\item '32'\n",
       "\\item '33'\n",
       "\\item '34'\n",
       "\\item '35'\n",
       "\\item '36'\n",
       "\\item '37'\n",
       "\\item '38'\n",
       "\\item '39'\n",
       "\\item '40'\n",
       "\\item '41'\n",
       "\\item '42'\n",
       "\\item '43'\n",
       "\\item '44'\n",
       "\\item '45'\n",
       "\\item '46'\n",
       "\\item '47'\n",
       "\\item '48'\n",
       "\\item '49'\n",
       "\\item '50'\n",
       "\\item '51'\n",
       "\\item '52'\n",
       "\\item '53'\n",
       "\\item '54'\n",
       "\\item '55'\n",
       "\\item '56'\n",
       "\\item '57'\n",
       "\\item '58'\n",
       "\\item '59'\n",
       "\\item '60'\n",
       "\\item '61'\n",
       "\\item '62'\n",
       "\\item '63'\n",
       "\\item '64'\n",
       "\\end{enumerate*}\n"
      ],
      "text/markdown": [
       "1. '0'\n",
       "2. '1'\n",
       "3. '2'\n",
       "4. '3'\n",
       "5. '4'\n",
       "6. '5'\n",
       "7. '6'\n",
       "8. '7'\n",
       "9. '8'\n",
       "10. '9'\n",
       "11. '10'\n",
       "12. '11'\n",
       "13. '12'\n",
       "14. '13'\n",
       "15. '14'\n",
       "16. '15'\n",
       "17. '16'\n",
       "18. '17'\n",
       "19. '18'\n",
       "20. '19'\n",
       "21. '20'\n",
       "22. '21'\n",
       "23. '22'\n",
       "24. '23'\n",
       "25. '24'\n",
       "26. '25'\n",
       "27. '26'\n",
       "28. '27'\n",
       "29. '28'\n",
       "30. '29'\n",
       "31. '30'\n",
       "32. '31'\n",
       "33. '32'\n",
       "34. '33'\n",
       "35. '34'\n",
       "36. '35'\n",
       "37. '36'\n",
       "38. '37'\n",
       "39. '38'\n",
       "40. '39'\n",
       "41. '40'\n",
       "42. '41'\n",
       "43. '42'\n",
       "44. '43'\n",
       "45. '44'\n",
       "46. '45'\n",
       "47. '46'\n",
       "48. '47'\n",
       "49. '48'\n",
       "50. '49'\n",
       "51. '50'\n",
       "52. '51'\n",
       "53. '52'\n",
       "54. '53'\n",
       "55. '54'\n",
       "56. '55'\n",
       "57. '56'\n",
       "58. '57'\n",
       "59. '58'\n",
       "60. '59'\n",
       "61. '60'\n",
       "62. '61'\n",
       "63. '62'\n",
       "64. '63'\n",
       "65. '64'\n",
       "\n",
       "\n"
      ],
      "text/plain": [
       " [1] \"0\"  \"1\"  \"2\"  \"3\"  \"4\"  \"5\"  \"6\"  \"7\"  \"8\"  \"9\"  \"10\" \"11\" \"12\" \"13\" \"14\"\n",
       "[16] \"15\" \"16\" \"17\" \"18\" \"19\" \"20\" \"21\" \"22\" \"23\" \"24\" \"25\" \"26\" \"27\" \"28\" \"29\"\n",
       "[31] \"30\" \"31\" \"32\" \"33\" \"34\" \"35\" \"36\" \"37\" \"38\" \"39\" \"40\" \"41\" \"42\" \"43\" \"44\"\n",
       "[46] \"45\" \"46\" \"47\" \"48\" \"49\" \"50\" \"51\" \"52\" \"53\" \"54\" \"55\" \"56\" \"57\" \"58\" \"59\"\n",
       "[61] \"60\" \"61\" \"62\" \"63\" \"64\""
      ]
     },
     "metadata": {},
     "output_type": "display_data"
    }
   ],
   "source": [
    "energyData <- read.csv(file=\"../data/EnergyMixGeoClust.csv\", \n",
    "                       header=TRUE, sep=\",\",row.names=1)\n",
    "names(energyData)\n",
    "row.names(energyData)"
   ]
  },
  {
   "cell_type": "code",
   "execution_count": 5,
   "metadata": {
    "ExecuteTime": {
     "end_time": "2017-11-21T14:09:44.039000Z",
     "start_time": "2017-11-21T14:09:43.987Z"
    },
    "slideshow": {
     "slide_type": "subslide"
    }
   },
   "outputs": [
    {
     "name": "stdout",
     "output_type": "stream",
     "text": [
      "Observations: 65\n",
      "Variables: 11\n",
      "$ Country   \u001b[3m\u001b[90m<fct>\u001b[39m\u001b[23m US, Canada, Mexico, Argentina, Brazil, Chile, Colombia, E...\n",
      "$ Oil       \u001b[3m\u001b[90m<dbl>\u001b[39m\u001b[23m 842.9, 97.0, 85.6, 22.3, 104.3, 15.4, 8.8, 9.9, 8.5, 27.4...\n",
      "$ Gas       \u001b[3m\u001b[90m<dbl>\u001b[39m\u001b[23m 588.7, 85.2, 62.7, 38.8, 18.3, 3.0, 7.8, 0.4, 3.1, 26.8, ...\n",
      "$ Coal      \u001b[3m\u001b[90m<dbl>\u001b[39m\u001b[23m 498.0, 26.5, 6.8, 1.1, 11.7, 4.1, 3.1, 0.0, 0.5, 0.0, 2.3...\n",
      "$ Nuclear   \u001b[3m\u001b[90m<dbl>\u001b[39m\u001b[23m 190.2, 20.3, 2.2, 1.8, 2.9, 0.0, 0.0, 0.0, 0.0, 0.0, 0.0,...\n",
      "$ Hydro     \u001b[3m\u001b[90m<dbl>\u001b[39m\u001b[23m 62.2, 90.2, 6.0, 9.2, 88.5, 5.6, 9.3, 2.1, 4.5, 19.5, 8.3...\n",
      "$ Total2009 \u001b[3m\u001b[90m<dbl>\u001b[39m\u001b[23m 2182.0, 319.2, 163.2, 73.3, 225.7, 28.1, 29.0, 12.4, 16.6...\n",
      "$ CO2Emm    \u001b[3m\u001b[90m<dbl>\u001b[39m\u001b[23m 5941.9, 602.7, 436.8, 164.2, 409.4, 70.3, 57.9, 31.3, 35....\n",
      "$ Lat       \u001b[3m\u001b[90m<dbl>\u001b[39m\u001b[23m 37.090240, 56.130366, 23.634501, -38.416097, -14.235004, ...\n",
      "$ Long      \u001b[3m\u001b[90m<dbl>\u001b[39m\u001b[23m -95.712891, -106.346771, -102.552784, -63.616672, -51.925...\n",
      "$ Cluster   \u001b[3m\u001b[90m<int>\u001b[39m\u001b[23m 6, 5, 6, 4, 5, 5, 5, 5, 5, 5, 5, 4, 4, 6, 2, 2, 6, 6, 3, ...\n"
     ]
    }
   ],
   "source": [
    "glimpse(energyData)"
   ]
  },
  {
   "cell_type": "markdown",
   "metadata": {
    "slideshow": {
     "slide_type": "subslide"
    }
   },
   "source": [
    "Statistics of a data frame:"
   ]
  },
  {
   "cell_type": "code",
   "execution_count": 6,
   "metadata": {
    "ExecuteTime": {
     "end_time": "2017-09-12T07:42:43.642000Z",
     "start_time": "2017-09-12T07:42:43.607Z"
    },
    "slideshow": {
     "slide_type": "fragment"
    }
   },
   "outputs": [
    {
     "data": {
      "text/plain": [
       "       Country        Oil              Gas              Coal        \n",
       " Algeria   : 1   Min.   :  1.00   Min.   :  0.00   Min.   :   0.00  \n",
       " Argentina : 1   1st Qu.:  9.70   1st Qu.:  4.00   1st Qu.:   0.70  \n",
       " Australia : 1   Median : 20.20   Median : 17.80   Median :   4.10  \n",
       " Austria   : 1   Mean   : 55.66   Mean   : 39.15   Mean   :  49.45  \n",
       " Azerbaijan: 1   3rd Qu.: 62.00   3rd Qu.: 38.40   3rd Qu.:  26.50  \n",
       " Bangladesh: 1   Max.   :842.90   Max.   :588.70   Max.   :1537.40  \n",
       " (Other)   :59                                                      \n",
       "    Nuclear            Hydro          Total2009          CO2Emm      \n",
       " Min.   :  0.000   Min.   :  0.00   Min.   :   3.9   Min.   :   3.5  \n",
       " 1st Qu.:  0.000   1st Qu.:  0.30   1st Qu.:  24.2   1st Qu.:  57.9  \n",
       " Median :  0.000   Median :  2.10   Median :  60.8   Median : 148.0  \n",
       " Mean   :  9.365   Mean   : 10.35   Mean   : 164.0   Mean   : 458.6  \n",
       " 3rd Qu.:  5.400   3rd Qu.:  8.10   3rd Qu.: 128.2   3rd Qu.: 388.5  \n",
       " Max.   :190.200   Max.   :139.30   Max.   :2182.0   Max.   :7518.5  \n",
       "                                                                     \n",
       "      Lat              Long             Cluster     \n",
       " Min.   :-40.90   Min.   :-106.347   Min.   :1.000  \n",
       " 1st Qu.: 22.29   1st Qu.:   2.214   1st Qu.:4.000  \n",
       " Median : 38.96   Median :  23.881   Median :4.000  \n",
       " Mean   : 30.21   Mean   :  29.258   Mean   :4.323  \n",
       " 3rd Qu.: 48.67   3rd Qu.:  66.924   3rd Qu.:6.000  \n",
       " Max.   : 64.96   Max.   : 174.886   Max.   :6.000  \n",
       "                                                    "
      ]
     },
     "metadata": {},
     "output_type": "display_data"
    }
   ],
   "source": [
    "summary(energyData)"
   ]
  },
  {
   "cell_type": "markdown",
   "metadata": {
    "slideshow": {
     "slide_type": "slide"
    }
   },
   "source": [
    "## Import data from Excel spreadsheet"
   ]
  },
  {
   "cell_type": "code",
   "execution_count": 9,
   "metadata": {
    "ExecuteTime": {
     "end_time": "2017-11-21T14:21:01.698000Z",
     "start_time": "2017-11-21T14:21:00.051Z"
    },
    "slideshow": {
     "slide_type": "fragment"
    }
   },
   "outputs": [
    {
     "data": {
      "text/html": [
       "<ol class=list-inline>\n",
       "\t<li>'addImage'</li>\n",
       "\t<li>'appendNamedRegion'</li>\n",
       "\t<li>'appendWorksheet'</li>\n",
       "\t<li>'aref'</li>\n",
       "\t<li>'aref2idx'</li>\n",
       "\t<li>'clearNamedRegion'</li>\n",
       "\t<li>'clearRange'</li>\n",
       "\t<li>'clearRangeFromReference'</li>\n",
       "\t<li>'clearSheet'</li>\n",
       "\t<li>'cloneSheet'</li>\n",
       "\t<li>'col2idx'</li>\n",
       "\t<li>'createCellStyle'</li>\n",
       "\t<li>'createFreezePane'</li>\n",
       "\t<li>'createName'</li>\n",
       "\t<li>'createSheet'</li>\n",
       "\t<li>'createSplitPane'</li>\n",
       "\t<li>'cref2idx'</li>\n",
       "\t<li>'existsCellStyle'</li>\n",
       "\t<li>'existsName'</li>\n",
       "\t<li>'existsSheet'</li>\n",
       "\t<li>'extractSheetName'</li>\n",
       "\t<li>'getActiveSheetIndex'</li>\n",
       "\t<li>'getActiveSheetName'</li>\n",
       "\t<li>'getBoundingBox'</li>\n",
       "\t<li>'getCellFormula'</li>\n",
       "\t<li>'getCellStyle'</li>\n",
       "\t<li>'getCellStyleForType'</li>\n",
       "\t<li>'getDefinedNames'</li>\n",
       "\t<li>'getForceFormulaRecalculation'</li>\n",
       "\t<li>'getLastColumn'</li>\n",
       "\t<li>'getLastRow'</li>\n",
       "\t<li>'getOrCreateCellStyle'</li>\n",
       "\t<li>'getReferenceCoordinates'</li>\n",
       "\t<li>'getReferenceCoordinatesForName'</li>\n",
       "\t<li>'getReferenceCoordinatesForTable'</li>\n",
       "\t<li>'getReferenceFormula'</li>\n",
       "\t<li>'getSheetPos'</li>\n",
       "\t<li>'getSheets'</li>\n",
       "\t<li>'getTables'</li>\n",
       "\t<li>'hideSheet'</li>\n",
       "\t<li>'idx2aref'</li>\n",
       "\t<li>'idx2col'</li>\n",
       "\t<li>'idx2cref'</li>\n",
       "\t<li>'isSheetHidden'</li>\n",
       "\t<li>'isSheetVeryHidden'</li>\n",
       "\t<li>'isSheetVisible'</li>\n",
       "\t<li>'loadWorkbook'</li>\n",
       "\t<li>'mergeCells'</li>\n",
       "\t<li>'mirai'</li>\n",
       "\t<li>'normalizeDataframe'</li>\n",
       "\t<li>'onErrorCell'</li>\n",
       "\t<li>'print'</li>\n",
       "\t<li>'readNamedRegion'</li>\n",
       "\t<li>'readNamedRegionFromFile'</li>\n",
       "\t<li>'readTable'</li>\n",
       "\t<li>'readWorksheet'</li>\n",
       "\t<li>'readWorksheetFromFile'</li>\n",
       "\t<li>'removeName'</li>\n",
       "\t<li>'removePane'</li>\n",
       "\t<li>'removeSheet'</li>\n",
       "\t<li>'renameSheet'</li>\n",
       "\t<li>'saveWorkbook'</li>\n",
       "\t<li>'setActiveSheet'</li>\n",
       "\t<li>'setAutoFilter'</li>\n",
       "\t<li>'setBorder'</li>\n",
       "\t<li>'setCellFormula'</li>\n",
       "\t<li>'setCellStyle'</li>\n",
       "\t<li>'setCellStyleForType'</li>\n",
       "\t<li>'setColumnWidth'</li>\n",
       "\t<li>'setDataFormat'</li>\n",
       "\t<li>'setDataFormatForType'</li>\n",
       "\t<li>'setFillBackgroundColor'</li>\n",
       "\t<li>'setFillForegroundColor'</li>\n",
       "\t<li>'setFillPattern'</li>\n",
       "\t<li>'setForceFormulaRecalculation'</li>\n",
       "\t<li>'setHyperlink'</li>\n",
       "\t<li>'setMissingValue'</li>\n",
       "\t<li>'setRowHeight'</li>\n",
       "\t<li>'setSheetColor'</li>\n",
       "\t<li>'setSheetPos'</li>\n",
       "\t<li>'setStyleAction'</li>\n",
       "\t<li>'setStyleNamePrefix'</li>\n",
       "\t<li>'setWrapText'</li>\n",
       "\t<li>'show'</li>\n",
       "\t<li>'summary'</li>\n",
       "\t<li>'swissfranc'</li>\n",
       "\t<li>'unhideSheet'</li>\n",
       "\t<li>'unmergeCells'</li>\n",
       "\t<li>'writeNamedRegion'</li>\n",
       "\t<li>'writeNamedRegionToFile'</li>\n",
       "\t<li>'writeWorksheet'</li>\n",
       "\t<li>'writeWorksheetToFile'</li>\n",
       "\t<li>'XLC'</li>\n",
       "\t<li>'xlcDump'</li>\n",
       "\t<li>'xlcEdit'</li>\n",
       "\t<li>'xlcFreeMemory'</li>\n",
       "\t<li>'xlcMemoryReport'</li>\n",
       "\t<li>'xlcRestore'</li>\n",
       "</ol>\n"
      ],
      "text/latex": [
       "\\begin{enumerate*}\n",
       "\\item 'addImage'\n",
       "\\item 'appendNamedRegion'\n",
       "\\item 'appendWorksheet'\n",
       "\\item 'aref'\n",
       "\\item 'aref2idx'\n",
       "\\item 'clearNamedRegion'\n",
       "\\item 'clearRange'\n",
       "\\item 'clearRangeFromReference'\n",
       "\\item 'clearSheet'\n",
       "\\item 'cloneSheet'\n",
       "\\item 'col2idx'\n",
       "\\item 'createCellStyle'\n",
       "\\item 'createFreezePane'\n",
       "\\item 'createName'\n",
       "\\item 'createSheet'\n",
       "\\item 'createSplitPane'\n",
       "\\item 'cref2idx'\n",
       "\\item 'existsCellStyle'\n",
       "\\item 'existsName'\n",
       "\\item 'existsSheet'\n",
       "\\item 'extractSheetName'\n",
       "\\item 'getActiveSheetIndex'\n",
       "\\item 'getActiveSheetName'\n",
       "\\item 'getBoundingBox'\n",
       "\\item 'getCellFormula'\n",
       "\\item 'getCellStyle'\n",
       "\\item 'getCellStyleForType'\n",
       "\\item 'getDefinedNames'\n",
       "\\item 'getForceFormulaRecalculation'\n",
       "\\item 'getLastColumn'\n",
       "\\item 'getLastRow'\n",
       "\\item 'getOrCreateCellStyle'\n",
       "\\item 'getReferenceCoordinates'\n",
       "\\item 'getReferenceCoordinatesForName'\n",
       "\\item 'getReferenceCoordinatesForTable'\n",
       "\\item 'getReferenceFormula'\n",
       "\\item 'getSheetPos'\n",
       "\\item 'getSheets'\n",
       "\\item 'getTables'\n",
       "\\item 'hideSheet'\n",
       "\\item 'idx2aref'\n",
       "\\item 'idx2col'\n",
       "\\item 'idx2cref'\n",
       "\\item 'isSheetHidden'\n",
       "\\item 'isSheetVeryHidden'\n",
       "\\item 'isSheetVisible'\n",
       "\\item 'loadWorkbook'\n",
       "\\item 'mergeCells'\n",
       "\\item 'mirai'\n",
       "\\item 'normalizeDataframe'\n",
       "\\item 'onErrorCell'\n",
       "\\item 'print'\n",
       "\\item 'readNamedRegion'\n",
       "\\item 'readNamedRegionFromFile'\n",
       "\\item 'readTable'\n",
       "\\item 'readWorksheet'\n",
       "\\item 'readWorksheetFromFile'\n",
       "\\item 'removeName'\n",
       "\\item 'removePane'\n",
       "\\item 'removeSheet'\n",
       "\\item 'renameSheet'\n",
       "\\item 'saveWorkbook'\n",
       "\\item 'setActiveSheet'\n",
       "\\item 'setAutoFilter'\n",
       "\\item 'setBorder'\n",
       "\\item 'setCellFormula'\n",
       "\\item 'setCellStyle'\n",
       "\\item 'setCellStyleForType'\n",
       "\\item 'setColumnWidth'\n",
       "\\item 'setDataFormat'\n",
       "\\item 'setDataFormatForType'\n",
       "\\item 'setFillBackgroundColor'\n",
       "\\item 'setFillForegroundColor'\n",
       "\\item 'setFillPattern'\n",
       "\\item 'setForceFormulaRecalculation'\n",
       "\\item 'setHyperlink'\n",
       "\\item 'setMissingValue'\n",
       "\\item 'setRowHeight'\n",
       "\\item 'setSheetColor'\n",
       "\\item 'setSheetPos'\n",
       "\\item 'setStyleAction'\n",
       "\\item 'setStyleNamePrefix'\n",
       "\\item 'setWrapText'\n",
       "\\item 'show'\n",
       "\\item 'summary'\n",
       "\\item 'swissfranc'\n",
       "\\item 'unhideSheet'\n",
       "\\item 'unmergeCells'\n",
       "\\item 'writeNamedRegion'\n",
       "\\item 'writeNamedRegionToFile'\n",
       "\\item 'writeWorksheet'\n",
       "\\item 'writeWorksheetToFile'\n",
       "\\item 'XLC'\n",
       "\\item 'xlcDump'\n",
       "\\item 'xlcEdit'\n",
       "\\item 'xlcFreeMemory'\n",
       "\\item 'xlcMemoryReport'\n",
       "\\item 'xlcRestore'\n",
       "\\end{enumerate*}\n"
      ],
      "text/markdown": [
       "1. 'addImage'\n",
       "2. 'appendNamedRegion'\n",
       "3. 'appendWorksheet'\n",
       "4. 'aref'\n",
       "5. 'aref2idx'\n",
       "6. 'clearNamedRegion'\n",
       "7. 'clearRange'\n",
       "8. 'clearRangeFromReference'\n",
       "9. 'clearSheet'\n",
       "10. 'cloneSheet'\n",
       "11. 'col2idx'\n",
       "12. 'createCellStyle'\n",
       "13. 'createFreezePane'\n",
       "14. 'createName'\n",
       "15. 'createSheet'\n",
       "16. 'createSplitPane'\n",
       "17. 'cref2idx'\n",
       "18. 'existsCellStyle'\n",
       "19. 'existsName'\n",
       "20. 'existsSheet'\n",
       "21. 'extractSheetName'\n",
       "22. 'getActiveSheetIndex'\n",
       "23. 'getActiveSheetName'\n",
       "24. 'getBoundingBox'\n",
       "25. 'getCellFormula'\n",
       "26. 'getCellStyle'\n",
       "27. 'getCellStyleForType'\n",
       "28. 'getDefinedNames'\n",
       "29. 'getForceFormulaRecalculation'\n",
       "30. 'getLastColumn'\n",
       "31. 'getLastRow'\n",
       "32. 'getOrCreateCellStyle'\n",
       "33. 'getReferenceCoordinates'\n",
       "34. 'getReferenceCoordinatesForName'\n",
       "35. 'getReferenceCoordinatesForTable'\n",
       "36. 'getReferenceFormula'\n",
       "37. 'getSheetPos'\n",
       "38. 'getSheets'\n",
       "39. 'getTables'\n",
       "40. 'hideSheet'\n",
       "41. 'idx2aref'\n",
       "42. 'idx2col'\n",
       "43. 'idx2cref'\n",
       "44. 'isSheetHidden'\n",
       "45. 'isSheetVeryHidden'\n",
       "46. 'isSheetVisible'\n",
       "47. 'loadWorkbook'\n",
       "48. 'mergeCells'\n",
       "49. 'mirai'\n",
       "50. 'normalizeDataframe'\n",
       "51. 'onErrorCell'\n",
       "52. 'print'\n",
       "53. 'readNamedRegion'\n",
       "54. 'readNamedRegionFromFile'\n",
       "55. 'readTable'\n",
       "56. 'readWorksheet'\n",
       "57. 'readWorksheetFromFile'\n",
       "58. 'removeName'\n",
       "59. 'removePane'\n",
       "60. 'removeSheet'\n",
       "61. 'renameSheet'\n",
       "62. 'saveWorkbook'\n",
       "63. 'setActiveSheet'\n",
       "64. 'setAutoFilter'\n",
       "65. 'setBorder'\n",
       "66. 'setCellFormula'\n",
       "67. 'setCellStyle'\n",
       "68. 'setCellStyleForType'\n",
       "69. 'setColumnWidth'\n",
       "70. 'setDataFormat'\n",
       "71. 'setDataFormatForType'\n",
       "72. 'setFillBackgroundColor'\n",
       "73. 'setFillForegroundColor'\n",
       "74. 'setFillPattern'\n",
       "75. 'setForceFormulaRecalculation'\n",
       "76. 'setHyperlink'\n",
       "77. 'setMissingValue'\n",
       "78. 'setRowHeight'\n",
       "79. 'setSheetColor'\n",
       "80. 'setSheetPos'\n",
       "81. 'setStyleAction'\n",
       "82. 'setStyleNamePrefix'\n",
       "83. 'setWrapText'\n",
       "84. 'show'\n",
       "85. 'summary'\n",
       "86. 'swissfranc'\n",
       "87. 'unhideSheet'\n",
       "88. 'unmergeCells'\n",
       "89. 'writeNamedRegion'\n",
       "90. 'writeNamedRegionToFile'\n",
       "91. 'writeWorksheet'\n",
       "92. 'writeWorksheetToFile'\n",
       "93. 'XLC'\n",
       "94. 'xlcDump'\n",
       "95. 'xlcEdit'\n",
       "96. 'xlcFreeMemory'\n",
       "97. 'xlcMemoryReport'\n",
       "98. 'xlcRestore'\n",
       "\n",
       "\n"
      ],
      "text/plain": [
       " [1] \"addImage\"                        \"appendNamedRegion\"              \n",
       " [3] \"appendWorksheet\"                 \"aref\"                           \n",
       " [5] \"aref2idx\"                        \"clearNamedRegion\"               \n",
       " [7] \"clearRange\"                      \"clearRangeFromReference\"        \n",
       " [9] \"clearSheet\"                      \"cloneSheet\"                     \n",
       "[11] \"col2idx\"                         \"createCellStyle\"                \n",
       "[13] \"createFreezePane\"                \"createName\"                     \n",
       "[15] \"createSheet\"                     \"createSplitPane\"                \n",
       "[17] \"cref2idx\"                        \"existsCellStyle\"                \n",
       "[19] \"existsName\"                      \"existsSheet\"                    \n",
       "[21] \"extractSheetName\"                \"getActiveSheetIndex\"            \n",
       "[23] \"getActiveSheetName\"              \"getBoundingBox\"                 \n",
       "[25] \"getCellFormula\"                  \"getCellStyle\"                   \n",
       "[27] \"getCellStyleForType\"             \"getDefinedNames\"                \n",
       "[29] \"getForceFormulaRecalculation\"    \"getLastColumn\"                  \n",
       "[31] \"getLastRow\"                      \"getOrCreateCellStyle\"           \n",
       "[33] \"getReferenceCoordinates\"         \"getReferenceCoordinatesForName\" \n",
       "[35] \"getReferenceCoordinatesForTable\" \"getReferenceFormula\"            \n",
       "[37] \"getSheetPos\"                     \"getSheets\"                      \n",
       "[39] \"getTables\"                       \"hideSheet\"                      \n",
       "[41] \"idx2aref\"                        \"idx2col\"                        \n",
       "[43] \"idx2cref\"                        \"isSheetHidden\"                  \n",
       "[45] \"isSheetVeryHidden\"               \"isSheetVisible\"                 \n",
       "[47] \"loadWorkbook\"                    \"mergeCells\"                     \n",
       "[49] \"mirai\"                           \"normalizeDataframe\"             \n",
       "[51] \"onErrorCell\"                     \"print\"                          \n",
       "[53] \"readNamedRegion\"                 \"readNamedRegionFromFile\"        \n",
       "[55] \"readTable\"                       \"readWorksheet\"                  \n",
       "[57] \"readWorksheetFromFile\"           \"removeName\"                     \n",
       "[59] \"removePane\"                      \"removeSheet\"                    \n",
       "[61] \"renameSheet\"                     \"saveWorkbook\"                   \n",
       "[63] \"setActiveSheet\"                  \"setAutoFilter\"                  \n",
       "[65] \"setBorder\"                       \"setCellFormula\"                 \n",
       "[67] \"setCellStyle\"                    \"setCellStyleForType\"            \n",
       "[69] \"setColumnWidth\"                  \"setDataFormat\"                  \n",
       "[71] \"setDataFormatForType\"            \"setFillBackgroundColor\"         \n",
       "[73] \"setFillForegroundColor\"          \"setFillPattern\"                 \n",
       "[75] \"setForceFormulaRecalculation\"    \"setHyperlink\"                   \n",
       "[77] \"setMissingValue\"                 \"setRowHeight\"                   \n",
       "[79] \"setSheetColor\"                   \"setSheetPos\"                    \n",
       "[81] \"setStyleAction\"                  \"setStyleNamePrefix\"             \n",
       "[83] \"setWrapText\"                     \"show\"                           \n",
       "[85] \"summary\"                         \"swissfranc\"                     \n",
       "[87] \"unhideSheet\"                     \"unmergeCells\"                   \n",
       "[89] \"writeNamedRegion\"                \"writeNamedRegionToFile\"         \n",
       "[91] \"writeWorksheet\"                  \"writeWorksheetToFile\"           \n",
       "[93] \"XLC\"                             \"xlcDump\"                        \n",
       "[95] \"xlcEdit\"                         \"xlcFreeMemory\"                  \n",
       "[97] \"xlcMemoryReport\"                 \"xlcRestore\"                     "
      ]
     },
     "metadata": {},
     "output_type": "display_data"
    }
   ],
   "source": [
    "#install.packages(\"XLConnect\")\n",
    "library(XLConnect)\n",
    "\n",
    "objects(\"package:XLConnect\")"
   ]
  },
  {
   "cell_type": "code",
   "execution_count": 10,
   "metadata": {
    "ExecuteTime": {
     "end_time": "2017-11-21T14:21:10.997000Z",
     "start_time": "2017-11-21T14:21:09.520Z"
    },
    "slideshow": {
     "slide_type": "subslide"
    }
   },
   "outputs": [],
   "source": [
    "hrvData <- readWorksheetFromFile(\"../data/spikeeHRV.xls\", \n",
    "                            sheet=1)  # Options: startRow = 4, endCol = 2"
   ]
  },
  {
   "cell_type": "code",
   "execution_count": 11,
   "metadata": {
    "ExecuteTime": {
     "end_time": "2017-11-21T14:21:16.773000Z",
     "start_time": "2017-11-21T14:21:16.681Z"
    },
    "slideshow": {
     "slide_type": "fragment"
    }
   },
   "outputs": [
    {
     "name": "stdout",
     "output_type": "stream",
     "text": [
      "Observations: 602\n",
      "Variables: 15\n",
      "$ ID      \u001b[3m\u001b[90m<dbl>\u001b[39m\u001b[23m 1, 2, 3, 4, 5, 6, 7, 8, 9, 10, 11, 12, 13, 14, 15, 16, 17, ...\n",
      "$ Tag     \u001b[3m\u001b[90m<dttm>\u001b[39m\u001b[23m 2016-10-26 06:05:34, 2016-10-25 06:12:35, 2016-10-24 06:14...\n",
      "$ Start   \u001b[3m\u001b[90m<dttm>\u001b[39m\u001b[23m 2016-10-26 06:05:34, 2016-10-25 06:12:35, 2016-10-24 06:14...\n",
      "$ Dauer   \u001b[3m\u001b[90m<chr>\u001b[39m\u001b[23m \"0:10:04\", \"0:10:02\", \"0:09:49\", \"0:10:33\", \"0:10:04\", \"0:1...\n",
      "$ Avg..HR \u001b[3m\u001b[90m<dbl>\u001b[39m\u001b[23m 44.39380, 50.24032, 42.77373, 45.11753, 51.20371, 43.30317,...\n",
      "$ RMSSD   \u001b[3m\u001b[90m<dbl>\u001b[39m\u001b[23m 102.66, 95.34, 159.54, 113.26, 81.84, 168.13, 206.20, 161.4...\n",
      "$ SDNN    \u001b[3m\u001b[90m<dbl>\u001b[39m\u001b[23m 176.82, 120.90, 190.57, 127.25, 117.12, 157.29, 192.39, 155...\n",
      "$ pNN50   \u001b[3m\u001b[90m<dbl>\u001b[39m\u001b[23m 47.86, 54.49, 75.96, 67.60, 45.97, 76.20, 78.66, 70.86, 76....\n",
      "$ RRmin   \u001b[3m\u001b[90m<dbl>\u001b[39m\u001b[23m 933, 935, 955, 1028, 919, 999, 957, 934, 729, 913, 849, 910...\n",
      "$ RRmean  \u001b[3m\u001b[90m<dbl>\u001b[39m\u001b[23m 1351.54, 1194.26, 1402.73, 1329.86, 1171.79, 1385.58, 1309....\n",
      "$ RRmax   \u001b[3m\u001b[90m<dbl>\u001b[39m\u001b[23m 1787, 1689, 1903, 1727, 1620, 1798, 2186, 1803, 1842, 1691,...\n",
      "$ LF      \u001b[3m\u001b[90m<dbl>\u001b[39m\u001b[23m 4122.28, 2061.21, 4986.04, 2395.12, 1848.04, 7912.82, 4430....\n",
      "$ HF      \u001b[3m\u001b[90m<dbl>\u001b[39m\u001b[23m 1133.15, 1828.32, 5214.02, 2152.78, 1264.35, 6206.40, 9388....\n",
      "$ LF.HF   \u001b[3m\u001b[90m<dbl>\u001b[39m\u001b[23m 3.64, 1.13, 0.96, 1.11, 1.46, 1.27, 0.47, 1.26, 1.51, 0.72,...\n",
      "$ Total   \u001b[3m\u001b[90m<dbl>\u001b[39m\u001b[23m 5754.21, 4314.43, 10730.26, 5320.51, 3286.51, 14702.24, 146...\n"
     ]
    }
   ],
   "source": [
    "glimpse(hrvData)"
   ]
  },
  {
   "cell_type": "markdown",
   "metadata": {
    "slideshow": {
     "slide_type": "slide"
    }
   },
   "source": [
    "## Import sample data from R datasets\n",
    "R already contains a bunch of datasets, which can be accessed via the *datasets* package. The contained datasets are described e.g. in [http://stat.ethz.ch/R-manual/R-devel/library/datasets/html/00Index.html](http://stat.ethz.ch/R-manual/R-devel/library/datasets/html/00Index.html)"
   ]
  },
  {
   "cell_type": "code",
   "execution_count": 12,
   "metadata": {
    "ExecuteTime": {
     "end_time": "2017-11-21T14:22:06.065000Z",
     "start_time": "2017-11-21T14:22:06.015Z"
    },
    "slideshow": {
     "slide_type": "fragment"
    }
   },
   "outputs": [],
   "source": [
    "library(help=\"datasets\")"
   ]
  },
  {
   "cell_type": "code",
   "execution_count": 13,
   "metadata": {
    "ExecuteTime": {
     "end_time": "2017-11-21T14:21:59.973000Z",
     "start_time": "2017-11-21T14:21:59.835Z"
    },
    "slideshow": {
     "slide_type": "fragment"
    }
   },
   "outputs": [],
   "source": [
    "?USArrests"
   ]
  },
  {
   "cell_type": "code",
   "execution_count": 14,
   "metadata": {
    "ExecuteTime": {
     "end_time": "2017-11-21T14:22:21.654000Z",
     "start_time": "2017-11-21T14:22:21.607Z"
    },
    "slideshow": {
     "slide_type": "subslide"
    }
   },
   "outputs": [],
   "source": [
    "a <- USArrests"
   ]
  },
  {
   "cell_type": "code",
   "execution_count": 15,
   "metadata": {
    "ExecuteTime": {
     "end_time": "2017-11-21T14:22:27.232000Z",
     "start_time": "2017-11-21T14:22:27.192Z"
    },
    "slideshow": {
     "slide_type": "fragment"
    }
   },
   "outputs": [
    {
     "name": "stdout",
     "output_type": "stream",
     "text": [
      "               Murder Assault UrbanPop Rape\n",
      "Alabama          13.2     236       58 21.2\n",
      "Alaska           10.0     263       48 44.5\n",
      "Arizona           8.1     294       80 31.0\n",
      "Arkansas          8.8     190       50 19.5\n",
      "California        9.0     276       91 40.6\n",
      "Colorado          7.9     204       78 38.7\n",
      "Connecticut       3.3     110       77 11.1\n",
      "Delaware          5.9     238       72 15.8\n",
      "Florida          15.4     335       80 31.9\n",
      "Georgia          17.4     211       60 25.8\n",
      "Hawaii            5.3      46       83 20.2\n",
      "Idaho             2.6     120       54 14.2\n",
      "Illinois         10.4     249       83 24.0\n",
      "Indiana           7.2     113       65 21.0\n",
      "Iowa              2.2      56       57 11.3\n",
      "Kansas            6.0     115       66 18.0\n",
      "Kentucky          9.7     109       52 16.3\n",
      "Louisiana        15.4     249       66 22.2\n",
      "Maine             2.1      83       51  7.8\n",
      "Maryland         11.3     300       67 27.8\n",
      "Massachusetts     4.4     149       85 16.3\n",
      "Michigan         12.1     255       74 35.1\n",
      "Minnesota         2.7      72       66 14.9\n",
      "Mississippi      16.1     259       44 17.1\n",
      "Missouri          9.0     178       70 28.2\n",
      "Montana           6.0     109       53 16.4\n",
      "Nebraska          4.3     102       62 16.5\n",
      "Nevada           12.2     252       81 46.0\n",
      "New Hampshire     2.1      57       56  9.5\n",
      "New Jersey        7.4     159       89 18.8\n",
      "New Mexico       11.4     285       70 32.1\n",
      "New York         11.1     254       86 26.1\n",
      "North Carolina   13.0     337       45 16.1\n",
      "North Dakota      0.8      45       44  7.3\n",
      "Ohio              7.3     120       75 21.4\n",
      "Oklahoma          6.6     151       68 20.0\n",
      "Oregon            4.9     159       67 29.3\n",
      "Pennsylvania      6.3     106       72 14.9\n",
      "Rhode Island      3.4     174       87  8.3\n",
      "South Carolina   14.4     279       48 22.5\n",
      "South Dakota      3.8      86       45 12.8\n",
      "Tennessee        13.2     188       59 26.9\n",
      "Texas            12.7     201       80 25.5\n",
      "Utah              3.2     120       80 22.9\n",
      "Vermont           2.2      48       32 11.2\n",
      "Virginia          8.5     156       63 20.7\n",
      "Washington        4.0     145       73 26.2\n",
      "West Virginia     5.7      81       39  9.3\n",
      "Wisconsin         2.6      53       66 10.8\n",
      "Wyoming           6.8     161       60 15.6\n"
     ]
    }
   ],
   "source": [
    "print(a)"
   ]
  },
  {
   "cell_type": "markdown",
   "metadata": {
    "slideshow": {
     "slide_type": "slide"
    }
   },
   "source": [
    "## Import data from JSON file"
   ]
  },
  {
   "cell_type": "code",
   "execution_count": 16,
   "metadata": {
    "slideshow": {
     "slide_type": "fragment"
    }
   },
   "outputs": [
    {
     "name": "stderr",
     "output_type": "stream",
     "text": [
      "\n",
      "Attaching package: 'jsonlite'\n",
      "\n",
      "The following object is masked from 'package:purrr':\n",
      "\n",
      "    flatten\n",
      "\n",
      "Warning message in readLines(json.file):\n",
      "\"unvollständige letzte Zeile in '../data/exampleFile.json' gefunden\""
     ]
    },
    {
     "name": "stdout",
     "output_type": "stream",
     "text": [
      "Observations: 8\n",
      "Variables: 5\n",
      "$ ID        \u001b[3m\u001b[90m<fct>\u001b[39m\u001b[23m 1, 2, 3, 4, 5, 6, 7, 8\n",
      "$ Name      \u001b[3m\u001b[90m<fct>\u001b[39m\u001b[23m Otto, Johannes, Oliver, Simone, Beate, Joachim, ROland, E...\n",
      "$ Salary    \u001b[3m\u001b[90m<fct>\u001b[39m\u001b[23m 723.3, 215.2, 213, 349, 243.25, 379, 642.5, 424.3\n",
      "$ StartDate \u001b[3m\u001b[90m<fct>\u001b[39m\u001b[23m 1/1/2014, 3/22/2011, 10/13/2012, 2/10/2017, 3/23/2013, 5/...\n",
      "$ Dept      \u001b[3m\u001b[90m<fct>\u001b[39m\u001b[23m HR, Support, IT, IT, Organisation, IT, Operations, Finance\n"
     ]
    }
   ],
   "source": [
    "#install.packages(\"jsonlite\")\n",
    "library(\"jsonlite\")\n",
    "\n",
    "#json.file <- \"http://api.worldbank.org/country?per_page=10&region=OED&lendingtype=LNX&format=json\"\n",
    "json.file <- \"../data/exampleFile.json\"\n",
    "\n",
    "df.json <- fromJSON(paste(readLines(json.file), collapse=\"\"))\n",
    "\n",
    "#as data frame\n",
    "df.json <- as.data.frame(df.json)\n",
    "\n",
    "glimpse(df.json)"
   ]
  },
  {
   "cell_type": "markdown",
   "metadata": {
    "slideshow": {
     "slide_type": "slide"
    }
   },
   "source": [
    "## Export data to textfile"
   ]
  },
  {
   "cell_type": "code",
   "execution_count": 17,
   "metadata": {
    "slideshow": {
     "slide_type": "fragment"
    }
   },
   "outputs": [],
   "source": [
    "textVector <- c(\"This is my first row\", \"Second Row\", \"And here is the last row\")\n",
    "\n",
    "write(textVector, file=\"../data/testoutput.txt\")"
   ]
  },
  {
   "cell_type": "markdown",
   "metadata": {
    "slideshow": {
     "slide_type": "slide"
    }
   },
   "source": [
    "## Export data frame to csv\n",
    "\n",
    "Write contents of a R data frame into .csv file with [`write.csv()`](https://stat.ethz.ch/R-manual/R-devel/library/utils/html/write.table.html). Some of the arguments are:\n",
    "\n",
    "* 'x' define the R data frame or matrix to write\n",
    "* 'file' define the path and CSV filename to write\n",
    "* 'sep' define the field separator character of the columns\n",
    "* 'dec' define the character used for decimal points\n",
    "* 'col.names' define a vector of optional column names or a logical value to export the column names as header\n",
    "* 'row.names' define a vector of optional row names or a logical value to also export the row names"
   ]
  },
  {
   "cell_type": "code",
   "execution_count": 18,
   "metadata": {
    "ExecuteTime": {
     "end_time": "2017-11-21T14:23:21.166000Z",
     "start_time": "2017-11-21T14:23:21.113Z"
    },
    "slideshow": {
     "slide_type": "fragment"
    }
   },
   "outputs": [],
   "source": [
    "write.table(energyData, \"../data/energyData.csv\", sep = \",\")"
   ]
  },
  {
   "cell_type": "markdown",
   "metadata": {
    "slideshow": {
     "slide_type": "slide"
    }
   },
   "source": [
    "## Export data frame to Excel spreadsheet"
   ]
  },
  {
   "cell_type": "code",
   "execution_count": 19,
   "metadata": {
    "ExecuteTime": {
     "end_time": "2017-11-21T14:23:26.782000Z",
     "start_time": "2017-11-21T14:23:26.715Z"
    },
    "slideshow": {
     "slide_type": "fragment"
    }
   },
   "outputs": [],
   "source": [
    "library(XLConnect)"
   ]
  },
  {
   "cell_type": "code",
   "execution_count": 20,
   "metadata": {
    "ExecuteTime": {
     "end_time": "2017-11-21T14:23:40.431000Z",
     "start_time": "2017-11-21T14:23:39.508Z"
    },
    "slideshow": {
     "slide_type": "fragment"
    }
   },
   "outputs": [],
   "source": [
    "writeWorksheetToFile(\"../data/energyDataTmp.xlsx\", energyData, sheet = \"Data\")"
   ]
  },
  {
   "cell_type": "markdown",
   "metadata": {
    "slideshow": {
     "slide_type": "slide"
    }
   },
   "source": [
    "## Export data to JSON file"
   ]
  },
  {
   "cell_type": "code",
   "execution_count": 21,
   "metadata": {
    "slideshow": {
     "slide_type": "fragment"
    }
   },
   "outputs": [],
   "source": [
    "library(\"jsonlite\")"
   ]
  },
  {
   "cell_type": "code",
   "execution_count": 22,
   "metadata": {
    "slideshow": {
     "slide_type": "fragment"
    }
   },
   "outputs": [
    {
     "data": {
      "text/plain": [
       "{\"ID\":\"1\",\"Name\":\"Otto\",\"Salary\":\"723.3\",\"StartDate\":\"1/1/2014\",\"Dept\":\"HR\"} {\"ID\":\"2\",\"Name\":\"Johannes\",\"Salary\":\"215.2\",\"StartDate\":\"3/22/2011\",\"Dept\":\"Support\"} {\"ID\":\"3\",\"Name\":\"Oliver\",\"Salary\":\"213\",\"StartDate\":\"10/13/2012\",\"Dept\":\"IT\"} {\"ID\":\"4\",\"Name\":\"Simone\",\"Salary\":\"349\",\"StartDate\":\"2/10/2017\",\"Dept\":\"IT\"} {\"ID\":\"5\",\"Name\":\"Beate\",\"Salary\":\"243.25\",\"StartDate\":\"3/23/2013\",\"Dept\":\"Organisation\"} {\"ID\":\"6\",\"Name\":\"Joachim\",\"Salary\":\"379\",\"StartDate\":\"5/30/2018\",\"Dept\":\"IT\"} {\"ID\":\"7\",\"Name\":\"ROland\",\"Salary\":\"642.5\",\"StartDate\":\"7/27/2018\",\"Dept\":\"Operations\"} {\"ID\":\"8\",\"Name\":\"Everest\",\"Salary\":\"424.3\",\"StartDate\":\"3/13/2014\",\"Dept\":\"Finance\"} "
      ]
     },
     "metadata": {},
     "output_type": "display_data"
    }
   ],
   "source": [
    "#Convert to JSON structure with \\n at the end of a line\n",
    "json.file <- toJSON(df.json, collapse = \"\\n\")\n",
    "\n",
    "json.file\n",
    "\n",
    "#Write JSON structure as normal text file\n",
    "write(json.file,file=\"../data/exampleFileNew.json\")"
   ]
  },
  {
   "cell_type": "markdown",
   "metadata": {
    "slideshow": {
     "slide_type": "slide"
    }
   },
   "source": [
    "## Further import/export packages\n",
    "\n",
    "For example:\n",
    "\n",
    "* [xml2](https://github.com/r-lib/xml2) to read and write XML.\n",
    "\n",
    "* [httr](https://github.com/r-lib/httr) for web APIs.\n",
    "\n",
    "* [rvest](https://github.com/tidyverse/rvest) for scraping web ressources.\n",
    "\n",
    "* [DBI](https://github.com/r-dbi/DBI) to import and export from and into relational databases."
   ]
  }
 ],
 "metadata": {
  "anaconda-cloud": {},
  "celltoolbar": "Slideshow",
  "kernelspec": {
   "display_name": "R",
   "language": "R",
   "name": "ir"
  },
  "language_info": {
   "codemirror_mode": "r",
   "file_extension": ".r",
   "mimetype": "text/x-r-source",
   "name": "R",
   "pygments_lexer": "r",
   "version": "3.6.1"
  },
  "nav_menu": {},
  "toc": {
   "nav_menu": {
    "height": "179px",
    "width": "252px"
   },
   "number_sections": true,
   "sideBar": true,
   "skip_h1_title": false,
   "toc_cell": false,
   "toc_position": {
    "height": "466px",
    "left": "0px",
    "right": "961.333px",
    "top": "51.5333px",
    "width": "212px"
   },
   "toc_section_display": "block",
   "toc_window_display": true
  },
  "toc_position": {
   "height": "485px",
   "left": "0px",
   "right": "818px",
   "top": "125px",
   "width": "282px"
  }
 },
 "nbformat": 4,
 "nbformat_minor": 1
}
