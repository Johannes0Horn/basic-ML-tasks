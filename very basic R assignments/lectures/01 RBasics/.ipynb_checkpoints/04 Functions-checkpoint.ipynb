{
 "cells": [
  {
   "cell_type": "markdown",
   "metadata": {
    "slideshow": {
     "slide_type": "slide"
    }
   },
   "source": [
    "# Functions in R\n",
    "* Author: Johannes Maucher, some modifications OK in 2019\n",
    "* Last Update: 2017-03-13\n",
    "\n",
    "When to write a function? A rule of thumb from Hadley Wickham, author of [R for Data Science](https://r4ds.had.co.nz) [WH19]:\n",
    "\n",
    "> \"Never copy and paste more than twice\""
   ]
  },
  {
   "cell_type": "code",
   "execution_count": 1,
   "metadata": {
    "slideshow": {
     "slide_type": "subslide"
    }
   },
   "outputs": [
    {
     "name": "stderr",
     "output_type": "stream",
     "text": [
      "-- \u001b[1mAttaching packages\u001b[22m --------------------------------------- tidyverse 1.2.1 --\n",
      "\u001b[32mv\u001b[39m \u001b[34mggplot2\u001b[39m 3.2.0     \u001b[32mv\u001b[39m \u001b[34mpurrr  \u001b[39m 0.3.2\n",
      "\u001b[32mv\u001b[39m \u001b[34mtibble \u001b[39m 2.1.3     \u001b[32mv\u001b[39m \u001b[34mdplyr  \u001b[39m 0.8.3\n",
      "\u001b[32mv\u001b[39m \u001b[34mtidyr  \u001b[39m 0.8.3     \u001b[32mv\u001b[39m \u001b[34mstringr\u001b[39m 1.4.0\n",
      "\u001b[32mv\u001b[39m \u001b[34mreadr  \u001b[39m 1.3.1     \u001b[32mv\u001b[39m \u001b[34mforcats\u001b[39m 0.4.0\n",
      "-- \u001b[1mConflicts\u001b[22m ------------------------------------------ tidyverse_conflicts() --\n",
      "\u001b[31mx\u001b[39m \u001b[34mdplyr\u001b[39m::\u001b[32mfilter()\u001b[39m masks \u001b[34mstats\u001b[39m::filter()\n",
      "\u001b[31mx\u001b[39m \u001b[34mdplyr\u001b[39m::\u001b[32mlag()\u001b[39m    masks \u001b[34mstats\u001b[39m::lag()\n"
     ]
    }
   ],
   "source": [
    "library(tidyverse)\n",
    "library(modelr)"
   ]
  },
  {
   "cell_type": "markdown",
   "metadata": {
    "slideshow": {
     "slide_type": "subslide"
    }
   },
   "source": [
    "R is primarily a functional language. Functions are treated as other data types. For example functions can be assigned to variables and can be passed as arguments to other functions. Even simple operators as *+* are functions. The conventional formulation *x+y* is just a shortcut for \"+\"(x, y):"
   ]
  },
  {
   "cell_type": "code",
   "execution_count": 2,
   "metadata": {
    "ExecuteTime": {
     "end_time": "2017-11-21T18:18:34.050000Z",
     "start_time": "2017-11-21T18:18:33.948Z"
    },
    "slideshow": {
     "slide_type": "fragment"
    }
   },
   "outputs": [
    {
     "data": {
      "text/html": [
       "15"
      ],
      "text/latex": [
       "15"
      ],
      "text/markdown": [
       "15"
      ],
      "text/plain": [
       "[1] 15"
      ]
     },
     "metadata": {},
     "output_type": "display_data"
    },
    {
     "data": {
      "text/html": [
       "15"
      ],
      "text/latex": [
       "15"
      ],
      "text/markdown": [
       "15"
      ],
      "text/plain": [
       "[1] 15"
      ]
     },
     "metadata": {},
     "output_type": "display_data"
    }
   ],
   "source": [
    "9+6\n",
    "\"+\"(9, 6)"
   ]
  },
  {
   "cell_type": "markdown",
   "metadata": {
    "slideshow": {
     "slide_type": "subslide"
    }
   },
   "source": [
    "One of the most popular concepts of R functions is that they can be applied in a *vectorized* manner. This means that they can be executed for an individual element as well as elementwise for a collection of elements, e.g. vectors or matrices:"
   ]
  },
  {
   "cell_type": "code",
   "execution_count": 3,
   "metadata": {
    "ExecuteTime": {
     "end_time": "2017-11-21T18:18:37.018000Z",
     "start_time": "2017-11-21T18:18:36.935Z"
    },
    "slideshow": {
     "slide_type": "fragment"
    }
   },
   "outputs": [
    {
     "data": {
      "text/html": [
       "<ol class=list-inline>\n",
       "\t<li>1</li>\n",
       "\t<li>2</li>\n",
       "\t<li>3</li>\n",
       "\t<li>4</li>\n",
       "\t<li>5</li>\n",
       "\t<li>6</li>\n",
       "\t<li>7</li>\n",
       "\t<li>8</li>\n",
       "\t<li>9</li>\n",
       "\t<li>10</li>\n",
       "</ol>\n"
      ],
      "text/latex": [
       "\\begin{enumerate*}\n",
       "\\item 1\n",
       "\\item 2\n",
       "\\item 3\n",
       "\\item 4\n",
       "\\item 5\n",
       "\\item 6\n",
       "\\item 7\n",
       "\\item 8\n",
       "\\item 9\n",
       "\\item 10\n",
       "\\end{enumerate*}\n"
      ],
      "text/markdown": [
       "1. 1\n",
       "2. 2\n",
       "3. 3\n",
       "4. 4\n",
       "5. 5\n",
       "6. 6\n",
       "7. 7\n",
       "8. 8\n",
       "9. 9\n",
       "10. 10\n",
       "\n",
       "\n"
      ],
      "text/plain": [
       " [1]  1  2  3  4  5  6  7  8  9 10"
      ]
     },
     "metadata": {},
     "output_type": "display_data"
    },
    {
     "data": {
      "text/html": [
       "<ol class=list-inline>\n",
       "\t<li>11</li>\n",
       "\t<li>12</li>\n",
       "\t<li>13</li>\n",
       "\t<li>14</li>\n",
       "\t<li>15</li>\n",
       "\t<li>16</li>\n",
       "\t<li>17</li>\n",
       "\t<li>18</li>\n",
       "\t<li>19</li>\n",
       "\t<li>20</li>\n",
       "</ol>\n"
      ],
      "text/latex": [
       "\\begin{enumerate*}\n",
       "\\item 11\n",
       "\\item 12\n",
       "\\item 13\n",
       "\\item 14\n",
       "\\item 15\n",
       "\\item 16\n",
       "\\item 17\n",
       "\\item 18\n",
       "\\item 19\n",
       "\\item 20\n",
       "\\end{enumerate*}\n"
      ],
      "text/markdown": [
       "1. 11\n",
       "2. 12\n",
       "3. 13\n",
       "4. 14\n",
       "5. 15\n",
       "6. 16\n",
       "7. 17\n",
       "8. 18\n",
       "9. 19\n",
       "10. 20\n",
       "\n",
       "\n"
      ],
      "text/plain": [
       " [1] 11 12 13 14 15 16 17 18 19 20"
      ]
     },
     "metadata": {},
     "output_type": "display_data"
    },
    {
     "data": {
      "text/html": [
       "<ol class=list-inline>\n",
       "\t<li>12</li>\n",
       "\t<li>14</li>\n",
       "\t<li>16</li>\n",
       "\t<li>18</li>\n",
       "\t<li>20</li>\n",
       "\t<li>22</li>\n",
       "\t<li>24</li>\n",
       "\t<li>26</li>\n",
       "\t<li>28</li>\n",
       "\t<li>30</li>\n",
       "</ol>\n"
      ],
      "text/latex": [
       "\\begin{enumerate*}\n",
       "\\item 12\n",
       "\\item 14\n",
       "\\item 16\n",
       "\\item 18\n",
       "\\item 20\n",
       "\\item 22\n",
       "\\item 24\n",
       "\\item 26\n",
       "\\item 28\n",
       "\\item 30\n",
       "\\end{enumerate*}\n"
      ],
      "text/markdown": [
       "1. 12\n",
       "2. 14\n",
       "3. 16\n",
       "4. 18\n",
       "5. 20\n",
       "6. 22\n",
       "7. 24\n",
       "8. 26\n",
       "9. 28\n",
       "10. 30\n",
       "\n",
       "\n"
      ],
      "text/plain": [
       " [1] 12 14 16 18 20 22 24 26 28 30"
      ]
     },
     "metadata": {},
     "output_type": "display_data"
    },
    {
     "data": {
      "text/html": [
       "<ol class=list-inline>\n",
       "\t<li>12</li>\n",
       "\t<li>14</li>\n",
       "\t<li>16</li>\n",
       "\t<li>18</li>\n",
       "\t<li>20</li>\n",
       "\t<li>22</li>\n",
       "\t<li>24</li>\n",
       "\t<li>26</li>\n",
       "\t<li>28</li>\n",
       "\t<li>30</li>\n",
       "</ol>\n"
      ],
      "text/latex": [
       "\\begin{enumerate*}\n",
       "\\item 12\n",
       "\\item 14\n",
       "\\item 16\n",
       "\\item 18\n",
       "\\item 20\n",
       "\\item 22\n",
       "\\item 24\n",
       "\\item 26\n",
       "\\item 28\n",
       "\\item 30\n",
       "\\end{enumerate*}\n"
      ],
      "text/markdown": [
       "1. 12\n",
       "2. 14\n",
       "3. 16\n",
       "4. 18\n",
       "5. 20\n",
       "6. 22\n",
       "7. 24\n",
       "8. 26\n",
       "9. 28\n",
       "10. 30\n",
       "\n",
       "\n"
      ],
      "text/plain": [
       " [1] 12 14 16 18 20 22 24 26 28 30"
      ]
     },
     "metadata": {},
     "output_type": "display_data"
    }
   ],
   "source": [
    "a <- 1:10\n",
    "a\n",
    "b <- 11:20\n",
    "b\n",
    "\"+\"(a, b)\n",
    "a+b"
   ]
  },
  {
   "cell_type": "markdown",
   "metadata": {
    "slideshow": {
     "slide_type": "subslide"
    }
   },
   "source": [
    "In other programming languages such operations are typically defined only for single elements and an elementwise calculation on vectors is usually implemented by a repeated call of the operation within a for-loop. "
   ]
  },
  {
   "cell_type": "markdown",
   "metadata": {
    "slideshow": {
     "slide_type": "slide"
    }
   },
   "source": [
    "## Build-in functions\n",
    "R provides an immense bunch of built-in-functions. These are functions, which are available in the basic R-package. They can be applied whenever needed and need not be explicitely loaded. \n"
   ]
  },
  {
   "cell_type": "markdown",
   "metadata": {
    "slideshow": {
     "slide_type": "slide"
    }
   },
   "source": [
    "### Examples for mathematical build-in functions\n",
    "Some basic statistics, such as maximum, minimum, mean, standard-deviation and variance can be calculated by the following built-in-functions:"
   ]
  },
  {
   "cell_type": "code",
   "execution_count": 4,
   "metadata": {
    "ExecuteTime": {
     "end_time": "2017-11-21T18:18:40.254000Z",
     "start_time": "2017-11-21T18:18:40.141Z"
    },
    "slideshow": {
     "slide_type": "fragment"
    }
   },
   "outputs": [
    {
     "data": {
      "text/html": [
       "10"
      ],
      "text/latex": [
       "10"
      ],
      "text/markdown": [
       "10"
      ],
      "text/plain": [
       "[1] 10"
      ]
     },
     "metadata": {},
     "output_type": "display_data"
    },
    {
     "data": {
      "text/html": [
       "1"
      ],
      "text/latex": [
       "1"
      ],
      "text/markdown": [
       "1"
      ],
      "text/plain": [
       "[1] 1"
      ]
     },
     "metadata": {},
     "output_type": "display_data"
    },
    {
     "data": {
      "text/html": [
       "5.5"
      ],
      "text/latex": [
       "5.5"
      ],
      "text/markdown": [
       "5.5"
      ],
      "text/plain": [
       "[1] 5.5"
      ]
     },
     "metadata": {},
     "output_type": "display_data"
    },
    {
     "data": {
      "text/html": [
       "3.02765035409749"
      ],
      "text/latex": [
       "3.02765035409749"
      ],
      "text/markdown": [
       "3.02765035409749"
      ],
      "text/plain": [
       "[1] 3.02765"
      ]
     },
     "metadata": {},
     "output_type": "display_data"
    },
    {
     "data": {
      "text/html": [
       "9.16666666666667"
      ],
      "text/latex": [
       "9.16666666666667"
      ],
      "text/markdown": [
       "9.16666666666667"
      ],
      "text/plain": [
       "[1] 9.166667"
      ]
     },
     "metadata": {},
     "output_type": "display_data"
    }
   ],
   "source": [
    "max(a)\n",
    "min(a)\n",
    "mean(a)\n",
    "sd(a)\n",
    "var(a)"
   ]
  },
  {
   "cell_type": "markdown",
   "metadata": {
    "slideshow": {
     "slide_type": "subslide"
    }
   },
   "source": [
    "Some other mathematical built-in functions are:"
   ]
  },
  {
   "cell_type": "code",
   "execution_count": 5,
   "metadata": {
    "ExecuteTime": {
     "end_time": "2017-11-21T18:18:44.582000Z",
     "start_time": "2017-11-21T18:18:44.488Z"
    },
    "slideshow": {
     "slide_type": "fragment"
    }
   },
   "outputs": [
    {
     "data": {
      "text/html": [
       "5"
      ],
      "text/latex": [
       "5"
      ],
      "text/markdown": [
       "5"
      ],
      "text/plain": [
       "[1] 5"
      ]
     },
     "metadata": {},
     "output_type": "display_data"
    },
    {
     "data": {
      "text/html": [
       "-1"
      ],
      "text/latex": [
       "-1"
      ],
      "text/markdown": [
       "-1"
      ],
      "text/plain": [
       "[1] -1"
      ]
     },
     "metadata": {},
     "output_type": "display_data"
    },
    {
     "data": {
      "text/html": [
       "<ol class=list-inline>\n",
       "\t<li>1</li>\n",
       "\t<li>21</li>\n",
       "\t<li>41</li>\n",
       "\t<li>61</li>\n",
       "\t<li>81</li>\n",
       "</ol>\n"
      ],
      "text/latex": [
       "\\begin{enumerate*}\n",
       "\\item 1\n",
       "\\item 21\n",
       "\\item 41\n",
       "\\item 61\n",
       "\\item 81\n",
       "\\end{enumerate*}\n"
      ],
      "text/markdown": [
       "1. 1\n",
       "2. 21\n",
       "3. 41\n",
       "4. 61\n",
       "5. 81\n",
       "\n",
       "\n"
      ],
      "text/plain": [
       "[1]  1 21 41 61 81"
      ]
     },
     "metadata": {},
     "output_type": "display_data"
    }
   ],
   "source": [
    "sqrt(25)\n",
    "cos(pi)\n",
    "seq(1, 100, by=20)"
   ]
  },
  {
   "cell_type": "markdown",
   "metadata": {
    "slideshow": {
     "slide_type": "slide"
    }
   },
   "source": [
    "### Examples for built-in character functions\n",
    "\n",
    "Character functions are executed on textual data. A small but important subset of character built-in functions is:\n",
    "\n",
    "* [`nchar(x)`](https://www.rdocumentation.org/packages/base/versions/3.6.1/topics/nchar): Returns the number of characters in 'x'.\n",
    "\n",
    "* [`substr(x, start, stop)`](https://www.rdocumentation.org/packages/base/versions/3.6.1/topics/substr): Returns the substring of 'x', which starts at index 'start' and terminates at index 'stop'.\n",
    "\n",
    "* [`strsplit(x, split, fixed=FALSE)`](https://stat.ethz.ch/R-manual/R-devel/library/base/html/strsplit.html): Splits the character-variable 'x' at all characters defined in the pattern 'split'. If 'fixed=TRUE', then pattern 'split' is interpreted as a character variable. If 'fixed=FALSE', the 'split' is interpreted as a regular expression. \n",
    "\n",
    "For more informations to [`regular expressions`](https://stringr.tidyverse.org/articles/regular-expressions.html).\n",
    "\n",
    "There are a lot of string functions in ['stringr' package](https://r4ds.had.co.nz/strings.html). \n"
   ]
  },
  {
   "cell_type": "markdown",
   "metadata": {
    "slideshow": {
     "slide_type": "subslide"
    }
   },
   "source": [
    "* [`grep(pattern, x, ignore.case=FALSE, fixed=TRUE)`](https://www.rdocumentation.org/packages/base/versions/3.6.1/topics/grep): Searches for *pattern* in 'x' vector. If 'fixed=FALSE', then pattern is a regular expression. If 'fixed=TRUE', then 'pattern' is a text string. Returns the matching indices in the vector - this is not the pattern position in a string.\n",
    "\n",
    "* [`gregexpr(pattern, x, ignore.case=FALSE, fixed=TRUE)`](https://www.rdocumentation.org/packages/Biostrings/versions/2.40.2/topics/gregexpr2): Searches for *pattern* in 'x'. If 'fixed=FALSE', then pattern is a regular expression. If 'fixed=TRUE', then 'pattern' is a text string. Returns the matching indices in the string.\n",
    "\n",
    "* `sub(pattern, replacement, x, ignore.case=FALSE, fixed=FALSE)`: Finds pattern in 'x' and substitutes the 'replacement' text. If 'fixed=FALSE', then 'pattern' is a regular expression. If 'fixed=TRUE', then 'pattern' is a text string. Note that`sub()` replaces only the first occurence of 'pattern'. If all occurences shall be replaced `gsub()` can be applied.\n",
    "\n",
    "* `paste(A, sep=\"\")`: Concatenates the strings in 'A' (sequence of strings) after using the 'sep' string to separate them.\n",
    "\n",
    "* `toupper(x)`: Turns all characters in *x* to uppercase.\n",
    "\n",
    "* `tolower(x)`: Turns all characters in *x* to lowercase."
   ]
  },
  {
   "cell_type": "markdown",
   "metadata": {
    "slideshow": {
     "slide_type": "slide"
    }
   },
   "source": [
    "These functions are demonstrated in the following lines of codes:\n",
    "\n",
    "`Keep in mind`: We can use *named* and *unnamed* arguments, e.g. `strsplit(myCharVar, split='.', fixed=FALSE)` - see below."
   ]
  },
  {
   "cell_type": "code",
   "execution_count": 6,
   "metadata": {
    "ExecuteTime": {
     "end_time": "2017-11-21T18:18:51.671000Z",
     "start_time": "2017-11-21T18:18:51.569Z"
    },
    "slideshow": {
     "slide_type": "fragment"
    }
   },
   "outputs": [
    {
     "data": {
      "text/html": [
       "60"
      ],
      "text/latex": [
       "60"
      ],
      "text/markdown": [
       "60"
      ],
      "text/plain": [
       "[1] 60"
      ]
     },
     "metadata": {},
     "output_type": "display_data"
    },
    {
     "data": {
      "text/html": [
       "'ist '"
      ],
      "text/latex": [
       "'ist '"
      ],
      "text/markdown": [
       "'ist '"
      ],
      "text/plain": [
       "[1] \"ist \""
      ]
     },
     "metadata": {},
     "output_type": "display_data"
    },
    {
     "data": {
      "text/html": [
       "<ol>\n",
       "\t<li><ol class=list-inline>\n",
       "\t<li>'Das ist ein einfacher Satz'</li>\n",
       "\t<li>' Und hier kommt nochmal ein Satz'</li>\n",
       "</ol>\n",
       "</li>\n",
       "</ol>\n"
      ],
      "text/latex": [
       "\\begin{enumerate}\n",
       "\\item \\begin{enumerate*}\n",
       "\\item 'Das ist ein einfacher Satz'\n",
       "\\item ' Und hier kommt nochmal ein Satz'\n",
       "\\end{enumerate*}\n",
       "\n",
       "\\end{enumerate}\n"
      ],
      "text/markdown": [
       "1. 1. 'Das ist ein einfacher Satz'\n",
       "2. ' Und hier kommt nochmal ein Satz'\n",
       "\n",
       "\n",
       "\n",
       "\n",
       "\n"
      ],
      "text/plain": [
       "[[1]]\n",
       "[1] \"Das ist ein einfacher Satz\"       \" Und hier kommt nochmal ein Satz\"\n"
      ]
     },
     "metadata": {},
     "output_type": "display_data"
    },
    {
     "data": {
      "text/html": [
       "<ol>\n",
       "\t<li><ol class=list-inline>\n",
       "\t<li>'Das'</li>\n",
       "\t<li>'ist'</li>\n",
       "\t<li>'ein'</li>\n",
       "\t<li>'einfacher'</li>\n",
       "\t<li>'Satz.'</li>\n",
       "\t<li>'Und'</li>\n",
       "\t<li>'hier'</li>\n",
       "\t<li>'kommt'</li>\n",
       "\t<li>'nochmal'</li>\n",
       "\t<li>'ein'</li>\n",
       "\t<li>'Satz.'</li>\n",
       "</ol>\n",
       "</li>\n",
       "</ol>\n"
      ],
      "text/latex": [
       "\\begin{enumerate}\n",
       "\\item \\begin{enumerate*}\n",
       "\\item 'Das'\n",
       "\\item 'ist'\n",
       "\\item 'ein'\n",
       "\\item 'einfacher'\n",
       "\\item 'Satz.'\n",
       "\\item 'Und'\n",
       "\\item 'hier'\n",
       "\\item 'kommt'\n",
       "\\item 'nochmal'\n",
       "\\item 'ein'\n",
       "\\item 'Satz.'\n",
       "\\end{enumerate*}\n",
       "\n",
       "\\end{enumerate}\n"
      ],
      "text/markdown": [
       "1. 1. 'Das'\n",
       "2. 'ist'\n",
       "3. 'ein'\n",
       "4. 'einfacher'\n",
       "5. 'Satz.'\n",
       "6. 'Und'\n",
       "7. 'hier'\n",
       "8. 'kommt'\n",
       "9. 'nochmal'\n",
       "10. 'ein'\n",
       "11. 'Satz.'\n",
       "\n",
       "\n",
       "\n",
       "\n",
       "\n"
      ],
      "text/plain": [
       "[[1]]\n",
       " [1] \"Das\"       \"ist\"       \"ein\"       \"einfacher\" \"Satz.\"     \"Und\"      \n",
       " [7] \"hier\"      \"kommt\"     \"nochmal\"   \"ein\"       \"Satz.\"    \n"
      ]
     },
     "metadata": {},
     "output_type": "display_data"
    }
   ],
   "source": [
    "myCharVar <- \"Das ist ein einfacher Satz. Und hier kommt nochmal ein Satz.\"\n",
    "nchar(myCharVar)\n",
    "substr(myCharVar, 5, 8)     #included the space character\n",
    "strsplit(myCharVar, split='.', fixed=TRUE)\n",
    "\n",
    "#\\\\s  : matches any whitespace\n",
    "strsplit(myCharVar, '\\\\s')  #split at all whitespaces"
   ]
  },
  {
   "cell_type": "code",
   "execution_count": 7,
   "metadata": {
    "ExecuteTime": {
     "end_time": "2017-11-21T18:18:56.840000Z",
     "start_time": "2017-11-21T18:18:56.726Z"
    },
    "slideshow": {
     "slide_type": "subslide"
    }
   },
   "outputs": [
    {
     "name": "stdout",
     "output_type": "stream",
     "text": [
      "Output indices in vector:\n"
     ]
    },
    {
     "data": {
      "text/html": [
       "<ol class=list-inline>\n",
       "\t<li>2</li>\n",
       "\t<li>3</li>\n",
       "</ol>\n"
      ],
      "text/latex": [
       "\\begin{enumerate*}\n",
       "\\item 2\n",
       "\\item 3\n",
       "\\end{enumerate*}\n"
      ],
      "text/markdown": [
       "1. 2\n",
       "2. 3\n",
       "\n",
       "\n"
      ],
      "text/plain": [
       "[1] 2 3"
      ]
     },
     "metadata": {},
     "output_type": "display_data"
    },
    {
     "name": "stdout",
     "output_type": "stream",
     "text": [
      "Output positions in string:\n"
     ]
    },
    {
     "data": {
      "text/html": [
       "<ol>\n",
       "\t<li>10</li>\n",
       "</ol>\n"
      ],
      "text/latex": [
       "\\begin{enumerate}\n",
       "\\item 10\n",
       "\\end{enumerate}\n"
      ],
      "text/markdown": [
       "1. 10\n",
       "\n",
       "\n"
      ],
      "text/plain": [
       "[[1]]\n",
       "[1] 10\n",
       "attr(,\"match.length\")\n",
       "[1] 3\n",
       "attr(,\"index.type\")\n",
       "[1] \"chars\"\n",
       "attr(,\"useBytes\")\n",
       "[1] TRUE\n"
      ]
     },
     "metadata": {},
     "output_type": "display_data"
    },
    {
     "data": {
      "text/html": [
       "<ol>\n",
       "\t<li>-1</li>\n",
       "</ol>\n"
      ],
      "text/latex": [
       "\\begin{enumerate}\n",
       "\\item -1\n",
       "\\end{enumerate}\n"
      ],
      "text/markdown": [
       "1. -1\n",
       "\n",
       "\n"
      ],
      "text/plain": [
       "[[1]]\n",
       "[1] -1\n",
       "attr(,\"match.length\")\n",
       "[1] -1\n",
       "attr(,\"index.type\")\n",
       "[1] \"chars\"\n",
       "attr(,\"useBytes\")\n",
       "[1] TRUE\n"
      ]
     },
     "metadata": {},
     "output_type": "display_data"
    }
   ],
   "source": [
    "#vector of character-strings\n",
    "seqChars <- c(\"Das ist Satz 1.\", \"Hier ist der zweite Satz.\", \n",
    "              \"Und hier der dritte.\") \n",
    "\n",
    "cat(\"Output indices in vector:\\n\")\n",
    "grep('der', seqChars, fixed=TRUE)\n",
    "\n",
    "cat(\"Output positions in string:\\n\")\n",
    "gregexpr('der', seqChars[2], fixed=TRUE)\n",
    "gregexpr('xyz', seqChars[2], fixed=TRUE)\n"
   ]
  },
  {
   "cell_type": "code",
   "execution_count": 8,
   "metadata": {
    "slideshow": {
     "slide_type": "subslide"
    }
   },
   "outputs": [
    {
     "data": {
      "text/html": [
       "<ol class=list-inline>\n",
       "\t<li>1</li>\n",
       "\t<li>2</li>\n",
       "</ol>\n"
      ],
      "text/latex": [
       "\\begin{enumerate*}\n",
       "\\item 1\n",
       "\\item 2\n",
       "\\end{enumerate*}\n"
      ],
      "text/markdown": [
       "1. 1\n",
       "2. 2\n",
       "\n",
       "\n"
      ],
      "text/plain": [
       "[1] 1 2"
      ]
     },
     "metadata": {},
     "output_type": "display_data"
    },
    {
     "data": {
      "text/html": [
       "1"
      ],
      "text/latex": [
       "1"
      ],
      "text/markdown": [
       "1"
      ],
      "text/plain": [
       "[1] 1"
      ]
     },
     "metadata": {},
     "output_type": "display_data"
    },
    {
     "data": {
      "text/html": [
       "<ol class=list-inline>\n",
       "\t<li>'Das ist Satz 1.'</li>\n",
       "\t<li>'Hier ist der 2. Satz.'</li>\n",
       "\t<li>'Und hier der dritte.'</li>\n",
       "</ol>\n"
      ],
      "text/latex": [
       "\\begin{enumerate*}\n",
       "\\item 'Das ist Satz 1.'\n",
       "\\item 'Hier ist der 2. Satz.'\n",
       "\\item 'Und hier der dritte.'\n",
       "\\end{enumerate*}\n"
      ],
      "text/markdown": [
       "1. 'Das ist Satz 1.'\n",
       "2. 'Hier ist der 2. Satz.'\n",
       "3. 'Und hier der dritte.'\n",
       "\n",
       "\n"
      ],
      "text/plain": [
       "[1] \"Das ist Satz 1.\"       \"Hier ist der 2. Satz.\" \"Und hier der dritte.\" "
      ]
     },
     "metadata": {},
     "output_type": "display_data"
    },
    {
     "data": {
      "text/html": [
       "<ol class=list-inline>\n",
       "\t<li>'Feature-1'</li>\n",
       "\t<li>'Feature-2'</li>\n",
       "\t<li>'Feature-3'</li>\n",
       "\t<li>'Feature-4'</li>\n",
       "\t<li>'Feature-5'</li>\n",
       "</ol>\n"
      ],
      "text/latex": [
       "\\begin{enumerate*}\n",
       "\\item 'Feature-1'\n",
       "\\item 'Feature-2'\n",
       "\\item 'Feature-3'\n",
       "\\item 'Feature-4'\n",
       "\\item 'Feature-5'\n",
       "\\end{enumerate*}\n"
      ],
      "text/markdown": [
       "1. 'Feature-1'\n",
       "2. 'Feature-2'\n",
       "3. 'Feature-3'\n",
       "4. 'Feature-4'\n",
       "5. 'Feature-5'\n",
       "\n",
       "\n"
      ],
      "text/plain": [
       "[1] \"Feature-1\" \"Feature-2\" \"Feature-3\" \"Feature-4\" \"Feature-5\""
      ]
     },
     "metadata": {},
     "output_type": "display_data"
    }
   ],
   "source": [
    "#\\\\si  : matches a whitespace and a \"i\" character\n",
    "grep('\\\\si', seqChars, fixed=FALSE)  \n",
    "#\\\\d  : matches any digit\n",
    "grep('\\\\d', seqChars, fixed=FALSE)\n",
    "\n",
    "sub('zweite', '2.', seqChars, fixed=TRUE)\n",
    "paste(\"Feature\", 1:5, sep=\"-\")\n"
   ]
  },
  {
   "cell_type": "code",
   "execution_count": 9,
   "metadata": {
    "ExecuteTime": {
     "end_time": "2017-11-21T18:19:00.073000Z",
     "start_time": "2017-11-21T18:18:59.920Z"
    },
    "slideshow": {
     "slide_type": "subslide"
    }
   },
   "outputs": [
    {
     "data": {
      "text/html": [
       "'The value is: 10'"
      ],
      "text/latex": [
       "'The value is: 10'"
      ],
      "text/markdown": [
       "'The value is: 10'"
      ],
      "text/plain": [
       "[1] \"The value is: 10\""
      ]
     },
     "metadata": {},
     "output_type": "display_data"
    },
    {
     "data": {
      "text/html": [
       "'Today is: Mon Nov 04 10:00:15 2019'"
      ],
      "text/latex": [
       "'Today is: Mon Nov 04 10:00:15 2019'"
      ],
      "text/markdown": [
       "'Today is: Mon Nov 04 10:00:15 2019'"
      ],
      "text/plain": [
       "[1] \"Today is: Mon Nov 04 10:00:15 2019\""
      ]
     },
     "metadata": {},
     "output_type": "display_data"
    },
    {
     "data": {
      "text/html": [
       "'ABCD'"
      ],
      "text/latex": [
       "'ABCD'"
      ],
      "text/markdown": [
       "'ABCD'"
      ],
      "text/plain": [
       "[1] \"ABCD\""
      ]
     },
     "metadata": {},
     "output_type": "display_data"
    },
    {
     "data": {
      "text/html": [
       "'efgh'"
      ],
      "text/latex": [
       "'efgh'"
      ],
      "text/markdown": [
       "'efgh'"
      ],
      "text/plain": [
       "[1] \"efgh\""
      ]
     },
     "metadata": {},
     "output_type": "display_data"
    }
   ],
   "source": [
    "curval <- 10\n",
    "paste(\"The value is\", curval, sep=\": \")\n",
    "paste(\"Today is\", date(), sep=\": \")\n",
    "\n",
    "toupper('abCD')\n",
    "tolower('EFgh')"
   ]
  },
  {
   "cell_type": "markdown",
   "metadata": {
    "slideshow": {
     "slide_type": "slide"
    }
   },
   "source": [
    "### Examples for built-in Date functions\n",
    "Dates and times are often represented as character variables. However, in this representation date-time-calculations, such as the determination of the number of days inbetween two given dates, are not possible. Date-time calculations can easily be performed if the character representation of a date is transformed to an R-date-object by the built-in-function `as.Date`:"
   ]
  },
  {
   "cell_type": "code",
   "execution_count": 10,
   "metadata": {
    "ExecuteTime": {
     "end_time": "2017-11-21T18:20:05.102000Z",
     "start_time": "2017-11-21T18:20:04.974Z"
    },
    "slideshow": {
     "slide_type": "fragment"
    }
   },
   "outputs": [
    {
     "data": {
      "text/html": [
       "<time datetime=\"2015-09-08\">2015-09-08</time>"
      ],
      "text/latex": [
       "2015-09-08"
      ],
      "text/markdown": [
       "2015-09-08"
      ],
      "text/plain": [
       "[1] \"2015-09-08\""
      ]
     },
     "metadata": {},
     "output_type": "display_data"
    },
    {
     "data": {
      "text/html": [
       "<time datetime=\"2016-07-25\">2016-07-25</time>"
      ],
      "text/latex": [
       "2016-07-25"
      ],
      "text/markdown": [
       "2016-07-25"
      ],
      "text/plain": [
       "[1] \"2016-07-25\""
      ]
     },
     "metadata": {},
     "output_type": "display_data"
    },
    {
     "data": {
      "text/html": [
       "<time datetime=\"2017-11-07\">2017-11-07</time>"
      ],
      "text/latex": [
       "2017-11-07"
      ],
      "text/markdown": [
       "2017-11-07"
      ],
      "text/plain": [
       "[1] \"2017-11-07\""
      ]
     },
     "metadata": {},
     "output_type": "display_data"
    }
   ],
   "source": [
    "(day1 <- as.Date(\"2015-09-08\"))\n",
    "(day2 <- as.Date(\"25.07.2016\", format=\"%d.%m.%Y\"))\n",
    "(day3 <- as.Date('November 7, 2017', format='%B %d, %Y'))"
   ]
  },
  {
   "cell_type": "code",
   "execution_count": 11,
   "metadata": {
    "ExecuteTime": {
     "end_time": "2017-11-21T18:20:06.215000Z",
     "start_time": "2017-11-21T18:20:06.135Z"
    },
    "slideshow": {
     "slide_type": "subslide"
    }
   },
   "outputs": [
    {
     "data": {
      "text/plain": [
       "Time difference of 321 days"
      ]
     },
     "metadata": {},
     "output_type": "display_data"
    }
   ],
   "source": [
    "day2 - day1 #number of days between the two dates"
   ]
  },
  {
   "cell_type": "code",
   "execution_count": 12,
   "metadata": {
    "ExecuteTime": {
     "end_time": "2017-11-21T18:20:36.486000Z",
     "start_time": "2017-11-21T18:20:36.405Z"
    },
    "slideshow": {
     "slide_type": "fragment"
    }
   },
   "outputs": [
    {
     "data": {
      "text/html": [
       "<ol class=list-inline>\n",
       "\t<li>'Dienstag'</li>\n",
       "\t<li>'Montag'</li>\n",
       "\t<li>'Dienstag'</li>\n",
       "</ol>\n"
      ],
      "text/latex": [
       "\\begin{enumerate*}\n",
       "\\item 'Dienstag'\n",
       "\\item 'Montag'\n",
       "\\item 'Dienstag'\n",
       "\\end{enumerate*}\n"
      ],
      "text/markdown": [
       "1. 'Dienstag'\n",
       "2. 'Montag'\n",
       "3. 'Dienstag'\n",
       "\n",
       "\n"
      ],
      "text/plain": [
       "[1] \"Dienstag\" \"Montag\"   \"Dienstag\""
      ]
     },
     "metadata": {},
     "output_type": "display_data"
    }
   ],
   "source": [
    "mydays <- c(day1, day2, day3)\n",
    "weekdays(mydays)"
   ]
  },
  {
   "cell_type": "markdown",
   "metadata": {
    "slideshow": {
     "slide_type": "subslide"
    }
   },
   "source": [
    "Much more built-in functions for date- and time processing are described e.g. in [https://www.stat.berkeley.edu/~s133/dates.html](https://www.stat.berkeley.edu/~s133/dates.html)."
   ]
  },
  {
   "cell_type": "markdown",
   "metadata": {
    "slideshow": {
     "slide_type": "slide"
    }
   },
   "source": [
    "### Examples for other useful built-in functions\n",
    "Besides a vast variety of mathematical functions, there are a lot other useful build-in functions in R. Here is just a small subset of such useful helpers:\n",
    "\n",
    "* [`cat(A)`](https://www.rdocumentation.org/packages/base/versions/3.6.1/topics/cat): Concatenates objects in A.\n",
    "* [`seq_range(x, n)`](https://www.rdocumentation.org/packages/tidyr/versions/0.3.1/topics/seq_range): Generates a numeric vector with n elements from x (package [modelr](https://cran.r-project.org/web/packages/modelr/modelr.pdf)).\n",
    "* [`seq_len(x)`](https://www.rdocumentation.org/packages/base/versions/3.6.1/topics/seq): Generates an integer vector with 1 to x elements.\n",
    "* [`seq_along(x)`](https://www.rdocumentation.org/packages/base/versions/3.6.1/topics/seq)`: Generates an integer vector of the indices of the elements of x.\n"
   ]
  },
  {
   "cell_type": "markdown",
   "metadata": {
    "slideshow": {
     "slide_type": "subslide"
    }
   },
   "source": [
    "* `length(x)`: Returns the length of an object *x*. E.g. *length(c(4, 2, 19))* returns 3.\n",
    "* [`cut(x, n)`](https://www.rdocumentation.org/packages/base/versions/3.6.1/topics/cut): Divides the continuous variable *x* into a vector with *n* levels with same ranges from minimum to maximum of *x*.\n",
    "* [`pretty(x, n)`](https://www.rdocumentation.org/packages/geojsonio/versions/0.7.0/topics/pretty): Divides a continuous variable *x* into *n* intervals by selecting *n+1* equally spaced rounded values.\n"
   ]
  },
  {
   "cell_type": "markdown",
   "metadata": {
    "slideshow": {
     "slide_type": "slide"
    }
   },
   "source": [
    "**Examples:**"
   ]
  },
  {
   "cell_type": "code",
   "execution_count": 13,
   "metadata": {
    "ExecuteTime": {
     "end_time": "2017-11-21T18:25:54.200000Z",
     "start_time": "2017-11-21T18:25:54.063Z"
    },
    "slideshow": {
     "slide_type": "fragment"
    }
   },
   "outputs": [
    {
     "name": "stdout",
     "output_type": "stream",
     "text": [
      "x <- seq(13, 40, 5):  13 18 23 28 33 38 \n",
      "\n",
      "seq_range(x, 3): \n"
     ]
    },
    {
     "data": {
      "text/html": [
       "<ol class=list-inline>\n",
       "\t<li>13</li>\n",
       "\t<li>25.5</li>\n",
       "\t<li>38</li>\n",
       "</ol>\n"
      ],
      "text/latex": [
       "\\begin{enumerate*}\n",
       "\\item 13\n",
       "\\item 25.5\n",
       "\\item 38\n",
       "\\end{enumerate*}\n"
      ],
      "text/markdown": [
       "1. 13\n",
       "2. 25.5\n",
       "3. 38\n",
       "\n",
       "\n"
      ],
      "text/plain": [
       "[1] 13.0 25.5 38.0"
      ]
     },
     "metadata": {},
     "output_type": "display_data"
    },
    {
     "name": "stdout",
     "output_type": "stream",
     "text": [
      "seq_len(5): \n"
     ]
    },
    {
     "data": {
      "text/html": [
       "<ol class=list-inline>\n",
       "\t<li>1</li>\n",
       "\t<li>2</li>\n",
       "\t<li>3</li>\n",
       "\t<li>4</li>\n",
       "\t<li>5</li>\n",
       "</ol>\n"
      ],
      "text/latex": [
       "\\begin{enumerate*}\n",
       "\\item 1\n",
       "\\item 2\n",
       "\\item 3\n",
       "\\item 4\n",
       "\\item 5\n",
       "\\end{enumerate*}\n"
      ],
      "text/markdown": [
       "1. 1\n",
       "2. 2\n",
       "3. 3\n",
       "4. 4\n",
       "5. 5\n",
       "\n",
       "\n"
      ],
      "text/plain": [
       "[1] 1 2 3 4 5"
      ]
     },
     "metadata": {},
     "output_type": "display_data"
    },
    {
     "name": "stdout",
     "output_type": "stream",
     "text": [
      "seq_along(x): \n"
     ]
    },
    {
     "data": {
      "text/html": [
       "<ol class=list-inline>\n",
       "\t<li>1</li>\n",
       "\t<li>2</li>\n",
       "\t<li>3</li>\n",
       "\t<li>4</li>\n",
       "\t<li>5</li>\n",
       "\t<li>6</li>\n",
       "</ol>\n"
      ],
      "text/latex": [
       "\\begin{enumerate*}\n",
       "\\item 1\n",
       "\\item 2\n",
       "\\item 3\n",
       "\\item 4\n",
       "\\item 5\n",
       "\\item 6\n",
       "\\end{enumerate*}\n"
      ],
      "text/markdown": [
       "1. 1\n",
       "2. 2\n",
       "3. 3\n",
       "4. 4\n",
       "5. 5\n",
       "6. 6\n",
       "\n",
       "\n"
      ],
      "text/plain": [
       "[1] 1 2 3 4 5 6"
      ]
     },
     "metadata": {},
     "output_type": "display_data"
    }
   ],
   "source": [
    "x <- seq(13, 40, 5)\n",
    "cat(\"x <- seq(13, 40, 5): \", x, \"\\n\\n\")\n",
    "\n",
    "cat(\"seq_range(x, 3): \\n\")\n",
    "library(modelr)\n",
    "seq_range(x, 3)\n",
    "\n",
    "cat(\"seq_len(5): \\n\")\n",
    "seq_len(5)\n",
    "\n",
    "#seq_along() is useful in iterations \n",
    "cat(\"seq_along(x): \\n\")\n",
    "seq_along(x)\n"
   ]
  },
  {
   "cell_type": "code",
   "execution_count": 14,
   "metadata": {
    "slideshow": {
     "slide_type": "slide"
    }
   },
   "outputs": [
    {
     "data": {
      "text/html": [
       "<ol class=list-inline>\n",
       "\t<li>13</li>\n",
       "\t<li>18</li>\n",
       "\t<li>23</li>\n",
       "\t<li>28</li>\n",
       "\t<li>33</li>\n",
       "\t<li>38</li>\n",
       "</ol>\n"
      ],
      "text/latex": [
       "\\begin{enumerate*}\n",
       "\\item 13\n",
       "\\item 18\n",
       "\\item 23\n",
       "\\item 28\n",
       "\\item 33\n",
       "\\item 38\n",
       "\\end{enumerate*}\n"
      ],
      "text/markdown": [
       "1. 13\n",
       "2. 18\n",
       "3. 23\n",
       "4. 28\n",
       "5. 33\n",
       "6. 38\n",
       "\n",
       "\n"
      ],
      "text/plain": [
       "[1] 13 18 23 28 33 38"
      ]
     },
     "metadata": {},
     "output_type": "display_data"
    },
    {
     "name": "stdout",
     "output_type": "stream",
     "text": [
      "length(x):\n"
     ]
    },
    {
     "data": {
      "text/html": [
       "6"
      ],
      "text/latex": [
       "6"
      ],
      "text/markdown": [
       "6"
      ],
      "text/plain": [
       "[1] 6"
      ]
     },
     "metadata": {},
     "output_type": "display_data"
    }
   ],
   "source": [
    "x\n",
    "\n",
    "cat(\"length(x):\\n\")\n",
    "length(x)\n"
   ]
  },
  {
   "cell_type": "code",
   "execution_count": 15,
   "metadata": {
    "ExecuteTime": {
     "end_time": "2017-10-02T07:23:25.819000Z",
     "start_time": "2017-10-02T07:23:25.717Z"
    },
    "slideshow": {
     "slide_type": "subslide"
    }
   },
   "outputs": [
    {
     "name": "stdout",
     "output_type": "stream",
     "text": [
      "x1: 45 2 82 22 4 \n"
     ]
    },
    {
     "data": {
      "text/html": [
       "<ol class=list-inline>\n",
       "\t<li>(42,62]</li>\n",
       "\t<li>(1.92,22]</li>\n",
       "\t<li>(62,82.1]</li>\n",
       "\t<li>(1.92,22]</li>\n",
       "\t<li>(1.92,22]</li>\n",
       "</ol>\n",
       "\n",
       "<details>\n",
       "\t<summary style=display:list-item;cursor:pointer>\n",
       "\t\t<strong>Levels</strong>:\n",
       "\t</summary>\n",
       "\t<ol class=list-inline>\n",
       "\t\t<li>'(1.92,22]'</li>\n",
       "\t\t<li>'(22,42]'</li>\n",
       "\t\t<li>'(42,62]'</li>\n",
       "\t\t<li>'(62,82.1]'</li>\n",
       "\t</ol>\n",
       "</details>"
      ],
      "text/latex": [
       "\\begin{enumerate*}\n",
       "\\item (42,62{]}\n",
       "\\item (1.92,22{]}\n",
       "\\item (62,82.1{]}\n",
       "\\item (1.92,22{]}\n",
       "\\item (1.92,22{]}\n",
       "\\end{enumerate*}\n",
       "\n",
       "\\emph{Levels}: \\begin{enumerate*}\n",
       "\\item '(1.92,22{]}'\n",
       "\\item '(22,42{]}'\n",
       "\\item '(42,62{]}'\n",
       "\\item '(62,82.1{]}'\n",
       "\\end{enumerate*}\n"
      ],
      "text/markdown": [
       "1. (42,62]\n",
       "2. (1.92,22]\n",
       "3. (62,82.1]\n",
       "4. (1.92,22]\n",
       "5. (1.92,22]\n",
       "\n",
       "\n",
       "\n",
       "**Levels**: 1. '(1.92,22]'\n",
       "2. '(22,42]'\n",
       "3. '(42,62]'\n",
       "4. '(62,82.1]'\n",
       "\n",
       "\n"
      ],
      "text/plain": [
       "[1] (42,62]   (1.92,22] (62,82.1] (1.92,22] (1.92,22]\n",
       "Levels: (1.92,22] (22,42] (42,62] (62,82.1]"
      ]
     },
     "metadata": {},
     "output_type": "display_data"
    },
    {
     "name": "stdout",
     "output_type": "stream",
     "text": [
      "Show levels of intervals/ranges:\n"
     ]
    },
    {
     "data": {
      "text/html": [
       "<ol class=list-inline>\n",
       "\t<li>'(1.92,22]'</li>\n",
       "\t<li>'(22,42]'</li>\n",
       "\t<li>'(42,62]'</li>\n",
       "\t<li>'(62,82.1]'</li>\n",
       "</ol>\n"
      ],
      "text/latex": [
       "\\begin{enumerate*}\n",
       "\\item '(1.92,22{]}'\n",
       "\\item '(22,42{]}'\n",
       "\\item '(42,62{]}'\n",
       "\\item '(62,82.1{]}'\n",
       "\\end{enumerate*}\n"
      ],
      "text/markdown": [
       "1. '(1.92,22]'\n",
       "2. '(22,42]'\n",
       "3. '(42,62]'\n",
       "4. '(62,82.1]'\n",
       "\n",
       "\n"
      ],
      "text/plain": [
       "[1] \"(1.92,22]\" \"(22,42]\"   \"(42,62]\"   \"(62,82.1]\""
      ]
     },
     "metadata": {},
     "output_type": "display_data"
    }
   ],
   "source": [
    "#Example\n",
    "x1 <- c(45, 2, 82, 22, 4)\n",
    "cat(\"x1:\", x1, \"\\n\")      \n",
    "\n",
    "var1 <- cut(x1, 4)\n",
    "var1    #Here you see the values of x1 assigned to the 3 level ranges from minimum to maximum of var1\n",
    "\n",
    "cat(\"Show levels of intervals/ranges:\\n\")\n",
    "levels(var1)"
   ]
  },
  {
   "cell_type": "code",
   "execution_count": 16,
   "metadata": {
    "ExecuteTime": {
     "end_time": "2017-11-21T18:25:57.639000Z",
     "start_time": "2017-11-21T18:25:57.560Z"
    },
    "slideshow": {
     "slide_type": "subslide"
    }
   },
   "outputs": [
    {
     "data": {
      "text/html": [
       "<ol class=list-inline>\n",
       "\t<li>13</li>\n",
       "\t<li>18</li>\n",
       "\t<li>23</li>\n",
       "\t<li>28</li>\n",
       "\t<li>33</li>\n",
       "\t<li>38</li>\n",
       "</ol>\n"
      ],
      "text/latex": [
       "\\begin{enumerate*}\n",
       "\\item 13\n",
       "\\item 18\n",
       "\\item 23\n",
       "\\item 28\n",
       "\\item 33\n",
       "\\item 38\n",
       "\\end{enumerate*}\n"
      ],
      "text/markdown": [
       "1. 13\n",
       "2. 18\n",
       "3. 23\n",
       "4. 28\n",
       "5. 33\n",
       "6. 38\n",
       "\n",
       "\n"
      ],
      "text/plain": [
       "[1] 13 18 23 28 33 38"
      ]
     },
     "metadata": {},
     "output_type": "display_data"
    },
    {
     "data": {
      "text/html": [
       "<ol class=list-inline>\n",
       "\t<li>10</li>\n",
       "\t<li>15</li>\n",
       "\t<li>20</li>\n",
       "\t<li>25</li>\n",
       "\t<li>30</li>\n",
       "\t<li>35</li>\n",
       "\t<li>40</li>\n",
       "</ol>\n"
      ],
      "text/latex": [
       "\\begin{enumerate*}\n",
       "\\item 10\n",
       "\\item 15\n",
       "\\item 20\n",
       "\\item 25\n",
       "\\item 30\n",
       "\\item 35\n",
       "\\item 40\n",
       "\\end{enumerate*}\n"
      ],
      "text/markdown": [
       "1. 10\n",
       "2. 15\n",
       "3. 20\n",
       "4. 25\n",
       "5. 30\n",
       "6. 35\n",
       "7. 40\n",
       "\n",
       "\n"
      ],
      "text/plain": [
       "[1] 10 15 20 25 30 35 40"
      ]
     },
     "metadata": {},
     "output_type": "display_data"
    }
   ],
   "source": [
    "x\n",
    "\n",
    "pretty(x, 5)"
   ]
  },
  {
   "cell_type": "code",
   "execution_count": 17,
   "metadata": {
    "ExecuteTime": {
     "end_time": "2017-10-02T07:25:13.509000Z",
     "start_time": "2017-10-02T07:25:13.466Z"
    },
    "slideshow": {
     "slide_type": "subslide"
    }
   },
   "outputs": [
    {
     "name": "stdout",
     "output_type": "stream",
     "text": [
      " Value of m is:\t 3 \n",
      " Value of j is\t 5"
     ]
    }
   ],
   "source": [
    "m <- 3\n",
    "j <- 5\n",
    "cat(\" Value of m is:\\t\", m, \"\\n\",\"Value of j is\\t\", j)"
   ]
  },
  {
   "cell_type": "markdown",
   "metadata": {
    "slideshow": {
     "slide_type": "slide"
    }
   },
   "source": [
    "## Functions from external R packages\n",
    "There exists more than 10000 R-packages, which provide solutions for all kinds of problems. External R packages can be downloaded e.g. from [https://cran.r-project.org/](https://cran.r-project.org/). The list of all installed package, available in your current environment, can be obtained by the following statement:"
   ]
  },
  {
   "cell_type": "code",
   "execution_count": 18,
   "metadata": {
    "ExecuteTime": {
     "end_time": "2017-11-21T18:26:06.918000Z",
     "start_time": "2017-11-21T18:26:05.472Z"
    },
    "slideshow": {
     "slide_type": "fragment"
    }
   },
   "outputs": [],
   "source": [
    "library()"
   ]
  },
  {
   "cell_type": "markdown",
   "metadata": {
    "slideshow": {
     "slide_type": "slide"
    }
   },
   "source": [
    "## User-defined functions"
   ]
  },
  {
   "cell_type": "markdown",
   "metadata": {
    "slideshow": {
     "slide_type": "fragment"
    }
   },
   "source": [
    "Users can define their own functions. The encapsulations of code in functions provides more structure, readability and maintainability. The most important advantage however is, that some routines, which are required not only once, need not be implemented repititevly. A function must be defined only once and can then be used wherever it is required.\n",
    "\n",
    "The general syntax for functions in R is:"
   ]
  },
  {
   "cell_type": "code",
   "execution_count": 19,
   "metadata": {
    "ExecuteTime": {
     "end_time": "2017-10-02T07:28:03.627000Z",
     "start_time": "2017-10-02T07:28:03.591Z"
    },
    "slideshow": {
     "slide_type": "fragment"
    }
   },
   "outputs": [],
   "source": [
    "functionName <- function(listOfParameters){\n",
    " statements\n",
    "    \n",
    " return (result)\n",
    "}"
   ]
  },
  {
   "cell_type": "markdown",
   "metadata": {
    "slideshow": {
     "slide_type": "subslide"
    }
   },
   "source": [
    "The list of parameters within the brackets that follow the keyword *function* are the *arguments*, which are passed as input to the function. Within the function body (inside the curly brackets) arbitrarily complex statements are executed. The defined function is assigned to a variable *functionName*. The function can be accessed via this variable-name as shown below.\n",
    "\n",
    "The result of this computation is returned by the function. A *return*-statement could include one value (also like matrix or data frame etc.) or list of return-values, e.g. \n",
    "\n",
    "    return(list(theta=mat, cov=cov(t(mat))))\n",
    " \n",
    "`Keep in mind:` If you want to return more than one value, you can use a list with the different values, e.g. `return(list(value1, value2, value3))` a.s.o."
   ]
  },
  {
   "cell_type": "markdown",
   "metadata": {
    "slideshow": {
     "slide_type": "subslide"
    }
   },
   "source": [
    "`Keep in mind:` Sometimes you do not find a *return()* statement, then the last statement is returned. My personal opinion is that this is bad code.\n",
    "\n",
    "For example in the following code-snippet a function is defined, which normalizes the values of the vector, which is passed as argument to the function. The normalized values of the passed vector is returned by the function."
   ]
  },
  {
   "cell_type": "code",
   "execution_count": 20,
   "metadata": {
    "ExecuteTime": {
     "end_time": "2017-11-21T18:28:35.051000Z",
     "start_time": "2017-11-21T18:28:34.986Z"
    },
    "slideshow": {
     "slide_type": "fragment"
    }
   },
   "outputs": [],
   "source": [
    "myNormalizer <- function(rawdata){\n",
    "    maximum <- max(rawdata)\n",
    "    minimum <- min(rawdata)\n",
    "    normeddata <- (rawdata-minimum)/(maximum-minimum)\n",
    "    \n",
    "    return (normeddata)\n",
    "}"
   ]
  },
  {
   "cell_type": "markdown",
   "metadata": {
    "slideshow": {
     "slide_type": "subslide"
    }
   },
   "source": [
    "Now, this function can be executed wherever it is required, by the name "
   ]
  },
  {
   "cell_type": "code",
   "execution_count": 21,
   "metadata": {
    "ExecuteTime": {
     "end_time": "2017-11-21T18:28:40.080000Z",
     "start_time": "2017-11-21T18:28:40.005Z"
    },
    "scrolled": true,
    "slideshow": {
     "slide_type": "fragment"
    }
   },
   "outputs": [
    {
     "data": {
      "text/html": [
       "<ol class=list-inline>\n",
       "\t<li>10</li>\n",
       "\t<li>11</li>\n",
       "\t<li>12</li>\n",
       "\t<li>13</li>\n",
       "\t<li>14</li>\n",
       "\t<li>15</li>\n",
       "\t<li>16</li>\n",
       "\t<li>17</li>\n",
       "\t<li>18</li>\n",
       "\t<li>19</li>\n",
       "\t<li>20</li>\n",
       "</ol>\n"
      ],
      "text/latex": [
       "\\begin{enumerate*}\n",
       "\\item 10\n",
       "\\item 11\n",
       "\\item 12\n",
       "\\item 13\n",
       "\\item 14\n",
       "\\item 15\n",
       "\\item 16\n",
       "\\item 17\n",
       "\\item 18\n",
       "\\item 19\n",
       "\\item 20\n",
       "\\end{enumerate*}\n"
      ],
      "text/markdown": [
       "1. 10\n",
       "2. 11\n",
       "3. 12\n",
       "4. 13\n",
       "5. 14\n",
       "6. 15\n",
       "7. 16\n",
       "8. 17\n",
       "9. 18\n",
       "10. 19\n",
       "11. 20\n",
       "\n",
       "\n"
      ],
      "text/plain": [
       " [1] 10 11 12 13 14 15 16 17 18 19 20"
      ]
     },
     "metadata": {},
     "output_type": "display_data"
    },
    {
     "name": "stdout",
     "output_type": "stream",
     "text": [
      " [1] 0.0 0.1 0.2 0.3 0.4 0.5 0.6 0.7 0.8 0.9 1.0\n"
     ]
    }
   ],
   "source": [
    "(a <- 10:20)\n",
    "\n",
    "A <- myNormalizer(a)\n",
    "\n",
    "print(A)"
   ]
  },
  {
   "cell_type": "code",
   "execution_count": 22,
   "metadata": {
    "ExecuteTime": {
     "end_time": "2017-11-21T18:28:47.446000Z",
     "start_time": "2017-11-21T18:28:47.347Z"
    },
    "slideshow": {
     "slide_type": "subslide"
    }
   },
   "outputs": [
    {
     "data": {
      "text/html": [
       "<ol class=list-inline>\n",
       "\t<li>33</li>\n",
       "\t<li>34</li>\n",
       "\t<li>20</li>\n",
       "\t<li>52</li>\n",
       "\t<li>60</li>\n",
       "\t<li>71</li>\n",
       "</ol>\n"
      ],
      "text/latex": [
       "\\begin{enumerate*}\n",
       "\\item 33\n",
       "\\item 34\n",
       "\\item 20\n",
       "\\item 52\n",
       "\\item 60\n",
       "\\item 71\n",
       "\\end{enumerate*}\n"
      ],
      "text/markdown": [
       "1. 33\n",
       "2. 34\n",
       "3. 20\n",
       "4. 52\n",
       "5. 60\n",
       "6. 71\n",
       "\n",
       "\n"
      ],
      "text/plain": [
       "[1] 33 34 20 52 60 71"
      ]
     },
     "metadata": {},
     "output_type": "display_data"
    },
    {
     "name": "stdout",
     "output_type": "stream",
     "text": [
      "[1] 0.2549020 0.2745098 0.0000000 0.6274510 0.7843137 1.0000000\n"
     ]
    }
   ],
   "source": [
    "(b <- c(33, 34, 20, 52, 60, 71))\n",
    "B <- myNormalizer(b)\n",
    "\n",
    "print(B)"
   ]
  },
  {
   "cell_type": "markdown",
   "metadata": {
    "slideshow": {
     "slide_type": "slide"
    }
   },
   "source": [
    "### Passing optional arguments to a function in the function\n",
    "\n",
    "The function `myNormalizer()` shall now be extended such that it can also provide normalized values, which are rounded to a configurable number of digits. The standard R-function `round()` already has the parameter `digits`, which allows to set the number of digits after the decimal point. The `round()`-function shall now be applied in the new function `myRoundNormalizer()`. Hence, a value for the `digits` parameter of the `round()`-function must be passed to `myRoundNormalizer()`. Passing an arbitrary set of parameters to an inner function can be realized by the triple-dot-function: `...`\n",
    "\n",
    "This is demonstrated in the following code cells. \n",
    "\n"
   ]
  },
  {
   "cell_type": "code",
   "execution_count": 23,
   "metadata": {
    "ExecuteTime": {
     "end_time": "2017-11-21T18:29:05.583000Z",
     "start_time": "2017-11-21T18:29:05.497Z"
    },
    "slideshow": {
     "slide_type": "subslide"
    }
   },
   "outputs": [],
   "source": [
    "myRoundNormalizer <- function(rawdata, round=FALSE, ...){   #We cam also write \"round=F\"\n",
    "    maximum <- max(rawdata)\n",
    "    minimum <- min(rawdata)\n",
    "    normeddata <- (rawdata-minimum)/(maximum-minimum)\n",
    "    if (!round){\n",
    "        return (normeddata)\n",
    "    } else {\n",
    "        return (round(normeddata, ...))\n",
    "    }\n",
    "}"
   ]
  },
  {
   "cell_type": "code",
   "execution_count": 24,
   "metadata": {
    "ExecuteTime": {
     "end_time": "2017-10-02T07:33:45.103000Z",
     "start_time": "2017-10-02T07:33:45.053Z"
    },
    "slideshow": {
     "slide_type": "subslide"
    }
   },
   "outputs": [
    {
     "name": "stdout",
     "output_type": "stream",
     "text": [
      "[1] 0.2549020 0.2745098 0.0000000 0.6274510 0.7843137 1.0000000\n",
      "[1] 0 0 0 1 1 1\n",
      "[1] 0.25 0.27 0.00 0.63 0.78 1.00\n"
     ]
    }
   ],
   "source": [
    "B <- myRoundNormalizer(b)\n",
    "print(B)\n",
    "\n",
    "B <- myRoundNormalizer(b, round=TRUE)\n",
    "print(B)\n",
    "\n",
    "B <- myRoundNormalizer(b, round=TRUE, digits=2)\n",
    "print(B) "
   ]
  },
  {
   "cell_type": "markdown",
   "metadata": {
    "slideshow": {
     "slide_type": "slide"
    }
   },
   "source": [
    "### 'Value by Copy' - Arguments and global Variables\n",
    "\n",
    "Passed arguments are *'value by copy'*. So, let us take a look on global variable setting.\n",
    "    "
   ]
  },
  {
   "cell_type": "code",
   "execution_count": 25,
   "metadata": {
    "slideshow": {
     "slide_type": "fragment"
    }
   },
   "outputs": [
    {
     "name": "stdout",
     "output_type": "stream",
     "text": [
      "Observations: 24\n",
      "Variables: 2\n",
      "$ group \u001b[3m\u001b[90m<fct>\u001b[39m\u001b[23m A, A, A, A, B, B, B, B, B, B, C, C, C, C, C, C, D, D, D, D, D...\n",
      "$ dat   \u001b[3m\u001b[90m<dbl>\u001b[39m\u001b[23m 36, 45, 22, 45, 67, 43, 34, 70, 67, 78, 34, 32, 34, 55, 58, 4...\n"
     ]
    }
   ],
   "source": [
    "#Example data\n",
    "dat <- c(36, 45, 22, 45, 67, 43, 34, 70, 67, 78, 34, 32, \n",
    "          34, 55, 58, 45, 37, 38, 44, 55, 66, 62, 59, 55)\n",
    "\n",
    "grp <- factor(rep(LETTERS[1:4], c(4,6,6,8)))\n",
    "df <- data.frame(group=grp, dat=dat)\n",
    "\n",
    "glimpse(df)"
   ]
  },
  {
   "cell_type": "code",
   "execution_count": 26,
   "metadata": {
    "scrolled": false,
    "slideshow": {
     "slide_type": "subslide"
    }
   },
   "outputs": [
    {
     "name": "stdout",
     "output_type": "stream",
     "text": [
      "\n",
      "Compare before and after values (not work):\n"
     ]
    },
    {
     "data": {
      "text/html": [
       "<table>\n",
       "<caption>A data.frame: 0 × 2</caption>\n",
       "<thead>\n",
       "\t<tr><th scope=col>group</th><th scope=col>dat</th></tr>\n",
       "\t<tr><th scope=col>&lt;fct&gt;</th><th scope=col>&lt;dbl&gt;</th></tr>\n",
       "</thead>\n",
       "<tbody>\n",
       "</tbody>\n",
       "</table>\n"
      ],
      "text/latex": [
       "A data.frame: 0 × 2\n",
       "\\begin{tabular}{r|ll}\n",
       " group & dat\\\\\n",
       " <fct> & <dbl>\\\\\n",
       "\\hline\n",
       "\\end{tabular}\n"
      ],
      "text/markdown": [
       "\n",
       "A data.frame: 0 × 2\n",
       "\n",
       "| group &lt;fct&gt; | dat &lt;dbl&gt; |\n",
       "|---|---|\n",
       "\n"
      ],
      "text/plain": [
       "     group dat"
      ]
     },
     "metadata": {},
     "output_type": "display_data"
    },
    {
     "name": "stdout",
     "output_type": "stream",
     "text": [
      "\n",
      "Compare before and after values (work):\n"
     ]
    },
    {
     "data": {
      "text/html": [
       "<table>\n",
       "<caption>A data.frame: 3 × 2</caption>\n",
       "<thead>\n",
       "\t<tr><th></th><th scope=col>group</th><th scope=col>dat</th></tr>\n",
       "\t<tr><th></th><th scope=col>&lt;fct&gt;</th><th scope=col>&lt;dbl&gt;</th></tr>\n",
       "</thead>\n",
       "<tbody>\n",
       "\t<tr><th scope=row>14</th><td>C</td><td>999</td></tr>\n",
       "\t<tr><th scope=row>20</th><td>D</td><td>999</td></tr>\n",
       "\t<tr><th scope=row>24</th><td>D</td><td>999</td></tr>\n",
       "</tbody>\n",
       "</table>\n"
      ],
      "text/latex": [
       "A data.frame: 3 × 2\n",
       "\\begin{tabular}{r|ll}\n",
       "  & group & dat\\\\\n",
       "  & <fct> & <dbl>\\\\\n",
       "\\hline\n",
       "\t14 & C & 999\\\\\n",
       "\t20 & D & 999\\\\\n",
       "\t24 & D & 999\\\\\n",
       "\\end{tabular}\n"
      ],
      "text/markdown": [
       "\n",
       "A data.frame: 3 × 2\n",
       "\n",
       "| <!--/--> | group &lt;fct&gt; | dat &lt;dbl&gt; |\n",
       "|---|---|---|\n",
       "| 14 | C | 999 |\n",
       "| 20 | D | 999 |\n",
       "| 24 | D | 999 |\n",
       "\n"
      ],
      "text/plain": [
       "   group dat\n",
       "14 C     999\n",
       "20 D     999\n",
       "24 D     999"
      ]
     },
     "metadata": {},
     "output_type": "display_data"
    }
   ],
   "source": [
    "\n",
    "setVAL.NOTWORK <- function(pval) {    \n",
    "   #No change to the original variable df\n",
    "   df$dat[df$dat == pval] <- 999    \n",
    "   \n",
    "   #df[df$dat == 999, ]\n",
    "}\n",
    "\n",
    "setVAL.WORK <- function(pval) {\n",
    "   #No change to the original variable df\n",
    "   df$dat[df$dat == pval] <- 999    \n",
    "   \n",
    "   #df[df$dat == 999, ]\n",
    "    \n",
    "   #We can use <<- to assign values to a global variable\n",
    "   df <<- df\n",
    "}\n",
    "\n",
    "\n",
    "cat(\"\\nCompare before and after values (not work):\\n\")\n",
    "setVAL.NOTWORK(55)\n",
    "df[df$dat == 999, ]\n",
    "\n",
    "cat(\"\\nCompare before and after values (work):\\n\")\n",
    "setVAL.WORK(55)\n",
    "df[df$dat == 999, ]\n"
   ]
  },
  {
   "cell_type": "markdown",
   "metadata": {
    "slideshow": {
     "slide_type": "slide"
    }
   },
   "source": [
    "## Efficient evaluation of functions: apply, lapply, sapply\n",
    "\n",
    "In the case that there exists many sequences of numeric values (such as `a` and `b` above) and each sequence shall be normalized by the `myNormalizer`-function, one can just implement a loop, which envokes in each iteration the `myNormalizer`-function for an individual input-argument (sequence of numeric values). Such an implementation would work, but is not very efficient. \n",
    "\n",
    "It would be much more efficient to use the R built-in function [`lapply(list of variables, functionName)`](https://www.rdocumentation.org/packages/base/versions/3.6.1/topics/lapply). 'list of variables' can be a list or data frame. Note that the first parameter is a **list** or **data frame**, which contains the objects on which the function (`myNormalizer()` in the example below) shall be executed.  You have to pay attention to the data type of the result, which have mostly the data type 'list'.\n",
    "\n",
    "`Keep in mind`: If you are using a data frame and the data have different data types, they will be converted with may be not wanted results. \n",
    "\n",
    "As shown in the following code-snippet no looping is required in this way:"
   ]
  },
  {
   "cell_type": "code",
   "execution_count": 27,
   "metadata": {
    "ExecuteTime": {
     "end_time": "2017-10-02T07:48:18.017000Z",
     "start_time": "2017-10-02T07:48:17.969Z"
    },
    "slideshow": {
     "slide_type": "subslide"
    }
   },
   "outputs": [
    {
     "data": {
      "text/html": [
       "<dl>\n",
       "\t<dt>$l1</dt>\n",
       "\t\t<dd><ol class=list-inline>\n",
       "\t<li>10</li>\n",
       "\t<li>11</li>\n",
       "\t<li>12</li>\n",
       "\t<li>13</li>\n",
       "\t<li>14</li>\n",
       "\t<li>15</li>\n",
       "\t<li>16</li>\n",
       "\t<li>17</li>\n",
       "\t<li>18</li>\n",
       "\t<li>19</li>\n",
       "\t<li>20</li>\n",
       "</ol>\n",
       "</dd>\n",
       "\t<dt>$l2</dt>\n",
       "\t\t<dd><ol class=list-inline>\n",
       "\t<li>33</li>\n",
       "\t<li>34</li>\n",
       "\t<li>20</li>\n",
       "\t<li>52</li>\n",
       "\t<li>60</li>\n",
       "\t<li>71</li>\n",
       "</ol>\n",
       "</dd>\n",
       "</dl>\n"
      ],
      "text/latex": [
       "\\begin{description}\n",
       "\\item[\\$l1] \\begin{enumerate*}\n",
       "\\item 10\n",
       "\\item 11\n",
       "\\item 12\n",
       "\\item 13\n",
       "\\item 14\n",
       "\\item 15\n",
       "\\item 16\n",
       "\\item 17\n",
       "\\item 18\n",
       "\\item 19\n",
       "\\item 20\n",
       "\\end{enumerate*}\n",
       "\n",
       "\\item[\\$l2] \\begin{enumerate*}\n",
       "\\item 33\n",
       "\\item 34\n",
       "\\item 20\n",
       "\\item 52\n",
       "\\item 60\n",
       "\\item 71\n",
       "\\end{enumerate*}\n",
       "\n",
       "\\end{description}\n"
      ],
      "text/markdown": [
       "$l1\n",
       ":   1. 10\n",
       "2. 11\n",
       "3. 12\n",
       "4. 13\n",
       "5. 14\n",
       "6. 15\n",
       "7. 16\n",
       "8. 17\n",
       "9. 18\n",
       "10. 19\n",
       "11. 20\n",
       "\n",
       "\n",
       "\n",
       "$l2\n",
       ":   1. 33\n",
       "2. 34\n",
       "3. 20\n",
       "4. 52\n",
       "5. 60\n",
       "6. 71\n",
       "\n",
       "\n",
       "\n",
       "\n",
       "\n"
      ],
      "text/plain": [
       "$l1\n",
       " [1] 10 11 12 13 14 15 16 17 18 19 20\n",
       "\n",
       "$l2\n",
       "[1] 33 34 20 52 60 71\n"
      ]
     },
     "metadata": {},
     "output_type": "display_data"
    }
   ],
   "source": [
    "(columnlist <- list(l1=a, \n",
    "                    l2=b))"
   ]
  },
  {
   "cell_type": "code",
   "execution_count": 42,
   "metadata": {
    "ExecuteTime": {
     "end_time": "2017-10-02T07:48:34.494000Z",
     "start_time": "2017-10-02T07:48:34.451Z"
    },
    "slideshow": {
     "slide_type": "subslide"
    }
   },
   "outputs": [
    {
     "data": {
      "text/html": [
       "<dl>\n",
       "\t<dt>$l1</dt>\n",
       "\t\t<dd><ol class=list-inline>\n",
       "\t<li>10</li>\n",
       "\t<li>11</li>\n",
       "\t<li>12</li>\n",
       "\t<li>13</li>\n",
       "\t<li>14</li>\n",
       "\t<li>15</li>\n",
       "\t<li>16</li>\n",
       "\t<li>17</li>\n",
       "\t<li>18</li>\n",
       "\t<li>19</li>\n",
       "\t<li>20</li>\n",
       "</ol>\n",
       "</dd>\n",
       "\t<dt>$l2</dt>\n",
       "\t\t<dd><ol class=list-inline>\n",
       "\t<li>33</li>\n",
       "\t<li>34</li>\n",
       "\t<li>20</li>\n",
       "\t<li>52</li>\n",
       "\t<li>60</li>\n",
       "\t<li>71</li>\n",
       "</ol>\n",
       "</dd>\n",
       "</dl>\n"
      ],
      "text/latex": [
       "\\begin{description}\n",
       "\\item[\\$l1] \\begin{enumerate*}\n",
       "\\item 10\n",
       "\\item 11\n",
       "\\item 12\n",
       "\\item 13\n",
       "\\item 14\n",
       "\\item 15\n",
       "\\item 16\n",
       "\\item 17\n",
       "\\item 18\n",
       "\\item 19\n",
       "\\item 20\n",
       "\\end{enumerate*}\n",
       "\n",
       "\\item[\\$l2] \\begin{enumerate*}\n",
       "\\item 33\n",
       "\\item 34\n",
       "\\item 20\n",
       "\\item 52\n",
       "\\item 60\n",
       "\\item 71\n",
       "\\end{enumerate*}\n",
       "\n",
       "\\end{description}\n"
      ],
      "text/markdown": [
       "$l1\n",
       ":   1. 10\n",
       "2. 11\n",
       "3. 12\n",
       "4. 13\n",
       "5. 14\n",
       "6. 15\n",
       "7. 16\n",
       "8. 17\n",
       "9. 18\n",
       "10. 19\n",
       "11. 20\n",
       "\n",
       "\n",
       "\n",
       "$l2\n",
       ":   1. 33\n",
       "2. 34\n",
       "3. 20\n",
       "4. 52\n",
       "5. 60\n",
       "6. 71\n",
       "\n",
       "\n",
       "\n",
       "\n",
       "\n"
      ],
      "text/plain": [
       "$l1\n",
       " [1] 10 11 12 13 14 15 16 17 18 19 20\n",
       "\n",
       "$l2\n",
       "[1] 33 34 20 52 60 71\n"
      ]
     },
     "metadata": {},
     "output_type": "display_data"
    },
    {
     "data": {
      "text/html": [
       "'list'"
      ],
      "text/latex": [
       "'list'"
      ],
      "text/markdown": [
       "'list'"
      ],
      "text/plain": [
       "[1] \"list\""
      ]
     },
     "metadata": {},
     "output_type": "display_data"
    },
    {
     "data": {
      "text/html": [
       "<dl>\n",
       "\t<dt>$l1</dt>\n",
       "\t\t<dd><ol class=list-inline>\n",
       "\t<li>0</li>\n",
       "\t<li>0.1</li>\n",
       "\t<li>0.2</li>\n",
       "\t<li>0.3</li>\n",
       "\t<li>0.4</li>\n",
       "\t<li>0.5</li>\n",
       "\t<li>0.6</li>\n",
       "\t<li>0.7</li>\n",
       "\t<li>0.8</li>\n",
       "\t<li>0.9</li>\n",
       "\t<li>1</li>\n",
       "</ol>\n",
       "</dd>\n",
       "\t<dt>$l2</dt>\n",
       "\t\t<dd><ol class=list-inline>\n",
       "\t<li>0.254901960784314</li>\n",
       "\t<li>0.274509803921569</li>\n",
       "\t<li>0</li>\n",
       "\t<li>0.627450980392157</li>\n",
       "\t<li>0.784313725490196</li>\n",
       "\t<li>1</li>\n",
       "</ol>\n",
       "</dd>\n",
       "</dl>\n"
      ],
      "text/latex": [
       "\\begin{description}\n",
       "\\item[\\$l1] \\begin{enumerate*}\n",
       "\\item 0\n",
       "\\item 0.1\n",
       "\\item 0.2\n",
       "\\item 0.3\n",
       "\\item 0.4\n",
       "\\item 0.5\n",
       "\\item 0.6\n",
       "\\item 0.7\n",
       "\\item 0.8\n",
       "\\item 0.9\n",
       "\\item 1\n",
       "\\end{enumerate*}\n",
       "\n",
       "\\item[\\$l2] \\begin{enumerate*}\n",
       "\\item 0.254901960784314\n",
       "\\item 0.274509803921569\n",
       "\\item 0\n",
       "\\item 0.627450980392157\n",
       "\\item 0.784313725490196\n",
       "\\item 1\n",
       "\\end{enumerate*}\n",
       "\n",
       "\\end{description}\n"
      ],
      "text/markdown": [
       "$l1\n",
       ":   1. 0\n",
       "2. 0.1\n",
       "3. 0.2\n",
       "4. 0.3\n",
       "5. 0.4\n",
       "6. 0.5\n",
       "7. 0.6\n",
       "8. 0.7\n",
       "9. 0.8\n",
       "10. 0.9\n",
       "11. 1\n",
       "\n",
       "\n",
       "\n",
       "$l2\n",
       ":   1. 0.254901960784314\n",
       "2. 0.274509803921569\n",
       "3. 0\n",
       "4. 0.627450980392157\n",
       "5. 0.784313725490196\n",
       "6. 1\n",
       "\n",
       "\n",
       "\n",
       "\n",
       "\n"
      ],
      "text/plain": [
       "$l1\n",
       " [1] 0.0 0.1 0.2 0.3 0.4 0.5 0.6 0.7 0.8 0.9 1.0\n",
       "\n",
       "$l2\n",
       "[1] 0.2549020 0.2745098 0.0000000 0.6274510 0.7843137 1.0000000\n"
      ]
     },
     "metadata": {},
     "output_type": "display_data"
    }
   ],
   "source": [
    "#Example with list\n",
    "columnlist\n",
    "columnlistNormed <- lapply(columnlist, myNormalizer) \n",
    "class(columnlistNormed) \n",
    "\n",
    "columnlistNormed"
   ]
  },
  {
   "cell_type": "code",
   "execution_count": 44,
   "metadata": {
    "slideshow": {
     "slide_type": "subslide"
    }
   },
   "outputs": [
    {
     "data": {
      "text/html": [
       "'data.frame'"
      ],
      "text/latex": [
       "'data.frame'"
      ],
      "text/markdown": [
       "'data.frame'"
      ],
      "text/plain": [
       "[1] \"data.frame\""
      ]
     },
     "metadata": {},
     "output_type": "display_data"
    },
    {
     "data": {
      "text/html": [
       "<table>\n",
       "<caption>A data.frame: 10 × 2</caption>\n",
       "<thead>\n",
       "\t<tr><th scope=col>x1</th><th scope=col>x2</th></tr>\n",
       "\t<tr><th scope=col>&lt;dbl&gt;</th><th scope=col>&lt;dbl&gt;</th></tr>\n",
       "</thead>\n",
       "<tbody>\n",
       "\t<tr><td> 1</td><td> 10</td></tr>\n",
       "\t<tr><td> 2</td><td> 20</td></tr>\n",
       "\t<tr><td> 3</td><td> 30</td></tr>\n",
       "\t<tr><td> 4</td><td> 40</td></tr>\n",
       "\t<tr><td> 5</td><td> 50</td></tr>\n",
       "\t<tr><td> 6</td><td> 60</td></tr>\n",
       "\t<tr><td> 7</td><td> 70</td></tr>\n",
       "\t<tr><td> 8</td><td> 80</td></tr>\n",
       "\t<tr><td> 9</td><td> 90</td></tr>\n",
       "\t<tr><td>10</td><td>100</td></tr>\n",
       "</tbody>\n",
       "</table>\n"
      ],
      "text/latex": [
       "A data.frame: 10 × 2\n",
       "\\begin{tabular}{r|ll}\n",
       " x1 & x2\\\\\n",
       " <dbl> & <dbl>\\\\\n",
       "\\hline\n",
       "\t  1 &  10\\\\\n",
       "\t  2 &  20\\\\\n",
       "\t  3 &  30\\\\\n",
       "\t  4 &  40\\\\\n",
       "\t  5 &  50\\\\\n",
       "\t  6 &  60\\\\\n",
       "\t  7 &  70\\\\\n",
       "\t  8 &  80\\\\\n",
       "\t  9 &  90\\\\\n",
       "\t 10 & 100\\\\\n",
       "\\end{tabular}\n"
      ],
      "text/markdown": [
       "\n",
       "A data.frame: 10 × 2\n",
       "\n",
       "| x1 &lt;dbl&gt; | x2 &lt;dbl&gt; |\n",
       "|---|---|\n",
       "|  1 |  10 |\n",
       "|  2 |  20 |\n",
       "|  3 |  30 |\n",
       "|  4 |  40 |\n",
       "|  5 |  50 |\n",
       "|  6 |  60 |\n",
       "|  7 |  70 |\n",
       "|  8 |  80 |\n",
       "|  9 |  90 |\n",
       "| 10 | 100 |\n",
       "\n"
      ],
      "text/plain": [
       "   x1 x2 \n",
       "1   1  10\n",
       "2   2  20\n",
       "3   3  30\n",
       "4   4  40\n",
       "5   5  50\n",
       "6   6  60\n",
       "7   7  70\n",
       "8   8  80\n",
       "9   9  90\n",
       "10 10 100"
      ]
     },
     "metadata": {},
     "output_type": "display_data"
    },
    {
     "data": {
      "text/html": [
       "'list'"
      ],
      "text/latex": [
       "'list'"
      ],
      "text/markdown": [
       "'list'"
      ],
      "text/plain": [
       "[1] \"list\""
      ]
     },
     "metadata": {},
     "output_type": "display_data"
    },
    {
     "data": {
      "text/html": [
       "<dl>\n",
       "\t<dt>$x1</dt>\n",
       "\t\t<dd>5.5</dd>\n",
       "\t<dt>$x2</dt>\n",
       "\t\t<dd>55</dd>\n",
       "</dl>\n"
      ],
      "text/latex": [
       "\\begin{description}\n",
       "\\item[\\$x1] 5.5\n",
       "\\item[\\$x2] 55\n",
       "\\end{description}\n"
      ],
      "text/markdown": [
       "$x1\n",
       ":   5.5\n",
       "$x2\n",
       ":   55\n",
       "\n",
       "\n"
      ],
      "text/plain": [
       "$x1\n",
       "[1] 5.5\n",
       "\n",
       "$x2\n",
       "[1] 55\n"
      ]
     },
     "metadata": {},
     "output_type": "display_data"
    }
   ],
   "source": [
    "#Example with data frame\n",
    "dfIn <- data.frame(x1=seq(1, 10, by=1), \n",
    "                   x2=seq(10, 100, by=10))\n",
    "\n",
    "class(dfIn)\n",
    "dfIn\n",
    "\n",
    "dfOut <- lapply(dfIn, mean)\n",
    "\n",
    "#dfOut <- as.data.frame(dfOut)\n",
    "class(dfOut)\n",
    "dfOut\n"
   ]
  },
  {
   "cell_type": "markdown",
   "metadata": {
    "slideshow": {
     "slide_type": "subslide"
    }
   },
   "source": [
    "In the case that an arbitrary function shall be executed not on a list of objects, but on an **array** or a **matrix** or **data frame**, the [`apply()`](https://www.rdocumentation.org/packages/base/versions/3.6.1/topics/apply)-function can be used. This function has an additional parameter, which determines along which axes of the multidimensional object the function shall be applied. You have to pay attention to the data type of the result, which have mostly the data type 'matrix' or 'vector'.\n",
    "\n",
    "`Keep in mind again`: If you are using a data frame and the data have different data types, they will be converted with may be not wanted results. \n",
    "\n",
    "This is demonstrated in the example below. Here the `myNormalizer()`-function is first performed row-wise (parameter 1 in `apply()`) and then columnwise (parameter 2 in `apply()`)."
   ]
  },
  {
   "cell_type": "code",
   "execution_count": 30,
   "metadata": {
    "ExecuteTime": {
     "end_time": "2017-10-02T07:50:54.660000Z",
     "start_time": "2017-10-02T07:50:54.495Z"
    },
    "slideshow": {
     "slide_type": "subslide"
    }
   },
   "outputs": [
    {
     "data": {
      "text/html": [
       "<table>\n",
       "<caption>A matrix: 4 × 7 of type dbl</caption>\n",
       "<tbody>\n",
       "\t<tr><td> 2</td><td> 7</td><td> 8</td><td>12</td><td>14</td><td> 5</td><td> 4</td></tr>\n",
       "\t<tr><td>16</td><td>11</td><td>15</td><td>18</td><td> 9</td><td>12</td><td> 3</td></tr>\n",
       "\t<tr><td>15</td><td>10</td><td> 7</td><td>11</td><td>11</td><td> 1</td><td>14</td></tr>\n",
       "\t<tr><td>16</td><td>15</td><td>19</td><td>16</td><td> 8</td><td> 4</td><td>11</td></tr>\n",
       "</tbody>\n",
       "</table>\n"
      ],
      "text/latex": [
       "A matrix: 4 × 7 of type dbl\n",
       "\\begin{tabular}{lllllll}\n",
       "\t  2 &  7 &  8 & 12 & 14 &  5 &  4\\\\\n",
       "\t 16 & 11 & 15 & 18 &  9 & 12 &  3\\\\\n",
       "\t 15 & 10 &  7 & 11 & 11 &  1 & 14\\\\\n",
       "\t 16 & 15 & 19 & 16 &  8 &  4 & 11\\\\\n",
       "\\end{tabular}\n"
      ],
      "text/markdown": [
       "\n",
       "A matrix: 4 × 7 of type dbl\n",
       "\n",
       "|  2 |  7 |  8 | 12 | 14 |  5 |  4 |\n",
       "| 16 | 11 | 15 | 18 |  9 | 12 |  3 |\n",
       "| 15 | 10 |  7 | 11 | 11 |  1 | 14 |\n",
       "| 16 | 15 | 19 | 16 |  8 |  4 | 11 |\n",
       "\n"
      ],
      "text/plain": [
       "     [,1] [,2] [,3] [,4] [,5] [,6] [,7]\n",
       "[1,]  2    7    8   12   14    5    4  \n",
       "[2,] 16   11   15   18    9   12    3  \n",
       "[3,] 15   10    7   11   11    1   14  \n",
       "[4,] 16   15   19   16    8    4   11  "
      ]
     },
     "metadata": {},
     "output_type": "display_data"
    }
   ],
   "source": [
    "(mymat <- matrix(floor(runif(28)*20), nrow=4, ncol=7))\n"
   ]
  },
  {
   "cell_type": "markdown",
   "metadata": {
    "slideshow": {
     "slide_type": "subslide"
    }
   },
   "source": [
    "#### Rowwise normalization:\n",
    "\n",
    "*Look at the parameters and the described informations about them*\n"
   ]
  },
  {
   "cell_type": "code",
   "execution_count": 46,
   "metadata": {
    "ExecuteTime": {
     "end_time": "2017-10-02T07:51:40.102000Z",
     "start_time": "2017-10-02T07:51:40.044Z"
    },
    "slideshow": {
     "slide_type": "fragment"
    }
   },
   "outputs": [
    {
     "data": {
      "text/html": [
       "<table>\n",
       "<caption>A matrix: 7 × 4 of type dbl</caption>\n",
       "<tbody>\n",
       "\t<tr><td>0.0000000</td><td>0.8666667</td><td>1.0000000</td><td>0.8000000</td></tr>\n",
       "\t<tr><td>0.4166667</td><td>0.5333333</td><td>0.6428571</td><td>0.7333333</td></tr>\n",
       "\t<tr><td>0.5000000</td><td>0.8000000</td><td>0.4285714</td><td>1.0000000</td></tr>\n",
       "\t<tr><td>0.8333333</td><td>1.0000000</td><td>0.7142857</td><td>0.8000000</td></tr>\n",
       "\t<tr><td>1.0000000</td><td>0.4000000</td><td>0.7142857</td><td>0.2666667</td></tr>\n",
       "\t<tr><td>0.2500000</td><td>0.6000000</td><td>0.0000000</td><td>0.0000000</td></tr>\n",
       "\t<tr><td>0.1666667</td><td>0.0000000</td><td>0.9285714</td><td>0.4666667</td></tr>\n",
       "</tbody>\n",
       "</table>\n"
      ],
      "text/latex": [
       "A matrix: 7 × 4 of type dbl\n",
       "\\begin{tabular}{llll}\n",
       "\t 0.0000000 & 0.8666667 & 1.0000000 & 0.8000000\\\\\n",
       "\t 0.4166667 & 0.5333333 & 0.6428571 & 0.7333333\\\\\n",
       "\t 0.5000000 & 0.8000000 & 0.4285714 & 1.0000000\\\\\n",
       "\t 0.8333333 & 1.0000000 & 0.7142857 & 0.8000000\\\\\n",
       "\t 1.0000000 & 0.4000000 & 0.7142857 & 0.2666667\\\\\n",
       "\t 0.2500000 & 0.6000000 & 0.0000000 & 0.0000000\\\\\n",
       "\t 0.1666667 & 0.0000000 & 0.9285714 & 0.4666667\\\\\n",
       "\\end{tabular}\n"
      ],
      "text/markdown": [
       "\n",
       "A matrix: 7 × 4 of type dbl\n",
       "\n",
       "| 0.0000000 | 0.8666667 | 1.0000000 | 0.8000000 |\n",
       "| 0.4166667 | 0.5333333 | 0.6428571 | 0.7333333 |\n",
       "| 0.5000000 | 0.8000000 | 0.4285714 | 1.0000000 |\n",
       "| 0.8333333 | 1.0000000 | 0.7142857 | 0.8000000 |\n",
       "| 1.0000000 | 0.4000000 | 0.7142857 | 0.2666667 |\n",
       "| 0.2500000 | 0.6000000 | 0.0000000 | 0.0000000 |\n",
       "| 0.1666667 | 0.0000000 | 0.9285714 | 0.4666667 |\n",
       "\n"
      ],
      "text/plain": [
       "     [,1]      [,2]      [,3]      [,4]     \n",
       "[1,] 0.0000000 0.8666667 1.0000000 0.8000000\n",
       "[2,] 0.4166667 0.5333333 0.6428571 0.7333333\n",
       "[3,] 0.5000000 0.8000000 0.4285714 1.0000000\n",
       "[4,] 0.8333333 1.0000000 0.7142857 0.8000000\n",
       "[5,] 1.0000000 0.4000000 0.7142857 0.2666667\n",
       "[6,] 0.2500000 0.6000000 0.0000000 0.0000000\n",
       "[7,] 0.1666667 0.0000000 0.9285714 0.4666667"
      ]
     },
     "metadata": {},
     "output_type": "display_data"
    },
    {
     "data": {
      "text/html": [
       "'matrix'"
      ],
      "text/latex": [
       "'matrix'"
      ],
      "text/markdown": [
       "'matrix'"
      ],
      "text/plain": [
       "[1] \"matrix\""
      ]
     },
     "metadata": {},
     "output_type": "display_data"
    }
   ],
   "source": [
    "(mymatNormed <- apply(mymat, 1, myNormalizer))\n",
    "class(mymatNormed)"
   ]
  },
  {
   "cell_type": "markdown",
   "metadata": {
    "slideshow": {
     "slide_type": "subslide"
    }
   },
   "source": [
    "#### Columnwise normalization:"
   ]
  },
  {
   "cell_type": "code",
   "execution_count": 49,
   "metadata": {
    "ExecuteTime": {
     "end_time": "2017-10-02T07:52:07.060000Z",
     "start_time": "2017-10-02T07:52:07.027Z"
    },
    "slideshow": {
     "slide_type": "fragment"
    }
   },
   "outputs": [
    {
     "data": {
      "text/html": [
       "<table>\n",
       "<caption>A matrix: 4 × 7 of type dbl</caption>\n",
       "<tbody>\n",
       "\t<tr><td> 2</td><td> 7</td><td> 8</td><td>12</td><td>14</td><td> 5</td><td> 4</td></tr>\n",
       "\t<tr><td>16</td><td>11</td><td>15</td><td>18</td><td> 9</td><td>12</td><td> 3</td></tr>\n",
       "\t<tr><td>15</td><td>10</td><td> 7</td><td>11</td><td>11</td><td> 1</td><td>14</td></tr>\n",
       "\t<tr><td>16</td><td>15</td><td>19</td><td>16</td><td> 8</td><td> 4</td><td>11</td></tr>\n",
       "</tbody>\n",
       "</table>\n"
      ],
      "text/latex": [
       "A matrix: 4 × 7 of type dbl\n",
       "\\begin{tabular}{lllllll}\n",
       "\t  2 &  7 &  8 & 12 & 14 &  5 &  4\\\\\n",
       "\t 16 & 11 & 15 & 18 &  9 & 12 &  3\\\\\n",
       "\t 15 & 10 &  7 & 11 & 11 &  1 & 14\\\\\n",
       "\t 16 & 15 & 19 & 16 &  8 &  4 & 11\\\\\n",
       "\\end{tabular}\n"
      ],
      "text/markdown": [
       "\n",
       "A matrix: 4 × 7 of type dbl\n",
       "\n",
       "|  2 |  7 |  8 | 12 | 14 |  5 |  4 |\n",
       "| 16 | 11 | 15 | 18 |  9 | 12 |  3 |\n",
       "| 15 | 10 |  7 | 11 | 11 |  1 | 14 |\n",
       "| 16 | 15 | 19 | 16 |  8 |  4 | 11 |\n",
       "\n"
      ],
      "text/plain": [
       "     [,1] [,2] [,3] [,4] [,5] [,6] [,7]\n",
       "[1,]  2    7    8   12   14    5    4  \n",
       "[2,] 16   11   15   18    9   12    3  \n",
       "[3,] 15   10    7   11   11    1   14  \n",
       "[4,] 16   15   19   16    8    4   11  "
      ]
     },
     "metadata": {},
     "output_type": "display_data"
    },
    {
     "data": {
      "text/html": [
       "<table>\n",
       "<caption>A matrix: 4 × 7 of type dbl</caption>\n",
       "<tbody>\n",
       "\t<tr><td>0.0000000</td><td>0.000</td><td>0.08333333</td><td>0.1428571</td><td>1.0000000</td><td>0.3636364</td><td>0.09090909</td></tr>\n",
       "\t<tr><td>1.0000000</td><td>0.500</td><td>0.66666667</td><td>1.0000000</td><td>0.1666667</td><td>1.0000000</td><td>0.00000000</td></tr>\n",
       "\t<tr><td>0.9285714</td><td>0.375</td><td>0.00000000</td><td>0.0000000</td><td>0.5000000</td><td>0.0000000</td><td>1.00000000</td></tr>\n",
       "\t<tr><td>1.0000000</td><td>1.000</td><td>1.00000000</td><td>0.7142857</td><td>0.0000000</td><td>0.2727273</td><td>0.72727273</td></tr>\n",
       "</tbody>\n",
       "</table>\n"
      ],
      "text/latex": [
       "A matrix: 4 × 7 of type dbl\n",
       "\\begin{tabular}{lllllll}\n",
       "\t 0.0000000 & 0.000 & 0.08333333 & 0.1428571 & 1.0000000 & 0.3636364 & 0.09090909\\\\\n",
       "\t 1.0000000 & 0.500 & 0.66666667 & 1.0000000 & 0.1666667 & 1.0000000 & 0.00000000\\\\\n",
       "\t 0.9285714 & 0.375 & 0.00000000 & 0.0000000 & 0.5000000 & 0.0000000 & 1.00000000\\\\\n",
       "\t 1.0000000 & 1.000 & 1.00000000 & 0.7142857 & 0.0000000 & 0.2727273 & 0.72727273\\\\\n",
       "\\end{tabular}\n"
      ],
      "text/markdown": [
       "\n",
       "A matrix: 4 × 7 of type dbl\n",
       "\n",
       "| 0.0000000 | 0.000 | 0.08333333 | 0.1428571 | 1.0000000 | 0.3636364 | 0.09090909 |\n",
       "| 1.0000000 | 0.500 | 0.66666667 | 1.0000000 | 0.1666667 | 1.0000000 | 0.00000000 |\n",
       "| 0.9285714 | 0.375 | 0.00000000 | 0.0000000 | 0.5000000 | 0.0000000 | 1.00000000 |\n",
       "| 1.0000000 | 1.000 | 1.00000000 | 0.7142857 | 0.0000000 | 0.2727273 | 0.72727273 |\n",
       "\n"
      ],
      "text/plain": [
       "     [,1]      [,2]  [,3]       [,4]      [,5]      [,6]      [,7]      \n",
       "[1,] 0.0000000 0.000 0.08333333 0.1428571 1.0000000 0.3636364 0.09090909\n",
       "[2,] 1.0000000 0.500 0.66666667 1.0000000 0.1666667 1.0000000 0.00000000\n",
       "[3,] 0.9285714 0.375 0.00000000 0.0000000 0.5000000 0.0000000 1.00000000\n",
       "[4,] 1.0000000 1.000 1.00000000 0.7142857 0.0000000 0.2727273 0.72727273"
      ]
     },
     "metadata": {},
     "output_type": "display_data"
    }
   ],
   "source": [
    "mymat\n",
    "(mymatNormed <- apply(mymat, 2, myNormalizer))\n"
   ]
  },
  {
   "cell_type": "markdown",
   "metadata": {
    "slideshow": {
     "slide_type": "slide"
    }
   },
   "source": [
    "#### Pay attention to the accessing of the arguments in the functions of `apply()` and the others:"
   ]
  },
  {
   "cell_type": "code",
   "execution_count": 53,
   "metadata": {
    "slideshow": {
     "slide_type": "fragment"
    }
   },
   "outputs": [
    {
     "data": {
      "text/html": [
       "<table>\n",
       "<caption>A data.frame: 4 × 7</caption>\n",
       "<thead>\n",
       "\t<tr><th scope=col>col1</th><th scope=col>col2</th><th scope=col>col3</th><th scope=col>col4</th><th scope=col>col5</th><th scope=col>col6</th><th scope=col>col7</th></tr>\n",
       "\t<tr><th scope=col>&lt;dbl&gt;</th><th scope=col>&lt;dbl&gt;</th><th scope=col>&lt;dbl&gt;</th><th scope=col>&lt;dbl&gt;</th><th scope=col>&lt;dbl&gt;</th><th scope=col>&lt;dbl&gt;</th><th scope=col>&lt;dbl&gt;</th></tr>\n",
       "</thead>\n",
       "<tbody>\n",
       "\t<tr><td> 2</td><td> 7</td><td> 8</td><td>12</td><td>14</td><td> 5</td><td> 4</td></tr>\n",
       "\t<tr><td>16</td><td>11</td><td>15</td><td>18</td><td> 9</td><td>12</td><td> 3</td></tr>\n",
       "\t<tr><td>15</td><td>10</td><td> 7</td><td>11</td><td>11</td><td> 1</td><td>14</td></tr>\n",
       "\t<tr><td>16</td><td>15</td><td>19</td><td>16</td><td> 8</td><td> 4</td><td>11</td></tr>\n",
       "</tbody>\n",
       "</table>\n"
      ],
      "text/latex": [
       "A data.frame: 4 × 7\n",
       "\\begin{tabular}{r|lllllll}\n",
       " col1 & col2 & col3 & col4 & col5 & col6 & col7\\\\\n",
       " <dbl> & <dbl> & <dbl> & <dbl> & <dbl> & <dbl> & <dbl>\\\\\n",
       "\\hline\n",
       "\t  2 &  7 &  8 & 12 & 14 &  5 &  4\\\\\n",
       "\t 16 & 11 & 15 & 18 &  9 & 12 &  3\\\\\n",
       "\t 15 & 10 &  7 & 11 & 11 &  1 & 14\\\\\n",
       "\t 16 & 15 & 19 & 16 &  8 &  4 & 11\\\\\n",
       "\\end{tabular}\n"
      ],
      "text/markdown": [
       "\n",
       "A data.frame: 4 × 7\n",
       "\n",
       "| col1 &lt;dbl&gt; | col2 &lt;dbl&gt; | col3 &lt;dbl&gt; | col4 &lt;dbl&gt; | col5 &lt;dbl&gt; | col6 &lt;dbl&gt; | col7 &lt;dbl&gt; |\n",
       "|---|---|---|---|---|---|---|\n",
       "|  2 |  7 |  8 | 12 | 14 |  5 |  4 |\n",
       "| 16 | 11 | 15 | 18 |  9 | 12 |  3 |\n",
       "| 15 | 10 |  7 | 11 | 11 |  1 | 14 |\n",
       "| 16 | 15 | 19 | 16 |  8 |  4 | 11 |\n",
       "\n"
      ],
      "text/plain": [
       "  col1 col2 col3 col4 col5 col6 col7\n",
       "1  2    7    8   12   14    5    4  \n",
       "2 16   11   15   18    9   12    3  \n",
       "3 15   10    7   11   11    1   14  \n",
       "4 16   15   19   16    8    4   11  "
      ]
     },
     "metadata": {},
     "output_type": "display_data"
    },
    {
     "name": "stdout",
     "output_type": "stream",
     "text": [
      "2 7 8 12 14 5 \n",
      "[1] \"numeric\"\n",
      "16 11 15 18 9 12 \n",
      "[1] \"numeric\"\n",
      "15 10 7 11 11 1 \n",
      "[1] \"numeric\"\n",
      "16 15 19 16 8 4 \n",
      "[1] \"numeric\"\n"
     ]
    },
    {
     "data": {
      "text/html": [
       "'numeric'"
      ],
      "text/latex": [
       "'numeric'"
      ],
      "text/markdown": [
       "'numeric'"
      ],
      "text/plain": [
       "[1] \"numeric\""
      ]
     },
     "metadata": {},
     "output_type": "display_data"
    }
   ],
   "source": [
    "myTestfunc <- function(rawdata){\n",
    "    #  You can not address a matrix column here by name, e.g. rawdata$col1,\n",
    "    #  but you can use rawdata[1]\n",
    "    \n",
    "    #Try what happend with\n",
    "    #cat(rawdata$col1,\"\\n\")\n",
    "    \n",
    "    #But you can adress by index\n",
    "    cat(rawdata[1:6], \"\\n\")\n",
    "    print(class(rawdata[1]))\n",
    "    \n",
    "    res <- 1  #unsinnig - nur zur Anschauung\n",
    "    \n",
    "    return (res)\n",
    "}\n",
    "\n",
    "df <- as.data.frame(mymat)\n",
    "colnames(df) <- c(\"col1\", \"col2\", \"col3\", \"col4\", \"col5\", \"col6\", \"col7\")\n",
    "df\n",
    "\n",
    "dummy <- apply(df, 1, myTestfunc)\n",
    "class(dummy)"
   ]
  },
  {
   "cell_type": "markdown",
   "metadata": {
    "slideshow": {
     "slide_type": "subslide"
    }
   },
   "source": [
    "[`sapply()`](https://www.rdocumentation.org/packages/base/versions/3.6.1/topics/lapply)-is similar to *lapply()*. However, it returns a vector or a matrix instead of a list: "
   ]
  },
  {
   "cell_type": "code",
   "execution_count": 34,
   "metadata": {
    "ExecuteTime": {
     "end_time": "2017-10-02T07:55:31.670000Z",
     "start_time": "2017-10-02T07:55:31.602Z"
    },
    "slideshow": {
     "slide_type": "subslide"
    }
   },
   "outputs": [
    {
     "data": {
      "text/html": [
       "<dl class=dl-horizontal>\n",
       "\t<dt>l1</dt>\n",
       "\t\t<dd>15</dd>\n",
       "\t<dt>l2</dt>\n",
       "\t\t<dd>45</dd>\n",
       "</dl>\n"
      ],
      "text/latex": [
       "\\begin{description*}\n",
       "\\item[l1] 15\n",
       "\\item[l2] 45\n",
       "\\end{description*}\n"
      ],
      "text/markdown": [
       "l1\n",
       ":   15l2\n",
       ":   45\n",
       "\n"
      ],
      "text/plain": [
       "l1 l2 \n",
       "15 45 "
      ]
     },
     "metadata": {},
     "output_type": "display_data"
    },
    {
     "data": {
      "text/html": [
       "'numeric'"
      ],
      "text/latex": [
       "'numeric'"
      ],
      "text/markdown": [
       "'numeric'"
      ],
      "text/plain": [
       "[1] \"numeric\""
      ]
     },
     "metadata": {},
     "output_type": "display_data"
    }
   ],
   "source": [
    "#Example with list\n",
    "(columnmean <- sapply(columnlist, mean))\n",
    "class(columnmean)"
   ]
  },
  {
   "cell_type": "code",
   "execution_count": 35,
   "metadata": {
    "slideshow": {
     "slide_type": "subslide"
    }
   },
   "outputs": [
    {
     "data": {
      "text/html": [
       "'data.frame'"
      ],
      "text/latex": [
       "'data.frame'"
      ],
      "text/markdown": [
       "'data.frame'"
      ],
      "text/plain": [
       "[1] \"data.frame\""
      ]
     },
     "metadata": {},
     "output_type": "display_data"
    },
    {
     "data": {
      "text/html": [
       "<table>\n",
       "<caption>A data.frame: 10 × 2</caption>\n",
       "<thead>\n",
       "\t<tr><th scope=col>x1</th><th scope=col>x2</th></tr>\n",
       "\t<tr><th scope=col>&lt;dbl&gt;</th><th scope=col>&lt;dbl&gt;</th></tr>\n",
       "</thead>\n",
       "<tbody>\n",
       "\t<tr><td> 1</td><td> 10</td></tr>\n",
       "\t<tr><td> 2</td><td> 20</td></tr>\n",
       "\t<tr><td> 3</td><td> 30</td></tr>\n",
       "\t<tr><td> 4</td><td> 40</td></tr>\n",
       "\t<tr><td> 5</td><td> 50</td></tr>\n",
       "\t<tr><td> 6</td><td> 60</td></tr>\n",
       "\t<tr><td> 7</td><td> 70</td></tr>\n",
       "\t<tr><td> 8</td><td> 80</td></tr>\n",
       "\t<tr><td> 9</td><td> 90</td></tr>\n",
       "\t<tr><td>10</td><td>100</td></tr>\n",
       "</tbody>\n",
       "</table>\n"
      ],
      "text/latex": [
       "A data.frame: 10 × 2\n",
       "\\begin{tabular}{r|ll}\n",
       " x1 & x2\\\\\n",
       " <dbl> & <dbl>\\\\\n",
       "\\hline\n",
       "\t  1 &  10\\\\\n",
       "\t  2 &  20\\\\\n",
       "\t  3 &  30\\\\\n",
       "\t  4 &  40\\\\\n",
       "\t  5 &  50\\\\\n",
       "\t  6 &  60\\\\\n",
       "\t  7 &  70\\\\\n",
       "\t  8 &  80\\\\\n",
       "\t  9 &  90\\\\\n",
       "\t 10 & 100\\\\\n",
       "\\end{tabular}\n"
      ],
      "text/markdown": [
       "\n",
       "A data.frame: 10 × 2\n",
       "\n",
       "| x1 &lt;dbl&gt; | x2 &lt;dbl&gt; |\n",
       "|---|---|\n",
       "|  1 |  10 |\n",
       "|  2 |  20 |\n",
       "|  3 |  30 |\n",
       "|  4 |  40 |\n",
       "|  5 |  50 |\n",
       "|  6 |  60 |\n",
       "|  7 |  70 |\n",
       "|  8 |  80 |\n",
       "|  9 |  90 |\n",
       "| 10 | 100 |\n",
       "\n"
      ],
      "text/plain": [
       "   x1 x2 \n",
       "1   1  10\n",
       "2   2  20\n",
       "3   3  30\n",
       "4   4  40\n",
       "5   5  50\n",
       "6   6  60\n",
       "7   7  70\n",
       "8   8  80\n",
       "9   9  90\n",
       "10 10 100"
      ]
     },
     "metadata": {},
     "output_type": "display_data"
    },
    {
     "data": {
      "text/html": [
       "'numeric'"
      ],
      "text/latex": [
       "'numeric'"
      ],
      "text/markdown": [
       "'numeric'"
      ],
      "text/plain": [
       "[1] \"numeric\""
      ]
     },
     "metadata": {},
     "output_type": "display_data"
    },
    {
     "data": {
      "text/html": [
       "<dl class=dl-horizontal>\n",
       "\t<dt>x1</dt>\n",
       "\t\t<dd>5.5</dd>\n",
       "\t<dt>x2</dt>\n",
       "\t\t<dd>55</dd>\n",
       "</dl>\n"
      ],
      "text/latex": [
       "\\begin{description*}\n",
       "\\item[x1] 5.5\n",
       "\\item[x2] 55\n",
       "\\end{description*}\n"
      ],
      "text/markdown": [
       "x1\n",
       ":   5.5x2\n",
       ":   55\n",
       "\n"
      ],
      "text/plain": [
       "  x1   x2 \n",
       " 5.5 55.0 "
      ]
     },
     "metadata": {},
     "output_type": "display_data"
    }
   ],
   "source": [
    "#Example with data frame\n",
    "dfIn <- data.frame(x1=seq(1, 10, by=1), \n",
    "                   x2=seq(10, 100, by=10))\n",
    "\n",
    "class(dfIn)\n",
    "dfIn\n",
    "\n",
    "dfOut <- sapply(dfIn, mean)\n",
    "\n",
    "class(dfOut)\n",
    "dfOut"
   ]
  },
  {
   "cell_type": "markdown",
   "metadata": {
    "slideshow": {
     "slide_type": "slide"
    }
   },
   "source": [
    "### Comparison of performance\n",
    "\n",
    "Remember: With [`system.time()`](https://www.rdocumentation.org/packages/base/versions/3.6.1/topics/system.time) we measure \"user CPU time\" which outputs the CPU time spent by the current process (e.g. the current R session) and \"system CPU time\" which outputs the CPU time spent by the kernel (the operating system). \"elapsed CPU time\" is the elapsed time by the statements - that is our point of interest here.\n"
   ]
  },
  {
   "cell_type": "code",
   "execution_count": 36,
   "metadata": {
    "slideshow": {
     "slide_type": "subslide"
    }
   },
   "outputs": [
    {
     "data": {
      "text/plain": [
       "   user  system elapsed \n",
       "   0.15    0.03    0.17 "
      ]
     },
     "metadata": {},
     "output_type": "display_data"
    },
    {
     "data": {
      "text/html": [
       "<ol class=list-inline>\n",
       "\t<li>15000</li>\n",
       "\t<li>15000</li>\n",
       "\t<li>15000</li>\n",
       "\t<li>15000</li>\n",
       "\t<li>15000</li>\n",
       "\t<li>15000</li>\n",
       "</ol>\n"
      ],
      "text/latex": [
       "\\begin{enumerate*}\n",
       "\\item 15000\n",
       "\\item 15000\n",
       "\\item 15000\n",
       "\\item 15000\n",
       "\\item 15000\n",
       "\\item 15000\n",
       "\\end{enumerate*}\n"
      ],
      "text/markdown": [
       "1. 15000\n",
       "2. 15000\n",
       "3. 15000\n",
       "4. 15000\n",
       "5. 15000\n",
       "6. 15000\n",
       "\n",
       "\n"
      ],
      "text/plain": [
       "[1] 15000 15000 15000 15000 15000 15000"
      ]
     },
     "metadata": {},
     "output_type": "display_data"
    }
   ],
   "source": [
    "testFun1 <- function(x) {\n",
    "    \n",
    "    #print(x)\n",
    "    #print(class(x))\n",
    "    \n",
    "    cVec <- strsplit(x, \"%\", fixed=FALSE)\n",
    "    #print(class(cVec))   #Pay attention: list\n",
    "    \n",
    "    cVec <- as.data.frame(cVec, stringsAsFactors=FALSE)  #takes time, so better sapply()\n",
    "    #print(cVec)\n",
    "    nVec <- as.numeric(cVec[1, ])\n",
    "    \n",
    "    #We have no simple possibilty to access e.g. to the first element of all lists\n",
    "    #nVec <- as.numeric(cVec[[1]][1])  \n",
    "    \n",
    "    return(nVec)\n",
    "}\n",
    "\n",
    "x <- data.frame(income=rep(\"15000%Test\", 1000), stringsAsFactors=FALSE)\n",
    "\n",
    "system.time({\n",
    "    y <- testFun1(x$income) \n",
    "})\n",
    "\n",
    "head(y)\n"
   ]
  },
  {
   "cell_type": "code",
   "execution_count": 37,
   "metadata": {
    "slideshow": {
     "slide_type": "subslide"
    }
   },
   "outputs": [
    {
     "data": {
      "text/plain": [
       "   user  system elapsed \n",
       "   0.02    0.00    0.01 "
      ]
     },
     "metadata": {},
     "output_type": "display_data"
    },
    {
     "data": {
      "text/html": [
       "<dl class=dl-horizontal>\n",
       "\t<dt>15000%Test</dt>\n",
       "\t\t<dd>15000</dd>\n",
       "\t<dt>15000%Test</dt>\n",
       "\t\t<dd>15000</dd>\n",
       "\t<dt>15000%Test</dt>\n",
       "\t\t<dd>15000</dd>\n",
       "\t<dt>15000%Test</dt>\n",
       "\t\t<dd>15000</dd>\n",
       "\t<dt>15000%Test</dt>\n",
       "\t\t<dd>15000</dd>\n",
       "\t<dt>15000%Test</dt>\n",
       "\t\t<dd>15000</dd>\n",
       "</dl>\n"
      ],
      "text/latex": [
       "\\begin{description*}\n",
       "\\item[15000\\textbackslash{}\\%Test] 15000\n",
       "\\item[15000\\textbackslash{}\\%Test] 15000\n",
       "\\item[15000\\textbackslash{}\\%Test] 15000\n",
       "\\item[15000\\textbackslash{}\\%Test] 15000\n",
       "\\item[15000\\textbackslash{}\\%Test] 15000\n",
       "\\item[15000\\textbackslash{}\\%Test] 15000\n",
       "\\end{description*}\n"
      ],
      "text/markdown": [
       "15000%Test\n",
       ":   1500015000%Test\n",
       ":   1500015000%Test\n",
       ":   1500015000%Test\n",
       ":   1500015000%Test\n",
       ":   1500015000%Test\n",
       ":   15000\n",
       "\n"
      ],
      "text/plain": [
       "15000%Test 15000%Test 15000%Test 15000%Test 15000%Test 15000%Test \n",
       "     15000      15000      15000      15000      15000      15000 "
      ]
     },
     "metadata": {},
     "output_type": "display_data"
    }
   ],
   "source": [
    "testFun2 <- function(x) {\n",
    "    \n",
    "    #print(x)\n",
    "    #print(class(x))\n",
    "    \n",
    "    cVec <- strsplit(x, \"%\", fixed=FALSE)\n",
    "    #print(class(cVec))   #Pay attention: list\n",
    "    \n",
    "    #print(cVec[[1]][1])\n",
    "    \n",
    "    nVec <- as.numeric(cVec[[1]][1]) #Access to first element of first list\n",
    "    \n",
    "    return(nVec)\n",
    "}\n",
    "\n",
    "x <- data.frame(income=rep(\"15000%Test\", 1000), stringsAsFactors=FALSE)\n",
    "\n",
    "system.time({\n",
    "    y <- sapply(x$income, testFun2)\n",
    "})\n",
    "\n",
    "head(y)"
   ]
  },
  {
   "cell_type": "markdown",
   "metadata": {
    "slideshow": {
     "slide_type": "slide"
    }
   },
   "source": [
    "### What can we do, if we have more arguments in the FUN argument of `sapply()` and others?\n",
    "\n",
    "Look at the following example:"
   ]
  },
  {
   "cell_type": "code",
   "execution_count": 38,
   "metadata": {
    "slideshow": {
     "slide_type": "subslide"
    }
   },
   "outputs": [
    {
     "data": {
      "text/html": [
       "<ol class=list-inline>\n",
       "\t<li>200</li>\n",
       "\t<li>400</li>\n",
       "\t<li>600</li>\n",
       "\t<li>800</li>\n",
       "</ol>\n"
      ],
      "text/latex": [
       "\\begin{enumerate*}\n",
       "\\item 200\n",
       "\\item 400\n",
       "\\item 600\n",
       "\\item 800\n",
       "\\end{enumerate*}\n"
      ],
      "text/markdown": [
       "1. 200\n",
       "2. 400\n",
       "3. 600\n",
       "4. 800\n",
       "\n",
       "\n"
      ],
      "text/plain": [
       "[1] 200 400 600 800"
      ]
     },
     "metadata": {},
     "output_type": "display_data"
    }
   ],
   "source": [
    "myfun <- function(var1, var2, var3){\n",
    "      return(var1*var2*var3)\n",
    "}\n",
    "\n",
    "sapply(1:4, myfun, var2=2, var3=100)  #We have not to repeat the first argument!\n",
    "                                      #and we use the mystic signs ...\n"
   ]
  },
  {
   "cell_type": "markdown",
   "metadata": {},
   "source": [
    "See [Strategies to Speedup R Code](https://www.r-bloggers.com/strategies-to-speedup-r-code/) to pimp your R code."
   ]
  },
  {
   "cell_type": "markdown",
   "metadata": {
    "slideshow": {
     "slide_type": "slide"
    }
   },
   "source": [
    "## Exercises\n",
    "\n",
    "[Exercise on functions in R](../exercises/Ass05FunctionsR.ipynb)"
   ]
  }
 ],
 "metadata": {
  "anaconda-cloud": {},
  "celltoolbar": "Slideshow",
  "kernelspec": {
   "display_name": "R",
   "language": "R",
   "name": "ir"
  },
  "language_info": {
   "codemirror_mode": "r",
   "file_extension": ".r",
   "mimetype": "text/x-r-source",
   "name": "R",
   "pygments_lexer": "r",
   "version": "3.6.1"
  },
  "nav_menu": {},
  "toc": {
   "nav_menu": {},
   "number_sections": true,
   "sideBar": true,
   "skip_h1_title": false,
   "toc_cell": false,
   "toc_position": {
    "height": "572px",
    "left": "0px",
    "right": "1201.33px",
    "top": "52.2333px",
    "width": "212px"
   },
   "toc_section_display": "block",
   "toc_window_display": true
  },
  "toc_position": {
   "height": "484px",
   "left": "0px",
   "right": "888px",
   "top": "125px",
   "width": "212px"
  }
 },
 "nbformat": 4,
 "nbformat_minor": 1
}
