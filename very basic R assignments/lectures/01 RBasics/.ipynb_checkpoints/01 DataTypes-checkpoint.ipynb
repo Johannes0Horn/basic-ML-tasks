{
 "cells": [
  {
   "cell_type": "markdown",
   "metadata": {
    "slideshow": {
     "slide_type": "slide"
    }
   },
   "source": [
    "# Basic Data Types\n",
    "* Author: Johannes Maucher\n",
    "* Last Update: 2017-10-03, some modifications by OK in 2019\n",
    "\n"
   ]
  },
  {
   "cell_type": "markdown",
   "metadata": {
    "slideshow": {
     "slide_type": "slide"
    }
   },
   "source": [
    "## Different R Syntax Systems\n",
    "\n",
    "As you can see at [R Syntax Comparison](https://github.com/rstudio/cheatsheets/raw/master/syntax.pdf) there are some different R syntax systems. The most important ones are the pure Base R convention without any opensource libraries, which is limited and sometimes cumbersome. \n",
    "\n",
    "The other one is the ecosystem with a well-documented workflow called [**tidyverse**](https://www.tidyverse.org/packages), which includes additional libraries like *ggplot2, dplyr, tidyr, readr, purrr* and *tibble* to visualize and manipulate data at a comfortable way. \n"
   ]
  },
  {
   "cell_type": "markdown",
   "metadata": {
    "slideshow": {
     "slide_type": "subslide"
    }
   },
   "source": [
    "Some examples:\n",
    "\n",
    "* Manipulation of data ([dplyr](https://dplyr.tidyverse.org/), [tidyr](https://tidyr.tidyverse.org/))\n",
    "* Better support of different data types ([stringr](https://stringr.tidyverse.org/) for strings, [lubridate](https://lubridate.tidyverse.org/) for date and datetime, [forcats](https://forcats.tidyverse.org/) for categorical/factors)\n",
    "* Data visualization ([ggplot2](https://ggplot2.tidyverse.org/))\n",
    "* Data-oriented programming ([purrr](https://purrr.tidyverse.org/))\n"
   ]
  },
  {
   "cell_type": "markdown",
   "metadata": {
    "slideshow": {
     "slide_type": "subslide"
    }
   },
   "source": [
    "It is build around of the concept **tidy data**, which we will discuss in detail at our section \"Machine Learning\".\n",
    "\n",
    "The tidyverse library is developed by RStudio’s chief scientist Hadley Wickham, also known as the author of the excellent book [R for Data Science](https://r4ds.had.co.nz) [WH19].\n",
    "\n",
    "Most functions of tidyverse **works only with data frames** (the most important data type in R - see below) and **tibbles/tribbles** - a special form of data frames in tidyverse, which we will not use here in this lectures (see [The Trouble with Tibbles](https://www.r-bloggers.com/the-trouble-with-tibbles/)). In the sections of *Basic R*, we will describe both ways. In the main sections we will use mostly the tidyverse conventions on a selected way. I prefer using data frames and not tibbles for example. I prefer Juypter Notebooks and not R Notebooks a.s.o.\n"
   ]
  },
  {
   "cell_type": "markdown",
   "metadata": {
    "slideshow": {
     "slide_type": "subslide"
    }
   },
   "source": [
    "`Discussion:` Why should we use tidyverse functions? The main reasons are speed, function chaining and simple logical syntax. Someones prefer Base R, data.table's or something else. There are a lot of references, e.g. [dplyr and a very basic benchmark](http://datascience.la/dplyr-and-a-very-basic-benchmark/), [Four reasons why you should check out the R package dply](http://www.zevross.com/blog/2014/03/26/four-reasons-why-you-should-check-out-the-r-package-dplyr-3/) a.s.o.\n",
    "\n",
    "\n",
    "`Keep in mind:` There is another library which builds on tidyverse called **[tidyquant](https://cran.r-project.org/web/packages/tidyquant/vignettes/TQ00-introduction-to-tidyquant.html)** which additionally includes functions for financial analysis.\n"
   ]
  },
  {
   "cell_type": "code",
   "execution_count": 1,
   "metadata": {
    "slideshow": {
     "slide_type": "slide"
    }
   },
   "outputs": [
    {
     "name": "stderr",
     "output_type": "stream",
     "text": [
      "-- \u001b[1mAttaching packages\u001b[22m --------------------------------------- tidyverse 1.2.1 --\n",
      "\u001b[32mv\u001b[39m \u001b[34mggplot2\u001b[39m 3.2.0     \u001b[32mv\u001b[39m \u001b[34mpurrr  \u001b[39m 0.3.2\n",
      "\u001b[32mv\u001b[39m \u001b[34mtibble \u001b[39m 2.1.3     \u001b[32mv\u001b[39m \u001b[34mdplyr  \u001b[39m 0.8.3\n",
      "\u001b[32mv\u001b[39m \u001b[34mtidyr  \u001b[39m 0.8.3     \u001b[32mv\u001b[39m \u001b[34mstringr\u001b[39m 1.4.0\n",
      "\u001b[32mv\u001b[39m \u001b[34mreadr  \u001b[39m 1.3.1     \u001b[32mv\u001b[39m \u001b[34mforcats\u001b[39m 0.4.0\n",
      "-- \u001b[1mConflicts\u001b[22m ------------------------------------------ tidyverse_conflicts() --\n",
      "\u001b[31mx\u001b[39m \u001b[34mdplyr\u001b[39m::\u001b[32mfilter()\u001b[39m masks \u001b[34mstats\u001b[39m::filter()\n",
      "\u001b[31mx\u001b[39m \u001b[34mdplyr\u001b[39m::\u001b[32mlag()\u001b[39m    masks \u001b[34mstats\u001b[39m::lag()\n"
     ]
    }
   ],
   "source": [
    "library(tidyverse)"
   ]
  },
  {
   "cell_type": "markdown",
   "metadata": {
    "slideshow": {
     "slide_type": "slide"
    }
   },
   "source": [
    "## Vectors\n",
    "\n",
    "In R a vector is a sequence of elements. All elements must be of the same basic type. The elements of a vector are called *components*.\n",
    "\n",
    "### Define vectors\n",
    "Assign single numeric value to a variable:"
   ]
  },
  {
   "cell_type": "code",
   "execution_count": 2,
   "metadata": {
    "ExecuteTime": {
     "end_time": "2017-11-21T13:46:01.449000Z",
     "start_time": "2017-11-21T13:46:01.332Z"
    },
    "slideshow": {
     "slide_type": "fragment"
    }
   },
   "outputs": [
    {
     "data": {
      "text/html": [
       "6"
      ],
      "text/latex": [
       "6"
      ],
      "text/markdown": [
       "6"
      ],
      "text/plain": [
       "[1] 6"
      ]
     },
     "metadata": {},
     "output_type": "display_data"
    },
    {
     "data": {
      "text/html": [
       "'numeric'"
      ],
      "text/latex": [
       "'numeric'"
      ],
      "text/markdown": [
       "'numeric'"
      ],
      "text/plain": [
       "[1] \"numeric\""
      ]
     },
     "metadata": {},
     "output_type": "display_data"
    },
    {
     "name": "stdout",
     "output_type": "stream",
     "text": [
      "[1] 6\n"
     ]
    }
   ],
   "source": [
    "(x <- 6)\n",
    "class(x)\n",
    "print(x)"
   ]
  },
  {
   "cell_type": "markdown",
   "metadata": {
    "slideshow": {
     "slide_type": "subslide"
    }
   },
   "source": [
    "Assign sequence of integers to a variable:"
   ]
  },
  {
   "cell_type": "code",
   "execution_count": 3,
   "metadata": {
    "ExecuteTime": {
     "end_time": "2017-11-21T13:46:01.540000Z",
     "start_time": "2017-11-21T13:46:01.494Z"
    },
    "slideshow": {
     "slide_type": "fragment"
    }
   },
   "outputs": [
    {
     "data": {
      "text/html": [
       "<ol class=list-inline>\n",
       "\t<li>1</li>\n",
       "\t<li>2</li>\n",
       "\t<li>3</li>\n",
       "\t<li>4</li>\n",
       "\t<li>5</li>\n",
       "\t<li>6</li>\n",
       "\t<li>7</li>\n",
       "\t<li>8</li>\n",
       "\t<li>9</li>\n",
       "\t<li>10</li>\n",
       "\t<li>11</li>\n",
       "\t<li>12</li>\n",
       "\t<li>13</li>\n",
       "</ol>\n"
      ],
      "text/latex": [
       "\\begin{enumerate*}\n",
       "\\item 1\n",
       "\\item 2\n",
       "\\item 3\n",
       "\\item 4\n",
       "\\item 5\n",
       "\\item 6\n",
       "\\item 7\n",
       "\\item 8\n",
       "\\item 9\n",
       "\\item 10\n",
       "\\item 11\n",
       "\\item 12\n",
       "\\item 13\n",
       "\\end{enumerate*}\n"
      ],
      "text/markdown": [
       "1. 1\n",
       "2. 2\n",
       "3. 3\n",
       "4. 4\n",
       "5. 5\n",
       "6. 6\n",
       "7. 7\n",
       "8. 8\n",
       "9. 9\n",
       "10. 10\n",
       "11. 11\n",
       "12. 12\n",
       "13. 13\n",
       "\n",
       "\n"
      ],
      "text/plain": [
       " [1]  1  2  3  4  5  6  7  8  9 10 11 12 13"
      ]
     },
     "metadata": {},
     "output_type": "display_data"
    },
    {
     "data": {
      "text/html": [
       "'integer'"
      ],
      "text/latex": [
       "'integer'"
      ],
      "text/markdown": [
       "'integer'"
      ],
      "text/plain": [
       "[1] \"integer\""
      ]
     },
     "metadata": {},
     "output_type": "display_data"
    }
   ],
   "source": [
    "(x <- 1:13)\n",
    "class(x)"
   ]
  },
  {
   "cell_type": "markdown",
   "metadata": {
    "slideshow": {
     "slide_type": "subslide"
    }
   },
   "source": [
    "Assign all-zero vector of defined length and type:"
   ]
  },
  {
   "cell_type": "code",
   "execution_count": 4,
   "metadata": {
    "ExecuteTime": {
     "end_time": "2017-11-21T13:46:01.723000Z",
     "start_time": "2017-11-21T13:46:01.664Z"
    },
    "slideshow": {
     "slide_type": "fragment"
    }
   },
   "outputs": [
    {
     "data": {
      "text/html": [
       "<ol class=list-inline>\n",
       "\t<li>0</li>\n",
       "\t<li>0</li>\n",
       "\t<li>0</li>\n",
       "\t<li>0</li>\n",
       "\t<li>0</li>\n",
       "</ol>\n"
      ],
      "text/latex": [
       "\\begin{enumerate*}\n",
       "\\item 0\n",
       "\\item 0\n",
       "\\item 0\n",
       "\\item 0\n",
       "\\item 0\n",
       "\\end{enumerate*}\n"
      ],
      "text/markdown": [
       "1. 0\n",
       "2. 0\n",
       "3. 0\n",
       "4. 0\n",
       "5. 0\n",
       "\n",
       "\n"
      ],
      "text/plain": [
       "[1] 0 0 0 0 0"
      ]
     },
     "metadata": {},
     "output_type": "display_data"
    },
    {
     "data": {
      "text/html": [
       "'integer'"
      ],
      "text/latex": [
       "'integer'"
      ],
      "text/markdown": [
       "'integer'"
      ],
      "text/plain": [
       "[1] \"integer\""
      ]
     },
     "metadata": {},
     "output_type": "display_data"
    },
    {
     "data": {
      "text/html": [
       "<ol class=list-inline>\n",
       "\t<li>0</li>\n",
       "\t<li>0</li>\n",
       "\t<li>0</li>\n",
       "\t<li>0</li>\n",
       "\t<li>0</li>\n",
       "</ol>\n"
      ],
      "text/latex": [
       "\\begin{enumerate*}\n",
       "\\item 0\n",
       "\\item 0\n",
       "\\item 0\n",
       "\\item 0\n",
       "\\item 0\n",
       "\\end{enumerate*}\n"
      ],
      "text/markdown": [
       "1. 0\n",
       "2. 0\n",
       "3. 0\n",
       "4. 0\n",
       "5. 0\n",
       "\n",
       "\n"
      ],
      "text/plain": [
       "[1] 0 0 0 0 0"
      ]
     },
     "metadata": {},
     "output_type": "display_data"
    },
    {
     "data": {
      "text/html": [
       "'numeric'"
      ],
      "text/latex": [
       "'numeric'"
      ],
      "text/markdown": [
       "'numeric'"
      ],
      "text/plain": [
       "[1] \"numeric\""
      ]
     },
     "metadata": {},
     "output_type": "display_data"
    }
   ],
   "source": [
    "(x <- integer(5))\n",
    "class(x)\n",
    " \n",
    "(x <- numeric(5))\n",
    "class(x)"
   ]
  },
  {
   "cell_type": "markdown",
   "metadata": {
    "slideshow": {
     "slide_type": "subslide"
    }
   },
   "source": [
    "Assign regular numeric sequence with [`seq()`](https://www.rdocumentation.org/packages/base/versions/3.6.1/topics/seq). Some arguments are\n",
    "\n",
    "* 'from'\n",
    "* 'to'\n",
    "* 'by' defines the increment (default).\n",
    "* 'length' defines the number of elements."
   ]
  },
  {
   "cell_type": "code",
   "execution_count": 5,
   "metadata": {
    "ExecuteTime": {
     "end_time": "2017-11-21T13:46:01.828000Z",
     "start_time": "2017-11-21T13:46:01.785Z"
    },
    "slideshow": {
     "slide_type": "fragment"
    }
   },
   "outputs": [
    {
     "data": {
      "text/html": [
       "<ol class=list-inline>\n",
       "\t<li>1</li>\n",
       "\t<li>5</li>\n",
       "\t<li>9</li>\n",
       "\t<li>13</li>\n",
       "\t<li>17</li>\n",
       "\t<li>21</li>\n",
       "\t<li>25</li>\n",
       "\t<li>29</li>\n",
       "</ol>\n"
      ],
      "text/latex": [
       "\\begin{enumerate*}\n",
       "\\item 1\n",
       "\\item 5\n",
       "\\item 9\n",
       "\\item 13\n",
       "\\item 17\n",
       "\\item 21\n",
       "\\item 25\n",
       "\\item 29\n",
       "\\end{enumerate*}\n"
      ],
      "text/markdown": [
       "1. 1\n",
       "2. 5\n",
       "3. 9\n",
       "4. 13\n",
       "5. 17\n",
       "6. 21\n",
       "7. 25\n",
       "8. 29\n",
       "\n",
       "\n"
      ],
      "text/plain": [
       "[1]  1  5  9 13 17 21 25 29"
      ]
     },
     "metadata": {},
     "output_type": "display_data"
    },
    {
     "data": {
      "text/html": [
       "<ol class=list-inline>\n",
       "\t<li>1</li>\n",
       "\t<li>3.9</li>\n",
       "\t<li>6.8</li>\n",
       "\t<li>9.7</li>\n",
       "\t<li>12.6</li>\n",
       "\t<li>15.5</li>\n",
       "\t<li>18.4</li>\n",
       "\t<li>21.3</li>\n",
       "\t<li>24.2</li>\n",
       "\t<li>27.1</li>\n",
       "\t<li>30</li>\n",
       "</ol>\n"
      ],
      "text/latex": [
       "\\begin{enumerate*}\n",
       "\\item 1\n",
       "\\item 3.9\n",
       "\\item 6.8\n",
       "\\item 9.7\n",
       "\\item 12.6\n",
       "\\item 15.5\n",
       "\\item 18.4\n",
       "\\item 21.3\n",
       "\\item 24.2\n",
       "\\item 27.1\n",
       "\\item 30\n",
       "\\end{enumerate*}\n"
      ],
      "text/markdown": [
       "1. 1\n",
       "2. 3.9\n",
       "3. 6.8\n",
       "4. 9.7\n",
       "5. 12.6\n",
       "6. 15.5\n",
       "7. 18.4\n",
       "8. 21.3\n",
       "9. 24.2\n",
       "10. 27.1\n",
       "11. 30\n",
       "\n",
       "\n"
      ],
      "text/plain": [
       " [1]  1.0  3.9  6.8  9.7 12.6 15.5 18.4 21.3 24.2 27.1 30.0"
      ]
     },
     "metadata": {},
     "output_type": "display_data"
    },
    {
     "data": {
      "text/html": [
       "'numeric'"
      ],
      "text/latex": [
       "'numeric'"
      ],
      "text/markdown": [
       "'numeric'"
      ],
      "text/plain": [
       "[1] \"numeric\""
      ]
     },
     "metadata": {},
     "output_type": "display_data"
    }
   ],
   "source": [
    "(x <- seq(from=1, to=30, by=4)) #or x <- seq(1, 30, 4)\n",
    "(x <- seq(from=1, to=30, length=11))\n",
    "class(x)\n"
   ]
  },
  {
   "cell_type": "markdown",
   "metadata": {
    "slideshow": {
     "slide_type": "subslide"
    }
   },
   "source": [
    "Generate vectors with repeated values and sequences with [`rep()`](https://www.rdocumentation.org/packages/base/versions/3.6.1/topics/rep). Some arguments are\n",
    "\n",
    "* 'x' list of values.\n",
    "* 'each' defines the time to repeat each element of x. \n",
    "* 'times' defines times to repeat the sequence of x (default)."
   ]
  },
  {
   "cell_type": "code",
   "execution_count": 6,
   "metadata": {
    "ExecuteTime": {
     "end_time": "2017-11-21T13:46:01.952000Z",
     "start_time": "2017-11-21T13:46:01.900Z"
    },
    "slideshow": {
     "slide_type": "fragment"
    }
   },
   "outputs": [
    {
     "data": {
      "text/html": [
       "<ol class=list-inline>\n",
       "\t<li>3</li>\n",
       "\t<li>3</li>\n",
       "\t<li>3</li>\n",
       "\t<li>3</li>\n",
       "\t<li>3</li>\n",
       "</ol>\n"
      ],
      "text/latex": [
       "\\begin{enumerate*}\n",
       "\\item 3\n",
       "\\item 3\n",
       "\\item 3\n",
       "\\item 3\n",
       "\\item 3\n",
       "\\end{enumerate*}\n"
      ],
      "text/markdown": [
       "1. 3\n",
       "2. 3\n",
       "3. 3\n",
       "4. 3\n",
       "5. 3\n",
       "\n",
       "\n"
      ],
      "text/plain": [
       "[1] 3 3 3 3 3"
      ]
     },
     "metadata": {},
     "output_type": "display_data"
    },
    {
     "data": {
      "text/html": [
       "<ol class=list-inline>\n",
       "\t<li>1</li>\n",
       "\t<li>1</li>\n",
       "\t<li>1</li>\n",
       "\t<li>1</li>\n",
       "\t<li>1</li>\n",
       "\t<li>2</li>\n",
       "\t<li>2</li>\n",
       "\t<li>2</li>\n",
       "\t<li>2</li>\n",
       "\t<li>2</li>\n",
       "</ol>\n"
      ],
      "text/latex": [
       "\\begin{enumerate*}\n",
       "\\item 1\n",
       "\\item 1\n",
       "\\item 1\n",
       "\\item 1\n",
       "\\item 1\n",
       "\\item 2\n",
       "\\item 2\n",
       "\\item 2\n",
       "\\item 2\n",
       "\\item 2\n",
       "\\end{enumerate*}\n"
      ],
      "text/markdown": [
       "1. 1\n",
       "2. 1\n",
       "3. 1\n",
       "4. 1\n",
       "5. 1\n",
       "6. 2\n",
       "7. 2\n",
       "8. 2\n",
       "9. 2\n",
       "10. 2\n",
       "\n",
       "\n"
      ],
      "text/plain": [
       " [1] 1 1 1 1 1 2 2 2 2 2"
      ]
     },
     "metadata": {},
     "output_type": "display_data"
    },
    {
     "data": {
      "text/html": [
       "<ol class=list-inline>\n",
       "\t<li>1</li>\n",
       "\t<li>2</li>\n",
       "\t<li>1</li>\n",
       "\t<li>2</li>\n",
       "\t<li>1</li>\n",
       "\t<li>2</li>\n",
       "\t<li>1</li>\n",
       "\t<li>2</li>\n",
       "\t<li>1</li>\n",
       "\t<li>2</li>\n",
       "</ol>\n"
      ],
      "text/latex": [
       "\\begin{enumerate*}\n",
       "\\item 1\n",
       "\\item 2\n",
       "\\item 1\n",
       "\\item 2\n",
       "\\item 1\n",
       "\\item 2\n",
       "\\item 1\n",
       "\\item 2\n",
       "\\item 1\n",
       "\\item 2\n",
       "\\end{enumerate*}\n"
      ],
      "text/markdown": [
       "1. 1\n",
       "2. 2\n",
       "3. 1\n",
       "4. 2\n",
       "5. 1\n",
       "6. 2\n",
       "7. 1\n",
       "8. 2\n",
       "9. 1\n",
       "10. 2\n",
       "\n",
       "\n"
      ],
      "text/plain": [
       " [1] 1 2 1 2 1 2 1 2 1 2"
      ]
     },
     "metadata": {},
     "output_type": "display_data"
    }
   ],
   "source": [
    "(x <- rep(x=3, times=5))  #or only x <- rep(3, 5)\n",
    "(x <- rep(x=1:2, each=5))\n",
    "(x <- rep(x=1:2, times=5))"
   ]
  },
  {
   "cell_type": "markdown",
   "metadata": {
    "slideshow": {
     "slide_type": "subslide"
    }
   },
   "source": [
    "Generate arbitrary vector with [`c()`](https://www.rdocumentation.org/packages/base/versions/3.6.1/topics/c)"
   ]
  },
  {
   "cell_type": "code",
   "execution_count": 7,
   "metadata": {
    "ExecuteTime": {
     "end_time": "2017-11-21T13:46:02.111000Z",
     "start_time": "2017-11-21T13:46:02.050Z"
    },
    "slideshow": {
     "slide_type": "fragment"
    }
   },
   "outputs": [
    {
     "data": {
      "text/html": [
       "<ol class=list-inline>\n",
       "\t<li>100</li>\n",
       "\t<li>200</li>\n",
       "\t<li>50</li>\n",
       "\t<li>-10</li>\n",
       "</ol>\n"
      ],
      "text/latex": [
       "\\begin{enumerate*}\n",
       "\\item 100\n",
       "\\item 200\n",
       "\\item 50\n",
       "\\item -10\n",
       "\\end{enumerate*}\n"
      ],
      "text/markdown": [
       "1. 100\n",
       "2. 200\n",
       "3. 50\n",
       "4. -10\n",
       "\n",
       "\n"
      ],
      "text/plain": [
       "[1] 100 200  50 -10"
      ]
     },
     "metadata": {},
     "output_type": "display_data"
    },
    {
     "data": {
      "text/html": [
       "'numeric'"
      ],
      "text/latex": [
       "'numeric'"
      ],
      "text/markdown": [
       "'numeric'"
      ],
      "text/plain": [
       "[1] \"numeric\""
      ]
     },
     "metadata": {},
     "output_type": "display_data"
    }
   ],
   "source": [
    "y <- c(100, 200, 50, -10)\n",
    "y\n",
    "class(y)"
   ]
  },
  {
   "cell_type": "code",
   "execution_count": 8,
   "metadata": {
    "ExecuteTime": {
     "end_time": "2017-11-21T13:46:02.163000Z",
     "start_time": "2017-11-21T13:46:02.061Z"
    },
    "slideshow": {
     "slide_type": "fragment"
    }
   },
   "outputs": [
    {
     "data": {
      "text/html": [
       "'character'"
      ],
      "text/latex": [
       "'character'"
      ],
      "text/markdown": [
       "'character'"
      ],
      "text/plain": [
       "[1] \"character\""
      ]
     },
     "metadata": {},
     "output_type": "display_data"
    }
   ],
   "source": [
    "z <- c(\"last\", \"in\", \"first\", \"out\")\n",
    "class(z)"
   ]
  },
  {
   "cell_type": "markdown",
   "metadata": {
    "slideshow": {
     "slide_type": "subslide"
    }
   },
   "source": [
    "The first component of a vector is at index 1, the second at index 2 and so on. However, instead of using this standard integer-index, it is possible to define index-names explicitly. This is shown in the following code snippet:"
   ]
  },
  {
   "cell_type": "code",
   "execution_count": 9,
   "metadata": {
    "ExecuteTime": {
     "end_time": "2017-11-21T13:46:02.271000Z",
     "start_time": "2017-11-21T13:46:02.224Z"
    },
    "slideshow": {
     "slide_type": "fragment"
    }
   },
   "outputs": [
    {
     "data": {
      "text/html": [
       "<dl class=dl-horizontal>\n",
       "\t<dt>age</dt>\n",
       "\t\t<dd>37</dd>\n",
       "\t<dt>income</dt>\n",
       "\t\t<dd>61000</dd>\n",
       "\t<dt>capital</dt>\n",
       "\t\t<dd>250000</dd>\n",
       "\t<dt>credit</dt>\n",
       "\t\t<dd>70000</dd>\n",
       "</dl>\n"
      ],
      "text/latex": [
       "\\begin{description*}\n",
       "\\item[age] 37\n",
       "\\item[income] 61000\n",
       "\\item[capital] 250000\n",
       "\\item[credit] 70000\n",
       "\\end{description*}\n"
      ],
      "text/markdown": [
       "age\n",
       ":   37income\n",
       ":   61000capital\n",
       ":   250000credit\n",
       ":   70000\n",
       "\n"
      ],
      "text/plain": [
       "    age  income capital  credit \n",
       "     37   61000  250000   70000 "
      ]
     },
     "metadata": {},
     "output_type": "display_data"
    }
   ],
   "source": [
    "customer <- c(37, 61000, 250000, 70000)\n",
    "\n",
    "featureNames <- c(\"age\", \"income\", \"capital\", \"credit\")\n",
    "names(customer) <- featureNames\n",
    "\n",
    "customer"
   ]
  },
  {
   "cell_type": "markdown",
   "metadata": {
    "slideshow": {
     "slide_type": "slide"
    }
   },
   "source": [
    "### Access vector components"
   ]
  },
  {
   "cell_type": "markdown",
   "metadata": {
    "slideshow": {
     "slide_type": "fragment"
    }
   },
   "source": [
    "Filter by index:"
   ]
  },
  {
   "cell_type": "code",
   "execution_count": 10,
   "metadata": {
    "ExecuteTime": {
     "end_time": "2017-11-21T13:46:02.520000Z",
     "start_time": "2017-11-21T13:46:02.486Z"
    },
    "slideshow": {
     "slide_type": "fragment"
    }
   },
   "outputs": [
    {
     "data": {
      "text/html": [
       "'last'"
      ],
      "text/latex": [
       "'last'"
      ],
      "text/markdown": [
       "'last'"
      ],
      "text/plain": [
       "[1] \"last\""
      ]
     },
     "metadata": {},
     "output_type": "display_data"
    }
   ],
   "source": [
    "z[1]"
   ]
  },
  {
   "cell_type": "markdown",
   "metadata": {
    "slideshow": {
     "slide_type": "fragment"
    }
   },
   "source": [
    "Get all elements except those specified in a negative index:"
   ]
  },
  {
   "cell_type": "code",
   "execution_count": 11,
   "metadata": {
    "ExecuteTime": {
     "end_time": "2017-11-21T13:46:02.653000Z",
     "start_time": "2017-11-21T13:46:02.608Z"
    },
    "slideshow": {
     "slide_type": "fragment"
    }
   },
   "outputs": [
    {
     "data": {
      "text/html": [
       "<ol class=list-inline>\n",
       "\t<li>'in'</li>\n",
       "\t<li>'first'</li>\n",
       "\t<li>'out'</li>\n",
       "</ol>\n"
      ],
      "text/latex": [
       "\\begin{enumerate*}\n",
       "\\item 'in'\n",
       "\\item 'first'\n",
       "\\item 'out'\n",
       "\\end{enumerate*}\n"
      ],
      "text/markdown": [
       "1. 'in'\n",
       "2. 'first'\n",
       "3. 'out'\n",
       "\n",
       "\n"
      ],
      "text/plain": [
       "[1] \"in\"    \"first\" \"out\"  "
      ]
     },
     "metadata": {},
     "output_type": "display_data"
    },
    {
     "data": {
      "text/html": [
       "<ol class=list-inline>\n",
       "\t<li>'last'</li>\n",
       "\t<li>'in'</li>\n",
       "\t<li>'out'</li>\n",
       "</ol>\n"
      ],
      "text/latex": [
       "\\begin{enumerate*}\n",
       "\\item 'last'\n",
       "\\item 'in'\n",
       "\\item 'out'\n",
       "\\end{enumerate*}\n"
      ],
      "text/markdown": [
       "1. 'last'\n",
       "2. 'in'\n",
       "3. 'out'\n",
       "\n",
       "\n"
      ],
      "text/plain": [
       "[1] \"last\" \"in\"   \"out\" "
      ]
     },
     "metadata": {},
     "output_type": "display_data"
    }
   ],
   "source": [
    "z[-1]\n",
    "z[-3]"
   ]
  },
  {
   "cell_type": "code",
   "execution_count": 12,
   "metadata": {
    "ExecuteTime": {
     "end_time": "2017-11-21T13:46:02.696000Z",
     "start_time": "2017-11-21T13:46:02.621Z"
    },
    "slideshow": {
     "slide_type": "fragment"
    }
   },
   "outputs": [
    {
     "name": "stdout",
     "output_type": "stream",
     "text": [
      "[1] \"last\" \"in\"   \"out\" \n"
     ]
    }
   ],
   "source": [
    "print(z[-3])"
   ]
  },
  {
   "cell_type": "markdown",
   "metadata": {
    "slideshow": {
     "slide_type": "subslide"
    }
   },
   "source": [
    "Get type of vector components:"
   ]
  },
  {
   "cell_type": "code",
   "execution_count": 13,
   "metadata": {
    "ExecuteTime": {
     "end_time": "2017-11-21T13:46:02.793000Z",
     "start_time": "2017-11-21T13:46:02.748Z"
    },
    "slideshow": {
     "slide_type": "fragment"
    }
   },
   "outputs": [
    {
     "name": "stdout",
     "output_type": "stream",
     "text": [
      "character(0)\n"
     ]
    },
    {
     "data": {
      "text/html": [
       "'character'"
      ],
      "text/latex": [
       "'character'"
      ],
      "text/markdown": [
       "'character'"
      ],
      "text/plain": [
       "[1] \"character\""
      ]
     },
     "metadata": {},
     "output_type": "display_data"
    }
   ],
   "source": [
    "print(z[0])\n",
    "class(z)"
   ]
  },
  {
   "cell_type": "markdown",
   "metadata": {
    "slideshow": {
     "slide_type": "subslide"
    }
   },
   "source": [
    "Filter by explicit index name:"
   ]
  },
  {
   "cell_type": "code",
   "execution_count": 14,
   "metadata": {
    "ExecuteTime": {
     "end_time": "2017-11-21T13:46:02.909000Z",
     "start_time": "2017-11-21T13:46:02.872Z"
    },
    "slideshow": {
     "slide_type": "fragment"
    }
   },
   "outputs": [
    {
     "data": {
      "text/html": [
       "<strong>age:</strong> 37"
      ],
      "text/latex": [
       "\\textbf{age:} 37"
      ],
      "text/markdown": [
       "**age:** 37"
      ],
      "text/plain": [
       "age \n",
       " 37 "
      ]
     },
     "metadata": {},
     "output_type": "display_data"
    }
   ],
   "source": [
    "customer[\"age\"]"
   ]
  },
  {
   "cell_type": "markdown",
   "metadata": {
    "slideshow": {
     "slide_type": "subslide"
    }
   },
   "source": [
    "Filter by set of indices:"
   ]
  },
  {
   "cell_type": "code",
   "execution_count": 15,
   "metadata": {
    "ExecuteTime": {
     "end_time": "2017-11-21T13:46:03.034000Z",
     "start_time": "2017-11-21T13:46:02.994Z"
    },
    "slideshow": {
     "slide_type": "fragment"
    }
   },
   "outputs": [
    {
     "data": {
      "text/html": [
       "<dl class=dl-horizontal>\n",
       "\t<dt>income</dt>\n",
       "\t\t<dd>61000</dd>\n",
       "\t<dt>capital</dt>\n",
       "\t\t<dd>250000</dd>\n",
       "</dl>\n"
      ],
      "text/latex": [
       "\\begin{description*}\n",
       "\\item[income] 61000\n",
       "\\item[capital] 250000\n",
       "\\end{description*}\n"
      ],
      "text/markdown": [
       "income\n",
       ":   61000capital\n",
       ":   250000\n",
       "\n"
      ],
      "text/plain": [
       " income capital \n",
       "  61000  250000 "
      ]
     },
     "metadata": {},
     "output_type": "display_data"
    }
   ],
   "source": [
    "customer[2:3]\n"
   ]
  },
  {
   "cell_type": "code",
   "execution_count": 16,
   "metadata": {
    "ExecuteTime": {
     "end_time": "2017-11-21T13:46:03.073000Z",
     "start_time": "2017-11-21T13:46:03.005Z"
    },
    "slideshow": {
     "slide_type": "fragment"
    }
   },
   "outputs": [
    {
     "data": {
      "text/html": [
       "<dl class=dl-horizontal>\n",
       "\t<dt>age</dt>\n",
       "\t\t<dd>37</dd>\n",
       "\t<dt>credit</dt>\n",
       "\t\t<dd>70000</dd>\n",
       "</dl>\n"
      ],
      "text/latex": [
       "\\begin{description*}\n",
       "\\item[age] 37\n",
       "\\item[credit] 70000\n",
       "\\end{description*}\n"
      ],
      "text/markdown": [
       "age\n",
       ":   37credit\n",
       ":   70000\n",
       "\n"
      ],
      "text/plain": [
       "   age credit \n",
       "    37  70000 "
      ]
     },
     "metadata": {},
     "output_type": "display_data"
    }
   ],
   "source": [
    "customer[c(1, 4)]"
   ]
  },
  {
   "cell_type": "code",
   "execution_count": 17,
   "metadata": {
    "ExecuteTime": {
     "end_time": "2017-11-21T13:46:03.112000Z",
     "start_time": "2017-11-21T13:46:03.013Z"
    },
    "slideshow": {
     "slide_type": "fragment"
    }
   },
   "outputs": [
    {
     "data": {
      "text/html": [
       "<dl class=dl-horizontal>\n",
       "\t<dt>age</dt>\n",
       "\t\t<dd>37</dd>\n",
       "\t<dt>credit</dt>\n",
       "\t\t<dd>70000</dd>\n",
       "</dl>\n"
      ],
      "text/latex": [
       "\\begin{description*}\n",
       "\\item[age] 37\n",
       "\\item[credit] 70000\n",
       "\\end{description*}\n"
      ],
      "text/markdown": [
       "age\n",
       ":   37credit\n",
       ":   70000\n",
       "\n"
      ],
      "text/plain": [
       "   age credit \n",
       "    37  70000 "
      ]
     },
     "metadata": {},
     "output_type": "display_data"
    }
   ],
   "source": [
    "customer[c(\"age\", \"credit\")]\n"
   ]
  },
  {
   "cell_type": "markdown",
   "metadata": {
    "slideshow": {
     "slide_type": "subslide"
    }
   },
   "source": [
    "Filter by mask"
   ]
  },
  {
   "cell_type": "code",
   "execution_count": 18,
   "metadata": {
    "ExecuteTime": {
     "end_time": "2017-11-21T13:46:03.186000Z",
     "start_time": "2017-11-21T13:46:03.146Z"
    },
    "slideshow": {
     "slide_type": "fragment"
    }
   },
   "outputs": [
    {
     "data": {
      "text/html": [
       "<dl class=dl-horizontal>\n",
       "\t<dt>income</dt>\n",
       "\t\t<dd>61000</dd>\n",
       "\t<dt>capital</dt>\n",
       "\t\t<dd>250000</dd>\n",
       "</dl>\n"
      ],
      "text/latex": [
       "\\begin{description*}\n",
       "\\item[income] 61000\n",
       "\\item[capital] 250000\n",
       "\\end{description*}\n"
      ],
      "text/markdown": [
       "income\n",
       ":   61000capital\n",
       ":   250000\n",
       "\n"
      ],
      "text/plain": [
       " income capital \n",
       "  61000  250000 "
      ]
     },
     "metadata": {},
     "output_type": "display_data"
    }
   ],
   "source": [
    "rel <- c(FALSE, TRUE, TRUE, FALSE)\n",
    "customer[rel]"
   ]
  },
  {
   "cell_type": "markdown",
   "metadata": {
    "slideshow": {
     "slide_type": "subslide"
    }
   },
   "source": [
    "Filter by value:"
   ]
  },
  {
   "cell_type": "code",
   "execution_count": 19,
   "metadata": {
    "ExecuteTime": {
     "end_time": "2017-11-21T13:46:03.328000Z",
     "start_time": "2017-11-21T13:46:03.283Z"
    },
    "slideshow": {
     "slide_type": "fragment"
    }
   },
   "outputs": [
    {
     "data": {
      "text/html": [
       "<ol class=list-inline>\n",
       "\t<li>100</li>\n",
       "\t<li>200</li>\n",
       "\t<li>50</li>\n",
       "\t<li>-10</li>\n",
       "</ol>\n"
      ],
      "text/latex": [
       "\\begin{enumerate*}\n",
       "\\item 100\n",
       "\\item 200\n",
       "\\item 50\n",
       "\\item -10\n",
       "\\end{enumerate*}\n"
      ],
      "text/markdown": [
       "1. 100\n",
       "2. 200\n",
       "3. 50\n",
       "4. -10\n",
       "\n",
       "\n"
      ],
      "text/plain": [
       "[1] 100 200  50 -10"
      ]
     },
     "metadata": {},
     "output_type": "display_data"
    },
    {
     "data": {
      "text/html": [
       "<ol class=list-inline>\n",
       "\t<li>50</li>\n",
       "\t<li>-10</li>\n",
       "</ol>\n"
      ],
      "text/latex": [
       "\\begin{enumerate*}\n",
       "\\item 50\n",
       "\\item -10\n",
       "\\end{enumerate*}\n"
      ],
      "text/markdown": [
       "1. 50\n",
       "2. -10\n",
       "\n",
       "\n"
      ],
      "text/plain": [
       "[1]  50 -10"
      ]
     },
     "metadata": {},
     "output_type": "display_data"
    }
   ],
   "source": [
    "y\n",
    "\n",
    "y[y < 100]"
   ]
  },
  {
   "cell_type": "markdown",
   "metadata": {
    "slideshow": {
     "slide_type": "subslide"
    }
   },
   "source": [
    "Elements of different type can be assigned to a vector. However, all different types are mapped to a single type, i.e. after assignment all elements of the vector are of same type. "
   ]
  },
  {
   "cell_type": "code",
   "execution_count": 20,
   "metadata": {
    "ExecuteTime": {
     "end_time": "2017-11-21T13:46:03.475000Z",
     "start_time": "2017-11-21T13:46:03.408Z"
    },
    "slideshow": {
     "slide_type": "fragment"
    }
   },
   "outputs": [
    {
     "data": {
      "text/html": [
       "<ol class=list-inline>\n",
       "\t<li>1</li>\n",
       "\t<li>6</li>\n",
       "\t<li>8</li>\n",
       "\t<li>1</li>\n",
       "</ol>\n"
      ],
      "text/latex": [
       "\\begin{enumerate*}\n",
       "\\item 1\n",
       "\\item 6\n",
       "\\item 8\n",
       "\\item 1\n",
       "\\end{enumerate*}\n"
      ],
      "text/markdown": [
       "1. 1\n",
       "2. 6\n",
       "3. 8\n",
       "4. 1\n",
       "\n",
       "\n"
      ],
      "text/plain": [
       "[1] 1 6 8 1"
      ]
     },
     "metadata": {},
     "output_type": "display_data"
    },
    {
     "data": {
      "text/html": [
       "'numeric'"
      ],
      "text/latex": [
       "'numeric'"
      ],
      "text/markdown": [
       "'numeric'"
      ],
      "text/plain": [
       "[1] \"numeric\""
      ]
     },
     "metadata": {},
     "output_type": "display_data"
    },
    {
     "data": {
      "text/html": [
       "<ol class=list-inline>\n",
       "\t<li>'1'</li>\n",
       "\t<li>'6'</li>\n",
       "\t<li>'8'</li>\n",
       "\t<li>'TRUE'</li>\n",
       "\t<li>'word'</li>\n",
       "</ol>\n"
      ],
      "text/latex": [
       "\\begin{enumerate*}\n",
       "\\item '1'\n",
       "\\item '6'\n",
       "\\item '8'\n",
       "\\item 'TRUE'\n",
       "\\item 'word'\n",
       "\\end{enumerate*}\n"
      ],
      "text/markdown": [
       "1. '1'\n",
       "2. '6'\n",
       "3. '8'\n",
       "4. 'TRUE'\n",
       "5. 'word'\n",
       "\n",
       "\n"
      ],
      "text/plain": [
       "[1] \"1\"    \"6\"    \"8\"    \"TRUE\" \"word\""
      ]
     },
     "metadata": {},
     "output_type": "display_data"
    },
    {
     "data": {
      "text/html": [
       "'character'"
      ],
      "text/latex": [
       "'character'"
      ],
      "text/markdown": [
       "'character'"
      ],
      "text/plain": [
       "[1] \"character\""
      ]
     },
     "metadata": {},
     "output_type": "display_data"
    }
   ],
   "source": [
    "mix <- c(1, 6, 8,TRUE)\n",
    "mix\n",
    "class(mix)\n",
    "\n",
    "mix2 <- c(1, 6 ,8, TRUE, \"word\")\n",
    "mix2\n",
    "class(mix2)"
   ]
  },
  {
   "cell_type": "markdown",
   "metadata": {
    "slideshow": {
     "slide_type": "slide"
    }
   },
   "source": [
    "### Modification of vectors\n",
    "#### Append vectors:\n"
   ]
  },
  {
   "cell_type": "code",
   "execution_count": 21,
   "metadata": {
    "ExecuteTime": {
     "end_time": "2017-11-21T13:46:03.582000Z",
     "start_time": "2017-11-21T13:46:03.539Z"
    },
    "slideshow": {
     "slide_type": "fragment"
    }
   },
   "outputs": [
    {
     "data": {
      "text/html": [
       "<ol class=list-inline>\n",
       "\t<li>1</li>\n",
       "\t<li>6</li>\n",
       "\t<li>8</li>\n",
       "\t<li>1</li>\n",
       "\t<li>99</li>\n",
       "</ol>\n"
      ],
      "text/latex": [
       "\\begin{enumerate*}\n",
       "\\item 1\n",
       "\\item 6\n",
       "\\item 8\n",
       "\\item 1\n",
       "\\item 99\n",
       "\\end{enumerate*}\n"
      ],
      "text/markdown": [
       "1. 1\n",
       "2. 6\n",
       "3. 8\n",
       "4. 1\n",
       "5. 99\n",
       "\n",
       "\n"
      ],
      "text/plain": [
       "[1]  1  6  8  1 99"
      ]
     },
     "metadata": {},
     "output_type": "display_data"
    }
   ],
   "source": [
    "(mix <- c(mix, 99))"
   ]
  },
  {
   "cell_type": "markdown",
   "metadata": {
    "slideshow": {
     "slide_type": "subslide"
    }
   },
   "source": [
    "Alternative way to append vectors:"
   ]
  },
  {
   "cell_type": "code",
   "execution_count": 22,
   "metadata": {
    "ExecuteTime": {
     "end_time": "2017-11-21T13:46:03.705000Z",
     "start_time": "2017-11-21T13:46:03.662Z"
    },
    "scrolled": true,
    "slideshow": {
     "slide_type": "fragment"
    }
   },
   "outputs": [
    {
     "data": {
      "text/html": [
       "<ol class=list-inline>\n",
       "\t<li>1</li>\n",
       "\t<li>6</li>\n",
       "\t<li>8</li>\n",
       "\t<li>1</li>\n",
       "\t<li>99</li>\n",
       "\t<li>999</li>\n",
       "</ol>\n"
      ],
      "text/latex": [
       "\\begin{enumerate*}\n",
       "\\item 1\n",
       "\\item 6\n",
       "\\item 8\n",
       "\\item 1\n",
       "\\item 99\n",
       "\\item 999\n",
       "\\end{enumerate*}\n"
      ],
      "text/markdown": [
       "1. 1\n",
       "2. 6\n",
       "3. 8\n",
       "4. 1\n",
       "5. 99\n",
       "6. 999\n",
       "\n",
       "\n"
      ],
      "text/plain": [
       "[1]   1   6   8   1  99 999"
      ]
     },
     "metadata": {},
     "output_type": "display_data"
    }
   ],
   "source": [
    "mix[length(mix)+1] <- 999\n",
    "mix"
   ]
  },
  {
   "cell_type": "markdown",
   "metadata": {
    "slideshow": {
     "slide_type": "subslide"
    }
   },
   "source": [
    "Append multiple elements:"
   ]
  },
  {
   "cell_type": "code",
   "execution_count": 23,
   "metadata": {
    "ExecuteTime": {
     "end_time": "2017-11-21T13:46:03.837000Z",
     "start_time": "2017-11-21T13:46:03.791Z"
    },
    "slideshow": {
     "slide_type": "fragment"
    }
   },
   "outputs": [
    {
     "data": {
      "text/html": [
       "<ol class=list-inline>\n",
       "\t<li>'1'</li>\n",
       "\t<li>'6'</li>\n",
       "\t<li>'8'</li>\n",
       "\t<li>'1'</li>\n",
       "\t<li>'99'</li>\n",
       "\t<li>'999'</li>\n",
       "\t<li>'1'</li>\n",
       "\t<li>'6'</li>\n",
       "\t<li>'8'</li>\n",
       "\t<li>'TRUE'</li>\n",
       "\t<li>'word'</li>\n",
       "</ol>\n"
      ],
      "text/latex": [
       "\\begin{enumerate*}\n",
       "\\item '1'\n",
       "\\item '6'\n",
       "\\item '8'\n",
       "\\item '1'\n",
       "\\item '99'\n",
       "\\item '999'\n",
       "\\item '1'\n",
       "\\item '6'\n",
       "\\item '8'\n",
       "\\item 'TRUE'\n",
       "\\item 'word'\n",
       "\\end{enumerate*}\n"
      ],
      "text/markdown": [
       "1. '1'\n",
       "2. '6'\n",
       "3. '8'\n",
       "4. '1'\n",
       "5. '99'\n",
       "6. '999'\n",
       "7. '1'\n",
       "8. '6'\n",
       "9. '8'\n",
       "10. 'TRUE'\n",
       "11. 'word'\n",
       "\n",
       "\n"
      ],
      "text/plain": [
       " [1] \"1\"    \"6\"    \"8\"    \"1\"    \"99\"   \"999\"  \"1\"    \"6\"    \"8\"    \"TRUE\"\n",
       "[11] \"word\""
      ]
     },
     "metadata": {},
     "output_type": "display_data"
    }
   ],
   "source": [
    "(mix <- c(mix, mix2))"
   ]
  },
  {
   "cell_type": "markdown",
   "metadata": {
    "slideshow": {
     "slide_type": "fragment"
    }
   },
   "source": [
    ">Note what happened to the type of vector elements"
   ]
  },
  {
   "cell_type": "markdown",
   "metadata": {
    "slideshow": {
     "slide_type": "subslide"
    }
   },
   "source": [
    "#### Insert elements into vectors"
   ]
  },
  {
   "cell_type": "markdown",
   "metadata": {
    "slideshow": {
     "slide_type": "fragment"
    }
   },
   "source": [
    "Create a vector by specifying its first and last element and it's length:"
   ]
  },
  {
   "cell_type": "code",
   "execution_count": 24,
   "metadata": {
    "ExecuteTime": {
     "end_time": "2017-11-21T13:46:04.241000Z",
     "start_time": "2017-11-21T13:46:04.198Z"
    },
    "slideshow": {
     "slide_type": "fragment"
    }
   },
   "outputs": [
    {
     "data": {
      "text/html": [
       "<ol class=list-inline>\n",
       "\t<li>2</li>\n",
       "\t<li>2.1</li>\n",
       "\t<li>2.2</li>\n",
       "\t<li>2.3</li>\n",
       "\t<li>2.4</li>\n",
       "\t<li>2.5</li>\n",
       "\t<li>2.6</li>\n",
       "\t<li>2.7</li>\n",
       "\t<li>2.8</li>\n",
       "\t<li>2.9</li>\n",
       "\t<li>3</li>\n",
       "</ol>\n"
      ],
      "text/latex": [
       "\\begin{enumerate*}\n",
       "\\item 2\n",
       "\\item 2.1\n",
       "\\item 2.2\n",
       "\\item 2.3\n",
       "\\item 2.4\n",
       "\\item 2.5\n",
       "\\item 2.6\n",
       "\\item 2.7\n",
       "\\item 2.8\n",
       "\\item 2.9\n",
       "\\item 3\n",
       "\\end{enumerate*}\n"
      ],
      "text/markdown": [
       "1. 2\n",
       "2. 2.1\n",
       "3. 2.2\n",
       "4. 2.3\n",
       "5. 2.4\n",
       "6. 2.5\n",
       "7. 2.6\n",
       "8. 2.7\n",
       "9. 2.8\n",
       "10. 2.9\n",
       "11. 3\n",
       "\n",
       "\n"
      ],
      "text/plain": [
       " [1] 2.0 2.1 2.2 2.3 2.4 2.5 2.6 2.7 2.8 2.9 3.0"
      ]
     },
     "metadata": {},
     "output_type": "display_data"
    }
   ],
   "source": [
    "(initVec <- seq(2, 3, length=11))"
   ]
  },
  {
   "cell_type": "markdown",
   "metadata": {
    "slideshow": {
     "slide_type": "subslide"
    }
   },
   "source": [
    "Insert with [`append()`](https://www.rdocumentation.org/packages/base/versions/3.6.1/topics/append)"
   ]
  },
  {
   "cell_type": "code",
   "execution_count": 25,
   "metadata": {
    "ExecuteTime": {
     "end_time": "2017-11-21T13:46:04.277000Z",
     "start_time": "2017-11-21T13:46:04.206Z"
    },
    "slideshow": {
     "slide_type": "fragment"
    }
   },
   "outputs": [],
   "source": [
    "insVec1 <- append(initVec, 0, after=2)"
   ]
  },
  {
   "cell_type": "code",
   "execution_count": 26,
   "metadata": {
    "ExecuteTime": {
     "end_time": "2017-11-21T13:46:04.325000Z",
     "start_time": "2017-11-21T13:46:04.217Z"
    },
    "slideshow": {
     "slide_type": "fragment"
    }
   },
   "outputs": [
    {
     "data": {
      "text/html": [
       "<ol class=list-inline>\n",
       "\t<li>2</li>\n",
       "\t<li>2.1</li>\n",
       "\t<li>2.2</li>\n",
       "\t<li>2.3</li>\n",
       "\t<li>2.4</li>\n",
       "\t<li>2.5</li>\n",
       "\t<li>2.6</li>\n",
       "\t<li>2.7</li>\n",
       "\t<li>2.8</li>\n",
       "\t<li>2.9</li>\n",
       "\t<li>3</li>\n",
       "</ol>\n"
      ],
      "text/latex": [
       "\\begin{enumerate*}\n",
       "\\item 2\n",
       "\\item 2.1\n",
       "\\item 2.2\n",
       "\\item 2.3\n",
       "\\item 2.4\n",
       "\\item 2.5\n",
       "\\item 2.6\n",
       "\\item 2.7\n",
       "\\item 2.8\n",
       "\\item 2.9\n",
       "\\item 3\n",
       "\\end{enumerate*}\n"
      ],
      "text/markdown": [
       "1. 2\n",
       "2. 2.1\n",
       "3. 2.2\n",
       "4. 2.3\n",
       "5. 2.4\n",
       "6. 2.5\n",
       "7. 2.6\n",
       "8. 2.7\n",
       "9. 2.8\n",
       "10. 2.9\n",
       "11. 3\n",
       "\n",
       "\n"
      ],
      "text/plain": [
       " [1] 2.0 2.1 2.2 2.3 2.4 2.5 2.6 2.7 2.8 2.9 3.0"
      ]
     },
     "metadata": {},
     "output_type": "display_data"
    },
    {
     "data": {
      "text/html": [
       "<ol class=list-inline>\n",
       "\t<li>2</li>\n",
       "\t<li>2.1</li>\n",
       "\t<li>0</li>\n",
       "\t<li>2.2</li>\n",
       "\t<li>2.3</li>\n",
       "\t<li>2.4</li>\n",
       "\t<li>2.5</li>\n",
       "\t<li>2.6</li>\n",
       "\t<li>2.7</li>\n",
       "\t<li>2.8</li>\n",
       "\t<li>2.9</li>\n",
       "\t<li>3</li>\n",
       "</ol>\n"
      ],
      "text/latex": [
       "\\begin{enumerate*}\n",
       "\\item 2\n",
       "\\item 2.1\n",
       "\\item 0\n",
       "\\item 2.2\n",
       "\\item 2.3\n",
       "\\item 2.4\n",
       "\\item 2.5\n",
       "\\item 2.6\n",
       "\\item 2.7\n",
       "\\item 2.8\n",
       "\\item 2.9\n",
       "\\item 3\n",
       "\\end{enumerate*}\n"
      ],
      "text/markdown": [
       "1. 2\n",
       "2. 2.1\n",
       "3. 0\n",
       "4. 2.2\n",
       "5. 2.3\n",
       "6. 2.4\n",
       "7. 2.5\n",
       "8. 2.6\n",
       "9. 2.7\n",
       "10. 2.8\n",
       "11. 2.9\n",
       "12. 3\n",
       "\n",
       "\n"
      ],
      "text/plain": [
       " [1] 2.0 2.1 0.0 2.2 2.3 2.4 2.5 2.6 2.7 2.8 2.9 3.0"
      ]
     },
     "metadata": {},
     "output_type": "display_data"
    }
   ],
   "source": [
    "initVec\n",
    "insVec1"
   ]
  },
  {
   "cell_type": "code",
   "execution_count": 27,
   "metadata": {
    "ExecuteTime": {
     "end_time": "2017-11-21T13:46:04.365000Z",
     "start_time": "2017-11-21T13:46:04.226Z"
    },
    "slideshow": {
     "slide_type": "fragment"
    }
   },
   "outputs": [
    {
     "data": {
      "text/html": [
       "<ol class=list-inline>\n",
       "\t<li>2</li>\n",
       "\t<li>2.1</li>\n",
       "\t<li>10</li>\n",
       "\t<li>11</li>\n",
       "\t<li>12</li>\n",
       "\t<li>2.2</li>\n",
       "\t<li>2.3</li>\n",
       "\t<li>2.4</li>\n",
       "\t<li>2.5</li>\n",
       "\t<li>2.6</li>\n",
       "\t<li>2.7</li>\n",
       "\t<li>2.8</li>\n",
       "\t<li>2.9</li>\n",
       "\t<li>3</li>\n",
       "</ol>\n"
      ],
      "text/latex": [
       "\\begin{enumerate*}\n",
       "\\item 2\n",
       "\\item 2.1\n",
       "\\item 10\n",
       "\\item 11\n",
       "\\item 12\n",
       "\\item 2.2\n",
       "\\item 2.3\n",
       "\\item 2.4\n",
       "\\item 2.5\n",
       "\\item 2.6\n",
       "\\item 2.7\n",
       "\\item 2.8\n",
       "\\item 2.9\n",
       "\\item 3\n",
       "\\end{enumerate*}\n"
      ],
      "text/markdown": [
       "1. 2\n",
       "2. 2.1\n",
       "3. 10\n",
       "4. 11\n",
       "5. 12\n",
       "6. 2.2\n",
       "7. 2.3\n",
       "8. 2.4\n",
       "9. 2.5\n",
       "10. 2.6\n",
       "11. 2.7\n",
       "12. 2.8\n",
       "13. 2.9\n",
       "14. 3\n",
       "\n",
       "\n"
      ],
      "text/plain": [
       " [1]  2.0  2.1 10.0 11.0 12.0  2.2  2.3  2.4  2.5  2.6  2.7  2.8  2.9  3.0"
      ]
     },
     "metadata": {},
     "output_type": "display_data"
    }
   ],
   "source": [
    "(insVec2 <- append(initVec, 10:12, after=2))"
   ]
  },
  {
   "cell_type": "markdown",
   "metadata": {
    "slideshow": {
     "slide_type": "slide"
    }
   },
   "source": [
    "### Simple operations on vectors"
   ]
  },
  {
   "cell_type": "markdown",
   "metadata": {
    "slideshow": {
     "slide_type": "subslide"
    }
   },
   "source": [
    "#### Arithmetic Operations"
   ]
  },
  {
   "cell_type": "code",
   "execution_count": 28,
   "metadata": {
    "ExecuteTime": {
     "end_time": "2017-11-21T13:46:04.567000Z",
     "start_time": "2017-11-21T13:46:04.513Z"
    },
    "slideshow": {
     "slide_type": "fragment"
    }
   },
   "outputs": [
    {
     "data": {
      "text/html": [
       "<ol class=list-inline>\n",
       "\t<li>3</li>\n",
       "\t<li>9</li>\n",
       "\t<li>18</li>\n",
       "</ol>\n"
      ],
      "text/latex": [
       "\\begin{enumerate*}\n",
       "\\item 3\n",
       "\\item 9\n",
       "\\item 18\n",
       "\\end{enumerate*}\n"
      ],
      "text/markdown": [
       "1. 3\n",
       "2. 9\n",
       "3. 18\n",
       "\n",
       "\n"
      ],
      "text/plain": [
       "[1]  3  9 18"
      ]
     },
     "metadata": {},
     "output_type": "display_data"
    },
    {
     "data": {
      "text/html": [
       "<ol class=list-inline>\n",
       "\t<li>0.333333333333333</li>\n",
       "\t<li>0.666666666666667</li>\n",
       "\t<li>1.66666666666667</li>\n",
       "</ol>\n"
      ],
      "text/latex": [
       "\\begin{enumerate*}\n",
       "\\item 0.333333333333333\n",
       "\\item 0.666666666666667\n",
       "\\item 1.66666666666667\n",
       "\\end{enumerate*}\n"
      ],
      "text/markdown": [
       "1. 0.333333333333333\n",
       "2. 0.666666666666667\n",
       "3. 1.66666666666667\n",
       "\n",
       "\n"
      ],
      "text/plain": [
       "[1] 0.3333333 0.6666667 1.6666667"
      ]
     },
     "metadata": {},
     "output_type": "display_data"
    },
    {
     "data": {
      "text/html": [
       "<ol class=list-inline>\n",
       "\t<li>1</li>\n",
       "\t<li>6</li>\n",
       "\t<li>30</li>\n",
       "</ol>\n"
      ],
      "text/latex": [
       "\\begin{enumerate*}\n",
       "\\item 1\n",
       "\\item 6\n",
       "\\item 30\n",
       "\\end{enumerate*}\n"
      ],
      "text/markdown": [
       "1. 1\n",
       "2. 6\n",
       "3. 30\n",
       "\n",
       "\n"
      ],
      "text/plain": [
       "[1]  1  6 30"
      ]
     },
     "metadata": {},
     "output_type": "display_data"
    }
   ],
   "source": [
    "(a <- c(3, 9, 18))\n",
    "\n",
    "(f <- c(1/3, 2/3, 5/3))\n",
    "(r <- a*f)"
   ]
  },
  {
   "cell_type": "code",
   "execution_count": 29,
   "metadata": {
    "ExecuteTime": {
     "end_time": "2017-11-21T13:46:04.612000Z",
     "start_time": "2017-11-21T13:46:04.522Z"
    },
    "slideshow": {
     "slide_type": "subslide"
    }
   },
   "outputs": [
    {
     "data": {
      "text/html": [
       "<ol class=list-inline>\n",
       "\t<li>4</li>\n",
       "\t<li>15</li>\n",
       "\t<li>48</li>\n",
       "</ol>\n"
      ],
      "text/latex": [
       "\\begin{enumerate*}\n",
       "\\item 4\n",
       "\\item 15\n",
       "\\item 48\n",
       "\\end{enumerate*}\n"
      ],
      "text/markdown": [
       "1. 4\n",
       "2. 15\n",
       "3. 48\n",
       "\n",
       "\n"
      ],
      "text/plain": [
       "[1]  4 15 48"
      ]
     },
     "metadata": {},
     "output_type": "display_data"
    },
    {
     "data": {
      "text/html": [
       "67"
      ],
      "text/latex": [
       "67"
      ],
      "text/markdown": [
       "67"
      ],
      "text/plain": [
       "[1] 67"
      ]
     },
     "metadata": {},
     "output_type": "display_data"
    }
   ],
   "source": [
    "(t <- a+r)\n",
    "sum(t)"
   ]
  },
  {
   "cell_type": "markdown",
   "metadata": {
    "slideshow": {
     "slide_type": "slide"
    }
   },
   "source": [
    "#### Boolean Operations\n"
   ]
  },
  {
   "cell_type": "code",
   "execution_count": 30,
   "metadata": {
    "ExecuteTime": {
     "end_time": "2017-11-21T13:46:04.726000Z",
     "start_time": "2017-11-21T13:46:04.674Z"
    },
    "slideshow": {
     "slide_type": "fragment"
    }
   },
   "outputs": [
    {
     "data": {
      "text/html": [
       "<ol class=list-inline>\n",
       "\t<li>1</li>\n",
       "\t<li>5</li>\n",
       "\t<li>6</li>\n",
       "\t<li>1</li>\n",
       "\t<li>5</li>\n",
       "\t<li>6</li>\n",
       "\t<li>1</li>\n",
       "\t<li>5</li>\n",
       "\t<li>6</li>\n",
       "</ol>\n"
      ],
      "text/latex": [
       "\\begin{enumerate*}\n",
       "\\item 1\n",
       "\\item 5\n",
       "\\item 6\n",
       "\\item 1\n",
       "\\item 5\n",
       "\\item 6\n",
       "\\item 1\n",
       "\\item 5\n",
       "\\item 6\n",
       "\\end{enumerate*}\n"
      ],
      "text/markdown": [
       "1. 1\n",
       "2. 5\n",
       "3. 6\n",
       "4. 1\n",
       "5. 5\n",
       "6. 6\n",
       "7. 1\n",
       "8. 5\n",
       "9. 6\n",
       "\n",
       "\n"
      ],
      "text/plain": [
       "[1] 1 5 6 1 5 6 1 5 6"
      ]
     },
     "metadata": {},
     "output_type": "display_data"
    },
    {
     "data": {
      "text/html": [
       "<ol class=list-inline>\n",
       "\t<li>4</li>\n",
       "\t<li>5</li>\n",
       "\t<li>7</li>\n",
       "\t<li>4</li>\n",
       "\t<li>5</li>\n",
       "\t<li>7</li>\n",
       "\t<li>4</li>\n",
       "\t<li>5</li>\n",
       "\t<li>7</li>\n",
       "</ol>\n"
      ],
      "text/latex": [
       "\\begin{enumerate*}\n",
       "\\item 4\n",
       "\\item 5\n",
       "\\item 7\n",
       "\\item 4\n",
       "\\item 5\n",
       "\\item 7\n",
       "\\item 4\n",
       "\\item 5\n",
       "\\item 7\n",
       "\\end{enumerate*}\n"
      ],
      "text/markdown": [
       "1. 4\n",
       "2. 5\n",
       "3. 7\n",
       "4. 4\n",
       "5. 5\n",
       "6. 7\n",
       "7. 4\n",
       "8. 5\n",
       "9. 7\n",
       "\n",
       "\n"
      ],
      "text/plain": [
       "[1] 4 5 7 4 5 7 4 5 7"
      ]
     },
     "metadata": {},
     "output_type": "display_data"
    },
    {
     "data": {
      "text/html": [
       "<ol class=list-inline>\n",
       "\t<li>6</li>\n",
       "\t<li>7</li>\n",
       "\t<li>8</li>\n",
       "\t<li>9</li>\n",
       "\t<li>10</li>\n",
       "</ol>\n"
      ],
      "text/latex": [
       "\\begin{enumerate*}\n",
       "\\item 6\n",
       "\\item 7\n",
       "\\item 8\n",
       "\\item 9\n",
       "\\item 10\n",
       "\\end{enumerate*}\n"
      ],
      "text/markdown": [
       "1. 6\n",
       "2. 7\n",
       "3. 8\n",
       "4. 9\n",
       "5. 10\n",
       "\n",
       "\n"
      ],
      "text/plain": [
       "[1]  6  7  8  9 10"
      ]
     },
     "metadata": {},
     "output_type": "display_data"
    }
   ],
   "source": [
    "(u <- rep(c(1, 5, 6), 3))\n",
    "(v <- rep(c(4, 5, 7), 3))\n",
    "(w <- 6:10)"
   ]
  },
  {
   "cell_type": "markdown",
   "metadata": {
    "slideshow": {
     "slide_type": "subslide"
    }
   },
   "source": [
    "Compare two vectors componentwise:"
   ]
  },
  {
   "cell_type": "code",
   "execution_count": 31,
   "metadata": {
    "ExecuteTime": {
     "end_time": "2017-11-21T13:46:04.863000Z",
     "start_time": "2017-11-21T13:46:04.826Z"
    },
    "slideshow": {
     "slide_type": "fragment"
    }
   },
   "outputs": [
    {
     "data": {
      "text/html": [
       "<ol class=list-inline>\n",
       "\t<li>FALSE</li>\n",
       "\t<li>TRUE</li>\n",
       "\t<li>FALSE</li>\n",
       "\t<li>FALSE</li>\n",
       "\t<li>TRUE</li>\n",
       "\t<li>FALSE</li>\n",
       "\t<li>FALSE</li>\n",
       "\t<li>TRUE</li>\n",
       "\t<li>FALSE</li>\n",
       "</ol>\n"
      ],
      "text/latex": [
       "\\begin{enumerate*}\n",
       "\\item FALSE\n",
       "\\item TRUE\n",
       "\\item FALSE\n",
       "\\item FALSE\n",
       "\\item TRUE\n",
       "\\item FALSE\n",
       "\\item FALSE\n",
       "\\item TRUE\n",
       "\\item FALSE\n",
       "\\end{enumerate*}\n"
      ],
      "text/markdown": [
       "1. FALSE\n",
       "2. TRUE\n",
       "3. FALSE\n",
       "4. FALSE\n",
       "5. TRUE\n",
       "6. FALSE\n",
       "7. FALSE\n",
       "8. TRUE\n",
       "9. FALSE\n",
       "\n",
       "\n"
      ],
      "text/plain": [
       "[1] FALSE  TRUE FALSE FALSE  TRUE FALSE FALSE  TRUE FALSE"
      ]
     },
     "metadata": {},
     "output_type": "display_data"
    }
   ],
   "source": [
    "u == v"
   ]
  },
  {
   "cell_type": "markdown",
   "metadata": {
    "slideshow": {
     "slide_type": "subslide"
    }
   },
   "source": [
    "Determine the positions, where two vectors have the same components:\n",
    "\n",
    "With [`which()`](https://www.rdocumentation.org/packages/base/versions/3.6.1/topics/which) we can get the indices of a vector or the row numbers of a data frame, depending on the logical condition. "
   ]
  },
  {
   "cell_type": "code",
   "execution_count": 32,
   "metadata": {
    "ExecuteTime": {
     "end_time": "2017-11-21T13:46:05.016000Z",
     "start_time": "2017-11-21T13:46:04.978Z"
    },
    "slideshow": {
     "slide_type": "fragment"
    }
   },
   "outputs": [
    {
     "data": {
      "text/html": [
       "<ol class=list-inline>\n",
       "\t<li>2</li>\n",
       "\t<li>5</li>\n",
       "\t<li>8</li>\n",
       "</ol>\n"
      ],
      "text/latex": [
       "\\begin{enumerate*}\n",
       "\\item 2\n",
       "\\item 5\n",
       "\\item 8\n",
       "\\end{enumerate*}\n"
      ],
      "text/markdown": [
       "1. 2\n",
       "2. 5\n",
       "3. 8\n",
       "\n",
       "\n"
      ],
      "text/plain": [
       "[1] 2 5 8"
      ]
     },
     "metadata": {},
     "output_type": "display_data"
    }
   ],
   "source": [
    "which(u == v)"
   ]
  },
  {
   "cell_type": "markdown",
   "metadata": {
    "slideshow": {
     "slide_type": "subslide"
    }
   },
   "source": [
    "If the vectors have different length:"
   ]
  },
  {
   "cell_type": "code",
   "execution_count": 33,
   "metadata": {
    "ExecuteTime": {
     "end_time": "2017-11-21T13:46:05.167000Z",
     "start_time": "2017-11-21T13:46:05.115Z"
    },
    "slideshow": {
     "slide_type": "fragment"
    }
   },
   "outputs": [
    {
     "data": {
      "text/html": [
       "<ol class=list-inline>\n",
       "\t<li>1</li>\n",
       "\t<li>5</li>\n",
       "\t<li>6</li>\n",
       "\t<li>1</li>\n",
       "\t<li>5</li>\n",
       "\t<li>6</li>\n",
       "\t<li>1</li>\n",
       "\t<li>5</li>\n",
       "\t<li>6</li>\n",
       "</ol>\n"
      ],
      "text/latex": [
       "\\begin{enumerate*}\n",
       "\\item 1\n",
       "\\item 5\n",
       "\\item 6\n",
       "\\item 1\n",
       "\\item 5\n",
       "\\item 6\n",
       "\\item 1\n",
       "\\item 5\n",
       "\\item 6\n",
       "\\end{enumerate*}\n"
      ],
      "text/markdown": [
       "1. 1\n",
       "2. 5\n",
       "3. 6\n",
       "4. 1\n",
       "5. 5\n",
       "6. 6\n",
       "7. 1\n",
       "8. 5\n",
       "9. 6\n",
       "\n",
       "\n"
      ],
      "text/plain": [
       "[1] 1 5 6 1 5 6 1 5 6"
      ]
     },
     "metadata": {},
     "output_type": "display_data"
    },
    {
     "data": {
      "text/html": [
       "<ol class=list-inline>\n",
       "\t<li>6</li>\n",
       "\t<li>7</li>\n",
       "\t<li>8</li>\n",
       "\t<li>9</li>\n",
       "\t<li>10</li>\n",
       "</ol>\n"
      ],
      "text/latex": [
       "\\begin{enumerate*}\n",
       "\\item 6\n",
       "\\item 7\n",
       "\\item 8\n",
       "\\item 9\n",
       "\\item 10\n",
       "\\end{enumerate*}\n"
      ],
      "text/markdown": [
       "1. 6\n",
       "2. 7\n",
       "3. 8\n",
       "4. 9\n",
       "5. 10\n",
       "\n",
       "\n"
      ],
      "text/plain": [
       "[1]  6  7  8  9 10"
      ]
     },
     "metadata": {},
     "output_type": "display_data"
    },
    {
     "name": "stderr",
     "output_type": "stream",
     "text": [
      "Warning message in u == w:\n",
      "\"Länge des längeren Objektes\n",
      " \t ist kein Vielfaches der Länge des kürzeren Objektes\""
     ]
    },
    {
     "data": {
      "text/html": [
       "<ol class=list-inline>\n",
       "\t<li>FALSE</li>\n",
       "\t<li>FALSE</li>\n",
       "\t<li>FALSE</li>\n",
       "\t<li>FALSE</li>\n",
       "\t<li>FALSE</li>\n",
       "\t<li>TRUE</li>\n",
       "\t<li>FALSE</li>\n",
       "\t<li>FALSE</li>\n",
       "\t<li>FALSE</li>\n",
       "</ol>\n"
      ],
      "text/latex": [
       "\\begin{enumerate*}\n",
       "\\item FALSE\n",
       "\\item FALSE\n",
       "\\item FALSE\n",
       "\\item FALSE\n",
       "\\item FALSE\n",
       "\\item TRUE\n",
       "\\item FALSE\n",
       "\\item FALSE\n",
       "\\item FALSE\n",
       "\\end{enumerate*}\n"
      ],
      "text/markdown": [
       "1. FALSE\n",
       "2. FALSE\n",
       "3. FALSE\n",
       "4. FALSE\n",
       "5. FALSE\n",
       "6. TRUE\n",
       "7. FALSE\n",
       "8. FALSE\n",
       "9. FALSE\n",
       "\n",
       "\n"
      ],
      "text/plain": [
       "[1] FALSE FALSE FALSE FALSE FALSE  TRUE FALSE FALSE FALSE"
      ]
     },
     "metadata": {},
     "output_type": "display_data"
    },
    {
     "name": "stderr",
     "output_type": "stream",
     "text": [
      "Warning message in u == w:\n",
      "\"Länge des längeren Objektes\n",
      " \t ist kein Vielfaches der Länge des kürzeren Objektes\""
     ]
    },
    {
     "data": {
      "text/html": [
       "6"
      ],
      "text/latex": [
       "6"
      ],
      "text/markdown": [
       "6"
      ],
      "text/plain": [
       "[1] 6"
      ]
     },
     "metadata": {},
     "output_type": "display_data"
    }
   ],
   "source": [
    "u\n",
    "w\n",
    "\n",
    "(u == w)\n",
    "\n",
    "\n",
    "(which(u == w))"
   ]
  },
  {
   "cell_type": "markdown",
   "metadata": {
    "slideshow": {
     "slide_type": "slide"
    }
   },
   "source": [
    "### Set operations"
   ]
  },
  {
   "cell_type": "code",
   "execution_count": 34,
   "metadata": {
    "ExecuteTime": {
     "end_time": "2017-11-21T13:46:05.315000Z",
     "start_time": "2017-11-21T13:46:05.259Z"
    },
    "scrolled": true,
    "slideshow": {
     "slide_type": "fragment"
    }
   },
   "outputs": [
    {
     "data": {
      "text/html": [
       "<ol class=list-inline>\n",
       "\t<li>1</li>\n",
       "\t<li>4</li>\n",
       "\t<li>7</li>\n",
       "\t<li>10</li>\n",
       "\t<li>13</li>\n",
       "\t<li>16</li>\n",
       "\t<li>19</li>\n",
       "</ol>\n"
      ],
      "text/latex": [
       "\\begin{enumerate*}\n",
       "\\item 1\n",
       "\\item 4\n",
       "\\item 7\n",
       "\\item 10\n",
       "\\item 13\n",
       "\\item 16\n",
       "\\item 19\n",
       "\\end{enumerate*}\n"
      ],
      "text/markdown": [
       "1. 1\n",
       "2. 4\n",
       "3. 7\n",
       "4. 10\n",
       "5. 13\n",
       "6. 16\n",
       "7. 19\n",
       "\n",
       "\n"
      ],
      "text/plain": [
       "[1]  1  4  7 10 13 16 19"
      ]
     },
     "metadata": {},
     "output_type": "display_data"
    },
    {
     "data": {
      "text/html": [
       "<ol class=list-inline>\n",
       "\t<li>1</li>\n",
       "\t<li>2</li>\n",
       "\t<li>3</li>\n",
       "\t<li>4</li>\n",
       "\t<li>5</li>\n",
       "\t<li>6</li>\n",
       "\t<li>7</li>\n",
       "\t<li>8</li>\n",
       "\t<li>9</li>\n",
       "\t<li>10</li>\n",
       "</ol>\n"
      ],
      "text/latex": [
       "\\begin{enumerate*}\n",
       "\\item 1\n",
       "\\item 2\n",
       "\\item 3\n",
       "\\item 4\n",
       "\\item 5\n",
       "\\item 6\n",
       "\\item 7\n",
       "\\item 8\n",
       "\\item 9\n",
       "\\item 10\n",
       "\\end{enumerate*}\n"
      ],
      "text/markdown": [
       "1. 1\n",
       "2. 2\n",
       "3. 3\n",
       "4. 4\n",
       "5. 5\n",
       "6. 6\n",
       "7. 7\n",
       "8. 8\n",
       "9. 9\n",
       "10. 10\n",
       "\n",
       "\n"
      ],
      "text/plain": [
       " [1]  1  2  3  4  5  6  7  8  9 10"
      ]
     },
     "metadata": {},
     "output_type": "display_data"
    },
    {
     "data": {
      "text/html": [
       "<ol class=list-inline>\n",
       "\t<li>1</li>\n",
       "\t<li>4</li>\n",
       "\t<li>7</li>\n",
       "\t<li>10</li>\n",
       "\t<li>13</li>\n",
       "\t<li>16</li>\n",
       "\t<li>19</li>\n",
       "</ol>\n"
      ],
      "text/latex": [
       "\\begin{enumerate*}\n",
       "\\item 1\n",
       "\\item 4\n",
       "\\item 7\n",
       "\\item 10\n",
       "\\item 13\n",
       "\\item 16\n",
       "\\item 19\n",
       "\\end{enumerate*}\n"
      ],
      "text/markdown": [
       "1. 1\n",
       "2. 4\n",
       "3. 7\n",
       "4. 10\n",
       "5. 13\n",
       "6. 16\n",
       "7. 19\n",
       "\n",
       "\n"
      ],
      "text/plain": [
       "[1]  1  4  7 10 13 16 19"
      ]
     },
     "metadata": {},
     "output_type": "display_data"
    },
    {
     "data": {
      "text/html": [
       "<ol class=list-inline>\n",
       "\t<li>1</li>\n",
       "\t<li>5</li>\n",
       "\t<li>8</li>\n",
       "\t<li>1</li>\n",
       "\t<li>5</li>\n",
       "\t<li>8</li>\n",
       "\t<li>1</li>\n",
       "\t<li>5</li>\n",
       "\t<li>8</li>\n",
       "</ol>\n"
      ],
      "text/latex": [
       "\\begin{enumerate*}\n",
       "\\item 1\n",
       "\\item 5\n",
       "\\item 8\n",
       "\\item 1\n",
       "\\item 5\n",
       "\\item 8\n",
       "\\item 1\n",
       "\\item 5\n",
       "\\item 8\n",
       "\\end{enumerate*}\n"
      ],
      "text/markdown": [
       "1. 1\n",
       "2. 5\n",
       "3. 8\n",
       "4. 1\n",
       "5. 5\n",
       "6. 8\n",
       "7. 1\n",
       "8. 5\n",
       "9. 8\n",
       "\n",
       "\n"
      ],
      "text/plain": [
       "[1] 1 5 8 1 5 8 1 5 8"
      ]
     },
     "metadata": {},
     "output_type": "display_data"
    }
   ],
   "source": [
    "(a <- seq(1, 20, 3))\n",
    "(b <- 1:10)\n",
    "a\n",
    "(c <- rep(c(1, 5, 8), 3))"
   ]
  },
  {
   "cell_type": "code",
   "execution_count": 35,
   "metadata": {
    "ExecuteTime": {
     "end_time": "2017-11-21T13:46:05.411000Z",
     "start_time": "2017-11-21T13:46:05.271Z"
    },
    "slideshow": {
     "slide_type": "subslide"
    }
   },
   "outputs": [
    {
     "data": {
      "text/html": [
       "<ol class=list-inline>\n",
       "\t<li>1</li>\n",
       "\t<li>4</li>\n",
       "\t<li>7</li>\n",
       "\t<li>10</li>\n",
       "\t<li>13</li>\n",
       "\t<li>16</li>\n",
       "\t<li>19</li>\n",
       "</ol>\n"
      ],
      "text/latex": [
       "\\begin{enumerate*}\n",
       "\\item 1\n",
       "\\item 4\n",
       "\\item 7\n",
       "\\item 10\n",
       "\\item 13\n",
       "\\item 16\n",
       "\\item 19\n",
       "\\end{enumerate*}\n"
      ],
      "text/markdown": [
       "1. 1\n",
       "2. 4\n",
       "3. 7\n",
       "4. 10\n",
       "5. 13\n",
       "6. 16\n",
       "7. 19\n",
       "\n",
       "\n"
      ],
      "text/plain": [
       "[1]  1  4  7 10 13 16 19"
      ]
     },
     "metadata": {},
     "output_type": "display_data"
    },
    {
     "data": {
      "text/html": [
       "<ol class=list-inline>\n",
       "\t<li>1</li>\n",
       "\t<li>2</li>\n",
       "\t<li>3</li>\n",
       "\t<li>4</li>\n",
       "\t<li>5</li>\n",
       "\t<li>6</li>\n",
       "\t<li>7</li>\n",
       "\t<li>8</li>\n",
       "\t<li>9</li>\n",
       "\t<li>10</li>\n",
       "</ol>\n"
      ],
      "text/latex": [
       "\\begin{enumerate*}\n",
       "\\item 1\n",
       "\\item 2\n",
       "\\item 3\n",
       "\\item 4\n",
       "\\item 5\n",
       "\\item 6\n",
       "\\item 7\n",
       "\\item 8\n",
       "\\item 9\n",
       "\\item 10\n",
       "\\end{enumerate*}\n"
      ],
      "text/markdown": [
       "1. 1\n",
       "2. 2\n",
       "3. 3\n",
       "4. 4\n",
       "5. 5\n",
       "6. 6\n",
       "7. 7\n",
       "8. 8\n",
       "9. 9\n",
       "10. 10\n",
       "\n",
       "\n"
      ],
      "text/plain": [
       " [1]  1  2  3  4  5  6  7  8  9 10"
      ]
     },
     "metadata": {},
     "output_type": "display_data"
    },
    {
     "name": "stdout",
     "output_type": "stream",
     "text": [
      "[1] \"Elements of a, which are contained in b:\"\n"
     ]
    },
    {
     "data": {
      "text/html": [
       "<ol class=list-inline>\n",
       "\t<li>TRUE</li>\n",
       "\t<li>TRUE</li>\n",
       "\t<li>TRUE</li>\n",
       "\t<li>TRUE</li>\n",
       "\t<li>FALSE</li>\n",
       "\t<li>FALSE</li>\n",
       "\t<li>FALSE</li>\n",
       "</ol>\n"
      ],
      "text/latex": [
       "\\begin{enumerate*}\n",
       "\\item TRUE\n",
       "\\item TRUE\n",
       "\\item TRUE\n",
       "\\item TRUE\n",
       "\\item FALSE\n",
       "\\item FALSE\n",
       "\\item FALSE\n",
       "\\end{enumerate*}\n"
      ],
      "text/markdown": [
       "1. TRUE\n",
       "2. TRUE\n",
       "3. TRUE\n",
       "4. TRUE\n",
       "5. FALSE\n",
       "6. FALSE\n",
       "7. FALSE\n",
       "\n",
       "\n"
      ],
      "text/plain": [
       "[1]  TRUE  TRUE  TRUE  TRUE FALSE FALSE FALSE"
      ]
     },
     "metadata": {},
     "output_type": "display_data"
    },
    {
     "name": "stdout",
     "output_type": "stream",
     "text": [
      "[1] \"Elements of b, which are contained in a:\"\n"
     ]
    },
    {
     "data": {
      "text/html": [
       "<ol class=list-inline>\n",
       "\t<li>TRUE</li>\n",
       "\t<li>FALSE</li>\n",
       "\t<li>FALSE</li>\n",
       "\t<li>TRUE</li>\n",
       "\t<li>FALSE</li>\n",
       "\t<li>FALSE</li>\n",
       "\t<li>TRUE</li>\n",
       "\t<li>FALSE</li>\n",
       "\t<li>FALSE</li>\n",
       "\t<li>TRUE</li>\n",
       "</ol>\n"
      ],
      "text/latex": [
       "\\begin{enumerate*}\n",
       "\\item TRUE\n",
       "\\item FALSE\n",
       "\\item FALSE\n",
       "\\item TRUE\n",
       "\\item FALSE\n",
       "\\item FALSE\n",
       "\\item TRUE\n",
       "\\item FALSE\n",
       "\\item FALSE\n",
       "\\item TRUE\n",
       "\\end{enumerate*}\n"
      ],
      "text/markdown": [
       "1. TRUE\n",
       "2. FALSE\n",
       "3. FALSE\n",
       "4. TRUE\n",
       "5. FALSE\n",
       "6. FALSE\n",
       "7. TRUE\n",
       "8. FALSE\n",
       "9. FALSE\n",
       "10. TRUE\n",
       "\n",
       "\n"
      ],
      "text/plain": [
       " [1]  TRUE FALSE FALSE  TRUE FALSE FALSE  TRUE FALSE FALSE  TRUE"
      ]
     },
     "metadata": {},
     "output_type": "display_data"
    }
   ],
   "source": [
    "a\n",
    "b\n",
    "\n",
    "print(\"Elements of a, which are contained in b:\")\n",
    "a %in% b\n",
    "\n",
    "print(\"Elements of b, which are contained in a:\")\n",
    "b %in% a"
   ]
  },
  {
   "cell_type": "code",
   "execution_count": 36,
   "metadata": {
    "ExecuteTime": {
     "end_time": "2017-11-21T13:46:05.499000Z",
     "start_time": "2017-11-21T13:46:05.282Z"
    },
    "slideshow": {
     "slide_type": "subslide"
    }
   },
   "outputs": [
    {
     "name": "stdout",
     "output_type": "stream",
     "text": [
      "[1] \"Unique elements of c:\"\n"
     ]
    },
    {
     "data": {
      "text/html": [
       "<ol class=list-inline>\n",
       "\t<li>1</li>\n",
       "\t<li>5</li>\n",
       "\t<li>8</li>\n",
       "</ol>\n"
      ],
      "text/latex": [
       "\\begin{enumerate*}\n",
       "\\item 1\n",
       "\\item 5\n",
       "\\item 8\n",
       "\\end{enumerate*}\n"
      ],
      "text/markdown": [
       "1. 1\n",
       "2. 5\n",
       "3. 8\n",
       "\n",
       "\n"
      ],
      "text/plain": [
       "[1] 1 5 8"
      ]
     },
     "metadata": {},
     "output_type": "display_data"
    },
    {
     "name": "stdout",
     "output_type": "stream",
     "text": [
      "[1] \"Union of a and b:\"\n"
     ]
    },
    {
     "data": {
      "text/html": [
       "<ol class=list-inline>\n",
       "\t<li>1</li>\n",
       "\t<li>4</li>\n",
       "\t<li>7</li>\n",
       "\t<li>10</li>\n",
       "\t<li>13</li>\n",
       "\t<li>16</li>\n",
       "\t<li>19</li>\n",
       "\t<li>2</li>\n",
       "\t<li>3</li>\n",
       "\t<li>5</li>\n",
       "\t<li>6</li>\n",
       "\t<li>8</li>\n",
       "\t<li>9</li>\n",
       "</ol>\n"
      ],
      "text/latex": [
       "\\begin{enumerate*}\n",
       "\\item 1\n",
       "\\item 4\n",
       "\\item 7\n",
       "\\item 10\n",
       "\\item 13\n",
       "\\item 16\n",
       "\\item 19\n",
       "\\item 2\n",
       "\\item 3\n",
       "\\item 5\n",
       "\\item 6\n",
       "\\item 8\n",
       "\\item 9\n",
       "\\end{enumerate*}\n"
      ],
      "text/markdown": [
       "1. 1\n",
       "2. 4\n",
       "3. 7\n",
       "4. 10\n",
       "5. 13\n",
       "6. 16\n",
       "7. 19\n",
       "8. 2\n",
       "9. 3\n",
       "10. 5\n",
       "11. 6\n",
       "12. 8\n",
       "13. 9\n",
       "\n",
       "\n"
      ],
      "text/plain": [
       " [1]  1  4  7 10 13 16 19  2  3  5  6  8  9"
      ]
     },
     "metadata": {},
     "output_type": "display_data"
    },
    {
     "name": "stdout",
     "output_type": "stream",
     "text": [
      "[1] \"Intersection of a and b:\"\n"
     ]
    },
    {
     "data": {
      "text/html": [
       "<ol class=list-inline>\n",
       "\t<li>1</li>\n",
       "\t<li>4</li>\n",
       "\t<li>7</li>\n",
       "\t<li>10</li>\n",
       "</ol>\n"
      ],
      "text/latex": [
       "\\begin{enumerate*}\n",
       "\\item 1\n",
       "\\item 4\n",
       "\\item 7\n",
       "\\item 10\n",
       "\\end{enumerate*}\n"
      ],
      "text/markdown": [
       "1. 1\n",
       "2. 4\n",
       "3. 7\n",
       "4. 10\n",
       "\n",
       "\n"
      ],
      "text/plain": [
       "[1]  1  4  7 10"
      ]
     },
     "metadata": {},
     "output_type": "display_data"
    },
    {
     "name": "stdout",
     "output_type": "stream",
     "text": [
      "[1] \"Elements, which are in b but not in a:\"\n"
     ]
    },
    {
     "data": {
      "text/html": [
       "<ol class=list-inline>\n",
       "\t<li>2</li>\n",
       "\t<li>3</li>\n",
       "\t<li>5</li>\n",
       "\t<li>6</li>\n",
       "\t<li>8</li>\n",
       "\t<li>9</li>\n",
       "</ol>\n"
      ],
      "text/latex": [
       "\\begin{enumerate*}\n",
       "\\item 2\n",
       "\\item 3\n",
       "\\item 5\n",
       "\\item 6\n",
       "\\item 8\n",
       "\\item 9\n",
       "\\end{enumerate*}\n"
      ],
      "text/markdown": [
       "1. 2\n",
       "2. 3\n",
       "3. 5\n",
       "4. 6\n",
       "5. 8\n",
       "6. 9\n",
       "\n",
       "\n"
      ],
      "text/plain": [
       "[1] 2 3 5 6 8 9"
      ]
     },
     "metadata": {},
     "output_type": "display_data"
    }
   ],
   "source": [
    "# a=1 4 7 10 13 16 19,  b=1 2 3 4 5 6 7 8 9 10,  c=1 5 8 1 5 8 1 5 8 \n",
    "print(\"Unique elements of c:\")\n",
    "unique(c)\n",
    "\n",
    "print(\"Union of a and b:\")\n",
    "union(a, b)\n",
    "\n",
    "print(\"Intersection of a and b:\")\n",
    "intersect(a, b)\n",
    "\n",
    "print(\"Elements, which are in b but not in a:\")\n",
    "setdiff(b, a)"
   ]
  },
  {
   "cell_type": "markdown",
   "metadata": {
    "slideshow": {
     "slide_type": "slide"
    }
   },
   "source": [
    "### Sampling and sorting"
   ]
  },
  {
   "cell_type": "code",
   "execution_count": 37,
   "metadata": {
    "ExecuteTime": {
     "end_time": "2017-11-21T13:46:05.558000Z",
     "start_time": "2017-11-21T13:46:05.464Z"
    },
    "scrolled": true,
    "slideshow": {
     "slide_type": "fragment"
    }
   },
   "outputs": [
    {
     "name": "stdout",
     "output_type": "stream",
     "text": [
      "[1] \"Sample 6 out of 48 without replacement:\"\n"
     ]
    },
    {
     "data": {
      "text/html": [
       "<ol class=list-inline>\n",
       "\t<li>44</li>\n",
       "\t<li>16</li>\n",
       "\t<li>9</li>\n",
       "\t<li>33</li>\n",
       "\t<li>23</li>\n",
       "\t<li>29</li>\n",
       "</ol>\n"
      ],
      "text/latex": [
       "\\begin{enumerate*}\n",
       "\\item 44\n",
       "\\item 16\n",
       "\\item 9\n",
       "\\item 33\n",
       "\\item 23\n",
       "\\item 29\n",
       "\\end{enumerate*}\n"
      ],
      "text/markdown": [
       "1. 44\n",
       "2. 16\n",
       "3. 9\n",
       "4. 33\n",
       "5. 23\n",
       "6. 29\n",
       "\n",
       "\n"
      ],
      "text/plain": [
       "[1] 44 16  9 33 23 29"
      ]
     },
     "metadata": {},
     "output_type": "display_data"
    },
    {
     "name": "stdout",
     "output_type": "stream",
     "text": [
      "[1] \"Sample 6 out of 48 with replacement:\"\n"
     ]
    },
    {
     "data": {
      "text/html": [
       "<ol class=list-inline>\n",
       "\t<li>34</li>\n",
       "\t<li>16</li>\n",
       "\t<li>3</li>\n",
       "\t<li>48</li>\n",
       "\t<li>43</li>\n",
       "\t<li>25</li>\n",
       "</ol>\n"
      ],
      "text/latex": [
       "\\begin{enumerate*}\n",
       "\\item 34\n",
       "\\item 16\n",
       "\\item 3\n",
       "\\item 48\n",
       "\\item 43\n",
       "\\item 25\n",
       "\\end{enumerate*}\n"
      ],
      "text/markdown": [
       "1. 34\n",
       "2. 16\n",
       "3. 3\n",
       "4. 48\n",
       "5. 43\n",
       "6. 25\n",
       "\n",
       "\n"
      ],
      "text/plain": [
       "[1] 34 16  3 48 43 25"
      ]
     },
     "metadata": {},
     "output_type": "display_data"
    }
   ],
   "source": [
    "d <- 1:48\n",
    "\n",
    "set.seed(213)\n",
    "print(\"Sample 6 out of 48 without replacement:\")\n",
    "sample(d, 6)\n",
    "\n",
    "print(\"Sample 6 out of 48 with replacement:\")\n",
    "sample(d, 6, replace=T)  # same as replace=TRUE"
   ]
  },
  {
   "cell_type": "code",
   "execution_count": 38,
   "metadata": {
    "ExecuteTime": {
     "end_time": "2017-11-21T13:46:05.662000Z",
     "start_time": "2017-11-21T13:46:05.479Z"
    },
    "slideshow": {
     "slide_type": "subslide"
    }
   },
   "outputs": [
    {
     "name": "stdout",
     "output_type": "stream",
     "text": [
      "[1] \"Sample 15 out of 48 with replacement:\"\n"
     ]
    },
    {
     "data": {
      "text/html": [
       "<ol class=list-inline>\n",
       "\t<li>13</li>\n",
       "\t<li>21</li>\n",
       "\t<li>18</li>\n",
       "\t<li>48</li>\n",
       "\t<li>39</li>\n",
       "\t<li>41</li>\n",
       "\t<li>14</li>\n",
       "\t<li>48</li>\n",
       "\t<li>10</li>\n",
       "\t<li>46</li>\n",
       "\t<li>21</li>\n",
       "\t<li>32</li>\n",
       "\t<li>11</li>\n",
       "\t<li>37</li>\n",
       "\t<li>35</li>\n",
       "</ol>\n"
      ],
      "text/latex": [
       "\\begin{enumerate*}\n",
       "\\item 13\n",
       "\\item 21\n",
       "\\item 18\n",
       "\\item 48\n",
       "\\item 39\n",
       "\\item 41\n",
       "\\item 14\n",
       "\\item 48\n",
       "\\item 10\n",
       "\\item 46\n",
       "\\item 21\n",
       "\\item 32\n",
       "\\item 11\n",
       "\\item 37\n",
       "\\item 35\n",
       "\\end{enumerate*}\n"
      ],
      "text/markdown": [
       "1. 13\n",
       "2. 21\n",
       "3. 18\n",
       "4. 48\n",
       "5. 39\n",
       "6. 41\n",
       "7. 14\n",
       "8. 48\n",
       "9. 10\n",
       "10. 46\n",
       "11. 21\n",
       "12. 32\n",
       "13. 11\n",
       "14. 37\n",
       "15. 35\n",
       "\n",
       "\n"
      ],
      "text/plain": [
       " [1] 13 21 18 48 39 41 14 48 10 46 21 32 11 37 35"
      ]
     },
     "metadata": {},
     "output_type": "display_data"
    },
    {
     "name": "stdout",
     "output_type": "stream",
     "text": [
      "[1] \"Reverse order of elements:\"\n"
     ]
    },
    {
     "data": {
      "text/html": [
       "<ol class=list-inline>\n",
       "\t<li>35</li>\n",
       "\t<li>37</li>\n",
       "\t<li>11</li>\n",
       "\t<li>32</li>\n",
       "\t<li>21</li>\n",
       "\t<li>46</li>\n",
       "\t<li>10</li>\n",
       "\t<li>48</li>\n",
       "\t<li>14</li>\n",
       "\t<li>41</li>\n",
       "\t<li>39</li>\n",
       "\t<li>48</li>\n",
       "\t<li>18</li>\n",
       "\t<li>21</li>\n",
       "\t<li>13</li>\n",
       "</ol>\n"
      ],
      "text/latex": [
       "\\begin{enumerate*}\n",
       "\\item 35\n",
       "\\item 37\n",
       "\\item 11\n",
       "\\item 32\n",
       "\\item 21\n",
       "\\item 46\n",
       "\\item 10\n",
       "\\item 48\n",
       "\\item 14\n",
       "\\item 41\n",
       "\\item 39\n",
       "\\item 48\n",
       "\\item 18\n",
       "\\item 21\n",
       "\\item 13\n",
       "\\end{enumerate*}\n"
      ],
      "text/markdown": [
       "1. 35\n",
       "2. 37\n",
       "3. 11\n",
       "4. 32\n",
       "5. 21\n",
       "6. 46\n",
       "7. 10\n",
       "8. 48\n",
       "9. 14\n",
       "10. 41\n",
       "11. 39\n",
       "12. 48\n",
       "13. 18\n",
       "14. 21\n",
       "15. 13\n",
       "\n",
       "\n"
      ],
      "text/plain": [
       " [1] 35 37 11 32 21 46 10 48 14 41 39 48 18 21 13"
      ]
     },
     "metadata": {},
     "output_type": "display_data"
    },
    {
     "name": "stdout",
     "output_type": "stream",
     "text": [
      "[1] \"Sort sample in increasing order:\"\n"
     ]
    },
    {
     "data": {
      "text/html": [
       "<ol class=list-inline>\n",
       "\t<li>10</li>\n",
       "\t<li>11</li>\n",
       "\t<li>13</li>\n",
       "\t<li>14</li>\n",
       "\t<li>18</li>\n",
       "\t<li>21</li>\n",
       "\t<li>21</li>\n",
       "\t<li>32</li>\n",
       "\t<li>35</li>\n",
       "\t<li>37</li>\n",
       "\t<li>39</li>\n",
       "\t<li>41</li>\n",
       "\t<li>46</li>\n",
       "\t<li>48</li>\n",
       "\t<li>48</li>\n",
       "</ol>\n"
      ],
      "text/latex": [
       "\\begin{enumerate*}\n",
       "\\item 10\n",
       "\\item 11\n",
       "\\item 13\n",
       "\\item 14\n",
       "\\item 18\n",
       "\\item 21\n",
       "\\item 21\n",
       "\\item 32\n",
       "\\item 35\n",
       "\\item 37\n",
       "\\item 39\n",
       "\\item 41\n",
       "\\item 46\n",
       "\\item 48\n",
       "\\item 48\n",
       "\\end{enumerate*}\n"
      ],
      "text/markdown": [
       "1. 10\n",
       "2. 11\n",
       "3. 13\n",
       "4. 14\n",
       "5. 18\n",
       "6. 21\n",
       "7. 21\n",
       "8. 32\n",
       "9. 35\n",
       "10. 37\n",
       "11. 39\n",
       "12. 41\n",
       "13. 46\n",
       "14. 48\n",
       "15. 48\n",
       "\n",
       "\n"
      ],
      "text/plain": [
       " [1] 10 11 13 14 18 21 21 32 35 37 39 41 46 48 48"
      ]
     },
     "metadata": {},
     "output_type": "display_data"
    },
    {
     "name": "stdout",
     "output_type": "stream",
     "text": [
      "[1] \"Sort sample in decreasing order:\"\n"
     ]
    },
    {
     "data": {
      "text/html": [
       "<ol class=list-inline>\n",
       "\t<li>48</li>\n",
       "\t<li>48</li>\n",
       "\t<li>46</li>\n",
       "\t<li>41</li>\n",
       "\t<li>39</li>\n",
       "\t<li>37</li>\n",
       "\t<li>35</li>\n",
       "\t<li>32</li>\n",
       "\t<li>21</li>\n",
       "\t<li>21</li>\n",
       "\t<li>18</li>\n",
       "\t<li>14</li>\n",
       "\t<li>13</li>\n",
       "\t<li>11</li>\n",
       "\t<li>10</li>\n",
       "</ol>\n"
      ],
      "text/latex": [
       "\\begin{enumerate*}\n",
       "\\item 48\n",
       "\\item 48\n",
       "\\item 46\n",
       "\\item 41\n",
       "\\item 39\n",
       "\\item 37\n",
       "\\item 35\n",
       "\\item 32\n",
       "\\item 21\n",
       "\\item 21\n",
       "\\item 18\n",
       "\\item 14\n",
       "\\item 13\n",
       "\\item 11\n",
       "\\item 10\n",
       "\\end{enumerate*}\n"
      ],
      "text/markdown": [
       "1. 48\n",
       "2. 48\n",
       "3. 46\n",
       "4. 41\n",
       "5. 39\n",
       "6. 37\n",
       "7. 35\n",
       "8. 32\n",
       "9. 21\n",
       "10. 21\n",
       "11. 18\n",
       "12. 14\n",
       "13. 13\n",
       "14. 11\n",
       "15. 10\n",
       "\n",
       "\n"
      ],
      "text/plain": [
       " [1] 48 48 46 41 39 37 35 32 21 21 18 14 13 11 10"
      ]
     },
     "metadata": {},
     "output_type": "display_data"
    },
    {
     "name": "stdout",
     "output_type": "stream",
     "text": [
      "[1] \"Original position of items in increasing order\"\n"
     ]
    },
    {
     "data": {
      "text/html": [
       "<ol class=list-inline>\n",
       "\t<li>9</li>\n",
       "\t<li>13</li>\n",
       "\t<li>1</li>\n",
       "\t<li>7</li>\n",
       "\t<li>3</li>\n",
       "\t<li>2</li>\n",
       "\t<li>11</li>\n",
       "\t<li>12</li>\n",
       "\t<li>15</li>\n",
       "\t<li>14</li>\n",
       "\t<li>5</li>\n",
       "\t<li>6</li>\n",
       "\t<li>10</li>\n",
       "\t<li>4</li>\n",
       "\t<li>8</li>\n",
       "</ol>\n"
      ],
      "text/latex": [
       "\\begin{enumerate*}\n",
       "\\item 9\n",
       "\\item 13\n",
       "\\item 1\n",
       "\\item 7\n",
       "\\item 3\n",
       "\\item 2\n",
       "\\item 11\n",
       "\\item 12\n",
       "\\item 15\n",
       "\\item 14\n",
       "\\item 5\n",
       "\\item 6\n",
       "\\item 10\n",
       "\\item 4\n",
       "\\item 8\n",
       "\\end{enumerate*}\n"
      ],
      "text/markdown": [
       "1. 9\n",
       "2. 13\n",
       "3. 1\n",
       "4. 7\n",
       "5. 3\n",
       "6. 2\n",
       "7. 11\n",
       "8. 12\n",
       "9. 15\n",
       "10. 14\n",
       "11. 5\n",
       "12. 6\n",
       "13. 10\n",
       "14. 4\n",
       "15. 8\n",
       "\n",
       "\n"
      ],
      "text/plain": [
       " [1]  9 13  1  7  3  2 11 12 15 14  5  6 10  4  8"
      ]
     },
     "metadata": {},
     "output_type": "display_data"
    },
    {
     "name": "stdout",
     "output_type": "stream",
     "text": [
      "[1] \"Sort sample via order-function (same result as above):\"\n"
     ]
    },
    {
     "data": {
      "text/html": [
       "<ol class=list-inline>\n",
       "\t<li>10</li>\n",
       "\t<li>11</li>\n",
       "\t<li>13</li>\n",
       "\t<li>14</li>\n",
       "\t<li>18</li>\n",
       "\t<li>21</li>\n",
       "\t<li>21</li>\n",
       "\t<li>32</li>\n",
       "\t<li>35</li>\n",
       "\t<li>37</li>\n",
       "\t<li>39</li>\n",
       "\t<li>41</li>\n",
       "\t<li>46</li>\n",
       "\t<li>48</li>\n",
       "\t<li>48</li>\n",
       "</ol>\n"
      ],
      "text/latex": [
       "\\begin{enumerate*}\n",
       "\\item 10\n",
       "\\item 11\n",
       "\\item 13\n",
       "\\item 14\n",
       "\\item 18\n",
       "\\item 21\n",
       "\\item 21\n",
       "\\item 32\n",
       "\\item 35\n",
       "\\item 37\n",
       "\\item 39\n",
       "\\item 41\n",
       "\\item 46\n",
       "\\item 48\n",
       "\\item 48\n",
       "\\end{enumerate*}\n"
      ],
      "text/markdown": [
       "1. 10\n",
       "2. 11\n",
       "3. 13\n",
       "4. 14\n",
       "5. 18\n",
       "6. 21\n",
       "7. 21\n",
       "8. 32\n",
       "9. 35\n",
       "10. 37\n",
       "11. 39\n",
       "12. 41\n",
       "13. 46\n",
       "14. 48\n",
       "15. 48\n",
       "\n",
       "\n"
      ],
      "text/plain": [
       " [1] 10 11 13 14 18 21 21 32 35 37 39 41 46 48 48"
      ]
     },
     "metadata": {},
     "output_type": "display_data"
    }
   ],
   "source": [
    "s <- sample(d, 15, replace=TRUE)\n",
    "print(\"Sample 15 out of 48 with replacement:\")\n",
    "s\n",
    "\n",
    "print(\"Reverse order of elements:\")\n",
    "rev(s)\n",
    "\n",
    "print(\"Sort sample in increasing order:\")\n",
    "sort(s)\n",
    "\n",
    "print(\"Sort sample in decreasing order:\")\n",
    "sort(s, decreasing=TRUE)\n",
    "\n",
    "print(\"Original position of items in increasing order\")\n",
    "order(s)\n",
    "\n",
    "print(\"Sort sample via order-function (same result as above):\")\n",
    "s[order(s)]\n"
   ]
  },
  {
   "cell_type": "markdown",
   "metadata": {
    "slideshow": {
     "slide_type": "slide"
    }
   },
   "source": [
    "## Matrices\n",
    "In R a matrix is a 2-dimensional collection of elements. All elements must be of the same basic type.\n",
    "\n",
    "### Matrix construction 1\n",
    "First define a vector, which is then passed to the [`matrix(vector, nrow, ncol)`](https://www.rdocumentation.org/packages/base/versions/3.6.1/topics/matrix)-function. The number of rows and columns of the matrix is defined by the arguments `nrow` a nd `ncol` in this function."
   ]
  },
  {
   "cell_type": "code",
   "execution_count": 39,
   "metadata": {
    "ExecuteTime": {
     "end_time": "2017-11-21T13:46:05.712000Z",
     "start_time": "2017-11-21T13:46:05.670Z"
    },
    "slideshow": {
     "slide_type": "subslide"
    }
   },
   "outputs": [
    {
     "name": "stdout",
     "output_type": "stream",
     "text": [
      "Length of vector vec: 20"
     ]
    }
   ],
   "source": [
    "vec <- 20:39\n",
    "cat(\"Length of vector vec:\", length(vec))"
   ]
  },
  {
   "cell_type": "code",
   "execution_count": 40,
   "metadata": {
    "ExecuteTime": {
     "end_time": "2017-11-21T13:46:05.843000Z",
     "start_time": "2017-11-21T13:46:05.679Z"
    },
    "slideshow": {
     "slide_type": "fragment"
    }
   },
   "outputs": [
    {
     "data": {
      "text/html": [
       "<ol class=list-inline>\n",
       "\t<li>20</li>\n",
       "\t<li>21</li>\n",
       "\t<li>22</li>\n",
       "\t<li>23</li>\n",
       "\t<li>24</li>\n",
       "\t<li>25</li>\n",
       "\t<li>26</li>\n",
       "\t<li>27</li>\n",
       "\t<li>28</li>\n",
       "\t<li>29</li>\n",
       "\t<li>30</li>\n",
       "\t<li>31</li>\n",
       "\t<li>32</li>\n",
       "\t<li>33</li>\n",
       "\t<li>34</li>\n",
       "\t<li>35</li>\n",
       "\t<li>36</li>\n",
       "\t<li>37</li>\n",
       "\t<li>38</li>\n",
       "\t<li>39</li>\n",
       "</ol>\n"
      ],
      "text/latex": [
       "\\begin{enumerate*}\n",
       "\\item 20\n",
       "\\item 21\n",
       "\\item 22\n",
       "\\item 23\n",
       "\\item 24\n",
       "\\item 25\n",
       "\\item 26\n",
       "\\item 27\n",
       "\\item 28\n",
       "\\item 29\n",
       "\\item 30\n",
       "\\item 31\n",
       "\\item 32\n",
       "\\item 33\n",
       "\\item 34\n",
       "\\item 35\n",
       "\\item 36\n",
       "\\item 37\n",
       "\\item 38\n",
       "\\item 39\n",
       "\\end{enumerate*}\n"
      ],
      "text/markdown": [
       "1. 20\n",
       "2. 21\n",
       "3. 22\n",
       "4. 23\n",
       "5. 24\n",
       "6. 25\n",
       "7. 26\n",
       "8. 27\n",
       "9. 28\n",
       "10. 29\n",
       "11. 30\n",
       "12. 31\n",
       "13. 32\n",
       "14. 33\n",
       "15. 34\n",
       "16. 35\n",
       "17. 36\n",
       "18. 37\n",
       "19. 38\n",
       "20. 39\n",
       "\n",
       "\n"
      ],
      "text/plain": [
       " [1] 20 21 22 23 24 25 26 27 28 29 30 31 32 33 34 35 36 37 38 39"
      ]
     },
     "metadata": {},
     "output_type": "display_data"
    },
    {
     "data": {
      "text/html": [
       "<table>\n",
       "<caption>A matrix: 4 × 5 of type int</caption>\n",
       "<tbody>\n",
       "\t<tr><td>20</td><td>24</td><td>28</td><td>32</td><td>36</td></tr>\n",
       "\t<tr><td>21</td><td>25</td><td>29</td><td>33</td><td>37</td></tr>\n",
       "\t<tr><td>22</td><td>26</td><td>30</td><td>34</td><td>38</td></tr>\n",
       "\t<tr><td>23</td><td>27</td><td>31</td><td>35</td><td>39</td></tr>\n",
       "</tbody>\n",
       "</table>\n"
      ],
      "text/latex": [
       "A matrix: 4 × 5 of type int\n",
       "\\begin{tabular}{lllll}\n",
       "\t 20 & 24 & 28 & 32 & 36\\\\\n",
       "\t 21 & 25 & 29 & 33 & 37\\\\\n",
       "\t 22 & 26 & 30 & 34 & 38\\\\\n",
       "\t 23 & 27 & 31 & 35 & 39\\\\\n",
       "\\end{tabular}\n"
      ],
      "text/markdown": [
       "\n",
       "A matrix: 4 × 5 of type int\n",
       "\n",
       "| 20 | 24 | 28 | 32 | 36 |\n",
       "| 21 | 25 | 29 | 33 | 37 |\n",
       "| 22 | 26 | 30 | 34 | 38 |\n",
       "| 23 | 27 | 31 | 35 | 39 |\n",
       "\n"
      ],
      "text/plain": [
       "     [,1] [,2] [,3] [,4] [,5]\n",
       "[1,] 20   24   28   32   36  \n",
       "[2,] 21   25   29   33   37  \n",
       "[3,] 22   26   30   34   38  \n",
       "[4,] 23   27   31   35   39  "
      ]
     },
     "metadata": {},
     "output_type": "display_data"
    }
   ],
   "source": [
    "vec\n",
    "(matC <- matrix(vec, nrow=4, ncol=5))"
   ]
  },
  {
   "cell_type": "code",
   "execution_count": 41,
   "metadata": {
    "ExecuteTime": {
     "end_time": "2017-11-21T13:46:05.898000Z",
     "start_time": "2017-11-21T13:46:05.687Z"
    },
    "slideshow": {
     "slide_type": "subslide"
    }
   },
   "outputs": [
    {
     "data": {
      "text/html": [
       "<table>\n",
       "<caption>A matrix: 4 × 5 of type int</caption>\n",
       "<tbody>\n",
       "\t<tr><td>20</td><td>21</td><td>22</td><td>23</td><td>24</td></tr>\n",
       "\t<tr><td>25</td><td>26</td><td>27</td><td>28</td><td>29</td></tr>\n",
       "\t<tr><td>30</td><td>31</td><td>32</td><td>33</td><td>34</td></tr>\n",
       "\t<tr><td>35</td><td>36</td><td>37</td><td>38</td><td>39</td></tr>\n",
       "</tbody>\n",
       "</table>\n"
      ],
      "text/latex": [
       "A matrix: 4 × 5 of type int\n",
       "\\begin{tabular}{lllll}\n",
       "\t 20 & 21 & 22 & 23 & 24\\\\\n",
       "\t 25 & 26 & 27 & 28 & 29\\\\\n",
       "\t 30 & 31 & 32 & 33 & 34\\\\\n",
       "\t 35 & 36 & 37 & 38 & 39\\\\\n",
       "\\end{tabular}\n"
      ],
      "text/markdown": [
       "\n",
       "A matrix: 4 × 5 of type int\n",
       "\n",
       "| 20 | 21 | 22 | 23 | 24 |\n",
       "| 25 | 26 | 27 | 28 | 29 |\n",
       "| 30 | 31 | 32 | 33 | 34 |\n",
       "| 35 | 36 | 37 | 38 | 39 |\n",
       "\n"
      ],
      "text/plain": [
       "     [,1] [,2] [,3] [,4] [,5]\n",
       "[1,] 20   21   22   23   24  \n",
       "[2,] 25   26   27   28   29  \n",
       "[3,] 30   31   32   33   34  \n",
       "[4,] 35   36   37   38   39  "
      ]
     },
     "metadata": {},
     "output_type": "display_data"
    },
    {
     "data": {
      "text/html": [
       "<table>\n",
       "<caption>A matrix: 2 × 5 of type dbl</caption>\n",
       "<tbody>\n",
       "\t<tr><td>1</td><td>2</td><td>3</td><td>4</td><td> 5</td></tr>\n",
       "\t<tr><td>6</td><td>7</td><td>8</td><td>9</td><td>10</td></tr>\n",
       "</tbody>\n",
       "</table>\n"
      ],
      "text/latex": [
       "A matrix: 2 × 5 of type dbl\n",
       "\\begin{tabular}{lllll}\n",
       "\t 1 & 2 & 3 & 4 &  5\\\\\n",
       "\t 6 & 7 & 8 & 9 & 10\\\\\n",
       "\\end{tabular}\n"
      ],
      "text/markdown": [
       "\n",
       "A matrix: 2 × 5 of type dbl\n",
       "\n",
       "| 1 | 2 | 3 | 4 |  5 |\n",
       "| 6 | 7 | 8 | 9 | 10 |\n",
       "\n"
      ],
      "text/plain": [
       "     [,1] [,2] [,3] [,4] [,5]\n",
       "[1,] 1    2    3    4     5  \n",
       "[2,] 6    7    8    9    10  "
      ]
     },
     "metadata": {},
     "output_type": "display_data"
    }
   ],
   "source": [
    "(matR <- matrix(vec, nrow=4, ncol=5, byrow = TRUE))\n",
    "\n",
    "(matOwn <- matrix(c(1, 2, 3, 4, 5,\n",
    "                    6, 7, 8, 9, 10), \n",
    "                  nrow=2, ncol=5, byrow = TRUE))    #It is more explainable"
   ]
  },
  {
   "cell_type": "code",
   "execution_count": 42,
   "metadata": {
    "ExecuteTime": {
     "end_time": "2017-11-21T13:46:05.945000Z",
     "start_time": "2017-11-21T13:46:05.698Z"
    },
    "slideshow": {
     "slide_type": "subslide"
    }
   },
   "outputs": [
    {
     "data": {
      "text/html": [
       "<table>\n",
       "<caption>A matrix: 4 × 10 of type int</caption>\n",
       "<tbody>\n",
       "\t<tr><td>20</td><td>24</td><td>28</td><td>32</td><td>36</td><td>20</td><td>24</td><td>28</td><td>32</td><td>36</td></tr>\n",
       "\t<tr><td>21</td><td>25</td><td>29</td><td>33</td><td>37</td><td>21</td><td>25</td><td>29</td><td>33</td><td>37</td></tr>\n",
       "\t<tr><td>22</td><td>26</td><td>30</td><td>34</td><td>38</td><td>22</td><td>26</td><td>30</td><td>34</td><td>38</td></tr>\n",
       "\t<tr><td>23</td><td>27</td><td>31</td><td>35</td><td>39</td><td>23</td><td>27</td><td>31</td><td>35</td><td>39</td></tr>\n",
       "</tbody>\n",
       "</table>\n"
      ],
      "text/latex": [
       "A matrix: 4 × 10 of type int\n",
       "\\begin{tabular}{llllllllll}\n",
       "\t 20 & 24 & 28 & 32 & 36 & 20 & 24 & 28 & 32 & 36\\\\\n",
       "\t 21 & 25 & 29 & 33 & 37 & 21 & 25 & 29 & 33 & 37\\\\\n",
       "\t 22 & 26 & 30 & 34 & 38 & 22 & 26 & 30 & 34 & 38\\\\\n",
       "\t 23 & 27 & 31 & 35 & 39 & 23 & 27 & 31 & 35 & 39\\\\\n",
       "\\end{tabular}\n"
      ],
      "text/markdown": [
       "\n",
       "A matrix: 4 × 10 of type int\n",
       "\n",
       "| 20 | 24 | 28 | 32 | 36 | 20 | 24 | 28 | 32 | 36 |\n",
       "| 21 | 25 | 29 | 33 | 37 | 21 | 25 | 29 | 33 | 37 |\n",
       "| 22 | 26 | 30 | 34 | 38 | 22 | 26 | 30 | 34 | 38 |\n",
       "| 23 | 27 | 31 | 35 | 39 | 23 | 27 | 31 | 35 | 39 |\n",
       "\n"
      ],
      "text/plain": [
       "     [,1] [,2] [,3] [,4] [,5] [,6] [,7] [,8] [,9] [,10]\n",
       "[1,] 20   24   28   32   36   20   24   28   32   36   \n",
       "[2,] 21   25   29   33   37   21   25   29   33   37   \n",
       "[3,] 22   26   30   34   38   22   26   30   34   38   \n",
       "[4,] 23   27   31   35   39   23   27   31   35   39   "
      ]
     },
     "metadata": {},
     "output_type": "display_data"
    },
    {
     "data": {
      "text/html": [
       "'matrix'"
      ],
      "text/latex": [
       "'matrix'"
      ],
      "text/markdown": [
       "'matrix'"
      ],
      "text/plain": [
       "[1] \"matrix\""
      ]
     },
     "metadata": {},
     "output_type": "display_data"
    }
   ],
   "source": [
    "(matO <- matrix(vec, nrow=4, ncol=10))\n",
    "class(matO)"
   ]
  },
  {
   "cell_type": "code",
   "execution_count": 43,
   "metadata": {
    "ExecuteTime": {
     "end_time": "2017-11-21T13:46:05.990000Z",
     "start_time": "2017-11-21T13:46:05.708Z"
    },
    "slideshow": {
     "slide_type": "subslide"
    }
   },
   "outputs": [
    {
     "name": "stderr",
     "output_type": "stream",
     "text": [
      "Warning message in matrix(vec, nrow = 4, ncol = 3):\n",
      "\"Datenlänge [20] ist kein Teiler oder Vielfaches der Anzahl der Spalten [3]\""
     ]
    },
    {
     "data": {
      "text/html": [
       "<table>\n",
       "<caption>A matrix: 4 × 3 of type int</caption>\n",
       "<tbody>\n",
       "\t<tr><td>20</td><td>24</td><td>28</td></tr>\n",
       "\t<tr><td>21</td><td>25</td><td>29</td></tr>\n",
       "\t<tr><td>22</td><td>26</td><td>30</td></tr>\n",
       "\t<tr><td>23</td><td>27</td><td>31</td></tr>\n",
       "</tbody>\n",
       "</table>\n"
      ],
      "text/latex": [
       "A matrix: 4 × 3 of type int\n",
       "\\begin{tabular}{lll}\n",
       "\t 20 & 24 & 28\\\\\n",
       "\t 21 & 25 & 29\\\\\n",
       "\t 22 & 26 & 30\\\\\n",
       "\t 23 & 27 & 31\\\\\n",
       "\\end{tabular}\n"
      ],
      "text/markdown": [
       "\n",
       "A matrix: 4 × 3 of type int\n",
       "\n",
       "| 20 | 24 | 28 |\n",
       "| 21 | 25 | 29 |\n",
       "| 22 | 26 | 30 |\n",
       "| 23 | 27 | 31 |\n",
       "\n"
      ],
      "text/plain": [
       "     [,1] [,2] [,3]\n",
       "[1,] 20   24   28  \n",
       "[2,] 21   25   29  \n",
       "[3,] 22   26   30  \n",
       "[4,] 23   27   31  "
      ]
     },
     "metadata": {},
     "output_type": "display_data"
    }
   ],
   "source": [
    "matP <- matrix(vec, nrow=4, ncol=3)\n",
    "matP"
   ]
  },
  {
   "cell_type": "markdown",
   "metadata": {
    "slideshow": {
     "slide_type": "slide"
    }
   },
   "source": [
    "### Accessing matrix elements"
   ]
  },
  {
   "cell_type": "code",
   "execution_count": 44,
   "metadata": {
    "ExecuteTime": {
     "end_time": "2017-11-21T13:46:06.080000Z",
     "start_time": "2017-11-21T13:46:05.923Z"
    },
    "slideshow": {
     "slide_type": "subslide"
    }
   },
   "outputs": [
    {
     "data": {
      "text/html": [
       "<table>\n",
       "<caption>A matrix: 4 × 5 of type int</caption>\n",
       "<tbody>\n",
       "\t<tr><td>20</td><td>21</td><td>22</td><td>23</td><td>24</td></tr>\n",
       "\t<tr><td>25</td><td>26</td><td>27</td><td>28</td><td>29</td></tr>\n",
       "\t<tr><td>30</td><td>31</td><td>32</td><td>33</td><td>34</td></tr>\n",
       "\t<tr><td>35</td><td>36</td><td>37</td><td>38</td><td>39</td></tr>\n",
       "</tbody>\n",
       "</table>\n"
      ],
      "text/latex": [
       "A matrix: 4 × 5 of type int\n",
       "\\begin{tabular}{lllll}\n",
       "\t 20 & 21 & 22 & 23 & 24\\\\\n",
       "\t 25 & 26 & 27 & 28 & 29\\\\\n",
       "\t 30 & 31 & 32 & 33 & 34\\\\\n",
       "\t 35 & 36 & 37 & 38 & 39\\\\\n",
       "\\end{tabular}\n"
      ],
      "text/markdown": [
       "\n",
       "A matrix: 4 × 5 of type int\n",
       "\n",
       "| 20 | 21 | 22 | 23 | 24 |\n",
       "| 25 | 26 | 27 | 28 | 29 |\n",
       "| 30 | 31 | 32 | 33 | 34 |\n",
       "| 35 | 36 | 37 | 38 | 39 |\n",
       "\n"
      ],
      "text/plain": [
       "     [,1] [,2] [,3] [,4] [,5]\n",
       "[1,] 20   21   22   23   24  \n",
       "[2,] 25   26   27   28   29  \n",
       "[3,] 30   31   32   33   34  \n",
       "[4,] 35   36   37   38   39  "
      ]
     },
     "metadata": {},
     "output_type": "display_data"
    },
    {
     "data": {
      "text/html": [
       "28"
      ],
      "text/latex": [
       "28"
      ],
      "text/markdown": [
       "28"
      ],
      "text/plain": [
       "[1] 28"
      ]
     },
     "metadata": {},
     "output_type": "display_data"
    },
    {
     "data": {
      "text/html": [
       "<table>\n",
       "<caption>A matrix: 2 × 3 of type int</caption>\n",
       "<tbody>\n",
       "\t<tr><td>22</td><td>23</td><td>24</td></tr>\n",
       "\t<tr><td>27</td><td>28</td><td>29</td></tr>\n",
       "</tbody>\n",
       "</table>\n"
      ],
      "text/latex": [
       "A matrix: 2 × 3 of type int\n",
       "\\begin{tabular}{lll}\n",
       "\t 22 & 23 & 24\\\\\n",
       "\t 27 & 28 & 29\\\\\n",
       "\\end{tabular}\n"
      ],
      "text/markdown": [
       "\n",
       "A matrix: 2 × 3 of type int\n",
       "\n",
       "| 22 | 23 | 24 |\n",
       "| 27 | 28 | 29 |\n",
       "\n"
      ],
      "text/plain": [
       "     [,1] [,2] [,3]\n",
       "[1,] 22   23   24  \n",
       "[2,] 27   28   29  "
      ]
     },
     "metadata": {},
     "output_type": "display_data"
    },
    {
     "data": {
      "text/html": [
       "<table>\n",
       "<caption>A matrix: 2 × 3 of type int</caption>\n",
       "<tbody>\n",
       "\t<tr><td>20</td><td>22</td><td>23</td></tr>\n",
       "\t<tr><td>25</td><td>27</td><td>28</td></tr>\n",
       "</tbody>\n",
       "</table>\n"
      ],
      "text/latex": [
       "A matrix: 2 × 3 of type int\n",
       "\\begin{tabular}{lll}\n",
       "\t 20 & 22 & 23\\\\\n",
       "\t 25 & 27 & 28\\\\\n",
       "\\end{tabular}\n"
      ],
      "text/markdown": [
       "\n",
       "A matrix: 2 × 3 of type int\n",
       "\n",
       "| 20 | 22 | 23 |\n",
       "| 25 | 27 | 28 |\n",
       "\n"
      ],
      "text/plain": [
       "     [,1] [,2] [,3]\n",
       "[1,] 20   22   23  \n",
       "[2,] 25   27   28  "
      ]
     },
     "metadata": {},
     "output_type": "display_data"
    },
    {
     "data": {
      "text/html": [
       "<ol class=list-inline>\n",
       "\t<li>21</li>\n",
       "\t<li>26</li>\n",
       "\t<li>31</li>\n",
       "\t<li>36</li>\n",
       "</ol>\n"
      ],
      "text/latex": [
       "\\begin{enumerate*}\n",
       "\\item 21\n",
       "\\item 26\n",
       "\\item 31\n",
       "\\item 36\n",
       "\\end{enumerate*}\n"
      ],
      "text/markdown": [
       "1. 21\n",
       "2. 26\n",
       "3. 31\n",
       "4. 36\n",
       "\n",
       "\n"
      ],
      "text/plain": [
       "[1] 21 26 31 36"
      ]
     },
     "metadata": {},
     "output_type": "display_data"
    },
    {
     "data": {
      "text/html": [
       "<ol class=list-inline>\n",
       "\t<li>30</li>\n",
       "\t<li>31</li>\n",
       "\t<li>32</li>\n",
       "\t<li>33</li>\n",
       "\t<li>34</li>\n",
       "</ol>\n"
      ],
      "text/latex": [
       "\\begin{enumerate*}\n",
       "\\item 30\n",
       "\\item 31\n",
       "\\item 32\n",
       "\\item 33\n",
       "\\item 34\n",
       "\\end{enumerate*}\n"
      ],
      "text/markdown": [
       "1. 30\n",
       "2. 31\n",
       "3. 32\n",
       "4. 33\n",
       "5. 34\n",
       "\n",
       "\n"
      ],
      "text/plain": [
       "[1] 30 31 32 33 34"
      ]
     },
     "metadata": {},
     "output_type": "display_data"
    },
    {
     "data": {
      "text/html": [
       "<table>\n",
       "<caption>A matrix: 2 × 5 of type int</caption>\n",
       "<tbody>\n",
       "\t<tr><td>35</td><td>36</td><td>37</td><td>38</td><td>39</td></tr>\n",
       "\t<tr><td>20</td><td>21</td><td>22</td><td>23</td><td>24</td></tr>\n",
       "</tbody>\n",
       "</table>\n"
      ],
      "text/latex": [
       "A matrix: 2 × 5 of type int\n",
       "\\begin{tabular}{lllll}\n",
       "\t 35 & 36 & 37 & 38 & 39\\\\\n",
       "\t 20 & 21 & 22 & 23 & 24\\\\\n",
       "\\end{tabular}\n"
      ],
      "text/markdown": [
       "\n",
       "A matrix: 2 × 5 of type int\n",
       "\n",
       "| 35 | 36 | 37 | 38 | 39 |\n",
       "| 20 | 21 | 22 | 23 | 24 |\n",
       "\n"
      ],
      "text/plain": [
       "     [,1] [,2] [,3] [,4] [,5]\n",
       "[1,] 35   36   37   38   39  \n",
       "[2,] 20   21   22   23   24  "
      ]
     },
     "metadata": {},
     "output_type": "display_data"
    }
   ],
   "source": [
    "matR\n",
    "matR[2, 4]\n",
    "matR[1:2, 3:5]\n",
    "matR[1:2, c(1, 3, 4)]\n",
    "matR[, 2]\n",
    "matR[3,]\n",
    "matR[c(4, 1),]"
   ]
  },
  {
   "cell_type": "code",
   "execution_count": 45,
   "metadata": {
    "ExecuteTime": {
     "end_time": "2017-11-21T13:46:06.121000Z",
     "start_time": "2017-11-21T13:46:05.934Z"
    },
    "slideshow": {
     "slide_type": "subslide"
    }
   },
   "outputs": [
    {
     "name": "stdout",
     "output_type": "stream",
     "text": [
      "     [,1] [,2] [,3] [,4] [,5]\n",
      "[1,]   20   21   22   23   24\n",
      "[2,]   25   26   27   28   29\n",
      "[3,]   30   31   32   33   34\n",
      "[4,]   35   36   37   38   39\n"
     ]
    }
   ],
   "source": [
    "print(matR)"
   ]
  },
  {
   "cell_type": "markdown",
   "metadata": {
    "slideshow": {
     "slide_type": "slide"
    }
   },
   "source": [
    "### Define row- and column-names"
   ]
  },
  {
   "cell_type": "code",
   "execution_count": 46,
   "metadata": {
    "ExecuteTime": {
     "end_time": "2017-11-21T13:46:06.187000Z",
     "start_time": "2017-11-21T13:46:06.149Z"
    },
    "slideshow": {
     "slide_type": "fragment"
    }
   },
   "outputs": [
    {
     "name": "stdout",
     "output_type": "stream",
     "text": [
      "   c1 c2 c3 c4 c5\n",
      "r1 20 21 22 23 24\n",
      "r2 25 26 27 28 29\n",
      "r3 30 31 32 33 34\n",
      "r4 35 36 37 38 39\n"
     ]
    }
   ],
   "source": [
    "dimnames(matR) <- list(c(\"r1\", \"r2\", \"r3\", \"r4\"), c(\"c1\", \"c2\", \"c3\", \"c4\", \"c5\"))\n",
    "print(matR)"
   ]
  },
  {
   "cell_type": "code",
   "execution_count": 47,
   "metadata": {
    "ExecuteTime": {
     "end_time": "2017-11-21T13:46:06.229000Z",
     "start_time": "2017-11-21T13:46:06.160Z"
    },
    "slideshow": {
     "slide_type": "fragment"
    }
   },
   "outputs": [
    {
     "data": {
      "text/html": [
       "22"
      ],
      "text/latex": [
       "22"
      ],
      "text/markdown": [
       "22"
      ],
      "text/plain": [
       "[1] 22"
      ]
     },
     "metadata": {},
     "output_type": "display_data"
    }
   ],
   "source": [
    "matR[\"r1\", \"c3\"]"
   ]
  },
  {
   "cell_type": "markdown",
   "metadata": {
    "slideshow": {
     "slide_type": "slide"
    }
   },
   "source": [
    "### Matrix construction 2\n",
    "Combine matrices horizontally by *rbind( )* and vertically by *cbind( )*. "
   ]
  },
  {
   "cell_type": "code",
   "execution_count": 48,
   "metadata": {
    "ExecuteTime": {
     "end_time": "2017-11-21T13:46:06.375000Z",
     "start_time": "2017-11-21T13:46:06.334Z"
    },
    "slideshow": {
     "slide_type": "fragment"
    }
   },
   "outputs": [
    {
     "data": {
      "text/html": [
       "<dl class=dl-horizontal>\n",
       "\t<dt>age</dt>\n",
       "\t\t<dd>37</dd>\n",
       "\t<dt>income</dt>\n",
       "\t\t<dd>61000</dd>\n",
       "\t<dt>capital</dt>\n",
       "\t\t<dd>250000</dd>\n",
       "\t<dt>credit</dt>\n",
       "\t\t<dd>70000</dd>\n",
       "</dl>\n"
      ],
      "text/latex": [
       "\\begin{description*}\n",
       "\\item[age] 37\n",
       "\\item[income] 61000\n",
       "\\item[capital] 250000\n",
       "\\item[credit] 70000\n",
       "\\end{description*}\n"
      ],
      "text/markdown": [
       "age\n",
       ":   37income\n",
       ":   61000capital\n",
       ":   250000credit\n",
       ":   70000\n",
       "\n"
      ],
      "text/plain": [
       "    age  income capital  credit \n",
       "     37   61000  250000   70000 "
      ]
     },
     "metadata": {},
     "output_type": "display_data"
    }
   ],
   "source": [
    "customer <- c(37, 61000, 250000, 70000)\n",
    "featureNames <- c(\"age\", \"income\", \"capital\", \"credit\")\n",
    "names(customer) <- featureNames\n",
    "customer"
   ]
  },
  {
   "cell_type": "code",
   "execution_count": 49,
   "metadata": {
    "ExecuteTime": {
     "end_time": "2017-11-21T13:46:06.410000Z",
     "start_time": "2017-11-21T13:46:06.343Z"
    },
    "slideshow": {
     "slide_type": "subslide"
    }
   },
   "outputs": [
    {
     "name": "stdout",
     "output_type": "stream",
     "text": [
      "     [,1]  [,2]   [,3]  [,4]\n",
      "[1,]   37 61000 250000 70000\n"
     ]
    }
   ],
   "source": [
    "custMat <- matrix(customer, nrow=1, ncol=4, byrow = TRUE)\n",
    "print(custMat)"
   ]
  },
  {
   "cell_type": "code",
   "execution_count": 50,
   "metadata": {
    "ExecuteTime": {
     "end_time": "2017-11-21T13:46:06.460000Z",
     "start_time": "2017-11-21T13:46:06.351Z"
    },
    "slideshow": {
     "slide_type": "subslide"
    }
   },
   "outputs": [
    {
     "data": {
      "text/html": [
       "<dl class=dl-horizontal>\n",
       "\t<dt>age</dt>\n",
       "\t\t<dd>51</dd>\n",
       "\t<dt>income</dt>\n",
       "\t\t<dd>134600</dd>\n",
       "\t<dt>capital</dt>\n",
       "\t\t<dd>750000</dd>\n",
       "\t<dt>credit</dt>\n",
       "\t\t<dd>90000</dd>\n",
       "</dl>\n"
      ],
      "text/latex": [
       "\\begin{description*}\n",
       "\\item[age] 51\n",
       "\\item[income] 134600\n",
       "\\item[capital] 750000\n",
       "\\item[credit] 90000\n",
       "\\end{description*}\n"
      ],
      "text/markdown": [
       "age\n",
       ":   51income\n",
       ":   134600capital\n",
       ":   750000credit\n",
       ":   90000\n",
       "\n"
      ],
      "text/plain": [
       "    age  income capital  credit \n",
       "     51  134600  750000   90000 "
      ]
     },
     "metadata": {},
     "output_type": "display_data"
    }
   ],
   "source": [
    "customer2 <- c(51, 134600, 750000, 90000)\n",
    "names(customer2) <- featureNames\n",
    "customer2\n",
    "custMat2 <- matrix(customer2, nrow=1, ncol=4, byrow = TRUE)"
   ]
  },
  {
   "cell_type": "code",
   "execution_count": 51,
   "metadata": {
    "ExecuteTime": {
     "end_time": "2017-11-21T13:46:06.499000Z",
     "start_time": "2017-11-21T13:46:06.358Z"
    },
    "slideshow": {
     "slide_type": "subslide"
    }
   },
   "outputs": [
    {
     "name": "stdout",
     "output_type": "stream",
     "text": [
      "     [,1]   [,2]   [,3]  [,4]\n",
      "[1,]   37  61000 250000 70000\n",
      "[2,]   51 134600 750000 90000\n"
     ]
    }
   ],
   "source": [
    "allCust <- rbind(custMat, custMat2)\n",
    "print(allCust)"
   ]
  },
  {
   "cell_type": "code",
   "execution_count": 52,
   "metadata": {
    "ExecuteTime": {
     "end_time": "2017-11-21T13:46:06.543000Z",
     "start_time": "2017-11-21T13:46:06.366Z"
    },
    "slideshow": {
     "slide_type": "subslide"
    }
   },
   "outputs": [
    {
     "name": "stdout",
     "output_type": "stream",
     "text": [
      "     [,1]   [,2]   [,3]  [,4]\n",
      "[1,]   37  61000 250000 70000\n",
      "[2,]   51 134600 750000 90000\n",
      "[3,]   37  61000 250000 70000\n",
      "[4,]   51 134600 750000 90000\n"
     ]
    }
   ],
   "source": [
    "allCust <- rbind(allCust, allCust)\n",
    "print(allCust)"
   ]
  },
  {
   "cell_type": "markdown",
   "metadata": {
    "slideshow": {
     "slide_type": "subslide"
    }
   },
   "source": [
    "Serialization of a matrix, column-by-column:"
   ]
  },
  {
   "cell_type": "code",
   "execution_count": 53,
   "metadata": {
    "ExecuteTime": {
     "end_time": "2017-11-21T13:46:06.613000Z",
     "start_time": "2017-11-21T13:46:06.581Z"
    },
    "slideshow": {
     "slide_type": "fragment"
    }
   },
   "outputs": [
    {
     "data": {
      "text/html": [
       "'numeric'"
      ],
      "text/latex": [
       "'numeric'"
      ],
      "text/markdown": [
       "'numeric'"
      ],
      "text/plain": [
       "[1] \"numeric\""
      ]
     },
     "metadata": {},
     "output_type": "display_data"
    }
   ],
   "source": [
    "x1 <- c(allCust)\n",
    "\n",
    "class(x1)"
   ]
  },
  {
   "cell_type": "markdown",
   "metadata": {
    "slideshow": {
     "slide_type": "slide"
    }
   },
   "source": [
    "### Operations on matrices\n",
    "\n",
    "Define some matrices for demonstration of matrix-operations:"
   ]
  },
  {
   "cell_type": "code",
   "execution_count": 54,
   "metadata": {
    "ExecuteTime": {
     "end_time": "2017-11-21T13:46:06.855000Z",
     "start_time": "2017-11-21T13:46:06.816Z"
    },
    "run_control": {
     "marked": false
    },
    "scrolled": true,
    "slideshow": {
     "slide_type": "fragment"
    }
   },
   "outputs": [
    {
     "data": {
      "text/html": [
       "<table>\n",
       "<caption>A matrix: 2 × 3 of type int</caption>\n",
       "<tbody>\n",
       "\t<tr><td>1</td><td>3</td><td>5</td></tr>\n",
       "\t<tr><td>2</td><td>4</td><td>6</td></tr>\n",
       "</tbody>\n",
       "</table>\n"
      ],
      "text/latex": [
       "A matrix: 2 × 3 of type int\n",
       "\\begin{tabular}{lll}\n",
       "\t 1 & 3 & 5\\\\\n",
       "\t 2 & 4 & 6\\\\\n",
       "\\end{tabular}\n"
      ],
      "text/markdown": [
       "\n",
       "A matrix: 2 × 3 of type int\n",
       "\n",
       "| 1 | 3 | 5 |\n",
       "| 2 | 4 | 6 |\n",
       "\n"
      ],
      "text/plain": [
       "     [,1] [,2] [,3]\n",
       "[1,] 1    3    5   \n",
       "[2,] 2    4    6   "
      ]
     },
     "metadata": {},
     "output_type": "display_data"
    }
   ],
   "source": [
    "(A <- matrix(seq(1, 6), nrow=2, ncol=3))"
   ]
  },
  {
   "cell_type": "code",
   "execution_count": 55,
   "metadata": {
    "ExecuteTime": {
     "end_time": "2017-11-21T13:46:06.894000Z",
     "start_time": "2017-11-21T13:46:06.826Z"
    },
    "run_control": {
     "marked": false
    },
    "scrolled": true,
    "slideshow": {
     "slide_type": "subslide"
    }
   },
   "outputs": [
    {
     "data": {
      "text/html": [
       "<table>\n",
       "<caption>A matrix: 2 × 3 of type int</caption>\n",
       "<tbody>\n",
       "\t<tr><td>1</td><td>2</td><td>3</td></tr>\n",
       "\t<tr><td>4</td><td>5</td><td>6</td></tr>\n",
       "</tbody>\n",
       "</table>\n"
      ],
      "text/latex": [
       "A matrix: 2 × 3 of type int\n",
       "\\begin{tabular}{lll}\n",
       "\t 1 & 2 & 3\\\\\n",
       "\t 4 & 5 & 6\\\\\n",
       "\\end{tabular}\n"
      ],
      "text/markdown": [
       "\n",
       "A matrix: 2 × 3 of type int\n",
       "\n",
       "| 1 | 2 | 3 |\n",
       "| 4 | 5 | 6 |\n",
       "\n"
      ],
      "text/plain": [
       "     [,1] [,2] [,3]\n",
       "[1,] 1    2    3   \n",
       "[2,] 4    5    6   "
      ]
     },
     "metadata": {},
     "output_type": "display_data"
    }
   ],
   "source": [
    "(B <- matrix(seq(1, 6),nrow=2, ncol=3, byrow = T))"
   ]
  },
  {
   "cell_type": "code",
   "execution_count": 56,
   "metadata": {
    "ExecuteTime": {
     "end_time": "2017-11-21T13:46:06.935000Z",
     "start_time": "2017-11-21T13:46:06.835Z"
    },
    "run_control": {
     "marked": false
    },
    "scrolled": true,
    "slideshow": {
     "slide_type": "subslide"
    }
   },
   "outputs": [
    {
     "data": {
      "text/html": [
       "<table>\n",
       "<caption>A matrix: 3 × 2 of type int</caption>\n",
       "<tbody>\n",
       "\t<tr><td>1</td><td>2</td></tr>\n",
       "\t<tr><td>3</td><td>4</td></tr>\n",
       "\t<tr><td>5</td><td>6</td></tr>\n",
       "</tbody>\n",
       "</table>\n"
      ],
      "text/latex": [
       "A matrix: 3 × 2 of type int\n",
       "\\begin{tabular}{ll}\n",
       "\t 1 & 2\\\\\n",
       "\t 3 & 4\\\\\n",
       "\t 5 & 6\\\\\n",
       "\\end{tabular}\n"
      ],
      "text/markdown": [
       "\n",
       "A matrix: 3 × 2 of type int\n",
       "\n",
       "| 1 | 2 |\n",
       "| 3 | 4 |\n",
       "| 5 | 6 |\n",
       "\n"
      ],
      "text/plain": [
       "     [,1] [,2]\n",
       "[1,] 1    2   \n",
       "[2,] 3    4   \n",
       "[3,] 5    6   "
      ]
     },
     "metadata": {},
     "output_type": "display_data"
    }
   ],
   "source": [
    "(C <- matrix(seq(1, 6), nrow=3, ncol=2, byrow = T))"
   ]
  },
  {
   "cell_type": "code",
   "execution_count": 57,
   "metadata": {
    "ExecuteTime": {
     "end_time": "2017-11-21T13:46:06.979000Z",
     "start_time": "2017-11-21T13:46:06.842Z"
    },
    "slideshow": {
     "slide_type": "subslide"
    }
   },
   "outputs": [
    {
     "data": {
      "text/html": [
       "<table>\n",
       "<caption>A matrix: 3 × 3 of type int</caption>\n",
       "<tbody>\n",
       "\t<tr><td>1</td><td>4</td><td>7</td></tr>\n",
       "\t<tr><td>2</td><td>5</td><td>8</td></tr>\n",
       "\t<tr><td>3</td><td>6</td><td>9</td></tr>\n",
       "</tbody>\n",
       "</table>\n"
      ],
      "text/latex": [
       "A matrix: 3 × 3 of type int\n",
       "\\begin{tabular}{lll}\n",
       "\t 1 & 4 & 7\\\\\n",
       "\t 2 & 5 & 8\\\\\n",
       "\t 3 & 6 & 9\\\\\n",
       "\\end{tabular}\n"
      ],
      "text/markdown": [
       "\n",
       "A matrix: 3 × 3 of type int\n",
       "\n",
       "| 1 | 4 | 7 |\n",
       "| 2 | 5 | 8 |\n",
       "| 3 | 6 | 9 |\n",
       "\n"
      ],
      "text/plain": [
       "     [,1] [,2] [,3]\n",
       "[1,] 1    4    7   \n",
       "[2,] 2    5    8   \n",
       "[3,] 3    6    9   "
      ]
     },
     "metadata": {},
     "output_type": "display_data"
    }
   ],
   "source": [
    "(D <- matrix(seq(1, 9), nrow=3))"
   ]
  },
  {
   "cell_type": "markdown",
   "metadata": {
    "slideshow": {
     "slide_type": "slide"
    }
   },
   "source": [
    "#### Elementwise multiplication"
   ]
  },
  {
   "cell_type": "code",
   "execution_count": 58,
   "metadata": {
    "ExecuteTime": {
     "end_time": "2017-11-21T13:46:07.097000Z",
     "start_time": "2017-11-21T13:46:07.040Z"
    },
    "scrolled": true,
    "slideshow": {
     "slide_type": "fragment"
    }
   },
   "outputs": [
    {
     "data": {
      "text/html": [
       "<table>\n",
       "<caption>A matrix: 2 × 3 of type int</caption>\n",
       "<tbody>\n",
       "\t<tr><td>1</td><td>3</td><td>5</td></tr>\n",
       "\t<tr><td>2</td><td>4</td><td>6</td></tr>\n",
       "</tbody>\n",
       "</table>\n"
      ],
      "text/latex": [
       "A matrix: 2 × 3 of type int\n",
       "\\begin{tabular}{lll}\n",
       "\t 1 & 3 & 5\\\\\n",
       "\t 2 & 4 & 6\\\\\n",
       "\\end{tabular}\n"
      ],
      "text/markdown": [
       "\n",
       "A matrix: 2 × 3 of type int\n",
       "\n",
       "| 1 | 3 | 5 |\n",
       "| 2 | 4 | 6 |\n",
       "\n"
      ],
      "text/plain": [
       "     [,1] [,2] [,3]\n",
       "[1,] 1    3    5   \n",
       "[2,] 2    4    6   "
      ]
     },
     "metadata": {},
     "output_type": "display_data"
    },
    {
     "data": {
      "text/html": [
       "<table>\n",
       "<caption>A matrix: 2 × 3 of type int</caption>\n",
       "<tbody>\n",
       "\t<tr><td>1</td><td>2</td><td>3</td></tr>\n",
       "\t<tr><td>4</td><td>5</td><td>6</td></tr>\n",
       "</tbody>\n",
       "</table>\n"
      ],
      "text/latex": [
       "A matrix: 2 × 3 of type int\n",
       "\\begin{tabular}{lll}\n",
       "\t 1 & 2 & 3\\\\\n",
       "\t 4 & 5 & 6\\\\\n",
       "\\end{tabular}\n"
      ],
      "text/markdown": [
       "\n",
       "A matrix: 2 × 3 of type int\n",
       "\n",
       "| 1 | 2 | 3 |\n",
       "| 4 | 5 | 6 |\n",
       "\n"
      ],
      "text/plain": [
       "     [,1] [,2] [,3]\n",
       "[1,] 1    2    3   \n",
       "[2,] 4    5    6   "
      ]
     },
     "metadata": {},
     "output_type": "display_data"
    },
    {
     "data": {
      "text/html": [
       "<table>\n",
       "<caption>A matrix: 2 × 3 of type int</caption>\n",
       "<tbody>\n",
       "\t<tr><td>1</td><td> 6</td><td>15</td></tr>\n",
       "\t<tr><td>8</td><td>20</td><td>36</td></tr>\n",
       "</tbody>\n",
       "</table>\n"
      ],
      "text/latex": [
       "A matrix: 2 × 3 of type int\n",
       "\\begin{tabular}{lll}\n",
       "\t 1 &  6 & 15\\\\\n",
       "\t 8 & 20 & 36\\\\\n",
       "\\end{tabular}\n"
      ],
      "text/markdown": [
       "\n",
       "A matrix: 2 × 3 of type int\n",
       "\n",
       "| 1 |  6 | 15 |\n",
       "| 8 | 20 | 36 |\n",
       "\n"
      ],
      "text/plain": [
       "     [,1] [,2] [,3]\n",
       "[1,] 1     6   15  \n",
       "[2,] 8    20   36  "
      ]
     },
     "metadata": {},
     "output_type": "display_data"
    }
   ],
   "source": [
    "A\n",
    "B\n",
    "A * B"
   ]
  },
  {
   "cell_type": "markdown",
   "metadata": {
    "slideshow": {
     "slide_type": "slide"
    }
   },
   "source": [
    "#### Matrix multiplication "
   ]
  },
  {
   "cell_type": "code",
   "execution_count": 59,
   "metadata": {
    "ExecuteTime": {
     "end_time": "2017-11-21T13:46:07.273000Z",
     "start_time": "2017-11-21T13:46:07.215Z"
    },
    "slideshow": {
     "slide_type": "fragment"
    }
   },
   "outputs": [
    {
     "data": {
      "text/html": [
       "<table>\n",
       "<caption>A matrix: 2 × 3 of type int</caption>\n",
       "<tbody>\n",
       "\t<tr><td>1</td><td>3</td><td>5</td></tr>\n",
       "\t<tr><td>2</td><td>4</td><td>6</td></tr>\n",
       "</tbody>\n",
       "</table>\n"
      ],
      "text/latex": [
       "A matrix: 2 × 3 of type int\n",
       "\\begin{tabular}{lll}\n",
       "\t 1 & 3 & 5\\\\\n",
       "\t 2 & 4 & 6\\\\\n",
       "\\end{tabular}\n"
      ],
      "text/markdown": [
       "\n",
       "A matrix: 2 × 3 of type int\n",
       "\n",
       "| 1 | 3 | 5 |\n",
       "| 2 | 4 | 6 |\n",
       "\n"
      ],
      "text/plain": [
       "     [,1] [,2] [,3]\n",
       "[1,] 1    3    5   \n",
       "[2,] 2    4    6   "
      ]
     },
     "metadata": {},
     "output_type": "display_data"
    },
    {
     "data": {
      "text/html": [
       "<table>\n",
       "<caption>A matrix: 3 × 2 of type int</caption>\n",
       "<tbody>\n",
       "\t<tr><td>1</td><td>2</td></tr>\n",
       "\t<tr><td>3</td><td>4</td></tr>\n",
       "\t<tr><td>5</td><td>6</td></tr>\n",
       "</tbody>\n",
       "</table>\n"
      ],
      "text/latex": [
       "A matrix: 3 × 2 of type int\n",
       "\\begin{tabular}{ll}\n",
       "\t 1 & 2\\\\\n",
       "\t 3 & 4\\\\\n",
       "\t 5 & 6\\\\\n",
       "\\end{tabular}\n"
      ],
      "text/markdown": [
       "\n",
       "A matrix: 3 × 2 of type int\n",
       "\n",
       "| 1 | 2 |\n",
       "| 3 | 4 |\n",
       "| 5 | 6 |\n",
       "\n"
      ],
      "text/plain": [
       "     [,1] [,2]\n",
       "[1,] 1    2   \n",
       "[2,] 3    4   \n",
       "[3,] 5    6   "
      ]
     },
     "metadata": {},
     "output_type": "display_data"
    },
    {
     "data": {
      "text/html": [
       "<table>\n",
       "<caption>A matrix: 2 × 2 of type dbl</caption>\n",
       "<tbody>\n",
       "\t<tr><td>35</td><td>44</td></tr>\n",
       "\t<tr><td>44</td><td>56</td></tr>\n",
       "</tbody>\n",
       "</table>\n"
      ],
      "text/latex": [
       "A matrix: 2 × 2 of type dbl\n",
       "\\begin{tabular}{ll}\n",
       "\t 35 & 44\\\\\n",
       "\t 44 & 56\\\\\n",
       "\\end{tabular}\n"
      ],
      "text/markdown": [
       "\n",
       "A matrix: 2 × 2 of type dbl\n",
       "\n",
       "| 35 | 44 |\n",
       "| 44 | 56 |\n",
       "\n"
      ],
      "text/plain": [
       "     [,1] [,2]\n",
       "[1,] 35   44  \n",
       "[2,] 44   56  "
      ]
     },
     "metadata": {},
     "output_type": "display_data"
    }
   ],
   "source": [
    "A\n",
    "C\n",
    "A %*% C"
   ]
  },
  {
   "cell_type": "markdown",
   "metadata": {
    "slideshow": {
     "slide_type": "slide"
    }
   },
   "source": [
    "#### Transpose of a matrix"
   ]
  },
  {
   "cell_type": "code",
   "execution_count": 60,
   "metadata": {
    "ExecuteTime": {
     "end_time": "2017-11-21T13:46:07.431000Z",
     "start_time": "2017-11-21T13:46:07.382Z"
    },
    "scrolled": true,
    "slideshow": {
     "slide_type": "fragment"
    }
   },
   "outputs": [
    {
     "data": {
      "text/html": [
       "<table>\n",
       "<caption>A matrix: 2 × 3 of type int</caption>\n",
       "<tbody>\n",
       "\t<tr><td>1</td><td>3</td><td>5</td></tr>\n",
       "\t<tr><td>2</td><td>4</td><td>6</td></tr>\n",
       "</tbody>\n",
       "</table>\n"
      ],
      "text/latex": [
       "A matrix: 2 × 3 of type int\n",
       "\\begin{tabular}{lll}\n",
       "\t 1 & 3 & 5\\\\\n",
       "\t 2 & 4 & 6\\\\\n",
       "\\end{tabular}\n"
      ],
      "text/markdown": [
       "\n",
       "A matrix: 2 × 3 of type int\n",
       "\n",
       "| 1 | 3 | 5 |\n",
       "| 2 | 4 | 6 |\n",
       "\n"
      ],
      "text/plain": [
       "     [,1] [,2] [,3]\n",
       "[1,] 1    3    5   \n",
       "[2,] 2    4    6   "
      ]
     },
     "metadata": {},
     "output_type": "display_data"
    },
    {
     "data": {
      "text/html": [
       "<table>\n",
       "<caption>A matrix: 3 × 2 of type int</caption>\n",
       "<tbody>\n",
       "\t<tr><td>1</td><td>2</td></tr>\n",
       "\t<tr><td>3</td><td>4</td></tr>\n",
       "\t<tr><td>5</td><td>6</td></tr>\n",
       "</tbody>\n",
       "</table>\n"
      ],
      "text/latex": [
       "A matrix: 3 × 2 of type int\n",
       "\\begin{tabular}{ll}\n",
       "\t 1 & 2\\\\\n",
       "\t 3 & 4\\\\\n",
       "\t 5 & 6\\\\\n",
       "\\end{tabular}\n"
      ],
      "text/markdown": [
       "\n",
       "A matrix: 3 × 2 of type int\n",
       "\n",
       "| 1 | 2 |\n",
       "| 3 | 4 |\n",
       "| 5 | 6 |\n",
       "\n"
      ],
      "text/plain": [
       "     [,1] [,2]\n",
       "[1,] 1    2   \n",
       "[2,] 3    4   \n",
       "[3,] 5    6   "
      ]
     },
     "metadata": {},
     "output_type": "display_data"
    }
   ],
   "source": [
    "A\n",
    "t(A)"
   ]
  },
  {
   "cell_type": "markdown",
   "metadata": {
    "slideshow": {
     "slide_type": "slide"
    }
   },
   "source": [
    "#### Extract diagonal elements of a matrix"
   ]
  },
  {
   "cell_type": "code",
   "execution_count": 61,
   "metadata": {
    "ExecuteTime": {
     "end_time": "2017-11-21T13:46:07.589000Z",
     "start_time": "2017-11-21T13:46:07.545Z"
    },
    "slideshow": {
     "slide_type": "fragment"
    }
   },
   "outputs": [
    {
     "data": {
      "text/html": [
       "<table>\n",
       "<caption>A matrix: 3 × 3 of type int</caption>\n",
       "<tbody>\n",
       "\t<tr><td>1</td><td>4</td><td>7</td></tr>\n",
       "\t<tr><td>2</td><td>5</td><td>8</td></tr>\n",
       "\t<tr><td>3</td><td>6</td><td>9</td></tr>\n",
       "</tbody>\n",
       "</table>\n"
      ],
      "text/latex": [
       "A matrix: 3 × 3 of type int\n",
       "\\begin{tabular}{lll}\n",
       "\t 1 & 4 & 7\\\\\n",
       "\t 2 & 5 & 8\\\\\n",
       "\t 3 & 6 & 9\\\\\n",
       "\\end{tabular}\n"
      ],
      "text/markdown": [
       "\n",
       "A matrix: 3 × 3 of type int\n",
       "\n",
       "| 1 | 4 | 7 |\n",
       "| 2 | 5 | 8 |\n",
       "| 3 | 6 | 9 |\n",
       "\n"
      ],
      "text/plain": [
       "     [,1] [,2] [,3]\n",
       "[1,] 1    4    7   \n",
       "[2,] 2    5    8   \n",
       "[3,] 3    6    9   "
      ]
     },
     "metadata": {},
     "output_type": "display_data"
    },
    {
     "data": {
      "text/html": [
       "<ol class=list-inline>\n",
       "\t<li>1</li>\n",
       "\t<li>5</li>\n",
       "\t<li>9</li>\n",
       "</ol>\n"
      ],
      "text/latex": [
       "\\begin{enumerate*}\n",
       "\\item 1\n",
       "\\item 5\n",
       "\\item 9\n",
       "\\end{enumerate*}\n"
      ],
      "text/markdown": [
       "1. 1\n",
       "2. 5\n",
       "3. 9\n",
       "\n",
       "\n"
      ],
      "text/plain": [
       "[1] 1 5 9"
      ]
     },
     "metadata": {},
     "output_type": "display_data"
    }
   ],
   "source": [
    "D\n",
    "diag(D)"
   ]
  },
  {
   "cell_type": "markdown",
   "metadata": {
    "slideshow": {
     "slide_type": "subslide"
    }
   },
   "source": [
    "#### Create diagonal matrix"
   ]
  },
  {
   "cell_type": "code",
   "execution_count": 62,
   "metadata": {
    "ExecuteTime": {
     "end_time": "2017-11-21T13:46:07.751000Z",
     "start_time": "2017-11-21T13:46:07.710Z"
    },
    "slideshow": {
     "slide_type": "fragment"
    }
   },
   "outputs": [
    {
     "data": {
      "text/html": [
       "<table>\n",
       "<caption>A matrix: 4 × 4 of type dbl</caption>\n",
       "<tbody>\n",
       "\t<tr><td>1</td><td>0</td><td>0</td><td>0</td></tr>\n",
       "\t<tr><td>0</td><td>1</td><td>0</td><td>0</td></tr>\n",
       "\t<tr><td>0</td><td>0</td><td>1</td><td>0</td></tr>\n",
       "\t<tr><td>0</td><td>0</td><td>0</td><td>1</td></tr>\n",
       "</tbody>\n",
       "</table>\n"
      ],
      "text/latex": [
       "A matrix: 4 × 4 of type dbl\n",
       "\\begin{tabular}{llll}\n",
       "\t 1 & 0 & 0 & 0\\\\\n",
       "\t 0 & 1 & 0 & 0\\\\\n",
       "\t 0 & 0 & 1 & 0\\\\\n",
       "\t 0 & 0 & 0 & 1\\\\\n",
       "\\end{tabular}\n"
      ],
      "text/markdown": [
       "\n",
       "A matrix: 4 × 4 of type dbl\n",
       "\n",
       "| 1 | 0 | 0 | 0 |\n",
       "| 0 | 1 | 0 | 0 |\n",
       "| 0 | 0 | 1 | 0 |\n",
       "| 0 | 0 | 0 | 1 |\n",
       "\n"
      ],
      "text/plain": [
       "     [,1] [,2] [,3] [,4]\n",
       "[1,] 1    0    0    0   \n",
       "[2,] 0    1    0    0   \n",
       "[3,] 0    0    1    0   \n",
       "[4,] 0    0    0    1   "
      ]
     },
     "metadata": {},
     "output_type": "display_data"
    }
   ],
   "source": [
    "diag(rep(1, 4))"
   ]
  },
  {
   "cell_type": "markdown",
   "metadata": {
    "slideshow": {
     "slide_type": "subslide"
    }
   },
   "source": [
    "#### Inverse Matrix\n",
    "The inverse matrix of a ($d \\times d$)-matrix $E$ is the matrix $E^{-1}$, such that matrix product $E \\cdot E^{-1}$ yields the ($d \\times d$) unity-matrix (diagonal matrix with ones on the diagonal). \n",
    "\n",
    "For the example: <BR>\n",
    "[`floor(x)`](https://www.rdocumentation.org/packages/base/versions/3.6.1/topics/Round) returns the largest integer but not greater than x.<BR>\n",
    "[`runif(n, min, max)`](https://www.rdocumentation.org/packages/stats/versions/3.6.1/topics/Uniform) creates 'n' random number from a uniform distribution with 'min' (default=0) and 'max' (default=1)."
   ]
  },
  {
   "cell_type": "code",
   "execution_count": 63,
   "metadata": {
    "ExecuteTime": {
     "end_time": "2017-11-21T13:46:07.930000Z",
     "start_time": "2017-11-21T13:46:07.888Z"
    },
    "slideshow": {
     "slide_type": "fragment"
    }
   },
   "outputs": [
    {
     "data": {
      "text/html": [
       "<table>\n",
       "<caption>A matrix: 3 × 3 of type dbl</caption>\n",
       "<tbody>\n",
       "\t<tr><td>2</td><td>8</td><td>5</td></tr>\n",
       "\t<tr><td>7</td><td>9</td><td>8</td></tr>\n",
       "\t<tr><td>4</td><td>0</td><td>5</td></tr>\n",
       "</tbody>\n",
       "</table>\n"
      ],
      "text/latex": [
       "A matrix: 3 × 3 of type dbl\n",
       "\\begin{tabular}{lll}\n",
       "\t 2 & 8 & 5\\\\\n",
       "\t 7 & 9 & 8\\\\\n",
       "\t 4 & 0 & 5\\\\\n",
       "\\end{tabular}\n"
      ],
      "text/markdown": [
       "\n",
       "A matrix: 3 × 3 of type dbl\n",
       "\n",
       "| 2 | 8 | 5 |\n",
       "| 7 | 9 | 8 |\n",
       "| 4 | 0 | 5 |\n",
       "\n"
      ],
      "text/plain": [
       "     [,1] [,2] [,3]\n",
       "[1,] 2    8    5   \n",
       "[2,] 7    9    8   \n",
       "[3,] 4    0    5   "
      ]
     },
     "metadata": {},
     "output_type": "display_data"
    },
    {
     "data": {
      "text/html": [
       "<ol class=list-inline>\n",
       "\t<li>0.456614735303447</li>\n",
       "\t<li>0.956833345349878</li>\n",
       "\t<li>0.453334156190977</li>\n",
       "\t<li>0.677570635452867</li>\n",
       "\t<li>0.572633401956409</li>\n",
       "\t<li>0.102924682665616</li>\n",
       "\t<li>0.899824970401824</li>\n",
       "\t<li>0.24608773435466</li>\n",
       "\t<li>0.0420595335308462</li>\n",
       "</ol>\n"
      ],
      "text/latex": [
       "\\begin{enumerate*}\n",
       "\\item 0.456614735303447\n",
       "\\item 0.956833345349878\n",
       "\\item 0.453334156190977\n",
       "\\item 0.677570635452867\n",
       "\\item 0.572633401956409\n",
       "\\item 0.102924682665616\n",
       "\\item 0.899824970401824\n",
       "\\item 0.24608773435466\n",
       "\\item 0.0420595335308462\n",
       "\\end{enumerate*}\n"
      ],
      "text/markdown": [
       "1. 0.456614735303447\n",
       "2. 0.956833345349878\n",
       "3. 0.453334156190977\n",
       "4. 0.677570635452867\n",
       "5. 0.572633401956409\n",
       "6. 0.102924682665616\n",
       "7. 0.899824970401824\n",
       "8. 0.24608773435466\n",
       "9. 0.0420595335308462\n",
       "\n",
       "\n"
      ],
      "text/plain": [
       "[1] 0.45661474 0.95683335 0.45333416 0.67757064 0.57263340 0.10292468 0.89982497\n",
       "[8] 0.24608773 0.04205953"
      ]
     },
     "metadata": {},
     "output_type": "display_data"
    }
   ],
   "source": [
    "set.seed(123)\n",
    "(E <- matrix(floor(10*runif(9)), nrow=3))\n",
    "\n",
    "runif(9)"
   ]
  },
  {
   "cell_type": "code",
   "execution_count": 64,
   "metadata": {
    "ExecuteTime": {
     "end_time": "2017-11-21T13:46:07.973000Z",
     "start_time": "2017-11-21T13:46:07.898Z"
    },
    "slideshow": {
     "slide_type": "subslide"
    }
   },
   "outputs": [
    {
     "data": {
      "text/html": [
       "<table>\n",
       "<caption>A matrix: 3 × 3 of type dbl</caption>\n",
       "<tbody>\n",
       "\t<tr><td>-0.39473684</td><td> 0.3508772</td><td>-0.1666667</td></tr>\n",
       "\t<tr><td> 0.02631579</td><td> 0.0877193</td><td>-0.1666667</td></tr>\n",
       "\t<tr><td> 0.31578947</td><td>-0.2807018</td><td> 0.3333333</td></tr>\n",
       "</tbody>\n",
       "</table>\n"
      ],
      "text/latex": [
       "A matrix: 3 × 3 of type dbl\n",
       "\\begin{tabular}{lll}\n",
       "\t -0.39473684 &  0.3508772 & -0.1666667\\\\\n",
       "\t  0.02631579 &  0.0877193 & -0.1666667\\\\\n",
       "\t  0.31578947 & -0.2807018 &  0.3333333\\\\\n",
       "\\end{tabular}\n"
      ],
      "text/markdown": [
       "\n",
       "A matrix: 3 × 3 of type dbl\n",
       "\n",
       "| -0.39473684 |  0.3508772 | -0.1666667 |\n",
       "|  0.02631579 |  0.0877193 | -0.1666667 |\n",
       "|  0.31578947 | -0.2807018 |  0.3333333 |\n",
       "\n"
      ],
      "text/plain": [
       "     [,1]        [,2]       [,3]      \n",
       "[1,] -0.39473684  0.3508772 -0.1666667\n",
       "[2,]  0.02631579  0.0877193 -0.1666667\n",
       "[3,]  0.31578947 -0.2807018  0.3333333"
      ]
     },
     "metadata": {},
     "output_type": "display_data"
    }
   ],
   "source": [
    "(F <- solve(E))"
   ]
  },
  {
   "cell_type": "code",
   "execution_count": 65,
   "metadata": {
    "ExecuteTime": {
     "end_time": "2017-11-21T13:46:08.020000Z",
     "start_time": "2017-11-21T13:46:07.905Z"
    },
    "slideshow": {
     "slide_type": "subslide"
    }
   },
   "outputs": [
    {
     "data": {
      "text/html": [
       "<table>\n",
       "<caption>A matrix: 3 × 3 of type dbl</caption>\n",
       "<tbody>\n",
       "\t<tr><td> 1.000000e+00</td><td> 0.000000e+00</td><td>0</td></tr>\n",
       "\t<tr><td> 0.000000e+00</td><td> 1.000000e+00</td><td>0</td></tr>\n",
       "\t<tr><td>-2.220446e-16</td><td>-2.220446e-16</td><td>1</td></tr>\n",
       "</tbody>\n",
       "</table>\n"
      ],
      "text/latex": [
       "A matrix: 3 × 3 of type dbl\n",
       "\\begin{tabular}{lll}\n",
       "\t  1.000000e+00 &  0.000000e+00 & 0\\\\\n",
       "\t  0.000000e+00 &  1.000000e+00 & 0\\\\\n",
       "\t -2.220446e-16 & -2.220446e-16 & 1\\\\\n",
       "\\end{tabular}\n"
      ],
      "text/markdown": [
       "\n",
       "A matrix: 3 × 3 of type dbl\n",
       "\n",
       "|  1.000000e+00 |  0.000000e+00 | 0 |\n",
       "|  0.000000e+00 |  1.000000e+00 | 0 |\n",
       "| -2.220446e-16 | -2.220446e-16 | 1 |\n",
       "\n"
      ],
      "text/plain": [
       "     [,1]          [,2]          [,3]\n",
       "[1,]  1.000000e+00  0.000000e+00 0   \n",
       "[2,]  0.000000e+00  1.000000e+00 0   \n",
       "[3,] -2.220446e-16 -2.220446e-16 1   "
      ]
     },
     "metadata": {},
     "output_type": "display_data"
    }
   ],
   "source": [
    "E %*% F"
   ]
  },
  {
   "cell_type": "markdown",
   "metadata": {
    "slideshow": {
     "slide_type": "subslide"
    }
   },
   "source": [
    "#### Solve system of linear equations\n",
    "A system of linear equations, can be written as a matrix-multiplication, with known matrix $C$ and vector $a$ and unknown vector $x$:\n",
    "\n",
    "$$\n",
    "\\mathbf{a}=C \\mathbf{x}\n",
    "$$\n",
    "\n",
    "$$\n",
    "\\left(\n",
    "\\begin{array}{c}\n",
    "a_1\\\\\n",
    "a_2\\\\\n",
    "a_3\\\\\n",
    "\\end{array}\n",
    "\\right)\n",
    "=\n",
    "\\left(\n",
    "\\begin{array}{ccc}\n",
    "C_{11} & C_{12} & C_{13} \\\\\n",
    "C_{21} & C_{22} & C_{23} \\\\\n",
    "C_{31} & C_{32} & C_{33} \\\\\n",
    "\\end{array}\n",
    "\\right)\n",
    "\\cdot\n",
    "\\left(\n",
    "\\begin{array}{c}\n",
    "x_1\\\\\n",
    "x_2\\\\\n",
    "x_3\\\\\n",
    "\\end{array}\n",
    "\\right)\n",
    "$$"
   ]
  },
  {
   "cell_type": "markdown",
   "metadata": {
    "slideshow": {
     "slide_type": "subslide"
    }
   },
   "source": [
    "Vector $x$ can be determined by:"
   ]
  },
  {
   "cell_type": "code",
   "execution_count": 66,
   "metadata": {
    "ExecuteTime": {
     "end_time": "2017-11-21T13:46:08.170000Z",
     "start_time": "2017-11-21T13:46:08.117Z"
    },
    "slideshow": {
     "slide_type": "fragment"
    }
   },
   "outputs": [
    {
     "data": {
      "text/html": [
       "<table>\n",
       "<caption>A matrix: 3 × 3 of type dbl</caption>\n",
       "<tbody>\n",
       "\t<tr><td>2</td><td>8</td><td>5</td></tr>\n",
       "\t<tr><td>7</td><td>9</td><td>8</td></tr>\n",
       "\t<tr><td>4</td><td>0</td><td>5</td></tr>\n",
       "</tbody>\n",
       "</table>\n"
      ],
      "text/latex": [
       "A matrix: 3 × 3 of type dbl\n",
       "\\begin{tabular}{lll}\n",
       "\t 2 & 8 & 5\\\\\n",
       "\t 7 & 9 & 8\\\\\n",
       "\t 4 & 0 & 5\\\\\n",
       "\\end{tabular}\n"
      ],
      "text/markdown": [
       "\n",
       "A matrix: 3 × 3 of type dbl\n",
       "\n",
       "| 2 | 8 | 5 |\n",
       "| 7 | 9 | 8 |\n",
       "| 4 | 0 | 5 |\n",
       "\n"
      ],
      "text/plain": [
       "     [,1] [,2] [,3]\n",
       "[1,] 2    8    5   \n",
       "[2,] 7    9    8   \n",
       "[3,] 4    0    5   "
      ]
     },
     "metadata": {},
     "output_type": "display_data"
    },
    {
     "data": {
      "text/html": [
       "<table>\n",
       "<caption>A data.frame: 3 × 1</caption>\n",
       "<thead>\n",
       "\t<tr><th scope=col>a</th></tr>\n",
       "\t<tr><th scope=col>&lt;dbl&gt;</th></tr>\n",
       "</thead>\n",
       "<tbody>\n",
       "\t<tr><td> 7</td></tr>\n",
       "\t<tr><td>15</td></tr>\n",
       "\t<tr><td> 9</td></tr>\n",
       "</tbody>\n",
       "</table>\n"
      ],
      "text/latex": [
       "A data.frame: 3 × 1\n",
       "\\begin{tabular}{r|l}\n",
       " a\\\\\n",
       " <dbl>\\\\\n",
       "\\hline\n",
       "\t  7\\\\\n",
       "\t 15\\\\\n",
       "\t  9\\\\\n",
       "\\end{tabular}\n"
      ],
      "text/markdown": [
       "\n",
       "A data.frame: 3 × 1\n",
       "\n",
       "| a &lt;dbl&gt; |\n",
       "|---|\n",
       "|  7 |\n",
       "| 15 |\n",
       "|  9 |\n",
       "\n"
      ],
      "text/plain": [
       "  a \n",
       "1  7\n",
       "2 15\n",
       "3  9"
      ]
     },
     "metadata": {},
     "output_type": "display_data"
    },
    {
     "data": {
      "text/html": [
       "<table>\n",
       "<caption>A data.frame: 3 × 1</caption>\n",
       "<thead>\n",
       "\t<tr><th scope=col>x</th></tr>\n",
       "\t<tr><th scope=col>&lt;dbl&gt;</th></tr>\n",
       "</thead>\n",
       "<tbody>\n",
       "\t<tr><td>1</td></tr>\n",
       "\t<tr><td>0</td></tr>\n",
       "\t<tr><td>1</td></tr>\n",
       "</tbody>\n",
       "</table>\n"
      ],
      "text/latex": [
       "A data.frame: 3 × 1\n",
       "\\begin{tabular}{r|l}\n",
       " x\\\\\n",
       " <dbl>\\\\\n",
       "\\hline\n",
       "\t 1\\\\\n",
       "\t 0\\\\\n",
       "\t 1\\\\\n",
       "\\end{tabular}\n"
      ],
      "text/markdown": [
       "\n",
       "A data.frame: 3 × 1\n",
       "\n",
       "| x &lt;dbl&gt; |\n",
       "|---|\n",
       "| 1 |\n",
       "| 0 |\n",
       "| 1 |\n",
       "\n"
      ],
      "text/plain": [
       "  x\n",
       "1 1\n",
       "2 0\n",
       "3 1"
      ]
     },
     "metadata": {},
     "output_type": "display_data"
    }
   ],
   "source": [
    "C <- E\n",
    "C\n",
    "\n",
    "a <- c(7, 15, 9)\n",
    "as.data.frame(a)  #different display\n",
    "\n",
    "x <- solve(C, a)\n",
    "as.data.frame(x)  #different display"
   ]
  },
  {
   "cell_type": "markdown",
   "metadata": {
    "slideshow": {
     "slide_type": "slide"
    }
   },
   "source": [
    "## Factors\n",
    "In Data Analysis usually categorical variables have to be treated in another way than numerical variables. In R the values of categorical variables are not represented in vectors but in so called *factors*. Factors provide a very efficient way of processing categorical variables. Another advantage is that some algorithms, e.g. machine learning algorithms like decision trees, are already implemented such that they process factor-variables in another way as vector-variables. This means, that no explicit preprocessing routines must be implemented for categorical variables, such  as e.g. one-hot-encoding."
   ]
  },
  {
   "cell_type": "code",
   "execution_count": 67,
   "metadata": {
    "ExecuteTime": {
     "end_time": "2017-11-21T13:49:57.524000Z",
     "start_time": "2017-11-21T13:49:57.461Z"
    },
    "slideshow": {
     "slide_type": "subslide"
    }
   },
   "outputs": [
    {
     "name": "stdout",
     "output_type": "stream",
     "text": [
      "[1] \"red\"    \"blue\"   \"red\"    \"green\"  \"yellow\" \"green\"  \"green\"  \"blue\"  \n",
      "[1] \"character\"\n",
      "[1] red    blue   red    green  yellow green  green  blue  \n",
      "Levels: blue green red yellow\n",
      "[1] \"factor\"\n"
     ]
    },
    {
     "data": {
      "text/html": [
       "<ol class=list-inline>\n",
       "\t<li>'blue'</li>\n",
       "\t<li>'green'</li>\n",
       "\t<li>'red'</li>\n",
       "\t<li>'yellow'</li>\n",
       "</ol>\n"
      ],
      "text/latex": [
       "\\begin{enumerate*}\n",
       "\\item 'blue'\n",
       "\\item 'green'\n",
       "\\item 'red'\n",
       "\\item 'yellow'\n",
       "\\end{enumerate*}\n"
      ],
      "text/markdown": [
       "1. 'blue'\n",
       "2. 'green'\n",
       "3. 'red'\n",
       "4. 'yellow'\n",
       "\n",
       "\n"
      ],
      "text/plain": [
       "[1] \"blue\"   \"green\"  \"red\"    \"yellow\""
      ]
     },
     "metadata": {},
     "output_type": "display_data"
    }
   ],
   "source": [
    "vect <- c('red', 'blue', 'red', 'green', 'yellow', 'green', \n",
    "          'green', 'blue') #create vector\n",
    "print(vect) \n",
    "print(class(vect))\n",
    "\n",
    "fact <- factor(vect) #convert vector into factor\n",
    "print(fact)\n",
    "\n",
    "print(class(fact))\n",
    "\n",
    "levels(fact)"
   ]
  },
  {
   "cell_type": "markdown",
   "metadata": {
    "slideshow": {
     "slide_type": "subslide"
    }
   },
   "source": [
    "Each possible value of a factor-variable is called a *level*. The set of *levels* can easily be modified, as shown in the code cell below: "
   ]
  },
  {
   "cell_type": "code",
   "execution_count": 68,
   "metadata": {
    "ExecuteTime": {
     "end_time": "2017-11-21T13:50:01.010000Z",
     "start_time": "2017-11-21T13:50:00.964Z"
    },
    "slideshow": {
     "slide_type": "fragment"
    }
   },
   "outputs": [
    {
     "name": "stdout",
     "output_type": "stream",
     "text": [
      "[1] \"blue\"   \"green\"  \"red\"    \"yellow\"\n",
      "[1] rot  blau rot  grün gelb grün grün blau\n",
      "Levels: blau grün rot gelb\n"
     ]
    }
   ],
   "source": [
    "print(levels(fact))\n",
    "levels(fact) <- c('blau', 'grün', 'rot', 'gelb')\n",
    "print(fact)"
   ]
  },
  {
   "cell_type": "markdown",
   "metadata": {
    "slideshow": {
     "slide_type": "subslide"
    }
   },
   "source": [
    "The frequency of each level (value) in a factor-variable can be determined by the `table()`-function:"
   ]
  },
  {
   "cell_type": "code",
   "execution_count": 69,
   "metadata": {
    "ExecuteTime": {
     "end_time": "2017-11-21T13:50:06.684000Z",
     "start_time": "2017-11-21T13:50:06.638Z"
    },
    "slideshow": {
     "slide_type": "fragment"
    }
   },
   "outputs": [
    {
     "data": {
      "text/plain": [
       "fact\n",
       "blau grün  rot gelb \n",
       "   2    3    2    1 "
      ]
     },
     "metadata": {},
     "output_type": "display_data"
    }
   ],
   "source": [
    "table(fact)"
   ]
  },
  {
   "cell_type": "markdown",
   "metadata": {
    "slideshow": {
     "slide_type": "subslide"
    }
   },
   "source": [
    "We rename levels by the [`revalue()`](https://www.rdocumentation.org/packages/h2o/versions/2.8.4.4/topics/Revalue) function from \"plyr\" package, which is included in \"tidyverse\" package. Some arguments are:\n",
    "\n",
    "* 'x' defines the factor vector\n",
    "* 'replace' defines a named character vector with new values as values, and old values as names. If NULL, then no replacement is performed .e.g.: *revalue(x, c(\"old\"=\"new\", \"older\"=\"newer\"))*\n",
    "\n",
    "See also [Renaming levels of a factor](http://www.cookbook-r.com/Manipulating_data/Renaming_levels_of_a_factor/).\n"
   ]
  },
  {
   "cell_type": "code",
   "execution_count": 70,
   "metadata": {
    "slideshow": {
     "slide_type": "subslide"
    }
   },
   "outputs": [
    {
     "data": {
      "text/plain": [
       "fact.new\n",
       "blau grün  rot gelb \n",
       "   2    3    2    1 "
      ]
     },
     "metadata": {},
     "output_type": "display_data"
    },
    {
     "data": {
      "text/html": [
       "<ol class=list-inline>\n",
       "\t<li>'blue'</li>\n",
       "\t<li>'green'</li>\n",
       "\t<li>'rot'</li>\n",
       "\t<li>'gelb'</li>\n",
       "</ol>\n"
      ],
      "text/latex": [
       "\\begin{enumerate*}\n",
       "\\item 'blue'\n",
       "\\item 'green'\n",
       "\\item 'rot'\n",
       "\\item 'gelb'\n",
       "\\end{enumerate*}\n"
      ],
      "text/markdown": [
       "1. 'blue'\n",
       "2. 'green'\n",
       "3. 'rot'\n",
       "4. 'gelb'\n",
       "\n",
       "\n"
      ],
      "text/plain": [
       "[1] \"blue\"  \"green\" \"rot\"   \"gelb\" "
      ]
     },
     "metadata": {},
     "output_type": "display_data"
    },
    {
     "data": {
      "text/plain": [
       "fact.new\n",
       " blue green   rot  gelb \n",
       "    2     3     2     1 "
      ]
     },
     "metadata": {},
     "output_type": "display_data"
    }
   ],
   "source": [
    "#library(plyr)\n",
    "\n",
    "fact.new <- fact\n",
    "table(fact.new)\n",
    "\n",
    "fact.new <- plyr::revalue(fact.new, c(\"blau\"=\"blue\", \"grün\"=\"green\"))\n",
    "\n",
    "levels(fact.new)\n",
    "table(fact.new)\n"
   ]
  },
  {
   "cell_type": "markdown",
   "metadata": {
    "slideshow": {
     "slide_type": "slide"
    }
   },
   "source": [
    "## Lists\n",
    "In R lists are vectors, which can contain elements of different types. List elements can be basic types, more complex types, such as lists, matrices or data frames, even functions are possible. Since list elements can be named a list in R is similar to **dictionaries** in other programming languages\n"
   ]
  },
  {
   "cell_type": "markdown",
   "metadata": {
    "slideshow": {
     "slide_type": "subslide"
    }
   },
   "source": [
    "### List Creation\n",
    "In the code cell below `l1` is quite simple list, which contains only integers. List `l2` contains different types, list `l3` has named components and list `l4` contains a function - element: "
   ]
  },
  {
   "cell_type": "code",
   "execution_count": 71,
   "metadata": {
    "ExecuteTime": {
     "end_time": "2017-11-21T13:52:04.693000Z",
     "start_time": "2017-11-21T13:52:04.603Z"
    },
    "scrolled": true,
    "slideshow": {
     "slide_type": "fragment"
    }
   },
   "outputs": [
    {
     "data": {
      "text/html": [
       "<ol>\n",
       "\t<li>3</li>\n",
       "\t<li>7</li>\n",
       "\t<li>8</li>\n",
       "</ol>\n"
      ],
      "text/latex": [
       "\\begin{enumerate}\n",
       "\\item 3\n",
       "\\item 7\n",
       "\\item 8\n",
       "\\end{enumerate}\n"
      ],
      "text/markdown": [
       "1. 3\n",
       "2. 7\n",
       "3. 8\n",
       "\n",
       "\n"
      ],
      "text/plain": [
       "[[1]]\n",
       "[1] 3\n",
       "\n",
       "[[2]]\n",
       "[1] 7\n",
       "\n",
       "[[3]]\n",
       "[1] 8\n"
      ]
     },
     "metadata": {},
     "output_type": "display_data"
    },
    {
     "data": {
      "text/html": [
       "<ol>\n",
       "\t<li>3</li>\n",
       "\t<li>'drei'</li>\n",
       "\t<li><ol class=list-inline>\n",
       "\t<li>1</li>\n",
       "\t<li>2</li>\n",
       "\t<li>3</li>\n",
       "</ol>\n",
       "</li>\n",
       "</ol>\n"
      ],
      "text/latex": [
       "\\begin{enumerate}\n",
       "\\item 3\n",
       "\\item 'drei'\n",
       "\\item \\begin{enumerate*}\n",
       "\\item 1\n",
       "\\item 2\n",
       "\\item 3\n",
       "\\end{enumerate*}\n",
       "\n",
       "\\end{enumerate}\n"
      ],
      "text/markdown": [
       "1. 3\n",
       "2. 'drei'\n",
       "3. 1. 1\n",
       "2. 2\n",
       "3. 3\n",
       "\n",
       "\n",
       "\n",
       "\n",
       "\n"
      ],
      "text/plain": [
       "[[1]]\n",
       "[1] 3\n",
       "\n",
       "[[2]]\n",
       "[1] \"drei\"\n",
       "\n",
       "[[3]]\n",
       "[1] 1 2 3\n"
      ]
     },
     "metadata": {},
     "output_type": "display_data"
    },
    {
     "data": {
      "text/html": [
       "<dl>\n",
       "\t<dt>$ID</dt>\n",
       "\t\t<dd>100</dd>\n",
       "\t<dt>$firstname</dt>\n",
       "\t\t<dd>'paul'</dd>\n",
       "\t<dt>$lastname</dt>\n",
       "\t\t<dd>'major'</dd>\n",
       "</dl>\n"
      ],
      "text/latex": [
       "\\begin{description}\n",
       "\\item[\\$ID] 100\n",
       "\\item[\\$firstname] 'paul'\n",
       "\\item[\\$lastname] 'major'\n",
       "\\end{description}\n"
      ],
      "text/markdown": [
       "$ID\n",
       ":   100\n",
       "$firstname\n",
       ":   'paul'\n",
       "$lastname\n",
       ":   'major'\n",
       "\n",
       "\n"
      ],
      "text/plain": [
       "$ID\n",
       "[1] 100\n",
       "\n",
       "$firstname\n",
       "[1] \"paul\"\n",
       "\n",
       "$lastname\n",
       "[1] \"major\"\n"
      ]
     },
     "metadata": {},
     "output_type": "display_data"
    },
    {
     "data": {
      "text/html": [
       "<dl>\n",
       "\t<dt>$data</dt>\n",
       "\t\t<dd><ol class=list-inline>\n",
       "\t<li>2</li>\n",
       "\t<li>3</li>\n",
       "\t<li>4</li>\n",
       "\t<li>5</li>\n",
       "\t<li>6</li>\n",
       "\t<li>7</li>\n",
       "\t<li>8</li>\n",
       "\t<li>9</li>\n",
       "\t<li>10</li>\n",
       "</ol>\n",
       "</dd>\n",
       "\t<dt>$statfunc</dt>\n",
       "\t\t<dd><pre class=language-r><code>function (x, ...) \n",
       "UseMethod(\"mean\")</code></pre></dd>\n",
       "</dl>\n"
      ],
      "text/latex": [
       "\\begin{description}\n",
       "\\item[\\$data] \\begin{enumerate*}\n",
       "\\item 2\n",
       "\\item 3\n",
       "\\item 4\n",
       "\\item 5\n",
       "\\item 6\n",
       "\\item 7\n",
       "\\item 8\n",
       "\\item 9\n",
       "\\item 10\n",
       "\\end{enumerate*}\n",
       "\n",
       "\\item[\\$statfunc] \\begin{minted}{r}\n",
       "function (x, ...) \n",
       "UseMethod(\"mean\")\n",
       "\\end{minted}\n",
       "\\end{description}\n"
      ],
      "text/markdown": [
       "$data\n",
       ":   1. 2\n",
       "2. 3\n",
       "3. 4\n",
       "4. 5\n",
       "5. 6\n",
       "6. 7\n",
       "7. 8\n",
       "8. 9\n",
       "9. 10\n",
       "\n",
       "\n",
       "\n",
       "$statfunc\n",
       ":   ```r\n",
       "function (x, ...) \n",
       "UseMethod(\"mean\")\n",
       "```\n",
       "\n",
       "\n"
      ],
      "text/plain": [
       "$data\n",
       "[1]  2  3  4  5  6  7  8  9 10\n",
       "\n",
       "$statfunc\n",
       "function (x, ...) \n",
       "UseMethod(\"mean\")\n",
       "<bytecode: 0x000000001437f8a0>\n",
       "<environment: namespace:base>\n"
      ]
     },
     "metadata": {},
     "output_type": "display_data"
    },
    {
     "data": {
      "text/html": [
       "6"
      ],
      "text/latex": [
       "6"
      ],
      "text/markdown": [
       "6"
      ],
      "text/plain": [
       "[1] 6"
      ]
     },
     "metadata": {},
     "output_type": "display_data"
    }
   ],
   "source": [
    "l1 <- list(3, 7, 8)\n",
    "l2 <- list(3, \"drei\", 1:3)\n",
    "l3 <- list(ID=100, firstname=\"paul\", lastname=\"major\")\n",
    "l4 <- list(data=2:10, statfunc=mean)\n",
    "\n",
    "l1\n",
    "l2\n",
    "l3\n",
    "l4\n",
    "\n",
    "l4$statfunc(l4$data)"
   ]
  },
  {
   "cell_type": "markdown",
   "metadata": {
    "slideshow": {
     "slide_type": "subslide"
    }
   },
   "source": [
    "In the following cell a list, with named elements is defined. Each element itself is a vector. "
   ]
  },
  {
   "cell_type": "code",
   "execution_count": 72,
   "metadata": {
    "ExecuteTime": {
     "end_time": "2017-11-21T13:52:15.012000Z",
     "start_time": "2017-11-21T13:52:14.954Z"
    },
    "slideshow": {
     "slide_type": "fragment"
    }
   },
   "outputs": [
    {
     "name": "stdout",
     "output_type": "stream",
     "text": [
      "$temp\n",
      "[1] 17 21 23 14\n",
      "\n",
      "$weather\n",
      "[1] \"rainy\"  \"sunny\"  \"sunny\"  \"cloudy\"\n",
      "\n",
      "$day\n",
      "[1] \"monday\"    \"tuesday\"   \"wednesday\" \"thursday\" \n",
      "\n",
      "$year\n",
      "[1] 2016\n",
      "\n"
     ]
    },
    {
     "data": {
      "text/html": [
       "'list'"
      ],
      "text/latex": [
       "'list'"
      ],
      "text/markdown": [
       "'list'"
      ],
      "text/plain": [
       "[1] \"list\""
      ]
     },
     "metadata": {},
     "output_type": "display_data"
    }
   ],
   "source": [
    "tvec <- c(17, 21, 23, 14)\n",
    "wvec <- c(\"rainy\", \"sunny\", \"sunny\", \"cloudy\")\n",
    "dvec <- c(\"monday\", \"tuesday\", \"wednesday\", \"thursday\")\n",
    "yvec  <- 2016\n",
    "wlist <- list(temp=tvec, weather=wvec, day=dvec, year=yvec)\n",
    "\n",
    "print(wlist)\n",
    "class(wlist)"
   ]
  },
  {
   "cell_type": "markdown",
   "metadata": {
    "slideshow": {
     "slide_type": "subslide"
    }
   },
   "source": [
    "### Accessing List Elements\n",
    "There are different options for accessing list elements:"
   ]
  },
  {
   "cell_type": "code",
   "execution_count": 73,
   "metadata": {
    "ExecuteTime": {
     "end_time": "2017-11-21T13:52:30.173000Z",
     "start_time": "2017-11-21T13:52:30.108Z"
    },
    "slideshow": {
     "slide_type": "fragment"
    }
   },
   "outputs": [
    {
     "data": {
      "text/html": [
       "<strong>$temp</strong> = <ol class=list-inline>\n",
       "\t<li>17</li>\n",
       "\t<li>21</li>\n",
       "\t<li>23</li>\n",
       "\t<li>14</li>\n",
       "</ol>\n"
      ],
      "text/latex": [
       "\\textbf{\\$temp} = \\begin{enumerate*}\n",
       "\\item 17\n",
       "\\item 21\n",
       "\\item 23\n",
       "\\item 14\n",
       "\\end{enumerate*}\n"
      ],
      "text/markdown": [
       "**$temp** = 1. 17\n",
       "2. 21\n",
       "3. 23\n",
       "4. 14\n",
       "\n",
       "\n"
      ],
      "text/plain": [
       "$temp\n",
       "[1] 17 21 23 14\n"
      ]
     },
     "metadata": {},
     "output_type": "display_data"
    },
    {
     "data": {
      "text/html": [
       "'list'"
      ],
      "text/latex": [
       "'list'"
      ],
      "text/markdown": [
       "'list'"
      ],
      "text/plain": [
       "[1] \"list\""
      ]
     },
     "metadata": {},
     "output_type": "display_data"
    },
    {
     "data": {
      "text/html": [
       "<strong>$temp</strong> = <ol class=list-inline>\n",
       "\t<li>17</li>\n",
       "\t<li>21</li>\n",
       "\t<li>23</li>\n",
       "\t<li>14</li>\n",
       "</ol>\n"
      ],
      "text/latex": [
       "\\textbf{\\$temp} = \\begin{enumerate*}\n",
       "\\item 17\n",
       "\\item 21\n",
       "\\item 23\n",
       "\\item 14\n",
       "\\end{enumerate*}\n"
      ],
      "text/markdown": [
       "**$temp** = 1. 17\n",
       "2. 21\n",
       "3. 23\n",
       "4. 14\n",
       "\n",
       "\n"
      ],
      "text/plain": [
       "$temp\n",
       "[1] 17 21 23 14\n"
      ]
     },
     "metadata": {},
     "output_type": "display_data"
    },
    {
     "data": {
      "text/html": [
       "'list'"
      ],
      "text/latex": [
       "'list'"
      ],
      "text/markdown": [
       "'list'"
      ],
      "text/plain": [
       "[1] \"list\""
      ]
     },
     "metadata": {},
     "output_type": "display_data"
    },
    {
     "data": {
      "text/html": [
       "<ol class=list-inline>\n",
       "\t<li>17</li>\n",
       "\t<li>21</li>\n",
       "\t<li>23</li>\n",
       "\t<li>14</li>\n",
       "</ol>\n"
      ],
      "text/latex": [
       "\\begin{enumerate*}\n",
       "\\item 17\n",
       "\\item 21\n",
       "\\item 23\n",
       "\\item 14\n",
       "\\end{enumerate*}\n"
      ],
      "text/markdown": [
       "1. 17\n",
       "2. 21\n",
       "3. 23\n",
       "4. 14\n",
       "\n",
       "\n"
      ],
      "text/plain": [
       "[1] 17 21 23 14"
      ]
     },
     "metadata": {},
     "output_type": "display_data"
    },
    {
     "data": {
      "text/html": [
       "'numeric'"
      ],
      "text/latex": [
       "'numeric'"
      ],
      "text/markdown": [
       "'numeric'"
      ],
      "text/plain": [
       "[1] \"numeric\""
      ]
     },
     "metadata": {},
     "output_type": "display_data"
    }
   ],
   "source": [
    "wlist[1]\n",
    "class(wlist[1])\n",
    "\n",
    "wlist[\"temp\"]\n",
    "class(wlist[\"temp\"])\n",
    "\n",
    "wlist$temp\n",
    "class(wlist$temp)"
   ]
  },
  {
   "cell_type": "markdown",
   "metadata": {
    "slideshow": {
     "slide_type": "subslide"
    }
   },
   "source": [
    "**Note** that if only a single square-bracket is applied in the list access, the result is always a (sub-)list. This is true even in the case that the list element at the specified position is a single value as shown in the code-snippet below:"
   ]
  },
  {
   "cell_type": "code",
   "execution_count": 74,
   "metadata": {
    "ExecuteTime": {
     "end_time": "2017-11-21T13:53:19.705000Z",
     "start_time": "2017-11-21T13:53:19.663Z"
    },
    "slideshow": {
     "slide_type": "fragment"
    }
   },
   "outputs": [
    {
     "data": {
      "text/html": [
       "<ol>\n",
       "\t<li>7</li>\n",
       "</ol>\n"
      ],
      "text/latex": [
       "\\begin{enumerate}\n",
       "\\item 7\n",
       "\\end{enumerate}\n"
      ],
      "text/markdown": [
       "1. 7\n",
       "\n",
       "\n"
      ],
      "text/plain": [
       "[[1]]\n",
       "[1] 7\n"
      ]
     },
     "metadata": {},
     "output_type": "display_data"
    },
    {
     "data": {
      "text/html": [
       "'list'"
      ],
      "text/latex": [
       "'list'"
      ],
      "text/markdown": [
       "'list'"
      ],
      "text/plain": [
       "[1] \"list\""
      ]
     },
     "metadata": {},
     "output_type": "display_data"
    }
   ],
   "source": [
    "l1 <- list(3, 7, 8)\n",
    "l1[2] \n",
    "class(l1[2])\n"
   ]
  },
  {
   "cell_type": "markdown",
   "metadata": {
    "slideshow": {
     "slide_type": "subslide"
    }
   },
   "source": [
    "This property of list-access is a frequent cause of errors. For example simple operations like addition can not be performed on lists. Hence the attempts like shown in the following code-cell yield errors."
   ]
  },
  {
   "cell_type": "code",
   "execution_count": 75,
   "metadata": {
    "ExecuteTime": {
     "end_time": "2017-11-21T13:53:26.007000Z",
     "start_time": "2017-11-21T13:53:25.921Z"
    },
    "slideshow": {
     "slide_type": "fragment"
    }
   },
   "outputs": [],
   "source": [
    "# l1[2] + l1[3]"
   ]
  },
  {
   "cell_type": "markdown",
   "metadata": {
    "slideshow": {
     "slide_type": "subslide"
    }
   },
   "source": [
    "If the list access shall return single elements, not (sub-)lists, double square-brackets must be applied as shown below:"
   ]
  },
  {
   "cell_type": "code",
   "execution_count": 76,
   "metadata": {
    "ExecuteTime": {
     "end_time": "2017-11-21T13:53:30.097000Z",
     "start_time": "2017-11-21T13:53:30.057Z"
    },
    "slideshow": {
     "slide_type": "fragment"
    }
   },
   "outputs": [
    {
     "data": {
      "text/html": [
       "7"
      ],
      "text/latex": [
       "7"
      ],
      "text/markdown": [
       "7"
      ],
      "text/plain": [
       "[1] 7"
      ]
     },
     "metadata": {},
     "output_type": "display_data"
    },
    {
     "data": {
      "text/html": [
       "'numeric'"
      ],
      "text/latex": [
       "'numeric'"
      ],
      "text/markdown": [
       "'numeric'"
      ],
      "text/plain": [
       "[1] \"numeric\""
      ]
     },
     "metadata": {},
     "output_type": "display_data"
    }
   ],
   "source": [
    "l1[[2]]\n",
    "class(l1[[2]])"
   ]
  },
  {
   "cell_type": "code",
   "execution_count": 77,
   "metadata": {
    "ExecuteTime": {
     "end_time": "2017-11-21T13:53:47.297000Z",
     "start_time": "2017-11-21T13:53:47.262Z"
    },
    "slideshow": {
     "slide_type": "fragment"
    }
   },
   "outputs": [
    {
     "data": {
      "text/html": [
       "15"
      ],
      "text/latex": [
       "15"
      ],
      "text/markdown": [
       "15"
      ],
      "text/plain": [
       "[1] 15"
      ]
     },
     "metadata": {},
     "output_type": "display_data"
    }
   ],
   "source": [
    "l1[[2]] + l1[[3]]"
   ]
  },
  {
   "cell_type": "markdown",
   "metadata": {
    "slideshow": {
     "slide_type": "subslide"
    }
   },
   "source": [
    "Access vector-components of list-components: "
   ]
  },
  {
   "cell_type": "code",
   "execution_count": 78,
   "metadata": {
    "ExecuteTime": {
     "end_time": "2017-09-11T11:38:39.266000Z",
     "start_time": "2017-09-11T11:38:39.212Z"
    },
    "slideshow": {
     "slide_type": "fragment"
    }
   },
   "outputs": [
    {
     "data": {
      "text/html": [
       "21"
      ],
      "text/latex": [
       "21"
      ],
      "text/markdown": [
       "21"
      ],
      "text/plain": [
       "[1] 21"
      ]
     },
     "metadata": {},
     "output_type": "display_data"
    },
    {
     "data": {
      "text/html": [
       "'numeric'"
      ],
      "text/latex": [
       "'numeric'"
      ],
      "text/markdown": [
       "'numeric'"
      ],
      "text/plain": [
       "[1] \"numeric\""
      ]
     },
     "metadata": {},
     "output_type": "display_data"
    },
    {
     "data": {
      "text/html": [
       "'wednesday'"
      ],
      "text/latex": [
       "'wednesday'"
      ],
      "text/markdown": [
       "'wednesday'"
      ],
      "text/plain": [
       "[1] \"wednesday\""
      ]
     },
     "metadata": {},
     "output_type": "display_data"
    },
    {
     "data": {
      "text/html": [
       "'character'"
      ],
      "text/latex": [
       "'character'"
      ],
      "text/markdown": [
       "'character'"
      ],
      "text/plain": [
       "[1] \"character\""
      ]
     },
     "metadata": {},
     "output_type": "display_data"
    }
   ],
   "source": [
    "wlist[[\"temp\"]][2] #returns the second component of the vector wlist[[\"temp\"]], \n",
    "                   #which is the only element of the list wlist[\"temp\"]\n",
    "class(wlist[[\"temp\"]][2])\n",
    "\n",
    "wlist[[\"day\"]][3]\n",
    "class(wlist[[\"day\"]][3])"
   ]
  },
  {
   "cell_type": "code",
   "execution_count": 79,
   "metadata": {
    "ExecuteTime": {
     "end_time": "2017-11-21T13:55:29.035000Z",
     "start_time": "2017-11-21T13:55:28.983Z"
    },
    "slideshow": {
     "slide_type": "subslide"
    }
   },
   "outputs": [
    {
     "data": {
      "text/html": [
       "<ol class=list-inline>\n",
       "\t<li>17</li>\n",
       "\t<li>21</li>\n",
       "\t<li>23</li>\n",
       "\t<li>14</li>\n",
       "</ol>\n"
      ],
      "text/latex": [
       "\\begin{enumerate*}\n",
       "\\item 17\n",
       "\\item 21\n",
       "\\item 23\n",
       "\\item 14\n",
       "\\end{enumerate*}\n"
      ],
      "text/markdown": [
       "1. 17\n",
       "2. 21\n",
       "3. 23\n",
       "4. 14\n",
       "\n",
       "\n"
      ],
      "text/plain": [
       "[1] 17 21 23 14"
      ]
     },
     "metadata": {},
     "output_type": "display_data"
    },
    {
     "data": {
      "text/html": [
       "'tuesday'"
      ],
      "text/latex": [
       "'tuesday'"
      ],
      "text/markdown": [
       "'tuesday'"
      ],
      "text/plain": [
       "[1] \"tuesday\""
      ]
     },
     "metadata": {},
     "output_type": "display_data"
    },
    {
     "data": {
      "text/html": [
       "2016"
      ],
      "text/latex": [
       "2016"
      ],
      "text/markdown": [
       "2016"
      ],
      "text/plain": [
       "[1] 2016"
      ]
     },
     "metadata": {},
     "output_type": "display_data"
    }
   ],
   "source": [
    "wlist$temp\n",
    "wlist$day[2]\n",
    "wlist$year"
   ]
  },
  {
   "cell_type": "markdown",
   "metadata": {
    "slideshow": {
     "slide_type": "slide"
    }
   },
   "source": [
    "### Flatten nested lists\n",
    "Flattening means that a more-dimensional object is transformed into a one-dimensional representation. For example, a list of lists (2-dimensional object) can be turned into a one-dimensional list, by applying the `unlist()`-function:"
   ]
  },
  {
   "cell_type": "code",
   "execution_count": 80,
   "metadata": {
    "ExecuteTime": {
     "end_time": "2017-11-21T13:55:43.740000Z",
     "start_time": "2017-11-21T13:55:43.689Z"
    },
    "slideshow": {
     "slide_type": "fragment"
    }
   },
   "outputs": [
    {
     "data": {
      "text/html": [
       "<dl class=dl-horizontal>\n",
       "\t<dt>temp1</dt>\n",
       "\t\t<dd>'17'</dd>\n",
       "\t<dt>temp2</dt>\n",
       "\t\t<dd>'21'</dd>\n",
       "\t<dt>temp3</dt>\n",
       "\t\t<dd>'23'</dd>\n",
       "\t<dt>temp4</dt>\n",
       "\t\t<dd>'14'</dd>\n",
       "\t<dt>weather1</dt>\n",
       "\t\t<dd>'rainy'</dd>\n",
       "\t<dt>weather2</dt>\n",
       "\t\t<dd>'sunny'</dd>\n",
       "\t<dt>weather3</dt>\n",
       "\t\t<dd>'sunny'</dd>\n",
       "\t<dt>weather4</dt>\n",
       "\t\t<dd>'cloudy'</dd>\n",
       "\t<dt>day1</dt>\n",
       "\t\t<dd>'monday'</dd>\n",
       "\t<dt>day2</dt>\n",
       "\t\t<dd>'tuesday'</dd>\n",
       "\t<dt>day3</dt>\n",
       "\t\t<dd>'wednesday'</dd>\n",
       "\t<dt>day4</dt>\n",
       "\t\t<dd>'thursday'</dd>\n",
       "\t<dt>year</dt>\n",
       "\t\t<dd>'2016'</dd>\n",
       "</dl>\n"
      ],
      "text/latex": [
       "\\begin{description*}\n",
       "\\item[temp1] '17'\n",
       "\\item[temp2] '21'\n",
       "\\item[temp3] '23'\n",
       "\\item[temp4] '14'\n",
       "\\item[weather1] 'rainy'\n",
       "\\item[weather2] 'sunny'\n",
       "\\item[weather3] 'sunny'\n",
       "\\item[weather4] 'cloudy'\n",
       "\\item[day1] 'monday'\n",
       "\\item[day2] 'tuesday'\n",
       "\\item[day3] 'wednesday'\n",
       "\\item[day4] 'thursday'\n",
       "\\item[year] '2016'\n",
       "\\end{description*}\n"
      ],
      "text/markdown": [
       "temp1\n",
       ":   '17'temp2\n",
       ":   '21'temp3\n",
       ":   '23'temp4\n",
       ":   '14'weather1\n",
       ":   'rainy'weather2\n",
       ":   'sunny'weather3\n",
       ":   'sunny'weather4\n",
       ":   'cloudy'day1\n",
       ":   'monday'day2\n",
       ":   'tuesday'day3\n",
       ":   'wednesday'day4\n",
       ":   'thursday'year\n",
       ":   '2016'\n",
       "\n"
      ],
      "text/plain": [
       "      temp1       temp2       temp3       temp4    weather1    weather2 \n",
       "       \"17\"        \"21\"        \"23\"        \"14\"     \"rainy\"     \"sunny\" \n",
       "   weather3    weather4        day1        day2        day3        day4 \n",
       "    \"sunny\"    \"cloudy\"    \"monday\"   \"tuesday\" \"wednesday\"  \"thursday\" \n",
       "       year \n",
       "     \"2016\" "
      ]
     },
     "metadata": {},
     "output_type": "display_data"
    },
    {
     "data": {
      "text/html": [
       "'character'"
      ],
      "text/latex": [
       "'character'"
      ],
      "text/markdown": [
       "'character'"
      ],
      "text/plain": [
       "[1] \"character\""
      ]
     },
     "metadata": {},
     "output_type": "display_data"
    }
   ],
   "source": [
    "flist <- unlist(wlist)\n",
    "flist\n",
    "\n",
    "class(flist)"
   ]
  },
  {
   "cell_type": "markdown",
   "metadata": {
    "slideshow": {
     "slide_type": "slide"
    }
   },
   "source": [
    "### Removing elements from a list\n",
    "List elements can be removed by assigning `NULL` to the corresponding element:"
   ]
  },
  {
   "cell_type": "code",
   "execution_count": 81,
   "metadata": {
    "ExecuteTime": {
     "end_time": "2017-11-21T13:55:51.385000Z",
     "start_time": "2017-11-21T13:55:51.338Z"
    },
    "slideshow": {
     "slide_type": "fragment"
    }
   },
   "outputs": [
    {
     "data": {
      "text/html": [
       "<ol>\n",
       "\t<li>3</li>\n",
       "\t<li>7</li>\n",
       "\t<li>8</li>\n",
       "</ol>\n"
      ],
      "text/latex": [
       "\\begin{enumerate}\n",
       "\\item 3\n",
       "\\item 7\n",
       "\\item 8\n",
       "\\end{enumerate}\n"
      ],
      "text/markdown": [
       "1. 3\n",
       "2. 7\n",
       "3. 8\n",
       "\n",
       "\n"
      ],
      "text/plain": [
       "[[1]]\n",
       "[1] 3\n",
       "\n",
       "[[2]]\n",
       "[1] 7\n",
       "\n",
       "[[3]]\n",
       "[1] 8\n"
      ]
     },
     "metadata": {},
     "output_type": "display_data"
    },
    {
     "data": {
      "text/html": [
       "<ol>\n",
       "\t<li>3</li>\n",
       "\t<li>8</li>\n",
       "</ol>\n"
      ],
      "text/latex": [
       "\\begin{enumerate}\n",
       "\\item 3\n",
       "\\item 8\n",
       "\\end{enumerate}\n"
      ],
      "text/markdown": [
       "1. 3\n",
       "2. 8\n",
       "\n",
       "\n"
      ],
      "text/plain": [
       "[[1]]\n",
       "[1] 3\n",
       "\n",
       "[[2]]\n",
       "[1] 8\n"
      ]
     },
     "metadata": {},
     "output_type": "display_data"
    }
   ],
   "source": [
    "l1\n",
    "l1[2] <- NULL\n",
    "l1"
   ]
  },
  {
   "cell_type": "markdown",
   "metadata": {
    "slideshow": {
     "slide_type": "slide"
    }
   },
   "source": [
    "## Data Frame\n",
    "\n",
    "### Generate Data Frame and Access Elements\n",
    "\n",
    "Data frames are applied for storing data tables and is **the most important data type in R**. A data frame is a list of vectors of equal length."
   ]
  },
  {
   "cell_type": "markdown",
   "metadata": {
    "slideshow": {
     "slide_type": "subslide"
    }
   },
   "source": [
    "Initialize dataframe from column data:"
   ]
  },
  {
   "cell_type": "code",
   "execution_count": 82,
   "metadata": {
    "ExecuteTime": {
     "end_time": "2017-11-21T13:56:12.981000Z",
     "start_time": "2017-11-21T13:56:12.942Z"
    },
    "slideshow": {
     "slide_type": "fragment"
    }
   },
   "outputs": [
    {
     "name": "stdout",
     "output_type": "stream",
     "text": [
      "  degree weather   weekday\n",
      "1     17   rainy    monday\n",
      "2     21   sunny   tuesday\n",
      "3     23   sunny wednesday\n",
      "4     14  cloudy  thursday\n",
      "\n",
      "#Tidyverse syntax:\n",
      "Observations: 4\n",
      "Variables: 3\n",
      "$ degree  \u001b[3m\u001b[90m<dbl>\u001b[39m\u001b[23m 17, 21, 23, 14\n",
      "$ weather \u001b[3m\u001b[90m<fct>\u001b[39m\u001b[23m rainy, sunny, sunny, cloudy\n",
      "$ weekday \u001b[3m\u001b[90m<fct>\u001b[39m\u001b[23m monday, tuesday, wednesday, thursday\n"
     ]
    }
   ],
   "source": [
    "tvec <- c(17, 21, 23, 14)\n",
    "wvec <- c(\"rainy\", \"sunny\", \"sunny\", \"cloudy\")\n",
    "dvec <- c(\"monday\", \"tuesday\", \"wednesday\", \"thursday\")\n",
    "\n",
    "#Create a data frame with named columns otherwise it will be the vector variable name\n",
    "df <- data.frame(\"degree\" = tvec, \"weather\" = wvec, \"weekday\" = dvec)\n",
    "print(df)\n",
    "\n",
    "cat(\"\\n#Tidyverse syntax:\\n\")\n",
    "glimpse(df)   #Short overview of df"
   ]
  },
  {
   "cell_type": "markdown",
   "metadata": {
    "slideshow": {
     "slide_type": "subslide"
    }
   },
   "source": [
    "Get number of rows and columns of a dataframe:"
   ]
  },
  {
   "cell_type": "code",
   "execution_count": 83,
   "metadata": {
    "ExecuteTime": {
     "end_time": "2017-11-21T13:57:30.893000Z",
     "start_time": "2017-11-21T13:57:30.855Z"
    },
    "slideshow": {
     "slide_type": "fragment"
    }
   },
   "outputs": [
    {
     "data": {
      "text/html": [
       "<ol class=list-inline>\n",
       "\t<li>4</li>\n",
       "\t<li>3</li>\n",
       "</ol>\n"
      ],
      "text/latex": [
       "\\begin{enumerate*}\n",
       "\\item 4\n",
       "\\item 3\n",
       "\\end{enumerate*}\n"
      ],
      "text/markdown": [
       "1. 4\n",
       "2. 3\n",
       "\n",
       "\n"
      ],
      "text/plain": [
       "[1] 4 3"
      ]
     },
     "metadata": {},
     "output_type": "display_data"
    }
   ],
   "source": [
    "dim(df)"
   ]
  },
  {
   "cell_type": "markdown",
   "metadata": {
    "slideshow": {
     "slide_type": "slide"
    }
   },
   "source": [
    "### Access, select and filter elements of a dataframe\n",
    "\n",
    "Some functions from **tidyverse** (more exactly from the dplyr package) and some symbols:\n",
    "\n",
    "* `select()` for include/exclude columns - see [select()](https://dplyr.tidyverse.org/reference/select.html) and [examples](https://r4ds.had.co.nz/transform.html#select)\n",
    "\n",
    "* `filter()` for filtering of rows - see [filter()](https://dplyr.tidyverse.org/reference/filter.html) and [examples](https://r4ds.had.co.nz/transform.html#filter-rows-with-filter)\n",
    "\n",
    "* `%>%` to chain functions to a pipeline where the first argument of a function will automatically replaced by the data itself - see our example below\n"
   ]
  },
  {
   "cell_type": "markdown",
   "metadata": {
    "slideshow": {
     "slide_type": "subslide"
    }
   },
   "source": [
    "#### Some tips for pipeling with %>%\n",
    "To refer explicit to the data as an argument use the symbol `.` - a point, e.g. \n",
    "\n",
    "    lm(mpg ~ wt, data = .)\n",
    "\n",
    "To avoid explicit the automatically replacing of the first argument of a function by the data use the symbol `{...}` or `%$%` (from package \"magrittr\"), e.g. \n",
    "\n",
    "    iris %>% {cor(x = .$Sepal.Length, y = .$Sepal.Width)}\n",
    "    \n",
    "See [Use pipe without feeding first argument](https://stackoverflow.com/questions/38717657/use-pipe-without-feeding-first-argument)"
   ]
  },
  {
   "cell_type": "code",
   "execution_count": 84,
   "metadata": {
    "ExecuteTime": {
     "end_time": "2017-11-21T13:57:43.737000Z",
     "start_time": "2017-11-21T13:57:43.687Z"
    },
    "slideshow": {
     "slide_type": "subslide"
    }
   },
   "outputs": [
    {
     "data": {
      "text/html": [
       "tuesday\n",
       "<details>\n",
       "\t<summary style=display:list-item;cursor:pointer>\n",
       "\t\t<strong>Levels</strong>:\n",
       "\t</summary>\n",
       "\t<ol class=list-inline>\n",
       "\t\t<li>'monday'</li>\n",
       "\t\t<li>'thursday'</li>\n",
       "\t\t<li>'tuesday'</li>\n",
       "\t\t<li>'wednesday'</li>\n",
       "\t</ol>\n",
       "</details>"
      ],
      "text/latex": [
       "tuesday\n",
       "\\emph{Levels}: \\begin{enumerate*}\n",
       "\\item 'monday'\n",
       "\\item 'thursday'\n",
       "\\item 'tuesday'\n",
       "\\item 'wednesday'\n",
       "\\end{enumerate*}\n"
      ],
      "text/markdown": [
       "tuesday\n",
       "**Levels**: 1. 'monday'\n",
       "2. 'thursday'\n",
       "3. 'tuesday'\n",
       "4. 'wednesday'\n",
       "\n",
       "\n"
      ],
      "text/plain": [
       "[1] tuesday\n",
       "Levels: monday thursday tuesday wednesday"
      ]
     },
     "metadata": {},
     "output_type": "display_data"
    },
    {
     "data": {
      "text/html": [
       "tuesday\n",
       "<details>\n",
       "\t<summary style=display:list-item;cursor:pointer>\n",
       "\t\t<strong>Levels</strong>:\n",
       "\t</summary>\n",
       "\t<ol class=list-inline>\n",
       "\t\t<li>'monday'</li>\n",
       "\t\t<li>'thursday'</li>\n",
       "\t\t<li>'tuesday'</li>\n",
       "\t\t<li>'wednesday'</li>\n",
       "\t</ol>\n",
       "</details>"
      ],
      "text/latex": [
       "tuesday\n",
       "\\emph{Levels}: \\begin{enumerate*}\n",
       "\\item 'monday'\n",
       "\\item 'thursday'\n",
       "\\item 'tuesday'\n",
       "\\item 'wednesday'\n",
       "\\end{enumerate*}\n"
      ],
      "text/markdown": [
       "tuesday\n",
       "**Levels**: 1. 'monday'\n",
       "2. 'thursday'\n",
       "3. 'tuesday'\n",
       "4. 'wednesday'\n",
       "\n",
       "\n"
      ],
      "text/plain": [
       "[1] tuesday\n",
       "Levels: monday thursday tuesday wednesday"
      ]
     },
     "metadata": {},
     "output_type": "display_data"
    },
    {
     "data": {
      "text/html": [
       "tuesday\n",
       "<details>\n",
       "\t<summary style=display:list-item;cursor:pointer>\n",
       "\t\t<strong>Levels</strong>:\n",
       "\t</summary>\n",
       "\t<ol class=list-inline>\n",
       "\t\t<li>'monday'</li>\n",
       "\t\t<li>'thursday'</li>\n",
       "\t\t<li>'tuesday'</li>\n",
       "\t\t<li>'wednesday'</li>\n",
       "\t</ol>\n",
       "</details>"
      ],
      "text/latex": [
       "tuesday\n",
       "\\emph{Levels}: \\begin{enumerate*}\n",
       "\\item 'monday'\n",
       "\\item 'thursday'\n",
       "\\item 'tuesday'\n",
       "\\item 'wednesday'\n",
       "\\end{enumerate*}\n"
      ],
      "text/markdown": [
       "tuesday\n",
       "**Levels**: 1. 'monday'\n",
       "2. 'thursday'\n",
       "3. 'tuesday'\n",
       "4. 'wednesday'\n",
       "\n",
       "\n"
      ],
      "text/plain": [
       "[1] tuesday\n",
       "Levels: monday thursday tuesday wednesday"
      ]
     },
     "metadata": {},
     "output_type": "display_data"
    },
    {
     "name": "stdout",
     "output_type": "stream",
     "text": [
      "\n",
      "#Tidyverse syntax:\n"
     ]
    },
    {
     "data": {
      "text/html": [
       "<table>\n",
       "<caption>A data.frame: 1 × 1</caption>\n",
       "<thead>\n",
       "\t<tr><th scope=col>weekday</th></tr>\n",
       "\t<tr><th scope=col>&lt;fct&gt;</th></tr>\n",
       "</thead>\n",
       "<tbody>\n",
       "\t<tr><td>tuesday</td></tr>\n",
       "</tbody>\n",
       "</table>\n"
      ],
      "text/latex": [
       "A data.frame: 1 × 1\n",
       "\\begin{tabular}{r|l}\n",
       " weekday\\\\\n",
       " <fct>\\\\\n",
       "\\hline\n",
       "\t tuesday\\\\\n",
       "\\end{tabular}\n"
      ],
      "text/markdown": [
       "\n",
       "A data.frame: 1 × 1\n",
       "\n",
       "| weekday &lt;fct&gt; |\n",
       "|---|\n",
       "| tuesday |\n",
       "\n"
      ],
      "text/plain": [
       "  weekday\n",
       "1 tuesday"
      ]
     },
     "metadata": {},
     "output_type": "display_data"
    }
   ],
   "source": [
    "#row, column\n",
    "df[2,3]\n",
    "df[2,\"weekday\"]\n",
    "df[\"2\",\"weekday\"]\n",
    "\n",
    "\n",
    "cat(\"\\n#Tidyverse syntax:\\n\")\n",
    "df %>%\n",
    "    select(weekday) %>%       \n",
    "    filter(row_number() == 2)  \n"
   ]
  },
  {
   "cell_type": "code",
   "execution_count": 85,
   "metadata": {
    "slideshow": {
     "slide_type": "subslide"
    }
   },
   "outputs": [
    {
     "data": {
      "text/html": [
       "<table>\n",
       "<caption>A data.frame: 4 × 1</caption>\n",
       "<thead>\n",
       "\t<tr><th scope=col>degree</th></tr>\n",
       "\t<tr><th scope=col>&lt;dbl&gt;</th></tr>\n",
       "</thead>\n",
       "<tbody>\n",
       "\t<tr><td>17</td></tr>\n",
       "\t<tr><td>21</td></tr>\n",
       "\t<tr><td>23</td></tr>\n",
       "\t<tr><td>14</td></tr>\n",
       "</tbody>\n",
       "</table>\n"
      ],
      "text/latex": [
       "A data.frame: 4 × 1\n",
       "\\begin{tabular}{r|l}\n",
       " degree\\\\\n",
       " <dbl>\\\\\n",
       "\\hline\n",
       "\t 17\\\\\n",
       "\t 21\\\\\n",
       "\t 23\\\\\n",
       "\t 14\\\\\n",
       "\\end{tabular}\n"
      ],
      "text/markdown": [
       "\n",
       "A data.frame: 4 × 1\n",
       "\n",
       "| degree &lt;dbl&gt; |\n",
       "|---|\n",
       "| 17 |\n",
       "| 21 |\n",
       "| 23 |\n",
       "| 14 |\n",
       "\n"
      ],
      "text/plain": [
       "  degree\n",
       "1 17    \n",
       "2 21    \n",
       "3 23    \n",
       "4 14    "
      ]
     },
     "metadata": {},
     "output_type": "display_data"
    },
    {
     "data": {
      "text/html": [
       "<table>\n",
       "<caption>A data.frame: 1 × 3</caption>\n",
       "<thead>\n",
       "\t<tr><th scope=col>degree</th><th scope=col>weather</th><th scope=col>weekday</th></tr>\n",
       "\t<tr><th scope=col>&lt;dbl&gt;</th><th scope=col>&lt;fct&gt;</th><th scope=col>&lt;fct&gt;</th></tr>\n",
       "</thead>\n",
       "<tbody>\n",
       "\t<tr><td>17</td><td>rainy</td><td>monday</td></tr>\n",
       "</tbody>\n",
       "</table>\n"
      ],
      "text/latex": [
       "A data.frame: 1 × 3\n",
       "\\begin{tabular}{r|lll}\n",
       " degree & weather & weekday\\\\\n",
       " <dbl> & <fct> & <fct>\\\\\n",
       "\\hline\n",
       "\t 17 & rainy & monday\\\\\n",
       "\\end{tabular}\n"
      ],
      "text/markdown": [
       "\n",
       "A data.frame: 1 × 3\n",
       "\n",
       "| degree &lt;dbl&gt; | weather &lt;fct&gt; | weekday &lt;fct&gt; |\n",
       "|---|---|---|\n",
       "| 17 | rainy | monday |\n",
       "\n"
      ],
      "text/plain": [
       "  degree weather weekday\n",
       "1 17     rainy   monday "
      ]
     },
     "metadata": {},
     "output_type": "display_data"
    },
    {
     "name": "stdout",
     "output_type": "stream",
     "text": [
      "\n",
      "Look at the pipe symbol %>% above. It is the same as:\n"
     ]
    },
    {
     "data": {
      "text/html": [
       "<table>\n",
       "<caption>A data.frame: 1 × 1</caption>\n",
       "<thead>\n",
       "\t<tr><th scope=col>weekday</th></tr>\n",
       "\t<tr><th scope=col>&lt;fct&gt;</th></tr>\n",
       "</thead>\n",
       "<tbody>\n",
       "\t<tr><td>tuesday</td></tr>\n",
       "</tbody>\n",
       "</table>\n"
      ],
      "text/latex": [
       "A data.frame: 1 × 1\n",
       "\\begin{tabular}{r|l}\n",
       " weekday\\\\\n",
       " <fct>\\\\\n",
       "\\hline\n",
       "\t tuesday\\\\\n",
       "\\end{tabular}\n"
      ],
      "text/markdown": [
       "\n",
       "A data.frame: 1 × 1\n",
       "\n",
       "| weekday &lt;fct&gt; |\n",
       "|---|\n",
       "| tuesday |\n",
       "\n"
      ],
      "text/plain": [
       "  weekday\n",
       "1 tuesday"
      ]
     },
     "metadata": {},
     "output_type": "display_data"
    }
   ],
   "source": [
    "#All columns except from 'weather' to 'weekday'\n",
    "select(df, -(weather:weekday))   \n",
    "\n",
    "#----Example\n",
    "#All rows where 'weather' == \"rainy\" AND 'weekday' == \"monday\"\n",
    "filter(df, weather == \"rainy\", weekday == \"monday\")  \n",
    "\n",
    "cat(\"\\nLook at the pipe symbol %>% above. It is the same as:\\n\")\n",
    "df.select <- select(df, \"weekday\")\n",
    "filter(df.select, row_number() == 2)"
   ]
  },
  {
   "cell_type": "code",
   "execution_count": 86,
   "metadata": {
    "ExecuteTime": {
     "end_time": "2017-09-28T12:21:07.572000Z",
     "start_time": "2017-09-28T12:21:07.534Z"
    },
    "slideshow": {
     "slide_type": "subslide"
    }
   },
   "outputs": [
    {
     "data": {
      "text/html": [
       "4"
      ],
      "text/latex": [
       "4"
      ],
      "text/markdown": [
       "4"
      ],
      "text/plain": [
       "[1] 4"
      ]
     },
     "metadata": {},
     "output_type": "display_data"
    },
    {
     "data": {
      "text/html": [
       "3"
      ],
      "text/latex": [
       "3"
      ],
      "text/markdown": [
       "3"
      ],
      "text/plain": [
       "[1] 3"
      ]
     },
     "metadata": {},
     "output_type": "display_data"
    }
   ],
   "source": [
    "#Number of rows and columns \n",
    "nrow(df)\n",
    "\n",
    "ncol(df)"
   ]
  },
  {
   "cell_type": "code",
   "execution_count": 87,
   "metadata": {
    "ExecuteTime": {
     "end_time": "2017-11-21T13:57:50.594000Z",
     "start_time": "2017-11-21T13:57:50.555Z"
    },
    "slideshow": {
     "slide_type": "subslide"
    }
   },
   "outputs": [
    {
     "data": {
      "text/html": [
       "<ol class=list-inline>\n",
       "\t<li>monday</li>\n",
       "\t<li>tuesday</li>\n",
       "\t<li>wednesday</li>\n",
       "\t<li>thursday</li>\n",
       "</ol>\n",
       "\n",
       "<details>\n",
       "\t<summary style=display:list-item;cursor:pointer>\n",
       "\t\t<strong>Levels</strong>:\n",
       "\t</summary>\n",
       "\t<ol class=list-inline>\n",
       "\t\t<li>'monday'</li>\n",
       "\t\t<li>'thursday'</li>\n",
       "\t\t<li>'tuesday'</li>\n",
       "\t\t<li>'wednesday'</li>\n",
       "\t</ol>\n",
       "</details>"
      ],
      "text/latex": [
       "\\begin{enumerate*}\n",
       "\\item monday\n",
       "\\item tuesday\n",
       "\\item wednesday\n",
       "\\item thursday\n",
       "\\end{enumerate*}\n",
       "\n",
       "\\emph{Levels}: \\begin{enumerate*}\n",
       "\\item 'monday'\n",
       "\\item 'thursday'\n",
       "\\item 'tuesday'\n",
       "\\item 'wednesday'\n",
       "\\end{enumerate*}\n"
      ],
      "text/markdown": [
       "1. monday\n",
       "2. tuesday\n",
       "3. wednesday\n",
       "4. thursday\n",
       "\n",
       "\n",
       "\n",
       "**Levels**: 1. 'monday'\n",
       "2. 'thursday'\n",
       "3. 'tuesday'\n",
       "4. 'wednesday'\n",
       "\n",
       "\n"
      ],
      "text/plain": [
       "[1] monday    tuesday   wednesday thursday \n",
       "Levels: monday thursday tuesday wednesday"
      ]
     },
     "metadata": {},
     "output_type": "display_data"
    },
    {
     "data": {
      "text/html": [
       "'factor'"
      ],
      "text/latex": [
       "'factor'"
      ],
      "text/markdown": [
       "'factor'"
      ],
      "text/plain": [
       "[1] \"factor\""
      ]
     },
     "metadata": {},
     "output_type": "display_data"
    },
    {
     "data": {
      "text/html": [
       "<table>\n",
       "<caption>A data.frame: 4 × 1</caption>\n",
       "<thead>\n",
       "\t<tr><th scope=col>weekday</th></tr>\n",
       "\t<tr><th scope=col>&lt;fct&gt;</th></tr>\n",
       "</thead>\n",
       "<tbody>\n",
       "\t<tr><td>monday   </td></tr>\n",
       "\t<tr><td>tuesday  </td></tr>\n",
       "\t<tr><td>wednesday</td></tr>\n",
       "\t<tr><td>thursday </td></tr>\n",
       "</tbody>\n",
       "</table>\n"
      ],
      "text/latex": [
       "A data.frame: 4 × 1\n",
       "\\begin{tabular}{r|l}\n",
       " weekday\\\\\n",
       " <fct>\\\\\n",
       "\\hline\n",
       "\t monday   \\\\\n",
       "\t tuesday  \\\\\n",
       "\t wednesday\\\\\n",
       "\t thursday \\\\\n",
       "\\end{tabular}\n"
      ],
      "text/markdown": [
       "\n",
       "A data.frame: 4 × 1\n",
       "\n",
       "| weekday &lt;fct&gt; |\n",
       "|---|\n",
       "| monday    |\n",
       "| tuesday   |\n",
       "| wednesday |\n",
       "| thursday  |\n",
       "\n"
      ],
      "text/plain": [
       "  weekday  \n",
       "1 monday   \n",
       "2 tuesday  \n",
       "3 wednesday\n",
       "4 thursday "
      ]
     },
     "metadata": {},
     "output_type": "display_data"
    },
    {
     "data": {
      "text/html": [
       "'data.frame'"
      ],
      "text/latex": [
       "'data.frame'"
      ],
      "text/markdown": [
       "'data.frame'"
      ],
      "text/plain": [
       "[1] \"data.frame\""
      ]
     },
     "metadata": {},
     "output_type": "display_data"
    }
   ],
   "source": [
    "(x1 <- df[[3]])\n",
    "class(df[[3]])\n",
    "\n",
    "(x2 <- df[3])\n",
    "class(df[3])\n",
    "\n",
    "#Here the objects are identical\n",
    "#identical(df[[3]], df[, 3])\n"
   ]
  },
  {
   "cell_type": "code",
   "execution_count": 88,
   "metadata": {
    "ExecuteTime": {
     "end_time": "2017-11-21T13:58:36.568000Z",
     "start_time": "2017-11-21T13:58:36.528Z"
    },
    "slideshow": {
     "slide_type": "subslide"
    }
   },
   "outputs": [
    {
     "data": {
      "text/html": [
       "<ol class=list-inline>\n",
       "\t<li>monday</li>\n",
       "\t<li>tuesday</li>\n",
       "\t<li>wednesday</li>\n",
       "\t<li>thursday</li>\n",
       "</ol>\n",
       "\n",
       "<details>\n",
       "\t<summary style=display:list-item;cursor:pointer>\n",
       "\t\t<strong>Levels</strong>:\n",
       "\t</summary>\n",
       "\t<ol class=list-inline>\n",
       "\t\t<li>'monday'</li>\n",
       "\t\t<li>'thursday'</li>\n",
       "\t\t<li>'tuesday'</li>\n",
       "\t\t<li>'wednesday'</li>\n",
       "\t</ol>\n",
       "</details>"
      ],
      "text/latex": [
       "\\begin{enumerate*}\n",
       "\\item monday\n",
       "\\item tuesday\n",
       "\\item wednesday\n",
       "\\item thursday\n",
       "\\end{enumerate*}\n",
       "\n",
       "\\emph{Levels}: \\begin{enumerate*}\n",
       "\\item 'monday'\n",
       "\\item 'thursday'\n",
       "\\item 'tuesday'\n",
       "\\item 'wednesday'\n",
       "\\end{enumerate*}\n"
      ],
      "text/markdown": [
       "1. monday\n",
       "2. tuesday\n",
       "3. wednesday\n",
       "4. thursday\n",
       "\n",
       "\n",
       "\n",
       "**Levels**: 1. 'monday'\n",
       "2. 'thursday'\n",
       "3. 'tuesday'\n",
       "4. 'wednesday'\n",
       "\n",
       "\n"
      ],
      "text/plain": [
       "[1] monday    tuesday   wednesday thursday \n",
       "Levels: monday thursday tuesday wednesday"
      ]
     },
     "metadata": {},
     "output_type": "display_data"
    },
    {
     "name": "stdout",
     "output_type": "stream",
     "text": [
      "\n",
      "#Tidyverse syntax:\n"
     ]
    },
    {
     "data": {
      "text/html": [
       "<table>\n",
       "<caption>A data.frame: 4 × 1</caption>\n",
       "<thead>\n",
       "\t<tr><th scope=col>weekday</th></tr>\n",
       "\t<tr><th scope=col>&lt;fct&gt;</th></tr>\n",
       "</thead>\n",
       "<tbody>\n",
       "\t<tr><td>monday   </td></tr>\n",
       "\t<tr><td>tuesday  </td></tr>\n",
       "\t<tr><td>wednesday</td></tr>\n",
       "\t<tr><td>thursday </td></tr>\n",
       "</tbody>\n",
       "</table>\n"
      ],
      "text/latex": [
       "A data.frame: 4 × 1\n",
       "\\begin{tabular}{r|l}\n",
       " weekday\\\\\n",
       " <fct>\\\\\n",
       "\\hline\n",
       "\t monday   \\\\\n",
       "\t tuesday  \\\\\n",
       "\t wednesday\\\\\n",
       "\t thursday \\\\\n",
       "\\end{tabular}\n"
      ],
      "text/markdown": [
       "\n",
       "A data.frame: 4 × 1\n",
       "\n",
       "| weekday &lt;fct&gt; |\n",
       "|---|\n",
       "| monday    |\n",
       "| tuesday   |\n",
       "| wednesday |\n",
       "| thursday  |\n",
       "\n"
      ],
      "text/plain": [
       "  weekday  \n",
       "1 monday   \n",
       "2 tuesday  \n",
       "3 wednesday\n",
       "4 thursday "
      ]
     },
     "metadata": {},
     "output_type": "display_data"
    }
   ],
   "source": [
    "df$weekday\n",
    "\n",
    "cat(\"\\n#Tidyverse syntax:\\n\")\n",
    "df %>%\n",
    "    select(\"weekday\")"
   ]
  },
  {
   "cell_type": "code",
   "execution_count": 89,
   "metadata": {
    "ExecuteTime": {
     "end_time": "2017-11-21T13:58:58.373000Z",
     "start_time": "2017-11-21T13:58:58.337Z"
    },
    "slideshow": {
     "slide_type": "subslide"
    }
   },
   "outputs": [
    {
     "data": {
      "text/html": [
       "<ol class=list-inline>\n",
       "\t<li>monday</li>\n",
       "\t<li>tuesday</li>\n",
       "\t<li>wednesday</li>\n",
       "\t<li>thursday</li>\n",
       "</ol>\n",
       "\n",
       "<details>\n",
       "\t<summary style=display:list-item;cursor:pointer>\n",
       "\t\t<strong>Levels</strong>:\n",
       "\t</summary>\n",
       "\t<ol class=list-inline>\n",
       "\t\t<li>'monday'</li>\n",
       "\t\t<li>'thursday'</li>\n",
       "\t\t<li>'tuesday'</li>\n",
       "\t\t<li>'wednesday'</li>\n",
       "\t</ol>\n",
       "</details>"
      ],
      "text/latex": [
       "\\begin{enumerate*}\n",
       "\\item monday\n",
       "\\item tuesday\n",
       "\\item wednesday\n",
       "\\item thursday\n",
       "\\end{enumerate*}\n",
       "\n",
       "\\emph{Levels}: \\begin{enumerate*}\n",
       "\\item 'monday'\n",
       "\\item 'thursday'\n",
       "\\item 'tuesday'\n",
       "\\item 'wednesday'\n",
       "\\end{enumerate*}\n"
      ],
      "text/markdown": [
       "1. monday\n",
       "2. tuesday\n",
       "3. wednesday\n",
       "4. thursday\n",
       "\n",
       "\n",
       "\n",
       "**Levels**: 1. 'monday'\n",
       "2. 'thursday'\n",
       "3. 'tuesday'\n",
       "4. 'wednesday'\n",
       "\n",
       "\n"
      ],
      "text/plain": [
       "[1] monday    tuesday   wednesday thursday \n",
       "Levels: monday thursday tuesday wednesday"
      ]
     },
     "metadata": {},
     "output_type": "display_data"
    }
   ],
   "source": [
    "df[, 3]   #For tidyverse syntax - see above "
   ]
  },
  {
   "cell_type": "code",
   "execution_count": 90,
   "metadata": {
    "ExecuteTime": {
     "end_time": "2017-11-21T13:59:14.732000Z",
     "start_time": "2017-11-21T13:59:14.687Z"
    },
    "slideshow": {
     "slide_type": "subslide"
    }
   },
   "outputs": [
    {
     "data": {
      "text/html": [
       "<table>\n",
       "<caption>A data.frame: 4 × 1</caption>\n",
       "<thead>\n",
       "\t<tr><th scope=col>weekday</th></tr>\n",
       "\t<tr><th scope=col>&lt;fct&gt;</th></tr>\n",
       "</thead>\n",
       "<tbody>\n",
       "\t<tr><td>monday   </td></tr>\n",
       "\t<tr><td>tuesday  </td></tr>\n",
       "\t<tr><td>wednesday</td></tr>\n",
       "\t<tr><td>thursday </td></tr>\n",
       "</tbody>\n",
       "</table>\n"
      ],
      "text/latex": [
       "A data.frame: 4 × 1\n",
       "\\begin{tabular}{r|l}\n",
       " weekday\\\\\n",
       " <fct>\\\\\n",
       "\\hline\n",
       "\t monday   \\\\\n",
       "\t tuesday  \\\\\n",
       "\t wednesday\\\\\n",
       "\t thursday \\\\\n",
       "\\end{tabular}\n"
      ],
      "text/markdown": [
       "\n",
       "A data.frame: 4 × 1\n",
       "\n",
       "| weekday &lt;fct&gt; |\n",
       "|---|\n",
       "| monday    |\n",
       "| tuesday   |\n",
       "| wednesday |\n",
       "| thursday  |\n",
       "\n"
      ],
      "text/plain": [
       "  weekday  \n",
       "1 monday   \n",
       "2 tuesday  \n",
       "3 wednesday\n",
       "4 thursday "
      ]
     },
     "metadata": {},
     "output_type": "display_data"
    },
    {
     "data": {
      "text/html": [
       "'data.frame'"
      ],
      "text/latex": [
       "'data.frame'"
      ],
      "text/markdown": [
       "'data.frame'"
      ],
      "text/plain": [
       "[1] \"data.frame\""
      ]
     },
     "metadata": {},
     "output_type": "display_data"
    }
   ],
   "source": [
    "df[3]\n",
    "\n",
    "class(df[3])"
   ]
  },
  {
   "cell_type": "code",
   "execution_count": 91,
   "metadata": {
    "ExecuteTime": {
     "end_time": "2017-11-21T13:59:27.432000Z",
     "start_time": "2017-11-21T13:59:27.391Z"
    },
    "slideshow": {
     "slide_type": "subslide"
    }
   },
   "outputs": [
    {
     "data": {
      "text/html": [
       "<table>\n",
       "<caption>A data.frame: 4 × 2</caption>\n",
       "<thead>\n",
       "\t<tr><th scope=col>degree</th><th scope=col>weekday</th></tr>\n",
       "\t<tr><th scope=col>&lt;dbl&gt;</th><th scope=col>&lt;fct&gt;</th></tr>\n",
       "</thead>\n",
       "<tbody>\n",
       "\t<tr><td>17</td><td>monday   </td></tr>\n",
       "\t<tr><td>21</td><td>tuesday  </td></tr>\n",
       "\t<tr><td>23</td><td>wednesday</td></tr>\n",
       "\t<tr><td>14</td><td>thursday </td></tr>\n",
       "</tbody>\n",
       "</table>\n"
      ],
      "text/latex": [
       "A data.frame: 4 × 2\n",
       "\\begin{tabular}{r|ll}\n",
       " degree & weekday\\\\\n",
       " <dbl> & <fct>\\\\\n",
       "\\hline\n",
       "\t 17 & monday   \\\\\n",
       "\t 21 & tuesday  \\\\\n",
       "\t 23 & wednesday\\\\\n",
       "\t 14 & thursday \\\\\n",
       "\\end{tabular}\n"
      ],
      "text/markdown": [
       "\n",
       "A data.frame: 4 × 2\n",
       "\n",
       "| degree &lt;dbl&gt; | weekday &lt;fct&gt; |\n",
       "|---|---|\n",
       "| 17 | monday    |\n",
       "| 21 | tuesday   |\n",
       "| 23 | wednesday |\n",
       "| 14 | thursday  |\n",
       "\n"
      ],
      "text/plain": [
       "  degree weekday  \n",
       "1 17     monday   \n",
       "2 21     tuesday  \n",
       "3 23     wednesday\n",
       "4 14     thursday "
      ]
     },
     "metadata": {},
     "output_type": "display_data"
    },
    {
     "name": "stdout",
     "output_type": "stream",
     "text": [
      "\n",
      "#Tidyverse syntax:\n"
     ]
    },
    {
     "data": {
      "text/html": [
       "<table>\n",
       "<caption>A data.frame: 4 × 2</caption>\n",
       "<thead>\n",
       "\t<tr><th scope=col>degree</th><th scope=col>weekday</th></tr>\n",
       "\t<tr><th scope=col>&lt;dbl&gt;</th><th scope=col>&lt;fct&gt;</th></tr>\n",
       "</thead>\n",
       "<tbody>\n",
       "\t<tr><td>17</td><td>monday   </td></tr>\n",
       "\t<tr><td>21</td><td>tuesday  </td></tr>\n",
       "\t<tr><td>23</td><td>wednesday</td></tr>\n",
       "\t<tr><td>14</td><td>thursday </td></tr>\n",
       "</tbody>\n",
       "</table>\n"
      ],
      "text/latex": [
       "A data.frame: 4 × 2\n",
       "\\begin{tabular}{r|ll}\n",
       " degree & weekday\\\\\n",
       " <dbl> & <fct>\\\\\n",
       "\\hline\n",
       "\t 17 & monday   \\\\\n",
       "\t 21 & tuesday  \\\\\n",
       "\t 23 & wednesday\\\\\n",
       "\t 14 & thursday \\\\\n",
       "\\end{tabular}\n"
      ],
      "text/markdown": [
       "\n",
       "A data.frame: 4 × 2\n",
       "\n",
       "| degree &lt;dbl&gt; | weekday &lt;fct&gt; |\n",
       "|---|---|\n",
       "| 17 | monday    |\n",
       "| 21 | tuesday   |\n",
       "| 23 | wednesday |\n",
       "| 14 | thursday  |\n",
       "\n"
      ],
      "text/plain": [
       "  degree weekday  \n",
       "1 17     monday   \n",
       "2 21     tuesday  \n",
       "3 23     wednesday\n",
       "4 14     thursday "
      ]
     },
     "metadata": {},
     "output_type": "display_data"
    }
   ],
   "source": [
    "df[c(\"degree\", \"weekday\")]\n",
    "\n",
    "cat(\"\\n#Tidyverse syntax:\\n\")\n",
    "df %>%\n",
    "    select(\"degree\", \"weekday\")"
   ]
  },
  {
   "cell_type": "code",
   "execution_count": 92,
   "metadata": {
    "ExecuteTime": {
     "end_time": "2017-11-21T13:59:31.324000Z",
     "start_time": "2017-11-21T13:59:31.274Z"
    },
    "slideshow": {
     "slide_type": "subslide"
    }
   },
   "outputs": [
    {
     "data": {
      "text/html": [
       "<table>\n",
       "<caption>A data.frame: 1 × 3</caption>\n",
       "<thead>\n",
       "\t<tr><th></th><th scope=col>degree</th><th scope=col>weather</th><th scope=col>weekday</th></tr>\n",
       "\t<tr><th></th><th scope=col>&lt;dbl&gt;</th><th scope=col>&lt;fct&gt;</th><th scope=col>&lt;fct&gt;</th></tr>\n",
       "</thead>\n",
       "<tbody>\n",
       "\t<tr><th scope=row>2</th><td>21</td><td>sunny</td><td>tuesday</td></tr>\n",
       "</tbody>\n",
       "</table>\n"
      ],
      "text/latex": [
       "A data.frame: 1 × 3\n",
       "\\begin{tabular}{r|lll}\n",
       "  & degree & weather & weekday\\\\\n",
       "  & <dbl> & <fct> & <fct>\\\\\n",
       "\\hline\n",
       "\t2 & 21 & sunny & tuesday\\\\\n",
       "\\end{tabular}\n"
      ],
      "text/markdown": [
       "\n",
       "A data.frame: 1 × 3\n",
       "\n",
       "| <!--/--> | degree &lt;dbl&gt; | weather &lt;fct&gt; | weekday &lt;fct&gt; |\n",
       "|---|---|---|---|\n",
       "| 2 | 21 | sunny | tuesday |\n",
       "\n"
      ],
      "text/plain": [
       "  degree weather weekday\n",
       "2 21     sunny   tuesday"
      ]
     },
     "metadata": {},
     "output_type": "display_data"
    },
    {
     "name": "stdout",
     "output_type": "stream",
     "text": [
      "\n",
      "#Tidyverse syntax:\n"
     ]
    },
    {
     "data": {
      "text/html": [
       "<table>\n",
       "<caption>A data.frame: 1 × 3</caption>\n",
       "<thead>\n",
       "\t<tr><th scope=col>degree</th><th scope=col>weather</th><th scope=col>weekday</th></tr>\n",
       "\t<tr><th scope=col>&lt;dbl&gt;</th><th scope=col>&lt;fct&gt;</th><th scope=col>&lt;fct&gt;</th></tr>\n",
       "</thead>\n",
       "<tbody>\n",
       "\t<tr><td>21</td><td>sunny</td><td>tuesday</td></tr>\n",
       "</tbody>\n",
       "</table>\n"
      ],
      "text/latex": [
       "A data.frame: 1 × 3\n",
       "\\begin{tabular}{r|lll}\n",
       " degree & weather & weekday\\\\\n",
       " <dbl> & <fct> & <fct>\\\\\n",
       "\\hline\n",
       "\t 21 & sunny & tuesday\\\\\n",
       "\\end{tabular}\n"
      ],
      "text/markdown": [
       "\n",
       "A data.frame: 1 × 3\n",
       "\n",
       "| degree &lt;dbl&gt; | weather &lt;fct&gt; | weekday &lt;fct&gt; |\n",
       "|---|---|---|\n",
       "| 21 | sunny | tuesday |\n",
       "\n"
      ],
      "text/plain": [
       "  degree weather weekday\n",
       "1 21     sunny   tuesday"
      ]
     },
     "metadata": {},
     "output_type": "display_data"
    }
   ],
   "source": [
    "df[2,]\n",
    "\n",
    "cat(\"\\n#Tidyverse syntax:\\n\")\n",
    "df %>%\n",
    "    filter(row_number() == 2)"
   ]
  },
  {
   "cell_type": "code",
   "execution_count": 93,
   "metadata": {
    "ExecuteTime": {
     "end_time": "2017-11-21T13:59:35.944000Z",
     "start_time": "2017-11-21T13:59:35.904Z"
    },
    "scrolled": true,
    "slideshow": {
     "slide_type": "subslide"
    }
   },
   "outputs": [
    {
     "data": {
      "text/html": [
       "<table>\n",
       "<caption>A data.frame: 2 × 3</caption>\n",
       "<thead>\n",
       "\t<tr><th></th><th scope=col>degree</th><th scope=col>weather</th><th scope=col>weekday</th></tr>\n",
       "\t<tr><th></th><th scope=col>&lt;dbl&gt;</th><th scope=col>&lt;fct&gt;</th><th scope=col>&lt;fct&gt;</th></tr>\n",
       "</thead>\n",
       "<tbody>\n",
       "\t<tr><th scope=row>2</th><td>21</td><td>sunny </td><td>tuesday </td></tr>\n",
       "\t<tr><th scope=row>4</th><td>14</td><td>cloudy</td><td>thursday</td></tr>\n",
       "</tbody>\n",
       "</table>\n"
      ],
      "text/latex": [
       "A data.frame: 2 × 3\n",
       "\\begin{tabular}{r|lll}\n",
       "  & degree & weather & weekday\\\\\n",
       "  & <dbl> & <fct> & <fct>\\\\\n",
       "\\hline\n",
       "\t2 & 21 & sunny  & tuesday \\\\\n",
       "\t4 & 14 & cloudy & thursday\\\\\n",
       "\\end{tabular}\n"
      ],
      "text/markdown": [
       "\n",
       "A data.frame: 2 × 3\n",
       "\n",
       "| <!--/--> | degree &lt;dbl&gt; | weather &lt;fct&gt; | weekday &lt;fct&gt; |\n",
       "|---|---|---|---|\n",
       "| 2 | 21 | sunny  | tuesday  |\n",
       "| 4 | 14 | cloudy | thursday |\n",
       "\n"
      ],
      "text/plain": [
       "  degree weather weekday \n",
       "2 21     sunny   tuesday \n",
       "4 14     cloudy  thursday"
      ]
     },
     "metadata": {},
     "output_type": "display_data"
    },
    {
     "name": "stdout",
     "output_type": "stream",
     "text": [
      "\n",
      "#Tidyverse syntax:\n"
     ]
    },
    {
     "data": {
      "text/html": [
       "<table>\n",
       "<caption>A data.frame: 2 × 3</caption>\n",
       "<thead>\n",
       "\t<tr><th scope=col>degree</th><th scope=col>weather</th><th scope=col>weekday</th></tr>\n",
       "\t<tr><th scope=col>&lt;dbl&gt;</th><th scope=col>&lt;fct&gt;</th><th scope=col>&lt;fct&gt;</th></tr>\n",
       "</thead>\n",
       "<tbody>\n",
       "\t<tr><td>21</td><td>sunny </td><td>tuesday </td></tr>\n",
       "\t<tr><td>14</td><td>cloudy</td><td>thursday</td></tr>\n",
       "</tbody>\n",
       "</table>\n"
      ],
      "text/latex": [
       "A data.frame: 2 × 3\n",
       "\\begin{tabular}{r|lll}\n",
       " degree & weather & weekday\\\\\n",
       " <dbl> & <fct> & <fct>\\\\\n",
       "\\hline\n",
       "\t 21 & sunny  & tuesday \\\\\n",
       "\t 14 & cloudy & thursday\\\\\n",
       "\\end{tabular}\n"
      ],
      "text/markdown": [
       "\n",
       "A data.frame: 2 × 3\n",
       "\n",
       "| degree &lt;dbl&gt; | weather &lt;fct&gt; | weekday &lt;fct&gt; |\n",
       "|---|---|---|\n",
       "| 21 | sunny  | tuesday  |\n",
       "| 14 | cloudy | thursday |\n",
       "\n"
      ],
      "text/plain": [
       "  degree weather weekday \n",
       "1 21     sunny   tuesday \n",
       "2 14     cloudy  thursday"
      ]
     },
     "metadata": {},
     "output_type": "display_data"
    }
   ],
   "source": [
    "df[c(2, 4),]\n",
    "\n",
    "cat(\"\\n#Tidyverse syntax:\\n\")\n",
    "df %>%\n",
    "    filter(row_number() == 2 | row_number() == 4)   # It is self explaining"
   ]
  },
  {
   "cell_type": "code",
   "execution_count": 94,
   "metadata": {
    "ExecuteTime": {
     "end_time": "2017-11-21T13:59:41.494000Z",
     "start_time": "2017-11-21T13:59:41.449Z"
    },
    "slideshow": {
     "slide_type": "subslide"
    }
   },
   "outputs": [
    {
     "data": {
      "text/html": [
       "<table>\n",
       "<caption>A data.frame: 1 × 3</caption>\n",
       "<thead>\n",
       "\t<tr><th scope=col>degree</th><th scope=col>weather</th><th scope=col>weekday</th></tr>\n",
       "\t<tr><th scope=col>&lt;dbl&gt;</th><th scope=col>&lt;fct&gt;</th><th scope=col>&lt;fct&gt;</th></tr>\n",
       "</thead>\n",
       "<tbody>\n",
       "\t<tr><td>17</td><td>rainy</td><td>monday</td></tr>\n",
       "</tbody>\n",
       "</table>\n"
      ],
      "text/latex": [
       "A data.frame: 1 × 3\n",
       "\\begin{tabular}{r|lll}\n",
       " degree & weather & weekday\\\\\n",
       " <dbl> & <fct> & <fct>\\\\\n",
       "\\hline\n",
       "\t 17 & rainy & monday\\\\\n",
       "\\end{tabular}\n"
      ],
      "text/markdown": [
       "\n",
       "A data.frame: 1 × 3\n",
       "\n",
       "| degree &lt;dbl&gt; | weather &lt;fct&gt; | weekday &lt;fct&gt; |\n",
       "|---|---|---|\n",
       "| 17 | rainy | monday |\n",
       "\n"
      ],
      "text/plain": [
       "  degree weather weekday\n",
       "1 17     rainy   monday "
      ]
     },
     "metadata": {},
     "output_type": "display_data"
    }
   ],
   "source": [
    "df[\"1\",]   #For tidyverse syntax - see above "
   ]
  },
  {
   "cell_type": "markdown",
   "metadata": {
    "slideshow": {
     "slide_type": "slide"
    }
   },
   "source": [
    "### Select rows by value\n",
    "The next two cells demonstrate how dataframe elements can be filtered by value. In this example only the rows (days) with sunny weather shall be determined:"
   ]
  },
  {
   "cell_type": "code",
   "execution_count": 95,
   "metadata": {
    "ExecuteTime": {
     "end_time": "2017-11-21T13:59:49.682000Z",
     "start_time": "2017-11-21T13:59:49.639Z"
    },
    "slideshow": {
     "slide_type": "fragment"
    }
   },
   "outputs": [
    {
     "data": {
      "text/html": [
       "<ol class=list-inline>\n",
       "\t<li>FALSE</li>\n",
       "\t<li>TRUE</li>\n",
       "\t<li>TRUE</li>\n",
       "\t<li>FALSE</li>\n",
       "</ol>\n"
      ],
      "text/latex": [
       "\\begin{enumerate*}\n",
       "\\item FALSE\n",
       "\\item TRUE\n",
       "\\item TRUE\n",
       "\\item FALSE\n",
       "\\end{enumerate*}\n"
      ],
      "text/markdown": [
       "1. FALSE\n",
       "2. TRUE\n",
       "3. TRUE\n",
       "4. FALSE\n",
       "\n",
       "\n"
      ],
      "text/plain": [
       "[1] FALSE  TRUE  TRUE FALSE"
      ]
     },
     "metadata": {},
     "output_type": "display_data"
    }
   ],
   "source": [
    "F <- df$weather==\"sunny\"\n",
    "F\n"
   ]
  },
  {
   "cell_type": "code",
   "execution_count": 96,
   "metadata": {
    "ExecuteTime": {
     "end_time": "2017-11-21T14:00:04.981000Z",
     "start_time": "2017-11-21T14:00:04.939Z"
    },
    "slideshow": {
     "slide_type": "subslide"
    }
   },
   "outputs": [
    {
     "data": {
      "text/html": [
       "<table>\n",
       "<caption>A data.frame: 2 × 3</caption>\n",
       "<thead>\n",
       "\t<tr><th></th><th scope=col>degree</th><th scope=col>weather</th><th scope=col>weekday</th></tr>\n",
       "\t<tr><th></th><th scope=col>&lt;dbl&gt;</th><th scope=col>&lt;fct&gt;</th><th scope=col>&lt;fct&gt;</th></tr>\n",
       "</thead>\n",
       "<tbody>\n",
       "\t<tr><th scope=row>2</th><td>21</td><td>sunny</td><td>tuesday  </td></tr>\n",
       "\t<tr><th scope=row>3</th><td>23</td><td>sunny</td><td>wednesday</td></tr>\n",
       "</tbody>\n",
       "</table>\n"
      ],
      "text/latex": [
       "A data.frame: 2 × 3\n",
       "\\begin{tabular}{r|lll}\n",
       "  & degree & weather & weekday\\\\\n",
       "  & <dbl> & <fct> & <fct>\\\\\n",
       "\\hline\n",
       "\t2 & 21 & sunny & tuesday  \\\\\n",
       "\t3 & 23 & sunny & wednesday\\\\\n",
       "\\end{tabular}\n"
      ],
      "text/markdown": [
       "\n",
       "A data.frame: 2 × 3\n",
       "\n",
       "| <!--/--> | degree &lt;dbl&gt; | weather &lt;fct&gt; | weekday &lt;fct&gt; |\n",
       "|---|---|---|---|\n",
       "| 2 | 21 | sunny | tuesday   |\n",
       "| 3 | 23 | sunny | wednesday |\n",
       "\n"
      ],
      "text/plain": [
       "  degree weather weekday  \n",
       "2 21     sunny   tuesday  \n",
       "3 23     sunny   wednesday"
      ]
     },
     "metadata": {},
     "output_type": "display_data"
    },
    {
     "name": "stdout",
     "output_type": "stream",
     "text": [
      "\n",
      "#Tidyverse syntax:\n"
     ]
    },
    {
     "data": {
      "text/html": [
       "<table>\n",
       "<caption>A data.frame: 2 × 3</caption>\n",
       "<thead>\n",
       "\t<tr><th scope=col>degree</th><th scope=col>weather</th><th scope=col>weekday</th></tr>\n",
       "\t<tr><th scope=col>&lt;dbl&gt;</th><th scope=col>&lt;fct&gt;</th><th scope=col>&lt;fct&gt;</th></tr>\n",
       "</thead>\n",
       "<tbody>\n",
       "\t<tr><td>21</td><td>sunny</td><td>tuesday  </td></tr>\n",
       "\t<tr><td>23</td><td>sunny</td><td>wednesday</td></tr>\n",
       "</tbody>\n",
       "</table>\n"
      ],
      "text/latex": [
       "A data.frame: 2 × 3\n",
       "\\begin{tabular}{r|lll}\n",
       " degree & weather & weekday\\\\\n",
       " <dbl> & <fct> & <fct>\\\\\n",
       "\\hline\n",
       "\t 21 & sunny & tuesday  \\\\\n",
       "\t 23 & sunny & wednesday\\\\\n",
       "\\end{tabular}\n"
      ],
      "text/markdown": [
       "\n",
       "A data.frame: 2 × 3\n",
       "\n",
       "| degree &lt;dbl&gt; | weather &lt;fct&gt; | weekday &lt;fct&gt; |\n",
       "|---|---|---|\n",
       "| 21 | sunny | tuesday   |\n",
       "| 23 | sunny | wednesday |\n",
       "\n"
      ],
      "text/plain": [
       "  degree weather weekday  \n",
       "1 21     sunny   tuesday  \n",
       "2 23     sunny   wednesday"
      ]
     },
     "metadata": {},
     "output_type": "display_data"
    }
   ],
   "source": [
    "df[F,]\n",
    "\n",
    "cat(\"\\n#Tidyverse syntax:\\n\")\n",
    "df %>%\n",
    "    filter(weather == \"sunny\")"
   ]
  },
  {
   "cell_type": "markdown",
   "metadata": {
    "slideshow": {
     "slide_type": "slide"
    }
   },
   "source": [
    "### Import data into data frame\n",
    "\n",
    ">>>> Bis hier"
   ]
  },
  {
   "cell_type": "code",
   "execution_count": 97,
   "metadata": {
    "ExecuteTime": {
     "end_time": "2017-11-21T14:01:52.966000Z",
     "start_time": "2017-11-21T14:01:52.920Z"
    },
    "slideshow": {
     "slide_type": "fragment"
    }
   },
   "outputs": [
    {
     "data": {
      "text/html": [
       "65"
      ],
      "text/latex": [
       "65"
      ],
      "text/markdown": [
       "65"
      ],
      "text/plain": [
       "[1] 65"
      ]
     },
     "metadata": {},
     "output_type": "display_data"
    },
    {
     "name": "stdout",
     "output_type": "stream",
     "text": [
      "Observations: 65\n",
      "Variables: 11\n",
      "$ Country   \u001b[3m\u001b[90m<fct>\u001b[39m\u001b[23m US, Canada, Mexico, Argentina, Brazil, Chile, Colombia, E...\n",
      "$ Oil       \u001b[3m\u001b[90m<dbl>\u001b[39m\u001b[23m 842.9, 97.0, 85.6, 22.3, 104.3, 15.4, 8.8, 9.9, 8.5, 27.4...\n",
      "$ Gas       \u001b[3m\u001b[90m<dbl>\u001b[39m\u001b[23m 588.7, 85.2, 62.7, 38.8, 18.3, 3.0, 7.8, 0.4, 3.1, 26.8, ...\n",
      "$ Coal      \u001b[3m\u001b[90m<dbl>\u001b[39m\u001b[23m 498.0, 26.5, 6.8, 1.1, 11.7, 4.1, 3.1, 0.0, 0.5, 0.0, 2.3...\n",
      "$ Nuclear   \u001b[3m\u001b[90m<dbl>\u001b[39m\u001b[23m 190.2, 20.3, 2.2, 1.8, 2.9, 0.0, 0.0, 0.0, 0.0, 0.0, 0.0,...\n",
      "$ Hydro     \u001b[3m\u001b[90m<dbl>\u001b[39m\u001b[23m 62.2, 90.2, 6.0, 9.2, 88.5, 5.6, 9.3, 2.1, 4.5, 19.5, 8.3...\n",
      "$ Total2009 \u001b[3m\u001b[90m<dbl>\u001b[39m\u001b[23m 2182.0, 319.2, 163.2, 73.3, 225.7, 28.1, 29.0, 12.4, 16.6...\n",
      "$ CO2Emm    \u001b[3m\u001b[90m<dbl>\u001b[39m\u001b[23m 5941.9, 602.7, 436.8, 164.2, 409.4, 70.3, 57.9, 31.3, 35....\n",
      "$ Lat       \u001b[3m\u001b[90m<dbl>\u001b[39m\u001b[23m 37.090240, 56.130366, 23.634501, -38.416097, -14.235004, ...\n",
      "$ Long      \u001b[3m\u001b[90m<dbl>\u001b[39m\u001b[23m -95.712891, -106.346771, -102.552784, -63.616672, -51.925...\n",
      "$ Cluster   \u001b[3m\u001b[90m<int>\u001b[39m\u001b[23m 6, 5, 6, 4, 5, 5, 5, 5, 5, 5, 5, 4, 4, 6, 2, 2, 6, 6, 3, ...\n"
     ]
    }
   ],
   "source": [
    "energyData <- read.csv(file=\"../data/EnergyMixGeoClust.csv\", header=TRUE, \n",
    "                       sep=\",\",row.names=1)\n",
    "\n",
    "#str(energyData)\n",
    "\n",
    "numObs <- dim(energyData)[1]\n",
    "numObs\n",
    "\n",
    "#To prevent that strings are converted to factors by read.csv(), \n",
    "#we can use argument 'stringsAsFactors=FALSE'\n",
    "#   energyData$Country <- as.factor(energyData$Country)\n",
    "\n",
    "glimpse(energyData)"
   ]
  },
  {
   "cell_type": "markdown",
   "metadata": {
    "slideshow": {
     "slide_type": "subslide"
    }
   },
   "source": [
    "Show data structure"
   ]
  },
  {
   "cell_type": "code",
   "execution_count": null,
   "metadata": {
    "ExecuteTime": {
     "end_time": "2017-11-21T14:01:54.446000Z",
     "start_time": "2017-11-21T14:01:54.407Z"
    },
    "slideshow": {
     "slide_type": "fragment"
    }
   },
   "outputs": [
    {
     "name": "stdout",
     "output_type": "stream",
     "text": [
      "Observations: 65\n",
      "Variables: 11\n",
      "$ Country   \u001b[3m\u001b[90m<fct>\u001b[39m\u001b[23m US, Canada, Mexico, Argentina, Brazil, Chile, Colombia, E...\n",
      "$ Oil       \u001b[3m\u001b[90m<dbl>\u001b[39m\u001b[23m 842.9, 97.0, 85.6, 22.3, 104.3, 15.4, 8.8, 9.9, 8.5, 27.4...\n",
      "$ Gas       \u001b[3m\u001b[90m<dbl>\u001b[39m\u001b[23m 588.7, 85.2, 62.7, 38.8, 18.3, 3.0, 7.8, 0.4, 3.1, 26.8, ...\n",
      "$ Coal      \u001b[3m\u001b[90m<dbl>\u001b[39m\u001b[23m 498.0, 26.5, 6.8, 1.1, 11.7, 4.1, 3.1, 0.0, 0.5, 0.0, 2.3...\n",
      "$ Nuclear   \u001b[3m\u001b[90m<dbl>\u001b[39m\u001b[23m 190.2, 20.3, 2.2, 1.8, 2.9, 0.0, 0.0, 0.0, 0.0, 0.0, 0.0,...\n",
      "$ Hydro     \u001b[3m\u001b[90m<dbl>\u001b[39m\u001b[23m 62.2, 90.2, 6.0, 9.2, 88.5, 5.6, 9.3, 2.1, 4.5, 19.5, 8.3...\n",
      "$ Total2009 \u001b[3m\u001b[90m<dbl>\u001b[39m\u001b[23m 2182.0, 319.2, 163.2, 73.3, 225.7, 28.1, 29.0, 12.4, 16.6...\n",
      "$ CO2Emm    \u001b[3m\u001b[90m<dbl>\u001b[39m\u001b[23m 5941.9, 602.7, 436.8, 164.2, 409.4, 70.3, 57.9, 31.3, 35....\n",
      "$ Lat       \u001b[3m\u001b[90m<dbl>\u001b[39m\u001b[23m 37.090240, 56.130366, 23.634501, -38.416097, -14.235004, ...\n",
      "$ Long      \u001b[3m\u001b[90m<dbl>\u001b[39m\u001b[23m -95.712891, -106.346771, -102.552784, -63.616672, -51.925...\n",
      "$ Cluster   \u001b[3m\u001b[90m<int>\u001b[39m\u001b[23m 6, 5, 6, 4, 5, 5, 5, 5, 5, 5, 5, 4, 4, 6, 2, 2, 6, 6, 3, ...\n"
     ]
    }
   ],
   "source": [
    "#Tidyverse function\n",
    "glimpse(energyData)\n",
    "\n",
    "#str(energyData)"
   ]
  },
  {
   "cell_type": "code",
   "execution_count": 99,
   "metadata": {
    "ExecuteTime": {
     "end_time": "2017-11-21T14:02:02.152000Z",
     "start_time": "2017-11-21T14:02:02.113Z"
    },
    "slideshow": {
     "slide_type": "subslide"
    }
   },
   "outputs": [
    {
     "data": {
      "text/html": [
       "<ol class=list-inline>\n",
       "\t<li>498</li>\n",
       "\t<li>26.5</li>\n",
       "\t<li>6.8</li>\n",
       "\t<li>1.1</li>\n",
       "\t<li>11.7</li>\n",
       "\t<li>4.1</li>\n",
       "\t<li>3.1</li>\n",
       "\t<li>0</li>\n",
       "\t<li>0.5</li>\n",
       "\t<li>0</li>\n",
       "</ol>\n"
      ],
      "text/latex": [
       "\\begin{enumerate*}\n",
       "\\item 498\n",
       "\\item 26.5\n",
       "\\item 6.8\n",
       "\\item 1.1\n",
       "\\item 11.7\n",
       "\\item 4.1\n",
       "\\item 3.1\n",
       "\\item 0\n",
       "\\item 0.5\n",
       "\\item 0\n",
       "\\end{enumerate*}\n"
      ],
      "text/markdown": [
       "1. 498\n",
       "2. 26.5\n",
       "3. 6.8\n",
       "4. 1.1\n",
       "5. 11.7\n",
       "6. 4.1\n",
       "7. 3.1\n",
       "8. 0\n",
       "9. 0.5\n",
       "10. 0\n",
       "\n",
       "\n"
      ],
      "text/plain": [
       " [1] 498.0  26.5   6.8   1.1  11.7   4.1   3.1   0.0   0.5   0.0"
      ]
     },
     "metadata": {},
     "output_type": "display_data"
    },
    {
     "name": "stdout",
     "output_type": "stream",
     "text": [
      "\n",
      "#Tidyverse syntax:\n"
     ]
    },
    {
     "data": {
      "text/html": [
       "<table>\n",
       "<caption>A data.frame: 10 × 1</caption>\n",
       "<thead>\n",
       "\t<tr><th scope=col>Coal</th></tr>\n",
       "\t<tr><th scope=col>&lt;dbl&gt;</th></tr>\n",
       "</thead>\n",
       "<tbody>\n",
       "\t<tr><td>498.0</td></tr>\n",
       "\t<tr><td> 26.5</td></tr>\n",
       "\t<tr><td>  6.8</td></tr>\n",
       "\t<tr><td>  1.1</td></tr>\n",
       "\t<tr><td> 11.7</td></tr>\n",
       "\t<tr><td>  4.1</td></tr>\n",
       "\t<tr><td>  3.1</td></tr>\n",
       "\t<tr><td>  0.0</td></tr>\n",
       "\t<tr><td>  0.5</td></tr>\n",
       "\t<tr><td>  0.0</td></tr>\n",
       "</tbody>\n",
       "</table>\n"
      ],
      "text/latex": [
       "A data.frame: 10 × 1\n",
       "\\begin{tabular}{r|l}\n",
       " Coal\\\\\n",
       " <dbl>\\\\\n",
       "\\hline\n",
       "\t 498.0\\\\\n",
       "\t  26.5\\\\\n",
       "\t   6.8\\\\\n",
       "\t   1.1\\\\\n",
       "\t  11.7\\\\\n",
       "\t   4.1\\\\\n",
       "\t   3.1\\\\\n",
       "\t   0.0\\\\\n",
       "\t   0.5\\\\\n",
       "\t   0.0\\\\\n",
       "\\end{tabular}\n"
      ],
      "text/markdown": [
       "\n",
       "A data.frame: 10 × 1\n",
       "\n",
       "| Coal &lt;dbl&gt; |\n",
       "|---|\n",
       "| 498.0 |\n",
       "|  26.5 |\n",
       "|   6.8 |\n",
       "|   1.1 |\n",
       "|  11.7 |\n",
       "|   4.1 |\n",
       "|   3.1 |\n",
       "|   0.0 |\n",
       "|   0.5 |\n",
       "|   0.0 |\n",
       "\n"
      ],
      "text/plain": [
       "   Coal \n",
       "1  498.0\n",
       "2   26.5\n",
       "3    6.8\n",
       "4    1.1\n",
       "5   11.7\n",
       "6    4.1\n",
       "7    3.1\n",
       "8    0.0\n",
       "9    0.5\n",
       "10   0.0"
      ]
     },
     "metadata": {},
     "output_type": "display_data"
    }
   ],
   "source": [
    "energyData$Coal[1:10]              # Show only the first 10 rows\n",
    "\n",
    "cat(\"\\n#Tidyverse syntax:\\n\")\n",
    "    select(energyData, Coal) %>%\n",
    "    filter(row_number() <= 10)     # Show only the first 10 rows\n"
   ]
  },
  {
   "cell_type": "code",
   "execution_count": 100,
   "metadata": {
    "ExecuteTime": {
     "end_time": "2017-11-21T14:02:08.948000Z",
     "start_time": "2017-11-21T14:02:08.187Z"
    },
    "slideshow": {
     "slide_type": "subslide"
    }
   },
   "outputs": [],
   "source": [
    "help(read.csv)"
   ]
  },
  {
   "cell_type": "markdown",
   "metadata": {
    "slideshow": {
     "slide_type": "slide"
    }
   },
   "source": [
    "## Exercises\n",
    "\n",
    "\n",
    "[Exercise on basic data types in R](../exercises/Ass02DataTypesR.ipynb)"
   ]
  }
 ],
 "metadata": {
  "anaconda-cloud": {},
  "celltoolbar": "Slideshow",
  "kernelspec": {
   "display_name": "R",
   "language": "R",
   "name": "ir"
  },
  "language_info": {
   "codemirror_mode": "r",
   "file_extension": ".r",
   "mimetype": "text/x-r-source",
   "name": "R",
   "pygments_lexer": "r",
   "version": "3.6.1"
  },
  "nav_menu": {},
  "toc": {
   "nav_menu": {},
   "number_sections": true,
   "sideBar": true,
   "skip_h1_title": false,
   "toc_cell": false,
   "toc_position": {},
   "toc_section_display": "block",
   "toc_window_display": false
  },
  "toc_position": {
   "height": "485px",
   "left": "0px",
   "right": "888px",
   "top": "125px",
   "width": "212px"
  }
 },
 "nbformat": 4,
 "nbformat_minor": 2
}
