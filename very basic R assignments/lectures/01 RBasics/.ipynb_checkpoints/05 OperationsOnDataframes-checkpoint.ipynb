{
 "cells": [
  {
   "cell_type": "markdown",
   "metadata": {
    "slideshow": {
     "slide_type": "slide"
    }
   },
   "source": [
    "# Operations on Dataframes\n",
    "\n",
    "* Author: Johannes Maucher\n",
    "* Last Update: 2019-10-25, modifications in Tidyverse, data a.o. by OK in 2019\n",
    "* References:\n",
    "    * [R in Action, Chapter 4](https://livebook.manning.com/#!/book/r-in-action-second-edition/chapter-4/) [KR15]\n",
    "    * [R for Data Science, Chapter 5](https://r4ds.had.co.nz/transform.html#introduction-2) [WH19]\n",
    "* Topics of this notebook\n",
    "    * attach, remove and modify data in R dataframes\n",
    "    * sort, merge and filter dataframes\n",
    "    * find cells with missing values\n"
   ]
  },
  {
   "cell_type": "markdown",
   "metadata": {
    "slideshow": {
     "slide_type": "slide"
    }
   },
   "source": [
    "### Our Starting Point is Tidy Data\n",
    "\n",
    "A dataset is \"tidy\" in our context if it satisfies the following conditions\n",
    "\n",
    "* the observations are in the rows\n",
    "* the variables or features are in the columns\n",
    "* and contained in a single dataset.\n",
    "\n",
    "<html><img src=\"../img/TidyData1.jpg\", width=500></html>\n",
    "<font size=\"1\">(Imagesource: [WH17])</font>\n",
    "\n",
    "Tidy data is a one of the prerequisites for good machine learning results. To get tidy data we have to do a lot of things, e.g. data cleaning, feature engineering, selection, \n",
    "extraction and so on, which we will discuss in upcoming lectures. The process to transform and mapping the raw data into tidy data format is also known as *data wrangling*. A lot of tidyverse functions also used to achieve tidy data.\n"
   ]
  },
  {
   "cell_type": "markdown",
   "metadata": {
    "slideshow": {
     "slide_type": "slide"
    }
   },
   "source": [
    "### Using of Functions in tidyverse\n",
    "\n",
    "In this lecture we use intensively the functions of **tidyverse**. \n",
    "\n",
    "`Keep in mind:` Most functions of tidyverse **works only with data frames** (the most important data type in R) and **tibbles/tribbles** - a special form of data frames in tidyverse, which we will not use here in these lectures (see [The Trouble with Tibbles](https://www.r-bloggers.com/the-trouble-with-tibbles/)).\n"
   ]
  },
  {
   "cell_type": "code",
   "execution_count": 1,
   "metadata": {},
   "outputs": [
    {
     "name": "stderr",
     "output_type": "stream",
     "text": [
      "-- \u001b[1mAttaching packages\u001b[22m --------------------------------------- tidyverse 1.2.1 --\n",
      "\u001b[32mv\u001b[39m \u001b[34mggplot2\u001b[39m 3.2.0     \u001b[32mv\u001b[39m \u001b[34mpurrr  \u001b[39m 0.3.2\n",
      "\u001b[32mv\u001b[39m \u001b[34mtibble \u001b[39m 2.1.3     \u001b[32mv\u001b[39m \u001b[34mdplyr  \u001b[39m 0.8.3\n",
      "\u001b[32mv\u001b[39m \u001b[34mtidyr  \u001b[39m 0.8.3     \u001b[32mv\u001b[39m \u001b[34mstringr\u001b[39m 1.4.0\n",
      "\u001b[32mv\u001b[39m \u001b[34mreadr  \u001b[39m 1.3.1     \u001b[32mv\u001b[39m \u001b[34mforcats\u001b[39m 0.4.0\n",
      "-- \u001b[1mConflicts\u001b[22m ------------------------------------------ tidyverse_conflicts() --\n",
      "\u001b[31mx\u001b[39m \u001b[34mdplyr\u001b[39m::\u001b[32mfilter()\u001b[39m masks \u001b[34mstats\u001b[39m::filter()\n",
      "\u001b[31mx\u001b[39m \u001b[34mdplyr\u001b[39m::\u001b[32mlag()\u001b[39m    masks \u001b[34mstats\u001b[39m::lag()\n"
     ]
    },
    {
     "name": "stdout",
     "output_type": "stream",
     "text": [
      "Observations: 150\n",
      "Variables: 5\n",
      "$ Sepal.Length \u001b[3m\u001b[90m<dbl>\u001b[39m\u001b[23m 5.1, 4.9, 4.7, 4.6, 5.0, 5.4, 4.6, 5.0, 4.4, 4.9, 5.4,...\n",
      "$ Sepal.Width  \u001b[3m\u001b[90m<dbl>\u001b[39m\u001b[23m 3.5, 3.0, 3.2, 3.1, 3.6, 3.9, 3.4, 3.4, 2.9, 3.1, 3.7,...\n",
      "$ Petal.Length \u001b[3m\u001b[90m<dbl>\u001b[39m\u001b[23m 1.4, 1.4, 1.3, 1.5, 1.4, 1.7, 1.4, 1.5, 1.4, 1.5, 1.5,...\n",
      "$ Petal.Width  \u001b[3m\u001b[90m<dbl>\u001b[39m\u001b[23m 0.2, 0.2, 0.2, 0.2, 0.2, 0.4, 0.3, 0.2, 0.2, 0.1, 0.2,...\n",
      "$ Species      \u001b[3m\u001b[90m<fct>\u001b[39m\u001b[23m setosa, setosa, setosa, setosa, setosa, setosa, setosa...\n"
     ]
    }
   ],
   "source": [
    "\n",
    "library(tidyverse)\n",
    "glimpse(iris)"
   ]
  },
  {
   "cell_type": "code",
   "execution_count": 2,
   "metadata": {},
   "outputs": [
    {
     "data": {
      "text/html": [
       "<table>\n",
       "<caption>A data.frame: 10 × 2</caption>\n",
       "<thead>\n",
       "\t<tr><th scope=col>Sepal.Length</th><th scope=col>Species</th></tr>\n",
       "\t<tr><th scope=col>&lt;dbl&gt;</th><th scope=col>&lt;fct&gt;</th></tr>\n",
       "</thead>\n",
       "<tbody>\n",
       "\t<tr><td>5.1</td><td>setosa</td></tr>\n",
       "\t<tr><td>4.9</td><td>setosa</td></tr>\n",
       "\t<tr><td>4.7</td><td>setosa</td></tr>\n",
       "\t<tr><td>4.6</td><td>setosa</td></tr>\n",
       "\t<tr><td>5.0</td><td>setosa</td></tr>\n",
       "\t<tr><td>5.4</td><td>setosa</td></tr>\n",
       "\t<tr><td>4.6</td><td>setosa</td></tr>\n",
       "\t<tr><td>5.0</td><td>setosa</td></tr>\n",
       "\t<tr><td>4.4</td><td>setosa</td></tr>\n",
       "\t<tr><td>4.9</td><td>setosa</td></tr>\n",
       "</tbody>\n",
       "</table>\n"
      ],
      "text/latex": [
       "A data.frame: 10 × 2\n",
       "\\begin{tabular}{r|ll}\n",
       " Sepal.Length & Species\\\\\n",
       " <dbl> & <fct>\\\\\n",
       "\\hline\n",
       "\t 5.1 & setosa\\\\\n",
       "\t 4.9 & setosa\\\\\n",
       "\t 4.7 & setosa\\\\\n",
       "\t 4.6 & setosa\\\\\n",
       "\t 5.0 & setosa\\\\\n",
       "\t 5.4 & setosa\\\\\n",
       "\t 4.6 & setosa\\\\\n",
       "\t 5.0 & setosa\\\\\n",
       "\t 4.4 & setosa\\\\\n",
       "\t 4.9 & setosa\\\\\n",
       "\\end{tabular}\n"
      ],
      "text/markdown": [
       "\n",
       "A data.frame: 10 × 2\n",
       "\n",
       "| Sepal.Length &lt;dbl&gt; | Species &lt;fct&gt; |\n",
       "|---|---|\n",
       "| 5.1 | setosa |\n",
       "| 4.9 | setosa |\n",
       "| 4.7 | setosa |\n",
       "| 4.6 | setosa |\n",
       "| 5.0 | setosa |\n",
       "| 5.4 | setosa |\n",
       "| 4.6 | setosa |\n",
       "| 5.0 | setosa |\n",
       "| 4.4 | setosa |\n",
       "| 4.9 | setosa |\n",
       "\n"
      ],
      "text/plain": [
       "   Sepal.Length Species\n",
       "1  5.1          setosa \n",
       "2  4.9          setosa \n",
       "3  4.7          setosa \n",
       "4  4.6          setosa \n",
       "5  5.0          setosa \n",
       "6  5.4          setosa \n",
       "7  4.6          setosa \n",
       "8  5.0          setosa \n",
       "9  4.4          setosa \n",
       "10 4.9          setosa "
      ]
     },
     "metadata": {},
     "output_type": "display_data"
    }
   ],
   "source": [
    "df <- iris %>% \n",
    "        select(Sepal.Length, Species) %>% \n",
    "        filter(Sepal.Length > 3.0)\n",
    "\n",
    "head(df, 10)\n",
    "\n",
    "\n",
    "#df <- select(iris, Sepal.Length, Species)\n",
    "#df <- filter(df, Sepal.Length > 3.0)\n",
    "\n"
   ]
  },
  {
   "cell_type": "markdown",
   "metadata": {
    "slideshow": {
     "slide_type": "subslide"
    }
   },
   "source": [
    "`Remember:` The symbol **%>%** is to chain functions to a pipe where the first argument of a function will automatically replaced by the data itself. To refer explicit to the data as an argument use the symbol **\\.** - a dot, e.g. \n",
    "\n",
    "    lm(mpg ~ wt, data = .)\n"
   ]
  },
  {
   "cell_type": "markdown",
   "metadata": {
    "slideshow": {
     "slide_type": "subslide"
    }
   },
   "source": [
    "To avoid explicit the automatically replacing of the first argument of a function by the data use the symbol **{...}** or **%\\$%** (from package magrittr), e.g. \n",
    "\n",
    "    iris %>% {cor(x = .$Sepal.Length, y = .$Sepal.Width)}\n",
    "    \n",
    "See [Use pipe without feeding first argument](https://stackoverflow.com/questions/38717657/use-pipe-without-feeding-first-argument)."
   ]
  },
  {
   "cell_type": "code",
   "execution_count": 3,
   "metadata": {
    "slideshow": {
     "slide_type": "subslide"
    }
   },
   "outputs": [],
   "source": [
    "library(tidyverse)"
   ]
  },
  {
   "cell_type": "markdown",
   "metadata": {
    "slideshow": {
     "slide_type": "slide"
    }
   },
   "source": [
    "## Import Example Datasets\n",
    "\n",
    "### Customer Lifetime Value Data\n",
    "\n",
    "Example Data: IBM Watson Marketing Customer Value Data [IBM Watson Marketing Customer Value Data](https://www.kaggle.com/pankajjsh06/ibm-watson-marketing-customer-value-data/version/1). The data contain customer data and their vehicle insurance policies. \n",
    "\n",
    "`Discussion`: What are a Customer Lifetime Value? Why is it important to know?\n",
    "\n",
    "Some explanations to the data set:\n",
    "* Customer: Unique ID\n",
    "* State\n",
    "* Customer.Lifetime.Value: <That's the point of interest>\n",
    "* Response: Did the customer response to ads <That's also a point of interest>\n",
    "* Coverage: Insurance coverage\n",
    "* Education\n",
    "* Effective.To.Date: Valid until\n",
    "* EmploymentStatus\n",
    "* Gender\n",
    "* Income\n",
    "* Location.Code: Place of living\n",
    "* Marital.Status\n",
    "* Monthly.Premium.Auto: Used premium cars\n",
    "* Months.Since.Last.Claim: Monate seit dem letzten Schadensfall\n",
    "* Months.Since.Policy.Inception: Monate seit Inkrafttreten des Vertrages\n",
    "* Number.of.Open.Complaints: Anzahl der offenen Reklamationen\n",
    "* Number.of.Policies: Number of contracts\n",
    "* Policy.Type: Most used contract type\n",
    "* Policy: Most used contract name\n",
    "* Renew.Offer.Type: Most used renew\n",
    "* Sales.Channel: Vertriebskanal\n",
    "* Total.Claim.Amount: Gesamtschadensbetrag\n",
    "* Vehicle.Class: Most used class of car\n",
    "* Vehicle.Size: Most used size of car\n",
    "    "
   ]
  },
  {
   "cell_type": "code",
   "execution_count": 4,
   "metadata": {
    "ExecuteTime": {
     "end_time": "2017-11-19T14:10:31.261000Z",
     "start_time": "2017-11-19T14:10:30.933Z"
    },
    "scrolled": false,
    "slideshow": {
     "slide_type": "fragment"
    }
   },
   "outputs": [
    {
     "data": {
      "text/html": [
       "<ol class=list-inline>\n",
       "\t<li>9134</li>\n",
       "\t<li>24</li>\n",
       "</ol>\n"
      ],
      "text/latex": [
       "\\begin{enumerate*}\n",
       "\\item 9134\n",
       "\\item 24\n",
       "\\end{enumerate*}\n"
      ],
      "text/markdown": [
       "1. 9134\n",
       "2. 24\n",
       "\n",
       "\n"
      ],
      "text/plain": [
       "[1] 9134   24"
      ]
     },
     "metadata": {},
     "output_type": "display_data"
    },
    {
     "name": "stdout",
     "output_type": "stream",
     "text": [
      "Observations: 9,134\n",
      "Variables: 24\n",
      "$ Customer                      \u001b[3m\u001b[90m<chr>\u001b[39m\u001b[23m \"BU79786\", \"QZ44356\", \"AI49188\", \"WW6...\n",
      "$ State                         \u001b[3m\u001b[90m<chr>\u001b[39m\u001b[23m \"Washington\", \"Arizona\", \"Nevada\", \"C...\n",
      "$ Customer.Lifetime.Value       \u001b[3m\u001b[90m<dbl>\u001b[39m\u001b[23m 2763.519, 6979.536, 12887.432, 7645.8...\n",
      "$ Response                      \u001b[3m\u001b[90m<chr>\u001b[39m\u001b[23m \"No\", \"No\", \"No\", \"No\", \"No\", \"Yes\", ...\n",
      "$ Coverage                      \u001b[3m\u001b[90m<chr>\u001b[39m\u001b[23m \"Basic\", \"Extended\", \"Premium\", \"Basi...\n",
      "$ Education                     \u001b[3m\u001b[90m<chr>\u001b[39m\u001b[23m \"Bachelor\", \"Bachelor\", \"Bachelor\", \"...\n",
      "$ Effective.To.Date             \u001b[3m\u001b[90m<chr>\u001b[39m\u001b[23m \"2/24/11\", \"1/31/11\", \"2/19/11\", \"1/2...\n",
      "$ EmploymentStatus              \u001b[3m\u001b[90m<chr>\u001b[39m\u001b[23m \"Employed\", \"Unemployed\", \"Employed\",...\n",
      "$ Gender                        \u001b[3m\u001b[90m<chr>\u001b[39m\u001b[23m \"F\", \"F\", \"F\", \"M\", \"M\", \"F\", \"F\", \"M...\n",
      "$ Income                        \u001b[3m\u001b[90m<int>\u001b[39m\u001b[23m 56274, 0, 48767, 0, 43836, 62902, 553...\n",
      "$ Location.Code                 \u001b[3m\u001b[90m<chr>\u001b[39m\u001b[23m \"Suburban\", \"Suburban\", \"Suburban\", \"...\n",
      "$ Marital.Status                \u001b[3m\u001b[90m<chr>\u001b[39m\u001b[23m \"Married\", \"Single\", \"Married\", \"Marr...\n",
      "$ Monthly.Premium.Auto          \u001b[3m\u001b[90m<int>\u001b[39m\u001b[23m 69, 94, 108, 106, 73, 69, 67, 101, 71...\n",
      "$ Months.Since.Last.Claim       \u001b[3m\u001b[90m<int>\u001b[39m\u001b[23m 32, 13, 18, 18, 12, 14, 0, 0, 13, 17,...\n",
      "$ Months.Since.Policy.Inception \u001b[3m\u001b[90m<int>\u001b[39m\u001b[23m 5, 42, 38, 65, 44, 94, 13, 68, 3, 7, ...\n",
      "$ Number.of.Open.Complaints     \u001b[3m\u001b[90m<int>\u001b[39m\u001b[23m 0, 0, 0, 0, 0, 0, 0, 0, 0, 0, 0, 0, 2...\n",
      "$ Number.of.Policies            \u001b[3m\u001b[90m<int>\u001b[39m\u001b[23m 1, 8, 2, 7, 1, 2, 9, 4, 2, 8, 3, 3, 3...\n",
      "$ Policy.Type                   \u001b[3m\u001b[90m<chr>\u001b[39m\u001b[23m \"Corporate Auto\", \"Personal Auto\", \"P...\n",
      "$ Policy                        \u001b[3m\u001b[90m<chr>\u001b[39m\u001b[23m \"Corporate L3\", \"Personal L3\", \"Perso...\n",
      "$ Renew.Offer.Type              \u001b[3m\u001b[90m<chr>\u001b[39m\u001b[23m \"Offer1\", \"Offer3\", \"Offer1\", \"Offer1...\n",
      "$ Sales.Channel                 \u001b[3m\u001b[90m<chr>\u001b[39m\u001b[23m \"Agent\", \"Agent\", \"Agent\", \"Call Cent...\n",
      "$ Total.Claim.Amount            \u001b[3m\u001b[90m<dbl>\u001b[39m\u001b[23m 384.81115, 1131.46493, 566.47225, 529...\n",
      "$ Vehicle.Class                 \u001b[3m\u001b[90m<chr>\u001b[39m\u001b[23m \"Two-Door Car\", \"Four-Door Car\", \"Two...\n",
      "$ Vehicle.Size                  \u001b[3m\u001b[90m<chr>\u001b[39m\u001b[23m \"Medsize\", \"Medsize\", \"Medsize\", \"Med...\n"
     ]
    }
   ],
   "source": [
    "clvData <- read.csv(file=\"../data/WA_Fn-UseC_-Marketing-Customer-Value-Analysis.csv\", header=TRUE,\n",
    "                    sep=\",\", dec=\".\", stringsAsFactors=FALSE)\n",
    "dim(clvData)\n",
    "glimpse(clvData)\n"
   ]
  },
  {
   "cell_type": "markdown",
   "metadata": {
    "slideshow": {
     "slide_type": "slide"
    }
   },
   "source": [
    "With [`summary()`](https://www.rdocumentation.org/packages/base/versions/3.6.1/topics/summary) we get statistical informations about each variables in the data set."
   ]
  },
  {
   "cell_type": "code",
   "execution_count": 5,
   "metadata": {
    "ExecuteTime": {
     "end_time": "2017-11-19T14:11:05.599000Z",
     "start_time": "2017-11-19T14:11:05.511Z"
    },
    "slideshow": {
     "slide_type": "subslide"
    }
   },
   "outputs": [
    {
     "data": {
      "text/plain": [
       "   Customer            State           Customer.Lifetime.Value\n",
       " Length:9134        Length:9134        Min.   : 1898          \n",
       " Class :character   Class :character   1st Qu.: 3993          \n",
       " Mode  :character   Mode  :character   Median : 5780          \n",
       "                                       Mean   : 8006          \n",
       "                                       3rd Qu.: 8965          \n",
       "                                       Max.   :83325          \n",
       "                                       NA's   :3              \n",
       "   Response           Coverage          Education         Effective.To.Date \n",
       " Length:9134        Length:9134        Length:9134        Length:9134       \n",
       " Class :character   Class :character   Class :character   Class :character  \n",
       " Mode  :character   Mode  :character   Mode  :character   Mode  :character  \n",
       "                                                                            \n",
       "                                                                            \n",
       "                                                                            \n",
       "                                                                            \n",
       " EmploymentStatus      Gender              Income      Location.Code     \n",
       " Length:9134        Length:9134        Min.   :    0   Length:9134       \n",
       " Class :character   Class :character   1st Qu.:    0   Class :character  \n",
       " Mode  :character   Mode  :character   Median :33890   Mode  :character  \n",
       "                                       Mean   :37657                     \n",
       "                                       3rd Qu.:62320                     \n",
       "                                       Max.   :99981                     \n",
       "                                                                         \n",
       " Marital.Status     Monthly.Premium.Auto Months.Since.Last.Claim\n",
       " Length:9134        Min.   : 61.00       Min.   : 0.0           \n",
       " Class :character   1st Qu.: 68.00       1st Qu.: 6.0           \n",
       " Mode  :character   Median : 83.00       Median :14.0           \n",
       "                    Mean   : 93.22       Mean   :15.1           \n",
       "                    3rd Qu.:109.00       3rd Qu.:23.0           \n",
       "                    Max.   :298.00       Max.   :35.0           \n",
       "                                                                \n",
       " Months.Since.Policy.Inception Number.of.Open.Complaints Number.of.Policies\n",
       " Min.   : 0.00                 Min.   :0.0000            Min.   :1.000     \n",
       " 1st Qu.:24.00                 1st Qu.:0.0000            1st Qu.:1.000     \n",
       " Median :48.00                 Median :0.0000            Median :2.000     \n",
       " Mean   :48.06                 Mean   :0.3844            Mean   :2.966     \n",
       " 3rd Qu.:71.00                 3rd Qu.:0.0000            3rd Qu.:4.000     \n",
       " Max.   :99.00                 Max.   :5.0000            Max.   :9.000     \n",
       "                                                                           \n",
       " Policy.Type           Policy          Renew.Offer.Type   Sales.Channel     \n",
       " Length:9134        Length:9134        Length:9134        Length:9134       \n",
       " Class :character   Class :character   Class :character   Class :character  \n",
       " Mode  :character   Mode  :character   Mode  :character   Mode  :character  \n",
       "                                                                            \n",
       "                                                                            \n",
       "                                                                            \n",
       "                                                                            \n",
       " Total.Claim.Amount Vehicle.Class      Vehicle.Size      \n",
       " Min.   :   0.099   Length:9134        Length:9134       \n",
       " 1st Qu.: 272.258   Class :character   Class :character  \n",
       " Median : 383.945   Mode  :character   Mode  :character  \n",
       " Mean   : 434.089                                        \n",
       " 3rd Qu.: 547.515                                        \n",
       " Max.   :2893.240                                        \n",
       "                                                         "
      ]
     },
     "metadata": {},
     "output_type": "display_data"
    }
   ],
   "source": [
    "summary(clvData)\n",
    "#Look for NA, 1st Qu., 3st Qu. etc."
   ]
  },
  {
   "cell_type": "code",
   "execution_count": 6,
   "metadata": {},
   "outputs": [
    {
     "data": {
      "text/plain": [
       "\n",
       "FALSE \n",
       " 9134 "
      ]
     },
     "metadata": {},
     "output_type": "display_data"
    }
   ],
   "source": [
    "\n",
    "#Check if there are duplicated data\n",
    "table(duplicated(clvData))\n",
    "\n",
    "#If yes, we can remove them with 'unique(clvData)'\n"
   ]
  },
  {
   "cell_type": "markdown",
   "metadata": {
    "slideshow": {
     "slide_type": "slide"
    }
   },
   "source": [
    "## Working with missing values"
   ]
  },
  {
   "cell_type": "markdown",
   "metadata": {
    "slideshow": {
     "slide_type": "fragment"
    }
   },
   "source": [
    "In R missing values are represented by the symbol `NA` (\"not available\"). For checking if a datastructure contains missing values the `is.na()`-function can be applied. It returns `TRUE` in all fields, where data is missing, otherwise false.\n",
    "\n",
    "Dealing with missing values is also a **feature engineering** topic that we will discuss in more detail in a upcoming lecture. "
   ]
  },
  {
   "cell_type": "code",
   "execution_count": 7,
   "metadata": {
    "ExecuteTime": {
     "end_time": "2017-11-19T14:12:34.362000Z",
     "start_time": "2017-11-19T14:12:34.279Z"
    },
    "slideshow": {
     "slide_type": "subslide"
    }
   },
   "outputs": [
    {
     "data": {
      "text/html": [
       "<table>\n",
       "<caption>A data.frame: 4 × 2</caption>\n",
       "<thead>\n",
       "\t<tr><th scope=col>age</th><th scope=col>gender</th></tr>\n",
       "\t<tr><th scope=col>&lt;dbl&gt;</th><th scope=col>&lt;fct&gt;</th></tr>\n",
       "</thead>\n",
       "<tbody>\n",
       "\t<tr><td>12</td><td>m </td></tr>\n",
       "\t<tr><td>NA</td><td>m </td></tr>\n",
       "\t<tr><td>34</td><td>f </td></tr>\n",
       "\t<tr><td>27</td><td>NA</td></tr>\n",
       "</tbody>\n",
       "</table>\n"
      ],
      "text/latex": [
       "A data.frame: 4 × 2\n",
       "\\begin{tabular}{r|ll}\n",
       " age & gender\\\\\n",
       " <dbl> & <fct>\\\\\n",
       "\\hline\n",
       "\t 12 & m \\\\\n",
       "\t NA & m \\\\\n",
       "\t 34 & f \\\\\n",
       "\t 27 & NA\\\\\n",
       "\\end{tabular}\n"
      ],
      "text/markdown": [
       "\n",
       "A data.frame: 4 × 2\n",
       "\n",
       "| age &lt;dbl&gt; | gender &lt;fct&gt; |\n",
       "|---|---|\n",
       "| 12 | m  |\n",
       "| NA | m  |\n",
       "| 34 | f  |\n",
       "| 27 | NA |\n",
       "\n"
      ],
      "text/plain": [
       "  age gender\n",
       "1 12  m     \n",
       "2 NA  m     \n",
       "3 34  f     \n",
       "4 27  NA    "
      ]
     },
     "metadata": {},
     "output_type": "display_data"
    },
    {
     "data": {
      "text/plain": [
       "\n",
       "FALSE  TRUE \n",
       "    6     2 "
      ]
     },
     "metadata": {},
     "output_type": "display_data"
    }
   ],
   "source": [
    "age <- c(12, NA, 34, 27)\n",
    "gender  <- c('m', 'm', 'f', NA)\n",
    "persons <- data.frame(\"age\"=age, \"gender\"=gender)\n",
    "persons\n",
    "\n",
    "table(is.na(persons))"
   ]
  },
  {
   "cell_type": "code",
   "execution_count": 8,
   "metadata": {
    "ExecuteTime": {
     "end_time": "2017-11-19T14:13:08.896000Z",
     "start_time": "2017-11-19T14:13:08.817Z"
    },
    "slideshow": {
     "slide_type": "subslide"
    }
   },
   "outputs": [
    {
     "data": {
      "text/html": [
       "TRUE"
      ],
      "text/latex": [
       "TRUE"
      ],
      "text/markdown": [
       "TRUE"
      ],
      "text/plain": [
       "[1] TRUE"
      ]
     },
     "metadata": {},
     "output_type": "display_data"
    },
    {
     "data": {
      "text/html": [
       "<table>\n",
       "<caption>A matrix: 4 × 2 of type lgl</caption>\n",
       "<thead>\n",
       "\t<tr><th scope=col>age</th><th scope=col>gender</th></tr>\n",
       "</thead>\n",
       "<tbody>\n",
       "\t<tr><td>FALSE</td><td>FALSE</td></tr>\n",
       "\t<tr><td> TRUE</td><td>FALSE</td></tr>\n",
       "\t<tr><td>FALSE</td><td>FALSE</td></tr>\n",
       "\t<tr><td>FALSE</td><td> TRUE</td></tr>\n",
       "</tbody>\n",
       "</table>\n"
      ],
      "text/latex": [
       "A matrix: 4 × 2 of type lgl\n",
       "\\begin{tabular}{ll}\n",
       " age & gender\\\\\n",
       "\\hline\n",
       "\t FALSE & FALSE\\\\\n",
       "\t  TRUE & FALSE\\\\\n",
       "\t FALSE & FALSE\\\\\n",
       "\t FALSE &  TRUE\\\\\n",
       "\\end{tabular}\n"
      ],
      "text/markdown": [
       "\n",
       "A matrix: 4 × 2 of type lgl\n",
       "\n",
       "| age | gender |\n",
       "|---|---|\n",
       "| FALSE | FALSE |\n",
       "|  TRUE | FALSE |\n",
       "| FALSE | FALSE |\n",
       "| FALSE |  TRUE |\n",
       "\n"
      ],
      "text/plain": [
       "     age   gender\n",
       "[1,] FALSE FALSE \n",
       "[2,]  TRUE FALSE \n",
       "[3,] FALSE FALSE \n",
       "[4,] FALSE  TRUE "
      ]
     },
     "metadata": {},
     "output_type": "display_data"
    },
    {
     "data": {
      "text/plain": [
       "\n",
       "FALSE  TRUE \n",
       "    6     2 "
      ]
     },
     "metadata": {},
     "output_type": "display_data"
    }
   ],
   "source": [
    "anyNA(persons)\n",
    "\n",
    "is.na(persons)\n",
    "\n",
    "table(is.na(persons))"
   ]
  },
  {
   "cell_type": "markdown",
   "metadata": {
    "slideshow": {
     "slide_type": "subslide"
    }
   },
   "source": [
    "It is not possible to compare the *NA*-symbol to the value of other variables. E.g. the logical test `clvData$Customer == NA` is never true. In addition to `NA`, there are two other symbols for extraordinary values in R:\n",
    "\n",
    "* `Inf` and `-Inf` are the symbols for positive and negative infinity, e.g. `1/0`\n",
    "* `NaN` (\"not a number\") is the symbol for impossible values e.g. `asin(2)`.\n",
    "\n",
    "The presence of infinite or impossible values can be checked by the `is.infinite()` and the `is.nan()` - function. "
   ]
  },
  {
   "cell_type": "code",
   "execution_count": 9,
   "metadata": {
    "ExecuteTime": {
     "end_time": "2017-11-19T14:13:24.510000Z",
     "start_time": "2017-11-19T14:13:24.349Z"
    },
    "slideshow": {
     "slide_type": "subslide"
    }
   },
   "outputs": [
    {
     "data": {
      "text/html": [
       "Inf"
      ],
      "text/latex": [
       "Inf"
      ],
      "text/markdown": [
       "Inf"
      ],
      "text/plain": [
       "[1] Inf"
      ]
     },
     "metadata": {},
     "output_type": "display_data"
    },
    {
     "data": {
      "text/html": [
       "TRUE"
      ],
      "text/latex": [
       "TRUE"
      ],
      "text/markdown": [
       "TRUE"
      ],
      "text/plain": [
       "[1] TRUE"
      ]
     },
     "metadata": {},
     "output_type": "display_data"
    },
    {
     "name": "stderr",
     "output_type": "stream",
     "text": [
      "Warning message in asin(2):\n",
      "\"NaNs wurden erzeugt\""
     ]
    },
    {
     "data": {
      "text/html": [
       "NaN"
      ],
      "text/latex": [
       "NaN"
      ],
      "text/markdown": [
       "NaN"
      ],
      "text/plain": [
       "[1] NaN"
      ]
     },
     "metadata": {},
     "output_type": "display_data"
    },
    {
     "name": "stderr",
     "output_type": "stream",
     "text": [
      "Warning message in asin(2):\n",
      "\"NaNs wurden erzeugt\""
     ]
    },
    {
     "data": {
      "text/html": [
       "TRUE"
      ],
      "text/latex": [
       "TRUE"
      ],
      "text/markdown": [
       "TRUE"
      ],
      "text/plain": [
       "[1] TRUE"
      ]
     },
     "metadata": {},
     "output_type": "display_data"
    }
   ],
   "source": [
    "1/0\n",
    "is.infinite(-3/0)\n",
    "asin(2)\n",
    "is.nan(asin(2))"
   ]
  },
  {
   "cell_type": "markdown",
   "metadata": {
    "slideshow": {
     "slide_type": "subslide"
    }
   },
   "source": [
    "All rows of a dataframe, which contain missing values can be removed by the `omit()`-function:"
   ]
  },
  {
   "cell_type": "code",
   "execution_count": 10,
   "metadata": {
    "ExecuteTime": {
     "end_time": "2017-11-19T14:13:49.046000Z",
     "start_time": "2017-11-19T14:13:48.956Z"
    },
    "slideshow": {
     "slide_type": "fragment"
    }
   },
   "outputs": [
    {
     "data": {
      "text/html": [
       "<table>\n",
       "<caption>A data.frame: 2 × 2</caption>\n",
       "<thead>\n",
       "\t<tr><th></th><th scope=col>age</th><th scope=col>gender</th></tr>\n",
       "\t<tr><th></th><th scope=col>&lt;dbl&gt;</th><th scope=col>&lt;fct&gt;</th></tr>\n",
       "</thead>\n",
       "<tbody>\n",
       "\t<tr><th scope=row>1</th><td>12</td><td>m</td></tr>\n",
       "\t<tr><th scope=row>3</th><td>34</td><td>f</td></tr>\n",
       "</tbody>\n",
       "</table>\n"
      ],
      "text/latex": [
       "A data.frame: 2 × 2\n",
       "\\begin{tabular}{r|ll}\n",
       "  & age & gender\\\\\n",
       "  & <dbl> & <fct>\\\\\n",
       "\\hline\n",
       "\t1 & 12 & m\\\\\n",
       "\t3 & 34 & f\\\\\n",
       "\\end{tabular}\n"
      ],
      "text/markdown": [
       "\n",
       "A data.frame: 2 × 2\n",
       "\n",
       "| <!--/--> | age &lt;dbl&gt; | gender &lt;fct&gt; |\n",
       "|---|---|---|\n",
       "| 1 | 12 | m |\n",
       "| 3 | 34 | f |\n",
       "\n"
      ],
      "text/plain": [
       "  age gender\n",
       "1 12  m     \n",
       "3 34  f     "
      ]
     },
     "metadata": {},
     "output_type": "display_data"
    }
   ],
   "source": [
    "na.omit(persons)"
   ]
  },
  {
   "cell_type": "markdown",
   "metadata": {
    "slideshow": {
     "slide_type": "subslide"
    }
   },
   "source": [
    "Remove all rows in dataframe *clvData*, which contain a missing value:"
   ]
  },
  {
   "cell_type": "code",
   "execution_count": 11,
   "metadata": {
    "ExecuteTime": {
     "end_time": "2017-11-19T14:13:55.872000Z",
     "start_time": "2017-11-19T14:13:55.546Z"
    },
    "slideshow": {
     "slide_type": "fragment"
    }
   },
   "outputs": [
    {
     "data": {
      "text/html": [
       "<ol class=list-inline>\n",
       "\t<li>9131</li>\n",
       "\t<li>24</li>\n",
       "</ol>\n"
      ],
      "text/latex": [
       "\\begin{enumerate*}\n",
       "\\item 9131\n",
       "\\item 24\n",
       "\\end{enumerate*}\n"
      ],
      "text/markdown": [
       "1. 9131\n",
       "2. 24\n",
       "\n",
       "\n"
      ],
      "text/plain": [
       "[1] 9131   24"
      ]
     },
     "metadata": {},
     "output_type": "display_data"
    }
   ],
   "source": [
    "#clvData <- clvData[complete.cases(clvData), ]\n",
    "\n",
    "clvData <- na.omit(clvData)\n",
    "dim(clvData)\n"
   ]
  },
  {
   "cell_type": "markdown",
   "metadata": {
    "slideshow": {
     "slide_type": "subslide"
    }
   },
   "source": [
    "Functions, which are applied on data with missing values, return `NA`, as shown in the following two lines:"
   ]
  },
  {
   "cell_type": "code",
   "execution_count": 12,
   "metadata": {
    "ExecuteTime": {
     "end_time": "2017-11-19T14:15:13.744000Z",
     "start_time": "2017-11-19T14:15:13.673Z"
    },
    "slideshow": {
     "slide_type": "fragment"
    }
   },
   "outputs": [
    {
     "data": {
      "text/html": [
       "<ol class=list-inline>\n",
       "\t<li>12</li>\n",
       "\t<li>&lt;NA&gt;</li>\n",
       "\t<li>34</li>\n",
       "\t<li>27</li>\n",
       "</ol>\n"
      ],
      "text/latex": [
       "\\begin{enumerate*}\n",
       "\\item 12\n",
       "\\item <NA>\n",
       "\\item 34\n",
       "\\item 27\n",
       "\\end{enumerate*}\n"
      ],
      "text/markdown": [
       "1. 12\n",
       "2. &lt;NA&gt;\n",
       "3. 34\n",
       "4. 27\n",
       "\n",
       "\n"
      ],
      "text/plain": [
       "[1] 12 NA 34 27"
      ]
     },
     "metadata": {},
     "output_type": "display_data"
    },
    {
     "data": {
      "text/html": [
       "&lt;NA&gt;"
      ],
      "text/latex": [
       "<NA>"
      ],
      "text/markdown": [
       "&lt;NA&gt;"
      ],
      "text/plain": [
       "[1] NA"
      ]
     },
     "metadata": {},
     "output_type": "display_data"
    },
    {
     "data": {
      "text/html": [
       "&lt;NA&gt;"
      ],
      "text/latex": [
       "<NA>"
      ],
      "text/markdown": [
       "&lt;NA&gt;"
      ],
      "text/plain": [
       "[1] NA"
      ]
     },
     "metadata": {},
     "output_type": "display_data"
    }
   ],
   "source": [
    "age\n",
    "\n",
    "sum(age)\n",
    "\n",
    "mean(age)"
   ]
  },
  {
   "cell_type": "markdown",
   "metadata": {
    "slideshow": {
     "slide_type": "subslide"
    }
   },
   "source": [
    "However, nearly all numeric functions have the parameter `na.rm`. If this parameter is set to `TRUE`, all `NA`-elements are ignored in calculating the function, e.g."
   ]
  },
  {
   "cell_type": "code",
   "execution_count": 13,
   "metadata": {
    "ExecuteTime": {
     "end_time": "2017-11-19T14:15:16.845000Z",
     "start_time": "2017-11-19T14:15:16.775Z"
    },
    "slideshow": {
     "slide_type": "fragment"
    }
   },
   "outputs": [
    {
     "data": {
      "text/html": [
       "73"
      ],
      "text/latex": [
       "73"
      ],
      "text/markdown": [
       "73"
      ],
      "text/plain": [
       "[1] 73"
      ]
     },
     "metadata": {},
     "output_type": "display_data"
    },
    {
     "data": {
      "text/html": [
       "24.3333333333333"
      ],
      "text/latex": [
       "24.3333333333333"
      ],
      "text/markdown": [
       "24.3333333333333"
      ],
      "text/plain": [
       "[1] 24.33333"
      ]
     },
     "metadata": {},
     "output_type": "display_data"
    }
   ],
   "source": [
    "sum(age, na.rm=TRUE)\n",
    "mean(age, na.rm=TRUE)"
   ]
  },
  {
   "cell_type": "markdown",
   "metadata": {
    "slideshow": {
     "slide_type": "slide"
    }
   },
   "source": [
    "## Types and type conversion\n",
    "### Determine type of variables"
   ]
  },
  {
   "cell_type": "code",
   "execution_count": 14,
   "metadata": {
    "ExecuteTime": {
     "end_time": "2017-11-19T14:15:37.974000Z",
     "start_time": "2017-11-19T14:15:37.900Z"
    },
    "slideshow": {
     "slide_type": "fragment"
    }
   },
   "outputs": [
    {
     "data": {
      "text/html": [
       "'data.frame'"
      ],
      "text/latex": [
       "'data.frame'"
      ],
      "text/markdown": [
       "'data.frame'"
      ],
      "text/plain": [
       "[1] \"data.frame\""
      ]
     },
     "metadata": {},
     "output_type": "display_data"
    }
   ],
   "source": [
    "class(clvData)"
   ]
  },
  {
   "cell_type": "markdown",
   "metadata": {
    "slideshow": {
     "slide_type": "subslide"
    }
   },
   "source": [
    "In order to check for a specific variable-type and to convert into a variable type the following functions can be applied:\n",
    "\n",
    "|      Check      |     Convert     |\n",
    "|:---------------:|:---------------:|\n",
    "| is.numeric()    | as.numeric()    |\n",
    "| is.character()  | as.character()  |\n",
    "| is.vector()     | as.vector()     |\n",
    "| is.matrix()     | as.matrix()     |\n",
    "| is.data.frame() | as.data.frame() |\n",
    "| is.factor()     | as.factor()     |\n",
    "| is.logical()    | as.logical()    |"
   ]
  },
  {
   "cell_type": "code",
   "execution_count": 15,
   "metadata": {
    "ExecuteTime": {
     "end_time": "2017-11-19T14:16:01.834000Z",
     "start_time": "2017-11-19T14:16:01.747Z"
    },
    "slideshow": {
     "slide_type": "subslide"
    }
   },
   "outputs": [
    {
     "data": {
      "text/html": [
       "TRUE"
      ],
      "text/latex": [
       "TRUE"
      ],
      "text/markdown": [
       "TRUE"
      ],
      "text/plain": [
       "[1] TRUE"
      ]
     },
     "metadata": {},
     "output_type": "display_data"
    },
    {
     "data": {
      "text/html": [
       "TRUE"
      ],
      "text/latex": [
       "TRUE"
      ],
      "text/markdown": [
       "TRUE"
      ],
      "text/plain": [
       "[1] TRUE"
      ]
     },
     "metadata": {},
     "output_type": "display_data"
    },
    {
     "data": {
      "text/html": [
       "TRUE"
      ],
      "text/latex": [
       "TRUE"
      ],
      "text/markdown": [
       "TRUE"
      ],
      "text/plain": [
       "[1] TRUE"
      ]
     },
     "metadata": {},
     "output_type": "display_data"
    },
    {
     "data": {
      "text/html": [
       "FALSE"
      ],
      "text/latex": [
       "FALSE"
      ],
      "text/markdown": [
       "FALSE"
      ],
      "text/plain": [
       "[1] FALSE"
      ]
     },
     "metadata": {},
     "output_type": "display_data"
    }
   ],
   "source": [
    "is.data.frame(clvData)\n",
    "is.numeric(clvData$Customer.Lifetime.Value)\n",
    "is.vector(clvData$Gender)\n",
    "is.numeric(clvData$Effective.To.Date)"
   ]
  },
  {
   "cell_type": "markdown",
   "metadata": {
    "slideshow": {
     "slide_type": "subslide"
    }
   },
   "source": [
    "Get columnnames, set rownames and output class (mode) of all variables (columns): "
   ]
  },
  {
   "cell_type": "code",
   "execution_count": 16,
   "metadata": {
    "ExecuteTime": {
     "end_time": "2017-11-19T14:16:58.402000Z",
     "start_time": "2017-11-19T14:16:58.318Z"
    },
    "slideshow": {
     "slide_type": "fragment"
    }
   },
   "outputs": [
    {
     "data": {
      "text/html": [
       "<ol class=list-inline>\n",
       "\t<li>'Customer'</li>\n",
       "\t<li>'State'</li>\n",
       "\t<li>'Customer.Lifetime.Value'</li>\n",
       "\t<li>'Response'</li>\n",
       "\t<li>'Coverage'</li>\n",
       "\t<li>'Education'</li>\n",
       "\t<li>'Effective.To.Date'</li>\n",
       "\t<li>'EmploymentStatus'</li>\n",
       "\t<li>'Gender'</li>\n",
       "\t<li>'Income'</li>\n",
       "\t<li>'Location.Code'</li>\n",
       "\t<li>'Marital.Status'</li>\n",
       "\t<li>'Monthly.Premium.Auto'</li>\n",
       "\t<li>'Months.Since.Last.Claim'</li>\n",
       "\t<li>'Months.Since.Policy.Inception'</li>\n",
       "\t<li>'Number.of.Open.Complaints'</li>\n",
       "\t<li>'Number.of.Policies'</li>\n",
       "\t<li>'Policy.Type'</li>\n",
       "\t<li>'Policy'</li>\n",
       "\t<li>'Renew.Offer.Type'</li>\n",
       "\t<li>'Sales.Channel'</li>\n",
       "\t<li>'Total.Claim.Amount'</li>\n",
       "\t<li>'Vehicle.Class'</li>\n",
       "\t<li>'Vehicle.Size'</li>\n",
       "</ol>\n"
      ],
      "text/latex": [
       "\\begin{enumerate*}\n",
       "\\item 'Customer'\n",
       "\\item 'State'\n",
       "\\item 'Customer.Lifetime.Value'\n",
       "\\item 'Response'\n",
       "\\item 'Coverage'\n",
       "\\item 'Education'\n",
       "\\item 'Effective.To.Date'\n",
       "\\item 'EmploymentStatus'\n",
       "\\item 'Gender'\n",
       "\\item 'Income'\n",
       "\\item 'Location.Code'\n",
       "\\item 'Marital.Status'\n",
       "\\item 'Monthly.Premium.Auto'\n",
       "\\item 'Months.Since.Last.Claim'\n",
       "\\item 'Months.Since.Policy.Inception'\n",
       "\\item 'Number.of.Open.Complaints'\n",
       "\\item 'Number.of.Policies'\n",
       "\\item 'Policy.Type'\n",
       "\\item 'Policy'\n",
       "\\item 'Renew.Offer.Type'\n",
       "\\item 'Sales.Channel'\n",
       "\\item 'Total.Claim.Amount'\n",
       "\\item 'Vehicle.Class'\n",
       "\\item 'Vehicle.Size'\n",
       "\\end{enumerate*}\n"
      ],
      "text/markdown": [
       "1. 'Customer'\n",
       "2. 'State'\n",
       "3. 'Customer.Lifetime.Value'\n",
       "4. 'Response'\n",
       "5. 'Coverage'\n",
       "6. 'Education'\n",
       "7. 'Effective.To.Date'\n",
       "8. 'EmploymentStatus'\n",
       "9. 'Gender'\n",
       "10. 'Income'\n",
       "11. 'Location.Code'\n",
       "12. 'Marital.Status'\n",
       "13. 'Monthly.Premium.Auto'\n",
       "14. 'Months.Since.Last.Claim'\n",
       "15. 'Months.Since.Policy.Inception'\n",
       "16. 'Number.of.Open.Complaints'\n",
       "17. 'Number.of.Policies'\n",
       "18. 'Policy.Type'\n",
       "19. 'Policy'\n",
       "20. 'Renew.Offer.Type'\n",
       "21. 'Sales.Channel'\n",
       "22. 'Total.Claim.Amount'\n",
       "23. 'Vehicle.Class'\n",
       "24. 'Vehicle.Size'\n",
       "\n",
       "\n"
      ],
      "text/plain": [
       " [1] \"Customer\"                      \"State\"                        \n",
       " [3] \"Customer.Lifetime.Value\"       \"Response\"                     \n",
       " [5] \"Coverage\"                      \"Education\"                    \n",
       " [7] \"Effective.To.Date\"             \"EmploymentStatus\"             \n",
       " [9] \"Gender\"                        \"Income\"                       \n",
       "[11] \"Location.Code\"                 \"Marital.Status\"               \n",
       "[13] \"Monthly.Premium.Auto\"          \"Months.Since.Last.Claim\"      \n",
       "[15] \"Months.Since.Policy.Inception\" \"Number.of.Open.Complaints\"    \n",
       "[17] \"Number.of.Policies\"            \"Policy.Type\"                  \n",
       "[19] \"Policy\"                        \"Renew.Offer.Type\"             \n",
       "[21] \"Sales.Channel\"                 \"Total.Claim.Amount\"           \n",
       "[23] \"Vehicle.Class\"                 \"Vehicle.Size\"                 "
      ]
     },
     "metadata": {},
     "output_type": "display_data"
    },
    {
     "data": {
      "text/html": [
       "<table>\n",
       "<caption>A data.frame: 10 × 24</caption>\n",
       "<thead>\n",
       "\t<tr><th></th><th scope=col>Customer</th><th scope=col>State</th><th scope=col>Customer.Lifetime.Value</th><th scope=col>Response</th><th scope=col>Coverage</th><th scope=col>Education</th><th scope=col>Effective.To.Date</th><th scope=col>EmploymentStatus</th><th scope=col>Gender</th><th scope=col>Income</th><th scope=col>...</th><th scope=col>Months.Since.Policy.Inception</th><th scope=col>Number.of.Open.Complaints</th><th scope=col>Number.of.Policies</th><th scope=col>Policy.Type</th><th scope=col>Policy</th><th scope=col>Renew.Offer.Type</th><th scope=col>Sales.Channel</th><th scope=col>Total.Claim.Amount</th><th scope=col>Vehicle.Class</th><th scope=col>Vehicle.Size</th></tr>\n",
       "\t<tr><th></th><th scope=col>&lt;chr&gt;</th><th scope=col>&lt;chr&gt;</th><th scope=col>&lt;dbl&gt;</th><th scope=col>&lt;chr&gt;</th><th scope=col>&lt;chr&gt;</th><th scope=col>&lt;chr&gt;</th><th scope=col>&lt;chr&gt;</th><th scope=col>&lt;chr&gt;</th><th scope=col>&lt;chr&gt;</th><th scope=col>&lt;int&gt;</th><th scope=col>...</th><th scope=col>&lt;int&gt;</th><th scope=col>&lt;int&gt;</th><th scope=col>&lt;int&gt;</th><th scope=col>&lt;chr&gt;</th><th scope=col>&lt;chr&gt;</th><th scope=col>&lt;chr&gt;</th><th scope=col>&lt;chr&gt;</th><th scope=col>&lt;dbl&gt;</th><th scope=col>&lt;chr&gt;</th><th scope=col>&lt;chr&gt;</th></tr>\n",
       "</thead>\n",
       "<tbody>\n",
       "\t<tr><th scope=row>BU79786</th><td>BU79786</td><td>Washington</td><td> 2763.519</td><td>No </td><td>Basic   </td><td>Bachelor</td><td>2/24/11</td><td>Employed     </td><td>F</td><td>56274</td><td>...</td><td> 5</td><td>0</td><td>1</td><td>Corporate Auto</td><td>Corporate L3</td><td>Offer1</td><td>Agent      </td><td> 384.8111</td><td>Two-Door Car </td><td>Medsize</td></tr>\n",
       "\t<tr><th scope=row>QZ44356</th><td>QZ44356</td><td>Arizona   </td><td> 6979.536</td><td>No </td><td>Extended</td><td>Bachelor</td><td>1/31/11</td><td>Unemployed   </td><td>F</td><td>    0</td><td>...</td><td>42</td><td>0</td><td>8</td><td>Personal Auto </td><td>Personal L3 </td><td>Offer3</td><td>Agent      </td><td>1131.4649</td><td>Four-Door Car</td><td>Medsize</td></tr>\n",
       "\t<tr><th scope=row>AI49188</th><td>AI49188</td><td>Nevada    </td><td>12887.432</td><td>No </td><td>Premium </td><td>Bachelor</td><td>2/19/11</td><td>Employed     </td><td>F</td><td>48767</td><td>...</td><td>38</td><td>0</td><td>2</td><td>Personal Auto </td><td>Personal L3 </td><td>Offer1</td><td>Agent      </td><td> 566.4722</td><td>Two-Door Car </td><td>Medsize</td></tr>\n",
       "\t<tr><th scope=row>WW63253</th><td>WW63253</td><td>California</td><td> 7645.862</td><td>No </td><td>Basic   </td><td>Bachelor</td><td>1/20/11</td><td>Unemployed   </td><td>M</td><td>    0</td><td>...</td><td>65</td><td>0</td><td>7</td><td>Corporate Auto</td><td>Corporate L2</td><td>Offer1</td><td>Call Center</td><td> 529.8813</td><td>SUV          </td><td>Medsize</td></tr>\n",
       "\t<tr><th scope=row>HB64268</th><td>HB64268</td><td>Washington</td><td> 2813.693</td><td>No </td><td>Basic   </td><td>Bachelor</td><td>2/3/11 </td><td>Employed     </td><td>M</td><td>43836</td><td>...</td><td>44</td><td>0</td><td>1</td><td>Personal Auto </td><td>Personal L1 </td><td>Offer1</td><td>Agent      </td><td> 138.1309</td><td>Four-Door Car</td><td>Medsize</td></tr>\n",
       "\t<tr><th scope=row>OC83172</th><td>OC83172</td><td>Oregon    </td><td> 8256.298</td><td>Yes</td><td>Basic   </td><td>Bachelor</td><td>1/25/11</td><td>Employed     </td><td>F</td><td>62902</td><td>...</td><td>94</td><td>0</td><td>2</td><td>Personal Auto </td><td>Personal L3 </td><td>Offer2</td><td>Web        </td><td> 159.3830</td><td>Two-Door Car </td><td>Medsize</td></tr>\n",
       "\t<tr><th scope=row>XZ87318</th><td>XZ87318</td><td>Oregon    </td><td> 5380.899</td><td>Yes</td><td>Basic   </td><td>College </td><td>2/24/11</td><td>Employed     </td><td>F</td><td>55350</td><td>...</td><td>13</td><td>0</td><td>9</td><td>Corporate Auto</td><td>Corporate L3</td><td>Offer1</td><td>Agent      </td><td> 321.6000</td><td>Four-Door Car</td><td>Medsize</td></tr>\n",
       "\t<tr><th scope=row>CF85061</th><td>CF85061</td><td>Arizona   </td><td> 7216.100</td><td>No </td><td>Premium </td><td>Master  </td><td>1/18/11</td><td>Unemployed   </td><td>M</td><td>    0</td><td>...</td><td>68</td><td>0</td><td>4</td><td>Corporate Auto</td><td>Corporate L3</td><td>Offer1</td><td>Agent      </td><td> 363.0297</td><td>Four-Door Car</td><td>Medsize</td></tr>\n",
       "\t<tr><th scope=row>DY87989</th><td>DY87989</td><td>Oregon    </td><td>24127.504</td><td>Yes</td><td>Basic   </td><td>Bachelor</td><td>1/26/11</td><td>Medical Leave</td><td>M</td><td>14072</td><td>...</td><td> 3</td><td>0</td><td>2</td><td>Corporate Auto</td><td>Corporate L3</td><td>Offer1</td><td>Agent      </td><td> 511.2000</td><td>Four-Door Car</td><td>Medsize</td></tr>\n",
       "\t<tr><th scope=row>SX51350</th><td>SX51350</td><td>California</td><td> 4738.992</td><td>No </td><td>Basic   </td><td>College </td><td>2/21/11</td><td>Unemployed   </td><td>M</td><td>    0</td><td>...</td><td> 5</td><td>0</td><td>3</td><td>Personal Auto </td><td>Personal L3 </td><td>Offer1</td><td>Agent      </td><td> 482.4000</td><td>Four-Door Car</td><td>Small  </td></tr>\n",
       "</tbody>\n",
       "</table>\n"
      ],
      "text/latex": [
       "A data.frame: 10 × 24\n",
       "\\begin{tabular}{r|llllllllllllllllllllllll}\n",
       "  & Customer & State & Customer.Lifetime.Value & Response & Coverage & Education & Effective.To.Date & EmploymentStatus & Gender & Income & Location.Code & Marital.Status & Monthly.Premium.Auto & Months.Since.Last.Claim & Months.Since.Policy.Inception & Number.of.Open.Complaints & Number.of.Policies & Policy.Type & Policy & Renew.Offer.Type & Sales.Channel & Total.Claim.Amount & Vehicle.Class & Vehicle.Size\\\\\n",
       "  & <chr> & <chr> & <dbl> & <chr> & <chr> & <chr> & <chr> & <chr> & <chr> & <int> & <chr> & <chr> & <int> & <int> & <int> & <int> & <int> & <chr> & <chr> & <chr> & <chr> & <dbl> & <chr> & <chr>\\\\\n",
       "\\hline\n",
       "\tBU79786 & BU79786 & Washington &  2763.519 & No  & Basic    & Bachelor & 2/24/11 & Employed      & F & 56274 & Suburban & Married  &  69 & 32 &  5 & 0 & 1 & Corporate Auto & Corporate L3 & Offer1 & Agent       &  384.8111 & Two-Door Car  & Medsize\\\\\n",
       "\tQZ44356 & QZ44356 & Arizona    &  6979.536 & No  & Extended & Bachelor & 1/31/11 & Unemployed    & F &     0 & Suburban & Single   &  94 & 13 & 42 & 0 & 8 & Personal Auto  & Personal L3  & Offer3 & Agent       & 1131.4649 & Four-Door Car & Medsize\\\\\n",
       "\tAI49188 & AI49188 & Nevada     & 12887.432 & No  & Premium  & Bachelor & 2/19/11 & Employed      & F & 48767 & Suburban & Married  & 108 & 18 & 38 & 0 & 2 & Personal Auto  & Personal L3  & Offer1 & Agent       &  566.4722 & Two-Door Car  & Medsize\\\\\n",
       "\tWW63253 & WW63253 & California &  7645.862 & No  & Basic    & Bachelor & 1/20/11 & Unemployed    & M &     0 & Suburban & Married  & 106 & 18 & 65 & 0 & 7 & Corporate Auto & Corporate L2 & Offer1 & Call Center &  529.8813 & SUV           & Medsize\\\\\n",
       "\tHB64268 & HB64268 & Washington &  2813.693 & No  & Basic    & Bachelor & 2/3/11  & Employed      & M & 43836 & Rural    & Single   &  73 & 12 & 44 & 0 & 1 & Personal Auto  & Personal L1  & Offer1 & Agent       &  138.1309 & Four-Door Car & Medsize\\\\\n",
       "\tOC83172 & OC83172 & Oregon     &  8256.298 & Yes & Basic    & Bachelor & 1/25/11 & Employed      & F & 62902 & Rural    & Married  &  69 & 14 & 94 & 0 & 2 & Personal Auto  & Personal L3  & Offer2 & Web         &  159.3830 & Two-Door Car  & Medsize\\\\\n",
       "\tXZ87318 & XZ87318 & Oregon     &  5380.899 & Yes & Basic    & College  & 2/24/11 & Employed      & F & 55350 & Suburban & Married  &  67 &  0 & 13 & 0 & 9 & Corporate Auto & Corporate L3 & Offer1 & Agent       &  321.6000 & Four-Door Car & Medsize\\\\\n",
       "\tCF85061 & CF85061 & Arizona    &  7216.100 & No  & Premium  & Master   & 1/18/11 & Unemployed    & M &     0 & Urban    & Single   & 101 &  0 & 68 & 0 & 4 & Corporate Auto & Corporate L3 & Offer1 & Agent       &  363.0297 & Four-Door Car & Medsize\\\\\n",
       "\tDY87989 & DY87989 & Oregon     & 24127.504 & Yes & Basic    & Bachelor & 1/26/11 & Medical Leave & M & 14072 & Suburban & Divorced &  71 & 13 &  3 & 0 & 2 & Corporate Auto & Corporate L3 & Offer1 & Agent       &  511.2000 & Four-Door Car & Medsize\\\\\n",
       "\tSX51350 & SX51350 & California &  4738.992 & No  & Basic    & College  & 2/21/11 & Unemployed    & M &     0 & Suburban & Single   &  67 & 23 &  5 & 0 & 3 & Personal Auto  & Personal L3  & Offer1 & Agent       &  482.4000 & Four-Door Car & Small  \\\\\n",
       "\\end{tabular}\n"
      ],
      "text/markdown": [
       "\n",
       "A data.frame: 10 × 24\n",
       "\n",
       "| <!--/--> | Customer &lt;chr&gt; | State &lt;chr&gt; | Customer.Lifetime.Value &lt;dbl&gt; | Response &lt;chr&gt; | Coverage &lt;chr&gt; | Education &lt;chr&gt; | Effective.To.Date &lt;chr&gt; | EmploymentStatus &lt;chr&gt; | Gender &lt;chr&gt; | Income &lt;int&gt; | ... ... | Months.Since.Policy.Inception &lt;int&gt; | Number.of.Open.Complaints &lt;int&gt; | Number.of.Policies &lt;int&gt; | Policy.Type &lt;chr&gt; | Policy &lt;chr&gt; | Renew.Offer.Type &lt;chr&gt; | Sales.Channel &lt;chr&gt; | Total.Claim.Amount &lt;dbl&gt; | Vehicle.Class &lt;chr&gt; | Vehicle.Size &lt;chr&gt; |\n",
       "|---|---|---|---|---|---|---|---|---|---|---|---|---|---|---|---|---|---|---|---|---|---|\n",
       "| BU79786 | BU79786 | Washington |  2763.519 | No  | Basic    | Bachelor | 2/24/11 | Employed      | F | 56274 | ... |  5 | 0 | 1 | Corporate Auto | Corporate L3 | Offer1 | Agent       |  384.8111 | Two-Door Car  | Medsize |\n",
       "| QZ44356 | QZ44356 | Arizona    |  6979.536 | No  | Extended | Bachelor | 1/31/11 | Unemployed    | F |     0 | ... | 42 | 0 | 8 | Personal Auto  | Personal L3  | Offer3 | Agent       | 1131.4649 | Four-Door Car | Medsize |\n",
       "| AI49188 | AI49188 | Nevada     | 12887.432 | No  | Premium  | Bachelor | 2/19/11 | Employed      | F | 48767 | ... | 38 | 0 | 2 | Personal Auto  | Personal L3  | Offer1 | Agent       |  566.4722 | Two-Door Car  | Medsize |\n",
       "| WW63253 | WW63253 | California |  7645.862 | No  | Basic    | Bachelor | 1/20/11 | Unemployed    | M |     0 | ... | 65 | 0 | 7 | Corporate Auto | Corporate L2 | Offer1 | Call Center |  529.8813 | SUV           | Medsize |\n",
       "| HB64268 | HB64268 | Washington |  2813.693 | No  | Basic    | Bachelor | 2/3/11  | Employed      | M | 43836 | ... | 44 | 0 | 1 | Personal Auto  | Personal L1  | Offer1 | Agent       |  138.1309 | Four-Door Car | Medsize |\n",
       "| OC83172 | OC83172 | Oregon     |  8256.298 | Yes | Basic    | Bachelor | 1/25/11 | Employed      | F | 62902 | ... | 94 | 0 | 2 | Personal Auto  | Personal L3  | Offer2 | Web         |  159.3830 | Two-Door Car  | Medsize |\n",
       "| XZ87318 | XZ87318 | Oregon     |  5380.899 | Yes | Basic    | College  | 2/24/11 | Employed      | F | 55350 | ... | 13 | 0 | 9 | Corporate Auto | Corporate L3 | Offer1 | Agent       |  321.6000 | Four-Door Car | Medsize |\n",
       "| CF85061 | CF85061 | Arizona    |  7216.100 | No  | Premium  | Master   | 1/18/11 | Unemployed    | M |     0 | ... | 68 | 0 | 4 | Corporate Auto | Corporate L3 | Offer1 | Agent       |  363.0297 | Four-Door Car | Medsize |\n",
       "| DY87989 | DY87989 | Oregon     | 24127.504 | Yes | Basic    | Bachelor | 1/26/11 | Medical Leave | M | 14072 | ... |  3 | 0 | 2 | Corporate Auto | Corporate L3 | Offer1 | Agent       |  511.2000 | Four-Door Car | Medsize |\n",
       "| SX51350 | SX51350 | California |  4738.992 | No  | Basic    | College  | 2/21/11 | Unemployed    | M |     0 | ... |  5 | 0 | 3 | Personal Auto  | Personal L3  | Offer1 | Agent       |  482.4000 | Four-Door Car | Small   |\n",
       "\n"
      ],
      "text/plain": [
       "        Customer State      Customer.Lifetime.Value Response Coverage Education\n",
       "BU79786 BU79786  Washington  2763.519               No       Basic    Bachelor \n",
       "QZ44356 QZ44356  Arizona     6979.536               No       Extended Bachelor \n",
       "AI49188 AI49188  Nevada     12887.432               No       Premium  Bachelor \n",
       "WW63253 WW63253  California  7645.862               No       Basic    Bachelor \n",
       "HB64268 HB64268  Washington  2813.693               No       Basic    Bachelor \n",
       "OC83172 OC83172  Oregon      8256.298               Yes      Basic    Bachelor \n",
       "XZ87318 XZ87318  Oregon      5380.899               Yes      Basic    College  \n",
       "CF85061 CF85061  Arizona     7216.100               No       Premium  Master   \n",
       "DY87989 DY87989  Oregon     24127.504               Yes      Basic    Bachelor \n",
       "SX51350 SX51350  California  4738.992               No       Basic    College  \n",
       "        Effective.To.Date EmploymentStatus Gender Income ...\n",
       "BU79786 2/24/11           Employed         F      56274  ...\n",
       "QZ44356 1/31/11           Unemployed       F          0  ...\n",
       "AI49188 2/19/11           Employed         F      48767  ...\n",
       "WW63253 1/20/11           Unemployed       M          0  ...\n",
       "HB64268 2/3/11            Employed         M      43836  ...\n",
       "OC83172 1/25/11           Employed         F      62902  ...\n",
       "XZ87318 2/24/11           Employed         F      55350  ...\n",
       "CF85061 1/18/11           Unemployed       M          0  ...\n",
       "DY87989 1/26/11           Medical Leave    M      14072  ...\n",
       "SX51350 2/21/11           Unemployed       M          0  ...\n",
       "        Months.Since.Policy.Inception Number.of.Open.Complaints\n",
       "BU79786  5                            0                        \n",
       "QZ44356 42                            0                        \n",
       "AI49188 38                            0                        \n",
       "WW63253 65                            0                        \n",
       "HB64268 44                            0                        \n",
       "OC83172 94                            0                        \n",
       "XZ87318 13                            0                        \n",
       "CF85061 68                            0                        \n",
       "DY87989  3                            0                        \n",
       "SX51350  5                            0                        \n",
       "        Number.of.Policies Policy.Type    Policy       Renew.Offer.Type\n",
       "BU79786 1                  Corporate Auto Corporate L3 Offer1          \n",
       "QZ44356 8                  Personal Auto  Personal L3  Offer3          \n",
       "AI49188 2                  Personal Auto  Personal L3  Offer1          \n",
       "WW63253 7                  Corporate Auto Corporate L2 Offer1          \n",
       "HB64268 1                  Personal Auto  Personal L1  Offer1          \n",
       "OC83172 2                  Personal Auto  Personal L3  Offer2          \n",
       "XZ87318 9                  Corporate Auto Corporate L3 Offer1          \n",
       "CF85061 4                  Corporate Auto Corporate L3 Offer1          \n",
       "DY87989 2                  Corporate Auto Corporate L3 Offer1          \n",
       "SX51350 3                  Personal Auto  Personal L3  Offer1          \n",
       "        Sales.Channel Total.Claim.Amount Vehicle.Class Vehicle.Size\n",
       "BU79786 Agent          384.8111          Two-Door Car  Medsize     \n",
       "QZ44356 Agent         1131.4649          Four-Door Car Medsize     \n",
       "AI49188 Agent          566.4722          Two-Door Car  Medsize     \n",
       "WW63253 Call Center    529.8813          SUV           Medsize     \n",
       "HB64268 Agent          138.1309          Four-Door Car Medsize     \n",
       "OC83172 Web            159.3830          Two-Door Car  Medsize     \n",
       "XZ87318 Agent          321.6000          Four-Door Car Medsize     \n",
       "CF85061 Agent          363.0297          Four-Door Car Medsize     \n",
       "DY87989 Agent          511.2000          Four-Door Car Medsize     \n",
       "SX51350 Agent          482.4000          Four-Door Car Small       "
      ]
     },
     "metadata": {},
     "output_type": "display_data"
    }
   ],
   "source": [
    "#names(clvData)\n",
    "colnames(clvData)\n",
    "\n",
    "#We use the Customer ID as row names\n",
    "rownames(clvData) <- clvData$Customer\n",
    "\n",
    "head(clvData, 10)\n",
    "\n"
   ]
  },
  {
   "cell_type": "code",
   "execution_count": 17,
   "metadata": {
    "slideshow": {
     "slide_type": "subslide"
    }
   },
   "outputs": [
    {
     "data": {
      "text/html": [
       "<dl class=dl-horizontal>\n",
       "\t<dt>Customer</dt>\n",
       "\t\t<dd>'character'</dd>\n",
       "\t<dt>State</dt>\n",
       "\t\t<dd>'character'</dd>\n",
       "\t<dt>Customer.Lifetime.Value</dt>\n",
       "\t\t<dd>'numeric'</dd>\n",
       "\t<dt>Response</dt>\n",
       "\t\t<dd>'character'</dd>\n",
       "\t<dt>Coverage</dt>\n",
       "\t\t<dd>'character'</dd>\n",
       "\t<dt>Education</dt>\n",
       "\t\t<dd>'character'</dd>\n",
       "\t<dt>Effective.To.Date</dt>\n",
       "\t\t<dd>'character'</dd>\n",
       "\t<dt>EmploymentStatus</dt>\n",
       "\t\t<dd>'character'</dd>\n",
       "\t<dt>Gender</dt>\n",
       "\t\t<dd>'character'</dd>\n",
       "\t<dt>Income</dt>\n",
       "\t\t<dd>'numeric'</dd>\n",
       "\t<dt>Location.Code</dt>\n",
       "\t\t<dd>'character'</dd>\n",
       "\t<dt>Marital.Status</dt>\n",
       "\t\t<dd>'character'</dd>\n",
       "\t<dt>Monthly.Premium.Auto</dt>\n",
       "\t\t<dd>'numeric'</dd>\n",
       "\t<dt>Months.Since.Last.Claim</dt>\n",
       "\t\t<dd>'numeric'</dd>\n",
       "\t<dt>Months.Since.Policy.Inception</dt>\n",
       "\t\t<dd>'numeric'</dd>\n",
       "\t<dt>Number.of.Open.Complaints</dt>\n",
       "\t\t<dd>'numeric'</dd>\n",
       "\t<dt>Number.of.Policies</dt>\n",
       "\t\t<dd>'numeric'</dd>\n",
       "\t<dt>Policy.Type</dt>\n",
       "\t\t<dd>'character'</dd>\n",
       "\t<dt>Policy</dt>\n",
       "\t\t<dd>'character'</dd>\n",
       "\t<dt>Renew.Offer.Type</dt>\n",
       "\t\t<dd>'character'</dd>\n",
       "\t<dt>Sales.Channel</dt>\n",
       "\t\t<dd>'character'</dd>\n",
       "\t<dt>Total.Claim.Amount</dt>\n",
       "\t\t<dd>'numeric'</dd>\n",
       "\t<dt>Vehicle.Class</dt>\n",
       "\t\t<dd>'character'</dd>\n",
       "\t<dt>Vehicle.Size</dt>\n",
       "\t\t<dd>'character'</dd>\n",
       "</dl>\n"
      ],
      "text/latex": [
       "\\begin{description*}\n",
       "\\item[Customer] 'character'\n",
       "\\item[State] 'character'\n",
       "\\item[Customer.Lifetime.Value] 'numeric'\n",
       "\\item[Response] 'character'\n",
       "\\item[Coverage] 'character'\n",
       "\\item[Education] 'character'\n",
       "\\item[Effective.To.Date] 'character'\n",
       "\\item[EmploymentStatus] 'character'\n",
       "\\item[Gender] 'character'\n",
       "\\item[Income] 'numeric'\n",
       "\\item[Location.Code] 'character'\n",
       "\\item[Marital.Status] 'character'\n",
       "\\item[Monthly.Premium.Auto] 'numeric'\n",
       "\\item[Months.Since.Last.Claim] 'numeric'\n",
       "\\item[Months.Since.Policy.Inception] 'numeric'\n",
       "\\item[Number.of.Open.Complaints] 'numeric'\n",
       "\\item[Number.of.Policies] 'numeric'\n",
       "\\item[Policy.Type] 'character'\n",
       "\\item[Policy] 'character'\n",
       "\\item[Renew.Offer.Type] 'character'\n",
       "\\item[Sales.Channel] 'character'\n",
       "\\item[Total.Claim.Amount] 'numeric'\n",
       "\\item[Vehicle.Class] 'character'\n",
       "\\item[Vehicle.Size] 'character'\n",
       "\\end{description*}\n"
      ],
      "text/markdown": [
       "Customer\n",
       ":   'character'State\n",
       ":   'character'Customer.Lifetime.Value\n",
       ":   'numeric'Response\n",
       ":   'character'Coverage\n",
       ":   'character'Education\n",
       ":   'character'Effective.To.Date\n",
       ":   'character'EmploymentStatus\n",
       ":   'character'Gender\n",
       ":   'character'Income\n",
       ":   'numeric'Location.Code\n",
       ":   'character'Marital.Status\n",
       ":   'character'Monthly.Premium.Auto\n",
       ":   'numeric'Months.Since.Last.Claim\n",
       ":   'numeric'Months.Since.Policy.Inception\n",
       ":   'numeric'Number.of.Open.Complaints\n",
       ":   'numeric'Number.of.Policies\n",
       ":   'numeric'Policy.Type\n",
       ":   'character'Policy\n",
       ":   'character'Renew.Offer.Type\n",
       ":   'character'Sales.Channel\n",
       ":   'character'Total.Claim.Amount\n",
       ":   'numeric'Vehicle.Class\n",
       ":   'character'Vehicle.Size\n",
       ":   'character'\n",
       "\n"
      ],
      "text/plain": [
       "                     Customer                         State \n",
       "                  \"character\"                   \"character\" \n",
       "      Customer.Lifetime.Value                      Response \n",
       "                    \"numeric\"                   \"character\" \n",
       "                     Coverage                     Education \n",
       "                  \"character\"                   \"character\" \n",
       "            Effective.To.Date              EmploymentStatus \n",
       "                  \"character\"                   \"character\" \n",
       "                       Gender                        Income \n",
       "                  \"character\"                     \"numeric\" \n",
       "                Location.Code                Marital.Status \n",
       "                  \"character\"                   \"character\" \n",
       "         Monthly.Premium.Auto       Months.Since.Last.Claim \n",
       "                    \"numeric\"                     \"numeric\" \n",
       "Months.Since.Policy.Inception     Number.of.Open.Complaints \n",
       "                    \"numeric\"                     \"numeric\" \n",
       "           Number.of.Policies                   Policy.Type \n",
       "                    \"numeric\"                   \"character\" \n",
       "                       Policy              Renew.Offer.Type \n",
       "                  \"character\"                   \"character\" \n",
       "                Sales.Channel            Total.Claim.Amount \n",
       "                  \"character\"                     \"numeric\" \n",
       "                Vehicle.Class                  Vehicle.Size \n",
       "                  \"character\"                   \"character\" "
      ]
     },
     "metadata": {},
     "output_type": "display_data"
    }
   ],
   "source": [
    "\n",
    "sapply(clvData, mode)\n"
   ]
  },
  {
   "cell_type": "markdown",
   "metadata": {
    "slideshow": {
     "slide_type": "slide"
    }
   },
   "source": [
    "### Date objects\n",
    "\n",
    "In R dates are typically entered as character strings. In this format no calculations can be performed on them. However, the string representation can be transformed into a numeric *Date*-representation by the function *as.Date(datestring,format)*. Here, datestring is the string representation of the date, and format specifies the format of the date in this string-representation. \n",
    "\n",
    "| Symbol | Meaning                        | Examples      |\n",
    "|--------|--------------------------------|---------------|\n",
    "| %d     | Day as number between 0 and 31 | 7,07,28       |\n",
    "| %a %A  | Weekday - abbreviated or not   | Mon, Monday   |\n",
    "| %m     | Month between 0 and 12         | 2,05,11       |\n",
    "| %b %B  | Month - abbreviated or not     | Feb, February |\n",
    "| %y %Y  | Year_ two-digit or four-digit  | 09, 2009      |"
   ]
  },
  {
   "cell_type": "code",
   "execution_count": 18,
   "metadata": {
    "ExecuteTime": {
     "end_time": "2017-11-19T14:19:06.193000Z",
     "start_time": "2017-11-19T14:19:06.024Z"
    },
    "slideshow": {
     "slide_type": "subslide"
    }
   },
   "outputs": [
    {
     "data": {
      "text/html": [
       "'character'"
      ],
      "text/latex": [
       "'character'"
      ],
      "text/markdown": [
       "'character'"
      ],
      "text/plain": [
       "[1] \"character\""
      ]
     },
     "metadata": {},
     "output_type": "display_data"
    },
    {
     "data": {
      "text/html": [
       "'Date'"
      ],
      "text/latex": [
       "'Date'"
      ],
      "text/markdown": [
       "'Date'"
      ],
      "text/plain": [
       "[1] \"Date\""
      ]
     },
     "metadata": {},
     "output_type": "display_data"
    },
    {
     "name": "stdout",
     "output_type": "stream",
     "text": [
      "[1] \"2017-03-05\"\n"
     ]
    },
    {
     "data": {
      "text/html": [
       "'Date'"
      ],
      "text/latex": [
       "'Date'"
      ],
      "text/markdown": [
       "'Date'"
      ],
      "text/plain": [
       "[1] \"Date\""
      ]
     },
     "metadata": {},
     "output_type": "display_data"
    },
    {
     "name": "stdout",
     "output_type": "stream",
     "text": [
      "[1] \"2017-06-23\"\n"
     ]
    }
   ],
   "source": [
    "date1 <- c(\"5-03-2017\")\n",
    "class(date1)\n",
    "\n",
    "date1num <- as.Date(date1, \"%d-%m-%Y\")\n",
    "class(date1num)\n",
    "\n",
    "print(date1num)\n",
    "\n",
    "date2  <- c(\"17-Jun-23\")\n",
    "date2num  <- as.Date(date2, \"%y-%b-%d\")\n",
    "class(date2num)\n",
    "\n",
    "print(date2num)\n"
   ]
  },
  {
   "cell_type": "markdown",
   "metadata": {
    "slideshow": {
     "slide_type": "subslide"
    }
   },
   "source": [
    "Determine current date and transformation from *Date*-object to character-string."
   ]
  },
  {
   "cell_type": "code",
   "execution_count": 19,
   "metadata": {
    "ExecuteTime": {
     "end_time": "2017-11-19T14:19:43.099000Z",
     "start_time": "2017-11-19T14:19:42.994Z"
    },
    "slideshow": {
     "slide_type": "fragment"
    }
   },
   "outputs": [
    {
     "data": {
      "text/html": [
       "'Date'"
      ],
      "text/latex": [
       "'Date'"
      ],
      "text/markdown": [
       "'Date'"
      ],
      "text/plain": [
       "[1] \"Date\""
      ]
     },
     "metadata": {},
     "output_type": "display_data"
    },
    {
     "name": "stdout",
     "output_type": "stream",
     "text": [
      "[1] \"2019-11-11\"\n"
     ]
    },
    {
     "data": {
      "text/html": [
       "'character'"
      ],
      "text/latex": [
       "'character'"
      ],
      "text/markdown": [
       "'character'"
      ],
      "text/plain": [
       "[1] \"character\""
      ]
     },
     "metadata": {},
     "output_type": "display_data"
    },
    {
     "name": "stdout",
     "output_type": "stream",
     "text": [
      "[1] \"11.November 2019\"\n"
     ]
    },
    {
     "data": {
      "text/html": [
       "'character'"
      ],
      "text/latex": [
       "'character'"
      ],
      "text/markdown": [
       "'character'"
      ],
      "text/plain": [
       "[1] \"character\""
      ]
     },
     "metadata": {},
     "output_type": "display_data"
    },
    {
     "name": "stdout",
     "output_type": "stream",
     "text": [
      "[1] \"Montag\"\n"
     ]
    }
   ],
   "source": [
    "now <- Sys.Date()  #Sys.Time()\n",
    "class(now)\n",
    "print(now)\n",
    "\n",
    "nowStr <- format(now, \"%d.%B %Y\")\n",
    "class(nowStr)\n",
    "print(nowStr)\n",
    "\n",
    "weekDay <- format(now, \"%A\")\n",
    "class(weekDay)\n",
    "print(weekDay)\n"
   ]
  },
  {
   "cell_type": "markdown",
   "metadata": {
    "slideshow": {
     "slide_type": "subslide"
    }
   },
   "source": [
    "Internally, R saves *Date*-objects as numbers of days since *01.01.1970*, with negative values for earlier days. This implies that arithmetic operations such as subtraction can be applied on them:"
   ]
  },
  {
   "cell_type": "code",
   "execution_count": 20,
   "metadata": {
    "ExecuteTime": {
     "end_time": "2017-11-19T14:22:17.120000Z",
     "start_time": "2017-11-19T14:22:17.062Z"
    },
    "slideshow": {
     "slide_type": "fragment"
    }
   },
   "outputs": [
    {
     "data": {
      "text/plain": [
       "Time difference of 110 days"
      ]
     },
     "metadata": {},
     "output_type": "display_data"
    }
   ],
   "source": [
    "datediff <- date2num - date1num\n",
    "datediff"
   ]
  },
  {
   "cell_type": "markdown",
   "metadata": {
    "slideshow": {
     "slide_type": "subslide"
    }
   },
   "source": [
    "If the time-difference shall be calculated in other units than days, the *difftime()*-function can be applied as follows:\n"
   ]
  },
  {
   "cell_type": "code",
   "execution_count": 21,
   "metadata": {
    "ExecuteTime": {
     "end_time": "2017-11-19T14:22:24.088000Z",
     "start_time": "2017-11-19T14:22:24.032Z"
    },
    "slideshow": {
     "slide_type": "fragment"
    }
   },
   "outputs": [
    {
     "data": {
      "text/plain": [
       "Time difference of 15.71429 weeks"
      ]
     },
     "metadata": {},
     "output_type": "display_data"
    }
   ],
   "source": [
    "\n",
    "# units parameter could be \"auto\", \"secs\", \"mins\", \"hours\", \"days\" or \"weeks\"\n",
    "difftime(date2num, date1num, units=\"weeks\")\n"
   ]
  },
  {
   "cell_type": "code",
   "execution_count": 22,
   "metadata": {
    "ExecuteTime": {
     "end_time": "2017-11-19T14:23:30.956000Z",
     "start_time": "2017-11-19T14:23:30.844Z"
    },
    "scrolled": true,
    "slideshow": {
     "slide_type": "subslide"
    }
   },
   "outputs": [
    {
     "data": {
      "text/html": [
       "'Date'"
      ],
      "text/latex": [
       "'Date'"
      ],
      "text/markdown": [
       "'Date'"
      ],
      "text/plain": [
       "[1] \"Date\""
      ]
     },
     "metadata": {},
     "output_type": "display_data"
    },
    {
     "data": {
      "text/html": [
       "<table>\n",
       "<caption>A data.frame: 6 × 24</caption>\n",
       "<thead>\n",
       "\t<tr><th></th><th scope=col>Customer</th><th scope=col>State</th><th scope=col>Customer.Lifetime.Value</th><th scope=col>Response</th><th scope=col>Coverage</th><th scope=col>Education</th><th scope=col>Effective.To.Date</th><th scope=col>EmploymentStatus</th><th scope=col>Gender</th><th scope=col>Income</th><th scope=col>...</th><th scope=col>Months.Since.Policy.Inception</th><th scope=col>Number.of.Open.Complaints</th><th scope=col>Number.of.Policies</th><th scope=col>Policy.Type</th><th scope=col>Policy</th><th scope=col>Renew.Offer.Type</th><th scope=col>Sales.Channel</th><th scope=col>Total.Claim.Amount</th><th scope=col>Vehicle.Class</th><th scope=col>Vehicle.Size</th></tr>\n",
       "\t<tr><th></th><th scope=col>&lt;chr&gt;</th><th scope=col>&lt;chr&gt;</th><th scope=col>&lt;dbl&gt;</th><th scope=col>&lt;chr&gt;</th><th scope=col>&lt;chr&gt;</th><th scope=col>&lt;chr&gt;</th><th scope=col>&lt;date&gt;</th><th scope=col>&lt;chr&gt;</th><th scope=col>&lt;chr&gt;</th><th scope=col>&lt;int&gt;</th><th scope=col>...</th><th scope=col>&lt;int&gt;</th><th scope=col>&lt;int&gt;</th><th scope=col>&lt;int&gt;</th><th scope=col>&lt;chr&gt;</th><th scope=col>&lt;chr&gt;</th><th scope=col>&lt;chr&gt;</th><th scope=col>&lt;chr&gt;</th><th scope=col>&lt;dbl&gt;</th><th scope=col>&lt;chr&gt;</th><th scope=col>&lt;chr&gt;</th></tr>\n",
       "</thead>\n",
       "<tbody>\n",
       "\t<tr><th scope=row>BU79786</th><td>BU79786</td><td>Washington</td><td> 2763.519</td><td>No </td><td>Basic   </td><td>Bachelor</td><td>2011-02-24</td><td>Employed  </td><td>F</td><td>56274</td><td>...</td><td> 5</td><td>0</td><td>1</td><td>Corporate Auto</td><td>Corporate L3</td><td>Offer1</td><td>Agent      </td><td> 384.8111</td><td>Two-Door Car </td><td>Medsize</td></tr>\n",
       "\t<tr><th scope=row>QZ44356</th><td>QZ44356</td><td>Arizona   </td><td> 6979.536</td><td>No </td><td>Extended</td><td>Bachelor</td><td>2011-01-31</td><td>Unemployed</td><td>F</td><td>    0</td><td>...</td><td>42</td><td>0</td><td>8</td><td>Personal Auto </td><td>Personal L3 </td><td>Offer3</td><td>Agent      </td><td>1131.4649</td><td>Four-Door Car</td><td>Medsize</td></tr>\n",
       "\t<tr><th scope=row>AI49188</th><td>AI49188</td><td>Nevada    </td><td>12887.432</td><td>No </td><td>Premium </td><td>Bachelor</td><td>2011-02-19</td><td>Employed  </td><td>F</td><td>48767</td><td>...</td><td>38</td><td>0</td><td>2</td><td>Personal Auto </td><td>Personal L3 </td><td>Offer1</td><td>Agent      </td><td> 566.4722</td><td>Two-Door Car </td><td>Medsize</td></tr>\n",
       "\t<tr><th scope=row>WW63253</th><td>WW63253</td><td>California</td><td> 7645.862</td><td>No </td><td>Basic   </td><td>Bachelor</td><td>2011-01-20</td><td>Unemployed</td><td>M</td><td>    0</td><td>...</td><td>65</td><td>0</td><td>7</td><td>Corporate Auto</td><td>Corporate L2</td><td>Offer1</td><td>Call Center</td><td> 529.8813</td><td>SUV          </td><td>Medsize</td></tr>\n",
       "\t<tr><th scope=row>HB64268</th><td>HB64268</td><td>Washington</td><td> 2813.693</td><td>No </td><td>Basic   </td><td>Bachelor</td><td>2011-02-03</td><td>Employed  </td><td>M</td><td>43836</td><td>...</td><td>44</td><td>0</td><td>1</td><td>Personal Auto </td><td>Personal L1 </td><td>Offer1</td><td>Agent      </td><td> 138.1309</td><td>Four-Door Car</td><td>Medsize</td></tr>\n",
       "\t<tr><th scope=row>OC83172</th><td>OC83172</td><td>Oregon    </td><td> 8256.298</td><td>Yes</td><td>Basic   </td><td>Bachelor</td><td>2011-01-25</td><td>Employed  </td><td>F</td><td>62902</td><td>...</td><td>94</td><td>0</td><td>2</td><td>Personal Auto </td><td>Personal L3 </td><td>Offer2</td><td>Web        </td><td> 159.3830</td><td>Two-Door Car </td><td>Medsize</td></tr>\n",
       "</tbody>\n",
       "</table>\n"
      ],
      "text/latex": [
       "A data.frame: 6 × 24\n",
       "\\begin{tabular}{r|llllllllllllllllllllllll}\n",
       "  & Customer & State & Customer.Lifetime.Value & Response & Coverage & Education & Effective.To.Date & EmploymentStatus & Gender & Income & Location.Code & Marital.Status & Monthly.Premium.Auto & Months.Since.Last.Claim & Months.Since.Policy.Inception & Number.of.Open.Complaints & Number.of.Policies & Policy.Type & Policy & Renew.Offer.Type & Sales.Channel & Total.Claim.Amount & Vehicle.Class & Vehicle.Size\\\\\n",
       "  & <chr> & <chr> & <dbl> & <chr> & <chr> & <chr> & <date> & <chr> & <chr> & <int> & <chr> & <chr> & <int> & <int> & <int> & <int> & <int> & <chr> & <chr> & <chr> & <chr> & <dbl> & <chr> & <chr>\\\\\n",
       "\\hline\n",
       "\tBU79786 & BU79786 & Washington &  2763.519 & No  & Basic    & Bachelor & 2011-02-24 & Employed   & F & 56274 & Suburban & Married &  69 & 32 &  5 & 0 & 1 & Corporate Auto & Corporate L3 & Offer1 & Agent       &  384.8111 & Two-Door Car  & Medsize\\\\\n",
       "\tQZ44356 & QZ44356 & Arizona    &  6979.536 & No  & Extended & Bachelor & 2011-01-31 & Unemployed & F &     0 & Suburban & Single  &  94 & 13 & 42 & 0 & 8 & Personal Auto  & Personal L3  & Offer3 & Agent       & 1131.4649 & Four-Door Car & Medsize\\\\\n",
       "\tAI49188 & AI49188 & Nevada     & 12887.432 & No  & Premium  & Bachelor & 2011-02-19 & Employed   & F & 48767 & Suburban & Married & 108 & 18 & 38 & 0 & 2 & Personal Auto  & Personal L3  & Offer1 & Agent       &  566.4722 & Two-Door Car  & Medsize\\\\\n",
       "\tWW63253 & WW63253 & California &  7645.862 & No  & Basic    & Bachelor & 2011-01-20 & Unemployed & M &     0 & Suburban & Married & 106 & 18 & 65 & 0 & 7 & Corporate Auto & Corporate L2 & Offer1 & Call Center &  529.8813 & SUV           & Medsize\\\\\n",
       "\tHB64268 & HB64268 & Washington &  2813.693 & No  & Basic    & Bachelor & 2011-02-03 & Employed   & M & 43836 & Rural    & Single  &  73 & 12 & 44 & 0 & 1 & Personal Auto  & Personal L1  & Offer1 & Agent       &  138.1309 & Four-Door Car & Medsize\\\\\n",
       "\tOC83172 & OC83172 & Oregon     &  8256.298 & Yes & Basic    & Bachelor & 2011-01-25 & Employed   & F & 62902 & Rural    & Married &  69 & 14 & 94 & 0 & 2 & Personal Auto  & Personal L3  & Offer2 & Web         &  159.3830 & Two-Door Car  & Medsize\\\\\n",
       "\\end{tabular}\n"
      ],
      "text/markdown": [
       "\n",
       "A data.frame: 6 × 24\n",
       "\n",
       "| <!--/--> | Customer &lt;chr&gt; | State &lt;chr&gt; | Customer.Lifetime.Value &lt;dbl&gt; | Response &lt;chr&gt; | Coverage &lt;chr&gt; | Education &lt;chr&gt; | Effective.To.Date &lt;date&gt; | EmploymentStatus &lt;chr&gt; | Gender &lt;chr&gt; | Income &lt;int&gt; | ... ... | Months.Since.Policy.Inception &lt;int&gt; | Number.of.Open.Complaints &lt;int&gt; | Number.of.Policies &lt;int&gt; | Policy.Type &lt;chr&gt; | Policy &lt;chr&gt; | Renew.Offer.Type &lt;chr&gt; | Sales.Channel &lt;chr&gt; | Total.Claim.Amount &lt;dbl&gt; | Vehicle.Class &lt;chr&gt; | Vehicle.Size &lt;chr&gt; |\n",
       "|---|---|---|---|---|---|---|---|---|---|---|---|---|---|---|---|---|---|---|---|---|---|\n",
       "| BU79786 | BU79786 | Washington |  2763.519 | No  | Basic    | Bachelor | 2011-02-24 | Employed   | F | 56274 | ... |  5 | 0 | 1 | Corporate Auto | Corporate L3 | Offer1 | Agent       |  384.8111 | Two-Door Car  | Medsize |\n",
       "| QZ44356 | QZ44356 | Arizona    |  6979.536 | No  | Extended | Bachelor | 2011-01-31 | Unemployed | F |     0 | ... | 42 | 0 | 8 | Personal Auto  | Personal L3  | Offer3 | Agent       | 1131.4649 | Four-Door Car | Medsize |\n",
       "| AI49188 | AI49188 | Nevada     | 12887.432 | No  | Premium  | Bachelor | 2011-02-19 | Employed   | F | 48767 | ... | 38 | 0 | 2 | Personal Auto  | Personal L3  | Offer1 | Agent       |  566.4722 | Two-Door Car  | Medsize |\n",
       "| WW63253 | WW63253 | California |  7645.862 | No  | Basic    | Bachelor | 2011-01-20 | Unemployed | M |     0 | ... | 65 | 0 | 7 | Corporate Auto | Corporate L2 | Offer1 | Call Center |  529.8813 | SUV           | Medsize |\n",
       "| HB64268 | HB64268 | Washington |  2813.693 | No  | Basic    | Bachelor | 2011-02-03 | Employed   | M | 43836 | ... | 44 | 0 | 1 | Personal Auto  | Personal L1  | Offer1 | Agent       |  138.1309 | Four-Door Car | Medsize |\n",
       "| OC83172 | OC83172 | Oregon     |  8256.298 | Yes | Basic    | Bachelor | 2011-01-25 | Employed   | F | 62902 | ... | 94 | 0 | 2 | Personal Auto  | Personal L3  | Offer2 | Web         |  159.3830 | Two-Door Car  | Medsize |\n",
       "\n"
      ],
      "text/plain": [
       "        Customer State      Customer.Lifetime.Value Response Coverage Education\n",
       "BU79786 BU79786  Washington  2763.519               No       Basic    Bachelor \n",
       "QZ44356 QZ44356  Arizona     6979.536               No       Extended Bachelor \n",
       "AI49188 AI49188  Nevada     12887.432               No       Premium  Bachelor \n",
       "WW63253 WW63253  California  7645.862               No       Basic    Bachelor \n",
       "HB64268 HB64268  Washington  2813.693               No       Basic    Bachelor \n",
       "OC83172 OC83172  Oregon      8256.298               Yes      Basic    Bachelor \n",
       "        Effective.To.Date EmploymentStatus Gender Income ...\n",
       "BU79786 2011-02-24        Employed         F      56274  ...\n",
       "QZ44356 2011-01-31        Unemployed       F          0  ...\n",
       "AI49188 2011-02-19        Employed         F      48767  ...\n",
       "WW63253 2011-01-20        Unemployed       M          0  ...\n",
       "HB64268 2011-02-03        Employed         M      43836  ...\n",
       "OC83172 2011-01-25        Employed         F      62902  ...\n",
       "        Months.Since.Policy.Inception Number.of.Open.Complaints\n",
       "BU79786  5                            0                        \n",
       "QZ44356 42                            0                        \n",
       "AI49188 38                            0                        \n",
       "WW63253 65                            0                        \n",
       "HB64268 44                            0                        \n",
       "OC83172 94                            0                        \n",
       "        Number.of.Policies Policy.Type    Policy       Renew.Offer.Type\n",
       "BU79786 1                  Corporate Auto Corporate L3 Offer1          \n",
       "QZ44356 8                  Personal Auto  Personal L3  Offer3          \n",
       "AI49188 2                  Personal Auto  Personal L3  Offer1          \n",
       "WW63253 7                  Corporate Auto Corporate L2 Offer1          \n",
       "HB64268 1                  Personal Auto  Personal L1  Offer1          \n",
       "OC83172 2                  Personal Auto  Personal L3  Offer2          \n",
       "        Sales.Channel Total.Claim.Amount Vehicle.Class Vehicle.Size\n",
       "BU79786 Agent          384.8111          Two-Door Car  Medsize     \n",
       "QZ44356 Agent         1131.4649          Four-Door Car Medsize     \n",
       "AI49188 Agent          566.4722          Two-Door Car  Medsize     \n",
       "WW63253 Call Center    529.8813          SUV           Medsize     \n",
       "HB64268 Agent          138.1309          Four-Door Car Medsize     \n",
       "OC83172 Web            159.3830          Two-Door Car  Medsize     "
      ]
     },
     "metadata": {},
     "output_type": "display_data"
    },
    {
     "data": {
      "text/html": [
       "<ol class=list-inline>\n",
       "\t<li>9129</li>\n",
       "\t<li>24</li>\n",
       "</ol>\n"
      ],
      "text/latex": [
       "\\begin{enumerate*}\n",
       "\\item 9129\n",
       "\\item 24\n",
       "\\end{enumerate*}\n"
      ],
      "text/markdown": [
       "1. 9129\n",
       "2. 24\n",
       "\n",
       "\n"
      ],
      "text/plain": [
       "[1] 9129   24"
      ]
     },
     "metadata": {},
     "output_type": "display_data"
    }
   ],
   "source": [
    "clvData$Effective.To.Date <- as.Date(clvData$Effective.To.Date, \"%m/%d/%y\")\n",
    "\n",
    "class(clvData$Effective.To.Date)\n",
    "\n",
    "head(clvData)    #head() gives us the first values\n",
    "\n",
    "clvData <- na.omit(clvData)\n",
    "dim(clvData)"
   ]
  },
  {
   "cell_type": "markdown",
   "metadata": {
    "slideshow": {
     "slide_type": "subslide"
    }
   },
   "source": [
    "Two new function from **tidyverse** (more exactly from the dplyr package)\n",
    "\n",
    "* [**mutate()**](https://dplyr.tidyverse.org/reference/mutate.html) to create a new column(s) - see [examples](https://r4ds.had.co.nz/transform.html#add-new-variables-with-mutate)\n",
    "\n",
    "* [**do()**](https://www.r-bloggers.com/dplyr-do-some-tips-for-using-and-programming/) prevents the automatic insertion of the data (defined by .) at the first position in a pipe (defined by %>%). It is like \"whatdata %>% { myfun(arg1, arg2) }\". `Keep in mind`, that we can address the data of the pipe by a dot at any position, e.g. \"whatdata %>% myfun(arg1, arg2, data = .)\".\n",
    "\n",
    "\n",
    "`Important`: All dplyr methods ignore rownames, so sometimes we have to create an additionally column with the rownames to filter them.\n"
   ]
  },
  {
   "cell_type": "code",
   "execution_count": 23,
   "metadata": {},
   "outputs": [
    {
     "data": {
      "text/html": [
       "<table>\n",
       "<caption>A data.frame: 5 × 11</caption>\n",
       "<thead>\n",
       "\t<tr><th></th><th scope=col>mpg</th><th scope=col>cyl</th><th scope=col>disp</th><th scope=col>hp</th><th scope=col>drat</th><th scope=col>wt</th><th scope=col>qsec</th><th scope=col>vs</th><th scope=col>am</th><th scope=col>gear</th><th scope=col>carb</th></tr>\n",
       "\t<tr><th></th><th scope=col>&lt;dbl&gt;</th><th scope=col>&lt;dbl&gt;</th><th scope=col>&lt;dbl&gt;</th><th scope=col>&lt;dbl&gt;</th><th scope=col>&lt;dbl&gt;</th><th scope=col>&lt;dbl&gt;</th><th scope=col>&lt;dbl&gt;</th><th scope=col>&lt;dbl&gt;</th><th scope=col>&lt;dbl&gt;</th><th scope=col>&lt;dbl&gt;</th><th scope=col>&lt;dbl&gt;</th></tr>\n",
       "</thead>\n",
       "<tbody>\n",
       "\t<tr><th scope=row>Mazda RX4</th><td>21.0</td><td>6</td><td>160</td><td>110</td><td>3.90</td><td>2.620</td><td>16.46</td><td>0</td><td>1</td><td>4</td><td>4</td></tr>\n",
       "\t<tr><th scope=row>Mazda RX4 Wag</th><td>21.0</td><td>6</td><td>160</td><td>110</td><td>3.90</td><td>2.875</td><td>17.02</td><td>0</td><td>1</td><td>4</td><td>4</td></tr>\n",
       "\t<tr><th scope=row>Datsun 710</th><td>22.8</td><td>4</td><td>108</td><td> 93</td><td>3.85</td><td>2.320</td><td>18.61</td><td>1</td><td>1</td><td>4</td><td>1</td></tr>\n",
       "\t<tr><th scope=row>Hornet 4 Drive</th><td>21.4</td><td>6</td><td>258</td><td>110</td><td>3.08</td><td>3.215</td><td>19.44</td><td>1</td><td>0</td><td>3</td><td>1</td></tr>\n",
       "\t<tr><th scope=row>Hornet Sportabout</th><td>18.7</td><td>8</td><td>360</td><td>175</td><td>3.15</td><td>3.440</td><td>17.02</td><td>0</td><td>0</td><td>3</td><td>2</td></tr>\n",
       "</tbody>\n",
       "</table>\n"
      ],
      "text/latex": [
       "A data.frame: 5 × 11\n",
       "\\begin{tabular}{r|lllllllllll}\n",
       "  & mpg & cyl & disp & hp & drat & wt & qsec & vs & am & gear & carb\\\\\n",
       "  & <dbl> & <dbl> & <dbl> & <dbl> & <dbl> & <dbl> & <dbl> & <dbl> & <dbl> & <dbl> & <dbl>\\\\\n",
       "\\hline\n",
       "\tMazda RX4 & 21.0 & 6 & 160 & 110 & 3.90 & 2.620 & 16.46 & 0 & 1 & 4 & 4\\\\\n",
       "\tMazda RX4 Wag & 21.0 & 6 & 160 & 110 & 3.90 & 2.875 & 17.02 & 0 & 1 & 4 & 4\\\\\n",
       "\tDatsun 710 & 22.8 & 4 & 108 &  93 & 3.85 & 2.320 & 18.61 & 1 & 1 & 4 & 1\\\\\n",
       "\tHornet 4 Drive & 21.4 & 6 & 258 & 110 & 3.08 & 3.215 & 19.44 & 1 & 0 & 3 & 1\\\\\n",
       "\tHornet Sportabout & 18.7 & 8 & 360 & 175 & 3.15 & 3.440 & 17.02 & 0 & 0 & 3 & 2\\\\\n",
       "\\end{tabular}\n"
      ],
      "text/markdown": [
       "\n",
       "A data.frame: 5 × 11\n",
       "\n",
       "| <!--/--> | mpg &lt;dbl&gt; | cyl &lt;dbl&gt; | disp &lt;dbl&gt; | hp &lt;dbl&gt; | drat &lt;dbl&gt; | wt &lt;dbl&gt; | qsec &lt;dbl&gt; | vs &lt;dbl&gt; | am &lt;dbl&gt; | gear &lt;dbl&gt; | carb &lt;dbl&gt; |\n",
       "|---|---|---|---|---|---|---|---|---|---|---|---|\n",
       "| Mazda RX4 | 21.0 | 6 | 160 | 110 | 3.90 | 2.620 | 16.46 | 0 | 1 | 4 | 4 |\n",
       "| Mazda RX4 Wag | 21.0 | 6 | 160 | 110 | 3.90 | 2.875 | 17.02 | 0 | 1 | 4 | 4 |\n",
       "| Datsun 710 | 22.8 | 4 | 108 |  93 | 3.85 | 2.320 | 18.61 | 1 | 1 | 4 | 1 |\n",
       "| Hornet 4 Drive | 21.4 | 6 | 258 | 110 | 3.08 | 3.215 | 19.44 | 1 | 0 | 3 | 1 |\n",
       "| Hornet Sportabout | 18.7 | 8 | 360 | 175 | 3.15 | 3.440 | 17.02 | 0 | 0 | 3 | 2 |\n",
       "\n"
      ],
      "text/plain": [
       "                  mpg  cyl disp hp  drat wt    qsec  vs am gear carb\n",
       "Mazda RX4         21.0 6   160  110 3.90 2.620 16.46 0  1  4    4   \n",
       "Mazda RX4 Wag     21.0 6   160  110 3.90 2.875 17.02 0  1  4    4   \n",
       "Datsun 710        22.8 4   108   93 3.85 2.320 18.61 1  1  4    1   \n",
       "Hornet 4 Drive    21.4 6   258  110 3.08 3.215 19.44 1  0  3    1   \n",
       "Hornet Sportabout 18.7 8   360  175 3.15 3.440 17.02 0  0  3    2   "
      ]
     },
     "metadata": {},
     "output_type": "display_data"
    },
    {
     "data": {
      "text/html": [
       "<table>\n",
       "<caption>A data.frame: 1 × 12</caption>\n",
       "<thead>\n",
       "\t<tr><th scope=col>mpg</th><th scope=col>cyl</th><th scope=col>disp</th><th scope=col>hp</th><th scope=col>drat</th><th scope=col>wt</th><th scope=col>qsec</th><th scope=col>vs</th><th scope=col>am</th><th scope=col>gear</th><th scope=col>carb</th><th scope=col>NameOfRow</th></tr>\n",
       "\t<tr><th scope=col>&lt;dbl&gt;</th><th scope=col>&lt;dbl&gt;</th><th scope=col>&lt;dbl&gt;</th><th scope=col>&lt;dbl&gt;</th><th scope=col>&lt;dbl&gt;</th><th scope=col>&lt;dbl&gt;</th><th scope=col>&lt;dbl&gt;</th><th scope=col>&lt;dbl&gt;</th><th scope=col>&lt;dbl&gt;</th><th scope=col>&lt;dbl&gt;</th><th scope=col>&lt;dbl&gt;</th><th scope=col>&lt;chr&gt;</th></tr>\n",
       "</thead>\n",
       "<tbody>\n",
       "\t<tr><td>15</td><td>8</td><td>301</td><td>335</td><td>3.54</td><td>3.57</td><td>14.6</td><td>0</td><td>1</td><td>5</td><td>8</td><td>Maserati Bora</td></tr>\n",
       "</tbody>\n",
       "</table>\n"
      ],
      "text/latex": [
       "A data.frame: 1 × 12\n",
       "\\begin{tabular}{r|llllllllllll}\n",
       " mpg & cyl & disp & hp & drat & wt & qsec & vs & am & gear & carb & NameOfRow\\\\\n",
       " <dbl> & <dbl> & <dbl> & <dbl> & <dbl> & <dbl> & <dbl> & <dbl> & <dbl> & <dbl> & <dbl> & <chr>\\\\\n",
       "\\hline\n",
       "\t 15 & 8 & 301 & 335 & 3.54 & 3.57 & 14.6 & 0 & 1 & 5 & 8 & Maserati Bora\\\\\n",
       "\\end{tabular}\n"
      ],
      "text/markdown": [
       "\n",
       "A data.frame: 1 × 12\n",
       "\n",
       "| mpg &lt;dbl&gt; | cyl &lt;dbl&gt; | disp &lt;dbl&gt; | hp &lt;dbl&gt; | drat &lt;dbl&gt; | wt &lt;dbl&gt; | qsec &lt;dbl&gt; | vs &lt;dbl&gt; | am &lt;dbl&gt; | gear &lt;dbl&gt; | carb &lt;dbl&gt; | NameOfRow &lt;chr&gt; |\n",
       "|---|---|---|---|---|---|---|---|---|---|---|---|\n",
       "| 15 | 8 | 301 | 335 | 3.54 | 3.57 | 14.6 | 0 | 1 | 5 | 8 | Maserati Bora |\n",
       "\n"
      ],
      "text/plain": [
       "  mpg cyl disp hp  drat wt   qsec vs am gear carb NameOfRow    \n",
       "1 15  8   301  335 3.54 3.57 14.6 0  1  5    8    Maserati Bora"
      ]
     },
     "metadata": {},
     "output_type": "display_data"
    }
   ],
   "source": [
    "#IMPORTANT: All dplyr methods ignore rownames, so sometimes we have to create an\n",
    "#additionally column with the rownames to filter them\n",
    "\n",
    "#----------------------------------------------------------------\n",
    "create_rownames <- function(tmpData) {\n",
    "    #Insert a new column \"NameOfRow\" with the rownames of the data\n",
    "    newCol <- tmpData %>% do(mutate(., NameOfRow=rownames(.)))\n",
    "    return(newCol)\n",
    "}\n",
    "\n",
    "head(mtcars, 5)  #Here you see the first 5 rows and you see the named rownames\n",
    "\n",
    "mtcars %>% create_rownames() %>% filter(NameOfRow==\"Maserati Bora\")"
   ]
  },
  {
   "cell_type": "markdown",
   "metadata": {
    "slideshow": {
     "slide_type": "subslide"
    }
   },
   "source": [
    "## Add/Remove data to/from dataframe\n",
    "\n",
    "### Add rows\n",
    "\n",
    "The `rbind()`-function can be applied to add new row(s). This concatenation requires that the two dataframes have the same variables (columnnames).\n"
   ]
  },
  {
   "cell_type": "code",
   "execution_count": 24,
   "metadata": {
    "ExecuteTime": {
     "end_time": "2017-11-19T14:24:34.339000Z",
     "start_time": "2017-11-19T14:24:34.256Z"
    },
    "slideshow": {
     "slide_type": "fragment"
    }
   },
   "outputs": [
    {
     "data": {
      "text/html": [
       "24"
      ],
      "text/latex": [
       "24"
      ],
      "text/markdown": [
       "24"
      ],
      "text/plain": [
       "[1] 24"
      ]
     },
     "metadata": {},
     "output_type": "display_data"
    },
    {
     "data": {
      "text/html": [
       "24"
      ],
      "text/latex": [
       "24"
      ],
      "text/markdown": [
       "24"
      ],
      "text/plain": [
       "[1] 24"
      ]
     },
     "metadata": {},
     "output_type": "display_data"
    }
   ],
   "source": [
    "clvData.tmp <- clvData\n",
    "#glimpse(clvData.tmp)\n",
    "newEntry <- list(\"XX98976\",\"Nevada\",2450.190996,\"No\",\"Basic\",\"Bachelor\",\n",
    "                 as.Date(c(\"2011-02-24\"), format=\"%Y-%m-%d\"), \n",
    "                 \"Unemployed\",\"F\",0,\"Suburban\",\"Single\",73,4,44,3,1,\"Corporate Auto\",\n",
    "                 \"Corporate L3\",\"Offer1\",\"Branch\",554.376763,\"Four-Door Car\",\"Medsize\")\n",
    "\n",
    "length(newEntry)\n",
    "length(clvData.tmp[1, ])"
   ]
  },
  {
   "cell_type": "code",
   "execution_count": 25,
   "metadata": {
    "ExecuteTime": {
     "end_time": "2017-11-19T14:25:38.646000Z",
     "start_time": "2017-11-19T14:25:38.573Z"
    },
    "slideshow": {
     "slide_type": "subslide"
    }
   },
   "outputs": [
    {
     "data": {
      "text/html": [
       "<table>\n",
       "<caption>A data.frame: 6 × 24</caption>\n",
       "<thead>\n",
       "\t<tr><th></th><th scope=col>Customer</th><th scope=col>State</th><th scope=col>Customer.Lifetime.Value</th><th scope=col>Response</th><th scope=col>Coverage</th><th scope=col>Education</th><th scope=col>Effective.To.Date</th><th scope=col>EmploymentStatus</th><th scope=col>Gender</th><th scope=col>Income</th><th scope=col>...</th><th scope=col>Months.Since.Policy.Inception</th><th scope=col>Number.of.Open.Complaints</th><th scope=col>Number.of.Policies</th><th scope=col>Policy.Type</th><th scope=col>Policy</th><th scope=col>Renew.Offer.Type</th><th scope=col>Sales.Channel</th><th scope=col>Total.Claim.Amount</th><th scope=col>Vehicle.Class</th><th scope=col>Vehicle.Size</th></tr>\n",
       "\t<tr><th></th><th scope=col>&lt;chr&gt;</th><th scope=col>&lt;chr&gt;</th><th scope=col>&lt;dbl&gt;</th><th scope=col>&lt;chr&gt;</th><th scope=col>&lt;chr&gt;</th><th scope=col>&lt;chr&gt;</th><th scope=col>&lt;date&gt;</th><th scope=col>&lt;chr&gt;</th><th scope=col>&lt;chr&gt;</th><th scope=col>&lt;dbl&gt;</th><th scope=col>...</th><th scope=col>&lt;dbl&gt;</th><th scope=col>&lt;dbl&gt;</th><th scope=col>&lt;dbl&gt;</th><th scope=col>&lt;chr&gt;</th><th scope=col>&lt;chr&gt;</th><th scope=col>&lt;chr&gt;</th><th scope=col>&lt;chr&gt;</th><th scope=col>&lt;dbl&gt;</th><th scope=col>&lt;chr&gt;</th><th scope=col>&lt;chr&gt;</th></tr>\n",
       "</thead>\n",
       "<tbody>\n",
       "\t<tr><th scope=row>LA72316</th><td>LA72316</td><td>California</td><td>23405.988</td><td>No </td><td>Basic   </td><td>Bachelor</td><td>2011-02-10</td><td>Employed  </td><td>M</td><td>71941</td><td>...</td><td>89</td><td>0</td><td>2</td><td>Personal Auto </td><td>Personal L1 </td><td>Offer2</td><td>Web        </td><td>198.2348</td><td>Four-Door Car</td><td>Medsize</td></tr>\n",
       "\t<tr><th scope=row>PK87824</th><td>PK87824</td><td>California</td><td> 3096.511</td><td>Yes</td><td>Extended</td><td>College </td><td>2011-02-12</td><td>Employed  </td><td>F</td><td>21604</td><td>...</td><td>28</td><td>0</td><td>1</td><td>Corporate Auto</td><td>Corporate L3</td><td>Offer1</td><td>Branch     </td><td>379.2000</td><td>Four-Door Car</td><td>Medsize</td></tr>\n",
       "\t<tr><th scope=row>TD14365</th><td>TD14365</td><td>California</td><td> 8163.890</td><td>No </td><td>Extended</td><td>Bachelor</td><td>2011-02-06</td><td>Unemployed</td><td>M</td><td>    0</td><td>...</td><td>37</td><td>3</td><td>2</td><td>Corporate Auto</td><td>Corporate L2</td><td>Offer1</td><td>Branch     </td><td>790.7850</td><td>Four-Door Car</td><td>Medsize</td></tr>\n",
       "\t<tr><th scope=row>UP19263</th><td>UP19263</td><td>California</td><td> 7524.442</td><td>No </td><td>Extended</td><td>College </td><td>2011-02-03</td><td>Employed  </td><td>M</td><td>21941</td><td>...</td><td> 3</td><td>0</td><td>3</td><td>Personal Auto </td><td>Personal L2 </td><td>Offer3</td><td>Branch     </td><td>691.2000</td><td>Four-Door Car</td><td>Large  </td></tr>\n",
       "\t<tr><th scope=row>Y167826</th><td>Y167826</td><td>California</td><td> 2611.837</td><td>No </td><td>Extended</td><td>College </td><td>2011-02-14</td><td>Unemployed</td><td>M</td><td>    0</td><td>...</td><td>90</td><td>0</td><td>1</td><td>Corporate Auto</td><td>Corporate L3</td><td>Offer4</td><td>Call Center</td><td>369.6000</td><td>Two-Door Car </td><td>Medsize</td></tr>\n",
       "\t<tr><th scope=row>9130</th><td>XX98976</td><td>Nevada    </td><td> 2450.191</td><td>No </td><td>Basic   </td><td>Bachelor</td><td>2011-02-24</td><td>Unemployed</td><td>F</td><td>    0</td><td>...</td><td>44</td><td>3</td><td>1</td><td>Corporate Auto</td><td>Corporate L3</td><td>Offer1</td><td>Branch     </td><td>554.3768</td><td>Four-Door Car</td><td>Medsize</td></tr>\n",
       "</tbody>\n",
       "</table>\n"
      ],
      "text/latex": [
       "A data.frame: 6 × 24\n",
       "\\begin{tabular}{r|llllllllllllllllllllllll}\n",
       "  & Customer & State & Customer.Lifetime.Value & Response & Coverage & Education & Effective.To.Date & EmploymentStatus & Gender & Income & Location.Code & Marital.Status & Monthly.Premium.Auto & Months.Since.Last.Claim & Months.Since.Policy.Inception & Number.of.Open.Complaints & Number.of.Policies & Policy.Type & Policy & Renew.Offer.Type & Sales.Channel & Total.Claim.Amount & Vehicle.Class & Vehicle.Size\\\\\n",
       "  & <chr> & <chr> & <dbl> & <chr> & <chr> & <chr> & <date> & <chr> & <chr> & <dbl> & <chr> & <chr> & <dbl> & <dbl> & <dbl> & <dbl> & <dbl> & <chr> & <chr> & <chr> & <chr> & <dbl> & <chr> & <chr>\\\\\n",
       "\\hline\n",
       "\tLA72316 & LA72316 & California & 23405.988 & No  & Basic    & Bachelor & 2011-02-10 & Employed   & M & 71941 & Urban    & Married  & 73 & 18 & 89 & 0 & 2 & Personal Auto  & Personal L1  & Offer2 & Web         & 198.2348 & Four-Door Car & Medsize\\\\\n",
       "\tPK87824 & PK87824 & California &  3096.511 & Yes & Extended & College  & 2011-02-12 & Employed   & F & 21604 & Suburban & Divorced & 79 & 14 & 28 & 0 & 1 & Corporate Auto & Corporate L3 & Offer1 & Branch      & 379.2000 & Four-Door Car & Medsize\\\\\n",
       "\tTD14365 & TD14365 & California &  8163.890 & No  & Extended & Bachelor & 2011-02-06 & Unemployed & M &     0 & Suburban & Single   & 85 &  9 & 37 & 3 & 2 & Corporate Auto & Corporate L2 & Offer1 & Branch      & 790.7850 & Four-Door Car & Medsize\\\\\n",
       "\tUP19263 & UP19263 & California &  7524.442 & No  & Extended & College  & 2011-02-03 & Employed   & M & 21941 & Suburban & Married  & 96 & 34 &  3 & 0 & 3 & Personal Auto  & Personal L2  & Offer3 & Branch      & 691.2000 & Four-Door Car & Large  \\\\\n",
       "\tY167826 & Y167826 & California &  2611.837 & No  & Extended & College  & 2011-02-14 & Unemployed & M &     0 & Suburban & Single   & 77 &  3 & 90 & 0 & 1 & Corporate Auto & Corporate L3 & Offer4 & Call Center & 369.6000 & Two-Door Car  & Medsize\\\\\n",
       "\t9130 & XX98976 & Nevada     &  2450.191 & No  & Basic    & Bachelor & 2011-02-24 & Unemployed & F &     0 & Suburban & Single   & 73 &  4 & 44 & 3 & 1 & Corporate Auto & Corporate L3 & Offer1 & Branch      & 554.3768 & Four-Door Car & Medsize\\\\\n",
       "\\end{tabular}\n"
      ],
      "text/markdown": [
       "\n",
       "A data.frame: 6 × 24\n",
       "\n",
       "| <!--/--> | Customer &lt;chr&gt; | State &lt;chr&gt; | Customer.Lifetime.Value &lt;dbl&gt; | Response &lt;chr&gt; | Coverage &lt;chr&gt; | Education &lt;chr&gt; | Effective.To.Date &lt;date&gt; | EmploymentStatus &lt;chr&gt; | Gender &lt;chr&gt; | Income &lt;dbl&gt; | ... ... | Months.Since.Policy.Inception &lt;dbl&gt; | Number.of.Open.Complaints &lt;dbl&gt; | Number.of.Policies &lt;dbl&gt; | Policy.Type &lt;chr&gt; | Policy &lt;chr&gt; | Renew.Offer.Type &lt;chr&gt; | Sales.Channel &lt;chr&gt; | Total.Claim.Amount &lt;dbl&gt; | Vehicle.Class &lt;chr&gt; | Vehicle.Size &lt;chr&gt; |\n",
       "|---|---|---|---|---|---|---|---|---|---|---|---|---|---|---|---|---|---|---|---|---|---|\n",
       "| LA72316 | LA72316 | California | 23405.988 | No  | Basic    | Bachelor | 2011-02-10 | Employed   | M | 71941 | ... | 89 | 0 | 2 | Personal Auto  | Personal L1  | Offer2 | Web         | 198.2348 | Four-Door Car | Medsize |\n",
       "| PK87824 | PK87824 | California |  3096.511 | Yes | Extended | College  | 2011-02-12 | Employed   | F | 21604 | ... | 28 | 0 | 1 | Corporate Auto | Corporate L3 | Offer1 | Branch      | 379.2000 | Four-Door Car | Medsize |\n",
       "| TD14365 | TD14365 | California |  8163.890 | No  | Extended | Bachelor | 2011-02-06 | Unemployed | M |     0 | ... | 37 | 3 | 2 | Corporate Auto | Corporate L2 | Offer1 | Branch      | 790.7850 | Four-Door Car | Medsize |\n",
       "| UP19263 | UP19263 | California |  7524.442 | No  | Extended | College  | 2011-02-03 | Employed   | M | 21941 | ... |  3 | 0 | 3 | Personal Auto  | Personal L2  | Offer3 | Branch      | 691.2000 | Four-Door Car | Large   |\n",
       "| Y167826 | Y167826 | California |  2611.837 | No  | Extended | College  | 2011-02-14 | Unemployed | M |     0 | ... | 90 | 0 | 1 | Corporate Auto | Corporate L3 | Offer4 | Call Center | 369.6000 | Two-Door Car  | Medsize |\n",
       "| 9130 | XX98976 | Nevada     |  2450.191 | No  | Basic    | Bachelor | 2011-02-24 | Unemployed | F |     0 | ... | 44 | 3 | 1 | Corporate Auto | Corporate L3 | Offer1 | Branch      | 554.3768 | Four-Door Car | Medsize |\n",
       "\n"
      ],
      "text/plain": [
       "        Customer State      Customer.Lifetime.Value Response Coverage Education\n",
       "LA72316 LA72316  California 23405.988               No       Basic    Bachelor \n",
       "PK87824 PK87824  California  3096.511               Yes      Extended College  \n",
       "TD14365 TD14365  California  8163.890               No       Extended Bachelor \n",
       "UP19263 UP19263  California  7524.442               No       Extended College  \n",
       "Y167826 Y167826  California  2611.837               No       Extended College  \n",
       "9130    XX98976  Nevada      2450.191               No       Basic    Bachelor \n",
       "        Effective.To.Date EmploymentStatus Gender Income ...\n",
       "LA72316 2011-02-10        Employed         M      71941  ...\n",
       "PK87824 2011-02-12        Employed         F      21604  ...\n",
       "TD14365 2011-02-06        Unemployed       M          0  ...\n",
       "UP19263 2011-02-03        Employed         M      21941  ...\n",
       "Y167826 2011-02-14        Unemployed       M          0  ...\n",
       "9130    2011-02-24        Unemployed       F          0  ...\n",
       "        Months.Since.Policy.Inception Number.of.Open.Complaints\n",
       "LA72316 89                            0                        \n",
       "PK87824 28                            0                        \n",
       "TD14365 37                            3                        \n",
       "UP19263  3                            0                        \n",
       "Y167826 90                            0                        \n",
       "9130    44                            3                        \n",
       "        Number.of.Policies Policy.Type    Policy       Renew.Offer.Type\n",
       "LA72316 2                  Personal Auto  Personal L1  Offer2          \n",
       "PK87824 1                  Corporate Auto Corporate L3 Offer1          \n",
       "TD14365 2                  Corporate Auto Corporate L2 Offer1          \n",
       "UP19263 3                  Personal Auto  Personal L2  Offer3          \n",
       "Y167826 1                  Corporate Auto Corporate L3 Offer4          \n",
       "9130    1                  Corporate Auto Corporate L3 Offer1          \n",
       "        Sales.Channel Total.Claim.Amount Vehicle.Class Vehicle.Size\n",
       "LA72316 Web           198.2348           Four-Door Car Medsize     \n",
       "PK87824 Branch        379.2000           Four-Door Car Medsize     \n",
       "TD14365 Branch        790.7850           Four-Door Car Medsize     \n",
       "UP19263 Branch        691.2000           Four-Door Car Large       \n",
       "Y167826 Call Center   369.6000           Two-Door Car  Medsize     \n",
       "9130    Branch        554.3768           Four-Door Car Medsize     "
      ]
     },
     "metadata": {},
     "output_type": "display_data"
    }
   ],
   "source": [
    "clvData.tmp <- rbind(clvData.tmp, newEntry)\n",
    "\n",
    "#tail(x, n) outputs the last 'n' (default=6) rows of 'x'\n",
    "tail(clvData.tmp)"
   ]
  },
  {
   "cell_type": "markdown",
   "metadata": {
    "slideshow": {
     "slide_type": "subslide"
    }
   },
   "source": [
    "The columns of one dataframe *df2* can be attached to the columns of another dataframe *df1* by applying the `cbind(df1, df2)`-function. This concatenation requires that the two dataframes have the same number of rows and are sorted in the same order."
   ]
  },
  {
   "cell_type": "markdown",
   "metadata": {
    "slideshow": {
     "slide_type": "slide"
    }
   },
   "source": [
    "### Insert row\n",
    "\n",
    "There are different functions to do that, e.g. [`InsertRow()`](https://www.rdocumentation.org/packages/DataCombine/versions/0.2.21/topics/InsertRow), but we can also realize it with `rbind()` by splitting the data frame at a certain row into two parts, then 'rbind' the first splitted part with the new row and then append the second splitted part.\n"
   ]
  },
  {
   "cell_type": "markdown",
   "metadata": {
    "slideshow": {
     "slide_type": "slide"
    }
   },
   "source": [
    "### Add columns\n",
    "\n",
    "This case: The new columns are the result of elementwise arithmetic operations on existing columns.\n"
   ]
  },
  {
   "cell_type": "code",
   "execution_count": 26,
   "metadata": {
    "ExecuteTime": {
     "end_time": "2017-11-19T14:26:56.137000Z",
     "start_time": "2017-11-19T14:26:56.046Z"
    },
    "slideshow": {
     "slide_type": "subslide"
    }
   },
   "outputs": [
    {
     "data": {
      "text/html": [
       "<table>\n",
       "<caption>A data.frame: 6 × 26</caption>\n",
       "<thead>\n",
       "\t<tr><th scope=col>Customer</th><th scope=col>State</th><th scope=col>Customer.Lifetime.Value</th><th scope=col>Response</th><th scope=col>Coverage</th><th scope=col>Education</th><th scope=col>Effective.To.Date</th><th scope=col>EmploymentStatus</th><th scope=col>Gender</th><th scope=col>Income</th><th scope=col>...</th><th scope=col>Number.of.Policies</th><th scope=col>Policy.Type</th><th scope=col>Policy</th><th scope=col>Renew.Offer.Type</th><th scope=col>Sales.Channel</th><th scope=col>Total.Claim.Amount</th><th scope=col>Vehicle.Class</th><th scope=col>Vehicle.Size</th><th scope=col>NormCLV</th><th scope=col>LnCustomer.Lifetime.Value</th></tr>\n",
       "\t<tr><th scope=col>&lt;chr&gt;</th><th scope=col>&lt;chr&gt;</th><th scope=col>&lt;dbl&gt;</th><th scope=col>&lt;chr&gt;</th><th scope=col>&lt;chr&gt;</th><th scope=col>&lt;chr&gt;</th><th scope=col>&lt;date&gt;</th><th scope=col>&lt;chr&gt;</th><th scope=col>&lt;chr&gt;</th><th scope=col>&lt;int&gt;</th><th scope=col>...</th><th scope=col>&lt;int&gt;</th><th scope=col>&lt;chr&gt;</th><th scope=col>&lt;chr&gt;</th><th scope=col>&lt;chr&gt;</th><th scope=col>&lt;chr&gt;</th><th scope=col>&lt;dbl&gt;</th><th scope=col>&lt;chr&gt;</th><th scope=col>&lt;chr&gt;</th><th scope=col>&lt;dbl&gt;</th><th scope=col>&lt;dbl&gt;</th></tr>\n",
       "</thead>\n",
       "<tbody>\n",
       "\t<tr><td>BU79786</td><td>Washington</td><td> 2763.519</td><td>No </td><td>Basic  </td><td>Bachelor</td><td>2011-02-24</td><td>Employed     </td><td>F</td><td>56274</td><td>...</td><td>1</td><td>Corporate Auto</td><td>Corporate L3</td><td>Offer1</td><td>Agent</td><td>384.8111</td><td>Two-Door Car </td><td>Medsize</td><td>0.04910828</td><td> 7.924260</td></tr>\n",
       "\t<tr><td>AI49188</td><td>Nevada    </td><td>12887.432</td><td>No </td><td>Premium</td><td>Bachelor</td><td>2011-02-19</td><td>Employed     </td><td>F</td><td>48767</td><td>...</td><td>2</td><td>Personal Auto </td><td>Personal L3 </td><td>Offer1</td><td>Agent</td><td>566.4722</td><td>Two-Door Car </td><td>Medsize</td><td>0.26426542</td><td> 9.464008</td></tr>\n",
       "\t<tr><td>HB64268</td><td>Washington</td><td> 2813.693</td><td>No </td><td>Basic  </td><td>Bachelor</td><td>2011-02-03</td><td>Employed     </td><td>M</td><td>43836</td><td>...</td><td>1</td><td>Personal Auto </td><td>Personal L1 </td><td>Offer1</td><td>Agent</td><td>138.1309</td><td>Four-Door Car</td><td>Medsize</td><td>0.06418680</td><td> 7.942253</td></tr>\n",
       "\t<tr><td>OC83172</td><td>Oregon    </td><td> 8256.298</td><td>Yes</td><td>Basic  </td><td>Bachelor</td><td>2011-01-25</td><td>Employed     </td><td>F</td><td>62902</td><td>...</td><td>2</td><td>Personal Auto </td><td>Personal L3 </td><td>Offer2</td><td>Web  </td><td>159.3830</td><td>Two-Door Car </td><td>Medsize</td><td>0.13125652</td><td> 9.018732</td></tr>\n",
       "\t<tr><td>XZ87318</td><td>Oregon    </td><td> 5380.899</td><td>Yes</td><td>Basic  </td><td>College </td><td>2011-02-24</td><td>Employed     </td><td>F</td><td>55350</td><td>...</td><td>9</td><td>Corporate Auto</td><td>Corporate L3</td><td>Offer1</td><td>Agent</td><td>321.6000</td><td>Four-Door Car</td><td>Medsize</td><td>0.09721587</td><td> 8.590611</td></tr>\n",
       "\t<tr><td>DY87989</td><td>Oregon    </td><td>24127.504</td><td>Yes</td><td>Basic  </td><td>Bachelor</td><td>2011-01-26</td><td>Medical Leave</td><td>M</td><td>14072</td><td>...</td><td>2</td><td>Corporate Auto</td><td>Corporate L3</td><td>Offer1</td><td>Agent</td><td>511.2000</td><td>Four-Door Car</td><td>Medsize</td><td>1.71457533</td><td>10.091108</td></tr>\n",
       "</tbody>\n",
       "</table>\n"
      ],
      "text/latex": [
       "A data.frame: 6 × 26\n",
       "\\begin{tabular}{r|llllllllllllllllllllllllll}\n",
       " Customer & State & Customer.Lifetime.Value & Response & Coverage & Education & Effective.To.Date & EmploymentStatus & Gender & Income & Location.Code & Marital.Status & Monthly.Premium.Auto & Months.Since.Last.Claim & Months.Since.Policy.Inception & Number.of.Open.Complaints & Number.of.Policies & Policy.Type & Policy & Renew.Offer.Type & Sales.Channel & Total.Claim.Amount & Vehicle.Class & Vehicle.Size & NormCLV & LnCustomer.Lifetime.Value\\\\\n",
       " <chr> & <chr> & <dbl> & <chr> & <chr> & <chr> & <date> & <chr> & <chr> & <int> & <chr> & <chr> & <int> & <int> & <int> & <int> & <int> & <chr> & <chr> & <chr> & <chr> & <dbl> & <chr> & <chr> & <dbl> & <dbl>\\\\\n",
       "\\hline\n",
       "\t BU79786 & Washington &  2763.519 & No  & Basic   & Bachelor & 2011-02-24 & Employed      & F & 56274 & Suburban & Married  &  69 & 32 &  5 & 0 & 1 & Corporate Auto & Corporate L3 & Offer1 & Agent & 384.8111 & Two-Door Car  & Medsize & 0.04910828 &  7.924260\\\\\n",
       "\t AI49188 & Nevada     & 12887.432 & No  & Premium & Bachelor & 2011-02-19 & Employed      & F & 48767 & Suburban & Married  & 108 & 18 & 38 & 0 & 2 & Personal Auto  & Personal L3  & Offer1 & Agent & 566.4722 & Two-Door Car  & Medsize & 0.26426542 &  9.464008\\\\\n",
       "\t HB64268 & Washington &  2813.693 & No  & Basic   & Bachelor & 2011-02-03 & Employed      & M & 43836 & Rural    & Single   &  73 & 12 & 44 & 0 & 1 & Personal Auto  & Personal L1  & Offer1 & Agent & 138.1309 & Four-Door Car & Medsize & 0.06418680 &  7.942253\\\\\n",
       "\t OC83172 & Oregon     &  8256.298 & Yes & Basic   & Bachelor & 2011-01-25 & Employed      & F & 62902 & Rural    & Married  &  69 & 14 & 94 & 0 & 2 & Personal Auto  & Personal L3  & Offer2 & Web   & 159.3830 & Two-Door Car  & Medsize & 0.13125652 &  9.018732\\\\\n",
       "\t XZ87318 & Oregon     &  5380.899 & Yes & Basic   & College  & 2011-02-24 & Employed      & F & 55350 & Suburban & Married  &  67 &  0 & 13 & 0 & 9 & Corporate Auto & Corporate L3 & Offer1 & Agent & 321.6000 & Four-Door Car & Medsize & 0.09721587 &  8.590611\\\\\n",
       "\t DY87989 & Oregon     & 24127.504 & Yes & Basic   & Bachelor & 2011-01-26 & Medical Leave & M & 14072 & Suburban & Divorced &  71 & 13 &  3 & 0 & 2 & Corporate Auto & Corporate L3 & Offer1 & Agent & 511.2000 & Four-Door Car & Medsize & 1.71457533 & 10.091108\\\\\n",
       "\\end{tabular}\n"
      ],
      "text/markdown": [
       "\n",
       "A data.frame: 6 × 26\n",
       "\n",
       "| Customer &lt;chr&gt; | State &lt;chr&gt; | Customer.Lifetime.Value &lt;dbl&gt; | Response &lt;chr&gt; | Coverage &lt;chr&gt; | Education &lt;chr&gt; | Effective.To.Date &lt;date&gt; | EmploymentStatus &lt;chr&gt; | Gender &lt;chr&gt; | Income &lt;int&gt; | ... ... | Number.of.Policies &lt;int&gt; | Policy.Type &lt;chr&gt; | Policy &lt;chr&gt; | Renew.Offer.Type &lt;chr&gt; | Sales.Channel &lt;chr&gt; | Total.Claim.Amount &lt;dbl&gt; | Vehicle.Class &lt;chr&gt; | Vehicle.Size &lt;chr&gt; | NormCLV &lt;dbl&gt; | LnCustomer.Lifetime.Value &lt;dbl&gt; |\n",
       "|---|---|---|---|---|---|---|---|---|---|---|---|---|---|---|---|---|---|---|---|---|\n",
       "| BU79786 | Washington |  2763.519 | No  | Basic   | Bachelor | 2011-02-24 | Employed      | F | 56274 | ... | 1 | Corporate Auto | Corporate L3 | Offer1 | Agent | 384.8111 | Two-Door Car  | Medsize | 0.04910828 |  7.924260 |\n",
       "| AI49188 | Nevada     | 12887.432 | No  | Premium | Bachelor | 2011-02-19 | Employed      | F | 48767 | ... | 2 | Personal Auto  | Personal L3  | Offer1 | Agent | 566.4722 | Two-Door Car  | Medsize | 0.26426542 |  9.464008 |\n",
       "| HB64268 | Washington |  2813.693 | No  | Basic   | Bachelor | 2011-02-03 | Employed      | M | 43836 | ... | 1 | Personal Auto  | Personal L1  | Offer1 | Agent | 138.1309 | Four-Door Car | Medsize | 0.06418680 |  7.942253 |\n",
       "| OC83172 | Oregon     |  8256.298 | Yes | Basic   | Bachelor | 2011-01-25 | Employed      | F | 62902 | ... | 2 | Personal Auto  | Personal L3  | Offer2 | Web   | 159.3830 | Two-Door Car  | Medsize | 0.13125652 |  9.018732 |\n",
       "| XZ87318 | Oregon     |  5380.899 | Yes | Basic   | College  | 2011-02-24 | Employed      | F | 55350 | ... | 9 | Corporate Auto | Corporate L3 | Offer1 | Agent | 321.6000 | Four-Door Car | Medsize | 0.09721587 |  8.590611 |\n",
       "| DY87989 | Oregon     | 24127.504 | Yes | Basic   | Bachelor | 2011-01-26 | Medical Leave | M | 14072 | ... | 2 | Corporate Auto | Corporate L3 | Offer1 | Agent | 511.2000 | Four-Door Car | Medsize | 1.71457533 | 10.091108 |\n",
       "\n"
      ],
      "text/plain": [
       "  Customer State      Customer.Lifetime.Value Response Coverage Education\n",
       "1 BU79786  Washington  2763.519               No       Basic    Bachelor \n",
       "2 AI49188  Nevada     12887.432               No       Premium  Bachelor \n",
       "3 HB64268  Washington  2813.693               No       Basic    Bachelor \n",
       "4 OC83172  Oregon      8256.298               Yes      Basic    Bachelor \n",
       "5 XZ87318  Oregon      5380.899               Yes      Basic    College  \n",
       "6 DY87989  Oregon     24127.504               Yes      Basic    Bachelor \n",
       "  Effective.To.Date EmploymentStatus Gender Income ... Number.of.Policies\n",
       "1 2011-02-24        Employed         F      56274  ... 1                 \n",
       "2 2011-02-19        Employed         F      48767  ... 2                 \n",
       "3 2011-02-03        Employed         M      43836  ... 1                 \n",
       "4 2011-01-25        Employed         F      62902  ... 2                 \n",
       "5 2011-02-24        Employed         F      55350  ... 9                 \n",
       "6 2011-01-26        Medical Leave    M      14072  ... 2                 \n",
       "  Policy.Type    Policy       Renew.Offer.Type Sales.Channel Total.Claim.Amount\n",
       "1 Corporate Auto Corporate L3 Offer1           Agent         384.8111          \n",
       "2 Personal Auto  Personal L3  Offer1           Agent         566.4722          \n",
       "3 Personal Auto  Personal L1  Offer1           Agent         138.1309          \n",
       "4 Personal Auto  Personal L3  Offer2           Web           159.3830          \n",
       "5 Corporate Auto Corporate L3 Offer1           Agent         321.6000          \n",
       "6 Corporate Auto Corporate L3 Offer1           Agent         511.2000          \n",
       "  Vehicle.Class Vehicle.Size NormCLV    LnCustomer.Lifetime.Value\n",
       "1 Two-Door Car  Medsize      0.04910828  7.924260                \n",
       "2 Two-Door Car  Medsize      0.26426542  9.464008                \n",
       "3 Four-Door Car Medsize      0.06418680  7.942253                \n",
       "4 Two-Door Car  Medsize      0.13125652  9.018732                \n",
       "5 Four-Door Car Medsize      0.09721587  8.590611                \n",
       "6 Four-Door Car Medsize      1.71457533 10.091108                "
      ]
     },
     "metadata": {},
     "output_type": "display_data"
    }
   ],
   "source": [
    "clvDataTmp <- clvData\n",
    "clvDataTmp <- clvData[clvDataTmp$Income > 0, ]\n",
    "\n",
    "clvDataTmp <- clvData\n",
    "clvDataTmp <- clvDataTmp %>% filter(Income > 0)\n",
    "\n",
    "clvDataTmp$NormCLV <- clvDataTmp$Customer.Lifetime.Value/clvDataTmp$Income\n",
    "clvDataTmp$LnCustomer.Lifetime.Value <- log(clvDataTmp$Customer.Lifetime.Value)\n",
    "\n",
    "head(clvDataTmp)\n",
    "\n",
    "#You see, we got a lot of 'Inf'"
   ]
  },
  {
   "cell_type": "code",
   "execution_count": 27,
   "metadata": {
    "slideshow": {
     "slide_type": "subslide"
    }
   },
   "outputs": [
    {
     "name": "stdout",
     "output_type": "stream",
     "text": [
      "\n",
      "#Tidyverse syntax:\n"
     ]
    },
    {
     "data": {
      "text/html": [
       "<table>\n",
       "<caption>A data.frame: 6 × 27</caption>\n",
       "<thead>\n",
       "\t<tr><th scope=col>Customer</th><th scope=col>State</th><th scope=col>Customer.Lifetime.Value</th><th scope=col>Response</th><th scope=col>Coverage</th><th scope=col>Education</th><th scope=col>Effective.To.Date</th><th scope=col>EmploymentStatus</th><th scope=col>Gender</th><th scope=col>Income</th><th scope=col>...</th><th scope=col>Policy.Type</th><th scope=col>Policy</th><th scope=col>Renew.Offer.Type</th><th scope=col>Sales.Channel</th><th scope=col>Total.Claim.Amount</th><th scope=col>Vehicle.Class</th><th scope=col>Vehicle.Size</th><th scope=col>NormCLV</th><th scope=col>LnCustomer.Lifetime.Value</th><th scope=col>TestCLV</th></tr>\n",
       "\t<tr><th scope=col>&lt;chr&gt;</th><th scope=col>&lt;chr&gt;</th><th scope=col>&lt;dbl&gt;</th><th scope=col>&lt;chr&gt;</th><th scope=col>&lt;chr&gt;</th><th scope=col>&lt;chr&gt;</th><th scope=col>&lt;date&gt;</th><th scope=col>&lt;chr&gt;</th><th scope=col>&lt;chr&gt;</th><th scope=col>&lt;int&gt;</th><th scope=col>...</th><th scope=col>&lt;chr&gt;</th><th scope=col>&lt;chr&gt;</th><th scope=col>&lt;chr&gt;</th><th scope=col>&lt;chr&gt;</th><th scope=col>&lt;dbl&gt;</th><th scope=col>&lt;chr&gt;</th><th scope=col>&lt;chr&gt;</th><th scope=col>&lt;dbl&gt;</th><th scope=col>&lt;dbl&gt;</th><th scope=col>&lt;dbl&gt;</th></tr>\n",
       "</thead>\n",
       "<tbody>\n",
       "\t<tr><td>BU79786</td><td>Washington</td><td> 2763.519</td><td>No </td><td>Basic  </td><td>Bachelor</td><td>2011-02-24</td><td>Employed     </td><td>F</td><td>56274</td><td>...</td><td>Corporate Auto</td><td>Corporate L3</td><td>Offer1</td><td>Agent</td><td>384.8111</td><td>Two-Door Car </td><td>Medsize</td><td>0.04910828</td><td> 7.924260</td><td>0.004910828</td></tr>\n",
       "\t<tr><td>AI49188</td><td>Nevada    </td><td>12887.432</td><td>No </td><td>Premium</td><td>Bachelor</td><td>2011-02-19</td><td>Employed     </td><td>F</td><td>48767</td><td>...</td><td>Personal Auto </td><td>Personal L3 </td><td>Offer1</td><td>Agent</td><td>566.4722</td><td>Two-Door Car </td><td>Medsize</td><td>0.26426542</td><td> 9.464008</td><td>0.026426542</td></tr>\n",
       "\t<tr><td>HB64268</td><td>Washington</td><td> 2813.693</td><td>No </td><td>Basic  </td><td>Bachelor</td><td>2011-02-03</td><td>Employed     </td><td>M</td><td>43836</td><td>...</td><td>Personal Auto </td><td>Personal L1 </td><td>Offer1</td><td>Agent</td><td>138.1309</td><td>Four-Door Car</td><td>Medsize</td><td>0.06418680</td><td> 7.942253</td><td>0.006418680</td></tr>\n",
       "\t<tr><td>OC83172</td><td>Oregon    </td><td> 8256.298</td><td>Yes</td><td>Basic  </td><td>Bachelor</td><td>2011-01-25</td><td>Employed     </td><td>F</td><td>62902</td><td>...</td><td>Personal Auto </td><td>Personal L3 </td><td>Offer2</td><td>Web  </td><td>159.3830</td><td>Two-Door Car </td><td>Medsize</td><td>0.13125652</td><td> 9.018732</td><td>0.013125652</td></tr>\n",
       "\t<tr><td>XZ87318</td><td>Oregon    </td><td> 5380.899</td><td>Yes</td><td>Basic  </td><td>College </td><td>2011-02-24</td><td>Employed     </td><td>F</td><td>55350</td><td>...</td><td>Corporate Auto</td><td>Corporate L3</td><td>Offer1</td><td>Agent</td><td>321.6000</td><td>Four-Door Car</td><td>Medsize</td><td>0.09721587</td><td> 8.590611</td><td>0.009721587</td></tr>\n",
       "\t<tr><td>DY87989</td><td>Oregon    </td><td>24127.504</td><td>Yes</td><td>Basic  </td><td>Bachelor</td><td>2011-01-26</td><td>Medical Leave</td><td>M</td><td>14072</td><td>...</td><td>Corporate Auto</td><td>Corporate L3</td><td>Offer1</td><td>Agent</td><td>511.2000</td><td>Four-Door Car</td><td>Medsize</td><td>1.71457533</td><td>10.091108</td><td>0.171457533</td></tr>\n",
       "</tbody>\n",
       "</table>\n"
      ],
      "text/latex": [
       "A data.frame: 6 × 27\n",
       "\\begin{tabular}{r|lllllllllllllllllllllllllll}\n",
       " Customer & State & Customer.Lifetime.Value & Response & Coverage & Education & Effective.To.Date & EmploymentStatus & Gender & Income & Location.Code & Marital.Status & Monthly.Premium.Auto & Months.Since.Last.Claim & Months.Since.Policy.Inception & Number.of.Open.Complaints & Number.of.Policies & Policy.Type & Policy & Renew.Offer.Type & Sales.Channel & Total.Claim.Amount & Vehicle.Class & Vehicle.Size & NormCLV & LnCustomer.Lifetime.Value & TestCLV\\\\\n",
       " <chr> & <chr> & <dbl> & <chr> & <chr> & <chr> & <date> & <chr> & <chr> & <int> & <chr> & <chr> & <int> & <int> & <int> & <int> & <int> & <chr> & <chr> & <chr> & <chr> & <dbl> & <chr> & <chr> & <dbl> & <dbl> & <dbl>\\\\\n",
       "\\hline\n",
       "\t BU79786 & Washington &  2763.519 & No  & Basic   & Bachelor & 2011-02-24 & Employed      & F & 56274 & Suburban & Married  &  69 & 32 &  5 & 0 & 1 & Corporate Auto & Corporate L3 & Offer1 & Agent & 384.8111 & Two-Door Car  & Medsize & 0.04910828 &  7.924260 & 0.004910828\\\\\n",
       "\t AI49188 & Nevada     & 12887.432 & No  & Premium & Bachelor & 2011-02-19 & Employed      & F & 48767 & Suburban & Married  & 108 & 18 & 38 & 0 & 2 & Personal Auto  & Personal L3  & Offer1 & Agent & 566.4722 & Two-Door Car  & Medsize & 0.26426542 &  9.464008 & 0.026426542\\\\\n",
       "\t HB64268 & Washington &  2813.693 & No  & Basic   & Bachelor & 2011-02-03 & Employed      & M & 43836 & Rural    & Single   &  73 & 12 & 44 & 0 & 1 & Personal Auto  & Personal L1  & Offer1 & Agent & 138.1309 & Four-Door Car & Medsize & 0.06418680 &  7.942253 & 0.006418680\\\\\n",
       "\t OC83172 & Oregon     &  8256.298 & Yes & Basic   & Bachelor & 2011-01-25 & Employed      & F & 62902 & Rural    & Married  &  69 & 14 & 94 & 0 & 2 & Personal Auto  & Personal L3  & Offer2 & Web   & 159.3830 & Two-Door Car  & Medsize & 0.13125652 &  9.018732 & 0.013125652\\\\\n",
       "\t XZ87318 & Oregon     &  5380.899 & Yes & Basic   & College  & 2011-02-24 & Employed      & F & 55350 & Suburban & Married  &  67 &  0 & 13 & 0 & 9 & Corporate Auto & Corporate L3 & Offer1 & Agent & 321.6000 & Four-Door Car & Medsize & 0.09721587 &  8.590611 & 0.009721587\\\\\n",
       "\t DY87989 & Oregon     & 24127.504 & Yes & Basic   & Bachelor & 2011-01-26 & Medical Leave & M & 14072 & Suburban & Divorced &  71 & 13 &  3 & 0 & 2 & Corporate Auto & Corporate L3 & Offer1 & Agent & 511.2000 & Four-Door Car & Medsize & 1.71457533 & 10.091108 & 0.171457533\\\\\n",
       "\\end{tabular}\n"
      ],
      "text/markdown": [
       "\n",
       "A data.frame: 6 × 27\n",
       "\n",
       "| Customer &lt;chr&gt; | State &lt;chr&gt; | Customer.Lifetime.Value &lt;dbl&gt; | Response &lt;chr&gt; | Coverage &lt;chr&gt; | Education &lt;chr&gt; | Effective.To.Date &lt;date&gt; | EmploymentStatus &lt;chr&gt; | Gender &lt;chr&gt; | Income &lt;int&gt; | ... ... | Policy.Type &lt;chr&gt; | Policy &lt;chr&gt; | Renew.Offer.Type &lt;chr&gt; | Sales.Channel &lt;chr&gt; | Total.Claim.Amount &lt;dbl&gt; | Vehicle.Class &lt;chr&gt; | Vehicle.Size &lt;chr&gt; | NormCLV &lt;dbl&gt; | LnCustomer.Lifetime.Value &lt;dbl&gt; | TestCLV &lt;dbl&gt; |\n",
       "|---|---|---|---|---|---|---|---|---|---|---|---|---|---|---|---|---|---|---|---|---|\n",
       "| BU79786 | Washington |  2763.519 | No  | Basic   | Bachelor | 2011-02-24 | Employed      | F | 56274 | ... | Corporate Auto | Corporate L3 | Offer1 | Agent | 384.8111 | Two-Door Car  | Medsize | 0.04910828 |  7.924260 | 0.004910828 |\n",
       "| AI49188 | Nevada     | 12887.432 | No  | Premium | Bachelor | 2011-02-19 | Employed      | F | 48767 | ... | Personal Auto  | Personal L3  | Offer1 | Agent | 566.4722 | Two-Door Car  | Medsize | 0.26426542 |  9.464008 | 0.026426542 |\n",
       "| HB64268 | Washington |  2813.693 | No  | Basic   | Bachelor | 2011-02-03 | Employed      | M | 43836 | ... | Personal Auto  | Personal L1  | Offer1 | Agent | 138.1309 | Four-Door Car | Medsize | 0.06418680 |  7.942253 | 0.006418680 |\n",
       "| OC83172 | Oregon     |  8256.298 | Yes | Basic   | Bachelor | 2011-01-25 | Employed      | F | 62902 | ... | Personal Auto  | Personal L3  | Offer2 | Web   | 159.3830 | Two-Door Car  | Medsize | 0.13125652 |  9.018732 | 0.013125652 |\n",
       "| XZ87318 | Oregon     |  5380.899 | Yes | Basic   | College  | 2011-02-24 | Employed      | F | 55350 | ... | Corporate Auto | Corporate L3 | Offer1 | Agent | 321.6000 | Four-Door Car | Medsize | 0.09721587 |  8.590611 | 0.009721587 |\n",
       "| DY87989 | Oregon     | 24127.504 | Yes | Basic   | Bachelor | 2011-01-26 | Medical Leave | M | 14072 | ... | Corporate Auto | Corporate L3 | Offer1 | Agent | 511.2000 | Four-Door Car | Medsize | 1.71457533 | 10.091108 | 0.171457533 |\n",
       "\n"
      ],
      "text/plain": [
       "  Customer State      Customer.Lifetime.Value Response Coverage Education\n",
       "1 BU79786  Washington  2763.519               No       Basic    Bachelor \n",
       "2 AI49188  Nevada     12887.432               No       Premium  Bachelor \n",
       "3 HB64268  Washington  2813.693               No       Basic    Bachelor \n",
       "4 OC83172  Oregon      8256.298               Yes      Basic    Bachelor \n",
       "5 XZ87318  Oregon      5380.899               Yes      Basic    College  \n",
       "6 DY87989  Oregon     24127.504               Yes      Basic    Bachelor \n",
       "  Effective.To.Date EmploymentStatus Gender Income ... Policy.Type   \n",
       "1 2011-02-24        Employed         F      56274  ... Corporate Auto\n",
       "2 2011-02-19        Employed         F      48767  ... Personal Auto \n",
       "3 2011-02-03        Employed         M      43836  ... Personal Auto \n",
       "4 2011-01-25        Employed         F      62902  ... Personal Auto \n",
       "5 2011-02-24        Employed         F      55350  ... Corporate Auto\n",
       "6 2011-01-26        Medical Leave    M      14072  ... Corporate Auto\n",
       "  Policy       Renew.Offer.Type Sales.Channel Total.Claim.Amount Vehicle.Class\n",
       "1 Corporate L3 Offer1           Agent         384.8111           Two-Door Car \n",
       "2 Personal L3  Offer1           Agent         566.4722           Two-Door Car \n",
       "3 Personal L1  Offer1           Agent         138.1309           Four-Door Car\n",
       "4 Personal L3  Offer2           Web           159.3830           Two-Door Car \n",
       "5 Corporate L3 Offer1           Agent         321.6000           Four-Door Car\n",
       "6 Corporate L3 Offer1           Agent         511.2000           Four-Door Car\n",
       "  Vehicle.Size NormCLV    LnCustomer.Lifetime.Value TestCLV    \n",
       "1 Medsize      0.04910828  7.924260                 0.004910828\n",
       "2 Medsize      0.26426542  9.464008                 0.026426542\n",
       "3 Medsize      0.06418680  7.942253                 0.006418680\n",
       "4 Medsize      0.13125652  9.018732                 0.013125652\n",
       "5 Medsize      0.09721587  8.590611                 0.009721587\n",
       "6 Medsize      1.71457533 10.091108                 0.171457533"
      ]
     },
     "metadata": {},
     "output_type": "display_data"
    }
   ],
   "source": [
    "clvDataTmp <- clvData\n",
    "\n",
    "cat(\"\\n#Tidyverse syntax:\\n\")\n",
    "clvDataTmp <- clvDataTmp %>%\n",
    "        filter(Income > 0) %>%\n",
    "        mutate(NormCLV = Customer.Lifetime.Value/Income) %>%\n",
    "        mutate(LnCustomer.Lifetime.Value   = log(Customer.Lifetime.Value)) %>%\n",
    "        #Look: I can also refer to a column in the pipe\n",
    "        mutate(TestCLV = NormCLV/10)   \n",
    "\n",
    "head(clvDataTmp)\n"
   ]
  },
  {
   "cell_type": "markdown",
   "metadata": {
    "slideshow": {
     "slide_type": "subslide"
    }
   },
   "source": [
    "This case: The new column is a discretization of an existing column.\n",
    "\n",
    "Discretization, binning, grouping will be also **feature engineering** topics that we will discuss in more detail in a upcoming section. \n"
   ]
  },
  {
   "cell_type": "code",
   "execution_count": 28,
   "metadata": {
    "ExecuteTime": {
     "end_time": "2017-11-19T14:28:02.273000Z",
     "start_time": "2017-11-19T14:28:02.229Z"
    },
    "slideshow": {
     "slide_type": "subslide"
    }
   },
   "outputs": [
    {
     "data": {
      "text/html": [
       "FALSE"
      ],
      "text/latex": [
       "FALSE"
      ],
      "text/markdown": [
       "FALSE"
      ],
      "text/plain": [
       "[1] FALSE"
      ]
     },
     "metadata": {},
     "output_type": "display_data"
    },
    {
     "name": "stdout",
     "output_type": "stream",
     "text": [
      "Observations: 9,129\n",
      "Variables: 25\n",
      "$ Customer                      \u001b[3m\u001b[90m<chr>\u001b[39m\u001b[23m \"BU79786\", \"QZ44356\", \"AI49188\", \"WW6...\n",
      "$ State                         \u001b[3m\u001b[90m<chr>\u001b[39m\u001b[23m \"Washington\", \"Arizona\", \"Nevada\", \"C...\n",
      "$ Customer.Lifetime.Value       \u001b[3m\u001b[90m<dbl>\u001b[39m\u001b[23m 2763.519, 6979.536, 12887.432, 7645.8...\n",
      "$ Response                      \u001b[3m\u001b[90m<chr>\u001b[39m\u001b[23m \"No\", \"No\", \"No\", \"No\", \"No\", \"Yes\", ...\n",
      "$ Coverage                      \u001b[3m\u001b[90m<chr>\u001b[39m\u001b[23m \"Basic\", \"Extended\", \"Premium\", \"Basi...\n",
      "$ Education                     \u001b[3m\u001b[90m<chr>\u001b[39m\u001b[23m \"Bachelor\", \"Bachelor\", \"Bachelor\", \"...\n",
      "$ Effective.To.Date             \u001b[3m\u001b[90m<date>\u001b[39m\u001b[23m 2011-02-24, 2011-01-31, 2011-02-19, ...\n",
      "$ EmploymentStatus              \u001b[3m\u001b[90m<chr>\u001b[39m\u001b[23m \"Employed\", \"Unemployed\", \"Employed\",...\n",
      "$ Gender                        \u001b[3m\u001b[90m<chr>\u001b[39m\u001b[23m \"F\", \"F\", \"F\", \"M\", \"M\", \"F\", \"F\", \"M...\n",
      "$ Income                        \u001b[3m\u001b[90m<int>\u001b[39m\u001b[23m 56274, 0, 48767, 0, 43836, 62902, 553...\n",
      "$ Location.Code                 \u001b[3m\u001b[90m<chr>\u001b[39m\u001b[23m \"Suburban\", \"Suburban\", \"Suburban\", \"...\n",
      "$ Marital.Status                \u001b[3m\u001b[90m<chr>\u001b[39m\u001b[23m \"Married\", \"Single\", \"Married\", \"Marr...\n",
      "$ Monthly.Premium.Auto          \u001b[3m\u001b[90m<int>\u001b[39m\u001b[23m 69, 94, 108, 106, 73, 69, 67, 101, 71...\n",
      "$ Months.Since.Last.Claim       \u001b[3m\u001b[90m<int>\u001b[39m\u001b[23m 32, 13, 18, 18, 12, 14, 0, 0, 13, 23,...\n",
      "$ Months.Since.Policy.Inception \u001b[3m\u001b[90m<int>\u001b[39m\u001b[23m 5, 42, 38, 65, 44, 94, 13, 68, 3, 5, ...\n",
      "$ Number.of.Open.Complaints     \u001b[3m\u001b[90m<int>\u001b[39m\u001b[23m 0, 0, 0, 0, 0, 0, 0, 0, 0, 0, 0, 2, 1...\n",
      "$ Number.of.Policies            \u001b[3m\u001b[90m<int>\u001b[39m\u001b[23m 1, 8, 2, 7, 1, 2, 9, 4, 2, 3, 3, 3, 8...\n",
      "$ Policy.Type                   \u001b[3m\u001b[90m<chr>\u001b[39m\u001b[23m \"Corporate Auto\", \"Personal Auto\", \"P...\n",
      "$ Policy                        \u001b[3m\u001b[90m<chr>\u001b[39m\u001b[23m \"Corporate L3\", \"Personal L3\", \"Perso...\n",
      "$ Renew.Offer.Type              \u001b[3m\u001b[90m<chr>\u001b[39m\u001b[23m \"Offer1\", \"Offer3\", \"Offer1\", \"Offer1...\n",
      "$ Sales.Channel                 \u001b[3m\u001b[90m<chr>\u001b[39m\u001b[23m \"Agent\", \"Agent\", \"Agent\", \"Call Cent...\n",
      "$ Total.Claim.Amount            \u001b[3m\u001b[90m<dbl>\u001b[39m\u001b[23m 384.81115, 1131.46493, 566.47225, 529...\n",
      "$ Vehicle.Class                 \u001b[3m\u001b[90m<chr>\u001b[39m\u001b[23m \"Two-Door Car\", \"Four-Door Car\", \"Two...\n",
      "$ Vehicle.Size                  \u001b[3m\u001b[90m<chr>\u001b[39m\u001b[23m \"Medsize\", \"Medsize\", \"Medsize\", \"Med...\n",
      "$ incomeCat                     \u001b[3m\u001b[90m<chr>\u001b[39m\u001b[23m \"Med\", \"Low\", \"Med\", \"Low\", \"Med\", \"H...\n"
     ]
    }
   ],
   "source": [
    "#within() allows, that within the curly brackets, \n",
    "#the name of the dataframe is not required.\n",
    "clvData  <-  within(clvData, {                   \n",
    "    incomeCat  <- NA\n",
    "    incomeCat[Income < 30000]  <- \"Low\"\n",
    "    incomeCat[Income >=30000 & Income < 60000]  <- \"Med\"\n",
    "    incomeCat[Income >=60000]  <- \"High\"\n",
    "})\n",
    "\n",
    "anyNA(clvData$incomeCat)\n",
    "glimpse(clvData)"
   ]
  },
  {
   "cell_type": "markdown",
   "metadata": {
    "slideshow": {
     "slide_type": "slide"
    }
   },
   "source": [
    "## Transpose Dataframe"
   ]
  },
  {
   "cell_type": "code",
   "execution_count": 29,
   "metadata": {
    "ExecuteTime": {
     "end_time": "2017-11-19T14:28:13.802000Z",
     "start_time": "2017-11-19T14:28:13.624Z"
    },
    "slideshow": {
     "slide_type": "subslide"
    }
   },
   "outputs": [
    {
     "data": {
      "text/html": [
       "<table>\n",
       "<caption>A matrix: 6 × 100 of type chr</caption>\n",
       "<thead>\n",
       "\t<tr><th></th><th scope=col>BU79786</th><th scope=col>QZ44356</th><th scope=col>AI49188</th><th scope=col>WW63253</th><th scope=col>HB64268</th><th scope=col>OC83172</th><th scope=col>XZ87318</th><th scope=col>CF85061</th><th scope=col>DY87989</th><th scope=col>SX51350</th><th scope=col>...</th><th scope=col>TV87155</th><th scope=col>KH48895</th><th scope=col>NZ30757</th><th scope=col>RI22468</th><th scope=col>FZ30935</th><th scope=col>UG93476</th><th scope=col>AB96670</th><th scope=col>XK64261</th><th scope=col>EV68375</th><th scope=col>UN51653</th></tr>\n",
       "</thead>\n",
       "<tbody>\n",
       "\t<tr><th scope=row>Customer</th><td>BU79786   </td><td>QZ44356  </td><td>AI49188  </td><td>WW63253   </td><td>HB64268   </td><td>OC83172  </td><td>XZ87318  </td><td>CF85061  </td><td>DY87989  </td><td>SX51350   </td><td>...</td><td>TV87155  </td><td>KH48895  </td><td>NZ30757   </td><td>RI22468  </td><td>FZ30935  </td><td>UG93476   </td><td>AB96670   </td><td>XK64261  </td><td>EV68375   </td><td>UN51653             </td></tr>\n",
       "\t<tr><th scope=row>State</th><td>Washington</td><td>Arizona  </td><td>Nevada   </td><td>California</td><td>Washington</td><td>Oregon   </td><td>Oregon   </td><td>Arizona  </td><td>Oregon   </td><td>California</td><td>...</td><td>Oregon   </td><td>Arizona  </td><td>California</td><td>Arizona  </td><td>Oregon   </td><td>California</td><td>California</td><td>Oregon   </td><td>California</td><td>California          </td></tr>\n",
       "\t<tr><th scope=row>Customer.Lifetime.Value</th><td> 2763.519 </td><td> 6979.536</td><td>12887.432</td><td> 7645.862 </td><td> 2813.693 </td><td> 8256.298</td><td> 5380.899</td><td> 7216.100</td><td>24127.504</td><td> 4738.992 </td><td>...</td><td>20946.193</td><td> 8375.354</td><td> 4801.662 </td><td> 5745.943</td><td> 6066.116</td><td> 8002.308 </td><td> 2393.915 </td><td> 4762.818</td><td> 4330.386 </td><td> 9402.730           </td></tr>\n",
       "\t<tr><th scope=row>Response</th><td>No        </td><td>No       </td><td>No       </td><td>No        </td><td>No        </td><td>Yes      </td><td>Yes      </td><td>No       </td><td>Yes      </td><td>No        </td><td>...</td><td>No       </td><td>No       </td><td>No        </td><td>No       </td><td>No       </td><td>Yes       </td><td>Yes       </td><td>No       </td><td>Yes       </td><td>No                  </td></tr>\n",
       "\t<tr><th scope=row>Coverage</th><td>Basic     </td><td>Extended </td><td>Premium  </td><td>Basic     </td><td>Basic     </td><td>Basic    </td><td>Basic    </td><td>Premium  </td><td>Basic    </td><td>Basic     </td><td>...</td><td>Basic    </td><td>Basic    </td><td>Basic     </td><td>Basic    </td><td>Extended </td><td>Basic     </td><td>Basic     </td><td>Basic    </td><td>Premium   </td><td>Extended            </td></tr>\n",
       "\t<tr><th scope=row>Education</th><td>Bachelor  </td><td>Bachelor </td><td>Bachelor </td><td>Bachelor  </td><td>Bachelor  </td><td>Bachelor </td><td>College  </td><td>Master   </td><td>Bachelor </td><td>College   </td><td>...</td><td>Bachelor </td><td>Master   </td><td>Bachelor  </td><td>Bachelor </td><td>College  </td><td>College   </td><td>College   </td><td>Bachelor </td><td>College   </td><td>High School or Below</td></tr>\n",
       "</tbody>\n",
       "</table>\n"
      ],
      "text/latex": [
       "A matrix: 6 × 100 of type chr\n",
       "\\begin{tabular}{r|llllllllllllllllllllllllllllllllllllllllllllllllllllllllllllllllllllllllllllllllllllllllllllllllllll}\n",
       "  & BU79786 & QZ44356 & AI49188 & WW63253 & HB64268 & OC83172 & XZ87318 & CF85061 & DY87989 & SX51350 & VQ65197 & DP39365 & SJ95423 & IL66569 & BW63560 & FV94802 & OE15005 & WC83389 & FL50705 & ZK25313 & SV62436 & YH23384 & TZ98966 & HM55802 & FS42516 & US89481 & HO30839 & GE62437 & EJ77678 & SV85652 & UL64533 & PF41800 & AO98601 & YV55495 & KY38074 & CM61827 & WC35801 & QG25316 & MB98372 & IL19217 & SR38658 & DH41343 & HG65722 & BU27331 & XM45289 & KP34198 & SH90947 & WE95729 & PY51963 & RB69909 & XR95069 & SY17488 & AP67935 & FS37417 & ML29312 & UB61619 & CD86811 & RU83859 & FG63582 & NN71951 & WB37082 & SM52139 & FL82372 & DP45816 & GW33762 & RZ33670 & PY70169 & MO91628 & HW87852 & HB20453 & BN87372 & YX23800 & DZ87709 & XW13033 & LN31673 & OM82309 & ZU35962 & VH85817 & YJ88573 & SQ19467 & HF88410 & ET79815 & QC35222 & CJ15590 & OI48267 & JY67916 & OE75231 & CZ33664 & WK30175 & ON44465 & TV87155 & KH48895 & NZ30757 & RI22468 & FZ30935 & UG93476 & AB96670 & XK64261 & EV68375 & UN51653\\\\\n",
       "\\hline\n",
       "\tCustomer & BU79786    & QZ44356   & AI49188   & WW63253    & HB64268    & OC83172   & XZ87318   & CF85061   & DY87989   & SX51350    & VQ65197    & DP39365    & SJ95423              & IL66569    & BW63560   & FV94802              & OE15005    & WC83389   & FL50705              & ZK25313              & SV62436    & YH23384   & TZ98966   & HM55802    & FS42516   & US89481    & HO30839    & GE62437   & EJ77678   & SV85652   & UL64533              & PF41800    & AO98601    & YV55495              & KY38074    & CM61827   & WC35801              & QG25316              & MB98372   & IL19217    & SR38658              & DH41343    & HG65722   & BU27331   & XM45289              & KP34198    & SH90947              & WE95729   & PY51963    & RB69909              & XR95069    & SY17488   & AP67935    & FS37417              & ML29312              & UB61619   & CD86811   & RU83859    & FG63582   & NN71951              & WB37082   & SM52139    & FL82372   & DP45816              & GW33762   & RZ33670    & PY70169              & MO91628   & HW87852   & HB20453   & BN87372   & YX23800   & DZ87709              & XW13033   & LN31673    & OM82309    & ZU35962    & VH85817              & YJ88573   & SQ19467   & HF88410              & ET79815    & QC35222    & CJ15590   & OI48267    & JY67916   & OE75231    & CZ33664   & WK30175   & ON44465              & TV87155   & KH48895   & NZ30757    & RI22468   & FZ30935   & UG93476    & AB96670    & XK64261   & EV68375    & UN51653             \\\\\n",
       "\tState & Washington & Arizona   & Nevada    & California & Washington & Oregon    & Oregon    & Arizona   & Oregon    & California & California & California & Arizona              & California & Oregon    & Nevada               & California & Oregon    & California           & Oregon               & Washington & Arizona   & Nevada    & California & Oregon    & California & Washington & Arizona   & Oregon    & Arizona   & Nevada               & California & Washington & Arizona              & California & Oregon    & Arizona              & Nevada               & Oregon    & California & Arizona              & Washington & Oregon    & Arizona   & Oregon               & California & Arizona              & Oregon    & California & Nevada               & Washington & Arizona   & California & Arizona              & Oregon               & Oregon    & Arizona   & California & Oregon    & California           & Arizona   & Washington & Oregon    & Arizona              & Oregon    & California & Oregon               & Oregon    & Oregon    & Oregon    & Oregon    & Oregon    & Oregon               & Nevada    & Washington & California & California & California           & Nevada    & Oregon    & Washington           & California & California & Oregon    & California & Oregon    & Washington & Oregon    & Oregon    & California           & Oregon    & Arizona   & California & Arizona   & Oregon    & California & California & Oregon    & California & California          \\\\\n",
       "\tCustomer.Lifetime.Value &  2763.519  &  6979.536 & 12887.432 &  7645.862  &  2813.693  &  8256.298 &  5380.899 &  7216.100 & 24127.504 &  4738.992  &  8197.197  &  8798.797  &  8819.019            &  5384.432  &  7463.139 &  2566.868            &  3945.242  &  5710.333 &  8162.617            &  2872.051            &  3041.792  & 24127.504 &  2450.191 &  2392.108  &  5802.066 &  3946.372  &  5346.917  & 12902.560 &  3235.360 &  2454.584 & 18975.456            &  4715.321  &  5018.885  &  5744.230            & 13891.736  &  3090.034 &  2521.633            &  2652.062            &  2771.045 &  3939.006  & 12231.880            &  2443.665  & 12819.103 &  4468.511 &  5514.344            &  3343.875  &  2294.479            & 36707.426 & 33473.349  &  7983.432            &  4854.746  &  7164.396 &  7619.516  &  3958.003            &  4499.493            &  4059.567 &  4458.113 &  8110.333  &  3339.765 & 24261.018            &  6613.974 &  2930.694  &  8672.194 & 11638.669            &  6846.150 & 11727.776  & 22643.835            &  2614.474 &  2451.753 &  6781.270 &  4974.802 &  8591.605 &  5592.161            &  8009.473 & 11318.090  & 58166.554  &  8025.229  &  5780.182            &  2523.070 &  6554.216 &  7703.397            &  5926.729  &  2683.471  &  2695.182 &  6047.025  & 13171.013 & 10656.882  &  2527.654 &  2672.096 &  5313.294            & 20946.193 &  8375.354 &  4801.662  &  5745.943 &  6066.116 &  8002.308  &  2393.915  &  4762.818 &  4330.386  &  9402.730           \\\\\n",
       "\tResponse & No         & No        & No        & No         & No         & Yes       & Yes       & No        & Yes       & No         & No         & No         & Yes                  & No         & No        & No                   & No         & No        & No                   & No                   & No         & Yes       & No        & No         & No        & No         & No         & No        & No        & No        & No                   & No         & No         & No                   & No         & No        & No                   & No                   & Yes       & Yes        & No                   & No         & No        & No        & No                   & No         & No                   & No        & Yes        & No                   & No         & No        & No         & No                   & No                   & No        & Yes       & No         & No        & No                   & No        & No         & No        & No                   & Yes       & No         & No                   & No        & No        & No        & Yes       & No        & No                   & No        & No         & No         & No         & Yes                  & No        & No        & No                   & Yes        & No         & No        & Yes        & No        & Yes        & No        & No        & No                   & No        & No        & No         & No        & No        & Yes        & Yes        & No        & Yes        & No                  \\\\\n",
       "\tCoverage & Basic      & Extended  & Premium   & Basic      & Basic      & Basic     & Basic     & Premium   & Basic     & Basic      & Basic      & Premium    & Basic                & Basic      & Basic     & Basic                & Basic      & Basic     & Premium              & Basic                & Extended   & Basic     & Basic     & Basic      & Basic     & Premium    & Extended   & Premium   & Extended  & Basic     & Extended             & Basic      & Basic      & Basic                & Premium    & Extended  & Basic                & Basic                & Basic     & Extended   & Basic                & Basic      & Premium   & Basic     & Basic                & Extended   & Basic                & Basic     & Basic      & Basic                & Basic      & Extended  & Basic      & Basic                & Extended             & Premium   & Basic     & Premium    & Extended  & Basic                & Basic     & Basic      & Basic     & Extended             & Extended  & Premium    & Basic                & Basic     & Basic     & Basic     & Basic     & Basic     & Basic                & Basic     & Extended   & Basic      & Extended   & Basic                & Basic     & Extended  & Basic                & Extended   & Basic      & Basic     & Extended   & Premium   & Extended   & Basic     & Basic     & Extended             & Basic     & Basic     & Basic      & Basic     & Extended  & Basic      & Basic      & Basic     & Premium    & Extended            \\\\\n",
       "\tEducation & Bachelor   & Bachelor  & Bachelor  & Bachelor   & Bachelor   & Bachelor  & College   & Master    & Bachelor  & College    & College    & Master     & High School or Below & College    & Bachelor  & High School or Below & College    & College   & High School or Below & High School or Below & Bachelor   & Bachelor  & Bachelor  & Bachelor   & College   & Bachelor   & Master     & College   & Master    & College   & High School or Below & Bachelor   & Bachelor   & High School or Below & Bachelor   & Bachelor  & High School or Below & High School or Below & College   & Bachelor   & High School or Below & College    & Doctor    & Bachelor  & High School or Below & Bachelor   & High School or Below & College   & Bachelor   & High School or Below & Bachelor   & College   & College    & High School or Below & High School or Below & Master    & Bachelor  & Bachelor   & Bachelor  & High School or Below & Bachelor  & College    & College   & High School or Below & Bachelor  & College    & High School or Below & Master    & Master    & Bachelor  & Bachelor  & Bachelor  & High School or Below & College   & College    & Bachelor   & College    & High School or Below & Master    & College   & High School or Below & College    & Bachelor   & Bachelor  & College    & College   & Bachelor   & Bachelor  & Bachelor  & High School or Below & Bachelor  & Master    & Bachelor   & Bachelor  & College   & College    & College    & Bachelor  & College    & High School or Below\\\\\n",
       "\\end{tabular}\n"
      ],
      "text/markdown": [
       "\n",
       "A matrix: 6 × 100 of type chr\n",
       "\n",
       "| <!--/--> | BU79786 | QZ44356 | AI49188 | WW63253 | HB64268 | OC83172 | XZ87318 | CF85061 | DY87989 | SX51350 | ... | TV87155 | KH48895 | NZ30757 | RI22468 | FZ30935 | UG93476 | AB96670 | XK64261 | EV68375 | UN51653 |\n",
       "|---|---|---|---|---|---|---|---|---|---|---|---|---|---|---|---|---|---|---|---|---|---|\n",
       "| Customer | BU79786    | QZ44356   | AI49188   | WW63253    | HB64268    | OC83172   | XZ87318   | CF85061   | DY87989   | SX51350    | ... | TV87155   | KH48895   | NZ30757    | RI22468   | FZ30935   | UG93476    | AB96670    | XK64261   | EV68375    | UN51653              |\n",
       "| State | Washington | Arizona   | Nevada    | California | Washington | Oregon    | Oregon    | Arizona   | Oregon    | California | ... | Oregon    | Arizona   | California | Arizona   | Oregon    | California | California | Oregon    | California | California           |\n",
       "| Customer.Lifetime.Value |  2763.519  |  6979.536 | 12887.432 |  7645.862  |  2813.693  |  8256.298 |  5380.899 |  7216.100 | 24127.504 |  4738.992  | ... | 20946.193 |  8375.354 |  4801.662  |  5745.943 |  6066.116 |  8002.308  |  2393.915  |  4762.818 |  4330.386  |  9402.730            |\n",
       "| Response | No         | No        | No        | No         | No         | Yes       | Yes       | No        | Yes       | No         | ... | No        | No        | No         | No        | No        | Yes        | Yes        | No        | Yes        | No                   |\n",
       "| Coverage | Basic      | Extended  | Premium   | Basic      | Basic      | Basic     | Basic     | Premium   | Basic     | Basic      | ... | Basic     | Basic     | Basic      | Basic     | Extended  | Basic      | Basic      | Basic     | Premium    | Extended             |\n",
       "| Education | Bachelor   | Bachelor  | Bachelor  | Bachelor   | Bachelor   | Bachelor  | College   | Master    | Bachelor  | College    | ... | Bachelor  | Master    | Bachelor   | Bachelor  | College   | College    | College    | Bachelor  | College    | High School or Below |\n",
       "\n"
      ],
      "text/plain": [
       "                        BU79786    QZ44356   AI49188   WW63253    HB64268   \n",
       "Customer                BU79786    QZ44356   AI49188   WW63253    HB64268   \n",
       "State                   Washington Arizona   Nevada    California Washington\n",
       "Customer.Lifetime.Value  2763.519   6979.536 12887.432  7645.862   2813.693 \n",
       "Response                No         No        No        No         No        \n",
       "Coverage                Basic      Extended  Premium   Basic      Basic     \n",
       "Education               Bachelor   Bachelor  Bachelor  Bachelor   Bachelor  \n",
       "                        OC83172   XZ87318   CF85061   DY87989   SX51350    ...\n",
       "Customer                OC83172   XZ87318   CF85061   DY87989   SX51350    ...\n",
       "State                   Oregon    Oregon    Arizona   Oregon    California ...\n",
       "Customer.Lifetime.Value  8256.298  5380.899  7216.100 24127.504  4738.992  ...\n",
       "Response                Yes       Yes       No        Yes       No         ...\n",
       "Coverage                Basic     Basic     Premium   Basic     Basic      ...\n",
       "Education               Bachelor  College   Master    Bachelor  College    ...\n",
       "                        TV87155   KH48895   NZ30757    RI22468   FZ30935  \n",
       "Customer                TV87155   KH48895   NZ30757    RI22468   FZ30935  \n",
       "State                   Oregon    Arizona   California Arizona   Oregon   \n",
       "Customer.Lifetime.Value 20946.193  8375.354  4801.662   5745.943  6066.116\n",
       "Response                No        No        No         No        No       \n",
       "Coverage                Basic     Basic     Basic      Basic     Extended \n",
       "Education               Bachelor  Master    Bachelor   Bachelor  College  \n",
       "                        UG93476    AB96670    XK64261   EV68375   \n",
       "Customer                UG93476    AB96670    XK64261   EV68375   \n",
       "State                   California California Oregon    California\n",
       "Customer.Lifetime.Value  8002.308   2393.915   4762.818  4330.386 \n",
       "Response                Yes        Yes        No        Yes       \n",
       "Coverage                Basic      Basic      Basic     Premium   \n",
       "Education               College    College    Bachelor  College   \n",
       "                        UN51653             \n",
       "Customer                UN51653             \n",
       "State                   California          \n",
       "Customer.Lifetime.Value  9402.730           \n",
       "Response                No                  \n",
       "Coverage                Extended            \n",
       "Education               High School or Below"
      ]
     },
     "metadata": {},
     "output_type": "display_data"
    }
   ],
   "source": [
    "clvDataTmp <- clvData[1:100, ]  #Otherwise it is to huge\n",
    "\n",
    "\n",
    "clvDataTmpT <- t(clvDataTmp)\n",
    "head(clvDataTmpT)"
   ]
  },
  {
   "cell_type": "code",
   "execution_count": 30,
   "metadata": {
    "slideshow": {
     "slide_type": "subslide"
    }
   },
   "outputs": [
    {
     "data": {
      "text/html": [
       "<table>\n",
       "<caption>A matrix: 6 × 100 of type chr</caption>\n",
       "<thead>\n",
       "\t<tr><th></th><th scope=col>BU79786</th><th scope=col>QZ44356</th><th scope=col>AI49188</th><th scope=col>WW63253</th><th scope=col>HB64268</th><th scope=col>OC83172</th><th scope=col>XZ87318</th><th scope=col>CF85061</th><th scope=col>DY87989</th><th scope=col>SX51350</th><th scope=col>...</th><th scope=col>TV87155</th><th scope=col>KH48895</th><th scope=col>NZ30757</th><th scope=col>RI22468</th><th scope=col>FZ30935</th><th scope=col>UG93476</th><th scope=col>AB96670</th><th scope=col>XK64261</th><th scope=col>EV68375</th><th scope=col>UN51653</th></tr>\n",
       "</thead>\n",
       "<tbody>\n",
       "\t<tr><th scope=row>Customer</th><td>BU79786   </td><td>QZ44356  </td><td>AI49188  </td><td>WW63253   </td><td>HB64268   </td><td>OC83172  </td><td>XZ87318  </td><td>CF85061  </td><td>DY87989  </td><td>SX51350   </td><td>...</td><td>TV87155  </td><td>KH48895  </td><td>NZ30757   </td><td>RI22468  </td><td>FZ30935  </td><td>UG93476   </td><td>AB96670   </td><td>XK64261  </td><td>EV68375   </td><td>UN51653             </td></tr>\n",
       "\t<tr><th scope=row>State</th><td>Washington</td><td>Arizona  </td><td>Nevada   </td><td>California</td><td>Washington</td><td>Oregon   </td><td>Oregon   </td><td>Arizona  </td><td>Oregon   </td><td>California</td><td>...</td><td>Oregon   </td><td>Arizona  </td><td>California</td><td>Arizona  </td><td>Oregon   </td><td>California</td><td>California</td><td>Oregon   </td><td>California</td><td>California          </td></tr>\n",
       "\t<tr><th scope=row>Customer.Lifetime.Value</th><td> 2763.519 </td><td> 6979.536</td><td>12887.432</td><td> 7645.862 </td><td> 2813.693 </td><td> 8256.298</td><td> 5380.899</td><td> 7216.100</td><td>24127.504</td><td> 4738.992 </td><td>...</td><td>20946.193</td><td> 8375.354</td><td> 4801.662 </td><td> 5745.943</td><td> 6066.116</td><td> 8002.308 </td><td> 2393.915 </td><td> 4762.818</td><td> 4330.386 </td><td> 9402.730           </td></tr>\n",
       "\t<tr><th scope=row>Response</th><td>No        </td><td>No       </td><td>No       </td><td>No        </td><td>No        </td><td>Yes      </td><td>Yes      </td><td>No       </td><td>Yes      </td><td>No        </td><td>...</td><td>No       </td><td>No       </td><td>No        </td><td>No       </td><td>No       </td><td>Yes       </td><td>Yes       </td><td>No       </td><td>Yes       </td><td>No                  </td></tr>\n",
       "\t<tr><th scope=row>Coverage</th><td>Basic     </td><td>Extended </td><td>Premium  </td><td>Basic     </td><td>Basic     </td><td>Basic    </td><td>Basic    </td><td>Premium  </td><td>Basic    </td><td>Basic     </td><td>...</td><td>Basic    </td><td>Basic    </td><td>Basic     </td><td>Basic    </td><td>Extended </td><td>Basic     </td><td>Basic     </td><td>Basic    </td><td>Premium   </td><td>Extended            </td></tr>\n",
       "\t<tr><th scope=row>Education</th><td>Bachelor  </td><td>Bachelor </td><td>Bachelor </td><td>Bachelor  </td><td>Bachelor  </td><td>Bachelor </td><td>College  </td><td>Master   </td><td>Bachelor </td><td>College   </td><td>...</td><td>Bachelor </td><td>Master   </td><td>Bachelor  </td><td>Bachelor </td><td>College  </td><td>College   </td><td>College   </td><td>Bachelor </td><td>College   </td><td>High School or Below</td></tr>\n",
       "</tbody>\n",
       "</table>\n"
      ],
      "text/latex": [
       "A matrix: 6 × 100 of type chr\n",
       "\\begin{tabular}{r|llllllllllllllllllllllllllllllllllllllllllllllllllllllllllllllllllllllllllllllllllllllllllllllllllll}\n",
       "  & BU79786 & QZ44356 & AI49188 & WW63253 & HB64268 & OC83172 & XZ87318 & CF85061 & DY87989 & SX51350 & VQ65197 & DP39365 & SJ95423 & IL66569 & BW63560 & FV94802 & OE15005 & WC83389 & FL50705 & ZK25313 & SV62436 & YH23384 & TZ98966 & HM55802 & FS42516 & US89481 & HO30839 & GE62437 & EJ77678 & SV85652 & UL64533 & PF41800 & AO98601 & YV55495 & KY38074 & CM61827 & WC35801 & QG25316 & MB98372 & IL19217 & SR38658 & DH41343 & HG65722 & BU27331 & XM45289 & KP34198 & SH90947 & WE95729 & PY51963 & RB69909 & XR95069 & SY17488 & AP67935 & FS37417 & ML29312 & UB61619 & CD86811 & RU83859 & FG63582 & NN71951 & WB37082 & SM52139 & FL82372 & DP45816 & GW33762 & RZ33670 & PY70169 & MO91628 & HW87852 & HB20453 & BN87372 & YX23800 & DZ87709 & XW13033 & LN31673 & OM82309 & ZU35962 & VH85817 & YJ88573 & SQ19467 & HF88410 & ET79815 & QC35222 & CJ15590 & OI48267 & JY67916 & OE75231 & CZ33664 & WK30175 & ON44465 & TV87155 & KH48895 & NZ30757 & RI22468 & FZ30935 & UG93476 & AB96670 & XK64261 & EV68375 & UN51653\\\\\n",
       "\\hline\n",
       "\tCustomer & BU79786    & QZ44356   & AI49188   & WW63253    & HB64268    & OC83172   & XZ87318   & CF85061   & DY87989   & SX51350    & VQ65197    & DP39365    & SJ95423              & IL66569    & BW63560   & FV94802              & OE15005    & WC83389   & FL50705              & ZK25313              & SV62436    & YH23384   & TZ98966   & HM55802    & FS42516   & US89481    & HO30839    & GE62437   & EJ77678   & SV85652   & UL64533              & PF41800    & AO98601    & YV55495              & KY38074    & CM61827   & WC35801              & QG25316              & MB98372   & IL19217    & SR38658              & DH41343    & HG65722   & BU27331   & XM45289              & KP34198    & SH90947              & WE95729   & PY51963    & RB69909              & XR95069    & SY17488   & AP67935    & FS37417              & ML29312              & UB61619   & CD86811   & RU83859    & FG63582   & NN71951              & WB37082   & SM52139    & FL82372   & DP45816              & GW33762   & RZ33670    & PY70169              & MO91628   & HW87852   & HB20453   & BN87372   & YX23800   & DZ87709              & XW13033   & LN31673    & OM82309    & ZU35962    & VH85817              & YJ88573   & SQ19467   & HF88410              & ET79815    & QC35222    & CJ15590   & OI48267    & JY67916   & OE75231    & CZ33664   & WK30175   & ON44465              & TV87155   & KH48895   & NZ30757    & RI22468   & FZ30935   & UG93476    & AB96670    & XK64261   & EV68375    & UN51653             \\\\\n",
       "\tState & Washington & Arizona   & Nevada    & California & Washington & Oregon    & Oregon    & Arizona   & Oregon    & California & California & California & Arizona              & California & Oregon    & Nevada               & California & Oregon    & California           & Oregon               & Washington & Arizona   & Nevada    & California & Oregon    & California & Washington & Arizona   & Oregon    & Arizona   & Nevada               & California & Washington & Arizona              & California & Oregon    & Arizona              & Nevada               & Oregon    & California & Arizona              & Washington & Oregon    & Arizona   & Oregon               & California & Arizona              & Oregon    & California & Nevada               & Washington & Arizona   & California & Arizona              & Oregon               & Oregon    & Arizona   & California & Oregon    & California           & Arizona   & Washington & Oregon    & Arizona              & Oregon    & California & Oregon               & Oregon    & Oregon    & Oregon    & Oregon    & Oregon    & Oregon               & Nevada    & Washington & California & California & California           & Nevada    & Oregon    & Washington           & California & California & Oregon    & California & Oregon    & Washington & Oregon    & Oregon    & California           & Oregon    & Arizona   & California & Arizona   & Oregon    & California & California & Oregon    & California & California          \\\\\n",
       "\tCustomer.Lifetime.Value &  2763.519  &  6979.536 & 12887.432 &  7645.862  &  2813.693  &  8256.298 &  5380.899 &  7216.100 & 24127.504 &  4738.992  &  8197.197  &  8798.797  &  8819.019            &  5384.432  &  7463.139 &  2566.868            &  3945.242  &  5710.333 &  8162.617            &  2872.051            &  3041.792  & 24127.504 &  2450.191 &  2392.108  &  5802.066 &  3946.372  &  5346.917  & 12902.560 &  3235.360 &  2454.584 & 18975.456            &  4715.321  &  5018.885  &  5744.230            & 13891.736  &  3090.034 &  2521.633            &  2652.062            &  2771.045 &  3939.006  & 12231.880            &  2443.665  & 12819.103 &  4468.511 &  5514.344            &  3343.875  &  2294.479            & 36707.426 & 33473.349  &  7983.432            &  4854.746  &  7164.396 &  7619.516  &  3958.003            &  4499.493            &  4059.567 &  4458.113 &  8110.333  &  3339.765 & 24261.018            &  6613.974 &  2930.694  &  8672.194 & 11638.669            &  6846.150 & 11727.776  & 22643.835            &  2614.474 &  2451.753 &  6781.270 &  4974.802 &  8591.605 &  5592.161            &  8009.473 & 11318.090  & 58166.554  &  8025.229  &  5780.182            &  2523.070 &  6554.216 &  7703.397            &  5926.729  &  2683.471  &  2695.182 &  6047.025  & 13171.013 & 10656.882  &  2527.654 &  2672.096 &  5313.294            & 20946.193 &  8375.354 &  4801.662  &  5745.943 &  6066.116 &  8002.308  &  2393.915  &  4762.818 &  4330.386  &  9402.730           \\\\\n",
       "\tResponse & No         & No        & No        & No         & No         & Yes       & Yes       & No        & Yes       & No         & No         & No         & Yes                  & No         & No        & No                   & No         & No        & No                   & No                   & No         & Yes       & No        & No         & No        & No         & No         & No        & No        & No        & No                   & No         & No         & No                   & No         & No        & No                   & No                   & Yes       & Yes        & No                   & No         & No        & No        & No                   & No         & No                   & No        & Yes        & No                   & No         & No        & No         & No                   & No                   & No        & Yes       & No         & No        & No                   & No        & No         & No        & No                   & Yes       & No         & No                   & No        & No        & No        & Yes       & No        & No                   & No        & No         & No         & No         & Yes                  & No        & No        & No                   & Yes        & No         & No        & Yes        & No        & Yes        & No        & No        & No                   & No        & No        & No         & No        & No        & Yes        & Yes        & No        & Yes        & No                  \\\\\n",
       "\tCoverage & Basic      & Extended  & Premium   & Basic      & Basic      & Basic     & Basic     & Premium   & Basic     & Basic      & Basic      & Premium    & Basic                & Basic      & Basic     & Basic                & Basic      & Basic     & Premium              & Basic                & Extended   & Basic     & Basic     & Basic      & Basic     & Premium    & Extended   & Premium   & Extended  & Basic     & Extended             & Basic      & Basic      & Basic                & Premium    & Extended  & Basic                & Basic                & Basic     & Extended   & Basic                & Basic      & Premium   & Basic     & Basic                & Extended   & Basic                & Basic     & Basic      & Basic                & Basic      & Extended  & Basic      & Basic                & Extended             & Premium   & Basic     & Premium    & Extended  & Basic                & Basic     & Basic      & Basic     & Extended             & Extended  & Premium    & Basic                & Basic     & Basic     & Basic     & Basic     & Basic     & Basic                & Basic     & Extended   & Basic      & Extended   & Basic                & Basic     & Extended  & Basic                & Extended   & Basic      & Basic     & Extended   & Premium   & Extended   & Basic     & Basic     & Extended             & Basic     & Basic     & Basic      & Basic     & Extended  & Basic      & Basic      & Basic     & Premium    & Extended            \\\\\n",
       "\tEducation & Bachelor   & Bachelor  & Bachelor  & Bachelor   & Bachelor   & Bachelor  & College   & Master    & Bachelor  & College    & College    & Master     & High School or Below & College    & Bachelor  & High School or Below & College    & College   & High School or Below & High School or Below & Bachelor   & Bachelor  & Bachelor  & Bachelor   & College   & Bachelor   & Master     & College   & Master    & College   & High School or Below & Bachelor   & Bachelor   & High School or Below & Bachelor   & Bachelor  & High School or Below & High School or Below & College   & Bachelor   & High School or Below & College    & Doctor    & Bachelor  & High School or Below & Bachelor   & High School or Below & College   & Bachelor   & High School or Below & Bachelor   & College   & College    & High School or Below & High School or Below & Master    & Bachelor  & Bachelor   & Bachelor  & High School or Below & Bachelor  & College    & College   & High School or Below & Bachelor  & College    & High School or Below & Master    & Master    & Bachelor  & Bachelor  & Bachelor  & High School or Below & College   & College    & Bachelor   & College    & High School or Below & Master    & College   & High School or Below & College    & Bachelor   & Bachelor  & College    & College   & Bachelor   & Bachelor  & Bachelor  & High School or Below & Bachelor  & Master    & Bachelor   & Bachelor  & College   & College    & College    & Bachelor  & College    & High School or Below\\\\\n",
       "\\end{tabular}\n"
      ],
      "text/markdown": [
       "\n",
       "A matrix: 6 × 100 of type chr\n",
       "\n",
       "| <!--/--> | BU79786 | QZ44356 | AI49188 | WW63253 | HB64268 | OC83172 | XZ87318 | CF85061 | DY87989 | SX51350 | ... | TV87155 | KH48895 | NZ30757 | RI22468 | FZ30935 | UG93476 | AB96670 | XK64261 | EV68375 | UN51653 |\n",
       "|---|---|---|---|---|---|---|---|---|---|---|---|---|---|---|---|---|---|---|---|---|---|\n",
       "| Customer | BU79786    | QZ44356   | AI49188   | WW63253    | HB64268    | OC83172   | XZ87318   | CF85061   | DY87989   | SX51350    | ... | TV87155   | KH48895   | NZ30757    | RI22468   | FZ30935   | UG93476    | AB96670    | XK64261   | EV68375    | UN51653              |\n",
       "| State | Washington | Arizona   | Nevada    | California | Washington | Oregon    | Oregon    | Arizona   | Oregon    | California | ... | Oregon    | Arizona   | California | Arizona   | Oregon    | California | California | Oregon    | California | California           |\n",
       "| Customer.Lifetime.Value |  2763.519  |  6979.536 | 12887.432 |  7645.862  |  2813.693  |  8256.298 |  5380.899 |  7216.100 | 24127.504 |  4738.992  | ... | 20946.193 |  8375.354 |  4801.662  |  5745.943 |  6066.116 |  8002.308  |  2393.915  |  4762.818 |  4330.386  |  9402.730            |\n",
       "| Response | No         | No        | No        | No         | No         | Yes       | Yes       | No        | Yes       | No         | ... | No        | No        | No         | No        | No        | Yes        | Yes        | No        | Yes        | No                   |\n",
       "| Coverage | Basic      | Extended  | Premium   | Basic      | Basic      | Basic     | Basic     | Premium   | Basic     | Basic      | ... | Basic     | Basic     | Basic      | Basic     | Extended  | Basic      | Basic      | Basic     | Premium    | Extended             |\n",
       "| Education | Bachelor   | Bachelor  | Bachelor  | Bachelor   | Bachelor   | Bachelor  | College   | Master    | Bachelor  | College    | ... | Bachelor  | Master    | Bachelor   | Bachelor  | College   | College    | College    | Bachelor  | College    | High School or Below |\n",
       "\n"
      ],
      "text/plain": [
       "                        BU79786    QZ44356   AI49188   WW63253    HB64268   \n",
       "Customer                BU79786    QZ44356   AI49188   WW63253    HB64268   \n",
       "State                   Washington Arizona   Nevada    California Washington\n",
       "Customer.Lifetime.Value  2763.519   6979.536 12887.432  7645.862   2813.693 \n",
       "Response                No         No        No        No         No        \n",
       "Coverage                Basic      Extended  Premium   Basic      Basic     \n",
       "Education               Bachelor   Bachelor  Bachelor  Bachelor   Bachelor  \n",
       "                        OC83172   XZ87318   CF85061   DY87989   SX51350    ...\n",
       "Customer                OC83172   XZ87318   CF85061   DY87989   SX51350    ...\n",
       "State                   Oregon    Oregon    Arizona   Oregon    California ...\n",
       "Customer.Lifetime.Value  8256.298  5380.899  7216.100 24127.504  4738.992  ...\n",
       "Response                Yes       Yes       No        Yes       No         ...\n",
       "Coverage                Basic     Basic     Premium   Basic     Basic      ...\n",
       "Education               Bachelor  College   Master    Bachelor  College    ...\n",
       "                        TV87155   KH48895   NZ30757    RI22468   FZ30935  \n",
       "Customer                TV87155   KH48895   NZ30757    RI22468   FZ30935  \n",
       "State                   Oregon    Arizona   California Arizona   Oregon   \n",
       "Customer.Lifetime.Value 20946.193  8375.354  4801.662   5745.943  6066.116\n",
       "Response                No        No        No         No        No       \n",
       "Coverage                Basic     Basic     Basic      Basic     Extended \n",
       "Education               Bachelor  Master    Bachelor   Bachelor  College  \n",
       "                        UG93476    AB96670    XK64261   EV68375   \n",
       "Customer                UG93476    AB96670    XK64261   EV68375   \n",
       "State                   California California Oregon    California\n",
       "Customer.Lifetime.Value  8002.308   2393.915   4762.818  4330.386 \n",
       "Response                Yes        Yes        No        Yes       \n",
       "Coverage                Basic      Basic      Basic     Premium   \n",
       "Education               College    College    Bachelor  College   \n",
       "                        UN51653             \n",
       "Customer                UN51653             \n",
       "State                   California          \n",
       "Customer.Lifetime.Value  9402.730           \n",
       "Response                No                  \n",
       "Coverage                Extended            \n",
       "Education               High School or Below"
      ]
     },
     "metadata": {},
     "output_type": "display_data"
    }
   ],
   "source": [
    "clvDataTmp <- clvData[1:100, ]  #Otherwise it is to huge\n",
    "\n",
    "#in Tidyverse syntax\n",
    "clvDataTmpT <- clvDataTmp %>% t()     \n",
    "\n",
    "head(clvDataTmpT)\n"
   ]
  },
  {
   "cell_type": "markdown",
   "metadata": {
    "slideshow": {
     "slide_type": "slide"
    }
   },
   "source": [
    "## Merge Dataframes\n",
    "\n",
    "Dataframes can be joined by one or more key variables by applying the [`merge()`](https://stat.ethz.ch/R-manual/R-devel/library/base/html/merge.html)-function. "
   ]
  },
  {
   "cell_type": "code",
   "execution_count": 31,
   "metadata": {
    "ExecuteTime": {
     "end_time": "2017-11-19T14:29:19.580000Z",
     "start_time": "2017-11-19T14:29:19.471Z"
    },
    "slideshow": {
     "slide_type": "subslide"
    }
   },
   "outputs": [
    {
     "data": {
      "text/html": [
       "<table>\n",
       "<caption>A data.frame: 4 × 3</caption>\n",
       "<thead>\n",
       "\t<tr><th scope=col>ID</th><th scope=col>AGE</th><th scope=col>GENDER</th></tr>\n",
       "\t<tr><th scope=col>&lt;dbl&gt;</th><th scope=col>&lt;dbl&gt;</th><th scope=col>&lt;fct&gt;</th></tr>\n",
       "</thead>\n",
       "<tbody>\n",
       "\t<tr><td>1</td><td>12</td><td>m</td></tr>\n",
       "\t<tr><td>2</td><td>21</td><td>m</td></tr>\n",
       "\t<tr><td>3</td><td>34</td><td>f</td></tr>\n",
       "\t<tr><td>4</td><td>27</td><td>f</td></tr>\n",
       "</tbody>\n",
       "</table>\n"
      ],
      "text/latex": [
       "A data.frame: 4 × 3\n",
       "\\begin{tabular}{r|lll}\n",
       " ID & AGE & GENDER\\\\\n",
       " <dbl> & <dbl> & <fct>\\\\\n",
       "\\hline\n",
       "\t 1 & 12 & m\\\\\n",
       "\t 2 & 21 & m\\\\\n",
       "\t 3 & 34 & f\\\\\n",
       "\t 4 & 27 & f\\\\\n",
       "\\end{tabular}\n"
      ],
      "text/markdown": [
       "\n",
       "A data.frame: 4 × 3\n",
       "\n",
       "| ID &lt;dbl&gt; | AGE &lt;dbl&gt; | GENDER &lt;fct&gt; |\n",
       "|---|---|---|\n",
       "| 1 | 12 | m |\n",
       "| 2 | 21 | m |\n",
       "| 3 | 34 | f |\n",
       "| 4 | 27 | f |\n",
       "\n"
      ],
      "text/plain": [
       "  ID AGE GENDER\n",
       "1 1  12  m     \n",
       "2 2  21  m     \n",
       "3 3  34  f     \n",
       "4 4  27  f     "
      ]
     },
     "metadata": {},
     "output_type": "display_data"
    }
   ],
   "source": [
    "Id1 <- c(1, 2, 3, 4)\n",
    "age <- c(12, 21, 34, 27)\n",
    "gender  <- c('m', 'm', 'f', 'f')\n",
    "\n",
    "persons <- data.frame(ID=Id1, AGE=age, GENDER=gender)\n",
    "persons\n"
   ]
  },
  {
   "cell_type": "code",
   "execution_count": 32,
   "metadata": {
    "slideshow": {
     "slide_type": "subslide"
    }
   },
   "outputs": [
    {
     "data": {
      "text/html": [
       "<table>\n",
       "<caption>A data.frame: 4 × 2</caption>\n",
       "<thead>\n",
       "\t<tr><th scope=col>ID</th><th scope=col>NAMES</th></tr>\n",
       "\t<tr><th scope=col>&lt;dbl&gt;</th><th scope=col>&lt;fct&gt;</th></tr>\n",
       "</thead>\n",
       "<tbody>\n",
       "\t<tr><td>2</td><td>peter</td></tr>\n",
       "\t<tr><td>3</td><td>mary </td></tr>\n",
       "\t<tr><td>4</td><td>betty</td></tr>\n",
       "\t<tr><td>5</td><td>ben  </td></tr>\n",
       "</tbody>\n",
       "</table>\n"
      ],
      "text/latex": [
       "A data.frame: 4 × 2\n",
       "\\begin{tabular}{r|ll}\n",
       " ID & NAMES\\\\\n",
       " <dbl> & <fct>\\\\\n",
       "\\hline\n",
       "\t 2 & peter\\\\\n",
       "\t 3 & mary \\\\\n",
       "\t 4 & betty\\\\\n",
       "\t 5 & ben  \\\\\n",
       "\\end{tabular}\n"
      ],
      "text/markdown": [
       "\n",
       "A data.frame: 4 × 2\n",
       "\n",
       "| ID &lt;dbl&gt; | NAMES &lt;fct&gt; |\n",
       "|---|---|\n",
       "| 2 | peter |\n",
       "| 3 | mary  |\n",
       "| 4 | betty |\n",
       "| 5 | ben   |\n",
       "\n"
      ],
      "text/plain": [
       "  ID NAMES\n",
       "1 2  peter\n",
       "2 3  mary \n",
       "3 4  betty\n",
       "4 5  ben  "
      ]
     },
     "metadata": {},
     "output_type": "display_data"
    }
   ],
   "source": [
    "Id2 <- c(2, 3, 4, 5)\n",
    "names <- c(\"peter\", \"mary\", \"betty\", \"ben\")\n",
    "\n",
    "personNames <- data.frame(ID=Id2, NAMES=names)\n",
    "personNames"
   ]
  },
  {
   "cell_type": "markdown",
   "metadata": {
    "slideshow": {
     "slide_type": "subslide"
    }
   },
   "source": [
    "The arguments `all`, `all.x` and `all.y` of the `merge(x,y,all,all.x,all.y,by)`- function can be set in order to configure the type of join: \n",
    "* Inner Join: `all=FALSE` (default)\n",
    "* Outer Join: `all=TRUE`\n",
    "* Left (outer) join: `all.x=TRUE`\n",
    "* Right (outer) join: `all.y=TRUE`\n",
    "\n",
    "The different joins are demonstrated in the following code-cells:\n"
   ]
  },
  {
   "cell_type": "markdown",
   "metadata": {
    "slideshow": {
     "slide_type": "subslide"
    }
   },
   "source": [
    "\n",
    "**Inner Join** merge only data rows from 'x' and 'y' with identical 'by'."
   ]
  },
  {
   "cell_type": "code",
   "execution_count": 33,
   "metadata": {
    "ExecuteTime": {
     "end_time": "2017-11-19T14:30:07.284000Z",
     "start_time": "2017-11-19T14:30:07.200Z"
    },
    "scrolled": true,
    "slideshow": {
     "slide_type": "fragment"
    }
   },
   "outputs": [
    {
     "data": {
      "text/html": [
       "<table>\n",
       "<caption>A data.frame: 4 × 3</caption>\n",
       "<thead>\n",
       "\t<tr><th scope=col>ID</th><th scope=col>AGE</th><th scope=col>GENDER</th></tr>\n",
       "\t<tr><th scope=col>&lt;dbl&gt;</th><th scope=col>&lt;dbl&gt;</th><th scope=col>&lt;fct&gt;</th></tr>\n",
       "</thead>\n",
       "<tbody>\n",
       "\t<tr><td>1</td><td>12</td><td>m</td></tr>\n",
       "\t<tr><td>2</td><td>21</td><td>m</td></tr>\n",
       "\t<tr><td>3</td><td>34</td><td>f</td></tr>\n",
       "\t<tr><td>4</td><td>27</td><td>f</td></tr>\n",
       "</tbody>\n",
       "</table>\n"
      ],
      "text/latex": [
       "A data.frame: 4 × 3\n",
       "\\begin{tabular}{r|lll}\n",
       " ID & AGE & GENDER\\\\\n",
       " <dbl> & <dbl> & <fct>\\\\\n",
       "\\hline\n",
       "\t 1 & 12 & m\\\\\n",
       "\t 2 & 21 & m\\\\\n",
       "\t 3 & 34 & f\\\\\n",
       "\t 4 & 27 & f\\\\\n",
       "\\end{tabular}\n"
      ],
      "text/markdown": [
       "\n",
       "A data.frame: 4 × 3\n",
       "\n",
       "| ID &lt;dbl&gt; | AGE &lt;dbl&gt; | GENDER &lt;fct&gt; |\n",
       "|---|---|---|\n",
       "| 1 | 12 | m |\n",
       "| 2 | 21 | m |\n",
       "| 3 | 34 | f |\n",
       "| 4 | 27 | f |\n",
       "\n"
      ],
      "text/plain": [
       "  ID AGE GENDER\n",
       "1 1  12  m     \n",
       "2 2  21  m     \n",
       "3 3  34  f     \n",
       "4 4  27  f     "
      ]
     },
     "metadata": {},
     "output_type": "display_data"
    },
    {
     "data": {
      "text/html": [
       "<table>\n",
       "<caption>A data.frame: 4 × 2</caption>\n",
       "<thead>\n",
       "\t<tr><th scope=col>ID</th><th scope=col>NAMES</th></tr>\n",
       "\t<tr><th scope=col>&lt;dbl&gt;</th><th scope=col>&lt;fct&gt;</th></tr>\n",
       "</thead>\n",
       "<tbody>\n",
       "\t<tr><td>2</td><td>peter</td></tr>\n",
       "\t<tr><td>3</td><td>mary </td></tr>\n",
       "\t<tr><td>4</td><td>betty</td></tr>\n",
       "\t<tr><td>5</td><td>ben  </td></tr>\n",
       "</tbody>\n",
       "</table>\n"
      ],
      "text/latex": [
       "A data.frame: 4 × 2\n",
       "\\begin{tabular}{r|ll}\n",
       " ID & NAMES\\\\\n",
       " <dbl> & <fct>\\\\\n",
       "\\hline\n",
       "\t 2 & peter\\\\\n",
       "\t 3 & mary \\\\\n",
       "\t 4 & betty\\\\\n",
       "\t 5 & ben  \\\\\n",
       "\\end{tabular}\n"
      ],
      "text/markdown": [
       "\n",
       "A data.frame: 4 × 2\n",
       "\n",
       "| ID &lt;dbl&gt; | NAMES &lt;fct&gt; |\n",
       "|---|---|\n",
       "| 2 | peter |\n",
       "| 3 | mary  |\n",
       "| 4 | betty |\n",
       "| 5 | ben   |\n",
       "\n"
      ],
      "text/plain": [
       "  ID NAMES\n",
       "1 2  peter\n",
       "2 3  mary \n",
       "3 4  betty\n",
       "4 5  ben  "
      ]
     },
     "metadata": {},
     "output_type": "display_data"
    },
    {
     "data": {
      "text/html": [
       "<table>\n",
       "<caption>A data.frame: 3 × 4</caption>\n",
       "<thead>\n",
       "\t<tr><th scope=col>ID</th><th scope=col>AGE</th><th scope=col>GENDER</th><th scope=col>NAMES</th></tr>\n",
       "\t<tr><th scope=col>&lt;dbl&gt;</th><th scope=col>&lt;dbl&gt;</th><th scope=col>&lt;fct&gt;</th><th scope=col>&lt;fct&gt;</th></tr>\n",
       "</thead>\n",
       "<tbody>\n",
       "\t<tr><td>2</td><td>21</td><td>m</td><td>peter</td></tr>\n",
       "\t<tr><td>3</td><td>34</td><td>f</td><td>mary </td></tr>\n",
       "\t<tr><td>4</td><td>27</td><td>f</td><td>betty</td></tr>\n",
       "</tbody>\n",
       "</table>\n"
      ],
      "text/latex": [
       "A data.frame: 3 × 4\n",
       "\\begin{tabular}{r|llll}\n",
       " ID & AGE & GENDER & NAMES\\\\\n",
       " <dbl> & <dbl> & <fct> & <fct>\\\\\n",
       "\\hline\n",
       "\t 2 & 21 & m & peter\\\\\n",
       "\t 3 & 34 & f & mary \\\\\n",
       "\t 4 & 27 & f & betty\\\\\n",
       "\\end{tabular}\n"
      ],
      "text/markdown": [
       "\n",
       "A data.frame: 3 × 4\n",
       "\n",
       "| ID &lt;dbl&gt; | AGE &lt;dbl&gt; | GENDER &lt;fct&gt; | NAMES &lt;fct&gt; |\n",
       "|---|---|---|---|\n",
       "| 2 | 21 | m | peter |\n",
       "| 3 | 34 | f | mary  |\n",
       "| 4 | 27 | f | betty |\n",
       "\n"
      ],
      "text/plain": [
       "  ID AGE GENDER NAMES\n",
       "1 2  21  m      peter\n",
       "2 3  34  f      mary \n",
       "3 4  27  f      betty"
      ]
     },
     "metadata": {},
     "output_type": "display_data"
    }
   ],
   "source": [
    "persons\n",
    "personNames\n",
    "NamedPersons <- merge(persons, personNames, by=\"ID\")\n",
    "NamedPersons"
   ]
  },
  {
   "cell_type": "markdown",
   "metadata": {
    "slideshow": {
     "slide_type": "subslide"
    }
   },
   "source": [
    "**Left (outer) join** merge all data rows from 'x' and fill 'y' columns with not identical 'by' value with 'NA'."
   ]
  },
  {
   "cell_type": "code",
   "execution_count": 34,
   "metadata": {
    "ExecuteTime": {
     "end_time": "2017-11-19T14:30:13.187000Z",
     "start_time": "2017-11-19T14:30:13.123Z"
    },
    "scrolled": true,
    "slideshow": {
     "slide_type": "fragment"
    }
   },
   "outputs": [
    {
     "data": {
      "text/html": [
       "<table>\n",
       "<caption>A data.frame: 4 × 3</caption>\n",
       "<thead>\n",
       "\t<tr><th scope=col>ID</th><th scope=col>AGE</th><th scope=col>GENDER</th></tr>\n",
       "\t<tr><th scope=col>&lt;dbl&gt;</th><th scope=col>&lt;dbl&gt;</th><th scope=col>&lt;fct&gt;</th></tr>\n",
       "</thead>\n",
       "<tbody>\n",
       "\t<tr><td>1</td><td>12</td><td>m</td></tr>\n",
       "\t<tr><td>2</td><td>21</td><td>m</td></tr>\n",
       "\t<tr><td>3</td><td>34</td><td>f</td></tr>\n",
       "\t<tr><td>4</td><td>27</td><td>f</td></tr>\n",
       "</tbody>\n",
       "</table>\n"
      ],
      "text/latex": [
       "A data.frame: 4 × 3\n",
       "\\begin{tabular}{r|lll}\n",
       " ID & AGE & GENDER\\\\\n",
       " <dbl> & <dbl> & <fct>\\\\\n",
       "\\hline\n",
       "\t 1 & 12 & m\\\\\n",
       "\t 2 & 21 & m\\\\\n",
       "\t 3 & 34 & f\\\\\n",
       "\t 4 & 27 & f\\\\\n",
       "\\end{tabular}\n"
      ],
      "text/markdown": [
       "\n",
       "A data.frame: 4 × 3\n",
       "\n",
       "| ID &lt;dbl&gt; | AGE &lt;dbl&gt; | GENDER &lt;fct&gt; |\n",
       "|---|---|---|\n",
       "| 1 | 12 | m |\n",
       "| 2 | 21 | m |\n",
       "| 3 | 34 | f |\n",
       "| 4 | 27 | f |\n",
       "\n"
      ],
      "text/plain": [
       "  ID AGE GENDER\n",
       "1 1  12  m     \n",
       "2 2  21  m     \n",
       "3 3  34  f     \n",
       "4 4  27  f     "
      ]
     },
     "metadata": {},
     "output_type": "display_data"
    },
    {
     "data": {
      "text/html": [
       "<table>\n",
       "<caption>A data.frame: 4 × 2</caption>\n",
       "<thead>\n",
       "\t<tr><th scope=col>ID</th><th scope=col>NAMES</th></tr>\n",
       "\t<tr><th scope=col>&lt;dbl&gt;</th><th scope=col>&lt;fct&gt;</th></tr>\n",
       "</thead>\n",
       "<tbody>\n",
       "\t<tr><td>2</td><td>peter</td></tr>\n",
       "\t<tr><td>3</td><td>mary </td></tr>\n",
       "\t<tr><td>4</td><td>betty</td></tr>\n",
       "\t<tr><td>5</td><td>ben  </td></tr>\n",
       "</tbody>\n",
       "</table>\n"
      ],
      "text/latex": [
       "A data.frame: 4 × 2\n",
       "\\begin{tabular}{r|ll}\n",
       " ID & NAMES\\\\\n",
       " <dbl> & <fct>\\\\\n",
       "\\hline\n",
       "\t 2 & peter\\\\\n",
       "\t 3 & mary \\\\\n",
       "\t 4 & betty\\\\\n",
       "\t 5 & ben  \\\\\n",
       "\\end{tabular}\n"
      ],
      "text/markdown": [
       "\n",
       "A data.frame: 4 × 2\n",
       "\n",
       "| ID &lt;dbl&gt; | NAMES &lt;fct&gt; |\n",
       "|---|---|\n",
       "| 2 | peter |\n",
       "| 3 | mary  |\n",
       "| 4 | betty |\n",
       "| 5 | ben   |\n",
       "\n"
      ],
      "text/plain": [
       "  ID NAMES\n",
       "1 2  peter\n",
       "2 3  mary \n",
       "3 4  betty\n",
       "4 5  ben  "
      ]
     },
     "metadata": {},
     "output_type": "display_data"
    },
    {
     "data": {
      "text/html": [
       "<table>\n",
       "<caption>A data.frame: 4 × 4</caption>\n",
       "<thead>\n",
       "\t<tr><th scope=col>ID</th><th scope=col>AGE</th><th scope=col>GENDER</th><th scope=col>NAMES</th></tr>\n",
       "\t<tr><th scope=col>&lt;dbl&gt;</th><th scope=col>&lt;dbl&gt;</th><th scope=col>&lt;fct&gt;</th><th scope=col>&lt;fct&gt;</th></tr>\n",
       "</thead>\n",
       "<tbody>\n",
       "\t<tr><td>1</td><td>12</td><td>m</td><td>NA   </td></tr>\n",
       "\t<tr><td>2</td><td>21</td><td>m</td><td>peter</td></tr>\n",
       "\t<tr><td>3</td><td>34</td><td>f</td><td>mary </td></tr>\n",
       "\t<tr><td>4</td><td>27</td><td>f</td><td>betty</td></tr>\n",
       "</tbody>\n",
       "</table>\n"
      ],
      "text/latex": [
       "A data.frame: 4 × 4\n",
       "\\begin{tabular}{r|llll}\n",
       " ID & AGE & GENDER & NAMES\\\\\n",
       " <dbl> & <dbl> & <fct> & <fct>\\\\\n",
       "\\hline\n",
       "\t 1 & 12 & m & NA   \\\\\n",
       "\t 2 & 21 & m & peter\\\\\n",
       "\t 3 & 34 & f & mary \\\\\n",
       "\t 4 & 27 & f & betty\\\\\n",
       "\\end{tabular}\n"
      ],
      "text/markdown": [
       "\n",
       "A data.frame: 4 × 4\n",
       "\n",
       "| ID &lt;dbl&gt; | AGE &lt;dbl&gt; | GENDER &lt;fct&gt; | NAMES &lt;fct&gt; |\n",
       "|---|---|---|---|\n",
       "| 1 | 12 | m | NA    |\n",
       "| 2 | 21 | m | peter |\n",
       "| 3 | 34 | f | mary  |\n",
       "| 4 | 27 | f | betty |\n",
       "\n"
      ],
      "text/plain": [
       "  ID AGE GENDER NAMES\n",
       "1 1  12  m      NA   \n",
       "2 2  21  m      peter\n",
       "3 3  34  f      mary \n",
       "4 4  27  f      betty"
      ]
     },
     "metadata": {},
     "output_type": "display_data"
    }
   ],
   "source": [
    "persons\n",
    "personNames\n",
    "NamedPersons <- merge(persons, personNames, by=\"ID\", all.x=TRUE)\n",
    "NamedPersons"
   ]
  },
  {
   "cell_type": "markdown",
   "metadata": {
    "slideshow": {
     "slide_type": "subslide"
    }
   },
   "source": [
    "**Right (outer) join** merge all data rows from 'y' and fill 'x' columns with not identical 'by' value with 'NA'."
   ]
  },
  {
   "cell_type": "code",
   "execution_count": 35,
   "metadata": {
    "ExecuteTime": {
     "end_time": "2017-11-19T14:30:17.219000Z",
     "start_time": "2017-11-19T14:30:17.133Z"
    },
    "slideshow": {
     "slide_type": "fragment"
    }
   },
   "outputs": [
    {
     "data": {
      "text/html": [
       "<table>\n",
       "<caption>A data.frame: 4 × 3</caption>\n",
       "<thead>\n",
       "\t<tr><th scope=col>ID</th><th scope=col>AGE</th><th scope=col>GENDER</th></tr>\n",
       "\t<tr><th scope=col>&lt;dbl&gt;</th><th scope=col>&lt;dbl&gt;</th><th scope=col>&lt;fct&gt;</th></tr>\n",
       "</thead>\n",
       "<tbody>\n",
       "\t<tr><td>1</td><td>12</td><td>m</td></tr>\n",
       "\t<tr><td>2</td><td>21</td><td>m</td></tr>\n",
       "\t<tr><td>3</td><td>34</td><td>f</td></tr>\n",
       "\t<tr><td>4</td><td>27</td><td>f</td></tr>\n",
       "</tbody>\n",
       "</table>\n"
      ],
      "text/latex": [
       "A data.frame: 4 × 3\n",
       "\\begin{tabular}{r|lll}\n",
       " ID & AGE & GENDER\\\\\n",
       " <dbl> & <dbl> & <fct>\\\\\n",
       "\\hline\n",
       "\t 1 & 12 & m\\\\\n",
       "\t 2 & 21 & m\\\\\n",
       "\t 3 & 34 & f\\\\\n",
       "\t 4 & 27 & f\\\\\n",
       "\\end{tabular}\n"
      ],
      "text/markdown": [
       "\n",
       "A data.frame: 4 × 3\n",
       "\n",
       "| ID &lt;dbl&gt; | AGE &lt;dbl&gt; | GENDER &lt;fct&gt; |\n",
       "|---|---|---|\n",
       "| 1 | 12 | m |\n",
       "| 2 | 21 | m |\n",
       "| 3 | 34 | f |\n",
       "| 4 | 27 | f |\n",
       "\n"
      ],
      "text/plain": [
       "  ID AGE GENDER\n",
       "1 1  12  m     \n",
       "2 2  21  m     \n",
       "3 3  34  f     \n",
       "4 4  27  f     "
      ]
     },
     "metadata": {},
     "output_type": "display_data"
    },
    {
     "data": {
      "text/html": [
       "<table>\n",
       "<caption>A data.frame: 4 × 2</caption>\n",
       "<thead>\n",
       "\t<tr><th scope=col>ID</th><th scope=col>NAMES</th></tr>\n",
       "\t<tr><th scope=col>&lt;dbl&gt;</th><th scope=col>&lt;fct&gt;</th></tr>\n",
       "</thead>\n",
       "<tbody>\n",
       "\t<tr><td>2</td><td>peter</td></tr>\n",
       "\t<tr><td>3</td><td>mary </td></tr>\n",
       "\t<tr><td>4</td><td>betty</td></tr>\n",
       "\t<tr><td>5</td><td>ben  </td></tr>\n",
       "</tbody>\n",
       "</table>\n"
      ],
      "text/latex": [
       "A data.frame: 4 × 2\n",
       "\\begin{tabular}{r|ll}\n",
       " ID & NAMES\\\\\n",
       " <dbl> & <fct>\\\\\n",
       "\\hline\n",
       "\t 2 & peter\\\\\n",
       "\t 3 & mary \\\\\n",
       "\t 4 & betty\\\\\n",
       "\t 5 & ben  \\\\\n",
       "\\end{tabular}\n"
      ],
      "text/markdown": [
       "\n",
       "A data.frame: 4 × 2\n",
       "\n",
       "| ID &lt;dbl&gt; | NAMES &lt;fct&gt; |\n",
       "|---|---|\n",
       "| 2 | peter |\n",
       "| 3 | mary  |\n",
       "| 4 | betty |\n",
       "| 5 | ben   |\n",
       "\n"
      ],
      "text/plain": [
       "  ID NAMES\n",
       "1 2  peter\n",
       "2 3  mary \n",
       "3 4  betty\n",
       "4 5  ben  "
      ]
     },
     "metadata": {},
     "output_type": "display_data"
    },
    {
     "data": {
      "text/html": [
       "<table>\n",
       "<caption>A data.frame: 4 × 4</caption>\n",
       "<thead>\n",
       "\t<tr><th scope=col>ID</th><th scope=col>AGE</th><th scope=col>GENDER</th><th scope=col>NAMES</th></tr>\n",
       "\t<tr><th scope=col>&lt;dbl&gt;</th><th scope=col>&lt;dbl&gt;</th><th scope=col>&lt;fct&gt;</th><th scope=col>&lt;fct&gt;</th></tr>\n",
       "</thead>\n",
       "<tbody>\n",
       "\t<tr><td>2</td><td>21</td><td>m </td><td>peter</td></tr>\n",
       "\t<tr><td>3</td><td>34</td><td>f </td><td>mary </td></tr>\n",
       "\t<tr><td>4</td><td>27</td><td>f </td><td>betty</td></tr>\n",
       "\t<tr><td>5</td><td>NA</td><td>NA</td><td>ben  </td></tr>\n",
       "</tbody>\n",
       "</table>\n"
      ],
      "text/latex": [
       "A data.frame: 4 × 4\n",
       "\\begin{tabular}{r|llll}\n",
       " ID & AGE & GENDER & NAMES\\\\\n",
       " <dbl> & <dbl> & <fct> & <fct>\\\\\n",
       "\\hline\n",
       "\t 2 & 21 & m  & peter\\\\\n",
       "\t 3 & 34 & f  & mary \\\\\n",
       "\t 4 & 27 & f  & betty\\\\\n",
       "\t 5 & NA & NA & ben  \\\\\n",
       "\\end{tabular}\n"
      ],
      "text/markdown": [
       "\n",
       "A data.frame: 4 × 4\n",
       "\n",
       "| ID &lt;dbl&gt; | AGE &lt;dbl&gt; | GENDER &lt;fct&gt; | NAMES &lt;fct&gt; |\n",
       "|---|---|---|---|\n",
       "| 2 | 21 | m  | peter |\n",
       "| 3 | 34 | f  | mary  |\n",
       "| 4 | 27 | f  | betty |\n",
       "| 5 | NA | NA | ben   |\n",
       "\n"
      ],
      "text/plain": [
       "  ID AGE GENDER NAMES\n",
       "1 2  21  m      peter\n",
       "2 3  34  f      mary \n",
       "3 4  27  f      betty\n",
       "4 5  NA  NA     ben  "
      ]
     },
     "metadata": {},
     "output_type": "display_data"
    }
   ],
   "source": [
    "persons\n",
    "personNames\n",
    "NamedPersons <- merge(persons, personNames, by=\"ID\", all.y=TRUE)\n",
    "NamedPersons"
   ]
  },
  {
   "cell_type": "markdown",
   "metadata": {
    "slideshow": {
     "slide_type": "subslide"
    }
   },
   "source": [
    "**Outer join** merge all data rows from 'x' and 'y' and fill columns with not identical 'by' value with 'NA'."
   ]
  },
  {
   "cell_type": "code",
   "execution_count": 36,
   "metadata": {
    "ExecuteTime": {
     "end_time": "2017-11-19T14:30:19.278000Z",
     "start_time": "2017-11-19T14:30:19.207Z"
    },
    "slideshow": {
     "slide_type": "fragment"
    }
   },
   "outputs": [
    {
     "data": {
      "text/html": [
       "<table>\n",
       "<caption>A data.frame: 4 × 3</caption>\n",
       "<thead>\n",
       "\t<tr><th scope=col>ID</th><th scope=col>AGE</th><th scope=col>GENDER</th></tr>\n",
       "\t<tr><th scope=col>&lt;dbl&gt;</th><th scope=col>&lt;dbl&gt;</th><th scope=col>&lt;fct&gt;</th></tr>\n",
       "</thead>\n",
       "<tbody>\n",
       "\t<tr><td>1</td><td>12</td><td>m</td></tr>\n",
       "\t<tr><td>2</td><td>21</td><td>m</td></tr>\n",
       "\t<tr><td>3</td><td>34</td><td>f</td></tr>\n",
       "\t<tr><td>4</td><td>27</td><td>f</td></tr>\n",
       "</tbody>\n",
       "</table>\n"
      ],
      "text/latex": [
       "A data.frame: 4 × 3\n",
       "\\begin{tabular}{r|lll}\n",
       " ID & AGE & GENDER\\\\\n",
       " <dbl> & <dbl> & <fct>\\\\\n",
       "\\hline\n",
       "\t 1 & 12 & m\\\\\n",
       "\t 2 & 21 & m\\\\\n",
       "\t 3 & 34 & f\\\\\n",
       "\t 4 & 27 & f\\\\\n",
       "\\end{tabular}\n"
      ],
      "text/markdown": [
       "\n",
       "A data.frame: 4 × 3\n",
       "\n",
       "| ID &lt;dbl&gt; | AGE &lt;dbl&gt; | GENDER &lt;fct&gt; |\n",
       "|---|---|---|\n",
       "| 1 | 12 | m |\n",
       "| 2 | 21 | m |\n",
       "| 3 | 34 | f |\n",
       "| 4 | 27 | f |\n",
       "\n"
      ],
      "text/plain": [
       "  ID AGE GENDER\n",
       "1 1  12  m     \n",
       "2 2  21  m     \n",
       "3 3  34  f     \n",
       "4 4  27  f     "
      ]
     },
     "metadata": {},
     "output_type": "display_data"
    },
    {
     "data": {
      "text/html": [
       "<table>\n",
       "<caption>A data.frame: 4 × 2</caption>\n",
       "<thead>\n",
       "\t<tr><th scope=col>ID</th><th scope=col>NAMES</th></tr>\n",
       "\t<tr><th scope=col>&lt;dbl&gt;</th><th scope=col>&lt;fct&gt;</th></tr>\n",
       "</thead>\n",
       "<tbody>\n",
       "\t<tr><td>2</td><td>peter</td></tr>\n",
       "\t<tr><td>3</td><td>mary </td></tr>\n",
       "\t<tr><td>4</td><td>betty</td></tr>\n",
       "\t<tr><td>5</td><td>ben  </td></tr>\n",
       "</tbody>\n",
       "</table>\n"
      ],
      "text/latex": [
       "A data.frame: 4 × 2\n",
       "\\begin{tabular}{r|ll}\n",
       " ID & NAMES\\\\\n",
       " <dbl> & <fct>\\\\\n",
       "\\hline\n",
       "\t 2 & peter\\\\\n",
       "\t 3 & mary \\\\\n",
       "\t 4 & betty\\\\\n",
       "\t 5 & ben  \\\\\n",
       "\\end{tabular}\n"
      ],
      "text/markdown": [
       "\n",
       "A data.frame: 4 × 2\n",
       "\n",
       "| ID &lt;dbl&gt; | NAMES &lt;fct&gt; |\n",
       "|---|---|\n",
       "| 2 | peter |\n",
       "| 3 | mary  |\n",
       "| 4 | betty |\n",
       "| 5 | ben   |\n",
       "\n"
      ],
      "text/plain": [
       "  ID NAMES\n",
       "1 2  peter\n",
       "2 3  mary \n",
       "3 4  betty\n",
       "4 5  ben  "
      ]
     },
     "metadata": {},
     "output_type": "display_data"
    },
    {
     "data": {
      "text/html": [
       "<table>\n",
       "<caption>A data.frame: 5 × 4</caption>\n",
       "<thead>\n",
       "\t<tr><th scope=col>ID</th><th scope=col>AGE</th><th scope=col>GENDER</th><th scope=col>NAMES</th></tr>\n",
       "\t<tr><th scope=col>&lt;dbl&gt;</th><th scope=col>&lt;dbl&gt;</th><th scope=col>&lt;fct&gt;</th><th scope=col>&lt;fct&gt;</th></tr>\n",
       "</thead>\n",
       "<tbody>\n",
       "\t<tr><td>1</td><td>12</td><td>m </td><td>NA   </td></tr>\n",
       "\t<tr><td>2</td><td>21</td><td>m </td><td>peter</td></tr>\n",
       "\t<tr><td>3</td><td>34</td><td>f </td><td>mary </td></tr>\n",
       "\t<tr><td>4</td><td>27</td><td>f </td><td>betty</td></tr>\n",
       "\t<tr><td>5</td><td>NA</td><td>NA</td><td>ben  </td></tr>\n",
       "</tbody>\n",
       "</table>\n"
      ],
      "text/latex": [
       "A data.frame: 5 × 4\n",
       "\\begin{tabular}{r|llll}\n",
       " ID & AGE & GENDER & NAMES\\\\\n",
       " <dbl> & <dbl> & <fct> & <fct>\\\\\n",
       "\\hline\n",
       "\t 1 & 12 & m  & NA   \\\\\n",
       "\t 2 & 21 & m  & peter\\\\\n",
       "\t 3 & 34 & f  & mary \\\\\n",
       "\t 4 & 27 & f  & betty\\\\\n",
       "\t 5 & NA & NA & ben  \\\\\n",
       "\\end{tabular}\n"
      ],
      "text/markdown": [
       "\n",
       "A data.frame: 5 × 4\n",
       "\n",
       "| ID &lt;dbl&gt; | AGE &lt;dbl&gt; | GENDER &lt;fct&gt; | NAMES &lt;fct&gt; |\n",
       "|---|---|---|---|\n",
       "| 1 | 12 | m  | NA    |\n",
       "| 2 | 21 | m  | peter |\n",
       "| 3 | 34 | f  | mary  |\n",
       "| 4 | 27 | f  | betty |\n",
       "| 5 | NA | NA | ben   |\n",
       "\n"
      ],
      "text/plain": [
       "  ID AGE GENDER NAMES\n",
       "1 1  12  m      NA   \n",
       "2 2  21  m      peter\n",
       "3 3  34  f      mary \n",
       "4 4  27  f      betty\n",
       "5 5  NA  NA     ben  "
      ]
     },
     "metadata": {},
     "output_type": "display_data"
    }
   ],
   "source": [
    "persons\n",
    "personNames\n",
    "NamedPersons <- merge(persons, personNames, by=\"ID\", all=TRUE)\n",
    "NamedPersons"
   ]
  },
  {
   "cell_type": "markdown",
   "metadata": {
    "slideshow": {
     "slide_type": "slide"
    }
   },
   "source": [
    "## Gathering and Spreading of Dataframes\n",
    "\n",
    "In many real cases, the data we get are untidy and we have to transform the data into tidy data. Two main problems occur many times:\n",
    "\n",
    "**First problem**: A variable is spread across multiple columns. Using [`gather()`](https://tidyr.tidyverse.org/reference/gather.html) (see also [examples](https://r4ds.had.co.nz/tidy-data.html#spreading-and-gathering)) help to solve that problem.\n",
    "\n",
    "`Keep in mind:` the **tidyr** package of tidyverse is a replacement for the reshape/reshape2 packages. New functions `gather()` and `spread()` are the substitutes for `reshape2::melt()` and `reshape2::cast()`. \n"
   ]
  },
  {
   "cell_type": "code",
   "execution_count": 37,
   "metadata": {
    "slideshow": {
     "slide_type": "subslide"
    }
   },
   "outputs": [
    {
     "data": {
      "text/html": [
       "<table>\n",
       "<caption>A data.frame: 5 × 4</caption>\n",
       "<thead>\n",
       "\t<tr><th scope=col>Customer</th><th scope=col>Effective.To.Date</th><th scope=col>Num2015</th><th scope=col>Num2016</th></tr>\n",
       "\t<tr><th scope=col>&lt;chr&gt;</th><th scope=col>&lt;date&gt;</th><th scope=col>&lt;int&gt;</th><th scope=col>&lt;int&gt;</th></tr>\n",
       "</thead>\n",
       "<tbody>\n",
       "\t<tr><td>BU79786</td><td>2011-02-24</td><td>32</td><td> 5</td></tr>\n",
       "\t<tr><td>QZ44356</td><td>2011-01-31</td><td>13</td><td>42</td></tr>\n",
       "\t<tr><td>AI49188</td><td>2011-02-19</td><td>18</td><td>38</td></tr>\n",
       "\t<tr><td>WW63253</td><td>2011-01-20</td><td>18</td><td>65</td></tr>\n",
       "\t<tr><td>HB64268</td><td>2011-02-03</td><td>12</td><td>44</td></tr>\n",
       "</tbody>\n",
       "</table>\n"
      ],
      "text/latex": [
       "A data.frame: 5 × 4\n",
       "\\begin{tabular}{r|llll}\n",
       " Customer & Effective.To.Date & Num2015 & Num2016\\\\\n",
       " <chr> & <date> & <int> & <int>\\\\\n",
       "\\hline\n",
       "\t BU79786 & 2011-02-24 & 32 &  5\\\\\n",
       "\t QZ44356 & 2011-01-31 & 13 & 42\\\\\n",
       "\t AI49188 & 2011-02-19 & 18 & 38\\\\\n",
       "\t WW63253 & 2011-01-20 & 18 & 65\\\\\n",
       "\t HB64268 & 2011-02-03 & 12 & 44\\\\\n",
       "\\end{tabular}\n"
      ],
      "text/markdown": [
       "\n",
       "A data.frame: 5 × 4\n",
       "\n",
       "| Customer &lt;chr&gt; | Effective.To.Date &lt;date&gt; | Num2015 &lt;int&gt; | Num2016 &lt;int&gt; |\n",
       "|---|---|---|---|\n",
       "| BU79786 | 2011-02-24 | 32 |  5 |\n",
       "| QZ44356 | 2011-01-31 | 13 | 42 |\n",
       "| AI49188 | 2011-02-19 | 18 | 38 |\n",
       "| WW63253 | 2011-01-20 | 18 | 65 |\n",
       "| HB64268 | 2011-02-03 | 12 | 44 |\n",
       "\n"
      ],
      "text/plain": [
       "  Customer Effective.To.Date Num2015 Num2016\n",
       "1 BU79786  2011-02-24        32       5     \n",
       "2 QZ44356  2011-01-31        13      42     \n",
       "3 AI49188  2011-02-19        18      38     \n",
       "4 WW63253  2011-01-20        18      65     \n",
       "5 HB64268  2011-02-03        12      44     "
      ]
     },
     "metadata": {},
     "output_type": "display_data"
    }
   ],
   "source": [
    "# newname = oldname from dplyr package\n",
    "# Keep in mind: in package reshape is also a 'rename()'' function\n",
    "rename <- dplyr::rename\n",
    "\n",
    "clvDataTMP <- clvData %>%\n",
    "    select(Customer, Effective.To.Date, \n",
    "           Months.Since.Last.Claim, Months.Since.Policy.Inception) %>%\n",
    "    rename(Num2015 = Months.Since.Last.Claim, \n",
    "           Num2016 = Months.Since.Policy.Inception) %>%   # That's an artifical and senseless data, but good to demonstrate\n",
    "    filter(row_number() <= 5)                  # Use only first 5 rows\n",
    "\n",
    "clvDataTMP\n"
   ]
  },
  {
   "cell_type": "code",
   "execution_count": 38,
   "metadata": {
    "slideshow": {
     "slide_type": "subslide"
    }
   },
   "outputs": [
    {
     "data": {
      "text/html": [
       "<table>\n",
       "<caption>A data.frame: 5 × 4</caption>\n",
       "<thead>\n",
       "\t<tr><th scope=col>Customer</th><th scope=col>Effective.To.Date</th><th scope=col>Num2015</th><th scope=col>Num2016</th></tr>\n",
       "\t<tr><th scope=col>&lt;chr&gt;</th><th scope=col>&lt;date&gt;</th><th scope=col>&lt;int&gt;</th><th scope=col>&lt;int&gt;</th></tr>\n",
       "</thead>\n",
       "<tbody>\n",
       "\t<tr><td>BU79786</td><td>2011-02-24</td><td>32</td><td> 5</td></tr>\n",
       "\t<tr><td>QZ44356</td><td>2011-01-31</td><td>13</td><td>42</td></tr>\n",
       "\t<tr><td>AI49188</td><td>2011-02-19</td><td>18</td><td>38</td></tr>\n",
       "\t<tr><td>WW63253</td><td>2011-01-20</td><td>18</td><td>65</td></tr>\n",
       "\t<tr><td>HB64268</td><td>2011-02-03</td><td>12</td><td>44</td></tr>\n",
       "</tbody>\n",
       "</table>\n"
      ],
      "text/latex": [
       "A data.frame: 5 × 4\n",
       "\\begin{tabular}{r|llll}\n",
       " Customer & Effective.To.Date & Num2015 & Num2016\\\\\n",
       " <chr> & <date> & <int> & <int>\\\\\n",
       "\\hline\n",
       "\t BU79786 & 2011-02-24 & 32 &  5\\\\\n",
       "\t QZ44356 & 2011-01-31 & 13 & 42\\\\\n",
       "\t AI49188 & 2011-02-19 & 18 & 38\\\\\n",
       "\t WW63253 & 2011-01-20 & 18 & 65\\\\\n",
       "\t HB64268 & 2011-02-03 & 12 & 44\\\\\n",
       "\\end{tabular}\n"
      ],
      "text/markdown": [
       "\n",
       "A data.frame: 5 × 4\n",
       "\n",
       "| Customer &lt;chr&gt; | Effective.To.Date &lt;date&gt; | Num2015 &lt;int&gt; | Num2016 &lt;int&gt; |\n",
       "|---|---|---|---|\n",
       "| BU79786 | 2011-02-24 | 32 |  5 |\n",
       "| QZ44356 | 2011-01-31 | 13 | 42 |\n",
       "| AI49188 | 2011-02-19 | 18 | 38 |\n",
       "| WW63253 | 2011-01-20 | 18 | 65 |\n",
       "| HB64268 | 2011-02-03 | 12 | 44 |\n",
       "\n"
      ],
      "text/plain": [
       "  Customer Effective.To.Date Num2015 Num2016\n",
       "1 BU79786  2011-02-24        32       5     \n",
       "2 QZ44356  2011-01-31        13      42     \n",
       "3 AI49188  2011-02-19        18      38     \n",
       "4 WW63253  2011-01-20        18      65     \n",
       "5 HB64268  2011-02-03        12      44     "
      ]
     },
     "metadata": {},
     "output_type": "display_data"
    },
    {
     "data": {
      "text/html": [
       "<table>\n",
       "<caption>A data.frame: 10 × 4</caption>\n",
       "<thead>\n",
       "\t<tr><th scope=col>Customer</th><th scope=col>Effective.To.Date</th><th scope=col>year</th><th scope=col>Months.Since.Last.Anything</th></tr>\n",
       "\t<tr><th scope=col>&lt;chr&gt;</th><th scope=col>&lt;date&gt;</th><th scope=col>&lt;chr&gt;</th><th scope=col>&lt;int&gt;</th></tr>\n",
       "</thead>\n",
       "<tbody>\n",
       "\t<tr><td>BU79786</td><td>2011-02-24</td><td>Num2015</td><td>32</td></tr>\n",
       "\t<tr><td>QZ44356</td><td>2011-01-31</td><td>Num2015</td><td>13</td></tr>\n",
       "\t<tr><td>AI49188</td><td>2011-02-19</td><td>Num2015</td><td>18</td></tr>\n",
       "\t<tr><td>WW63253</td><td>2011-01-20</td><td>Num2015</td><td>18</td></tr>\n",
       "\t<tr><td>HB64268</td><td>2011-02-03</td><td>Num2015</td><td>12</td></tr>\n",
       "\t<tr><td>BU79786</td><td>2011-02-24</td><td>Num2016</td><td> 5</td></tr>\n",
       "\t<tr><td>QZ44356</td><td>2011-01-31</td><td>Num2016</td><td>42</td></tr>\n",
       "\t<tr><td>AI49188</td><td>2011-02-19</td><td>Num2016</td><td>38</td></tr>\n",
       "\t<tr><td>WW63253</td><td>2011-01-20</td><td>Num2016</td><td>65</td></tr>\n",
       "\t<tr><td>HB64268</td><td>2011-02-03</td><td>Num2016</td><td>44</td></tr>\n",
       "</tbody>\n",
       "</table>\n"
      ],
      "text/latex": [
       "A data.frame: 10 × 4\n",
       "\\begin{tabular}{r|llll}\n",
       " Customer & Effective.To.Date & year & Months.Since.Last.Anything\\\\\n",
       " <chr> & <date> & <chr> & <int>\\\\\n",
       "\\hline\n",
       "\t BU79786 & 2011-02-24 & Num2015 & 32\\\\\n",
       "\t QZ44356 & 2011-01-31 & Num2015 & 13\\\\\n",
       "\t AI49188 & 2011-02-19 & Num2015 & 18\\\\\n",
       "\t WW63253 & 2011-01-20 & Num2015 & 18\\\\\n",
       "\t HB64268 & 2011-02-03 & Num2015 & 12\\\\\n",
       "\t BU79786 & 2011-02-24 & Num2016 &  5\\\\\n",
       "\t QZ44356 & 2011-01-31 & Num2016 & 42\\\\\n",
       "\t AI49188 & 2011-02-19 & Num2016 & 38\\\\\n",
       "\t WW63253 & 2011-01-20 & Num2016 & 65\\\\\n",
       "\t HB64268 & 2011-02-03 & Num2016 & 44\\\\\n",
       "\\end{tabular}\n"
      ],
      "text/markdown": [
       "\n",
       "A data.frame: 10 × 4\n",
       "\n",
       "| Customer &lt;chr&gt; | Effective.To.Date &lt;date&gt; | year &lt;chr&gt; | Months.Since.Last.Anything &lt;int&gt; |\n",
       "|---|---|---|---|\n",
       "| BU79786 | 2011-02-24 | Num2015 | 32 |\n",
       "| QZ44356 | 2011-01-31 | Num2015 | 13 |\n",
       "| AI49188 | 2011-02-19 | Num2015 | 18 |\n",
       "| WW63253 | 2011-01-20 | Num2015 | 18 |\n",
       "| HB64268 | 2011-02-03 | Num2015 | 12 |\n",
       "| BU79786 | 2011-02-24 | Num2016 |  5 |\n",
       "| QZ44356 | 2011-01-31 | Num2016 | 42 |\n",
       "| AI49188 | 2011-02-19 | Num2016 | 38 |\n",
       "| WW63253 | 2011-01-20 | Num2016 | 65 |\n",
       "| HB64268 | 2011-02-03 | Num2016 | 44 |\n",
       "\n"
      ],
      "text/plain": [
       "   Customer Effective.To.Date year    Months.Since.Last.Anything\n",
       "1  BU79786  2011-02-24        Num2015 32                        \n",
       "2  QZ44356  2011-01-31        Num2015 13                        \n",
       "3  AI49188  2011-02-19        Num2015 18                        \n",
       "4  WW63253  2011-01-20        Num2015 18                        \n",
       "5  HB64268  2011-02-03        Num2015 12                        \n",
       "6  BU79786  2011-02-24        Num2016  5                        \n",
       "7  QZ44356  2011-01-31        Num2016 42                        \n",
       "8  AI49188  2011-02-19        Num2016 38                        \n",
       "9  WW63253  2011-01-20        Num2016 65                        \n",
       "10 HB64268  2011-02-03        Num2016 44                        "
      ]
     },
     "metadata": {},
     "output_type": "display_data"
    }
   ],
   "source": [
    "head(clvDataTMP, 5)\n",
    "\n",
    "clvDataGATHER <- clvDataTMP %>% \n",
    "  gather(Num2015, Num2016, key = \"year\", value = \"Months.Since.Last.Anything\")\n",
    "\n",
    "clvDataGATHER\n",
    "\n",
    "#Look at the outputs above and below: You see that 'key' below contains \n",
    "#the names of the former columns Num2015 and Num2016 and \n",
    "#'Months.Since.Last.Anything' below contains\n",
    "#the values of the former columns 'Months.Since.Last.Claim' and \n",
    "#'Months.Since.Policy.Inception'"
   ]
  },
  {
   "cell_type": "markdown",
   "metadata": {
    "slideshow": {
     "slide_type": "subslide"
    }
   },
   "source": [
    "**Second problem**: An observation is distributed across multiple rows. Using [`spread()`](https://tidyr.tidyverse.org/reference/spread.html) (see also [examples](https://r4ds.had.co.nz/tidy-data.html#spreading-and-gathering)) help to solve that problem."
   ]
  },
  {
   "cell_type": "code",
   "execution_count": 39,
   "metadata": {
    "slideshow": {
     "slide_type": "subslide"
    }
   },
   "outputs": [
    {
     "data": {
      "text/html": [
       "<table>\n",
       "<caption>A data.frame: 10 × 4</caption>\n",
       "<thead>\n",
       "\t<tr><th scope=col>Customer</th><th scope=col>Effective.To.Date</th><th scope=col>year</th><th scope=col>Months.Since.Last.Anything</th></tr>\n",
       "\t<tr><th scope=col>&lt;chr&gt;</th><th scope=col>&lt;date&gt;</th><th scope=col>&lt;chr&gt;</th><th scope=col>&lt;int&gt;</th></tr>\n",
       "</thead>\n",
       "<tbody>\n",
       "\t<tr><td>BU79786</td><td>2011-02-24</td><td>Num2015</td><td>32</td></tr>\n",
       "\t<tr><td>QZ44356</td><td>2011-01-31</td><td>Num2015</td><td>13</td></tr>\n",
       "\t<tr><td>AI49188</td><td>2011-02-19</td><td>Num2015</td><td>18</td></tr>\n",
       "\t<tr><td>WW63253</td><td>2011-01-20</td><td>Num2015</td><td>18</td></tr>\n",
       "\t<tr><td>HB64268</td><td>2011-02-03</td><td>Num2015</td><td>12</td></tr>\n",
       "\t<tr><td>BU79786</td><td>2011-02-24</td><td>Num2016</td><td> 5</td></tr>\n",
       "\t<tr><td>QZ44356</td><td>2011-01-31</td><td>Num2016</td><td>42</td></tr>\n",
       "\t<tr><td>AI49188</td><td>2011-02-19</td><td>Num2016</td><td>38</td></tr>\n",
       "\t<tr><td>WW63253</td><td>2011-01-20</td><td>Num2016</td><td>65</td></tr>\n",
       "\t<tr><td>HB64268</td><td>2011-02-03</td><td>Num2016</td><td>44</td></tr>\n",
       "</tbody>\n",
       "</table>\n"
      ],
      "text/latex": [
       "A data.frame: 10 × 4\n",
       "\\begin{tabular}{r|llll}\n",
       " Customer & Effective.To.Date & year & Months.Since.Last.Anything\\\\\n",
       " <chr> & <date> & <chr> & <int>\\\\\n",
       "\\hline\n",
       "\t BU79786 & 2011-02-24 & Num2015 & 32\\\\\n",
       "\t QZ44356 & 2011-01-31 & Num2015 & 13\\\\\n",
       "\t AI49188 & 2011-02-19 & Num2015 & 18\\\\\n",
       "\t WW63253 & 2011-01-20 & Num2015 & 18\\\\\n",
       "\t HB64268 & 2011-02-03 & Num2015 & 12\\\\\n",
       "\t BU79786 & 2011-02-24 & Num2016 &  5\\\\\n",
       "\t QZ44356 & 2011-01-31 & Num2016 & 42\\\\\n",
       "\t AI49188 & 2011-02-19 & Num2016 & 38\\\\\n",
       "\t WW63253 & 2011-01-20 & Num2016 & 65\\\\\n",
       "\t HB64268 & 2011-02-03 & Num2016 & 44\\\\\n",
       "\\end{tabular}\n"
      ],
      "text/markdown": [
       "\n",
       "A data.frame: 10 × 4\n",
       "\n",
       "| Customer &lt;chr&gt; | Effective.To.Date &lt;date&gt; | year &lt;chr&gt; | Months.Since.Last.Anything &lt;int&gt; |\n",
       "|---|---|---|---|\n",
       "| BU79786 | 2011-02-24 | Num2015 | 32 |\n",
       "| QZ44356 | 2011-01-31 | Num2015 | 13 |\n",
       "| AI49188 | 2011-02-19 | Num2015 | 18 |\n",
       "| WW63253 | 2011-01-20 | Num2015 | 18 |\n",
       "| HB64268 | 2011-02-03 | Num2015 | 12 |\n",
       "| BU79786 | 2011-02-24 | Num2016 |  5 |\n",
       "| QZ44356 | 2011-01-31 | Num2016 | 42 |\n",
       "| AI49188 | 2011-02-19 | Num2016 | 38 |\n",
       "| WW63253 | 2011-01-20 | Num2016 | 65 |\n",
       "| HB64268 | 2011-02-03 | Num2016 | 44 |\n",
       "\n"
      ],
      "text/plain": [
       "   Customer Effective.To.Date year    Months.Since.Last.Anything\n",
       "1  BU79786  2011-02-24        Num2015 32                        \n",
       "2  QZ44356  2011-01-31        Num2015 13                        \n",
       "3  AI49188  2011-02-19        Num2015 18                        \n",
       "4  WW63253  2011-01-20        Num2015 18                        \n",
       "5  HB64268  2011-02-03        Num2015 12                        \n",
       "6  BU79786  2011-02-24        Num2016  5                        \n",
       "7  QZ44356  2011-01-31        Num2016 42                        \n",
       "8  AI49188  2011-02-19        Num2016 38                        \n",
       "9  WW63253  2011-01-20        Num2016 65                        \n",
       "10 HB64268  2011-02-03        Num2016 44                        "
      ]
     },
     "metadata": {},
     "output_type": "display_data"
    },
    {
     "data": {
      "text/html": [
       "<table>\n",
       "<caption>A data.frame: 5 × 4</caption>\n",
       "<thead>\n",
       "\t<tr><th scope=col>Customer</th><th scope=col>Effective.To.Date</th><th scope=col>Num2015</th><th scope=col>Num2016</th></tr>\n",
       "\t<tr><th scope=col>&lt;chr&gt;</th><th scope=col>&lt;date&gt;</th><th scope=col>&lt;int&gt;</th><th scope=col>&lt;int&gt;</th></tr>\n",
       "</thead>\n",
       "<tbody>\n",
       "\t<tr><td>AI49188</td><td>2011-02-19</td><td>18</td><td>38</td></tr>\n",
       "\t<tr><td>BU79786</td><td>2011-02-24</td><td>32</td><td> 5</td></tr>\n",
       "\t<tr><td>HB64268</td><td>2011-02-03</td><td>12</td><td>44</td></tr>\n",
       "\t<tr><td>QZ44356</td><td>2011-01-31</td><td>13</td><td>42</td></tr>\n",
       "\t<tr><td>WW63253</td><td>2011-01-20</td><td>18</td><td>65</td></tr>\n",
       "</tbody>\n",
       "</table>\n"
      ],
      "text/latex": [
       "A data.frame: 5 × 4\n",
       "\\begin{tabular}{r|llll}\n",
       " Customer & Effective.To.Date & Num2015 & Num2016\\\\\n",
       " <chr> & <date> & <int> & <int>\\\\\n",
       "\\hline\n",
       "\t AI49188 & 2011-02-19 & 18 & 38\\\\\n",
       "\t BU79786 & 2011-02-24 & 32 &  5\\\\\n",
       "\t HB64268 & 2011-02-03 & 12 & 44\\\\\n",
       "\t QZ44356 & 2011-01-31 & 13 & 42\\\\\n",
       "\t WW63253 & 2011-01-20 & 18 & 65\\\\\n",
       "\\end{tabular}\n"
      ],
      "text/markdown": [
       "\n",
       "A data.frame: 5 × 4\n",
       "\n",
       "| Customer &lt;chr&gt; | Effective.To.Date &lt;date&gt; | Num2015 &lt;int&gt; | Num2016 &lt;int&gt; |\n",
       "|---|---|---|---|\n",
       "| AI49188 | 2011-02-19 | 18 | 38 |\n",
       "| BU79786 | 2011-02-24 | 32 |  5 |\n",
       "| HB64268 | 2011-02-03 | 12 | 44 |\n",
       "| QZ44356 | 2011-01-31 | 13 | 42 |\n",
       "| WW63253 | 2011-01-20 | 18 | 65 |\n",
       "\n"
      ],
      "text/plain": [
       "  Customer Effective.To.Date Num2015 Num2016\n",
       "1 AI49188  2011-02-19        18      38     \n",
       "2 BU79786  2011-02-24        32       5     \n",
       "3 HB64268  2011-02-03        12      44     \n",
       "4 QZ44356  2011-01-31        13      42     \n",
       "5 WW63253  2011-01-20        18      65     "
      ]
     },
     "metadata": {},
     "output_type": "display_data"
    }
   ],
   "source": [
    "clvDataGATHER\n",
    "\n",
    "clvDataSPREAD <- clvDataGATHER %>% \n",
    "      spread(key = year, value = Months.Since.Last.Anything) #%>%\n",
    "      #rename(Months.Since.Last.Claim = Num2015, \n",
    "      #       Months.Since.Policy.Inception = Num2016)\n",
    "\n",
    "\n",
    "clvDataSPREAD\n",
    "\n",
    "#Look at the outputs above and below: You see that the columns\n",
    "#'Months.Since.Last.Claim' and 'Months.Since.Policy.Inception' \n",
    "#below now contain the according values from the former \n",
    "#'key' and 'Months.Since.Last.Anything' columns pairs"
   ]
  },
  {
   "cell_type": "markdown",
   "metadata": {
    "slideshow": {
     "slide_type": "slide"
    }
   },
   "source": [
    "## Filter by value\n",
    "\n",
    "Determine subset of rows, e.g.:"
   ]
  },
  {
   "cell_type": "code",
   "execution_count": 40,
   "metadata": {
    "ExecuteTime": {
     "end_time": "2017-11-19T14:30:23.145000Z",
     "start_time": "2017-11-19T14:30:23.042Z"
    },
    "slideshow": {
     "slide_type": "subslide"
    }
   },
   "outputs": [
    {
     "data": {
      "text/html": [
       "<table>\n",
       "<caption>A data.frame: 6 × 25</caption>\n",
       "<thead>\n",
       "\t<tr><th></th><th scope=col>Customer</th><th scope=col>State</th><th scope=col>Customer.Lifetime.Value</th><th scope=col>Response</th><th scope=col>Coverage</th><th scope=col>Education</th><th scope=col>Effective.To.Date</th><th scope=col>EmploymentStatus</th><th scope=col>Gender</th><th scope=col>Income</th><th scope=col>...</th><th scope=col>Number.of.Open.Complaints</th><th scope=col>Number.of.Policies</th><th scope=col>Policy.Type</th><th scope=col>Policy</th><th scope=col>Renew.Offer.Type</th><th scope=col>Sales.Channel</th><th scope=col>Total.Claim.Amount</th><th scope=col>Vehicle.Class</th><th scope=col>Vehicle.Size</th><th scope=col>incomeCat</th></tr>\n",
       "\t<tr><th></th><th scope=col>&lt;chr&gt;</th><th scope=col>&lt;chr&gt;</th><th scope=col>&lt;dbl&gt;</th><th scope=col>&lt;chr&gt;</th><th scope=col>&lt;chr&gt;</th><th scope=col>&lt;chr&gt;</th><th scope=col>&lt;date&gt;</th><th scope=col>&lt;chr&gt;</th><th scope=col>&lt;chr&gt;</th><th scope=col>&lt;int&gt;</th><th scope=col>...</th><th scope=col>&lt;int&gt;</th><th scope=col>&lt;int&gt;</th><th scope=col>&lt;chr&gt;</th><th scope=col>&lt;chr&gt;</th><th scope=col>&lt;chr&gt;</th><th scope=col>&lt;chr&gt;</th><th scope=col>&lt;dbl&gt;</th><th scope=col>&lt;chr&gt;</th><th scope=col>&lt;chr&gt;</th><th scope=col>&lt;chr&gt;</th></tr>\n",
       "</thead>\n",
       "<tbody>\n",
       "\t<tr><th scope=row>QZ44356</th><td>QZ44356</td><td>Arizona   </td><td> 6979.536</td><td>No </td><td>Extended</td><td>Bachelor</td><td>2011-01-31</td><td>Unemployed</td><td>F</td><td>    0</td><td>...</td><td>0</td><td>8</td><td>Personal Auto </td><td>Personal L3 </td><td>Offer3</td><td>Agent      </td><td>1131.4649</td><td>Four-Door Car</td><td>Medsize</td><td>Low </td></tr>\n",
       "\t<tr><th scope=row>AI49188</th><td>AI49188</td><td>Nevada    </td><td>12887.432</td><td>No </td><td>Premium </td><td>Bachelor</td><td>2011-02-19</td><td>Employed  </td><td>F</td><td>48767</td><td>...</td><td>0</td><td>2</td><td>Personal Auto </td><td>Personal L3 </td><td>Offer1</td><td>Agent      </td><td> 566.4722</td><td>Two-Door Car </td><td>Medsize</td><td>Med </td></tr>\n",
       "\t<tr><th scope=row>WW63253</th><td>WW63253</td><td>California</td><td> 7645.862</td><td>No </td><td>Basic   </td><td>Bachelor</td><td>2011-01-20</td><td>Unemployed</td><td>M</td><td>    0</td><td>...</td><td>0</td><td>7</td><td>Corporate Auto</td><td>Corporate L2</td><td>Offer1</td><td>Call Center</td><td> 529.8813</td><td>SUV          </td><td>Medsize</td><td>Low </td></tr>\n",
       "\t<tr><th scope=row>HB64268</th><td>HB64268</td><td>Washington</td><td> 2813.693</td><td>No </td><td>Basic   </td><td>Bachelor</td><td>2011-02-03</td><td>Employed  </td><td>M</td><td>43836</td><td>...</td><td>0</td><td>1</td><td>Personal Auto </td><td>Personal L1 </td><td>Offer1</td><td>Agent      </td><td> 138.1309</td><td>Four-Door Car</td><td>Medsize</td><td>Med </td></tr>\n",
       "\t<tr><th scope=row>OC83172</th><td>OC83172</td><td>Oregon    </td><td> 8256.298</td><td>Yes</td><td>Basic   </td><td>Bachelor</td><td>2011-01-25</td><td>Employed  </td><td>F</td><td>62902</td><td>...</td><td>0</td><td>2</td><td>Personal Auto </td><td>Personal L3 </td><td>Offer2</td><td>Web        </td><td> 159.3830</td><td>Two-Door Car </td><td>Medsize</td><td>High</td></tr>\n",
       "\t<tr><th scope=row>SX51350</th><td>SX51350</td><td>California</td><td> 4738.992</td><td>No </td><td>Basic   </td><td>College </td><td>2011-02-21</td><td>Unemployed</td><td>M</td><td>    0</td><td>...</td><td>0</td><td>3</td><td>Personal Auto </td><td>Personal L3 </td><td>Offer1</td><td>Agent      </td><td> 482.4000</td><td>Four-Door Car</td><td>Small  </td><td>Low </td></tr>\n",
       "</tbody>\n",
       "</table>\n"
      ],
      "text/latex": [
       "A data.frame: 6 × 25\n",
       "\\begin{tabular}{r|lllllllllllllllllllllllll}\n",
       "  & Customer & State & Customer.Lifetime.Value & Response & Coverage & Education & Effective.To.Date & EmploymentStatus & Gender & Income & Location.Code & Marital.Status & Monthly.Premium.Auto & Months.Since.Last.Claim & Months.Since.Policy.Inception & Number.of.Open.Complaints & Number.of.Policies & Policy.Type & Policy & Renew.Offer.Type & Sales.Channel & Total.Claim.Amount & Vehicle.Class & Vehicle.Size & incomeCat\\\\\n",
       "  & <chr> & <chr> & <dbl> & <chr> & <chr> & <chr> & <date> & <chr> & <chr> & <int> & <chr> & <chr> & <int> & <int> & <int> & <int> & <int> & <chr> & <chr> & <chr> & <chr> & <dbl> & <chr> & <chr> & <chr>\\\\\n",
       "\\hline\n",
       "\tQZ44356 & QZ44356 & Arizona    &  6979.536 & No  & Extended & Bachelor & 2011-01-31 & Unemployed & F &     0 & Suburban & Single  &  94 & 13 & 42 & 0 & 8 & Personal Auto  & Personal L3  & Offer3 & Agent       & 1131.4649 & Four-Door Car & Medsize & Low \\\\\n",
       "\tAI49188 & AI49188 & Nevada     & 12887.432 & No  & Premium  & Bachelor & 2011-02-19 & Employed   & F & 48767 & Suburban & Married & 108 & 18 & 38 & 0 & 2 & Personal Auto  & Personal L3  & Offer1 & Agent       &  566.4722 & Two-Door Car  & Medsize & Med \\\\\n",
       "\tWW63253 & WW63253 & California &  7645.862 & No  & Basic    & Bachelor & 2011-01-20 & Unemployed & M &     0 & Suburban & Married & 106 & 18 & 65 & 0 & 7 & Corporate Auto & Corporate L2 & Offer1 & Call Center &  529.8813 & SUV           & Medsize & Low \\\\\n",
       "\tHB64268 & HB64268 & Washington &  2813.693 & No  & Basic    & Bachelor & 2011-02-03 & Employed   & M & 43836 & Rural    & Single  &  73 & 12 & 44 & 0 & 1 & Personal Auto  & Personal L1  & Offer1 & Agent       &  138.1309 & Four-Door Car & Medsize & Med \\\\\n",
       "\tOC83172 & OC83172 & Oregon     &  8256.298 & Yes & Basic    & Bachelor & 2011-01-25 & Employed   & F & 62902 & Rural    & Married &  69 & 14 & 94 & 0 & 2 & Personal Auto  & Personal L3  & Offer2 & Web         &  159.3830 & Two-Door Car  & Medsize & High\\\\\n",
       "\tSX51350 & SX51350 & California &  4738.992 & No  & Basic    & College  & 2011-02-21 & Unemployed & M &     0 & Suburban & Single  &  67 & 23 &  5 & 0 & 3 & Personal Auto  & Personal L3  & Offer1 & Agent       &  482.4000 & Four-Door Car & Small   & Low \\\\\n",
       "\\end{tabular}\n"
      ],
      "text/markdown": [
       "\n",
       "A data.frame: 6 × 25\n",
       "\n",
       "| <!--/--> | Customer &lt;chr&gt; | State &lt;chr&gt; | Customer.Lifetime.Value &lt;dbl&gt; | Response &lt;chr&gt; | Coverage &lt;chr&gt; | Education &lt;chr&gt; | Effective.To.Date &lt;date&gt; | EmploymentStatus &lt;chr&gt; | Gender &lt;chr&gt; | Income &lt;int&gt; | ... ... | Number.of.Open.Complaints &lt;int&gt; | Number.of.Policies &lt;int&gt; | Policy.Type &lt;chr&gt; | Policy &lt;chr&gt; | Renew.Offer.Type &lt;chr&gt; | Sales.Channel &lt;chr&gt; | Total.Claim.Amount &lt;dbl&gt; | Vehicle.Class &lt;chr&gt; | Vehicle.Size &lt;chr&gt; | incomeCat &lt;chr&gt; |\n",
       "|---|---|---|---|---|---|---|---|---|---|---|---|---|---|---|---|---|---|---|---|---|---|\n",
       "| QZ44356 | QZ44356 | Arizona    |  6979.536 | No  | Extended | Bachelor | 2011-01-31 | Unemployed | F |     0 | ... | 0 | 8 | Personal Auto  | Personal L3  | Offer3 | Agent       | 1131.4649 | Four-Door Car | Medsize | Low  |\n",
       "| AI49188 | AI49188 | Nevada     | 12887.432 | No  | Premium  | Bachelor | 2011-02-19 | Employed   | F | 48767 | ... | 0 | 2 | Personal Auto  | Personal L3  | Offer1 | Agent       |  566.4722 | Two-Door Car  | Medsize | Med  |\n",
       "| WW63253 | WW63253 | California |  7645.862 | No  | Basic    | Bachelor | 2011-01-20 | Unemployed | M |     0 | ... | 0 | 7 | Corporate Auto | Corporate L2 | Offer1 | Call Center |  529.8813 | SUV           | Medsize | Low  |\n",
       "| HB64268 | HB64268 | Washington |  2813.693 | No  | Basic    | Bachelor | 2011-02-03 | Employed   | M | 43836 | ... | 0 | 1 | Personal Auto  | Personal L1  | Offer1 | Agent       |  138.1309 | Four-Door Car | Medsize | Med  |\n",
       "| OC83172 | OC83172 | Oregon     |  8256.298 | Yes | Basic    | Bachelor | 2011-01-25 | Employed   | F | 62902 | ... | 0 | 2 | Personal Auto  | Personal L3  | Offer2 | Web         |  159.3830 | Two-Door Car  | Medsize | High |\n",
       "| SX51350 | SX51350 | California |  4738.992 | No  | Basic    | College  | 2011-02-21 | Unemployed | M |     0 | ... | 0 | 3 | Personal Auto  | Personal L3  | Offer1 | Agent       |  482.4000 | Four-Door Car | Small   | Low  |\n",
       "\n"
      ],
      "text/plain": [
       "        Customer State      Customer.Lifetime.Value Response Coverage Education\n",
       "QZ44356 QZ44356  Arizona     6979.536               No       Extended Bachelor \n",
       "AI49188 AI49188  Nevada     12887.432               No       Premium  Bachelor \n",
       "WW63253 WW63253  California  7645.862               No       Basic    Bachelor \n",
       "HB64268 HB64268  Washington  2813.693               No       Basic    Bachelor \n",
       "OC83172 OC83172  Oregon      8256.298               Yes      Basic    Bachelor \n",
       "SX51350 SX51350  California  4738.992               No       Basic    College  \n",
       "        Effective.To.Date EmploymentStatus Gender Income ...\n",
       "QZ44356 2011-01-31        Unemployed       F          0  ...\n",
       "AI49188 2011-02-19        Employed         F      48767  ...\n",
       "WW63253 2011-01-20        Unemployed       M          0  ...\n",
       "HB64268 2011-02-03        Employed         M      43836  ...\n",
       "OC83172 2011-01-25        Employed         F      62902  ...\n",
       "SX51350 2011-02-21        Unemployed       M          0  ...\n",
       "        Number.of.Open.Complaints Number.of.Policies Policy.Type   \n",
       "QZ44356 0                         8                  Personal Auto \n",
       "AI49188 0                         2                  Personal Auto \n",
       "WW63253 0                         7                  Corporate Auto\n",
       "HB64268 0                         1                  Personal Auto \n",
       "OC83172 0                         2                  Personal Auto \n",
       "SX51350 0                         3                  Personal Auto \n",
       "        Policy       Renew.Offer.Type Sales.Channel Total.Claim.Amount\n",
       "QZ44356 Personal L3  Offer3           Agent         1131.4649         \n",
       "AI49188 Personal L3  Offer1           Agent          566.4722         \n",
       "WW63253 Corporate L2 Offer1           Call Center    529.8813         \n",
       "HB64268 Personal L1  Offer1           Agent          138.1309         \n",
       "OC83172 Personal L3  Offer2           Web            159.3830         \n",
       "SX51350 Personal L3  Offer1           Agent          482.4000         \n",
       "        Vehicle.Class Vehicle.Size incomeCat\n",
       "QZ44356 Four-Door Car Medsize      Low      \n",
       "AI49188 Two-Door Car  Medsize      Med      \n",
       "WW63253 SUV           Medsize      Low      \n",
       "HB64268 Four-Door Car Medsize      Med      \n",
       "OC83172 Two-Door Car  Medsize      High     \n",
       "SX51350 Four-Door Car Small        Low      "
      ]
     },
     "metadata": {},
     "output_type": "display_data"
    }
   ],
   "source": [
    "head(clvData[(clvData$Months.Since.Last.Claim > 10) & \n",
    "        (clvData$Months.Since.Policy.Inception > 7 | clvData$Number.of.Policies > 2),])\n"
   ]
  },
  {
   "cell_type": "code",
   "execution_count": 41,
   "metadata": {
    "slideshow": {
     "slide_type": "subslide"
    }
   },
   "outputs": [
    {
     "name": "stdout",
     "output_type": "stream",
     "text": [
      "\n",
      "#Tidyverse syntax:\n"
     ]
    },
    {
     "data": {
      "text/html": [
       "<table>\n",
       "<caption>A data.frame: 6 × 25</caption>\n",
       "<thead>\n",
       "\t<tr><th scope=col>Customer</th><th scope=col>State</th><th scope=col>Customer.Lifetime.Value</th><th scope=col>Response</th><th scope=col>Coverage</th><th scope=col>Education</th><th scope=col>Effective.To.Date</th><th scope=col>EmploymentStatus</th><th scope=col>Gender</th><th scope=col>Income</th><th scope=col>...</th><th scope=col>Number.of.Open.Complaints</th><th scope=col>Number.of.Policies</th><th scope=col>Policy.Type</th><th scope=col>Policy</th><th scope=col>Renew.Offer.Type</th><th scope=col>Sales.Channel</th><th scope=col>Total.Claim.Amount</th><th scope=col>Vehicle.Class</th><th scope=col>Vehicle.Size</th><th scope=col>incomeCat</th></tr>\n",
       "\t<tr><th scope=col>&lt;chr&gt;</th><th scope=col>&lt;chr&gt;</th><th scope=col>&lt;dbl&gt;</th><th scope=col>&lt;chr&gt;</th><th scope=col>&lt;chr&gt;</th><th scope=col>&lt;chr&gt;</th><th scope=col>&lt;date&gt;</th><th scope=col>&lt;chr&gt;</th><th scope=col>&lt;chr&gt;</th><th scope=col>&lt;int&gt;</th><th scope=col>...</th><th scope=col>&lt;int&gt;</th><th scope=col>&lt;int&gt;</th><th scope=col>&lt;chr&gt;</th><th scope=col>&lt;chr&gt;</th><th scope=col>&lt;chr&gt;</th><th scope=col>&lt;chr&gt;</th><th scope=col>&lt;dbl&gt;</th><th scope=col>&lt;chr&gt;</th><th scope=col>&lt;chr&gt;</th><th scope=col>&lt;chr&gt;</th></tr>\n",
       "</thead>\n",
       "<tbody>\n",
       "\t<tr><td>QZ44356</td><td>Arizona   </td><td> 6979.536</td><td>No </td><td>Extended</td><td>Bachelor</td><td>2011-01-31</td><td>Unemployed</td><td>F</td><td>    0</td><td>...</td><td>0</td><td>8</td><td>Personal Auto </td><td>Personal L3 </td><td>Offer3</td><td>Agent      </td><td>1131.4649</td><td>Four-Door Car</td><td>Medsize</td><td>Low </td></tr>\n",
       "\t<tr><td>AI49188</td><td>Nevada    </td><td>12887.432</td><td>No </td><td>Premium </td><td>Bachelor</td><td>2011-02-19</td><td>Employed  </td><td>F</td><td>48767</td><td>...</td><td>0</td><td>2</td><td>Personal Auto </td><td>Personal L3 </td><td>Offer1</td><td>Agent      </td><td> 566.4722</td><td>Two-Door Car </td><td>Medsize</td><td>Med </td></tr>\n",
       "\t<tr><td>WW63253</td><td>California</td><td> 7645.862</td><td>No </td><td>Basic   </td><td>Bachelor</td><td>2011-01-20</td><td>Unemployed</td><td>M</td><td>    0</td><td>...</td><td>0</td><td>7</td><td>Corporate Auto</td><td>Corporate L2</td><td>Offer1</td><td>Call Center</td><td> 529.8813</td><td>SUV          </td><td>Medsize</td><td>Low </td></tr>\n",
       "\t<tr><td>HB64268</td><td>Washington</td><td> 2813.693</td><td>No </td><td>Basic   </td><td>Bachelor</td><td>2011-02-03</td><td>Employed  </td><td>M</td><td>43836</td><td>...</td><td>0</td><td>1</td><td>Personal Auto </td><td>Personal L1 </td><td>Offer1</td><td>Agent      </td><td> 138.1309</td><td>Four-Door Car</td><td>Medsize</td><td>Med </td></tr>\n",
       "\t<tr><td>OC83172</td><td>Oregon    </td><td> 8256.298</td><td>Yes</td><td>Basic   </td><td>Bachelor</td><td>2011-01-25</td><td>Employed  </td><td>F</td><td>62902</td><td>...</td><td>0</td><td>2</td><td>Personal Auto </td><td>Personal L3 </td><td>Offer2</td><td>Web        </td><td> 159.3830</td><td>Two-Door Car </td><td>Medsize</td><td>High</td></tr>\n",
       "\t<tr><td>SX51350</td><td>California</td><td> 4738.992</td><td>No </td><td>Basic   </td><td>College </td><td>2011-02-21</td><td>Unemployed</td><td>M</td><td>    0</td><td>...</td><td>0</td><td>3</td><td>Personal Auto </td><td>Personal L3 </td><td>Offer1</td><td>Agent      </td><td> 482.4000</td><td>Four-Door Car</td><td>Small  </td><td>Low </td></tr>\n",
       "</tbody>\n",
       "</table>\n"
      ],
      "text/latex": [
       "A data.frame: 6 × 25\n",
       "\\begin{tabular}{r|lllllllllllllllllllllllll}\n",
       " Customer & State & Customer.Lifetime.Value & Response & Coverage & Education & Effective.To.Date & EmploymentStatus & Gender & Income & Location.Code & Marital.Status & Monthly.Premium.Auto & Months.Since.Last.Claim & Months.Since.Policy.Inception & Number.of.Open.Complaints & Number.of.Policies & Policy.Type & Policy & Renew.Offer.Type & Sales.Channel & Total.Claim.Amount & Vehicle.Class & Vehicle.Size & incomeCat\\\\\n",
       " <chr> & <chr> & <dbl> & <chr> & <chr> & <chr> & <date> & <chr> & <chr> & <int> & <chr> & <chr> & <int> & <int> & <int> & <int> & <int> & <chr> & <chr> & <chr> & <chr> & <dbl> & <chr> & <chr> & <chr>\\\\\n",
       "\\hline\n",
       "\t QZ44356 & Arizona    &  6979.536 & No  & Extended & Bachelor & 2011-01-31 & Unemployed & F &     0 & Suburban & Single  &  94 & 13 & 42 & 0 & 8 & Personal Auto  & Personal L3  & Offer3 & Agent       & 1131.4649 & Four-Door Car & Medsize & Low \\\\\n",
       "\t AI49188 & Nevada     & 12887.432 & No  & Premium  & Bachelor & 2011-02-19 & Employed   & F & 48767 & Suburban & Married & 108 & 18 & 38 & 0 & 2 & Personal Auto  & Personal L3  & Offer1 & Agent       &  566.4722 & Two-Door Car  & Medsize & Med \\\\\n",
       "\t WW63253 & California &  7645.862 & No  & Basic    & Bachelor & 2011-01-20 & Unemployed & M &     0 & Suburban & Married & 106 & 18 & 65 & 0 & 7 & Corporate Auto & Corporate L2 & Offer1 & Call Center &  529.8813 & SUV           & Medsize & Low \\\\\n",
       "\t HB64268 & Washington &  2813.693 & No  & Basic    & Bachelor & 2011-02-03 & Employed   & M & 43836 & Rural    & Single  &  73 & 12 & 44 & 0 & 1 & Personal Auto  & Personal L1  & Offer1 & Agent       &  138.1309 & Four-Door Car & Medsize & Med \\\\\n",
       "\t OC83172 & Oregon     &  8256.298 & Yes & Basic    & Bachelor & 2011-01-25 & Employed   & F & 62902 & Rural    & Married &  69 & 14 & 94 & 0 & 2 & Personal Auto  & Personal L3  & Offer2 & Web         &  159.3830 & Two-Door Car  & Medsize & High\\\\\n",
       "\t SX51350 & California &  4738.992 & No  & Basic    & College  & 2011-02-21 & Unemployed & M &     0 & Suburban & Single  &  67 & 23 &  5 & 0 & 3 & Personal Auto  & Personal L3  & Offer1 & Agent       &  482.4000 & Four-Door Car & Small   & Low \\\\\n",
       "\\end{tabular}\n"
      ],
      "text/markdown": [
       "\n",
       "A data.frame: 6 × 25\n",
       "\n",
       "| Customer &lt;chr&gt; | State &lt;chr&gt; | Customer.Lifetime.Value &lt;dbl&gt; | Response &lt;chr&gt; | Coverage &lt;chr&gt; | Education &lt;chr&gt; | Effective.To.Date &lt;date&gt; | EmploymentStatus &lt;chr&gt; | Gender &lt;chr&gt; | Income &lt;int&gt; | ... ... | Number.of.Open.Complaints &lt;int&gt; | Number.of.Policies &lt;int&gt; | Policy.Type &lt;chr&gt; | Policy &lt;chr&gt; | Renew.Offer.Type &lt;chr&gt; | Sales.Channel &lt;chr&gt; | Total.Claim.Amount &lt;dbl&gt; | Vehicle.Class &lt;chr&gt; | Vehicle.Size &lt;chr&gt; | incomeCat &lt;chr&gt; |\n",
       "|---|---|---|---|---|---|---|---|---|---|---|---|---|---|---|---|---|---|---|---|---|\n",
       "| QZ44356 | Arizona    |  6979.536 | No  | Extended | Bachelor | 2011-01-31 | Unemployed | F |     0 | ... | 0 | 8 | Personal Auto  | Personal L3  | Offer3 | Agent       | 1131.4649 | Four-Door Car | Medsize | Low  |\n",
       "| AI49188 | Nevada     | 12887.432 | No  | Premium  | Bachelor | 2011-02-19 | Employed   | F | 48767 | ... | 0 | 2 | Personal Auto  | Personal L3  | Offer1 | Agent       |  566.4722 | Two-Door Car  | Medsize | Med  |\n",
       "| WW63253 | California |  7645.862 | No  | Basic    | Bachelor | 2011-01-20 | Unemployed | M |     0 | ... | 0 | 7 | Corporate Auto | Corporate L2 | Offer1 | Call Center |  529.8813 | SUV           | Medsize | Low  |\n",
       "| HB64268 | Washington |  2813.693 | No  | Basic    | Bachelor | 2011-02-03 | Employed   | M | 43836 | ... | 0 | 1 | Personal Auto  | Personal L1  | Offer1 | Agent       |  138.1309 | Four-Door Car | Medsize | Med  |\n",
       "| OC83172 | Oregon     |  8256.298 | Yes | Basic    | Bachelor | 2011-01-25 | Employed   | F | 62902 | ... | 0 | 2 | Personal Auto  | Personal L3  | Offer2 | Web         |  159.3830 | Two-Door Car  | Medsize | High |\n",
       "| SX51350 | California |  4738.992 | No  | Basic    | College  | 2011-02-21 | Unemployed | M |     0 | ... | 0 | 3 | Personal Auto  | Personal L3  | Offer1 | Agent       |  482.4000 | Four-Door Car | Small   | Low  |\n",
       "\n"
      ],
      "text/plain": [
       "  Customer State      Customer.Lifetime.Value Response Coverage Education\n",
       "1 QZ44356  Arizona     6979.536               No       Extended Bachelor \n",
       "2 AI49188  Nevada     12887.432               No       Premium  Bachelor \n",
       "3 WW63253  California  7645.862               No       Basic    Bachelor \n",
       "4 HB64268  Washington  2813.693               No       Basic    Bachelor \n",
       "5 OC83172  Oregon      8256.298               Yes      Basic    Bachelor \n",
       "6 SX51350  California  4738.992               No       Basic    College  \n",
       "  Effective.To.Date EmploymentStatus Gender Income ...\n",
       "1 2011-01-31        Unemployed       F          0  ...\n",
       "2 2011-02-19        Employed         F      48767  ...\n",
       "3 2011-01-20        Unemployed       M          0  ...\n",
       "4 2011-02-03        Employed         M      43836  ...\n",
       "5 2011-01-25        Employed         F      62902  ...\n",
       "6 2011-02-21        Unemployed       M          0  ...\n",
       "  Number.of.Open.Complaints Number.of.Policies Policy.Type    Policy      \n",
       "1 0                         8                  Personal Auto  Personal L3 \n",
       "2 0                         2                  Personal Auto  Personal L3 \n",
       "3 0                         7                  Corporate Auto Corporate L2\n",
       "4 0                         1                  Personal Auto  Personal L1 \n",
       "5 0                         2                  Personal Auto  Personal L3 \n",
       "6 0                         3                  Personal Auto  Personal L3 \n",
       "  Renew.Offer.Type Sales.Channel Total.Claim.Amount Vehicle.Class Vehicle.Size\n",
       "1 Offer3           Agent         1131.4649          Four-Door Car Medsize     \n",
       "2 Offer1           Agent          566.4722          Two-Door Car  Medsize     \n",
       "3 Offer1           Call Center    529.8813          SUV           Medsize     \n",
       "4 Offer1           Agent          138.1309          Four-Door Car Medsize     \n",
       "5 Offer2           Web            159.3830          Two-Door Car  Medsize     \n",
       "6 Offer1           Agent          482.4000          Four-Door Car Small       \n",
       "  incomeCat\n",
       "1 Low      \n",
       "2 Med      \n",
       "3 Low      \n",
       "4 Med      \n",
       "5 High     \n",
       "6 Low      "
      ]
     },
     "metadata": {},
     "output_type": "display_data"
    }
   ],
   "source": [
    "cat(\"\\n#Tidyverse syntax:\\n\")\n",
    "clvData %>%\n",
    "    filter(Months.Since.Last.Claim > 10, \n",
    "           Months.Since.Policy.Inception > 7 | Number.of.Policies > 2) %>%\n",
    "    do(head(.))\n"
   ]
  },
  {
   "cell_type": "markdown",
   "metadata": {
    "slideshow": {
     "slide_type": "subslide"
    }
   },
   "source": [
    "\n",
    "Next, we see a new function called\n",
    "\n",
    "* [`replace('col', 'cond', 'value')`](https://www.rdocumentation.org/packages/base/versions/3.6.1/topics/replace) replaces 'col'-column with 'value' for all rows which condition 'cond' is true\n",
    "\n",
    "For example: clip all *Income*-values *>90000* to *90000*:\n"
   ]
  },
  {
   "cell_type": "code",
   "execution_count": 42,
   "metadata": {
    "ExecuteTime": {
     "end_time": "2017-11-19T14:30:33.949000Z",
     "start_time": "2017-11-19T14:30:33.878Z"
    },
    "slideshow": {
     "slide_type": "subslide"
    }
   },
   "outputs": [
    {
     "name": "stdout",
     "output_type": "stream",
     "text": [
      "row number before: 479 \n",
      "row number after: 0 \n"
     ]
    }
   ],
   "source": [
    "clvDataTmp <- clvData\n",
    "\n",
    "cat(\"row number before:\", nrow(clvDataTmp[clvDataTmp$Income > 90000,]),\"\\n\")\n",
    "\n",
    "clvDataTmp$Income[clvDataTmp$Income > 90000]  <- 90000\n",
    "\n",
    "cat(\"row number after:\", nrow(clvDataTmp[clvDataTmp$Income > 90000,]),\"\\n\")\n"
   ]
  },
  {
   "cell_type": "code",
   "execution_count": 43,
   "metadata": {
    "slideshow": {
     "slide_type": "subslide"
    }
   },
   "outputs": [
    {
     "name": "stdout",
     "output_type": "stream",
     "text": [
      "\n",
      "#Tidyverse syntax:\n",
      "row number before: \n"
     ]
    },
    {
     "data": {
      "text/html": [
       "479"
      ],
      "text/latex": [
       "479"
      ],
      "text/markdown": [
       "479"
      ],
      "text/plain": [
       "[1] 479"
      ]
     },
     "metadata": {},
     "output_type": "display_data"
    },
    {
     "name": "stdout",
     "output_type": "stream",
     "text": [
      "row number after: \n"
     ]
    },
    {
     "data": {
      "text/html": [
       "0"
      ],
      "text/latex": [
       "0"
      ],
      "text/markdown": [
       "0"
      ],
      "text/plain": [
       "[1] 0"
      ]
     },
     "metadata": {},
     "output_type": "display_data"
    }
   ],
   "source": [
    "cat(\"\\n#Tidyverse syntax:\\n\")\n",
    "clvDataTmp <- clvData\n",
    "\n",
    "cat(\"row number before:\",\"\\n\")\n",
    "clvDataTmp %>% \n",
    "  filter(Income > 90000) %>% \n",
    "  nrow()\n",
    "\n",
    "clvDataTmp <- clvDataTmp %>%\n",
    "     mutate(Income = replace(Income, Income>90000, 90000)) \n",
    "\n",
    "cat(\"row number after:\",\"\\n\")\n",
    "clvDataTmp %>% \n",
    "  filter(Income > 90000) %>% \n",
    "  nrow()\n"
   ]
  },
  {
   "cell_type": "markdown",
   "metadata": {
    "slideshow": {
     "slide_type": "slide"
    }
   },
   "source": [
    "### Filter by date"
   ]
  },
  {
   "cell_type": "code",
   "execution_count": 44,
   "metadata": {
    "ExecuteTime": {
     "end_time": "2017-11-19T14:30:43.818000Z",
     "start_time": "2017-11-19T14:30:43.765Z"
    },
    "slideshow": {
     "slide_type": "subslide"
    }
   },
   "outputs": [
    {
     "data": {
      "text/html": [
       "<ol class=list-inline>\n",
       "\t<li>928</li>\n",
       "\t<li>25</li>\n",
       "</ol>\n"
      ],
      "text/latex": [
       "\\begin{enumerate*}\n",
       "\\item 928\n",
       "\\item 25\n",
       "\\end{enumerate*}\n"
      ],
      "text/markdown": [
       "1. 928\n",
       "2. 25\n",
       "\n",
       "\n"
      ],
      "text/plain": [
       "[1] 928  25"
      ]
     },
     "metadata": {},
     "output_type": "display_data"
    }
   ],
   "source": [
    "startdate <- as.Date(\"2/22/11\", format=\"%m/%d/%y\")\n",
    "enddate <- as.Date(\"4/19/11\", format=\"%m/%d/%y\")\n",
    "\n",
    "clvDataSub <- clvData[clvData$Effective.To.Date > startdate & \n",
    "                      clvData$Effective.To.Date < enddate,]\n",
    "\n",
    "dim(clvDataSub)\n"
   ]
  },
  {
   "cell_type": "code",
   "execution_count": 45,
   "metadata": {
    "slideshow": {
     "slide_type": "subslide"
    }
   },
   "outputs": [
    {
     "name": "stdout",
     "output_type": "stream",
     "text": [
      "\n",
      "#Tidyverse syntax:\n"
     ]
    },
    {
     "data": {
      "text/html": [
       "<ol class=list-inline>\n",
       "\t<li>928</li>\n",
       "\t<li>25</li>\n",
       "</ol>\n"
      ],
      "text/latex": [
       "\\begin{enumerate*}\n",
       "\\item 928\n",
       "\\item 25\n",
       "\\end{enumerate*}\n"
      ],
      "text/markdown": [
       "1. 928\n",
       "2. 25\n",
       "\n",
       "\n"
      ],
      "text/plain": [
       "[1] 928  25"
      ]
     },
     "metadata": {},
     "output_type": "display_data"
    }
   ],
   "source": [
    "cat(\"\\n#Tidyverse syntax:\\n\")\n",
    "clvDataSub <- clvData %>%\n",
    "     filter(Effective.To.Date > startdate, \n",
    "            Effective.To.Date < enddate) #Keep in mind: a comma means logical 'and'\n",
    "\n",
    "dim(clvDataSub)\n"
   ]
  },
  {
   "cell_type": "markdown",
   "metadata": {
    "slideshow": {
     "slide_type": "slide"
    }
   },
   "source": [
    "### Filter by [`subset()`](https://www.rdocumentation.org/packages/base/versions/3.6.1/topics/subset)-function\n"
   ]
  },
  {
   "cell_type": "code",
   "execution_count": 46,
   "metadata": {
    "ExecuteTime": {
     "end_time": "2017-11-19T14:31:05.350000Z",
     "start_time": "2017-11-19T14:31:05.267Z"
    },
    "slideshow": {
     "slide_type": "fragment"
    }
   },
   "outputs": [
    {
     "data": {
      "text/html": [
       "<ol class=list-inline>\n",
       "\t<li>78</li>\n",
       "\t<li>3</li>\n",
       "</ol>\n"
      ],
      "text/latex": [
       "\\begin{enumerate*}\n",
       "\\item 78\n",
       "\\item 3\n",
       "\\end{enumerate*}\n"
      ],
      "text/markdown": [
       "1. 78\n",
       "2. 3\n",
       "\n",
       "\n"
      ],
      "text/plain": [
       "[1] 78  3"
      ]
     },
     "metadata": {},
     "output_type": "display_data"
    },
    {
     "data": {
      "text/html": [
       "<table>\n",
       "<caption>A data.frame: 6 × 3</caption>\n",
       "<thead>\n",
       "\t<tr><th></th><th scope=col>Effective.To.Date</th><th scope=col>Months.Since.Last.Claim</th><th scope=col>Months.Since.Policy.Inception</th></tr>\n",
       "\t<tr><th></th><th scope=col>&lt;date&gt;</th><th scope=col>&lt;int&gt;</th><th scope=col>&lt;int&gt;</th></tr>\n",
       "</thead>\n",
       "<tbody>\n",
       "\t<tr><th scope=row>TQ13499</th><td>2011-01-02</td><td>32</td><td>99</td></tr>\n",
       "\t<tr><th scope=row>LP45550</th><td>2011-01-15</td><td>30</td><td>99</td></tr>\n",
       "\t<tr><th scope=row>DE55857</th><td>2011-01-30</td><td> 7</td><td>99</td></tr>\n",
       "\t<tr><th scope=row>ZF40671</th><td>2011-02-09</td><td>24</td><td>99</td></tr>\n",
       "\t<tr><th scope=row>TJ20375</th><td>2011-01-09</td><td> 5</td><td>99</td></tr>\n",
       "\t<tr><th scope=row>GL20444</th><td>2011-01-04</td><td> 9</td><td>99</td></tr>\n",
       "</tbody>\n",
       "</table>\n"
      ],
      "text/latex": [
       "A data.frame: 6 × 3\n",
       "\\begin{tabular}{r|lll}\n",
       "  & Effective.To.Date & Months.Since.Last.Claim & Months.Since.Policy.Inception\\\\\n",
       "  & <date> & <int> & <int>\\\\\n",
       "\\hline\n",
       "\tTQ13499 & 2011-01-02 & 32 & 99\\\\\n",
       "\tLP45550 & 2011-01-15 & 30 & 99\\\\\n",
       "\tDE55857 & 2011-01-30 &  7 & 99\\\\\n",
       "\tZF40671 & 2011-02-09 & 24 & 99\\\\\n",
       "\tTJ20375 & 2011-01-09 &  5 & 99\\\\\n",
       "\tGL20444 & 2011-01-04 &  9 & 99\\\\\n",
       "\\end{tabular}\n"
      ],
      "text/markdown": [
       "\n",
       "A data.frame: 6 × 3\n",
       "\n",
       "| <!--/--> | Effective.To.Date &lt;date&gt; | Months.Since.Last.Claim &lt;int&gt; | Months.Since.Policy.Inception &lt;int&gt; |\n",
       "|---|---|---|---|\n",
       "| TQ13499 | 2011-01-02 | 32 | 99 |\n",
       "| LP45550 | 2011-01-15 | 30 | 99 |\n",
       "| DE55857 | 2011-01-30 |  7 | 99 |\n",
       "| ZF40671 | 2011-02-09 | 24 | 99 |\n",
       "| TJ20375 | 2011-01-09 |  5 | 99 |\n",
       "| GL20444 | 2011-01-04 |  9 | 99 |\n",
       "\n"
      ],
      "text/plain": [
       "        Effective.To.Date Months.Since.Last.Claim Months.Since.Policy.Inception\n",
       "TQ13499 2011-01-02        32                      99                           \n",
       "LP45550 2011-01-15        30                      99                           \n",
       "DE55857 2011-01-30         7                      99                           \n",
       "ZF40671 2011-02-09        24                      99                           \n",
       "TJ20375 2011-01-09         5                      99                           \n",
       "GL20444 2011-01-04         9                      99                           "
      ]
     },
     "metadata": {},
     "output_type": "display_data"
    }
   ],
   "source": [
    "clvData.tmp <- subset(clvData, Months.Since.Last.Claim > 200 | \n",
    "                   Months.Since.Policy.Inception > 98, \n",
    "                   select=c(Effective.To.Date, \n",
    "                            Months.Since.Last.Claim, Months.Since.Policy.Inception))\n",
    "dim(clvData.tmp)\n",
    "head(clvData.tmp)\n"
   ]
  },
  {
   "cell_type": "code",
   "execution_count": 47,
   "metadata": {
    "slideshow": {
     "slide_type": "subslide"
    }
   },
   "outputs": [
    {
     "name": "stdout",
     "output_type": "stream",
     "text": [
      "\n",
      "#Tidyverse syntax:\n"
     ]
    },
    {
     "data": {
      "text/html": [
       "<ol class=list-inline>\n",
       "\t<li>78</li>\n",
       "\t<li>3</li>\n",
       "</ol>\n"
      ],
      "text/latex": [
       "\\begin{enumerate*}\n",
       "\\item 78\n",
       "\\item 3\n",
       "\\end{enumerate*}\n"
      ],
      "text/markdown": [
       "1. 78\n",
       "2. 3\n",
       "\n",
       "\n"
      ],
      "text/plain": [
       "[1] 78  3"
      ]
     },
     "metadata": {},
     "output_type": "display_data"
    },
    {
     "data": {
      "text/html": [
       "<table>\n",
       "<caption>A data.frame: 6 × 3</caption>\n",
       "<thead>\n",
       "\t<tr><th scope=col>Effective.To.Date</th><th scope=col>Months.Since.Last.Claim</th><th scope=col>Months.Since.Policy.Inception</th></tr>\n",
       "\t<tr><th scope=col>&lt;date&gt;</th><th scope=col>&lt;int&gt;</th><th scope=col>&lt;int&gt;</th></tr>\n",
       "</thead>\n",
       "<tbody>\n",
       "\t<tr><td>2011-01-02</td><td>32</td><td>99</td></tr>\n",
       "\t<tr><td>2011-01-15</td><td>30</td><td>99</td></tr>\n",
       "\t<tr><td>2011-01-30</td><td> 7</td><td>99</td></tr>\n",
       "\t<tr><td>2011-02-09</td><td>24</td><td>99</td></tr>\n",
       "\t<tr><td>2011-01-09</td><td> 5</td><td>99</td></tr>\n",
       "\t<tr><td>2011-01-04</td><td> 9</td><td>99</td></tr>\n",
       "</tbody>\n",
       "</table>\n"
      ],
      "text/latex": [
       "A data.frame: 6 × 3\n",
       "\\begin{tabular}{r|lll}\n",
       " Effective.To.Date & Months.Since.Last.Claim & Months.Since.Policy.Inception\\\\\n",
       " <date> & <int> & <int>\\\\\n",
       "\\hline\n",
       "\t 2011-01-02 & 32 & 99\\\\\n",
       "\t 2011-01-15 & 30 & 99\\\\\n",
       "\t 2011-01-30 &  7 & 99\\\\\n",
       "\t 2011-02-09 & 24 & 99\\\\\n",
       "\t 2011-01-09 &  5 & 99\\\\\n",
       "\t 2011-01-04 &  9 & 99\\\\\n",
       "\\end{tabular}\n"
      ],
      "text/markdown": [
       "\n",
       "A data.frame: 6 × 3\n",
       "\n",
       "| Effective.To.Date &lt;date&gt; | Months.Since.Last.Claim &lt;int&gt; | Months.Since.Policy.Inception &lt;int&gt; |\n",
       "|---|---|---|\n",
       "| 2011-01-02 | 32 | 99 |\n",
       "| 2011-01-15 | 30 | 99 |\n",
       "| 2011-01-30 |  7 | 99 |\n",
       "| 2011-02-09 | 24 | 99 |\n",
       "| 2011-01-09 |  5 | 99 |\n",
       "| 2011-01-04 |  9 | 99 |\n",
       "\n"
      ],
      "text/plain": [
       "  Effective.To.Date Months.Since.Last.Claim Months.Since.Policy.Inception\n",
       "1 2011-01-02        32                      99                           \n",
       "2 2011-01-15        30                      99                           \n",
       "3 2011-01-30         7                      99                           \n",
       "4 2011-02-09        24                      99                           \n",
       "5 2011-01-09         5                      99                           \n",
       "6 2011-01-04         9                      99                           "
      ]
     },
     "metadata": {},
     "output_type": "display_data"
    }
   ],
   "source": [
    "cat(\"\\n#Tidyverse syntax:\\n\")\n",
    "clvData.tmp <- clvData %>%\n",
    "     filter(Months.Since.Last.Claim > 200 | Months.Since.Policy.Inception > 98) %>%\n",
    "     select(Effective.To.Date, \n",
    "            Months.Since.Last.Claim, Months.Since.Policy.Inception)\n",
    "\n",
    "dim(clvData.tmp)\n",
    "head(clvData.tmp)\n"
   ]
  },
  {
   "cell_type": "markdown",
   "metadata": {
    "slideshow": {
     "slide_type": "slide"
    }
   },
   "source": [
    "### Filter by factor"
   ]
  },
  {
   "cell_type": "code",
   "execution_count": 48,
   "metadata": {
    "scrolled": false,
    "slideshow": {
     "slide_type": "subslide"
    }
   },
   "outputs": [
    {
     "data": {
      "text/html": [
       "'factor'"
      ],
      "text/latex": [
       "'factor'"
      ],
      "text/markdown": [
       "'factor'"
      ],
      "text/plain": [
       "[1] \"factor\""
      ]
     },
     "metadata": {},
     "output_type": "display_data"
    },
    {
     "data": {
      "text/html": [
       "<ol class=list-inline>\n",
       "\t<li>'Large'</li>\n",
       "\t<li>'Medsize'</li>\n",
       "\t<li>'Small'</li>\n",
       "</ol>\n"
      ],
      "text/latex": [
       "\\begin{enumerate*}\n",
       "\\item 'Large'\n",
       "\\item 'Medsize'\n",
       "\\item 'Small'\n",
       "\\end{enumerate*}\n"
      ],
      "text/markdown": [
       "1. 'Large'\n",
       "2. 'Medsize'\n",
       "3. 'Small'\n",
       "\n",
       "\n"
      ],
      "text/plain": [
       "[1] \"Large\"   \"Medsize\" \"Small\"  "
      ]
     },
     "metadata": {},
     "output_type": "display_data"
    },
    {
     "data": {
      "text/html": [
       "<ol class=list-inline>\n",
       "\t<li>0</li>\n",
       "\t<li>3</li>\n",
       "</ol>\n"
      ],
      "text/latex": [
       "\\begin{enumerate*}\n",
       "\\item 0\n",
       "\\item 3\n",
       "\\end{enumerate*}\n"
      ],
      "text/markdown": [
       "1. 0\n",
       "2. 3\n",
       "\n",
       "\n"
      ],
      "text/plain": [
       "[1] 0 3"
      ]
     },
     "metadata": {},
     "output_type": "display_data"
    },
    {
     "data": {
      "text/html": [
       "<table>\n",
       "<caption>A data.frame: 0 × 3</caption>\n",
       "<thead>\n",
       "\t<tr><th scope=col>Customer</th><th scope=col>Vehicle.Size</th><th scope=col>Income</th></tr>\n",
       "\t<tr><th scope=col>&lt;chr&gt;</th><th scope=col>&lt;fct&gt;</th><th scope=col>&lt;int&gt;</th></tr>\n",
       "</thead>\n",
       "<tbody>\n",
       "</tbody>\n",
       "</table>\n"
      ],
      "text/latex": [
       "A data.frame: 0 × 3\n",
       "\\begin{tabular}{r|lll}\n",
       " Customer & Vehicle.Size & Income\\\\\n",
       " <chr> & <fct> & <int>\\\\\n",
       "\\hline\n",
       "\\end{tabular}\n"
      ],
      "text/markdown": [
       "\n",
       "A data.frame: 0 × 3\n",
       "\n",
       "| Customer &lt;chr&gt; | Vehicle.Size &lt;fct&gt; | Income &lt;int&gt; |\n",
       "|---|---|---|\n",
       "\n"
      ],
      "text/plain": [
       "     Customer Vehicle.Size Income"
      ]
     },
     "metadata": {},
     "output_type": "display_data"
    }
   ],
   "source": [
    "\n",
    "clvData.tmp <- clvData\n",
    "clvData.tmp$Vehicle.Size <- as.factor(clvData.tmp$Vehicle.Size)\n",
    "class(clvData.tmp$Vehicle.Size)\n",
    "\n",
    "#glimpse(clvData.tmp)\n",
    "levels(clvData.tmp$Vehicle.Size)\n",
    "\n",
    "#str(clvData.tmp$Vehicle.Size)\n",
    "\n",
    "clvData.tmp <- clvData.tmp %>% \n",
    "                        filter(Vehicle.Size == \"High\" | Vehicle.Size == \"Med\") %>%\n",
    "                        select(Customer, Vehicle.Size, Income)\n",
    "\n",
    "dim(clvData.tmp)\n",
    "head(clvData.tmp)"
   ]
  },
  {
   "cell_type": "markdown",
   "metadata": {
    "slideshow": {
     "slide_type": "slide"
    }
   },
   "source": [
    "## Rename column"
   ]
  },
  {
   "cell_type": "code",
   "execution_count": 49,
   "metadata": {
    "ExecuteTime": {
     "end_time": "2017-11-19T14:31:10.870000Z",
     "start_time": "2017-11-19T14:31:10.826Z"
    },
    "slideshow": {
     "slide_type": "subslide"
    }
   },
   "outputs": [
    {
     "data": {
      "text/html": [
       "<ol class=list-inline>\n",
       "\t<li>'Customer'</li>\n",
       "\t<li>'State'</li>\n",
       "\t<li>'Customer.Lifetime.Value'</li>\n",
       "\t<li>'Response'</li>\n",
       "\t<li>'Coverage'</li>\n",
       "\t<li>'Education'</li>\n",
       "\t<li>'Effective.To.Date'</li>\n",
       "\t<li>'EmploymentStatus'</li>\n",
       "\t<li>'Gender'</li>\n",
       "\t<li>'Income'</li>\n",
       "\t<li>'Location.Code'</li>\n",
       "\t<li>'Marital.Status'</li>\n",
       "\t<li>'Monthly.Premium.Auto'</li>\n",
       "\t<li>'Months.Since.Last.Claim'</li>\n",
       "\t<li>'Months.Since.Policy.Inception'</li>\n",
       "\t<li>'Number.of.Open.Complaints'</li>\n",
       "\t<li>'Number.of.Policies'</li>\n",
       "\t<li>'Policy.Type'</li>\n",
       "\t<li>'Policy'</li>\n",
       "\t<li>'Renew.Offer.Type'</li>\n",
       "\t<li>'Sales.Channel'</li>\n",
       "\t<li>'Total.Claim.Amount'</li>\n",
       "\t<li>'Vehicle.Class'</li>\n",
       "\t<li>'Vehicle.Size'</li>\n",
       "\t<li>'incomeCat'</li>\n",
       "</ol>\n"
      ],
      "text/latex": [
       "\\begin{enumerate*}\n",
       "\\item 'Customer'\n",
       "\\item 'State'\n",
       "\\item 'Customer.Lifetime.Value'\n",
       "\\item 'Response'\n",
       "\\item 'Coverage'\n",
       "\\item 'Education'\n",
       "\\item 'Effective.To.Date'\n",
       "\\item 'EmploymentStatus'\n",
       "\\item 'Gender'\n",
       "\\item 'Income'\n",
       "\\item 'Location.Code'\n",
       "\\item 'Marital.Status'\n",
       "\\item 'Monthly.Premium.Auto'\n",
       "\\item 'Months.Since.Last.Claim'\n",
       "\\item 'Months.Since.Policy.Inception'\n",
       "\\item 'Number.of.Open.Complaints'\n",
       "\\item 'Number.of.Policies'\n",
       "\\item 'Policy.Type'\n",
       "\\item 'Policy'\n",
       "\\item 'Renew.Offer.Type'\n",
       "\\item 'Sales.Channel'\n",
       "\\item 'Total.Claim.Amount'\n",
       "\\item 'Vehicle.Class'\n",
       "\\item 'Vehicle.Size'\n",
       "\\item 'incomeCat'\n",
       "\\end{enumerate*}\n"
      ],
      "text/markdown": [
       "1. 'Customer'\n",
       "2. 'State'\n",
       "3. 'Customer.Lifetime.Value'\n",
       "4. 'Response'\n",
       "5. 'Coverage'\n",
       "6. 'Education'\n",
       "7. 'Effective.To.Date'\n",
       "8. 'EmploymentStatus'\n",
       "9. 'Gender'\n",
       "10. 'Income'\n",
       "11. 'Location.Code'\n",
       "12. 'Marital.Status'\n",
       "13. 'Monthly.Premium.Auto'\n",
       "14. 'Months.Since.Last.Claim'\n",
       "15. 'Months.Since.Policy.Inception'\n",
       "16. 'Number.of.Open.Complaints'\n",
       "17. 'Number.of.Policies'\n",
       "18. 'Policy.Type'\n",
       "19. 'Policy'\n",
       "20. 'Renew.Offer.Type'\n",
       "21. 'Sales.Channel'\n",
       "22. 'Total.Claim.Amount'\n",
       "23. 'Vehicle.Class'\n",
       "24. 'Vehicle.Size'\n",
       "25. 'incomeCat'\n",
       "\n",
       "\n"
      ],
      "text/plain": [
       " [1] \"Customer\"                      \"State\"                        \n",
       " [3] \"Customer.Lifetime.Value\"       \"Response\"                     \n",
       " [5] \"Coverage\"                      \"Education\"                    \n",
       " [7] \"Effective.To.Date\"             \"EmploymentStatus\"             \n",
       " [9] \"Gender\"                        \"Income\"                       \n",
       "[11] \"Location.Code\"                 \"Marital.Status\"               \n",
       "[13] \"Monthly.Premium.Auto\"          \"Months.Since.Last.Claim\"      \n",
       "[15] \"Months.Since.Policy.Inception\" \"Number.of.Open.Complaints\"    \n",
       "[17] \"Number.of.Policies\"            \"Policy.Type\"                  \n",
       "[19] \"Policy\"                        \"Renew.Offer.Type\"             \n",
       "[21] \"Sales.Channel\"                 \"Total.Claim.Amount\"           \n",
       "[23] \"Vehicle.Class\"                 \"Vehicle.Size\"                 \n",
       "[25] \"incomeCat\"                    "
      ]
     },
     "metadata": {},
     "output_type": "display_data"
    },
    {
     "data": {
      "text/html": [
       "<ol class=list-inline>\n",
       "\t<li>'Customer'</li>\n",
       "\t<li>'State'</li>\n",
       "\t<li>'Customer.Lifetime.Value'</li>\n",
       "\t<li>'Response'</li>\n",
       "\t<li>'Coverage'</li>\n",
       "\t<li>'Education'</li>\n",
       "\t<li>'Date'</li>\n",
       "\t<li>'EmploymentStatus'</li>\n",
       "\t<li>'Gender'</li>\n",
       "\t<li>'Income'</li>\n",
       "\t<li>'Location.Code'</li>\n",
       "\t<li>'Marital.Status'</li>\n",
       "\t<li>'Monthly.Premium.Auto'</li>\n",
       "\t<li>'Months.Since.Last.Claim'</li>\n",
       "\t<li>'Months.Since.Policy.Inception'</li>\n",
       "\t<li>'Number.of.Open.Complaints'</li>\n",
       "\t<li>'Number.of.Policies'</li>\n",
       "\t<li>'Policy.Type'</li>\n",
       "\t<li>'Policy'</li>\n",
       "\t<li>'Renew.Offer.Type'</li>\n",
       "\t<li>'Sales.Channel'</li>\n",
       "\t<li>'Total.Claim.Amount'</li>\n",
       "\t<li>'Vehicle.Class'</li>\n",
       "\t<li>'Vehicle.Size'</li>\n",
       "\t<li>'incomeCat'</li>\n",
       "</ol>\n"
      ],
      "text/latex": [
       "\\begin{enumerate*}\n",
       "\\item 'Customer'\n",
       "\\item 'State'\n",
       "\\item 'Customer.Lifetime.Value'\n",
       "\\item 'Response'\n",
       "\\item 'Coverage'\n",
       "\\item 'Education'\n",
       "\\item 'Date'\n",
       "\\item 'EmploymentStatus'\n",
       "\\item 'Gender'\n",
       "\\item 'Income'\n",
       "\\item 'Location.Code'\n",
       "\\item 'Marital.Status'\n",
       "\\item 'Monthly.Premium.Auto'\n",
       "\\item 'Months.Since.Last.Claim'\n",
       "\\item 'Months.Since.Policy.Inception'\n",
       "\\item 'Number.of.Open.Complaints'\n",
       "\\item 'Number.of.Policies'\n",
       "\\item 'Policy.Type'\n",
       "\\item 'Policy'\n",
       "\\item 'Renew.Offer.Type'\n",
       "\\item 'Sales.Channel'\n",
       "\\item 'Total.Claim.Amount'\n",
       "\\item 'Vehicle.Class'\n",
       "\\item 'Vehicle.Size'\n",
       "\\item 'incomeCat'\n",
       "\\end{enumerate*}\n"
      ],
      "text/markdown": [
       "1. 'Customer'\n",
       "2. 'State'\n",
       "3. 'Customer.Lifetime.Value'\n",
       "4. 'Response'\n",
       "5. 'Coverage'\n",
       "6. 'Education'\n",
       "7. 'Date'\n",
       "8. 'EmploymentStatus'\n",
       "9. 'Gender'\n",
       "10. 'Income'\n",
       "11. 'Location.Code'\n",
       "12. 'Marital.Status'\n",
       "13. 'Monthly.Premium.Auto'\n",
       "14. 'Months.Since.Last.Claim'\n",
       "15. 'Months.Since.Policy.Inception'\n",
       "16. 'Number.of.Open.Complaints'\n",
       "17. 'Number.of.Policies'\n",
       "18. 'Policy.Type'\n",
       "19. 'Policy'\n",
       "20. 'Renew.Offer.Type'\n",
       "21. 'Sales.Channel'\n",
       "22. 'Total.Claim.Amount'\n",
       "23. 'Vehicle.Class'\n",
       "24. 'Vehicle.Size'\n",
       "25. 'incomeCat'\n",
       "\n",
       "\n"
      ],
      "text/plain": [
       " [1] \"Customer\"                      \"State\"                        \n",
       " [3] \"Customer.Lifetime.Value\"       \"Response\"                     \n",
       " [5] \"Coverage\"                      \"Education\"                    \n",
       " [7] \"Date\"                          \"EmploymentStatus\"             \n",
       " [9] \"Gender\"                        \"Income\"                       \n",
       "[11] \"Location.Code\"                 \"Marital.Status\"               \n",
       "[13] \"Monthly.Premium.Auto\"          \"Months.Since.Last.Claim\"      \n",
       "[15] \"Months.Since.Policy.Inception\" \"Number.of.Open.Complaints\"    \n",
       "[17] \"Number.of.Policies\"            \"Policy.Type\"                  \n",
       "[19] \"Policy\"                        \"Renew.Offer.Type\"             \n",
       "[21] \"Sales.Channel\"                 \"Total.Claim.Amount\"           \n",
       "[23] \"Vehicle.Class\"                 \"Vehicle.Size\"                 \n",
       "[25] \"incomeCat\"                    "
      ]
     },
     "metadata": {},
     "output_type": "display_data"
    }
   ],
   "source": [
    "clvDataTmp <- clvData\n",
    "\n",
    "names(clvDataTmp)\n",
    "names(clvDataTmp)[7] <- \"Date\"\n",
    "names(clvDataTmp)\n"
   ]
  },
  {
   "cell_type": "code",
   "execution_count": 50,
   "metadata": {
    "slideshow": {
     "slide_type": "subslide"
    }
   },
   "outputs": [
    {
     "name": "stdout",
     "output_type": "stream",
     "text": [
      "\n",
      "#Tidyverse syntax:\n"
     ]
    },
    {
     "data": {
      "text/html": [
       "<ol class=list-inline>\n",
       "\t<li>'Customer'</li>\n",
       "\t<li>'State'</li>\n",
       "\t<li>'Customer.Lifetime.Value'</li>\n",
       "\t<li>'Response'</li>\n",
       "\t<li>'Coverage'</li>\n",
       "\t<li>'Education'</li>\n",
       "\t<li>'Effective.To.Date'</li>\n",
       "\t<li>'EmploymentStatus'</li>\n",
       "\t<li>'Gender'</li>\n",
       "\t<li>'Income'</li>\n",
       "\t<li>'Location.Code'</li>\n",
       "\t<li>'Marital.Status'</li>\n",
       "\t<li>'Monthly.Premium.Auto'</li>\n",
       "\t<li>'Months.Since.Last.Claim'</li>\n",
       "\t<li>'Months.Since.Policy.Inception'</li>\n",
       "\t<li>'Number.of.Open.Complaints'</li>\n",
       "\t<li>'Number.of.Policies'</li>\n",
       "\t<li>'Policy.Type'</li>\n",
       "\t<li>'Policy'</li>\n",
       "\t<li>'Renew.Offer.Type'</li>\n",
       "\t<li>'Sales.Channel'</li>\n",
       "\t<li>'Total.Claim.Amount'</li>\n",
       "\t<li>'Vehicle.Class'</li>\n",
       "\t<li>'Vehicle.Size'</li>\n",
       "\t<li>'incomeCat'</li>\n",
       "</ol>\n"
      ],
      "text/latex": [
       "\\begin{enumerate*}\n",
       "\\item 'Customer'\n",
       "\\item 'State'\n",
       "\\item 'Customer.Lifetime.Value'\n",
       "\\item 'Response'\n",
       "\\item 'Coverage'\n",
       "\\item 'Education'\n",
       "\\item 'Effective.To.Date'\n",
       "\\item 'EmploymentStatus'\n",
       "\\item 'Gender'\n",
       "\\item 'Income'\n",
       "\\item 'Location.Code'\n",
       "\\item 'Marital.Status'\n",
       "\\item 'Monthly.Premium.Auto'\n",
       "\\item 'Months.Since.Last.Claim'\n",
       "\\item 'Months.Since.Policy.Inception'\n",
       "\\item 'Number.of.Open.Complaints'\n",
       "\\item 'Number.of.Policies'\n",
       "\\item 'Policy.Type'\n",
       "\\item 'Policy'\n",
       "\\item 'Renew.Offer.Type'\n",
       "\\item 'Sales.Channel'\n",
       "\\item 'Total.Claim.Amount'\n",
       "\\item 'Vehicle.Class'\n",
       "\\item 'Vehicle.Size'\n",
       "\\item 'incomeCat'\n",
       "\\end{enumerate*}\n"
      ],
      "text/markdown": [
       "1. 'Customer'\n",
       "2. 'State'\n",
       "3. 'Customer.Lifetime.Value'\n",
       "4. 'Response'\n",
       "5. 'Coverage'\n",
       "6. 'Education'\n",
       "7. 'Effective.To.Date'\n",
       "8. 'EmploymentStatus'\n",
       "9. 'Gender'\n",
       "10. 'Income'\n",
       "11. 'Location.Code'\n",
       "12. 'Marital.Status'\n",
       "13. 'Monthly.Premium.Auto'\n",
       "14. 'Months.Since.Last.Claim'\n",
       "15. 'Months.Since.Policy.Inception'\n",
       "16. 'Number.of.Open.Complaints'\n",
       "17. 'Number.of.Policies'\n",
       "18. 'Policy.Type'\n",
       "19. 'Policy'\n",
       "20. 'Renew.Offer.Type'\n",
       "21. 'Sales.Channel'\n",
       "22. 'Total.Claim.Amount'\n",
       "23. 'Vehicle.Class'\n",
       "24. 'Vehicle.Size'\n",
       "25. 'incomeCat'\n",
       "\n",
       "\n"
      ],
      "text/plain": [
       " [1] \"Customer\"                      \"State\"                        \n",
       " [3] \"Customer.Lifetime.Value\"       \"Response\"                     \n",
       " [5] \"Coverage\"                      \"Education\"                    \n",
       " [7] \"Effective.To.Date\"             \"EmploymentStatus\"             \n",
       " [9] \"Gender\"                        \"Income\"                       \n",
       "[11] \"Location.Code\"                 \"Marital.Status\"               \n",
       "[13] \"Monthly.Premium.Auto\"          \"Months.Since.Last.Claim\"      \n",
       "[15] \"Months.Since.Policy.Inception\" \"Number.of.Open.Complaints\"    \n",
       "[17] \"Number.of.Policies\"            \"Policy.Type\"                  \n",
       "[19] \"Policy\"                        \"Renew.Offer.Type\"             \n",
       "[21] \"Sales.Channel\"                 \"Total.Claim.Amount\"           \n",
       "[23] \"Vehicle.Class\"                 \"Vehicle.Size\"                 \n",
       "[25] \"incomeCat\"                    "
      ]
     },
     "metadata": {},
     "output_type": "display_data"
    },
    {
     "data": {
      "text/html": [
       "<ol class=list-inline>\n",
       "\t<li>'Customer'</li>\n",
       "\t<li>'State'</li>\n",
       "\t<li>'Customer.Lifetime.Value'</li>\n",
       "\t<li>'Response'</li>\n",
       "\t<li>'Coverage'</li>\n",
       "\t<li>'Education'</li>\n",
       "\t<li>'Date'</li>\n",
       "\t<li>'EmploymentStatus'</li>\n",
       "\t<li>'Gender'</li>\n",
       "\t<li>'Income'</li>\n",
       "\t<li>'Location.Code'</li>\n",
       "\t<li>'Marital.Status'</li>\n",
       "\t<li>'Monthly.Premium.Auto'</li>\n",
       "\t<li>'Months.Since.Last.Claim'</li>\n",
       "\t<li>'Months.Since.Policy.Inception'</li>\n",
       "\t<li>'Number.of.Open.Complaints'</li>\n",
       "\t<li>'Number.of.Policies'</li>\n",
       "\t<li>'Policy.Type'</li>\n",
       "\t<li>'Policy'</li>\n",
       "\t<li>'Renew.Offer.Type'</li>\n",
       "\t<li>'Sales.Channel'</li>\n",
       "\t<li>'Total.Claim.Amount'</li>\n",
       "\t<li>'Vehicle.Class'</li>\n",
       "\t<li>'Vehicle.Size'</li>\n",
       "\t<li>'incomeCat'</li>\n",
       "</ol>\n"
      ],
      "text/latex": [
       "\\begin{enumerate*}\n",
       "\\item 'Customer'\n",
       "\\item 'State'\n",
       "\\item 'Customer.Lifetime.Value'\n",
       "\\item 'Response'\n",
       "\\item 'Coverage'\n",
       "\\item 'Education'\n",
       "\\item 'Date'\n",
       "\\item 'EmploymentStatus'\n",
       "\\item 'Gender'\n",
       "\\item 'Income'\n",
       "\\item 'Location.Code'\n",
       "\\item 'Marital.Status'\n",
       "\\item 'Monthly.Premium.Auto'\n",
       "\\item 'Months.Since.Last.Claim'\n",
       "\\item 'Months.Since.Policy.Inception'\n",
       "\\item 'Number.of.Open.Complaints'\n",
       "\\item 'Number.of.Policies'\n",
       "\\item 'Policy.Type'\n",
       "\\item 'Policy'\n",
       "\\item 'Renew.Offer.Type'\n",
       "\\item 'Sales.Channel'\n",
       "\\item 'Total.Claim.Amount'\n",
       "\\item 'Vehicle.Class'\n",
       "\\item 'Vehicle.Size'\n",
       "\\item 'incomeCat'\n",
       "\\end{enumerate*}\n"
      ],
      "text/markdown": [
       "1. 'Customer'\n",
       "2. 'State'\n",
       "3. 'Customer.Lifetime.Value'\n",
       "4. 'Response'\n",
       "5. 'Coverage'\n",
       "6. 'Education'\n",
       "7. 'Date'\n",
       "8. 'EmploymentStatus'\n",
       "9. 'Gender'\n",
       "10. 'Income'\n",
       "11. 'Location.Code'\n",
       "12. 'Marital.Status'\n",
       "13. 'Monthly.Premium.Auto'\n",
       "14. 'Months.Since.Last.Claim'\n",
       "15. 'Months.Since.Policy.Inception'\n",
       "16. 'Number.of.Open.Complaints'\n",
       "17. 'Number.of.Policies'\n",
       "18. 'Policy.Type'\n",
       "19. 'Policy'\n",
       "20. 'Renew.Offer.Type'\n",
       "21. 'Sales.Channel'\n",
       "22. 'Total.Claim.Amount'\n",
       "23. 'Vehicle.Class'\n",
       "24. 'Vehicle.Size'\n",
       "25. 'incomeCat'\n",
       "\n",
       "\n"
      ],
      "text/plain": [
       " [1] \"Customer\"                      \"State\"                        \n",
       " [3] \"Customer.Lifetime.Value\"       \"Response\"                     \n",
       " [5] \"Coverage\"                      \"Education\"                    \n",
       " [7] \"Date\"                          \"EmploymentStatus\"             \n",
       " [9] \"Gender\"                        \"Income\"                       \n",
       "[11] \"Location.Code\"                 \"Marital.Status\"               \n",
       "[13] \"Monthly.Premium.Auto\"          \"Months.Since.Last.Claim\"      \n",
       "[15] \"Months.Since.Policy.Inception\" \"Number.of.Open.Complaints\"    \n",
       "[17] \"Number.of.Policies\"            \"Policy.Type\"                  \n",
       "[19] \"Policy\"                        \"Renew.Offer.Type\"             \n",
       "[21] \"Sales.Channel\"                 \"Total.Claim.Amount\"           \n",
       "[23] \"Vehicle.Class\"                 \"Vehicle.Size\"                 \n",
       "[25] \"incomeCat\"                    "
      ]
     },
     "metadata": {},
     "output_type": "display_data"
    }
   ],
   "source": [
    "clvDataTmp <- clvData\n",
    "\n",
    "cat(\"\\n#Tidyverse syntax:\\n\")\n",
    "names(clvDataTmp)\n",
    "\n",
    "clvDataTmp <- clvDataTmp %>%\n",
    "     # newname = oldname from dplyr package\n",
    "     # Keep in mind: package reshape has also a rename() function\n",
    "     rename(Date = Effective.To.Date)   \n",
    "\n",
    "names(clvDataTmp)"
   ]
  },
  {
   "cell_type": "markdown",
   "metadata": {
    "slideshow": {
     "slide_type": "slide"
    }
   },
   "source": [
    "## Sort Data\n",
    "\n",
    "In R, data can be sorted in various ways using the function [`order()`](https://www.rdocumentation.org/packages/base/versions/3.6.1/topics/order). For example, the dataframe *clvData* is not ordered after the addition of an additional row, as can be seen in the following display of the dataframe's tail. We can sort a numeric value in decreasing order by using a minus sign ( – ) in front of the variable.\n"
   ]
  },
  {
   "cell_type": "code",
   "execution_count": 51,
   "metadata": {
    "ExecuteTime": {
     "end_time": "2017-11-19T14:31:24.650000Z",
     "start_time": "2017-11-19T14:31:24.570Z"
    },
    "slideshow": {
     "slide_type": "subslide"
    }
   },
   "outputs": [
    {
     "data": {
      "text/html": [
       "<table>\n",
       "<caption>A data.frame: 6 × 25</caption>\n",
       "<thead>\n",
       "\t<tr><th></th><th scope=col>Customer</th><th scope=col>State</th><th scope=col>Customer.Lifetime.Value</th><th scope=col>Response</th><th scope=col>Coverage</th><th scope=col>Education</th><th scope=col>Effective.To.Date</th><th scope=col>EmploymentStatus</th><th scope=col>Gender</th><th scope=col>Income</th><th scope=col>...</th><th scope=col>Number.of.Open.Complaints</th><th scope=col>Number.of.Policies</th><th scope=col>Policy.Type</th><th scope=col>Policy</th><th scope=col>Renew.Offer.Type</th><th scope=col>Sales.Channel</th><th scope=col>Total.Claim.Amount</th><th scope=col>Vehicle.Class</th><th scope=col>Vehicle.Size</th><th scope=col>incomeCat</th></tr>\n",
       "\t<tr><th></th><th scope=col>&lt;chr&gt;</th><th scope=col>&lt;chr&gt;</th><th scope=col>&lt;dbl&gt;</th><th scope=col>&lt;chr&gt;</th><th scope=col>&lt;chr&gt;</th><th scope=col>&lt;chr&gt;</th><th scope=col>&lt;date&gt;</th><th scope=col>&lt;chr&gt;</th><th scope=col>&lt;chr&gt;</th><th scope=col>&lt;int&gt;</th><th scope=col>...</th><th scope=col>&lt;int&gt;</th><th scope=col>&lt;int&gt;</th><th scope=col>&lt;chr&gt;</th><th scope=col>&lt;chr&gt;</th><th scope=col>&lt;chr&gt;</th><th scope=col>&lt;chr&gt;</th><th scope=col>&lt;dbl&gt;</th><th scope=col>&lt;chr&gt;</th><th scope=col>&lt;chr&gt;</th><th scope=col>&lt;chr&gt;</th></tr>\n",
       "</thead>\n",
       "<tbody>\n",
       "\t<tr><th scope=row>AA10041</th><td>AA10041</td><td>California</td><td> 7901.744</td><td>No </td><td>Basic   </td><td>High School or Below</td><td>2011-02-02</td><td>Unemployed   </td><td>M</td><td>    0</td><td>...</td><td>0</td><td>5</td><td>Personal Auto</td><td>Personal L3</td><td>Offer1</td><td>Call Center</td><td>1258.3278</td><td>SUV          </td><td>Medsize</td><td>Low</td></tr>\n",
       "\t<tr><th scope=row>AA11235</th><td>AA11235</td><td>Nevada    </td><td> 2568.843</td><td>No </td><td>Basic   </td><td>Bachelor            </td><td>2011-01-28</td><td>Medical Leave</td><td>F</td><td>11167</td><td>...</td><td>3</td><td>1</td><td>Personal Auto</td><td>Personal L3</td><td>Offer2</td><td>Branch     </td><td> 350.4000</td><td>Two-Door Car </td><td>Medsize</td><td>Low</td></tr>\n",
       "\t<tr><th scope=row>AA16582</th><td>AA16582</td><td>Washington</td><td>24127.504</td><td>Yes</td><td>Basic   </td><td>Bachelor            </td><td>2011-01-26</td><td>Medical Leave</td><td>M</td><td>14072</td><td>...</td><td>0</td><td>2</td><td>Personal Auto</td><td>Personal L2</td><td>Offer1</td><td>Agent      </td><td> 511.2000</td><td>Four-Door Car</td><td>Medsize</td><td>Low</td></tr>\n",
       "\t<tr><th scope=row>AA30683</th><td>AA30683</td><td>California</td><td> 6595.102</td><td>No </td><td>Premium </td><td>Bachelor            </td><td>2011-01-15</td><td>Unemployed   </td><td>M</td><td>    0</td><td>...</td><td>2</td><td>7</td><td>Personal Auto</td><td>Personal L3</td><td>Offer1</td><td>Web        </td><td> 847.7174</td><td>Four-Door Car</td><td>Medsize</td><td>Low</td></tr>\n",
       "\t<tr><th scope=row>AA34092</th><td>AA34092</td><td>California</td><td>28799.954</td><td>No </td><td>Extended</td><td>College             </td><td>2011-02-11</td><td>Employed     </td><td>M</td><td>33635</td><td>...</td><td>0</td><td>2</td><td>Personal Auto</td><td>Personal L3</td><td>Offer1</td><td>Web        </td><td>1152.0000</td><td>Luxury SUV   </td><td>Medsize</td><td>Med</td></tr>\n",
       "\t<tr><th scope=row>AA35519</th><td>AA35519</td><td>Arizona   </td><td> 8002.308</td><td>Yes</td><td>Basic   </td><td>College             </td><td>2011-01-11</td><td>Unemployed   </td><td>F</td><td>    0</td><td>...</td><td>0</td><td>3</td><td>Personal Auto</td><td>Personal L2</td><td>Offer1</td><td>Agent      </td><td> 513.6000</td><td>SUV          </td><td>Medsize</td><td>Low</td></tr>\n",
       "</tbody>\n",
       "</table>\n"
      ],
      "text/latex": [
       "A data.frame: 6 × 25\n",
       "\\begin{tabular}{r|lllllllllllllllllllllllll}\n",
       "  & Customer & State & Customer.Lifetime.Value & Response & Coverage & Education & Effective.To.Date & EmploymentStatus & Gender & Income & Location.Code & Marital.Status & Monthly.Premium.Auto & Months.Since.Last.Claim & Months.Since.Policy.Inception & Number.of.Open.Complaints & Number.of.Policies & Policy.Type & Policy & Renew.Offer.Type & Sales.Channel & Total.Claim.Amount & Vehicle.Class & Vehicle.Size & incomeCat\\\\\n",
       "  & <chr> & <chr> & <dbl> & <chr> & <chr> & <chr> & <date> & <chr> & <chr> & <int> & <chr> & <chr> & <int> & <int> & <int> & <int> & <int> & <chr> & <chr> & <chr> & <chr> & <dbl> & <chr> & <chr> & <chr>\\\\\n",
       "\\hline\n",
       "\tAA10041 & AA10041 & California &  7901.744 & No  & Basic    & High School or Below & 2011-02-02 & Unemployed    & M &     0 & Suburban & Single   & 113 & 35 & 83 & 0 & 5 & Personal Auto & Personal L3 & Offer1 & Call Center & 1258.3278 & SUV           & Medsize & Low\\\\\n",
       "\tAA11235 & AA11235 & Nevada     &  2568.843 & No  & Basic    & Bachelor             & 2011-01-28 & Medical Leave & F & 11167 & Suburban & Married  &  73 &  0 & 99 & 3 & 1 & Personal Auto & Personal L3 & Offer2 & Branch      &  350.4000 & Two-Door Car  & Medsize & Low\\\\\n",
       "\tAA16582 & AA16582 & Washington & 24127.504 & Yes & Basic    & Bachelor             & 2011-01-26 & Medical Leave & M & 14072 & Suburban & Divorced &  71 & 13 &  3 & 0 & 2 & Personal Auto & Personal L2 & Offer1 & Agent       &  511.2000 & Four-Door Car & Medsize & Low\\\\\n",
       "\tAA30683 & AA30683 & California &  6595.102 & No  & Premium  & Bachelor             & 2011-01-15 & Unemployed    & M &     0 & Suburban & Single   & 105 &  2 & 38 & 2 & 7 & Personal Auto & Personal L3 & Offer1 & Web         &  847.7174 & Four-Door Car & Medsize & Low\\\\\n",
       "\tAA34092 & AA34092 & California & 28799.954 & No  & Extended & College              & 2011-02-11 & Employed      & M & 33635 & Suburban & Married  & 240 &  1 & 23 & 0 & 2 & Personal Auto & Personal L3 & Offer1 & Web         & 1152.0000 & Luxury SUV    & Medsize & Med\\\\\n",
       "\tAA35519 & AA35519 & Arizona    &  8002.308 & Yes & Basic    & College              & 2011-01-11 & Unemployed    & F &     0 & Suburban & Married  & 107 &  3 & 65 & 0 & 3 & Personal Auto & Personal L2 & Offer1 & Agent       &  513.6000 & SUV           & Medsize & Low\\\\\n",
       "\\end{tabular}\n"
      ],
      "text/markdown": [
       "\n",
       "A data.frame: 6 × 25\n",
       "\n",
       "| <!--/--> | Customer &lt;chr&gt; | State &lt;chr&gt; | Customer.Lifetime.Value &lt;dbl&gt; | Response &lt;chr&gt; | Coverage &lt;chr&gt; | Education &lt;chr&gt; | Effective.To.Date &lt;date&gt; | EmploymentStatus &lt;chr&gt; | Gender &lt;chr&gt; | Income &lt;int&gt; | ... ... | Number.of.Open.Complaints &lt;int&gt; | Number.of.Policies &lt;int&gt; | Policy.Type &lt;chr&gt; | Policy &lt;chr&gt; | Renew.Offer.Type &lt;chr&gt; | Sales.Channel &lt;chr&gt; | Total.Claim.Amount &lt;dbl&gt; | Vehicle.Class &lt;chr&gt; | Vehicle.Size &lt;chr&gt; | incomeCat &lt;chr&gt; |\n",
       "|---|---|---|---|---|---|---|---|---|---|---|---|---|---|---|---|---|---|---|---|---|---|\n",
       "| AA10041 | AA10041 | California |  7901.744 | No  | Basic    | High School or Below | 2011-02-02 | Unemployed    | M |     0 | ... | 0 | 5 | Personal Auto | Personal L3 | Offer1 | Call Center | 1258.3278 | SUV           | Medsize | Low |\n",
       "| AA11235 | AA11235 | Nevada     |  2568.843 | No  | Basic    | Bachelor             | 2011-01-28 | Medical Leave | F | 11167 | ... | 3 | 1 | Personal Auto | Personal L3 | Offer2 | Branch      |  350.4000 | Two-Door Car  | Medsize | Low |\n",
       "| AA16582 | AA16582 | Washington | 24127.504 | Yes | Basic    | Bachelor             | 2011-01-26 | Medical Leave | M | 14072 | ... | 0 | 2 | Personal Auto | Personal L2 | Offer1 | Agent       |  511.2000 | Four-Door Car | Medsize | Low |\n",
       "| AA30683 | AA30683 | California |  6595.102 | No  | Premium  | Bachelor             | 2011-01-15 | Unemployed    | M |     0 | ... | 2 | 7 | Personal Auto | Personal L3 | Offer1 | Web         |  847.7174 | Four-Door Car | Medsize | Low |\n",
       "| AA34092 | AA34092 | California | 28799.954 | No  | Extended | College              | 2011-02-11 | Employed      | M | 33635 | ... | 0 | 2 | Personal Auto | Personal L3 | Offer1 | Web         | 1152.0000 | Luxury SUV    | Medsize | Med |\n",
       "| AA35519 | AA35519 | Arizona    |  8002.308 | Yes | Basic    | College              | 2011-01-11 | Unemployed    | F |     0 | ... | 0 | 3 | Personal Auto | Personal L2 | Offer1 | Agent       |  513.6000 | SUV           | Medsize | Low |\n",
       "\n"
      ],
      "text/plain": [
       "        Customer State      Customer.Lifetime.Value Response Coverage\n",
       "AA10041 AA10041  California  7901.744               No       Basic   \n",
       "AA11235 AA11235  Nevada      2568.843               No       Basic   \n",
       "AA16582 AA16582  Washington 24127.504               Yes      Basic   \n",
       "AA30683 AA30683  California  6595.102               No       Premium \n",
       "AA34092 AA34092  California 28799.954               No       Extended\n",
       "AA35519 AA35519  Arizona     8002.308               Yes      Basic   \n",
       "        Education            Effective.To.Date EmploymentStatus Gender Income\n",
       "AA10041 High School or Below 2011-02-02        Unemployed       M          0 \n",
       "AA11235 Bachelor             2011-01-28        Medical Leave    F      11167 \n",
       "AA16582 Bachelor             2011-01-26        Medical Leave    M      14072 \n",
       "AA30683 Bachelor             2011-01-15        Unemployed       M          0 \n",
       "AA34092 College              2011-02-11        Employed         M      33635 \n",
       "AA35519 College              2011-01-11        Unemployed       F          0 \n",
       "        ... Number.of.Open.Complaints Number.of.Policies Policy.Type  \n",
       "AA10041 ... 0                         5                  Personal Auto\n",
       "AA11235 ... 3                         1                  Personal Auto\n",
       "AA16582 ... 0                         2                  Personal Auto\n",
       "AA30683 ... 2                         7                  Personal Auto\n",
       "AA34092 ... 0                         2                  Personal Auto\n",
       "AA35519 ... 0                         3                  Personal Auto\n",
       "        Policy      Renew.Offer.Type Sales.Channel Total.Claim.Amount\n",
       "AA10041 Personal L3 Offer1           Call Center   1258.3278         \n",
       "AA11235 Personal L3 Offer2           Branch         350.4000         \n",
       "AA16582 Personal L2 Offer1           Agent          511.2000         \n",
       "AA30683 Personal L3 Offer1           Web            847.7174         \n",
       "AA34092 Personal L3 Offer1           Web           1152.0000         \n",
       "AA35519 Personal L2 Offer1           Agent          513.6000         \n",
       "        Vehicle.Class Vehicle.Size incomeCat\n",
       "AA10041 SUV           Medsize      Low      \n",
       "AA11235 Two-Door Car  Medsize      Low      \n",
       "AA16582 Four-Door Car Medsize      Low      \n",
       "AA30683 Four-Door Car Medsize      Low      \n",
       "AA34092 Luxury SUV    Medsize      Med      \n",
       "AA35519 SUV           Medsize      Low      "
      ]
     },
     "metadata": {},
     "output_type": "display_data"
    }
   ],
   "source": [
    "clvDataTMP <- clvData[order(clvData$Customer),]\n",
    "head(clvDataTMP)\n"
   ]
  },
  {
   "cell_type": "code",
   "execution_count": 52,
   "metadata": {
    "slideshow": {
     "slide_type": "subslide"
    }
   },
   "outputs": [
    {
     "data": {
      "text/html": [
       "<table>\n",
       "<caption>A data.frame: 6 × 25</caption>\n",
       "<thead>\n",
       "\t<tr><th></th><th scope=col>Customer</th><th scope=col>State</th><th scope=col>Customer.Lifetime.Value</th><th scope=col>Response</th><th scope=col>Coverage</th><th scope=col>Education</th><th scope=col>Effective.To.Date</th><th scope=col>EmploymentStatus</th><th scope=col>Gender</th><th scope=col>Income</th><th scope=col>...</th><th scope=col>Number.of.Open.Complaints</th><th scope=col>Number.of.Policies</th><th scope=col>Policy.Type</th><th scope=col>Policy</th><th scope=col>Renew.Offer.Type</th><th scope=col>Sales.Channel</th><th scope=col>Total.Claim.Amount</th><th scope=col>Vehicle.Class</th><th scope=col>Vehicle.Size</th><th scope=col>incomeCat</th></tr>\n",
       "\t<tr><th></th><th scope=col>&lt;chr&gt;</th><th scope=col>&lt;chr&gt;</th><th scope=col>&lt;dbl&gt;</th><th scope=col>&lt;chr&gt;</th><th scope=col>&lt;chr&gt;</th><th scope=col>&lt;chr&gt;</th><th scope=col>&lt;date&gt;</th><th scope=col>&lt;chr&gt;</th><th scope=col>&lt;chr&gt;</th><th scope=col>&lt;int&gt;</th><th scope=col>...</th><th scope=col>&lt;int&gt;</th><th scope=col>&lt;int&gt;</th><th scope=col>&lt;chr&gt;</th><th scope=col>&lt;chr&gt;</th><th scope=col>&lt;chr&gt;</th><th scope=col>&lt;chr&gt;</th><th scope=col>&lt;dbl&gt;</th><th scope=col>&lt;chr&gt;</th><th scope=col>&lt;chr&gt;</th><th scope=col>&lt;chr&gt;</th></tr>\n",
       "</thead>\n",
       "<tbody>\n",
       "\t<tr><th scope=row>FQ61281</th><td>FQ61281</td><td>Oregon    </td><td>83325.38</td><td>No</td><td>Extended</td><td>High School or Below</td><td>2011-01-31</td><td>Employed  </td><td>M</td><td>58958</td><td>...</td><td>0</td><td>2</td><td>Personal Auto</td><td>Personal L3</td><td>Offer1</td><td>Call Center</td><td>1108.8000</td><td>Luxury Car</td><td>Small  </td><td>Med </td></tr>\n",
       "\t<tr><th scope=row>YC54142</th><td>YC54142</td><td>Washington</td><td>74228.52</td><td>No</td><td>Extended</td><td>High School or Below</td><td>2011-01-26</td><td>Unemployed</td><td>M</td><td>    0</td><td>...</td><td>0</td><td>2</td><td>Personal Auto</td><td>Personal L1</td><td>Offer1</td><td>Branch     </td><td>1742.4000</td><td>Luxury Car</td><td>Medsize</td><td>Low </td></tr>\n",
       "\t<tr><th scope=row>BP23267</th><td>BP23267</td><td>California</td><td>73225.96</td><td>No</td><td>Extended</td><td>Bachelor            </td><td>2011-02-09</td><td>Employed  </td><td>F</td><td>39547</td><td>...</td><td>0</td><td>2</td><td>Personal Auto</td><td>Personal L3</td><td>Offer1</td><td>Branch     </td><td> 969.6000</td><td>Luxury SUV</td><td>Medsize</td><td>Med </td></tr>\n",
       "\t<tr><th scope=row>KH55886</th><td>KH55886</td><td>Oregon    </td><td>67907.27</td><td>No</td><td>Premium </td><td>Bachelor            </td><td>2011-02-05</td><td>Employed  </td><td>M</td><td>78310</td><td>...</td><td>1</td><td>2</td><td>Personal Auto</td><td>Personal L1</td><td>Offer1</td><td>Agent      </td><td> 151.7115</td><td>Sports Car</td><td>Medsize</td><td>High</td></tr>\n",
       "\t<tr><th scope=row>SK66747</th><td>SK66747</td><td>Washington</td><td>66025.75</td><td>No</td><td>Basic   </td><td>Bachelor            </td><td>2011-02-22</td><td>Employed  </td><td>M</td><td>33481</td><td>...</td><td>0</td><td>2</td><td>Personal Auto</td><td>Personal L3</td><td>Offer1</td><td>Agent      </td><td>1194.8920</td><td>Luxury SUV</td><td>Medsize</td><td>Med </td></tr>\n",
       "\t<tr><th scope=row>FB95288</th><td>FB95288</td><td>California</td><td>64618.76</td><td>No</td><td>Extended</td><td>High School or Below</td><td>2011-01-17</td><td>Unemployed</td><td>M</td><td>    0</td><td>...</td><td>1</td><td>2</td><td>Personal Auto</td><td>Personal L3</td><td>Offer1</td><td>Branch     </td><td>1562.4000</td><td>Luxury Car</td><td>Small  </td><td>Low </td></tr>\n",
       "</tbody>\n",
       "</table>\n"
      ],
      "text/latex": [
       "A data.frame: 6 × 25\n",
       "\\begin{tabular}{r|lllllllllllllllllllllllll}\n",
       "  & Customer & State & Customer.Lifetime.Value & Response & Coverage & Education & Effective.To.Date & EmploymentStatus & Gender & Income & Location.Code & Marital.Status & Monthly.Premium.Auto & Months.Since.Last.Claim & Months.Since.Policy.Inception & Number.of.Open.Complaints & Number.of.Policies & Policy.Type & Policy & Renew.Offer.Type & Sales.Channel & Total.Claim.Amount & Vehicle.Class & Vehicle.Size & incomeCat\\\\\n",
       "  & <chr> & <chr> & <dbl> & <chr> & <chr> & <chr> & <date> & <chr> & <chr> & <int> & <chr> & <chr> & <int> & <int> & <int> & <int> & <int> & <chr> & <chr> & <chr> & <chr> & <dbl> & <chr> & <chr> & <chr>\\\\\n",
       "\\hline\n",
       "\tFQ61281 & FQ61281 & Oregon     & 83325.38 & No & Extended & High School or Below & 2011-01-31 & Employed   & M & 58958 & Suburban & Married & 231 & 31 & 74 & 0 & 2 & Personal Auto & Personal L3 & Offer1 & Call Center & 1108.8000 & Luxury Car & Small   & Med \\\\\n",
       "\tYC54142 & YC54142 & Washington & 74228.52 & No & Extended & High School or Below & 2011-01-26 & Unemployed & M &     0 & Suburban & Single  & 242 &  1 & 34 & 0 & 2 & Personal Auto & Personal L1 & Offer1 & Branch      & 1742.4000 & Luxury Car & Medsize & Low \\\\\n",
       "\tBP23267 & BP23267 & California & 73225.96 & No & Extended & Bachelor             & 2011-02-09 & Employed   & F & 39547 & Suburban & Married & 202 & 11 & 21 & 0 & 2 & Personal Auto & Personal L3 & Offer1 & Branch      &  969.6000 & Luxury SUV & Medsize & Med \\\\\n",
       "\tKH55886 & KH55886 & Oregon     & 67907.27 & No & Premium  & Bachelor             & 2011-02-05 & Employed   & M & 78310 & Rural    & Married & 192 & 34 & 18 & 1 & 2 & Personal Auto & Personal L1 & Offer1 & Agent       &  151.7115 & Sports Car & Medsize & High\\\\\n",
       "\tSK66747 & SK66747 & Washington & 66025.75 & No & Basic    & Bachelor             & 2011-02-22 & Employed   & M & 33481 & Suburban & Single  & 188 & 28 & 46 & 0 & 2 & Personal Auto & Personal L3 & Offer1 & Agent       & 1194.8920 & Luxury SUV & Medsize & Med \\\\\n",
       "\tFB95288 & FB95288 & California & 64618.76 & No & Extended & High School or Below & 2011-01-17 & Unemployed & M &     0 & Suburban & Married & 217 & 14 & 40 & 1 & 2 & Personal Auto & Personal L3 & Offer1 & Branch      & 1562.4000 & Luxury Car & Small   & Low \\\\\n",
       "\\end{tabular}\n"
      ],
      "text/markdown": [
       "\n",
       "A data.frame: 6 × 25\n",
       "\n",
       "| <!--/--> | Customer &lt;chr&gt; | State &lt;chr&gt; | Customer.Lifetime.Value &lt;dbl&gt; | Response &lt;chr&gt; | Coverage &lt;chr&gt; | Education &lt;chr&gt; | Effective.To.Date &lt;date&gt; | EmploymentStatus &lt;chr&gt; | Gender &lt;chr&gt; | Income &lt;int&gt; | ... ... | Number.of.Open.Complaints &lt;int&gt; | Number.of.Policies &lt;int&gt; | Policy.Type &lt;chr&gt; | Policy &lt;chr&gt; | Renew.Offer.Type &lt;chr&gt; | Sales.Channel &lt;chr&gt; | Total.Claim.Amount &lt;dbl&gt; | Vehicle.Class &lt;chr&gt; | Vehicle.Size &lt;chr&gt; | incomeCat &lt;chr&gt; |\n",
       "|---|---|---|---|---|---|---|---|---|---|---|---|---|---|---|---|---|---|---|---|---|---|\n",
       "| FQ61281 | FQ61281 | Oregon     | 83325.38 | No | Extended | High School or Below | 2011-01-31 | Employed   | M | 58958 | ... | 0 | 2 | Personal Auto | Personal L3 | Offer1 | Call Center | 1108.8000 | Luxury Car | Small   | Med  |\n",
       "| YC54142 | YC54142 | Washington | 74228.52 | No | Extended | High School or Below | 2011-01-26 | Unemployed | M |     0 | ... | 0 | 2 | Personal Auto | Personal L1 | Offer1 | Branch      | 1742.4000 | Luxury Car | Medsize | Low  |\n",
       "| BP23267 | BP23267 | California | 73225.96 | No | Extended | Bachelor             | 2011-02-09 | Employed   | F | 39547 | ... | 0 | 2 | Personal Auto | Personal L3 | Offer1 | Branch      |  969.6000 | Luxury SUV | Medsize | Med  |\n",
       "| KH55886 | KH55886 | Oregon     | 67907.27 | No | Premium  | Bachelor             | 2011-02-05 | Employed   | M | 78310 | ... | 1 | 2 | Personal Auto | Personal L1 | Offer1 | Agent       |  151.7115 | Sports Car | Medsize | High |\n",
       "| SK66747 | SK66747 | Washington | 66025.75 | No | Basic    | Bachelor             | 2011-02-22 | Employed   | M | 33481 | ... | 0 | 2 | Personal Auto | Personal L3 | Offer1 | Agent       | 1194.8920 | Luxury SUV | Medsize | Med  |\n",
       "| FB95288 | FB95288 | California | 64618.76 | No | Extended | High School or Below | 2011-01-17 | Unemployed | M |     0 | ... | 1 | 2 | Personal Auto | Personal L3 | Offer1 | Branch      | 1562.4000 | Luxury Car | Small   | Low  |\n",
       "\n"
      ],
      "text/plain": [
       "        Customer State      Customer.Lifetime.Value Response Coverage\n",
       "FQ61281 FQ61281  Oregon     83325.38                No       Extended\n",
       "YC54142 YC54142  Washington 74228.52                No       Extended\n",
       "BP23267 BP23267  California 73225.96                No       Extended\n",
       "KH55886 KH55886  Oregon     67907.27                No       Premium \n",
       "SK66747 SK66747  Washington 66025.75                No       Basic   \n",
       "FB95288 FB95288  California 64618.76                No       Extended\n",
       "        Education            Effective.To.Date EmploymentStatus Gender Income\n",
       "FQ61281 High School or Below 2011-01-31        Employed         M      58958 \n",
       "YC54142 High School or Below 2011-01-26        Unemployed       M          0 \n",
       "BP23267 Bachelor             2011-02-09        Employed         F      39547 \n",
       "KH55886 Bachelor             2011-02-05        Employed         M      78310 \n",
       "SK66747 Bachelor             2011-02-22        Employed         M      33481 \n",
       "FB95288 High School or Below 2011-01-17        Unemployed       M          0 \n",
       "        ... Number.of.Open.Complaints Number.of.Policies Policy.Type  \n",
       "FQ61281 ... 0                         2                  Personal Auto\n",
       "YC54142 ... 0                         2                  Personal Auto\n",
       "BP23267 ... 0                         2                  Personal Auto\n",
       "KH55886 ... 1                         2                  Personal Auto\n",
       "SK66747 ... 0                         2                  Personal Auto\n",
       "FB95288 ... 1                         2                  Personal Auto\n",
       "        Policy      Renew.Offer.Type Sales.Channel Total.Claim.Amount\n",
       "FQ61281 Personal L3 Offer1           Call Center   1108.8000         \n",
       "YC54142 Personal L1 Offer1           Branch        1742.4000         \n",
       "BP23267 Personal L3 Offer1           Branch         969.6000         \n",
       "KH55886 Personal L1 Offer1           Agent          151.7115         \n",
       "SK66747 Personal L3 Offer1           Agent         1194.8920         \n",
       "FB95288 Personal L3 Offer1           Branch        1562.4000         \n",
       "        Vehicle.Class Vehicle.Size incomeCat\n",
       "FQ61281 Luxury Car    Small        Med      \n",
       "YC54142 Luxury Car    Medsize      Low      \n",
       "BP23267 Luxury SUV    Medsize      Med      \n",
       "KH55886 Sports Car    Medsize      High     \n",
       "SK66747 Luxury SUV    Medsize      Med      \n",
       "FB95288 Luxury Car    Small        Low      "
      ]
     },
     "metadata": {},
     "output_type": "display_data"
    }
   ],
   "source": [
    "#Look at the minus sign\n",
    "clvDataTMP <- clvData[order(-clvData$Customer.Lifetime.Value),]\n",
    "head(clvDataTMP)"
   ]
  },
  {
   "cell_type": "markdown",
   "metadata": {
    "slideshow": {
     "slide_type": "subslide"
    }
   },
   "source": [
    "A new function from **tidyverse** (more exactly from the dplyr package)\n",
    "* [`arrange()`](https://dplyr.tidyverse.org/reference/arrange.html) to order rows - see  [examples](https://r4ds.had.co.nz/transform.html#arrange-rows-with-arrange)\n",
    "\n",
    "\n",
    "The following line shows how the unordered dataframe can be ordered according to increasing 'Customer'. For decreasing we can use 'desc(Customer)':"
   ]
  },
  {
   "cell_type": "code",
   "execution_count": 53,
   "metadata": {
    "slideshow": {
     "slide_type": "subslide"
    }
   },
   "outputs": [
    {
     "name": "stdout",
     "output_type": "stream",
     "text": [
      "\n",
      "#Tidyverse syntax:\n"
     ]
    },
    {
     "data": {
      "text/html": [
       "<table>\n",
       "<caption>A data.frame: 6 × 25</caption>\n",
       "<thead>\n",
       "\t<tr><th scope=col>Customer</th><th scope=col>State</th><th scope=col>Customer.Lifetime.Value</th><th scope=col>Response</th><th scope=col>Coverage</th><th scope=col>Education</th><th scope=col>Effective.To.Date</th><th scope=col>EmploymentStatus</th><th scope=col>Gender</th><th scope=col>Income</th><th scope=col>...</th><th scope=col>Number.of.Open.Complaints</th><th scope=col>Number.of.Policies</th><th scope=col>Policy.Type</th><th scope=col>Policy</th><th scope=col>Renew.Offer.Type</th><th scope=col>Sales.Channel</th><th scope=col>Total.Claim.Amount</th><th scope=col>Vehicle.Class</th><th scope=col>Vehicle.Size</th><th scope=col>incomeCat</th></tr>\n",
       "\t<tr><th scope=col>&lt;chr&gt;</th><th scope=col>&lt;chr&gt;</th><th scope=col>&lt;dbl&gt;</th><th scope=col>&lt;chr&gt;</th><th scope=col>&lt;chr&gt;</th><th scope=col>&lt;chr&gt;</th><th scope=col>&lt;date&gt;</th><th scope=col>&lt;chr&gt;</th><th scope=col>&lt;chr&gt;</th><th scope=col>&lt;int&gt;</th><th scope=col>...</th><th scope=col>&lt;int&gt;</th><th scope=col>&lt;int&gt;</th><th scope=col>&lt;chr&gt;</th><th scope=col>&lt;chr&gt;</th><th scope=col>&lt;chr&gt;</th><th scope=col>&lt;chr&gt;</th><th scope=col>&lt;dbl&gt;</th><th scope=col>&lt;chr&gt;</th><th scope=col>&lt;chr&gt;</th><th scope=col>&lt;chr&gt;</th></tr>\n",
       "</thead>\n",
       "<tbody>\n",
       "\t<tr><td>FQ61281</td><td>Oregon    </td><td>83325.38</td><td>No</td><td>Extended</td><td>High School or Below</td><td>2011-01-31</td><td>Employed  </td><td>M</td><td>58958</td><td>...</td><td>0</td><td>2</td><td>Personal Auto</td><td>Personal L3</td><td>Offer1</td><td>Call Center</td><td>1108.8000</td><td>Luxury Car</td><td>Small  </td><td>Med </td></tr>\n",
       "\t<tr><td>YC54142</td><td>Washington</td><td>74228.52</td><td>No</td><td>Extended</td><td>High School or Below</td><td>2011-01-26</td><td>Unemployed</td><td>M</td><td>    0</td><td>...</td><td>0</td><td>2</td><td>Personal Auto</td><td>Personal L1</td><td>Offer1</td><td>Branch     </td><td>1742.4000</td><td>Luxury Car</td><td>Medsize</td><td>Low </td></tr>\n",
       "\t<tr><td>BP23267</td><td>California</td><td>73225.96</td><td>No</td><td>Extended</td><td>Bachelor            </td><td>2011-02-09</td><td>Employed  </td><td>F</td><td>39547</td><td>...</td><td>0</td><td>2</td><td>Personal Auto</td><td>Personal L3</td><td>Offer1</td><td>Branch     </td><td> 969.6000</td><td>Luxury SUV</td><td>Medsize</td><td>Med </td></tr>\n",
       "\t<tr><td>KH55886</td><td>Oregon    </td><td>67907.27</td><td>No</td><td>Premium </td><td>Bachelor            </td><td>2011-02-05</td><td>Employed  </td><td>M</td><td>78310</td><td>...</td><td>1</td><td>2</td><td>Personal Auto</td><td>Personal L1</td><td>Offer1</td><td>Agent      </td><td> 151.7115</td><td>Sports Car</td><td>Medsize</td><td>High</td></tr>\n",
       "\t<tr><td>SK66747</td><td>Washington</td><td>66025.75</td><td>No</td><td>Basic   </td><td>Bachelor            </td><td>2011-02-22</td><td>Employed  </td><td>M</td><td>33481</td><td>...</td><td>0</td><td>2</td><td>Personal Auto</td><td>Personal L3</td><td>Offer1</td><td>Agent      </td><td>1194.8920</td><td>Luxury SUV</td><td>Medsize</td><td>Med </td></tr>\n",
       "\t<tr><td>FB95288</td><td>California</td><td>64618.76</td><td>No</td><td>Extended</td><td>High School or Below</td><td>2011-01-17</td><td>Unemployed</td><td>M</td><td>    0</td><td>...</td><td>1</td><td>2</td><td>Personal Auto</td><td>Personal L3</td><td>Offer1</td><td>Branch     </td><td>1562.4000</td><td>Luxury Car</td><td>Small  </td><td>Low </td></tr>\n",
       "</tbody>\n",
       "</table>\n"
      ],
      "text/latex": [
       "A data.frame: 6 × 25\n",
       "\\begin{tabular}{r|lllllllllllllllllllllllll}\n",
       " Customer & State & Customer.Lifetime.Value & Response & Coverage & Education & Effective.To.Date & EmploymentStatus & Gender & Income & Location.Code & Marital.Status & Monthly.Premium.Auto & Months.Since.Last.Claim & Months.Since.Policy.Inception & Number.of.Open.Complaints & Number.of.Policies & Policy.Type & Policy & Renew.Offer.Type & Sales.Channel & Total.Claim.Amount & Vehicle.Class & Vehicle.Size & incomeCat\\\\\n",
       " <chr> & <chr> & <dbl> & <chr> & <chr> & <chr> & <date> & <chr> & <chr> & <int> & <chr> & <chr> & <int> & <int> & <int> & <int> & <int> & <chr> & <chr> & <chr> & <chr> & <dbl> & <chr> & <chr> & <chr>\\\\\n",
       "\\hline\n",
       "\t FQ61281 & Oregon     & 83325.38 & No & Extended & High School or Below & 2011-01-31 & Employed   & M & 58958 & Suburban & Married & 231 & 31 & 74 & 0 & 2 & Personal Auto & Personal L3 & Offer1 & Call Center & 1108.8000 & Luxury Car & Small   & Med \\\\\n",
       "\t YC54142 & Washington & 74228.52 & No & Extended & High School or Below & 2011-01-26 & Unemployed & M &     0 & Suburban & Single  & 242 &  1 & 34 & 0 & 2 & Personal Auto & Personal L1 & Offer1 & Branch      & 1742.4000 & Luxury Car & Medsize & Low \\\\\n",
       "\t BP23267 & California & 73225.96 & No & Extended & Bachelor             & 2011-02-09 & Employed   & F & 39547 & Suburban & Married & 202 & 11 & 21 & 0 & 2 & Personal Auto & Personal L3 & Offer1 & Branch      &  969.6000 & Luxury SUV & Medsize & Med \\\\\n",
       "\t KH55886 & Oregon     & 67907.27 & No & Premium  & Bachelor             & 2011-02-05 & Employed   & M & 78310 & Rural    & Married & 192 & 34 & 18 & 1 & 2 & Personal Auto & Personal L1 & Offer1 & Agent       &  151.7115 & Sports Car & Medsize & High\\\\\n",
       "\t SK66747 & Washington & 66025.75 & No & Basic    & Bachelor             & 2011-02-22 & Employed   & M & 33481 & Suburban & Single  & 188 & 28 & 46 & 0 & 2 & Personal Auto & Personal L3 & Offer1 & Agent       & 1194.8920 & Luxury SUV & Medsize & Med \\\\\n",
       "\t FB95288 & California & 64618.76 & No & Extended & High School or Below & 2011-01-17 & Unemployed & M &     0 & Suburban & Married & 217 & 14 & 40 & 1 & 2 & Personal Auto & Personal L3 & Offer1 & Branch      & 1562.4000 & Luxury Car & Small   & Low \\\\\n",
       "\\end{tabular}\n"
      ],
      "text/markdown": [
       "\n",
       "A data.frame: 6 × 25\n",
       "\n",
       "| Customer &lt;chr&gt; | State &lt;chr&gt; | Customer.Lifetime.Value &lt;dbl&gt; | Response &lt;chr&gt; | Coverage &lt;chr&gt; | Education &lt;chr&gt; | Effective.To.Date &lt;date&gt; | EmploymentStatus &lt;chr&gt; | Gender &lt;chr&gt; | Income &lt;int&gt; | ... ... | Number.of.Open.Complaints &lt;int&gt; | Number.of.Policies &lt;int&gt; | Policy.Type &lt;chr&gt; | Policy &lt;chr&gt; | Renew.Offer.Type &lt;chr&gt; | Sales.Channel &lt;chr&gt; | Total.Claim.Amount &lt;dbl&gt; | Vehicle.Class &lt;chr&gt; | Vehicle.Size &lt;chr&gt; | incomeCat &lt;chr&gt; |\n",
       "|---|---|---|---|---|---|---|---|---|---|---|---|---|---|---|---|---|---|---|---|---|\n",
       "| FQ61281 | Oregon     | 83325.38 | No | Extended | High School or Below | 2011-01-31 | Employed   | M | 58958 | ... | 0 | 2 | Personal Auto | Personal L3 | Offer1 | Call Center | 1108.8000 | Luxury Car | Small   | Med  |\n",
       "| YC54142 | Washington | 74228.52 | No | Extended | High School or Below | 2011-01-26 | Unemployed | M |     0 | ... | 0 | 2 | Personal Auto | Personal L1 | Offer1 | Branch      | 1742.4000 | Luxury Car | Medsize | Low  |\n",
       "| BP23267 | California | 73225.96 | No | Extended | Bachelor             | 2011-02-09 | Employed   | F | 39547 | ... | 0 | 2 | Personal Auto | Personal L3 | Offer1 | Branch      |  969.6000 | Luxury SUV | Medsize | Med  |\n",
       "| KH55886 | Oregon     | 67907.27 | No | Premium  | Bachelor             | 2011-02-05 | Employed   | M | 78310 | ... | 1 | 2 | Personal Auto | Personal L1 | Offer1 | Agent       |  151.7115 | Sports Car | Medsize | High |\n",
       "| SK66747 | Washington | 66025.75 | No | Basic    | Bachelor             | 2011-02-22 | Employed   | M | 33481 | ... | 0 | 2 | Personal Auto | Personal L3 | Offer1 | Agent       | 1194.8920 | Luxury SUV | Medsize | Med  |\n",
       "| FB95288 | California | 64618.76 | No | Extended | High School or Below | 2011-01-17 | Unemployed | M |     0 | ... | 1 | 2 | Personal Auto | Personal L3 | Offer1 | Branch      | 1562.4000 | Luxury Car | Small   | Low  |\n",
       "\n"
      ],
      "text/plain": [
       "  Customer State      Customer.Lifetime.Value Response Coverage\n",
       "1 FQ61281  Oregon     83325.38                No       Extended\n",
       "2 YC54142  Washington 74228.52                No       Extended\n",
       "3 BP23267  California 73225.96                No       Extended\n",
       "4 KH55886  Oregon     67907.27                No       Premium \n",
       "5 SK66747  Washington 66025.75                No       Basic   \n",
       "6 FB95288  California 64618.76                No       Extended\n",
       "  Education            Effective.To.Date EmploymentStatus Gender Income ...\n",
       "1 High School or Below 2011-01-31        Employed         M      58958  ...\n",
       "2 High School or Below 2011-01-26        Unemployed       M          0  ...\n",
       "3 Bachelor             2011-02-09        Employed         F      39547  ...\n",
       "4 Bachelor             2011-02-05        Employed         M      78310  ...\n",
       "5 Bachelor             2011-02-22        Employed         M      33481  ...\n",
       "6 High School or Below 2011-01-17        Unemployed       M          0  ...\n",
       "  Number.of.Open.Complaints Number.of.Policies Policy.Type   Policy     \n",
       "1 0                         2                  Personal Auto Personal L3\n",
       "2 0                         2                  Personal Auto Personal L1\n",
       "3 0                         2                  Personal Auto Personal L3\n",
       "4 1                         2                  Personal Auto Personal L1\n",
       "5 0                         2                  Personal Auto Personal L3\n",
       "6 1                         2                  Personal Auto Personal L3\n",
       "  Renew.Offer.Type Sales.Channel Total.Claim.Amount Vehicle.Class Vehicle.Size\n",
       "1 Offer1           Call Center   1108.8000          Luxury Car    Small       \n",
       "2 Offer1           Branch        1742.4000          Luxury Car    Medsize     \n",
       "3 Offer1           Branch         969.6000          Luxury SUV    Medsize     \n",
       "4 Offer1           Agent          151.7115          Sports Car    Medsize     \n",
       "5 Offer1           Agent         1194.8920          Luxury SUV    Medsize     \n",
       "6 Offer1           Branch        1562.4000          Luxury Car    Small       \n",
       "  incomeCat\n",
       "1 Med      \n",
       "2 Low      \n",
       "3 Med      \n",
       "4 High     \n",
       "5 Med      \n",
       "6 Low      "
      ]
     },
     "metadata": {},
     "output_type": "display_data"
    }
   ],
   "source": [
    "cat(\"\\n#Tidyverse syntax:\\n\")\n",
    "clvDataTMP <- clvData %>%\n",
    "    arrange(Customer)\n",
    "\n",
    "clvDataTMP <- clvData %>%\n",
    "    arrange(desc(Customer.Lifetime.Value))\n",
    "\n",
    "head(clvDataTMP)"
   ]
  },
  {
   "cell_type": "markdown",
   "metadata": {
    "slideshow": {
     "slide_type": "subslide"
    }
   },
   "source": [
    "Sorting can even be applied with respect to more than one variable. E.g. *clvData* can be sorted first according to the *Vehicle.Size* parameter and then according to *Income*:"
   ]
  },
  {
   "cell_type": "code",
   "execution_count": 54,
   "metadata": {
    "ExecuteTime": {
     "end_time": "2017-11-19T14:31:38.906000Z",
     "start_time": "2017-11-19T14:31:38.360Z"
    },
    "slideshow": {
     "slide_type": "fragment"
    }
   },
   "outputs": [
    {
     "data": {
      "text/html": [
       "<table>\n",
       "<caption>A data.frame: 6 × 25</caption>\n",
       "<thead>\n",
       "\t<tr><th></th><th scope=col>Customer</th><th scope=col>State</th><th scope=col>Customer.Lifetime.Value</th><th scope=col>Response</th><th scope=col>Coverage</th><th scope=col>Education</th><th scope=col>Effective.To.Date</th><th scope=col>EmploymentStatus</th><th scope=col>Gender</th><th scope=col>Income</th><th scope=col>...</th><th scope=col>Number.of.Open.Complaints</th><th scope=col>Number.of.Policies</th><th scope=col>Policy.Type</th><th scope=col>Policy</th><th scope=col>Renew.Offer.Type</th><th scope=col>Sales.Channel</th><th scope=col>Total.Claim.Amount</th><th scope=col>Vehicle.Class</th><th scope=col>Vehicle.Size</th><th scope=col>incomeCat</th></tr>\n",
       "\t<tr><th></th><th scope=col>&lt;chr&gt;</th><th scope=col>&lt;chr&gt;</th><th scope=col>&lt;dbl&gt;</th><th scope=col>&lt;chr&gt;</th><th scope=col>&lt;chr&gt;</th><th scope=col>&lt;chr&gt;</th><th scope=col>&lt;date&gt;</th><th scope=col>&lt;chr&gt;</th><th scope=col>&lt;chr&gt;</th><th scope=col>&lt;int&gt;</th><th scope=col>...</th><th scope=col>&lt;int&gt;</th><th scope=col>&lt;int&gt;</th><th scope=col>&lt;chr&gt;</th><th scope=col>&lt;chr&gt;</th><th scope=col>&lt;chr&gt;</th><th scope=col>&lt;chr&gt;</th><th scope=col>&lt;dbl&gt;</th><th scope=col>&lt;chr&gt;</th><th scope=col>&lt;chr&gt;</th><th scope=col>&lt;chr&gt;</th></tr>\n",
       "</thead>\n",
       "<tbody>\n",
       "\t<tr><th scope=row>WB37082</th><td>WB37082</td><td>Arizona   </td><td>6613.974</td><td>No </td><td>Basic   </td><td>Bachelor            </td><td>2011-01-23</td><td>Unemployed</td><td>F</td><td>0</td><td>...</td><td>0</td><td>2</td><td>Personal Auto </td><td>Personal L3 </td><td>Offer3</td><td>Branch     </td><td>676.39148</td><td>Four-Door Car</td><td>Large</td><td>Low</td></tr>\n",
       "\t<tr><th scope=row>GW33762</th><td>GW33762</td><td>Oregon    </td><td>6846.150</td><td>Yes</td><td>Extended</td><td>Bachelor            </td><td>2011-01-27</td><td>Unemployed</td><td>F</td><td>0</td><td>...</td><td>0</td><td>5</td><td>Personal Auto </td><td>Personal L3 </td><td>Offer1</td><td>Call Center</td><td>456.00000</td><td>Two-Door Car </td><td>Large</td><td>Low</td></tr>\n",
       "\t<tr><th scope=row>ZU35962</th><td>ZU35962</td><td>California</td><td>8025.229</td><td>No </td><td>Extended</td><td>College             </td><td>2011-01-26</td><td>Unemployed</td><td>F</td><td>0</td><td>...</td><td>0</td><td>2</td><td>Personal Auto </td><td>Personal L3 </td><td>Offer3</td><td>Branch     </td><td> 25.80768</td><td>Two-Door Car </td><td>Large</td><td>Low</td></tr>\n",
       "\t<tr><th scope=row>DS81757</th><td>DS81757</td><td>Oregon    </td><td>2470.121</td><td>No </td><td>Basic   </td><td>College             </td><td>2011-01-09</td><td>Unemployed</td><td>M</td><td>0</td><td>...</td><td>0</td><td>1</td><td>Personal Auto </td><td>Personal L1 </td><td>Offer4</td><td>Web        </td><td>721.24221</td><td>Two-Door Car </td><td>Large</td><td>Low</td></tr>\n",
       "\t<tr><th scope=row>LM19287</th><td>LM19287</td><td>Oregon    </td><td>3731.505</td><td>Yes</td><td>Extended</td><td>High School or Below</td><td>2011-02-24</td><td>Unemployed</td><td>F</td><td>0</td><td>...</td><td>0</td><td>1</td><td>Personal Auto </td><td>Personal L1 </td><td>Offer1</td><td>Agent      </td><td>460.80000</td><td>Four-Door Car</td><td>Large</td><td>Low</td></tr>\n",
       "\t<tr><th scope=row>EK59571</th><td>EK59571</td><td>Oregon    </td><td>3885.456</td><td>Yes</td><td>Premium </td><td>College             </td><td>2011-02-28</td><td>Unemployed</td><td>M</td><td>0</td><td>...</td><td>0</td><td>1</td><td>Corporate Auto</td><td>Corporate L2</td><td>Offer1</td><td>Branch     </td><td>504.00000</td><td>Four-Door Car</td><td>Large</td><td>Low</td></tr>\n",
       "</tbody>\n",
       "</table>\n"
      ],
      "text/latex": [
       "A data.frame: 6 × 25\n",
       "\\begin{tabular}{r|lllllllllllllllllllllllll}\n",
       "  & Customer & State & Customer.Lifetime.Value & Response & Coverage & Education & Effective.To.Date & EmploymentStatus & Gender & Income & Location.Code & Marital.Status & Monthly.Premium.Auto & Months.Since.Last.Claim & Months.Since.Policy.Inception & Number.of.Open.Complaints & Number.of.Policies & Policy.Type & Policy & Renew.Offer.Type & Sales.Channel & Total.Claim.Amount & Vehicle.Class & Vehicle.Size & incomeCat\\\\\n",
       "  & <chr> & <chr> & <dbl> & <chr> & <chr> & <chr> & <date> & <chr> & <chr> & <int> & <chr> & <chr> & <int> & <int> & <int> & <int> & <int> & <chr> & <chr> & <chr> & <chr> & <dbl> & <chr> & <chr> & <chr>\\\\\n",
       "\\hline\n",
       "\tWB37082 & WB37082 & Arizona    & 6613.974 & No  & Basic    & Bachelor             & 2011-01-23 & Unemployed & F & 0 & Suburban & Single   &  63 & 21 & 28 & 0 & 2 & Personal Auto  & Personal L3  & Offer3 & Branch      & 676.39148 & Four-Door Car & Large & Low\\\\\n",
       "\tGW33762 & GW33762 & Oregon     & 6846.150 & Yes & Extended & Bachelor             & 2011-01-27 & Unemployed & F & 0 & Suburban & Divorced &  95 & 13 & 20 & 0 & 5 & Personal Auto  & Personal L3  & Offer1 & Call Center & 456.00000 & Two-Door Car  & Large & Low\\\\\n",
       "\tZU35962 & ZU35962 & California & 8025.229 & No  & Extended & College              & 2011-01-26 & Unemployed & F & 0 & Rural    & Single   &  77 & 20 & 26 & 0 & 2 & Personal Auto  & Personal L3  & Offer3 & Branch      &  25.80768 & Two-Door Car  & Large & Low\\\\\n",
       "\tDS81757 & DS81757 & Oregon     & 2470.121 & No  & Basic    & College              & 2011-01-09 & Unemployed & M & 0 & Suburban & Single   &  74 &  7 & 20 & 0 & 1 & Personal Auto  & Personal L1  & Offer4 & Web         & 721.24221 & Two-Door Car  & Large & Low\\\\\n",
       "\tLM19287 & LM19287 & Oregon     & 3731.505 & Yes & Extended & High School or Below & 2011-02-24 & Unemployed & F & 0 & Suburban & Married  &  96 & 31 & 34 & 0 & 1 & Personal Auto  & Personal L1  & Offer1 & Agent       & 460.80000 & Four-Door Car & Large & Low\\\\\n",
       "\tEK59571 & EK59571 & Oregon     & 3885.456 & Yes & Premium  & College              & 2011-02-28 & Unemployed & M & 0 & Suburban & Married  & 105 &  3 & 92 & 0 & 1 & Corporate Auto & Corporate L2 & Offer1 & Branch      & 504.00000 & Four-Door Car & Large & Low\\\\\n",
       "\\end{tabular}\n"
      ],
      "text/markdown": [
       "\n",
       "A data.frame: 6 × 25\n",
       "\n",
       "| <!--/--> | Customer &lt;chr&gt; | State &lt;chr&gt; | Customer.Lifetime.Value &lt;dbl&gt; | Response &lt;chr&gt; | Coverage &lt;chr&gt; | Education &lt;chr&gt; | Effective.To.Date &lt;date&gt; | EmploymentStatus &lt;chr&gt; | Gender &lt;chr&gt; | Income &lt;int&gt; | ... ... | Number.of.Open.Complaints &lt;int&gt; | Number.of.Policies &lt;int&gt; | Policy.Type &lt;chr&gt; | Policy &lt;chr&gt; | Renew.Offer.Type &lt;chr&gt; | Sales.Channel &lt;chr&gt; | Total.Claim.Amount &lt;dbl&gt; | Vehicle.Class &lt;chr&gt; | Vehicle.Size &lt;chr&gt; | incomeCat &lt;chr&gt; |\n",
       "|---|---|---|---|---|---|---|---|---|---|---|---|---|---|---|---|---|---|---|---|---|---|\n",
       "| WB37082 | WB37082 | Arizona    | 6613.974 | No  | Basic    | Bachelor             | 2011-01-23 | Unemployed | F | 0 | ... | 0 | 2 | Personal Auto  | Personal L3  | Offer3 | Branch      | 676.39148 | Four-Door Car | Large | Low |\n",
       "| GW33762 | GW33762 | Oregon     | 6846.150 | Yes | Extended | Bachelor             | 2011-01-27 | Unemployed | F | 0 | ... | 0 | 5 | Personal Auto  | Personal L3  | Offer1 | Call Center | 456.00000 | Two-Door Car  | Large | Low |\n",
       "| ZU35962 | ZU35962 | California | 8025.229 | No  | Extended | College              | 2011-01-26 | Unemployed | F | 0 | ... | 0 | 2 | Personal Auto  | Personal L3  | Offer3 | Branch      |  25.80768 | Two-Door Car  | Large | Low |\n",
       "| DS81757 | DS81757 | Oregon     | 2470.121 | No  | Basic    | College              | 2011-01-09 | Unemployed | M | 0 | ... | 0 | 1 | Personal Auto  | Personal L1  | Offer4 | Web         | 721.24221 | Two-Door Car  | Large | Low |\n",
       "| LM19287 | LM19287 | Oregon     | 3731.505 | Yes | Extended | High School or Below | 2011-02-24 | Unemployed | F | 0 | ... | 0 | 1 | Personal Auto  | Personal L1  | Offer1 | Agent       | 460.80000 | Four-Door Car | Large | Low |\n",
       "| EK59571 | EK59571 | Oregon     | 3885.456 | Yes | Premium  | College              | 2011-02-28 | Unemployed | M | 0 | ... | 0 | 1 | Corporate Auto | Corporate L2 | Offer1 | Branch      | 504.00000 | Four-Door Car | Large | Low |\n",
       "\n"
      ],
      "text/plain": [
       "        Customer State      Customer.Lifetime.Value Response Coverage\n",
       "WB37082 WB37082  Arizona    6613.974                No       Basic   \n",
       "GW33762 GW33762  Oregon     6846.150                Yes      Extended\n",
       "ZU35962 ZU35962  California 8025.229                No       Extended\n",
       "DS81757 DS81757  Oregon     2470.121                No       Basic   \n",
       "LM19287 LM19287  Oregon     3731.505                Yes      Extended\n",
       "EK59571 EK59571  Oregon     3885.456                Yes      Premium \n",
       "        Education            Effective.To.Date EmploymentStatus Gender Income\n",
       "WB37082 Bachelor             2011-01-23        Unemployed       F      0     \n",
       "GW33762 Bachelor             2011-01-27        Unemployed       F      0     \n",
       "ZU35962 College              2011-01-26        Unemployed       F      0     \n",
       "DS81757 College              2011-01-09        Unemployed       M      0     \n",
       "LM19287 High School or Below 2011-02-24        Unemployed       F      0     \n",
       "EK59571 College              2011-02-28        Unemployed       M      0     \n",
       "        ... Number.of.Open.Complaints Number.of.Policies Policy.Type   \n",
       "WB37082 ... 0                         2                  Personal Auto \n",
       "GW33762 ... 0                         5                  Personal Auto \n",
       "ZU35962 ... 0                         2                  Personal Auto \n",
       "DS81757 ... 0                         1                  Personal Auto \n",
       "LM19287 ... 0                         1                  Personal Auto \n",
       "EK59571 ... 0                         1                  Corporate Auto\n",
       "        Policy       Renew.Offer.Type Sales.Channel Total.Claim.Amount\n",
       "WB37082 Personal L3  Offer3           Branch        676.39148         \n",
       "GW33762 Personal L3  Offer1           Call Center   456.00000         \n",
       "ZU35962 Personal L3  Offer3           Branch         25.80768         \n",
       "DS81757 Personal L1  Offer4           Web           721.24221         \n",
       "LM19287 Personal L1  Offer1           Agent         460.80000         \n",
       "EK59571 Corporate L2 Offer1           Branch        504.00000         \n",
       "        Vehicle.Class Vehicle.Size incomeCat\n",
       "WB37082 Four-Door Car Large        Low      \n",
       "GW33762 Two-Door Car  Large        Low      \n",
       "ZU35962 Two-Door Car  Large        Low      \n",
       "DS81757 Two-Door Car  Large        Low      \n",
       "LM19287 Four-Door Car Large        Low      \n",
       "EK59571 Four-Door Car Large        Low      "
      ]
     },
     "metadata": {},
     "output_type": "display_data"
    }
   ],
   "source": [
    "clvDataByCat <- clvData[order(clvData$Vehicle.Size, clvData$Income),]\n",
    "head(clvDataByCat)\n"
   ]
  },
  {
   "cell_type": "code",
   "execution_count": 55,
   "metadata": {
    "slideshow": {
     "slide_type": "subslide"
    }
   },
   "outputs": [
    {
     "name": "stdout",
     "output_type": "stream",
     "text": [
      "\n",
      "#Tidyverse syntax:\n"
     ]
    },
    {
     "data": {
      "text/html": [
       "<table>\n",
       "<caption>A data.frame: 6 × 25</caption>\n",
       "<thead>\n",
       "\t<tr><th scope=col>Customer</th><th scope=col>State</th><th scope=col>Customer.Lifetime.Value</th><th scope=col>Response</th><th scope=col>Coverage</th><th scope=col>Education</th><th scope=col>Effective.To.Date</th><th scope=col>EmploymentStatus</th><th scope=col>Gender</th><th scope=col>Income</th><th scope=col>...</th><th scope=col>Number.of.Open.Complaints</th><th scope=col>Number.of.Policies</th><th scope=col>Policy.Type</th><th scope=col>Policy</th><th scope=col>Renew.Offer.Type</th><th scope=col>Sales.Channel</th><th scope=col>Total.Claim.Amount</th><th scope=col>Vehicle.Class</th><th scope=col>Vehicle.Size</th><th scope=col>incomeCat</th></tr>\n",
       "\t<tr><th scope=col>&lt;chr&gt;</th><th scope=col>&lt;chr&gt;</th><th scope=col>&lt;dbl&gt;</th><th scope=col>&lt;chr&gt;</th><th scope=col>&lt;chr&gt;</th><th scope=col>&lt;chr&gt;</th><th scope=col>&lt;date&gt;</th><th scope=col>&lt;chr&gt;</th><th scope=col>&lt;chr&gt;</th><th scope=col>&lt;int&gt;</th><th scope=col>...</th><th scope=col>&lt;int&gt;</th><th scope=col>&lt;int&gt;</th><th scope=col>&lt;chr&gt;</th><th scope=col>&lt;chr&gt;</th><th scope=col>&lt;chr&gt;</th><th scope=col>&lt;chr&gt;</th><th scope=col>&lt;dbl&gt;</th><th scope=col>&lt;chr&gt;</th><th scope=col>&lt;chr&gt;</th><th scope=col>&lt;chr&gt;</th></tr>\n",
       "</thead>\n",
       "<tbody>\n",
       "\t<tr><td>WB37082</td><td>Arizona   </td><td>6613.974</td><td>No </td><td>Basic   </td><td>Bachelor            </td><td>2011-01-23</td><td>Unemployed</td><td>F</td><td>0</td><td>...</td><td>0</td><td>2</td><td>Personal Auto </td><td>Personal L3 </td><td>Offer3</td><td>Branch     </td><td>676.39148</td><td>Four-Door Car</td><td>Large</td><td>Low</td></tr>\n",
       "\t<tr><td>GW33762</td><td>Oregon    </td><td>6846.150</td><td>Yes</td><td>Extended</td><td>Bachelor            </td><td>2011-01-27</td><td>Unemployed</td><td>F</td><td>0</td><td>...</td><td>0</td><td>5</td><td>Personal Auto </td><td>Personal L3 </td><td>Offer1</td><td>Call Center</td><td>456.00000</td><td>Two-Door Car </td><td>Large</td><td>Low</td></tr>\n",
       "\t<tr><td>ZU35962</td><td>California</td><td>8025.229</td><td>No </td><td>Extended</td><td>College             </td><td>2011-01-26</td><td>Unemployed</td><td>F</td><td>0</td><td>...</td><td>0</td><td>2</td><td>Personal Auto </td><td>Personal L3 </td><td>Offer3</td><td>Branch     </td><td> 25.80768</td><td>Two-Door Car </td><td>Large</td><td>Low</td></tr>\n",
       "\t<tr><td>DS81757</td><td>Oregon    </td><td>2470.121</td><td>No </td><td>Basic   </td><td>College             </td><td>2011-01-09</td><td>Unemployed</td><td>M</td><td>0</td><td>...</td><td>0</td><td>1</td><td>Personal Auto </td><td>Personal L1 </td><td>Offer4</td><td>Web        </td><td>721.24221</td><td>Two-Door Car </td><td>Large</td><td>Low</td></tr>\n",
       "\t<tr><td>LM19287</td><td>Oregon    </td><td>3731.505</td><td>Yes</td><td>Extended</td><td>High School or Below</td><td>2011-02-24</td><td>Unemployed</td><td>F</td><td>0</td><td>...</td><td>0</td><td>1</td><td>Personal Auto </td><td>Personal L1 </td><td>Offer1</td><td>Agent      </td><td>460.80000</td><td>Four-Door Car</td><td>Large</td><td>Low</td></tr>\n",
       "\t<tr><td>EK59571</td><td>Oregon    </td><td>3885.456</td><td>Yes</td><td>Premium </td><td>College             </td><td>2011-02-28</td><td>Unemployed</td><td>M</td><td>0</td><td>...</td><td>0</td><td>1</td><td>Corporate Auto</td><td>Corporate L2</td><td>Offer1</td><td>Branch     </td><td>504.00000</td><td>Four-Door Car</td><td>Large</td><td>Low</td></tr>\n",
       "</tbody>\n",
       "</table>\n"
      ],
      "text/latex": [
       "A data.frame: 6 × 25\n",
       "\\begin{tabular}{r|lllllllllllllllllllllllll}\n",
       " Customer & State & Customer.Lifetime.Value & Response & Coverage & Education & Effective.To.Date & EmploymentStatus & Gender & Income & Location.Code & Marital.Status & Monthly.Premium.Auto & Months.Since.Last.Claim & Months.Since.Policy.Inception & Number.of.Open.Complaints & Number.of.Policies & Policy.Type & Policy & Renew.Offer.Type & Sales.Channel & Total.Claim.Amount & Vehicle.Class & Vehicle.Size & incomeCat\\\\\n",
       " <chr> & <chr> & <dbl> & <chr> & <chr> & <chr> & <date> & <chr> & <chr> & <int> & <chr> & <chr> & <int> & <int> & <int> & <int> & <int> & <chr> & <chr> & <chr> & <chr> & <dbl> & <chr> & <chr> & <chr>\\\\\n",
       "\\hline\n",
       "\t WB37082 & Arizona    & 6613.974 & No  & Basic    & Bachelor             & 2011-01-23 & Unemployed & F & 0 & Suburban & Single   &  63 & 21 & 28 & 0 & 2 & Personal Auto  & Personal L3  & Offer3 & Branch      & 676.39148 & Four-Door Car & Large & Low\\\\\n",
       "\t GW33762 & Oregon     & 6846.150 & Yes & Extended & Bachelor             & 2011-01-27 & Unemployed & F & 0 & Suburban & Divorced &  95 & 13 & 20 & 0 & 5 & Personal Auto  & Personal L3  & Offer1 & Call Center & 456.00000 & Two-Door Car  & Large & Low\\\\\n",
       "\t ZU35962 & California & 8025.229 & No  & Extended & College              & 2011-01-26 & Unemployed & F & 0 & Rural    & Single   &  77 & 20 & 26 & 0 & 2 & Personal Auto  & Personal L3  & Offer3 & Branch      &  25.80768 & Two-Door Car  & Large & Low\\\\\n",
       "\t DS81757 & Oregon     & 2470.121 & No  & Basic    & College              & 2011-01-09 & Unemployed & M & 0 & Suburban & Single   &  74 &  7 & 20 & 0 & 1 & Personal Auto  & Personal L1  & Offer4 & Web         & 721.24221 & Two-Door Car  & Large & Low\\\\\n",
       "\t LM19287 & Oregon     & 3731.505 & Yes & Extended & High School or Below & 2011-02-24 & Unemployed & F & 0 & Suburban & Married  &  96 & 31 & 34 & 0 & 1 & Personal Auto  & Personal L1  & Offer1 & Agent       & 460.80000 & Four-Door Car & Large & Low\\\\\n",
       "\t EK59571 & Oregon     & 3885.456 & Yes & Premium  & College              & 2011-02-28 & Unemployed & M & 0 & Suburban & Married  & 105 &  3 & 92 & 0 & 1 & Corporate Auto & Corporate L2 & Offer1 & Branch      & 504.00000 & Four-Door Car & Large & Low\\\\\n",
       "\\end{tabular}\n"
      ],
      "text/markdown": [
       "\n",
       "A data.frame: 6 × 25\n",
       "\n",
       "| Customer &lt;chr&gt; | State &lt;chr&gt; | Customer.Lifetime.Value &lt;dbl&gt; | Response &lt;chr&gt; | Coverage &lt;chr&gt; | Education &lt;chr&gt; | Effective.To.Date &lt;date&gt; | EmploymentStatus &lt;chr&gt; | Gender &lt;chr&gt; | Income &lt;int&gt; | ... ... | Number.of.Open.Complaints &lt;int&gt; | Number.of.Policies &lt;int&gt; | Policy.Type &lt;chr&gt; | Policy &lt;chr&gt; | Renew.Offer.Type &lt;chr&gt; | Sales.Channel &lt;chr&gt; | Total.Claim.Amount &lt;dbl&gt; | Vehicle.Class &lt;chr&gt; | Vehicle.Size &lt;chr&gt; | incomeCat &lt;chr&gt; |\n",
       "|---|---|---|---|---|---|---|---|---|---|---|---|---|---|---|---|---|---|---|---|---|\n",
       "| WB37082 | Arizona    | 6613.974 | No  | Basic    | Bachelor             | 2011-01-23 | Unemployed | F | 0 | ... | 0 | 2 | Personal Auto  | Personal L3  | Offer3 | Branch      | 676.39148 | Four-Door Car | Large | Low |\n",
       "| GW33762 | Oregon     | 6846.150 | Yes | Extended | Bachelor             | 2011-01-27 | Unemployed | F | 0 | ... | 0 | 5 | Personal Auto  | Personal L3  | Offer1 | Call Center | 456.00000 | Two-Door Car  | Large | Low |\n",
       "| ZU35962 | California | 8025.229 | No  | Extended | College              | 2011-01-26 | Unemployed | F | 0 | ... | 0 | 2 | Personal Auto  | Personal L3  | Offer3 | Branch      |  25.80768 | Two-Door Car  | Large | Low |\n",
       "| DS81757 | Oregon     | 2470.121 | No  | Basic    | College              | 2011-01-09 | Unemployed | M | 0 | ... | 0 | 1 | Personal Auto  | Personal L1  | Offer4 | Web         | 721.24221 | Two-Door Car  | Large | Low |\n",
       "| LM19287 | Oregon     | 3731.505 | Yes | Extended | High School or Below | 2011-02-24 | Unemployed | F | 0 | ... | 0 | 1 | Personal Auto  | Personal L1  | Offer1 | Agent       | 460.80000 | Four-Door Car | Large | Low |\n",
       "| EK59571 | Oregon     | 3885.456 | Yes | Premium  | College              | 2011-02-28 | Unemployed | M | 0 | ... | 0 | 1 | Corporate Auto | Corporate L2 | Offer1 | Branch      | 504.00000 | Four-Door Car | Large | Low |\n",
       "\n"
      ],
      "text/plain": [
       "  Customer State      Customer.Lifetime.Value Response Coverage\n",
       "1 WB37082  Arizona    6613.974                No       Basic   \n",
       "2 GW33762  Oregon     6846.150                Yes      Extended\n",
       "3 ZU35962  California 8025.229                No       Extended\n",
       "4 DS81757  Oregon     2470.121                No       Basic   \n",
       "5 LM19287  Oregon     3731.505                Yes      Extended\n",
       "6 EK59571  Oregon     3885.456                Yes      Premium \n",
       "  Education            Effective.To.Date EmploymentStatus Gender Income ...\n",
       "1 Bachelor             2011-01-23        Unemployed       F      0      ...\n",
       "2 Bachelor             2011-01-27        Unemployed       F      0      ...\n",
       "3 College              2011-01-26        Unemployed       F      0      ...\n",
       "4 College              2011-01-09        Unemployed       M      0      ...\n",
       "5 High School or Below 2011-02-24        Unemployed       F      0      ...\n",
       "6 College              2011-02-28        Unemployed       M      0      ...\n",
       "  Number.of.Open.Complaints Number.of.Policies Policy.Type    Policy      \n",
       "1 0                         2                  Personal Auto  Personal L3 \n",
       "2 0                         5                  Personal Auto  Personal L3 \n",
       "3 0                         2                  Personal Auto  Personal L3 \n",
       "4 0                         1                  Personal Auto  Personal L1 \n",
       "5 0                         1                  Personal Auto  Personal L1 \n",
       "6 0                         1                  Corporate Auto Corporate L2\n",
       "  Renew.Offer.Type Sales.Channel Total.Claim.Amount Vehicle.Class Vehicle.Size\n",
       "1 Offer3           Branch        676.39148          Four-Door Car Large       \n",
       "2 Offer1           Call Center   456.00000          Two-Door Car  Large       \n",
       "3 Offer3           Branch         25.80768          Two-Door Car  Large       \n",
       "4 Offer4           Web           721.24221          Two-Door Car  Large       \n",
       "5 Offer1           Agent         460.80000          Four-Door Car Large       \n",
       "6 Offer1           Branch        504.00000          Four-Door Car Large       \n",
       "  incomeCat\n",
       "1 Low      \n",
       "2 Low      \n",
       "3 Low      \n",
       "4 Low      \n",
       "5 Low      \n",
       "6 Low      "
      ]
     },
     "metadata": {},
     "output_type": "display_data"
    }
   ],
   "source": [
    "\n",
    "cat(\"\\n#Tidyverse syntax:\\n\")\n",
    "clvDataByCat <- clvData %>%\n",
    "    arrange(Vehicle.Size, Income)\n",
    "\n",
    "head(clvDataByCat)\n"
   ]
  },
  {
   "cell_type": "markdown",
   "metadata": {
    "slideshow": {
     "slide_type": "slide"
    }
   },
   "source": [
    "\n",
    "## Aggregate Data\n",
    "    \n",
    "The term aggregation refers to the process of partitioning all rows of a dataframe, which have the same value in one or more configurable attributes, and summarize each partition by the value of a configurable function. In the example below all observations, which have the same value in the attribute `Vehicle.Size` are mapped to the same partition and the `mean()`-function is applied to all numeric attributes of each partition."
   ]
  },
  {
   "cell_type": "markdown",
   "metadata": {
    "slideshow": {
     "slide_type": "subslide"
    }
   },
   "source": [
    "With [`aggregate(x, by, FUN)`](https://www.rdocumentation.org/packages/stats/versions/3.6.1/topics/aggregate) we can aggregate 'x' with the 'by' argument containing a list of grouping elements and a call of function 'FUN' for every aggregated set.\n",
    "\n",
    "New functions from **tidyverse** (more exactly from the dplyr package)\n",
    "* [`group_by()`](https://dplyr.tidyverse.org/reference/group_by.html) to group rows by different parameters - see [examples](https://r4ds.had.co.nz/transform.html#grouped-summaries-with-summarise).\n",
    "* [`summarise()`](https://dplyr.tidyverse.org/reference/summarise.html) to summarize the grouped data sets by different parameters - see [examples](https://r4ds.had.co.nz/transform.html#grouped-summaries-with-summarise). Look also at [Useful summary functions](https://r4ds.had.co.nz/transform.html#summarise-funs).\n"
   ]
  },
  {
   "cell_type": "code",
   "execution_count": 56,
   "metadata": {
    "ExecuteTime": {
     "end_time": "2017-11-19T14:32:53.442000Z",
     "start_time": "2017-11-19T14:32:53.361Z"
    },
    "slideshow": {
     "slide_type": "subslide"
    }
   },
   "outputs": [
    {
     "data": {
      "text/html": [
       "<table>\n",
       "<caption>A data.frame: 3 × 3</caption>\n",
       "<thead>\n",
       "\t<tr><th scope=col>Group.Vehicle.Size</th><th scope=col>Income</th><th scope=col>Customer.Lifetime.Value</th></tr>\n",
       "\t<tr><th scope=col>&lt;chr&gt;</th><th scope=col>&lt;dbl&gt;</th><th scope=col>&lt;dbl&gt;</th></tr>\n",
       "</thead>\n",
       "<tbody>\n",
       "\t<tr><td>Large  </td><td>35969.71</td><td>7544.996</td></tr>\n",
       "\t<tr><td>Medsize</td><td>37972.14</td><td>8051.863</td></tr>\n",
       "\t<tr><td>Small  </td><td>37419.52</td><td>8087.647</td></tr>\n",
       "</tbody>\n",
       "</table>\n"
      ],
      "text/latex": [
       "A data.frame: 3 × 3\n",
       "\\begin{tabular}{r|lll}\n",
       " Group.Vehicle.Size & Income & Customer.Lifetime.Value\\\\\n",
       " <chr> & <dbl> & <dbl>\\\\\n",
       "\\hline\n",
       "\t Large   & 35969.71 & 7544.996\\\\\n",
       "\t Medsize & 37972.14 & 8051.863\\\\\n",
       "\t Small   & 37419.52 & 8087.647\\\\\n",
       "\\end{tabular}\n"
      ],
      "text/markdown": [
       "\n",
       "A data.frame: 3 × 3\n",
       "\n",
       "| Group.Vehicle.Size &lt;chr&gt; | Income &lt;dbl&gt; | Customer.Lifetime.Value &lt;dbl&gt; |\n",
       "|---|---|---|\n",
       "| Large   | 35969.71 | 7544.996 |\n",
       "| Medsize | 37972.14 | 8051.863 |\n",
       "| Small   | 37419.52 | 8087.647 |\n",
       "\n"
      ],
      "text/plain": [
       "  Group.Vehicle.Size Income   Customer.Lifetime.Value\n",
       "1 Large              35969.71 7544.996               \n",
       "2 Medsize            37972.14 8051.863               \n",
       "3 Small              37419.52 8087.647               "
      ]
     },
     "metadata": {},
     "output_type": "display_data"
    }
   ],
   "source": [
    "  \n",
    "summedByCat <- aggregate(clvData[c(\"Income\", \"Customer.Lifetime.Value\")],                          \n",
    "                         by=list(Group.Vehicle.Size=clvData$Vehicle.Size),\n",
    "                         FUN=mean,\n",
    "                         na.rm=TRUE)\n",
    "summedByCat\n"
   ]
  },
  {
   "cell_type": "code",
   "execution_count": 57,
   "metadata": {
    "slideshow": {
     "slide_type": "subslide"
    }
   },
   "outputs": [
    {
     "name": "stdout",
     "output_type": "stream",
     "text": [
      "\n",
      "#Tidyverse syntax:\n"
     ]
    },
    {
     "data": {
      "text/html": [
       "<table>\n",
       "<caption>A tibble: 3 × 4</caption>\n",
       "<thead>\n",
       "\t<tr><th scope=col>Group.Vehicle.Size</th><th scope=col>count</th><th scope=col>Income_mean</th><th scope=col>Customer.Lifetime.Value_mean</th></tr>\n",
       "\t<tr><th scope=col>&lt;chr&gt;</th><th scope=col>&lt;int&gt;</th><th scope=col>&lt;dbl&gt;</th><th scope=col>&lt;dbl&gt;</th></tr>\n",
       "</thead>\n",
       "<tbody>\n",
       "\t<tr><td>Large  </td><td> 946</td><td>35969.71</td><td>7544.996</td></tr>\n",
       "\t<tr><td>Medsize</td><td>6421</td><td>37972.14</td><td>8051.863</td></tr>\n",
       "\t<tr><td>Small  </td><td>1762</td><td>37419.52</td><td>8087.647</td></tr>\n",
       "</tbody>\n",
       "</table>\n"
      ],
      "text/latex": [
       "A tibble: 3 × 4\n",
       "\\begin{tabular}{r|llll}\n",
       " Group.Vehicle.Size & count & Income\\_mean & Customer.Lifetime.Value\\_mean\\\\\n",
       " <chr> & <int> & <dbl> & <dbl>\\\\\n",
       "\\hline\n",
       "\t Large   &  946 & 35969.71 & 7544.996\\\\\n",
       "\t Medsize & 6421 & 37972.14 & 8051.863\\\\\n",
       "\t Small   & 1762 & 37419.52 & 8087.647\\\\\n",
       "\\end{tabular}\n"
      ],
      "text/markdown": [
       "\n",
       "A tibble: 3 × 4\n",
       "\n",
       "| Group.Vehicle.Size &lt;chr&gt; | count &lt;int&gt; | Income_mean &lt;dbl&gt; | Customer.Lifetime.Value_mean &lt;dbl&gt; |\n",
       "|---|---|---|---|\n",
       "| Large   |  946 | 35969.71 | 7544.996 |\n",
       "| Medsize | 6421 | 37972.14 | 8051.863 |\n",
       "| Small   | 1762 | 37419.52 | 8087.647 |\n",
       "\n"
      ],
      "text/plain": [
       "  Group.Vehicle.Size count Income_mean Customer.Lifetime.Value_mean\n",
       "1 Large               946  35969.71    7544.996                    \n",
       "2 Medsize            6421  37972.14    8051.863                    \n",
       "3 Small              1762  37419.52    8087.647                    "
      ]
     },
     "metadata": {},
     "output_type": "display_data"
    }
   ],
   "source": [
    "cat(\"\\n#Tidyverse syntax:\\n\")\n",
    "#by_def <- group_by(clvData, Vehicle.Size)\n",
    "summedByCat <- clvData %>%\n",
    "        group_by(Group.Vehicle.Size = Vehicle.Size) %>%\n",
    "        summarise(\n",
    "            count = n(),                             # show also the numbers\n",
    "            Income_mean = mean(Income, na.rm = TRUE),\n",
    "            Customer.Lifetime.Value_mean = mean(Customer.Lifetime.Value, na.rm = TRUE)\n",
    "        )     # %>% filter(...)  # you can also chain other functions\n",
    "\n",
    "summedByCat\n",
    "\n",
    "#Other useful summary functions: \n",
    "#   see https://r4ds.had.co.nz/transform.html#summarise-funs\n",
    "\n",
    "#KEEP IN MIND:\n",
    "#summarise() can only handle one return value of the summary-function, e.g. mean() ...\n",
    "#See discussion with Hadley Wickham at https://github.com/tidyverse/dplyr/issues/154\n",
    "#\n",
    "#In lecture \"Selection of statistical R-functions\" we discuss another solution\n"
   ]
  },
  {
   "cell_type": "markdown",
   "metadata": {
    "slideshow": {
     "slide_type": "subslide"
    }
   },
   "source": [
    "As we have seen above, we can use [**do()**](https://www.r-bloggers.com/dplyr-do-some-tips-for-using-and-programming/) to prevent the automatic insertion of the data (defined by .) at the first position in a pipe (defined by %>%). Especially at grouping, the `do()` consider the aggregated data sets.\n"
   ]
  },
  {
   "cell_type": "code",
   "execution_count": 58,
   "metadata": {
    "slideshow": {
     "slide_type": "subslide"
    }
   },
   "outputs": [
    {
     "data": {
      "text/html": [
       "<table>\n",
       "<caption>A grouped_df: 6 × 4</caption>\n",
       "<thead>\n",
       "\t<tr><th scope=col>Customer</th><th scope=col>Effective.To.Date</th><th scope=col>Income</th><th scope=col>Group.Vehicle.Size</th></tr>\n",
       "\t<tr><th scope=col>&lt;chr&gt;</th><th scope=col>&lt;date&gt;</th><th scope=col>&lt;int&gt;</th><th scope=col>&lt;chr&gt;</th></tr>\n",
       "</thead>\n",
       "<tbody>\n",
       "\t<tr><td>FS42516</td><td>2011-01-29</td><td>97541</td><td>Large  </td></tr>\n",
       "\t<tr><td>GE62437</td><td>2011-02-02</td><td>86584</td><td>Large  </td></tr>\n",
       "\t<tr><td>BU79786</td><td>2011-02-24</td><td>56274</td><td>Medsize</td></tr>\n",
       "\t<tr><td>QZ44356</td><td>2011-01-31</td><td>    0</td><td>Medsize</td></tr>\n",
       "\t<tr><td>SX51350</td><td>2011-02-21</td><td>    0</td><td>Small  </td></tr>\n",
       "\t<tr><td>FL50705</td><td>2011-01-14</td><td>66140</td><td>Small  </td></tr>\n",
       "</tbody>\n",
       "</table>\n"
      ],
      "text/latex": [
       "A grouped_df: 6 × 4\n",
       "\\begin{tabular}{r|llll}\n",
       " Customer & Effective.To.Date & Income & Group.Vehicle.Size\\\\\n",
       " <chr> & <date> & <int> & <chr>\\\\\n",
       "\\hline\n",
       "\t FS42516 & 2011-01-29 & 97541 & Large  \\\\\n",
       "\t GE62437 & 2011-02-02 & 86584 & Large  \\\\\n",
       "\t BU79786 & 2011-02-24 & 56274 & Medsize\\\\\n",
       "\t QZ44356 & 2011-01-31 &     0 & Medsize\\\\\n",
       "\t SX51350 & 2011-02-21 &     0 & Small  \\\\\n",
       "\t FL50705 & 2011-01-14 & 66140 & Small  \\\\\n",
       "\\end{tabular}\n"
      ],
      "text/markdown": [
       "\n",
       "A grouped_df: 6 × 4\n",
       "\n",
       "| Customer &lt;chr&gt; | Effective.To.Date &lt;date&gt; | Income &lt;int&gt; | Group.Vehicle.Size &lt;chr&gt; |\n",
       "|---|---|---|---|\n",
       "| FS42516 | 2011-01-29 | 97541 | Large   |\n",
       "| GE62437 | 2011-02-02 | 86584 | Large   |\n",
       "| BU79786 | 2011-02-24 | 56274 | Medsize |\n",
       "| QZ44356 | 2011-01-31 |     0 | Medsize |\n",
       "| SX51350 | 2011-02-21 |     0 | Small   |\n",
       "| FL50705 | 2011-01-14 | 66140 | Small   |\n",
       "\n"
      ],
      "text/plain": [
       "  Customer Effective.To.Date Income Group.Vehicle.Size\n",
       "1 FS42516  2011-01-29        97541  Large             \n",
       "2 GE62437  2011-02-02        86584  Large             \n",
       "3 BU79786  2011-02-24        56274  Medsize           \n",
       "4 QZ44356  2011-01-31            0  Medsize           \n",
       "5 SX51350  2011-02-21            0  Small             \n",
       "6 FL50705  2011-01-14        66140  Small             "
      ]
     },
     "metadata": {},
     "output_type": "display_data"
    }
   ],
   "source": [
    "\n",
    "groupByCat <- clvData %>%\n",
    "        group_by(Group.Vehicle.Size = Vehicle.Size) %>%\n",
    "        select(Customer, Effective.To.Date, Income, Group.Vehicle.Size) %>%\n",
    "        do(head(., 2))\n",
    "\n",
    "groupByCat\n"
   ]
  },
  {
   "cell_type": "markdown",
   "metadata": {
    "slideshow": {
     "slide_type": "subslide"
    }
   },
   "source": [
    "### Helpful function expand.grid()\n",
    "\n",
    "Sometimes it is helpful to have a data frame with all combinations of given vectors or given factors. Using [`expand.grid()`](https://tidyr.tidyverse.org/reference/expand.html) help to solve that problem.\n",
    "\n",
    "Here we can also use the argument 'stringsAsFactors' to define a logical value to convert string values in factors.\n"
   ]
  },
  {
   "cell_type": "code",
   "execution_count": 59,
   "metadata": {
    "slideshow": {
     "slide_type": "subslide"
    }
   },
   "outputs": [
    {
     "data": {
      "text/html": [
       "<table>\n",
       "<caption>A data.frame: 16 × 3</caption>\n",
       "<thead>\n",
       "\t<tr><th scope=col>Var1</th><th scope=col>Var2</th><th scope=col>Var3</th></tr>\n",
       "\t<tr><th scope=col>&lt;fct&gt;</th><th scope=col>&lt;dbl&gt;</th><th scope=col>&lt;fct&gt;</th></tr>\n",
       "</thead>\n",
       "<tbody>\n",
       "\t<tr><td>male  </td><td>0</td><td>yes</td></tr>\n",
       "\t<tr><td>female</td><td>0</td><td>yes</td></tr>\n",
       "\t<tr><td>male  </td><td>1</td><td>yes</td></tr>\n",
       "\t<tr><td>female</td><td>1</td><td>yes</td></tr>\n",
       "\t<tr><td>male  </td><td>2</td><td>yes</td></tr>\n",
       "\t<tr><td>female</td><td>2</td><td>yes</td></tr>\n",
       "\t<tr><td>male  </td><td>3</td><td>yes</td></tr>\n",
       "\t<tr><td>female</td><td>3</td><td>yes</td></tr>\n",
       "\t<tr><td>male  </td><td>0</td><td>no </td></tr>\n",
       "\t<tr><td>female</td><td>0</td><td>no </td></tr>\n",
       "\t<tr><td>male  </td><td>1</td><td>no </td></tr>\n",
       "\t<tr><td>female</td><td>1</td><td>no </td></tr>\n",
       "\t<tr><td>male  </td><td>2</td><td>no </td></tr>\n",
       "\t<tr><td>female</td><td>2</td><td>no </td></tr>\n",
       "\t<tr><td>male  </td><td>3</td><td>no </td></tr>\n",
       "\t<tr><td>female</td><td>3</td><td>no </td></tr>\n",
       "</tbody>\n",
       "</table>\n"
      ],
      "text/latex": [
       "A data.frame: 16 × 3\n",
       "\\begin{tabular}{r|lll}\n",
       " Var1 & Var2 & Var3\\\\\n",
       " <fct> & <dbl> & <fct>\\\\\n",
       "\\hline\n",
       "\t male   & 0 & yes\\\\\n",
       "\t female & 0 & yes\\\\\n",
       "\t male   & 1 & yes\\\\\n",
       "\t female & 1 & yes\\\\\n",
       "\t male   & 2 & yes\\\\\n",
       "\t female & 2 & yes\\\\\n",
       "\t male   & 3 & yes\\\\\n",
       "\t female & 3 & yes\\\\\n",
       "\t male   & 0 & no \\\\\n",
       "\t female & 0 & no \\\\\n",
       "\t male   & 1 & no \\\\\n",
       "\t female & 1 & no \\\\\n",
       "\t male   & 2 & no \\\\\n",
       "\t female & 2 & no \\\\\n",
       "\t male   & 3 & no \\\\\n",
       "\t female & 3 & no \\\\\n",
       "\\end{tabular}\n"
      ],
      "text/markdown": [
       "\n",
       "A data.frame: 16 × 3\n",
       "\n",
       "| Var1 &lt;fct&gt; | Var2 &lt;dbl&gt; | Var3 &lt;fct&gt; |\n",
       "|---|---|---|\n",
       "| male   | 0 | yes |\n",
       "| female | 0 | yes |\n",
       "| male   | 1 | yes |\n",
       "| female | 1 | yes |\n",
       "| male   | 2 | yes |\n",
       "| female | 2 | yes |\n",
       "| male   | 3 | yes |\n",
       "| female | 3 | yes |\n",
       "| male   | 0 | no  |\n",
       "| female | 0 | no  |\n",
       "| male   | 1 | no  |\n",
       "| female | 1 | no  |\n",
       "| male   | 2 | no  |\n",
       "| female | 2 | no  |\n",
       "| male   | 3 | no  |\n",
       "| female | 3 | no  |\n",
       "\n"
      ],
      "text/plain": [
       "   Var1   Var2 Var3\n",
       "1  male   0    yes \n",
       "2  female 0    yes \n",
       "3  male   1    yes \n",
       "4  female 1    yes \n",
       "5  male   2    yes \n",
       "6  female 2    yes \n",
       "7  male   3    yes \n",
       "8  female 3    yes \n",
       "9  male   0    no  \n",
       "10 female 0    no  \n",
       "11 male   1    no  \n",
       "12 female 1    no  \n",
       "13 male   2    no  \n",
       "14 female 2    no  \n",
       "15 male   3    no  \n",
       "16 female 3    no  "
      ]
     },
     "metadata": {},
     "output_type": "display_data"
    }
   ],
   "source": [
    "smoker <- c(\"yes\",\"no\")\n",
    "children <- c(0, 1, 2, 3)\n",
    "sex <- c(\"male\",\"female\")\n",
    "\n",
    "expand.grid(sex, children, smoker)\n"
   ]
  },
  {
   "cell_type": "markdown",
   "metadata": {
    "slideshow": {
     "slide_type": "slide"
    }
   },
   "source": [
    "## Exercises\n",
    "\n",
    "[Exercise on Dataframes in R](../exercises/Ass06DataframeAccessR.ipynb)"
   ]
  }
 ],
 "metadata": {
  "anaconda-cloud": {},
  "celltoolbar": "Slideshow",
  "kernelspec": {
   "display_name": "R",
   "language": "R",
   "name": "ir"
  },
  "language_info": {
   "codemirror_mode": "r",
   "file_extension": ".r",
   "mimetype": "text/x-r-source",
   "name": "R",
   "pygments_lexer": "r",
   "version": "3.6.1"
  },
  "nav_menu": {},
  "toc": {
   "nav_menu": {},
   "number_sections": true,
   "sideBar": true,
   "skip_h1_title": false,
   "toc_cell": false,
   "toc_position": {},
   "toc_section_display": "block",
   "toc_window_display": true
  },
  "toc_position": {
   "height": "485px",
   "left": "0px",
   "right": "888px",
   "top": "125px",
   "width": "212px"
  }
 },
 "nbformat": 4,
 "nbformat_minor": 2
}
