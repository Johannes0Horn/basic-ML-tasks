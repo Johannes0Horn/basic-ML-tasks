{
 "cells": [
  {
   "cell_type": "markdown",
   "metadata": {
    "slideshow": {
     "slide_type": "slide"
    }
   },
   "source": [
    "# Machine Learning\n",
    "\n",
    "* Author: Oliver Kretzschmar\n",
    "* Last Update: 2019-05-22\n"
   ]
  },
  {
   "cell_type": "markdown",
   "metadata": {
    "slideshow": {
     "slide_type": "slide"
    }
   },
   "source": [
    " ## Overview\n",
    " \n",
    " Let's take a look to the **Family Overview**:\n",
    "\n",
    "<center><html><img src=\"../img/FamilyOverview.jpg\", width=600></html>\n",
    "<font size=\"1\">(Imagesource: https://sastat.org.za/sasa2017/big-data-dictionary, download 04/2019)</font></center>"
   ]
  },
  {
   "cell_type": "markdown",
   "metadata": {
    "slideshow": {
     "slide_type": "slide"
    }
   },
   "source": [
    "## Machine Learning Definition\n",
    "\n",
    ">*\"A computer program is said to learn from experience E with respect to some class of tasks T and performance measure P, if its performance at tasks in T, as measured by P, improves with experience E.\"*\n",
    "\n",
    "by Tom M. Mitchell (Author) Machine Learning, 1st Edition\n"
   ]
  },
  {
   "cell_type": "markdown",
   "metadata": {
    "slideshow": {
     "slide_type": "slide"
    }
   },
   "source": [
    "## Role of Machine Learning in IT-Product-Management\n",
    "\n",
    "I believe that ML is not a substitution for IT-Product-Manager and his creativity and intuition skills above all in context of human beings like leading teams a.s.o., but a very important tool for supplementation and completion. Often, it is called assisted AI or ML.\n"
   ]
  },
  {
   "cell_type": "markdown",
   "metadata": {
    "slideshow": {
     "slide_type": "slide"
    }
   },
   "source": [
    "## What is the the difference between a Classical Algorithm Process and a Machine Learning Process\n",
    "\n",
    "<center><html><img src=\"../img/Comparison.jpg\", width=700></html>\n",
    "<font size=\"1\">(Imagesource: own, 04/2019)</font></center>"
   ]
  },
  {
   "cell_type": "markdown",
   "metadata": {
    "slideshow": {
     "slide_type": "slide"
    }
   },
   "source": [
    "## Machine Learning Areas\n",
    "\n",
    "<center><html><img src=\"../img/ML-Overview.jpg\", width=700></html>\n",
    "<font size=\"1\">(Imagesource: http://www.cognub.com/index.php/cognitive-platform, download 04/2019)</font></center>"
   ]
  },
  {
   "cell_type": "markdown",
   "metadata": {
    "slideshow": {
     "slide_type": "slide"
    }
   },
   "source": [
    "## Main Classes of Machine Learning (Supervised Learning)\n",
    "\n",
    "- Formerly: Multivariate Analysis methods\n",
    "- Serious improvements through Deep Learning Technologies and others\n",
    "- Typical scenarios: Regression, Binary and Multi-Class classification and more – with regarding the levels of measurement:\n",
    "\n",
    "<center><html><img src=\"../img/ML-Areas.jpg\", width=800></html>\n",
    "<font size=\"1\">(Imagesource: own, 10/2018)</font></center>"
   ]
  },
  {
   "cell_type": "markdown",
   "metadata": {
    "slideshow": {
     "slide_type": "slide"
    }
   },
   "source": [
    "## Systematical Process of Machine Learning\n",
    "\n",
    "<html><img src=\"../img/MLSystematicProcess.jpg\"></html>\n",
    "\n",
    "<center><font size=\"1\">(Imagesource: Sarkar D., Bali R., Sharma T.: Practical Machine Learning with Python, Apress, 2018 + modifications OK)</font></center>\n"
   ]
  },
  {
   "cell_type": "markdown",
   "metadata": {
    "slideshow": {
     "slide_type": "slide"
    }
   },
   "source": [
    "## What do you think takes most time in general ML processes?\n",
    "\n",
    ">*Data preparation accounts for about 80% of the work of data scientists*\n",
    "\n",
    "<html><img src=\"../img/MLSpendingTime.jpg\", width=700></html>\n",
    "\n",
    "<center><font size=\"1\">(Imagesource: https://www.forbes.com/sites/gilpress/2016/03/23/data-preparation-most-time-consuming-least-enjoyable-data-science-task-survey-says/#715d3b676f63, download 01/2019)</font></center>\n",
    "\n"
   ]
  },
  {
   "cell_type": "markdown",
   "metadata": {
    "slideshow": {
     "slide_type": "slide"
    }
   },
   "source": [
    "## Why does everybody talk about Deep Learning?\n",
    "\n",
    "- Works similar to the human brain\n",
    "- Supported by special hardware, like GPU’s NVIDIA a.o.\n",
    "- Many data available\n",
    "- Results becomes more better the more data you have\n",
    "- No or less data preparation, like Feature Engineering, mostly needed, but you need a lot of data\n",
    "\n",
    "<html><img src=\"../img/DLAmountData.jpg\", width=500></html>\n",
    "\n",
    "<center><font size=\"1\">(Imagesource: http://bytes.schibsted.com/deep-learning-changing-data-science-paradigms, download 04/2019)</font></center>\n"
   ]
  },
  {
   "cell_type": "markdown",
   "metadata": {
    "slideshow": {
     "slide_type": "slide"
    }
   },
   "source": [
    "<html><img src=\"../img/MLvsDL.jpg\", width=600></html>\n",
    "\n",
    "<center><font size=\"1\">(Imagesource: https://codeutsava.in/blog/40, download 10/2018)</font></center>\n"
   ]
  },
  {
   "cell_type": "markdown",
   "metadata": {
    "slideshow": {
     "slide_type": "slide"
    }
   },
   "source": [
    "## Main (simplified) Concept of supervised Machine Learning Algorithm\n",
    "\n",
    "<html><img src=\"../img/MainMLConcept.jpg\", width=700></html>\n",
    "\n",
    "<center><font size=\"1\">(Imagesource: Maucher, J.: Introduction to Artificial Intelligence, Machine Learning and Deep Learning, IHK Workshop, 2018 - with small change)</font></center>\n",
    "\n"
   ]
  },
  {
   "cell_type": "markdown",
   "metadata": {
    "slideshow": {
     "slide_type": "subslide"
    }
   },
   "source": [
    "A **learner** is the learning algorithm that build the **model** with training data. The model itself, we use to predict values or the assignment to a class with other data than the training data.\n",
    "\n",
    "`Important:` In many Machine Learning context you have to minimize (rarely maximize) a so called **loss-function** which is mostly for a single training example or a **cost-function** which is over the entire training set. Sometimes it is also used in the same manner. We want to use in these lectures the name loss-function. Both are used to get best fit for the model. **Best fit of model** means that the differences between the true observed value and the predicted values are small. The loss-function measures how close the predicted values are to their corresponding true observed values. There are different automatic and by hand ways to adapt the model to minimize (rarely maximize) that loss-function. We will see this if we speak about that algorithm.\n"
   ]
  },
  {
   "cell_type": "markdown",
   "metadata": {
    "slideshow": {
     "slide_type": "slide"
    }
   },
   "source": [
    "## What is the best ML algorithm? Deep Learning algorithm, XGBoost?\n",
    "\n",
    "Hmm, it depends. The choosing and re-choosing of the right algorithm and it's settings is the `Art of Machine Learning`.\n",
    "\n",
    "But let's discuss this in context of the AI/ML competition platform [Kaggle](https://www.kaggle.com/) and look how the kaggle grandmasters won their competitions. If you click at a competition in Kaggle, there often exist a blog, where people and also the winner(s) discuss their solution. \n",
    "\n"
   ]
  },
  {
   "cell_type": "markdown",
   "metadata": {
    "slideshow": {
     "slide_type": "subslide"
    }
   },
   "source": [
    "For example:\n",
    "* Go to the [Kaggle ranking](https://www.kaggle.com/rankings)\n",
    "* Look for a grandmaster or the best competitors and click there: f.ex [Giba](https://www.kaggle.com/titericz)\n",
    "* Then click at the discussions of them and search for the results of the competition, e.g. [Giba Discussion](https://www.kaggle.com/titericz/discussion)\n",
    "* Then click at the corresponding competition and read how he won the competition: e.g. [Otto Group Product Classification Challenge](https://www.kaggle.com/c/otto-group-product-classification-challenge/discussion/14335)\n"
   ]
  },
  {
   "cell_type": "markdown",
   "metadata": {
    "slideshow": {
     "slide_type": "subslide"
    }
   },
   "source": [
    "It's also interesting, when we look at the blogs and discussions of grandmasters of Kaggle, e.g.:\n",
    "\n",
    "* [Shubin Dai](http://blog.kaggle.com/2018/05/07/profiling-top-kagglers-bestfitting-currently-1-in-the-world)\n",
    "* [Vladimir I. Iglovikov](https://towardsdatascience.com/ask-me-anything-session-with-a-kaggle-grandmaster-vladimir-i-iglovikov-942ad6a06acd)\n",
    "* and many more\n",
    "\n",
    "**In summary, most of the winners rely on a really good feature engineering combined with resampling and ensemble techniques as cross-validation, bagging and boosting approaches**. We will discuss these techniques in upcoming lectures.\n"
   ]
  },
  {
   "cell_type": "markdown",
   "metadata": {
    "slideshow": {
     "slide_type": "slide"
    }
   },
   "source": [
    "## How to find the starting Machine Learning Algorithm\n",
    "\n",
    "There are many \"Machine Learning Mindmap's\" in the web. Search Google for it. A good overview you will find at:\n",
    "\n",
    "<html><img src=\"../img/MLFirstWay.jpg\"></html>\n",
    "\n",
    "<center><font size=\"1\">(Imagesource: https://scikit-learn.org/stable/tutorial/machine_learning_map/index.html, download 12/2018)</font></center>\n"
   ]
  }
 ],
 "metadata": {
  "anaconda-cloud": {},
  "celltoolbar": "Slideshow",
  "kernelspec": {
   "display_name": "R",
   "language": "R",
   "name": "ir"
  },
  "language_info": {
   "codemirror_mode": "r",
   "file_extension": ".r",
   "mimetype": "text/x-r-source",
   "name": "R",
   "pygments_lexer": "r",
   "version": "3.6.1"
  },
  "nav_menu": {},
  "toc": {
   "nav_menu": {},
   "number_sections": true,
   "sideBar": true,
   "skip_h1_title": false,
   "toc_cell": false,
   "toc_position": {},
   "toc_section_display": "block",
   "toc_window_display": false
  },
  "toc_position": {
   "height": "664px",
   "left": "0px",
   "right": "1209.67px",
   "top": "125.333px",
   "width": "212px"
  }
 },
 "nbformat": 4,
 "nbformat_minor": 2
}
