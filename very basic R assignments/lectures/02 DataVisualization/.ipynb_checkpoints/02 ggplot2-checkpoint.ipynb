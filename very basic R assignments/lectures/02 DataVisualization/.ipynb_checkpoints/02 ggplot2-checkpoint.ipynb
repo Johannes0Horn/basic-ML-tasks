{
 "cells": [
  {
   "cell_type": "markdown",
   "metadata": {
    "slideshow": {
     "slide_type": "slide"
    }
   },
   "source": [
    "# Advanced Visualisation with ggplot2\n",
    "\n",
    "* Author: Johannes Maucher, some modifications by OK in 2019\n",
    "* Last Update: 2017-05-12\n",
    "* References:\n",
    "    * [R in Action, Chapter 19](https://livebook.manning.com/#!/book/r-in-action-second-edition/chapter-19/) [KR15]\n",
    "    * [R for Data Science, Chapter 3](https://r4ds.had.co.nz/data-visualisation.html#introduction-1) [WH19]\n",
    "    * [ggplot2 Reference Guide](http://ggplot2.tidyverse.org/reference/).\n",
    "\n"
   ]
  },
  {
   "cell_type": "markdown",
   "metadata": {
    "ExecuteTime": {
     "end_time": "2017-04-07T14:49:10.662189",
     "start_time": "2017-04-07T12:49:10.630Z"
    },
    "slideshow": {
     "slide_type": "slide"
    }
   },
   "source": [
    "## Concept of ggplot2\n",
    "\n",
    "Basic visualisation functions are included in the R base package and need not be explicitly loaded. There are several other R packages around, which extend the capabilities of R's base visualisation package. Maybe the most important of these packages is [`ggplot2`](https://ggplot2.tidyverse.org/reference/index.html). This package is not contained in the base installation and it must be explicitly loaded to be used in a R script. The `ggplot2` package provides a comprehensive, grammar-based system for generating graphs in a unified and coherent manner. \n",
    "\n",
    "Install and load ggplot2:"
   ]
  },
  {
   "cell_type": "code",
   "execution_count": 1,
   "metadata": {
    "ExecuteTime": {
     "end_time": "2017-11-22T18:49:27.021000Z",
     "start_time": "2017-11-22T18:49:25.208Z"
    },
    "slideshow": {
     "slide_type": "subslide"
    }
   },
   "outputs": [
    {
     "name": "stderr",
     "output_type": "stream",
     "text": [
      "-- \u001b[1mAttaching packages\u001b[22m --------------------------------------- tidyverse 1.2.1 --\n",
      "\u001b[32mv\u001b[39m \u001b[34mggplot2\u001b[39m 3.2.0     \u001b[32mv\u001b[39m \u001b[34mpurrr  \u001b[39m 0.3.2\n",
      "\u001b[32mv\u001b[39m \u001b[34mtibble \u001b[39m 2.1.3     \u001b[32mv\u001b[39m \u001b[34mdplyr  \u001b[39m 0.8.3\n",
      "\u001b[32mv\u001b[39m \u001b[34mtidyr  \u001b[39m 0.8.3     \u001b[32mv\u001b[39m \u001b[34mstringr\u001b[39m 1.4.0\n",
      "\u001b[32mv\u001b[39m \u001b[34mreadr  \u001b[39m 1.3.1     \u001b[32mv\u001b[39m \u001b[34mforcats\u001b[39m 0.4.0\n",
      "-- \u001b[1mConflicts\u001b[22m ------------------------------------------ tidyverse_conflicts() --\n",
      "\u001b[31mx\u001b[39m \u001b[34mdplyr\u001b[39m::\u001b[32mfilter()\u001b[39m masks \u001b[34mstats\u001b[39m::filter()\n",
      "\u001b[31mx\u001b[39m \u001b[34mdplyr\u001b[39m::\u001b[32mlag()\u001b[39m    masks \u001b[34mstats\u001b[39m::lag()\n"
     ]
    }
   ],
   "source": [
    "#install.packages(\"ggplot2\")\n",
    "#library(ggplot2)\n",
    "\n",
    "#or \n",
    "library(tidyverse)\n",
    "library(IRdisplay) #Loading interface to the rich display capabilities \n",
    "\n",
    "#Resize graphics\n",
    "options(repr.plot.res = 80, repr.plot.height=6, repr.plot.width=7)  #Defaults:resolution=120,width/height=7\n"
   ]
  },
  {
   "cell_type": "markdown",
   "metadata": {
    "slideshow": {
     "slide_type": "subslide"
    }
   },
   "source": [
    "<a id=\"mainconcepts\"></a>\n",
    "\n",
    "**The main concept of ggplot2's grammer is:**\n",
    "1. First a plot is initialized by the [**ggplot()-function**](https://ggplot2.tidyverse.org/reference/ggplot.html). The arguments of this function specify the data source and optionally the variables, which shall be used. However, this function does not plot any line or point, it just initializes an empty plot. For example **ggplot(data=facebookData)** initializes a plot, in which variables of the dataframe *facebookData* can be plotted.\n"
   ]
  },
  {
   "cell_type": "markdown",
   "metadata": {
    "slideshow": {
     "slide_type": "subslide"
    }
   },
   "source": [
    "2. After the initialization one or more geometric objects can be added by a **+** symbol. These objects are added by so called **geom functions** or just **geoms**. There exist geom functions for a vast variety of different plots, e.g. scatter-plots, line-graphs, box-plots, bar-plots, histograms, etc. For example \n",
    "\n",
    "        ggplot(data=facebookData)+ \n",
    "            geom_point(mapping=aes(x=impressions, y=clicks)) \n",
    "\n",
    "    first initializes an empty plot and then adds a scatter-plot in which the variable *impressions* is assigned to the x- and the variable *clicks* is assigned to the y-coordinate of the points. Both, *impressions* and *clicks* are columns of the dataframe *facebookData*. The aesthetic mappings, defined by [`mapping=aes()`](https://ggplot2.tidyverse.org/reference/aes.html), tell how variables from the data are mapped to visual properties (aesthetics) of geoms.\n"
   ]
  },
  {
   "cell_type": "markdown",
   "metadata": {
    "slideshow": {
     "slide_type": "subslide"
    }
   },
   "source": [
    "3. The general ggplot2 grammer for a basic template from which a comprehensive bunch of graphics can be derived is:\n",
    "\n",
    "        ggplot(data = <DATA>) + \n",
    "          <GEOM_FUNCTION>(\n",
    "             mapping = aes(<MAPPINGS>),\n",
    "             stat = <STAT>, \n",
    "             position = <POSITION>\n",
    "          ) +\n",
    "          <COORDINATE_FUNCTION> +\n",
    "          <FACET_FUNCTION>\n",
    "\n",
    "    This template takes seven parameters, but not all of them must be configured by the user. See next."
   ]
  },
  {
   "cell_type": "markdown",
   "metadata": {
    "slideshow": {
     "slide_type": "subslide"
    }
   },
   "source": [
    "Only the parameters &lt;DATA&gt;, &lt;GEOM_FUNCTION&gt; and &lt;MAPPINGS&gt; must be explicitely assigned. The others are already assigned by useful defaults and must only be configured, if non-default functionality is required. Note that ggplot2 provides much more than these seven parameters. An overview of parameters and their values is given e.g. in the [ggplot2 Reference](http://ggplot2.tidyverse.org/reference/index.html). The 7 parameters of our basic template above are described and applied in this notebook.\n",
    "      "
   ]
  },
  {
   "cell_type": "markdown",
   "metadata": {
    "slideshow": {
     "slide_type": "subslide"
    }
   },
   "source": [
    "Let's take a look at the **ggplot workflow** from the book [R for Data Science](https://r4ds.had.co.nz/data-visualisation.html#the-layered-grammar-of-graphics):\n",
    "\n",
    "<html><img src=\"../img/ggplot-wrk1.jpg\", width=700></html>\n"
   ]
  },
  {
   "cell_type": "markdown",
   "metadata": {
    "slideshow": {
     "slide_type": "subslide"
    }
   },
   "source": [
    "<html><img src=\"../img/ggplot-wrk2.jpg\", width=700></html>\n"
   ]
  },
  {
   "cell_type": "markdown",
   "metadata": {
    "slideshow": {
     "slide_type": "subslide"
    }
   },
   "source": [
    "<html><img src=\"../img/ggplot-wrk3.jpg\", width=900></html>"
   ]
  },
  {
   "cell_type": "markdown",
   "metadata": {
    "slideshow": {
     "slide_type": "slide"
    }
   },
   "source": [
    "## Geometric Functions\n",
    "\n",
    "As already mentioned, one or more **geometric functions (geoms)** can be attached to a plot (see [ggplot2 Reference](http://ggplot2.tidyverse.org/reference/index.html)). \n",
    "\n",
    "Let's take a look to the [Plotly ggplot2 Library](https://plot.ly/ggplot2/) where we can see examples and an interactive tool. See also [`ggplot2 cheat sheet`](https://rstudio.com/wp-content/uploads/2015/03/ggplot2-cheatsheet.pdf).\n"
   ]
  },
  {
   "cell_type": "markdown",
   "metadata": {
    "slideshow": {
     "slide_type": "subslide"
    }
   },
   "source": [
    "\n",
    "The most important geoms are: \n",
    "\n",
    "| geometric function \t| Comment         \t|\n",
    "|:--------------------:\t|:-----------------:|\n",
    "| [geom_bar()](https://ggplot2.tidyverse.org/reference/geom_bar.html)         \t| Bar chart       \t|   \t\n",
    "| [geom_line()](https://ggplot2.tidyverse.org/reference/geom_path.html)        \t| Line graph       \n",
    "| [geom_boxplot()](https://ggplot2.tidyverse.org/reference/geom_boxplot.html)     \t| Box plot        \t|       \n",
    "| [geom_point()](https://ggplot2.tidyverse.org/reference/geom_point.html)       \t| Scatter plot     \n",
    "| [geom_density()](https://ggplot2.tidyverse.org/reference/geom_density.html)     \t| Density plot    \t|   \t\n",
    "| [geom_rug()](https://ggplot2.tidyverse.org/reference/geom_rug.html)         \t| Rug plot         \n",
    "| [geom_histogram()](https://ggplot2.tidyverse.org/reference/geom_histogram.html)   \t| Histogram       \t|   \t\n",
    "| [geom_smooth()](https://ggplot2.tidyverse.org/reference/geom_smooth.html)      \t| Fitted line      \n",
    "| [geom_hline()](https://ggplot2.tidyverse.org/reference/geom_abline.html)       \t| Horizontal line \t|   \t\n",
    "| [geom_text()](https://ggplot2.tidyverse.org/reference/geom_text.html)        \t| Text annotations \n",
    "| [geom_jitter()](https://ggplot2.tidyverse.org/reference/geom_jitter.html)      \t| Jittered points \t|   \t\n",
    "| [geom_violine()](https://ggplot2.tidyverse.org/reference/geom_violin.html)     \t| Violin plot      \n",
    "| [geom_vline()](https://ggplot2.tidyverse.org/reference/geom_abline.html)       \t| Vertical line    \t|\n",
    "| [geom_abline()](https://ggplot2.tidyverse.org/reference/geom_abline.html)       \t| diagonal line (specified by slope and intercept)    \t|\n",
    "\n"
   ]
  },
  {
   "cell_type": "markdown",
   "metadata": {
    "slideshow": {
     "slide_type": "subslide"
    }
   },
   "source": [
    "Each of the geometric functions is typically specified by a set of **options**. A set of common options is specified in the table below. Not all options are applicable to all geometric functions. The application of these functions is demonstrated in this notebook.\n",
    "\n",
    "|  option  \t| Comment                                                                                                                                                                                                                                                                                               \t|\n",
    "|:--------:\t|-------------------------------------------------------------------------------------------------------------------------------------------------------------------------------------------------------------------------------------------------------------------------------------------------------\t|\n",
    "| color    \t| Color of points, lines, and borders around filled regions                                                                                                                                                                                                                                             \t|\n",
    "| fill     \t| Color of filled areas such as bars and density regions                                                                                                                                                                                                                                                 \t|\n",
    "| alpha    \t| Transparencyof colors, ranging from 0 (fully transparent) to 1 (opaque)                                                                                                                                                                                                                               \t|\n",
    "| linetype \t| Pattern for lines (1 = solid, 2 = dashed, 3 = dotted, 4 = dotdash, 5 = longdash, 6 = twodash)                                                                                                                                                                                                         \t|\n",
    "| size     \t| Point size and line width                                                                                                                                                                                                                                                                             \t|\n",
    "| shape    \t| Point shapes (same as pch, with 0 = open square, 1 = open circle, 2 = open triangle, and so on)                                                                                                                                                                                                       \t|\n",
    "| position \t| Position of plotted objects such as bars and points. For bars, \"dodge\" places grouped bar charts side by side, \"stacked\" vertically stacks grouped bar charts, and \"fill\" vertically stacks grouped bar charts and standardizes their heights to be equal. For points, \"jitter\" reduces point overlap \t|\n",
    "| binwidth \t| Bin width for histograms                                                                                                                                                                                                                                                                              \t|\n",
    "| notch    \t| Indicates whether box plots should be notched (TRUE/FALSE).                                                                                                                                                                                                                                           \t|\n",
    "| sides    \t| Placement of rug plots on the graph (\"b\" = bottom, \"l\" = left, \"t\" = top, \"r\" = right, \"bl\" = both bottom and left, and so on)                                                                                                                                                                        \t|\n",
    "| width    \t| Width of box plots                                                                                                                                                                                                                                                                                    \t|"
   ]
  },
  {
   "cell_type": "code",
   "execution_count": 2,
   "metadata": {
    "slideshow": {
     "slide_type": "subslide"
    }
   },
   "outputs": [
    {
     "data": {
      "image/png": "[encoded data removed]"
     },
     "metadata": {},
     "output_type": "display_data"
    }
   ],
   "source": [
    "#### 'shape' corresponds to the table of 'pch' in R base package, also 'color'\n",
    "\n",
    "display_png(file=\"../img/RgraphMarkers.PNG\")\n"
   ]
  },
  {
   "cell_type": "markdown",
   "metadata": {
    "slideshow": {
     "slide_type": "slide"
    }
   },
   "source": [
    "## Facebook Ad Camaign Data\n",
    "\n",
    "According to the aboved discussion of the Customer Journey Analysis we want to visualize the data from [Facebook Ad Campaign on Kaggle](https://www.kaggle.com/madislemsalu/facebook-ad-campaign). This dataset contains data from different Facebook marketing campaigns. Some data fields with description if necessary:\n",
    "\n",
    "* 'ad_id'\n",
    "* 'reporting_start'\n",
    "* 'reporting_end'\n",
    "* 'campaign_id'\n",
    "* 'fb_campaign_id'\n",
    "* 'age'\n",
    "* 'gender'\n",
    "* 'interest1': anonymous interest1\n",
    "* 'interest2': anonymous interest2\n",
    "* 'interest3': anonymous interest3\n",
    "* 'impressions': impressions of ad\n",
    "* 'clicks': number of clicks on ad\n",
    "* 'spent': cost of ad in Facebook\n",
    "* 'total_conversion': shows the total number of signups or installs for instance\n",
    "* 'approved_conversion': tells how many became actual active users\n"
   ]
  },
  {
   "cell_type": "code",
   "execution_count": 3,
   "metadata": {
    "slideshow": {
     "slide_type": "subslide"
    }
   },
   "outputs": [
    {
     "name": "stdout",
     "output_type": "stream",
     "text": [
      "Observations: 761\n",
      "Variables: 15\n",
      "$ ad_id               \u001b[3m\u001b[90m<int>\u001b[39m\u001b[23m 708746, 708749, 708771, 708815, 708818, 708820,...\n",
      "$ reporting_start     \u001b[3m\u001b[90m<fct>\u001b[39m\u001b[23m 17/08/2017, 17/08/2017, 17/08/2017, 30/08/2017,...\n",
      "$ reporting_end       \u001b[3m\u001b[90m<fct>\u001b[39m\u001b[23m 17/08/2017, 17/08/2017, 17/08/2017, 30/08/2017,...\n",
      "$ campaign_id         \u001b[3m\u001b[90m<fct>\u001b[39m\u001b[23m 916, 916, 916, 916, 916, 916, 916, 916, 916, 91...\n",
      "$ fb_campaign_id      \u001b[3m\u001b[90m<fct>\u001b[39m\u001b[23m 103916, 103917, 103920, 103928, 103928, 103929,...\n",
      "$ age                 \u001b[3m\u001b[90m<fct>\u001b[39m\u001b[23m 30-34, 30-34, 30-34, 30-34, 30-34, 30-34, 30-34...\n",
      "$ gender              \u001b[3m\u001b[90m<fct>\u001b[39m\u001b[23m M, M, M, M, M, M, M, M, M, M, M, M, M, M, M, M,...\n",
      "$ interest1           \u001b[3m\u001b[90m<int>\u001b[39m\u001b[23m 15, 16, 20, 28, 28, 29, 15, 16, 27, 28, 31, 7, ...\n",
      "$ interest2           \u001b[3m\u001b[90m<int>\u001b[39m\u001b[23m 17, 19, 25, 32, 33, 30, 16, 20, 31, 32, 37, 8, ...\n",
      "$ interest3           \u001b[3m\u001b[90m<int>\u001b[39m\u001b[23m 17, 21, 22, 32, 32, 30, 17, 18, 31, 31, 34, 8, ...\n",
      "$ impressions         \u001b[3m\u001b[90m<dbl>\u001b[39m\u001b[23m 7350, 17861, 693, 4259, 4133, 1915, 15615, 1095...\n",
      "$ clicks              \u001b[3m\u001b[90m<int>\u001b[39m\u001b[23m 1, 2, 0, 1, 1, 0, 3, 1, 1, 3, 0, 0, 0, 0, 7, 0,...\n",
      "$ spent               \u001b[3m\u001b[90m<dbl>\u001b[39m\u001b[23m 1.43, 1.82, 0.00, 1.25, 1.29, 0.00, 4.77, 1.27,...\n",
      "$ total_conversion    \u001b[3m\u001b[90m<int>\u001b[39m\u001b[23m 2, 2, 1, 1, 1, 1, 1, 1, 1, 1, 1, 1, 1, 1, 1, 1,...\n",
      "$ approved_conversion \u001b[3m\u001b[90m<int>\u001b[39m\u001b[23m 1, 0, 0, 0, 1, 1, 0, 1, 0, 0, 0, 0, 0, 0, 1, 1,...\n"
     ]
    }
   ],
   "source": [
    "facebookData <- read.csv(file=\"../data/facebook-ad-campaign.csv\", header=TRUE,\n",
    "                         sep=\",\", dec=\".\")\n",
    "\n",
    "facebookData <- facebookData %>% drop_na()\n",
    "\n",
    "glimpse(facebookData)"
   ]
  },
  {
   "cell_type": "code",
   "execution_count": 4,
   "metadata": {
    "slideshow": {
     "slide_type": "subslide"
    }
   },
   "outputs": [
    {
     "data": {
      "text/plain": [
       "     ad_id           reporting_start    reporting_end campaign_id\n",
       " Min.   : 708746   23/08/2017: 85    23/08/2017: 85   1178 :243  \n",
       " 1st Qu.: 748086   21/08/2017: 80    21/08/2017: 80   30-34:  0  \n",
       " Median : 781175   19/08/2017: 73    19/08/2017: 73   35-39:  0  \n",
       " Mean   : 895639   22/08/2017: 73    22/08/2017: 73   40-44:  0  \n",
       " 3rd Qu.:1121184   18/08/2017: 70    18/08/2017: 70   45-49:  0  \n",
       " Max.   :1121593   20/08/2017: 65    20/08/2017: 65   916  : 54  \n",
       "                   (Other)   :315    (Other)   :315   936  :464  \n",
       " fb_campaign_id      age          gender      interest1       interest2    \n",
       " 144536 :  6    30-34  :327   M      :486   Min.   : 2.00   Min.   : 3.00  \n",
       " 144562 :  6    35-39  :180   F      :275   1st Qu.:16.00   1st Qu.:19.00  \n",
       " 144599 :  6    40-44  :139   10     :  0   Median :22.00   Median :26.00  \n",
       " 144611 :  6    45-49  :115   102    :  0   Mean   :25.47   Mean   :28.98  \n",
       " 144531 :  5    10     :  0   103    :  0   3rd Qu.:29.00   3rd Qu.:33.00  \n",
       " 144532 :  5    100    :  0   104    :  0   Max.   :66.00   Max.   :72.00  \n",
       " (Other):727    (Other):  0   (Other):  0                                  \n",
       "   interest3      impressions          clicks           spent       \n",
       " Min.   : 3.00   Min.   :     87   Min.   :  0.00   Min.   :  0.00  \n",
       " 1st Qu.:19.00   1st Qu.:   3149   1st Qu.:  0.00   1st Qu.:  0.00  \n",
       " Median :25.00   Median :  12193   Median :  3.00   Median :  3.58  \n",
       " Mean   :28.98   Mean   : 103172   Mean   : 15.34   Mean   : 25.78  \n",
       " 3rd Qu.:33.00   3rd Qu.:  85970   3rd Qu.: 14.00   3rd Qu.: 23.21  \n",
       " Max.   :72.00   Max.   :3052003   Max.   :340.00   Max.   :639.95  \n",
       "                                                                    \n",
       " total_conversion approved_conversion\n",
       " Min.   : 0.000   Min.   : 0.0000    \n",
       " 1st Qu.: 1.000   1st Qu.: 0.0000    \n",
       " Median : 1.000   Median : 0.0000    \n",
       " Mean   : 2.162   Mean   : 0.7687    \n",
       " 3rd Qu.: 2.000   3rd Qu.: 1.0000    \n",
       " Max.   :60.000   Max.   :21.0000    \n",
       "                                     "
      ]
     },
     "metadata": {},
     "output_type": "display_data"
    }
   ],
   "source": [
    "summary(facebookData)"
   ]
  },
  {
   "cell_type": "markdown",
   "metadata": {
    "slideshow": {
     "slide_type": "slide"
    }
   },
   "source": [
    "## Applying ggplot2() geometric functions\n"
   ]
  },
  {
   "cell_type": "markdown",
   "metadata": {
    "slideshow": {
     "slide_type": "fragment"
    }
   },
   "source": [
    "### Scatter Plots\n",
    "Scatter plots are one of the most used techniques for visualizing 2-dimensional data. In ggplot2 scatter plots are generated by the geometric function [`geom_point()`](https://ggplot2.tidyverse.org/reference/geom_point.html) as shown below. In the first row the plot is initialzied. In the second row the scatter plot is attached to the initialized plot-object. Within the *aes()*-function, which is assigned to the *mapping*-argument, the data assigned to the x- and y-axis is defined. Further arguments can be specified for the color, size and type of the markers. \n"
   ]
  },
  {
   "cell_type": "code",
   "execution_count": 5,
   "metadata": {
    "ExecuteTime": {
     "end_time": "2017-11-22T18:49:36.249000Z",
     "start_time": "2017-11-22T18:49:27.141Z"
    },
    "slideshow": {
     "slide_type": "fragment"
    }
   },
   "outputs": [
    {
     "data": {
      "image/png": "[encoded data removed]",
      "text/plain": [
       "plot without title"
      ]
     },
     "metadata": {},
     "output_type": "display_data"
    }
   ],
   "source": [
    "\n",
    "ggplot(data=facebookData)+\n",
    "    geom_point(mapping=aes(x=impressions, y=clicks), \n",
    "               color=\"blue\", size=2, shape=1)"
   ]
  },
  {
   "cell_type": "markdown",
   "metadata": {
    "slideshow": {
     "slide_type": "subslide"
    }
   },
   "source": [
    "The scatter plot above shows (also the summary output above), that there are some outliers, i.e. campaign ad's with a much larger 'impressions' and 'clicks' than all others. In a scatter plot such outliers cause that the variations within the set of non-outliers appear vanishing. In order to avoid this the entire data set is often partitioned into a non-outlier- and an outlier-part. In all of the following visualizations of *facebookData* only the subset of non-outliers is regarded. This subset is assigned to *facebookDataRed* and can be extracted from the entire *facebookData* set, by applying a filter rule on the 'impressions' attribute. \n",
    "\n",
    "`Keep in mind`: We will discuss in the upcoming lecture \"Feature Engineering\" a more professional method to detect outliers. Here is the focus in visualisation."
   ]
  },
  {
   "cell_type": "code",
   "execution_count": 6,
   "metadata": {
    "slideshow": {
     "slide_type": "fragment"
    }
   },
   "outputs": [],
   "source": [
    "facebookDataRed <- facebookData %>% filter(impressions < 120000) %>% \n",
    "                                    filter(spent < 100, spent > 0)\n"
   ]
  },
  {
   "cell_type": "markdown",
   "metadata": {
    "slideshow": {
     "slide_type": "subslide"
    }
   },
   "source": [
    "The scatter plot below contains only the non-outliers. Moreover, since the plot above already indicates that the 'impressions' increases with increasing the 'spent', a linear regression line is plotted in addition to the datapoints. \n",
    "\n",
    "Regression lines like this can easily be plotted by [`geom_smooth()`](https://ggplot2.tidyverse.org/reference/geom_smooth.html). The grey zone around the line is by default the 95% confidence level interval for predictions from a linear model. We can change this by 'level' argument, e.g. 'level=0.90'.\n",
    "\n",
    "`Discussion`: What are the patterns in the range of 'clicks'-values smaller than 8?"
   ]
  },
  {
   "cell_type": "code",
   "execution_count": 7,
   "metadata": {
    "ExecuteTime": {
     "end_time": "2017-11-22T18:49:37.458000Z",
     "start_time": "2017-11-22T18:49:27.474Z"
    },
    "slideshow": {
     "slide_type": "fragment"
    }
   },
   "outputs": [
    {
     "data": {
      "image/png": "[encoded data removed]",
      "text/plain": [
       "plot without title"
      ]
     },
     "metadata": {},
     "output_type": "display_data"
    }
   ],
   "source": [
    "ggplot(data=facebookDataRed) +\n",
    "    geom_point(mapping=aes(x=impressions, y=clicks)) +\n",
    "    geom_smooth(mapping=aes(x=impressions, y=clicks), method='lm')\n"
   ]
  },
  {
   "cell_type": "markdown",
   "metadata": {
    "slideshow": {
     "slide_type": "subslide"
    }
   },
   "source": [
    "Since some points have a high deviation from the regression line, it is clear that 'clicks' does not only depend on the 'impressions', but on other influences. We expect that 'gender' and a high rate of 'spent' also influences the 'clicks'. This hypothesis can be verified e.g. by visualizing the 'gender'- and 'spent'-part of the Facebook ad campaigns by size and color, respectively.   \n",
    "\n",
    "The 'alpha'-value shows us a superimposition of values by a more intense color.\n",
    "\n",
    "The plot below verifies this hypothesis - `why?`\n",
    "\n",
    "\n"
   ]
  },
  {
   "cell_type": "code",
   "execution_count": 35,
   "metadata": {
    "ExecuteTime": {
     "end_time": "2017-11-22T18:49:39.261000Z",
     "start_time": "2017-11-22T18:49:27.676Z"
    },
    "slideshow": {
     "slide_type": "fragment"
    }
   },
   "outputs": [
    {
     "data": {
      "image/png": "[encoded data removed]",
      "text/plain": [
       "plot without title"
      ]
     },
     "metadata": {},
     "output_type": "display_data"
    }
   ],
   "source": [
    "\n",
    "ggplot(data=facebookDataRed) +\n",
    "    geom_point(mapping=aes(x=impressions, y=clicks, size=spent, color=gender) , alpha=.4) +\n",
    "    geom_smooth(mapping=aes(x=impressions, y=clicks), method='lm')\n",
    " \n"
   ]
  },
  {
   "cell_type": "markdown",
   "metadata": {
    "slideshow": {
     "slide_type": "subslide"
    }
   },
   "source": [
    "`Keep in mind`: Above you see that the data definition in 'ggplot()' is set global for all following geom functions. In the 'geom_point()' we see definitions of 'mapping=aes()' and an 'size'- and 'color'-value which are set inside the 'mapping' and are therefore influenced by the data itself depending on the data variables. A fixed size and color can be defined outside the 'mapping' brackets. "
   ]
  },
  {
   "cell_type": "markdown",
   "metadata": {
    "slideshow": {
     "slide_type": "slide"
    }
   },
   "source": [
    "#### Helpful additionally created data fields\n",
    "\n",
    "For some better visualisations we bin the data of 'spent' into different categories. \n",
    "\n",
    "We will also discuss in the upcoming lecture \"Feature Engineering\" a more professional way. Here is the focus in visualisation."
   ]
  },
  {
   "cell_type": "code",
   "execution_count": 9,
   "metadata": {
    "slideshow": {
     "slide_type": "fragment"
    }
   },
   "outputs": [
    {
     "name": "stdout",
     "output_type": "stream",
     "text": [
      "Created bins with ranges of values: \n"
     ]
    },
    {
     "data": {
      "text/html": [
       "<dl class=dl-horizontal>\n",
       "\t<dt>0%</dt>\n",
       "\t\t<dd>0.180000007</dd>\n",
       "\t<dt>20%</dt>\n",
       "\t\t<dd>1.4840000392</dd>\n",
       "\t<dt>40%</dt>\n",
       "\t\t<dd>3.1440000534</dd>\n",
       "\t<dt>60%</dt>\n",
       "\t\t<dd>5.9759999754</dd>\n",
       "\t<dt>80%</dt>\n",
       "\t\t<dd>12.578000354</dd>\n",
       "\t<dt>100%</dt>\n",
       "\t\t<dd>53.21999949</dd>\n",
       "</dl>\n"
      ],
      "text/latex": [
       "\\begin{description*}\n",
       "\\item[0\\textbackslash{}\\%] 0.180000007\n",
       "\\item[20\\textbackslash{}\\%] 1.4840000392\n",
       "\\item[40\\textbackslash{}\\%] 3.1440000534\n",
       "\\item[60\\textbackslash{}\\%] 5.9759999754\n",
       "\\item[80\\textbackslash{}\\%] 12.578000354\n",
       "\\item[100\\textbackslash{}\\%] 53.21999949\n",
       "\\end{description*}\n"
      ],
      "text/markdown": [
       "0%\n",
       ":   0.18000000720%\n",
       ":   1.484000039240%\n",
       ":   3.144000053460%\n",
       ":   5.975999975480%\n",
       ":   12.578000354100%\n",
       ":   53.21999949\n",
       "\n"
      ],
      "text/plain": [
       "    0%    20%    40%    60%    80%   100% \n",
       " 0.180  1.484  3.144  5.976 12.578 53.220 "
      ]
     },
     "metadata": {},
     "output_type": "display_data"
    },
    {
     "name": "stdout",
     "output_type": "stream",
     "text": [
      "Frequencies of values in the bins: \n"
     ]
    },
    {
     "data": {
      "text/plain": [
       "valInBins\n",
       "(0.18,1.48] (1.48,3.14] (3.14,5.98] (5.98,12.6] (12.6,53.2] \n",
       "         80          80          80          80          81 "
      ]
     },
     "metadata": {},
     "output_type": "display_data"
    },
    {
     "data": {
      "text/plain": [
       "\n",
       "FALSE \n",
       "  401 "
      ]
     },
     "metadata": {},
     "output_type": "display_data"
    },
    {
     "name": "stdout",
     "output_type": "stream",
     "text": [
      "Observations: 401\n",
      "Variables: 16\n",
      "$ ad_id               \u001b[3m\u001b[90m<int>\u001b[39m\u001b[23m 708746, 708749, 708815, 708818, 708889, 708895,...\n",
      "$ reporting_start     \u001b[3m\u001b[90m<fct>\u001b[39m\u001b[23m 17/08/2017, 17/08/2017, 30/08/2017, 17/08/2017,...\n",
      "$ reporting_end       \u001b[3m\u001b[90m<fct>\u001b[39m\u001b[23m 17/08/2017, 17/08/2017, 30/08/2017, 17/08/2017,...\n",
      "$ campaign_id         \u001b[3m\u001b[90m<fct>\u001b[39m\u001b[23m 916, 916, 916, 916, 916, 916, 916, 916, 916, 91...\n",
      "$ fb_campaign_id      \u001b[3m\u001b[90m<fct>\u001b[39m\u001b[23m 103916, 103917, 103928, 103928, 103940, 103941,...\n",
      "$ age                 \u001b[3m\u001b[90m<fct>\u001b[39m\u001b[23m 30-34, 30-34, 30-34, 30-34, 30-34, 30-34, 30-34...\n",
      "$ gender              \u001b[3m\u001b[90m<fct>\u001b[39m\u001b[23m M, M, M, M, M, M, M, M, M, M, M, M, M, M, M, M,...\n",
      "$ interest1           \u001b[3m\u001b[90m<int>\u001b[39m\u001b[23m 15, 16, 28, 28, 15, 16, 27, 28, 20, 30, 15, 16,...\n",
      "$ interest2           \u001b[3m\u001b[90m<int>\u001b[39m\u001b[23m 17, 19, 32, 33, 16, 20, 31, 32, 26, 34, 16, 20,...\n",
      "$ interest3           \u001b[3m\u001b[90m<int>\u001b[39m\u001b[23m 17, 21, 32, 32, 17, 18, 31, 31, 23, 31, 17, 22,...\n",
      "$ impressions         \u001b[3m\u001b[90m<dbl>\u001b[39m\u001b[23m 7350, 17861, 4259, 4133, 15615, 10951, 2355, 95...\n",
      "$ clicks              \u001b[3m\u001b[90m<int>\u001b[39m\u001b[23m 1, 2, 1, 1, 3, 1, 1, 3, 7, 1, 1, 4, 2, 2, 2, 2,...\n",
      "$ spent               \u001b[3m\u001b[90m<dbl>\u001b[39m\u001b[23m 1.43, 1.82, 1.25, 1.29, 4.77, 1.27, 1.50, 3.16,...\n",
      "$ total_conversion    \u001b[3m\u001b[90m<int>\u001b[39m\u001b[23m 2, 2, 1, 1, 1, 1, 1, 1, 1, 1, 1, 2, 1, 1, 1, 1,...\n",
      "$ approved_conversion \u001b[3m\u001b[90m<int>\u001b[39m\u001b[23m 1, 0, 0, 1, 0, 1, 0, 0, 1, 0, 0, 1, 0, 0, 1, 1,...\n",
      "$ spentBins           \u001b[3m\u001b[90m<fct>\u001b[39m\u001b[23m spentCat-1.48, spentCat-3.14, spentCat-1.48, sp...\n"
     ]
    }
   ],
   "source": [
    "####### Binning\n",
    "\n",
    "#By hand\n",
    "NumberOfClasses <- 6 # for quantile adaptive width \n",
    "# (quartiles divide into quarters, deciles into tenths a.s.o.)\n",
    "bin.classes <- quantile(facebookDataRed$spent, \n",
    "                        prob = seq(0, 1, length = NumberOfClasses))\n",
    "cat(\"Created bins with ranges of values: \\n\")\n",
    "bin.classes\n",
    "\n",
    "valInBins <- cut(facebookDataRed$spent, breaks = bin.classes) \n",
    "#cat(\"Show the first 10 according bins of the values: \\n\")\n",
    "#valInBins[1:10]\n",
    "#class(valInBins)\n",
    "\n",
    "valInBinsFreq <- table(valInBins)\n",
    "cat(\"Frequencies of values in the bins: \\n\")\n",
    "valInBinsFreq\n",
    "       \n",
    "#create to names for the bins\n",
    "tLen = NumberOfClasses\n",
    "strBin <- character(tLen)\n",
    "for (i in 1:tLen) {\n",
    "    strBin[i] <- str_c( paste(\"spentCat-\", round(bin.classes[i+1], 2), sep=\"\"))\n",
    "}\n",
    "#Can get not assign +1 in bin.classes[]\n",
    "#strBin <- str_c(rep( paste(\"spentCat-\", round(bin.classes[], 2), sep=\"\") , times=tLen)) #,rep(1: tLen)\n",
    "#strBin\n",
    "\n",
    "levels(valInBins) = c(strBin)\n",
    "#valInBins[1:10]\n",
    "\n",
    "facebookDataRed <- facebookDataRed %>%\n",
    "    mutate(TMPvalInBins = valInBins) %>%\n",
    "    dplyr::rename(spentBins = TMPvalInBins)\n",
    "\n",
    "facebookDataRed <- facebookDataRed %>% \n",
    "                     filter(is.na(spentBins) == FALSE)\n",
    "\n",
    "table(is.na(facebookDataRed$spentBins))\n",
    "\n",
    "#After binnung we get qualitative data\n",
    "glimpse(facebookDataRed)"
   ]
  },
  {
   "cell_type": "code",
   "execution_count": 37,
   "metadata": {
    "slideshow": {
     "slide_type": "subslide"
    }
   },
   "outputs": [
    {
     "data": {
      "image/png": "[encoded data removed]",
      "text/plain": [
       "plot without title"
      ]
     },
     "metadata": {},
     "output_type": "display_data"
    }
   ],
   "source": [
    "ggplot(data=facebookDataRed)+\n",
    "    geom_point(mapping=aes(x=impressions, y=clicks, \n",
    "                           color=spentBins), size=3, alpha=.4)\n"
   ]
  },
  {
   "cell_type": "markdown",
   "metadata": {
    "slideshow": {
     "slide_type": "subslide"
    }
   },
   "source": [
    "`Discussion`: What do you interpret now?\n",
    "\n",
    "`Keep in mind again - because it is important for understanding the ggplot-syntax`: Above you see that the data definition in 'ggplot()' is set global for all following geom functions. In the 'geom_point()' we see definitions of 'mapping=aes()' and an 'alpha'-value which is set outside the 'mapping' and is therefore not influenced by the data itself in opposite of the 'color' setting depending on a data variable. A fixed color can be defined outside the 'mapping' brackets.  "
   ]
  },
  {
   "cell_type": "markdown",
   "metadata": {
    "slideshow": {
     "slide_type": "slide"
    }
   },
   "source": [
    "### Facet Plots\n",
    "\n",
    "At the top of this notebook the [main concepts](#mainconcepts) of ggplot2 have been sketched. The general ggplot2 grammer contains the parameter &lt;FACET_FUNCTION&gt;, which will now be used in order to arrange multiple plots. "
   ]
  },
  {
   "cell_type": "markdown",
   "metadata": {
    "slideshow": {
     "slide_type": "subslide"
    }
   },
   "source": [
    "#### Facet_wrap\n",
    "One possible facet function is [`facet_wrap()`](https://ggplot2.tidyverse.org/reference/facet_wrap.html). As shown below this function creates for each possible value of the specified parameter (here: *spentBins*) a single plot. The number of plots in each row of the plot-matrix can be configured by the parameter *ncol*."
   ]
  },
  {
   "cell_type": "code",
   "execution_count": 11,
   "metadata": {
    "ExecuteTime": {
     "end_time": "2017-11-22T18:49:52.102000Z",
     "start_time": "2017-11-22T18:49:28.674Z"
    },
    "slideshow": {
     "slide_type": "fragment"
    }
   },
   "outputs": [
    {
     "data": {
      "image/png": "[encoded data removed]",
      "text/plain": [
       "plot without title"
      ]
     },
     "metadata": {},
     "output_type": "display_data"
    }
   ],
   "source": [
    "\n",
    "ggplot(data=facebookDataRed)+\n",
    "    geom_point(mapping=aes(x=impressions, y=clicks, color=spentBins))+\n",
    "    facet_wrap(~ spentBins ,ncol=3)\n",
    "\n"
   ]
  },
  {
   "cell_type": "markdown",
   "metadata": {
    "slideshow": {
     "slide_type": "subslide"
    }
   },
   "source": [
    "#### Facet_grid\n",
    "Another widely used facet function is [`facet_grid()`](https://ggplot2.tidyverse.org/reference/facet_grid.html). This function also creates a matrix of plots. The columns of this matrix, as well as the its rows, are defined by the distinct values of variables, which can be passed to the *facet_function()* as paramters. In the example below in each plot the *last_evaluation*-value is plotted versus the *satisfaction*-value. All plots in a row belong to another value of the parameter *salary*. All plots in a column belong to another value of the parameter *left*."
   ]
  },
  {
   "cell_type": "code",
   "execution_count": 12,
   "metadata": {
    "ExecuteTime": {
     "end_time": "2017-11-22T18:49:56.951000Z",
     "start_time": "2017-11-22T18:49:28.823Z"
    },
    "slideshow": {
     "slide_type": "subslide"
    }
   },
   "outputs": [
    {
     "name": "stdout",
     "output_type": "stream",
     "text": [
      "Observations: 14,999\n",
      "Variables: 10\n",
      "$ satisfaction_level    \u001b[3m\u001b[90m<dbl>\u001b[39m\u001b[23m 0.38, 0.80, 0.11, 0.72, 0.37, 0.41, 0.10, 0.9...\n",
      "$ last_evaluation       \u001b[3m\u001b[90m<dbl>\u001b[39m\u001b[23m 0.53, 0.86, 0.88, 0.87, 0.52, 0.50, 0.77, 0.8...\n",
      "$ number_project        \u001b[3m\u001b[90m<int>\u001b[39m\u001b[23m 2, 5, 7, 5, 2, 2, 6, 5, 5, 2, 2, 6, 4, 2, 2, ...\n",
      "$ average_montly_hours  \u001b[3m\u001b[90m<int>\u001b[39m\u001b[23m 157, 262, 272, 223, 159, 153, 247, 259, 224, ...\n",
      "$ time_spend_company    \u001b[3m\u001b[90m<int>\u001b[39m\u001b[23m 3, 6, 4, 5, 3, 3, 4, 5, 5, 3, 3, 4, 5, 3, 3, ...\n",
      "$ Work_accident         \u001b[3m\u001b[90m<int>\u001b[39m\u001b[23m 0, 0, 0, 0, 0, 0, 0, 0, 0, 0, 0, 0, 0, 0, 0, ...\n",
      "$ left                  \u001b[3m\u001b[90m<fct>\u001b[39m\u001b[23m 1, 1, 1, 1, 1, 1, 1, 1, 1, 1, 1, 1, 1, 1, 1, ...\n",
      "$ promotion_last_5years \u001b[3m\u001b[90m<fct>\u001b[39m\u001b[23m 0, 0, 0, 0, 0, 0, 0, 0, 0, 0, 0, 0, 0, 0, 0, ...\n",
      "$ sales                 \u001b[3m\u001b[90m<fct>\u001b[39m\u001b[23m sales, sales, sales, sales, sales, sales, sal...\n",
      "$ salary                \u001b[3m\u001b[90m<fct>\u001b[39m\u001b[23m low, medium, medium, low, low, low, low, low,...\n"
     ]
    },
    {
     "data": {
      "image/png": "[encoded data removed]",
      "text/plain": [
       "plot without title"
      ]
     },
     "metadata": {},
     "output_type": "display_data"
    }
   ],
   "source": [
    "#Resize graphics\n",
    "options(repr.plot.res = 120, repr.plot.height=6, repr.plot.width=7)  #Defaults:resolution=120,width/height=7\n",
    "\n",
    "### Load human resource data\n",
    "#[Human Resources Analytics Data] from (https://www.kaggle.com/ludobenistant/hr-analytics)\n",
    "\n",
    "hrData <- read.csv(file=\"../data/humanResources.csv\", header=TRUE, sep=\",\")\n",
    "\n",
    "hrData$left <- factor(hrData$left)\n",
    "hrData$promotion_last_5years <- factor(hrData$promotion_last_5years)\n",
    "\n",
    "glimpse(hrData)\n",
    "\n",
    "ggplot(data=hrData)+\n",
    "    geom_point(mapping=aes(x=satisfaction_level, y=last_evaluation, \n",
    "                            color=promotion_last_5years))+\n",
    "    facet_wrap(left ~ salary)\n"
   ]
  },
  {
   "cell_type": "markdown",
   "metadata": {
    "slideshow": {
     "slide_type": "subslide"
    }
   },
   "source": [
    "### Bar Charts\n",
    "\n",
    "#### Bar Charts for Histograms\n",
    "A histogram determines the distribution of values over a given set of bins, i.e. for each bin the number of values which fall into the bin's range are counted. Histograms are typically visualized by bar-charts.\n",
    "\n",
    "In R bar-charts are realized by the geometric function [`geom_bar()`](http://ggplot2.tidyverse.org/reference/geom_bar.html). In contrast to other geometric functions applied so far, the '*mappings*'-parameter of *geom_bar* accepts just a single variable for the *x*-axis, which defines the bins. If a categorical variable is passed to *x*, then the discrete values of this parameter defines the bins: Each bin belongs to one value of the variable. Along the *y*-axis by default the count in each bin is plotted. \n",
    "\n",
    "Below we use the [`theme()`](https://ggplot2.tidyverse.org/reference/theme.html) function to control and redefine the display of all non-data elements of a plot. There are some predefined complete themes, like `theme_bw()`, `theme_grey()`, `theme_light()`, `theme_classic()` and so on at [Complete themes](https://ggplot2.tidyverse.org/reference/ggtheme.html).\n",
    "\n",
    "In the example below for each 'age' category, the number of campaign ad's is plotted in the bar-chart.\n"
   ]
  },
  {
   "cell_type": "code",
   "execution_count": 13,
   "metadata": {
    "ExecuteTime": {
     "end_time": "2017-11-22T18:49:58.156000Z",
     "start_time": "2017-11-22T18:49:28.976Z"
    },
    "slideshow": {
     "slide_type": "subslide"
    }
   },
   "outputs": [
    {
     "name": "stdout",
     "output_type": "stream",
     "text": [
      "Show Number of Campaign Ad's for Age Category is '30-34':\n"
     ]
    },
    {
     "data": {
      "text/html": [
       "<table>\n",
       "<caption>A tibble: 1 × 1</caption>\n",
       "<thead>\n",
       "\t<tr><th scope=col>n</th></tr>\n",
       "\t<tr><th scope=col>&lt;int&gt;</th></tr>\n",
       "</thead>\n",
       "<tbody>\n",
       "\t<tr><td>153</td></tr>\n",
       "</tbody>\n",
       "</table>\n"
      ],
      "text/latex": [
       "A tibble: 1 × 1\n",
       "\\begin{tabular}{r|l}\n",
       " n\\\\\n",
       " <int>\\\\\n",
       "\\hline\n",
       "\t 153\\\\\n",
       "\\end{tabular}\n"
      ],
      "text/markdown": [
       "\n",
       "A tibble: 1 × 1\n",
       "\n",
       "| n &lt;int&gt; |\n",
       "|---|\n",
       "| 153 |\n",
       "\n"
      ],
      "text/plain": [
       "  n  \n",
       "1 153"
      ]
     },
     "metadata": {},
     "output_type": "display_data"
    },
    {
     "data": {
      "image/png": "[encoded data removed]",
      "text/plain": [
       "plot without title"
      ]
     },
     "metadata": {},
     "output_type": "display_data"
    }
   ],
   "source": [
    "#Resize graphics\n",
    "options(repr.plot.res = 80, repr.plot.height=6, repr.plot.width=7)  #Defaults:resolution=120,width/height=7\n",
    "\n",
    "cat(\"Show Number of Campaign Ad's for Age Category is '30-34':\\n\")\n",
    "count(facebookDataRed[facebookDataRed$age == \"30-34\", ])\n",
    "\n",
    "ggplot(data = facebookDataRed) +\n",
    "      geom_bar(mapping = aes(x = age, fill=spentBins))+  #We get additionally informations if we use 'spentBins' instead of 'age'\n",
    "      theme(axis.text.x = element_text(angle = 90)) +\n",
    "      labs(title=\"Number of Campaign Ad's per Age class\", \n",
    "            x=\"Age Category\", y=\"Number of Campaign Ad's\")\n"
   ]
  },
  {
   "cell_type": "markdown",
   "metadata": {
    "slideshow": {
     "slide_type": "slide"
    }
   },
   "source": [
    "\n",
    "Or using [`geom_histogram()`](http://ggplot2.tidyverse.org/reference/geom_histogram.html) we have to define 'x' as a continous variable which will be binned automatically.\n",
    "\n",
    "`Discussion`: What do you interpret now?"
   ]
  },
  {
   "cell_type": "code",
   "execution_count": 14,
   "metadata": {
    "slideshow": {
     "slide_type": "subslide"
    }
   },
   "outputs": [
    {
     "data": {
      "image/png": "[encoded data removed]",
      "text/plain": [
       "plot without title"
      ]
     },
     "metadata": {},
     "output_type": "display_data"
    }
   ],
   "source": [
    "ggplot(data = facebookDataRed) +\n",
    "      geom_histogram(mapping = aes(x = spent, fill=age), bins=10)+\n",
    "      theme(axis.text.x = element_text(angle = 90)) +\n",
    "      labs(title=\"Number of Campaign Ad's over Spent\", x=\"Spent\", y=\"Number of Campaign Ad's\")\n"
   ]
  },
  {
   "cell_type": "markdown",
   "metadata": {
    "slideshow": {
     "slide_type": "slide"
    }
   },
   "source": [
    "#### Bar charts for non-Histogram functions\n",
    "\n",
    "Histograms are a main but not the only application of bar charts. Consider for example the case, that not the count of campaign ad's per spent category, but the total conversions per spent category shall be plotted. For this it must be possible to define a parameter which shall be plotted along the *y*-axis. In the default-setting, as applied above, this is not possible, because the *stat*-parameter in the *geom_bar*-function is set to *count* and count of elements per bin is plotted on the *y*-axis.\n",
    "\n",
    "In order to plot an arbitrary variable along the *y*-axis the *stat*-parameter of *geom_bar()* must be set to *'identity'* as shown in the example below. The *stat*-parameter is one of the seven parameters of the [basic ggplot2-template](#mainconcepts), which is sketched at the top of this notebook. \n",
    "\n",
    "`Discussion`: What do you interpret now?"
   ]
  },
  {
   "cell_type": "code",
   "execution_count": 15,
   "metadata": {
    "slideshow": {
     "slide_type": "subslide"
    }
   },
   "outputs": [
    {
     "name": "stdout",
     "output_type": "stream",
     "text": [
      "\n",
      "#Tidyverse syntax:\n",
      "Observations: 20\n",
      "Variables: 3\n",
      "Groups: Group.spentBins [5]\n",
      "$ Group.spentBins \u001b[3m\u001b[90m<fct>\u001b[39m\u001b[23m spentCat-1.48, spentCat-1.48, spentCat-1.48, spentC...\n",
      "$ Group.age       \u001b[3m\u001b[90m<fct>\u001b[39m\u001b[23m 30-34, 35-39, 40-44, 45-49, 30-34, 35-39, 40-44, 45...\n",
      "$ click.sum       \u001b[3m\u001b[90m<int>\u001b[39m\u001b[23m 43, 18, 14, 8, 44, 40, 26, 16, 106, 49, 48, 44, 167...\n"
     ]
    },
    {
     "data": {
      "image/png": "[encoded data removed]",
      "text/plain": [
       "plot without title"
      ]
     },
     "metadata": {},
     "output_type": "display_data"
    }
   ],
   "source": [
    "#Resize graphics\n",
    "options(repr.plot.res = 80, repr.plot.height=6, repr.plot.width=7)  #Defaults:resolution=120,width/height=7\n",
    "\n",
    "cat(\"\\n#Tidyverse syntax:\\n\")\n",
    "totalBySpentBins <- facebookDataRed %>%\n",
    "        group_by(Group.spentBins = spentBins, Group.age = age) %>%\n",
    "        summarise(\n",
    "            click.sum = sum(clicks, na.rm = TRUE),\n",
    "        )   \n",
    "\n",
    "\n",
    "#totalBySpentBins$Group.spentBins\n",
    "#totalBySpentBins$click.sum\n",
    "\n",
    "glimpse(totalBySpentBins)\n",
    "\n",
    "ggplot(data = totalBySpentBins)+\n",
    "    geom_bar(mapping = aes(x = Group.spentBins ,y=click.sum,\n",
    "                           fill=Group.age), stat=\"identity\")+\n",
    "    theme(axis.text.x = element_text(angle = 90))+\n",
    "    labs(title=\"Total Clicks per Spent category\", \n",
    "         x=\"Spent category\", y=\"Clicks\")\n",
    "\n"
   ]
  },
  {
   "cell_type": "markdown",
   "metadata": {
    "slideshow": {
     "slide_type": "subslide"
    }
   },
   "source": [
    "\n",
    "<BR><font color=red>\n",
    ">>> Bis hier durchgearbeitet!\n",
    "</font><font color=black>\n",
    "\n",
    "The same plot as above can also be generated by the geometric function [`geom_col()`](https://ggplot2.tidyverse.org/reference/geom_bar.html). This function is basically the same as *geom_bar()*, but with another *'identity* as the default setting for the *stat*-parameter:   "
   ]
  },
  {
   "cell_type": "code",
   "execution_count": 16,
   "metadata": {
    "ExecuteTime": {
     "end_time": "2017-11-22T18:50:00.370000Z",
     "start_time": "2017-11-22T18:49:29.308Z"
    },
    "slideshow": {
     "slide_type": "fragment"
    }
   },
   "outputs": [
    {
     "data": {
      "image/png": "[encoded data removed]",
      "text/plain": [
       "plot without title"
      ]
     },
     "metadata": {},
     "output_type": "display_data"
    }
   ],
   "source": [
    "\n",
    "ggplot(data = totalBySpentBins)+\n",
    "    geom_col(mapping = aes(x = Group.spentBins ,y=click.sum,\n",
    "                           fill=Group.age))+\n",
    "    theme(axis.text.x = element_text(angle = 90))+\n",
    "    labs(title=\"Total Clicks per Spent category\", \n",
    "         x=\"Spent category\", y=\"Clicks\")"
   ]
  },
  {
   "cell_type": "markdown",
   "metadata": {
    "slideshow": {
     "slide_type": "slide"
    }
   },
   "source": [
    "#### Position Adjustments in Bar Charts\n",
    "\n",
    "The plot below visualizes the number of 'total_conversion' per 'spent' category:"
   ]
  },
  {
   "cell_type": "code",
   "execution_count": 17,
   "metadata": {
    "ExecuteTime": {
     "end_time": "2017-11-22T18:50:03.773000Z",
     "start_time": "2017-11-22T18:49:29.671Z"
    },
    "slideshow": {
     "slide_type": "fragment"
    }
   },
   "outputs": [
    {
     "name": "stdout",
     "output_type": "stream",
     "text": [
      "Show Number of Campaign Ad's for 'total_conversion' is 1:\n"
     ]
    },
    {
     "data": {
      "text/html": [
       "<table>\n",
       "<caption>A tibble: 1 × 1</caption>\n",
       "<thead>\n",
       "\t<tr><th scope=col>n</th></tr>\n",
       "\t<tr><th scope=col>&lt;int&gt;</th></tr>\n",
       "</thead>\n",
       "<tbody>\n",
       "\t<tr><td>323</td></tr>\n",
       "</tbody>\n",
       "</table>\n"
      ],
      "text/latex": [
       "A tibble: 1 × 1\n",
       "\\begin{tabular}{r|l}\n",
       " n\\\\\n",
       " <int>\\\\\n",
       "\\hline\n",
       "\t 323\\\\\n",
       "\\end{tabular}\n"
      ],
      "text/markdown": [
       "\n",
       "A tibble: 1 × 1\n",
       "\n",
       "| n &lt;int&gt; |\n",
       "|---|\n",
       "| 323 |\n",
       "\n"
      ],
      "text/plain": [
       "  n  \n",
       "1 323"
      ]
     },
     "metadata": {},
     "output_type": "display_data"
    },
    {
     "data": {
      "image/png": "[encoded data removed]",
      "text/plain": [
       "plot without title"
      ]
     },
     "metadata": {},
     "output_type": "display_data"
    }
   ],
   "source": [
    "ggplot(data = facebookDataRed) +\n",
    "    geom_bar(mapping = aes(x = total_conversion, fill=spentBins))+ \n",
    "    theme(axis.text.x = element_text(angle = 90))+\n",
    "    labs(x=\"Total Conversions\", y=\"Count Campaign Ad's\")\n",
    "\n",
    "cat(\"Show Number of Campaign Ad's for 'total_conversion' is 1:\\n\")\n",
    "count(facebookDataRed[facebookDataRed$total_conversion == 1, ])\n"
   ]
  },
  {
   "cell_type": "markdown",
   "metadata": {
    "slideshow": {
     "slide_type": "subslide"
    }
   },
   "source": [
    "For the plot above the *position*-parameter of *geom_bar()* has not been assigned explicitly. This means, that the default value is applied, which is *'stack'*. However, this parameter, which also belongs to the [basic ggplot2-template parameters](#mainconcepts), can be also set to *'fill'* or *'dodge'*. The corresponding results are shown in the cells below. "
   ]
  },
  {
   "cell_type": "code",
   "execution_count": 18,
   "metadata": {
    "ExecuteTime": {
     "end_time": "2017-11-22T18:50:06.060000Z",
     "start_time": "2017-11-22T18:49:29.839Z"
    },
    "slideshow": {
     "slide_type": "fragment"
    }
   },
   "outputs": [
    {
     "data": {
      "image/png": "[encoded data removed]",
      "text/plain": [
       "plot without title"
      ]
     },
     "metadata": {},
     "output_type": "display_data"
    }
   ],
   "source": [
    "ggplot(data = facebookDataRed) +\n",
    "    geom_bar(mapping = aes(x = total_conversion, fill=spentBins), position=\"fill\")+ \n",
    "    theme(axis.text.x = element_text(angle = 90))+ \n",
    "    labs(x=\"Total Conversions\", y=\"Proportion\")\n"
   ]
  },
  {
   "cell_type": "markdown",
   "metadata": {
    "slideshow": {
     "slide_type": "subslide"
    }
   },
   "source": [
    "Demonstrate the option *position='dodge'*: "
   ]
  },
  {
   "cell_type": "code",
   "execution_count": 19,
   "metadata": {
    "ExecuteTime": {
     "end_time": "2017-11-22T18:50:06.820000Z",
     "start_time": "2017-11-22T18:49:30.015Z"
    },
    "slideshow": {
     "slide_type": "fragment"
    }
   },
   "outputs": [
    {
     "data": {
      "image/png": "[encoded data removed]",
      "text/plain": [
       "plot without title"
      ]
     },
     "metadata": {},
     "output_type": "display_data"
    }
   ],
   "source": [
    "ggplot(data = facebookDataRed) +\n",
    "    geom_bar(mapping = aes(x = total_conversion, fill=spentBins), position=\"dodge\")+ \n",
    "    theme(axis.text.x = element_text(angle = 90))+\n",
    "    labs(x=\"Total Conversions\", y=\"Count Campaign Ad's\")\n"
   ]
  },
  {
   "cell_type": "markdown",
   "metadata": {
    "slideshow": {
     "slide_type": "slide"
    }
   },
   "source": [
    "#### Coordinate Systems\n",
    "ggplot2 provides different coordinate systems. Up to now only the default &lt;COORDINATE_FUNCTION&gt;, which is the  **Cartesian** coordinate system has been applied. Note that &lt;COORDINATE_FUNCTION&gt; is another parameter of the [basic ggplot2-template](#mainconcepts).\n",
    "\n",
    "Sometimes, plots become clearer if the *x-* and *y-* axis are switched. This can be accomplished by the coordinate function [`coord_flip()`](https://ggplot2.tidyverse.org/reference/coord_flip.html): "
   ]
  },
  {
   "cell_type": "code",
   "execution_count": 20,
   "metadata": {
    "ExecuteTime": {
     "end_time": "2017-11-22T18:50:07.588000Z",
     "start_time": "2017-11-22T18:49:30.206Z"
    },
    "slideshow": {
     "slide_type": "subslide"
    }
   },
   "outputs": [
    {
     "data": {
      "image/png": "[encoded data removed]",
      "text/plain": [
       "plot without title"
      ]
     },
     "metadata": {},
     "output_type": "display_data"
    }
   ],
   "source": [
    "ggplot(data = facebookDataRed) +\n",
    "    geom_bar(mapping = aes(x = total_conversion, fill=spentBins), position=\"dodge\")+ \n",
    "    coord_flip()+\n",
    "    labs(x=\"Total Conversions\", y=\"Count Campaign Ad's\")\n"
   ]
  },
  {
   "cell_type": "markdown",
   "metadata": {
    "slideshow": {
     "slide_type": "subslide"
    }
   },
   "source": [
    "Another coordinate function is *coord_polar()*: "
   ]
  },
  {
   "cell_type": "code",
   "execution_count": 21,
   "metadata": {
    "ExecuteTime": {
     "end_time": "2017-11-22T18:50:08.811000Z",
     "start_time": "2017-11-22T18:49:30.370Z"
    },
    "slideshow": {
     "slide_type": "fragment"
    }
   },
   "outputs": [
    {
     "data": {
      "image/png": "[encoded data removed]",
      "text/plain": [
       "plot without title"
      ]
     },
     "metadata": {},
     "output_type": "display_data"
    }
   ],
   "source": [
    "ggplot(data = facebookDataRed) +\n",
    "    geom_bar(mapping = aes(x = total_conversion, fill=spentBins), position=\"dodge\")+ \n",
    "    coord_polar()+\n",
    "    labs(x=\"Total Conversions\", y=\"Count Campaign Ad's\")\n"
   ]
  },
  {
   "cell_type": "markdown",
   "metadata": {
    "slideshow": {
     "slide_type": "slide"
    }
   },
   "source": [
    "### Box Plots\n",
    "\n",
    "`Keep in mind:` In the figure below you see the explanation of a boxplot in R. The minimum and maximum value are without outliers. Outliers are calculated as values which are more than 1.5 times the *Interquartile Range (IQR)* below or above the box. The **Interquartile Range (IQR)** is calculated as subtraction of the first quartile from the third quartile [WD17].\n",
    "\n",
    "Remember:<BR>\n",
    "1 quartile = 0.25 quantile = 25 percentile<BR>\n",
    "2 quartile = 0.50 quantile = 50 percentile (known as median)<BR>\n",
    "3 quartile = 0.75 quantile = 75 percentile<BR>\n",
    "...<BR>\n"
   ]
  },
  {
   "cell_type": "markdown",
   "metadata": {
    "slideshow": {
     "slide_type": "subslide"
    }
   },
   "source": [
    "Further explanation in section *Feature Engineering*.\n",
    "\n",
    "<html><img src=\"../img/boxplot1.jpg\", width=500></html>\n",
    "<font size=\"1\">(Imagesource: OK)</font>"
   ]
  },
  {
   "cell_type": "code",
   "execution_count": 22,
   "metadata": {
    "ExecuteTime": {
     "end_time": "2017-11-22T18:50:09.930000Z",
     "start_time": "2017-11-22T18:49:30.554Z"
    },
    "slideshow": {
     "slide_type": "subslide"
    }
   },
   "outputs": [
    {
     "data": {
      "image/png": "[encoded data removed]",
      "text/plain": [
       "plot without title"
      ]
     },
     "metadata": {},
     "output_type": "display_data"
    }
   ],
   "source": [
    "ggplot(data = facebookDataRed) + \n",
    "    geom_boxplot(mapping=aes(x=spentBins, y=impressions, fill=spentBins))+   #Change to 'fill=age'\n",
    "    labs(title=\"Impressions\")\n"
   ]
  },
  {
   "cell_type": "code",
   "execution_count": 23,
   "metadata": {
    "slideshow": {
     "slide_type": "subslide"
    }
   },
   "outputs": [
    {
     "data": {
      "image/png": "[encoded data removed]",
      "text/plain": [
       "plot without title"
      ]
     },
     "metadata": {},
     "output_type": "display_data"
    }
   ],
   "source": [
    "ggplot(data = facebookDataRed) + \n",
    "    geom_boxplot(mapping=aes(x=spentBins, y=impressions, color=spentBins))+  #Change to 'fill=age'\n",
    "    labs(title=\"Impressions\")"
   ]
  },
  {
   "cell_type": "markdown",
   "metadata": {
    "slideshow": {
     "slide_type": "slide"
    }
   },
   "source": [
    "### Density plots\n",
    "\n",
    "A density plot shows us the distribution of data related to our setting. \n",
    "\n",
    "Look at the plot below: Below, it tells us that \"impressions\" of 12500 (the highest peak in the plot) provide nearly 0.17% of the times for spents in the category \"spentCat-1.48\"."
   ]
  },
  {
   "cell_type": "code",
   "execution_count": 24,
   "metadata": {
    "ExecuteTime": {
     "end_time": "2017-11-22T18:59:02.950000Z",
     "start_time": "2017-11-22T18:59:02.098Z"
    },
    "slideshow": {
     "slide_type": "fragment"
    }
   },
   "outputs": [
    {
     "data": {
      "image/png": "[encoded data removed]",
      "text/plain": [
       "plot without title"
      ]
     },
     "metadata": {},
     "output_type": "display_data"
    }
   ],
   "source": [
    "ggplot(data = facebookDataRed) + \n",
    "    geom_density(mapping=aes(x=impressions, fill=spentBins), alpha=.4)\n",
    "    #+ facet_wrap(~ gender ,ncol=1)\n"
   ]
  },
  {
   "cell_type": "code",
   "execution_count": 25,
   "metadata": {
    "ExecuteTime": {
     "end_time": "2017-11-22T18:59:21.598000Z",
     "start_time": "2017-11-22T18:59:18.098Z"
    },
    "slideshow": {
     "slide_type": "subslide"
    }
   },
   "outputs": [
    {
     "name": "stderr",
     "output_type": "stream",
     "text": [
      "Warning message:\n",
      "\"Groups with fewer than two data points have been dropped.\"Warning message:\n",
      "\"Groups with fewer than two data points have been dropped.\"Warning message:\n",
      "\"Groups with fewer than two data points have been dropped.\"Warning message:\n",
      "\"Groups with fewer than two data points have been dropped.\"Warning message:\n",
      "\"Groups with fewer than two data points have been dropped.\"Warning message:\n",
      "\"Groups with fewer than two data points have been dropped.\""
     ]
    },
    {
     "data": {
      "image/png": "[encoded data removed]",
      "text/plain": [
       "plot without title"
      ]
     },
     "metadata": {},
     "output_type": "display_data"
    }
   ],
   "source": [
    "#Resize graphics\n",
    "options(repr.plot.res = 300, repr.plot.height=7, repr.plot.width=7)  #Defaults:resolution=120,width/height=7\n",
    "\n",
    "ggplot(data = facebookDataRed) + \n",
    "    geom_density(mapping=aes(x=impressions, fill=spentBins), alpha=.4)+ \n",
    "    facet_grid(total_conversion~.)   #The 'total_conversion' see you right side at the grey margin\n",
    "\n",
    "#Resize graphics\n",
    "options(repr.plot.res = 80, repr.plot.height=6, repr.plot.width=7)  #Defaults:resolution=120,width/height=7"
   ]
  },
  {
   "cell_type": "markdown",
   "metadata": {
    "slideshow": {
     "slide_type": "slide"
    }
   },
   "source": [
    "### Additionally calculate frequencies\n",
    "\n",
    "With [`xtabs()`](https://www.rdocumentation.org/packages/BiocGenerics/versions/0.18.0/topics/xtabs) creates a contingency table from cross-classifying factors. Below you see the numbers of campaign ad's related to the cross-classifying factors \"total_conversion\" from 0 to 6 and the spent categories - discussed above.\n",
    "\n"
   ]
  },
  {
   "cell_type": "code",
   "execution_count": 26,
   "metadata": {
    "ExecuteTime": {
     "end_time": "2017-11-22T18:59:29.779000Z",
     "start_time": "2017-11-22T18:59:29.690Z"
    },
    "slideshow": {
     "slide_type": "fragment"
    }
   },
   "outputs": [
    {
     "data": {
      "text/plain": [
       "                total_conversion\n",
       "spentBins         0  1  2  3  4  5  6\n",
       "  spentCat-1.48   0 71  8  0  1  0  0\n",
       "  spentCat-3.14   0 71  8  1  0  0  0\n",
       "  spentCat-5.98   1 65 11  2  1  0  0\n",
       "  spentCat-12.58  0 64 12  2  0  1  1\n",
       "  spentCat-53.22  0 52 16  5  5  3  0\n",
       "  spentCat-NA     0  0  0  0  0  0  0"
      ]
     },
     "metadata": {},
     "output_type": "display_data"
    },
    {
     "name": "stdout",
     "output_type": "stream",
     "text": [
      "Show Number of Campaign Ad's for 'total_conversion' is 1 and Spent Category is 'spentCat-5.98':\n"
     ]
    },
    {
     "data": {
      "text/html": [
       "<table>\n",
       "<caption>A tibble: 1 × 1</caption>\n",
       "<thead>\n",
       "\t<tr><th scope=col>n</th></tr>\n",
       "\t<tr><th scope=col>&lt;int&gt;</th></tr>\n",
       "</thead>\n",
       "<tbody>\n",
       "\t<tr><td>65</td></tr>\n",
       "</tbody>\n",
       "</table>\n"
      ],
      "text/latex": [
       "A tibble: 1 × 1\n",
       "\\begin{tabular}{r|l}\n",
       " n\\\\\n",
       " <int>\\\\\n",
       "\\hline\n",
       "\t 65\\\\\n",
       "\\end{tabular}\n"
      ],
      "text/markdown": [
       "\n",
       "A tibble: 1 × 1\n",
       "\n",
       "| n &lt;int&gt; |\n",
       "|---|\n",
       "| 65 |\n",
       "\n"
      ],
      "text/plain": [
       "  n \n",
       "1 65"
      ]
     },
     "metadata": {},
     "output_type": "display_data"
    }
   ],
   "source": [
    "mytable <- xtabs(~ spentBins + total_conversion, data=facebookDataRed)\n",
    "mytable\n",
    "\n",
    "\n",
    "cat(\"Show Number of Campaign Ad's for 'total_conversion' is 1 and Spent Category is 'spentCat-5.98':\\n\")\n",
    "count(facebookDataRed[facebookDataRed$total_conversion == 1 & facebookDataRed$spentBins == \"spentCat-5.98\", ])"
   ]
  },
  {
   "cell_type": "markdown",
   "metadata": {
    "slideshow": {
     "slide_type": "slide"
    }
   },
   "source": [
    "### Statistical Summary\n",
    "\n",
    "With [`stat_summary()`](https://ggplot2.tidyverse.org/reference/stat_summary.html) we can execute different summary functions and plot the results.\n"
   ]
  },
  {
   "cell_type": "code",
   "execution_count": 27,
   "metadata": {
    "ExecuteTime": {
     "end_time": "2017-11-22T18:50:17.747000Z",
     "start_time": "2017-11-22T18:49:30.900Z"
    },
    "slideshow": {
     "slide_type": "fragment"
    }
   },
   "outputs": [
    {
     "data": {
      "image/png": "[encoded data removed]",
      "text/plain": [
       "plot without title"
      ]
     },
     "metadata": {},
     "output_type": "display_data"
    }
   ],
   "source": [
    "ggplot(data = facebookDataRed) +\n",
    "  stat_summary(\n",
    "    mapping = aes(x = age, y = total_conversion),  #With 'color=spentBins' you can nothing see\n",
    "    fun.ymin = min,    #That's the line down\n",
    "    fun.ymax = max,    #That's the line up\n",
    "    fun.y = mean       #That's the point in the line\n",
    "  )+\n",
    "  theme(axis.text.x = element_text(angle = 90))\n"
   ]
  },
  {
   "cell_type": "markdown",
   "metadata": {
    "slideshow": {
     "slide_type": "slide"
    }
   },
   "source": [
    "\n",
    "### Arrange ggplot's side by side and some problems with `aes()`\n",
    "\n",
    "We use the function [`grid.arrange()`](https://stat545.com/multiple-plots.html) in the [gridExtra](https://cran.r-project.org/web/packages/gridExtra/index.html) package to combine multiple plots - see also [Laying out multiple plots on a page](https://cran.r-project.org/web/packages/egg/vignettes/Ecosystem.html).\n",
    " \n",
    "`Important`: If you try to access a data frame column, whoose name is stored in a variable, by `aes()` function, it is mostly not possible. So it is better to use [`aes_string()`](https://www.rdocumentation.org/packages/ggplot2/versions/1.0.0/topics/aes_string) with string/quoted objects. `aes()` uses a non-standard evaluation to get the variable names and therefore sometimes you get into trouble. Look at our example below.\n",
    "\n",
    "Additionally we use [`do_call()`](https://www.rdocumentation.org/packages/base/versions/3.6.1/topics/do.call) to pass a function with arguments - it is like `lapply()`:\n",
    "\n",
    "* 'what' defines the function to call\n",
    "* 'args' defines a list of arguments to the function call and so we can pass a variable list\n",
    "    "
   ]
  },
  {
   "cell_type": "code",
   "execution_count": 28,
   "metadata": {
    "slideshow": {
     "slide_type": "fragment"
    }
   },
   "outputs": [
    {
     "name": "stderr",
     "output_type": "stream",
     "text": [
      "\n",
      "Attaching package: 'gridExtra'\n",
      "\n",
      "The following object is masked from 'package:dplyr':\n",
      "\n",
      "    combine\n",
      "\n"
     ]
    },
    {
     "data": {
      "image/png": "[encoded data removed]",
      "text/plain": [
       "plot without title"
      ]
     },
     "metadata": {},
     "output_type": "display_data"
    },
    {
     "data": {
      "image/png": "[encoded data removed]",
      "text/plain": [
       "plot without title"
      ]
     },
     "metadata": {},
     "output_type": "display_data"
    }
   ],
   "source": [
    "#install.packages(\"gridExtra\")\n",
    "library(gridExtra)\n",
    "\n",
    "df <- facebookDataRed\n",
    "\n",
    "#Resize graphics\n",
    "options(repr.plot.res = 200, repr.plot.height=3, repr.plot.width=7)  #Defaults:resolution=120,width/height=7\n",
    "\n",
    "plots <- list()\n",
    "df.cols <- c(\"spent\", \"clicks\", \"interest1\")\n",
    "nDraws <- length(df.cols)\n",
    "\n",
    "for (i in 1:nDraws) {\n",
    "    nVar <- df.cols[i]\n",
    "    \n",
    "    #Does not work:\n",
    "    #   ...aes(x = df[, nVar], ...)\n",
    "    #   ...aes(x = df[, c(nVar)], ...)\n",
    "    \n",
    "    #Does work:\n",
    "    #   ...aes(x = df[, 1], ...)\n",
    "    #   ...aes_string(x = df[, c(nVar)], ...)\n",
    "\n",
    "    plots[[length(plots)+1]] <- ggplot() +\n",
    "          geom_histogram(mapping = aes_string(x = df[, c(nVar)]), bins=10, fill=\"red\") +\n",
    "          theme(axis.text.x = element_text(angle = 90)) +\n",
    "          labs(title=nVar, x=nVar, y=\"Count\")\n",
    "    \n",
    "}\n",
    "\n",
    "#Show all created plots\n",
    "do.call(\"grid.arrange\", c(plots, ncol=2))\n",
    "\n",
    "#By hand:\n",
    "grid.arrange(plots[[1]], plots[[2]], plots[[3]], ncol=2)\n",
    "\n",
    "\n",
    "#Resize graphics\n",
    "options(repr.plot.res = 80, repr.plot.height=6, repr.plot.width=7)  #Defaults:resolution=120,width/height=7"
   ]
  },
  {
   "cell_type": "markdown",
   "metadata": {
    "slideshow": {
     "slide_type": "slide"
    }
   },
   "source": [
    "\n",
    "### Labels for the axes, title and legend and ranges for x/y-axes by hand\n",
    "\n",
    "As we have seen, we can assign colors manually or automatically. For color concepts and detailled informations, look at [Colors (ggplot2)](http://www.cookbook-r.com/Graphs/Colors_(ggplot2)).\n",
    "\n",
    "Because sometimes it is confusing with axes and legends, we will do some experiments below.\n",
    "\n",
    "`Keep in mind`: Below we have not defined the data in *ggplot()*, but in the *geom functions* themselves. The 'x' values must have the same length.\n",
    "\n"
   ]
  },
  {
   "cell_type": "markdown",
   "metadata": {
    "slideshow": {
     "slide_type": "subslide"
    }
   },
   "source": [
    "If you want to assign a color with legend entry manually, then it is a good way to assign unique color identifier which reference to the defined color in legends. You see below the assignment color=\"mycol1\" and the according color in values of legend:"
   ]
  },
  {
   "cell_type": "code",
   "execution_count": 29,
   "metadata": {
    "scrolled": false,
    "slideshow": {
     "slide_type": "fragment"
    }
   },
   "outputs": [
    {
     "name": "stdout",
     "output_type": "stream",
     "text": [
      "Min ( 1 )/ Max ( 38 )of clicks:\n",
      "Min ( 0.24 )/ Max ( 53.22 )of spent:\n"
     ]
    },
    {
     "data": {
      "image/png": "[encoded data removed]",
      "text/plain": [
       "plot without title"
      ]
     },
     "metadata": {},
     "output_type": "display_data"
    }
   ],
   "source": [
    "\n",
    "cat(\"Min (\",min(facebookDataRed$clicks),\")/ Max (\", max(facebookDataRed$clicks), \")of clicks:\\n\")\n",
    "cat(\"Min (\",min(facebookDataRed$spent),\")/ Max (\", max(facebookDataRed$spent), \")of spent:\\n\")\n",
    "\n",
    "ggplot() + \n",
    "    geom_point(mapping=aes(x = facebookDataRed$impressions, \n",
    "                           y = facebookDataRed$clicks, color=\"mycol1\")) +\n",
    "    geom_line(mapping=aes(x = facebookDataRed$impressions, \n",
    "                          y = facebookDataRed$spent, color=\"mycol2\")) +\n",
    "    ggtitle(\"Test1\") +\n",
    "    xlab(\"This is my x-axis\") + ylab(\"This is my y-axis\") + \n",
    "    scale_color_manual(name = \"This is my legend\", \n",
    "                     labels = c(\"clicks\", \"spent\"), \n",
    "                     values = c(\"mycol1\" = \"red\", \"mycol2\" = \"blue\"))\n",
    "\n",
    "\n",
    "#We can do that concept also with 'linetype' and 'size' - see lecture \"Regularization\"\n",
    "#  scale_linetype_manual(\"Line-Types\", values=c(\"lm-model\"=2, \"lambda-model\"=1)) +\n",
    "#  scale_size_manual(\"Size-Types\", values=c(\"lm-model\"=1, \"Data\"=2, \"lambda-model\"=0.3))\n",
    "\n"
   ]
  },
  {
   "cell_type": "markdown",
   "metadata": {
    "slideshow": {
     "slide_type": "subslide"
    }
   },
   "source": [
    "Look at the inside and outside the 'mapping=aes()' parameter defined color. Below, we change the outside 'color' parameter to \"green\" and overwrite the inside settings:\n"
   ]
  },
  {
   "cell_type": "code",
   "execution_count": 30,
   "metadata": {
    "slideshow": {
     "slide_type": "fragment"
    }
   },
   "outputs": [
    {
     "data": {
      "image/png": "[encoded data removed]",
      "text/plain": [
       "plot without title"
      ]
     },
     "metadata": {},
     "output_type": "display_data"
    }
   ],
   "source": [
    "ggplot() + \n",
    "    geom_point(mapping=aes(x = facebookDataRed$impressions, \n",
    "                           y = facebookDataRed$clicks, color=\"mycol1\")) +\n",
    "    geom_line(mapping=aes(x = facebookDataRed$impressions, \n",
    "                          y = facebookDataRed$spent, color=\"mycol2\"), color=\"green\") +\n",
    "    ggtitle(\"Test2\") +\n",
    "    xlab(\"This is my x-axis\") + ylab(\"This is my y-axis\") + \n",
    "    scale_color_manual(name = \"This is my legend\", \n",
    "                     labels = c(\"clicks\", \"spent\"), \n",
    "                     values = c(\"mycol1\" = \"red\", \"mycol2\" = \"blue\"))\n"
   ]
  },
  {
   "cell_type": "markdown",
   "metadata": {
    "slideshow": {
     "slide_type": "subslide"
    }
   },
   "source": [
    "Next plot only look for the sequence of colors and can become problematically:"
   ]
  },
  {
   "cell_type": "code",
   "execution_count": 31,
   "metadata": {
    "slideshow": {
     "slide_type": "fragment"
    }
   },
   "outputs": [
    {
     "data": {
      "image/png": "[encoded data removed]",
      "text/plain": [
       "plot without title"
      ]
     },
     "metadata": {},
     "output_type": "display_data"
    }
   ],
   "source": [
    "ggplot() + \n",
    "    geom_point(mapping=aes(x = facebookDataRed$impressions, \n",
    "                           y = facebookDataRed$clicks, color=\"x2\")) +   \n",
    "    geom_line(mapping=aes(x = facebookDataRed$impressions, \n",
    "                          y = facebookDataRed$spent, color=\"x1\") ) +   \n",
    "    ggtitle(\"Test3: Look at the differences\") +\n",
    "    xlab(\"This is my x-axis\") + ylab(\"This is my y-axis\") + \n",
    "    scale_color_manual(name = \"This is my legend\", \n",
    "                     labels = c(\"clicks\", \"spent\"), \n",
    "                     values = c(\"red\", \"blue\"))\n"
   ]
  },
  {
   "cell_type": "markdown",
   "metadata": {
    "slideshow": {
     "slide_type": "subslide"
    }
   },
   "source": [
    "The next plots only look for the sequence of colors and define the colors outside the 'mapping=aes()' parameter. This also can become problematically:"
   ]
  },
  {
   "cell_type": "code",
   "execution_count": 32,
   "metadata": {
    "slideshow": {
     "slide_type": "fragment"
    }
   },
   "outputs": [
    {
     "data": {
      "image/png": "[encoded data removed]",
      "text/plain": [
       "plot without title"
      ]
     },
     "metadata": {},
     "output_type": "display_data"
    },
    {
     "data": {
      "image/png": "[encoded data removed]",
      "text/plain": [
       "plot without title"
      ]
     },
     "metadata": {},
     "output_type": "display_data"
    }
   ],
   "source": [
    "ggplot() + \n",
    "    geom_point(mapping=aes(x = facebookDataRed$impressions, \n",
    "                           y = facebookDataRed$clicks), color=\"green\") +   # change color position\n",
    "    geom_line(mapping=aes(x = facebookDataRed$impressions, \n",
    "                          y = facebookDataRed$spent), color=\"yellow\" ) +  # does not match with legend\n",
    "    ggtitle(\"Test4: Look at the differences\") +\n",
    "    xlab(\"This is my x-axis\") + ylab(\"This is my y-axis\") + \n",
    "    scale_color_manual(name = \"This is my legend\", \n",
    "                     labels = c(\"clicks\", \"spent\"), \n",
    "                     values = c(\"red\", \"blue\"))\n",
    "\n",
    "\n",
    "ggplot() + \n",
    "    geom_point(mapping=aes(x = facebookDataRed$impressions, \n",
    "                           y = facebookDataRed$clicks), color=\"2\") +  \n",
    "    geom_line(mapping=aes(x = facebookDataRed$impressions, \n",
    "                          y = facebookDataRed$spent), color=\"1\" ) +   \n",
    "    ggtitle(\"Test5: Look at the differences\") +\n",
    "    xlab(\"This is my x-axis\") + ylab(\"This is my y-axis\") + \n",
    "    scale_color_manual(name = \"This is my legend\", \n",
    "                     labels = c(\"clicks\", \"spent\"), \n",
    "                     values = c(\"yellow\", \"green\"))\n",
    "\n"
   ]
  },
  {
   "cell_type": "markdown",
   "metadata": {
    "slideshow": {
     "slide_type": "subslide"
    }
   },
   "source": [
    "Below, the plot includes limits for the x- and y-axis:"
   ]
  },
  {
   "cell_type": "code",
   "execution_count": 33,
   "metadata": {
    "slideshow": {
     "slide_type": "fragment"
    }
   },
   "outputs": [
    {
     "name": "stderr",
     "output_type": "stream",
     "text": [
      "Warning message:\n",
      "\"Removed 388 rows containing missing values (geom_point).\"Warning message:\n",
      "\"Removed 282 rows containing missing values (geom_path).\""
     ]
    },
    {
     "data": {
      "image/png": "[encoded data removed]",
      "text/plain": [
       "plot without title"
      ]
     },
     "metadata": {},
     "output_type": "display_data"
    }
   ],
   "source": [
    "\n",
    "ggplot() + \n",
    "    geom_point(mapping=aes(x = facebookDataRed$impressions, y = facebookDataRed$clicks, color=\"mycol1\")) +\n",
    "    geom_line(mapping=aes(x = facebookDataRed$impressions, y = facebookDataRed$spent, color=\"mycol2\") ) +\n",
    "    xlim(0, 50000) + ylim(10, 50) +\n",
    "    ggtitle(\"Test6 with limits of x- and y-axis\") +\n",
    "    xlab(\"This is my x-axis\") + ylab(\"This is my y-axis\") + \n",
    "    scale_color_manual(name = \"This is my legend\", \n",
    "                     labels = c(\"clicks\", \"spent\"), \n",
    "                     values = c(\"mycol1\"=\"red\", \"mycol2\"=\"blue\"))"
   ]
  },
  {
   "cell_type": "markdown",
   "metadata": {
    "slideshow": {
     "slide_type": "slide"
    }
   },
   "source": [
    "### `Discussion:` What is the better visualization system? Base R or ggplot?\n",
    "\n",
    "In *Base R Graphics* you can almost do all things that you can do in *ggplot()*, maybe not so complex graphics and maybe not so nice looking. *ggplot()* is the modern way to visualize data in R. Look at [Comparing ggplot2 and R Base Graphics](https://flowingdata.com/2016/03/22/comparing-ggplot2-and-r-base-graphics/). We will see more complex visualisations in our upcoming Machine Learning lectures.\n",
    "\n"
   ]
  },
  {
   "cell_type": "markdown",
   "metadata": {
    "slideshow": {
     "slide_type": "slide"
    }
   },
   "source": [
    "## Exercises\n",
    "\n",
    "[Exercise on visualisation in R](../exercises/Ass08VisualisationR.ipynb)"
   ]
  }
 ],
 "metadata": {
  "anaconda-cloud": {},
  "celltoolbar": "Slideshow",
  "kernelspec": {
   "display_name": "R",
   "language": "R",
   "name": "ir"
  },
  "language_info": {
   "codemirror_mode": "r",
   "file_extension": ".r",
   "mimetype": "text/x-r-source",
   "name": "R",
   "pygments_lexer": "r",
   "version": "3.6.1"
  },
  "nav_menu": {},
  "toc": {
   "nav_menu": {},
   "number_sections": true,
   "sideBar": true,
   "skip_h1_title": false,
   "toc_cell": false,
   "toc_position": {},
   "toc_section_display": "block",
   "toc_window_display": true
  },
  "toc_position": {
   "height": "533px",
   "left": "0px",
   "right": "1196px",
   "top": "106px",
   "width": "212px"
  }
 },
 "nbformat": 4,
 "nbformat_minor": 2
}
