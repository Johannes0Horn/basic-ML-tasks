{
 "cells": [
  {
   "cell_type": "markdown",
   "metadata": {
    "slideshow": {
     "slide_type": "slide"
    }
   },
   "source": [
    "# Selection of statistical R-functions\n",
    "\n",
    "* Author: Johannes Maucher, some modifications by OK in 2019\n",
    "* Last Update: 2017-09-26\n"
   ]
  },
  {
   "cell_type": "code",
   "execution_count": 1,
   "metadata": {
    "slideshow": {
     "slide_type": "subslide"
    }
   },
   "outputs": [
    {
     "name": "stderr",
     "output_type": "stream",
     "text": [
      "-- \u001b[1mAttaching packages\u001b[22m --------------------------------------- tidyverse 1.2.1 --\n",
      "\u001b[32mv\u001b[39m \u001b[34mggplot2\u001b[39m 3.2.0     \u001b[32mv\u001b[39m \u001b[34mpurrr  \u001b[39m 0.3.2\n",
      "\u001b[32mv\u001b[39m \u001b[34mtibble \u001b[39m 2.1.3     \u001b[32mv\u001b[39m \u001b[34mdplyr  \u001b[39m 0.8.3\n",
      "\u001b[32mv\u001b[39m \u001b[34mtidyr  \u001b[39m 0.8.3     \u001b[32mv\u001b[39m \u001b[34mstringr\u001b[39m 1.4.0\n",
      "\u001b[32mv\u001b[39m \u001b[34mreadr  \u001b[39m 1.3.1     \u001b[32mv\u001b[39m \u001b[34mforcats\u001b[39m 0.4.0\n",
      "-- \u001b[1mConflicts\u001b[22m ------------------------------------------ tidyverse_conflicts() --\n",
      "\u001b[31mx\u001b[39m \u001b[34mdplyr\u001b[39m::\u001b[32mfilter()\u001b[39m masks \u001b[34mstats\u001b[39m::filter()\n",
      "\u001b[31mx\u001b[39m \u001b[34mdplyr\u001b[39m::\u001b[32mlag()\u001b[39m    masks \u001b[34mstats\u001b[39m::lag()\n"
     ]
    }
   ],
   "source": [
    "#load tidyverse\n",
    "library(tidyverse)\n",
    "\n",
    "#Resize graphics\n",
    "options(repr.plot.res = 80, repr.plot.height=6, repr.plot.width=7)  #Defaults:resolution=120,width/height=7\n",
    "\n",
    "# Keep in mind: in package reshape and gbm overload functions\n",
    "rename <- dplyr::rename\n",
    "select <- dplyr::select"
   ]
  },
  {
   "cell_type": "markdown",
   "metadata": {
    "slideshow": {
     "slide_type": "slide"
    }
   },
   "source": [
    "## Functions for generating data\n",
    "\n",
    "|       function       |                                           comment                                           |\n",
    "|:--------------------:|:-------------------------------------------------------------------------------------------:|\n",
    "| runif(n, min=0, max=1) | Generate 'n' uniformly distributed random float numbers in the range between 'min' and 'max'      |\n",
    "| rnorm(n, mean=0, sd=1) | Generate 'n' Gaussian distributed random numbers with mean 'mean' and standard deviation 'sd' |"
   ]
  },
  {
   "cell_type": "code",
   "execution_count": 2,
   "metadata": {
    "ExecuteTime": {
     "end_time": "2017-11-22T19:06:50.577000Z",
     "start_time": "2017-11-22T19:06:50.486Z"
    },
    "slideshow": {
     "slide_type": "fragment"
    }
   },
   "outputs": [
    {
     "data": {
      "text/html": [
       "<ol class=list-inline>\n",
       "\t<li>0.513876574113965</li>\n",
       "\t<li>0.349105387693271</li>\n",
       "\t<li>0.507742311106995</li>\n",
       "\t<li>0.180620816769078</li>\n",
       "\t<li>0.0254870564676821</li>\n",
       "\t<li>0.975056455470622</li>\n",
       "\t<li>0.637175053823739</li>\n",
       "\t<li>0.406463136896491</li>\n",
       "</ol>\n"
      ],
      "text/latex": [
       "\\begin{enumerate*}\n",
       "\\item 0.513876574113965\n",
       "\\item 0.349105387693271\n",
       "\\item 0.507742311106995\n",
       "\\item 0.180620816769078\n",
       "\\item 0.0254870564676821\n",
       "\\item 0.975056455470622\n",
       "\\item 0.637175053823739\n",
       "\\item 0.406463136896491\n",
       "\\end{enumerate*}\n"
      ],
      "text/markdown": [
       "1. 0.513876574113965\n",
       "2. 0.349105387693271\n",
       "3. 0.507742311106995\n",
       "4. 0.180620816769078\n",
       "5. 0.0254870564676821\n",
       "6. 0.975056455470622\n",
       "7. 0.637175053823739\n",
       "8. 0.406463136896491\n",
       "\n",
       "\n"
      ],
      "text/plain": [
       "[1] 0.51387657 0.34910539 0.50774231 0.18062082 0.02548706 0.97505646 0.63717505\n",
       "[8] 0.40646314"
      ]
     },
     "metadata": {},
     "output_type": "display_data"
    },
    {
     "data": {
      "text/html": [
       "<ol class=list-inline>\n",
       "\t<li>1.50724055944011</li>\n",
       "\t<li>0.390584329143167</li>\n",
       "\t<li>4.15659667924047</li>\n",
       "\t<li>9.35611120192334</li>\n",
       "\t<li>7.03537310473621</li>\n",
       "</ol>\n"
      ],
      "text/latex": [
       "\\begin{enumerate*}\n",
       "\\item 1.50724055944011\n",
       "\\item 0.390584329143167\n",
       "\\item 4.15659667924047\n",
       "\\item 9.35611120192334\n",
       "\\item 7.03537310473621\n",
       "\\end{enumerate*}\n"
      ],
      "text/markdown": [
       "1. 1.50724055944011\n",
       "2. 0.390584329143167\n",
       "3. 4.15659667924047\n",
       "4. 9.35611120192334\n",
       "5. 7.03537310473621\n",
       "\n",
       "\n"
      ],
      "text/plain": [
       "[1] 1.5072406 0.3905843 4.1565967 9.3561112 7.0353731"
      ]
     },
     "metadata": {},
     "output_type": "display_data"
    }
   ],
   "source": [
    "runif(8)\n",
    "runif(n=5, min=0, max=10)"
   ]
  },
  {
   "cell_type": "markdown",
   "metadata": {
    "slideshow": {
     "slide_type": "subslide"
    }
   },
   "source": [
    "Generate random rounded numbers"
   ]
  },
  {
   "cell_type": "code",
   "execution_count": 3,
   "metadata": {
    "ExecuteTime": {
     "end_time": "2017-11-22T19:06:50.817000Z",
     "start_time": "2017-11-22T19:06:50.696Z"
    },
    "scrolled": true,
    "slideshow": {
     "slide_type": "fragment"
    }
   },
   "outputs": [
    {
     "data": {
      "text/html": [
       "<ol class=list-inline>\n",
       "\t<li>4.56562600797042</li>\n",
       "\t<li>6.3323759008199</li>\n",
       "\t<li>5.52416077582166</li>\n",
       "\t<li>0.57221767026931</li>\n",
       "\t<li>2.44408584665507</li>\n",
       "</ol>\n"
      ],
      "text/latex": [
       "\\begin{enumerate*}\n",
       "\\item 4.56562600797042\n",
       "\\item 6.3323759008199\n",
       "\\item 5.52416077582166\n",
       "\\item 0.57221767026931\n",
       "\\item 2.44408584665507\n",
       "\\end{enumerate*}\n"
      ],
      "text/markdown": [
       "1. 4.56562600797042\n",
       "2. 6.3323759008199\n",
       "3. 5.52416077582166\n",
       "4. 0.57221767026931\n",
       "5. 2.44408584665507\n",
       "\n",
       "\n"
      ],
      "text/plain": [
       "[1] 4.5656260 6.3323759 5.5241608 0.5722177 2.4440858"
      ]
     },
     "metadata": {},
     "output_type": "display_data"
    },
    {
     "data": {
      "text/html": [
       "<ol class=list-inline>\n",
       "\t<li>4</li>\n",
       "\t<li>6</li>\n",
       "\t<li>5</li>\n",
       "\t<li>0</li>\n",
       "\t<li>2</li>\n",
       "</ol>\n"
      ],
      "text/latex": [
       "\\begin{enumerate*}\n",
       "\\item 4\n",
       "\\item 6\n",
       "\\item 5\n",
       "\\item 0\n",
       "\\item 2\n",
       "\\end{enumerate*}\n"
      ],
      "text/markdown": [
       "1. 4\n",
       "2. 6\n",
       "3. 5\n",
       "4. 0\n",
       "5. 2\n",
       "\n",
       "\n"
      ],
      "text/plain": [
       "[1] 4 6 5 0 2"
      ]
     },
     "metadata": {},
     "output_type": "display_data"
    },
    {
     "data": {
      "text/html": [
       "<ol class=list-inline>\n",
       "\t<li>4</li>\n",
       "\t<li>6</li>\n",
       "\t<li>5</li>\n",
       "\t<li>0</li>\n",
       "\t<li>2</li>\n",
       "</ol>\n"
      ],
      "text/latex": [
       "\\begin{enumerate*}\n",
       "\\item 4\n",
       "\\item 6\n",
       "\\item 5\n",
       "\\item 0\n",
       "\\item 2\n",
       "\\end{enumerate*}\n"
      ],
      "text/markdown": [
       "1. 4\n",
       "2. 6\n",
       "3. 5\n",
       "4. 0\n",
       "5. 2\n",
       "\n",
       "\n"
      ],
      "text/plain": [
       "[1] 4 6 5 0 2"
      ]
     },
     "metadata": {},
     "output_type": "display_data"
    },
    {
     "data": {
      "text/html": [
       "<ol class=list-inline>\n",
       "\t<li>5</li>\n",
       "\t<li>7</li>\n",
       "\t<li>6</li>\n",
       "\t<li>1</li>\n",
       "\t<li>3</li>\n",
       "</ol>\n"
      ],
      "text/latex": [
       "\\begin{enumerate*}\n",
       "\\item 5\n",
       "\\item 7\n",
       "\\item 6\n",
       "\\item 1\n",
       "\\item 3\n",
       "\\end{enumerate*}\n"
      ],
      "text/markdown": [
       "1. 5\n",
       "2. 7\n",
       "3. 6\n",
       "4. 1\n",
       "5. 3\n",
       "\n",
       "\n"
      ],
      "text/plain": [
       "[1] 5 7 6 1 3"
      ]
     },
     "metadata": {},
     "output_type": "display_data"
    },
    {
     "data": {
      "text/html": [
       "<ol class=list-inline>\n",
       "\t<li>4.57</li>\n",
       "\t<li>6.33</li>\n",
       "\t<li>5.52</li>\n",
       "\t<li>0.57</li>\n",
       "\t<li>2.44</li>\n",
       "</ol>\n"
      ],
      "text/latex": [
       "\\begin{enumerate*}\n",
       "\\item 4.57\n",
       "\\item 6.33\n",
       "\\item 5.52\n",
       "\\item 0.57\n",
       "\\item 2.44\n",
       "\\end{enumerate*}\n"
      ],
      "text/markdown": [
       "1. 4.57\n",
       "2. 6.33\n",
       "3. 5.52\n",
       "4. 0.57\n",
       "5. 2.44\n",
       "\n",
       "\n"
      ],
      "text/plain": [
       "[1] 4.57 6.33 5.52 0.57 2.44"
      ]
     },
     "metadata": {},
     "output_type": "display_data"
    }
   ],
   "source": [
    "unif <- runif(5,0,10)\n",
    "unif\n",
    "\n",
    "trunc(unif)     #Cut the decimal digits of x\n",
    "floor(unif)     #Returns the smallest integers not less than x \n",
    "ceiling(unif)   #Returns the largest integers not greater than x \n",
    "round(unif, 2)  #Round x with 2 decimal digits  "
   ]
  },
  {
   "cell_type": "markdown",
   "metadata": {
    "slideshow": {
     "slide_type": "subslide"
    }
   },
   "source": [
    "Setting the seed of a random number generator in order to obtain same random numbers:"
   ]
  },
  {
   "cell_type": "code",
   "execution_count": 4,
   "metadata": {
    "ExecuteTime": {
     "end_time": "2017-11-22T19:06:50.935000Z",
     "start_time": "2017-11-22T19:06:50.857Z"
    },
    "slideshow": {
     "slide_type": "fragment"
    }
   },
   "outputs": [
    {
     "data": {
      "text/html": [
       "<ol class=list-inline>\n",
       "\t<li>0.687857406679541</li>\n",
       "\t<li>0.492192608769983</li>\n",
       "\t<li>0.345115572912619</li>\n",
       "\t<li>0.995049911551178</li>\n",
       "\t<li>0.695267170201987</li>\n",
       "\t<li>0.0107000356074423</li>\n",
       "\t<li>0.345015853410587</li>\n",
       "\t<li>0.172049480024725</li>\n",
       "</ol>\n"
      ],
      "text/latex": [
       "\\begin{enumerate*}\n",
       "\\item 0.687857406679541\n",
       "\\item 0.492192608769983\n",
       "\\item 0.345115572912619\n",
       "\\item 0.995049911551178\n",
       "\\item 0.695267170201987\n",
       "\\item 0.0107000356074423\n",
       "\\item 0.345015853410587\n",
       "\\item 0.172049480024725\n",
       "\\end{enumerate*}\n"
      ],
      "text/markdown": [
       "1. 0.687857406679541\n",
       "2. 0.492192608769983\n",
       "3. 0.345115572912619\n",
       "4. 0.995049911551178\n",
       "5. 0.695267170201987\n",
       "6. 0.0107000356074423\n",
       "7. 0.345015853410587\n",
       "8. 0.172049480024725\n",
       "\n",
       "\n"
      ],
      "text/plain": [
       "[1] 0.68785741 0.49219261 0.34511557 0.99504991 0.69526717 0.01070004 0.34501585\n",
       "[8] 0.17204948"
      ]
     },
     "metadata": {},
     "output_type": "display_data"
    },
    {
     "data": {
      "text/html": [
       "<ol class=list-inline>\n",
       "\t<li>0.687857406679541</li>\n",
       "\t<li>0.492192608769983</li>\n",
       "\t<li>0.345115572912619</li>\n",
       "\t<li>0.995049911551178</li>\n",
       "\t<li>0.695267170201987</li>\n",
       "\t<li>0.0107000356074423</li>\n",
       "\t<li>0.345015853410587</li>\n",
       "\t<li>0.172049480024725</li>\n",
       "</ol>\n"
      ],
      "text/latex": [
       "\\begin{enumerate*}\n",
       "\\item 0.687857406679541\n",
       "\\item 0.492192608769983\n",
       "\\item 0.345115572912619\n",
       "\\item 0.995049911551178\n",
       "\\item 0.695267170201987\n",
       "\\item 0.0107000356074423\n",
       "\\item 0.345015853410587\n",
       "\\item 0.172049480024725\n",
       "\\end{enumerate*}\n"
      ],
      "text/markdown": [
       "1. 0.687857406679541\n",
       "2. 0.492192608769983\n",
       "3. 0.345115572912619\n",
       "4. 0.995049911551178\n",
       "5. 0.695267170201987\n",
       "6. 0.0107000356074423\n",
       "7. 0.345015853410587\n",
       "8. 0.172049480024725\n",
       "\n",
       "\n"
      ],
      "text/plain": [
       "[1] 0.68785741 0.49219261 0.34511557 0.99504991 0.69526717 0.01070004 0.34501585\n",
       "[8] 0.17204948"
      ]
     },
     "metadata": {},
     "output_type": "display_data"
    }
   ],
   "source": [
    "set.seed(777)\n",
    "runif(8)\n",
    "\n",
    "set.seed(777)\n",
    "runif(8)"
   ]
  },
  {
   "cell_type": "markdown",
   "metadata": {
    "slideshow": {
     "slide_type": "slide"
    }
   },
   "source": [
    "## Statistical Functions\n",
    "\n",
    "|             function            |                                    comment                                    |\n",
    "|:-------------------------------:|:-----------------------------------------------------------------------------:|\n",
    "| mean(x)                         | Mean value of x                                                               |\n",
    "| median(x)                       | Median value of x                                                             |\n",
    "| sd(x)                           | Standard deviation of x                                                       |\n",
    "| var(x)                          | Variance of x                                                                 |\n",
    "| mad(x)                          | Median absolute deviation of x                                                |\n",
    "| quantile(x, probs)              | Quantiles of x; Probs is a numeric vector with probabilities in [0, 1]         |\n",
    "| range(x)                        | Value range of x; returns sequence with lowest and highest value              |\n",
    "| sum(x)                          | Sum of x                                                                      |\n",
    "| diff(x, lag=n)                  | Difference of values in x; default lag is n=1                                 |\n",
    "| min(x)                          | Minimum of x                                                                  |\n",
    "| max(x)                          | Maximum of x                                                                  |\n",
    "| scale(x, center=TRUE, scale=TRUE) | Standardization of x, optionally to mean=0 and/or to standard deviation of 1  |\n",
    "| factorial(x)                    | x!                                                                  |\n",
    "\n"
   ]
  },
  {
   "cell_type": "markdown",
   "metadata": {
    "slideshow": {
     "slide_type": "slide"
    }
   },
   "source": [
    "### Statistical summary\n",
    "The standard `summary()`-function already provides a list of descriptive statistics for all columns of a dataframe. As can be seen in the example above, the statistics calculated by `summary()` are:\n",
    "* for numeric variables: min, max, mean and the quartiles\n",
    "* for factor variables: a table of frequencies for all values of the variable\n"
   ]
  },
  {
   "cell_type": "code",
   "execution_count": 5,
   "metadata": {
    "ExecuteTime": {
     "end_time": "2017-11-22T19:06:52.268000Z",
     "start_time": "2017-11-22T19:06:52.161Z"
    },
    "slideshow": {
     "slide_type": "subslide"
    }
   },
   "outputs": [
    {
     "data": {
      "text/plain": [
       "     ad_id           reporting_start    reporting_end  campaign_id  \n",
       " Min.   : 708746   23/08/2017: 62    23/08/2017: 62   Min.   : 916  \n",
       " 1st Qu.: 776335   21/08/2017: 55    21/08/2017: 55   1st Qu.: 936  \n",
       " Median : 781304   22/08/2017: 55    22/08/2017: 55   Median : 936  \n",
       " Mean   : 905516   19/08/2017: 46    19/08/2017: 46   Mean   :1023  \n",
       " 3rd Qu.:1121249   20/08/2017: 43    20/08/2017: 43   3rd Qu.:1178  \n",
       " Max.   :1121585   18/08/2017: 41    18/08/2017: 41   Max.   :1178  \n",
       "                   (Other)   :204    (Other)   :204                 \n",
       " fb_campaign_id      age      gender    interest1       interest2    \n",
       " Min.   :103916   30-34:191   F:189   Min.   : 2.00   Min.   : 3.00  \n",
       " 1st Qu.:115487   35-39:131   M:317   1st Qu.:16.00   1st Qu.:19.00  \n",
       " Median :116363   40-44:103           Median :22.00   Median :26.00  \n",
       " Mean   :125091   45-49: 81           Mean   :25.72   Mean   :29.19  \n",
       " 3rd Qu.:144564                       3rd Qu.:29.00   3rd Qu.:32.00  \n",
       " Max.   :144621                       Max.   :66.00   Max.   :72.00  \n",
       "                                                                     \n",
       "   interest3      impressions         clicks          spent       \n",
       " Min.   : 3.00   Min.   :   944   Min.   : 1.00   Min.   : 0.180  \n",
       " 1st Qu.:20.00   1st Qu.:  8255   1st Qu.: 2.00   1st Qu.: 2.328  \n",
       " Median :26.00   Median : 23793   Median : 5.00   Median : 6.550  \n",
       " Mean   :29.24   Mean   : 70114   Mean   :11.39   Mean   :18.291  \n",
       " 3rd Qu.:32.00   3rd Qu.: 98998   3rd Qu.:16.00   3rd Qu.:27.503  \n",
       " Max.   :72.00   Max.   :492784   Max.   :63.00   Max.   :98.700  \n",
       "                                                                  \n",
       " total_conversion approved_conversion\n",
       " Min.   : 0.000   Min.   : 0.000     \n",
       " 1st Qu.: 1.000   1st Qu.: 0.000     \n",
       " Median : 1.000   Median : 0.000     \n",
       " Mean   : 1.642   Mean   : 0.585     \n",
       " 3rd Qu.: 2.000   3rd Qu.: 1.000     \n",
       " Max.   :22.000   Max.   :12.000     \n",
       "                                     "
      ]
     },
     "metadata": {},
     "output_type": "display_data"
    }
   ],
   "source": [
    "#We use our previous Facebook data\n",
    "facebookData <- read.csv(file=\"../data/facebook-ad-campaign.csv\", header=TRUE,\n",
    "                         sep=\",\", dec=\".\")\n",
    "\n",
    "#Cleaning\n",
    "facebookData <- facebookData %>% drop_na() %>% select(-X) %>% filter(spent < 100, spent > 0)\n",
    "\n",
    "#glimpse(facebookData)\n",
    "\n",
    "summary(facebookData)\n",
    "\n",
    "\n"
   ]
  },
  {
   "cell_type": "markdown",
   "metadata": {
    "collapsed": true,
    "slideshow": {
     "slide_type": "slide"
    }
   },
   "source": [
    "## Probability distribution\n",
    "R provides functions for many probability distributions. For example the name `norm` refers to a normal distribution. By applying different characters as prefix to the distribution name, different functions concerning this distribution can be applied:\n"
   ]
  },
  {
   "cell_type": "markdown",
   "metadata": {
    "slideshow": {
     "slide_type": "subslide"
    }
   },
   "source": [
    "* Prefix `d`, followed by name of the distribution yields the corresponding **probability density distribution (PDF)**. E.g. `dnorm(x, m, sd)` returns the probability density of a normal distribution with mean `m` and standard deviation `sd`.\n",
    "* Prefix `p`, followed by name of the distribution yields the corresponding **probability distribution (= cumulative distribution function (CDF))**. E.g. `pnorm(x, m, sd)` returns the probability that the value of a normal-distributed variable with mean `m` and standard deviation `sd` is smaller than `x`.\n",
    "* Prefix `q`, followed by name of the distribution yields the corresponding **quantile function**. E.g. `qnorm(q, m, sd)` returns the q-quantile of a normal-distributed variable with mean `m` and standard deviation `sd`.\n",
    "* Prefix `r`, followed by name of the distribution **generates random samples** according to the given probability distribution. E.g. `rnorm(n, m, sd)` generates n random samples of a normal distribution with mean `m` and standard deviation `sd`.\n"
   ]
  },
  {
   "cell_type": "markdown",
   "metadata": {
    "slideshow": {
     "slide_type": "subslide"
    }
   },
   "source": [
    "This family of functions is demonstrated in the following subsections for the case of a normal distribution. Other probability density functions, which can be applied in the same way are, e.g. \n",
    "\n",
    "|  \t|    |\n",
    "|:--------------------:\t|:-----------------:|\n",
    "| Beta (beta)        \t| Lognormal (lnorm)      \t|\n",
    "| Binomial (binom)       \t|   Logistic (logis)     \t|\n",
    "| Cauchy (cauchy)        \t| Multinomial (multinom)       \t|   \t\n",
    "| Chi-squared (chisq)        \t|   Normal (norm)     \t|   \t\n",
    "| Exponential (exp)        \t|  Poission (pois)      \t|   \t\n",
    "| F (f)        \t|  T (t)      \t|   \t\n",
    "| Gamma (gamma)        \t|  Uniform (unif)      \t|   \t\n",
    "| Geometric (geom)        \t| Weibull (weibull)      \t|   \t\n",
    "\n",
    "The name in brackets is the abbreviation of the corresponding distribution in R."
   ]
  },
  {
   "cell_type": "markdown",
   "metadata": {
    "slideshow": {
     "slide_type": "subslide"
    }
   },
   "source": [
    "We often use a particular distribution in conjunction with a statistical test, for example to check the dependency on 2 or more variables or to check if a result is just random, etc.\n",
    "\n",
    "We don't go into this topic in depth, but some useful links will help you make the right decisions for statistical testing and distribution:\n",
    "\n",
    "* [Vorgehen bei Hypothesentests](https://www.crashkurs-statistik.de/vorgehen-bei-hypothesentests/)\n",
    "* [Welchen statistischen Test soll ich nehmen](https://www.crashkurs-statistik.de/welchen-statistischen-test-soll-ich-waehlen/)\n",
    "* Flow charts for decision making to a statistical test: [FlowChart1](https://www.researchgate.net/profile/Martin_Jakob2/post/What_Statistical_test_should_I_use/attachment/59d63e0dc49f478072ea8d9b/AS%3A273765781442561%401442282256222/download/df572-distributions.jpg) and [FlowChart2](https://www.researchgate.net/profile/Martin_Jakob2/post/What_Statistical_test_should_I_use/attachment/59d63e0dc49f478072ea8d9c/AS%3A273765781442574%401442282257641/download/statistical_tests.jpg)\n",
    "* Explaining videos like [BM17]"
   ]
  },
  {
   "cell_type": "markdown",
   "metadata": {
    "slideshow": {
     "slide_type": "slide"
    }
   },
   "source": [
    "### Probability density function (PDF)"
   ]
  },
  {
   "cell_type": "code",
   "execution_count": 6,
   "metadata": {
    "slideshow": {
     "slide_type": "fragment"
    }
   },
   "outputs": [],
   "source": [
    "mean <- 3\n",
    "std <- 0.5\n",
    "\n",
    "x <- seq(1, 6, 0.1)\n",
    "#print(x)\n",
    "\n",
    "y <- dnorm(x, mean, std)   #PDF\n",
    "#y <- pnorm(x, mean, std)   #CDF\n"
   ]
  },
  {
   "cell_type": "code",
   "execution_count": 7,
   "metadata": {
    "ExecuteTime": {
     "end_time": "2017-11-22T19:06:53.098000Z",
     "start_time": "2017-11-22T19:06:52.805Z"
    },
    "slideshow": {
     "slide_type": "subslide"
    }
   },
   "outputs": [
    {
     "data": {
      "image/png": "[encoded data removed]",
      "text/plain": [
       "plot without title"
      ]
     },
     "metadata": {},
     "output_type": "display_data"
    }
   ],
   "source": [
    "ggplot()+\n",
    "    #geom_point(mapping=aes(x=x, y=y, color=\"col1\")) +   #draw points\n",
    "    geom_line(mapping=aes(x=x, y=y, color=\"col1\")) +     #draw line\n",
    "    labs(title=paste(\"Density of Normal Distribution with mean=\",mean,\" and std=\",std), \n",
    "         x=\"x\", y=\"Density\") +\n",
    "    scale_color_manual(name = \"Legend\", \n",
    "                     labels = c(\"dnorm()\"), \n",
    "                     values = c(\"col1\"=\"red\"))\n",
    "\n",
    "#alternative Base R graphics\n",
    "#plot(x, y, type=\"l\", xlab=\"x\", ylab=\"Density\", yaxs=\"i\")\n",
    "#title(paste(\"Density of Normal Distribution with mean=\", mean, \" and std=\", std))\n"
   ]
  },
  {
   "cell_type": "code",
   "execution_count": 8,
   "metadata": {
    "ExecuteTime": {
     "end_time": "2017-11-22T19:06:53.283000Z",
     "start_time": "2017-11-22T19:06:52.814Z"
    },
    "slideshow": {
     "slide_type": "subslide"
    }
   },
   "outputs": [
    {
     "data": {
      "image/png": "[encoded data removed]",
      "text/plain": [
       "plot without title"
      ]
     },
     "metadata": {},
     "output_type": "display_data"
    }
   ],
   "source": [
    "x <- pretty(c(0, 5), 60)\n",
    "#print(x)\n",
    "\n",
    "y <- dlnorm(x = x)\n",
    "\n",
    "ggplot()+\n",
    "    geom_line(mapping=aes(x=x, y=y, color=\"col1\")) +     #draw line\n",
    "    labs(title=\"Density of LogNormal Distribution\", \n",
    "         x=\"x\", y=\"Density\") +\n",
    "    scale_color_manual(name = \"Legend\", \n",
    "                     labels = c(\"dlnorm()\"), \n",
    "                     values = c(\"col1\"=\"red\"))\n",
    "\n",
    "#alternative Base R graphics\n",
    "#plot(x, y, type=\"l\", xlab=\"x\", ylab=\"Density\", yaxs=\"i\")\n",
    "#title(\"Density of LogNormal Distribution\")\n"
   ]
  },
  {
   "cell_type": "code",
   "execution_count": 9,
   "metadata": {
    "ExecuteTime": {
     "end_time": "2017-11-22T19:06:53.469000Z",
     "start_time": "2017-11-22T19:06:52.823Z"
    },
    "slideshow": {
     "slide_type": "subslide"
    }
   },
   "outputs": [
    {
     "data": {
      "image/png": "[encoded data removed]",
      "text/plain": [
       "plot without title"
      ]
     },
     "metadata": {},
     "output_type": "display_data"
    }
   ],
   "source": [
    "y1 <- dchisq(x = x, df=1)\n",
    "y2 <- dchisq(x = x, df=2)\n",
    "y3 <- dchisq(x = x, df=3)\n",
    "\n",
    "ggplot()+\n",
    "    geom_line(mapping=aes(x=x, y=y1, color=\"col1\")) + \n",
    "    geom_line(mapping=aes(x=x, y=y2, color=\"col2\")) + \n",
    "    geom_line(mapping=aes(x=x, y=y3, color=\"col3\")) + \n",
    "    labs(title=\"Density of Chi-Squared Distribution\", \n",
    "         x=\"x\", y=\"Density\") +\n",
    "    scale_color_manual(name = \"Legend\", \n",
    "                     labels = c('df=1', 'df=2', 'df=3'), \n",
    "                     values = c(\"col1\"=\"green\", \"col2\"=\"blue\", \"col3\"=\"red\"))\n",
    "\n",
    "#alternative Base R graphics\n",
    "#plot(x, y1, type=\"l\", xlab=\"x\", ylab=\"Density\", yaxs=\"i\", col=\"red\", lty=1)\n",
    "#lines(x, y2, type=\"l\", col=\"blue\", lty=1)\n",
    "#lines(x, y3, type=\"l\", col=\"green\", lty=1)\n",
    "#legend('topright', c('df=1', 'df=2', 'df=3'), col=c(\"red\", \"blue\", \"green\"),lty=c(1, 1, 1))\n",
    "#title(\"Density of Chi-Squared Distribution\")\n",
    "\n"
   ]
  },
  {
   "cell_type": "markdown",
   "metadata": {
    "slideshow": {
     "slide_type": "slide"
    }
   },
   "source": [
    "### Probability function (= Cumulative Distribution Function (CDF))\n",
    "\n",
    "The probability that a normal distributed variable (mean=3.0, standard deviation =0.5) has a value in the range **[2, ..., 4]** can be calculated as follows:"
   ]
  },
  {
   "cell_type": "code",
   "execution_count": 10,
   "metadata": {
    "ExecuteTime": {
     "end_time": "2017-11-22T19:06:53.540000Z",
     "start_time": "2017-11-22T19:06:53.075Z"
    },
    "slideshow": {
     "slide_type": "fragment"
    }
   },
   "outputs": [
    {
     "data": {
      "text/html": [
       "0.954499736103642"
      ],
      "text/latex": [
       "0.954499736103642"
      ],
      "text/markdown": [
       "0.954499736103642"
      ],
      "text/plain": [
       "[1] 0.9544997"
      ]
     },
     "metadata": {},
     "output_type": "display_data"
    }
   ],
   "source": [
    "mean <- 3\n",
    "std <- 0.5\n",
    "\n",
    "pnorm(4, mean, std) - pnorm(2, mean, std)\n"
   ]
  },
  {
   "cell_type": "markdown",
   "metadata": {
    "slideshow": {
     "slide_type": "slide"
    }
   },
   "source": [
    "### Quantile function\n",
    "The q%-quantile of a random variable determines the value, below which q% of all samples of the corresponding probability distribution fall. For example\n",
    "the 95%-quantile of a normal distributed variable (mean=3.0, standard deviation =0.5) can be calculated as follows:"
   ]
  },
  {
   "cell_type": "code",
   "execution_count": 11,
   "metadata": {
    "ExecuteTime": {
     "end_time": "2017-11-22T19:06:53.602000Z",
     "start_time": "2017-11-22T19:06:53.312Z"
    },
    "slideshow": {
     "slide_type": "fragment"
    }
   },
   "outputs": [
    {
     "data": {
      "text/html": [
       "3.82242681347574"
      ],
      "text/latex": [
       "3.82242681347574"
      ],
      "text/markdown": [
       "3.82242681347574"
      ],
      "text/plain": [
       "[1] 3.822427"
      ]
     },
     "metadata": {},
     "output_type": "display_data"
    }
   ],
   "source": [
    "mean <- 3\n",
    "std <- 0.5\n",
    "\n",
    "qnorm(.95, mean, std)\n"
   ]
  },
  {
   "cell_type": "markdown",
   "metadata": {
    "slideshow": {
     "slide_type": "slide"
    }
   },
   "source": [
    "### Random generator function\n",
    "*10* samples of a normal distribution with mean = 3.0 and standard deviation = 0.5 can be generated as follows:"
   ]
  },
  {
   "cell_type": "code",
   "execution_count": 12,
   "metadata": {
    "ExecuteTime": {
     "end_time": "2017-11-22T19:06:53.674000Z",
     "start_time": "2017-11-22T19:06:53.576Z"
    },
    "slideshow": {
     "slide_type": "fragment"
    }
   },
   "outputs": [
    {
     "data": {
      "text/html": [
       "<ol class=list-inline>\n",
       "\t<li>3.81934302939304</li>\n",
       "\t<li>3.31063698469688</li>\n",
       "\t<li>3.10135215199435</li>\n",
       "\t<li>3.55446889298224</li>\n",
       "\t<li>2.89688762257191</li>\n",
       "\t<li>2.8105174815321</li>\n",
       "\t<li>2.84786916922592</li>\n",
       "\t<li>3.02708116212996</li>\n",
       "\t<li>2.05953469133245</li>\n",
       "\t<li>2.98312176312953</li>\n",
       "</ol>\n"
      ],
      "text/latex": [
       "\\begin{enumerate*}\n",
       "\\item 3.81934302939304\n",
       "\\item 3.31063698469688\n",
       "\\item 3.10135215199435\n",
       "\\item 3.55446889298224\n",
       "\\item 2.89688762257191\n",
       "\\item 2.8105174815321\n",
       "\\item 2.84786916922592\n",
       "\\item 3.02708116212996\n",
       "\\item 2.05953469133245\n",
       "\\item 2.98312176312953\n",
       "\\end{enumerate*}\n"
      ],
      "text/markdown": [
       "1. 3.81934302939304\n",
       "2. 3.31063698469688\n",
       "3. 3.10135215199435\n",
       "4. 3.55446889298224\n",
       "5. 2.89688762257191\n",
       "6. 2.8105174815321\n",
       "7. 2.84786916922592\n",
       "8. 3.02708116212996\n",
       "9. 2.05953469133245\n",
       "10. 2.98312176312953\n",
       "\n",
       "\n"
      ],
      "text/plain": [
       " [1] 3.819343 3.310637 3.101352 3.554469 2.896888 2.810517 2.847869 3.027081\n",
       " [9] 2.059535 2.983122"
      ]
     },
     "metadata": {},
     "output_type": "display_data"
    }
   ],
   "source": [
    "mean <- 3\n",
    "std <- 0.5\n",
    "\n",
    "rnorm(10, mean, std)\n"
   ]
  },
  {
   "cell_type": "markdown",
   "metadata": {
    "slideshow": {
     "slide_type": "slide"
    }
   },
   "source": [
    "### Using random generator for mixing rows and columns"
   ]
  },
  {
   "cell_type": "code",
   "execution_count": 13,
   "metadata": {
    "slideshow": {
     "slide_type": "fragment"
    }
   },
   "outputs": [
    {
     "name": "stdout",
     "output_type": "stream",
     "text": [
      "\n",
      "Randomly mix rows in facebookData:\n",
      "Observations: 506\n",
      "Variables: 15\n",
      "$ ad_id               \u001b[3m\u001b[90m<int>\u001b[39m\u001b[23m 1121134, 1121377, 1121340, 709544, 951046, 7767...\n",
      "$ reporting_start     \u001b[3m\u001b[90m<fct>\u001b[39m\u001b[23m 21/08/2017, 29/08/2017, 27/08/2017, 18/08/2017,...\n",
      "$ reporting_end       \u001b[3m\u001b[90m<fct>\u001b[39m\u001b[23m 21/08/2017, 29/08/2017, 27/08/2017, 18/08/2017,...\n",
      "$ campaign_id         \u001b[3m\u001b[90m<int>\u001b[39m\u001b[23m 1178, 1178, 1178, 916, 936, 936, 936, 936, 1178...\n",
      "$ fb_campaign_id      \u001b[3m\u001b[90m<int>\u001b[39m\u001b[23m 144538, 144586, 144580, 104049, 123601, 115552,...\n",
      "$ age                 \u001b[3m\u001b[90m<fct>\u001b[39m\u001b[23m 30-34, 35-39, 35-39, 35-39, 30-34, 40-44, 30-34...\n",
      "$ gender              \u001b[3m\u001b[90m<fct>\u001b[39m\u001b[23m M, M, M, M, F, M, F, F, M, F, F, F, M, M, F, F,...\n",
      "$ interest1           \u001b[3m\u001b[90m<int>\u001b[39m\u001b[23m 22, 29, 23, 29, 16, 23, 16, 10, 36, 28, 29, 63,...\n",
      "$ interest2           \u001b[3m\u001b[90m<int>\u001b[39m\u001b[23m 27, 34, 27, 33, 18, 26, 19, 16, 38, 34, 31, 65,...\n",
      "$ interest3           \u001b[3m\u001b[90m<int>\u001b[39m\u001b[23m 28, 30, 28, 32, 17, 27, 21, 15, 41, 31, 35, 65,...\n",
      "$ impressions         \u001b[3m\u001b[90m<int>\u001b[39m\u001b[23m 68905, 59390, 140147, 7440, 20050, 2479, 37873,...\n",
      "$ clicks              \u001b[3m\u001b[90m<int>\u001b[39m\u001b[23m 5, 5, 24, 2, 4, 1, 5, 3, 6, 1, 7, 1, 30, 2, 5, ...\n",
      "$ spent               \u001b[3m\u001b[90m<dbl>\u001b[39m\u001b[23m 9.44, 9.21, 42.08, 2.98, 4.66, 1.26, 6.17, 4.30...\n",
      "$ total_conversion    \u001b[3m\u001b[90m<int>\u001b[39m\u001b[23m 1, 5, 2, 1, 4, 1, 1, 1, 3, 1, 2, 1, 4, 1, 1, 1,...\n",
      "$ approved_conversion \u001b[3m\u001b[90m<int>\u001b[39m\u001b[23m 0, 3, 0, 1, 1, 0, 1, 0, 1, 0, 2, 0, 1, 0, 1, 0,...\n",
      "\n",
      "Randomly mix columns in facebookData:\n",
      "Observations: 506\n",
      "Variables: 15\n",
      "$ impressions         \u001b[3m\u001b[90m<int>\u001b[39m\u001b[23m 7350, 17861, 4259, 4133, 15615, 10951, 2355, 95...\n",
      "$ interest2           \u001b[3m\u001b[90m<int>\u001b[39m\u001b[23m 17, 19, 32, 33, 16, 20, 31, 32, 26, 34, 16, 20,...\n",
      "$ interest1           \u001b[3m\u001b[90m<int>\u001b[39m\u001b[23m 15, 16, 28, 28, 15, 16, 27, 28, 20, 30, 15, 16,...\n",
      "$ gender              \u001b[3m\u001b[90m<fct>\u001b[39m\u001b[23m M, M, M, M, M, M, M, M, M, M, M, M, M, M, M, M,...\n",
      "$ fb_campaign_id      \u001b[3m\u001b[90m<int>\u001b[39m\u001b[23m 103916, 103917, 103928, 103928, 103940, 103941,...\n",
      "$ total_conversion    \u001b[3m\u001b[90m<int>\u001b[39m\u001b[23m 2, 2, 1, 1, 1, 1, 1, 1, 1, 1, 1, 2, 1, 1, 1, 1,...\n",
      "$ clicks              \u001b[3m\u001b[90m<int>\u001b[39m\u001b[23m 1, 2, 1, 1, 3, 1, 1, 3, 7, 1, 1, 4, 2, 2, 2, 2,...\n",
      "$ approved_conversion \u001b[3m\u001b[90m<int>\u001b[39m\u001b[23m 1, 0, 0, 1, 0, 1, 0, 0, 1, 0, 0, 1, 0, 0, 1, 1,...\n",
      "$ campaign_id         \u001b[3m\u001b[90m<int>\u001b[39m\u001b[23m 916, 916, 916, 916, 916, 916, 916, 916, 916, 91...\n",
      "$ spent               \u001b[3m\u001b[90m<dbl>\u001b[39m\u001b[23m 1.43, 1.82, 1.25, 1.29, 4.77, 1.27, 1.50, 3.16,...\n",
      "$ age                 \u001b[3m\u001b[90m<fct>\u001b[39m\u001b[23m 30-34, 30-34, 30-34, 30-34, 30-34, 30-34, 30-34...\n",
      "$ ad_id               \u001b[3m\u001b[90m<int>\u001b[39m\u001b[23m 708746, 708749, 708815, 708818, 708889, 708895,...\n",
      "$ interest3           \u001b[3m\u001b[90m<int>\u001b[39m\u001b[23m 17, 21, 32, 32, 17, 18, 31, 31, 23, 31, 17, 22,...\n",
      "$ reporting_start     \u001b[3m\u001b[90m<fct>\u001b[39m\u001b[23m 17/08/2017, 17/08/2017, 30/08/2017, 17/08/2017,...\n",
      "$ reporting_end       \u001b[3m\u001b[90m<fct>\u001b[39m\u001b[23m 17/08/2017, 17/08/2017, 30/08/2017, 17/08/2017,...\n"
     ]
    }
   ],
   "source": [
    "cat(\"\\nRandomly mix rows in facebookData:\\n\")\n",
    "df <- facebookData[sample(nrow(facebookData)),]\n",
    "glimpse(df)\n",
    "\n",
    "cat(\"\\nRandomly mix columns in facebookData:\\n\")\n",
    "df <- facebookData[, sample(ncol(facebookData))]\n",
    "glimpse(df)"
   ]
  },
  {
   "cell_type": "markdown",
   "metadata": {
    "slideshow": {
     "slide_type": "slide"
    }
   },
   "source": [
    "## Calculate frequencies of numerical variables\n",
    "\n",
    "Arbitrary quantiles can be calculated by specifying the second argument of the *quantile()*-function. Either a single value or a vector can be assigned to this argument. But only values between 0 and 1 are valid. "
   ]
  },
  {
   "cell_type": "code",
   "execution_count": 14,
   "metadata": {
    "slideshow": {
     "slide_type": "fragment"
    }
   },
   "outputs": [
    {
     "data": {
      "text/html": [
       "<dl class=dl-horizontal>\n",
       "\t<dt>0%</dt>\n",
       "\t\t<dd>0.180000007</dd>\n",
       "\t<dt>10%</dt>\n",
       "\t\t<dd>1.335000038</dd>\n",
       "\t<dt>20%</dt>\n",
       "\t\t<dd>1.590000033</dd>\n",
       "\t<dt>30%</dt>\n",
       "\t\t<dd>2.980000019</dd>\n",
       "\t<dt>40%</dt>\n",
       "\t\t<dd>4.300000191</dd>\n",
       "\t<dt>50%</dt>\n",
       "\t\t<dd>6.550000012</dd>\n",
       "\t<dt>60%</dt>\n",
       "\t\t<dd>10.42999983</dd>\n",
       "\t<dt>70%</dt>\n",
       "\t\t<dd>19.21999979</dd>\n",
       "\t<dt>80%</dt>\n",
       "\t\t<dd>35.30999994</dd>\n",
       "\t<dt>90%</dt>\n",
       "\t\t<dd>57.755000025</dd>\n",
       "\t<dt>100%</dt>\n",
       "\t\t<dd>98.70000017</dd>\n",
       "</dl>\n"
      ],
      "text/latex": [
       "\\begin{description*}\n",
       "\\item[0\\textbackslash{}\\%] 0.180000007\n",
       "\\item[10\\textbackslash{}\\%] 1.335000038\n",
       "\\item[20\\textbackslash{}\\%] 1.590000033\n",
       "\\item[30\\textbackslash{}\\%] 2.980000019\n",
       "\\item[40\\textbackslash{}\\%] 4.300000191\n",
       "\\item[50\\textbackslash{}\\%] 6.550000012\n",
       "\\item[60\\textbackslash{}\\%] 10.42999983\n",
       "\\item[70\\textbackslash{}\\%] 19.21999979\n",
       "\\item[80\\textbackslash{}\\%] 35.30999994\n",
       "\\item[90\\textbackslash{}\\%] 57.755000025\n",
       "\\item[100\\textbackslash{}\\%] 98.70000017\n",
       "\\end{description*}\n"
      ],
      "text/markdown": [
       "0%\n",
       ":   0.18000000710%\n",
       ":   1.33500003820%\n",
       ":   1.59000003330%\n",
       ":   2.98000001940%\n",
       ":   4.30000019150%\n",
       ":   6.55000001260%\n",
       ":   10.4299998370%\n",
       ":   19.2199997980%\n",
       ":   35.3099999490%\n",
       ":   57.755000025100%\n",
       ":   98.70000017\n",
       "\n"
      ],
      "text/plain": [
       "    0%    10%    20%    30%    40%    50%    60%    70%    80%    90%   100% \n",
       " 0.180  1.335  1.590  2.980  4.300  6.550 10.430 19.220 35.310 57.755 98.700 "
      ]
     },
     "metadata": {},
     "output_type": "display_data"
    }
   ],
   "source": [
    "quantile(facebookData$spent, seq(0, 1, 0.1))"
   ]
  },
  {
   "cell_type": "code",
   "execution_count": 15,
   "metadata": {
    "slideshow": {
     "slide_type": "subslide"
    }
   },
   "outputs": [
    {
     "data": {
      "image/png": "[encoded data removed]",
      "text/plain": [
       "plot without title"
      ]
     },
     "metadata": {},
     "output_type": "display_data"
    }
   ],
   "source": [
    "\n",
    "ggplot(data = facebookData) +\n",
    "  geom_histogram(mapping = aes(x = spent), breaks=seq(10, 90, by=5), \n",
    "                 color=\"red\", fill=\"blue\", alpha=.5)+\n",
    "  theme(axis.text.x = element_text(angle = 90)) +\n",
    "  labs(title=\"Distribution of spent\", x=\"spent\", y=\"Frequency\")\n"
   ]
  },
  {
   "cell_type": "markdown",
   "metadata": {
    "slideshow": {
     "slide_type": "subslide"
    }
   },
   "source": [
    "`Important`: At the next `ggplot()` function we see a special ggplot variable '..density..' which is automatically calculated. There is not a really good documentation about that kind of variables :-( The most references are the [ggplot2 Cheat Sheet](https://rstudio.com/wp-content/uploads/2015/03/ggplot2-cheatsheet.pdf) and the [`stat()`](https://ggplot2.tidyverse.org/reference/stat.html)-function itself.\n",
    "\n",
    "I have used the following special ggplot variables which are depending on the respective `geom`-function. What they mean is logical:\n",
    "\n",
    "* **..count..** or in modern style 'stat(count)', e.g. in geom_bar(), geom_histogram()\n",
    "* **..density..** or in modern style 'stat(density)', e.g. in geom_histogram()\n",
    "* **..prop..** or in modern style 'stat(prop)', e.g. in geom_bar()\n",
    "\n"
   ]
  },
  {
   "cell_type": "code",
   "execution_count": 16,
   "metadata": {
    "slideshow": {
     "slide_type": "subslide"
    }
   },
   "outputs": [
    {
     "data": {
      "image/png": "[encoded data removed]",
      "text/plain": [
       "plot without title"
      ]
     },
     "metadata": {},
     "output_type": "display_data"
    }
   ],
   "source": [
    "ggplot(data = facebookData) +\n",
    "  geom_histogram(mapping = aes(x = spent, y =..density.., fill=gender), \n",
    "                 color=\"red\", breaks=seq(10, 60, 10), alpha=.4)+ \n",
    "  geom_density(mapping=aes(x=spent, color=gender))+\n",
    "  theme(axis.text.x = element_text(angle = 90))"
   ]
  },
  {
   "cell_type": "code",
   "execution_count": 17,
   "metadata": {
    "slideshow": {
     "slide_type": "subslide"
    }
   },
   "outputs": [
    {
     "data": {
      "image/png": "[encoded data removed]",
      "text/plain": [
       "plot without title"
      ]
     },
     "metadata": {},
     "output_type": "display_data"
    }
   ],
   "source": [
    "ggplot(data = facebookData) +\n",
    "  geom_density(mapping=aes(x=spent, fill=gender), alpha=.4)+\n",
    "  theme(axis.text.x = element_text(angle = 90))\n"
   ]
  },
  {
   "cell_type": "markdown",
   "metadata": {
    "slideshow": {
     "slide_type": "slide"
    }
   },
   "source": [
    "## Calculate frequencies of categorical variables\n",
    "\n",
    "We use [`table(x)`](https://www.rdocumentation.org/packages/base/versions/3.6.1/topics/table) to calculate the frequencies or create the contingency table of the counts at each combination of qualitative values of a variable.\n",
    "\n",
    "We use [`prop.table(x, margin)`](https://www.rdocumentation.org/packages/base/versions/3.6.1/topics/prop.table) to calculate proportions of the table entries of 'x'. By default the argument 'margin' has the value NULL, then we get $x / sum(x)$ - the whole table sums to 1. If 'margin' = 1, then we can calculate the proportions across the rows - each row sums to 1. That's the **Conditional Probability $P(X=x | Y=y)$, given the row value as y**.  If 'margin' = 2, then we can calculate the proportions across the columns - each column sums to 1. That's the **Conditional Probability $P(X=x | Y=y)$, given the column value as y**. See the examples below for a better understanding.\n"
   ]
  },
  {
   "cell_type": "markdown",
   "metadata": {
    "slideshow": {
     "slide_type": "subslide"
    }
   },
   "source": [
    "#### Frequency and probability table of single categorical variable"
   ]
  },
  {
   "cell_type": "code",
   "execution_count": 18,
   "metadata": {
    "slideshow": {
     "slide_type": "fragment"
    }
   },
   "outputs": [
    {
     "data": {
      "text/plain": [
       "\n",
       "30-34 35-39 40-44 45-49 \n",
       "  191   131   103    81 "
      ]
     },
     "metadata": {},
     "output_type": "display_data"
    },
    {
     "data": {
      "text/plain": [
       "\n",
       "    30-34     35-39     40-44     45-49 \n",
       "0.3774704 0.2588933 0.2035573 0.1600791 "
      ]
     },
     "metadata": {},
     "output_type": "display_data"
    }
   ],
   "source": [
    "regTab <- table(facebookData$age)\n",
    "regTab\n",
    "\n",
    "prop.table(regTab) \n"
   ]
  },
  {
   "cell_type": "markdown",
   "metadata": {
    "slideshow": {
     "slide_type": "slide"
    }
   },
   "source": [
    "#### Joint Frequency, Joint Probability and Conditional Probability\n",
    "Joint Frequency of two variables:\n"
   ]
  },
  {
   "cell_type": "code",
   "execution_count": 19,
   "metadata": {
    "slideshow": {
     "slide_type": "fragment"
    }
   },
   "outputs": [
    {
     "data": {
      "text/plain": [
       "       \n",
       "          F   M\n",
       "  30-34  64 127\n",
       "  35-39  36  95\n",
       "  40-44  35  68\n",
       "  45-49  54  27"
      ]
     },
     "metadata": {},
     "output_type": "display_data"
    }
   ],
   "source": [
    "(agegenderTab <- table(facebookData$age, facebookData$gender))"
   ]
  },
  {
   "cell_type": "markdown",
   "metadata": {
    "slideshow": {
     "slide_type": "subslide"
    }
   },
   "source": [
    "Alternative method, which generates the same result:"
   ]
  },
  {
   "cell_type": "code",
   "execution_count": 20,
   "metadata": {
    "slideshow": {
     "slide_type": "fragment"
    }
   },
   "outputs": [
    {
     "data": {
      "text/plain": [
       "       gender\n",
       "age       F   M\n",
       "  30-34  64 127\n",
       "  35-39  36  95\n",
       "  40-44  35  68\n",
       "  45-49  54  27"
      ]
     },
     "metadata": {},
     "output_type": "display_data"
    }
   ],
   "source": [
    "xtabs(~ age+gender, data=facebookData)"
   ]
  },
  {
   "cell_type": "markdown",
   "metadata": {
    "slideshow": {
     "slide_type": "subslide"
    }
   },
   "source": [
    "**Joint Propability $P(X=x,Y=y)$** of two variables:\n"
   ]
  },
  {
   "cell_type": "code",
   "execution_count": 21,
   "metadata": {
    "slideshow": {
     "slide_type": "fragment"
    }
   },
   "outputs": [
    {
     "data": {
      "text/plain": [
       "       \n",
       "                 F          M\n",
       "  30-34 0.12648221 0.25098814\n",
       "  35-39 0.07114625 0.18774704\n",
       "  40-44 0.06916996 0.13438735\n",
       "  45-49 0.10671937 0.05335968"
      ]
     },
     "metadata": {},
     "output_type": "display_data"
    }
   ],
   "source": [
    "prop.table(agegenderTab)"
   ]
  },
  {
   "cell_type": "markdown",
   "metadata": {
    "slideshow": {
     "slide_type": "slide"
    }
   },
   "source": [
    "The **Conditional Probability $P(X=x | Y=y)$, given the row value** can be calculated as shown below. For example, the probability, that somebody in the age 40-44 is a male person is\n",
    "\n",
    "$$P(gender=\"M\" \\, | \\, age = \"40-44\") =0.66$ \\approx 66\\% $$\n"
   ]
  },
  {
   "cell_type": "code",
   "execution_count": 22,
   "metadata": {
    "slideshow": {
     "slide_type": "fragment"
    }
   },
   "outputs": [
    {
     "data": {
      "text/plain": [
       "       \n",
       "                F         M\n",
       "  30-34 0.3350785 0.6649215\n",
       "  35-39 0.2748092 0.7251908\n",
       "  40-44 0.3398058 0.6601942\n",
       "  45-49 0.6666667 0.3333333"
      ]
     },
     "metadata": {},
     "output_type": "display_data"
    }
   ],
   "source": [
    "prop.table(agegenderTab, 1)"
   ]
  },
  {
   "cell_type": "markdown",
   "metadata": {
    "slideshow": {
     "slide_type": "subslide"
    }
   },
   "source": [
    "The **Conditional Probability $P(Y=y|X=x)$, given the column value** can be calculated as shown below. For example, the probability, that somebody is a male person and has a age range from 40-44 is \n",
    "\n",
    "$$P(age = \"40-44\"  \\, | \\, gender=\"M\" ) =0.2145 \\approx 21.45\\% $$\n"
   ]
  },
  {
   "cell_type": "code",
   "execution_count": 23,
   "metadata": {
    "slideshow": {
     "slide_type": "fragment"
    }
   },
   "outputs": [
    {
     "data": {
      "text/plain": [
       "       \n",
       "                F         M\n",
       "  30-34 0.3386243 0.4006309\n",
       "  35-39 0.1904762 0.2996845\n",
       "  40-44 0.1851852 0.2145110\n",
       "  45-49 0.2857143 0.0851735"
      ]
     },
     "metadata": {},
     "output_type": "display_data"
    }
   ],
   "source": [
    "prop.table(agegenderTab, 2)"
   ]
  }
 ],
 "metadata": {
  "anaconda-cloud": {},
  "celltoolbar": "Slideshow",
  "kernelspec": {
   "display_name": "R",
   "language": "R",
   "name": "ir"
  },
  "language_info": {
   "codemirror_mode": "r",
   "file_extension": ".r",
   "mimetype": "text/x-r-source",
   "name": "R",
   "pygments_lexer": "r",
   "version": "3.6.1"
  },
  "nav_menu": {},
  "toc": {
   "nav_menu": {},
   "number_sections": true,
   "sideBar": true,
   "skip_h1_title": false,
   "toc_cell": false,
   "toc_position": {},
   "toc_section_display": "block",
   "toc_window_display": false
  },
  "toc_position": {
   "height": "664px",
   "left": "0px",
   "right": "1209.67px",
   "top": "125.333px",
   "width": "212px"
  }
 },
 "nbformat": 4,
 "nbformat_minor": 2
}
