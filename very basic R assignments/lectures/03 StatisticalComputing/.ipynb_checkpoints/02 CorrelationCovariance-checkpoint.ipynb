{
 "cells": [
  {
   "cell_type": "markdown",
   "metadata": {
    "slideshow": {
     "slide_type": "slide"
    }
   },
   "source": [
    "# Correlations and Covariance \n",
    "\n",
    "* Author: Johannes Maucher, some modifications by OK in 2019\n",
    "* Last Update: 2017-09-26    \n",
    "* Topics of this notebook\n",
    "    * Calculation of significant correlations\n"
   ]
  },
  {
   "cell_type": "code",
   "execution_count": 1,
   "metadata": {
    "slideshow": {
     "slide_type": "subslide"
    }
   },
   "outputs": [
    {
     "name": "stderr",
     "output_type": "stream",
     "text": [
      "-- \u001b[1mAttaching packages\u001b[22m --------------------------------------- tidyverse 1.2.1 --\n",
      "\u001b[32mv\u001b[39m \u001b[34mggplot2\u001b[39m 3.2.0     \u001b[32mv\u001b[39m \u001b[34mpurrr  \u001b[39m 0.3.2\n",
      "\u001b[32mv\u001b[39m \u001b[34mtibble \u001b[39m 2.1.3     \u001b[32mv\u001b[39m \u001b[34mdplyr  \u001b[39m 0.8.3\n",
      "\u001b[32mv\u001b[39m \u001b[34mtidyr  \u001b[39m 0.8.3     \u001b[32mv\u001b[39m \u001b[34mstringr\u001b[39m 1.4.0\n",
      "\u001b[32mv\u001b[39m \u001b[34mreadr  \u001b[39m 1.3.1     \u001b[32mv\u001b[39m \u001b[34mforcats\u001b[39m 0.4.0\n",
      "-- \u001b[1mConflicts\u001b[22m ------------------------------------------ tidyverse_conflicts() --\n",
      "\u001b[31mx\u001b[39m \u001b[34mdplyr\u001b[39m::\u001b[32mfilter()\u001b[39m masks \u001b[34mstats\u001b[39m::filter()\n",
      "\u001b[31mx\u001b[39m \u001b[34mdplyr\u001b[39m::\u001b[32mlag()\u001b[39m    masks \u001b[34mstats\u001b[39m::lag()\n",
      "corrplot 0.84 loaded\n"
     ]
    }
   ],
   "source": [
    "\n",
    "#load tidyverse\n",
    "library(tidyverse)\n",
    "library(corrplot) #Scatterplots\n",
    "\n",
    "#Resize graphics\n",
    "options(repr.plot.res = 80, repr.plot.height=6, repr.plot.width=7)  #Defaults:resolution=120,width/height=7\n"
   ]
  },
  {
   "cell_type": "code",
   "execution_count": 2,
   "metadata": {
    "ExecuteTime": {
     "end_time": "2017-10-04T12:39:31.511000Z",
     "start_time": "2017-10-04T12:39:31.475Z"
    },
    "slideshow": {
     "slide_type": "subslide"
    }
   },
   "outputs": [],
   "source": [
    "#We use our previous Facebook data\n",
    "facebookData <- read.csv(file=\"../data/facebook-ad-campaign.csv\", header=TRUE,\n",
    "                         sep=\",\", dec=\".\")\n",
    "\n",
    "#Some cleaning\n",
    "facebookData <- facebookData %>% \n",
    "                    drop_na() %>% \n",
    "                    select(-X) %>% \n",
    "                    filter(spent < 100, spent > 0, total_conversion < 10)\n"
   ]
  },
  {
   "cell_type": "code",
   "execution_count": 3,
   "metadata": {
    "ExecuteTime": {
     "end_time": "2017-10-04T12:40:04.351000Z",
     "start_time": "2017-10-04T12:40:04.316Z"
    },
    "slideshow": {
     "slide_type": "subslide"
    }
   },
   "outputs": [
    {
     "name": "stdout",
     "output_type": "stream",
     "text": [
      "Observations: 505\n",
      "Variables: 15\n",
      "$ ad_id               \u001b[3m\u001b[90m<int>\u001b[39m\u001b[23m 708746, 708749, 708815, 708818, 708889, 708895,...\n",
      "$ reporting_start     \u001b[3m\u001b[90m<fct>\u001b[39m\u001b[23m 17/08/2017, 17/08/2017, 30/08/2017, 17/08/2017,...\n",
      "$ reporting_end       \u001b[3m\u001b[90m<fct>\u001b[39m\u001b[23m 17/08/2017, 17/08/2017, 30/08/2017, 17/08/2017,...\n",
      "$ campaign_id         \u001b[3m\u001b[90m<int>\u001b[39m\u001b[23m 916, 916, 916, 916, 916, 916, 916, 916, 916, 91...\n",
      "$ fb_campaign_id      \u001b[3m\u001b[90m<int>\u001b[39m\u001b[23m 103916, 103917, 103928, 103928, 103940, 103941,...\n",
      "$ age                 \u001b[3m\u001b[90m<fct>\u001b[39m\u001b[23m 30-34, 30-34, 30-34, 30-34, 30-34, 30-34, 30-34...\n",
      "$ gender              \u001b[3m\u001b[90m<fct>\u001b[39m\u001b[23m M, M, M, M, M, M, M, M, M, M, M, M, M, M, M, M,...\n",
      "$ interest1           \u001b[3m\u001b[90m<int>\u001b[39m\u001b[23m 15, 16, 28, 28, 15, 16, 27, 28, 20, 30, 15, 16,...\n",
      "$ interest2           \u001b[3m\u001b[90m<int>\u001b[39m\u001b[23m 17, 19, 32, 33, 16, 20, 31, 32, 26, 34, 16, 20,...\n",
      "$ interest3           \u001b[3m\u001b[90m<int>\u001b[39m\u001b[23m 17, 21, 32, 32, 17, 18, 31, 31, 23, 31, 17, 22,...\n",
      "$ impressions         \u001b[3m\u001b[90m<int>\u001b[39m\u001b[23m 7350, 17861, 4259, 4133, 15615, 10951, 2355, 95...\n",
      "$ clicks              \u001b[3m\u001b[90m<int>\u001b[39m\u001b[23m 1, 2, 1, 1, 3, 1, 1, 3, 7, 1, 1, 4, 2, 2, 2, 2,...\n",
      "$ spent               \u001b[3m\u001b[90m<dbl>\u001b[39m\u001b[23m 1.43, 1.82, 1.25, 1.29, 4.77, 1.27, 1.50, 3.16,...\n",
      "$ total_conversion    \u001b[3m\u001b[90m<int>\u001b[39m\u001b[23m 2, 2, 1, 1, 1, 1, 1, 1, 1, 1, 1, 2, 1, 1, 1, 1,...\n",
      "$ approved_conversion \u001b[3m\u001b[90m<int>\u001b[39m\u001b[23m 1, 0, 0, 1, 0, 1, 0, 0, 1, 0, 0, 1, 0, 0, 1, 1,...\n"
     ]
    }
   ],
   "source": [
    "glimpse(facebookData)"
   ]
  },
  {
   "cell_type": "code",
   "execution_count": 4,
   "metadata": {
    "ExecuteTime": {
     "end_time": "2017-10-04T12:46:34.485000Z",
     "start_time": "2017-10-04T12:46:34.457Z"
    },
    "slideshow": {
     "slide_type": "subslide"
    }
   },
   "outputs": [],
   "source": [
    "factor_cols <- c(\"gender\", \"age\")\n",
    "numeric_cols <- c(\"clicks\", \"spent\", \"impressions\",\"total_conversion\")"
   ]
  },
  {
   "cell_type": "markdown",
   "metadata": {
    "slideshow": {
     "slide_type": "slide"
    }
   },
   "source": [
    "## Correlation\n",
    "\n",
    "Variance measures the variation of a single random variable, e.g. the 'spent' for an ad in a marketing campaign. First take look at formula of the **variance** of a $x_j$-variable in column $j$:\n",
    "\n",
    "$$Var(x_j) = s_j^2 = \\frac {1} {N-1}  \\sum\\limits_{i=1}^N (x_{ij} - \\bar{x_j})^2 $$\n",
    "\n",
    "$N$ ist the number of observations in the sample, $\\bar{x_j}$ is the mean of the $x_j$-variable of the sample. \n"
   ]
  },
  {
   "cell_type": "markdown",
   "metadata": {
    "slideshow": {
     "slide_type": "subslide"
    }
   },
   "source": [
    "The `cor()`-function can be applied to determine the relationship between quantitative variables. There exists different methods for calculating a correlation-measure. For example the `pearson`-correlation-coefficient measures the degree of linear relationship between two variables. Other correlation-methods, which can be assigned to the `method`-argument of the `cor()`-function are `spearman` and `kendall`. \n",
    "\n",
    "`Keep in mind`: If data come from a normal-distributed population the *pearson*-correlation-coefficient should be calculated, otherwise one of the other two methods is recommended. \n"
   ]
  },
  {
   "cell_type": "markdown",
   "metadata": {
    "slideshow": {
     "slide_type": "subslide"
    }
   },
   "source": [
    "The formula for the pearson-correlation-coefficient is:\n",
    "\n",
    "$$ Cor(x_j, x_k) = r_{jk} = \\frac { \\sum\\limits_{i=1}^N (x_{ij} - \\bar{x}_j) (x_{ik} - \\bar{x}_k) } \n",
    "{\\sqrt{ \\sum\\limits_{i=1}^N (x_{ij} - \\bar{x}_j)^2 \\sum\\limits_{i=1}^N (x_{ik} - \\bar{x}_k)^2 }} $$\n",
    "\n",
    "$r_{jk}$ the correlation coefficient of the variables $x_j$ and $x_k$. $N$ ist the number of observations in the sample, $\\bar{x}_j$ is the mean of the $x_j$-variable of the sample and $\\bar{x}_k$ is the mean of the $x_k$-variable of the sample. \n"
   ]
  },
  {
   "cell_type": "markdown",
   "metadata": {
    "slideshow": {
     "slide_type": "subslide"
    }
   },
   "source": [
    "We can write:\n",
    "\n",
    "$$ X_{sd} = C X D^{-1} \\quad \\rightarrow \\quad R = \\frac {1} {N-1} X^T_{sd}   X_{sd}$$ \n",
    "\n",
    "With $C$ as centering matrix (calculation below) and $D = diag(sd_1, ..., sd_K)$ as diagonal matrix with the standard deviations. K is the number of input variables or here columns. Look at the calculation by hand below.\n"
   ]
  },
  {
   "cell_type": "markdown",
   "metadata": {
    "slideshow": {
     "slide_type": "slide"
    }
   },
   "source": [
    "### [`cor()`](https://www.rdocumentation.org/packages/stats/versions/3.6.1/topics/cor)-function\n",
    "\n",
    "Correlations between the numeric variables of the *facebookData*-dataset:"
   ]
  },
  {
   "cell_type": "code",
   "execution_count": 5,
   "metadata": {
    "ExecuteTime": {
     "end_time": "2017-10-04T13:19:09.546000Z",
     "start_time": "2017-10-04T13:19:09.513Z"
    },
    "slideshow": {
     "slide_type": "fragment"
    }
   },
   "outputs": [
    {
     "name": "stdout",
     "output_type": "stream",
     "text": [
      "\n",
      "------- cor() by hand:\n"
     ]
    },
    {
     "data": {
      "text/html": [
       "<table>\n",
       "<caption>A matrix: 4 × 4 of type dbl</caption>\n",
       "<tbody>\n",
       "\t<tr><td>1.0000000</td><td>0.9920675</td><td>0.9263694</td><td>0.5458242</td></tr>\n",
       "\t<tr><td>0.9920675</td><td>1.0000000</td><td>0.9532241</td><td>0.5640604</td></tr>\n",
       "\t<tr><td>0.9263694</td><td>0.9532241</td><td>1.0000000</td><td>0.6395284</td></tr>\n",
       "\t<tr><td>0.5458242</td><td>0.5640604</td><td>0.6395284</td><td>1.0000000</td></tr>\n",
       "</tbody>\n",
       "</table>\n"
      ],
      "text/latex": [
       "A matrix: 4 × 4 of type dbl\n",
       "\\begin{tabular}{llll}\n",
       "\t 1.0000000 & 0.9920675 & 0.9263694 & 0.5458242\\\\\n",
       "\t 0.9920675 & 1.0000000 & 0.9532241 & 0.5640604\\\\\n",
       "\t 0.9263694 & 0.9532241 & 1.0000000 & 0.6395284\\\\\n",
       "\t 0.5458242 & 0.5640604 & 0.6395284 & 1.0000000\\\\\n",
       "\\end{tabular}\n"
      ],
      "text/markdown": [
       "\n",
       "A matrix: 4 × 4 of type dbl\n",
       "\n",
       "| 1.0000000 | 0.9920675 | 0.9263694 | 0.5458242 |\n",
       "| 0.9920675 | 1.0000000 | 0.9532241 | 0.5640604 |\n",
       "| 0.9263694 | 0.9532241 | 1.0000000 | 0.6395284 |\n",
       "| 0.5458242 | 0.5640604 | 0.6395284 | 1.0000000 |\n",
       "\n"
      ],
      "text/plain": [
       "     [,1]      [,2]      [,3]      [,4]     \n",
       "[1,] 1.0000000 0.9920675 0.9263694 0.5458242\n",
       "[2,] 0.9920675 1.0000000 0.9532241 0.5640604\n",
       "[3,] 0.9263694 0.9532241 1.0000000 0.6395284\n",
       "[4,] 0.5458242 0.5640604 0.6395284 1.0000000"
      ]
     },
     "metadata": {},
     "output_type": "display_data"
    }
   ],
   "source": [
    "cat(\"\\n------- cor() by hand:\\n\")\n",
    "X <- as.matrix(facebookData[, c(numeric_cols)])\n",
    "n <- nrow(X)\n",
    "\n",
    "I <- diag(n)                #Identity matrix\n",
    "C <- I - matrix(1/n, n, n)  #Centering matrix\n",
    "D <- diag(apply(X, 2, sd))  #Diagonal matrix with standard deviations\n",
    "\n",
    "Xsd <- C %*% X %*% solve(D)\n",
    "\n",
    "R <- t(Xsd) %*% Xsd / (n-1)\n",
    "R\n"
   ]
  },
  {
   "cell_type": "code",
   "execution_count": 6,
   "metadata": {
    "slideshow": {
     "slide_type": "subslide"
    }
   },
   "outputs": [
    {
     "name": "stdout",
     "output_type": "stream",
     "text": [
      "\n",
      "------- cor():\n"
     ]
    },
    {
     "data": {
      "text/html": [
       "<table>\n",
       "<caption>A matrix: 4 × 4 of type dbl</caption>\n",
       "<thead>\n",
       "\t<tr><th></th><th scope=col>clicks</th><th scope=col>spent</th><th scope=col>impressions</th><th scope=col>total_conversion</th></tr>\n",
       "</thead>\n",
       "<tbody>\n",
       "\t<tr><th scope=row>clicks</th><td>1.0000000</td><td>0.9920675</td><td>0.9263694</td><td>0.5458242</td></tr>\n",
       "\t<tr><th scope=row>spent</th><td>0.9920675</td><td>1.0000000</td><td>0.9532241</td><td>0.5640604</td></tr>\n",
       "\t<tr><th scope=row>impressions</th><td>0.9263694</td><td>0.9532241</td><td>1.0000000</td><td>0.6395284</td></tr>\n",
       "\t<tr><th scope=row>total_conversion</th><td>0.5458242</td><td>0.5640604</td><td>0.6395284</td><td>1.0000000</td></tr>\n",
       "</tbody>\n",
       "</table>\n"
      ],
      "text/latex": [
       "A matrix: 4 × 4 of type dbl\n",
       "\\begin{tabular}{r|llll}\n",
       "  & clicks & spent & impressions & total\\_conversion\\\\\n",
       "\\hline\n",
       "\tclicks & 1.0000000 & 0.9920675 & 0.9263694 & 0.5458242\\\\\n",
       "\tspent & 0.9920675 & 1.0000000 & 0.9532241 & 0.5640604\\\\\n",
       "\timpressions & 0.9263694 & 0.9532241 & 1.0000000 & 0.6395284\\\\\n",
       "\ttotal\\_conversion & 0.5458242 & 0.5640604 & 0.6395284 & 1.0000000\\\\\n",
       "\\end{tabular}\n"
      ],
      "text/markdown": [
       "\n",
       "A matrix: 4 × 4 of type dbl\n",
       "\n",
       "| <!--/--> | clicks | spent | impressions | total_conversion |\n",
       "|---|---|---|---|---|\n",
       "| clicks | 1.0000000 | 0.9920675 | 0.9263694 | 0.5458242 |\n",
       "| spent | 0.9920675 | 1.0000000 | 0.9532241 | 0.5640604 |\n",
       "| impressions | 0.9263694 | 0.9532241 | 1.0000000 | 0.6395284 |\n",
       "| total_conversion | 0.5458242 | 0.5640604 | 0.6395284 | 1.0000000 |\n",
       "\n"
      ],
      "text/plain": [
       "                 clicks    spent     impressions total_conversion\n",
       "clicks           1.0000000 0.9920675 0.9263694   0.5458242       \n",
       "spent            0.9920675 1.0000000 0.9532241   0.5640604       \n",
       "impressions      0.9263694 0.9532241 1.0000000   0.6395284       \n",
       "total_conversion 0.5458242 0.5640604 0.6395284   1.0000000       "
      ]
     },
     "metadata": {},
     "output_type": "display_data"
    }
   ],
   "source": [
    "cat(\"\\n------- cor():\\n\")\n",
    "cor(facebookData[, c(numeric_cols)], method=\"pearson\")"
   ]
  },
  {
   "cell_type": "code",
   "execution_count": 7,
   "metadata": {
    "ExecuteTime": {
     "end_time": "2017-09-26T13:17:24.208000Z",
     "start_time": "2017-09-26T13:17:24.174Z"
    },
    "slideshow": {
     "slide_type": "subslide"
    }
   },
   "outputs": [
    {
     "data": {
      "text/html": [
       "<table>\n",
       "<caption>A matrix: 4 × 4 of type dbl</caption>\n",
       "<thead>\n",
       "\t<tr><th></th><th scope=col>clicks</th><th scope=col>spent</th><th scope=col>impressions</th><th scope=col>total_conversion</th></tr>\n",
       "</thead>\n",
       "<tbody>\n",
       "\t<tr><th scope=row>clicks</th><td>1.0000000</td><td>0.9876631</td><td>0.9274855</td><td>0.4780726</td></tr>\n",
       "\t<tr><th scope=row>spent</th><td>0.9876631</td><td>1.0000000</td><td>0.9354407</td><td>0.4754234</td></tr>\n",
       "\t<tr><th scope=row>impressions</th><td>0.9274855</td><td>0.9354407</td><td>1.0000000</td><td>0.5160173</td></tr>\n",
       "\t<tr><th scope=row>total_conversion</th><td>0.4780726</td><td>0.4754234</td><td>0.5160173</td><td>1.0000000</td></tr>\n",
       "</tbody>\n",
       "</table>\n"
      ],
      "text/latex": [
       "A matrix: 4 × 4 of type dbl\n",
       "\\begin{tabular}{r|llll}\n",
       "  & clicks & spent & impressions & total\\_conversion\\\\\n",
       "\\hline\n",
       "\tclicks & 1.0000000 & 0.9876631 & 0.9274855 & 0.4780726\\\\\n",
       "\tspent & 0.9876631 & 1.0000000 & 0.9354407 & 0.4754234\\\\\n",
       "\timpressions & 0.9274855 & 0.9354407 & 1.0000000 & 0.5160173\\\\\n",
       "\ttotal\\_conversion & 0.4780726 & 0.4754234 & 0.5160173 & 1.0000000\\\\\n",
       "\\end{tabular}\n"
      ],
      "text/markdown": [
       "\n",
       "A matrix: 4 × 4 of type dbl\n",
       "\n",
       "| <!--/--> | clicks | spent | impressions | total_conversion |\n",
       "|---|---|---|---|---|\n",
       "| clicks | 1.0000000 | 0.9876631 | 0.9274855 | 0.4780726 |\n",
       "| spent | 0.9876631 | 1.0000000 | 0.9354407 | 0.4754234 |\n",
       "| impressions | 0.9274855 | 0.9354407 | 1.0000000 | 0.5160173 |\n",
       "| total_conversion | 0.4780726 | 0.4754234 | 0.5160173 | 1.0000000 |\n",
       "\n"
      ],
      "text/plain": [
       "                 clicks    spent     impressions total_conversion\n",
       "clicks           1.0000000 0.9876631 0.9274855   0.4780726       \n",
       "spent            0.9876631 1.0000000 0.9354407   0.4754234       \n",
       "impressions      0.9274855 0.9354407 1.0000000   0.5160173       \n",
       "total_conversion 0.4780726 0.4754234 0.5160173   1.0000000       "
      ]
     },
     "metadata": {},
     "output_type": "display_data"
    }
   ],
   "source": [
    "cor(facebookData[, c(numeric_cols)], method=\"spearman\")"
   ]
  },
  {
   "cell_type": "markdown",
   "metadata": {
    "slideshow": {
     "slide_type": "slide"
    }
   },
   "source": [
    "## Covariance\n",
    "\n",
    "Covariance measures how much two random variables vary together (like the 'spent' for an ad in a marketing campaign and the resulting 'total_conversion' in this marketing campaign). The entries $r_{j,k}$ of the pearson-correlation matrix, which is returned by the `cor()`-function with `method='pearson'`, can be calculated from the entries $\\sigma_{j,k}$ of the **covariance matrix** (returned by `cov()`) as follows:\n",
    "\n",
    "$$ r_{j,k} = \\frac{s_{j,k}}{s_{j}\\cdot s_{k}} $$ \n",
    "\n",
    "where $s_{j}$ and $s_{k}$ are the standard-deviations of columns $j$ and $k$, respectively. This relation is proven for a pair of columns $j$, $k$ of the data in the code snippet below. \n"
   ]
  },
  {
   "cell_type": "markdown",
   "metadata": {
    "slideshow": {
     "slide_type": "subslide"
    }
   },
   "source": [
    "The covariance matrix is also called **variance-covariance matrix** because variances are along the diagonal and covariances are in the off-diagonal elements.\n",
    "\n",
    "The behavior of a variable is described by the variation. Covariation describes the behavior between variables and their relationship. \n"
   ]
  },
  {
   "cell_type": "markdown",
   "metadata": {
    "slideshow": {
     "slide_type": "subslide"
    }
   },
   "source": [
    "The formula for the covariance-coefficient is: \n",
    "\n",
    "$$ Cov(x_j, x_k) = s_{jk}^2 = \\frac {1} {N-1}  \\sum\\limits_{i=1}^N (x_{ij} - \\bar{x_j}) (x_{ik} - \\bar{x_k}) $$\n",
    "\n",
    "$s_{jk}^2$ is the covariance coefficient of the variables $x_j$ and $x_k$. $N$ ist the number of observations in the sample, $\\bar{x_j}$ is the mean of the $x_j$-variable of the sample and $\\bar{x_k}$ is the mean of the $x_k$-variable of the sample. If $j=k$ than $s_{jk}^2$ is the variance. "
   ]
  },
  {
   "cell_type": "markdown",
   "metadata": {
    "slideshow": {
     "slide_type": "subslide"
    }
   },
   "source": [
    "We can write:\n",
    "\n",
    "$$ S = \\frac {1} {N-1} X_c^T \\cdot X_c $$ \n",
    "\n",
    "$X_c = X - 1_N \\bar{x}^T = CX$, where $C$ is the centering matrix (calculation below). K is the number of input variables or here columns. Look at the calculation by hand below.\n"
   ]
  },
  {
   "cell_type": "markdown",
   "metadata": {
    "slideshow": {
     "slide_type": "slide"
    }
   },
   "source": [
    "### [`cov()`](https://www.rdocumentation.org/packages/pbdDMAT/versions/0.5-1/topics/covariance)-function"
   ]
  },
  {
   "cell_type": "code",
   "execution_count": 8,
   "metadata": {
    "slideshow": {
     "slide_type": "fragment"
    }
   },
   "outputs": [
    {
     "name": "stdout",
     "output_type": "stream",
     "text": [
      "\n",
      "------- cov() by hand:\n"
     ]
    },
    {
     "data": {
      "text/html": [
       "<table>\n",
       "<caption>A matrix: 4 × 4 of type dbl</caption>\n",
       "<thead>\n",
       "\t<tr><th></th><th scope=col>clicks</th><th scope=col>spent</th><th scope=col>impressions</th><th scope=col>total_conversion</th></tr>\n",
       "</thead>\n",
       "<tbody>\n",
       "\t<tr><th scope=row>clicks</th><td>1.989027e+02</td><td>3.299848e+02</td><td>1.235094e+06</td><td>    9.296102</td></tr>\n",
       "\t<tr><th scope=row>spent</th><td>3.299848e+02</td><td>5.562431e+02</td><td>2.125313e+06</td><td>   16.065187</td></tr>\n",
       "\t<tr><th scope=row>impressions</th><td>1.235094e+06</td><td>2.125313e+06</td><td>8.936989e+09</td><td>73010.159064</td></tr>\n",
       "\t<tr><th scope=row>total_conversion</th><td>9.296102e+00</td><td>1.606519e+01</td><td>7.301016e+04</td><td>    1.458329</td></tr>\n",
       "</tbody>\n",
       "</table>\n"
      ],
      "text/latex": [
       "A matrix: 4 × 4 of type dbl\n",
       "\\begin{tabular}{r|llll}\n",
       "  & clicks & spent & impressions & total\\_conversion\\\\\n",
       "\\hline\n",
       "\tclicks & 1.989027e+02 & 3.299848e+02 & 1.235094e+06 &     9.296102\\\\\n",
       "\tspent & 3.299848e+02 & 5.562431e+02 & 2.125313e+06 &    16.065187\\\\\n",
       "\timpressions & 1.235094e+06 & 2.125313e+06 & 8.936989e+09 & 73010.159064\\\\\n",
       "\ttotal\\_conversion & 9.296102e+00 & 1.606519e+01 & 7.301016e+04 &     1.458329\\\\\n",
       "\\end{tabular}\n"
      ],
      "text/markdown": [
       "\n",
       "A matrix: 4 × 4 of type dbl\n",
       "\n",
       "| <!--/--> | clicks | spent | impressions | total_conversion |\n",
       "|---|---|---|---|---|\n",
       "| clicks | 1.989027e+02 | 3.299848e+02 | 1.235094e+06 |     9.296102 |\n",
       "| spent | 3.299848e+02 | 5.562431e+02 | 2.125313e+06 |    16.065187 |\n",
       "| impressions | 1.235094e+06 | 2.125313e+06 | 8.936989e+09 | 73010.159064 |\n",
       "| total_conversion | 9.296102e+00 | 1.606519e+01 | 7.301016e+04 |     1.458329 |\n",
       "\n"
      ],
      "text/plain": [
       "                 clicks       spent        impressions  total_conversion\n",
       "clicks           1.989027e+02 3.299848e+02 1.235094e+06     9.296102    \n",
       "spent            3.299848e+02 5.562431e+02 2.125313e+06    16.065187    \n",
       "impressions      1.235094e+06 2.125313e+06 8.936989e+09 73010.159064    \n",
       "total_conversion 9.296102e+00 1.606519e+01 7.301016e+04     1.458329    "
      ]
     },
     "metadata": {},
     "output_type": "display_data"
    }
   ],
   "source": [
    "cat(\"\\n------- cov() by hand:\\n\")\n",
    "X <- as.matrix(facebookData[, c(numeric_cols)])\n",
    "n <- nrow(X)\n",
    "C <- diag(n) - matrix(1/n, n, n)\n",
    "\n",
    "Xc <- C %*% X\n",
    "\n",
    "S <- (t(Xc) %*% Xc) /(n-1)  \n",
    "S\n"
   ]
  },
  {
   "cell_type": "code",
   "execution_count": 9,
   "metadata": {
    "slideshow": {
     "slide_type": "subslide"
    }
   },
   "outputs": [
    {
     "name": "stdout",
     "output_type": "stream",
     "text": [
      "\n",
      "------- cov():\n"
     ]
    },
    {
     "data": {
      "text/html": [
       "<table>\n",
       "<caption>A matrix: 4 × 4 of type dbl</caption>\n",
       "<thead>\n",
       "\t<tr><th></th><th scope=col>clicks</th><th scope=col>spent</th><th scope=col>impressions</th><th scope=col>total_conversion</th></tr>\n",
       "</thead>\n",
       "<tbody>\n",
       "\t<tr><th scope=row>clicks</th><td>1.989027e+02</td><td>3.299848e+02</td><td>1.235094e+06</td><td>    9.296102</td></tr>\n",
       "\t<tr><th scope=row>spent</th><td>3.299848e+02</td><td>5.562431e+02</td><td>2.125313e+06</td><td>   16.065187</td></tr>\n",
       "\t<tr><th scope=row>impressions</th><td>1.235094e+06</td><td>2.125313e+06</td><td>8.936989e+09</td><td>73010.159064</td></tr>\n",
       "\t<tr><th scope=row>total_conversion</th><td>9.296102e+00</td><td>1.606519e+01</td><td>7.301016e+04</td><td>    1.458329</td></tr>\n",
       "</tbody>\n",
       "</table>\n"
      ],
      "text/latex": [
       "A matrix: 4 × 4 of type dbl\n",
       "\\begin{tabular}{r|llll}\n",
       "  & clicks & spent & impressions & total\\_conversion\\\\\n",
       "\\hline\n",
       "\tclicks & 1.989027e+02 & 3.299848e+02 & 1.235094e+06 &     9.296102\\\\\n",
       "\tspent & 3.299848e+02 & 5.562431e+02 & 2.125313e+06 &    16.065187\\\\\n",
       "\timpressions & 1.235094e+06 & 2.125313e+06 & 8.936989e+09 & 73010.159064\\\\\n",
       "\ttotal\\_conversion & 9.296102e+00 & 1.606519e+01 & 7.301016e+04 &     1.458329\\\\\n",
       "\\end{tabular}\n"
      ],
      "text/markdown": [
       "\n",
       "A matrix: 4 × 4 of type dbl\n",
       "\n",
       "| <!--/--> | clicks | spent | impressions | total_conversion |\n",
       "|---|---|---|---|---|\n",
       "| clicks | 1.989027e+02 | 3.299848e+02 | 1.235094e+06 |     9.296102 |\n",
       "| spent | 3.299848e+02 | 5.562431e+02 | 2.125313e+06 |    16.065187 |\n",
       "| impressions | 1.235094e+06 | 2.125313e+06 | 8.936989e+09 | 73010.159064 |\n",
       "| total_conversion | 9.296102e+00 | 1.606519e+01 | 7.301016e+04 |     1.458329 |\n",
       "\n"
      ],
      "text/plain": [
       "                 clicks       spent        impressions  total_conversion\n",
       "clicks           1.989027e+02 3.299848e+02 1.235094e+06     9.296102    \n",
       "spent            3.299848e+02 5.562431e+02 2.125313e+06    16.065187    \n",
       "impressions      1.235094e+06 2.125313e+06 8.936989e+09 73010.159064    \n",
       "total_conversion 9.296102e+00 1.606519e+01 7.301016e+04     1.458329    "
      ]
     },
     "metadata": {},
     "output_type": "display_data"
    }
   ],
   "source": [
    "\n",
    "cat(\"\\n------- cov():\\n\")\n",
    "cov(facebookData[, c(numeric_cols)])\n"
   ]
  },
  {
   "cell_type": "code",
   "execution_count": 10,
   "metadata": {
    "ExecuteTime": {
     "end_time": "2017-10-04T13:19:14.978000Z",
     "start_time": "2017-10-04T13:19:14.944Z"
    },
    "slideshow": {
     "slide_type": "subslide"
    }
   },
   "outputs": [
    {
     "data": {
      "text/html": [
       "0.564060445139413"
      ],
      "text/latex": [
       "0.564060445139413"
      ],
      "text/markdown": [
       "0.564060445139413"
      ],
      "text/plain": [
       "[1] 0.5640604"
      ]
     },
     "metadata": {},
     "output_type": "display_data"
    },
    {
     "data": {
      "text/html": [
       "<table>\n",
       "<caption>A matrix: 4 × 4 of type dbl</caption>\n",
       "<thead>\n",
       "\t<tr><th></th><th scope=col>clicks</th><th scope=col>spent</th><th scope=col>impressions</th><th scope=col>total_conversion</th></tr>\n",
       "</thead>\n",
       "<tbody>\n",
       "\t<tr><th scope=row>clicks</th><td>1.0000000</td><td>0.9920675</td><td>0.9263694</td><td>0.5458242</td></tr>\n",
       "\t<tr><th scope=row>spent</th><td>0.9920675</td><td>1.0000000</td><td>0.9532241</td><td>0.5640604</td></tr>\n",
       "\t<tr><th scope=row>impressions</th><td>0.9263694</td><td>0.9532241</td><td>1.0000000</td><td>0.6395284</td></tr>\n",
       "\t<tr><th scope=row>total_conversion</th><td>0.5458242</td><td>0.5640604</td><td>0.6395284</td><td>1.0000000</td></tr>\n",
       "</tbody>\n",
       "</table>\n"
      ],
      "text/latex": [
       "A matrix: 4 × 4 of type dbl\n",
       "\\begin{tabular}{r|llll}\n",
       "  & clicks & spent & impressions & total\\_conversion\\\\\n",
       "\\hline\n",
       "\tclicks & 1.0000000 & 0.9920675 & 0.9263694 & 0.5458242\\\\\n",
       "\tspent & 0.9920675 & 1.0000000 & 0.9532241 & 0.5640604\\\\\n",
       "\timpressions & 0.9263694 & 0.9532241 & 1.0000000 & 0.6395284\\\\\n",
       "\ttotal\\_conversion & 0.5458242 & 0.5640604 & 0.6395284 & 1.0000000\\\\\n",
       "\\end{tabular}\n"
      ],
      "text/markdown": [
       "\n",
       "A matrix: 4 × 4 of type dbl\n",
       "\n",
       "| <!--/--> | clicks | spent | impressions | total_conversion |\n",
       "|---|---|---|---|---|\n",
       "| clicks | 1.0000000 | 0.9920675 | 0.9263694 | 0.5458242 |\n",
       "| spent | 0.9920675 | 1.0000000 | 0.9532241 | 0.5640604 |\n",
       "| impressions | 0.9263694 | 0.9532241 | 1.0000000 | 0.6395284 |\n",
       "| total_conversion | 0.5458242 | 0.5640604 | 0.6395284 | 1.0000000 |\n",
       "\n"
      ],
      "text/plain": [
       "                 clicks    spent     impressions total_conversion\n",
       "clicks           1.0000000 0.9920675 0.9263694   0.5458242       \n",
       "spent            0.9920675 1.0000000 0.9532241   0.5640604       \n",
       "impressions      0.9263694 0.9532241 1.0000000   0.6395284       \n",
       "total_conversion 0.5458242 0.5640604 0.6395284   1.0000000       "
      ]
     },
     "metadata": {},
     "output_type": "display_data"
    }
   ],
   "source": [
    "facebookData.tmp <- facebookData[, c(numeric_cols)]\n",
    "\n",
    "j <- 2  #spent\n",
    "k <- 4  #total_conversion\n",
    "sj <- sd(facebookData.tmp[, j])\n",
    "sk <- sd(facebookData.tmp[, k])\n",
    "\n",
    "cov(facebookData.tmp)[j, k]/(sj*sk)\n",
    "\n",
    "#Compare that value with the pearson-cor-matrix below \n",
    "\n",
    "cor(facebookData[numeric_cols], method=\"pearson\")"
   ]
  },
  {
   "cell_type": "markdown",
   "metadata": {
    "slideshow": {
     "slide_type": "subslide"
    }
   },
   "source": [
    "In the examples above the `cor()`-function calculates a square-matrix, which contains the correlation-coefficients of all pairs of variables. However, it is also possible to explicitely define between which variables the correlations shall be calculated:"
   ]
  },
  {
   "cell_type": "code",
   "execution_count": 11,
   "metadata": {
    "ExecuteTime": {
     "end_time": "2017-10-04T13:20:30.461000Z",
     "start_time": "2017-10-04T13:20:30.431Z"
    },
    "slideshow": {
     "slide_type": "fragment"
    }
   },
   "outputs": [
    {
     "data": {
      "text/html": [
       "<table>\n",
       "<caption>A matrix: 2 × 2 of type dbl</caption>\n",
       "<thead>\n",
       "\t<tr><th></th><th scope=col>impressions</th><th scope=col>total_conversion</th></tr>\n",
       "</thead>\n",
       "<tbody>\n",
       "\t<tr><th scope=row>clicks</th><td>0.9263694</td><td>0.5458242</td></tr>\n",
       "\t<tr><th scope=row>spent</th><td>0.9532241</td><td>0.5640604</td></tr>\n",
       "</tbody>\n",
       "</table>\n"
      ],
      "text/latex": [
       "A matrix: 2 × 2 of type dbl\n",
       "\\begin{tabular}{r|ll}\n",
       "  & impressions & total\\_conversion\\\\\n",
       "\\hline\n",
       "\tclicks & 0.9263694 & 0.5458242\\\\\n",
       "\tspent & 0.9532241 & 0.5640604\\\\\n",
       "\\end{tabular}\n"
      ],
      "text/markdown": [
       "\n",
       "A matrix: 2 × 2 of type dbl\n",
       "\n",
       "| <!--/--> | impressions | total_conversion |\n",
       "|---|---|---|\n",
       "| clicks | 0.9263694 | 0.5458242 |\n",
       "| spent | 0.9532241 | 0.5640604 |\n",
       "\n"
      ],
      "text/plain": [
       "       impressions total_conversion\n",
       "clicks 0.9263694   0.5458242       \n",
       "spent  0.9532241   0.5640604       "
      ]
     },
     "metadata": {},
     "output_type": "display_data"
    }
   ],
   "source": [
    "cor(facebookData[c(\"clicks\", \"spent\")], \n",
    "    facebookData[c(\"impressions\", \"total_conversion\")])"
   ]
  },
  {
   "cell_type": "markdown",
   "metadata": {
    "slideshow": {
     "slide_type": "slide"
    }
   },
   "source": [
    "### Significance of Correlations\n",
    "Calculating just a correlation coefficient, such as the `cor()`-function can be insufficient. The samples, based on which the correlation has been calculated, may be too small. Moreover, it can be difficult to interpret the correlation values: Which magnitude actually indicates a correlation? R's [`cor.test()`](https://www.rdocumentation.org/packages/stats/versions/3.6.1/topics/cor.test)-function can be applied to find statistically significant correlations.\n",
    "\n",
    "`Remember` what statistically significance means."
   ]
  },
  {
   "cell_type": "code",
   "execution_count": 12,
   "metadata": {
    "ExecuteTime": {
     "end_time": "2017-10-04T13:20:56.682000Z",
     "start_time": "2017-10-04T13:20:56.645Z"
    },
    "slideshow": {
     "slide_type": "subslide"
    }
   },
   "outputs": [
    {
     "data": {
      "text/html": [
       "0.564060445139413"
      ],
      "text/latex": [
       "0.564060445139413"
      ],
      "text/markdown": [
       "0.564060445139413"
      ],
      "text/plain": [
       "[1] 0.5640604"
      ]
     },
     "metadata": {},
     "output_type": "display_data"
    },
    {
     "data": {
      "text/plain": [
       "\n",
       "\tPearson's product-moment correlation\n",
       "\n",
       "data:  facebookData.tmp[, 4] and facebookData.tmp[, 2]\n",
       "t = 15.32, df = 503, p-value < 2.2e-16\n",
       "alternative hypothesis: true correlation is not equal to 0\n",
       "95 percent confidence interval:\n",
       " 0.5014872 0.6207633\n",
       "sample estimates:\n",
       "      cor \n",
       "0.5640604 \n"
      ]
     },
     "metadata": {},
     "output_type": "display_data"
    }
   ],
   "source": [
    "facebookData.tmp <- facebookData[, c(numeric_cols)]\n",
    "\n",
    "#2=column of spent and 4=column of total_conversion\n",
    "(r <- cor(facebookData.tmp[, 4], facebookData.tmp[, 2]))\n",
    "\n",
    "cor.test(facebookData.tmp[, 4], facebookData.tmp[, 2])"
   ]
  },
  {
   "cell_type": "markdown",
   "metadata": {
    "slideshow": {
     "slide_type": "subslide"
    }
   },
   "source": [
    "The report, generated by the `cor.test()`-function contains:\n",
    "\n",
    "* the correlation-coefficient $r$, calculated from the sample. This is the same value as returned by *cor()*\n",
    "* The t-value for the null-hypothesis: $$t=\\frac{r}{\\sqrt{\\frac{1-r^2}{N-2}}}.$$ The null-hypothesis states that the true correlation of the population is 0 and the results are by chance. The t-value for the null-hypothesis is assumed to be distributed according to a t-distribution with $N-2$ degrees of freedom, where $N$ is the number of elements in the sample.\n",
    "* The p-value for the null-hypothesis. If this value is larger than a given confidence-threshold (e.g. 0.05), the null-hypothesis can NOT be rejected: in this case NO statistically significant correlation can be derived from the sample."
   ]
  },
  {
   "cell_type": "markdown",
   "metadata": {
    "slideshow": {
     "slide_type": "subslide"
    }
   },
   "source": [
    "These values, calculated by `cor.test()`, can also be calculated as follows:"
   ]
  },
  {
   "cell_type": "code",
   "execution_count": 13,
   "metadata": {
    "ExecuteTime": {
     "end_time": "2017-10-04T13:24:14.126000Z",
     "start_time": "2017-10-04T13:24:14.072Z"
    },
    "slideshow": {
     "slide_type": "fragment"
    }
   },
   "outputs": [
    {
     "name": "stdout",
     "output_type": "stream",
     "text": [
      "Sample size N: 505 \n",
      "Correlation-coefficient r: 0.5640604 \n",
      "t-value: 15.32039 \n",
      "Probability of the null-hypothesis: 0 \n"
     ]
    }
   ],
   "source": [
    "N <- nrow(facebookData.tmp) #N is the sample-size\n",
    "cat(\"Sample size N:\", N, \"\\n\")\n",
    "cat(\"Correlation-coefficient r:\", r, \"\\n\") #Results from 'cor.test()'\n",
    "\n",
    "#Calculate the t-value for the given sample \n",
    "#from the sample's correlation-coefficient r\n",
    "t <- r/(sqrt((1-r**2)/(N-2)))\n",
    "cat(\"t-value:\", t, \"\\n\")\n",
    "\n",
    "#Probability of the null-hypothesis, calculated \n",
    "#from the corresponding t-distribution\n",
    "pval <- 2*(1 - pt(t, df=N-2)) \n",
    "cat(\"Probability of the null-hypothesis:\", pval, \"\\n\")"
   ]
  },
  {
   "cell_type": "markdown",
   "metadata": {
    "slideshow": {
     "slide_type": "slide"
    }
   },
   "source": [
    "#### Significant correlations\n",
    "In real world applications the entire population is typically unknown. Therefore samples of limited size are drawn from this population and one tries to estimate the real statistics of the population from the statistics of the sample. The goal of significance-tests is to assess the quality of the sample-based estimation.\n"
   ]
  },
  {
   "cell_type": "markdown",
   "metadata": {
    "slideshow": {
     "slide_type": "slide"
    }
   },
   "source": [
    "### Visualization of Correlations\n",
    "\n",
    "R's function [`pairs()`](https://www.rdocumentation.org/packages/graphics/versions/3.6.1/topics/pairs) plots a matrix of 2-dimensional correlations between columns of the given dataframe. We use argument 'lower.panel = panel.smooth' to calculate a smooth regression line into the lower diagonal of the plot."
   ]
  },
  {
   "cell_type": "code",
   "execution_count": 14,
   "metadata": {
    "slideshow": {
     "slide_type": "subslide"
    }
   },
   "outputs": [
    {
     "data": {
      "image/png": "[encoded data removed]",
      "text/plain": [
       "plot without title"
      ]
     },
     "metadata": {},
     "output_type": "display_data"
    }
   ],
   "source": [
    "#Plot features we are interested in\n",
    "pairs(facebookData[, c(numeric_cols)], \n",
    "      lower.panel = panel.smooth)"
   ]
  },
  {
   "cell_type": "code",
   "execution_count": 15,
   "metadata": {
    "slideshow": {
     "slide_type": "subslide"
    }
   },
   "outputs": [
    {
     "data": {
      "image/png": "[encoded data removed]",
      "text/plain": [
       "Plot with title \"\""
      ]
     },
     "metadata": {},
     "output_type": "display_data"
    }
   ],
   "source": [
    "#library(corrplot) #Scatterplots\n",
    "\n",
    "#Here: input variables and output variable\n",
    "corrplot.mixed(corr=cor(facebookData[, c(numeric_cols)], \n",
    "                        use=\"complete.obs\"), \n",
    "                        upper=\"ellipse\", tl.pos=\"lt\")"
   ]
  }
 ],
 "metadata": {
  "celltoolbar": "Slideshow",
  "kernelspec": {
   "display_name": "R",
   "language": "R",
   "name": "ir"
  },
  "language_info": {
   "codemirror_mode": "r",
   "file_extension": ".r",
   "mimetype": "text/x-r-source",
   "name": "R",
   "pygments_lexer": "r",
   "version": "3.6.1"
  },
  "nav_menu": {},
  "toc": {
   "navigate_menu": true,
   "number_sections": true,
   "sideBar": true,
   "threshold": 6,
   "toc_cell": false,
   "toc_section_display": "block",
   "toc_window_display": true
  },
  "toc_position": {
   "height": "545px",
   "left": "0px",
   "right": "901px",
   "top": "124.533px",
   "width": "309px"
  }
 },
 "nbformat": 4,
 "nbformat_minor": 2
}
