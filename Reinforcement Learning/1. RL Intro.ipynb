{
 "cells": [
  {
   "cell_type": "markdown",
   "metadata": {},
   "source": [
    "# Reinforcement Learning\n",
    "\n",
    "1. **RL Intro**\n",
    "2. Dynamic Programing\n",
    "3. Tabular Q-Learning\n",
    "4. Deep Reinforcement Learning (DQN)\n",
    "\n",
    "## 1. RL Intro\n",
    "\n",
    "In this first part we will recap some basics from the Reinforcement Learning literature. Namely, we will examine a simple **Markov Decision Process (MDP)** in the form of a gridworld environment, its observations, actions, rewards etc. and how to use them in order to build an intelligent RL agent."
   ]
  },
  {
   "cell_type": "markdown",
   "metadata": {},
   "source": [
    "## Prerequisites\n",
    "\n",
    "- We install the **[pycolab](https://github.com/deepmind/pycolab)** engine and the **[exitgames](https://gitlab.mi.hdm-stuttgart.de/theodoridis/gridworlds)** gridworlds. The `pip -e` option will simply **link** the folders so python can find them. Just place them somewhere convenient in your system, e.g. next to your notebooks.\n",
    "\n",
    "```\n",
    "git clone https://github.com/deepmind/pycolab.git\n",
    "pip install -e pycolab\n",
    "\n",
    "git clone https://gitlab.mi.hdm-stuttgart.de/theodoridis/gridworlds.git\n",
    "pip install -e gridworlds\n",
    "```\n",
    "\n",
    "- WINDOWS ONLY: `pycolab` requires the `curses` package which is not available by default. To install a compatible binary, [download the corresponding version from here](https://www.lfd.uci.edu/~gohlke/pythonlibs/#curses). For instance, choose **\"curses‑2.2+utf8‑cp36‑cp36m‑win_amd64.whl\"** for python 3.6 on a 64 bit system. Then install with:\n",
    "\n",
    "```\n",
    "pip install curses‑2.2+utf8‑cp36‑cp36m‑win_amd64.whl\n",
    "```\n",
    "\n",
    "Now, the best way to start is simply to:\n",
    "\n",
    "### Play the game\n",
    "\n",
    "> Note: In order to play, you must focus the pygame window! To play again, just restart the cell!"
   ]
  },
  {
   "cell_type": "code",
   "execution_count": 1,
   "metadata": {},
   "outputs": [
    {
     "name": "stderr",
     "output_type": "stream",
     "text": [
      "Cloning into 'pycolab'...\n"
     ]
    },
    {
     "name": "stdout",
     "output_type": "stream",
     "text": [
      "Obtaining file:///C:/johannes/hdm/1.%20Semester/pia/pia5/pycolab\n",
      "Requirement already satisfied: numpy>=1.9 in c:\\users\\jojo\\appdata\\local\\programs\\python\\python36\\lib\\site-packages (from pycolab==1.2) (1.15.1)\n",
      "Requirement already satisfied: six in c:\\users\\jojo\\appdata\\local\\programs\\python\\python36\\lib\\site-packages (from pycolab==1.2) (1.11.0)\n",
      "Installing collected packages: pycolab\n",
      "  Running setup.py develop for pycolab\n",
      "Successfully installed pycolab\n"
     ]
    },
    {
     "name": "stderr",
     "output_type": "stream",
     "text": [
      "You are using pip version 18.1, however version 19.1.1 is available.\n",
      "You should consider upgrading via the 'python -m pip install --upgrade pip' command.\n"
     ]
    }
   ],
   "source": [
    "#clone and install game engine\n",
    "!git clone https://github.com/deepmind/pycolab.git\n",
    "!pip install -e pycolab"
   ]
  },
  {
   "cell_type": "code",
   "execution_count": 2,
   "metadata": {},
   "outputs": [
    {
     "name": "stderr",
     "output_type": "stream",
     "text": [
      "Cloning into 'gridworlds'...\n"
     ]
    },
    {
     "name": "stdout",
     "output_type": "stream",
     "text": [
      "Obtaining file:///C:/johannes/hdm/1.%20Semester/pia/pia5/gridworlds\n",
      "Collecting pygame (from gridworlds==0.1)\n",
      "  Downloading https://files.pythonhosted.org/packages/79/b0/2fec9a5d9151c8f8e20721349950c1bde2d02b331c19e178c3d76876a218/pygame-1.9.6-cp36-cp36m-win_amd64.whl (4.3MB)\n",
      "Installing collected packages: pygame, gridworlds\n",
      "  Running setup.py develop for gridworlds\n",
      "Successfully installed gridworlds pygame-1.9.6\n"
     ]
    },
    {
     "name": "stderr",
     "output_type": "stream",
     "text": [
      "You are using pip version 18.1, however version 19.1.1 is available.\n",
      "You should consider upgrading via the 'python -m pip install --upgrade pip' command.\n"
     ]
    }
   ],
   "source": [
    "#clone and install environment\n",
    "!git clone https://gitlab.mi.hdm-stuttgart.de/theodoridis/gridworlds.git\n",
    "!pip install -e gridworlds"
   ]
  },
  {
   "cell_type": "code",
   "execution_count": 16,
   "metadata": {},
   "outputs": [
    {
     "name": "stdout",
     "output_type": "stream",
     "text": [
      "Processing c:\\johannes\\hdm\\1. semester\\pia\\pia5\\curses-2.2-cp36-cp36m-win_amd64.whl\n",
      "Installing collected packages: curses\n",
      "Successfully installed curses-2.2\n"
     ]
    },
    {
     "name": "stderr",
     "output_type": "stream",
     "text": [
      "You are using pip version 18.1, however version 19.1.1 is available.\n",
      "You should consider upgrading via the 'python -m pip install --upgrade pip' command.\n"
     ]
    }
   ],
   "source": [
    "#install curses\n",
    "!pip install curses-2.2-cp36-cp36m-win_amd64.whl"
   ]
  },
  {
   "cell_type": "code",
   "execution_count": 2,
   "metadata": {},
   "outputs": [
    {
     "name": "stdout",
     "output_type": "stream",
     "text": [
      "Great! You finished the game in 0:0:19 with a score of 1.\n"
     ]
    }
   ],
   "source": [
    "from gridworlds import exitgames\n",
    "\n",
    "# Goal: Find the exit and avoid the traps\n",
    "# Actions: Arrow Keys to move, q to quit\n",
    "# Style Options: \"COLOR\", \"ASCII\", \"ALL\" (will render both)\n",
    "\n",
    "exitgames.play_notebook(level=0, style=\"COLOR\")"
   ]
  },
  {
   "cell_type": "markdown",
   "metadata": {},
   "source": [
    "Amount of **reward** for \n",
    "- moving around: 0\n",
    "- moving on a trap: -1\n",
    "- getting to the exit: +1\n",
    "\n",
    "Spaces:\n",
    "- the **state space**  (how many different states are possible): 16\n",
    "- the **action space** (doing \"nothing\" is considered as NOOP action):up, down, left ,right, nohing --> 5\n"
   ]
  },
  {
   "cell_type": "markdown",
   "metadata": {},
   "source": [
    "### Build a random agent\n",
    "\n",
    "Now lets get familiar how an **agent** can play the game in an **agent-environment loop**. This is what we will build:\n",
    "\n",
    "<img src=\"./AgentEnvLoop.png\" alt=\"Agent-Environment-Loop\" style=\"width: 400px;\"/>\n",
    "\n",
    "Since our first agent will simply pick actions at random (ignoring any inputs), the main task here is to learn about the exitgame interface and how to use it.\n",
    "\n",
    "> In general, the agent will select actions based on the last state it has received. The Environment will then execute the action and emit the resulting reward and next state. Our ultimate goal is to build an agent that is able to **learn** from these $ ( S_t, A_t, R_{t+1}, S_{t+1})$ tuples. Over time, the agent should then select *better* actions leading to more reward in total.\n",
    "\n",
    "###### Environment\n",
    "- First, initialize the environment (the game). "
   ]
  },
  {
   "cell_type": "code",
   "execution_count": 15,
   "metadata": {},
   "outputs": [],
   "source": [
    "# create a new game\n",
    "game = exitgames.make_game(level=0)\n",
    "\n",
    "# initialize the game, this will return an observation, the first reward and \n",
    "# some additional information (_) which you can ignore by now.\n",
    "observation, reward, _ = game.its_showtime()"
   ]
  },
  {
   "cell_type": "markdown",
   "metadata": {},
   "source": [
    "###### Observations\n",
    "- Now, we investigate how state is represented.\n",
    "\n",
    "The **observation** object is holding two things:\n",
    "1. The full game board, encoded as ASCII code integers: `observation.board`\n",
    "2. A layer wise representation of all game objects, encoded as boolean maps: `observation.layers`\n",
    "\n",
    "The **game board** is all we need since it encodes all information at once! However, the boolean maps can be handy in some cases so have a quick look at both!"
   ]
  },
  {
   "cell_type": "code",
   "execution_count": 16,
   "metadata": {},
   "outputs": [
    {
     "name": "stdout",
     "output_type": "stream",
     "text": [
      "[[ 35  35  35  35  35  35]\n",
      " [ 35  32  32  32  69  35]\n",
      " [ 35  32 120  32  32  35]\n",
      " [ 35  32  32 120  32  35]\n",
      " [ 35  80  32  32  32  35]\n",
      " [ 35  35  35  35  35  35]]\n",
      "{'x': array([[False, False, False, False, False, False],\n",
      "       [False, False, False, False, False, False],\n",
      "       [False, False,  True, False, False, False],\n",
      "       [False, False, False,  True, False, False],\n",
      "       [False, False, False, False, False, False],\n",
      "       [False, False, False, False, False, False]]), 'E': array([[False, False, False, False, False, False],\n",
      "       [False, False, False, False,  True, False],\n",
      "       [False, False, False, False, False, False],\n",
      "       [False, False, False, False, False, False],\n",
      "       [False, False, False, False, False, False],\n",
      "       [False, False, False, False, False, False]]), ' ': array([[False, False, False, False, False, False],\n",
      "       [False,  True,  True,  True, False, False],\n",
      "       [False,  True, False,  True,  True, False],\n",
      "       [False,  True,  True, False,  True, False],\n",
      "       [False, False,  True,  True,  True, False],\n",
      "       [False, False, False, False, False, False]]), 'P': array([[False, False, False, False, False, False],\n",
      "       [False, False, False, False, False, False],\n",
      "       [False, False, False, False, False, False],\n",
      "       [False, False, False, False, False, False],\n",
      "       [False,  True, False, False, False, False],\n",
      "       [False, False, False, False, False, False]]), '#': array([[ True,  True,  True,  True,  True,  True],\n",
      "       [ True, False, False, False, False,  True],\n",
      "       [ True, False, False, False, False,  True],\n",
      "       [ True, False, False, False, False,  True],\n",
      "       [ True, False, False, False, False,  True],\n",
      "       [ True,  True,  True,  True,  True,  True]])}\n"
     ]
    }
   ],
   "source": [
    "print(observation.board)\n",
    "print(observation.layers)"
   ]
  },
  {
   "cell_type": "code",
   "execution_count": 17,
   "metadata": {},
   "outputs": [
    {
     "data": {
      "text/html": [
       "<pre style=\"line-height:1.1;\">######\n",
       "#   E#\n",
       "# x  #\n",
       "#  x #\n",
       "#P   #\n",
       "######\n"
      ],
      "text/plain": [
       "<IPython.core.display.HTML object>"
      ]
     },
     "metadata": {},
     "output_type": "display_data"
    }
   ],
   "source": [
    "# we can get a more human friendly \"rendering\" of the board by\n",
    "# printing the ASCII codes of the board as actual characters. For starters, simply use the notebook_ui utility.\n",
    "ui = exitgames.get_notebook_ui()\n",
    "\n",
    "# Style Options: \"COLOR\", \"ASCII\", \"ALL\" (will render both)\n",
    "ui.render(observation.board, \"ASCII\")"
   ]
  },
  {
   "cell_type": "markdown",
   "metadata": {},
   "source": [
    "###### Actions\n",
    "Great, now that we have seen how state is (and can be) represented, lets see how an agent can play the game by performing actual actions. But before acting in the environment:\n",
    "\n",
    "- We have a look at the possible actions:"
   ]
  },
  {
   "cell_type": "code",
   "execution_count": 18,
   "metadata": {},
   "outputs": [
    {
     "name": "stdout",
     "output_type": "stream",
     "text": [
      "ActionSpace: 5\n",
      "ActionSet: {0: (-1, 0), 1: (1, 0), 2: (0, -1), 3: (0, 1), 4: (0, 0)}\n",
      "{0: 'NORTH', 1: 'SOUTH', 2: 'WEST', 3: 'EAST', 4: 'STAY'}\n",
      "ActionMeanings: None\n"
     ]
    }
   ],
   "source": [
    "print(\"ActionSpace:\", game.action_space)\n",
    "print(\"ActionSet:\", game.get_action_set())\n",
    "print(\"ActionMeanings:\", game.print_action_meanings())"
   ]
  },
  {
   "cell_type": "markdown",
   "metadata": {},
   "source": [
    "##### Steps\n",
    "\n",
    "- Next, we perform an action and retrieve a new `observation, reward, _` triplet.\n",
    "- To do so, we use the `game.play()` method which takes an **action key** integer (0,1,2,3,4) as argument and returns the next triplet.\n",
    "\n",
    "- We play one (or more) actions, print the reward and render the resulting observation.\n",
    "- If our output is not showing correctly, we make sure to put the \"render\" call last as it will trigger the notebook cell to repaint.\n",
    "- If we reached the exit, we read the next notebook cell."
   ]
  },
  {
   "cell_type": "code",
   "execution_count": 19,
   "metadata": {},
   "outputs": [
    {
     "name": "stdout",
     "output_type": "stream",
     "text": [
      "None\n",
      "None\n",
      "None\n",
      "None\n",
      "None\n",
      "1\n"
     ]
    },
    {
     "data": {
      "text/html": [
       "<pre style=\"line-height:1.1;\">######\n",
       "#   P#\n",
       "# x  #\n",
       "#  x #\n",
       "#    #\n",
       "######\n"
      ],
      "text/plain": [
       "<IPython.core.display.HTML object>"
      ]
     },
     "metadata": {},
     "output_type": "display_data"
    }
   ],
   "source": [
    "observation, reward, _ = game.play(0)\n",
    "print(reward)\n",
    "\n",
    "observation, reward, _ = game.play(0)\n",
    "print(reward)\n",
    "\n",
    "observation, reward, _ = game.play(0)\n",
    "print(reward)\n",
    "\n",
    "observation, reward, _ = game.play(3)\n",
    "print(reward)\n",
    "\n",
    "observation, reward, _ = game.play(3)\n",
    "print(reward)\n",
    "\n",
    "observation, reward, _ = game.play(3)\n",
    "print(reward)\n",
    "\n",
    "ui.render(observation.board, \"ASCII\")"
   ]
  },
  {
   "cell_type": "markdown",
   "metadata": {},
   "source": [
    "Great, we are almost there. Before we start implementing the full agent-evironment loop and a basic random agent, here is some additional but important stuff to consider:\n",
    "\n",
    "###### Episodes\n",
    "- Exitgames are played in **episodes**, formally they are episodic MDPs. \n",
    "- If we reach a **terminal state** (the exit), the **episode** is over and calling `play()` will crash. If we want, we try it if it didnt happened already. \n",
    "- We can *reset* the game to play a new episode simply by creating a new game with `exitgames.make_game()`. We can detect when the game is over by checking `game.game_over`.\n",
    "\n",
    "###### Return\n",
    "- In Reinforcement Learning, the canonical goal of the agent is to collect **as much reward as possible per episode**. This is called **cumulative reward** or just **return**. To see how good or bad our agent performs per episode, we make sure we summarize all rewards per episode and report the total return at the end of each episode.\n",
    "\n",
    "\n",
    "- We noticed that the reward is `None` and not `0` if there was emitted \"no reward\" by the environment. Nothing special about this, we just include a type check before we add a reward to our return. This is a pycolab (the engine behind exitgames) specific implementation detail.\n"
   ]
  },
  {
   "cell_type": "markdown",
   "metadata": {},
   "source": [
    "### Now really, build a random agent\n",
    "\n",
    "Steps:\n",
    "\n",
    "##### Initial setup\n",
    "1. Create a new game\n",
    "2. Create a placeholder for the return\n",
    "2. Initialize the game and receive the first triplet, e.g: `observation, reward, _` \n",
    "3. Add the first reward to the return\n",
    "\n",
    "##### Now loop `while not game.game_over:`\n",
    "1. Select a random action e.g. with `numpy.random` and `game.action_space`\n",
    "2. Apply the action and receive the next `observation, reward, _` triplet.\n",
    "3. Add the reward to the return\n",
    "4. After the episode has terminated, we print the total return.\n",
    "\n",
    "##### Rendering\n",
    "If we want to see your agent play, we just include a render call in the loop. To actually see something, we call `time.sleep(0.05)` right after the render call, otherwise the loop will run way to fast."
   ]
  },
  {
   "cell_type": "code",
   "execution_count": 22,
   "metadata": {},
   "outputs": [
    {
     "name": "stdout",
     "output_type": "stream",
     "text": [
      "Total Returns [-2, -6, -1, -6, -17, -17, -17, -1, -19, -1, -4, -12, -11, -2, -3, 0, -3, -2, -10, -10, -5, -2, -12, -2, -10, -5, -17, 0, -9, -6]\n",
      "Episode lengths [34, 57, 38, 46, 124, 148, 161, 14, 198, 23, 56, 92, 88, 76, 52, 14, 69, 75, 150, 58, 57, 21, 122, 16, 168, 59, 117, 18, 80, 63]\n"
     ]
    }
   ],
   "source": [
    "import time\n",
    "import random\n",
    "\n",
    "num_episodes = 30\n",
    "episode_returns=[]\n",
    "episode_length=[]\n",
    "for episode in range(num_episodes):\n",
    "\n",
    "    #INITIAL SETUP\n",
    "\n",
    "    #1.)Create a new game\n",
    "    game = exitgames.make_game(level=0)\n",
    "    #2.) Create a placeholder for the return\n",
    "    reward_sum=0\n",
    "    #3.) Initialize the game and receive the first triplet\n",
    "    observation, reward, _ = game.its_showtime()\n",
    "    #4.) Add the first reward to the return\n",
    "    if reward==None:\n",
    "        reward = 0\n",
    "    reward_sum+= reward\n",
    "\n",
    "    #Now loop\n",
    "    current_episode_length = 0\n",
    "    while not game.game_over:\n",
    "        current_episode_length+=1\n",
    "        #1.) Select a random action e.g. with numpy.random and game.action_space\n",
    "        #get int in range of 1 to game.action_space\n",
    "        random_action = random.randint(1,game.action_space)\n",
    "        #2.) Apply the action and receive the next observation, reward, _ triplet.\n",
    "        observation, reward, _ = game.play(random_action-1)\n",
    "        #3.) Add the reward to the return\n",
    "        if reward==None:\n",
    "            reward = 0\n",
    "        reward_sum+= reward\n",
    "        #ui.render(observation.board, \"ASCII\")\n",
    "        #time.sleep(0.05)\n",
    "    #4.) After the episode has terminated, print the total return.\n",
    "    episode_returns.append(reward_sum)\n",
    "    episode_length.append(current_episode_length)\n",
    "print(\"Total Returns\", episode_returns)\n",
    "print(\"Episode lengths\", episode_length)\n",
    "    \n",
    "    \n"
   ]
  },
  {
   "cell_type": "markdown",
   "metadata": {},
   "source": [
    "##### Play more than one Episode\n",
    "After we implemented the basic agent-env loop, we surround our solution with another loop and run the whole thing for  `num_episodes = 30`. We comment out the render and sleep calls again to speed things up.\n",
    "\n",
    "## Why a random agent?\n",
    "\n",
    "Even though it is the most naive agent you can think of, a random agent will provide you with a very first baseline performance. This will help us with a *trivial* but important insight later:\n",
    "\n",
    "- It tells you if your **learning** agent is learning anything at all, i.e. performs better than random.\n",
    "\n",
    "Besides, it is easy to implement which helps when setting up new environments. We can for instance, verify that your agent-env loop works as expected by watching some episodes. Since it is easy for humans to recognize *purely* random behavior you can easily detect if something went wrong, at least in *visual* environments. This may seem overly obvious to you but as you proceed to more complex algorithms, it is crucial to know that your basics are working correctly."
   ]
  },
  {
   "cell_type": "markdown",
   "metadata": {},
   "source": [
    "### (Optionally) plot some basic statistics\n",
    "\n",
    "If you want, plot some basic statistics. You can use the code from the cell below to do so. To make the plotting work out of the box, you need to include the following parts in your loop code:\n",
    "\n",
    "- The variable for the number of episodes must be called `num_episodes`.\n",
    "- Two placeholder lists `[]` called `episode_returns` and `episode_length`.\n",
    "- Keep track of the return and the episode lenght by adding them after an episode has terminated.\n",
    "- Use `game.the_plot.frame` to get the length of an episode."
   ]
  },
  {
   "cell_type": "code",
   "execution_count": 23,
   "metadata": {
    "scrolled": true
   },
   "outputs": [
    {
     "data": {
      "image/png": "[encoded data removed]",
      "text/plain": [
       "<Figure size 1080x360 with 2 Axes>"
      ]
     },
     "metadata": {},
     "output_type": "display_data"
    }
   ],
   "source": [
    "%matplotlib inline\n",
    "import matplotlib.pyplot as plt\n",
    "import seaborn as sns\n",
    "import numpy as np\n",
    "import itertools\n",
    "\n",
    "sns.set_style(\"darkgrid\")\n",
    "pallete = sns.color_palette()\n",
    "\n",
    "mean_return = [np.mean(episode_returns) for i in range(num_episodes)]\n",
    "mean_length = [np.mean(episode_length)  for i in range(num_episodes)]\n",
    "\n",
    "fig = plt.figure(figsize=(15,5))\n",
    "\n",
    "# Plot return per episode  \n",
    "ax1 = fig.add_subplot(1,2,1)\n",
    "ax1.plot(episode_returns, color=pallete[0])\n",
    "ax1.plot(mean_return,     color=pallete[1])\n",
    "ax1.legend(['Return','Mean'])\n",
    "ax1.set_title(\"Return per Episode\", fontsize=14)\n",
    "plt.ylabel(\"Return\")\n",
    "plt.xlabel(\"Episode\")\n",
    "\n",
    "# Plot steps per episode\n",
    "ax2 = fig.add_subplot(1,2,2)\n",
    "ax2.plot(episode_length, color=pallete[2])\n",
    "ax2.plot(mean_length,    color=pallete[1])\n",
    "ax2.legend(['Steps','Mean'])\n",
    "ax2.set_title(\"Steps per Episode\", fontsize=14)\n",
    "plt.ylabel(\"Steps\")\n",
    "plt.xlabel(\"Episode\")\n",
    "\n",
    "# Show the plot\n",
    "plt.tight_layout()\n",
    "plt.show()"
   ]
  }
 ],
 "metadata": {
  "kernelspec": {
   "display_name": "Python 3",
   "language": "python",
   "name": "python3"
  },
  "language_info": {
   "codemirror_mode": {
    "name": "ipython",
    "version": 3
   },
   "file_extension": ".py",
   "mimetype": "text/x-python",
   "name": "python",
   "nbconvert_exporter": "python",
   "pygments_lexer": "ipython3",
   "version": "3.8.8"
  }
 },
 "nbformat": 4,
 "nbformat_minor": 2
}
